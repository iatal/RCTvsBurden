{
 "cells": [
  {
   "cell_type": "markdown",
   "metadata": {},
   "source": [
    "Mapping health research effort - RCTs\n",
    "-------------------------------------\n",
    "Database: \n",
    "          1. All RCTs registered at WHO ICTRP by Jan 1st 2016, \n",
    "          2. with start date between 2006 and 2015\n",
    "          3. with study type and design corresponding to RCT\n",
    "          4. with at least one country location among the 187 countries included in the GBD2010 study\n",
    "          \n",
    "We will: \n",
    "          1. General numbers of RCTs across regions and over time\n",
    "          2. Create replicates of the mapping of RCTs across diseases and evaluate the uncertainty intervals of the local share of RCTs across diseases within regions"
   ]
  },
  {
   "cell_type": "code",
   "execution_count": 1,
   "metadata": {
    "collapsed": false
   },
   "outputs": [
    {
     "data": {
      "text/html": [
       "<ol class=list-inline>\n",
       "\t<li>'TrialID'</li>\n",
       "\t<li>'brief_title'</li>\n",
       "\t<li>'official_title'</li>\n",
       "\t<li>'Primary_sponsor'</li>\n",
       "\t<li>'Source_Register'</li>\n",
       "\t<li>'Recruitment_Status'</li>\n",
       "\t<li>'other_records'</li>\n",
       "\t<li>'Target_size'</li>\n",
       "\t<li>'Study_type'</li>\n",
       "\t<li>'Study_design'</li>\n",
       "\t<li>'Phase'</li>\n",
       "\t<li>'Countries'</li>\n",
       "\t<li>'condition'</li>\n",
       "\t<li>'Secondary_ID'</li>\n",
       "\t<li>'Source_Support'</li>\n",
       "\t<li>'Secondary_Sponsor'</li>\n",
       "\t<li>'year'</li>\n",
       "\t<li>'Interv'</li>\n",
       "\t<li>'Regions'</li>\n",
       "\t<li>'Nb_ctr_per_reg'</li>\n",
       "\t<li>'Sample'</li>\n",
       "\t<li>'PMID'</li>\n",
       "\t<li>'GBD28'</li>\n",
       "\t<li>'GBD171'</li>\n",
       "\t<li>'Infectious'</li>\n",
       "\t<li>'MNN'</li>\n",
       "\t<li>'Cancer'</li>\n",
       "\t<li>'Chronic'</li>\n",
       "</ol>\n"
      ],
      "text/latex": [
       "\\begin{enumerate*}\n",
       "\\item 'TrialID'\n",
       "\\item 'brief\\_title'\n",
       "\\item 'official\\_title'\n",
       "\\item 'Primary\\_sponsor'\n",
       "\\item 'Source\\_Register'\n",
       "\\item 'Recruitment\\_Status'\n",
       "\\item 'other\\_records'\n",
       "\\item 'Target\\_size'\n",
       "\\item 'Study\\_type'\n",
       "\\item 'Study\\_design'\n",
       "\\item 'Phase'\n",
       "\\item 'Countries'\n",
       "\\item 'condition'\n",
       "\\item 'Secondary\\_ID'\n",
       "\\item 'Source\\_Support'\n",
       "\\item 'Secondary\\_Sponsor'\n",
       "\\item 'year'\n",
       "\\item 'Interv'\n",
       "\\item 'Regions'\n",
       "\\item 'Nb\\_ctr\\_per\\_reg'\n",
       "\\item 'Sample'\n",
       "\\item 'PMID'\n",
       "\\item 'GBD28'\n",
       "\\item 'GBD171'\n",
       "\\item 'Infectious'\n",
       "\\item 'MNN'\n",
       "\\item 'Cancer'\n",
       "\\item 'Chronic'\n",
       "\\end{enumerate*}\n"
      ],
      "text/markdown": [
       "1. 'TrialID'\n",
       "2. 'brief_title'\n",
       "3. 'official_title'\n",
       "4. 'Primary_sponsor'\n",
       "5. 'Source_Register'\n",
       "6. 'Recruitment_Status'\n",
       "7. 'other_records'\n",
       "8. 'Target_size'\n",
       "9. 'Study_type'\n",
       "10. 'Study_design'\n",
       "11. 'Phase'\n",
       "12. 'Countries'\n",
       "13. 'condition'\n",
       "14. 'Secondary_ID'\n",
       "15. 'Source_Support'\n",
       "16. 'Secondary_Sponsor'\n",
       "17. 'year'\n",
       "18. 'Interv'\n",
       "19. 'Regions'\n",
       "20. 'Nb_ctr_per_reg'\n",
       "21. 'Sample'\n",
       "22. 'PMID'\n",
       "23. 'GBD28'\n",
       "24. 'GBD171'\n",
       "25. 'Infectious'\n",
       "26. 'MNN'\n",
       "27. 'Cancer'\n",
       "28. 'Chronic'\n",
       "\n",
       "\n"
      ],
      "text/plain": [
       " [1] \"TrialID\"            \"brief_title\"        \"official_title\"    \n",
       " [4] \"Primary_sponsor\"    \"Source_Register\"    \"Recruitment_Status\"\n",
       " [7] \"other_records\"      \"Target_size\"        \"Study_type\"        \n",
       "[10] \"Study_design\"       \"Phase\"              \"Countries\"         \n",
       "[13] \"condition\"          \"Secondary_ID\"       \"Source_Support\"    \n",
       "[16] \"Secondary_Sponsor\"  \"year\"               \"Interv\"            \n",
       "[19] \"Regions\"            \"Nb_ctr_per_reg\"     \"Sample\"            \n",
       "[22] \"PMID\"               \"GBD28\"              \"GBD171\"            \n",
       "[25] \"Infectious\"         \"MNN\"                \"Cancer\"            \n",
       "[28] \"Chronic\"           "
      ]
     },
     "metadata": {},
     "output_type": "display_data"
    }
   ],
   "source": [
    "#Upload database\n",
    "data <- read.table(\"/media/igna/Elements/HotelDieu/Cochrane/Mapping_Cancer/Flowchart/database_all_diseases_final_ok.txt\")\n",
    "N <- nrow(data)\n",
    "names(data)"
   ]
  },
  {
   "cell_type": "markdown",
   "metadata": {},
   "source": [
    "- TrialID: unique trial ID from WHOICTRP\n",
    "- Regions: 7 epidemiological regions from GBD 2010 study\n",
    "- GBD28: classification according to 28 categories defined in Atal et al. BMC Bioinformatics (2016): This classification includes the injuries category, we exclude it"
   ]
  },
  {
   "cell_type": "code",
   "execution_count": 2,
   "metadata": {
    "collapsed": false
   },
   "outputs": [
    {
     "data": {
      "text/html": [
       "28"
      ],
      "text/latex": [
       "28"
      ],
      "text/markdown": [
       "28"
      ],
      "text/plain": [
       "[1] 28"
      ]
     },
     "metadata": {},
     "output_type": "display_data"
    }
   ],
   "source": [
    "#Upload traduction names/label categories\n",
    "Mgbd <- read.table(\"/home/igna/Desktop/Programs GBD/Classifier_Trial_GBD/Databases/Taxonomy_DL/GBD_data/GBD_ICD.txt\")\n",
    "grep(\"Injur\",Mgbd$cause_name)"
   ]
  },
  {
   "cell_type": "code",
   "execution_count": 3,
   "metadata": {
    "collapsed": false,
    "scrolled": true
   },
   "outputs": [
    {
     "data": {
      "text/plain": [
       "\n",
       "FALSE  TRUE \n",
       "91763 25417 "
      ]
     },
     "metadata": {},
     "output_type": "display_data"
    }
   ],
   "source": [
    "#We supress from GBD28 the label 28\n",
    "GBD27 <- sapply(strsplit(as.character(data$GBD28),\"&\"),function(x){paste(x[x!=\"28\"],collapse=\"&\")})\n",
    "data$GBD27 <- GBD27\n",
    "#Number of trials relevant to the burden of diseases\n",
    "table(GBD27==\"\")"
   ]
  },
  {
   "cell_type": "markdown",
   "metadata": {},
   "source": [
    "## 1- Number RCTs per region and over time"
   ]
  },
  {
   "cell_type": "code",
   "execution_count": 4,
   "metadata": {
    "collapsed": false
   },
   "outputs": [],
   "source": [
    "regs <- strsplit(as.character(data$Regions),\"&\")"
   ]
  },
  {
   "cell_type": "code",
   "execution_count": 5,
   "metadata": {
    "collapsed": false,
    "scrolled": true
   },
   "outputs": [
    {
     "data": {
      "text/plain": [
       "\n",
       "     1      2      3      4      5      6      7 \n",
       "109533   4551   1295    808    562    291    140 "
      ]
     },
     "metadata": {},
     "output_type": "display_data"
    }
   ],
   "source": [
    "table(sapply(regs,length))"
   ]
  },
  {
   "cell_type": "code",
   "execution_count": 6,
   "metadata": {
    "collapsed": false
   },
   "outputs": [],
   "source": [
    "DRY <- do.call('cbind',tapply(regs,data$year,function(x){table(unlist(x))}))"
   ]
  },
  {
   "cell_type": "code",
   "execution_count": 7,
   "metadata": {
    "collapsed": false,
    "scrolled": true
   },
   "outputs": [],
   "source": [
    "DRY <- DRY[order(apply(DRY,1,sum)),]"
   ]
  },
  {
   "cell_type": "code",
   "execution_count": 8,
   "metadata": {
    "collapsed": false
   },
   "outputs": [
    {
     "data": {
      "text/html": [
       "<table>\n",
       "<thead><tr><th></th><th scope=col>2006</th><th scope=col>2007</th><th scope=col>2008</th><th scope=col>2009</th><th scope=col>2010</th><th scope=col>2011</th><th scope=col>2012</th><th scope=col>2013</th><th scope=col>2014</th><th scope=col>2015</th></tr></thead>\n",
       "<tbody>\n",
       "\t<tr><th scope=row>Sub-Saharian Africa</th><td>222</td><td>227</td><td>199</td><td>239</td><td>242</td><td>367</td><td>368</td><td>394</td><td>344</td><td>256</td></tr>\n",
       "\t<tr><th scope=row>Latin America and Caribbean</th><td>377</td><td>414</td><td>481</td><td>506</td><td>555</td><td>767</td><td>710</td><td>716</td><td>578</td><td>494</td></tr>\n",
       "\t<tr><th scope=row>South Asia</th><td>281</td><td>335</td><td>417</td><td>592</td><td>794</td><td>911</td><td>989</td><td>811</td><td>576</td><td>537</td></tr>\n",
       "\t<tr><th scope=row>Central Europe, Eastern Europe, and Central Asia</th><td>734</td><td>823</td><td>848</td><td>805</td><td>739</td><td>894</td><td>812</td><td>786</td><td>586</td><td>491</td></tr>\n",
       "\t<tr><th scope=row>North Africa and Middle East</th><td> 223</td><td> 328</td><td> 503</td><td> 769</td><td>1093</td><td>1290</td><td>1873</td><td>1904</td><td>1591</td><td>1628</td></tr>\n",
       "\t<tr><th scope=row>Southeast Asia, East Asia and Oceania</th><td> 429</td><td> 561</td><td> 822</td><td> 955</td><td>1060</td><td>1344</td><td>1407</td><td>1640</td><td>1601</td><td>1761</td></tr>\n",
       "\t<tr><th scope=row>High-income</th><td>7244</td><td>7747</td><td>8535</td><td>9134</td><td>9160</td><td>9497</td><td>9587</td><td>9578</td><td>7841</td><td>7966</td></tr>\n",
       "</tbody>\n",
       "</table>\n"
      ],
      "text/latex": [
       "\\begin{tabular}{r|llllllllll}\n",
       "  & 2006 & 2007 & 2008 & 2009 & 2010 & 2011 & 2012 & 2013 & 2014 & 2015\\\\\n",
       "\\hline\n",
       "\tSub-Saharian Africa & 222 & 227 & 199 & 239 & 242 & 367 & 368 & 394 & 344 & 256\\\\\n",
       "\tLatin America and Caribbean & 377 & 414 & 481 & 506 & 555 & 767 & 710 & 716 & 578 & 494\\\\\n",
       "\tSouth Asia & 281 & 335 & 417 & 592 & 794 & 911 & 989 & 811 & 576 & 537\\\\\n",
       "\tCentral Europe, Eastern Europe, and Central Asia & 734 & 823 & 848 & 805 & 739 & 894 & 812 & 786 & 586 & 491\\\\\n",
       "\tNorth Africa and Middle East &  223 &  328 &  503 &  769 & 1093 & 1290 & 1873 & 1904 & 1591 & 1628\\\\\n",
       "\tSoutheast Asia, East Asia and Oceania &  429 &  561 &  822 &  955 & 1060 & 1344 & 1407 & 1640 & 1601 & 1761\\\\\n",
       "\tHigh-income & 7244 & 7747 & 8535 & 9134 & 9160 & 9497 & 9587 & 9578 & 7841 & 7966\\\\\n",
       "\\end{tabular}\n"
      ],
      "text/markdown": [
       "1. 222\n",
       "2. 377\n",
       "3. 281\n",
       "4. 734\n",
       "5. 223\n",
       "6. 429\n",
       "7. 7244\n",
       "8. 227\n",
       "9. 414\n",
       "10. 335\n",
       "11. 823\n",
       "12. 328\n",
       "13. 561\n",
       "14. 7747\n",
       "15. 199\n",
       "16. 481\n",
       "17. 417\n",
       "18. 848\n",
       "19. 503\n",
       "20. 822\n",
       "21. 8535\n",
       "22. 239\n",
       "23. 506\n",
       "24. 592\n",
       "25. 805\n",
       "26. 769\n",
       "27. 955\n",
       "28. 9134\n",
       "29. 242\n",
       "30. 555\n",
       "31. 794\n",
       "32. 739\n",
       "33. 1093\n",
       "34. 1060\n",
       "35. 9160\n",
       "36. 367\n",
       "37. 767\n",
       "38. 911\n",
       "39. 894\n",
       "40. 1290\n",
       "41. 1344\n",
       "42. 9497\n",
       "43. 368\n",
       "44. 710\n",
       "45. 989\n",
       "46. 812\n",
       "47. 1873\n",
       "48. 1407\n",
       "49. 9587\n",
       "50. 394\n",
       "51. 716\n",
       "52. 811\n",
       "53. 786\n",
       "54. 1904\n",
       "55. 1640\n",
       "56. 9578\n",
       "57. 344\n",
       "58. 578\n",
       "59. 576\n",
       "60. 586\n",
       "61. 1591\n",
       "62. 1601\n",
       "63. 7841\n",
       "64. 256\n",
       "65. 494\n",
       "66. 537\n",
       "67. 491\n",
       "68. 1628\n",
       "69. 1761\n",
       "70. 7966\n",
       "\n",
       "\n"
      ],
      "text/plain": [
       "                                                 2006 2007 2008 2009 2010 2011\n",
       "Sub-Saharian Africa                               222  227  199  239  242  367\n",
       "Latin America and Caribbean                       377  414  481  506  555  767\n",
       "South Asia                                        281  335  417  592  794  911\n",
       "Central Europe, Eastern Europe, and Central Asia  734  823  848  805  739  894\n",
       "North Africa and Middle East                      223  328  503  769 1093 1290\n",
       "Southeast Asia, East Asia and Oceania             429  561  822  955 1060 1344\n",
       "High-income                                      7244 7747 8535 9134 9160 9497\n",
       "                                                 2012 2013 2014 2015\n",
       "Sub-Saharian Africa                               368  394  344  256\n",
       "Latin America and Caribbean                       710  716  578  494\n",
       "South Asia                                        989  811  576  537\n",
       "Central Europe, Eastern Europe, and Central Asia  812  786  586  491\n",
       "North Africa and Middle East                     1873 1904 1591 1628\n",
       "Southeast Asia, East Asia and Oceania            1407 1640 1601 1761\n",
       "High-income                                      9587 9578 7841 7966"
      ]
     },
     "metadata": {},
     "output_type": "display_data"
    }
   ],
   "source": [
    "DRY"
   ]
  },
  {
   "cell_type": "code",
   "execution_count": 9,
   "metadata": {
    "collapsed": false
   },
   "outputs": [
    {
     "data": {
      "image/png": "[encoded data removed]",
      "text/plain": [
       "plot without title"
      ]
     },
     "metadata": {},
     "output_type": "display_data"
    }
   ],
   "source": [
    "barplot(DRY[rownames(DRY)!=\"High-income\",])"
   ]
  },
  {
   "cell_type": "markdown",
   "metadata": {},
   "source": [
    "## 2- Estimation of number RCTs per region and disease\n",
    "\n",
    "For each disease, we simulate what would have been the mapping of RCTs within regions if the misclassification of RCTs towards groups of diseases was corrected, given the sensitivities and specificities of the classifier to identify each group of disease.\n",
    "\n",
    "To estimate the performances of the classifier for each group of diseases, we dispose a test set with 2,763 trials manually classified towards the 27-class grouping of diseases used in this work. The test set is described at Atal et al. BMC Bioinformatics 2016.\n",
    "\n",
    "The method used is based on the method presented at Fox et al. Int J Epidemiol 2005.\n",
    "\n",
    "To do so, for each disease for which we found a local research gap we will:\n",
    "\n",
    "1. Calculating sensitivity and specificity of the classifier to identify the disease and other studies relevant to the burden of diseases, and the number of success and number of trials to derive beta distributions\n",
    "2. Doing N=10k times the following simulation\n",
    "    * Randomly choose a sens and spec based on beta distribution for identifying the disease and identifying another disease (no correlation between sens and spec, neither between disease and another disease both)\n",
    "    * Derive Positive and Negative Predictive Values (PPV and NPV) for each.\n",
    "    * Simulate the correction of the classification based on PPVs and NPVs\n",
    "    * Derive the proportion of RCTs concerning the disease among all RCTs concerning the burden of disease in the region\n",
    "3. Derive 95% upper-bond simulation interval of the proportion of RCTs concerning the disease among all RCTs concerning the burden of diseases"
   ]
  },
  {
   "cell_type": "markdown",
   "metadata": {},
   "source": [
    "### Construction of replicates"
   ]
  },
  {
   "cell_type": "code",
   "execution_count": 10,
   "metadata": {
    "collapsed": true
   },
   "outputs": [],
   "source": [
    "regs <- sort(unique(unlist(strsplit(as.character(data$Regions),\"&\"))))\n",
    "LR <- lapply(regs,function(x){1:nrow(data)%in%grep(x,data$Regions)})\n",
    "LR <- do.call('cbind',LR)"
   ]
  },
  {
   "cell_type": "code",
   "execution_count": 11,
   "metadata": {
    "collapsed": true
   },
   "outputs": [],
   "source": [
    "Lgbd <- lapply(as.character(data$GBD28),function(x){as.numeric(unlist(strsplit(x,\"&\")))})\n",
    "Lgbd <- lapply(Lgbd,function(x){x[x!=28]})"
   ]
  },
  {
   "cell_type": "code",
   "execution_count": 12,
   "metadata": {
    "collapsed": false
   },
   "outputs": [],
   "source": [
    "PERF <- read.csv('Tables/Performances_per_27disease_data.csv')"
   ]
  },
  {
   "cell_type": "code",
   "execution_count": 13,
   "metadata": {
    "collapsed": true
   },
   "outputs": [],
   "source": [
    "NK <- 10000\n",
    "set.seed(7212)"
   ]
  },
  {
   "cell_type": "code",
   "execution_count": 14,
   "metadata": {
    "collapsed": true
   },
   "outputs": [],
   "source": [
    "#For all diseases, we will simulate the mapping across regions of trials concerning\n",
    "#the disease or concerning other diseases\n",
    "dis <- 1:27"
   ]
  },
  {
   "cell_type": "code",
   "execution_count": 15,
   "metadata": {
    "collapsed": false
   },
   "outputs": [
    {
     "name": "stdout",
     "output_type": "stream",
     "text": [
      "[1] \"1 has 90 suppressed false iterations\"\n",
      "[1] \"2 has 0 suppressed false iterations\"\n",
      "[1] \"3 has 0 suppressed false iterations\"\n",
      "[1] \"4 has 3 suppressed false iterations\"\n",
      "[1] \"5 has 0 suppressed false iterations\"\n",
      "[1] \"6 has 0 suppressed false iterations\"\n",
      "[1] \"7 has 5 suppressed false iterations\"\n",
      "[1] \"8 has 0 suppressed false iterations\"\n",
      "[1] \"9 has 1019 suppressed false iterations\"\n",
      "[1] \"10 has 0 suppressed false iterations\"\n",
      "[1] \"11 has 3108 suppressed false iterations\"\n",
      "[1] \"12 has 0 suppressed false iterations\"\n",
      "[1] \"13 has 0 suppressed false iterations\"\n",
      "[1] \"14 has 0 suppressed false iterations\"\n",
      "[1] \"15 has 3 suppressed false iterations\"\n",
      "[1] \"16 has 0 suppressed false iterations\"\n",
      "[1] \"17 has 0 suppressed false iterations\"\n",
      "[1] \"18 has 0 suppressed false iterations\"\n",
      "[1] \"19 has 0 suppressed false iterations\"\n",
      "[1] \"20 has 0 suppressed false iterations\"\n",
      "[1] \"21 has 3355 suppressed false iterations\"\n",
      "[1] \"22 has 0 suppressed false iterations\"\n",
      "[1] \"23 has 1324 suppressed false iterations\"\n",
      "[1] \"24 has 0 suppressed false iterations\"\n",
      "[1] \"25 has 0 suppressed false iterations\"\n",
      "[1] \"26 has 0 suppressed false iterations\"\n",
      "[1] \"27 has 9347 suppressed false iterations\"\n",
      "     user    system   elapsed \n",
      "17872.129    19.203 17911.586 \n"
     ]
    },
    {
     "data": {
      "text/plain": [
       "     user    system   elapsed \n",
       "297.86882   0.32005 298.52643 "
      ]
     },
     "metadata": {},
     "output_type": "display_data"
    }
   ],
   "source": [
    "\n",
    "#For each disease\n",
    "t0 <- proc.time()\n",
    "\n",
    "for(g in dis){\n",
    "\n",
    "    PERF_g <- PERF[PERF$dis==g,]\n",
    "    \n",
    "    #which trials concern the disease\n",
    "    is_dis <- sapply(Lgbd,function(x){g%in%x})\n",
    "    #which trials concern another disease\n",
    "    is_oth <- sapply(Lgbd,function(x){sum(setdiff(1:27,g)%in%x)>0})\n",
    "\n",
    "    #PPV et NPVs for finding the disease\n",
    "    sens_r <- PERF_g$TP_Dis\n",
    "    sens_n <- PERF_g$TP_Dis + PERF_g$FN_Dis\n",
    "    spec_r <- PERF_g$TN_Dis\n",
    "    spec_n <- PERF_g$TN_Dis + PERF_g$FP_Dis\n",
    "    sens <- rbeta(NK,sens_r+1,sens_n-sens_r+1)\n",
    "    spec <- rbeta(NK,spec_r+1,spec_n-spec_r+1)\n",
    "\n",
    "    a_dis <- sum(is_dis)\n",
    "    b_dis <- N-a_dis\n",
    "    As <- (a_dis-(1-spec)*N)/(sens - (1-spec))\n",
    "    Bs <- N-As\n",
    "    T1 <- sens*As\n",
    "    T0 <- spec*Bs\n",
    "    F1 <- (1-spec)*Bs\n",
    "    F0 <- (1-sens)*As\n",
    "    PPV_dis <- T1/(T1+F1)\n",
    "    NPV_dis <- T0/(T0+F0)\n",
    "\n",
    "    #PPV and NPVs for finding another disease\n",
    "    sens_r <- PERF_g$TP_Oth\n",
    "    sens_n <- PERF_g$TP_Oth + PERF_g$FN_Oth\n",
    "    spec_r <- PERF_g$TN_Oth\n",
    "    spec_n <- PERF_g$TN_Oth + PERF_g$FP_Oth\n",
    "    sens <- rbeta(NK,sens_r+1,sens_n-sens_r+1)\n",
    "    spec <- rbeta(NK,spec_r+1,spec_n-spec_r+1)\n",
    "\n",
    "    a_oth <- sum(is_oth)\n",
    "    b_oth <- N-a_oth\n",
    "    As <- (a_oth-(1-spec)*N)/(sens - (1-spec))\n",
    "    Bs <- N-As\n",
    "    T1 <- sens*As\n",
    "    T0 <- spec*Bs\n",
    "    F1 <- (1-spec)*Bs\n",
    "    F0 <- (1-sens)*As\n",
    "    PPV_oth <- T1/(T1+F1)\n",
    "    NPV_oth <- T0/(T0+F0)\n",
    "\n",
    "    #Some values of sens and spec may lead to impossible values of PPV or NPV (>1 or <0)\n",
    "    #We supress and count them. If the total of suppressed iterations is higher than 10% of total iterations we\n",
    "    #will modify the distributions for Specificity and Sensitivity\n",
    "    false_it <- PPV_dis<0 | PPV_dis>1 | \n",
    "                NPV_dis<0 | NPV_dis>1 | \n",
    "                PPV_oth<0 | PPV_oth>1 | \n",
    "                NPV_oth<0 | NPV_oth>1\n",
    "    \n",
    "    print(paste(c(g,\"has\",sum(false_it),\"suppressed false iterations\"\n",
    "                                                    ),collapse=\" \"))  \n",
    "\n",
    "    PPV_dis <- PPV_dis[!false_it]\n",
    "    NPV_dis <- NPV_dis[!false_it]\n",
    "    PPV_oth <- PPV_oth[!false_it]\n",
    "    NPV_oth <- NPV_oth[!false_it]\n",
    "\n",
    "    L <- list()\n",
    "    #Simulation: reclassifying each trial\n",
    "        for(k in 1:length(PPV_dis)){\n",
    "\n",
    "            AR <- matrix(0, nrow=length(regs)+1, ncol=2)\n",
    "            tp_dis <- runif(a_dis)\n",
    "            tn_dis <- runif(b_dis)\n",
    "            recl_dis <- is_dis\n",
    "            recl_dis[recl_dis==TRUE][tp_dis>PPV_dis[k]] <- FALSE\n",
    "            recl_dis[recl_dis==FALSE][tn_dis>NPV_dis[k]] <- TRUE\n",
    "            #Rq: we count all trials (even those with more than 3 diseases)\n",
    "            #it is a conservative choice\n",
    "            rt <- as.numeric(recl_dis)\n",
    "\n",
    "            if(sum(recl_dis)==0) AR[,1] <- c(rep(0,length(regs)+1))\n",
    "            else{   if(sum(recl_dis)==1) AR[,1] <- c(as.numeric(LR[recl_dis,]),1)\n",
    "                    else AR[,1] <- c(apply(LR[recl_dis,],2,sum),sum(recl_dis))\n",
    "            }\n",
    "                \n",
    "            #Oth_dis\n",
    "            tp_oth <- runif(a_oth)\n",
    "            tn_oth <- runif(b_oth)\n",
    "            recl_oth <- is_oth\n",
    "            recl_oth[recl_oth==TRUE][tp_oth>PPV_oth[k]] <- FALSE\n",
    "            recl_oth[recl_oth==FALSE][tn_oth>NPV_oth[k]] <- TRUE\n",
    "            rt <- rt + as.numeric(recl_oth)\n",
    "\n",
    "            if(sum(rt)==0) AR[,2] <- c(rep(0,length(regs)+1))\n",
    "            else{    if(sum(rt)==1) AR[,2] <- c(as.numeric(LR[rt!=0,]),1)\n",
    "                     else AR[,2] <- c(apply(LR[rt!=0,],2,sum),sum(rt))\n",
    "            }\n",
    "\n",
    "            L[[k]] <- AR\n",
    "\n",
    "        }\n",
    "   \n",
    "    T <- do.call('rbind',L)\n",
    "    write.table(T,paste(c(\"/media/igna/Elements/HotelDieu/Cochrane/Mapping_Cancer/Incertitude_mapping/Simulations/Total_simulation_\",as.character(PERF_g$dis),\".txt\"),collapse=\"\"))\n",
    "\n",
    "}\n",
    "\n",
    "                \n",
    "t1 <- proc.time()\n",
    "    \n",
    "print(t1-t0)/60"
   ]
  },
  {
   "cell_type": "markdown",
   "metadata": {},
   "source": [
    "It took 5h"
   ]
  },
  {
   "cell_type": "code",
   "execution_count": 18,
   "metadata": {
    "collapsed": false
   },
   "outputs": [
    {
     "data": {
      "text/html": [
       "<ol class=list-inline>\n",
       "\t<li>Sexually transmitted diseases excluding HIV</li>\n",
       "\t<li>Leprosy</li>\n",
       "\t<li>Hemoglobinopathies and hemolytic anemias</li>\n",
       "\t<li>Congenital anomalies</li>\n",
       "\t<li>Sudden infant death syndrome</li>\n",
       "</ol>\n"
      ],
      "text/latex": [
       "\\begin{enumerate*}\n",
       "\\item Sexually transmitted diseases excluding HIV\n",
       "\\item Leprosy\n",
       "\\item Hemoglobinopathies and hemolytic anemias\n",
       "\\item Congenital anomalies\n",
       "\\item Sudden infant death syndrome\n",
       "\\end{enumerate*}\n"
      ],
      "text/markdown": [
       "1. Sexually transmitted diseases excluding HIV\n",
       "2. Leprosy\n",
       "3. Hemoglobinopathies and hemolytic anemias\n",
       "4. Congenital anomalies\n",
       "5. Sudden infant death syndrome\n",
       "\n",
       "\n"
      ],
      "text/plain": [
       "[1] Sexually transmitted diseases excluding HIV\n",
       "[2] Leprosy                                    \n",
       "[3] Hemoglobinopathies and hemolytic anemias   \n",
       "[4] Congenital anomalies                       \n",
       "[5] Sudden infant death syndrome               \n",
       "28 Levels: Cardiovascular and circulatory diseases ..."
      ]
     },
     "metadata": {},
     "output_type": "display_data"
    }
   ],
   "source": [
    "# Diseases with more than 10% of suppressed iterations:\n",
    "Mgbd$cause_name[c(9,11,21,23,27)]"
   ]
  },
  {
   "cell_type": "markdown",
   "metadata": {},
   "source": [
    "We will re-simulate only for diseases corresponding to more than 1% of local burden in a region"
   ]
  },
  {
   "cell_type": "code",
   "execution_count": 37,
   "metadata": {
    "collapsed": false
   },
   "outputs": [
    {
     "name": "stdout",
     "output_type": "stream",
     "text": [
      "[1] \"0 has 0 suppressed false iterations\"\n"
     ]
    },
    {
     "data": {
      "text/plain": [
       "        user       system      elapsed \n",
       " 320.5417167    0.3311833 1140.9930833 "
      ]
     },
     "metadata": {},
     "output_type": "display_data"
    }
   ],
   "source": [
    "set.seed(7212)\n",
    "g <- 0\n",
    "#For all diseases, we estimate number of RCTs relevant to the burden\n",
    "PERF_g <- PERF[PERF$dis==0,]\n",
    "    \n",
    "    #which trials are relevant to the burden\n",
    "    is_dis <- sapply(Lgbd,length)==1\n",
    "\n",
    "    #PPV et NPVs for finding the disease\n",
    "    sens_r <- PERF_g$TP_Dis\n",
    "    sens_n <- PERF_g$TP_Dis + PERF_g$FN_Dis\n",
    "    spec_r <- PERF_g$TN_Dis\n",
    "    spec_n <- PERF_g$TN_Dis + PERF_g$FP_Dis\n",
    "    sens <- rbeta(NK,sens_r+1,sens_n-sens_r+1)\n",
    "    spec <- rbeta(NK,spec_r+1,spec_n-spec_r+1)\n",
    "\n",
    "    a_dis <- sum(is_dis)\n",
    "    b_dis <- N-a_dis\n",
    "    As <- (a_dis-(1-spec)*N)/(sens - (1-spec))\n",
    "    Bs <- N-As\n",
    "    T1 <- sens*As\n",
    "    T0 <- spec*Bs\n",
    "    F1 <- (1-spec)*Bs\n",
    "    F0 <- (1-sens)*As\n",
    "    PPV_dis <- T1/(T1+F1)\n",
    "    NPV_dis <- T0/(T0+F0)\n",
    "\n",
    "false_it <- PPV_dis<0 | PPV_dis>1 | \n",
    "                NPV_dis<0 | NPV_dis>1\n",
    "    \n",
    "    print(paste(c(g,\"has\",sum(false_it),\"suppressed false iterations\"\n",
    "                                                    ),collapse=\" \"))  \n",
    "\n",
    "    PPV_dis <- PPV_dis[!false_it]\n",
    "    NPV_dis <- NPV_dis[!false_it]\n",
    "\n",
    "L <- data.frame()\n",
    "    #Simulation: reclassifying each trial\n",
    "        for(k in 1:length(PPV_dis)){\n",
    "\n",
    "            AR <- rep(0,length(regs)+1)\n",
    "            tp_dis <- runif(a_dis)\n",
    "            tn_dis <- runif(b_dis)\n",
    "            recl_dis <- is_dis\n",
    "            recl_dis[recl_dis==TRUE][tp_dis>PPV_dis[k]] <- FALSE\n",
    "            recl_dis[recl_dis==FALSE][tn_dis>NPV_dis[k]] <- TRUE\n",
    "\n",
    "            if(sum(recl_dis)==0) AR <- c(rep(0,length(regs)+1))\n",
    "            else{   if(sum(recl_dis)==1) AR <- c(as.numeric(LR[recl_dis,]),1)\n",
    "                    else AR <- c(apply(LR[recl_dis,],2,sum),sum(recl_dis))\n",
    "            }\n",
    "                \n",
    "            L <- rbind(L,AR)\n",
    "\n",
    "        }\n",
    "\n",
    "    write.table(L,paste(c(\"/media/igna/Elements/HotelDieu/Cochrane/Mapping_Cancer/Incertitude_mapping/Simulations/Total_simulation_\",as.character(PERF_g$dis),\".txt\"),collapse=\"\"))\n",
    "t1 <- proc.time()-t0\n",
    "t1/60"
   ]
  },
  {
   "cell_type": "markdown",
   "metadata": {},
   "source": [
    "### Deriving 95% uncertainty intervals"
   ]
  },
  {
   "cell_type": "code",
   "execution_count": 38,
   "metadata": {
    "collapsed": true
   },
   "outputs": [],
   "source": [
    "SM <- data.frame(Region = rep(c(regs,\"All\"),each=nrow(Mgbd)+1),\n",
    "                Disease = rep(c(as.character(Mgbd$cause_name),\"All\"),times=length(regs)+1))"
   ]
  },
  {
   "cell_type": "code",
   "execution_count": 39,
   "metadata": {
    "collapsed": true
   },
   "outputs": [],
   "source": [
    "SM$SimMn_NbRCTs <- NA\n",
    "SM$SimMed_NbRCTs <- NA\n",
    "SM$Sim95low_NbRCTs <- NA\n",
    "SM$Sim95up_NbRCTs <- NA\n",
    "SM$SimMn_PrRCTs <- NA\n",
    "SM$SimMed_PrRCTs <- NA\n",
    "SM$Sim95low_PrRCTs <- NA\n",
    "SM$Sim95up_PrRCTs <- NA"
   ]
  },
  {
   "cell_type": "code",
   "execution_count": 40,
   "metadata": {
    "collapsed": true
   },
   "outputs": [],
   "source": [
    "for(g in dis){\n",
    "\n",
    "    T <- tryCatch(read.table(paste(c(\"/media/igna/Elements/HotelDieu/Cochrane/Mapping_Cancer/Incertitude_mapping/Simulations/Total_simulation_\",\n",
    "                            as.character(g),\".txt\"),collapse=\"\")),error=NULL)\n",
    "\n",
    "    if(length(T)!=0){\n",
    "\n",
    "        #Mean, median and 95% uncertainty interval for the number of RCTs\n",
    "        M <- matrix(T[,1],ncol=8,byrow=TRUE)\n",
    "        SM$Sim95up_NbRCTs[SM$Disease==as.character(Mgbd$cause_name[g])] <- apply(M,2,function(x){quantile(x,0.975)})\n",
    "        SM$Sim95low_NbRCTs[SM$Disease==as.character(Mgbd$cause_name[g])] <- apply(M,2,function(x){quantile(x,0.025)})\n",
    "        SM$SimMed_NbRCTs[SM$Disease==as.character(Mgbd$cause_name[g])] <- apply(M,2,function(x){quantile(x,0.5)})\n",
    "        SM$SimMn_NbRCTs[SM$Disease==as.character(Mgbd$cause_name[g])] <- apply(M,2,mean)\n",
    "\n",
    "        #Mean and 95% upper-bound proportion of RCTs by simulation\n",
    "        M <- matrix(T[,1]/T[,2],ncol=8,byrow=TRUE)\n",
    "        SM$Sim95up_PrRCTs[SM$Disease==as.character(Mgbd$cause_name[g])] <- apply(M,2,function(x){quantile(x,0.975)})\n",
    "        SM$Sim95low_PrRCTs[SM$Disease==as.character(Mgbd$cause_name[g])] <- apply(M,2,function(x){quantile(x,0.025)})\n",
    "        SM$SimMed_PrRCTs[SM$Disease==as.character(Mgbd$cause_name[g])] <- apply(M,2,function(x){quantile(x,0.5)})\n",
    "        SM$SimMn_PrRCTs[SM$Disease==as.character(Mgbd$cause_name[g])] <- apply(M,2,mean)\n",
    "\n",
    "       \n",
    "    }   \n",
    "}\n",
    "\n",
    "#All diseases\n",
    "g <- 0\n",
    "    T <- tryCatch(read.table(paste(c(\"/media/igna/Elements/HotelDieu/Cochrane/Mapping_Cancer/Incertitude_mapping/Simulations/Total_simulation_\",\n",
    "                            as.character(g),\".txt\"),collapse=\"\")),error=NULL)\n",
    "\n",
    "        SM$Sim95up_NbRCTs[SM$Disease==\"All\"] <- apply(T,2,function(x){quantile(x,0.975)})\n",
    "        SM$Sim95low_NbRCTs[SM$Disease==\"All\"] <- apply(T,2,function(x){quantile(x,0.025)})\n",
    "        SM$SimMed_NbRCTs[SM$Disease==\"All\"] <- apply(T,2,function(x){quantile(x,0.5)})\n",
    "        SM$SimMn_NbRCTs[SM$Disease==\"All\"] <- apply(T,2,mean)\n"
   ]
  },
  {
   "cell_type": "code",
   "execution_count": 43,
   "metadata": {
    "collapsed": false,
    "scrolled": false
   },
   "outputs": [
    {
     "data": {
      "text/html": [
       "<table>\n",
       "<thead><tr><th></th><th scope=col>Region</th><th scope=col>Disease</th><th scope=col>SimMn_NbRCTs</th><th scope=col>SimMed_NbRCTs</th><th scope=col>Sim95low_NbRCTs</th><th scope=col>Sim95up_NbRCTs</th><th scope=col>SimMn_PrRCTs</th><th scope=col>SimMed_PrRCTs</th><th scope=col>Sim95low_PrRCTs</th><th scope=col>Sim95up_PrRCTs</th></tr></thead>\n",
       "<tbody>\n",
       "\t<tr><th scope=row>29</th><td>Central Europe, Eastern Europe, and Central Asia</td><td>All                                             </td><td>6000.2223                                       </td><td>6005                                            </td><td>5767.975                                        </td><td>6206                                            </td><td>NA                                              </td><td>NA                                              </td><td>NA                                              </td><td>NA                                              </td></tr>\n",
       "\t<tr><th scope=row>58</th><td>High-income</td><td>All        </td><td>60599.9094 </td><td>60631      </td><td>58034.95   </td><td>62973.075  </td><td>NA         </td><td>NA         </td><td>NA         </td><td>NA         </td></tr>\n",
       "\t<tr><th scope=row>87</th><td>Latin America and Caribbean</td><td>All                        </td><td>4132.2241                  </td><td>4135                       </td><td>3960                       </td><td>4288                       </td><td>NA                         </td><td>NA                         </td><td>NA                         </td><td>NA                         </td></tr>\n",
       "\t<tr><th scope=row>116</th><td>North Africa and Middle East</td><td>All                         </td><td>7860.4472                   </td><td>7863                        </td><td>7520.975                    </td><td>8176                        </td><td>NA                          </td><td>NA                          </td><td>NA                          </td><td>NA                          </td></tr>\n",
       "\t<tr><th scope=row>145</th><td>South Asia</td><td>All       </td><td>4339.9904 </td><td>4343      </td><td>4145      </td><td>4517      </td><td>NA        </td><td>NA        </td><td>NA        </td><td>NA        </td></tr>\n",
       "\t<tr><th scope=row>174</th><td>Southeast Asia, East Asia and Oceania</td><td>All                                  </td><td>8442.5907                            </td><td>8448                                 </td><td>8087                                 </td><td>8763                                 </td><td>NA                                   </td><td>NA                                   </td><td>NA                                   </td><td>NA                                   </td></tr>\n",
       "\t<tr><th scope=row>203</th><td>Sub-Saharian Africa</td><td>All                </td><td>2211.0041          </td><td>2213               </td><td>2119               </td><td>2294               </td><td>NA                 </td><td>NA                 </td><td>NA                 </td><td>NA                 </td></tr>\n",
       "\t<tr><th scope=row>232</th><td>All       </td><td>All       </td><td>82137.4957</td><td>82179     </td><td>78661.775 </td><td>85358.2   </td><td>NA        </td><td>NA        </td><td>NA        </td><td>NA        </td></tr>\n",
       "</tbody>\n",
       "</table>\n"
      ],
      "text/latex": [
       "\\begin{tabular}{r|llllllllll}\n",
       "  & Region & Disease & SimMn\\_NbRCTs & SimMed\\_NbRCTs & Sim95low\\_NbRCTs & Sim95up\\_NbRCTs & SimMn\\_PrRCTs & SimMed\\_PrRCTs & Sim95low\\_PrRCTs & Sim95up\\_PrRCTs\\\\\n",
       "\\hline\n",
       "\t29 & Central Europe, Eastern Europe, and Central Asia & All                                              & 6000.2223                                        & 6005                                             & 5767.975                                         & 6206                                             & NA                                               & NA                                               & NA                                               & NA                                              \\\\\n",
       "\t58 & High-income & All         & 60599.9094  & 60631       & 58034.95    & 62973.075   & NA          & NA          & NA          & NA         \\\\\n",
       "\t87 & Latin America and Caribbean & All                         & 4132.2241                   & 4135                        & 3960                        & 4288                        & NA                          & NA                          & NA                          & NA                         \\\\\n",
       "\t116 & North Africa and Middle East & All                          & 7860.4472                    & 7863                         & 7520.975                     & 8176                         & NA                           & NA                           & NA                           & NA                          \\\\\n",
       "\t145 & South Asia & All        & 4339.9904  & 4343       & 4145       & 4517       & NA         & NA         & NA         & NA        \\\\\n",
       "\t174 & Southeast Asia, East Asia and Oceania & All                                   & 8442.5907                             & 8448                                  & 8087                                  & 8763                                  & NA                                    & NA                                    & NA                                    & NA                                   \\\\\n",
       "\t203 & Sub-Saharian Africa & All                 & 2211.0041           & 2213                & 2119                & 2294                & NA                  & NA                  & NA                  & NA                 \\\\\n",
       "\t232 & All        & All        & 82137.4957 & 82179      & 78661.775  & 85358.2    & NA         & NA         & NA         & NA        \\\\\n",
       "\\end{tabular}\n"
      ],
      "text/plain": [
       "                                              Region Disease SimMn_NbRCTs\n",
       "29  Central Europe, Eastern Europe, and Central Asia     All     6000.222\n",
       "58                                       High-income     All    60599.909\n",
       "87                       Latin America and Caribbean     All     4132.224\n",
       "116                     North Africa and Middle East     All     7860.447\n",
       "145                                       South Asia     All     4339.990\n",
       "174            Southeast Asia, East Asia and Oceania     All     8442.591\n",
       "203                              Sub-Saharian Africa     All     2211.004\n",
       "232                                              All     All    82137.496\n",
       "    SimMed_NbRCTs Sim95low_NbRCTs Sim95up_NbRCTs SimMn_PrRCTs SimMed_PrRCTs\n",
       "29           6005        5767.975        6206.00           NA            NA\n",
       "58          60631       58034.950       62973.07           NA            NA\n",
       "87           4135        3960.000        4288.00           NA            NA\n",
       "116          7863        7520.975        8176.00           NA            NA\n",
       "145          4343        4145.000        4517.00           NA            NA\n",
       "174          8448        8087.000        8763.00           NA            NA\n",
       "203          2213        2119.000        2294.00           NA            NA\n",
       "232         82179       78661.775       85358.20           NA            NA\n",
       "    Sim95low_PrRCTs Sim95up_PrRCTs\n",
       "29               NA             NA\n",
       "58               NA             NA\n",
       "87               NA             NA\n",
       "116              NA             NA\n",
       "145              NA             NA\n",
       "174              NA             NA\n",
       "203              NA             NA\n",
       "232              NA             NA"
      ]
     },
     "metadata": {},
     "output_type": "display_data"
    }
   ],
   "source": [
    "SM[SM$Dis==\"All\",]"
   ]
  },
  {
   "cell_type": "code",
   "execution_count": 44,
   "metadata": {
    "collapsed": false
   },
   "outputs": [],
   "source": [
    "write.table(SM,'Data/Simulations_Alldis_NbProp_MedMn95Int_RCTs.txt')"
   ]
  },
  {
   "cell_type": "code",
   "execution_count": null,
   "metadata": {
    "collapsed": true
   },
   "outputs": [],
   "source": []
  }
 ],
 "metadata": {
  "kernelspec": {
   "display_name": "R",
   "language": "R",
   "name": "ir"
  },
  "language_info": {
   "codemirror_mode": "r",
   "file_extension": ".r",
   "mimetype": "text/x-r-source",
   "name": "R",
   "pygments_lexer": "r",
   "version": "3.3.1"
  }
 },
 "nbformat": 4,
 "nbformat_minor": 1
}
