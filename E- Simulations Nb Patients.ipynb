{
 "cells": [
  {
   "cell_type": "markdown",
   "metadata": {
    "collapsed": true
   },
   "source": [
    "# Simulations to identify research gaps\n",
    "For each disease, we simulate what would have been the mapping of RCTs within regions if the misclassification of RCTs towards groups of diseases was corrected, given the sensitivities and specificities of the classifier to identify each group of disease.\n",
    "\n",
    "To estimate the performances of the classifier for each group of diseases, we dispose a test set with 2,763 trials manually classified towards the 27-class grouping of diseases used in this work. The test set is described at Atal et al. BMC Bioinformatics 2016.\n",
    "\n",
    "The method used is based on the method presented at Fox et al. Int J Epidemiol 2005.\n",
    "\n",
    "To do so, for each disease for which we found a local research gap we will:\n",
    "\n",
    "1. Calculating sensitivity and specificity of the classifier to identify the disease and other studies relevant to the burden of diseases, and the number of success and number of trials to derive beta distributions\n",
    "2. Doing N=60k times the following simulation\n",
    "    * Randomly choose a sens and spec based on beta distribution for identifying the disease and identifying another disease (no correlation between sens and spec, neither between disease and another disease both)\n",
    "    * Derive Positive and Negative Predictive Values (PPV and NPV) for each.\n",
    "    * Simulate the correction of the classification based on PPVs and NPVs\n",
    "    * Derive the proportion of RCTs concerning the disease among all RCTs concerning the burden of disease in the region\n",
    "3. Derive 95% upper-bond simulation interval of the proportion of RCTs concerning the disease among all RCTs concerning the burden of diseases"
   ]
  },
  {
   "cell_type": "markdown",
   "metadata": {},
   "source": [
    "## 2. Simulating correction of misclassification"
   ]
  },
  {
   "cell_type": "code",
   "execution_count": 1,
   "metadata": {
    "collapsed": false
   },
   "outputs": [],
   "source": [
    "data <- read.table('/media/igna/Elements/HotelDieu/Cochrane/Mapping_Cancer/Flowchart/database_all_diseases_final_ok.txt')\n",
    "data <- data[!is.na(data$Sample),]\n",
    "data <- data[data$Sample>=20 & data$Sample<=150000,]\n",
    "N <- nrow(data)"
   ]
  },
  {
   "cell_type": "code",
   "execution_count": 2,
   "metadata": {
    "collapsed": false
   },
   "outputs": [],
   "source": [
    "#Nb of patients per region\n",
    "nb_ctrs <- lapply(strsplit(as.character(data$Nb_ctr_per_reg),'&'),as.numeric)\n",
    "RGs <-strsplit(as.character(data$Regions),'&')\n",
    "pats <- data.frame(TrialID = rep(data$TrialID,sapply(nb_ctrs,length)),\n",
    "                   Nb_ctrs = unlist(nb_ctrs),\n",
    "                   Region = unlist(RGs),\n",
    "                   Tot_sample = rep(data$Sample,sapply(nb_ctrs,length)))"
   ]
  },
  {
   "cell_type": "code",
   "execution_count": 3,
   "metadata": {
    "collapsed": true
   },
   "outputs": [],
   "source": [
    "pats$tot_ctrs <- rep(sapply(nb_ctrs,sum),sapply(nb_ctrs,length))\n",
    "pats$sample_per_reg <- pats$Tot_sample*pats$Nb_ctrs/pats$tot_ctrs"
   ]
  },
  {
   "cell_type": "code",
   "execution_count": 5,
   "metadata": {
    "collapsed": true
   },
   "outputs": [],
   "source": [
    "Lgbd <- lapply(as.character(data$GBD28),function(x){as.numeric(unlist(strsplit(x,\"&\")))})\n",
    "Lgbd <- lapply(Lgbd,function(x){x[x!=28]})"
   ]
  },
  {
   "cell_type": "code",
   "execution_count": 6,
   "metadata": {
    "collapsed": false
   },
   "outputs": [],
   "source": [
    "g <- sample(1:27,1)\n",
    "   \n",
    "    #which trials concern the disease\n",
    "    is_dis <- sapply(Lgbd,function(x){g%in%x})\n"
   ]
  },
  {
   "cell_type": "code",
   "execution_count": 7,
   "metadata": {
    "collapsed": false
   },
   "outputs": [],
   "source": [
    "ddd <- pats[pats$TrialID%in%data$TrialID[is_dis],]"
   ]
  },
  {
   "cell_type": "code",
   "execution_count": 8,
   "metadata": {
    "collapsed": false,
    "scrolled": true
   },
   "outputs": [
    {
     "data": {
      "text/html": [
       "<dl class=dl-horizontal>\n",
       "\t<dt>Central Europe, Eastern Europe, and Central Asia</dt>\n",
       "\t\t<dd>377866.4182711</dd>\n",
       "\t<dt>High-income</dt>\n",
       "\t\t<dd>3293044.86723714</dd>\n",
       "\t<dt>Latin America and Caribbean</dt>\n",
       "\t\t<dd>119740.422935237</dd>\n",
       "\t<dt>North Africa and Middle East</dt>\n",
       "\t\t<dd>164837.051637727</dd>\n",
       "\t<dt>South Asia</dt>\n",
       "\t\t<dd>113709.325576863</dd>\n",
       "\t<dt>Southeast Asia, East Asia and Oceania</dt>\n",
       "\t\t<dd>708460.791139893</dd>\n",
       "\t<dt>Sub-Saharian Africa</dt>\n",
       "\t\t<dd>79465.1232020377</dd>\n",
       "</dl>\n"
      ],
      "text/markdown": [
       "Central Europe, Eastern Europe, and Central Asia\n",
       ":   377866.4182711High-income\n",
       ":   3293044.86723714Latin America and Caribbean\n",
       ":   119740.422935237North Africa and Middle East\n",
       ":   164837.051637727South Asia\n",
       ":   113709.325576863Southeast Asia, East Asia and Oceania\n",
       ":   708460.791139893Sub-Saharian Africa\n",
       ":   79465.1232020377\n",
       "\n"
      ],
      "text/plain": [
       "Central Europe, Eastern Europe, and Central Asia \n",
       "                                       377866.42 \n",
       "                                     High-income \n",
       "                                      3293044.87 \n",
       "                     Latin America and Caribbean \n",
       "                                       119740.42 \n",
       "                    North Africa and Middle East \n",
       "                                       164837.05 \n",
       "                                      South Asia \n",
       "                                       113709.33 \n",
       "           Southeast Asia, East Asia and Oceania \n",
       "                                       708460.79 \n",
       "                             Sub-Saharian Africa \n",
       "                                        79465.12 "
      ]
     },
     "metadata": {},
     "output_type": "display_data"
    }
   ],
   "source": [
    "tapply(ddd$sample_per_reg,ddd$Region,sum)"
   ]
  },
  {
   "cell_type": "code",
   "execution_count": 10,
   "metadata": {
    "collapsed": true
   },
   "outputs": [],
   "source": [
    "regs <- sort(unique(unlist(strsplit(as.character(data$Regions),\"&\"))))"
   ]
  },
  {
   "cell_type": "code",
   "execution_count": 12,
   "metadata": {
    "collapsed": true
   },
   "outputs": [
    {
     "name": "stderr",
     "output_type": "stream",
     "text": [
      "gdata: read.xls support for 'XLS' (Excel 97-2004) files ENABLED.\n",
      "\n",
      "gdata: read.xls support for 'XLSX' (Excel 2007+) files ENABLED.\n",
      "\n",
      "Attaching package: ‘gdata’\n",
      "\n",
      "The following object is masked from ‘package:stats’:\n",
      "\n",
      "    nobs\n",
      "\n",
      "The following object is masked from ‘package:utils’:\n",
      "\n",
      "    object.size\n",
      "\n",
      "The following object is masked from ‘package:base’:\n",
      "\n",
      "    startsWith\n",
      "\n"
     ]
    }
   ],
   "source": [
    "library(gdata)"
   ]
  },
  {
   "cell_type": "code",
   "execution_count": 13,
   "metadata": {
    "collapsed": false
   },
   "outputs": [],
   "source": [
    " trs <- is_dis\n",
    "                    dsp <- data.frame(nb_ctrs = unlist(nb_ctrs[trs]),\n",
    "                    sample = rep(data$Sample[trs],sapply(nb_ctrs[trs],length)),\n",
    "                    tt_nb_ctrs = rep(sapply(nb_ctrs[trs],sum),sapply(nb_ctrs[trs],length)))\n",
    "                    dsp$reg <- unlist(RGs[trs])\n",
    "                    dsp$reg <- factor(dsp$reg)\n",
    "                    levels(dsp$reg) <- c(levels(dsp$reg),setdiff(levels(dsp$reg),regs))\n",
    "                    dsp$reg <- reorder(dsp$reg,new.order=regs)\n",
    "                    dsp$spl_ctrs <- (dsp$sample*dsp$nb_ctrs)/dsp$tt_nb_ctrs"
   ]
  },
  {
   "cell_type": "code",
   "execution_count": 15,
   "metadata": {
    "collapsed": false
   },
   "outputs": [
    {
     "data": {
      "text/html": [
       "<dl class=dl-horizontal>\n",
       "\t<dt>Central Europe, Eastern Europe, and Central Asia</dt>\n",
       "\t\t<dd>377866.4182711</dd>\n",
       "\t<dt>High-income</dt>\n",
       "\t\t<dd>3293044.86723714</dd>\n",
       "\t<dt>Latin America and Caribbean</dt>\n",
       "\t\t<dd>119740.422935237</dd>\n",
       "\t<dt>North Africa and Middle East</dt>\n",
       "\t\t<dd>164837.051637727</dd>\n",
       "\t<dt>South Asia</dt>\n",
       "\t\t<dd>113709.325576863</dd>\n",
       "\t<dt>Southeast Asia, East Asia and Oceania</dt>\n",
       "\t\t<dd>708460.791139893</dd>\n",
       "\t<dt>Sub-Saharian Africa</dt>\n",
       "\t\t<dd>79465.1232020377</dd>\n",
       "</dl>\n"
      ],
      "text/markdown": [
       "Central Europe, Eastern Europe, and Central Asia\n",
       ":   377866.4182711High-income\n",
       ":   3293044.86723714Latin America and Caribbean\n",
       ":   119740.422935237North Africa and Middle East\n",
       ":   164837.051637727South Asia\n",
       ":   113709.325576863Southeast Asia, East Asia and Oceania\n",
       ":   708460.791139893Sub-Saharian Africa\n",
       ":   79465.1232020377\n",
       "\n"
      ],
      "text/plain": [
       "Central Europe, Eastern Europe, and Central Asia \n",
       "                                       377866.42 \n",
       "                                     High-income \n",
       "                                      3293044.87 \n",
       "                     Latin America and Caribbean \n",
       "                                       119740.42 \n",
       "                    North Africa and Middle East \n",
       "                                       164837.05 \n",
       "                                      South Asia \n",
       "                                       113709.33 \n",
       "           Southeast Asia, East Asia and Oceania \n",
       "                                       708460.79 \n",
       "                             Sub-Saharian Africa \n",
       "                                        79465.12 "
      ]
     },
     "metadata": {},
     "output_type": "display_data"
    }
   ],
   "source": [
    "tapply(dsp$spl_ctrs,dsp$reg,sum)"
   ]
  },
  {
   "cell_type": "code",
   "execution_count": null,
   "metadata": {
    "collapsed": true
   },
   "outputs": [],
   "source": []
  },
  {
   "cell_type": "code",
   "execution_count": 3,
   "metadata": {
    "collapsed": true
   },
   "outputs": [],
   "source": [
    "Lgbd <- lapply(as.character(data$GBD28),function(x){as.numeric(unlist(strsplit(x,\"&\")))})\n",
    "Lgbd <- lapply(Lgbd,function(x){x[x!=28]})"
   ]
  },
  {
   "cell_type": "code",
   "execution_count": 20,
   "metadata": {
    "collapsed": true
   },
   "outputs": [],
   "source": [
    "PERF <- read.csv('Tables/Performances_per_27disease_data.csv')"
   ]
  },
  {
   "cell_type": "code",
   "execution_count": 21,
   "metadata": {
    "collapsed": true
   },
   "outputs": [],
   "source": [
    "#For all diseases, we will simulate the mapping across regions of trials concerning\n",
    "#the disease or concerning other diseases\n",
    "dis <- 1:27"
   ]
  },
  {
   "cell_type": "code",
   "execution_count": 6,
   "metadata": {
    "collapsed": true
   },
   "outputs": [
    {
     "name": "stderr",
     "output_type": "stream",
     "text": [
      "gdata: read.xls support for 'XLS' (Excel 97-2004) files ENABLED.\n",
      "\n",
      "gdata: read.xls support for 'XLSX' (Excel 2007+) files ENABLED.\n",
      "\n",
      "Attaching package: ‘gdata’\n",
      "\n",
      "The following object is masked from ‘package:stats’:\n",
      "\n",
      "    nobs\n",
      "\n",
      "The following object is masked from ‘package:utils’:\n",
      "\n",
      "    object.size\n",
      "\n",
      "The following object is masked from ‘package:base’:\n",
      "\n",
      "    startsWith\n",
      "\n"
     ]
    }
   ],
   "source": [
    "library(gdata)"
   ]
  },
  {
   "cell_type": "code",
   "execution_count": 7,
   "metadata": {
    "collapsed": false
   },
   "outputs": [],
   "source": [
    "regs <- sort(unique(unlist(strsplit(as.character(data$Regions),\"&\"))))"
   ]
  },
  {
   "cell_type": "code",
   "execution_count": 16,
   "metadata": {
    "collapsed": true
   },
   "outputs": [],
   "source": [
    "#NK <- 60000\n",
    "NK <- 5000\n",
    "set.seed(7212)"
   ]
  },
  {
   "cell_type": "code",
   "execution_count": null,
   "metadata": {
    "collapsed": false
   },
   "outputs": [
    {
     "name": "stdout",
     "output_type": "stream",
     "text": [
      "[1] 24\n"
     ]
    }
   ],
   "source": [
    "#For each disease\n",
    "t0 <- proc.time()\n",
    "\n",
    "#for(g in dis){\n",
    "\n",
    "g <- 24\n",
    "print(g)\n",
    "    PERF_g <- PERF[PERF$dis==g,]\n",
    "    \n",
    "    #which trials concern the disease\n",
    "    is_dis <- sapply(Lgbd,function(x){g%in%x})\n",
    "    #which trials concern another disease\n",
    "    is_oth <- sapply(Lgbd,function(x){sum(setdiff(1:27,g)%in%x)>0})\n",
    "\n",
    "    #PPV et NPVs for finding the disease\n",
    "    sens_r <- PERF_g$TP_Dis\n",
    "    sens_n <- PERF_g$TP_Dis + PERF_g$FN_Dis\n",
    "    spec_r <- PERF_g$TN_Dis\n",
    "    spec_n <- PERF_g$TN_Dis + PERF_g$FP_Dis\n",
    "    sens <- rbeta(NK,sens_r+1,sens_n-sens_r+1)\n",
    "    spec <- rbeta(NK,spec_r+1,spec_n-spec_r+1)\n",
    "\n",
    "    a_dis <- sum(is_dis)\n",
    "    b_dis <- N-a_dis\n",
    "    As <- (a_dis-(1-spec)*N)/(sens - (1-spec))\n",
    "    Bs <- N-As\n",
    "    T1 <- sens*As\n",
    "    T0 <- spec*Bs\n",
    "    F1 <- (1-spec)*Bs\n",
    "    F0 <- (1-sens)*As\n",
    "    PPV_dis <- T1/(T1+F1)\n",
    "    NPV_dis <- T0/(T0+F0)\n",
    "\n",
    "    #PPV and NPVs for finding another disease\n",
    "    sens_r <- PERF_g$TP_Oth\n",
    "    sens_n <- PERF_g$TP_Oth + PERF_g$FN_Oth\n",
    "    spec_r <- PERF_g$TN_Oth\n",
    "    spec_n <- PERF_g$TN_Oth + PERF_g$FP_Oth\n",
    "    sens <- rbeta(NK,sens_r+1,sens_n-sens_r+1)\n",
    "    spec <- rbeta(NK,spec_r+1,spec_n-spec_r+1)\n",
    "\n",
    "    a_oth <- sum(is_oth)\n",
    "    b_oth <- N-a_oth\n",
    "    As <- (a_oth-(1-spec)*N)/(sens - (1-spec))\n",
    "    Bs <- N-As\n",
    "    T1 <- sens*As\n",
    "    T0 <- spec*Bs\n",
    "    F1 <- (1-spec)*Bs\n",
    "    F0 <- (1-sens)*As\n",
    "    PPV_oth <- T1/(T1+F1)\n",
    "    NPV_oth <- T0/(T0+F0)\n",
    "\n",
    "    #Some values of sens and spec may lead to impossible values of PPV or NPV (>1 or <0)\n",
    "    #Depending on the case we will either suppress the iteration, either fix PPVs and NPVs to 0 or 1\n",
    "    #The decision is made to be the most conservative as possible regarding our objective of \n",
    "    #upper-bounding the number and local proportion of RCTs concerning a disease in a region\n",
    "\n",
    "    #Case 1: PPV_dis < 0 (and NPV_dis > 1), sens_dis and spec_dis are such that expected value\n",
    "        #of nb_trials concerning disease is negative. Suppressing that iteration is conservative\n",
    "        #in regard of our objective, while fixing PPV_dis = 0 is not conservative, as we fix the number\n",
    "        #of RCTs concerning the disease equal to 0 in all regions\n",
    "    case1 <- PPV_dis<0 | NPV_dis>1 \n",
    "    if(sum(case1>0)) print(paste(c(g,\"has\",sum(case1),\"case 1 false iterations which were suppressed\"),collapse=\" \"))\n",
    "\n",
    "    #Case 2: PPV_dis > 1 (and NPV_dis < 0), sens_dis and spec_dis are such that expected value\n",
    "        #of nb_trials concerning disease is higher than the total number of trials. Suppressing that iteration is \n",
    "        #not conservative in regard of our objective, as an iteration giving a maximal number and proportion\n",
    "        #of RCTs will be suppressed, while fixing PPV_dis = 1 and NPV_dis = 0 (ie nb trials dis = N) \n",
    "        #is conservative\n",
    "    case2 <- PPV_dis>1 | NPV_dis<0 \n",
    "    if(sum(case2>0)) print(paste(c(g,\"has\",sum(case2),\"case 2 false iterations for which we fixed PPV_dis = 1\"),collapse=\" \"))\n",
    "        \n",
    "    #Case 3: If PPV_oth < 0 (and NPV_oth > 1), sens_oth and spec_oth are such that the expected value\n",
    "        #of nb_trials concerning other diseases is negative. Suppressing that iteration is not conservative\n",
    "        #in regard of our objective, as that iteration would give that all trials concerning the burden of\n",
    "        #diseases concern the disease of interest. We fixed PPV_oth = 0 and NPV_oth = 1\n",
    "    case3 <- PPV_oth<0 | NPV_oth>1 \n",
    "    if(sum(case3>0)) print(paste(c(g,\"has\",sum(case3),\"case 3 false iterations for which we fixed PPV_oth = 0\"),collapse=\" \"))\n",
    "\n",
    "    #Case 4: PPV_oth > 1 (and NPV_oth < 0), sens_oth and spec_oth are such that expected value\n",
    "        #of nb_trials concerning other diseases is higher than the total number of trials. \n",
    "        #Suppressing that iteration is conservative in regard of our objective, while fixing PPV_oth = 1\n",
    "        #is not conservative, as we fix the number of RCTs concerning other diseases to be maximal, so the proportion\n",
    "        #of RCTs concerning the disease among all RCTs concerning the burden is minimized\n",
    "    case4 <- PPV_oth>1 | NPV_oth<0 \n",
    "    if(sum(case4>0)) print(paste(c(g,\"has\",sum(case4),\"case 4 false iterations which were suppressed\"),collapse=\" \"))\n",
    "\n",
    "    #If the number of suppressed iteration is higher than 10% of the total number of iterations, we skip\n",
    "    #the disease\n",
    "    if(sum(case1 | case4)>0.1*NK){ print(paste(c(g,\n",
    "                                                     \"has\", \n",
    "                                                     sum(case1 | case4), \n",
    "                                                     \"(too many) suppressed false iterations\"\n",
    "                                                    ),collapse=\" \"))\n",
    "#                          next\n",
    "                          }\n",
    "    \n",
    " #   else print(paste(c(g,\"has\",sum(case1 | case4),\"suppressed false iterations\"\n",
    "  #                                                  ),collapse=\" \"))  \n",
    "\n",
    "    PPV_dis[case2] <- 1\n",
    "    NPV_dis[case2] <- 0\n",
    "    PPV_oth[case3] <- 0\n",
    "    NPV_oth[case3] <- 1\n",
    "    PPV_dis <- PPV_dis[!(case1 | case4)]\n",
    "    NPV_dis <- NPV_dis[!(case1 | case4)]\n",
    "    PPV_oth <- PPV_oth[!(case1 | case4)]\n",
    "    NPV_oth <- NPV_oth[!(case1 | case4)]\n",
    "\n",
    "    L <- list()\n",
    "    #Simulation: reclassifying each trial\n",
    "        for(k in 1:length(PPV_dis)){\n",
    "\n",
    "            AR <- matrix(0, nrow=length(regs), ncol=2)\n",
    "            tp_dis <- runif(a_dis)\n",
    "            tn_dis <- runif(b_dis)\n",
    "            recl_dis <- is_dis\n",
    "            recl_dis[recl_dis==TRUE][tp_dis>PPV_dis[k]] <- FALSE\n",
    "            recl_dis[recl_dis==FALSE][tn_dis>NPV_dis[k]] <- TRUE\n",
    "            #Rq: we count all trials (even those with more than 3 diseases)\n",
    "            #it is a conservative choice\n",
    "            rt <- as.numeric(recl_dis)\n",
    "\n",
    "            if(sum(recl_dis)==0) AR[,1] <- c(rep(0,7))\n",
    "            else{   \n",
    "                    dsp <- pats[pats$TrialID%in%data$TrialID[recl_dis],]\n",
    "                    AR[,1] <-tapply(dsp$sample_per_reg,dsp$Region,sum)\n",
    "            }\n",
    "                \n",
    "            #Oth_dis\n",
    "            tp_oth <- runif(a_oth)\n",
    "            tn_oth <- runif(b_oth)\n",
    "            recl_oth <- is_oth\n",
    "            recl_oth[recl_oth==TRUE][tp_oth>PPV_oth[k]] <- FALSE\n",
    "            recl_oth[recl_oth==FALSE][tn_oth>NPV_oth[k]] <- TRUE\n",
    "            rt <- rt + as.numeric(recl_oth)\n",
    "\n",
    "            if(sum(rt)==0) AR[,2] <- c(rep(0,7))\n",
    "            else{  \n",
    "                    dsp <- pats[pats$TrialID%in%data$TrialID[rt],]\n",
    "                    AR[,2] <-tapply(dsp$sample_per_reg,dsp$Region,sum)\n",
    "\n",
    "            }\n",
    "\n",
    "            L[[k]] <- AR\n",
    "\n",
    "        }\n",
    "\n",
    "    \n",
    "    T <- do.call('rbind',L)\n",
    "    write.table(T,paste(c(\"/media/igna/Elements/HotelDieu/Cochrane/Mapping_Cancer/Incertitude_mapping/Simulations/Patients_total_simulation_\",as.character(PERF_g$dis),\".txt\"),collapse=\"\"))\n",
    "\n",
    "#}\n",
    "\n",
    "t1 <- proc.time()\n",
    "    \n",
    "print(t1-t0)/60"
   ]
  },
  {
   "cell_type": "code",
   "execution_count": null,
   "metadata": {
    "collapsed": false
   },
   "outputs": [],
   "source": [
    "160*2/60"
   ]
  },
  {
   "cell_type": "markdown",
   "metadata": {},
   "source": [
    "For 10,000 simulations it will take 5.3h approx"
   ]
  },
  {
   "cell_type": "markdown",
   "metadata": {},
   "source": [
    "## 3. Deriving 95% upper bound simulation intervals\n",
    "For the number of RCTs concerning each disease in each region, and the local proportion of RCTs for each disease in each region"
   ]
  },
  {
   "cell_type": "code",
   "execution_count": null,
   "metadata": {
    "collapsed": false
   },
   "outputs": [],
   "source": [
    "Mgbd <- read.table(\"/home/igna/Desktop/Programs GBD/Classifier_Trial_GBD/Databases/Taxonomy_DL/GBD_data/GBD_ICD.txt\")"
   ]
  },
  {
   "cell_type": "code",
   "execution_count": null,
   "metadata": {
    "collapsed": true
   },
   "outputs": [],
   "source": [
    "#We supress injuries\n",
    "Mgbd <- Mgbd[-28,]"
   ]
  },
  {
   "cell_type": "code",
   "execution_count": null,
   "metadata": {
    "collapsed": true
   },
   "outputs": [],
   "source": [
    "GBD <- read.table(\"/media/igna/Elements/HotelDieu/Cochrane/Mapping_Cancer/Tables/GBD_data_per_region_and_27_diseases_2005.txt\")"
   ]
  },
  {
   "cell_type": "code",
   "execution_count": 18,
   "metadata": {
    "collapsed": true
   },
   "outputs": [],
   "source": [
    "dis <- 1:27"
   ]
  },
  {
   "cell_type": "code",
   "execution_count": null,
   "metadata": {
    "collapsed": true
   },
   "outputs": [],
   "source": [
    "regs <- names(GBD)[1:7]"
   ]
  },
  {
   "cell_type": "code",
   "execution_count": null,
   "metadata": {
    "collapsed": true
   },
   "outputs": [],
   "source": [
    "SM <- data.frame(Region = rep(regs,each=nrow(Mgbd)),\n",
    "                Disease = rep(Mgbd$cause_name,times=length(regs)))"
   ]
  },
  {
   "cell_type": "code",
   "execution_count": null,
   "metadata": {
    "collapsed": true
   },
   "outputs": [],
   "source": [
    "SM$SimMn_NbRCTs <- NA\n",
    "SM$Sim95_NbRCTs <- NA\n",
    "SM$SimMn_PrRCTs <- NA\n",
    "SM$Sim95_PrRCTs <- NA"
   ]
  },
  {
   "cell_type": "code",
   "execution_count": null,
   "metadata": {
    "collapsed": false
   },
   "outputs": [],
   "source": [
    "for(g in dis){\n",
    "\n",
    "    T <- tryCatch(read.table(paste(c(\"/media/igna/Elements/HotelDieu/Cochrane/Mapping_Cancer/Incertitude_mapping/Simulations/Total_simulation_\",\n",
    "                            as.character(g),\".txt\"),collapse=\"\")),error=NULL)\n",
    "\n",
    "    if(length(T)!=0){\n",
    "\n",
    "        #Mean and 95% upper-bound number of RCTs by simulation\n",
    "        M <- matrix(T[,1],ncol=7,byrow=TRUE)\n",
    "        SM$Sim95_NbRCTs[SM$Disease==Mgbd$cause_name[g]] <- apply(M,2,function(x){quantile(x,0.95)})\n",
    "        SM$SimMn_NbRCTs[SM$Disease==Mgbd$cause_name[g]] <- apply(M,2,mean)\n",
    "\n",
    "        #Mean and 95% upper-bound proportion of RCTs by simulation\n",
    "        M <- matrix(T[,1]/T[,2],ncol=7,byrow=TRUE)\n",
    "        SM$Sim95_PrRCTs[SM$Disease==Mgbd$cause_name[g]] <- apply(M,2,function(x){quantile(x,0.95)})\n",
    "        SM$SimMn_PrRCTs[SM$Disease==Mgbd$cause_name[g]] <- apply(M,2,mean)\n",
    "        \n",
    "    }   \n",
    "}"
   ]
  },
  {
   "cell_type": "code",
   "execution_count": null,
   "metadata": {
    "collapsed": true
   },
   "outputs": [],
   "source": [
    "write.table(SM,'Data/Simulations_Alldis_NbProp_Mn95_RCTs.txt')"
   ]
  }
 ],
 "metadata": {
  "kernelspec": {
   "display_name": "R",
   "language": "R",
   "name": "ir"
  },
  "language_info": {
   "codemirror_mode": "r",
   "file_extension": ".r",
   "mimetype": "text/x-r-source",
   "name": "R",
   "pygments_lexer": "r",
   "version": "3.3.1"
  }
 },
 "nbformat": 4,
 "nbformat_minor": 1
}
