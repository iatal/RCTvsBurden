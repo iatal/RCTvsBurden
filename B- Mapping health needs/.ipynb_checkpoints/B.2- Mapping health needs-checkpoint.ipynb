{
 "cells": [
  {
   "cell_type": "markdown",
   "metadata": {},
   "source": [
    "# Mapping health needs\n",
    "Data from GBD 2010 study"
   ]
  },
  {
   "cell_type": "code",
   "execution_count": 30,
   "metadata": {
    "collapsed": true
   },
   "outputs": [],
   "source": [
    "library(data.table)"
   ]
  },
  {
   "cell_type": "code",
   "execution_count": 31,
   "metadata": {
    "collapsed": false
   },
   "outputs": [
    {
     "data": {
      "text/html": [
       "<ol class=list-inline>\n",
       "\t<li>'metr'</li>\n",
       "\t<li>'Region'</li>\n",
       "\t<li>'Disease'</li>\n",
       "\t<li>'burden'</li>\n",
       "\t<li>'cats27'</li>\n",
       "</ol>\n"
      ],
      "text/latex": [
       "\\begin{enumerate*}\n",
       "\\item 'metr'\n",
       "\\item 'Region'\n",
       "\\item 'Disease'\n",
       "\\item 'burden'\n",
       "\\item 'cats27'\n",
       "\\end{enumerate*}\n"
      ],
      "text/markdown": [
       "1. 'metr'\n",
       "2. 'Region'\n",
       "3. 'Disease'\n",
       "4. 'burden'\n",
       "5. 'cats27'\n",
       "\n",
       "\n"
      ],
      "text/plain": [
       "[1] \"metr\"    \"Region\"  \"Disease\" \"burden\"  \"cats27\" "
      ]
     },
     "metadata": {},
     "output_type": "display_data"
    }
   ],
   "source": [
    "GBD <- read.table(\"../Data/DALY_YLL_deaths_per_region_and_27_and_excluded_diseases_2005.txt\")\n",
    "GBD <- data.table(GBD)\n",
    "names(GBD)"
   ]
  },
  {
   "cell_type": "code",
   "execution_count": 32,
   "metadata": {
    "collapsed": false,
    "scrolled": false
   },
   "outputs": [],
   "source": [
    "#Total burden per region (with excluded categories)\n",
    "dg <- GBD[,list(lapply(.SD,sum),\n",
    "                lapply(.SD[Disease!=\"Injuries\",],sum),\n",
    "                lapply(.SD[cats27==TRUE,],sum)),.SDcols=c(\"burden\"),by=c(\"metr\",\"Region\")]"
   ]
  },
  {
   "cell_type": "code",
   "execution_count": 33,
   "metadata": {
    "collapsed": false
   },
   "outputs": [],
   "source": [
    "#Part of injuries among total burden per region per metric\n",
    "dg$Prop_inj <- 100 - 100*as.numeric(dg$V2)/as.numeric(dg$V1)"
   ]
  },
  {
   "cell_type": "code",
   "execution_count": 34,
   "metadata": {
    "collapsed": false
   },
   "outputs": [],
   "source": [
    "#Part of excluded diseases among total burden of diseases, per region per metric\n",
    "dg$Prop_excl_dis <- 100 - 100*as.numeric(dg$V3)/as.numeric(dg$V2)"
   ]
  },
  {
   "cell_type": "code",
   "execution_count": 35,
   "metadata": {
    "collapsed": false,
    "scrolled": true
   },
   "outputs": [
    {
     "data": {
      "text/html": [
       "<table>\n",
       "<thead><tr><th></th><th scope=col>metr</th><th scope=col>Region</th><th scope=col>Prop_inj</th><th scope=col>Prop_excl_dis</th></tr></thead>\n",
       "<tbody>\n",
       "\t<tr><th scope=row>1</th><td>daly                                            </td><td>Central Europe, Eastern Europe, and Central Asia</td><td>14.1390406120141                                </td><td>0.374399537566802                               </td></tr>\n",
       "\t<tr><th scope=row>2</th><td>daly             </td><td>High-income      </td><td>9.95374248395683 </td><td>0.874546593018735</td></tr>\n",
       "\t<tr><th scope=row>3</th><td>daly                       </td><td>Latin America and Caribbean</td><td>14.1176535353185           </td><td>1.07857397578715           </td></tr>\n",
       "\t<tr><th scope=row>4</th><td>daly                        </td><td>North Africa and Middle East</td><td>10.6130446519093            </td><td>1.30766119323818            </td></tr>\n",
       "\t<tr><th scope=row>5</th><td>daly            </td><td>South Asia      </td><td>11.2288229916697</td><td>1.41029163665819</td></tr>\n",
       "\t<tr><th scope=row>6</th><td>daly                                 </td><td>Southeast Asia, East Asia and Oceania</td><td>12.1743208640528                     </td><td>0.877672086963031                    </td></tr>\n",
       "\t<tr><th scope=row>7</th><td>daly               </td><td>Sub-Saharian Africa</td><td>6.77986985119354   </td><td>1.54287339643092   </td></tr>\n",
       "\t<tr><th scope=row>8</th><td>death                                           </td><td>Central Europe, Eastern Europe, and Central Asia</td><td>9.74096749853662                                </td><td>0.1420245253546                                 </td></tr>\n",
       "\t<tr><th scope=row>9</th><td>death            </td><td>High-income      </td><td>6.45421392631165 </td><td>0.993291331280986</td></tr>\n",
       "\t<tr><th scope=row>10</th><td>death                      </td><td>Latin America and Caribbean</td><td>13.1785927286985           </td><td>1.04315602180657           </td></tr>\n",
       "\t<tr><th scope=row>11</th><td>death                       </td><td>North Africa and Middle East</td><td>9.63586256427789            </td><td>1.32503150911653            </td></tr>\n",
       "\t<tr><th scope=row>12</th><td>death           </td><td>South Asia      </td><td>11.444711205292 </td><td>1.26301539706411</td></tr>\n",
       "\t<tr><th scope=row>13</th><td>death                                </td><td>Southeast Asia, East Asia and Oceania</td><td>9.80633464149911                     </td><td>0.613785215382705                    </td></tr>\n",
       "\t<tr><th scope=row>14</th><td>death              </td><td>Sub-Saharian Africa</td><td>7.47074031266474   </td><td>1.42484248873917   </td></tr>\n",
       "\t<tr><th scope=row>15</th><td>yld                                             </td><td>Central Europe, Eastern Europe, and Central Asia</td><td>7.11547433245897                                </td><td>0.616884249970013                               </td></tr>\n",
       "\t<tr><th scope=row>16</th><td>yld              </td><td>High-income      </td><td>7.0708849504915  </td><td>0.402194812080424</td></tr>\n",
       "\t<tr><th scope=row>17</th><td>yld                        </td><td>Latin America and Caribbean</td><td>3.73141412680833           </td><td>0.826968094599863          </td></tr>\n",
       "\t<tr><th scope=row>18</th><td>yld                         </td><td>North Africa and Middle East</td><td>6.18063172528117            </td><td>0.964996019518679           </td></tr>\n",
       "\t<tr><th scope=row>19</th><td>yld             </td><td>South Asia      </td><td>5.15160738791978</td><td>1.41224665210612</td></tr>\n",
       "\t<tr><th scope=row>20</th><td>yld                                  </td><td>Southeast Asia, East Asia and Oceania</td><td>6.22216438537055                     </td><td>0.770991084028012                    </td></tr>\n",
       "\t<tr><th scope=row>21</th><td>yld                </td><td>Sub-Saharian Africa</td><td>3.09407142182695   </td><td>1.44476407491931   </td></tr>\n",
       "\t<tr><th scope=row>22</th><td>yll                                             </td><td>Central Europe, Eastern Europe, and Central Asia</td><td>17.0762222147661                                </td><td>0.260814567550838                               </td></tr>\n",
       "\t<tr><th scope=row>23</th><td>yll             </td><td>High-income     </td><td>12.5297370149571</td><td>1.32296061728127</td></tr>\n",
       "\t<tr><th scope=row>24</th><td>yll                        </td><td>Latin America and Caribbean</td><td>20.5024751607031           </td><td>1.26587724614045           </td></tr>\n",
       "\t<tr><th scope=row>25</th><td>yll                         </td><td>North Africa and Middle East</td><td>13.3777555825167            </td><td>1.53915644631607            </td></tr>\n",
       "\t<tr><th scope=row>26</th><td>yll             </td><td>South Asia      </td><td>13.2294618561729</td><td>1.40958828891362</td></tr>\n",
       "\t<tr><th scope=row>27</th><td>yll                                  </td><td>Southeast Asia, East Asia and Oceania</td><td>15.3583586953629                     </td><td>0.940901410564933                    </td></tr>\n",
       "\t<tr><th scope=row>28</th><td>yll                </td><td>Sub-Saharian Africa</td><td>7.43176268238633   </td><td>1.56103893792361   </td></tr>\n",
       "</tbody>\n",
       "</table>\n"
      ],
      "text/latex": [
       "\\begin{tabular}{r|llll}\n",
       "  & metr & Region & Prop\\_inj & Prop\\_excl\\_dis\\\\\n",
       "\\hline\n",
       "\t1 & daly                                             & Central Europe, Eastern Europe, and Central Asia & 14.1390406120141                                 & 0.374399537566802                               \\\\\n",
       "\t2 & daly              & High-income       & 9.95374248395683  & 0.874546593018735\\\\\n",
       "\t3 & daly                        & Latin America and Caribbean & 14.1176535353185            & 1.07857397578715           \\\\\n",
       "\t4 & daly                         & North Africa and Middle East & 10.6130446519093             & 1.30766119323818            \\\\\n",
       "\t5 & daly             & South Asia       & 11.2288229916697 & 1.41029163665819\\\\\n",
       "\t6 & daly                                  & Southeast Asia, East Asia and Oceania & 12.1743208640528                      & 0.877672086963031                    \\\\\n",
       "\t7 & daly                & Sub-Saharian Africa & 6.77986985119354    & 1.54287339643092   \\\\\n",
       "\t8 & death                                            & Central Europe, Eastern Europe, and Central Asia & 9.74096749853662                                 & 0.1420245253546                                 \\\\\n",
       "\t9 & death             & High-income       & 6.45421392631165  & 0.993291331280986\\\\\n",
       "\t10 & death                       & Latin America and Caribbean & 13.1785927286985            & 1.04315602180657           \\\\\n",
       "\t11 & death                        & North Africa and Middle East & 9.63586256427789             & 1.32503150911653            \\\\\n",
       "\t12 & death            & South Asia       & 11.444711205292  & 1.26301539706411\\\\\n",
       "\t13 & death                                 & Southeast Asia, East Asia and Oceania & 9.80633464149911                      & 0.613785215382705                    \\\\\n",
       "\t14 & death               & Sub-Saharian Africa & 7.47074031266474    & 1.42484248873917   \\\\\n",
       "\t15 & yld                                              & Central Europe, Eastern Europe, and Central Asia & 7.11547433245897                                 & 0.616884249970013                               \\\\\n",
       "\t16 & yld               & High-income       & 7.0708849504915   & 0.402194812080424\\\\\n",
       "\t17 & yld                         & Latin America and Caribbean & 3.73141412680833            & 0.826968094599863          \\\\\n",
       "\t18 & yld                          & North Africa and Middle East & 6.18063172528117             & 0.964996019518679           \\\\\n",
       "\t19 & yld              & South Asia       & 5.15160738791978 & 1.41224665210612\\\\\n",
       "\t20 & yld                                   & Southeast Asia, East Asia and Oceania & 6.22216438537055                      & 0.770991084028012                    \\\\\n",
       "\t21 & yld                 & Sub-Saharian Africa & 3.09407142182695    & 1.44476407491931   \\\\\n",
       "\t22 & yll                                              & Central Europe, Eastern Europe, and Central Asia & 17.0762222147661                                 & 0.260814567550838                               \\\\\n",
       "\t23 & yll              & High-income      & 12.5297370149571 & 1.32296061728127\\\\\n",
       "\t24 & yll                         & Latin America and Caribbean & 20.5024751607031            & 1.26587724614045           \\\\\n",
       "\t25 & yll                          & North Africa and Middle East & 13.3777555825167             & 1.53915644631607            \\\\\n",
       "\t26 & yll              & South Asia       & 13.2294618561729 & 1.40958828891362\\\\\n",
       "\t27 & yll                                   & Southeast Asia, East Asia and Oceania & 15.3583586953629                      & 0.940901410564933                    \\\\\n",
       "\t28 & yll                 & Sub-Saharian Africa & 7.43176268238633    & 1.56103893792361   \\\\\n",
       "\\end{tabular}\n"
      ],
      "text/plain": [
       "    metr                                           Region  Prop_inj\n",
       "1   daly Central Europe, Eastern Europe, and Central Asia 14.139041\n",
       "2   daly                                      High-income  9.953742\n",
       "3   daly                      Latin America and Caribbean 14.117654\n",
       "4   daly                     North Africa and Middle East 10.613045\n",
       "5   daly                                       South Asia 11.228823\n",
       "6   daly            Southeast Asia, East Asia and Oceania 12.174321\n",
       "7   daly                              Sub-Saharian Africa  6.779870\n",
       "8  death Central Europe, Eastern Europe, and Central Asia  9.740967\n",
       "9  death                                      High-income  6.454214\n",
       "10 death                      Latin America and Caribbean 13.178593\n",
       "11 death                     North Africa and Middle East  9.635863\n",
       "12 death                                       South Asia 11.444711\n",
       "13 death            Southeast Asia, East Asia and Oceania  9.806335\n",
       "14 death                              Sub-Saharian Africa  7.470740\n",
       "15   yld Central Europe, Eastern Europe, and Central Asia  7.115474\n",
       "16   yld                                      High-income  7.070885\n",
       "17   yld                      Latin America and Caribbean  3.731414\n",
       "18   yld                     North Africa and Middle East  6.180632\n",
       "19   yld                                       South Asia  5.151607\n",
       "20   yld            Southeast Asia, East Asia and Oceania  6.222164\n",
       "21   yld                              Sub-Saharian Africa  3.094071\n",
       "22   yll Central Europe, Eastern Europe, and Central Asia 17.076222\n",
       "23   yll                                      High-income 12.529737\n",
       "24   yll                      Latin America and Caribbean 20.502475\n",
       "25   yll                     North Africa and Middle East 13.377756\n",
       "26   yll                                       South Asia 13.229462\n",
       "27   yll            Southeast Asia, East Asia and Oceania 15.358359\n",
       "28   yll                              Sub-Saharian Africa  7.431763\n",
       "   Prop_excl_dis\n",
       "1      0.3743995\n",
       "2      0.8745466\n",
       "3      1.0785740\n",
       "4      1.3076612\n",
       "5      1.4102916\n",
       "6      0.8776721\n",
       "7      1.5428734\n",
       "8      0.1420245\n",
       "9      0.9932913\n",
       "10     1.0431560\n",
       "11     1.3250315\n",
       "12     1.2630154\n",
       "13     0.6137852\n",
       "14     1.4248425\n",
       "15     0.6168842\n",
       "16     0.4021948\n",
       "17     0.8269681\n",
       "18     0.9649960\n",
       "19     1.4122467\n",
       "20     0.7709911\n",
       "21     1.4447641\n",
       "22     0.2608146\n",
       "23     1.3229606\n",
       "24     1.2658772\n",
       "25     1.5391564\n",
       "26     1.4095883\n",
       "27     0.9409014\n",
       "28     1.5610389"
      ]
     },
     "metadata": {},
     "output_type": "display_data"
    }
   ],
   "source": [
    "dg[,c(1,2,6,7)]"
   ]
  },
  {
   "cell_type": "code",
   "execution_count": 36,
   "metadata": {
    "collapsed": true
   },
   "outputs": [],
   "source": [
    "#Worldwide:\n",
    "dg <- GBD[,list(lapply(.SD,sum),\n",
    "                lapply(.SD[Disease!=\"Injuries\",],sum),\n",
    "                lapply(.SD[cats27==TRUE,],sum)),.SDcols=c(\"burden\"),by=c(\"metr\")]"
   ]
  },
  {
   "cell_type": "code",
   "execution_count": 37,
   "metadata": {
    "collapsed": true
   },
   "outputs": [],
   "source": [
    "#Part of injuries among total burden per metric\n",
    "dg$Prop_inj <- 100 - 100*as.numeric(dg$V2)/as.numeric(dg$V1)\n",
    "#Part of excluded diseases among total burden of diseases per metric\n",
    "dg$Prop_excl_dis <- 100 - 100*as.numeric(dg$V3)/as.numeric(dg$V2)"
   ]
  },
  {
   "cell_type": "code",
   "execution_count": 41,
   "metadata": {
    "collapsed": false,
    "scrolled": false
   },
   "outputs": [
    {
     "data": {
      "text/html": [
       "<table>\n",
       "<thead><tr><th></th><th scope=col>metr</th><th scope=col>Prop_inj</th><th scope=col>Prop_excl_dis</th></tr></thead>\n",
       "<tbody>\n",
       "\t<tr><th scope=row>1</th><td>daly            </td><td>10.5730779448206</td><td>1.18506603297897</td></tr>\n",
       "\t<tr><th scope=row>2</th><td>death            </td><td>9.40952379404409 </td><td>0.967403128886815</td></tr>\n",
       "\t<tr><th scope=row>3</th><td>yld              </td><td>5.60138476935332 </td><td>0.955603452962151</td></tr>\n",
       "\t<tr><th scope=row>4</th><td>yll             </td><td>12.5623477994155</td><td>1.2841882674719 </td></tr>\n",
       "</tbody>\n",
       "</table>\n"
      ],
      "text/latex": [
       "\\begin{tabular}{r|lll}\n",
       "  & metr & Prop\\_inj & Prop\\_excl\\_dis\\\\\n",
       "\\hline\n",
       "\t1 & daly             & 10.5730779448206 & 1.18506603297897\\\\\n",
       "\t2 & death             & 9.40952379404409  & 0.967403128886815\\\\\n",
       "\t3 & yld               & 5.60138476935332  & 0.955603452962151\\\\\n",
       "\t4 & yll              & 12.5623477994155 & 1.2841882674719 \\\\\n",
       "\\end{tabular}\n"
      ],
      "text/plain": [
       "   metr  Prop_inj Prop_excl_dis\n",
       "1  daly 10.573078     1.1850660\n",
       "2 death  9.409524     0.9674031\n",
       "3   yld  5.601385     0.9556035\n",
       "4   yll 12.562348     1.2841883"
      ]
     },
     "metadata": {},
     "output_type": "display_data"
    }
   ],
   "source": [
    "dg[,c(1,5,6)]"
   ]
  },
  {
   "cell_type": "code",
   "execution_count": null,
   "metadata": {
    "collapsed": true
   },
   "outputs": [],
   "source": []
  },
  {
   "cell_type": "code",
   "execution_count": 20,
   "metadata": {
    "collapsed": true
   },
   "outputs": [],
   "source": [
    "write.table(M,\"Mapping_Cancer/Tables/GBD_data_per_region_and_27_diseases_2005.txt\")"
   ]
  },
  {
   "cell_type": "code",
   "execution_count": null,
   "metadata": {
    "collapsed": true
   },
   "outputs": [],
   "source": []
  }
 ],
 "metadata": {
  "kernelspec": {
   "display_name": "R",
   "language": "R",
   "name": "ir"
  },
  "language_info": {
   "codemirror_mode": "r",
   "file_extension": ".r",
   "mimetype": "text/x-r-source",
   "name": "R",
   "pygments_lexer": "r",
   "version": "3.3.1"
  }
 },
 "nbformat": 4,
 "nbformat_minor": 1
}
