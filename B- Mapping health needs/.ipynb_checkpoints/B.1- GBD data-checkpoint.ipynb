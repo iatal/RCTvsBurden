{
 "cells": [
  {
   "cell_type": "code",
   "execution_count": 1,
   "metadata": {
    "collapsed": false
   },
   "outputs": [
    {
     "name": "stderr",
     "output_type": "stream",
     "text": [
      "Loading required package: iterators\n",
      "Loading required package: parallel\n"
     ]
    },
    {
     "data": {
      "text/plain": [
       "        user       system      elapsed \n",
       "0.0538166667 0.0004833333 3.0323000000 "
      ]
     },
     "metadata": {},
     "output_type": "display_data"
    }
   ],
   "source": [
    "#On va mettre dans une base de données, pour chaque région, les share across 28 maladies du burden et des essais\n",
    "\n",
    "#1- On fait matrice burden par catégorie\n",
    "#################################################################################\n",
    "library(foreach)\n",
    "library(doParallel)\n",
    "\n",
    "#GBD 2005\n",
    "#Data as downloaded from GBD 2010 study, not included in the repository\n",
    "gbds <- list.files('/media/igna/Elements/HotelDieu/Cochrane/GBD 2010/GBD_2005_2010_by_cause_country_level_GBD2010/2005')\n",
    "gbds <- gbds[grep('csv',gbds,ignore.case=TRUE)]\n",
    "\n",
    "cl<-makeCluster(4)\n",
    "registerDoParallel(cl)\n",
    "\n",
    "t0 <- proc.time()\n",
    "A <- foreach(k = gbds) %dopar% {\n",
    "Mcause <- read.csv(paste('/media/igna/Elements/HotelDieu/Cochrane/GBD 2010/GBD_2005_2010_by_cause_country_level_GBD2010/2005/',k,sep=\"\"))\n",
    "#Restriction aux données: toutes les ages, tous les sexes, toutes les metriques (dalys, morts, yll, yld), nombre total (sans intervalle de confiance),nb par mill inhab\n",
    "Mcause[Mcause$age_name=='All ages' & Mcause$sex=='Both sexes',c(1:8,11,12,18)]\n",
    "}\n",
    "\n",
    "stopCluster(cl)\n",
    "\n",
    "DT <- do.call('rbind',A)\n",
    "\n",
    "(proc.time()-t0)/60\n",
    "#1.5min"
   ]
  },
  {
   "cell_type": "code",
   "execution_count": 15,
   "metadata": {
    "collapsed": false,
    "scrolled": true
   },
   "outputs": [
    {
     "data": {
      "text/plain": [
       "\n",
       " FALSE \n",
       "177408 "
      ]
     },
     "metadata": {},
     "output_type": "display_data"
    },
    {
     "data": {
      "text/plain": [
       "\n",
       " FALSE \n",
       "177408 "
      ]
     },
     "metadata": {},
     "output_type": "display_data"
    }
   ],
   "source": [
    "table(is.na(DT$causelevel4))\n",
    "table(DT$causelevel4==\"\")"
   ]
  },
  {
   "cell_type": "markdown",
   "metadata": {},
   "source": [
    "Burden is evaluated at least at level 4"
   ]
  },
  {
   "cell_type": "code",
   "execution_count": 16,
   "metadata": {
    "collapsed": false
   },
   "outputs": [],
   "source": [
    "dis4 <- unique(paste(DT$causelevel3,DT$causelevel4))\n",
    "#diseases evaluated at level 4\n",
    "isn <- dis4%in%paste(DT$causelevel3,DT$causelevel4)[is.na(DT$causelevel5) | DT$causelevel5==\"\"]\n",
    "table(isn)"
   ]
  },
  {
   "cell_type": "markdown",
   "metadata": {},
   "source": [
    "All diseases are evaluated at level 4, and in the 27-class grouping there is no need of level 5, so we suppress it"
   ]
  },
  {
   "cell_type": "code",
   "execution_count": 20,
   "metadata": {
    "collapsed": true
   },
   "outputs": [],
   "source": [
    "DT$causelevel5[is.na(DT$causelevel5)] <- \"\"\n",
    "DT <- DT[DT$causelevel5==\"\",]"
   ]
  },
  {
   "cell_type": "code",
   "execution_count": 21,
   "metadata": {
    "collapsed": true
   },
   "outputs": [],
   "source": [
    "#Taxonomie à 27 catégories\n",
    "Mgbd <- read.table(\"../Data/27_gbd_groups.txt\")"
   ]
  },
  {
   "cell_type": "code",
   "execution_count": 25,
   "metadata": {
    "collapsed": false
   },
   "outputs": [
    {
     "data": {
      "text/plain": [
       "\n",
       " FALSE \n",
       "106756 "
      ]
     },
     "metadata": {},
     "output_type": "display_data"
    }
   ],
   "source": [
    "table(is.na(DT$causelevel4))"
   ]
  },
  {
   "cell_type": "code",
   "execution_count": 26,
   "metadata": {
    "collapsed": false
   },
   "outputs": [
    {
     "data": {
      "text/plain": [
       "\n",
       "FALSE  TRUE \n",
       "   14    13 "
      ]
     },
     "metadata": {},
     "output_type": "display_data"
    }
   ],
   "source": [
    "#We add diseases evaluated at level 4\n",
    "dt <- DT[DT$causelevel4%in%as.character(Mgbd$x),]\n",
    "\n",
    "#List of diseases added\n",
    "ML <- dt[!duplicated(paste(dt$causelevel1,dt$causelevel2,dt$causelevel3,dt$causelevel4)),]\n",
    "\n",
    "table(Mgbd$x%in%c(as.character(dt$causelevel4)))\n",
    "#FALSE  TRUE \n",
    "#   15    13 "
   ]
  },
  {
   "cell_type": "code",
   "execution_count": 28,
   "metadata": {
    "collapsed": false
   },
   "outputs": [
    {
     "data": {
      "text/html": [
       "<ol class=list-inline>\n",
       "\t<li>Diarrhea, lower respiratory infections, meningitis, and other common infectious diseases</li>\n",
       "\t<li>Neglected tropical diseases excluding malaria</li>\n",
       "\t<li>Maternal disorders</li>\n",
       "\t<li>Neonatal disorders</li>\n",
       "\t<li>Nutritional deficiencies</li>\n",
       "\t<li>Neoplasms</li>\n",
       "\t<li>Cardiovascular and circulatory diseases</li>\n",
       "\t<li>Chronic respiratory diseases</li>\n",
       "\t<li>Cirrhosis of the liver</li>\n",
       "\t<li>Digestive diseases (except cirrhosis)</li>\n",
       "\t<li>Neurological disorders</li>\n",
       "\t<li>Mental and behavioral disorders</li>\n",
       "\t<li>Diabetes, urinary diseases and male infertility</li>\n",
       "\t<li>Musculoskeletal disorders</li>\n",
       "</ol>\n"
      ],
      "text/latex": [
       "\\begin{enumerate*}\n",
       "\\item Diarrhea, lower respiratory infections, meningitis, and other common infectious diseases\n",
       "\\item Neglected tropical diseases excluding malaria\n",
       "\\item Maternal disorders\n",
       "\\item Neonatal disorders\n",
       "\\item Nutritional deficiencies\n",
       "\\item Neoplasms\n",
       "\\item Cardiovascular and circulatory diseases\n",
       "\\item Chronic respiratory diseases\n",
       "\\item Cirrhosis of the liver\n",
       "\\item Digestive diseases (except cirrhosis)\n",
       "\\item Neurological disorders\n",
       "\\item Mental and behavioral disorders\n",
       "\\item Diabetes, urinary diseases and male infertility\n",
       "\\item Musculoskeletal disorders\n",
       "\\end{enumerate*}\n"
      ],
      "text/markdown": [
       "1. Diarrhea, lower respiratory infections, meningitis, and other common infectious diseases\n",
       "2. Neglected tropical diseases excluding malaria\n",
       "3. Maternal disorders\n",
       "4. Neonatal disorders\n",
       "5. Nutritional deficiencies\n",
       "6. Neoplasms\n",
       "7. Cardiovascular and circulatory diseases\n",
       "8. Chronic respiratory diseases\n",
       "9. Cirrhosis of the liver\n",
       "10. Digestive diseases (except cirrhosis)\n",
       "11. Neurological disorders\n",
       "12. Mental and behavioral disorders\n",
       "13. Diabetes, urinary diseases and male infertility\n",
       "14. Musculoskeletal disorders\n",
       "\n",
       "\n"
      ],
      "text/plain": [
       " [1] Diarrhea, lower respiratory infections, meningitis, and other common infectious diseases\n",
       " [2] Neglected tropical diseases excluding malaria                                           \n",
       " [3] Maternal disorders                                                                      \n",
       " [4] Neonatal disorders                                                                      \n",
       " [5] Nutritional deficiencies                                                                \n",
       " [6] Neoplasms                                                                               \n",
       " [7] Cardiovascular and circulatory diseases                                                 \n",
       " [8] Chronic respiratory diseases                                                            \n",
       " [9] Cirrhosis of the liver                                                                  \n",
       "[10] Digestive diseases (except cirrhosis)                                                   \n",
       "[11] Neurological disorders                                                                  \n",
       "[12] Mental and behavioral disorders                                                         \n",
       "[13] Diabetes, urinary diseases and male infertility                                         \n",
       "[14] Musculoskeletal disorders                                                               \n",
       "27 Levels: Cardiovascular and circulatory diseases ..."
      ]
     },
     "metadata": {},
     "output_type": "display_data"
    }
   ],
   "source": [
    "#We have to do manually for the others\n",
    "Mgbd$x[!Mgbd$x%in%c(as.character(dt$causelevel4))]"
   ]
  },
  {
   "cell_type": "code",
   "execution_count": 29,
   "metadata": {
    "collapsed": false,
    "scrolled": true
   },
   "outputs": [],
   "source": [
    "#Maternal disorders\n",
    "Aj <- DT[DT$causelevel3%in%c(\"Maternal disorders\"),]\n",
    "Mttp <- Aj[!duplicated(paste(Aj$country_name,Aj$measure)),]\n",
    "Mttp <- Mttp[order(paste(Mttp$country_name,Mttp$measure)),]\n",
    "Mttp$nm_mean <- tapply(Aj$nm_mean,paste(Aj$country_name,Aj$measure),sum)\n",
    "Mttp$rt_mean <- tapply(Aj$rt_mean,paste(Aj$country_name,Aj$measure),sum)\n",
    "Mttp$causelevel4 <- \"\"\n",
    "dt <- rbind(dt,Mttp)\n",
    "ML <- rbind(ML,Aj[!duplicated(paste(Aj$causelevel1,Aj$causelevel2,Aj$causelevel3,Aj$causelevel4)),])\n",
    "\n"
   ]
  },
  {
   "cell_type": "code",
   "execution_count": 31,
   "metadata": {
    "collapsed": false
   },
   "outputs": [],
   "source": [
    "#Neonatal disorders\n",
    "Aj <- DT[DT$causelevel3%in%c(\"Neonatal disorders\"),]\n",
    "Mttp <- Aj[!duplicated(paste(Aj$country_name,Aj$measure)),]\n",
    "Mttp <- Mttp[order(paste(Mttp$country_name,Mttp$measure)),]\n",
    "Mttp$nm_mean <- tapply(Aj$nm_mean,paste(Aj$country_name,Aj$measure),sum)\n",
    "Mttp$rt_mean <- tapply(Aj$rt_mean,paste(Aj$country_name,Aj$measure),sum)\n",
    "Mttp$causelevel4 <- \"\"\n",
    "dt <- rbind(dt,Mttp)\n",
    "ML <- rbind(ML,Aj[!duplicated(paste(Aj$causelevel1,Aj$causelevel2,Aj$causelevel3,Aj$causelevel4)),])"
   ]
  },
  {
   "cell_type": "code",
   "execution_count": 32,
   "metadata": {
    "collapsed": true
   },
   "outputs": [],
   "source": [
    "#Nutritional deficiencies\n",
    "Aj <- DT[DT$causelevel3%in%c(\"Nutritional deficiencies\"),]\n",
    "Mttp <- Aj[!duplicated(paste(Aj$country_name,Aj$measure)),]\n",
    "Mttp <- Mttp[order(paste(Mttp$country_name,Mttp$measure)),]\n",
    "Mttp$nm_mean <- tapply(Aj$nm_mean,paste(Aj$country_name,Aj$measure),sum)\n",
    "Mttp$rt_mean <- tapply(Aj$rt_mean,paste(Aj$country_name,Aj$measure),sum)\n",
    "Mttp$causelevel4 <- \"\"\n",
    "dt <- rbind(dt,Mttp)\n",
    "ML <- rbind(ML,Aj[!duplicated(paste(Aj$causelevel1,Aj$causelevel2,Aj$causelevel3,Aj$causelevel4)),])"
   ]
  },
  {
   "cell_type": "code",
   "execution_count": 33,
   "metadata": {
    "collapsed": true
   },
   "outputs": [],
   "source": [
    "#Neoplasms\n",
    "Aj <- DT[DT$causelevel3%in%c(\"Neoplasms\"),]\n",
    "Mttp <- Aj[!duplicated(paste(Aj$country_name,Aj$measure)),]\n",
    "Mttp <- Mttp[order(paste(Mttp$country_name,Mttp$measure)),]\n",
    "Mttp$nm_mean <- tapply(Aj$nm_mean,paste(Aj$country_name,Aj$measure),sum)\n",
    "Mttp$rt_mean <- tapply(Aj$rt_mean,paste(Aj$country_name,Aj$measure),sum)\n",
    "Mttp$causelevel4 <- \"\"\n",
    "dt <- rbind(dt,Mttp)\n",
    "ML <- rbind(ML,Aj[!duplicated(paste(Aj$causelevel1,Aj$causelevel2,Aj$causelevel3,Aj$causelevel4)),])\n"
   ]
  },
  {
   "cell_type": "code",
   "execution_count": 34,
   "metadata": {
    "collapsed": true
   },
   "outputs": [],
   "source": [
    "#Cardiovascular and circulatory diseases\n",
    "Aj <- DT[DT$causelevel3%in%c(\"Cardiovascular and circulatory diseases\"),]\n",
    "Mttp <- Aj[!duplicated(paste(Aj$country_name,Aj$measure)),]\n",
    "Mttp <- Mttp[order(paste(Mttp$country_name,Mttp$measure)),]\n",
    "Mttp$nm_mean <- tapply(Aj$nm_mean,paste(Aj$country_name,Aj$measure),sum)\n",
    "Mttp$rt_mean <- tapply(Aj$rt_mean,paste(Aj$country_name,Aj$measure),sum)\n",
    "Mttp$causelevel4 <- \"\"\n",
    "dt <- rbind(dt,Mttp)\n",
    "ML <- rbind(ML,Aj[!duplicated(paste(Aj$causelevel1,Aj$causelevel2,Aj$causelevel3,Aj$causelevel4)),])"
   ]
  },
  {
   "cell_type": "code",
   "execution_count": 35,
   "metadata": {
    "collapsed": true
   },
   "outputs": [],
   "source": [
    "#Chronic respiratory diseases\n",
    "Aj <- DT[DT$causelevel3%in%c(\"Chronic respiratory diseases\"),]\n",
    "Mttp <- Aj[!duplicated(paste(Aj$country_name,Aj$measure)),]\n",
    "Mttp <- Mttp[order(paste(Mttp$country_name,Mttp$measure)),]\n",
    "Mttp$nm_mean <- tapply(Aj$nm_mean,paste(Aj$country_name,Aj$measure),sum)\n",
    "Mttp$rt_mean <- tapply(Aj$rt_mean,paste(Aj$country_name,Aj$measure),sum)\n",
    "Mttp$causelevel4 <- \"\"\n",
    "dt <- rbind(dt,Mttp)\n",
    "ML <- rbind(ML,Aj[!duplicated(paste(Aj$causelevel1,Aj$causelevel2,Aj$causelevel3,Aj$causelevel4)),])"
   ]
  },
  {
   "cell_type": "code",
   "execution_count": 36,
   "metadata": {
    "collapsed": true
   },
   "outputs": [],
   "source": [
    "#Cirrhosis of the liver\n",
    "Aj <- DT[DT$causelevel3%in%c(\"Cirrhosis of the liver\"),]\n",
    "Mttp <- Aj[!duplicated(paste(Aj$country_name,Aj$measure)),]\n",
    "Mttp <- Mttp[order(paste(Mttp$country_name,Mttp$measure)),]\n",
    "Mttp$nm_mean <- tapply(Aj$nm_mean,paste(Aj$country_name,Aj$measure),sum)\n",
    "Mttp$rt_mean <- tapply(Aj$rt_mean,paste(Aj$country_name,Aj$measure),sum)\n",
    "Mttp$causelevel4 <- \"\"\n",
    "dt <- rbind(dt,Mttp)\n",
    "ML <- rbind(ML,Aj[!duplicated(paste(Aj$causelevel1,Aj$causelevel2,Aj$causelevel3,Aj$causelevel4)),])"
   ]
  },
  {
   "cell_type": "code",
   "execution_count": 38,
   "metadata": {
    "collapsed": false
   },
   "outputs": [],
   "source": [
    "#Digestive diseases (except cirrhosis)\n",
    "Aj <- DT[DT$causelevel3%in%c(\"Digestive diseases (except cirrhosis)\"),]\n",
    "Mttp <- Aj[!duplicated(paste(Aj$country_name,Aj$measure)),]\n",
    "Mttp <- Mttp[order(paste(Mttp$country_name,Mttp$measure)),]\n",
    "Mttp$nm_mean <- tapply(Aj$nm_mean,paste(Aj$country_name,Aj$measure),sum)\n",
    "Mttp$rt_mean <- tapply(Aj$rt_mean,paste(Aj$country_name,Aj$measure),sum)\n",
    "Mttp$causelevel4 <- \"\"\n",
    "dt <- rbind(dt,Mttp)\n",
    "ML <- rbind(ML,Aj[!duplicated(paste(Aj$causelevel1,Aj$causelevel2,Aj$causelevel3,Aj$causelevel4)),])"
   ]
  },
  {
   "cell_type": "code",
   "execution_count": 39,
   "metadata": {
    "collapsed": true
   },
   "outputs": [],
   "source": [
    "#Neurological disorders\n",
    "Aj <- DT[DT$causelevel3%in%c(\"Neurological disorders\"),]\n",
    "Mttp <- Aj[!duplicated(paste(Aj$country_name,Aj$measure)),]\n",
    "Mttp <- Mttp[order(paste(Mttp$country_name,Mttp$measure)),]\n",
    "Mttp$nm_mean <- tapply(Aj$nm_mean,paste(Aj$country_name,Aj$measure),sum)\n",
    "Mttp$rt_mean <- tapply(Aj$rt_mean,paste(Aj$country_name,Aj$measure),sum)\n",
    "Mttp$causelevel4 <- \"\"\n",
    "dt <- rbind(dt,Mttp)\n",
    "ML <- rbind(ML,Aj[!duplicated(paste(Aj$causelevel1,Aj$causelevel2,Aj$causelevel3,Aj$causelevel4)),])"
   ]
  },
  {
   "cell_type": "code",
   "execution_count": 40,
   "metadata": {
    "collapsed": true
   },
   "outputs": [],
   "source": [
    "#Mental and behavioral disorders\n",
    "Aj <- DT[DT$causelevel3%in%c(\"Mental and behavioral disorders\"),]\n",
    "Mttp <- Aj[!duplicated(paste(Aj$country_name,Aj$measure)),]\n",
    "Mttp <- Mttp[order(paste(Mttp$country_name,Mttp$measure)),]\n",
    "Mttp$nm_mean <- tapply(Aj$nm_mean,paste(Aj$country_name,Aj$measure),sum)\n",
    "Mttp$rt_mean <- tapply(Aj$rt_mean,paste(Aj$country_name,Aj$measure),sum)\n",
    "Mttp$causelevel4 <- \"\"\n",
    "dt <- rbind(dt,Mttp)\n",
    "ML <- rbind(ML,Aj[!duplicated(paste(Aj$causelevel1,Aj$causelevel2,Aj$causelevel3,Aj$causelevel4)),])"
   ]
  },
  {
   "cell_type": "code",
   "execution_count": 41,
   "metadata": {
    "collapsed": true
   },
   "outputs": [],
   "source": [
    "#Musculoskeletal disorders\n",
    "Aj <- DT[DT$causelevel3%in%c(\"Musculoskeletal disorders\"),]\n",
    "Mttp <- Aj[!duplicated(paste(Aj$country_name,Aj$measure)),]\n",
    "Mttp <- Mttp[order(paste(Mttp$country_name,Mttp$measure)),]\n",
    "Mttp$nm_mean <- tapply(Aj$nm_mean,paste(Aj$country_name,Aj$measure),sum)\n",
    "Mttp$rt_mean <- tapply(Aj$rt_mean,paste(Aj$country_name,Aj$measure),sum)\n",
    "Mttp$causelevel4 <- \"\"\n",
    "dt <- rbind(dt,Mttp)\n",
    "ML <- rbind(ML,Aj[!duplicated(paste(Aj$causelevel1,Aj$causelevel2,Aj$causelevel3,Aj$causelevel4)),])"
   ]
  },
  {
   "cell_type": "code",
   "execution_count": 42,
   "metadata": {
    "collapsed": true
   },
   "outputs": [],
   "source": [
    "#Diarrhea, lower respiratory infections, meningitis, and other common infectious diseases\n",
    "Aj <- DT[DT$causelevel3%in%c(\"Diarrhea, lower respiratory infections, meningitis, and other common infectious diseases\"),]\n",
    "Mttp <- Aj[!duplicated(paste(Aj$country_name,Aj$measure)),]\n",
    "Mttp <- Mttp[order(paste(Mttp$country_name,Mttp$measure)),]\n",
    "Mttp$nm_mean <- tapply(Aj$nm_mean,paste(Aj$country_name,Aj$measure),sum)\n",
    "Mttp$rt_mean <- tapply(Aj$rt_mean,paste(Aj$country_name,Aj$measure),sum)\n",
    "Mttp$causelevel4 <- \"\"\n",
    "dt <- rbind(dt,Mttp)\n",
    "ML <- rbind(ML,Aj[!duplicated(paste(Aj$causelevel1,Aj$causelevel2,Aj$causelevel3,Aj$causelevel4)),])"
   ]
  },
  {
   "cell_type": "code",
   "execution_count": 43,
   "metadata": {
    "collapsed": true
   },
   "outputs": [],
   "source": [
    "#Neglected tropical diseases excluding malaria\n",
    "Aj <- DT[DT$causelevel3%in%c(\"Neglected tropical diseases and malaria\") & !DT$causelevel4%in%c(\"Malaria\"),]\n",
    "Mttp <- Aj[!duplicated(paste(Aj$country_name,Aj$measure)),]\n",
    "Mttp <- Mttp[order(paste(Mttp$country_name,Mttp$measure)),]\n",
    "Mttp$nm_mean <- tapply(Aj$nm_mean,paste(Aj$country_name,Aj$measure),sum)\n",
    "Mttp$rt_mean <- tapply(Aj$rt_mean,paste(Aj$country_name,Aj$measure),sum)\n",
    "Mttp$causelevel4 <- \"Neglected tropical diseases excluding malaria\"\n",
    "dt <- rbind(dt,Mttp)\n",
    "ML <- rbind(ML,Aj[!duplicated(paste(Aj$causelevel1,Aj$causelevel2,Aj$causelevel3,Aj$causelevel4)),])"
   ]
  },
  {
   "cell_type": "code",
   "execution_count": 44,
   "metadata": {
    "collapsed": true
   },
   "outputs": [],
   "source": [
    "#Diabetes, urinary diseases and male infertility\n",
    "Aj <- DT[DT$causelevel4%in%c(\"Diabetes mellitus\",\"Acute glomerulonephritis\",\"Urinary diseases and male infertility\",\"Chronic kidney diseases\"),]\n",
    "Mttp <- Aj[!duplicated(paste(Aj$country_name,Aj$measure)),]\n",
    "Mttp <- Mttp[order(paste(Mttp$country_name,Mttp$measure)),]\n",
    "Mttp$nm_mean <- tapply(Aj$nm_mean,paste(Aj$country_name,Aj$measure),sum)\n",
    "Mttp$rt_mean <- tapply(Aj$rt_mean,paste(Aj$country_name,Aj$measure),sum)\n",
    "Mttp$causelevel4 <- \"Diabetes, urinary diseases and male infertility\"\n",
    "dt <- rbind(dt,Mttp)\n",
    "ML <- rbind(ML,Aj[!duplicated(paste(Aj$causelevel1,Aj$causelevel2,Aj$causelevel3,Aj$causelevel4)),])"
   ]
  },
  {
   "cell_type": "code",
   "execution_count": 46,
   "metadata": {
    "collapsed": false
   },
   "outputs": [
    {
     "data": {
      "text/plain": [
       "\n",
       "TRUE \n",
       "  27 "
      ]
     },
     "metadata": {},
     "output_type": "display_data"
    },
    {
     "data": {
      "text/plain": [
       "\n",
       "FALSE \n",
       "   27 "
      ]
     },
     "metadata": {},
     "output_type": "display_data"
    },
    {
     "data": {
      "text/html": [
       "27"
      ],
      "text/latex": [
       "27"
      ],
      "text/markdown": [
       "27"
      ],
      "text/plain": [
       "[1] 27"
      ]
     },
     "metadata": {},
     "output_type": "display_data"
    }
   ],
   "source": [
    "table(Mgbd$x%in%c(as.character(dt$causelevel2[dt$causelevel3==\"\"]),as.character(dt$causelevel3[dt$causelevel4==\"\"]),as.character(dt$causelevel4[dt$causelevel5==\"\"])))\n",
    "table(Mgbd$x%in%c(as.character(dt$causelevel2[dt$causelevel3!=\"\"]),as.character(dt$causelevel3[dt$causelevel4!=\"\"]),as.character(dt$causelevel4[dt$causelevel5!=\"\"])))\n",
    "U <- unique(paste(dt$causelevel1,dt$causelevel2,dt$causelevel3,dt$causelevel4,dt$causelevel5))\n",
    "length(U)"
   ]
  },
  {
   "cell_type": "markdown",
   "metadata": {},
   "source": [
    "Ok, we have the 27 groups of diseases"
   ]
  },
  {
   "cell_type": "code",
   "execution_count": 50,
   "metadata": {
    "collapsed": false
   },
   "outputs": [
    {
     "data": {
      "text/plain": [
       "\n",
       "FALSE  TRUE \n",
       "   16   139 "
      ]
     },
     "metadata": {},
     "output_type": "display_data"
    },
    {
     "data": {
      "text/html": [
       "<ol class=list-inline>\n",
       "\t<li>'Diabetes, urogenital, blood, and endocrine diseases Other endocrine, nutritional, blood, and immune disorders'</li>\n",
       "\t<li>'Forces of nature, war, and legal intervention Collective violence and legal intervention'</li>\n",
       "\t<li>'Forces of nature, war, and legal intervention Exposure to forces of nature'</li>\n",
       "\t<li>'Other communicable, maternal, neonatal, and nutritional disorders Other infectious diseases'</li>\n",
       "\t<li>'Self-harm and interpersonal violence Interpersonal violence'</li>\n",
       "\t<li>'Self-harm and interpersonal violence Self-harm'</li>\n",
       "\t<li>'Transport injuries Other transport injury'</li>\n",
       "\t<li>'Transport injuries Road injury'</li>\n",
       "\t<li>'Unintentional injuries other than transport injuries Adverse effects of medical treatment'</li>\n",
       "\t<li>'Unintentional injuries other than transport injuries Animal contact'</li>\n",
       "\t<li>'Unintentional injuries other than transport injuries Drowning'</li>\n",
       "\t<li>'Unintentional injuries other than transport injuries Exposure to mechanical forces'</li>\n",
       "\t<li>'Unintentional injuries other than transport injuries Falls'</li>\n",
       "\t<li>'Unintentional injuries other than transport injuries Fire, heat and hot substances'</li>\n",
       "\t<li>'Unintentional injuries other than transport injuries Poisonings'</li>\n",
       "\t<li>'Unintentional injuries other than transport injuries Unintentional injuries not classified elsewhere'</li>\n",
       "</ol>\n"
      ],
      "text/latex": [
       "\\begin{enumerate*}\n",
       "\\item 'Diabetes, urogenital, blood, and endocrine diseases Other endocrine, nutritional, blood, and immune disorders'\n",
       "\\item 'Forces of nature, war, and legal intervention Collective violence and legal intervention'\n",
       "\\item 'Forces of nature, war, and legal intervention Exposure to forces of nature'\n",
       "\\item 'Other communicable, maternal, neonatal, and nutritional disorders Other infectious diseases'\n",
       "\\item 'Self-harm and interpersonal violence Interpersonal violence'\n",
       "\\item 'Self-harm and interpersonal violence Self-harm'\n",
       "\\item 'Transport injuries Other transport injury'\n",
       "\\item 'Transport injuries Road injury'\n",
       "\\item 'Unintentional injuries other than transport injuries Adverse effects of medical treatment'\n",
       "\\item 'Unintentional injuries other than transport injuries Animal contact'\n",
       "\\item 'Unintentional injuries other than transport injuries Drowning'\n",
       "\\item 'Unintentional injuries other than transport injuries Exposure to mechanical forces'\n",
       "\\item 'Unintentional injuries other than transport injuries Falls'\n",
       "\\item 'Unintentional injuries other than transport injuries Fire, heat and hot substances'\n",
       "\\item 'Unintentional injuries other than transport injuries Poisonings'\n",
       "\\item 'Unintentional injuries other than transport injuries Unintentional injuries not classified elsewhere'\n",
       "\\end{enumerate*}\n"
      ],
      "text/markdown": [
       "1. 'Diabetes, urogenital, blood, and endocrine diseases Other endocrine, nutritional, blood, and immune disorders'\n",
       "2. 'Forces of nature, war, and legal intervention Collective violence and legal intervention'\n",
       "3. 'Forces of nature, war, and legal intervention Exposure to forces of nature'\n",
       "4. 'Other communicable, maternal, neonatal, and nutritional disorders Other infectious diseases'\n",
       "5. 'Self-harm and interpersonal violence Interpersonal violence'\n",
       "6. 'Self-harm and interpersonal violence Self-harm'\n",
       "7. 'Transport injuries Other transport injury'\n",
       "8. 'Transport injuries Road injury'\n",
       "9. 'Unintentional injuries other than transport injuries Adverse effects of medical treatment'\n",
       "10. 'Unintentional injuries other than transport injuries Animal contact'\n",
       "11. 'Unintentional injuries other than transport injuries Drowning'\n",
       "12. 'Unintentional injuries other than transport injuries Exposure to mechanical forces'\n",
       "13. 'Unintentional injuries other than transport injuries Falls'\n",
       "14. 'Unintentional injuries other than transport injuries Fire, heat and hot substances'\n",
       "15. 'Unintentional injuries other than transport injuries Poisonings'\n",
       "16. 'Unintentional injuries other than transport injuries Unintentional injuries not classified elsewhere'\n",
       "\n",
       "\n"
      ],
      "text/plain": [
       " [1] \"Diabetes, urogenital, blood, and endocrine diseases Other endocrine, nutritional, blood, and immune disorders\"\n",
       " [2] \"Forces of nature, war, and legal intervention Collective violence and legal intervention\"                     \n",
       " [3] \"Forces of nature, war, and legal intervention Exposure to forces of nature\"                                   \n",
       " [4] \"Other communicable, maternal, neonatal, and nutritional disorders Other infectious diseases\"                  \n",
       " [5] \"Self-harm and interpersonal violence Interpersonal violence\"                                                  \n",
       " [6] \"Self-harm and interpersonal violence Self-harm\"                                                               \n",
       " [7] \"Transport injuries Other transport injury\"                                                                    \n",
       " [8] \"Transport injuries Road injury\"                                                                               \n",
       " [9] \"Unintentional injuries other than transport injuries Adverse effects of medical treatment\"                    \n",
       "[10] \"Unintentional injuries other than transport injuries Animal contact\"                                          \n",
       "[11] \"Unintentional injuries other than transport injuries Drowning\"                                                \n",
       "[12] \"Unintentional injuries other than transport injuries Exposure to mechanical forces\"                           \n",
       "[13] \"Unintentional injuries other than transport injuries Falls\"                                                   \n",
       "[14] \"Unintentional injuries other than transport injuries Fire, heat and hot substances\"                           \n",
       "[15] \"Unintentional injuries other than transport injuries Poisonings\"                                              \n",
       "[16] \"Unintentional injuries other than transport injuries Unintentional injuries not classified elsewhere\"         "
      ]
     },
     "metadata": {},
     "output_type": "display_data"
    }
   ],
   "source": [
    "#Diseases not included\n",
    "table(dis4%in%paste(ML$causelevel3,ML$causelevel4))\n",
    "sort(dis4[!dis4%in%paste(ML$causelevel3,ML$causelevel4)])"
   ]
  },
  {
   "cell_type": "markdown",
   "metadata": {},
   "source": [
    "Not included in the 27-class grouping: \n",
    "* Injuries\n",
    "* Other endocrine, nutritional, blood, and immune disorders\n",
    "* Other infectious diseases\n",
    "\n",
    "These two residual categories are in particular excluded because they are not included in the arrival space of the classifier, because too complicated"
   ]
  },
  {
   "cell_type": "code",
   "execution_count": 53,
   "metadata": {
    "collapsed": false
   },
   "outputs": [],
   "source": [
    "#We add excluded categories to dt to evaluate what amount of burden we are excluding\n",
    "dt$cats27 <- TRUE"
   ]
  },
  {
   "cell_type": "code",
   "execution_count": 54,
   "metadata": {
    "collapsed": true
   },
   "outputs": [],
   "source": [
    "#Injuries\n",
    "Aj <- DT[DT$causelevel2%in%c(\"Injuries\"),]\n",
    "Mttp <- Aj[!duplicated(paste(Aj$country_name,Aj$measure)),]\n",
    "Mttp <- Mttp[order(paste(Mttp$country_name,Mttp$measure)),]\n",
    "Mttp$nm_mean <- tapply(Aj$nm_mean,paste(Aj$country_name,Aj$measure),sum)\n",
    "Mttp$rt_mean <- tapply(Aj$rt_mean,paste(Aj$country_name,Aj$measure),sum)\n",
    "Mttp$causelevel4 <- \"\"\n",
    "Mttp$causelevel3 <- \"\"\n",
    "Mttp$cats27 <- FALSE\n",
    "dt <- rbind(dt,Mttp)\n",
    "ML <- rbind(ML,Aj[!duplicated(paste(Aj$causelevel1,Aj$causelevel2,Aj$causelevel3,Aj$causelevel4)),])"
   ]
  },
  {
   "cell_type": "code",
   "execution_count": 55,
   "metadata": {
    "collapsed": true
   },
   "outputs": [],
   "source": [
    "#Residual categories\n",
    "Aj <- DT[DT$causelevel4%in%c(\"Other endocrine, nutritional, blood, and immune disorders\",\"Other infectious diseases\"),]\n",
    "Mttp <- Aj[!duplicated(paste(Aj$country_name,Aj$measure)),]\n",
    "Mttp <- Mttp[order(paste(Mttp$country_name,Mttp$measure)),]\n",
    "Mttp$nm_mean <- tapply(Aj$nm_mean,paste(Aj$country_name,Aj$measure),sum)\n",
    "Mttp$rt_mean <- tapply(Aj$rt_mean,paste(Aj$country_name,Aj$measure),sum)\n",
    "Mttp$causelevel4 <- \"Excluded residual categories\"\n",
    "Mttp$cats27 <- FALSE\n",
    "dt <- rbind(dt,Mttp)\n",
    "ML <- rbind(ML,Aj[!duplicated(paste(Aj$causelevel1,Aj$causelevel2,Aj$causelevel3,Aj$causelevel4)),])"
   ]
  },
  {
   "cell_type": "code",
   "execution_count": 56,
   "metadata": {
    "collapsed": false
   },
   "outputs": [
    {
     "data": {
      "text/plain": [
       "\n",
       "TRUE \n",
       " 155 "
      ]
     },
     "metadata": {},
     "output_type": "display_data"
    }
   ],
   "source": [
    "table(dis4%in%paste(ML$causelevel3,ML$causelevel4))"
   ]
  },
  {
   "cell_type": "markdown",
   "metadata": {},
   "source": [
    "Ok, we included all the burden"
   ]
  },
  {
   "cell_type": "code",
   "execution_count": 57,
   "metadata": {
    "collapsed": true
   },
   "outputs": [],
   "source": [
    "#We include variable Diseases = last causelevel without \"\"\n",
    "dt$Disease <- as.character(dt$causelevel4)\n",
    "dt$Disease[dt$Disease==\"\"] <- as.character(dt$causelevel3[dt$Disease==\"\"])\n",
    "dt$Disease[dt$Disease==\"\"] <- as.character(dt$causelevel2[dt$Disease==\"\"])"
   ]
  },
  {
   "cell_type": "code",
   "execution_count": 58,
   "metadata": {
    "collapsed": false,
    "scrolled": true
   },
   "outputs": [
    {
     "data": {
      "text/plain": [
       "\n",
       "FALSE  TRUE \n",
       " 1496 19416 "
      ]
     },
     "metadata": {},
     "output_type": "display_data"
    },
    {
     "data": {
      "text/html": [
       "29"
      ],
      "text/latex": [
       "29"
      ],
      "text/markdown": [
       "29"
      ],
      "text/plain": [
       "[1] 29"
      ]
     },
     "metadata": {},
     "output_type": "display_data"
    }
   ],
   "source": [
    "table(dt$Disease%in%as.character(Mgbd$x))\n",
    "length(unique(dt$Dis))"
   ]
  },
  {
   "cell_type": "markdown",
   "metadata": {},
   "source": [
    "Ok: 27 + injuries and residual"
   ]
  },
  {
   "cell_type": "code",
   "execution_count": 59,
   "metadata": {
    "collapsed": false
   },
   "outputs": [
    {
     "data": {
      "text/html": [
       "<ol class=list-inline>\n",
       "\t<li>'Andean Latin America'</li>\n",
       "\t<li>'Australasia'</li>\n",
       "\t<li>'Caribbean'</li>\n",
       "\t<li>'Central Asia'</li>\n",
       "\t<li>'Central Europe '</li>\n",
       "\t<li>'Central Latin America'</li>\n",
       "\t<li>'Central Sub-Saharan Africa'</li>\n",
       "\t<li>'East Asia'</li>\n",
       "\t<li>'Eastern Europe'</li>\n",
       "\t<li>'Eastern Sub-Saharan Africa'</li>\n",
       "\t<li>'High-income Asia Pacific'</li>\n",
       "\t<li>'High-income North America'</li>\n",
       "\t<li>'North Africa and Middle East'</li>\n",
       "\t<li>'Oceania'</li>\n",
       "\t<li>'South Asia'</li>\n",
       "\t<li>'Southeast Asia '</li>\n",
       "\t<li>'Southern Latin America'</li>\n",
       "\t<li>'Southern Sub-Saharan Africa'</li>\n",
       "\t<li>'Tropical Latin America'</li>\n",
       "\t<li>'Western Europe'</li>\n",
       "\t<li>'Western Sub-Saharan Africa'</li>\n",
       "</ol>\n"
      ],
      "text/latex": [
       "\\begin{enumerate*}\n",
       "\\item 'Andean Latin America'\n",
       "\\item 'Australasia'\n",
       "\\item 'Caribbean'\n",
       "\\item 'Central Asia'\n",
       "\\item 'Central Europe '\n",
       "\\item 'Central Latin America'\n",
       "\\item 'Central Sub-Saharan Africa'\n",
       "\\item 'East Asia'\n",
       "\\item 'Eastern Europe'\n",
       "\\item 'Eastern Sub-Saharan Africa'\n",
       "\\item 'High-income Asia Pacific'\n",
       "\\item 'High-income North America'\n",
       "\\item 'North Africa and Middle East'\n",
       "\\item 'Oceania'\n",
       "\\item 'South Asia'\n",
       "\\item 'Southeast Asia '\n",
       "\\item 'Southern Latin America'\n",
       "\\item 'Southern Sub-Saharan Africa'\n",
       "\\item 'Tropical Latin America'\n",
       "\\item 'Western Europe'\n",
       "\\item 'Western Sub-Saharan Africa'\n",
       "\\end{enumerate*}\n"
      ],
      "text/markdown": [
       "1. 'Andean Latin America'\n",
       "2. 'Australasia'\n",
       "3. 'Caribbean'\n",
       "4. 'Central Asia'\n",
       "5. 'Central Europe '\n",
       "6. 'Central Latin America'\n",
       "7. 'Central Sub-Saharan Africa'\n",
       "8. 'East Asia'\n",
       "9. 'Eastern Europe'\n",
       "10. 'Eastern Sub-Saharan Africa'\n",
       "11. 'High-income Asia Pacific'\n",
       "12. 'High-income North America'\n",
       "13. 'North Africa and Middle East'\n",
       "14. 'Oceania'\n",
       "15. 'South Asia'\n",
       "16. 'Southeast Asia '\n",
       "17. 'Southern Latin America'\n",
       "18. 'Southern Sub-Saharan Africa'\n",
       "19. 'Tropical Latin America'\n",
       "20. 'Western Europe'\n",
       "21. 'Western Sub-Saharan Africa'\n",
       "\n",
       "\n"
      ],
      "text/plain": [
       " [1] \"Andean Latin America\"         \"Australasia\"                 \n",
       " [3] \"Caribbean\"                    \"Central Asia\"                \n",
       " [5] \"Central Europe \"              \"Central Latin America\"       \n",
       " [7] \"Central Sub-Saharan Africa\"   \"East Asia\"                   \n",
       " [9] \"Eastern Europe\"               \"Eastern Sub-Saharan Africa\"  \n",
       "[11] \"High-income Asia Pacific\"     \"High-income North America\"   \n",
       "[13] \"North Africa and Middle East\" \"Oceania\"                     \n",
       "[15] \"South Asia\"                   \"Southeast Asia \"             \n",
       "[17] \"Southern Latin America\"       \"Southern Sub-Saharan Africa\" \n",
       "[19] \"Tropical Latin America\"       \"Western Europe\"              \n",
       "[21] \"Western Sub-Saharan Africa\"  "
      ]
     },
     "metadata": {},
     "output_type": "display_data"
    }
   ],
   "source": [
    "dt$Sup_region <- dt$region\n",
    "levels(dt$region)"
   ]
  },
  {
   "cell_type": "code",
   "execution_count": 60,
   "metadata": {
    "collapsed": true
   },
   "outputs": [],
   "source": [
    "levels(dt$Sup_region) <- c(\n",
    "\"Latin America and Caribbean\", \"High-income\", \n",
    "\"Latin America and Caribbean\", \"Central Europe, Eastern Europe, and Central Asia\", \n",
    "\"Central Europe, Eastern Europe, and Central Asia\", \"Latin America and Caribbean\",\n",
    "\"Sub-Saharian Africa\", \"Southeast Asia, East Asia and Oceania\",\n",
    "\"Central Europe, Eastern Europe, and Central Asia\", \"Sub-Saharian Africa\",\n",
    "\"High-income\", \"High-income\",\n",
    "\"North Africa and Middle East\", \"Southeast Asia, East Asia and Oceania\",\n",
    "\"South Asia\", \"Southeast Asia, East Asia and Oceania\",\n",
    "\"High-income\", \"Sub-Saharian Africa\",\n",
    "\"Latin America and Caribbean\", \"High-income\",\n",
    "\"Sub-Saharian Africa\")\n",
    "\n",
    "#Region level\n",
    "GBD <- dt\n",
    "meas <- levels(GBD$mes)\n",
    "dis <- levels(GBD$Dis)\n",
    "reg <- levels(GBD$Sup_reg)\n",
    "\n",
    "S <- tapply(GBD$nm_mean,paste(GBD$meas,GBD$Sup_region,GBD$Disease,sep=\"&\"),sum)\n",
    "\n",
    "L <- strsplit(names(S),\"&\")\n",
    "\n",
    "M <- data.frame(do.call('rbind',L))\n",
    "names(M) <- c(\"metr\",\"Region\",\"Disease\")\n",
    "M$burden <- as.numeric(S)"
   ]
  },
  {
   "cell_type": "code",
   "execution_count": 61,
   "metadata": {
    "collapsed": true
   },
   "outputs": [],
   "source": [
    "write.table(M,\"../Data/DALY_YLL_deaths_per_region_and_27_and_excluded_diseases_2005.txt\")"
   ]
  },
  {
   "cell_type": "code",
   "execution_count": null,
   "metadata": {
    "collapsed": true
   },
   "outputs": [],
   "source": []
  }
 ],
 "metadata": {
  "kernelspec": {
   "display_name": "R",
   "language": "R",
   "name": "ir"
  },
  "language_info": {
   "codemirror_mode": "r",
   "file_extension": ".r",
   "mimetype": "text/x-r-source",
   "name": "R",
   "pygments_lexer": "r",
   "version": "3.3.1"
  }
 },
 "nbformat": 4,
 "nbformat_minor": 1
}
