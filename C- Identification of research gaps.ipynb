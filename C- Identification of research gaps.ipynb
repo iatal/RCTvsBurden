{
 "cells": [
  {
   "cell_type": "markdown",
   "metadata": {},
   "source": [
    "# Identification of gaps between effort research and health needs\n",
    "\n",
    "We will upload data with number of RCTs per region per disease, and number of DALYs per region per disease"
   ]
  },
  {
   "cell_type": "code",
   "execution_count": 72,
   "metadata": {
    "collapsed": false
   },
   "outputs": [],
   "source": [
    "setwd('/media/igna/Elements/HotelDieu/Cochrane')\n",
    "\n",
    "GBD <- read.table(\"Mapping_Cancer/Tables/GBD_data_per_region_and_27_diseases_2005.txt\")\n",
    "RCT <- read.table(\"Mapping_Cancer/Tables/RCTs_data_per_region_and_27_diseases_2005_2015.txt\")\n",
    "RCT <- RCT[order(rownames(RCT)),]\n"
   ]
  },
  {
   "cell_type": "markdown",
   "metadata": {},
   "source": [
    "### Gaps across regions"
   ]
  },
  {
   "cell_type": "code",
   "execution_count": 73,
   "metadata": {
    "collapsed": false
   },
   "outputs": [],
   "source": [
    "#Across regions\n",
    "#Number and Proportion of RCTs vs proportion of burden across regions\n",
    "\n",
    "D <- data.frame(\n",
    "    t(rbind(RCT[rownames(RCT)==\"Tot\",-ncol(RCT)],\n",
    "      100*RCT[rownames(RCT)==\"Tot\",-ncol(RCT)]/RCT$Tot[rownames(RCT)==\"Tot\"],\n",
    "      apply(GBD[-(ncol(GBD)-0:1)],2,sum)/1e6,\n",
    "      100*apply(GBD[-(ncol(GBD)-0:1)],2,sum)/sum(GBD$Tot))))\n",
    "\n",
    "names(D) <- c(\"RCTs\",\"Prop_RCTs\",\"GBD\",\"Prop_GBD\")"
   ]
  },
  {
   "cell_type": "code",
   "execution_count": 74,
   "metadata": {
    "collapsed": false
   },
   "outputs": [],
   "source": [
    "#RCTs per million DALYs\n",
    "D$RCTs_per_MDALYs <- D$RCTs/D$GBD"
   ]
  },
  {
   "cell_type": "code",
   "execution_count": 75,
   "metadata": {
    "collapsed": false
   },
   "outputs": [],
   "source": [
    "options(\"scipen\"=100, \"digits\"=4)"
   ]
  },
  {
   "cell_type": "code",
   "execution_count": 76,
   "metadata": {
    "collapsed": false
   },
   "outputs": [
    {
     "data": {
      "text/html": [
       "<table>\n",
       "<thead><tr><th></th><th scope=col>RCTs</th><th scope=col>Prop_RCTs</th><th scope=col>GBD</th><th scope=col>Prop_GBD</th><th scope=col>RCTs_per_MDALYs</th></tr></thead>\n",
       "<tbody>\n",
       "\t<tr><th scope=row>High.income</th><td>67659.00</td><td>   73.79</td><td>  231.55</td><td>   10.43</td><td>  292.20</td></tr>\n",
       "\t<tr><th scope=row>North.Africa.and.Middle.East</th><td>8683.000</td><td>   9.469</td><td> 102.273</td><td>   4.607</td><td>  84.900</td></tr>\n",
       "\t<tr><th scope=row>Central.Europe..Eastern.Europe..and.Central.Asia</th><td>6998.000</td><td>   7.632</td><td> 151.518</td><td>   6.825</td><td>  46.186</td></tr>\n",
       "\t<tr><th scope=row>Latin.America.and.Caribbean</th><td>4766.000</td><td>   5.198</td><td> 115.507</td><td>   5.203</td><td>  41.261</td></tr>\n",
       "\t<tr><th scope=row>Southeast.Asia..East.Asia.and.Oceania</th><td>9639.00</td><td>  10.51</td><td> 460.95</td><td>  20.76</td><td>  20.91</td></tr>\n",
       "\t<tr><th scope=row>South.Asia</th><td>4848.000</td><td>   5.287</td><td> 610.712</td><td>  27.509</td><td>   7.938</td></tr>\n",
       "\t<tr><th scope=row>Sub.Saharian.Africa</th><td>2585.000</td><td>   2.819</td><td> 547.555</td><td>  24.664</td><td>   4.721</td></tr>\n",
       "</tbody>\n",
       "</table>\n"
      ],
      "text/latex": [
       "\\begin{tabular}{r|lllll}\n",
       "  & RCTs & Prop\\_RCTs & GBD & Prop\\_GBD & RCTs\\_per\\_MDALYs\\\\\n",
       "\\hline\n",
       "\tHigh.income & 67659.00 &    73.79 &   231.55 &    10.43 &   292.20\\\\\n",
       "\tNorth.Africa.and.Middle.East & 8683.000 &    9.469 &  102.273 &    4.607 &   84.900\\\\\n",
       "\tCentral.Europe..Eastern.Europe..and.Central.Asia & 6998.000 &    7.632 &  151.518 &    6.825 &   46.186\\\\\n",
       "\tLatin.America.and.Caribbean & 4766.000 &    5.198 &  115.507 &    5.203 &   41.261\\\\\n",
       "\tSoutheast.Asia..East.Asia.and.Oceania & 9639.00 &   10.51 &  460.95 &   20.76 &   20.91\\\\\n",
       "\tSouth.Asia & 4848.000 &    5.287 &  610.712 &   27.509 &    7.938\\\\\n",
       "\tSub.Saharian.Africa & 2585.000 &    2.819 &  547.555 &   24.664 &    4.721\\\\\n",
       "\\end{tabular}\n"
      ],
      "text/plain": [
       "                                                  RCTs Prop_RCTs   GBD Prop_GBD\n",
       "High.income                                      67659    73.786 231.6   10.430\n",
       "North.Africa.and.Middle.East                      8683     9.469 102.3    4.607\n",
       "Central.Europe..Eastern.Europe..and.Central.Asia  6998     7.632 151.5    6.825\n",
       "Latin.America.and.Caribbean                       4766     5.198 115.5    5.203\n",
       "Southeast.Asia..East.Asia.and.Oceania             9639    10.512 460.9   20.763\n",
       "South.Asia                                        4848     5.287 610.7   27.509\n",
       "Sub.Saharian.Africa                               2585     2.819 547.6   24.664\n",
       "                                                 RCTs_per_MDALYs\n",
       "High.income                                              292.199\n",
       "North.Africa.and.Middle.East                              84.900\n",
       "Central.Europe..Eastern.Europe..and.Central.Asia          46.186\n",
       "Latin.America.and.Caribbean                               41.261\n",
       "Southeast.Asia..East.Asia.and.Oceania                     20.911\n",
       "South.Asia                                                 7.938\n",
       "Sub.Saharian.Africa                                        4.721"
      ]
     },
     "metadata": {},
     "output_type": "display_data"
    }
   ],
   "source": [
    "Dregs <- D\n",
    "Dregs[order(Dregs$RCTs_per,decreasing=TRUE),]"
   ]
  },
  {
   "cell_type": "markdown",
   "metadata": {},
   "source": [
    "### Gaps across diseases\n",
    "Across diseases number and proportion of RCTs and GBD\n",
    "And RCTs per million DALYs"
   ]
  },
  {
   "cell_type": "code",
   "execution_count": 77,
   "metadata": {
    "collapsed": true
   },
   "outputs": [],
   "source": [
    "D <- data.frame(\n",
    "    t(rbind(RCT$Tot[rownames(RCT)!=\"Tot\"],\n",
    "      100*RCT$Tot[rownames(RCT)!=\"Tot\"]/RCT$Tot[rownames(RCT)==\"Tot\"],\n",
    "      GBD$Tot,\n",
    "      100*GBD$Tot/sum(GBD$Tot))))\n",
    "\n",
    "names(D) <- c(\"RCTs\",\"Prop_RCTs\",\"GBD\",\"Prop_GBD\")\n",
    "rownames(D) <- rownames(GBD)"
   ]
  },
  {
   "cell_type": "code",
   "execution_count": 78,
   "metadata": {
    "collapsed": true
   },
   "outputs": [],
   "source": [
    "D$RCTs_per_MDALYs <- D$RCTs/(D$GBD/1e6)"
   ]
  },
  {
   "cell_type": "code",
   "execution_count": 79,
   "metadata": {
    "collapsed": false,
    "scrolled": false
   },
   "outputs": [
    {
     "data": {
      "text/html": [
       "<table>\n",
       "<thead><tr><th></th><th scope=col>RCTs</th><th scope=col>Prop_RCTs</th><th scope=col>GBD</th><th scope=col>Prop_GBD</th><th scope=col>RCTs_per_MDALYs</th></tr></thead>\n",
       "<tbody>\n",
       "\t<tr><th scope=row>Sense organ diseases</th><td>    6444.000</td><td>       7.028</td><td>32290593.297</td><td>       1.454</td><td>     199.563</td></tr>\n",
       "\t<tr><th scope=row>Digestive diseases (except cirrhosis)</th><td>    6109.000</td><td>       6.662</td><td>32576108.319</td><td>       1.467</td><td>     187.530</td></tr>\n",
       "\t<tr><th scope=row>Diabetes, urinary diseases and male infertility</th><td>   12045.000</td><td>      13.136</td><td>75821480.094</td><td>       3.415</td><td>     158.860</td></tr>\n",
       "\t<tr><th scope=row>Skin and subcutaneous diseases</th><td>    4463.000</td><td>       4.867</td><td>35061984.292</td><td>       1.579</td><td>     127.289</td></tr>\n",
       "\t<tr><th scope=row>Neurological disorders</th><td>    7038.000</td><td>       7.675</td><td>65826670.819</td><td>       2.965</td><td>     106.917</td></tr>\n",
       "\t<tr><th scope=row>Neoplasms</th><td>    14149.000</td><td>       15.430</td><td>176868544.264</td><td>        7.967</td><td>       79.997</td></tr>\n",
       "\t<tr><th scope=row>Mental and behavioral disorders</th><td>    10080.000</td><td>       10.993</td><td>171914381.395</td><td>        7.744</td><td>       58.634</td></tr>\n",
       "\t<tr><th scope=row>Cirrhosis of the liver</th><td>    1566.000</td><td>       1.708</td><td>30462721.116</td><td>       1.372</td><td>      51.407</td></tr>\n",
       "\t<tr><th scope=row>Musculoskeletal disorders</th><td>     7761.000</td><td>        8.464</td><td>151554779.387</td><td>        6.827</td><td>       51.209</td></tr>\n",
       "\t<tr><th scope=row>Chronic respiratory diseases</th><td>     5168.000</td><td>        5.636</td><td>112485355.223</td><td>        5.067</td><td>       45.944</td></tr>\n",
       "</tbody>\n",
       "</table>\n"
      ],
      "text/latex": [
       "\\begin{tabular}{r|lllll}\n",
       "  & RCTs & Prop\\_RCTs & GBD & Prop\\_GBD & RCTs\\_per\\_MDALYs\\\\\n",
       "\\hline\n",
       "\tSense organ diseases &     6444.000 &        7.028 & 32290593.297 &        1.454 &      199.563\\\\\n",
       "\tDigestive diseases (except cirrhosis) &     6109.000 &        6.662 & 32576108.319 &        1.467 &      187.530\\\\\n",
       "\tDiabetes, urinary diseases and male infertility &    12045.000 &       13.136 & 75821480.094 &        3.415 &      158.860\\\\\n",
       "\tSkin and subcutaneous diseases &     4463.000 &        4.867 & 35061984.292 &        1.579 &      127.289\\\\\n",
       "\tNeurological disorders &     7038.000 &        7.675 & 65826670.819 &        2.965 &      106.917\\\\\n",
       "\tNeoplasms &     14149.000 &        15.430 & 176868544.264 &         7.967 &        79.997\\\\\n",
       "\tMental and behavioral disorders &     10080.000 &        10.993 & 171914381.395 &         7.744 &        58.634\\\\\n",
       "\tCirrhosis of the liver &     1566.000 &        1.708 & 30462721.116 &        1.372 &       51.407\\\\\n",
       "\tMusculoskeletal disorders &      7761.000 &         8.464 & 151554779.387 &         6.827 &        51.209\\\\\n",
       "\tChronic respiratory diseases &      5168.000 &         5.636 & 112485355.223 &         5.067 &        45.944\\\\\n",
       "\\end{tabular}\n"
      ],
      "text/plain": [
       "                                                 RCTs Prop_RCTs       GBD\n",
       "Sense organ diseases                             6444     7.028  32290593\n",
       "Digestive diseases (except cirrhosis)            6109     6.662  32576108\n",
       "Diabetes, urinary diseases and male infertility 12045    13.136  75821480\n",
       "Skin and subcutaneous diseases                   4463     4.867  35061984\n",
       "Neurological disorders                           7038     7.675  65826671\n",
       "Neoplasms                                       14149    15.430 176868544\n",
       "Mental and behavioral disorders                 10080    10.993 171914381\n",
       "Cirrhosis of the liver                           1566     1.708  30462721\n",
       "Musculoskeletal disorders                        7761     8.464 151554779\n",
       "Chronic respiratory diseases                     5168     5.636 112485355\n",
       "                                                Prop_GBD RCTs_per_MDALYs\n",
       "Sense organ diseases                               1.454          199.56\n",
       "Digestive diseases (except cirrhosis)              1.467          187.53\n",
       "Diabetes, urinary diseases and male infertility    3.415          158.86\n",
       "Skin and subcutaneous diseases                     1.579          127.29\n",
       "Neurological disorders                             2.965          106.92\n",
       "Neoplasms                                          7.967           80.00\n",
       "Mental and behavioral disorders                    7.744           58.63\n",
       "Cirrhosis of the liver                             1.372           51.41\n",
       "Musculoskeletal disorders                          6.827           51.21\n",
       "Chronic respiratory diseases                       5.067           45.94"
      ]
     },
     "metadata": {},
     "output_type": "display_data"
    },
    {
     "data": {
      "text/html": [
       "<table>\n",
       "<thead><tr><th></th><th scope=col>RCTs</th><th scope=col>Prop_RCTs</th><th scope=col>GBD</th><th scope=col>Prop_GBD</th><th scope=col>RCTs_per_MDALYs</th></tr></thead>\n",
       "<tbody>\n",
       "\t<tr><th scope=row>Chronic respiratory diseases</th><td>     5168.000</td><td>        5.636</td><td>112485355.223</td><td>        5.067</td><td>       45.944</td></tr>\n",
       "\t<tr><th scope=row>Congenital anomalies</th><td>    1756.000</td><td>       1.915</td><td>43254504.439</td><td>       1.948</td><td>      40.597</td></tr>\n",
       "\t<tr><th scope=row>Cardiovascular and circulatory diseases</th><td>    10547.00</td><td>       11.50</td><td>287404109.09</td><td>       12.95</td><td>       36.70</td></tr>\n",
       "\t<tr><th scope=row>HIV/AIDS</th><td>    1647.000</td><td>       1.796</td><td>96159861.934</td><td>       4.331</td><td>      17.128</td></tr>\n",
       "\t<tr><th scope=row>Nutritional deficiencies</th><td>    1509.000</td><td>       1.646</td><td>89065270.102</td><td>       4.012</td><td>      16.943</td></tr>\n",
       "\t<tr><th scope=row>Neglected tropical diseases excluding malaria</th><td>     428.0000</td><td>       0.4668</td><td>27043024.7392</td><td>       1.2181</td><td>      15.8266</td></tr>\n",
       "\t<tr><th scope=row>Diarrhea, lower respiratory infections, meningitis, and other common infectious diseases</th><td>     3696.000</td><td>        4.031</td><td>329285536.747</td><td>       14.832</td><td>       11.224</td></tr>\n",
       "\t<tr><th scope=row>Tuberculosis</th><td>     365.0000</td><td>       0.3981</td><td>56404877.8818</td><td>       2.5407</td><td>       6.4711</td></tr>\n",
       "\t<tr><th scope=row>Malaria</th><td>      482.0000</td><td>        0.5256</td><td>101344543.5782</td><td>        4.5649</td><td>        4.7561</td></tr>\n",
       "\t<tr><th scope=row>Neonatal disorders</th><td>      914.0000</td><td>        0.9968</td><td>220288076.0198</td><td>        9.9226</td><td>        4.1491</td></tr>\n",
       "</tbody>\n",
       "</table>\n"
      ],
      "text/latex": [
       "\\begin{tabular}{r|lllll}\n",
       "  & RCTs & Prop\\_RCTs & GBD & Prop\\_GBD & RCTs\\_per\\_MDALYs\\\\\n",
       "\\hline\n",
       "\tChronic respiratory diseases &      5168.000 &         5.636 & 112485355.223 &         5.067 &        45.944\\\\\n",
       "\tCongenital anomalies &     1756.000 &        1.915 & 43254504.439 &        1.948 &       40.597\\\\\n",
       "\tCardiovascular and circulatory diseases &     10547.00 &        11.50 & 287404109.09 &        12.95 &        36.70\\\\\n",
       "\tHIV/AIDS &     1647.000 &        1.796 & 96159861.934 &        4.331 &       17.128\\\\\n",
       "\tNutritional deficiencies &     1509.000 &        1.646 & 89065270.102 &        4.012 &       16.943\\\\\n",
       "\tNeglected tropical diseases excluding malaria &      428.0000 &        0.4668 & 27043024.7392 &        1.2181 &       15.8266\\\\\n",
       "\tDiarrhea, lower respiratory infections, meningitis, and other common infectious diseases &      3696.000 &         4.031 & 329285536.747 &        14.832 &        11.224\\\\\n",
       "\tTuberculosis &      365.0000 &        0.3981 & 56404877.8818 &        2.5407 &        6.4711\\\\\n",
       "\tMalaria &       482.0000 &         0.5256 & 101344543.5782 &         4.5649 &         4.7561\\\\\n",
       "\tNeonatal disorders &       914.0000 &         0.9968 & 220288076.0198 &         9.9226 &         4.1491\\\\\n",
       "\\end{tabular}\n"
      ],
      "text/plain": [
       "                                                                                          RCTs\n",
       "Chronic respiratory diseases                                                              5168\n",
       "Congenital anomalies                                                                      1756\n",
       "Cardiovascular and circulatory diseases                                                  10547\n",
       "HIV/AIDS                                                                                  1647\n",
       "Nutritional deficiencies                                                                  1509\n",
       "Neglected tropical diseases excluding malaria                                              428\n",
       "Diarrhea, lower respiratory infections, meningitis, and other common infectious diseases  3696\n",
       "Tuberculosis                                                                               365\n",
       "Malaria                                                                                    482\n",
       "Neonatal disorders                                                                         914\n",
       "                                                                                         Prop_RCTs\n",
       "Chronic respiratory diseases                                                                5.6360\n",
       "Congenital anomalies                                                                        1.9150\n",
       "Cardiovascular and circulatory diseases                                                    11.5021\n",
       "HIV/AIDS                                                                                    1.7962\n",
       "Nutritional deficiencies                                                                    1.6457\n",
       "Neglected tropical diseases excluding malaria                                               0.4668\n",
       "Diarrhea, lower respiratory infections, meningitis, and other common infectious diseases    4.0307\n",
       "Tuberculosis                                                                                0.3981\n",
       "Malaria                                                                                     0.5256\n",
       "Neonatal disorders                                                                          0.9968\n",
       "                                                                                               GBD\n",
       "Chronic respiratory diseases                                                             112485355\n",
       "Congenital anomalies                                                                      43254504\n",
       "Cardiovascular and circulatory diseases                                                  287404109\n",
       "HIV/AIDS                                                                                  96159862\n",
       "Nutritional deficiencies                                                                  89065270\n",
       "Neglected tropical diseases excluding malaria                                             27043025\n",
       "Diarrhea, lower respiratory infections, meningitis, and other common infectious diseases 329285537\n",
       "Tuberculosis                                                                              56404878\n",
       "Malaria                                                                                  101344544\n",
       "Neonatal disorders                                                                       220288076\n",
       "                                                                                         Prop_GBD\n",
       "Chronic respiratory diseases                                                                5.067\n",
       "Congenital anomalies                                                                        1.948\n",
       "Cardiovascular and circulatory diseases                                                    12.946\n",
       "HIV/AIDS                                                                                    4.331\n",
       "Nutritional deficiencies                                                                    4.012\n",
       "Neglected tropical diseases excluding malaria                                               1.218\n",
       "Diarrhea, lower respiratory infections, meningitis, and other common infectious diseases   14.832\n",
       "Tuberculosis                                                                                2.541\n",
       "Malaria                                                                                     4.565\n",
       "Neonatal disorders                                                                          9.923\n",
       "                                                                                         RCTs_per_MDALYs\n",
       "Chronic respiratory diseases                                                                      45.944\n",
       "Congenital anomalies                                                                              40.597\n",
       "Cardiovascular and circulatory diseases                                                           36.697\n",
       "HIV/AIDS                                                                                          17.128\n",
       "Nutritional deficiencies                                                                          16.943\n",
       "Neglected tropical diseases excluding malaria                                                     15.827\n",
       "Diarrhea, lower respiratory infections, meningitis, and other common infectious diseases          11.224\n",
       "Tuberculosis                                                                                       6.471\n",
       "Malaria                                                                                            4.756\n",
       "Neonatal disorders                                                                                 4.149"
      ]
     },
     "metadata": {},
     "output_type": "display_data"
    }
   ],
   "source": [
    "D <- D[order(D$RCTs_per,decreasing=TRUE),]\n",
    "head(D[D$Prop_GBD>=1,],n=10)\n",
    "tail(D[D$Prop_GBD>=1,],n=10)"
   ]
  },
  {
   "cell_type": "markdown",
   "metadata": {},
   "source": [
    "### Gaps within regions\n",
    "\n",
    "For each region we will compare the local share of RCTs across diseases to the local share of burden across diseases. We will say that a gap exist between research and needs if the share of research concerning a disease is more than two time lower than the share of RCTs concerning that disease."
   ]
  },
  {
   "cell_type": "code",
   "execution_count": 80,
   "metadata": {
    "collapsed": false
   },
   "outputs": [
    {
     "data": {
      "text/html": [
       "<table>\n",
       "<thead><tr><th></th><th scope=col>Central.Europe..Eastern.Europe..and.Central.Asia</th><th scope=col>High.income</th><th scope=col>Latin.America.and.Caribbean</th><th scope=col>North.Africa.and.Middle.East</th><th scope=col>South.Asia</th><th scope=col>Southeast.Asia..East.Asia.and.Oceania</th><th scope=col>Sub.Saharian.Africa</th><th scope=col>Tot</th></tr></thead>\n",
       "<tbody>\n",
       "\t<tr><th scope=row>Cardiovascular and circulatory diseases</th><td>0.11275</td><td>0.11673</td><td>0.10533</td><td>0.09835</td><td>0.08230</td><td>0.12823</td><td>0.05029</td><td>0.11502</td></tr>\n",
       "\t<tr><th scope=row>Chronic respiratory diseases</th><td>0.09160</td><td>0.06079</td><td>0.06777</td><td>0.03812</td><td>0.05136</td><td>0.04772</td><td>0.05532</td><td>0.05636</td></tr>\n",
       "\t<tr><th scope=row>Cirrhosis of the liver</th><td>0.014004</td><td>0.015002</td><td>0.012170</td><td>0.016469</td><td>0.026403</td><td>0.028322</td><td>0.002708</td><td>0.017078</td></tr>\n",
       "\t<tr><th scope=row>Congenital anomalies</th><td>0.00986</td><td>0.02083</td><td>0.01154</td><td>0.01693</td><td>0.01093</td><td>0.01484</td><td>0.00619</td><td>0.01915</td></tr>\n",
       "\t<tr><th scope=row>Diabetes, urinary diseases and male infertility</th><td>0.1436</td><td>0.1338</td><td>0.1605</td><td>0.1425</td><td>0.1469</td><td>0.1296</td><td>0.1014</td><td>0.1314</td></tr>\n",
       "\t<tr><th scope=row>Diarrhea, lower respiratory infections, meningitis, and other common infectious diseases</th><td>0.04115</td><td>0.03745</td><td>0.05204</td><td>0.02914</td><td>0.07364</td><td>0.04534</td><td>0.05803</td><td>0.04031</td></tr>\n",
       "</tbody>\n",
       "</table>\n"
      ],
      "text/latex": [
       "\\begin{tabular}{r|llllllll}\n",
       "  & Central.Europe..Eastern.Europe..and.Central.Asia & High.income & Latin.America.and.Caribbean & North.Africa.and.Middle.East & South.Asia & Southeast.Asia..East.Asia.and.Oceania & Sub.Saharian.Africa & Tot\\\\\n",
       "\\hline\n",
       "\tCardiovascular and circulatory diseases & 0.11275 & 0.11673 & 0.10533 & 0.09835 & 0.08230 & 0.12823 & 0.05029 & 0.11502\\\\\n",
       "\tChronic respiratory diseases & 0.09160 & 0.06079 & 0.06777 & 0.03812 & 0.05136 & 0.04772 & 0.05532 & 0.05636\\\\\n",
       "\tCirrhosis of the liver & 0.014004 & 0.015002 & 0.012170 & 0.016469 & 0.026403 & 0.028322 & 0.002708 & 0.017078\\\\\n",
       "\tCongenital anomalies & 0.00986 & 0.02083 & 0.01154 & 0.01693 & 0.01093 & 0.01484 & 0.00619 & 0.01915\\\\\n",
       "\tDiabetes, urinary diseases and male infertility & 0.1436 & 0.1338 & 0.1605 & 0.1425 & 0.1469 & 0.1296 & 0.1014 & 0.1314\\\\\n",
       "\tDiarrhea, lower respiratory infections, meningitis, and other common infectious diseases & 0.04115 & 0.03745 & 0.05204 & 0.02914 & 0.07364 & 0.04534 & 0.05803 & 0.04031\\\\\n",
       "\\end{tabular}\n"
      ],
      "text/plain": [
       "                                                                                         Central.Europe..Eastern.Europe..and.Central.Asia\n",
       "Cardiovascular and circulatory diseases                                                                                           0.11275\n",
       "Chronic respiratory diseases                                                                                                      0.09160\n",
       "Cirrhosis of the liver                                                                                                            0.01400\n",
       "Congenital anomalies                                                                                                              0.00986\n",
       "Diabetes, urinary diseases and male infertility                                                                                   0.14361\n",
       "Diarrhea, lower respiratory infections, meningitis, and other common infectious diseases                                          0.04115\n",
       "                                                                                         High.income\n",
       "Cardiovascular and circulatory diseases                                                      0.11673\n",
       "Chronic respiratory diseases                                                                 0.06079\n",
       "Cirrhosis of the liver                                                                       0.01500\n",
       "Congenital anomalies                                                                         0.02083\n",
       "Diabetes, urinary diseases and male infertility                                              0.13382\n",
       "Diarrhea, lower respiratory infections, meningitis, and other common infectious diseases     0.03745\n",
       "                                                                                         Latin.America.and.Caribbean\n",
       "Cardiovascular and circulatory diseases                                                                      0.10533\n",
       "Chronic respiratory diseases                                                                                 0.06777\n",
       "Cirrhosis of the liver                                                                                       0.01217\n",
       "Congenital anomalies                                                                                         0.01154\n",
       "Diabetes, urinary diseases and male infertility                                                              0.16051\n",
       "Diarrhea, lower respiratory infections, meningitis, and other common infectious diseases                     0.05204\n",
       "                                                                                         North.Africa.and.Middle.East\n",
       "Cardiovascular and circulatory diseases                                                                       0.09835\n",
       "Chronic respiratory diseases                                                                                  0.03812\n",
       "Cirrhosis of the liver                                                                                        0.01647\n",
       "Congenital anomalies                                                                                          0.01693\n",
       "Diabetes, urinary diseases and male infertility                                                               0.14246\n",
       "Diarrhea, lower respiratory infections, meningitis, and other common infectious diseases                      0.02914\n",
       "                                                                                         South.Asia\n",
       "Cardiovascular and circulatory diseases                                                     0.08230\n",
       "Chronic respiratory diseases                                                                0.05136\n",
       "Cirrhosis of the liver                                                                      0.02640\n",
       "Congenital anomalies                                                                        0.01093\n",
       "Diabetes, urinary diseases and male infertility                                             0.14686\n",
       "Diarrhea, lower respiratory infections, meningitis, and other common infectious diseases    0.07364\n",
       "                                                                                         Southeast.Asia..East.Asia.and.Oceania\n",
       "Cardiovascular and circulatory diseases                                                                                0.12823\n",
       "Chronic respiratory diseases                                                                                           0.04772\n",
       "Cirrhosis of the liver                                                                                                 0.02832\n",
       "Congenital anomalies                                                                                                   0.01484\n",
       "Diabetes, urinary diseases and male infertility                                                                        0.12958\n",
       "Diarrhea, lower respiratory infections, meningitis, and other common infectious diseases                               0.04534\n",
       "                                                                                         Sub.Saharian.Africa\n",
       "Cardiovascular and circulatory diseases                                                             0.050290\n",
       "Chronic respiratory diseases                                                                        0.055319\n",
       "Cirrhosis of the liver                                                                              0.002708\n",
       "Congenital anomalies                                                                                0.006190\n",
       "Diabetes, urinary diseases and male infertility                                                     0.101354\n",
       "Diarrhea, lower respiratory infections, meningitis, and other common infectious diseases            0.058027\n",
       "                                                                                             Tot\n",
       "Cardiovascular and circulatory diseases                                                  0.11502\n",
       "Chronic respiratory diseases                                                             0.05636\n",
       "Cirrhosis of the liver                                                                   0.01708\n",
       "Congenital anomalies                                                                     0.01915\n",
       "Diabetes, urinary diseases and male infertility                                          0.13136\n",
       "Diarrhea, lower respiratory infections, meningitis, and other common infectious diseases 0.04031"
      ]
     },
     "metadata": {},
     "output_type": "display_data"
    }
   ],
   "source": [
    "#Proportion of RCTs concerning each disease among \n",
    "#all RCTs relevant to the burden of diseaes in the region\n",
    "\n",
    "Pr_RCT <- do.call('rbind',apply(RCT,1,function(x){x/RCT[rownames(RCT)==\"Tot\",]}))\n",
    "head(Pr_RCT)\n",
    "Pr_RCT <- Pr_RCT[rownames(Pr_RCT)!=\"Tot\",]\n",
    "RCT <- RCT[rownames(RCT)!=\"Tot\",]"
   ]
  },
  {
   "cell_type": "code",
   "execution_count": 81,
   "metadata": {
    "collapsed": false
   },
   "outputs": [
    {
     "data": {
      "text/html": [
       "<dl class=dl-horizontal>\n",
       "\t<dt>Central.Europe..Eastern.Europe..and.Central.Asia</dt>\n",
       "\t\t<dd>151517873.106757</dd>\n",
       "\t<dt>High.income</dt>\n",
       "\t\t<dd>231551261.451313</dd>\n",
       "\t<dt>Latin.America.and.Caribbean</dt>\n",
       "\t\t<dd>115507386.951616</dd>\n",
       "\t<dt>North.Africa.and.Middle.East</dt>\n",
       "\t\t<dd>102273396.008358</dd>\n",
       "\t<dt>South.Asia</dt>\n",
       "\t\t<dd>610711947.47999</dd>\n",
       "\t<dt>Southeast.Asia..East.Asia.and.Oceania</dt>\n",
       "\t\t<dd>460946821.574246</dd>\n",
       "\t<dt>Sub.Saharian.Africa</dt>\n",
       "\t\t<dd>547554824.228482</dd>\n",
       "\t<dt>Tot</dt>\n",
       "\t\t<dd>2220063510.80076</dd>\n",
       "</dl>\n"
      ],
      "text/latex": [
       "\\begin{description*}\n",
       "\\item[Central.Europe..Eastern.Europe..and.Central.Asia] 151517873.106757\n",
       "\\item[High.income] 231551261.451313\n",
       "\\item[Latin.America.and.Caribbean] 115507386.951616\n",
       "\\item[North.Africa.and.Middle.East] 102273396.008358\n",
       "\\item[South.Asia] 610711947.47999\n",
       "\\item[Southeast.Asia..East.Asia.and.Oceania] 460946821.574246\n",
       "\\item[Sub.Saharian.Africa] 547554824.228482\n",
       "\\item[Tot] 2220063510.80076\n",
       "\\end{description*}\n"
      ],
      "text/markdown": [
       "Central.Europe..Eastern.Europe..and.Central.Asia\n",
       ":   151517873.106757High.income\n",
       ":   231551261.451313Latin.America.and.Caribbean\n",
       ":   115507386.951616North.Africa.and.Middle.East\n",
       ":   102273396.008358South.Asia\n",
       ":   610711947.47999Southeast.Asia..East.Asia.and.Oceania\n",
       ":   460946821.574246Sub.Saharian.Africa\n",
       ":   547554824.228482Tot\n",
       ":   2220063510.80076\n",
       "\n"
      ],
      "text/plain": [
       "Central.Europe..Eastern.Europe..and.Central.Asia \n",
       "                                       151517873 \n",
       "                                     High.income \n",
       "                                       231551261 \n",
       "                     Latin.America.and.Caribbean \n",
       "                                       115507387 \n",
       "                    North.Africa.and.Middle.East \n",
       "                                       102273396 \n",
       "                                      South.Asia \n",
       "                                       610711947 \n",
       "           Southeast.Asia..East.Asia.and.Oceania \n",
       "                                       460946822 \n",
       "                             Sub.Saharian.Africa \n",
       "                                       547554824 \n",
       "                                             Tot \n",
       "                                      2220063511 "
      ]
     },
     "metadata": {},
     "output_type": "display_data"
    },
    {
     "data": {
      "text/html": [
       "<table>\n",
       "<thead><tr><th></th><th scope=col>Cardiovascular and circulatory diseases</th><th scope=col>Chronic respiratory diseases</th><th scope=col>Cirrhosis of the liver</th><th scope=col>Congenital anomalies</th><th scope=col>Diabetes, urinary diseases and male infertility</th><th scope=col>Diarrhea, lower respiratory infections, meningitis, and other common infectious diseases</th><th scope=col>Digestive diseases (except cirrhosis)</th><th scope=col>Gynecological diseases</th><th scope=col>Hemoglobinopathies and hemolytic anemias</th><th scope=col>Hepatitis</th><th scope=col>⋯</th><th scope=col>Neonatal disorders</th><th scope=col>Neoplasms</th><th scope=col>Neurological disorders</th><th scope=col>Nutritional deficiencies</th><th scope=col>Oral disorders</th><th scope=col>Sense organ diseases</th><th scope=col>Sexually transmitted diseases excluding HIV</th><th scope=col>Skin and subcutaneous diseases</th><th scope=col>Sudden infant death syndrome</th><th scope=col>Tuberculosis</th></tr></thead>\n",
       "<tbody>\n",
       "\t<tr><th scope=row>Central.Europe..Eastern.Europe..and.Central.Asia</th><td>0.350858980692946   </td><td>0.0372537444683037  </td><td>0.0269957412490737  </td><td>0.013723943877795   </td><td>0.0333282440200436  </td><td>0.0480578018442715  </td><td>0.0167763047149494  </td><td>0.00413580466878963 </td><td>0.00280362960019042 </td><td>0.000846502596493219</td><td>⋯                   </td><td>0.0256333441617377  </td><td>0.128750361445841   </td><td>0.0311800836504041  </td><td>0.0142521573821491  </td><td>0.00901642810836866 </td><td>0.0182278250966079  </td><td>0.00094777851652404 </td><td>0.0125148772294602  </td><td>0.000739722164137226</td><td>0.0182764909724469  </td></tr>\n",
       "\t<tr><th scope=row>High.income</th><td>0.188061072831755   </td><td>0.0589155917484321  </td><td>0.0172559448100444  </td><td>0.00991959190204179 </td><td>0.0532859344036023  </td><td>0.02957311172767    </td><td>0.0169225690896265  </td><td>0.00525812763000648 </td><td>0.00696434877051653 </td><td>0.000879898998316794</td><td>⋯                   </td><td>0.0164609420828892  </td><td>0.18699221685447    </td><td>0.0538482966439021  </td><td>0.00516527057386593 </td><td>0.0101315441008439  </td><td>0.0178453947955228  </td><td>0.000758987330055868</td><td>0.0229428755416952  </td><td>0.00136822558000452 </td><td>0.00188240026579017 </td></tr>\n",
       "\t<tr><th scope=row>Latin.America.and.Caribbean</th><td>0.129973519670985   </td><td>0.0476238406119794  </td><td>0.0205737666197525  </td><td>0.0313184114667515  </td><td>0.059445583099081   </td><td>0.0920730711447905  </td><td>0.0169632908020917  </td><td>0.00580285750279127 </td><td>0.00766750330323881 </td><td>0.00124391608183627 </td><td>⋯                   </td><td>0.0871724864680537  </td><td>0.0839545011527448  </td><td>0.0390784949467411  </td><td>0.0376458916746146  </td><td>0.0108078108504257  </td><td>0.0193823831971698  </td><td>0.00431547340785052 </td><td>0.0243888585513585  </td><td>0.000626367922514827</td><td>0.0090585223708531  </td></tr>\n",
       "\t<tr><th scope=row>North.Africa.and.Middle.East</th><td>0.18786931406707   </td><td>0.0467557075489037 </td><td>0.0143893225945067 </td><td>0.0497790011743029 </td><td>0.0456736551743941 </td><td>0.105457299678585  </td><td>0.0106007398904736 </td><td>0.00642751404232513</td><td>0.0104312945657228 </td><td>0.00331099364269009</td><td>⋯                  </td><td>0.10056944347638   </td><td>0.0607236423399148 </td><td>0.0292791254927653 </td><td>0.0412117771274257 </td><td>0.0079897291171716 </td><td>0.0176250887362016 </td><td>0.00308996328795197</td><td>0.020203179425382  </td><td>0.00065102482657913</td><td>0.00856929432487387</td></tr>\n",
       "\t<tr><th scope=row>South.Asia</th><td>0.0923434700901243 </td><td>0.0637141611320367 </td><td>0.0126878877054454 </td><td>0.0210283123049935 </td><td>0.0300464227115865 </td><td>0.214266213115124  </td><td>0.0174174973525445 </td><td>0.00435699777444944</td><td>0.00638720785813316</td><td>0.0129629215748385 </td><td>⋯                  </td><td>0.165191660333951  </td><td>0.0374291115595851 </td><td>0.0337182716943239 </td><td>0.0551808801713907 </td><td>0.00528736932906622</td><td>0.0146149967375453 </td><td>0.0057229113241059 </td><td>0.0138540441445633 </td><td>0.00100672680391625</td><td>0.0387455189596979 </td></tr>\n",
       "\t<tr><th scope=row>Southeast.Asia..East.Asia.and.Oceania</th><td>0.177268647266155   </td><td>0.0689751282016789  </td><td>0.0159846270125831  </td><td>0.0217798601359548  </td><td>0.0457999042827754  </td><td>0.081026373738974   </td><td>0.014110808231362   </td><td>0.00599685986457065 </td><td>0.0061877207532509  </td><td>0.00420569411972341 </td><td>⋯                   </td><td>0.0606467800288265  </td><td>0.14261744399815    </td><td>0.0253385834382822  </td><td>0.0203038622815165  </td><td>0.00890750216213099 </td><td>0.0196296909914641  </td><td>0.00284917235162768 </td><td>0.0200006320957244  </td><td>0.000510248109308454</td><td>0.0284207805430976  </td></tr>\n",
       "</tbody>\n",
       "</table>\n"
      ],
      "text/latex": [
       "\\begin{tabular}{r|lllllllllllllllllllllllllll}\n",
       "  & Cardiovascular and circulatory diseases & Chronic respiratory diseases & Cirrhosis of the liver & Congenital anomalies & Diabetes, urinary diseases and male infertility & Diarrhea, lower respiratory infections, meningitis, and other common infectious diseases & Digestive diseases (except cirrhosis) & Gynecological diseases & Hemoglobinopathies and hemolytic anemias & Hepatitis & ⋯ & Neonatal disorders & Neoplasms & Neurological disorders & Nutritional deficiencies & Oral disorders & Sense organ diseases & Sexually transmitted diseases excluding HIV & Skin and subcutaneous diseases & Sudden infant death syndrome & Tuberculosis\\\\\n",
       "\\hline\n",
       "\tCentral.Europe..Eastern.Europe..and.Central.Asia & 0.350858980692946    & 0.0372537444683037   & 0.0269957412490737   & 0.013723943877795    & 0.0333282440200436   & 0.0480578018442715   & 0.0167763047149494   & 0.00413580466878963  & 0.00280362960019042  & 0.000846502596493219 & ⋯                    & 0.0256333441617377   & 0.128750361445841    & 0.0311800836504041   & 0.0142521573821491   & 0.00901642810836866  & 0.0182278250966079   & 0.00094777851652404  & 0.0125148772294602   & 0.000739722164137226 & 0.0182764909724469  \\\\\n",
       "\tHigh.income & 0.188061072831755    & 0.0589155917484321   & 0.0172559448100444   & 0.00991959190204179  & 0.0532859344036023   & 0.02957311172767     & 0.0169225690896265   & 0.00525812763000648  & 0.00696434877051653  & 0.000879898998316794 & ⋯                    & 0.0164609420828892   & 0.18699221685447     & 0.0538482966439021   & 0.00516527057386593  & 0.0101315441008439   & 0.0178453947955228   & 0.000758987330055868 & 0.0229428755416952   & 0.00136822558000452  & 0.00188240026579017 \\\\\n",
       "\tLatin.America.and.Caribbean & 0.129973519670985    & 0.0476238406119794   & 0.0205737666197525   & 0.0313184114667515   & 0.059445583099081    & 0.0920730711447905   & 0.0169632908020917   & 0.00580285750279127  & 0.00766750330323881  & 0.00124391608183627  & ⋯                    & 0.0871724864680537   & 0.0839545011527448   & 0.0390784949467411   & 0.0376458916746146   & 0.0108078108504257   & 0.0193823831971698   & 0.00431547340785052  & 0.0243888585513585   & 0.000626367922514827 & 0.0090585223708531  \\\\\n",
       "\tNorth.Africa.and.Middle.East & 0.18786931406707    & 0.0467557075489037  & 0.0143893225945067  & 0.0497790011743029  & 0.0456736551743941  & 0.105457299678585   & 0.0106007398904736  & 0.00642751404232513 & 0.0104312945657228  & 0.00331099364269009 & ⋯                   & 0.10056944347638    & 0.0607236423399148  & 0.0292791254927653  & 0.0412117771274257  & 0.0079897291171716  & 0.0176250887362016  & 0.00308996328795197 & 0.020203179425382   & 0.00065102482657913 & 0.00856929432487387\\\\\n",
       "\tSouth.Asia & 0.0923434700901243  & 0.0637141611320367  & 0.0126878877054454  & 0.0210283123049935  & 0.0300464227115865  & 0.214266213115124   & 0.0174174973525445  & 0.00435699777444944 & 0.00638720785813316 & 0.0129629215748385  & ⋯                   & 0.165191660333951   & 0.0374291115595851  & 0.0337182716943239  & 0.0551808801713907  & 0.00528736932906622 & 0.0146149967375453  & 0.0057229113241059  & 0.0138540441445633  & 0.00100672680391625 & 0.0387455189596979 \\\\\n",
       "\tSoutheast.Asia..East.Asia.and.Oceania & 0.177268647266155    & 0.0689751282016789   & 0.0159846270125831   & 0.0217798601359548   & 0.0457999042827754   & 0.081026373738974    & 0.014110808231362    & 0.00599685986457065  & 0.0061877207532509   & 0.00420569411972341  & ⋯                    & 0.0606467800288265   & 0.14261744399815     & 0.0253385834382822   & 0.0203038622815165   & 0.00890750216213099  & 0.0196296909914641   & 0.00284917235162768  & 0.0200006320957244   & 0.000510248109308454 & 0.0284207805430976  \\\\\n",
       "\\end{tabular}\n"
      ],
      "text/markdown": [
       "1. 0.350858980692946\n",
       "2. 0.188061072831755\n",
       "3. 0.129973519670985\n",
       "4. 0.18786931406707\n",
       "5. 0.0923434700901243\n",
       "6. 0.177268647266155\n",
       "7. 0.0372537444683037\n",
       "8. 0.0589155917484321\n",
       "9. 0.0476238406119794\n",
       "10. 0.0467557075489037\n",
       "11. 0.0637141611320367\n",
       "12. 0.0689751282016789\n",
       "13. 0.0269957412490737\n",
       "14. 0.0172559448100444\n",
       "15. 0.0205737666197525\n",
       "16. 0.0143893225945067\n",
       "17. 0.0126878877054454\n",
       "18. 0.0159846270125831\n",
       "19. 0.013723943877795\n",
       "20. 0.00991959190204179\n",
       "21. 0.0313184114667515\n",
       "22. 0.0497790011743029\n",
       "23. 0.0210283123049935\n",
       "24. 0.0217798601359548\n",
       "25. 0.0333282440200436\n",
       "26. 0.0532859344036023\n",
       "27. 0.059445583099081\n",
       "28. 0.0456736551743941\n",
       "29. 0.0300464227115865\n",
       "30. 0.0457999042827754\n",
       "31. 0.0480578018442715\n",
       "32. 0.02957311172767\n",
       "33. 0.0920730711447905\n",
       "34. 0.105457299678585\n",
       "35. 0.214266213115124\n",
       "36. 0.081026373738974\n",
       "37. 0.0167763047149494\n",
       "38. 0.0169225690896265\n",
       "39. 0.0169632908020917\n",
       "40. 0.0106007398904736\n",
       "41. 0.0174174973525445\n",
       "42. 0.014110808231362\n",
       "43. 0.00413580466878963\n",
       "44. 0.00525812763000648\n",
       "45. 0.00580285750279127\n",
       "46. 0.00642751404232513\n",
       "47. 0.00435699777444944\n",
       "48. 0.00599685986457065\n",
       "49. 0.00280362960019042\n",
       "50. 0.00696434877051653\n",
       "51. 0.00766750330323881\n",
       "52. 0.0104312945657228\n",
       "53. 0.00638720785813316\n",
       "54. 0.0061877207532509\n",
       "55. 0.000846502596493219\n",
       "56. 0.000879898998316794\n",
       "57. 0.00124391608183627\n",
       "58. 0.00331099364269009\n",
       "59. 0.0129629215748385\n",
       "60. 0.00420569411972341\n",
       "61. 0.0175027446618886\n",
       "62. 0.00524041106230441\n",
       "63. 0.0310785522704595\n",
       "64. 0.00278923664250562\n",
       "65. 0.0152997523014828\n",
       "66. 0.0119956880429631\n",
       "67. 0.000000157599038386549\n",
       "68. 0.000000103134835933603\n",
       "69. 0.00000918446042195015\n",
       "70. 0.000000334863128992032\n",
       "71. 0.0000092273906647039\n",
       "72. 0.00000171612339206158\n",
       "73. 0.0000226824309207303\n",
       "74. 0.00000609475821100952\n",
       "75. 0.000950627317735921\n",
       "76. 0.00486365072400988\n",
       "77. 0.00944086133207491\n",
       "78. 0.00770354898123112\n",
       "79. 0.00075626660452964\n",
       "80. 0.000559387104450023\n",
       "81. 0.00404862526935951\n",
       "82. 0.00416815534486762\n",
       "83. 0.0107832949399042\n",
       "84. 0.00504538097123076\n",
       "85. 0.0997650610324326\n",
       "86. 0.13503505015508\n",
       "87. 0.128389372672953\n",
       "88. 0.121703189242712\n",
       "89. 0.0587609819540591\n",
       "90. 0.0976335851566364\n",
       "91. 0.0862500680930374\n",
       "92. 0.15362340047264\n",
       "93. 0.0924771729763777\n",
       "94. 0.0881976632053251\n",
       "95. 0.0452783592893539\n",
       "96. 0.0915718982280306\n",
       "97. 0.00138325311761952\n",
       "98. 0.00110320763142684\n",
       "99. 0.0139299141870676\n",
       "100. 0.00767065944383169\n",
       "101. 0.0144649401150392\n",
       "102. 0.0154878628893602\n",
       "103. 0.0256333441617377\n",
       "104. 0.0164609420828892\n",
       "105. 0.0871724864680537\n",
       "106. 0.10056944347638\n",
       "107. 0.165191660333951\n",
       "108. 0.0606467800288265\n",
       "109. 0.128750361445841\n",
       "110. 0.18699221685447\n",
       "111. 0.0839545011527448\n",
       "112. 0.0607236423399148\n",
       "113. 0.0374291115595851\n",
       "114. 0.14261744399815\n",
       "115. 0.0311800836504041\n",
       "116. 0.0538482966439021\n",
       "117. 0.0390784949467411\n",
       "118. 0.0292791254927653\n",
       "119. 0.0337182716943239\n",
       "120. 0.0253385834382822\n",
       "121. 0.0142521573821491\n",
       "122. 0.00516527057386593\n",
       "123. 0.0376458916746146\n",
       "124. 0.0412117771274257\n",
       "125. 0.0551808801713907\n",
       "126. 0.0203038622815165\n",
       "127. 0.00901642810836866\n",
       "128. 0.0101315441008439\n",
       "129. 0.0108078108504257\n",
       "130. 0.0079897291171716\n",
       "131. 0.00528736932906622\n",
       "132. 0.00890750216213099\n",
       "133. 0.0182278250966079\n",
       "134. 0.0178453947955228\n",
       "135. 0.0193823831971698\n",
       "136. 0.0176250887362016\n",
       "137. 0.0146149967375453\n",
       "138. 0.0196296909914641\n",
       "139. 0.00094777851652404\n",
       "140. 0.000758987330055868\n",
       "141. 0.00431547340785052\n",
       "142. 0.00308996328795197\n",
       "143. 0.0057229113241059\n",
       "144. 0.00284917235162768\n",
       "145. 0.0125148772294602\n",
       "146. 0.0229428755416952\n",
       "147. 0.0243888585513585\n",
       "148. 0.020203179425382\n",
       "149. 0.0138540441445633\n",
       "150. 0.0200006320957244\n",
       "151. 0.000739722164137226\n",
       "152. 0.00136822558000452\n",
       "153. 0.000626367922514827\n",
       "154. 0.00065102482657913\n",
       "155. 0.00100672680391625\n",
       "156. 0.000510248109308454\n",
       "157. 0.0182764909724469\n",
       "158. 0.00188240026579017\n",
       "159. 0.0090585223708531\n",
       "160. 0.00856929432487387\n",
       "161. 0.0387455189596979\n",
       "162. 0.0284207805430976\n",
       "\n",
       "\n"
      ],
      "text/plain": [
       "                                                 Cardiovascular and circulatory diseases\n",
       "Central.Europe..Eastern.Europe..and.Central.Asia \"0.350858980692946\"                    \n",
       "High.income                                      \"0.188061072831755\"                    \n",
       "Latin.America.and.Caribbean                      \"0.129973519670985\"                    \n",
       "North.Africa.and.Middle.East                     \"0.18786931406707\"                     \n",
       "South.Asia                                       \"0.0923434700901243\"                   \n",
       "Southeast.Asia..East.Asia.and.Oceania            \"0.177268647266155\"                    \n",
       "                                                 Chronic respiratory diseases\n",
       "Central.Europe..Eastern.Europe..and.Central.Asia \"0.0372537444683037\"        \n",
       "High.income                                      \"0.0589155917484321\"        \n",
       "Latin.America.and.Caribbean                      \"0.0476238406119794\"        \n",
       "North.Africa.and.Middle.East                     \"0.0467557075489037\"        \n",
       "South.Asia                                       \"0.0637141611320367\"        \n",
       "Southeast.Asia..East.Asia.and.Oceania            \"0.0689751282016789\"        \n",
       "                                                 Cirrhosis of the liver\n",
       "Central.Europe..Eastern.Europe..and.Central.Asia \"0.0269957412490737\"  \n",
       "High.income                                      \"0.0172559448100444\"  \n",
       "Latin.America.and.Caribbean                      \"0.0205737666197525\"  \n",
       "North.Africa.and.Middle.East                     \"0.0143893225945067\"  \n",
       "South.Asia                                       \"0.0126878877054454\"  \n",
       "Southeast.Asia..East.Asia.and.Oceania            \"0.0159846270125831\"  \n",
       "                                                 Congenital anomalies \n",
       "Central.Europe..Eastern.Europe..and.Central.Asia \"0.013723943877795\"  \n",
       "High.income                                      \"0.00991959190204179\"\n",
       "Latin.America.and.Caribbean                      \"0.0313184114667515\" \n",
       "North.Africa.and.Middle.East                     \"0.0497790011743029\" \n",
       "South.Asia                                       \"0.0210283123049935\" \n",
       "Southeast.Asia..East.Asia.and.Oceania            \"0.0217798601359548\" \n",
       "                                                 Diabetes, urinary diseases and male infertility\n",
       "Central.Europe..Eastern.Europe..and.Central.Asia \"0.0333282440200436\"                           \n",
       "High.income                                      \"0.0532859344036023\"                           \n",
       "Latin.America.and.Caribbean                      \"0.059445583099081\"                            \n",
       "North.Africa.and.Middle.East                     \"0.0456736551743941\"                           \n",
       "South.Asia                                       \"0.0300464227115865\"                           \n",
       "Southeast.Asia..East.Asia.and.Oceania            \"0.0457999042827754\"                           \n",
       "                                                 Diarrhea, lower respiratory infections, meningitis, and other common infectious diseases\n",
       "Central.Europe..Eastern.Europe..and.Central.Asia \"0.0480578018442715\"                                                                    \n",
       "High.income                                      \"0.02957311172767\"                                                                      \n",
       "Latin.America.and.Caribbean                      \"0.0920730711447905\"                                                                    \n",
       "North.Africa.and.Middle.East                     \"0.105457299678585\"                                                                     \n",
       "South.Asia                                       \"0.214266213115124\"                                                                     \n",
       "Southeast.Asia..East.Asia.and.Oceania            \"0.081026373738974\"                                                                     \n",
       "                                                 Digestive diseases (except cirrhosis)\n",
       "Central.Europe..Eastern.Europe..and.Central.Asia \"0.0167763047149494\"                 \n",
       "High.income                                      \"0.0169225690896265\"                 \n",
       "Latin.America.and.Caribbean                      \"0.0169632908020917\"                 \n",
       "North.Africa.and.Middle.East                     \"0.0106007398904736\"                 \n",
       "South.Asia                                       \"0.0174174973525445\"                 \n",
       "Southeast.Asia..East.Asia.and.Oceania            \"0.014110808231362\"                  \n",
       "                                                 Gynecological diseases\n",
       "Central.Europe..Eastern.Europe..and.Central.Asia \"0.00413580466878963\" \n",
       "High.income                                      \"0.00525812763000648\" \n",
       "Latin.America.and.Caribbean                      \"0.00580285750279127\" \n",
       "North.Africa.and.Middle.East                     \"0.00642751404232513\" \n",
       "South.Asia                                       \"0.00435699777444944\" \n",
       "Southeast.Asia..East.Asia.and.Oceania            \"0.00599685986457065\" \n",
       "                                                 Hemoglobinopathies and hemolytic anemias\n",
       "Central.Europe..Eastern.Europe..and.Central.Asia \"0.00280362960019042\"                   \n",
       "High.income                                      \"0.00696434877051653\"                   \n",
       "Latin.America.and.Caribbean                      \"0.00766750330323881\"                   \n",
       "North.Africa.and.Middle.East                     \"0.0104312945657228\"                    \n",
       "South.Asia                                       \"0.00638720785813316\"                   \n",
       "Southeast.Asia..East.Asia.and.Oceania            \"0.0061877207532509\"                    \n",
       "                                                 Hepatitis              ⋯  \n",
       "Central.Europe..Eastern.Europe..and.Central.Asia \"0.000846502596493219\" \"⋯\"\n",
       "High.income                                      \"0.000879898998316794\" \"⋯\"\n",
       "Latin.America.and.Caribbean                      \"0.00124391608183627\"  \"⋯\"\n",
       "North.Africa.and.Middle.East                     \"0.00331099364269009\"  \"⋯\"\n",
       "South.Asia                                       \"0.0129629215748385\"   \"⋯\"\n",
       "Southeast.Asia..East.Asia.and.Oceania            \"0.00420569411972341\"  \"⋯\"\n",
       "                                                 Neonatal disorders  \n",
       "Central.Europe..Eastern.Europe..and.Central.Asia \"0.0256333441617377\"\n",
       "High.income                                      \"0.0164609420828892\"\n",
       "Latin.America.and.Caribbean                      \"0.0871724864680537\"\n",
       "North.Africa.and.Middle.East                     \"0.10056944347638\"  \n",
       "South.Asia                                       \"0.165191660333951\" \n",
       "Southeast.Asia..East.Asia.and.Oceania            \"0.0606467800288265\"\n",
       "                                                 Neoplasms           \n",
       "Central.Europe..Eastern.Europe..and.Central.Asia \"0.128750361445841\" \n",
       "High.income                                      \"0.18699221685447\"  \n",
       "Latin.America.and.Caribbean                      \"0.0839545011527448\"\n",
       "North.Africa.and.Middle.East                     \"0.0607236423399148\"\n",
       "South.Asia                                       \"0.0374291115595851\"\n",
       "Southeast.Asia..East.Asia.and.Oceania            \"0.14261744399815\"  \n",
       "                                                 Neurological disorders\n",
       "Central.Europe..Eastern.Europe..and.Central.Asia \"0.0311800836504041\"  \n",
       "High.income                                      \"0.0538482966439021\"  \n",
       "Latin.America.and.Caribbean                      \"0.0390784949467411\"  \n",
       "North.Africa.and.Middle.East                     \"0.0292791254927653\"  \n",
       "South.Asia                                       \"0.0337182716943239\"  \n",
       "Southeast.Asia..East.Asia.and.Oceania            \"0.0253385834382822\"  \n",
       "                                                 Nutritional deficiencies\n",
       "Central.Europe..Eastern.Europe..and.Central.Asia \"0.0142521573821491\"    \n",
       "High.income                                      \"0.00516527057386593\"   \n",
       "Latin.America.and.Caribbean                      \"0.0376458916746146\"    \n",
       "North.Africa.and.Middle.East                     \"0.0412117771274257\"    \n",
       "South.Asia                                       \"0.0551808801713907\"    \n",
       "Southeast.Asia..East.Asia.and.Oceania            \"0.0203038622815165\"    \n",
       "                                                 Oral disorders       \n",
       "Central.Europe..Eastern.Europe..and.Central.Asia \"0.00901642810836866\"\n",
       "High.income                                      \"0.0101315441008439\" \n",
       "Latin.America.and.Caribbean                      \"0.0108078108504257\" \n",
       "North.Africa.and.Middle.East                     \"0.0079897291171716\" \n",
       "South.Asia                                       \"0.00528736932906622\"\n",
       "Southeast.Asia..East.Asia.and.Oceania            \"0.00890750216213099\"\n",
       "                                                 Sense organ diseases\n",
       "Central.Europe..Eastern.Europe..and.Central.Asia \"0.0182278250966079\"\n",
       "High.income                                      \"0.0178453947955228\"\n",
       "Latin.America.and.Caribbean                      \"0.0193823831971698\"\n",
       "North.Africa.and.Middle.East                     \"0.0176250887362016\"\n",
       "South.Asia                                       \"0.0146149967375453\"\n",
       "Southeast.Asia..East.Asia.and.Oceania            \"0.0196296909914641\"\n",
       "                                                 Sexually transmitted diseases excluding HIV\n",
       "Central.Europe..Eastern.Europe..and.Central.Asia \"0.00094777851652404\"                      \n",
       "High.income                                      \"0.000758987330055868\"                     \n",
       "Latin.America.and.Caribbean                      \"0.00431547340785052\"                      \n",
       "North.Africa.and.Middle.East                     \"0.00308996328795197\"                      \n",
       "South.Asia                                       \"0.0057229113241059\"                       \n",
       "Southeast.Asia..East.Asia.and.Oceania            \"0.00284917235162768\"                      \n",
       "                                                 Skin and subcutaneous diseases\n",
       "Central.Europe..Eastern.Europe..and.Central.Asia \"0.0125148772294602\"          \n",
       "High.income                                      \"0.0229428755416952\"          \n",
       "Latin.America.and.Caribbean                      \"0.0243888585513585\"          \n",
       "North.Africa.and.Middle.East                     \"0.020203179425382\"           \n",
       "South.Asia                                       \"0.0138540441445633\"          \n",
       "Southeast.Asia..East.Asia.and.Oceania            \"0.0200006320957244\"          \n",
       "                                                 Sudden infant death syndrome\n",
       "Central.Europe..Eastern.Europe..and.Central.Asia \"0.000739722164137226\"      \n",
       "High.income                                      \"0.00136822558000452\"       \n",
       "Latin.America.and.Caribbean                      \"0.000626367922514827\"      \n",
       "North.Africa.and.Middle.East                     \"0.00065102482657913\"       \n",
       "South.Asia                                       \"0.00100672680391625\"       \n",
       "Southeast.Asia..East.Asia.and.Oceania            \"0.000510248109308454\"      \n",
       "                                                 Tuberculosis         \n",
       "Central.Europe..Eastern.Europe..and.Central.Asia \"0.0182764909724469\" \n",
       "High.income                                      \"0.00188240026579017\"\n",
       "Latin.America.and.Caribbean                      \"0.0090585223708531\" \n",
       "North.Africa.and.Middle.East                     \"0.00856929432487387\"\n",
       "South.Asia                                       \"0.0387455189596979\" \n",
       "Southeast.Asia..East.Asia.and.Oceania            \"0.0284207805430976\" "
      ]
     },
     "metadata": {},
     "output_type": "display_data"
    }
   ],
   "source": [
    "#Proportion of GBD attributable to each disease among \n",
    "#all burden of diseaes in the region\n",
    "GBD <- GBD[,-ncol(GBD)]\n",
    "apply(GBD,2,sum)\n",
    "\n",
    "Pr_GBD <- apply(GBD,1,function(x){x/unlist(apply(GBD,2,sum))})\n",
    "head(Pr_GBD)"
   ]
  },
  {
   "cell_type": "code",
   "execution_count": 82,
   "metadata": {
    "collapsed": false
   },
   "outputs": [],
   "source": [
    "Pr_GBD <- t(Pr_GBD)"
   ]
  },
  {
   "cell_type": "code",
   "execution_count": 83,
   "metadata": {
    "collapsed": false
   },
   "outputs": [
    {
     "data": {
      "text/html": [
       "<table>\n",
       "<thead><tr><th></th><th scope=col>Central.Europe..Eastern.Europe..and.Central.Asia</th><th scope=col>High.income</th><th scope=col>Latin.America.and.Caribbean</th><th scope=col>North.Africa.and.Middle.East</th><th scope=col>South.Asia</th><th scope=col>Southeast.Asia..East.Asia.and.Oceania</th><th scope=col>Sub.Saharian.Africa</th><th scope=col>Tot</th></tr></thead>\n",
       "<tbody>\n",
       "\t<tr><th scope=row>Cardiovascular and circulatory diseases</th><td>0.35086</td><td>0.18806</td><td>0.12997</td><td>0.18787</td><td>0.09234</td><td>0.17727</td><td>0.03354</td><td>0.12946</td></tr>\n",
       "\t<tr><th scope=row>Chronic respiratory diseases</th><td>0.03725</td><td>0.05892</td><td>0.04762</td><td>0.04676</td><td>0.06371</td><td>0.06898</td><td>0.02230</td><td>0.05067</td></tr>\n",
       "\t<tr><th scope=row>Cirrhosis of the liver</th><td>0.026996</td><td>0.017256</td><td>0.020574</td><td>0.014389</td><td>0.012688</td><td>0.015985</td><td>0.006231</td><td>0.013722</td></tr>\n",
       "\t<tr><th scope=row>Congenital anomalies</th><td>0.01372</td><td>0.00992</td><td>0.03132</td><td>0.04978</td><td>0.02103</td><td>0.02178</td><td>0.01331</td><td>0.01948</td></tr>\n",
       "\t<tr><th scope=row>Diabetes, urinary diseases and male infertility</th><td>0.03333</td><td>0.05329</td><td>0.05945</td><td>0.04567</td><td>0.03005</td><td>0.04580</td><td>0.01358</td><td>0.03415</td></tr>\n",
       "\t<tr><th scope=row>Diarrhea, lower respiratory infections, meningitis, and other common infectious diseases</th><td>0.04806</td><td>0.02957</td><td>0.09207</td><td>0.10546</td><td>0.21427</td><td>0.08103</td><td>0.22926</td><td>0.14832</td></tr>\n",
       "</tbody>\n",
       "</table>\n"
      ],
      "text/latex": [
       "\\begin{tabular}{r|llllllll}\n",
       "  & Central.Europe..Eastern.Europe..and.Central.Asia & High.income & Latin.America.and.Caribbean & North.Africa.and.Middle.East & South.Asia & Southeast.Asia..East.Asia.and.Oceania & Sub.Saharian.Africa & Tot\\\\\n",
       "\\hline\n",
       "\tCardiovascular and circulatory diseases & 0.35086 & 0.18806 & 0.12997 & 0.18787 & 0.09234 & 0.17727 & 0.03354 & 0.12946\\\\\n",
       "\tChronic respiratory diseases & 0.03725 & 0.05892 & 0.04762 & 0.04676 & 0.06371 & 0.06898 & 0.02230 & 0.05067\\\\\n",
       "\tCirrhosis of the liver & 0.026996 & 0.017256 & 0.020574 & 0.014389 & 0.012688 & 0.015985 & 0.006231 & 0.013722\\\\\n",
       "\tCongenital anomalies & 0.01372 & 0.00992 & 0.03132 & 0.04978 & 0.02103 & 0.02178 & 0.01331 & 0.01948\\\\\n",
       "\tDiabetes, urinary diseases and male infertility & 0.03333 & 0.05329 & 0.05945 & 0.04567 & 0.03005 & 0.04580 & 0.01358 & 0.03415\\\\\n",
       "\tDiarrhea, lower respiratory infections, meningitis, and other common infectious diseases & 0.04806 & 0.02957 & 0.09207 & 0.10546 & 0.21427 & 0.08103 & 0.22926 & 0.14832\\\\\n",
       "\\end{tabular}\n"
      ],
      "text/markdown": [
       "1. 0.350858980692946\n",
       "2. 0.0372537444683037\n",
       "3. 0.0269957412490737\n",
       "4. 0.013723943877795\n",
       "5. 0.0333282440200436\n",
       "6. 0.0480578018442715\n",
       "7. 0.188061072831755\n",
       "8. 0.0589155917484321\n",
       "9. 0.0172559448100444\n",
       "10. 0.00991959190204179\n",
       "11. 0.0532859344036023\n",
       "12. 0.02957311172767\n",
       "13. 0.129973519670985\n",
       "14. 0.0476238406119794\n",
       "15. 0.0205737666197525\n",
       "16. 0.0313184114667515\n",
       "17. 0.059445583099081\n",
       "18. 0.0920730711447905\n",
       "19. 0.18786931406707\n",
       "20. 0.0467557075489037\n",
       "21. 0.0143893225945067\n",
       "22. 0.0497790011743029\n",
       "23. 0.0456736551743941\n",
       "24. 0.105457299678585\n",
       "25. 0.0923434700901243\n",
       "26. 0.0637141611320367\n",
       "27. 0.0126878877054454\n",
       "28. 0.0210283123049935\n",
       "29. 0.0300464227115865\n",
       "30. 0.214266213115124\n",
       "31. 0.177268647266155\n",
       "32. 0.0689751282016789\n",
       "33. 0.0159846270125831\n",
       "34. 0.0217798601359548\n",
       "35. 0.0457999042827754\n",
       "36. 0.081026373738974\n",
       "37. 0.0335369332115818\n",
       "38. 0.0223012035474727\n",
       "39. 0.00623129108652737\n",
       "40. 0.0133101071810827\n",
       "41. 0.0135778124110504\n",
       "42. 0.229258956705191\n",
       "43. 0.129457606818034\n",
       "44. 0.0506676294059161\n",
       "45. 0.0137215538961821\n",
       "46. 0.0194834536167834\n",
       "47. 0.0341528428016898\n",
       "48. 0.14832257507258\n",
       "\n",
       "\n"
      ],
      "text/plain": [
       "                                                                                         Central.Europe..Eastern.Europe..and.Central.Asia\n",
       "Cardiovascular and circulatory diseases                                                                                           0.35086\n",
       "Chronic respiratory diseases                                                                                                      0.03725\n",
       "Cirrhosis of the liver                                                                                                            0.02700\n",
       "Congenital anomalies                                                                                                              0.01372\n",
       "Diabetes, urinary diseases and male infertility                                                                                   0.03333\n",
       "Diarrhea, lower respiratory infections, meningitis, and other common infectious diseases                                          0.04806\n",
       "                                                                                         High.income\n",
       "Cardiovascular and circulatory diseases                                                      0.18806\n",
       "Chronic respiratory diseases                                                                 0.05892\n",
       "Cirrhosis of the liver                                                                       0.01726\n",
       "Congenital anomalies                                                                         0.00992\n",
       "Diabetes, urinary diseases and male infertility                                              0.05329\n",
       "Diarrhea, lower respiratory infections, meningitis, and other common infectious diseases     0.02957\n",
       "                                                                                         Latin.America.and.Caribbean\n",
       "Cardiovascular and circulatory diseases                                                                      0.12997\n",
       "Chronic respiratory diseases                                                                                 0.04762\n",
       "Cirrhosis of the liver                                                                                       0.02057\n",
       "Congenital anomalies                                                                                         0.03132\n",
       "Diabetes, urinary diseases and male infertility                                                              0.05945\n",
       "Diarrhea, lower respiratory infections, meningitis, and other common infectious diseases                     0.09207\n",
       "                                                                                         North.Africa.and.Middle.East\n",
       "Cardiovascular and circulatory diseases                                                                       0.18787\n",
       "Chronic respiratory diseases                                                                                  0.04676\n",
       "Cirrhosis of the liver                                                                                        0.01439\n",
       "Congenital anomalies                                                                                          0.04978\n",
       "Diabetes, urinary diseases and male infertility                                                               0.04567\n",
       "Diarrhea, lower respiratory infections, meningitis, and other common infectious diseases                      0.10546\n",
       "                                                                                         South.Asia\n",
       "Cardiovascular and circulatory diseases                                                     0.09234\n",
       "Chronic respiratory diseases                                                                0.06371\n",
       "Cirrhosis of the liver                                                                      0.01269\n",
       "Congenital anomalies                                                                        0.02103\n",
       "Diabetes, urinary diseases and male infertility                                             0.03005\n",
       "Diarrhea, lower respiratory infections, meningitis, and other common infectious diseases    0.21427\n",
       "                                                                                         Southeast.Asia..East.Asia.and.Oceania\n",
       "Cardiovascular and circulatory diseases                                                                                0.17727\n",
       "Chronic respiratory diseases                                                                                           0.06898\n",
       "Cirrhosis of the liver                                                                                                 0.01598\n",
       "Congenital anomalies                                                                                                   0.02178\n",
       "Diabetes, urinary diseases and male infertility                                                                        0.04580\n",
       "Diarrhea, lower respiratory infections, meningitis, and other common infectious diseases                               0.08103\n",
       "                                                                                         Sub.Saharian.Africa\n",
       "Cardiovascular and circulatory diseases                                                             0.033537\n",
       "Chronic respiratory diseases                                                                        0.022301\n",
       "Cirrhosis of the liver                                                                              0.006231\n",
       "Congenital anomalies                                                                                0.013310\n",
       "Diabetes, urinary diseases and male infertility                                                     0.013578\n",
       "Diarrhea, lower respiratory infections, meningitis, and other common infectious diseases            0.229259\n",
       "                                                                                             Tot\n",
       "Cardiovascular and circulatory diseases                                                  0.12946\n",
       "Chronic respiratory diseases                                                             0.05067\n",
       "Cirrhosis of the liver                                                                   0.01372\n",
       "Congenital anomalies                                                                     0.01948\n",
       "Diabetes, urinary diseases and male infertility                                          0.03415\n",
       "Diarrhea, lower respiratory infections, meningitis, and other common infectious diseases 0.14832"
      ]
     },
     "metadata": {},
     "output_type": "display_data"
    }
   ],
   "source": [
    "head(Pr_GBD)"
   ]
  },
  {
   "cell_type": "code",
   "execution_count": 84,
   "metadata": {
    "collapsed": false
   },
   "outputs": [
    {
     "data": {
      "text/plain": [
       "\n",
       "TRUE \n",
       "  27 "
      ]
     },
     "metadata": {},
     "output_type": "display_data"
    },
    {
     "data": {
      "text/plain": [
       "\n",
       "TRUE \n",
       "   8 "
      ]
     },
     "metadata": {},
     "output_type": "display_data"
    }
   ],
   "source": [
    "#Ratio between research and burden\n",
    "table(rownames(Pr_RCT)==rownames(Pr_GBD))\n",
    "table(colnames(Pr_RCT)==colnames(Pr_GBD))\n"
   ]
  },
  {
   "cell_type": "code",
   "execution_count": 85,
   "metadata": {
    "collapsed": false,
    "scrolled": true
   },
   "outputs": [
    {
     "data": {
      "text/html": [
       "<table>\n",
       "<thead><tr><th></th><th scope=col>Central.Europe..Eastern.Europe..and.Central.Asia</th><th scope=col>High.income</th><th scope=col>Latin.America.and.Caribbean</th><th scope=col>North.Africa.and.Middle.East</th><th scope=col>South.Asia</th><th scope=col>Southeast.Asia..East.Asia.and.Oceania</th><th scope=col>Sub.Saharian.Africa</th><th scope=col>Tot</th></tr></thead>\n",
       "<tbody>\n",
       "\t<tr><th scope=row>Cardiovascular and circulatory diseases</th><td>0.3213</td><td>0.6207</td><td>0.8104</td><td>0.5235</td><td>0.8913</td><td>0.7234</td><td>1.4995</td><td>0.8885</td></tr>\n",
       "\t<tr><th scope=row>Chronic respiratory diseases</th><td>2.4587</td><td>1.0318</td><td>1.4231</td><td>0.8153</td><td>0.8061</td><td>0.6919</td><td>2.4805</td><td>1.1124</td></tr>\n",
       "\t<tr><th scope=row>Cirrhosis of the liver</th><td>0.5187</td><td>0.8694</td><td>0.5915</td><td>1.1445</td><td>2.0809</td><td>1.7719</td><td>0.4346</td><td>1.2446</td></tr>\n",
       "\t<tr><th scope=row>Congenital anomalies</th><td>0.7184</td><td>2.0994</td><td>0.3685</td><td>0.3401</td><td>0.5199</td><td>0.6812</td><td>0.4650</td><td>0.9829</td></tr>\n",
       "\t<tr><th scope=row>Diabetes, urinary diseases and male infertility</th><td>4.309</td><td>2.511</td><td>2.700</td><td>3.119</td><td>4.888</td><td>2.829</td><td>7.465</td><td>3.846</td></tr>\n",
       "\t<tr><th scope=row>Diarrhea, lower respiratory infections, meningitis, and other common infectious diseases</th><td>0.8564</td><td>1.2664</td><td>0.5652</td><td>0.2763</td><td>0.3437</td><td>0.5595</td><td>0.2531</td><td>0.2718</td></tr>\n",
       "</tbody>\n",
       "</table>\n"
      ],
      "text/latex": [
       "\\begin{tabular}{r|llllllll}\n",
       "  & Central.Europe..Eastern.Europe..and.Central.Asia & High.income & Latin.America.and.Caribbean & North.Africa.and.Middle.East & South.Asia & Southeast.Asia..East.Asia.and.Oceania & Sub.Saharian.Africa & Tot\\\\\n",
       "\\hline\n",
       "\tCardiovascular and circulatory diseases & 0.3213 & 0.6207 & 0.8104 & 0.5235 & 0.8913 & 0.7234 & 1.4995 & 0.8885\\\\\n",
       "\tChronic respiratory diseases & 2.4587 & 1.0318 & 1.4231 & 0.8153 & 0.8061 & 0.6919 & 2.4805 & 1.1124\\\\\n",
       "\tCirrhosis of the liver & 0.5187 & 0.8694 & 0.5915 & 1.1445 & 2.0809 & 1.7719 & 0.4346 & 1.2446\\\\\n",
       "\tCongenital anomalies & 0.7184 & 2.0994 & 0.3685 & 0.3401 & 0.5199 & 0.6812 & 0.4650 & 0.9829\\\\\n",
       "\tDiabetes, urinary diseases and male infertility & 4.309 & 2.511 & 2.700 & 3.119 & 4.888 & 2.829 & 7.465 & 3.846\\\\\n",
       "\tDiarrhea, lower respiratory infections, meningitis, and other common infectious diseases & 0.8564 & 1.2664 & 0.5652 & 0.2763 & 0.3437 & 0.5595 & 0.2531 & 0.2718\\\\\n",
       "\\end{tabular}\n"
      ],
      "text/plain": [
       "                                                                                         Central.Europe..Eastern.Europe..and.Central.Asia\n",
       "Cardiovascular and circulatory diseases                                                                                            0.3213\n",
       "Chronic respiratory diseases                                                                                                       2.4587\n",
       "Cirrhosis of the liver                                                                                                             0.5187\n",
       "Congenital anomalies                                                                                                               0.7184\n",
       "Diabetes, urinary diseases and male infertility                                                                                    4.3090\n",
       "Diarrhea, lower respiratory infections, meningitis, and other common infectious diseases                                           0.8564\n",
       "                                                                                         High.income\n",
       "Cardiovascular and circulatory diseases                                                       0.6207\n",
       "Chronic respiratory diseases                                                                  1.0318\n",
       "Cirrhosis of the liver                                                                        0.8694\n",
       "Congenital anomalies                                                                          2.0994\n",
       "Diabetes, urinary diseases and male infertility                                               2.5113\n",
       "Diarrhea, lower respiratory infections, meningitis, and other common infectious diseases      1.2664\n",
       "                                                                                         Latin.America.and.Caribbean\n",
       "Cardiovascular and circulatory diseases                                                                       0.8104\n",
       "Chronic respiratory diseases                                                                                  1.4231\n",
       "Cirrhosis of the liver                                                                                        0.5915\n",
       "Congenital anomalies                                                                                          0.3685\n",
       "Diabetes, urinary diseases and male infertility                                                               2.7001\n",
       "Diarrhea, lower respiratory infections, meningitis, and other common infectious diseases                      0.5652\n",
       "                                                                                         North.Africa.and.Middle.East\n",
       "Cardiovascular and circulatory diseases                                                                        0.5235\n",
       "Chronic respiratory diseases                                                                                   0.8153\n",
       "Cirrhosis of the liver                                                                                         1.1445\n",
       "Congenital anomalies                                                                                           0.3401\n",
       "Diabetes, urinary diseases and male infertility                                                                3.1191\n",
       "Diarrhea, lower respiratory infections, meningitis, and other common infectious diseases                       0.2763\n",
       "                                                                                         South.Asia\n",
       "Cardiovascular and circulatory diseases                                                      0.8913\n",
       "Chronic respiratory diseases                                                                 0.8061\n",
       "Cirrhosis of the liver                                                                       2.0809\n",
       "Congenital anomalies                                                                         0.5199\n",
       "Diabetes, urinary diseases and male infertility                                              4.8879\n",
       "Diarrhea, lower respiratory infections, meningitis, and other common infectious diseases     0.3437\n",
       "                                                                                         Southeast.Asia..East.Asia.and.Oceania\n",
       "Cardiovascular and circulatory diseases                                                                                 0.7234\n",
       "Chronic respiratory diseases                                                                                            0.6919\n",
       "Cirrhosis of the liver                                                                                                  1.7719\n",
       "Congenital anomalies                                                                                                    0.6812\n",
       "Diabetes, urinary diseases and male infertility                                                                         2.8292\n",
       "Diarrhea, lower respiratory infections, meningitis, and other common infectious diseases                                0.5595\n",
       "                                                                                         Sub.Saharian.Africa\n",
       "Cardiovascular and circulatory diseases                                                               1.4995\n",
       "Chronic respiratory diseases                                                                          2.4805\n",
       "Cirrhosis of the liver                                                                                0.4346\n",
       "Congenital anomalies                                                                                  0.4650\n",
       "Diabetes, urinary diseases and male infertility                                                       7.4647\n",
       "Diarrhea, lower respiratory infections, meningitis, and other common infectious diseases              0.2531\n",
       "                                                                                            Tot\n",
       "Cardiovascular and circulatory diseases                                                  0.8885\n",
       "Chronic respiratory diseases                                                             1.1124\n",
       "Cirrhosis of the liver                                                                   1.2446\n",
       "Congenital anomalies                                                                     0.9829\n",
       "Diabetes, urinary diseases and male infertility                                          3.8462\n",
       "Diarrhea, lower respiratory infections, meningitis, and other common infectious diseases 0.2718"
      ]
     },
     "metadata": {},
     "output_type": "display_data"
    }
   ],
   "source": [
    "R <- Pr_RCT/Pr_GBD\n",
    "head(R)"
   ]
  },
  {
   "cell_type": "markdown",
   "metadata": {},
   "source": [
    "We consider gaps only for disease corresponding to a local burden higher than 1%"
   ]
  },
  {
   "cell_type": "code",
   "execution_count": 86,
   "metadata": {
    "collapsed": false
   },
   "outputs": [],
   "source": [
    "GAPS <- which(R<=1/2 & Pr_GBD>=0.01, arr.ind=TRUE)\n",
    "GAPS <- data.frame(GAPS,row.names=NULL)"
   ]
  },
  {
   "cell_type": "code",
   "execution_count": 87,
   "metadata": {
    "collapsed": false,
    "scrolled": true
   },
   "outputs": [
    {
     "data": {
      "text/html": [
       "<table>\n",
       "<thead><tr><th></th><th scope=col>row</th><th scope=col>col</th></tr></thead>\n",
       "<tbody>\n",
       "\t<tr><th scope=row>1</th><td>1</td><td>1</td></tr>\n",
       "\t<tr><th scope=row>2</th><td>18</td><td> 1</td></tr>\n",
       "\t<tr><th scope=row>3</th><td>27</td><td> 1</td></tr>\n",
       "\t<tr><th scope=row>4</th><td>18</td><td> 2</td></tr>\n",
       "\t<tr><th scope=row>5</th><td>4</td><td>3</td></tr>\n",
       "\t<tr><th scope=row>6</th><td>18</td><td> 3</td></tr>\n",
       "</tbody>\n",
       "</table>\n"
      ],
      "text/latex": [
       "\\begin{tabular}{r|ll}\n",
       "  & row & col\\\\\n",
       "\\hline\n",
       "\t1 & 1 & 1\\\\\n",
       "\t2 & 18 &  1\\\\\n",
       "\t3 & 27 &  1\\\\\n",
       "\t4 & 18 &  2\\\\\n",
       "\t5 & 4 & 3\\\\\n",
       "\t6 & 18 &  3\\\\\n",
       "\\end{tabular}\n"
      ],
      "text/plain": [
       "  row col\n",
       "1   1   1\n",
       "2  18   1\n",
       "3  27   1\n",
       "4  18   2\n",
       "5   4   3\n",
       "6  18   3"
      ]
     },
     "metadata": {},
     "output_type": "display_data"
    }
   ],
   "source": [
    "head(GAPS)"
   ]
  },
  {
   "cell_type": "code",
   "execution_count": 88,
   "metadata": {
    "collapsed": false
   },
   "outputs": [],
   "source": [
    "GAPS$Disease <- rownames(R)[as.numeric(GAPS$row)]\n",
    "GAPS$Region <- colnames(R)[as.numeric(GAPS$col)]\n",
    "GAPS$Ratio <- sapply(1:nrow(GAPS),function(i){R[GAPS$row[i],GAPS$col[i]]})\n",
    "GAPS$RCT <- sapply(1:nrow(GAPS),function(i){RCT[GAPS$row[i],GAPS$col[i]]})\n",
    "GAPS$Pr_RCT <- sapply(1:nrow(GAPS),function(i){Pr_RCT[GAPS$row[i],GAPS$col[i]]})\n",
    "GAPS$GBD <- sapply(1:nrow(GAPS),function(i){GBD[GAPS$row[i],GAPS$col[i]]})\n",
    "GAPS$Pr_GBD <- sapply(1:nrow(GAPS),function(i){Pr_GBD[GAPS$row[i],GAPS$col[i]]})"
   ]
  },
  {
   "cell_type": "code",
   "execution_count": 89,
   "metadata": {
    "collapsed": false
   },
   "outputs": [],
   "source": [
    "#Cleaning region names\n",
    "#Only local gaps\n",
    "GAPS <- droplevels(GAPS[GAPS$Region!=\"Tot\",])\n",
    "GAPS$Region <- factor(GAPS$Region)\n",
    "levels(GAPS$Region) <- c('Central Europe, Eastern Europe, and Central Asia',\n",
    "                         'High-income',\n",
    "                         'Latin America and Caribbean',\n",
    "                         'North Africa and Middle East',\n",
    "                         'South Asia',\n",
    "                         'Southeast Asia, East Asia and Oceania',\n",
    "                         'Sub-Saharian Africa')\n"
   ]
  },
  {
   "cell_type": "code",
   "execution_count": 90,
   "metadata": {
    "collapsed": false,
    "scrolled": false
   },
   "outputs": [
    {
     "data": {
      "text/html": [
       "<table>\n",
       "<thead><tr><th></th><th scope=col>Region</th><th scope=col>RCT</th><th scope=col>Pr_RCT</th><th scope=col>GBD</th><th scope=col>Pr_GBD</th></tr></thead>\n",
       "<tbody>\n",
       "\t<tr><th scope=row>6</th><td>Latin America and Caribbean</td><td>41                         </td><td>0.00860260176248426        </td><td>10069066.126               </td><td>0.0871724864680537         </td></tr>\n",
       "\t<tr><th scope=row>10</th><td>North Africa and Middle East</td><td>181                         </td><td>0.0208453299550846          </td><td>10285578.519                </td><td>0.10056944347638            </td></tr>\n",
       "\t<tr><th scope=row>13</th><td>South Asia        </td><td>86                </td><td>0.0177392739273927</td><td>100884520.59      </td><td>0.165191660333951 </td></tr>\n",
       "\t<tr><th scope=row>16</th><td>Southeast Asia, East Asia and Oceania</td><td>47                                   </td><td>0.00487602448386762                  </td><td>27954940.493                         </td><td>0.0606467800288265                   </td></tr>\n",
       "\t<tr><th scope=row>20</th><td>Sub-Saharian Africa</td><td>40                 </td><td>0.0154738878143133 </td><td>63398508.5998      </td><td>0.115784768564737  </td></tr>\n",
       "</tbody>\n",
       "</table>\n"
      ],
      "text/latex": [
       "\\begin{tabular}{r|lllll}\n",
       "  & Region & RCT & Pr\\_RCT & GBD & Pr\\_GBD\\\\\n",
       "\\hline\n",
       "\t6 & Latin America and Caribbean & 41                          & 0.00860260176248426         & 10069066.126                & 0.0871724864680537         \\\\\n",
       "\t10 & North Africa and Middle East & 181                          & 0.0208453299550846           & 10285578.519                 & 0.10056944347638            \\\\\n",
       "\t13 & South Asia         & 86                 & 0.0177392739273927 & 100884520.59       & 0.165191660333951 \\\\\n",
       "\t16 & Southeast Asia, East Asia and Oceania & 47                                    & 0.00487602448386762                   & 27954940.493                          & 0.0606467800288265                   \\\\\n",
       "\t20 & Sub-Saharian Africa & 40                  & 0.0154738878143133  & 63398508.5998       & 0.115784768564737  \\\\\n",
       "\\end{tabular}\n"
      ],
      "text/plain": [
       "                                  Region RCT   Pr_RCT       GBD  Pr_GBD\n",
       "6            Latin America and Caribbean  41 0.008603  10069066 0.08717\n",
       "10          North Africa and Middle East 181 0.020845  10285579 0.10057\n",
       "13                            South Asia  86 0.017739 100884521 0.16519\n",
       "16 Southeast Asia, East Asia and Oceania  47 0.004876  27954940 0.06065\n",
       "20                   Sub-Saharian Africa  40 0.015474  63398509 0.11578"
      ]
     },
     "metadata": {},
     "output_type": "display_data"
    }
   ],
   "source": [
    "GAPS[GAPS$Pr_GBD>=0.05 & GAPS$Disease==\"Neonatal disorders\",-c(1:3,5)]"
   ]
  },
  {
   "cell_type": "code",
   "execution_count": 91,
   "metadata": {
    "collapsed": false,
    "scrolled": false
   },
   "outputs": [
    {
     "data": {
      "text/html": [
       "<table>\n",
       "<thead><tr><th></th><th scope=col>Region</th><th scope=col>RCT</th><th scope=col>Pr_RCT</th><th scope=col>GBD</th><th scope=col>Pr_GBD</th></tr></thead>\n",
       "<tbody>\n",
       "\t<tr><th scope=row>9</th><td>North Africa and Middle East</td><td>253                         </td><td>0.0291373949095935          </td><td>10785476.172                </td><td>0.105457299678585           </td></tr>\n",
       "\t<tr><th scope=row>12</th><td>South Asia        </td><td>357               </td><td>0.0736386138613861</td><td>130854936.2907    </td><td>0.214266213115124 </td></tr>\n",
       "\t<tr><th scope=row>19</th><td>Sub-Saharian Africa</td><td>150                </td><td>0.058027079303675  </td><td>125531847.741516   </td><td>0.229258956705191  </td></tr>\n",
       "</tbody>\n",
       "</table>\n"
      ],
      "text/latex": [
       "\\begin{tabular}{r|lllll}\n",
       "  & Region & RCT & Pr\\_RCT & GBD & Pr\\_GBD\\\\\n",
       "\\hline\n",
       "\t9 & North Africa and Middle East & 253                          & 0.0291373949095935           & 10785476.172                 & 0.105457299678585           \\\\\n",
       "\t12 & South Asia         & 357                & 0.0736386138613861 & 130854936.2907     & 0.214266213115124 \\\\\n",
       "\t19 & Sub-Saharian Africa & 150                 & 0.058027079303675   & 125531847.741516    & 0.229258956705191  \\\\\n",
       "\\end{tabular}\n"
      ],
      "text/plain": [
       "                         Region RCT  Pr_RCT       GBD Pr_GBD\n",
       "9  North Africa and Middle East 253 0.02914  10785476 0.1055\n",
       "12                   South Asia 357 0.07364 130854936 0.2143\n",
       "19          Sub-Saharian Africa 150 0.05803 125531848 0.2293"
      ]
     },
     "metadata": {},
     "output_type": "display_data"
    }
   ],
   "source": [
    "GAPS[GAPS$Pr_GBD>=0.05 & 1:nrow(GAPS)%in%grep(\"Diarrhea\",GAPS$Dis),-c(1:3,5)]"
   ]
  },
  {
   "cell_type": "code",
   "execution_count": 92,
   "metadata": {
    "collapsed": false,
    "scrolled": true
   },
   "outputs": [
    {
     "data": {
      "text/html": [
       "<table>\n",
       "<thead><tr><th></th><th scope=col>Disease</th><th scope=col>Region</th><th scope=col>RCT</th><th scope=col>Pr_RCT</th><th scope=col>GBD</th><th scope=col>Pr_GBD</th></tr></thead>\n",
       "<tbody>\n",
       "\t<tr><th scope=row>1</th><td>Cardiovascular and circulatory diseases         </td><td>Central Europe, Eastern Europe, and Central Asia</td><td>789                                             </td><td>0.112746498999714                               </td><td>53161406.515                                    </td><td>0.350858980692946                               </td></tr>\n",
       "\t<tr><th scope=row>6</th><td>Neonatal disorders         </td><td>Latin America and Caribbean</td><td>41                         </td><td>0.00860260176248426        </td><td>10069066.126               </td><td>0.0871724864680537         </td></tr>\n",
       "\t<tr><th scope=row>9</th><td>Diarrhea, lower respiratory infections, meningitis, and other common infectious diseases</td><td>North Africa and Middle East                                                            </td><td>253                                                                                     </td><td>0.0291373949095935                                                                      </td><td>10785476.172                                                                            </td><td>0.105457299678585                                                                       </td></tr>\n",
       "\t<tr><th scope=row>10</th><td>Neonatal disorders          </td><td>North Africa and Middle East</td><td>181                         </td><td>0.0208453299550846          </td><td>10285578.519                </td><td>0.10056944347638            </td></tr>\n",
       "\t<tr><th scope=row>12</th><td>Diarrhea, lower respiratory infections, meningitis, and other common infectious diseases</td><td>South Asia                                                                              </td><td>357                                                                                     </td><td>0.0736386138613861                                                                      </td><td>130854936.2907                                                                          </td><td>0.214266213115124                                                                       </td></tr>\n",
       "\t<tr><th scope=row>13</th><td>Neonatal disorders</td><td>South Asia        </td><td>86                </td><td>0.0177392739273927</td><td>100884520.59      </td><td>0.165191660333951 </td></tr>\n",
       "\t<tr><th scope=row>16</th><td>Neonatal disorders                   </td><td>Southeast Asia, East Asia and Oceania</td><td>47                                   </td><td>0.00487602448386762                  </td><td>27954940.493                         </td><td>0.0606467800288265                   </td></tr>\n",
       "\t<tr><th scope=row>19</th><td>Diarrhea, lower respiratory infections, meningitis, and other common infectious diseases</td><td>Sub-Saharian Africa                                                                     </td><td>150                                                                                     </td><td>0.058027079303675                                                                       </td><td>125531847.741516                                                                        </td><td>0.229258956705191                                                                       </td></tr>\n",
       "\t<tr><th scope=row>20</th><td>Neonatal disorders </td><td>Sub-Saharian Africa</td><td>40                 </td><td>0.0154738878143133 </td><td>63398508.5998      </td><td>0.115784768564737  </td></tr>\n",
       "</tbody>\n",
       "</table>\n"
      ],
      "text/latex": [
       "\\begin{tabular}{r|llllll}\n",
       "  & Disease & Region & RCT & Pr\\_RCT & GBD & Pr\\_GBD\\\\\n",
       "\\hline\n",
       "\t1 & Cardiovascular and circulatory diseases          & Central Europe, Eastern Europe, and Central Asia & 789                                              & 0.112746498999714                                & 53161406.515                                     & 0.350858980692946                               \\\\\n",
       "\t6 & Neonatal disorders          & Latin America and Caribbean & 41                          & 0.00860260176248426         & 10069066.126                & 0.0871724864680537         \\\\\n",
       "\t9 & Diarrhea, lower respiratory infections, meningitis, and other common infectious diseases & North Africa and Middle East                                                             & 253                                                                                      & 0.0291373949095935                                                                       & 10785476.172                                                                             & 0.105457299678585                                                                       \\\\\n",
       "\t10 & Neonatal disorders           & North Africa and Middle East & 181                          & 0.0208453299550846           & 10285578.519                 & 0.10056944347638            \\\\\n",
       "\t12 & Diarrhea, lower respiratory infections, meningitis, and other common infectious diseases & South Asia                                                                               & 357                                                                                      & 0.0736386138613861                                                                       & 130854936.2907                                                                           & 0.214266213115124                                                                       \\\\\n",
       "\t13 & Neonatal disorders & South Asia         & 86                 & 0.0177392739273927 & 100884520.59       & 0.165191660333951 \\\\\n",
       "\t16 & Neonatal disorders                    & Southeast Asia, East Asia and Oceania & 47                                    & 0.00487602448386762                   & 27954940.493                          & 0.0606467800288265                   \\\\\n",
       "\t19 & Diarrhea, lower respiratory infections, meningitis, and other common infectious diseases & Sub-Saharian Africa                                                                      & 150                                                                                      & 0.058027079303675                                                                        & 125531847.741516                                                                         & 0.229258956705191                                                                       \\\\\n",
       "\t20 & Neonatal disorders  & Sub-Saharian Africa & 40                  & 0.0154738878143133  & 63398508.5998       & 0.115784768564737  \\\\\n",
       "\\end{tabular}\n"
      ],
      "text/plain": [
       "                                                                                    Disease\n",
       "1                                                   Cardiovascular and circulatory diseases\n",
       "6                                                                        Neonatal disorders\n",
       "9  Diarrhea, lower respiratory infections, meningitis, and other common infectious diseases\n",
       "10                                                                       Neonatal disorders\n",
       "12 Diarrhea, lower respiratory infections, meningitis, and other common infectious diseases\n",
       "13                                                                       Neonatal disorders\n",
       "16                                                                       Neonatal disorders\n",
       "19 Diarrhea, lower respiratory infections, meningitis, and other common infectious diseases\n",
       "20                                                                       Neonatal disorders\n",
       "                                             Region RCT   Pr_RCT       GBD\n",
       "1  Central Europe, Eastern Europe, and Central Asia 789 0.112746  53161407\n",
       "6                       Latin America and Caribbean  41 0.008603  10069066\n",
       "9                      North Africa and Middle East 253 0.029137  10785476\n",
       "10                     North Africa and Middle East 181 0.020845  10285579\n",
       "12                                       South Asia 357 0.073639 130854936\n",
       "13                                       South Asia  86 0.017739 100884521\n",
       "16            Southeast Asia, East Asia and Oceania  47 0.004876  27954940\n",
       "19                              Sub-Saharian Africa 150 0.058027 125531848\n",
       "20                              Sub-Saharian Africa  40 0.015474  63398509\n",
       "    Pr_GBD\n",
       "1  0.35086\n",
       "6  0.08717\n",
       "9  0.10546\n",
       "10 0.10057\n",
       "12 0.21427\n",
       "13 0.16519\n",
       "16 0.06065\n",
       "19 0.22926\n",
       "20 0.11578"
      ]
     },
     "metadata": {},
     "output_type": "display_data"
    }
   ],
   "source": [
    "GAPS[GAPS$Pr_GBD>=0.05,-c(1:2,5)]"
   ]
  },
  {
   "cell_type": "code",
   "execution_count": 93,
   "metadata": {
    "collapsed": false,
    "scrolled": true
   },
   "outputs": [
    {
     "data": {
      "text/html": [
       "<table>\n",
       "<thead><tr><th></th><th scope=col>Disease</th><th scope=col>Region</th><th scope=col>RCT</th><th scope=col>Pr_RCT</th><th scope=col>GBD</th><th scope=col>Pr_GBD</th></tr></thead>\n",
       "<tbody>\n",
       "\t<tr><th scope=row>2</th><td>Neonatal disorders                              </td><td>Central Europe, Eastern Europe, and Central Asia</td><td>38                                              </td><td>0.00543012289225493                             </td><td>3883909.788                                     </td><td>0.0256333441617377                              </td></tr>\n",
       "\t<tr><th scope=row>3</th><td>Tuberculosis                                    </td><td>Central Europe, Eastern Europe, and Central Asia</td><td>21                                              </td><td>0.00300085738782509                             </td><td>2769215.04                                      </td><td>0.0182764909724469                              </td></tr>\n",
       "\t<tr><th scope=row>4</th><td>Neonatal disorders</td><td>High-income       </td><td>553               </td><td>0.0081733398365332</td><td>3811551.90397     </td><td>0.0164609420828892</td></tr>\n",
       "\t<tr><th scope=row>5</th><td>Congenital anomalies       </td><td>Latin America and Caribbean</td><td>55                         </td><td>0.0115400755350399         </td><td>3617507.872                </td><td>0.0313184114667515         </td></tr>\n",
       "\t<tr><th scope=row>7</th><td>Nutritional deficiencies   </td><td>Latin America and Caribbean</td><td>78                         </td><td>0.0163659253042384         </td><td>4348378.57679833           </td><td>0.0376458916746146         </td></tr>\n",
       "\t<tr><th scope=row>8</th><td>Congenital anomalies        </td><td>North Africa and Middle East</td><td>147                         </td><td>0.0169296326154555          </td><td>5091067.5                   </td><td>0.0497790011743029          </td></tr>\n",
       "\t<tr><th scope=row>11</th><td>Nutritional deficiencies    </td><td>North Africa and Middle East</td><td>134                         </td><td>0.0154324542208914          </td><td>4214868.4023614             </td><td>0.0412117771274257          </td></tr>\n",
       "\t<tr><th scope=row>14</th><td>Tuberculosis      </td><td>South Asia        </td><td>54                </td><td>0.0111386138613861</td><td>23662351.34       </td><td>0.0387455189596979</td></tr>\n",
       "\t<tr><th scope=row>15</th><td>Neglected tropical diseases excluding malaria</td><td>Southeast Asia, East Asia and Oceania        </td><td>65                                           </td><td>0.00674343811598714                          </td><td>7139081.1718283                              </td><td>0.0154878628893602                           </td></tr>\n",
       "\t<tr><th scope=row>17</th><td>Tuberculosis                         </td><td>Southeast Asia, East Asia and Oceania</td><td>70                                   </td><td>0.00726216412490922                  </td><td>13100468.458                         </td><td>0.0284207805430976                   </td></tr>\n",
       "\t<tr><th scope=row>18</th><td>Congenital anomalies</td><td>Sub-Saharian Africa </td><td>16                  </td><td>0.00618955512572534 </td><td>7288013.398         </td><td>0.0133101071810827  </td></tr>\n",
       "\t<tr><th scope=row>21</th><td>Sexually transmitted diseases excluding HIV</td><td>Sub-Saharian Africa                        </td><td>9                                          </td><td>0.0034816247582205                         </td><td>6979984.6827                               </td><td>0.0127475539870094                         </td></tr>\n",
       "</tbody>\n",
       "</table>\n"
      ],
      "text/latex": [
       "\\begin{tabular}{r|llllll}\n",
       "  & Disease & Region & RCT & Pr\\_RCT & GBD & Pr\\_GBD\\\\\n",
       "\\hline\n",
       "\t2 & Neonatal disorders                               & Central Europe, Eastern Europe, and Central Asia & 38                                               & 0.00543012289225493                              & 3883909.788                                      & 0.0256333441617377                              \\\\\n",
       "\t3 & Tuberculosis                                     & Central Europe, Eastern Europe, and Central Asia & 21                                               & 0.00300085738782509                              & 2769215.04                                       & 0.0182764909724469                              \\\\\n",
       "\t4 & Neonatal disorders & High-income        & 553                & 0.0081733398365332 & 3811551.90397      & 0.0164609420828892\\\\\n",
       "\t5 & Congenital anomalies        & Latin America and Caribbean & 55                          & 0.0115400755350399          & 3617507.872                 & 0.0313184114667515         \\\\\n",
       "\t7 & Nutritional deficiencies    & Latin America and Caribbean & 78                          & 0.0163659253042384          & 4348378.57679833            & 0.0376458916746146         \\\\\n",
       "\t8 & Congenital anomalies         & North Africa and Middle East & 147                          & 0.0169296326154555           & 5091067.5                    & 0.0497790011743029          \\\\\n",
       "\t11 & Nutritional deficiencies     & North Africa and Middle East & 134                          & 0.0154324542208914           & 4214868.4023614              & 0.0412117771274257          \\\\\n",
       "\t14 & Tuberculosis       & South Asia         & 54                 & 0.0111386138613861 & 23662351.34        & 0.0387455189596979\\\\\n",
       "\t15 & Neglected tropical diseases excluding malaria & Southeast Asia, East Asia and Oceania         & 65                                            & 0.00674343811598714                           & 7139081.1718283                               & 0.0154878628893602                           \\\\\n",
       "\t17 & Tuberculosis                          & Southeast Asia, East Asia and Oceania & 70                                    & 0.00726216412490922                   & 13100468.458                          & 0.0284207805430976                   \\\\\n",
       "\t18 & Congenital anomalies & Sub-Saharian Africa  & 16                   & 0.00618955512572534  & 7288013.398          & 0.0133101071810827  \\\\\n",
       "\t21 & Sexually transmitted diseases excluding HIV & Sub-Saharian Africa                         & 9                                           & 0.0034816247582205                          & 6979984.6827                                & 0.0127475539870094                         \\\\\n",
       "\\end{tabular}\n"
      ],
      "text/plain": [
       "                                         Disease\n",
       "2                             Neonatal disorders\n",
       "3                                   Tuberculosis\n",
       "4                             Neonatal disorders\n",
       "5                           Congenital anomalies\n",
       "7                       Nutritional deficiencies\n",
       "8                           Congenital anomalies\n",
       "11                      Nutritional deficiencies\n",
       "14                                  Tuberculosis\n",
       "15 Neglected tropical diseases excluding malaria\n",
       "17                                  Tuberculosis\n",
       "18                          Congenital anomalies\n",
       "21   Sexually transmitted diseases excluding HIV\n",
       "                                             Region RCT   Pr_RCT      GBD\n",
       "2  Central Europe, Eastern Europe, and Central Asia  38 0.005430  3883910\n",
       "3  Central Europe, Eastern Europe, and Central Asia  21 0.003001  2769215\n",
       "4                                       High-income 553 0.008173  3811552\n",
       "5                       Latin America and Caribbean  55 0.011540  3617508\n",
       "7                       Latin America and Caribbean  78 0.016366  4348379\n",
       "8                      North Africa and Middle East 147 0.016930  5091068\n",
       "11                     North Africa and Middle East 134 0.015432  4214868\n",
       "14                                       South Asia  54 0.011139 23662351\n",
       "15            Southeast Asia, East Asia and Oceania  65 0.006743  7139081\n",
       "17            Southeast Asia, East Asia and Oceania  70 0.007262 13100468\n",
       "18                              Sub-Saharian Africa  16 0.006190  7288013\n",
       "21                              Sub-Saharian Africa   9 0.003482  6979985\n",
       "    Pr_GBD\n",
       "2  0.02563\n",
       "3  0.01828\n",
       "4  0.01646\n",
       "5  0.03132\n",
       "7  0.03765\n",
       "8  0.04978\n",
       "11 0.04121\n",
       "14 0.03875\n",
       "15 0.01549\n",
       "17 0.02842\n",
       "18 0.01331\n",
       "21 0.01275"
      ]
     },
     "metadata": {},
     "output_type": "display_data"
    }
   ],
   "source": [
    "GAPS[GAPS$Pr_GBD>=0.01 & GAPS$Pr_GBD<0.05,-c(1:2,5)]"
   ]
  },
  {
   "cell_type": "code",
   "execution_count": 94,
   "metadata": {
    "collapsed": false,
    "scrolled": true
   },
   "outputs": [
    {
     "data": {
      "text/html": [
       "<ol class=list-inline>\n",
       "\t<li>'Cardiovascular and circulatory diseases'</li>\n",
       "\t<li>'Neonatal disorders'</li>\n",
       "\t<li>'Tuberculosis'</li>\n",
       "\t<li>'Congenital anomalies'</li>\n",
       "\t<li>'Nutritional deficiencies'</li>\n",
       "\t<li>'Diarrhea, lower respiratory infections, meningitis, and other common infectious diseases'</li>\n",
       "\t<li>'Neglected tropical diseases excluding malaria'</li>\n",
       "\t<li>'Sexually transmitted diseases excluding HIV'</li>\n",
       "</ol>\n"
      ],
      "text/latex": [
       "\\begin{enumerate*}\n",
       "\\item 'Cardiovascular and circulatory diseases'\n",
       "\\item 'Neonatal disorders'\n",
       "\\item 'Tuberculosis'\n",
       "\\item 'Congenital anomalies'\n",
       "\\item 'Nutritional deficiencies'\n",
       "\\item 'Diarrhea, lower respiratory infections, meningitis, and other common infectious diseases'\n",
       "\\item 'Neglected tropical diseases excluding malaria'\n",
       "\\item 'Sexually transmitted diseases excluding HIV'\n",
       "\\end{enumerate*}\n"
      ],
      "text/markdown": [
       "1. 'Cardiovascular and circulatory diseases'\n",
       "2. 'Neonatal disorders'\n",
       "3. 'Tuberculosis'\n",
       "4. 'Congenital anomalies'\n",
       "5. 'Nutritional deficiencies'\n",
       "6. 'Diarrhea, lower respiratory infections, meningitis, and other common infectious diseases'\n",
       "7. 'Neglected tropical diseases excluding malaria'\n",
       "8. 'Sexually transmitted diseases excluding HIV'\n",
       "\n",
       "\n"
      ],
      "text/plain": [
       "[1] \"Cardiovascular and circulatory diseases\"                                                 \n",
       "[2] \"Neonatal disorders\"                                                                      \n",
       "[3] \"Tuberculosis\"                                                                            \n",
       "[4] \"Congenital anomalies\"                                                                    \n",
       "[5] \"Nutritional deficiencies\"                                                                \n",
       "[6] \"Diarrhea, lower respiratory infections, meningitis, and other common infectious diseases\"\n",
       "[7] \"Neglected tropical diseases excluding malaria\"                                           \n",
       "[8] \"Sexually transmitted diseases excluding HIV\"                                             "
      ]
     },
     "metadata": {},
     "output_type": "display_data"
    }
   ],
   "source": [
    "unique(GAPS$Dise)"
   ]
  },
  {
   "cell_type": "code",
   "execution_count": 95,
   "metadata": {
    "collapsed": false
   },
   "outputs": [],
   "source": [
    "write.table(GAPS,\"Mapping_Cancer/Tables/Local_research_gaps.txt\")"
   ]
  },
  {
   "cell_type": "markdown",
   "metadata": {},
   "source": [
    "### Top diseases per region and gaps\n",
    "We see for each region wheather the top diseases present a gap or not"
   ]
  },
  {
   "cell_type": "code",
   "execution_count": 106,
   "metadata": {
    "collapsed": false,
    "scrolled": false
   },
   "outputs": [
    {
     "name": "stdout",
     "output_type": "stream",
     "text": [
      "[1] \"Central.Europe..Eastern.Europe..and.Central.Asia\"\n",
      "Cardiovascular and circulatory diseases                               Neoplasms \n",
      "                                0.35086                                 0.12875 \n",
      "        Mental and behavioral disorders               Musculoskeletal disorders \n",
      "                                0.09977                                 0.08625 \n",
      "                               Diarrhea \n",
      "                                0.04806 \n",
      "[1] \"High.income\"\n",
      "Cardiovascular and circulatory diseases                               Neoplasms \n",
      "                                0.18806                                 0.18699 \n",
      "              Musculoskeletal disorders         Mental and behavioral disorders \n",
      "                                0.15362                                 0.13504 \n",
      "           Chronic respiratory diseases \n",
      "                                0.05892 \n",
      "[1] \"Latin.America.and.Caribbean\"\n",
      "Cardiovascular and circulatory diseases         Mental and behavioral disorders \n",
      "                                0.12997                                 0.12839 \n",
      "              Musculoskeletal disorders                                Diarrhea \n",
      "                                0.09248                                 0.09207 \n",
      "                     Neonatal disorders \n",
      "                                0.08717 \n",
      "[1] \"North.Africa.and.Middle.East\"\n",
      "Cardiovascular and circulatory diseases         Mental and behavioral disorders \n",
      "                                 0.1879                                  0.1217 \n",
      "                               Diarrhea                      Neonatal disorders \n",
      "                                 0.1055                                  0.1006 \n",
      "              Musculoskeletal disorders \n",
      "                                 0.0882 \n",
      "[1] \"South.Asia\"\n",
      "                               Diarrhea                      Neonatal disorders \n",
      "                                0.21427                                 0.16519 \n",
      "Cardiovascular and circulatory diseases            Chronic respiratory diseases \n",
      "                                0.09234                                 0.06371 \n",
      "        Mental and behavioral disorders \n",
      "                                0.05876 \n",
      "[1] \"Southeast.Asia..East.Asia.and.Oceania\"\n",
      "Cardiovascular and circulatory diseases                               Neoplasms \n",
      "                                0.17727                                 0.14262 \n",
      "        Mental and behavioral disorders               Musculoskeletal disorders \n",
      "                                0.09763                                 0.09157 \n",
      "                               Diarrhea \n",
      "                                0.08103 \n",
      "[1] \"Sub.Saharian.Africa\"\n",
      "                Diarrhea                  Malaria                 HIV/AIDS \n",
      "                 0.22926                  0.16695                  0.13432 \n",
      "      Neonatal disorders Nutritional deficiencies \n",
      "                 0.11578                  0.06225 \n"
     ]
    }
   ],
   "source": [
    "#CEE\n",
    "rownames(Pr_GBD)[grep(\"Diarrhea\",rownames(Pr_GBD))] <- \"Diarrhea\"\n",
    "for(i in 1:(ncol(Pr_GBD)-1)){\n",
    "    print(colnames(Pr_GBD)[i])\n",
    "    print(sort(Pr_GBD[,i],decreasing=TRUE)[1:5])\n",
    "    }"
   ]
  },
  {
   "cell_type": "code",
   "execution_count": 107,
   "metadata": {
    "collapsed": false
   },
   "outputs": [
    {
     "data": {
      "text/html": [
       "<dl class=dl-horizontal>\n",
       "\t<dt>Central Europe, Eastern Europe, and Central Asia</dt>\n",
       "\t\t<dd>0.394768815827131</dd>\n",
       "\t<dt>High-income</dt>\n",
       "\t\t<dd>0.0164609420828892</dd>\n",
       "\t<dt>Latin America and Caribbean</dt>\n",
       "\t\t<dd>0.15613678960942</dd>\n",
       "\t<dt>North Africa and Middle East</dt>\n",
       "\t\t<dd>0.297017521456694</dd>\n",
       "\t<dt>South Asia</dt>\n",
       "\t\t<dd>0.418203392408773</dd>\n",
       "\t<dt>Southeast Asia, East Asia and Oceania</dt>\n",
       "\t\t<dd>0.104555423461284</dd>\n",
       "\t<dt>Sub-Saharian Africa</dt>\n",
       "\t\t<dd>0.37110138643802</dd>\n",
       "</dl>\n"
      ],
      "text/markdown": [
       "Central Europe, Eastern Europe, and Central Asia\n",
       ":   0.394768815827131High-income\n",
       ":   0.0164609420828892Latin America and Caribbean\n",
       ":   0.15613678960942North Africa and Middle East\n",
       ":   0.297017521456694South Asia\n",
       ":   0.418203392408773Southeast Asia, East Asia and Oceania\n",
       ":   0.104555423461284Sub-Saharian Africa\n",
       ":   0.37110138643802\n",
       "\n"
      ],
      "text/plain": [
       "Central Europe, Eastern Europe, and Central Asia \n",
       "                                         0.39477 \n",
       "                                     High-income \n",
       "                                         0.01646 \n",
       "                     Latin America and Caribbean \n",
       "                                         0.15614 \n",
       "                    North Africa and Middle East \n",
       "                                         0.29702 \n",
       "                                      South Asia \n",
       "                                         0.41820 \n",
       "           Southeast Asia, East Asia and Oceania \n",
       "                                         0.10456 \n",
       "                             Sub-Saharian Africa \n",
       "                                         0.37110 "
      ]
     },
     "metadata": {},
     "output_type": "display_data"
    }
   ],
   "source": [
    "tapply(GAPS$Pr_GBD,GAPS$Region,sum)"
   ]
  },
  {
   "cell_type": "markdown",
   "metadata": {
    "collapsed": true
   },
   "source": [
    "## Gaps for the mapping of patients enrolled\n",
    "Same analysis"
   ]
  },
  {
   "cell_type": "code",
   "execution_count": 49,
   "metadata": {
    "collapsed": false
   },
   "outputs": [],
   "source": [
    "\n",
    "GBD <- read.table(\"Mapping_Cancer/Tables/GBD_data_per_region_and_27_diseases_2005.txt\")\n",
    "RCT <- read.table(\"Mapping_Cancer/Tables/Patients_data_per_region_and_27_diseases_2005_2015.txt\")\n",
    "RCT <- RCT[order(rownames(RCT)),]\n"
   ]
  },
  {
   "cell_type": "markdown",
   "metadata": {},
   "source": [
    "### Gaps across regions"
   ]
  },
  {
   "cell_type": "code",
   "execution_count": 50,
   "metadata": {
    "collapsed": false
   },
   "outputs": [],
   "source": [
    "#Across regions\n",
    "#Number and Proportion of RCTs vs proportion of burden across regions\n",
    "\n",
    "D <- data.frame(\n",
    "    t(rbind(RCT[rownames(RCT)==\"Tot\",-ncol(RCT)],\n",
    "      100*RCT[rownames(RCT)==\"Tot\",-ncol(RCT)]/RCT$Tot[rownames(RCT)==\"Tot\"],\n",
    "      apply(GBD[-(ncol(GBD)-0:1)],2,sum)/1e3,\n",
    "      100*apply(GBD[-(ncol(GBD)-0:1)],2,sum)/sum(GBD$Tot))))\n",
    "\n",
    "names(D) <- c(\"Patients\",\"Prop_Patients\",\"GBD\",\"Prop_GBD\")"
   ]
  },
  {
   "cell_type": "code",
   "execution_count": 51,
   "metadata": {
    "collapsed": false
   },
   "outputs": [],
   "source": [
    "#RCTs per million DALYs\n",
    "D$Patients_per_ThDALYs <- D$Patients/D$GBD"
   ]
  },
  {
   "cell_type": "code",
   "execution_count": 52,
   "metadata": {
    "collapsed": false
   },
   "outputs": [],
   "source": [
    "options(\"scipen\"=100, \"digits\"=4)"
   ]
  },
  {
   "cell_type": "code",
   "execution_count": 53,
   "metadata": {
    "collapsed": false
   },
   "outputs": [
    {
     "data": {
      "text/html": [
       "<table>\n",
       "<thead><tr><th></th><th scope=col>Patients</th><th scope=col>Prop_Patients</th><th scope=col>GBD</th><th scope=col>Prop_GBD</th><th scope=col>Patients_per_ThDALYs</th></tr></thead>\n",
       "<tbody>\n",
       "\t<tr><th scope=row>High.income</th><td>20877389.20</td><td>      64.11</td><td>  231551.26</td><td>      10.43</td><td>      90.16</td></tr>\n",
       "\t<tr><th scope=row>Central.Europe..Eastern.Europe..and.Central.Asia</th><td>1713426.659</td><td>      5.261</td><td> 151517.873</td><td>      6.825</td><td>     11.308</td></tr>\n",
       "\t<tr><th scope=row>North.Africa.and.Middle.East</th><td>899010.778</td><td>     2.761</td><td>102273.396</td><td>     4.607</td><td>     8.790</td></tr>\n",
       "\t<tr><th scope=row>Latin.America.and.Caribbean</th><td>932054.339</td><td>     2.862</td><td>115507.387</td><td>     5.203</td><td>     8.069</td></tr>\n",
       "\t<tr><th scope=row>Southeast.Asia..East.Asia.and.Oceania</th><td>3340414.398</td><td>     10.257</td><td> 460946.822</td><td>     20.763</td><td>      7.247</td></tr>\n",
       "\t<tr><th scope=row>Sub.Saharian.Africa</th><td>3045884.040</td><td>      9.353</td><td> 547554.824</td><td>     24.664</td><td>      5.563</td></tr>\n",
       "\t<tr><th scope=row>South.Asia</th><td>1758042.590</td><td>      5.398</td><td> 610711.947</td><td>     27.509</td><td>      2.879</td></tr>\n",
       "</tbody>\n",
       "</table>\n"
      ],
      "text/latex": [
       "\\begin{tabular}{r|lllll}\n",
       "  & Patients & Prop\\_Patients & GBD & Prop\\_GBD & Patients\\_per\\_ThDALYs\\\\\n",
       "\\hline\n",
       "\tHigh.income & 20877389.20 &       64.11 &   231551.26 &       10.43 &       90.16\\\\\n",
       "\tCentral.Europe..Eastern.Europe..and.Central.Asia & 1713426.659 &       5.261 &  151517.873 &       6.825 &      11.308\\\\\n",
       "\tNorth.Africa.and.Middle.East & 899010.778 &      2.761 & 102273.396 &      4.607 &      8.790\\\\\n",
       "\tLatin.America.and.Caribbean & 932054.339 &      2.862 & 115507.387 &      5.203 &      8.069\\\\\n",
       "\tSoutheast.Asia..East.Asia.and.Oceania & 3340414.398 &      10.257 &  460946.822 &      20.763 &       7.247\\\\\n",
       "\tSub.Saharian.Africa & 3045884.040 &       9.353 &  547554.824 &      24.664 &       5.563\\\\\n",
       "\tSouth.Asia & 1758042.590 &       5.398 &  610711.947 &      27.509 &       2.879\\\\\n",
       "\\end{tabular}\n"
      ],
      "text/plain": [
       "                                                 Patients Prop_Patients    GBD\n",
       "High.income                                      20877389        64.107 231551\n",
       "Central.Europe..Eastern.Europe..and.Central.Asia  1713427         5.261 151518\n",
       "North.Africa.and.Middle.East                       899011         2.761 102273\n",
       "Latin.America.and.Caribbean                        932054         2.862 115507\n",
       "Southeast.Asia..East.Asia.and.Oceania             3340414        10.257 460947\n",
       "Sub.Saharian.Africa                               3045884         9.353 547555\n",
       "South.Asia                                        1758043         5.398 610712\n",
       "                                                 Prop_GBD Patients_per_ThDALYs\n",
       "High.income                                        10.430               90.163\n",
       "Central.Europe..Eastern.Europe..and.Central.Asia    6.825               11.308\n",
       "North.Africa.and.Middle.East                        4.607                8.790\n",
       "Latin.America.and.Caribbean                         5.203                8.069\n",
       "Southeast.Asia..East.Asia.and.Oceania              20.763                7.247\n",
       "Sub.Saharian.Africa                                24.664                5.563\n",
       "South.Asia                                         27.509                2.879"
      ]
     },
     "metadata": {},
     "output_type": "display_data"
    }
   ],
   "source": [
    "Dregs <- D\n",
    "Dregs[order(Dregs$Patients_per,decreasing=TRUE),]"
   ]
  },
  {
   "cell_type": "markdown",
   "metadata": {},
   "source": [
    "### Gaps across diseases\n",
    "Across diseases number and proportion of Patients and GBD\n",
    "And RCTs per million DALYs"
   ]
  },
  {
   "cell_type": "code",
   "execution_count": 54,
   "metadata": {
    "collapsed": true
   },
   "outputs": [],
   "source": [
    "D <- data.frame(\n",
    "    t(rbind(RCT$Tot[rownames(RCT)!=\"Tot\"],\n",
    "      100*RCT$Tot[rownames(RCT)!=\"Tot\"]/RCT$Tot[rownames(RCT)==\"Tot\"],\n",
    "      GBD$Tot,\n",
    "      100*GBD$Tot/sum(GBD$Tot))))\n",
    "\n",
    "names(D) <- c(\"Patients\",\"Prop_Patients\",\"GBD\",\"Prop_GBD\")\n",
    "rownames(D) <- rownames(GBD)"
   ]
  },
  {
   "cell_type": "code",
   "execution_count": 55,
   "metadata": {
    "collapsed": false
   },
   "outputs": [],
   "source": [
    "D$Patients_per_ThDALYs <- D$Patients/(D$GBD/1e3)"
   ]
  },
  {
   "cell_type": "code",
   "execution_count": 56,
   "metadata": {
    "collapsed": false,
    "scrolled": false
   },
   "outputs": [
    {
     "data": {
      "text/html": [
       "<table>\n",
       "<thead><tr><th></th><th scope=col>Patients</th><th scope=col>Prop_Patients</th><th scope=col>GBD</th><th scope=col>Prop_GBD</th><th scope=col>Patients_per_ThDALYs</th></tr></thead>\n",
       "<tbody>\n",
       "\t<tr><th scope=row>Neoplasms</th><td>  6532214.000</td><td>       20.058</td><td>176868544.264</td><td>        7.967</td><td>       36.933</td></tr>\n",
       "\t<tr><th scope=row>Cardiovascular and circulatory diseases</th><td>  4851601.00</td><td>       14.90</td><td>287404109.09</td><td>       12.95</td><td>       16.88</td></tr>\n",
       "\t<tr><th scope=row>Chronic respiratory diseases</th><td>  1666971.000</td><td>        5.119</td><td>112485355.223</td><td>        5.067</td><td>       14.819</td></tr>\n",
       "</tbody>\n",
       "</table>\n"
      ],
      "text/latex": [
       "\\begin{tabular}{r|lllll}\n",
       "  & Patients & Prop\\_Patients & GBD & Prop\\_GBD & Patients\\_per\\_ThDALYs\\\\\n",
       "\\hline\n",
       "\tNeoplasms &   6532214.000 &        20.058 & 176868544.264 &         7.967 &        36.933\\\\\n",
       "\tCardiovascular and circulatory diseases &   4851601.00 &        14.90 & 287404109.09 &        12.95 &        16.88\\\\\n",
       "\tChronic respiratory diseases &   1666971.000 &         5.119 & 112485355.223 &         5.067 &        14.819\\\\\n",
       "\\end{tabular}\n"
      ],
      "text/plain": [
       "                                        Patients Prop_Patients       GBD\n",
       "Neoplasms                                6532214        20.058 176868544\n",
       "Cardiovascular and circulatory diseases  4851601        14.898 287404109\n",
       "Chronic respiratory diseases             1666971         5.119 112485355\n",
       "                                        Prop_GBD Patients_per_ThDALYs\n",
       "Neoplasms                                  7.967                36.93\n",
       "Cardiovascular and circulatory diseases   12.946                16.88\n",
       "Chronic respiratory diseases               5.067                14.82"
      ]
     },
     "metadata": {},
     "output_type": "display_data"
    },
    {
     "data": {
      "text/html": [
       "<table>\n",
       "<thead><tr><th></th><th scope=col>Patients</th><th scope=col>Prop_Patients</th><th scope=col>GBD</th><th scope=col>Prop_GBD</th><th scope=col>Patients_per_ThDALYs</th></tr></thead>\n",
       "<tbody>\n",
       "\t<tr><th scope=row>Musculoskeletal disorders</th><td>  1707120.000</td><td>        5.242</td><td>151554779.387</td><td>        6.827</td><td>       11.264</td></tr>\n",
       "\t<tr><th scope=row>Diarrhea, lower respiratory infections, meningitis, and other common infectious diseases</th><td>  2809428.000</td><td>        8.627</td><td>329285536.747</td><td>       14.832</td><td>        8.532</td></tr>\n",
       "\t<tr><th scope=row>Neonatal disorders</th><td>   533175.000</td><td>        1.637</td><td>220288076.020</td><td>        9.923</td><td>        2.420</td></tr>\n",
       "</tbody>\n",
       "</table>\n"
      ],
      "text/latex": [
       "\\begin{tabular}{r|lllll}\n",
       "  & Patients & Prop\\_Patients & GBD & Prop\\_GBD & Patients\\_per\\_ThDALYs\\\\\n",
       "\\hline\n",
       "\tMusculoskeletal disorders &   1707120.000 &         5.242 & 151554779.387 &         6.827 &        11.264\\\\\n",
       "\tDiarrhea, lower respiratory infections, meningitis, and other common infectious diseases &   2809428.000 &         8.627 & 329285536.747 &        14.832 &         8.532\\\\\n",
       "\tNeonatal disorders &    533175.000 &         1.637 & 220288076.020 &         9.923 &         2.420\\\\\n",
       "\\end{tabular}\n"
      ],
      "text/plain": [
       "                                                                                         Patients\n",
       "Musculoskeletal disorders                                                                 1707120\n",
       "Diarrhea, lower respiratory infections, meningitis, and other common infectious diseases  2809428\n",
       "Neonatal disorders                                                                         533175\n",
       "                                                                                         Prop_Patients\n",
       "Musculoskeletal disorders                                                                        5.242\n",
       "Diarrhea, lower respiratory infections, meningitis, and other common infectious diseases         8.627\n",
       "Neonatal disorders                                                                               1.637\n",
       "                                                                                               GBD\n",
       "Musculoskeletal disorders                                                                151554779\n",
       "Diarrhea, lower respiratory infections, meningitis, and other common infectious diseases 329285537\n",
       "Neonatal disorders                                                                       220288076\n",
       "                                                                                         Prop_GBD\n",
       "Musculoskeletal disorders                                                                   6.827\n",
       "Diarrhea, lower respiratory infections, meningitis, and other common infectious diseases   14.832\n",
       "Neonatal disorders                                                                          9.923\n",
       "                                                                                         Patients_per_ThDALYs\n",
       "Musculoskeletal disorders                                                                              11.264\n",
       "Diarrhea, lower respiratory infections, meningitis, and other common infectious diseases                8.532\n",
       "Neonatal disorders                                                                                      2.420"
      ]
     },
     "metadata": {},
     "output_type": "display_data"
    }
   ],
   "source": [
    "D <- D[order(D$Patients_per,decreasing=TRUE),]\n",
    "head(D[D$Prop_GBD>=5,],n=3)\n",
    "tail(D[D$Prop_GBD>=5,],n=3)"
   ]
  },
  {
   "cell_type": "code",
   "execution_count": 57,
   "metadata": {
    "collapsed": false
   },
   "outputs": [
    {
     "data": {
      "text/html": [
       "<table>\n",
       "<thead><tr><th></th><th scope=col>Patients</th><th scope=col>Prop_Patients</th><th scope=col>GBD</th><th scope=col>Prop_GBD</th><th scope=col>Patients_per_ThDALYs</th></tr></thead>\n",
       "<tbody>\n",
       "\t<tr><th scope=row>Diabetes, urinary diseases and male infertility</th><td> 4167593.000</td><td>      12.797</td><td>75821480.094</td><td>       3.415</td><td>      54.966</td></tr>\n",
       "\t<tr><th scope=row>Sense organ diseases</th><td> 1339601.000</td><td>       4.113</td><td>32290593.297</td><td>       1.454</td><td>      41.486</td></tr>\n",
       "\t<tr><th scope=row>Digestive diseases (except cirrhosis)</th><td> 1345165.000</td><td>       4.131</td><td>32576108.319</td><td>       1.467</td><td>      41.293</td></tr>\n",
       "</tbody>\n",
       "</table>\n"
      ],
      "text/latex": [
       "\\begin{tabular}{r|lllll}\n",
       "  & Patients & Prop\\_Patients & GBD & Prop\\_GBD & Patients\\_per\\_ThDALYs\\\\\n",
       "\\hline\n",
       "\tDiabetes, urinary diseases and male infertility &  4167593.000 &       12.797 & 75821480.094 &        3.415 &       54.966\\\\\n",
       "\tSense organ diseases &  1339601.000 &        4.113 & 32290593.297 &        1.454 &       41.486\\\\\n",
       "\tDigestive diseases (except cirrhosis) &  1345165.000 &        4.131 & 32576108.319 &        1.467 &       41.293\\\\\n",
       "\\end{tabular}\n"
      ],
      "text/plain": [
       "                                                Patients Prop_Patients      GBD\n",
       "Diabetes, urinary diseases and male infertility  4167593        12.797 75821480\n",
       "Sense organ diseases                             1339601         4.113 32290593\n",
       "Digestive diseases (except cirrhosis)            1345165         4.131 32576108\n",
       "                                                Prop_GBD Patients_per_ThDALYs\n",
       "Diabetes, urinary diseases and male infertility    3.415                54.97\n",
       "Sense organ diseases                               1.454                41.49\n",
       "Digestive diseases (except cirrhosis)              1.467                41.29"
      ]
     },
     "metadata": {},
     "output_type": "display_data"
    },
    {
     "data": {
      "text/html": [
       "<table>\n",
       "<thead><tr><th></th><th scope=col>Patients</th><th scope=col>Prop_Patients</th><th scope=col>GBD</th><th scope=col>Prop_GBD</th><th scope=col>Patients_per_ThDALYs</th></tr></thead>\n",
       "<tbody>\n",
       "\t<tr><th scope=row>Nutritional deficiencies</th><td>  729640.000</td><td>       2.240</td><td>89065270.102</td><td>       4.012</td><td>       8.192</td></tr>\n",
       "\t<tr><th scope=row>Congenital anomalies</th><td>  326955.000</td><td>       1.004</td><td>43254504.439</td><td>       1.948</td><td>       7.559</td></tr>\n",
       "\t<tr><th scope=row>Tuberculosis</th><td>  426266.000</td><td>       1.309</td><td>56404877.882</td><td>       2.541</td><td>       7.557</td></tr>\n",
       "</tbody>\n",
       "</table>\n"
      ],
      "text/latex": [
       "\\begin{tabular}{r|lllll}\n",
       "  & Patients & Prop\\_Patients & GBD & Prop\\_GBD & Patients\\_per\\_ThDALYs\\\\\n",
       "\\hline\n",
       "\tNutritional deficiencies &   729640.000 &        2.240 & 89065270.102 &        4.012 &        8.192\\\\\n",
       "\tCongenital anomalies &   326955.000 &        1.004 & 43254504.439 &        1.948 &        7.559\\\\\n",
       "\tTuberculosis &   426266.000 &        1.309 & 56404877.882 &        2.541 &        7.557\\\\\n",
       "\\end{tabular}\n"
      ],
      "text/plain": [
       "                         Patients Prop_Patients      GBD Prop_GBD\n",
       "Nutritional deficiencies   729640         2.240 89065270    4.012\n",
       "Congenital anomalies       326955         1.004 43254504    1.948\n",
       "Tuberculosis               426266         1.309 56404878    2.541\n",
       "                         Patients_per_ThDALYs\n",
       "Nutritional deficiencies                8.192\n",
       "Congenital anomalies                    7.559\n",
       "Tuberculosis                            7.557"
      ]
     },
     "metadata": {},
     "output_type": "display_data"
    }
   ],
   "source": [
    "head(D[D$Prop_GBD>=1 & D$Prop_GBD<5,],n=3)\n",
    "tail(D[D$Prop_GBD>=1 & D$Prop_GBD<5,],n=3)"
   ]
  },
  {
   "cell_type": "markdown",
   "metadata": {},
   "source": [
    "### Gaps within regions\n",
    "\n",
    "For each region we will compare the local share of RCTs across diseases to the local share of burden across diseases. We will say that a gap exist between research and needs if the share of research concerning a disease is more than two time lower than the share of RCTs concerning that disease."
   ]
  },
  {
   "cell_type": "code",
   "execution_count": 58,
   "metadata": {
    "collapsed": false
   },
   "outputs": [],
   "source": [
    "#Proportion of RCTs concerning each disease among \n",
    "#all RCTs relevant to the burden of diseaes in the region\n",
    "\n",
    "Pr_Patients <- do.call('rbind',apply(RCT,1,function(x){x/RCT[rownames(RCT)==\"Tot\",]}))\n",
    "Pr_Patients <- Pr_Patients[rownames(Pr_Patients)!=\"Tot\",]\n",
    "RCT <- RCT[rownames(RCT)!=\"Tot\",]"
   ]
  },
  {
   "cell_type": "code",
   "execution_count": 59,
   "metadata": {
    "collapsed": false
   },
   "outputs": [],
   "source": [
    "#Proportion of GBD attributable to each disease among \n",
    "#all burden of diseaes in the region\n",
    "GBD <- GBD[,-ncol(GBD)]\n",
    "Pr_GBD <- apply(GBD,1,function(x){x/unlist(apply(GBD,2,sum))})"
   ]
  },
  {
   "cell_type": "code",
   "execution_count": 60,
   "metadata": {
    "collapsed": false
   },
   "outputs": [],
   "source": [
    "Pr_GBD <- t(Pr_GBD)"
   ]
  },
  {
   "cell_type": "code",
   "execution_count": 61,
   "metadata": {
    "collapsed": false
   },
   "outputs": [
    {
     "data": {
      "text/plain": [
       "\n",
       "TRUE \n",
       "  27 "
      ]
     },
     "metadata": {},
     "output_type": "display_data"
    },
    {
     "data": {
      "text/plain": [
       "\n",
       "TRUE \n",
       "   8 "
      ]
     },
     "metadata": {},
     "output_type": "display_data"
    }
   ],
   "source": [
    "#Ratio between research and burden\n",
    "table(rownames(Pr_Patients)==rownames(Pr_GBD))\n",
    "table(colnames(Pr_Patients)==colnames(Pr_GBD))"
   ]
  },
  {
   "cell_type": "code",
   "execution_count": 62,
   "metadata": {
    "collapsed": false,
    "scrolled": true
   },
   "outputs": [],
   "source": [
    "R <- Pr_Patients/Pr_GBD"
   ]
  },
  {
   "cell_type": "markdown",
   "metadata": {},
   "source": [
    "We consider gaps only for disease corresponding to a local burden higher than 1%"
   ]
  },
  {
   "cell_type": "code",
   "execution_count": 63,
   "metadata": {
    "collapsed": false
   },
   "outputs": [],
   "source": [
    "GAPS <- which(R<=1/2 & Pr_GBD>=0.01, arr.ind=TRUE)\n",
    "GAPS <- data.frame(GAPS,row.names=NULL)"
   ]
  },
  {
   "cell_type": "code",
   "execution_count": 64,
   "metadata": {
    "collapsed": false
   },
   "outputs": [],
   "source": [
    "GAPS$Disease <- rownames(R)[as.numeric(GAPS$row)]\n",
    "GAPS$Region <- colnames(R)[as.numeric(GAPS$col)]\n",
    "GAPS$Ratio <- sapply(1:nrow(GAPS),function(i){R[GAPS$row[i],GAPS$col[i]]})\n",
    "GAPS$Patients <- sapply(1:nrow(GAPS),function(i){RCT[GAPS$row[i],GAPS$col[i]]})\n",
    "GAPS$Pr_Patients <- sapply(1:nrow(GAPS),function(i){Pr_Patients[GAPS$row[i],GAPS$col[i]]})\n",
    "GAPS$GBD <- sapply(1:nrow(GAPS),function(i){GBD[GAPS$row[i],GAPS$col[i]]})\n",
    "GAPS$Pr_GBD <- sapply(1:nrow(GAPS),function(i){Pr_GBD[GAPS$row[i],GAPS$col[i]]})"
   ]
  },
  {
   "cell_type": "code",
   "execution_count": 65,
   "metadata": {
    "collapsed": false
   },
   "outputs": [],
   "source": [
    "#Cleaning region names\n",
    "#Only local gaps\n",
    "GAPS <- droplevels(GAPS[GAPS$Region!=\"Tot\",])\n",
    "GAPS$Region <- factor(GAPS$Region)\n",
    "levels(GAPS$Region) <- c('Central Europe, Eastern Europe, and Central Asia',\n",
    "                         'High-income',\n",
    "                         'Latin America and Caribbean',\n",
    "                         'North Africa and Middle East',\n",
    "                         'South Asia',\n",
    "                         'Southeast Asia, East Asia and Oceania',\n",
    "                         'Sub-Saharian Africa')\n"
   ]
  },
  {
   "cell_type": "code",
   "execution_count": 66,
   "metadata": {
    "collapsed": false
   },
   "outputs": [
    {
     "data": {
      "text/html": [
       "<table>\n",
       "<thead><tr><th></th><th scope=col>Disease</th><th scope=col>Region</th><th scope=col>Patients</th><th scope=col>Pr_Patients</th><th scope=col>GBD</th><th scope=col>Pr_GBD</th></tr></thead>\n",
       "<tbody>\n",
       "\t<tr><th scope=row>4</th><td>Musculoskeletal disorders</td><td>High-income              </td><td>1287959.38408855         </td><td>0.0616915923744389       </td><td>35571692.16788           </td><td>0.15362340047264         </td></tr>\n",
       "\t<tr><th scope=row>8</th><td>Mental and behavioral disorders</td><td>Latin America and Caribbean    </td><td>46457.3076192212               </td><td>0.0498439905006055             </td><td>14829920.94981                 </td><td>0.128389372672953              </td></tr>\n",
       "\t<tr><th scope=row>9</th><td>Neonatal disorders         </td><td>Latin America and Caribbean</td><td>12924.2880724539           </td><td>0.0138664534154784         </td><td>10069066.126               </td><td>0.0871724864680537         </td></tr>\n",
       "\t<tr><th scope=row>11</th><td>Diarrhea, lower respiratory infections, meningitis, and other common infectious diseases</td><td>North Africa and Middle East                                                            </td><td>33284.1724019517                                                                        </td><td>0.0370231072076604                                                                      </td><td>10785476.172                                                                            </td><td>0.105457299678585                                                                       </td></tr>\n",
       "\t<tr><th scope=row>13</th><td>Neonatal disorders          </td><td>North Africa and Middle East</td><td>21759.1785714286            </td><td>0.024203467980877           </td><td>10285578.519                </td><td>0.10056944347638            </td></tr>\n",
       "\t<tr><th scope=row>14</th><td>Chronic respiratory diseases</td><td>South Asia                  </td><td>35282.6684557411            </td><td>0.0200692910671856          </td><td>38910999.427                </td><td>0.0637141611320367          </td></tr>\n",
       "\t<tr><th scope=row>17</th><td>Chronic respiratory diseases         </td><td>Southeast Asia, East Asia and Oceania</td><td>96467.8694294783                     </td><td>0.0288790125829091                   </td><td>31793866.11224                       </td><td>0.0689751282016789                   </td></tr>\n",
       "\t<tr><th scope=row>19</th><td>Musculoskeletal disorders            </td><td>Southeast Asia, East Asia and Oceania</td><td>104109.621444154                     </td><td>0.0311666784543797                   </td><td>42209775.433731                      </td><td>0.0915718982280306                   </td></tr>\n",
       "\t<tr><th scope=row>20</th><td>Neonatal disorders                   </td><td>Southeast Asia, East Asia and Oceania</td><td>12550.2354750513                     </td><td>0.0037570893847452                   </td><td>27954940.493                         </td><td>0.0606467800288265                   </td></tr>\n",
       "\t<tr><th scope=row>23</th><td>Diarrhea, lower respiratory infections, meningitis, and other common infectious diseases</td><td>Sub-Saharian Africa                                                                     </td><td>212975.160628435                                                                        </td><td>0.069922281285192                                                                       </td><td>125531847.741516                                                                        </td><td>0.229258956705191                                                                       </td></tr>\n",
       "\t<tr><th scope=row>25</th><td>Neonatal disorders </td><td>Sub-Saharian Africa</td><td>71058.6363636364   </td><td>0.0233293964652936 </td><td>63398508.5998      </td><td>0.115784768564737  </td></tr>\n",
       "</tbody>\n",
       "</table>\n"
      ],
      "text/latex": [
       "\\begin{tabular}{r|llllll}\n",
       "  & Disease & Region & Patients & Pr\\_Patients & GBD & Pr\\_GBD\\\\\n",
       "\\hline\n",
       "\t4 & Musculoskeletal disorders & High-income               & 1287959.38408855          & 0.0616915923744389        & 35571692.16788            & 0.15362340047264         \\\\\n",
       "\t8 & Mental and behavioral disorders & Latin America and Caribbean     & 46457.3076192212                & 0.0498439905006055              & 14829920.94981                  & 0.128389372672953              \\\\\n",
       "\t9 & Neonatal disorders          & Latin America and Caribbean & 12924.2880724539            & 0.0138664534154784          & 10069066.126                & 0.0871724864680537         \\\\\n",
       "\t11 & Diarrhea, lower respiratory infections, meningitis, and other common infectious diseases & North Africa and Middle East                                                             & 33284.1724019517                                                                         & 0.0370231072076604                                                                       & 10785476.172                                                                             & 0.105457299678585                                                                       \\\\\n",
       "\t13 & Neonatal disorders           & North Africa and Middle East & 21759.1785714286             & 0.024203467980877            & 10285578.519                 & 0.10056944347638            \\\\\n",
       "\t14 & Chronic respiratory diseases & South Asia                   & 35282.6684557411             & 0.0200692910671856           & 38910999.427                 & 0.0637141611320367          \\\\\n",
       "\t17 & Chronic respiratory diseases          & Southeast Asia, East Asia and Oceania & 96467.8694294783                      & 0.0288790125829091                    & 31793866.11224                        & 0.0689751282016789                   \\\\\n",
       "\t19 & Musculoskeletal disorders             & Southeast Asia, East Asia and Oceania & 104109.621444154                      & 0.0311666784543797                    & 42209775.433731                       & 0.0915718982280306                   \\\\\n",
       "\t20 & Neonatal disorders                    & Southeast Asia, East Asia and Oceania & 12550.2354750513                      & 0.0037570893847452                    & 27954940.493                          & 0.0606467800288265                   \\\\\n",
       "\t23 & Diarrhea, lower respiratory infections, meningitis, and other common infectious diseases & Sub-Saharian Africa                                                                      & 212975.160628435                                                                         & 0.069922281285192                                                                        & 125531847.741516                                                                         & 0.229258956705191                                                                       \\\\\n",
       "\t25 & Neonatal disorders  & Sub-Saharian Africa & 71058.6363636364    & 0.0233293964652936  & 63398508.5998       & 0.115784768564737  \\\\\n",
       "\\end{tabular}\n"
      ],
      "text/plain": [
       "                                                                                    Disease\n",
       "4                                                                 Musculoskeletal disorders\n",
       "8                                                           Mental and behavioral disorders\n",
       "9                                                                        Neonatal disorders\n",
       "11 Diarrhea, lower respiratory infections, meningitis, and other common infectious diseases\n",
       "13                                                                       Neonatal disorders\n",
       "14                                                             Chronic respiratory diseases\n",
       "17                                                             Chronic respiratory diseases\n",
       "19                                                                Musculoskeletal disorders\n",
       "20                                                                       Neonatal disorders\n",
       "23 Diarrhea, lower respiratory infections, meningitis, and other common infectious diseases\n",
       "25                                                                       Neonatal disorders\n",
       "                                  Region Patients Pr_Patients       GBD  Pr_GBD\n",
       "4                            High-income  1287959    0.061692  35571692 0.15362\n",
       "8            Latin America and Caribbean    46457    0.049844  14829921 0.12839\n",
       "9            Latin America and Caribbean    12924    0.013866  10069066 0.08717\n",
       "11          North Africa and Middle East    33284    0.037023  10785476 0.10546\n",
       "13          North Africa and Middle East    21759    0.024203  10285579 0.10057\n",
       "14                            South Asia    35283    0.020069  38910999 0.06371\n",
       "17 Southeast Asia, East Asia and Oceania    96468    0.028879  31793866 0.06898\n",
       "19 Southeast Asia, East Asia and Oceania   104110    0.031167  42209775 0.09157\n",
       "20 Southeast Asia, East Asia and Oceania    12550    0.003757  27954940 0.06065\n",
       "23                   Sub-Saharian Africa   212975    0.069922 125531848 0.22926\n",
       "25                   Sub-Saharian Africa    71059    0.023329  63398509 0.11578"
      ]
     },
     "metadata": {},
     "output_type": "display_data"
    }
   ],
   "source": [
    "GAPS[GAPS$Pr_GBD>=0.05,-c(1:2,5)]"
   ]
  },
  {
   "cell_type": "code",
   "execution_count": 67,
   "metadata": {
    "collapsed": false,
    "scrolled": true
   },
   "outputs": [
    {
     "data": {
      "text/html": [
       "<table>\n",
       "<thead><tr><th></th><th scope=col>Region</th><th scope=col>Patients</th><th scope=col>Pr_Patients</th><th scope=col>GBD</th><th scope=col>Pr_GBD</th></tr></thead>\n",
       "<tbody>\n",
       "\t<tr><th scope=row>9</th><td>Latin America and Caribbean</td><td>12924.2880724539           </td><td>0.0138664534154784         </td><td>10069066.126               </td><td>0.0871724864680537         </td></tr>\n",
       "\t<tr><th scope=row>13</th><td>North Africa and Middle East</td><td>21759.1785714286            </td><td>0.024203467980877           </td><td>10285578.519                </td><td>0.10056944347638            </td></tr>\n",
       "\t<tr><th scope=row>20</th><td>Southeast Asia, East Asia and Oceania</td><td>12550.2354750513                     </td><td>0.0037570893847452                   </td><td>27954940.493                         </td><td>0.0606467800288265                   </td></tr>\n",
       "\t<tr><th scope=row>25</th><td>Sub-Saharian Africa</td><td>71058.6363636364   </td><td>0.0233293964652936 </td><td>63398508.5998      </td><td>0.115784768564737  </td></tr>\n",
       "</tbody>\n",
       "</table>\n"
      ],
      "text/latex": [
       "\\begin{tabular}{r|lllll}\n",
       "  & Region & Patients & Pr\\_Patients & GBD & Pr\\_GBD\\\\\n",
       "\\hline\n",
       "\t9 & Latin America and Caribbean & 12924.2880724539            & 0.0138664534154784          & 10069066.126                & 0.0871724864680537         \\\\\n",
       "\t13 & North Africa and Middle East & 21759.1785714286             & 0.024203467980877            & 10285578.519                 & 0.10056944347638            \\\\\n",
       "\t20 & Southeast Asia, East Asia and Oceania & 12550.2354750513                      & 0.0037570893847452                    & 27954940.493                          & 0.0606467800288265                   \\\\\n",
       "\t25 & Sub-Saharian Africa & 71058.6363636364    & 0.0233293964652936  & 63398508.5998       & 0.115784768564737  \\\\\n",
       "\\end{tabular}\n"
      ],
      "text/plain": [
       "                                  Region Patients Pr_Patients      GBD  Pr_GBD\n",
       "9            Latin America and Caribbean    12924    0.013866 10069066 0.08717\n",
       "13          North Africa and Middle East    21759    0.024203 10285579 0.10057\n",
       "20 Southeast Asia, East Asia and Oceania    12550    0.003757 27954940 0.06065\n",
       "25                   Sub-Saharian Africa    71059    0.023329 63398509 0.11578"
      ]
     },
     "metadata": {},
     "output_type": "display_data"
    }
   ],
   "source": [
    "GAPS[GAPS$Pr_GBD>=0.05 & GAPS$Disease==\"Neonatal disorders\",-c(1:3,5)]"
   ]
  },
  {
   "cell_type": "code",
   "execution_count": 68,
   "metadata": {
    "collapsed": false,
    "scrolled": false
   },
   "outputs": [
    {
     "data": {
      "text/html": [
       "<table>\n",
       "<thead><tr><th></th><th scope=col>Region</th><th scope=col>Patients</th><th scope=col>Pr_Patients</th><th scope=col>GBD</th><th scope=col>Pr_GBD</th></tr></thead>\n",
       "<tbody>\n",
       "\t<tr><th scope=row>11</th><td>North Africa and Middle East</td><td>33284.1724019517            </td><td>0.0370231072076604          </td><td>10785476.172                </td><td>0.105457299678585           </td></tr>\n",
       "\t<tr><th scope=row>23</th><td>Sub-Saharian Africa</td><td>212975.160628435   </td><td>0.069922281285192  </td><td>125531847.741516   </td><td>0.229258956705191  </td></tr>\n",
       "</tbody>\n",
       "</table>\n"
      ],
      "text/latex": [
       "\\begin{tabular}{r|lllll}\n",
       "  & Region & Patients & Pr\\_Patients & GBD & Pr\\_GBD\\\\\n",
       "\\hline\n",
       "\t11 & North Africa and Middle East & 33284.1724019517             & 0.0370231072076604           & 10785476.172                 & 0.105457299678585           \\\\\n",
       "\t23 & Sub-Saharian Africa & 212975.160628435    & 0.069922281285192   & 125531847.741516    & 0.229258956705191  \\\\\n",
       "\\end{tabular}\n"
      ],
      "text/plain": [
       "                         Region Patients Pr_Patients       GBD Pr_GBD\n",
       "11 North Africa and Middle East    33284     0.03702  10785476 0.1055\n",
       "23          Sub-Saharian Africa   212975     0.06992 125531848 0.2293"
      ]
     },
     "metadata": {},
     "output_type": "display_data"
    }
   ],
   "source": [
    "GAPS[GAPS$Pr_GBD>=0.05 & 1:nrow(GAPS)%in%grep(\"Diarrhea\",GAPS$Dis),-c(1:3,5)]"
   ]
  },
  {
   "cell_type": "code",
   "execution_count": 69,
   "metadata": {
    "collapsed": false,
    "scrolled": true
   },
   "outputs": [
    {
     "data": {
      "text/html": [
       "<table>\n",
       "<thead><tr><th></th><th scope=col>Disease</th><th scope=col>Region</th><th scope=col>Patients</th><th scope=col>Pr_Patients</th><th scope=col>GBD</th><th scope=col>Pr_GBD</th></tr></thead>\n",
       "<tbody>\n",
       "\t<tr><th scope=row>1</th><td>Cirrhosis of the liver                          </td><td>Central Europe, Eastern Europe, and Central Asia</td><td>11026.0590052792                                </td><td>0.00643509247728679                             </td><td>4090337.297                                     </td><td>0.0269957412490737                              </td></tr>\n",
       "\t<tr><th scope=row>2</th><td>Neonatal disorders                              </td><td>Central Europe, Eastern Europe, and Central Asia</td><td>4723.13980668454                                </td><td>0.00275654623511602                             </td><td>3883909.788                                     </td><td>0.0256333441617377                              </td></tr>\n",
       "\t<tr><th scope=row>3</th><td>Tuberculosis                                    </td><td>Central Europe, Eastern Europe, and Central Asia</td><td>4657.02380952381                                </td><td>0.00271795923356328                             </td><td>2769215.04                                      </td><td>0.0182764909724469                              </td></tr>\n",
       "\t<tr><th scope=row>5</th><td>Oral disorders     </td><td>High-income        </td><td>104009.530525031   </td><td>0.00498192228689552</td><td>2345971.817        </td><td>0.0101315441008439 </td></tr>\n",
       "\t<tr><th scope=row>6</th><td>Cirrhosis of the liver     </td><td>Latin America and Caribbean</td><td>4995.96836766605           </td><td>0.00536016856379864        </td><td>2376422.022                </td><td>0.0205737666197525         </td></tr>\n",
       "\t<tr><th scope=row>7</th><td>Congenital anomalies       </td><td>Latin America and Caribbean</td><td>6589.37817021001           </td><td>0.00706973605988644        </td><td>3617507.872                </td><td>0.0313184114667515         </td></tr>\n",
       "\t<tr><th scope=row>10</th><td>Congenital anomalies        </td><td>North Africa and Middle East</td><td>12246.3978270238            </td><td>0.0136220812157245          </td><td>5091067.5                   </td><td>0.0497790011743029          </td></tr>\n",
       "\t<tr><th scope=row>12</th><td>Hemoglobinopathies and hemolytic anemias</td><td>North Africa and Middle East            </td><td>3649.82943722944                        </td><td>0.00405982834460672                     </td><td>1066843.92                              </td><td>0.0104312945657228                      </td></tr>\n",
       "\t<tr><th scope=row>15</th><td>Congenital anomalies</td><td>South Asia          </td><td>7117.77254901961    </td><td>0.00404869175968051 </td><td>12842241.56         </td><td>0.0210283123049935  </td></tr>\n",
       "\t<tr><th scope=row>16</th><td>Tuberculosis      </td><td>South Asia        </td><td>20352.4178571429  </td><td>0.0115767490321306</td><td>23662351.34       </td><td>0.0387455189596979</td></tr>\n",
       "\t<tr><th scope=row>18</th><td>Congenital anomalies                 </td><td>Southeast Asia, East Asia and Oceania</td><td>27916.3399898056                     </td><td>0.00835714874395278                  </td><td>10039357.304                         </td><td>0.0217798601359548                   </td></tr>\n",
       "\t<tr><th scope=row>21</th><td>Tuberculosis                         </td><td>Southeast Asia, East Asia and Oceania</td><td>38466.521031746                      </td><td>0.0115154937231056                   </td><td>13100468.458                         </td><td>0.0284207805430976                   </td></tr>\n",
       "\t<tr><th scope=row>22</th><td>Congenital anomalies</td><td>Sub-Saharian Africa </td><td>1300.24700789407    </td><td>0.000426886575682948</td><td>7288013.398         </td><td>0.0133101071810827  </td></tr>\n",
       "\t<tr><th scope=row>24</th><td>Musculoskeletal disorders</td><td>Sub-Saharian Africa      </td><td>34711.0156853946         </td><td>0.0113960397789451       </td><td>13350778.793412          </td><td>0.0243825425375871       </td></tr>\n",
       "\t<tr><th scope=row>26</th><td>Sexually transmitted diseases excluding HIV</td><td>Sub-Saharian Africa                        </td><td>9788                                       </td><td>0.00321351695286893                        </td><td>6979984.6827                               </td><td>0.0127475539870094                         </td></tr>\n",
       "</tbody>\n",
       "</table>\n"
      ],
      "text/latex": [
       "\\begin{tabular}{r|llllll}\n",
       "  & Disease & Region & Patients & Pr\\_Patients & GBD & Pr\\_GBD\\\\\n",
       "\\hline\n",
       "\t1 & Cirrhosis of the liver                           & Central Europe, Eastern Europe, and Central Asia & 11026.0590052792                                 & 0.00643509247728679                              & 4090337.297                                      & 0.0269957412490737                              \\\\\n",
       "\t2 & Neonatal disorders                               & Central Europe, Eastern Europe, and Central Asia & 4723.13980668454                                 & 0.00275654623511602                              & 3883909.788                                      & 0.0256333441617377                              \\\\\n",
       "\t3 & Tuberculosis                                     & Central Europe, Eastern Europe, and Central Asia & 4657.02380952381                                 & 0.00271795923356328                              & 2769215.04                                       & 0.0182764909724469                              \\\\\n",
       "\t5 & Oral disorders      & High-income         & 104009.530525031    & 0.00498192228689552 & 2345971.817         & 0.0101315441008439 \\\\\n",
       "\t6 & Cirrhosis of the liver      & Latin America and Caribbean & 4995.96836766605            & 0.00536016856379864         & 2376422.022                 & 0.0205737666197525         \\\\\n",
       "\t7 & Congenital anomalies        & Latin America and Caribbean & 6589.37817021001            & 0.00706973605988644         & 3617507.872                 & 0.0313184114667515         \\\\\n",
       "\t10 & Congenital anomalies         & North Africa and Middle East & 12246.3978270238             & 0.0136220812157245           & 5091067.5                    & 0.0497790011743029          \\\\\n",
       "\t12 & Hemoglobinopathies and hemolytic anemias & North Africa and Middle East             & 3649.82943722944                         & 0.00405982834460672                      & 1066843.92                               & 0.0104312945657228                      \\\\\n",
       "\t15 & Congenital anomalies & South Asia           & 7117.77254901961     & 0.00404869175968051  & 12842241.56          & 0.0210283123049935  \\\\\n",
       "\t16 & Tuberculosis       & South Asia         & 20352.4178571429   & 0.0115767490321306 & 23662351.34        & 0.0387455189596979\\\\\n",
       "\t18 & Congenital anomalies                  & Southeast Asia, East Asia and Oceania & 27916.3399898056                      & 0.00835714874395278                   & 10039357.304                          & 0.0217798601359548                   \\\\\n",
       "\t21 & Tuberculosis                          & Southeast Asia, East Asia and Oceania & 38466.521031746                       & 0.0115154937231056                    & 13100468.458                          & 0.0284207805430976                   \\\\\n",
       "\t22 & Congenital anomalies & Sub-Saharian Africa  & 1300.24700789407     & 0.000426886575682948 & 7288013.398          & 0.0133101071810827  \\\\\n",
       "\t24 & Musculoskeletal disorders & Sub-Saharian Africa       & 34711.0156853946          & 0.0113960397789451        & 13350778.793412           & 0.0243825425375871       \\\\\n",
       "\t26 & Sexually transmitted diseases excluding HIV & Sub-Saharian Africa                         & 9788                                        & 0.00321351695286893                         & 6979984.6827                                & 0.0127475539870094                         \\\\\n",
       "\\end{tabular}\n"
      ],
      "text/plain": [
       "                                       Disease\n",
       "1                       Cirrhosis of the liver\n",
       "2                           Neonatal disorders\n",
       "3                                 Tuberculosis\n",
       "5                               Oral disorders\n",
       "6                       Cirrhosis of the liver\n",
       "7                         Congenital anomalies\n",
       "10                        Congenital anomalies\n",
       "12    Hemoglobinopathies and hemolytic anemias\n",
       "15                        Congenital anomalies\n",
       "16                                Tuberculosis\n",
       "18                        Congenital anomalies\n",
       "21                                Tuberculosis\n",
       "22                        Congenital anomalies\n",
       "24                   Musculoskeletal disorders\n",
       "26 Sexually transmitted diseases excluding HIV\n",
       "                                             Region Patients Pr_Patients\n",
       "1  Central Europe, Eastern Europe, and Central Asia    11026   0.0064351\n",
       "2  Central Europe, Eastern Europe, and Central Asia     4723   0.0027565\n",
       "3  Central Europe, Eastern Europe, and Central Asia     4657   0.0027180\n",
       "5                                       High-income   104010   0.0049819\n",
       "6                       Latin America and Caribbean     4996   0.0053602\n",
       "7                       Latin America and Caribbean     6589   0.0070697\n",
       "10                     North Africa and Middle East    12246   0.0136221\n",
       "12                     North Africa and Middle East     3650   0.0040598\n",
       "15                                       South Asia     7118   0.0040487\n",
       "16                                       South Asia    20352   0.0115767\n",
       "18            Southeast Asia, East Asia and Oceania    27916   0.0083571\n",
       "21            Southeast Asia, East Asia and Oceania    38467   0.0115155\n",
       "22                              Sub-Saharian Africa     1300   0.0004269\n",
       "24                              Sub-Saharian Africa    34711   0.0113960\n",
       "26                              Sub-Saharian Africa     9788   0.0032135\n",
       "        GBD  Pr_GBD\n",
       "1   4090337 0.02700\n",
       "2   3883910 0.02563\n",
       "3   2769215 0.01828\n",
       "5   2345972 0.01013\n",
       "6   2376422 0.02057\n",
       "7   3617508 0.03132\n",
       "10  5091068 0.04978\n",
       "12  1066844 0.01043\n",
       "15 12842242 0.02103\n",
       "16 23662351 0.03875\n",
       "18 10039357 0.02178\n",
       "21 13100468 0.02842\n",
       "22  7288013 0.01331\n",
       "24 13350779 0.02438\n",
       "26  6979985 0.01275"
      ]
     },
     "metadata": {},
     "output_type": "display_data"
    }
   ],
   "source": [
    "GAPS[GAPS$Pr_GBD>=0.01 & GAPS$Pr_GBD<0.05,-c(1:2,5)]"
   ]
  },
  {
   "cell_type": "code",
   "execution_count": 70,
   "metadata": {
    "collapsed": false,
    "scrolled": true
   },
   "outputs": [],
   "source": [
    "write.table(GAPS,\"Mapping_Cancer/Tables/Local_research_gaps_patients.txt\")"
   ]
  },
  {
   "cell_type": "markdown",
   "metadata": {
    "collapsed": true
   },
   "source": [
    "### Differences between gaps in RCTs and patients"
   ]
  },
  {
   "cell_type": "code",
   "execution_count": 71,
   "metadata": {
    "collapsed": false
   },
   "outputs": [
    {
     "data": {
      "text/html": [
       "<table>\n",
       "<thead><tr><th></th><th scope=col>Central.Europe..Eastern.Europe..and.Central.Asia</th><th scope=col>High.income</th><th scope=col>Latin.America.and.Caribbean</th><th scope=col>North.Africa.and.Middle.East</th><th scope=col>South.Asia</th><th scope=col>Southeast.Asia..East.Asia.and.Oceania</th><th scope=col>Sub.Saharian.Africa</th><th scope=col>Tot</th></tr></thead>\n",
       "<tbody>\n",
       "\t<tr><th scope=row>Cardiovascular and circulatory diseases</th><td>0.22043</td><td>0.15760</td><td>0.12836</td><td>0.18283</td><td>0.06448</td><td>0.21158</td><td>0.02609</td><td>0.14898</td></tr>\n",
       "\t<tr><th scope=row>Chronic respiratory diseases</th><td>0.11332</td><td>0.05748</td><td>0.05166</td><td>0.03202</td><td>0.02007</td><td>0.02888</td><td>0.02105</td><td>0.05119</td></tr>\n",
       "\t<tr><th scope=row>Cirrhosis of the liver</th><td>0.0064351</td><td>0.0098766</td><td>0.0053602</td><td>0.0760196</td><td>0.0091711</td><td>0.0608886</td><td>0.0006272</td><td>0.0157214</td></tr>\n",
       "\t<tr><th scope=row>Congenital anomalies</th><td>0.0068722</td><td>0.0124541</td><td>0.0070697</td><td>0.0136221</td><td>0.0040487</td><td>0.0083571</td><td>0.0004269</td><td>0.0100397</td></tr>\n",
       "\t<tr><th scope=row>Diabetes, urinary diseases and male infertility</th><td>0.15683</td><td>0.13427</td><td>0.12665</td><td>0.20318</td><td>0.08617</td><td>0.17791</td><td>0.01615</td><td>0.12797</td></tr>\n",
       "\t<tr><th scope=row>Diarrhea, lower respiratory infections, meningitis, and other common infectious diseases</th><td>0.08124</td><td>0.08227</td><td>0.13681</td><td>0.03702</td><td>0.19518</td><td>0.07056</td><td>0.06992</td><td>0.08627</td></tr>\n",
       "</tbody>\n",
       "</table>\n"
      ],
      "text/latex": [
       "\\begin{tabular}{r|llllllll}\n",
       "  & Central.Europe..Eastern.Europe..and.Central.Asia & High.income & Latin.America.and.Caribbean & North.Africa.and.Middle.East & South.Asia & Southeast.Asia..East.Asia.and.Oceania & Sub.Saharian.Africa & Tot\\\\\n",
       "\\hline\n",
       "\tCardiovascular and circulatory diseases & 0.22043 & 0.15760 & 0.12836 & 0.18283 & 0.06448 & 0.21158 & 0.02609 & 0.14898\\\\\n",
       "\tChronic respiratory diseases & 0.11332 & 0.05748 & 0.05166 & 0.03202 & 0.02007 & 0.02888 & 0.02105 & 0.05119\\\\\n",
       "\tCirrhosis of the liver & 0.0064351 & 0.0098766 & 0.0053602 & 0.0760196 & 0.0091711 & 0.0608886 & 0.0006272 & 0.0157214\\\\\n",
       "\tCongenital anomalies & 0.0068722 & 0.0124541 & 0.0070697 & 0.0136221 & 0.0040487 & 0.0083571 & 0.0004269 & 0.0100397\\\\\n",
       "\tDiabetes, urinary diseases and male infertility & 0.15683 & 0.13427 & 0.12665 & 0.20318 & 0.08617 & 0.17791 & 0.01615 & 0.12797\\\\\n",
       "\tDiarrhea, lower respiratory infections, meningitis, and other common infectious diseases & 0.08124 & 0.08227 & 0.13681 & 0.03702 & 0.19518 & 0.07056 & 0.06992 & 0.08627\\\\\n",
       "\\end{tabular}\n"
      ],
      "text/plain": [
       "                                                                                         Central.Europe..Eastern.Europe..and.Central.Asia\n",
       "Cardiovascular and circulatory diseases                                                                                          0.220430\n",
       "Chronic respiratory diseases                                                                                                     0.113324\n",
       "Cirrhosis of the liver                                                                                                           0.006435\n",
       "Congenital anomalies                                                                                                             0.006872\n",
       "Diabetes, urinary diseases and male infertility                                                                                  0.156830\n",
       "Diarrhea, lower respiratory infections, meningitis, and other common infectious diseases                                         0.081241\n",
       "                                                                                         High.income\n",
       "Cardiovascular and circulatory diseases                                                     0.157602\n",
       "Chronic respiratory diseases                                                                0.057478\n",
       "Cirrhosis of the liver                                                                      0.009877\n",
       "Congenital anomalies                                                                        0.012454\n",
       "Diabetes, urinary diseases and male infertility                                             0.134268\n",
       "Diarrhea, lower respiratory infections, meningitis, and other common infectious diseases    0.082272\n",
       "                                                                                         Latin.America.and.Caribbean\n",
       "Cardiovascular and circulatory diseases                                                                      0.12836\n",
       "Chronic respiratory diseases                                                                                 0.05166\n",
       "Cirrhosis of the liver                                                                                       0.00536\n",
       "Congenital anomalies                                                                                         0.00707\n",
       "Diabetes, urinary diseases and male infertility                                                              0.12665\n",
       "Diarrhea, lower respiratory infections, meningitis, and other common infectious diseases                     0.13681\n",
       "                                                                                         North.Africa.and.Middle.East\n",
       "Cardiovascular and circulatory diseases                                                                       0.18283\n",
       "Chronic respiratory diseases                                                                                  0.03202\n",
       "Cirrhosis of the liver                                                                                        0.07602\n",
       "Congenital anomalies                                                                                          0.01362\n",
       "Diabetes, urinary diseases and male infertility                                                               0.20318\n",
       "Diarrhea, lower respiratory infections, meningitis, and other common infectious diseases                      0.03702\n",
       "                                                                                         South.Asia\n",
       "Cardiovascular and circulatory diseases                                                    0.064480\n",
       "Chronic respiratory diseases                                                               0.020069\n",
       "Cirrhosis of the liver                                                                     0.009171\n",
       "Congenital anomalies                                                                       0.004049\n",
       "Diabetes, urinary diseases and male infertility                                            0.086171\n",
       "Diarrhea, lower respiratory infections, meningitis, and other common infectious diseases   0.195184\n",
       "                                                                                         Southeast.Asia..East.Asia.and.Oceania\n",
       "Cardiovascular and circulatory diseases                                                                               0.211579\n",
       "Chronic respiratory diseases                                                                                          0.028879\n",
       "Cirrhosis of the liver                                                                                                0.060889\n",
       "Congenital anomalies                                                                                                  0.008357\n",
       "Diabetes, urinary diseases and male infertility                                                                       0.177915\n",
       "Diarrhea, lower respiratory infections, meningitis, and other common infectious diseases                              0.070558\n",
       "                                                                                         Sub.Saharian.Africa\n",
       "Cardiovascular and circulatory diseases                                                            0.0260893\n",
       "Chronic respiratory diseases                                                                       0.0210531\n",
       "Cirrhosis of the liver                                                                             0.0006272\n",
       "Congenital anomalies                                                                               0.0004269\n",
       "Diabetes, urinary diseases and male infertility                                                    0.0161549\n",
       "Diarrhea, lower respiratory infections, meningitis, and other common infectious diseases           0.0699223\n",
       "                                                                                             Tot\n",
       "Cardiovascular and circulatory diseases                                                  0.14898\n",
       "Chronic respiratory diseases                                                             0.05119\n",
       "Cirrhosis of the liver                                                                   0.01572\n",
       "Congenital anomalies                                                                     0.01004\n",
       "Diabetes, urinary diseases and male infertility                                          0.12797\n",
       "Diarrhea, lower respiratory infections, meningitis, and other common infectious diseases 0.08627"
      ]
     },
     "metadata": {},
     "output_type": "display_data"
    }
   ],
   "source": [
    "Pr_Patients[rownames(Pr_Patients)==\"\"]"
   ]
  },
  {
   "cell_type": "code",
   "execution_count": null,
   "metadata": {
    "collapsed": true
   },
   "outputs": [],
   "source": []
  }
 ],
 "metadata": {
  "kernelspec": {
   "display_name": "R",
   "language": "R",
   "name": "ir"
  },
  "language_info": {
   "codemirror_mode": "r",
   "file_extension": ".r",
   "mimetype": "text/x-r-source",
   "name": "R",
   "pygments_lexer": "r",
   "version": "3.3.1"
  }
 },
 "nbformat": 4,
 "nbformat_minor": 1
}
