{
 "cells": [
  {
   "cell_type": "markdown",
   "metadata": {
    "collapsed": true
   },
   "source": [
    "# Simulations to identify research gaps\n",
    "For each disease, we simulate what would have been the mapping of RCTs within regions if the misclassification of RCTs towards groups of diseases was corrected, given the sensitivities and specificities of the classifier to identify each group of disease.\n",
    "\n",
    "To estimate the performances of the classifier for each group of diseases, we dispose a test set with 2,763 trials manually classified towards the 27-class grouping of diseases used in this work. The test set is described at Atal et al. BMC Bioinformatics 2016.\n",
    "\n",
    "The method used is based on the method presented at Fox et al. Int J Epidemiol 2005.\n",
    "\n",
    "To do so, for each disease for which we found a local research gap we will:\n",
    "\n",
    "1. Calculating sensitivity and specificity of the classifier to identify the disease and other studies relevant to the burden of diseases, and the number of success and number of trials to derive beta distributions\n",
    "2. Doing N=60k times the following simulation\n",
    "    * Randomly choose a sens and spec based on beta distribution for identifying the disease and identifying another disease (no correlation between sens and spec, neither between disease and another disease both)\n",
    "    * Derive Positive and Negative Predictive Values (PPV and NPV) for each.\n",
    "    * Simulate the correction of the classification based on PPVs and NPVs\n",
    "    * Derive the proportion of RCTs concerning the disease among all RCTs concerning the burden of disease in the region\n",
    "3. Derive 95% upper-bond simulation interval of the proportion of RCTs concerning the disease among all RCTs concerning the burden of diseases"
   ]
  },
  {
   "cell_type": "markdown",
   "metadata": {},
   "source": [
    "## 2. Simulating correction of misclassification"
   ]
  },
  {
   "cell_type": "code",
   "execution_count": 1,
   "metadata": {
    "collapsed": false
   },
   "outputs": [],
   "source": [
    "data <- read.table('/media/igna/Elements/HotelDieu/Cochrane/Mapping_Cancer/Flowchart/database_all_diseases_final_ok.txt')\n",
    "data <- data[!is.na(data$Sample),]\n",
    "data <- data[data$Sample>=20 & data$Sample<=150000,]\n",
    "N <- nrow(data)"
   ]
  },
  {
   "cell_type": "code",
   "execution_count": 2,
   "metadata": {
    "collapsed": false
   },
   "outputs": [],
   "source": [
    "#Nb of patients per region\n",
    "nb_ctrs <- lapply(strsplit(as.character(data$Nb_ctr_per_reg),'&'),as.numeric)\n",
    "RGs <-strsplit(as.character(data$Regions),'&')\n",
    "pats <- data.frame(TrialID = rep(data$TrialID,sapply(nb_ctrs,length)),\n",
    "                   Nb_ctrs = unlist(nb_ctrs),\n",
    "                   Region = unlist(RGs),\n",
    "                   Tot_sample = rep(data$Sample,sapply(nb_ctrs,length)))"
   ]
  },
  {
   "cell_type": "code",
   "execution_count": 3,
   "metadata": {
    "collapsed": true
   },
   "outputs": [],
   "source": [
    "pats$tot_ctrs <- rep(sapply(nb_ctrs,sum),sapply(nb_ctrs,length))\n",
    "pats$sample_per_reg <- pats$Tot_sample*pats$Nb_ctrs/pats$tot_ctrs"
   ]
  },
  {
   "cell_type": "code",
   "execution_count": 4,
   "metadata": {
    "collapsed": true
   },
   "outputs": [],
   "source": [
    "Lgbd <- lapply(as.character(data$GBD28),function(x){as.numeric(unlist(strsplit(x,\"&\")))})\n",
    "Lgbd <- lapply(Lgbd,function(x){x[x!=28]})"
   ]
  },
  {
   "cell_type": "code",
   "execution_count": 5,
   "metadata": {
    "collapsed": true
   },
   "outputs": [],
   "source": [
    "regs <- sort(unique(unlist(strsplit(as.character(data$Regions),\"&\"))))"
   ]
  },
  {
   "cell_type": "code",
   "execution_count": 6,
   "metadata": {
    "collapsed": true
   },
   "outputs": [
    {
     "name": "stderr",
     "output_type": "stream",
     "text": [
      "gdata: read.xls support for 'XLS' (Excel 97-2004) files ENABLED.\n",
      "\n",
      "gdata: read.xls support for 'XLSX' (Excel 2007+) files ENABLED.\n",
      "\n",
      "Attaching package: ‘gdata’\n",
      "\n",
      "The following object is masked from ‘package:stats’:\n",
      "\n",
      "    nobs\n",
      "\n",
      "The following object is masked from ‘package:utils’:\n",
      "\n",
      "    object.size\n",
      "\n",
      "The following object is masked from ‘package:base’:\n",
      "\n",
      "    startsWith\n",
      "\n"
     ]
    }
   ],
   "source": [
    "library(gdata)"
   ]
  },
  {
   "cell_type": "code",
   "execution_count": 7,
   "metadata": {
    "collapsed": true
   },
   "outputs": [],
   "source": [
    "PERF <- read.csv('Tables/Performances_per_27disease_data.csv')"
   ]
  },
  {
   "cell_type": "code",
   "execution_count": 8,
   "metadata": {
    "collapsed": true
   },
   "outputs": [],
   "source": [
    "#For all diseases, we will simulate the mapping across regions of trials concerning\n",
    "#the disease or concerning other diseases\n",
    "dis <- 1:27"
   ]
  },
  {
   "cell_type": "code",
   "execution_count": 40,
   "metadata": {
    "collapsed": true
   },
   "outputs": [],
   "source": [
    "#NK <- 60000\n",
    "NK <- 5000\n",
    "set.seed(7212)"
   ]
  },
  {
   "cell_type": "code",
   "execution_count": 41,
   "metadata": {
    "collapsed": false
   },
   "outputs": [
    {
     "name": "stdout",
     "output_type": "stream",
     "text": [
      "[1] 24\n",
      "   user  system elapsed \n",
      "842.735   0.168 843.722 \n"
     ]
    },
    {
     "data": {
      "text/plain": [
       "    user   system  elapsed \n",
       "14.04558  0.00280 14.06203 "
      ]
     },
     "metadata": {},
     "output_type": "display_data"
    }
   ],
   "source": [
    "#For each disease\n",
    "t0 <- proc.time()\n",
    "\n",
    "#for(g in dis){\n",
    "\n",
    "g <- 24\n",
    "print(g)\n",
    "    PERF_g <- PERF[PERF$dis==g,]\n",
    "    \n",
    "    #which trials concern the disease\n",
    "    is_dis <- sapply(Lgbd,function(x){g%in%x})\n",
    "    #which trials concern another disease\n",
    "    is_oth <- sapply(Lgbd,function(x){sum(setdiff(1:27,g)%in%x)>0})\n",
    "\n",
    "    #PPV et NPVs for finding the disease\n",
    "    sens_r <- PERF_g$TP_Dis\n",
    "    sens_n <- PERF_g$TP_Dis + PERF_g$FN_Dis\n",
    "    spec_r <- PERF_g$TN_Dis\n",
    "    spec_n <- PERF_g$TN_Dis + PERF_g$FP_Dis\n",
    "    sens <- rbeta(NK,sens_r+1,sens_n-sens_r+1)\n",
    "    spec <- rbeta(NK,spec_r+1,spec_n-spec_r+1)\n",
    "\n",
    "    a_dis <- sum(is_dis)\n",
    "    b_dis <- N-a_dis\n",
    "    As <- (a_dis-(1-spec)*N)/(sens - (1-spec))\n",
    "    Bs <- N-As\n",
    "    T1 <- sens*As\n",
    "    T0 <- spec*Bs\n",
    "    F1 <- (1-spec)*Bs\n",
    "    F0 <- (1-sens)*As\n",
    "    PPV_dis <- T1/(T1+F1)\n",
    "    NPV_dis <- T0/(T0+F0)\n",
    "\n",
    "    #PPV and NPVs for finding another disease\n",
    "    sens_r <- PERF_g$TP_Oth\n",
    "    sens_n <- PERF_g$TP_Oth + PERF_g$FN_Oth\n",
    "    spec_r <- PERF_g$TN_Oth\n",
    "    spec_n <- PERF_g$TN_Oth + PERF_g$FP_Oth\n",
    "    sens <- rbeta(NK,sens_r+1,sens_n-sens_r+1)\n",
    "    spec <- rbeta(NK,spec_r+1,spec_n-spec_r+1)\n",
    "\n",
    "    a_oth <- sum(is_oth)\n",
    "    b_oth <- N-a_oth\n",
    "    As <- (a_oth-(1-spec)*N)/(sens - (1-spec))\n",
    "    Bs <- N-As\n",
    "    T1 <- sens*As\n",
    "    T0 <- spec*Bs\n",
    "    F1 <- (1-spec)*Bs\n",
    "    F0 <- (1-sens)*As\n",
    "    PPV_oth <- T1/(T1+F1)\n",
    "    NPV_oth <- T0/(T0+F0)\n",
    "\n",
    "    #Some values of sens and spec may lead to impossible values of PPV or NPV (>1 or <0)\n",
    "    #Depending on the case we will either suppress the iteration, either fix PPVs and NPVs to 0 or 1\n",
    "    #The decision is made to be the most conservative as possible regarding our objective of \n",
    "    #upper-bounding the number and local proportion of RCTs concerning a disease in a region\n",
    "\n",
    "    #Case 1: PPV_dis < 0 (and NPV_dis > 1), sens_dis and spec_dis are such that expected value\n",
    "        #of nb_trials concerning disease is negative. Suppressing that iteration is conservative\n",
    "        #in regard of our objective, while fixing PPV_dis = 0 is not conservative, as we fix the number\n",
    "        #of RCTs concerning the disease equal to 0 in all regions\n",
    "    case1 <- PPV_dis<0 | NPV_dis>1 \n",
    "    if(sum(case1>0)) print(paste(c(g,\"has\",sum(case1),\"case 1 false iterations which were suppressed\"),collapse=\" \"))\n",
    "\n",
    "    #Case 2: PPV_dis > 1 (and NPV_dis < 0), sens_dis and spec_dis are such that expected value\n",
    "        #of nb_trials concerning disease is higher than the total number of trials. Suppressing that iteration is \n",
    "        #not conservative in regard of our objective, as an iteration giving a maximal number and proportion\n",
    "        #of RCTs will be suppressed, while fixing PPV_dis = 1 and NPV_dis = 0 (ie nb trials dis = N) \n",
    "        #is conservative\n",
    "    case2 <- PPV_dis>1 | NPV_dis<0 \n",
    "    if(sum(case2>0)) print(paste(c(g,\"has\",sum(case2),\"case 2 false iterations for which we fixed PPV_dis = 1\"),collapse=\" \"))\n",
    "        \n",
    "    #Case 3: If PPV_oth < 0 (and NPV_oth > 1), sens_oth and spec_oth are such that the expected value\n",
    "        #of nb_trials concerning other diseases is negative. Suppressing that iteration is not conservative\n",
    "        #in regard of our objective, as that iteration would give that all trials concerning the burden of\n",
    "        #diseases concern the disease of interest. We fixed PPV_oth = 0 and NPV_oth = 1\n",
    "    case3 <- PPV_oth<0 | NPV_oth>1 \n",
    "    if(sum(case3>0)) print(paste(c(g,\"has\",sum(case3),\"case 3 false iterations for which we fixed PPV_oth = 0\"),collapse=\" \"))\n",
    "\n",
    "    #Case 4: PPV_oth > 1 (and NPV_oth < 0), sens_oth and spec_oth are such that expected value\n",
    "        #of nb_trials concerning other diseases is higher than the total number of trials. \n",
    "        #Suppressing that iteration is conservative in regard of our objective, while fixing PPV_oth = 1\n",
    "        #is not conservative, as we fix the number of RCTs concerning other diseases to be maximal, so the proportion\n",
    "        #of RCTs concerning the disease among all RCTs concerning the burden is minimized\n",
    "    case4 <- PPV_oth>1 | NPV_oth<0 \n",
    "    if(sum(case4>0)) print(paste(c(g,\"has\",sum(case4),\"case 4 false iterations which were suppressed\"),collapse=\" \"))\n",
    "\n",
    "    #If the number of suppressed iteration is higher than 10% of the total number of iterations, we skip\n",
    "    #the disease\n",
    "    if(sum(case1 | case4)>0.1*NK){ print(paste(c(g,\n",
    "                                                     \"has\", \n",
    "                                                     sum(case1 | case4), \n",
    "                                                     \"(too many) suppressed false iterations\"\n",
    "                                                    ),collapse=\" \"))\n",
    "#                          next\n",
    "                          }\n",
    "    \n",
    " #   else print(paste(c(g,\"has\",sum(case1 | case4),\"suppressed false iterations\"\n",
    "  #                                                  ),collapse=\" \"))  \n",
    "\n",
    "    PPV_dis[case2] <- 1\n",
    "    NPV_dis[case2] <- 0\n",
    "    PPV_oth[case3] <- 0\n",
    "    NPV_oth[case3] <- 1\n",
    "    PPV_dis <- PPV_dis[!(case1 | case4)]\n",
    "    NPV_dis <- NPV_dis[!(case1 | case4)]\n",
    "    PPV_oth <- PPV_oth[!(case1 | case4)]\n",
    "    NPV_oth <- NPV_oth[!(case1 | case4)]\n",
    "\n",
    "    L <- list()\n",
    "    #Simulation: reclassifying each trial\n",
    "        for(k in 1:length(PPV_dis)){\n",
    "\n",
    "            AR <- matrix(0, nrow=length(regs), ncol=2)\n",
    "            tp_dis <- runif(a_dis)\n",
    "            tn_dis <- runif(b_dis)\n",
    "            recl_dis <- is_dis\n",
    "            recl_dis[recl_dis==TRUE][tp_dis>PPV_dis[k]] <- FALSE\n",
    "            recl_dis[recl_dis==FALSE][tn_dis>NPV_dis[k]] <- TRUE\n",
    "            #Rq: we count all trials (even those with more than 3 diseases)\n",
    "            #it is a conservative choice\n",
    "            rt <- as.numeric(recl_dis)\n",
    "\n",
    "            if(sum(recl_dis)==0) AR[,1] <- c(rep(0,7))\n",
    "            else{   \n",
    "                    dsp <- pats[pats$TrialID%in%data$TrialID[recl_dis],]\n",
    "                    AR[,1] <-tapply(dsp$sample_per_reg,dsp$Region,sum)\n",
    "            }\n",
    "                \n",
    "            #Oth_dis\n",
    "            tp_oth <- runif(a_oth)\n",
    "            tn_oth <- runif(b_oth)\n",
    "            recl_oth <- is_oth\n",
    "            recl_oth[recl_oth==TRUE][tp_oth>PPV_oth[k]] <- FALSE\n",
    "            recl_oth[recl_oth==FALSE][tn_oth>NPV_oth[k]] <- TRUE\n",
    "            rt <- rt + as.numeric(recl_oth)\n",
    "\n",
    "            if(sum(rt)==0) AR[,2] <- c(rep(0,7))\n",
    "            else{  \n",
    "                    dsp <- pats[pats$TrialID%in%data$TrialID[as.logical(rt)],]\n",
    "                    AR[,2] <-tapply(dsp$sample_per_reg,dsp$Region,sum)\n",
    "\n",
    "            }\n",
    "\n",
    "            L[[k]] <- AR\n",
    "\n",
    "        }\n",
    "\n",
    "    \n",
    "    T <- do.call('rbind',L)\n",
    "    write.table(T,paste(c(\"/media/igna/Elements/HotelDieu/Cochrane/Mapping_Cancer/Incertitude_mapping/Simulations/Patients_total_simulation_\",as.character(PERF_g$dis),\".txt\"),collapse=\"\"))\n",
    "\n",
    "#}\n",
    "\n",
    "t1 <- proc.time()\n",
    "    \n",
    "print(t1-t0)/60"
   ]
  },
  {
   "cell_type": "code",
   "execution_count": 43,
   "metadata": {
    "collapsed": false
   },
   "outputs": [
    {
     "data": {
      "text/html": [
       "6.3"
      ],
      "text/latex": [
       "6.3"
      ],
      "text/markdown": [
       "6.3"
      ],
      "text/plain": [
       "[1] 6.3"
      ]
     },
     "metadata": {},
     "output_type": "display_data"
    }
   ],
   "source": [
    "14*27/60\n",
    "#Cela va prendre 6h pour 5k simulations"
   ]
  },
  {
   "cell_type": "code",
   "execution_count": 46,
   "metadata": {
    "collapsed": false
   },
   "outputs": [
    {
     "data": {
      "text/html": [
       "<ol class=list-inline>\n",
       "\t<li>5.71425952376582</li>\n",
       "\t<li>5.33351520044609</li>\n",
       "\t<li>6.39765932399576</li>\n",
       "\t<li>5.09786716995206</li>\n",
       "\t<li>9.18819666832351</li>\n",
       "\t<li>5.29058555607524</li>\n",
       "\t<li>6.13551945398473</li>\n",
       "</ol>\n"
      ],
      "text/latex": [
       "\\begin{enumerate*}\n",
       "\\item 5.71425952376582\n",
       "\\item 5.33351520044609\n",
       "\\item 6.39765932399576\n",
       "\\item 5.09786716995206\n",
       "\\item 9.18819666832351\n",
       "\\item 5.29058555607524\n",
       "\\item 6.13551945398473\n",
       "\\end{enumerate*}\n"
      ],
      "text/markdown": [
       "1. 5.71425952376582\n",
       "2. 5.33351520044609\n",
       "3. 6.39765932399576\n",
       "4. 5.09786716995206\n",
       "5. 9.18819666832351\n",
       "6. 5.29058555607524\n",
       "7. 6.13551945398473\n",
       "\n",
       "\n"
      ],
      "text/plain": [
       "[1] 5.714260 5.333515 6.397659 5.097867 9.188197 5.290586 6.135519"
      ]
     },
     "metadata": {},
     "output_type": "display_data"
    },
    {
     "data": {
      "text/html": [
       "<ol class=list-inline>\n",
       "\t<li>'Central Europe, Eastern Europe, and Central Asia'</li>\n",
       "\t<li>'High-income'</li>\n",
       "\t<li>'Latin America and Caribbean'</li>\n",
       "\t<li>'North Africa and Middle East'</li>\n",
       "\t<li>'South Asia'</li>\n",
       "\t<li>'Southeast Asia, East Asia and Oceania'</li>\n",
       "\t<li>'Sub-Saharian Africa'</li>\n",
       "</ol>\n"
      ],
      "text/latex": [
       "\\begin{enumerate*}\n",
       "\\item 'Central Europe, Eastern Europe, and Central Asia'\n",
       "\\item 'High-income'\n",
       "\\item 'Latin America and Caribbean'\n",
       "\\item 'North Africa and Middle East'\n",
       "\\item 'South Asia'\n",
       "\\item 'Southeast Asia, East Asia and Oceania'\n",
       "\\item 'Sub-Saharian Africa'\n",
       "\\end{enumerate*}\n"
      ],
      "text/markdown": [
       "1. 'Central Europe, Eastern Europe, and Central Asia'\n",
       "2. 'High-income'\n",
       "3. 'Latin America and Caribbean'\n",
       "4. 'North Africa and Middle East'\n",
       "5. 'South Asia'\n",
       "6. 'Southeast Asia, East Asia and Oceania'\n",
       "7. 'Sub-Saharian Africa'\n",
       "\n",
       "\n"
      ],
      "text/plain": [
       "[1] \"Central Europe, Eastern Europe, and Central Asia\"\n",
       "[2] \"High-income\"                                     \n",
       "[3] \"Latin America and Caribbean\"                     \n",
       "[4] \"North Africa and Middle East\"                    \n",
       "[5] \"South Asia\"                                      \n",
       "[6] \"Southeast Asia, East Asia and Oceania\"           \n",
       "[7] \"Sub-Saharian Africa\"                             "
      ]
     },
     "metadata": {},
     "output_type": "display_data"
    },
    {
     "data": {
      "text/html": [
       "<table>\n",
       "<thead><tr><th></th><th scope=col>X</th><th scope=col>dis</th><th scope=col>GBD</th><th scope=col>TP_Dis</th><th scope=col>FP_Dis</th><th scope=col>TN_Dis</th><th scope=col>FN_Dis</th><th scope=col>TP_Oth</th><th scope=col>FP_Oth</th><th scope=col>TN_Oth</th><th scope=col>FN_Oth</th></tr></thead>\n",
       "<tbody>\n",
       "\t<tr><th scope=row>24</th><td>24                            </td><td>24                            </td><td>Skin and subcutaneous diseases</td><td>18                            </td><td>24                            </td><td>2717                          </td><td>4                             </td><td>2134                          </td><td>198                           </td><td>281                           </td><td>150                           </td></tr>\n",
       "</tbody>\n",
       "</table>\n"
      ],
      "text/latex": [
       "\\begin{tabular}{r|lllllllllll}\n",
       "  & X & dis & GBD & TP\\_Dis & FP\\_Dis & TN\\_Dis & FN\\_Dis & TP\\_Oth & FP\\_Oth & TN\\_Oth & FN\\_Oth\\\\\n",
       "\\hline\n",
       "\t24 & 24                             & 24                             & Skin and subcutaneous diseases & 18                             & 24                             & 2717                           & 4                              & 2134                           & 198                            & 281                            & 150                           \\\\\n",
       "\\end{tabular}\n"
      ],
      "text/plain": [
       "    X dis                            GBD TP_Dis FP_Dis TN_Dis FN_Dis TP_Oth\n",
       "24 24  24 Skin and subcutaneous diseases     18     24   2717      4   2134\n",
       "   FP_Oth TN_Oth FN_Oth\n",
       "24    198    281    150"
      ]
     },
     "metadata": {},
     "output_type": "display_data"
    }
   ],
   "source": [
    "M <- matrix(T[,1]/T[,2],ncol=7,byrow=TRUE)\n",
    "100*apply(M,2,function(x){quantile(x,0.95)})\n",
    "regs\n",
    "PERF_g"
   ]
  },
  {
   "cell_type": "code",
   "execution_count": 47,
   "metadata": {
    "collapsed": true
   },
   "outputs": [],
   "source": [
    "dsp <- pats[pats$TrialID%in%data$TrialID[2],]"
   ]
  },
  {
   "cell_type": "code",
   "execution_count": 50,
   "metadata": {
    "collapsed": false
   },
   "outputs": [
    {
     "data": {
      "text/html": [
       "<table>\n",
       "<thead><tr><th></th><th scope=col>TrialID</th><th scope=col>Nb_ctrs</th><th scope=col>Region</th><th scope=col>Tot_sample</th><th scope=col>tot_ctrs</th><th scope=col>sample_per_reg</th></tr></thead>\n",
       "<tbody>\n",
       "\t<tr><th scope=row>2</th><td>NCT00590174</td><td>1          </td><td>High-income</td><td>1175       </td><td>1          </td><td>1175       </td></tr>\n",
       "</tbody>\n",
       "</table>\n"
      ],
      "text/latex": [
       "\\begin{tabular}{r|llllll}\n",
       "  & TrialID & Nb\\_ctrs & Region & Tot\\_sample & tot\\_ctrs & sample\\_per\\_reg\\\\\n",
       "\\hline\n",
       "\t2 & NCT00590174 & 1           & High-income & 1175        & 1           & 1175       \\\\\n",
       "\\end{tabular}\n"
      ],
      "text/plain": [
       "      TrialID Nb_ctrs      Region Tot_sample tot_ctrs sample_per_reg\n",
       "2 NCT00590174       1 High-income       1175        1           1175"
      ]
     },
     "metadata": {},
     "output_type": "display_data"
    }
   ],
   "source": [
    "dsp"
   ]
  },
  {
   "cell_type": "code",
   "execution_count": 53,
   "metadata": {
    "collapsed": false
   },
   "outputs": [
    {
     "data": {
      "text/plain": [
       "\n",
       "FALSE \n",
       "70000 "
      ]
     },
     "metadata": {},
     "output_type": "display_data"
    }
   ],
   "source": [
    "table(is.na(T))"
   ]
  },
  {
   "cell_type": "code",
   "execution_count": 18,
   "metadata": {
    "collapsed": false
   },
   "outputs": [
    {
     "data": {
      "text/html": [
       "<table>\n",
       "<tbody>\n",
       "\t<tr><td>      NA</td><td>552.5681</td><td>      NA</td><td>      NA</td><td>      NA</td><td>      NA</td><td>      NA</td></tr>\n",
       "\t<tr><td>      NA</td><td>466.4371</td><td>      NA</td><td>      NA</td><td>      NA</td><td>      NA</td><td>      NA</td></tr>\n",
       "\t<tr><td>      NA</td><td>494.0432</td><td>      NA</td><td>      NA</td><td>      NA</td><td>      NA</td><td>      NA</td></tr>\n",
       "\t<tr><td>     NA</td><td>445.499</td><td>     NA</td><td>     NA</td><td>     NA</td><td>     NA</td><td>     NA</td></tr>\n",
       "\t<tr><td>      NA</td><td>459.0773</td><td>      NA</td><td>      NA</td><td>      NA</td><td>      NA</td><td>      NA</td></tr>\n",
       "\t<tr><td>      NA</td><td>507.7305</td><td>      NA</td><td>      NA</td><td>      NA</td><td>      NA</td><td>      NA</td></tr>\n",
       "</tbody>\n",
       "</table>\n"
      ],
      "text/latex": [
       "\\begin{tabular}{lllllll}\n",
       "\t       NA & 552.5681 &       NA &       NA &       NA &       NA &       NA\\\\\n",
       "\t       NA & 466.4371 &       NA &       NA &       NA &       NA &       NA\\\\\n",
       "\t       NA & 494.0432 &       NA &       NA &       NA &       NA &       NA\\\\\n",
       "\t      NA & 445.499 &      NA &      NA &      NA &      NA &      NA\\\\\n",
       "\t       NA & 459.0773 &       NA &       NA &       NA &       NA &       NA\\\\\n",
       "\t       NA & 507.7305 &       NA &       NA &       NA &       NA &       NA\\\\\n",
       "\\end{tabular}\n"
      ],
      "text/markdown": [
       "1. NA\n",
       "2. NA\n",
       "3. NA\n",
       "4. NA\n",
       "5. NA\n",
       "6. NA\n",
       "7. 552.568125966672\n",
       "8. 466.437117757269\n",
       "9. 494.043157283757\n",
       "10. 445.498957959311\n",
       "11. 459.077300008964\n",
       "12. 507.73048594104\n",
       "13. NA\n",
       "14. NA\n",
       "15. NA\n",
       "16. NA\n",
       "17. NA\n",
       "18. NA\n",
       "19. NA\n",
       "20. NA\n",
       "21. NA\n",
       "22. NA\n",
       "23. NA\n",
       "24. NA\n",
       "25. NA\n",
       "26. NA\n",
       "27. NA\n",
       "28. NA\n",
       "29. NA\n",
       "30. NA\n",
       "31. NA\n",
       "32. NA\n",
       "33. NA\n",
       "34. NA\n",
       "35. NA\n",
       "36. NA\n",
       "37. NA\n",
       "38. NA\n",
       "39. NA\n",
       "40. NA\n",
       "41. NA\n",
       "42. NA\n",
       "\n",
       "\n"
      ],
      "text/plain": [
       "     [,1]     [,2] [,3] [,4] [,5] [,6] [,7]\n",
       "[1,]   NA 552.5681   NA   NA   NA   NA   NA\n",
       "[2,]   NA 466.4371   NA   NA   NA   NA   NA\n",
       "[3,]   NA 494.0432   NA   NA   NA   NA   NA\n",
       "[4,]   NA 445.4990   NA   NA   NA   NA   NA\n",
       "[5,]   NA 459.0773   NA   NA   NA   NA   NA\n",
       "[6,]   NA 507.7305   NA   NA   NA   NA   NA"
      ]
     },
     "metadata": {},
     "output_type": "display_data"
    }
   ],
   "source": [
    "head(M)"
   ]
  },
  {
   "cell_type": "code",
   "execution_count": 20,
   "metadata": {
    "collapsed": false
   },
   "outputs": [
    {
     "data": {
      "text/html": [
       "<table>\n",
       "<tbody>\n",
       "\t<tr><td>71544.98</td><td>      NA</td></tr>\n",
       "\t<tr><td>707287.2</td><td>  1280.0</td></tr>\n",
       "\t<tr><td>30329.78</td><td>      NA</td></tr>\n",
       "\t<tr><td>31014.66</td><td>      NA</td></tr>\n",
       "\t<tr><td>57853.09</td><td>      NA</td></tr>\n",
       "\t<tr><td>106804.5</td><td>      NA</td></tr>\n",
       "</tbody>\n",
       "</table>\n"
      ],
      "text/latex": [
       "\\begin{tabular}{ll}\n",
       "\t 71544.98 &       NA\\\\\n",
       "\t 707287.2 &   1280.0\\\\\n",
       "\t 30329.78 &       NA\\\\\n",
       "\t 31014.66 &       NA\\\\\n",
       "\t 57853.09 &       NA\\\\\n",
       "\t 106804.5 &       NA\\\\\n",
       "\\end{tabular}\n"
      ],
      "text/markdown": [
       "1. 71544.9822413375\n",
       "2. 707287.20123734\n",
       "3. 30329.775957388\n",
       "4. 31014.6644702972\n",
       "5. 57853.0924884825\n",
       "6. 106804.504508952\n",
       "7. NA\n",
       "8. 1280\n",
       "9. NA\n",
       "10. NA\n",
       "11. NA\n",
       "12. NA\n",
       "\n",
       "\n"
      ],
      "text/plain": [
       "          [,1] [,2]\n",
       "[1,]  71544.98   NA\n",
       "[2,] 707287.20 1280\n",
       "[3,]  30329.78   NA\n",
       "[4,]  31014.66   NA\n",
       "[5,]  57853.09   NA\n",
       "[6,] 106804.50   NA"
      ]
     },
     "metadata": {},
     "output_type": "display_data"
    }
   ],
   "source": [
    "head(T)"
   ]
  },
  {
   "cell_type": "code",
   "execution_count": 22,
   "metadata": {
    "collapsed": false
   },
   "outputs": [
    {
     "data": {
      "text/html": [
       "0.991545428673774"
      ],
      "text/latex": [
       "0.991545428673774"
      ],
      "text/markdown": [
       "0.991545428673774"
      ],
      "text/plain": [
       "[1] 0.9915454"
      ]
     },
     "metadata": {},
     "output_type": "display_data"
    },
    {
     "data": {
      "text/html": [
       "0.74730325777094"
      ],
      "text/latex": [
       "0.74730325777094"
      ],
      "text/markdown": [
       "0.74730325777094"
      ],
      "text/plain": [
       "[1] 0.7473033"
      ]
     },
     "metadata": {},
     "output_type": "display_data"
    },
    {
     "data": {
      "text/html": [
       "0.813190043588929"
      ],
      "text/latex": [
       "0.813190043588929"
      ],
      "text/markdown": [
       "0.813190043588929"
      ],
      "text/plain": [
       "[1] 0.81319"
      ]
     },
     "metadata": {},
     "output_type": "display_data"
    },
    {
     "data": {
      "text/html": [
       "0.828123492965052"
      ],
      "text/latex": [
       "0.828123492965052"
      ],
      "text/markdown": [
       "0.828123492965052"
      ],
      "text/plain": [
       "[1] 0.8281235"
      ]
     },
     "metadata": {},
     "output_type": "display_data"
    }
   ],
   "source": [
    "k <- sample(1:NK,1)\n",
    "NPV_dis[k]\n",
    "PPV_dis[k]\n",
    "NPV_oth[k]\n",
    "PPV_oth[k]"
   ]
  },
  {
   "cell_type": "code",
   "execution_count": 23,
   "metadata": {
    "collapsed": true
   },
   "outputs": [],
   "source": [
    "AR <- matrix(0, nrow=length(regs), ncol=2)\n",
    "            tp_dis <- runif(a_dis)\n",
    "            tn_dis <- runif(b_dis)\n",
    "            recl_dis <- is_dis\n",
    "            recl_dis[recl_dis==TRUE][tp_dis>PPV_dis[k]] <- FALSE\n",
    "            recl_dis[recl_dis==FALSE][tn_dis>NPV_dis[k]] <- TRUE\n",
    "            #Rq: we count all trials (even those with more than 3 diseases)\n",
    "            #it is a conservative choice\n",
    "            rt <- as.numeric(recl_dis)\n"
   ]
  },
  {
   "cell_type": "code",
   "execution_count": 25,
   "metadata": {
    "collapsed": false
   },
   "outputs": [
    {
     "data": {
      "text/html": [
       "3664"
      ],
      "text/latex": [
       "3664"
      ],
      "text/markdown": [
       "3664"
      ],
      "text/plain": [
       "[1] 3664"
      ]
     },
     "metadata": {},
     "output_type": "display_data"
    }
   ],
   "source": [
    "sum(recl_dis)"
   ]
  },
  {
   "cell_type": "code",
   "execution_count": 26,
   "metadata": {
    "collapsed": true
   },
   "outputs": [],
   "source": [
    "dsp <- pats[pats$TrialID%in%data$TrialID[recl_dis],]\n",
    "                    AR[,1] <-tapply(dsp$sample_per_reg,dsp$Region,sum)"
   ]
  },
  {
   "cell_type": "code",
   "execution_count": 27,
   "metadata": {
    "collapsed": false
   },
   "outputs": [
    {
     "data": {
      "text/html": [
       "<table>\n",
       "<tbody>\n",
       "\t<tr><td>53370.67</td><td>    0.00</td></tr>\n",
       "\t<tr><td>735497.2</td><td>     0.0</td></tr>\n",
       "\t<tr><td>45181.11</td><td>    0.00</td></tr>\n",
       "\t<tr><td>85455.03</td><td>    0.00</td></tr>\n",
       "\t<tr><td>86919.42</td><td>    0.00</td></tr>\n",
       "\t<tr><td>123867</td><td>     0</td></tr>\n",
       "\t<tr><td>85419.57</td><td>    0.00</td></tr>\n",
       "</tbody>\n",
       "</table>\n"
      ],
      "text/latex": [
       "\\begin{tabular}{ll}\n",
       "\t 53370.67 &     0.00\\\\\n",
       "\t 735497.2 &      0.0\\\\\n",
       "\t 45181.11 &     0.00\\\\\n",
       "\t 85455.03 &     0.00\\\\\n",
       "\t 86919.42 &     0.00\\\\\n",
       "\t 123867 &      0\\\\\n",
       "\t 85419.57 &     0.00\\\\\n",
       "\\end{tabular}\n"
      ],
      "text/markdown": [
       "1. 53370.6704672553\n",
       "2. 735497.171868147\n",
       "3. 45181.1145914273\n",
       "4. 85455.0339226105\n",
       "5. 86919.4186489354\n",
       "6. 123867.01567174\n",
       "7. 85419.5748298847\n",
       "8. 0\n",
       "9. 0\n",
       "10. 0\n",
       "11. 0\n",
       "12. 0\n",
       "13. 0\n",
       "14. 0\n",
       "\n",
       "\n"
      ],
      "text/plain": [
       "          [,1] [,2]\n",
       "[1,]  53370.67    0\n",
       "[2,] 735497.17    0\n",
       "[3,]  45181.11    0\n",
       "[4,]  85455.03    0\n",
       "[5,]  86919.42    0\n",
       "[6,] 123867.02    0\n",
       "[7,]  85419.57    0"
      ]
     },
     "metadata": {},
     "output_type": "display_data"
    }
   ],
   "source": [
    "AR"
   ]
  },
  {
   "cell_type": "code",
   "execution_count": 28,
   "metadata": {
    "collapsed": true
   },
   "outputs": [],
   "source": [
    " tp_oth <- runif(a_oth)\n",
    "            tn_oth <- runif(b_oth)\n",
    "            recl_oth <- is_oth\n",
    "            recl_oth[recl_oth==TRUE][tp_oth>PPV_oth[k]] <- FALSE\n",
    "            recl_oth[recl_oth==FALSE][tn_oth>NPV_oth[k]] <- TRUE\n",
    "            rt <- rt + as.numeric(recl_oth)\n"
   ]
  },
  {
   "cell_type": "code",
   "execution_count": 29,
   "metadata": {
    "collapsed": false
   },
   "outputs": [
    {
     "data": {
      "text/html": [
       "75512"
      ],
      "text/latex": [
       "75512"
      ],
      "text/markdown": [
       "75512"
      ],
      "text/plain": [
       "[1] 75512"
      ]
     },
     "metadata": {},
     "output_type": "display_data"
    }
   ],
   "source": [
    "sum(rt)"
   ]
  },
  {
   "cell_type": "code",
   "execution_count": 30,
   "metadata": {
    "collapsed": true
   },
   "outputs": [],
   "source": [
    "         dsp <- pats[pats$TrialID%in%data$TrialID[rt],]\n",
    "                    AR[,2] <-tapply(dsp$sample_per_reg,dsp$Region,sum)\n"
   ]
  },
  {
   "cell_type": "code",
   "execution_count": 32,
   "metadata": {
    "collapsed": false
   },
   "outputs": [
    {
     "data": {
      "text/html": [
       "<ol class=list-inline>\n",
       "\t<li>0</li>\n",
       "\t<li>1</li>\n",
       "\t<li>0</li>\n",
       "\t<li>0</li>\n",
       "\t<li>0</li>\n",
       "\t<li>1</li>\n",
       "</ol>\n"
      ],
      "text/latex": [
       "\\begin{enumerate*}\n",
       "\\item 0\n",
       "\\item 1\n",
       "\\item 0\n",
       "\\item 0\n",
       "\\item 0\n",
       "\\item 1\n",
       "\\end{enumerate*}\n"
      ],
      "text/markdown": [
       "1. 0\n",
       "2. 1\n",
       "3. 0\n",
       "4. 0\n",
       "5. 0\n",
       "6. 1\n",
       "\n",
       "\n"
      ],
      "text/plain": [
       "[1] 0 1 0 0 0 1"
      ]
     },
     "metadata": {},
     "output_type": "display_data"
    }
   ],
   "source": [
    "head(rt)"
   ]
  },
  {
   "cell_type": "code",
   "execution_count": 33,
   "metadata": {
    "collapsed": false,
    "scrolled": true
   },
   "outputs": [
    {
     "data": {
      "text/html": [
       "<table>\n",
       "<thead><tr><th></th><th scope=col>TrialID</th><th scope=col>Nb_ctrs</th><th scope=col>Region</th><th scope=col>Tot_sample</th><th scope=col>tot_ctrs</th><th scope=col>sample_per_reg</th></tr></thead>\n",
       "<tbody>\n",
       "\t<tr><th scope=row>1</th><td>EUCTR2007-006175-36-FI</td><td>3                     </td><td>High-income           </td><td>105                   </td><td>3                     </td><td>105                   </td></tr>\n",
       "\t<tr><th scope=row>2</th><td>NCT00590174</td><td>1          </td><td>High-income</td><td>1175       </td><td>1          </td><td>1175       </td></tr>\n",
       "</tbody>\n",
       "</table>\n"
      ],
      "text/latex": [
       "\\begin{tabular}{r|llllll}\n",
       "  & TrialID & Nb\\_ctrs & Region & Tot\\_sample & tot\\_ctrs & sample\\_per\\_reg\\\\\n",
       "\\hline\n",
       "\t1 & EUCTR2007-006175-36-FI & 3                      & High-income            & 105                    & 3                      & 105                   \\\\\n",
       "\t2 & NCT00590174 & 1           & High-income & 1175        & 1           & 1175       \\\\\n",
       "\\end{tabular}\n"
      ],
      "text/plain": [
       "                 TrialID Nb_ctrs      Region Tot_sample tot_ctrs sample_per_reg\n",
       "1 EUCTR2007-006175-36-FI       3 High-income        105        3            105\n",
       "2            NCT00590174       1 High-income       1175        1           1175"
      ]
     },
     "metadata": {},
     "output_type": "display_data"
    }
   ],
   "source": [
    "head(dsp)"
   ]
  },
  {
   "cell_type": "code",
   "execution_count": 35,
   "metadata": {
    "collapsed": false
   },
   "outputs": [
    {
     "data": {
      "text/html": [
       "<ol class=list-inline>\n",
       "\t<li>2</li>\n",
       "\t<li>6</li>\n",
       "</ol>\n"
      ],
      "text/latex": [
       "\\begin{enumerate*}\n",
       "\\item 2\n",
       "\\item 6\n",
       "\\end{enumerate*}\n"
      ],
      "text/markdown": [
       "1. 2\n",
       "2. 6\n",
       "\n",
       "\n"
      ],
      "text/plain": [
       "[1] 2 6"
      ]
     },
     "metadata": {},
     "output_type": "display_data"
    }
   ],
   "source": [
    "dim(dsp)"
   ]
  },
  {
   "cell_type": "code",
   "execution_count": 38,
   "metadata": {
    "collapsed": false
   },
   "outputs": [],
   "source": [
    "dsp <- pats[pats$TrialID%in%data$TrialID[as.logical(rt)],]\n",
    "                    AR[,2] <-tapply(dsp$sample_per_reg,dsp$Region,sum)"
   ]
  },
  {
   "cell_type": "code",
   "execution_count": 39,
   "metadata": {
    "collapsed": false
   },
   "outputs": [
    {
     "data": {
      "text/html": [
       "<table>\n",
       "<tbody>\n",
       "\t<tr><td>  53370.67</td><td>1484212.24</td></tr>\n",
       "\t<tr><td>  735497.2</td><td>19232002.9</td></tr>\n",
       "\t<tr><td> 45181.11</td><td>825931.62</td></tr>\n",
       "\t<tr><td> 85455.03</td><td>834157.71</td></tr>\n",
       "\t<tr><td>  86919.42</td><td>1566949.31</td></tr>\n",
       "\t<tr><td> 123867</td><td>2874576</td></tr>\n",
       "\t<tr><td>  85419.57</td><td>2491488.63</td></tr>\n",
       "</tbody>\n",
       "</table>\n"
      ],
      "text/latex": [
       "\\begin{tabular}{ll}\n",
       "\t   53370.67 & 1484212.24\\\\\n",
       "\t   735497.2 & 19232002.9\\\\\n",
       "\t  45181.11 & 825931.62\\\\\n",
       "\t  85455.03 & 834157.71\\\\\n",
       "\t   86919.42 & 1566949.31\\\\\n",
       "\t  123867 & 2874576\\\\\n",
       "\t   85419.57 & 2491488.63\\\\\n",
       "\\end{tabular}\n"
      ],
      "text/markdown": [
       "1. 53370.6704672553\n",
       "2. 735497.171868147\n",
       "3. 45181.1145914273\n",
       "4. 85455.0339226105\n",
       "5. 86919.4186489354\n",
       "6. 123867.01567174\n",
       "7. 85419.5748298847\n",
       "8. 1484212.24149841\n",
       "9. 19232002.8683699\n",
       "10. 825931.618866859\n",
       "11. 834157.706243766\n",
       "12. 1566949.30893807\n",
       "13. 2874575.62295697\n",
       "14. 2491488.633126\n",
       "\n",
       "\n"
      ],
      "text/plain": [
       "          [,1]       [,2]\n",
       "[1,]  53370.67  1484212.2\n",
       "[2,] 735497.17 19232002.9\n",
       "[3,]  45181.11   825931.6\n",
       "[4,]  85455.03   834157.7\n",
       "[5,]  86919.42  1566949.3\n",
       "[6,] 123867.02  2874575.6\n",
       "[7,]  85419.57  2491488.6"
      ]
     },
     "metadata": {},
     "output_type": "display_data"
    }
   ],
   "source": [
    "AR"
   ]
  },
  {
   "cell_type": "markdown",
   "metadata": {},
   "source": [
    "For 10,000 simulations it will take 5.3h approx"
   ]
  },
  {
   "cell_type": "markdown",
   "metadata": {},
   "source": [
    "## 3. Deriving 95% upper bound simulation intervals\n",
    "For the number of RCTs concerning each disease in each region, and the local proportion of RCTs for each disease in each region"
   ]
  },
  {
   "cell_type": "code",
   "execution_count": null,
   "metadata": {
    "collapsed": false
   },
   "outputs": [],
   "source": [
    "Mgbd <- read.table(\"/home/igna/Desktop/Programs GBD/Classifier_Trial_GBD/Databases/Taxonomy_DL/GBD_data/GBD_ICD.txt\")"
   ]
  },
  {
   "cell_type": "code",
   "execution_count": null,
   "metadata": {
    "collapsed": true
   },
   "outputs": [],
   "source": [
    "#We supress injuries\n",
    "Mgbd <- Mgbd[-28,]"
   ]
  },
  {
   "cell_type": "code",
   "execution_count": null,
   "metadata": {
    "collapsed": true
   },
   "outputs": [],
   "source": [
    "GBD <- read.table(\"/media/igna/Elements/HotelDieu/Cochrane/Mapping_Cancer/Tables/GBD_data_per_region_and_27_diseases_2005.txt\")"
   ]
  },
  {
   "cell_type": "code",
   "execution_count": 18,
   "metadata": {
    "collapsed": true
   },
   "outputs": [],
   "source": [
    "dis <- 1:27"
   ]
  },
  {
   "cell_type": "code",
   "execution_count": null,
   "metadata": {
    "collapsed": true
   },
   "outputs": [],
   "source": [
    "regs <- names(GBD)[1:7]"
   ]
  },
  {
   "cell_type": "code",
   "execution_count": null,
   "metadata": {
    "collapsed": true
   },
   "outputs": [],
   "source": [
    "SM <- data.frame(Region = rep(regs,each=nrow(Mgbd)),\n",
    "                Disease = rep(Mgbd$cause_name,times=length(regs)))"
   ]
  },
  {
   "cell_type": "code",
   "execution_count": null,
   "metadata": {
    "collapsed": true
   },
   "outputs": [],
   "source": [
    "SM$SimMn_NbRCTs <- NA\n",
    "SM$Sim95_NbRCTs <- NA\n",
    "SM$SimMn_PrRCTs <- NA\n",
    "SM$Sim95_PrRCTs <- NA"
   ]
  },
  {
   "cell_type": "code",
   "execution_count": null,
   "metadata": {
    "collapsed": false
   },
   "outputs": [],
   "source": [
    "for(g in dis){\n",
    "\n",
    "    T <- tryCatch(read.table(paste(c(\"/media/igna/Elements/HotelDieu/Cochrane/Mapping_Cancer/Incertitude_mapping/Simulations/Total_simulation_\",\n",
    "                            as.character(g),\".txt\"),collapse=\"\")),error=NULL)\n",
    "\n",
    "    if(length(T)!=0){\n",
    "\n",
    "        #Mean and 95% upper-bound number of RCTs by simulation\n",
    "        M <- matrix(T[,1],ncol=7,byrow=TRUE)\n",
    "        SM$Sim95_NbRCTs[SM$Disease==Mgbd$cause_name[g]] <- apply(M,2,function(x){quantile(x,0.95)})\n",
    "        SM$SimMn_NbRCTs[SM$Disease==Mgbd$cause_name[g]] <- apply(M,2,mean)\n",
    "\n",
    "        #Mean and 95% upper-bound proportion of RCTs by simulation\n",
    "        M <- matrix(T[,1]/T[,2],ncol=7,byrow=TRUE)\n",
    "        SM$Sim95_PrRCTs[SM$Disease==Mgbd$cause_name[g]] <- apply(M,2,function(x){quantile(x,0.95)})\n",
    "        SM$SimMn_PrRCTs[SM$Disease==Mgbd$cause_name[g]] <- apply(M,2,mean)\n",
    "        \n",
    "    }   \n",
    "}"
   ]
  },
  {
   "cell_type": "code",
   "execution_count": null,
   "metadata": {
    "collapsed": true
   },
   "outputs": [],
   "source": [
    "write.table(SM,'Data/Simulations_Alldis_NbProp_Mn95_RCTs.txt')"
   ]
  }
 ],
 "metadata": {
  "kernelspec": {
   "display_name": "R",
   "language": "R",
   "name": "ir"
  },
  "language_info": {
   "codemirror_mode": "r",
   "file_extension": ".r",
   "mimetype": "text/x-r-source",
   "name": "R",
   "pygments_lexer": "r",
   "version": "3.3.1"
  }
 },
 "nbformat": 4,
 "nbformat_minor": 1
}
