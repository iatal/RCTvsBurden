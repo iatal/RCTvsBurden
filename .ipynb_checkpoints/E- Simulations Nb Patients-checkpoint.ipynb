{
 "cells": [
  {
   "cell_type": "markdown",
   "metadata": {
    "collapsed": true
   },
   "source": [
    "# Simulations to identify research gaps\n",
    "For each disease, we simulate what would have been the mapping of RCTs within regions if the misclassification of RCTs towards groups of diseases was corrected, given the sensitivities and specificities of the classifier to identify each group of disease.\n",
    "\n",
    "To estimate the performances of the classifier for each group of diseases, we dispose a test set with 2,763 trials manually classified towards the 27-class grouping of diseases used in this work. The test set is described at Atal et al. BMC Bioinformatics 2016.\n",
    "\n",
    "The method used is based on the method presented at Fox et al. Int J Epidemiol 2005.\n",
    "\n",
    "To do so, for each disease for which we found a local research gap we will:\n",
    "\n",
    "1. Calculating sensitivity and specificity of the classifier to identify the disease and other studies relevant to the burden of diseases, and the number of success and number of trials to derive beta distributions\n",
    "2. Doing N=60k times the following simulation\n",
    "    * Randomly choose a sens and spec based on beta distribution for identifying the disease and identifying another disease (no correlation between sens and spec, neither between disease and another disease both)\n",
    "    * Derive Positive and Negative Predictive Values (PPV and NPV) for each.\n",
    "    * Simulate the correction of the classification based on PPVs and NPVs\n",
    "    * Derive the proportion of RCTs concerning the disease among all RCTs concerning the burden of disease in the region\n",
    "3. Derive 95% upper-bond simulation interval of the proportion of RCTs concerning the disease among all RCTs concerning the burden of diseases"
   ]
  },
  {
   "cell_type": "markdown",
   "metadata": {},
   "source": [
    "## 2. Simulating correction of misclassification"
   ]
  },
  {
   "cell_type": "code",
   "execution_count": 1,
   "metadata": {
    "collapsed": false
   },
   "outputs": [],
   "source": [
    "data <- read.table('/media/igna/Elements/HotelDieu/Cochrane/Mapping_Cancer/Flowchart/database_all_diseases_final_ok.txt')\n",
    "data <- data[!is.na(data$Sample),]\n",
    "data <- data[data$Sample>=20 & data$Sample<=150000,]\n",
    "N <- nrow(data)"
   ]
  },
  {
   "cell_type": "code",
   "execution_count": 2,
   "metadata": {
    "collapsed": false
   },
   "outputs": [],
   "source": [
    "#Nb of patients per region\n",
    "nb_ctrs <- lapply(strsplit(as.character(data$Nb_ctr_per_reg),'&'),as.numeric)\n",
    "RGs <-strsplit(as.character(data$Regions),'&')\n",
    "pats <- data.frame(TrialID = rep(data$TrialID,sapply(nb_ctrs,length)),\n",
    "                   Nb_ctrs = unlist(nb_ctrs),\n",
    "                   Region = unlist(RGs),\n",
    "                   Tot_sample = rep(data$Sample,sapply(nb_ctrs,length)))"
   ]
  },
  {
   "cell_type": "code",
   "execution_count": 3,
   "metadata": {
    "collapsed": true
   },
   "outputs": [],
   "source": [
    "pats$tot_ctrs <- rep(sapply(nb_ctrs,sum),sapply(nb_ctrs,length))\n",
    "pats$sample_per_reg <- pats$Tot_sample*pats$Nb_ctrs/pats$tot_ctrs"
   ]
  },
  {
   "cell_type": "code",
   "execution_count": 4,
   "metadata": {
    "collapsed": true
   },
   "outputs": [],
   "source": [
    "Lgbd <- lapply(as.character(data$GBD28),function(x){as.numeric(unlist(strsplit(x,\"&\")))})\n",
    "Lgbd <- lapply(Lgbd,function(x){x[x!=28]})"
   ]
  },
  {
   "cell_type": "code",
   "execution_count": 5,
   "metadata": {
    "collapsed": true
   },
   "outputs": [],
   "source": [
    "regs <- sort(unique(unlist(strsplit(as.character(data$Regions),\"&\"))))"
   ]
  },
  {
   "cell_type": "code",
   "execution_count": 6,
   "metadata": {
    "collapsed": true
   },
   "outputs": [
    {
     "name": "stderr",
     "output_type": "stream",
     "text": [
      "gdata: read.xls support for 'XLS' (Excel 97-2004) files ENABLED.\n",
      "\n",
      "gdata: read.xls support for 'XLSX' (Excel 2007+) files ENABLED.\n",
      "\n",
      "Attaching package: ‘gdata’\n",
      "\n",
      "The following object is masked from ‘package:stats’:\n",
      "\n",
      "    nobs\n",
      "\n",
      "The following object is masked from ‘package:utils’:\n",
      "\n",
      "    object.size\n",
      "\n",
      "The following object is masked from ‘package:base’:\n",
      "\n",
      "    startsWith\n",
      "\n"
     ]
    }
   ],
   "source": [
    "library(gdata)"
   ]
  },
  {
   "cell_type": "code",
   "execution_count": 7,
   "metadata": {
    "collapsed": true
   },
   "outputs": [],
   "source": [
    "PERF <- read.csv('Tables/Performances_per_27disease_data.csv')"
   ]
  },
  {
   "cell_type": "code",
   "execution_count": 8,
   "metadata": {
    "collapsed": true
   },
   "outputs": [],
   "source": [
    "#NK <- 60000\n",
    "NK <- 5000\n",
    "set.seed(7212)"
   ]
  },
  {
   "cell_type": "markdown",
   "metadata": {},
   "source": [
    "Simulation of the total number of RCTs relevant to the burden across regions"
   ]
  },
  {
   "cell_type": "code",
   "execution_count": 9,
   "metadata": {
    "collapsed": false
   },
   "outputs": [
    {
     "data": {
      "text/html": [
       "0"
      ],
      "text/latex": [
       "0"
      ],
      "text/markdown": [
       "0"
      ],
      "text/plain": [
       "[1] 0"
      ]
     },
     "metadata": {},
     "output_type": "display_data"
    },
    {
     "data": {
      "text/html": [
       "0"
      ],
      "text/latex": [
       "0"
      ],
      "text/markdown": [
       "0"
      ],
      "text/plain": [
       "[1] 0"
      ]
     },
     "metadata": {},
     "output_type": "display_data"
    }
   ],
   "source": [
    "PERF_g <- PERF[PERF$dis==0,]\n",
    "    \n",
    "    #which trials are relevant to the burden\n",
    "    is_dis <- sapply(Lgbd,length)==1\n",
    "\n",
    "    #PPV et NPVs for finding the disease\n",
    "    sens_r <- PERF_g$TP_Dis\n",
    "    sens_n <- PERF_g$TP_Dis + PERF_g$FN_Dis\n",
    "    spec_r <- PERF_g$TN_Dis\n",
    "    spec_n <- PERF_g$TN_Dis + PERF_g$FP_Dis\n",
    "    sens <- rbeta(NK,sens_r+1,sens_n-sens_r+1)\n",
    "    spec <- rbeta(NK,spec_r+1,spec_n-spec_r+1)\n",
    "\n",
    "    a_dis <- sum(is_dis)\n",
    "    b_dis <- N-a_dis\n",
    "    As <- (a_dis-(1-spec)*N)/(sens - (1-spec))\n",
    "    Bs <- N-As\n",
    "    T1 <- sens*As\n",
    "    T0 <- spec*Bs\n",
    "    F1 <- (1-spec)*Bs\n",
    "    F0 <- (1-sens)*As\n",
    "    PPV_dis <- T1/(T1+F1)\n",
    "    NPV_dis <- T0/(T0+F0)\n",
    "\n",
    "    case1 <- PPV_dis<0 | NPV_dis>1 \n",
    "    sum(case1>0)\n",
    "    case2 <- PPV_dis>1 | NPV_dis<0 \n",
    "    sum(case2>0)\n"
   ]
  },
  {
   "cell_type": "code",
   "execution_count": 10,
   "metadata": {
    "collapsed": false
   },
   "outputs": [
    {
     "data": {
      "text/plain": [
       "       user      system     elapsed \n",
       "6.858683333 0.004533333 6.885566667 "
      ]
     },
     "metadata": {},
     "output_type": "display_data"
    }
   ],
   "source": [
    "t0 <- proc.time()\n",
    "L <- data.frame()\n",
    "    #Simulation: reclassifying each trial\n",
    "        for(k in 1:length(PPV_dis)){\n",
    "\n",
    "            AR <- rep(0,length(regs)+1)\n",
    "            tp_dis <- runif(a_dis)\n",
    "            tn_dis <- runif(b_dis)\n",
    "            recl_dis <- is_dis\n",
    "            recl_dis[recl_dis==TRUE][tp_dis>PPV_dis[k]] <- FALSE\n",
    "            recl_dis[recl_dis==FALSE][tn_dis>NPV_dis[k]] <- TRUE\n",
    "                \n",
    "            if(sum(recl_dis)==0) AR <- c(rep(0,length(regs)+1))\n",
    "            else{   \n",
    "                    dsp <- pats[pats$TrialID%in%data$TrialID[recl_dis],]\n",
    "                    AR <- c(tapply(dsp$sample_per_reg,dsp$Region,sum),sum(dsp$sample_per_reg))\n",
    "            }\n",
    "                    \n",
    "            L <- rbind(L,AR)\n",
    "\n",
    "        }\n",
    "\n",
    "    write.table(L,paste(c(\"/media/igna/Elements/HotelDieu/Cochrane/Mapping_Cancer/Incertitude_mapping/Simulations/Patients_total_simulation_\",as.character(PERF_g$dis),\".txt\"),collapse=\"\"))\n",
    "t1 <- proc.time()-t0\n",
    "t1/60"
   ]
  },
  {
   "cell_type": "markdown",
   "metadata": {},
   "source": [
    "Simlulation for each disease"
   ]
  },
  {
   "cell_type": "code",
   "execution_count": 11,
   "metadata": {
    "collapsed": true
   },
   "outputs": [],
   "source": [
    "#For all diseases, we will simulate the mapping across regions of trials concerning\n",
    "#the disease or concerning other diseases\n",
    "dis <- 1:27"
   ]
  },
  {
   "cell_type": "code",
   "execution_count": 12,
   "metadata": {
    "collapsed": false
   },
   "outputs": [
    {
     "name": "stdout",
     "output_type": "stream",
     "text": [
      "[1] \"1 has 43 case 1 false iterations which were suppressed\"\n",
      "[1] \"1 has 43 suppressed false iterations\"\n",
      "[1] \"2 has 0 suppressed false iterations\"\n",
      "[1] \"3 has 0 suppressed false iterations\"\n",
      "[1] \"4 has 0 suppressed false iterations\"\n",
      "[1] \"5 has 0 suppressed false iterations\"\n",
      "[1] \"6 has 0 suppressed false iterations\"\n",
      "[1] \"7 has 3 case 1 false iterations which were suppressed\"\n",
      "[1] \"7 has 3 suppressed false iterations\"\n",
      "[1] \"8 has 0 suppressed false iterations\"\n",
      "[1] \"9 has 368 case 1 false iterations which were suppressed\"\n",
      "[1] \"9 has 12 case 2 false iterations for which we fixed PPV_dis = 1\"\n",
      "[1] \"9 has 368 suppressed false iterations\"\n",
      "[1] \"10 has 0 suppressed false iterations\"\n",
      "[1] \"11 has 1444 case 1 false iterations which were suppressed\"\n",
      "[1] \"11 has 1444 (too many) suppressed false iterations\"\n",
      "[1] \"12 has 0 suppressed false iterations\"\n",
      "[1] \"13 has 0 suppressed false iterations\"\n",
      "[1] \"14 has 0 suppressed false iterations\"\n",
      "[1] \"15 has 0 suppressed false iterations\"\n",
      "[1] \"16 has 0 suppressed false iterations\"\n",
      "[1] \"17 has 0 suppressed false iterations\"\n",
      "[1] \"18 has 0 suppressed false iterations\"\n",
      "[1] \"19 has 0 suppressed false iterations\"\n",
      "[1] \"20 has 0 suppressed false iterations\"\n",
      "[1] \"21 has 1735 case 1 false iterations which were suppressed\"\n",
      "[1] \"21 has 1735 (too many) suppressed false iterations\"\n",
      "[1] \"22 has 0 suppressed false iterations\"\n",
      "[1] \"23 has 2215 case 1 false iterations which were suppressed\"\n",
      "[1] \"23 has 2215 (too many) suppressed false iterations\"\n",
      "[1] \"24 has 0 suppressed false iterations\"\n",
      "[1] \"25 has 0 suppressed false iterations\"\n",
      "[1] \"26 has 0 suppressed false iterations\"\n",
      "[1] \"27 has 4609 case 1 false iterations which were suppressed\"\n",
      "[1] \"27 has 3 case 2 false iterations for which we fixed PPV_dis = 1\"\n",
      "[1] \"27 has 4609 (too many) suppressed false iterations\"\n",
      "     user    system   elapsed \n",
      "14885.678     7.585 14909.451 \n"
     ]
    },
    {
     "data": {
      "text/plain": [
       "       user      system     elapsed \n",
       "248.0946333   0.1264167 248.4908500 "
      ]
     },
     "metadata": {},
     "output_type": "display_data"
    }
   ],
   "source": [
    "#Similation for each disease\n",
    "t0 <- proc.time()\n",
    "\n",
    "for(g in dis){\n",
    "\n",
    "    PERF_g <- PERF[PERF$dis==g,]\n",
    "    \n",
    "    #which trials concern the disease\n",
    "    is_dis <- sapply(Lgbd,function(x){g%in%x})\n",
    "    #which trials concern another disease\n",
    "    is_oth <- sapply(Lgbd,function(x){sum(setdiff(1:27,g)%in%x)>0})\n",
    "\n",
    "    #PPV et NPVs for finding the disease\n",
    "    sens_r <- PERF_g$TP_Dis\n",
    "    sens_n <- PERF_g$TP_Dis + PERF_g$FN_Dis\n",
    "    spec_r <- PERF_g$TN_Dis\n",
    "    spec_n <- PERF_g$TN_Dis + PERF_g$FP_Dis\n",
    "    sens <- rbeta(NK,sens_r+1,sens_n-sens_r+1)\n",
    "    spec <- rbeta(NK,spec_r+1,spec_n-spec_r+1)\n",
    "\n",
    "    a_dis <- sum(is_dis)\n",
    "    b_dis <- N-a_dis\n",
    "    As <- (a_dis-(1-spec)*N)/(sens - (1-spec))\n",
    "    Bs <- N-As\n",
    "    T1 <- sens*As\n",
    "    T0 <- spec*Bs\n",
    "    F1 <- (1-spec)*Bs\n",
    "    F0 <- (1-sens)*As\n",
    "    PPV_dis <- T1/(T1+F1)\n",
    "    NPV_dis <- T0/(T0+F0)\n",
    "\n",
    "    #PPV and NPVs for finding another disease\n",
    "    sens_r <- PERF_g$TP_Oth\n",
    "    sens_n <- PERF_g$TP_Oth + PERF_g$FN_Oth\n",
    "    spec_r <- PERF_g$TN_Oth\n",
    "    spec_n <- PERF_g$TN_Oth + PERF_g$FP_Oth\n",
    "    sens <- rbeta(NK,sens_r+1,sens_n-sens_r+1)\n",
    "    spec <- rbeta(NK,spec_r+1,spec_n-spec_r+1)\n",
    "\n",
    "    a_oth <- sum(is_oth)\n",
    "    b_oth <- N-a_oth\n",
    "    As <- (a_oth-(1-spec)*N)/(sens - (1-spec))\n",
    "    Bs <- N-As\n",
    "    T1 <- sens*As\n",
    "    T0 <- spec*Bs\n",
    "    F1 <- (1-spec)*Bs\n",
    "    F0 <- (1-sens)*As\n",
    "    PPV_oth <- T1/(T1+F1)\n",
    "    NPV_oth <- T0/(T0+F0)\n",
    "\n",
    "    #Some values of sens and spec may lead to impossible values of PPV or NPV (>1 or <0)\n",
    "    #Depending on the case we will either suppress the iteration, either fix PPVs and NPVs to 0 or 1\n",
    "    #The decision is made to be the most conservative as possible regarding our objective of \n",
    "    #upper-bounding the number and local proportion of RCTs concerning a disease in a region\n",
    "\n",
    "    #Case 1: PPV_dis < 0 (and NPV_dis > 1), sens_dis and spec_dis are such that expected value\n",
    "        #of nb_trials concerning disease is negative. Suppressing that iteration is conservative\n",
    "        #in regard of our objective, while fixing PPV_dis = 0 is not conservative, as we fix the number\n",
    "        #of RCTs concerning the disease equal to 0 in all regions\n",
    "    case1 <- PPV_dis<0 | NPV_dis>1 \n",
    "    if(sum(case1>0)) print(paste(c(g,\"has\",sum(case1),\"case 1 false iterations which were suppressed\"),collapse=\" \"))\n",
    "\n",
    "    #Case 2: PPV_dis > 1 (and NPV_dis < 0), sens_dis and spec_dis are such that expected value\n",
    "        #of nb_trials concerning disease is higher than the total number of trials. Suppressing that iteration is \n",
    "        #not conservative in regard of our objective, as an iteration giving a maximal number and proportion\n",
    "        #of RCTs will be suppressed, while fixing PPV_dis = 1 and NPV_dis = 0 (ie nb trials dis = N) \n",
    "        #is conservative\n",
    "    case2 <- PPV_dis>1 | NPV_dis<0 \n",
    "    if(sum(case2>0)) print(paste(c(g,\"has\",sum(case2),\"case 2 false iterations for which we fixed PPV_dis = 1\"),collapse=\" \"))\n",
    "        \n",
    "    #Case 3: If PPV_oth < 0 (and NPV_oth > 1), sens_oth and spec_oth are such that the expected value\n",
    "        #of nb_trials concerning other diseases is negative. Suppressing that iteration is not conservative\n",
    "        #in regard of our objective, as that iteration would give that all trials concerning the burden of\n",
    "        #diseases concern the disease of interest. We fixed PPV_oth = 0 and NPV_oth = 1\n",
    "    case3 <- PPV_oth<0 | NPV_oth>1 \n",
    "    if(sum(case3>0)) print(paste(c(g,\"has\",sum(case3),\"case 3 false iterations for which we fixed PPV_oth = 0\"),collapse=\" \"))\n",
    "\n",
    "    #Case 4: PPV_oth > 1 (and NPV_oth < 0), sens_oth and spec_oth are such that expected value\n",
    "        #of nb_trials concerning other diseases is higher than the total number of trials. \n",
    "        #Suppressing that iteration is conservative in regard of our objective, while fixing PPV_oth = 1\n",
    "        #is not conservative, as we fix the number of RCTs concerning other diseases to be maximal, so the proportion\n",
    "        #of RCTs concerning the disease among all RCTs concerning the burden is minimized\n",
    "    case4 <- PPV_oth>1 | NPV_oth<0 \n",
    "    if(sum(case4>0)) print(paste(c(g,\"has\",sum(case4),\"case 4 false iterations which were suppressed\"),collapse=\" \"))\n",
    "\n",
    "    #If the number of suppressed iteration is higher than 10% of the total number of iterations, we skip\n",
    "    #the disease\n",
    "    if(sum(case1 | case4)>0.1*NK){ print(paste(c(g,\n",
    "                                                     \"has\", \n",
    "                                                     sum(case1 | case4), \n",
    "                                                     \"(too many) suppressed false iterations\"\n",
    "                                                    ),collapse=\" \"))\n",
    "#                          next\n",
    "                          }\n",
    "    \n",
    "    else print(paste(c(g,\"has\",sum(case1 | case4),\"suppressed false iterations\"\n",
    "                                                    ),collapse=\" \"))  \n",
    "\n",
    "    PPV_dis[case2] <- 1\n",
    "    NPV_dis[case2] <- 0\n",
    "    PPV_oth[case3] <- 0\n",
    "    NPV_oth[case3] <- 1\n",
    "    PPV_dis <- PPV_dis[!(case1 | case4)]\n",
    "    NPV_dis <- NPV_dis[!(case1 | case4)]\n",
    "    PPV_oth <- PPV_oth[!(case1 | case4)]\n",
    "    NPV_oth <- NPV_oth[!(case1 | case4)]\n",
    "\n",
    "    L <- list()\n",
    "    #Simulation: reclassifying each trial\n",
    "        for(k in 1:length(PPV_dis)){\n",
    "\n",
    "            AR <- matrix(0, nrow=length(regs)+1, ncol=2)\n",
    "            tp_dis <- runif(a_dis)\n",
    "            tn_dis <- runif(b_dis)\n",
    "            recl_dis <- is_dis\n",
    "            recl_dis[recl_dis==TRUE][tp_dis>PPV_dis[k]] <- FALSE\n",
    "            recl_dis[recl_dis==FALSE][tn_dis>NPV_dis[k]] <- TRUE\n",
    "            #Rq: we count all trials (even those with more than 3 diseases)\n",
    "            #it is a conservative choice\n",
    "            rt <- as.numeric(recl_dis)\n",
    "\n",
    "            if(sum(recl_dis)==0) AR[,1] <- c(rep(0,length(regs)+1))\n",
    "            else{   \n",
    "                    dsp <- pats[pats$TrialID%in%data$TrialID[recl_dis],]\n",
    "                    AR[,1] <-c(tapply(dsp$sample_per_reg,dsp$Region,sum),sum(dsp$sample_per_reg))\n",
    "            }\n",
    "                \n",
    "            #Oth_dis\n",
    "            tp_oth <- runif(a_oth)\n",
    "            tn_oth <- runif(b_oth)\n",
    "            recl_oth <- is_oth\n",
    "            recl_oth[recl_oth==TRUE][tp_oth>PPV_oth[k]] <- FALSE\n",
    "            recl_oth[recl_oth==FALSE][tn_oth>NPV_oth[k]] <- TRUE\n",
    "            rt <- rt + as.numeric(recl_oth)\n",
    "\n",
    "            if(sum(rt)==0) AR[,2] <- c(rep(0,length(regs)+1))\n",
    "            else{  \n",
    "                    dsp <- pats[pats$TrialID%in%data$TrialID[as.logical(rt)],]\n",
    "                    AR[,2] <-c(tapply(dsp$sample_per_reg,dsp$Region,sum),sum(dsp$sample_per_reg))\n",
    "\n",
    "            }\n",
    "\n",
    "            L[[k]] <- AR\n",
    "\n",
    "        }\n",
    "\n",
    "    \n",
    "    T <- do.call('rbind',L)\n",
    "    write.table(T,paste(c(\"/media/igna/Elements/HotelDieu/Cochrane/Mapping_Cancer/Incertitude_mapping/Simulations/Patients_total_simulation_\",as.character(PERF_g$dis),\".txt\"),collapse=\"\"))\n",
    "\n",
    "}\n",
    "\n",
    "t1 <- proc.time()\n",
    "    \n",
    "print(t1-t0)/60"
   ]
  },
  {
   "cell_type": "code",
   "execution_count": 13,
   "metadata": {
    "collapsed": false
   },
   "outputs": [
    {
     "data": {
      "text/html": [
       "4.13333333333333"
      ],
      "text/latex": [
       "4.13333333333333"
      ],
      "text/markdown": [
       "4.13333333333333"
      ],
      "text/plain": [
       "[1] 4.133333"
      ]
     },
     "metadata": {},
     "output_type": "display_data"
    }
   ],
   "source": [
    "248/60"
   ]
  },
  {
   "cell_type": "markdown",
   "metadata": {},
   "source": [
    "For 5,000 simulations it took take 4.1h approx"
   ]
  },
  {
   "cell_type": "markdown",
   "metadata": {},
   "source": [
    "## 3. Deriving 95% upper bound simulation intervals\n",
    "For the number of patients enrolled in RCTs for each disease in each region, and the local proportion of patients enrolled in RCTs for each disease in each region"
   ]
  },
  {
   "cell_type": "code",
   "execution_count": 34,
   "metadata": {
    "collapsed": false
   },
   "outputs": [],
   "source": [
    "Mgbd <- read.table(\"/home/igna/Desktop/Programs GBD/Classifier_Trial_GBD/Databases/Taxonomy_DL/GBD_data/GBD_ICD.txt\")"
   ]
  },
  {
   "cell_type": "code",
   "execution_count": 35,
   "metadata": {
    "collapsed": true
   },
   "outputs": [],
   "source": [
    "#We supress injuries\n",
    "Mgbd <- Mgbd[-28,]"
   ]
  },
  {
   "cell_type": "code",
   "execution_count": 36,
   "metadata": {
    "collapsed": true
   },
   "outputs": [],
   "source": [
    "GBD <- read.table(\"/media/igna/Elements/HotelDieu/Cochrane/Mapping_Cancer/Tables/GBD_data_per_region_and_27_diseases_2005.txt\")"
   ]
  },
  {
   "cell_type": "code",
   "execution_count": 37,
   "metadata": {
    "collapsed": true
   },
   "outputs": [],
   "source": [
    "dis <- 1:27"
   ]
  },
  {
   "cell_type": "code",
   "execution_count": 38,
   "metadata": {
    "collapsed": true
   },
   "outputs": [],
   "source": [
    "regs <- names(GBD)[1:7]"
   ]
  },
  {
   "cell_type": "code",
   "execution_count": 39,
   "metadata": {
    "collapsed": true
   },
   "outputs": [],
   "source": [
    "SM <- data.frame(Region = rep(c(regs,\"All\"),each=nrow(Mgbd)+1),\n",
    "                Disease = rep(c(as.character(Mgbd$cause_name),\"All\"),times=length(regs)+1))"
   ]
  },
  {
   "cell_type": "code",
   "execution_count": 40,
   "metadata": {
    "collapsed": true
   },
   "outputs": [],
   "source": [
    "SM$SimMn_NbRCTs <- NA\n",
    "SM$Sim95_NbRCTs <- NA\n",
    "SM$SimMn_PrRCTs <- NA\n",
    "SM$Sim95_PrRCTs <- NA"
   ]
  },
  {
   "cell_type": "code",
   "execution_count": 41,
   "metadata": {
    "collapsed": false
   },
   "outputs": [],
   "source": [
    "for(g in dis){\n",
    "\n",
    "    T <- tryCatch(read.table(paste(c(\"/media/igna/Elements/HotelDieu/Cochrane/Mapping_Cancer/Incertitude_mapping/Simulations/Patients_total_simulation_\",\n",
    "                            as.character(g),\".txt\"),collapse=\"\")),error=NULL)\n",
    "    T[is.na(T)] <- 0\n",
    "    \n",
    "    if(length(T)!=0){\n",
    "\n",
    "        #Mean and 95% upper-bound number of RCTs by simulation\n",
    "        M <- matrix(T[,1],ncol=8,byrow=TRUE)\n",
    "        SM$Sim95_NbRCTs[SM$Disease==as.character(Mgbd$cause_name[g])] <- apply(M,2,function(x){quantile(x,0.95)})\n",
    "        SM$SimMn_NbRCTs[SM$Disease==as.character(Mgbd$cause_name[g])] <- apply(M,2,mean)\n",
    "\n",
    "        #Mean and 95% upper-bound proportion of RCTs by simulation\n",
    "        M <- matrix(T[,1]/T[,2],ncol=8,byrow=TRUE)\n",
    "        SM$Sim95_PrRCTs[SM$Disease==as.character(Mgbd$cause_name[g])] <- apply(M,2,function(x){quantile(x,0.95)})\n",
    "        SM$SimMn_PrRCTs[SM$Disease==as.character(Mgbd$cause_name[g])] <- apply(M,2,mean)\n",
    "        \n",
    "    }   \n",
    "}"
   ]
  },
  {
   "cell_type": "code",
   "execution_count": 42,
   "metadata": {
    "collapsed": true
   },
   "outputs": [],
   "source": [
    "#All diseases\n",
    "g <- 0\n",
    "\n",
    "    T <- tryCatch(read.table(paste(c(\"/media/igna/Elements/HotelDieu/Cochrane/Mapping_Cancer/Incertitude_mapping/Simulations/Patients_total_simulation_\",\n",
    "                            as.character(g),\".txt\"),collapse=\"\")),error=NULL)\n",
    "    T[is.na(T)] <- 0\n",
    "        SM$Sim95_NbRCTs[SM$Disease==\"All\"] <- apply(T,2,function(x){quantile(x,0.95)})\n",
    "        SM$SimMn_NbRCTs[SM$Disease==\"All\"] <- apply(T,2,mean)\n"
   ]
  },
  {
   "cell_type": "code",
   "execution_count": 43,
   "metadata": {
    "collapsed": true
   },
   "outputs": [],
   "source": [
    "write.table(SM,'Data/Simulations_patients_Alldis_NbProp_Mn95_RCTs.txt')"
   ]
  },
  {
   "cell_type": "code",
   "execution_count": null,
   "metadata": {
    "collapsed": true
   },
   "outputs": [],
   "source": []
  }
 ],
 "metadata": {
  "kernelspec": {
   "display_name": "R",
   "language": "R",
   "name": "ir"
  },
  "language_info": {
   "codemirror_mode": "r",
   "file_extension": ".r",
   "mimetype": "text/x-r-source",
   "name": "R",
   "pygments_lexer": "r",
   "version": "3.3.1"
  }
 },
 "nbformat": 4,
 "nbformat_minor": 1
}
