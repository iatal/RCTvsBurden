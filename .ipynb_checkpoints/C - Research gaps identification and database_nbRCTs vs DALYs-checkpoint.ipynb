{
 "cells": [
  {
   "cell_type": "code",
   "execution_count": 1,
   "metadata": {
    "collapsed": true
   },
   "outputs": [],
   "source": [
    "D <- read.table('Data/Simulations_Alldis_NbProp_MedMn95Int_RCTs.txt')"
   ]
  },
  {
   "cell_type": "code",
   "execution_count": 2,
   "metadata": {
    "collapsed": false
   },
   "outputs": [
    {
     "data": {
      "text/html": [
       "<table>\n",
       "<thead><tr><th></th><th scope=col>Region</th><th scope=col>Disease</th><th scope=col>SimMn_NbRCTs</th><th scope=col>SimMed_NbRCTs</th><th scope=col>Sim95low_NbRCTs</th><th scope=col>Sim95up_NbRCTs</th><th scope=col>SimMn_PrRCTs</th><th scope=col>SimMed_PrRCTs</th><th scope=col>Sim95low_PrRCTs</th><th scope=col>Sim95up_PrRCTs</th></tr></thead>\n",
       "<tbody>\n",
       "\t<tr><th scope=row>1</th><td>Central Europe, Eastern Europe, and Central Asia</td><td>Tuberculosis                                    </td><td>17.1117053481332                                </td><td>17                                              </td><td>4                                               </td><td>28.2749999999996                                </td><td>0.00278124309813186                             </td><td>0.00284022352083005                             </td><td>0.000657883973136107                            </td><td>0.00465706413729596                             </td></tr>\n",
       "\t<tr><th scope=row>2</th><td>Central Europe, Eastern Europe, and Central Asia</td><td>HIV/AIDS                                        </td><td>71.8948                                         </td><td>72                                              </td><td>53                                              </td><td>89                                              </td><td>0.0115278495841716                              </td><td>0.01156853079333                                </td><td>0.00853874260825812                             </td><td>0.0142447293301991                              </td></tr>\n",
       "\t<tr><th scope=row>3</th><td>Central Europe, Eastern Europe, and Central Asia                                        </td><td>Diarrhea, lower respiratory infections, meningitis, and other common infectious diseases</td><td>262.9688                                                                                </td><td>262.5                                                                                   </td><td>213                                                                                     </td><td>316                                                                                     </td><td>0.0433981686672971                                                                      </td><td>0.0433087352499216                                                                      </td><td>0.0351758180251526                                                                      </td><td>0.0522947834822229                                                                      </td></tr>\n",
       "\t<tr><th scope=row>4</th><td>Central Europe, Eastern Europe, and Central Asia</td><td>Malaria                                         </td><td>1.80764229268781                                </td><td>1                                               </td><td>0                                               </td><td>8                                               </td><td>0.000294168720834212                            </td><td>0.000163132137030995                            </td><td>0                                               </td><td>0.00133149159965483                             </td></tr>\n",
       "\t<tr><th scope=row>5</th><td>Central Europe, Eastern Europe, and Central Asia</td><td>Neglected tropical diseases excluding malaria   </td><td>12.8631                                         </td><td>11                                              </td><td>4                                               </td><td>34                                              </td><td>0.00210113747207382                             </td><td>0.00176948444802715                             </td><td>0.000657351449276341                            </td><td>0.00550521241750955                             </td></tr>\n",
       "\t<tr><th scope=row>6</th><td>Central Europe, Eastern Europe, and Central Asia</td><td>Maternal disorders                              </td><td>100.0176                                        </td><td>95                                              </td><td>50                                              </td><td>177                                             </td><td>0.0163627539901623                              </td><td>0.0155894771029555                              </td><td>0.00821135659214572                             </td><td>0.0287560729277661                              </td></tr>\n",
       "</tbody>\n",
       "</table>\n"
      ],
      "text/latex": [
       "\\begin{tabular}{r|llllllllll}\n",
       "  & Region & Disease & SimMn\\_NbRCTs & SimMed\\_NbRCTs & Sim95low\\_NbRCTs & Sim95up\\_NbRCTs & SimMn\\_PrRCTs & SimMed\\_PrRCTs & Sim95low\\_PrRCTs & Sim95up\\_PrRCTs\\\\\n",
       "\\hline\n",
       "\t1 & Central Europe, Eastern Europe, and Central Asia & Tuberculosis                                     & 17.1117053481332                                 & 17                                               & 4                                                & 28.2749999999996                                 & 0.00278124309813186                              & 0.00284022352083005                              & 0.000657883973136107                             & 0.00465706413729596                             \\\\\n",
       "\t2 & Central Europe, Eastern Europe, and Central Asia & HIV/AIDS                                         & 71.8948                                          & 72                                               & 53                                               & 89                                               & 0.0115278495841716                               & 0.01156853079333                                 & 0.00853874260825812                              & 0.0142447293301991                              \\\\\n",
       "\t3 & Central Europe, Eastern Europe, and Central Asia                                         & Diarrhea, lower respiratory infections, meningitis, and other common infectious diseases & 262.9688                                                                                 & 262.5                                                                                    & 213                                                                                      & 316                                                                                      & 0.0433981686672971                                                                       & 0.0433087352499216                                                                       & 0.0351758180251526                                                                       & 0.0522947834822229                                                                      \\\\\n",
       "\t4 & Central Europe, Eastern Europe, and Central Asia & Malaria                                          & 1.80764229268781                                 & 1                                                & 0                                                & 8                                                & 0.000294168720834212                             & 0.000163132137030995                             & 0                                                & 0.00133149159965483                             \\\\\n",
       "\t5 & Central Europe, Eastern Europe, and Central Asia & Neglected tropical diseases excluding malaria    & 12.8631                                          & 11                                               & 4                                                & 34                                               & 0.00210113747207382                              & 0.00176948444802715                              & 0.000657351449276341                             & 0.00550521241750955                             \\\\\n",
       "\t6 & Central Europe, Eastern Europe, and Central Asia & Maternal disorders                               & 100.0176                                         & 95                                               & 50                                               & 177                                              & 0.0163627539901623                               & 0.0155894771029555                               & 0.00821135659214572                              & 0.0287560729277661                              \\\\\n",
       "\\end{tabular}\n"
      ],
      "text/plain": [
       "                                            Region\n",
       "1 Central Europe, Eastern Europe, and Central Asia\n",
       "2 Central Europe, Eastern Europe, and Central Asia\n",
       "3 Central Europe, Eastern Europe, and Central Asia\n",
       "4 Central Europe, Eastern Europe, and Central Asia\n",
       "5 Central Europe, Eastern Europe, and Central Asia\n",
       "6 Central Europe, Eastern Europe, and Central Asia\n",
       "                                                                                   Disease\n",
       "1                                                                             Tuberculosis\n",
       "2                                                                                 HIV/AIDS\n",
       "3 Diarrhea, lower respiratory infections, meningitis, and other common infectious diseases\n",
       "4                                                                                  Malaria\n",
       "5                                            Neglected tropical diseases excluding malaria\n",
       "6                                                                       Maternal disorders\n",
       "  SimMn_NbRCTs SimMed_NbRCTs Sim95low_NbRCTs Sim95up_NbRCTs SimMn_PrRCTs\n",
       "1    17.111705          17.0               4         28.275 0.0027812431\n",
       "2    71.894800          72.0              53         89.000 0.0115278496\n",
       "3   262.968800         262.5             213        316.000 0.0433981687\n",
       "4     1.807642           1.0               0          8.000 0.0002941687\n",
       "5    12.863100          11.0               4         34.000 0.0021011375\n",
       "6   100.017600          95.0              50        177.000 0.0163627540\n",
       "  SimMed_PrRCTs Sim95low_PrRCTs Sim95up_PrRCTs\n",
       "1  0.0028402235    0.0006578840    0.004657064\n",
       "2  0.0115685308    0.0085387426    0.014244729\n",
       "3  0.0433087352    0.0351758180    0.052294783\n",
       "4  0.0001631321    0.0000000000    0.001331492\n",
       "5  0.0017694844    0.0006573514    0.005505212\n",
       "6  0.0155894771    0.0082113566    0.028756073"
      ]
     },
     "metadata": {},
     "output_type": "display_data"
    }
   ],
   "source": [
    "head(D)"
   ]
  },
  {
   "cell_type": "code",
   "execution_count": 3,
   "metadata": {
    "collapsed": false
   },
   "outputs": [
    {
     "data": {
      "text/html": [
       "<table>\n",
       "<thead><tr><th></th><th scope=col>Region</th><th scope=col>Disease</th><th scope=col>SimMn_NbRCTs</th><th scope=col>SimMed_NbRCTs</th><th scope=col>Sim95low_NbRCTs</th><th scope=col>Sim95up_NbRCTs</th><th scope=col>SimMn_PrRCTs</th><th scope=col>SimMed_PrRCTs</th><th scope=col>Sim95low_PrRCTs</th><th scope=col>Sim95up_PrRCTs</th></tr></thead>\n",
       "<tbody>\n",
       "\t<tr><th scope=row>29</th><td>Central Europe, Eastern Europe, and Central Asia</td><td>All                                             </td><td>6000.2223                                       </td><td>6005                                            </td><td>5767.975                                        </td><td>6206                                            </td><td>NA                                              </td><td>NA                                              </td><td>NA                                              </td><td>NA                                              </td></tr>\n",
       "\t<tr><th scope=row>58</th><td>High-income</td><td>All        </td><td>60599.9094 </td><td>60631      </td><td>58034.95   </td><td>62973.075  </td><td>NA         </td><td>NA         </td><td>NA         </td><td>NA         </td></tr>\n",
       "\t<tr><th scope=row>87</th><td>Latin America and Caribbean</td><td>All                        </td><td>4132.2241                  </td><td>4135                       </td><td>3960                       </td><td>4288                       </td><td>NA                         </td><td>NA                         </td><td>NA                         </td><td>NA                         </td></tr>\n",
       "\t<tr><th scope=row>116</th><td>North Africa and Middle East</td><td>All                         </td><td>7860.4472                   </td><td>7863                        </td><td>7520.975                    </td><td>8176                        </td><td>NA                          </td><td>NA                          </td><td>NA                          </td><td>NA                          </td></tr>\n",
       "\t<tr><th scope=row>145</th><td>South Asia</td><td>All       </td><td>4339.9904 </td><td>4343      </td><td>4145      </td><td>4517      </td><td>NA        </td><td>NA        </td><td>NA        </td><td>NA        </td></tr>\n",
       "\t<tr><th scope=row>174</th><td>Southeast Asia, East Asia and Oceania</td><td>All                                  </td><td>8442.5907                            </td><td>8448                                 </td><td>8087                                 </td><td>8763                                 </td><td>NA                                   </td><td>NA                                   </td><td>NA                                   </td><td>NA                                   </td></tr>\n",
       "\t<tr><th scope=row>203</th><td>Sub-Saharian Africa</td><td>All                </td><td>2211.0041          </td><td>2213               </td><td>2119               </td><td>2294               </td><td>NA                 </td><td>NA                 </td><td>NA                 </td><td>NA                 </td></tr>\n",
       "\t<tr><th scope=row>232</th><td>All       </td><td>All       </td><td>82137.4957</td><td>82179     </td><td>78661.775 </td><td>85358.2   </td><td>NA        </td><td>NA        </td><td>NA        </td><td>NA        </td></tr>\n",
       "</tbody>\n",
       "</table>\n"
      ],
      "text/latex": [
       "\\begin{tabular}{r|llllllllll}\n",
       "  & Region & Disease & SimMn\\_NbRCTs & SimMed\\_NbRCTs & Sim95low\\_NbRCTs & Sim95up\\_NbRCTs & SimMn\\_PrRCTs & SimMed\\_PrRCTs & Sim95low\\_PrRCTs & Sim95up\\_PrRCTs\\\\\n",
       "\\hline\n",
       "\t29 & Central Europe, Eastern Europe, and Central Asia & All                                              & 6000.2223                                        & 6005                                             & 5767.975                                         & 6206                                             & NA                                               & NA                                               & NA                                               & NA                                              \\\\\n",
       "\t58 & High-income & All         & 60599.9094  & 60631       & 58034.95    & 62973.075   & NA          & NA          & NA          & NA         \\\\\n",
       "\t87 & Latin America and Caribbean & All                         & 4132.2241                   & 4135                        & 3960                        & 4288                        & NA                          & NA                          & NA                          & NA                         \\\\\n",
       "\t116 & North Africa and Middle East & All                          & 7860.4472                    & 7863                         & 7520.975                     & 8176                         & NA                           & NA                           & NA                           & NA                          \\\\\n",
       "\t145 & South Asia & All        & 4339.9904  & 4343       & 4145       & 4517       & NA         & NA         & NA         & NA        \\\\\n",
       "\t174 & Southeast Asia, East Asia and Oceania & All                                   & 8442.5907                             & 8448                                  & 8087                                  & 8763                                  & NA                                    & NA                                    & NA                                    & NA                                   \\\\\n",
       "\t203 & Sub-Saharian Africa & All                 & 2211.0041           & 2213                & 2119                & 2294                & NA                  & NA                  & NA                  & NA                 \\\\\n",
       "\t232 & All        & All        & 82137.4957 & 82179      & 78661.775  & 85358.2    & NA         & NA         & NA         & NA        \\\\\n",
       "\\end{tabular}\n"
      ],
      "text/plain": [
       "                                              Region Disease SimMn_NbRCTs\n",
       "29  Central Europe, Eastern Europe, and Central Asia     All     6000.222\n",
       "58                                       High-income     All    60599.909\n",
       "87                       Latin America and Caribbean     All     4132.224\n",
       "116                     North Africa and Middle East     All     7860.447\n",
       "145                                       South Asia     All     4339.990\n",
       "174            Southeast Asia, East Asia and Oceania     All     8442.591\n",
       "203                              Sub-Saharian Africa     All     2211.004\n",
       "232                                              All     All    82137.496\n",
       "    SimMed_NbRCTs Sim95low_NbRCTs Sim95up_NbRCTs SimMn_PrRCTs SimMed_PrRCTs\n",
       "29           6005        5767.975        6206.00           NA            NA\n",
       "58          60631       58034.950       62973.07           NA            NA\n",
       "87           4135        3960.000        4288.00           NA            NA\n",
       "116          7863        7520.975        8176.00           NA            NA\n",
       "145          4343        4145.000        4517.00           NA            NA\n",
       "174          8448        8087.000        8763.00           NA            NA\n",
       "203          2213        2119.000        2294.00           NA            NA\n",
       "232         82179       78661.775       85358.20           NA            NA\n",
       "    Sim95low_PrRCTs Sim95up_PrRCTs\n",
       "29               NA             NA\n",
       "58               NA             NA\n",
       "87               NA             NA\n",
       "116              NA             NA\n",
       "145              NA             NA\n",
       "174              NA             NA\n",
       "203              NA             NA\n",
       "232              NA             NA"
      ]
     },
     "metadata": {},
     "output_type": "display_data"
    }
   ],
   "source": [
    "D[D$Disease==\"All\",]"
   ]
  },
  {
   "cell_type": "code",
   "execution_count": 4,
   "metadata": {
    "collapsed": true
   },
   "outputs": [],
   "source": [
    "B <- read.table(\"/media/igna/Elements/HotelDieu/Cochrane/Mapping_Cancer/Tables/GBD_data_per_region_and_27_diseases_2005.txt\")"
   ]
  },
  {
   "cell_type": "code",
   "execution_count": 5,
   "metadata": {
    "collapsed": false
   },
   "outputs": [
    {
     "data": {
      "text/html": [
       "<table>\n",
       "<thead><tr><th></th><th scope=col>Central.Europe..Eastern.Europe..and.Central.Asia</th><th scope=col>High.income</th><th scope=col>Latin.America.and.Caribbean</th><th scope=col>North.Africa.and.Middle.East</th><th scope=col>South.Asia</th><th scope=col>Southeast.Asia..East.Asia.and.Oceania</th><th scope=col>Sub.Saharian.Africa</th><th scope=col>Tot</th><th scope=col>Prop_bd</th></tr></thead>\n",
       "<tbody>\n",
       "\t<tr><th scope=row>Cardiovascular and circulatory diseases</th><td>5.316141e+07</td><td>4.354578e+07</td><td>1.501290e+07</td><td>1.921403e+07</td><td>5.639526e+07</td><td>8.171142e+07</td><td>1.836331e+07</td><td>2.874041e+08</td><td>1.294576e+01</td></tr>\n",
       "\t<tr><th scope=row>Chronic respiratory diseases</th><td>5.644608e+06</td><td>1.364198e+07</td><td>5.500905e+06</td><td>4.781865e+06</td><td>3.891100e+07</td><td>3.179387e+07</td><td>1.221113e+07</td><td>1.124854e+08</td><td>5.066763e+00</td></tr>\n",
       "\t<tr><th scope=row>Cirrhosis of the liver</th><td>4.090337e+06</td><td>3.995636e+06</td><td>2.376422e+06</td><td>1.471645e+06</td><td>7.748645e+06</td><td>7.368063e+06</td><td>3.411973e+06</td><td>3.046272e+07</td><td>1.372155e+00</td></tr>\n",
       "\t<tr><th scope=row>Congenital anomalies</th><td>2.079423e+06</td><td>2.296894e+06</td><td>3.617508e+06</td><td>5.091068e+06</td><td>1.284224e+07</td><td>1.003936e+07</td><td>7.288013e+06</td><td>4.325450e+07</td><td>1.948345e+00</td></tr>\n",
       "\t<tr><th scope=row>Diabetes, urinary diseases and male infertility</th><td>5.049825e+06</td><td>1.233843e+07</td><td>6.866404e+06</td><td>4.671200e+06</td><td>1.834971e+07</td><td>2.111132e+07</td><td>7.434597e+06</td><td>7.582148e+07</td><td>3.415284e+00</td></tr>\n",
       "\t<tr><th scope=row>Diarrhea, lower respiratory infections, meningitis, and other common infectious diseases</th><td>7.281616e+06</td><td>6.847691e+06</td><td>1.063512e+07</td><td>1.078548e+07</td><td>1.308549e+08</td><td>3.734885e+07</td><td>1.255318e+08</td><td>3.292855e+08</td><td>1.483226e+01</td></tr>\n",
       "</tbody>\n",
       "</table>\n"
      ],
      "text/latex": [
       "\\begin{tabular}{r|lllllllll}\n",
       "  & Central.Europe..Eastern.Europe..and.Central.Asia & High.income & Latin.America.and.Caribbean & North.Africa.and.Middle.East & South.Asia & Southeast.Asia..East.Asia.and.Oceania & Sub.Saharian.Africa & Tot & Prop\\_bd\\\\\n",
       "\\hline\n",
       "\tCardiovascular and circulatory diseases & 5.316141e+07 & 4.354578e+07 & 1.501290e+07 & 1.921403e+07 & 5.639526e+07 & 8.171142e+07 & 1.836331e+07 & 2.874041e+08 & 1.294576e+01\\\\\n",
       "\tChronic respiratory diseases & 5.644608e+06 & 1.364198e+07 & 5.500905e+06 & 4.781865e+06 & 3.891100e+07 & 3.179387e+07 & 1.221113e+07 & 1.124854e+08 & 5.066763e+00\\\\\n",
       "\tCirrhosis of the liver & 4.090337e+06 & 3.995636e+06 & 2.376422e+06 & 1.471645e+06 & 7.748645e+06 & 7.368063e+06 & 3.411973e+06 & 3.046272e+07 & 1.372155e+00\\\\\n",
       "\tCongenital anomalies & 2.079423e+06 & 2.296894e+06 & 3.617508e+06 & 5.091068e+06 & 1.284224e+07 & 1.003936e+07 & 7.288013e+06 & 4.325450e+07 & 1.948345e+00\\\\\n",
       "\tDiabetes, urinary diseases and male infertility & 5.049825e+06 & 1.233843e+07 & 6.866404e+06 & 4.671200e+06 & 1.834971e+07 & 2.111132e+07 & 7.434597e+06 & 7.582148e+07 & 3.415284e+00\\\\\n",
       "\tDiarrhea, lower respiratory infections, meningitis, and other common infectious diseases & 7.281616e+06 & 6.847691e+06 & 1.063512e+07 & 1.078548e+07 & 1.308549e+08 & 3.734885e+07 & 1.255318e+08 & 3.292855e+08 & 1.483226e+01\\\\\n",
       "\\end{tabular}\n"
      ],
      "text/plain": [
       "                                                                                         Central.Europe..Eastern.Europe..and.Central.Asia\n",
       "Cardiovascular and circulatory diseases                                                                                          53161407\n",
       "Chronic respiratory diseases                                                                                                      5644608\n",
       "Cirrhosis of the liver                                                                                                            4090337\n",
       "Congenital anomalies                                                                                                              2079423\n",
       "Diabetes, urinary diseases and male infertility                                                                                   5049825\n",
       "Diarrhea, lower respiratory infections, meningitis, and other common infectious diseases                                          7281616\n",
       "                                                                                         High.income\n",
       "Cardiovascular and circulatory diseases                                                     43545779\n",
       "Chronic respiratory diseases                                                                13641980\n",
       "Cirrhosis of the liver                                                                       3995636\n",
       "Congenital anomalies                                                                         2296894\n",
       "Diabetes, urinary diseases and male infertility                                             12338425\n",
       "Diarrhea, lower respiratory infections, meningitis, and other common infectious diseases     6847691\n",
       "                                                                                         Latin.America.and.Caribbean\n",
       "Cardiovascular and circulatory diseases                                                                     15012902\n",
       "Chronic respiratory diseases                                                                                 5500905\n",
       "Cirrhosis of the liver                                                                                       2376422\n",
       "Congenital anomalies                                                                                         3617508\n",
       "Diabetes, urinary diseases and male infertility                                                              6866404\n",
       "Diarrhea, lower respiratory infections, meningitis, and other common infectious diseases                    10635120\n",
       "                                                                                         North.Africa.and.Middle.East\n",
       "Cardiovascular and circulatory diseases                                                                      19214033\n",
       "Chronic respiratory diseases                                                                                  4781865\n",
       "Cirrhosis of the liver                                                                                        1471645\n",
       "Congenital anomalies                                                                                          5091068\n",
       "Diabetes, urinary diseases and male infertility                                                               4671200\n",
       "Diarrhea, lower respiratory infections, meningitis, and other common infectious diseases                     10785476\n",
       "                                                                                         South.Asia\n",
       "Cardiovascular and circulatory diseases                                                    56395260\n",
       "Chronic respiratory diseases                                                               38910999\n",
       "Cirrhosis of the liver                                                                      7748645\n",
       "Congenital anomalies                                                                       12842242\n",
       "Diabetes, urinary diseases and male infertility                                            18349709\n",
       "Diarrhea, lower respiratory infections, meningitis, and other common infectious diseases  130854936\n",
       "                                                                                         Southeast.Asia..East.Asia.and.Oceania\n",
       "Cardiovascular and circulatory diseases                                                                               81711420\n",
       "Chronic respiratory diseases                                                                                          31793866\n",
       "Cirrhosis of the liver                                                                                                 7368063\n",
       "Congenital anomalies                                                                                                  10039357\n",
       "Diabetes, urinary diseases and male infertility                                                                       21111320\n",
       "Diarrhea, lower respiratory infections, meningitis, and other common infectious diseases                              37348849\n",
       "                                                                                         Sub.Saharian.Africa\n",
       "Cardiovascular and circulatory diseases                                                             18363310\n",
       "Chronic respiratory diseases                                                                        12211132\n",
       "Cirrhosis of the liver                                                                               3411973\n",
       "Congenital anomalies                                                                                 7288013\n",
       "Diabetes, urinary diseases and male infertility                                                      7434597\n",
       "Diarrhea, lower respiratory infections, meningitis, and other common infectious diseases           125531848\n",
       "                                                                                               Tot\n",
       "Cardiovascular and circulatory diseases                                                  287404109\n",
       "Chronic respiratory diseases                                                             112485355\n",
       "Cirrhosis of the liver                                                                    30462721\n",
       "Congenital anomalies                                                                      43254504\n",
       "Diabetes, urinary diseases and male infertility                                           75821480\n",
       "Diarrhea, lower respiratory infections, meningitis, and other common infectious diseases 329285537\n",
       "                                                                                           Prop_bd\n",
       "Cardiovascular and circulatory diseases                                                  12.945761\n",
       "Chronic respiratory diseases                                                              5.066763\n",
       "Cirrhosis of the liver                                                                    1.372155\n",
       "Congenital anomalies                                                                      1.948345\n",
       "Diabetes, urinary diseases and male infertility                                           3.415284\n",
       "Diarrhea, lower respiratory infections, meningitis, and other common infectious diseases 14.832258"
      ]
     },
     "metadata": {},
     "output_type": "display_data"
    }
   ],
   "source": [
    "head(B)"
   ]
  },
  {
   "cell_type": "code",
   "execution_count": 6,
   "metadata": {
    "collapsed": false
   },
   "outputs": [
    {
     "data": {
      "text/html": [
       "<table>\n",
       "<thead><tr><th></th><th scope=col>Central.Europe..Eastern.Europe..and.Central.Asia</th><th scope=col>High.income</th><th scope=col>Latin.America.and.Caribbean</th><th scope=col>North.Africa.and.Middle.East</th><th scope=col>South.Asia</th><th scope=col>Southeast.Asia..East.Asia.and.Oceania</th><th scope=col>Sub.Saharian.Africa</th><th scope=col>Tot</th><th scope=col>Prop_bd</th></tr></thead>\n",
       "<tbody>\n",
       "\t<tr><th scope=row>Tuberculosis</th><td>2.769215e+06</td><td>4.358722e+05</td><td>1.046326e+06</td><td>8.764108e+05</td><td>2.366235e+07</td><td>1.310047e+07</td><td>1.451423e+07</td><td>5.640488e+07</td><td>2.540688e+00</td></tr>\n",
       "</tbody>\n",
       "</table>\n"
      ],
      "text/latex": [
       "\\begin{tabular}{r|lllllllll}\n",
       "  & Central.Europe..Eastern.Europe..and.Central.Asia & High.income & Latin.America.and.Caribbean & North.Africa.and.Middle.East & South.Asia & Southeast.Asia..East.Asia.and.Oceania & Sub.Saharian.Africa & Tot & Prop\\_bd\\\\\n",
       "\\hline\n",
       "\tTuberculosis & 2.769215e+06 & 4.358722e+05 & 1.046326e+06 & 8.764108e+05 & 2.366235e+07 & 1.310047e+07 & 1.451423e+07 & 5.640488e+07 & 2.540688e+00\\\\\n",
       "\\end{tabular}\n"
      ],
      "text/plain": [
       "             Central.Europe..Eastern.Europe..and.Central.Asia High.income\n",
       "Tuberculosis                                          2769215    435872.2\n",
       "             Latin.America.and.Caribbean North.Africa.and.Middle.East\n",
       "Tuberculosis                     1046326                     876410.8\n",
       "             South.Asia Southeast.Asia..East.Asia.and.Oceania\n",
       "Tuberculosis   23662351                              13100468\n",
       "             Sub.Saharian.Africa      Tot  Prop_bd\n",
       "Tuberculosis            14514234 56404878 2.540688"
      ]
     },
     "metadata": {},
     "output_type": "display_data"
    }
   ],
   "source": [
    "B[nrow(B),]"
   ]
  },
  {
   "cell_type": "code",
   "execution_count": 7,
   "metadata": {
    "collapsed": false
   },
   "outputs": [
    {
     "data": {
      "text/html": [
       "<ol class=list-inline>\n",
       "</ol>\n"
      ],
      "text/latex": [
       "\\begin{enumerate*}\n",
       "\\end{enumerate*}\n"
      ],
      "text/markdown": [
       "\n",
       "\n"
      ],
      "text/plain": [
       "integer(0)"
      ]
     },
     "metadata": {},
     "output_type": "display_data"
    }
   ],
   "source": [
    "which(rownames(B)==\"Tot\")"
   ]
  },
  {
   "cell_type": "markdown",
   "metadata": {},
   "source": []
  },
  {
   "cell_type": "raw",
   "metadata": {},
   "source": []
  }
 ],
 "metadata": {
  "kernelspec": {
   "display_name": "R",
   "language": "R",
   "name": "ir"
  },
  "language_info": {
   "codemirror_mode": "r",
   "file_extension": ".r",
   "mimetype": "text/x-r-source",
   "name": "R",
   "pygments_lexer": "r",
   "version": "3.3.1"
  }
 },
 "nbformat": 4,
 "nbformat_minor": 1
}
