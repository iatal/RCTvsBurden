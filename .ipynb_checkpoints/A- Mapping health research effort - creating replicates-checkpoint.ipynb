{
 "cells": [
  {
   "cell_type": "markdown",
   "metadata": {},
   "source": [
    "Mapping health research effort - RCTs\n",
    "-------------------------------------\n",
    "Database: \n",
    "          1. All RCTs registered at WHO ICTRP by Jan 1st 2016, \n",
    "          2. with start date between 2006 and 2015\n",
    "          3. with study type and design corresponding to RCT\n",
    "          4. with at least one country location among the 187 countries included in the GBD2010 study\n",
    "          \n",
    "We will: \n",
    "          1. Create replicates of the mapping of RCTs across diseases"
   ]
  },
  {
   "cell_type": "code",
   "execution_count": 1,
   "metadata": {
    "collapsed": false
   },
   "outputs": [
    {
     "data": {
      "text/html": [
       "<ol class=list-inline>\n",
       "\t<li>'TrialID'</li>\n",
       "\t<li>'brief_title'</li>\n",
       "\t<li>'official_title'</li>\n",
       "\t<li>'Primary_sponsor'</li>\n",
       "\t<li>'Source_Register'</li>\n",
       "\t<li>'Recruitment_Status'</li>\n",
       "\t<li>'other_records'</li>\n",
       "\t<li>'Target_size'</li>\n",
       "\t<li>'Study_type'</li>\n",
       "\t<li>'Study_design'</li>\n",
       "\t<li>'Phase'</li>\n",
       "\t<li>'Countries'</li>\n",
       "\t<li>'condition'</li>\n",
       "\t<li>'Secondary_ID'</li>\n",
       "\t<li>'Source_Support'</li>\n",
       "\t<li>'Secondary_Sponsor'</li>\n",
       "\t<li>'year'</li>\n",
       "\t<li>'Interv'</li>\n",
       "\t<li>'Regions'</li>\n",
       "\t<li>'Nb_ctr_per_reg'</li>\n",
       "\t<li>'Sample'</li>\n",
       "\t<li>'PMID'</li>\n",
       "\t<li>'GBD28'</li>\n",
       "\t<li>'GBD171'</li>\n",
       "\t<li>'Infectious'</li>\n",
       "\t<li>'MNN'</li>\n",
       "\t<li>'Cancer'</li>\n",
       "\t<li>'Chronic'</li>\n",
       "</ol>\n"
      ],
      "text/latex": [
       "\\begin{enumerate*}\n",
       "\\item 'TrialID'\n",
       "\\item 'brief\\_title'\n",
       "\\item 'official\\_title'\n",
       "\\item 'Primary\\_sponsor'\n",
       "\\item 'Source\\_Register'\n",
       "\\item 'Recruitment\\_Status'\n",
       "\\item 'other\\_records'\n",
       "\\item 'Target\\_size'\n",
       "\\item 'Study\\_type'\n",
       "\\item 'Study\\_design'\n",
       "\\item 'Phase'\n",
       "\\item 'Countries'\n",
       "\\item 'condition'\n",
       "\\item 'Secondary\\_ID'\n",
       "\\item 'Source\\_Support'\n",
       "\\item 'Secondary\\_Sponsor'\n",
       "\\item 'year'\n",
       "\\item 'Interv'\n",
       "\\item 'Regions'\n",
       "\\item 'Nb\\_ctr\\_per\\_reg'\n",
       "\\item 'Sample'\n",
       "\\item 'PMID'\n",
       "\\item 'GBD28'\n",
       "\\item 'GBD171'\n",
       "\\item 'Infectious'\n",
       "\\item 'MNN'\n",
       "\\item 'Cancer'\n",
       "\\item 'Chronic'\n",
       "\\end{enumerate*}\n"
      ],
      "text/markdown": [
       "1. 'TrialID'\n",
       "2. 'brief_title'\n",
       "3. 'official_title'\n",
       "4. 'Primary_sponsor'\n",
       "5. 'Source_Register'\n",
       "6. 'Recruitment_Status'\n",
       "7. 'other_records'\n",
       "8. 'Target_size'\n",
       "9. 'Study_type'\n",
       "10. 'Study_design'\n",
       "11. 'Phase'\n",
       "12. 'Countries'\n",
       "13. 'condition'\n",
       "14. 'Secondary_ID'\n",
       "15. 'Source_Support'\n",
       "16. 'Secondary_Sponsor'\n",
       "17. 'year'\n",
       "18. 'Interv'\n",
       "19. 'Regions'\n",
       "20. 'Nb_ctr_per_reg'\n",
       "21. 'Sample'\n",
       "22. 'PMID'\n",
       "23. 'GBD28'\n",
       "24. 'GBD171'\n",
       "25. 'Infectious'\n",
       "26. 'MNN'\n",
       "27. 'Cancer'\n",
       "28. 'Chronic'\n",
       "\n",
       "\n"
      ],
      "text/plain": [
       " [1] \"TrialID\"            \"brief_title\"        \"official_title\"    \n",
       " [4] \"Primary_sponsor\"    \"Source_Register\"    \"Recruitment_Status\"\n",
       " [7] \"other_records\"      \"Target_size\"        \"Study_type\"        \n",
       "[10] \"Study_design\"       \"Phase\"              \"Countries\"         \n",
       "[13] \"condition\"          \"Secondary_ID\"       \"Source_Support\"    \n",
       "[16] \"Secondary_Sponsor\"  \"year\"               \"Interv\"            \n",
       "[19] \"Regions\"            \"Nb_ctr_per_reg\"     \"Sample\"            \n",
       "[22] \"PMID\"               \"GBD28\"              \"GBD171\"            \n",
       "[25] \"Infectious\"         \"MNN\"                \"Cancer\"            \n",
       "[28] \"Chronic\"           "
      ]
     },
     "metadata": {},
     "output_type": "display_data"
    }
   ],
   "source": [
    "#Upload database\n",
    "data <- read.table(\"/media/igna/Elements/HotelDieu/Cochrane/Mapping_Cancer/Flowchart/database_all_diseases_final_ok.txt\")\n",
    "N <- nrow(data)\n",
    "names(data)"
   ]
  },
  {
   "cell_type": "markdown",
   "metadata": {},
   "source": [
    "- TrialID: unique trial ID from WHOICTRP\n",
    "- Regions: 7 epidemiological regions from GBD 2010 study\n",
    "- GBD28: classification according to 28 categories defined in Atal et al. BMC Bioinformatics (2016): This classification includes the injuries category, we exclude it"
   ]
  },
  {
   "cell_type": "code",
   "execution_count": 2,
   "metadata": {
    "collapsed": false
   },
   "outputs": [
    {
     "data": {
      "text/html": [
       "28"
      ],
      "text/latex": [
       "28"
      ],
      "text/markdown": [
       "28"
      ],
      "text/plain": [
       "[1] 28"
      ]
     },
     "metadata": {},
     "output_type": "display_data"
    }
   ],
   "source": [
    "#Upload traduction names/label categories\n",
    "Mgbd <- read.table(\"/home/igna/Desktop/Programs GBD/Classifier_Trial_GBD/Databases/Taxonomy_DL/GBD_data/GBD_ICD.txt\")\n",
    "grep(\"Injur\",Mgbd$cause_name)"
   ]
  },
  {
   "cell_type": "code",
   "execution_count": 3,
   "metadata": {
    "collapsed": false,
    "scrolled": true
   },
   "outputs": [
    {
     "data": {
      "text/plain": [
       "\n",
       "FALSE  TRUE \n",
       "91763 25417 "
      ]
     },
     "metadata": {},
     "output_type": "display_data"
    }
   ],
   "source": [
    "#We supress from GBD28 the label 28\n",
    "GBD27 <- sapply(strsplit(as.character(data$GBD28),\"&\"),function(x){paste(x[x!=\"28\"],collapse=\"&\")})\n",
    "data$GBD27 <- GBD27\n",
    "#Number of trials relevant to the burden of diseases\n",
    "table(GBD27==\"\")"
   ]
  },
  {
   "cell_type": "markdown",
   "metadata": {},
   "source": [
    "## 2- Estimation of number RCTs per region and disease\n",
    "\n",
    "For each disease, we simulate what would have been the mapping of RCTs within regions if the misclassification of RCTs towards groups of diseases was corrected, given the sensitivities and specificities of the classifier to identify each group of disease.\n",
    "\n",
    "To estimate the performances of the classifier for each group of diseases, we dispose a test set with 2,763 trials manually classified towards the 27-class grouping of diseases used in this work. The test set is described at Atal et al. BMC Bioinformatics 2016.\n",
    "\n",
    "The method used is based on the method presented at Fox et al. Int J Epidemiol 2005.\n",
    "\n",
    "To do so, for each disease we will:\n",
    "\n",
    "1. Calculating sensitivity and specificity of the classifier to identify the disease and other studies relevant to the burden of diseases, and the number of success and number of trials to derive beta distributions\n",
    "2. Doing N=10k times the following simulation\n",
    "    * Randomly choose a sens and spec based on beta distribution for identifying the disease and identifying another disease (no correlation between sens and spec, neither between disease and another disease both)\n",
    "    * Derive Positive and Negative Predictive Values (PPV and NPV) for each.\n",
    "    * Simulate the correction of the classification based on PPVs and NPVs\n",
    "    * Save the replicated mappings\n",
    "3. Next step is to measure Nb RCTs, Local proportion RCTs, Nb Patients, etc, in replicated mappings"
   ]
  },
  {
   "cell_type": "markdown",
   "metadata": {},
   "source": [
    "### Construction of replicates"
   ]
  },
  {
   "cell_type": "code",
   "execution_count": 4,
   "metadata": {
    "collapsed": true
   },
   "outputs": [],
   "source": [
    "Lgbd <- lapply(as.character(data$GBD27),function(x){as.numeric(unlist(strsplit(x,\"&\")))})"
   ]
  },
  {
   "cell_type": "code",
   "execution_count": 5,
   "metadata": {
    "collapsed": false
   },
   "outputs": [],
   "source": [
    "PERF <- read.csv('Tables/Performances_per_27disease_data.csv')"
   ]
  },
  {
   "cell_type": "code",
   "execution_count": 6,
   "metadata": {
    "collapsed": true
   },
   "outputs": [],
   "source": [
    "NK <- 10000\n",
    "set.seed(7212)"
   ]
  },
  {
   "cell_type": "code",
   "execution_count": null,
   "metadata": {
    "collapsed": false
   },
   "outputs": [
    {
     "name": "stdout",
     "output_type": "stream",
     "text": [
      "[1] \"0 has 0 suppressed false iterations\"\n"
     ]
    }
   ],
   "source": [
    "#For all diseases\n",
    "g <- 0\n",
    "PERF_g <- PERF[PERF$dis==0,]\n",
    "    \n",
    "    #which trials are relevant to the burden\n",
    "    is_dis <- sapply(Lgbd,length)==1\n",
    "\n",
    "    #PPV et NPVs for finding the disease\n",
    "    sens_r <- PERF_g$TP_Dis\n",
    "    sens_n <- PERF_g$TP_Dis + PERF_g$FN_Dis\n",
    "    spec_r <- PERF_g$TN_Dis\n",
    "    spec_n <- PERF_g$TN_Dis + PERF_g$FP_Dis\n",
    "    sens <- rbeta(NK,sens_r+1,sens_n-sens_r+1)\n",
    "    spec <- rbeta(NK,spec_r+1,spec_n-spec_r+1)\n",
    "    write.table(data.frame(sens=sens,spec=spec),\n",
    "                paste(c(\"/media/igna/Elements/HotelDieu/Cochrane/Mapping_Cancer/Incertitude_mapping/Replicates/Sens_spec_\",\n",
    "                        as.character(PERF_g$dis),\".txt\"),collapse=\"\"))\n",
    "\n",
    "    a_dis <- sum(is_dis)\n",
    "    b_dis <- N-a_dis\n",
    "    As <- (a_dis-(1-spec)*N)/(sens - (1-spec))\n",
    "    Bs <- N-As\n",
    "    T1 <- sens*As\n",
    "    T0 <- spec*Bs\n",
    "    F1 <- (1-spec)*Bs\n",
    "    F0 <- (1-sens)*As\n",
    "    PPV_dis <- T1/(T1+F1)\n",
    "    NPV_dis <- T0/(T0+F0)\n",
    "\n",
    "    false_it <- PPV_dis<0 | PPV_dis>1 | \n",
    "                NPV_dis<0 | NPV_dis>1\n",
    "    \n",
    "    print(paste(c(g,\"has\",sum(false_it),\"suppressed false iterations\"\n",
    "                                                    ),collapse=\" \"))  \n",
    "\n",
    "    PPV_dis <- PPV_dis[!false_it]\n",
    "    NPV_dis <- NPV_dis[!false_it]\n",
    "\n",
    "    #Simulation: reclassifying each trial\n",
    "        for(k in 1:length(PPV_dis)){\n",
    "\n",
    "            tp_dis <- runif(a_dis)\n",
    "            tn_dis <- runif(b_dis)\n",
    "            recl_dis <- is_dis\n",
    "            recl_dis[recl_dis==TRUE][tp_dis>PPV_dis[k]] <- FALSE\n",
    "            recl_dis[recl_dis==FALSE][tn_dis>NPV_dis[k]] <- TRUE\n",
    "            write.table(data.frame(recl_dis=recl_dis),\n",
    "                        paste(c(\"/media/igna/Elements/HotelDieu/Cochrane/Mapping_Cancer/Incertitude_mapping/Replicates/Reclassification_\",\n",
    "                                as.character(PERF_g$dis),\"_\",k,\".txt\"),collapse=\"\"))\n",
    "            \n",
    "            }\n",
    "                \n",
    "t1 <- proc.time()-t0\n",
    "t1/60\n"
   ]
  },
  {
   "cell_type": "code",
   "execution_count": null,
   "metadata": {
    "collapsed": true
   },
   "outputs": [],
   "source": [
    "#For all diseases, we will simulate the mapping across regions of trials concerning\n",
    "#the disease or concerning other diseases\n",
    "dis <- 1:27"
   ]
  },
  {
   "cell_type": "code",
   "execution_count": null,
   "metadata": {
    "collapsed": false
   },
   "outputs": [],
   "source": [
    "\n",
    "#For each disease\n",
    "t0 <- proc.time()\n",
    "\n",
    "for(g in dis){\n",
    "\n",
    "    PERF_g <- PERF[PERF$dis==g,]\n",
    "    \n",
    "    #which trials concern the disease\n",
    "    is_dis <- sapply(Lgbd,function(x){g%in%x})\n",
    "    #which trials concern another disease\n",
    "    is_oth <- sapply(Lgbd,function(x){sum(setdiff(1:27,g)%in%x)>0})\n",
    "\n",
    "    #PPV et NPVs for finding the disease\n",
    "    sens_r <- PERF_g$TP_Dis\n",
    "    sens_n <- PERF_g$TP_Dis + PERF_g$FN_Dis\n",
    "    spec_r <- PERF_g$TN_Dis\n",
    "    spec_n <- PERF_g$TN_Dis + PERF_g$FP_Dis\n",
    "    sens <- rbeta(NK,sens_r+1,sens_n-sens_r+1)\n",
    "    spec <- rbeta(NK,spec_r+1,spec_n-spec_r+1)\n",
    "    Dss <- data.frame(sens_dis=sens,spec_dis=spec)\n",
    "\n",
    "    a_dis <- sum(is_dis)\n",
    "    b_dis <- N-a_dis\n",
    "    As <- (a_dis-(1-spec)*N)/(sens - (1-spec))\n",
    "    Bs <- N-As\n",
    "    T1 <- sens*As\n",
    "    T0 <- spec*Bs\n",
    "    F1 <- (1-spec)*Bs\n",
    "    F0 <- (1-sens)*As\n",
    "    PPV_dis <- T1/(T1+F1)\n",
    "    NPV_dis <- T0/(T0+F0)\n",
    "\n",
    "    #PPV and NPVs for finding another disease\n",
    "    sens_r <- PERF_g$TP_Oth\n",
    "    sens_n <- PERF_g$TP_Oth + PERF_g$FN_Oth\n",
    "    spec_r <- PERF_g$TN_Oth\n",
    "    spec_n <- PERF_g$TN_Oth + PERF_g$FP_Oth\n",
    "    sens <- rbeta(NK,sens_r+1,sens_n-sens_r+1)\n",
    "    spec <- rbeta(NK,spec_r+1,spec_n-spec_r+1)\n",
    "    Dss$sens_oth <- sens\n",
    "    Dss$spec_oth <- spec\n",
    "    \n",
    "    a_oth <- sum(is_oth)\n",
    "    b_oth <- N-a_oth\n",
    "    As <- (a_oth-(1-spec)*N)/(sens - (1-spec))\n",
    "    Bs <- N-As\n",
    "    T1 <- sens*As\n",
    "    T0 <- spec*Bs\n",
    "    F1 <- (1-spec)*Bs\n",
    "    F0 <- (1-sens)*As\n",
    "    PPV_oth <- T1/(T1+F1)\n",
    "    NPV_oth <- T0/(T0+F0)\n",
    "\n",
    "    write.table(Dss,\n",
    "                paste(c(\"/media/igna/Elements/HotelDieu/Cochrane/Mapping_Cancer/Incertitude_mapping/Replicates/Sens_spec_\",\n",
    "                        as.character(PERF_g$dis),\".txt\"),collapse=\"\"))\n",
    "    \n",
    "    #Some values of sens and spec may lead to impossible values of PPV or NPV (>1 or <0)\n",
    "    #We supress and count them. If the total of suppressed iterations is higher than 10% of total iterations we\n",
    "    #will modify the distributions for Specificity and Sensitivity\n",
    "    false_it <- PPV_dis<0 | PPV_dis>1 | \n",
    "                NPV_dis<0 | NPV_dis>1 | \n",
    "                PPV_oth<0 | PPV_oth>1 | \n",
    "                NPV_oth<0 | NPV_oth>1\n",
    "    \n",
    "    print(paste(c(g,\"has\",sum(false_it),\"suppressed false iterations\"\n",
    "                                                    ),collapse=\" \"))  \n",
    "\n",
    "    PPV_dis <- PPV_dis[!false_it]\n",
    "    NPV_dis <- NPV_dis[!false_it]\n",
    "    PPV_oth <- PPV_oth[!false_it]\n",
    "    NPV_oth <- NPV_oth[!false_it]\n",
    "\n",
    "    L <- list()\n",
    "    #Simulation: reclassifying each trial\n",
    "        for(k in 1:length(PPV_dis)){\n",
    "            \n",
    "            tp_dis <- runif(a_dis)\n",
    "            tn_dis <- runif(b_dis)\n",
    "            recl_dis <- is_dis\n",
    "            recl_dis[recl_dis==TRUE][tp_dis>PPV_dis[k]] <- FALSE\n",
    "            recl_dis[recl_dis==FALSE][tn_dis>NPV_dis[k]] <- TRUE\n",
    "            rt <- as.numeric(recl_dis)\n",
    "    \n",
    "            #Oth_dis\n",
    "            tp_oth <- runif(a_oth)\n",
    "            tn_oth <- runif(b_oth)\n",
    "            recl_oth <- is_oth\n",
    "            recl_oth[recl_oth==TRUE][tp_oth>PPV_oth[k]] <- FALSE\n",
    "            recl_oth[recl_oth==FALSE][tn_oth>NPV_oth[k]] <- TRUE\n",
    "\n",
    "            write.table(data.frame(recl_dis=recl_dis,recl_oth=recl_oth),\n",
    "                        paste(c(\"/media/igna/Elements/HotelDieu/Cochrane/Mapping_Cancer/Incertitude_mapping/Replicates/Reclassification_\",\n",
    "                                as.character(PERF_g$dis),\"_\",k,\".txt\"),collapse=\"\"))\n",
    "            \n",
    "            \n",
    "        }\n",
    "}\n",
    "\n",
    "                \n",
    "t1 <- proc.time()\n",
    "    \n",
    "print(t1-t0)/60"
   ]
  },
  {
   "cell_type": "markdown",
   "metadata": {},
   "source": [
    "It took 5h"
   ]
  },
  {
   "cell_type": "code",
   "execution_count": null,
   "metadata": {
    "collapsed": false
   },
   "outputs": [],
   "source": [
    "# Diseases with more than 10% of suppressed iterations:\n",
    "Mgbd$cause_name[c(9,11,21,23,27)]"
   ]
  },
  {
   "cell_type": "markdown",
   "metadata": {},
   "source": [
    "We will re-simulate only for diseases corresponding to more than 1% of local burden in a region"
   ]
  }
 ],
 "metadata": {
  "kernelspec": {
   "display_name": "R",
   "language": "R",
   "name": "ir"
  },
  "language_info": {
   "codemirror_mode": "r",
   "file_extension": ".r",
   "mimetype": "text/x-r-source",
   "name": "R",
   "pygments_lexer": "r",
   "version": "3.3.1"
  }
 },
 "nbformat": 4,
 "nbformat_minor": 1
}
