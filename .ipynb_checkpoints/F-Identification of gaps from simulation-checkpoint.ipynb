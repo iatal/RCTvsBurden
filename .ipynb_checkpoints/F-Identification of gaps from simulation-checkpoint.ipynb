{
 "cells": [
  {
   "cell_type": "code",
   "execution_count": 1,
   "metadata": {
    "collapsed": true
   },
   "outputs": [],
   "source": [
    "GBD <- read.table(\"/media/igna/Elements/HotelDieu/Cochrane/Mapping_Cancer/Tables/GBD_data_per_region_and_27_diseases_2005.txt\")"
   ]
  },
  {
   "cell_type": "code",
   "execution_count": 2,
   "metadata": {
    "collapsed": true
   },
   "outputs": [],
   "source": [
    "#Observed values of RCTs\n",
    "RCT <- read.table(\"/media/igna/Elements/HotelDieu/Cochrane/Mapping_Cancer/Tables/RCTs_data_per_region_and_27_diseases_2005_2015.txt\")\n",
    "RCT <- RCT[order(rownames(RCT)),]"
   ]
  },
  {
   "cell_type": "code",
   "execution_count": 3,
   "metadata": {
    "collapsed": true
   },
   "outputs": [],
   "source": [
    "#Simulations\n",
    "Sims <- read.table('Data/Simulations_Alldis_NbProp_Mn95_RCTs.txt')\n",
    "Sims <- Sims[order(Sims$Region,Sims$Disease),]\n",
    "levels(Sims$Region) <- c('All',\n",
    "                         'Central Europe, Eastern Europe, and Central Asia',\n",
    "                         'High-income',\n",
    "                         'Latin America and Caribbean',\n",
    "                         'North Africa and Middle East',\n",
    "                         'South Asia',\n",
    "                         'Southeast Asia, East Asia and Oceania',\n",
    "                         'Sub-Saharian Africa')"
   ]
  },
  {
   "cell_type": "markdown",
   "metadata": {},
   "source": [
    "## Gaps across regions"
   ]
  },
  {
   "cell_type": "code",
   "execution_count": 4,
   "metadata": {
    "collapsed": true
   },
   "outputs": [],
   "source": [
    "#Across regions\n",
    "#Number and Proportion of RCTs vs proportion of burden across regions\n",
    "#Observed values\n",
    "\n",
    "Dobs <- data.frame(\n",
    "    t(rbind(RCT[rownames(RCT)==\"Tot\",-ncol(RCT)],\n",
    "      100*RCT[rownames(RCT)==\"Tot\",-ncol(RCT)]/RCT$Tot[rownames(RCT)==\"Tot\"],\n",
    "      apply(GBD[-(ncol(GBD)-0:1)],2,sum)/1e6,\n",
    "      100*apply(GBD[-(ncol(GBD)-0:1)],2,sum)/sum(GBD$Tot))))\n",
    "\n",
    "names(Dobs) <- c(\"RCTs\",\"Prop_RCTs\",\"GBD\",\"Prop_GBD\")"
   ]
  },
  {
   "cell_type": "code",
   "execution_count": 5,
   "metadata": {
    "collapsed": false,
    "scrolled": true
   },
   "outputs": [
    {
     "data": {
      "text/html": [
       "<table>\n",
       "<thead><tr><th></th><th scope=col>Region</th><th scope=col>Disease</th><th scope=col>SimMn_NbRCTs</th><th scope=col>Sim95_NbRCTs</th><th scope=col>SimMn_PrRCTs</th><th scope=col>Sim95_PrRCTs</th></tr></thead>\n",
       "<tbody>\n",
       "\t<tr><th scope=row>224</th><td>All       </td><td>All       </td><td>82178.0032</td><td>84918.05  </td><td>NA        </td><td>NA        </td></tr>\n",
       "\t<tr><th scope=row>28</th><td>Central Europe, Eastern Europe, and Central Asia</td><td>All                                             </td><td>6002.1122                                       </td><td>6180                                            </td><td>NA                                              </td><td>NA                                              </td></tr>\n",
       "\t<tr><th scope=row>56</th><td>High-income</td><td>All        </td><td>60628.9454 </td><td>62648.2    </td><td>NA         </td><td>NA         </td></tr>\n",
       "\t<tr><th scope=row>84</th><td>Latin America and Caribbean</td><td>All                        </td><td>4134.269                   </td><td>4272                       </td><td>NA                         </td><td>NA                         </td></tr>\n",
       "\t<tr><th scope=row>112</th><td>North Africa and Middle East</td><td>All                         </td><td>7864.4132                   </td><td>8135                        </td><td>NA                          </td><td>NA                          </td></tr>\n",
       "\t<tr><th scope=row>140</th><td>South Asia</td><td>All       </td><td>4342.7774 </td><td>4498.05   </td><td>NA        </td><td>NA        </td></tr>\n",
       "\t<tr><th scope=row>168</th><td>Southeast Asia, East Asia and Oceania</td><td>All                                  </td><td>8446.7352                            </td><td>8714.05                              </td><td>NA                                   </td><td>NA                                   </td></tr>\n",
       "\t<tr><th scope=row>196</th><td>Sub-Saharian Africa</td><td>All                </td><td>2211.4258          </td><td>2283               </td><td>NA                 </td><td>NA                 </td></tr>\n",
       "</tbody>\n",
       "</table>\n"
      ],
      "text/latex": [
       "\\begin{tabular}{r|llllll}\n",
       "  & Region & Disease & SimMn\\_NbRCTs & Sim95\\_NbRCTs & SimMn\\_PrRCTs & Sim95\\_PrRCTs\\\\\n",
       "\\hline\n",
       "\t224 & All        & All        & 82178.0032 & 84918.05   & NA         & NA        \\\\\n",
       "\t28 & Central Europe, Eastern Europe, and Central Asia & All                                              & 6002.1122                                        & 6180                                             & NA                                               & NA                                              \\\\\n",
       "\t56 & High-income & All         & 60628.9454  & 62648.2     & NA          & NA         \\\\\n",
       "\t84 & Latin America and Caribbean & All                         & 4134.269                    & 4272                        & NA                          & NA                         \\\\\n",
       "\t112 & North Africa and Middle East & All                          & 7864.4132                    & 8135                         & NA                           & NA                          \\\\\n",
       "\t140 & South Asia & All        & 4342.7774  & 4498.05    & NA         & NA        \\\\\n",
       "\t168 & Southeast Asia, East Asia and Oceania & All                                   & 8446.7352                             & 8714.05                               & NA                                    & NA                                   \\\\\n",
       "\t196 & Sub-Saharian Africa & All                 & 2211.4258           & 2283                & NA                  & NA                 \\\\\n",
       "\\end{tabular}\n"
      ],
      "text/plain": [
       "                                              Region Disease SimMn_NbRCTs\n",
       "224                                              All     All    82178.003\n",
       "28  Central Europe, Eastern Europe, and Central Asia     All     6002.112\n",
       "56                                       High-income     All    60628.945\n",
       "84                       Latin America and Caribbean     All     4134.269\n",
       "112                     North Africa and Middle East     All     7864.413\n",
       "140                                       South Asia     All     4342.777\n",
       "168            Southeast Asia, East Asia and Oceania     All     8446.735\n",
       "196                              Sub-Saharian Africa     All     2211.426\n",
       "    Sim95_NbRCTs SimMn_PrRCTs Sim95_PrRCTs\n",
       "224     84918.05           NA           NA\n",
       "28       6180.00           NA           NA\n",
       "56      62648.20           NA           NA\n",
       "84       4272.00           NA           NA\n",
       "112      8135.00           NA           NA\n",
       "140      4498.05           NA           NA\n",
       "168      8714.05           NA           NA\n",
       "196      2283.00           NA           NA"
      ]
     },
     "metadata": {},
     "output_type": "display_data"
    }
   ],
   "source": [
    "#Values from simulation\n",
    "Sims[Sims$Dis==\"All\",]"
   ]
  },
  {
   "cell_type": "code",
   "execution_count": 8,
   "metadata": {
    "collapsed": false
   },
   "outputs": [],
   "source": [
    "Dobs$RCTs_sim <- Sims$Sim95_NbRCTs[Sims$Region!=\"All\" & Sims$Disease==\"All\"]"
   ]
  },
  {
   "cell_type": "code",
   "execution_count": 11,
   "metadata": {
    "collapsed": true
   },
   "outputs": [],
   "source": [
    "Dobs$PrRCTs_sim <- 100*Sims$Sim95_NbRCTs[Sims$Region!=\"All\" & Sims$Disease==\"All\"]/Sims$Sim95_NbRCTs[Sims$Region==\"All\" & Sims$Disease==\"All\"]"
   ]
  },
  {
   "cell_type": "code",
   "execution_count": 13,
   "metadata": {
    "collapsed": true
   },
   "outputs": [],
   "source": [
    "Dobs$RCTsim_per_millDALYs <- Dobs$RCTs_sim/Dobs$GBD"
   ]
  },
  {
   "cell_type": "code",
   "execution_count": 14,
   "metadata": {
    "collapsed": false,
    "scrolled": true
   },
   "outputs": [
    {
     "data": {
      "text/html": [
       "<table>\n",
       "<thead><tr><th></th><th scope=col>RCTs</th><th scope=col>Prop_RCTs</th><th scope=col>GBD</th><th scope=col>Prop_GBD</th><th scope=col>RCTs_sim</th><th scope=col>PrRCTs_sim</th><th scope=col>RCTsim_per_millDALYs</th></tr></thead>\n",
       "<tbody>\n",
       "\t<tr><th scope=row>Central.Europe..Eastern.Europe..and.Central.Asia</th><td>6998.000000</td><td>   7.631740</td><td> 151.517873</td><td>   6.824934</td><td>6180.000000</td><td>   7.277605</td><td>  40.787267</td></tr>\n",
       "\t<tr><th scope=row>High.income</th><td>67659.00000</td><td>   73.78621</td><td>  231.55126</td><td>   10.42994</td><td>62648.20000</td><td>   73.77489</td><td>  270.55866</td></tr>\n",
       "\t<tr><th scope=row>Latin.America.and.Caribbean</th><td>4766.000000</td><td>   5.197609</td><td> 115.507387</td><td>   5.202887</td><td>4272.000000</td><td>   5.030733</td><td>  36.984648</td></tr>\n",
       "\t<tr><th scope=row>North.Africa.and.Middle.East</th><td>8683.000000</td><td>   9.469333</td><td> 102.273396</td><td>   4.606778</td><td>8135.000000</td><td>   9.579824</td><td>  79.541702</td></tr>\n",
       "\t<tr><th scope=row>South.Asia</th><td>4848.000000</td><td>   5.287035</td><td> 610.711947</td><td>  27.508760</td><td>4498.050000</td><td>   5.296930</td><td>   7.365256</td></tr>\n",
       "\t<tr><th scope=row>Southeast.Asia..East.Asia.and.Oceania</th><td>9639.00000</td><td>  10.51191</td><td> 460.94682</td><td>  20.76278</td><td>8714.05000</td><td>  10.26172</td><td>  18.90468</td></tr>\n",
       "\t<tr><th scope=row>Sub.Saharian.Africa</th><td>2585.000000</td><td>   2.819098</td><td> 547.554824</td><td>  24.663926</td><td>2283.000000</td><td>   2.688474</td><td>   4.169446</td></tr>\n",
       "</tbody>\n",
       "</table>\n"
      ],
      "text/latex": [
       "\\begin{tabular}{r|lllllll}\n",
       "  & RCTs & Prop\\_RCTs & GBD & Prop\\_GBD & RCTs\\_sim & PrRCTs\\_sim & RCTsim\\_per\\_millDALYs\\\\\n",
       "\\hline\n",
       "\tCentral.Europe..Eastern.Europe..and.Central.Asia & 6998.000000 &    7.631740 &  151.517873 &    6.824934 & 6180.000000 &    7.277605 &   40.787267\\\\\n",
       "\tHigh.income & 67659.00000 &    73.78621 &   231.55126 &    10.42994 & 62648.20000 &    73.77489 &   270.55866\\\\\n",
       "\tLatin.America.and.Caribbean & 4766.000000 &    5.197609 &  115.507387 &    5.202887 & 4272.000000 &    5.030733 &   36.984648\\\\\n",
       "\tNorth.Africa.and.Middle.East & 8683.000000 &    9.469333 &  102.273396 &    4.606778 & 8135.000000 &    9.579824 &   79.541702\\\\\n",
       "\tSouth.Asia & 4848.000000 &    5.287035 &  610.711947 &   27.508760 & 4498.050000 &    5.296930 &    7.365256\\\\\n",
       "\tSoutheast.Asia..East.Asia.and.Oceania & 9639.00000 &   10.51191 &  460.94682 &   20.76278 & 8714.05000 &   10.26172 &   18.90468\\\\\n",
       "\tSub.Saharian.Africa & 2585.000000 &    2.819098 &  547.554824 &   24.663926 & 2283.000000 &    2.688474 &    4.169446\\\\\n",
       "\\end{tabular}\n"
      ],
      "text/plain": [
       "                                                  RCTs Prop_RCTs      GBD\n",
       "Central.Europe..Eastern.Europe..and.Central.Asia  6998  7.631740 151.5179\n",
       "High.income                                      67659 73.786207 231.5513\n",
       "Latin.America.and.Caribbean                       4766  5.197609 115.5074\n",
       "North.Africa.and.Middle.East                      8683  9.469333 102.2734\n",
       "South.Asia                                        4848  5.287035 610.7119\n",
       "Southeast.Asia..East.Asia.and.Oceania             9639 10.511909 460.9468\n",
       "Sub.Saharian.Africa                               2585  2.819098 547.5548\n",
       "                                                  Prop_GBD RCTs_sim PrRCTs_sim\n",
       "Central.Europe..Eastern.Europe..and.Central.Asia  6.824934  6180.00   7.277605\n",
       "High.income                                      10.429939 62648.20  73.774892\n",
       "Latin.America.and.Caribbean                       5.202887  4272.00   5.030733\n",
       "North.Africa.and.Middle.East                      4.606778  8135.00   9.579824\n",
       "South.Asia                                       27.508760  4498.05   5.296930\n",
       "Southeast.Asia..East.Asia.and.Oceania            20.762776  8714.05  10.261717\n",
       "Sub.Saharian.Africa                              24.663926  2283.00   2.688474\n",
       "                                                 RCTsim_per_millDALYs\n",
       "Central.Europe..Eastern.Europe..and.Central.Asia            40.787267\n",
       "High.income                                                270.558664\n",
       "Latin.America.and.Caribbean                                 36.984648\n",
       "North.Africa.and.Middle.East                                79.541702\n",
       "South.Asia                                                   7.365256\n",
       "Southeast.Asia..East.Asia.and.Oceania                       18.904675\n",
       "Sub.Saharian.Africa                                          4.169446"
      ]
     },
     "metadata": {},
     "output_type": "display_data"
    }
   ],
   "source": [
    "Dobs"
   ]
  },
  {
   "cell_type": "markdown",
   "metadata": {},
   "source": [
    "## Gaps across diseases"
   ]
  },
  {
   "cell_type": "code",
   "execution_count": null,
   "metadata": {
    "collapsed": true
   },
   "outputs": [],
   "source": []
  },
  {
   "cell_type": "code",
   "execution_count": null,
   "metadata": {
    "collapsed": true
   },
   "outputs": [],
   "source": [
    "Pr_RCT <- do.call('rbind',apply(RCT,1,function(x){x/RCT[rownames(RCT)==\"Tot\",]}))\n",
    "Pr_RCT <- Pr_RCT[rownames(Pr_RCT)!=\"Tot\",-ncol(Pr_RCT)]\n",
    "RCT <- RCT[rownames(RCT)!=\"Tot\",-ncol(RCT)]"
   ]
  },
  {
   "cell_type": "code",
   "execution_count": 67,
   "metadata": {
    "collapsed": true
   },
   "outputs": [],
   "source": [
    "#Proportion of GBD attributable to each disease among \n",
    "#all burden of diseaes in the region\n",
    "GBD <- GBD[,-ncol(GBD)]\n",
    "Pr_GBD <- t(apply(GBD,1,function(x){x/unlist(apply(GBD,2,sum))}))"
   ]
  },
  {
   "cell_type": "code",
   "execution_count": null,
   "metadata": {
    "collapsed": true
   },
   "outputs": [],
   "source": []
  },
  {
   "cell_type": "code",
   "execution_count": 68,
   "metadata": {
    "collapsed": true
   },
   "outputs": [],
   "source": [
    "GBD <- GBD[,-ncol(GBD)]\n",
    "Pr_GBD <- Pr_GBD[,-ncol(Pr_GBD)]"
   ]
  },
  {
   "cell_type": "code",
   "execution_count": 69,
   "metadata": {
    "collapsed": false
   },
   "outputs": [],
   "source": [
    "Sims$GBD <- unlist(GBD)\n",
    "Sims$Pr_GBD <- as.vector(Pr_GBD)"
   ]
  },
  {
   "cell_type": "code",
   "execution_count": 70,
   "metadata": {
    "collapsed": false
   },
   "outputs": [],
   "source": [
    "Sims$RCT <- unlist(RCT)\n",
    "Sims$Pr_RCT <- unlist(Pr_RCT)"
   ]
  },
  {
   "cell_type": "code",
   "execution_count": 71,
   "metadata": {
    "collapsed": true
   },
   "outputs": [],
   "source": [
    "SR <- Sims[Sims$Pr_GBD>=0.01,]"
   ]
  },
  {
   "cell_type": "code",
   "execution_count": 72,
   "metadata": {
    "collapsed": true
   },
   "outputs": [],
   "source": [
    "SR$Gap_obs <- SR$Pr_GBD/SR$Pr_RCT>=2"
   ]
  },
  {
   "cell_type": "code",
   "execution_count": 73,
   "metadata": {
    "collapsed": true
   },
   "outputs": [],
   "source": [
    "SR$Gaps_Simul <- SR$Pr_GBD/SR$Sim95_PrRCT>=2"
   ]
  },
  {
   "cell_type": "code",
   "execution_count": 74,
   "metadata": {
    "collapsed": false
   },
   "outputs": [
    {
     "data": {
      "text/plain": [
       "       \n",
       "        FALSE TRUE\n",
       "  FALSE    97    3\n",
       "  TRUE      7   14"
      ]
     },
     "metadata": {},
     "output_type": "display_data"
    }
   ],
   "source": [
    "table(SR$Gap_obs,SR$Gaps_Simul)"
   ]
  },
  {
   "cell_type": "code",
   "execution_count": 75,
   "metadata": {
    "collapsed": true
   },
   "outputs": [],
   "source": [
    "SR[,grep(\"Pr\",names(SR))] <- round(100*SR[,grep(\"Pr\",names(SR))],2)"
   ]
  },
  {
   "cell_type": "code",
   "execution_count": 76,
   "metadata": {
    "collapsed": false
   },
   "outputs": [],
   "source": [
    "SR[,grep(\"SimMn_Nb\",names(SR))] <- round(SR[,grep(\"SimMn_Nb\",names(SR))],1)"
   ]
  },
  {
   "cell_type": "code",
   "execution_count": 77,
   "metadata": {
    "collapsed": true
   },
   "outputs": [],
   "source": [
    "SR$GBD <- round(SR$GBD/1e6,1)"
   ]
  },
  {
   "cell_type": "code",
   "execution_count": 78,
   "metadata": {
    "collapsed": true
   },
   "outputs": [],
   "source": [
    "SR$Sim95_NbRCTs <- round(SR$Sim95_NbRCTs,0)"
   ]
  },
  {
   "cell_type": "code",
   "execution_count": 83,
   "metadata": {
    "collapsed": false
   },
   "outputs": [
    {
     "data": {
      "text/html": [
       "<table>\n",
       "<thead><tr><th></th><th scope=col>Region</th><th scope=col>Disease</th><th scope=col>RCT</th><th scope=col>Pr_RCT</th><th scope=col>Sim95_NbRCTs</th><th scope=col>Sim95_PrRCTs</th><th scope=col>Pr_GBD</th><th scope=col>Gap_obs</th></tr></thead>\n",
       "<tbody>\n",
       "\t<tr><th scope=row>13</th><td>Central Europe, Eastern Europe, and Central Asia</td><td>Cardiovascular and circulatory diseases         </td><td>789                                             </td><td>11.27                                           </td><td>842                                             </td><td>13.73                                           </td><td>35.09                                           </td><td>1                                               </td></tr>\n",
       "\t<tr><th scope=row>23</th><td>Central Europe, Eastern Europe, and Central Asia</td><td>Congenital anomalies                            </td><td>69                                              </td><td>0.99                                            </td><td>32                                              </td><td>0.53                                            </td><td>1.37                                            </td><td>0                                               </td></tr>\n",
       "\t<tr><th scope=row>1</th><td>Central Europe, Eastern Europe, and Central Asia</td><td>Tuberculosis                                    </td><td>21                                              </td><td>0.3                                             </td><td>27                                              </td><td>0.43                                            </td><td>1.83                                            </td><td>1                                               </td></tr>\n",
       "\t<tr><th scope=row>77</th><td>Latin America and Caribbean</td><td>Congenital anomalies       </td><td>55                         </td><td>1.15                       </td><td>27                         </td><td>0.63                       </td><td>3.13                       </td><td>1                          </td></tr>\n",
       "\t<tr><th scope=row>61</th><td>Latin America and Caribbean</td><td>Neonatal disorders         </td><td>41                         </td><td>0.86                       </td><td>147                        </td><td>3.47                       </td><td>8.72                       </td><td>1                          </td></tr>\n",
       "\t<tr><th scope=row>104</th><td>North Africa and Middle East</td><td>Congenital anomalies        </td><td>147                         </td><td>1.69                        </td><td>65                          </td><td>0.81                        </td><td>4.98                        </td><td>1                           </td></tr>\n",
       "\t<tr><th scope=row>84</th><td>North Africa and Middle East                                                            </td><td>Diarrhea, lower respiratory infections, meningitis, and other common infectious diseases</td><td>253                                                                                     </td><td>2.91                                                                                    </td><td>321                                                                                     </td><td>4.09                                                                                    </td><td>10.55                                                                                   </td><td>1                                                                                       </td></tr>\n",
       "\t<tr><th scope=row>88</th><td>North Africa and Middle East</td><td>Neonatal disorders          </td><td>181                         </td><td>2.08                        </td><td>366                         </td><td>4.57                        </td><td>10.06                       </td><td>1                           </td></tr>\n",
       "\t<tr><th scope=row>131</th><td>South Asia          </td><td>Congenital anomalies</td><td>53                  </td><td>1.09                </td><td>26                  </td><td>0.59                </td><td>2.1                 </td><td>0                   </td></tr>\n",
       "\t<tr><th scope=row>111</th><td>South Asia                                                                              </td><td>Diarrhea, lower respiratory infections, meningitis, and other common infectious diseases</td><td>357                                                                                     </td><td>7.36                                                                                    </td><td>354                                                                                     </td><td>8.05                                                                                    </td><td>21.43                                                                                   </td><td>1                                                                                       </td></tr>\n",
       "\t<tr><th scope=row>115</th><td>South Asia        </td><td>Neonatal disorders</td><td>86                </td><td>1.77              </td><td>192               </td><td>4.31              </td><td>16.52             </td><td>1                 </td></tr>\n",
       "\t<tr><th scope=row>109</th><td>South Asia  </td><td>Tuberculosis</td><td>54          </td><td>1.11        </td><td>54          </td><td>1.21        </td><td>3.87        </td><td>1           </td></tr>\n",
       "\t<tr><th scope=row>158</th><td>Southeast Asia, East Asia and Oceania</td><td>Congenital anomalies                 </td><td>143                                  </td><td>1.48                                 </td><td>64                                   </td><td>0.72                                 </td><td>2.18                                 </td><td>0                                    </td></tr>\n",
       "\t<tr><th scope=row>136</th><td>Southeast Asia, East Asia and Oceania</td><td>Tuberculosis                         </td><td>70                                   </td><td>0.73                                 </td><td>73                                   </td><td>0.84                                 </td><td>2.84                                 </td><td>1                                    </td></tr>\n",
       "\t<tr><th scope=row>185</th><td>Sub-Saharian Africa </td><td>Congenital anomalies</td><td>16                  </td><td>0.62                </td><td>10                  </td><td>0.43                </td><td>1.33                </td><td>1                   </td></tr>\n",
       "\t<tr><th scope=row>165</th><td>Sub-Saharian Africa                                                                     </td><td>Diarrhea, lower respiratory infections, meningitis, and other common infectious diseases</td><td>150                                                                                     </td><td>5.8                                                                                     </td><td>152                                                                                     </td><td>6.76                                                                                    </td><td>22.93                                                                                   </td><td>1                                                                                       </td></tr>\n",
       "\t<tr><th scope=row>169</th><td>Sub-Saharian Africa</td><td>Neonatal disorders </td><td>40                 </td><td>1.55               </td><td>90                 </td><td>3.95               </td><td>11.58              </td><td>1                  </td></tr>\n",
       "</tbody>\n",
       "</table>\n"
      ],
      "text/latex": [
       "\\begin{tabular}{r|llllllll}\n",
       "  & Region & Disease & RCT & Pr\\_RCT & Sim95\\_NbRCTs & Sim95\\_PrRCTs & Pr\\_GBD & Gap\\_obs\\\\\n",
       "\\hline\n",
       "\t13 & Central Europe, Eastern Europe, and Central Asia & Cardiovascular and circulatory diseases          & 789                                              & 11.27                                            & 842                                              & 13.73                                            & 35.09                                            & 1                                               \\\\\n",
       "\t23 & Central Europe, Eastern Europe, and Central Asia & Congenital anomalies                             & 69                                               & 0.99                                             & 32                                               & 0.53                                             & 1.37                                             & 0                                               \\\\\n",
       "\t1 & Central Europe, Eastern Europe, and Central Asia & Tuberculosis                                     & 21                                               & 0.3                                              & 27                                               & 0.43                                             & 1.83                                             & 1                                               \\\\\n",
       "\t77 & Latin America and Caribbean & Congenital anomalies        & 55                          & 1.15                        & 27                          & 0.63                        & 3.13                        & 1                          \\\\\n",
       "\t61 & Latin America and Caribbean & Neonatal disorders          & 41                          & 0.86                        & 147                         & 3.47                        & 8.72                        & 1                          \\\\\n",
       "\t104 & North Africa and Middle East & Congenital anomalies         & 147                          & 1.69                         & 65                           & 0.81                         & 4.98                         & 1                           \\\\\n",
       "\t84 & North Africa and Middle East                                                             & Diarrhea, lower respiratory infections, meningitis, and other common infectious diseases & 253                                                                                      & 2.91                                                                                     & 321                                                                                      & 4.09                                                                                     & 10.55                                                                                    & 1                                                                                       \\\\\n",
       "\t88 & North Africa and Middle East & Neonatal disorders           & 181                          & 2.08                         & 366                          & 4.57                         & 10.06                        & 1                           \\\\\n",
       "\t131 & South Asia           & Congenital anomalies & 53                   & 1.09                 & 26                   & 0.59                 & 2.1                  & 0                   \\\\\n",
       "\t111 & South Asia                                                                               & Diarrhea, lower respiratory infections, meningitis, and other common infectious diseases & 357                                                                                      & 7.36                                                                                     & 354                                                                                      & 8.05                                                                                     & 21.43                                                                                    & 1                                                                                       \\\\\n",
       "\t115 & South Asia         & Neonatal disorders & 86                 & 1.77               & 192                & 4.31               & 16.52              & 1                 \\\\\n",
       "\t109 & South Asia   & Tuberculosis & 54           & 1.11         & 54           & 1.21         & 3.87         & 1           \\\\\n",
       "\t158 & Southeast Asia, East Asia and Oceania & Congenital anomalies                  & 143                                   & 1.48                                  & 64                                    & 0.72                                  & 2.18                                  & 0                                    \\\\\n",
       "\t136 & Southeast Asia, East Asia and Oceania & Tuberculosis                          & 70                                    & 0.73                                  & 73                                    & 0.84                                  & 2.84                                  & 1                                    \\\\\n",
       "\t185 & Sub-Saharian Africa  & Congenital anomalies & 16                   & 0.62                 & 10                   & 0.43                 & 1.33                 & 1                   \\\\\n",
       "\t165 & Sub-Saharian Africa                                                                      & Diarrhea, lower respiratory infections, meningitis, and other common infectious diseases & 150                                                                                      & 5.8                                                                                      & 152                                                                                      & 6.76                                                                                     & 22.93                                                                                    & 1                                                                                       \\\\\n",
       "\t169 & Sub-Saharian Africa & Neonatal disorders  & 40                  & 1.55                & 90                  & 3.95                & 11.58               & 1                  \\\\\n",
       "\\end{tabular}\n"
      ],
      "text/plain": [
       "                                              Region\n",
       "13  Central Europe, Eastern Europe, and Central Asia\n",
       "23  Central Europe, Eastern Europe, and Central Asia\n",
       "1   Central Europe, Eastern Europe, and Central Asia\n",
       "77                       Latin America and Caribbean\n",
       "61                       Latin America and Caribbean\n",
       "104                     North Africa and Middle East\n",
       "84                      North Africa and Middle East\n",
       "88                      North Africa and Middle East\n",
       "131                                       South Asia\n",
       "111                                       South Asia\n",
       "115                                       South Asia\n",
       "109                                       South Asia\n",
       "158            Southeast Asia, East Asia and Oceania\n",
       "136            Southeast Asia, East Asia and Oceania\n",
       "185                              Sub-Saharian Africa\n",
       "165                              Sub-Saharian Africa\n",
       "169                              Sub-Saharian Africa\n",
       "                                                                                     Disease\n",
       "13                                                   Cardiovascular and circulatory diseases\n",
       "23                                                                      Congenital anomalies\n",
       "1                                                                               Tuberculosis\n",
       "77                                                                      Congenital anomalies\n",
       "61                                                                        Neonatal disorders\n",
       "104                                                                     Congenital anomalies\n",
       "84  Diarrhea, lower respiratory infections, meningitis, and other common infectious diseases\n",
       "88                                                                        Neonatal disorders\n",
       "131                                                                     Congenital anomalies\n",
       "111 Diarrhea, lower respiratory infections, meningitis, and other common infectious diseases\n",
       "115                                                                       Neonatal disorders\n",
       "109                                                                             Tuberculosis\n",
       "158                                                                     Congenital anomalies\n",
       "136                                                                             Tuberculosis\n",
       "185                                                                     Congenital anomalies\n",
       "165 Diarrhea, lower respiratory infections, meningitis, and other common infectious diseases\n",
       "169                                                                       Neonatal disorders\n",
       "    RCT Pr_RCT Sim95_NbRCTs Sim95_PrRCTs Pr_GBD Gap_obs\n",
       "13  789  11.27          842        13.73  35.09    TRUE\n",
       "23   69   0.99           32         0.53   1.37   FALSE\n",
       "1    21   0.30           27         0.43   1.83    TRUE\n",
       "77   55   1.15           27         0.63   3.13    TRUE\n",
       "61   41   0.86          147         3.47   8.72    TRUE\n",
       "104 147   1.69           65         0.81   4.98    TRUE\n",
       "84  253   2.91          321         4.09  10.55    TRUE\n",
       "88  181   2.08          366         4.57  10.06    TRUE\n",
       "131  53   1.09           26         0.59   2.10   FALSE\n",
       "111 357   7.36          354         8.05  21.43    TRUE\n",
       "115  86   1.77          192         4.31  16.52    TRUE\n",
       "109  54   1.11           54         1.21   3.87    TRUE\n",
       "158 143   1.48           64         0.72   2.18   FALSE\n",
       "136  70   0.73           73         0.84   2.84    TRUE\n",
       "185  16   0.62           10         0.43   1.33    TRUE\n",
       "165 150   5.80          152         6.76  22.93    TRUE\n",
       "169  40   1.55           90         3.95  11.58    TRUE"
      ]
     },
     "metadata": {},
     "output_type": "display_data"
    }
   ],
   "source": [
    "SR[SR$Gaps_Simul,c(1,2,9,10,4,6,8,11)]"
   ]
  },
  {
   "cell_type": "code",
   "execution_count": 84,
   "metadata": {
    "collapsed": false
   },
   "outputs": [
    {
     "data": {
      "text/html": [
       "<table>\n",
       "<thead><tr><th></th><th scope=col>Region</th><th scope=col>Disease</th><th scope=col>RCT</th><th scope=col>Pr_RCT</th><th scope=col>Sim95_NbRCTs</th><th scope=col>Sim95_PrRCTs</th><th scope=col>Pr_GBD</th><th scope=col>Gap_obs</th></tr></thead>\n",
       "<tbody>\n",
       "\t<tr><th scope=row>7</th><td>Central Europe, Eastern Europe, and Central Asia</td><td>Neonatal disorders                              </td><td>38                                              </td><td>0.54                                            </td><td>186                                             </td><td>3.04                                            </td><td>2.56                                            </td><td>1                                               </td></tr>\n",
       "\t<tr><th scope=row>34</th><td>High-income       </td><td>Neonatal disorders</td><td>553               </td><td>0.82              </td><td>2195              </td><td>3.55              </td><td>1.65              </td><td>1                 </td></tr>\n",
       "\t<tr><th scope=row>62</th><td>Latin America and Caribbean</td><td>Nutritional deficiencies   </td><td>78                         </td><td>1.64                       </td><td>99                         </td><td>2.31                       </td><td>3.76                       </td><td>1                          </td></tr>\n",
       "\t<tr><th scope=row>89</th><td>North Africa and Middle East</td><td>Nutritional deficiencies    </td><td>134                         </td><td>1.54                        </td><td>181                         </td><td>2.28                        </td><td>4.12                        </td><td>1                           </td></tr>\n",
       "\t<tr><th scope=row>140</th><td>Southeast Asia, East Asia and Oceania        </td><td>Neglected tropical diseases excluding malaria</td><td>65                                           </td><td>0.67                                         </td><td>97                                           </td><td>1.12                                         </td><td>1.55                                         </td><td>1                                            </td></tr>\n",
       "\t<tr><th scope=row>142</th><td>Southeast Asia, East Asia and Oceania</td><td>Neonatal disorders                   </td><td>47                                   </td><td>0.49                                 </td><td>278                                  </td><td>3.2                                  </td><td>6.06                                 </td><td>1                                    </td></tr>\n",
       "\t<tr><th scope=row>171</th><td>Sub-Saharian Africa                        </td><td>Sexually transmitted diseases excluding HIV</td><td>9                                          </td><td>0.35                                       </td><td>136                                        </td><td>5.84                                       </td><td>1.27                                       </td><td>1                                          </td></tr>\n",
       "</tbody>\n",
       "</table>\n"
      ],
      "text/latex": [
       "\\begin{tabular}{r|llllllll}\n",
       "  & Region & Disease & RCT & Pr\\_RCT & Sim95\\_NbRCTs & Sim95\\_PrRCTs & Pr\\_GBD & Gap\\_obs\\\\\n",
       "\\hline\n",
       "\t7 & Central Europe, Eastern Europe, and Central Asia & Neonatal disorders                               & 38                                               & 0.54                                             & 186                                              & 3.04                                             & 2.56                                             & 1                                               \\\\\n",
       "\t34 & High-income        & Neonatal disorders & 553                & 0.82               & 2195               & 3.55               & 1.65               & 1                 \\\\\n",
       "\t62 & Latin America and Caribbean & Nutritional deficiencies    & 78                          & 1.64                        & 99                          & 2.31                        & 3.76                        & 1                          \\\\\n",
       "\t89 & North Africa and Middle East & Nutritional deficiencies     & 134                          & 1.54                         & 181                          & 2.28                         & 4.12                         & 1                           \\\\\n",
       "\t140 & Southeast Asia, East Asia and Oceania         & Neglected tropical diseases excluding malaria & 65                                            & 0.67                                          & 97                                            & 1.12                                          & 1.55                                          & 1                                            \\\\\n",
       "\t142 & Southeast Asia, East Asia and Oceania & Neonatal disorders                    & 47                                    & 0.49                                  & 278                                   & 3.2                                   & 6.06                                  & 1                                    \\\\\n",
       "\t171 & Sub-Saharian Africa                         & Sexually transmitted diseases excluding HIV & 9                                           & 0.35                                        & 136                                         & 5.84                                        & 1.27                                        & 1                                          \\\\\n",
       "\\end{tabular}\n"
      ],
      "text/plain": [
       "                                              Region\n",
       "7   Central Europe, Eastern Europe, and Central Asia\n",
       "34                                       High-income\n",
       "62                       Latin America and Caribbean\n",
       "89                      North Africa and Middle East\n",
       "140            Southeast Asia, East Asia and Oceania\n",
       "142            Southeast Asia, East Asia and Oceania\n",
       "171                              Sub-Saharian Africa\n",
       "                                          Disease RCT Pr_RCT Sim95_NbRCTs\n",
       "7                              Neonatal disorders  38   0.54          186\n",
       "34                             Neonatal disorders 553   0.82         2195\n",
       "62                       Nutritional deficiencies  78   1.64           99\n",
       "89                       Nutritional deficiencies 134   1.54          181\n",
       "140 Neglected tropical diseases excluding malaria  65   0.67           97\n",
       "142                            Neonatal disorders  47   0.49          278\n",
       "171   Sexually transmitted diseases excluding HIV   9   0.35          136\n",
       "    Sim95_PrRCTs Pr_GBD Gap_obs\n",
       "7           3.04   2.56    TRUE\n",
       "34          3.55   1.65    TRUE\n",
       "62          2.31   3.76    TRUE\n",
       "89          2.28   4.12    TRUE\n",
       "140         1.12   1.55    TRUE\n",
       "142         3.20   6.06    TRUE\n",
       "171         5.84   1.27    TRUE"
      ]
     },
     "metadata": {},
     "output_type": "display_data"
    }
   ],
   "source": [
    "SR[SR$Gap_obs & !SR$Gaps_Simul,c(1,2,9,10,4,6,8,11)]"
   ]
  },
  {
   "cell_type": "code",
   "execution_count": null,
   "metadata": {
    "collapsed": true
   },
   "outputs": [],
   "source": []
  }
 ],
 "metadata": {
  "kernelspec": {
   "display_name": "R",
   "language": "R",
   "name": "ir"
  },
  "language_info": {
   "codemirror_mode": "r",
   "file_extension": ".r",
   "mimetype": "text/x-r-source",
   "name": "R",
   "pygments_lexer": "r",
   "version": "3.3.1"
  }
 },
 "nbformat": 4,
 "nbformat_minor": 1
}
