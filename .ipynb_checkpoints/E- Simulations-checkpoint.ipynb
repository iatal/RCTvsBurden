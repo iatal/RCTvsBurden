{
 "cells": [
  {
   "cell_type": "markdown",
   "metadata": {
    "collapsed": true
   },
   "source": [
    "# Simulations to identify research gaps\n",
    "For each disease, we simulate what would have been the mapping of RCTs within regions if the misclassification of RCTs towards groups of diseases was corrected, given the sensitivities and specificities of the classifier to identify each group of disease.\n",
    "\n",
    "To estimate the performances of the classifier for each group of diseases, we dispose a test set with 2,763 trials manually classified towards the 27-class grouping of diseases used in this work. The test set is described at Atal et al. BMC Bioinformatics 2016.\n",
    "\n",
    "The method used is based on the method presented at Fox et al. Int J Epidemiol 2005.\n",
    "\n",
    "To do so, for each disease for which we found a local research gap we will:\n",
    "\n",
    "1. Calculating sensitivity and specificity of the classifier to identify the disease and other studies relevant to the burden of diseases, and the number of success and number of trials to derive beta distributions\n",
    "2. Doing N=60k times the following simulation\n",
    "    * Randomly choose a sens and spec based on beta distribution for identifying the disease and identifying another disease (no correlation between sens and spec, neither between disease and another disease both)\n",
    "    * Derive Positive and Negative Predictive Values (PPV and NPV) for each.\n",
    "    * Simulate the correction of the classification based on PPVs and NPVs\n",
    "    * Derive the proportion of RCTs concerning the disease among all RCTs concerning the burden of disease in the region\n",
    "3. Derive 95% upper-bond simulation interval of the proportion of RCTs concerning the disease among all RCTs concerning the burden of diseases"
   ]
  },
  {
   "cell_type": "markdown",
   "metadata": {},
   "source": [
    "## 1. Sensitivities and specificities based on test set"
   ]
  },
  {
   "cell_type": "code",
   "execution_count": 1,
   "metadata": {
    "collapsed": false
   },
   "outputs": [
    {
     "data": {
      "text/html": [
       "<ol class=list-inline>\n",
       "\t<li>2763</li>\n",
       "\t<li>8</li>\n",
       "</ol>\n"
      ],
      "text/latex": [
       "\\begin{enumerate*}\n",
       "\\item 2763\n",
       "\\item 8\n",
       "\\end{enumerate*}\n"
      ],
      "text/markdown": [
       "1. 2763\n",
       "2. 8\n",
       "\n",
       "\n"
      ],
      "text/plain": [
       "[1] 2763    8"
      ]
     },
     "metadata": {},
     "output_type": "display_data"
    }
   ],
   "source": [
    "test_set <- read.table(\"/media/igna/Elements/HotelDieu/Cochrane/MetaMapBurden/Paper_classifier/NCT_data_classified_to28cats.txt\")\n",
    "dim(test_set)"
   ]
  },
  {
   "cell_type": "code",
   "execution_count": 2,
   "metadata": {
    "collapsed": false
   },
   "outputs": [],
   "source": [
    "#We supress injuries from trials concerning the burden of diseases\n",
    "test_set$GBDnp <- sapply(strsplit(as.character(test_set$GBDnp),\"&&\"),function(x){paste(x[x!=\"28\"],collapse=\"&\")})\n",
    "test_set$GBD28 <- sapply(strsplit(as.character(test_set$GBD28),\"&\"),function(x){paste(x[x!=\"28\"],collapse=\"&\")})"
   ]
  },
  {
   "cell_type": "code",
   "execution_count": 3,
   "metadata": {
    "collapsed": true
   },
   "outputs": [],
   "source": [
    "tst <- strsplit(test_set$GBDnp,\"&\")\n",
    "alg <- strsplit(test_set$GBD28,\"&\")\n",
    "tst <- lapply(tst,as.numeric)\n",
    "alg <- lapply(alg,as.numeric)"
   ]
  },
  {
   "cell_type": "code",
   "execution_count": 4,
   "metadata": {
    "collapsed": true
   },
   "outputs": [],
   "source": [
    "source('Evaluation_metrics.R')"
   ]
  },
  {
   "cell_type": "code",
   "execution_count": 5,
   "metadata": {
    "collapsed": false
   },
   "outputs": [],
   "source": [
    "dis <- 1:27\n",
    "Mgbd <- read.table(\"/home/igna/Desktop/Programs GBD/Classifier_Trial_GBD/Databases/Taxonomy_DL/GBD_data/GBD_ICD.txt\")"
   ]
  },
  {
   "cell_type": "code",
   "execution_count": 6,
   "metadata": {
    "collapsed": false,
    "scrolled": true
   },
   "outputs": [],
   "source": [
    "#For each category in 1:27, TP, TN, FP and FN of finding the disease and of finding another disease\n",
    "set.seed(7212)\n",
    "\n",
    "dis <- as.character(1:27)\n",
    "\n",
    "PERF_F  <- data.frame()\n",
    "for(i in dis){\n",
    "    ALG <- lapply(alg,function(x){rs <- c()\n",
    "                                  if(i%in%x) rs <- c(1)\n",
    "                                  if(sum(setdiff(dis,i)%in%x)!=0) rs <- c(rs,2)\n",
    "                                  return(rs)\n",
    "                                      })\n",
    "\n",
    "    DT <- lapply(tst,function(x){rs <- c()\n",
    "                                if(i%in%x) rs <- c(1)\n",
    "                                if(sum(setdiff(dis,i)%in%x)!=0) rs <- c(rs,2)\n",
    "                                return(rs)\n",
    "                                    })\n",
    "\n",
    "    CM <- conf_matrix(ALG,DT,c(1,2))\n",
    "\n",
    "    PERF <- c(CM[1,],CM[2,])\n",
    "    PERF_F <- rbind(PERF_F,PERF)\n",
    "}\n"
   ]
  },
  {
   "cell_type": "code",
   "execution_count": 7,
   "metadata": {
    "collapsed": true
   },
   "outputs": [],
   "source": [
    "PERF_F <- data.frame(PERF_F)\n",
    "names(PERF_F) <- paste(rep(c(\"TP\",\"FP\",\"TN\",\"FN\"),2),rep(c(\"_Dis\",\"_Oth\"),each=4),sep=\"\")"
   ]
  },
  {
   "cell_type": "code",
   "execution_count": 8,
   "metadata": {
    "collapsed": true
   },
   "outputs": [],
   "source": [
    "PERF_F$dis <- dis\n",
    "PERF_F$GBD <- Mgbd$cause_name[-28]"
   ]
  },
  {
   "cell_type": "code",
   "execution_count": 9,
   "metadata": {
    "collapsed": false,
    "scrolled": true
   },
   "outputs": [],
   "source": [
    "PERF_F <- PERF_F[,c(9,10,1:8)]"
   ]
  },
  {
   "cell_type": "code",
   "execution_count": 10,
   "metadata": {
    "collapsed": false
   },
   "outputs": [
    {
     "data": {
      "text/html": [
       "<table>\n",
       "<thead><tr><th></th><th scope=col>dis</th><th scope=col>GBD</th><th scope=col>TP_Dis</th><th scope=col>FP_Dis</th><th scope=col>TN_Dis</th><th scope=col>FN_Dis</th><th scope=col>TP_Oth</th><th scope=col>FP_Oth</th><th scope=col>TN_Oth</th><th scope=col>FN_Oth</th></tr></thead>\n",
       "<tbody>\n",
       "\t<tr><th scope=row>1</th><td>1           </td><td>Tuberculosis</td><td>14          </td><td>2           </td><td>2745        </td><td>2           </td><td>2142        </td><td>204         </td><td>267         </td><td>150         </td></tr>\n",
       "\t<tr><th scope=row>2</th><td>2       </td><td>HIV/AIDS</td><td>86      </td><td>7       </td><td>2659    </td><td>11      </td><td>2072    </td><td>214     </td><td>333     </td><td>144     </td></tr>\n",
       "\t<tr><th scope=row>3</th><td>3                                                                                       </td><td>Diarrhea, lower respiratory infections, meningitis, and other common infectious diseases</td><td>40                                                                                      </td><td>21                                                                                      </td><td>2693                                                                                    </td><td>9                                                                                       </td><td>2113                                                                                    </td><td>207                                                                                     </td><td>299                                                                                     </td><td>144                                                                                     </td></tr>\n",
       "\t<tr><th scope=row>4</th><td>4      </td><td>Malaria</td><td>14     </td><td>1      </td><td>2748   </td><td>0      </td><td>2142   </td><td>204    </td><td>267    </td><td>150    </td></tr>\n",
       "\t<tr><th scope=row>5</th><td>5                                            </td><td>Neglected tropical diseases excluding malaria</td><td>6                                            </td><td>0                                            </td><td>2756                                         </td><td>1                                            </td><td>2150                                         </td><td>203                                          </td><td>261                                          </td><td>149                                          </td></tr>\n",
       "\t<tr><th scope=row>6</th><td>6                 </td><td>Maternal disorders</td><td>17                </td><td>5                 </td><td>2715              </td><td>26                </td><td>2130              </td><td>210               </td><td>289               </td><td>134               </td></tr>\n",
       "\t<tr><th scope=row>7</th><td>7                 </td><td>Neonatal disorders</td><td>4                 </td><td>7                 </td><td>2746              </td><td>6                 </td><td>2148              </td><td>205               </td><td>262               </td><td>148               </td></tr>\n",
       "\t<tr><th scope=row>8</th><td>8                       </td><td>Nutritional deficiencies</td><td>11                      </td><td>15                      </td><td>2732                    </td><td>5                       </td><td>2140                    </td><td>201                     </td><td>272                     </td><td>150                     </td></tr>\n",
       "\t<tr><th scope=row>9</th><td>9                                          </td><td>Sexually transmitted diseases excluding HIV</td><td>0                                          </td><td>3                                          </td><td>2759                                       </td><td>1                                          </td><td>2155                                       </td><td>203                                        </td><td>255                                        </td><td>150                                        </td></tr>\n",
       "\t<tr><th scope=row>10</th><td>10       </td><td>Hepatitis</td><td>14       </td><td>4        </td><td>2742     </td><td>3        </td><td>2141     </td><td>208      </td><td>262      </td><td>152      </td></tr>\n",
       "\t<tr><th scope=row>11</th><td>11     </td><td>Leprosy</td><td>2      </td><td>1      </td><td>2760   </td><td>0      </td><td>2154   </td><td>203    </td><td>256    </td><td>150    </td></tr>\n",
       "\t<tr><th scope=row>12</th><td>12       </td><td>Neoplasms</td><td>933      </td><td>42       </td><td>1763     </td><td>25       </td><td>1213     </td><td>214      </td><td>1198     </td><td>138      </td></tr>\n",
       "\t<tr><th scope=row>13</th><td>13                                     </td><td>Cardiovascular and circulatory diseases</td><td>178                                    </td><td>60                                     </td><td>2468                                   </td><td>57                                     </td><td>1951                                   </td><td>217                                    </td><td>466                                    </td><td>129                                    </td></tr>\n",
       "\t<tr><th scope=row>14</th><td>14                          </td><td>Chronic respiratory diseases</td><td>76                          </td><td>17                          </td><td>2665                        </td><td>5                           </td><td>2074                        </td><td>209                         </td><td>328                         </td><td>152                         </td></tr>\n",
       "\t<tr><th scope=row>15</th><td>15                    </td><td>Cirrhosis of the liver</td><td>19                    </td><td>17                    </td><td>2723                  </td><td>4                     </td><td>2133                  </td><td>211                   </td><td>267                   </td><td>152                   </td></tr>\n",
       "\t<tr><th scope=row>16</th><td>16                                   </td><td>Digestive diseases (except cirrhosis)</td><td>24                                   </td><td>28                                   </td><td>2703                                 </td><td>8                                    </td><td>2129                                 </td><td>199                                  </td><td>289                                  </td><td>146                                  </td></tr>\n",
       "\t<tr><th scope=row>17</th><td>17                    </td><td>Neurological disorders</td><td>79                    </td><td>40                    </td><td>2630                  </td><td>14                    </td><td>2060                  </td><td>211                   </td><td>339                   </td><td>153                   </td></tr>\n",
       "\t<tr><th scope=row>18</th><td>18                             </td><td>Mental and behavioral disorders</td><td>134                            </td><td>33                             </td><td>2587                           </td><td>9                              </td><td>2014                           </td><td>198                            </td><td>402                            </td><td>149                            </td></tr>\n",
       "\t<tr><th scope=row>19</th><td>19                                             </td><td>Diabetes, urinary diseases and male infertility</td><td>196                                            </td><td>63                                             </td><td>2458                                           </td><td>46                                             </td><td>1930                                           </td><td>213                                            </td><td>473                                            </td><td>147                                            </td></tr>\n",
       "\t<tr><th scope=row>20</th><td>20                    </td><td>Gynecological diseases</td><td>9                     </td><td>8                     </td><td>2744                  </td><td>2                     </td><td>2146                  </td><td>206                   </td><td>262                   </td><td>149                   </td></tr>\n",
       "\t<tr><th scope=row>21</th><td>21                                      </td><td>Hemoglobinopathies and hemolytic anemias</td><td>10                                      </td><td>4                                       </td><td>2743                                    </td><td>6                                       </td><td>2143                                    </td><td>203                                     </td><td>270                                     </td><td>147                                     </td></tr>\n",
       "\t<tr><th scope=row>22</th><td>22                       </td><td>Musculoskeletal disorders</td><td>100                      </td><td>40                       </td><td>2610                     </td><td>13                       </td><td>2046                     </td><td>188                      </td><td>382                      </td><td>147                      </td></tr>\n",
       "\t<tr><th scope=row>23</th><td>23                  </td><td>Congenital anomalies</td><td>22                  </td><td>34                  </td><td>2706                </td><td>1                   </td><td>2121                </td><td>205                 </td><td>275                 </td><td>162                 </td></tr>\n",
       "\t<tr><th scope=row>24</th><td>24                            </td><td>Skin and subcutaneous diseases</td><td>18                            </td><td>24                            </td><td>2717                          </td><td>4                             </td><td>2134                          </td><td>198                           </td><td>281                           </td><td>150                           </td></tr>\n",
       "\t<tr><th scope=row>25</th><td>25                  </td><td>Sense organ diseases</td><td>52                  </td><td>40                  </td><td>2667                </td><td>4                   </td><td>2085                </td><td>190                 </td><td>322                 </td><td>166                 </td></tr>\n",
       "\t<tr><th scope=row>26</th><td>26            </td><td>Oral disorders</td><td>3             </td><td>4             </td><td>2751          </td><td>5             </td><td>2150          </td><td>207           </td><td>258           </td><td>148           </td></tr>\n",
       "\t<tr><th scope=row>27</th><td>27                          </td><td>Sudden infant death syndrome</td><td>0                           </td><td>0                           </td><td>2763                        </td><td>0                           </td><td>2156                        </td><td>203                         </td><td>254                         </td><td>150                         </td></tr>\n",
       "</tbody>\n",
       "</table>\n"
      ],
      "text/latex": [
       "\\begin{tabular}{r|llllllllll}\n",
       "  & dis & GBD & TP\\_Dis & FP\\_Dis & TN\\_Dis & FN\\_Dis & TP\\_Oth & FP\\_Oth & TN\\_Oth & FN\\_Oth\\\\\n",
       "\\hline\n",
       "\t1 & 1            & Tuberculosis & 14           & 2            & 2745         & 2            & 2142         & 204          & 267          & 150         \\\\\n",
       "\t2 & 2        & HIV/AIDS & 86       & 7        & 2659     & 11       & 2072     & 214      & 333      & 144     \\\\\n",
       "\t3 & 3                                                                                        & Diarrhea, lower respiratory infections, meningitis, and other common infectious diseases & 40                                                                                       & 21                                                                                       & 2693                                                                                     & 9                                                                                        & 2113                                                                                     & 207                                                                                      & 299                                                                                      & 144                                                                                     \\\\\n",
       "\t4 & 4       & Malaria & 14      & 1       & 2748    & 0       & 2142    & 204     & 267     & 150    \\\\\n",
       "\t5 & 5                                             & Neglected tropical diseases excluding malaria & 6                                             & 0                                             & 2756                                          & 1                                             & 2150                                          & 203                                           & 261                                           & 149                                          \\\\\n",
       "\t6 & 6                  & Maternal disorders & 17                 & 5                  & 2715               & 26                 & 2130               & 210                & 289                & 134               \\\\\n",
       "\t7 & 7                  & Neonatal disorders & 4                  & 7                  & 2746               & 6                  & 2148               & 205                & 262                & 148               \\\\\n",
       "\t8 & 8                        & Nutritional deficiencies & 11                       & 15                       & 2732                     & 5                        & 2140                     & 201                      & 272                      & 150                     \\\\\n",
       "\t9 & 9                                           & Sexually transmitted diseases excluding HIV & 0                                           & 3                                           & 2759                                        & 1                                           & 2155                                        & 203                                         & 255                                         & 150                                        \\\\\n",
       "\t10 & 10        & Hepatitis & 14        & 4         & 2742      & 3         & 2141      & 208       & 262       & 152      \\\\\n",
       "\t11 & 11      & Leprosy & 2       & 1       & 2760    & 0       & 2154    & 203     & 256     & 150    \\\\\n",
       "\t12 & 12        & Neoplasms & 933       & 42        & 1763      & 25        & 1213      & 214       & 1198      & 138      \\\\\n",
       "\t13 & 13                                      & Cardiovascular and circulatory diseases & 178                                     & 60                                      & 2468                                    & 57                                      & 1951                                    & 217                                     & 466                                     & 129                                    \\\\\n",
       "\t14 & 14                           & Chronic respiratory diseases & 76                           & 17                           & 2665                         & 5                            & 2074                         & 209                          & 328                          & 152                         \\\\\n",
       "\t15 & 15                     & Cirrhosis of the liver & 19                     & 17                     & 2723                   & 4                      & 2133                   & 211                    & 267                    & 152                   \\\\\n",
       "\t16 & 16                                    & Digestive diseases (except cirrhosis) & 24                                    & 28                                    & 2703                                  & 8                                     & 2129                                  & 199                                   & 289                                   & 146                                  \\\\\n",
       "\t17 & 17                     & Neurological disorders & 79                     & 40                     & 2630                   & 14                     & 2060                   & 211                    & 339                    & 153                   \\\\\n",
       "\t18 & 18                              & Mental and behavioral disorders & 134                             & 33                              & 2587                            & 9                               & 2014                            & 198                             & 402                             & 149                            \\\\\n",
       "\t19 & 19                                              & Diabetes, urinary diseases and male infertility & 196                                             & 63                                              & 2458                                            & 46                                              & 1930                                            & 213                                             & 473                                             & 147                                            \\\\\n",
       "\t20 & 20                     & Gynecological diseases & 9                      & 8                      & 2744                   & 2                      & 2146                   & 206                    & 262                    & 149                   \\\\\n",
       "\t21 & 21                                       & Hemoglobinopathies and hemolytic anemias & 10                                       & 4                                        & 2743                                     & 6                                        & 2143                                     & 203                                      & 270                                      & 147                                     \\\\\n",
       "\t22 & 22                        & Musculoskeletal disorders & 100                       & 40                        & 2610                      & 13                        & 2046                      & 188                       & 382                       & 147                      \\\\\n",
       "\t23 & 23                   & Congenital anomalies & 22                   & 34                   & 2706                 & 1                    & 2121                 & 205                  & 275                  & 162                 \\\\\n",
       "\t24 & 24                             & Skin and subcutaneous diseases & 18                             & 24                             & 2717                           & 4                              & 2134                           & 198                            & 281                            & 150                           \\\\\n",
       "\t25 & 25                   & Sense organ diseases & 52                   & 40                   & 2667                 & 4                    & 2085                 & 190                  & 322                  & 166                 \\\\\n",
       "\t26 & 26             & Oral disorders & 3              & 4              & 2751           & 5              & 2150           & 207            & 258            & 148           \\\\\n",
       "\t27 & 27                           & Sudden infant death syndrome & 0                            & 0                            & 2763                         & 0                            & 2156                         & 203                          & 254                          & 150                         \\\\\n",
       "\\end{tabular}\n"
      ],
      "text/plain": [
       "   dis\n",
       "1    1\n",
       "2    2\n",
       "3    3\n",
       "4    4\n",
       "5    5\n",
       "6    6\n",
       "7    7\n",
       "8    8\n",
       "9    9\n",
       "10  10\n",
       "11  11\n",
       "12  12\n",
       "13  13\n",
       "14  14\n",
       "15  15\n",
       "16  16\n",
       "17  17\n",
       "18  18\n",
       "19  19\n",
       "20  20\n",
       "21  21\n",
       "22  22\n",
       "23  23\n",
       "24  24\n",
       "25  25\n",
       "26  26\n",
       "27  27\n",
       "                                                                                        GBD\n",
       "1                                                                              Tuberculosis\n",
       "2                                                                                  HIV/AIDS\n",
       "3  Diarrhea, lower respiratory infections, meningitis, and other common infectious diseases\n",
       "4                                                                                   Malaria\n",
       "5                                             Neglected tropical diseases excluding malaria\n",
       "6                                                                        Maternal disorders\n",
       "7                                                                        Neonatal disorders\n",
       "8                                                                  Nutritional deficiencies\n",
       "9                                               Sexually transmitted diseases excluding HIV\n",
       "10                                                                                Hepatitis\n",
       "11                                                                                  Leprosy\n",
       "12                                                                                Neoplasms\n",
       "13                                                  Cardiovascular and circulatory diseases\n",
       "14                                                             Chronic respiratory diseases\n",
       "15                                                                   Cirrhosis of the liver\n",
       "16                                                    Digestive diseases (except cirrhosis)\n",
       "17                                                                   Neurological disorders\n",
       "18                                                          Mental and behavioral disorders\n",
       "19                                          Diabetes, urinary diseases and male infertility\n",
       "20                                                                   Gynecological diseases\n",
       "21                                                 Hemoglobinopathies and hemolytic anemias\n",
       "22                                                                Musculoskeletal disorders\n",
       "23                                                                     Congenital anomalies\n",
       "24                                                           Skin and subcutaneous diseases\n",
       "25                                                                     Sense organ diseases\n",
       "26                                                                           Oral disorders\n",
       "27                                                             Sudden infant death syndrome\n",
       "   TP_Dis FP_Dis TN_Dis FN_Dis TP_Oth FP_Oth TN_Oth FN_Oth\n",
       "1      14      2   2745      2   2142    204    267    150\n",
       "2      86      7   2659     11   2072    214    333    144\n",
       "3      40     21   2693      9   2113    207    299    144\n",
       "4      14      1   2748      0   2142    204    267    150\n",
       "5       6      0   2756      1   2150    203    261    149\n",
       "6      17      5   2715     26   2130    210    289    134\n",
       "7       4      7   2746      6   2148    205    262    148\n",
       "8      11     15   2732      5   2140    201    272    150\n",
       "9       0      3   2759      1   2155    203    255    150\n",
       "10     14      4   2742      3   2141    208    262    152\n",
       "11      2      1   2760      0   2154    203    256    150\n",
       "12    933     42   1763     25   1213    214   1198    138\n",
       "13    178     60   2468     57   1951    217    466    129\n",
       "14     76     17   2665      5   2074    209    328    152\n",
       "15     19     17   2723      4   2133    211    267    152\n",
       "16     24     28   2703      8   2129    199    289    146\n",
       "17     79     40   2630     14   2060    211    339    153\n",
       "18    134     33   2587      9   2014    198    402    149\n",
       "19    196     63   2458     46   1930    213    473    147\n",
       "20      9      8   2744      2   2146    206    262    149\n",
       "21     10      4   2743      6   2143    203    270    147\n",
       "22    100     40   2610     13   2046    188    382    147\n",
       "23     22     34   2706      1   2121    205    275    162\n",
       "24     18     24   2717      4   2134    198    281    150\n",
       "25     52     40   2667      4   2085    190    322    166\n",
       "26      3      4   2751      5   2150    207    258    148\n",
       "27      0      0   2763      0   2156    203    254    150"
      ]
     },
     "metadata": {},
     "output_type": "display_data"
    }
   ],
   "source": [
    "PERF_F"
   ]
  },
  {
   "cell_type": "code",
   "execution_count": 11,
   "metadata": {
    "collapsed": false
   },
   "outputs": [],
   "source": [
    "write.csv(PERF_F,'Tables/Performances_per_27disease_data.csv')"
   ]
  },
  {
   "cell_type": "markdown",
   "metadata": {},
   "source": [
    "## 2. Simulating correction of misclassification"
   ]
  },
  {
   "cell_type": "code",
   "execution_count": 12,
   "metadata": {
    "collapsed": false
   },
   "outputs": [],
   "source": [
    "data <- read.table('/media/igna/Elements/HotelDieu/Cochrane/Mapping_Cancer/Flowchart/database_all_diseases_final_ok.txt')\n",
    "N <- nrow(data)"
   ]
  },
  {
   "cell_type": "code",
   "execution_count": 13,
   "metadata": {
    "collapsed": false
   },
   "outputs": [],
   "source": [
    "regs <- sort(unique(unlist(strsplit(as.character(data$Regions),\"&\"))))\n",
    "LR <- lapply(regs,function(x){1:nrow(data)%in%grep(x,data$Regions)})\n",
    "LR <- do.call('cbind',LR)"
   ]
  },
  {
   "cell_type": "code",
   "execution_count": 14,
   "metadata": {
    "collapsed": true
   },
   "outputs": [],
   "source": [
    "Lgbd <- lapply(as.character(data$GBD28),function(x){as.numeric(unlist(strsplit(x,\"&\")))})\n",
    "Lgbd <- lapply(Lgbd,function(x){x[x!=28]})"
   ]
  },
  {
   "cell_type": "code",
   "execution_count": 15,
   "metadata": {
    "collapsed": true
   },
   "outputs": [],
   "source": [
    "PERF <- read.csv('Tables/Performances_per_27disease_data.csv')"
   ]
  },
  {
   "cell_type": "code",
   "execution_count": 16,
   "metadata": {
    "collapsed": false
   },
   "outputs": [],
   "source": [
    "#For all diseases, we will simulate the mapping across regions of trials concerning\n",
    "#the disease or concerning other diseases\n",
    "dis <- 1:27"
   ]
  },
  {
   "cell_type": "code",
   "execution_count": 17,
   "metadata": {
    "collapsed": true
   },
   "outputs": [],
   "source": [
    "#NK <- 60000\n",
    "NK <- 5000\n",
    "set.seed(7212)"
   ]
  },
  {
   "cell_type": "code",
   "execution_count": 18,
   "metadata": {
    "collapsed": false,
    "scrolled": false
   },
   "outputs": [
    {
     "name": "stdout",
     "output_type": "stream",
     "text": [
      "[1] \"1 has 50 case 1 false iterations which were suppressed\"\n",
      "[1] \"1 has 50 suppressed false iterations\"\n",
      "[1] \"2 has 0 suppressed false iterations\"\n",
      "[1] \"3 has 0 suppressed false iterations\"\n",
      "[1] \"4 has 0 suppressed false iterations\"\n",
      "[1] \"5 has 0 suppressed false iterations\"\n",
      "[1] \"6 has 0 suppressed false iterations\"\n",
      "[1] \"7 has 1 case 1 false iterations which were suppressed\"\n",
      "[1] \"7 has 1 suppressed false iterations\"\n",
      "[1] \"8 has 0 suppressed false iterations\"\n",
      "[1] \"9 has 515 case 1 false iterations which were suppressed\"\n",
      "[1] \"9 has 8 case 2 false iterations for which we fixed PPV_dis = 1\"\n",
      "[1] \"9 has 515 (too many) suppressed false iterations\"\n",
      "[1] \"10 has 1 case 1 false iterations which were suppressed\"\n",
      "[1] \"10 has 1 suppressed false iterations\"\n",
      "[1] \"11 has 1535 case 1 false iterations which were suppressed\"\n",
      "[1] \"11 has 1535 (too many) suppressed false iterations\"\n",
      "[1] \"12 has 0 suppressed false iterations\"\n",
      "[1] \"13 has 0 suppressed false iterations\"\n",
      "[1] \"14 has 0 suppressed false iterations\"\n",
      "[1] \"15 has 1 case 1 false iterations which were suppressed\"\n",
      "[1] \"15 has 1 suppressed false iterations\"\n",
      "[1] \"16 has 0 suppressed false iterations\"\n",
      "[1] \"17 has 0 suppressed false iterations\"\n",
      "[1] \"18 has 0 suppressed false iterations\"\n",
      "[1] \"19 has 0 suppressed false iterations\"\n",
      "[1] \"20 has 0 suppressed false iterations\"\n",
      "[1] \"21 has 1698 case 1 false iterations which were suppressed\"\n",
      "[1] \"21 has 1698 (too many) suppressed false iterations\"\n",
      "[1] \"22 has 0 suppressed false iterations\"\n",
      "[1] \"23 has 667 case 1 false iterations which were suppressed\"\n",
      "[1] \"23 has 667 (too many) suppressed false iterations\"\n",
      "[1] \"24 has 0 suppressed false iterations\"\n",
      "[1] \"25 has 0 suppressed false iterations\"\n",
      "[1] \"26 has 0 suppressed false iterations\"\n",
      "[1] \"27 has 4623 case 1 false iterations which were suppressed\"\n",
      "[1] \"27 has 2 case 2 false iterations for which we fixed PPV_dis = 1\"\n",
      "[1] \"27 has 4623 (too many) suppressed false iterations\"\n",
      "    user   system  elapsed \n",
      "9624.131    7.101 9645.168 \n"
     ]
    },
    {
     "data": {
      "text/plain": [
       "     user    system   elapsed \n",
       "160.40218   0.11835 160.75280 "
      ]
     },
     "metadata": {},
     "output_type": "display_data"
    }
   ],
   "source": [
    "#For each disease\n",
    "t0 <- proc.time()\n",
    "\n",
    "for(g in dis){\n",
    "\n",
    "    PERF_g <- PERF[PERF$dis==g,]\n",
    "    \n",
    "    #which trials concern the disease\n",
    "    is_dis <- sapply(Lgbd,function(x){g%in%x})\n",
    "    #which trials concern another disease\n",
    "    is_oth <- sapply(Lgbd,function(x){sum(setdiff(1:27,g)%in%x)>0})\n",
    "\n",
    "    #PPV et NPVs for finding the disease\n",
    "    sens_r <- PERF_g$TP_Dis\n",
    "    sens_n <- PERF_g$TP_Dis + PERF_g$FN_Dis\n",
    "    spec_r <- PERF_g$TN_Dis\n",
    "    spec_n <- PERF_g$TN_Dis + PERF_g$FP_Dis\n",
    "    sens <- rbeta(NK,sens_r+1,sens_n-sens_r+1)\n",
    "    spec <- rbeta(NK,spec_r+1,spec_n-spec_r+1)\n",
    "\n",
    "    a_dis <- sum(is_dis)\n",
    "    b_dis <- N-a_dis\n",
    "    As <- (a_dis-(1-spec)*N)/(sens - (1-spec))\n",
    "    Bs <- N-As\n",
    "    T1 <- sens*As\n",
    "    T0 <- spec*Bs\n",
    "    F1 <- (1-spec)*Bs\n",
    "    F0 <- (1-sens)*As\n",
    "    PPV_dis <- T1/(T1+F1)\n",
    "    NPV_dis <- T0/(T0+F0)\n",
    "\n",
    "    #PPV and NPVs for finding another disease\n",
    "    sens_r <- PERF_g$TP_Oth\n",
    "    sens_n <- PERF_g$TP_Oth + PERF_g$FN_Oth\n",
    "    spec_r <- PERF_g$TN_Oth\n",
    "    spec_n <- PERF_g$TN_Oth + PERF_g$FP_Oth\n",
    "    sens <- rbeta(NK,sens_r+1,sens_n-sens_r+1)\n",
    "    spec <- rbeta(NK,spec_r+1,spec_n-spec_r+1)\n",
    "\n",
    "    a_oth <- sum(is_oth)\n",
    "    b_oth <- N-a_oth\n",
    "    As <- (a_oth-(1-spec)*N)/(sens - (1-spec))\n",
    "    Bs <- N-As\n",
    "    T1 <- sens*As\n",
    "    T0 <- spec*Bs\n",
    "    F1 <- (1-spec)*Bs\n",
    "    F0 <- (1-sens)*As\n",
    "    PPV_oth <- T1/(T1+F1)\n",
    "    NPV_oth <- T0/(T0+F0)\n",
    "\n",
    "    #Some values of sens and spec may lead to impossible values of PPV or NPV (>1 or <0)\n",
    "    #Depending on the case we will either suppress the iteration, either fix PPVs and NPVs to 0 or 1\n",
    "    #The decision is made to be the most conservative as possible regarding our objective of \n",
    "    #upper-bounding the number and local proportion of RCTs concerning a disease in a region\n",
    "\n",
    "    #Case 1: PPV_dis < 0 (and NPV_dis > 1), sens_dis and spec_dis are such that expected value\n",
    "        #of nb_trials concerning disease is negative. Suppressing that iteration is conservative\n",
    "        #in regard of our objective, while fixing PPV_dis = 0 is not conservative, as we fix the number\n",
    "        #of RCTs concerning the disease equal to 0 in all regions\n",
    "    case1 <- PPV_dis<0 | NPV_dis>1 \n",
    "    if(sum(case1>0)) print(paste(c(g,\"has\",sum(case1),\"case 1 false iterations which were suppressed\"),collapse=\" \"))\n",
    "\n",
    "    #Case 2: PPV_dis > 1 (and NPV_dis < 0), sens_dis and spec_dis are such that expected value\n",
    "        #of nb_trials concerning disease is higher than the total number of trials. Suppressing that iteration is \n",
    "        #not conservative in regard of our objective, as an iteration giving a maximal number and proportion\n",
    "        #of RCTs will be suppressed, while fixing PPV_dis = 1 and NPV_dis = 0 (ie nb trials dis = N) \n",
    "        #is conservative\n",
    "    case2 <- PPV_dis>1 | NPV_dis<0 \n",
    "    if(sum(case2>0)) print(paste(c(g,\"has\",sum(case2),\"case 2 false iterations for which we fixed PPV_dis = 1\"),collapse=\" \"))\n",
    "        \n",
    "    #Case 3: If PPV_oth < 0 (and NPV_oth > 1), sens_oth and spec_oth are such that the expected value\n",
    "        #of nb_trials concerning other diseases is negative. Suppressing that iteration is not conservative\n",
    "        #in regard of our objective, as that iteration would give that all trials concerning the burden of\n",
    "        #diseases concern the disease of interest. We fixed PPV_oth = 0 and NPV_oth = 1\n",
    "    case3 <- PPV_oth<0 | NPV_oth>1 \n",
    "    if(sum(case3>0)) print(paste(c(g,\"has\",sum(case3),\"case 3 false iterations for which we fixed PPV_oth = 0\"),collapse=\" \"))\n",
    "\n",
    "    #Case 4: PPV_oth > 1 (and NPV_oth < 0), sens_oth and spec_oth are such that expected value\n",
    "        #of nb_trials concerning other diseases is higher than the total number of trials. \n",
    "        #Suppressing that iteration is conservative in regard of our objective, while fixing PPV_oth = 1\n",
    "        #is not conservative, as we fix the number of RCTs concerning other diseases to be maximal, so the proportion\n",
    "        #of RCTs concerning the disease among all RCTs concerning the burden is minimized\n",
    "    case4 <- PPV_oth>1 | NPV_oth<0 \n",
    "    if(sum(case4>0)) print(paste(c(g,\"has\",sum(case4),\"case 4 false iterations which were suppressed\"),collapse=\" \"))\n",
    "\n",
    "    #If the number of suppressed iteration is higher than 10% of the total number of iterations, we skip\n",
    "    #the disease\n",
    "    if(sum(case1 | case4)>0.1*NK){ print(paste(c(g,\n",
    "                                                     \"has\", \n",
    "                                                     sum(case1 | case4), \n",
    "                                                     \"(too many) suppressed false iterations\"\n",
    "                                                    ),collapse=\" \"))\n",
    "#                          next\n",
    "                          }\n",
    "    \n",
    "    else print(paste(c(g,\"has\",sum(case1 | case4),\"suppressed false iterations\"\n",
    "                                                    ),collapse=\" \"))  \n",
    "\n",
    "    PPV_dis[case2] <- 1\n",
    "    NPV_dis[case2] <- 0\n",
    "    PPV_oth[case3] <- 0\n",
    "    NPV_oth[case3] <- 1\n",
    "    PPV_dis <- PPV_dis[!(case1 | case4)]\n",
    "    NPV_dis <- NPV_dis[!(case1 | case4)]\n",
    "    PPV_oth <- PPV_oth[!(case1 | case4)]\n",
    "    NPV_oth <- NPV_oth[!(case1 | case4)]\n",
    "\n",
    "    L <- list()\n",
    "    #Simulation: reclassifying each trial\n",
    "        for(k in 1:length(PPV_dis)){\n",
    "\n",
    "            AR <- matrix(0, nrow=length(regs), ncol=2)\n",
    "            tp_dis <- runif(a_dis)\n",
    "            tn_dis <- runif(b_dis)\n",
    "            recl_dis <- is_dis\n",
    "            recl_dis[recl_dis==TRUE][tp_dis>PPV_dis[k]] <- FALSE\n",
    "            recl_dis[recl_dis==FALSE][tn_dis>NPV_dis[k]] <- TRUE\n",
    "            #Rq: we count all trials (even those with more than 3 diseases)\n",
    "            #it is a conservative choice\n",
    "            rt <- as.numeric(recl_dis)\n",
    "\n",
    "            if(sum(recl_dis)==0) AR[,1] <- c(rep(0,7))\n",
    "            else{   if(sum(recl_dis)==1) AR[,1] <- as.numeric(LR[recl_dis,])\n",
    "                    else AR[,1] <- apply(LR[recl_dis,],2,sum)\n",
    "            }\n",
    "                \n",
    "            #Oth_dis\n",
    "            tp_oth <- runif(a_oth)\n",
    "            tn_oth <- runif(b_oth)\n",
    "            recl_oth <- is_oth\n",
    "            recl_oth[recl_oth==TRUE][tp_oth>PPV_oth[k]] <- FALSE\n",
    "            recl_oth[recl_oth==FALSE][tn_oth>NPV_oth[k]] <- TRUE\n",
    "            rt <- rt + as.numeric(recl_oth)\n",
    "\n",
    "            if(sum(recl_oth)==0) AR[,2] <- c(rep(0,7))\n",
    "            else{    if(sum(recl_oth)==1) AR[,2] <- as.numeric(LR[recl_oth,])\n",
    "                     else AR[,2] <- apply(LR[rt!=0,],2,sum)\n",
    "            }\n",
    "\n",
    "            L[[k]] <- AR\n",
    "\n",
    "        }\n",
    "   \n",
    "    T <- do.call('rbind',L)\n",
    "    write.table(T,paste(c(\"/media/igna/Elements/HotelDieu/Cochrane/Mapping_Cancer/Incertitude_mapping/Simulations/Total_simulation_\",as.character(PERF_g$dis),\".txt\"),collapse=\"\"))\n",
    "\n",
    "}\n",
    "\n",
    "t1 <- proc.time()\n",
    "    \n",
    "print(t1-t0)/60"
   ]
  },
  {
   "cell_type": "code",
   "execution_count": 19,
   "metadata": {
    "collapsed": false
   },
   "outputs": [
    {
     "data": {
      "text/html": [
       "5.33333333333333"
      ],
      "text/latex": [
       "5.33333333333333"
      ],
      "text/markdown": [
       "5.33333333333333"
      ],
      "text/plain": [
       "[1] 5.333333"
      ]
     },
     "metadata": {},
     "output_type": "display_data"
    }
   ],
   "source": [
    "160*2/60"
   ]
  },
  {
   "cell_type": "markdown",
   "metadata": {},
   "source": [
    "For 10,000 simulations it will take 5.3h approx"
   ]
  },
  {
   "cell_type": "markdown",
   "metadata": {},
   "source": [
    "## 3. Deriving 95% upper bound simulation intervals\n",
    "For the number of RCTs concerning each disease in each region, and the local proportion of RCTs for each disease in each region"
   ]
  },
  {
   "cell_type": "code",
   "execution_count": 31,
   "metadata": {
    "collapsed": false
   },
   "outputs": [],
   "source": [
    "Mgbd <- read.table(\"/home/igna/Desktop/Programs GBD/Classifier_Trial_GBD/Databases/Taxonomy_DL/GBD_data/GBD_ICD.txt\")"
   ]
  },
  {
   "cell_type": "code",
   "execution_count": 32,
   "metadata": {
    "collapsed": true
   },
   "outputs": [],
   "source": [
    "#We supress injuries\n",
    "Mgbd <- Mgbd[-28,]"
   ]
  },
  {
   "cell_type": "code",
   "execution_count": 26,
   "metadata": {
    "collapsed": true
   },
   "outputs": [],
   "source": [
    "GBD <- read.table(\"/media/igna/Elements/HotelDieu/Cochrane/Mapping_Cancer/Tables/GBD_data_per_region_and_27_diseases_2005.txt\")"
   ]
  },
  {
   "cell_type": "code",
   "execution_count": 22,
   "metadata": {
    "collapsed": true
   },
   "outputs": [],
   "source": [
    "dis <- 1:27"
   ]
  },
  {
   "cell_type": "code",
   "execution_count": 28,
   "metadata": {
    "collapsed": true
   },
   "outputs": [],
   "source": [
    "regs <- names(GBD)[1:7]"
   ]
  },
  {
   "cell_type": "code",
   "execution_count": 49,
   "metadata": {
    "collapsed": true
   },
   "outputs": [],
   "source": [
    "SM <- data.frame(Region = rep(regs,each=nrow(Mgbd)),\n",
    "                Disease = rep(Mgbd$cause_name,times=length(regs)))"
   ]
  },
  {
   "cell_type": "code",
   "execution_count": 50,
   "metadata": {
    "collapsed": true
   },
   "outputs": [],
   "source": [
    "SM$SimMn_NbRCTs <- NA\n",
    "SM$Sim95_NbRCTs <- NA\n",
    "SM$SimMn_PrRCTs <- NA\n",
    "SM$Sim95_PrRCTs <- NA"
   ]
  },
  {
   "cell_type": "code",
   "execution_count": 51,
   "metadata": {
    "collapsed": false
   },
   "outputs": [],
   "source": [
    "for(g in dis){\n",
    "\n",
    "    T <- tryCatch(read.table(paste(c(\"/media/igna/Elements/HotelDieu/Cochrane/Mapping_Cancer/Incertitude_mapping/Simulations/Total_simulation_\",\n",
    "                            as.character(g),\".txt\"),collapse=\"\")),error=NULL)\n",
    "\n",
    "    if(length(T)!=0){\n",
    "\n",
    "        #Mean and 95% upper-bound number of RCTs by simulation\n",
    "        M <- matrix(T[,1],ncol=7,byrow=TRUE)\n",
    "        SM$Sim95_NbRCTs[SM$Disease==Mgbd$cause_name[g]] <- apply(M,2,function(x){quantile(x,0.95)})\n",
    "        SM$SimMn_NbRCTs[SM$Disease==Mgbd$cause_name[g]] <- apply(M,2,mean)\n",
    "\n",
    "        #Mean and 95% upper-bound proportion of RCTs by simulation\n",
    "        M <- matrix(T[,1]/T[,2],ncol=7,byrow=TRUE)\n",
    "        SM$Sim95_PrRCTs[SM$Disease==Mgbd$cause_name[g]] <- apply(M,2,function(x){quantile(x,0.95)})\n",
    "        SM$SimMn_PrRCTs[SM$Disease==Mgbd$cause_name[g]] <- apply(M,2,mean)\n",
    "        \n",
    "    }   \n",
    "}"
   ]
  },
  {
   "cell_type": "code",
   "execution_count": 54,
   "metadata": {
    "collapsed": true
   },
   "outputs": [],
   "source": [
    "write.table(SM,'Data/Simulations_Alldis_NbProp_Mn95_RCTs.txt')"
   ]
  }
 ],
 "metadata": {
  "kernelspec": {
   "display_name": "R",
   "language": "R",
   "name": "ir"
  },
  "language_info": {
   "codemirror_mode": "r",
   "file_extension": ".r",
   "mimetype": "text/x-r-source",
   "name": "R",
   "pygments_lexer": "r",
   "version": "3.3.1"
  }
 },
 "nbformat": 4,
 "nbformat_minor": 1
}
