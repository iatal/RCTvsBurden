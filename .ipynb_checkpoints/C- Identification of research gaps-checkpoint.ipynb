{
 "cells": [
  {
   "cell_type": "markdown",
   "metadata": {},
   "source": [
    "# Identification of gaps between effort research and health needs\n",
    "\n",
    "We will upload data with number of RCTs per region per disease, and number of DALYs per region per disease"
   ]
  },
  {
   "cell_type": "code",
   "execution_count": 1,
   "metadata": {
    "collapsed": false
   },
   "outputs": [],
   "source": [
    "GBD <- read.table(\"/media/igna/Elements/HotelDieu/Cochrane/Mapping_Cancer/Tables/GBD_data_per_region_and_27_diseases_2005.txt\")\n",
    "RCT <- read.table(\"/media/igna/Elements/HotelDieu/Cochrane/Mapping_Cancer/Tables/RCTs_data_per_region_and_27_diseases_2005_2015.txt\")\n",
    "RCT <- RCT[order(rownames(RCT)),]"
   ]
  },
  {
   "cell_type": "markdown",
   "metadata": {},
   "source": [
    "### Gaps across regions"
   ]
  },
  {
   "cell_type": "code",
   "execution_count": 2,
   "metadata": {
    "collapsed": false
   },
   "outputs": [],
   "source": [
    "#Across regions\n",
    "#Number and Proportion of RCTs vs proportion of burden across regions\n",
    "\n",
    "D <- data.frame(\n",
    "    t(rbind(RCT[rownames(RCT)==\"Tot\",-ncol(RCT)],\n",
    "      100*RCT[rownames(RCT)==\"Tot\",-ncol(RCT)]/RCT$Tot[rownames(RCT)==\"Tot\"],\n",
    "      apply(GBD[-(ncol(GBD)-0:1)],2,sum)/1e6,\n",
    "      100*apply(GBD[-(ncol(GBD)-0:1)],2,sum)/sum(GBD$Tot))))\n",
    "\n",
    "names(D) <- c(\"RCTs\",\"Prop_RCTs\",\"GBD\",\"Prop_GBD\")"
   ]
  },
  {
   "cell_type": "code",
   "execution_count": 3,
   "metadata": {
    "collapsed": false
   },
   "outputs": [],
   "source": [
    "#RCTs per million DALYs\n",
    "D$RCTs_per_MDALYs <- D$RCTs/D$GBD"
   ]
  },
  {
   "cell_type": "code",
   "execution_count": 4,
   "metadata": {
    "collapsed": false
   },
   "outputs": [],
   "source": [
    "#Table for print\n",
    "Dregs <- D"
   ]
  },
  {
   "cell_type": "code",
   "execution_count": 5,
   "metadata": {
    "collapsed": false
   },
   "outputs": [],
   "source": [
    "Dregs[,c(2,4,5)] <- round(Dregs[,c(2,4,5)],1)\n",
    "Dregs[,c(1,3)] <- round(Dregs[,c(1,3)],0)"
   ]
  },
  {
   "cell_type": "code",
   "execution_count": 6,
   "metadata": {
    "collapsed": false,
    "scrolled": true
   },
   "outputs": [],
   "source": [
    "Dregs <- Dregs[order(Dregs$RCTs_per,decreasing=TRUE),]"
   ]
  },
  {
   "cell_type": "code",
   "execution_count": 7,
   "metadata": {
    "collapsed": true
   },
   "outputs": [],
   "source": [
    "Dregs$RCTs <- paste(Dregs$RCTs,\" (\",Dregs$Prop_RCTs,\"%)\",sep=\"\")\n",
    "Dregs$GBD <- paste(Dregs$GBD,\" (\",Dregs$Prop_GBD,\"%)\",sep=\"\")"
   ]
  },
  {
   "cell_type": "code",
   "execution_count": 8,
   "metadata": {
    "collapsed": true
   },
   "outputs": [],
   "source": [
    "Dregs <- Dregs[,-c(2,4)]"
   ]
  },
  {
   "cell_type": "code",
   "execution_count": 9,
   "metadata": {
    "collapsed": false
   },
   "outputs": [
    {
     "data": {
      "text/html": [
       "<table>\n",
       "<thead><tr><th></th><th scope=col>RCTs</th><th scope=col>GBD</th><th scope=col>RCTs_per_MDALYs</th></tr></thead>\n",
       "<tbody>\n",
       "\t<tr><th scope=row>High.income</th><td>67659 (73.8%)</td><td>232 (10.4%)  </td><td>292.2        </td></tr>\n",
       "\t<tr><th scope=row>North.Africa.and.Middle.East</th><td>8683 (9.5%)</td><td>102 (4.6%) </td><td>84.9       </td></tr>\n",
       "\t<tr><th scope=row>Central.Europe..Eastern.Europe..and.Central.Asia</th><td>6998 (7.6%)</td><td>152 (6.8%) </td><td>46.2       </td></tr>\n",
       "\t<tr><th scope=row>Latin.America.and.Caribbean</th><td>4766 (5.2%)</td><td>116 (5.2%) </td><td>41.3       </td></tr>\n",
       "\t<tr><th scope=row>Southeast.Asia..East.Asia.and.Oceania</th><td>9639 (10.5%)</td><td>461 (20.8%) </td><td>20.9        </td></tr>\n",
       "\t<tr><th scope=row>South.Asia</th><td>4848 (5.3%)</td><td>611 (27.5%)</td><td>7.9        </td></tr>\n",
       "\t<tr><th scope=row>Sub.Saharian.Africa</th><td>2585 (2.8%)</td><td>548 (24.7%)</td><td>4.7        </td></tr>\n",
       "</tbody>\n",
       "</table>\n"
      ],
      "text/latex": [
       "\\begin{tabular}{r|lll}\n",
       "  & RCTs & GBD & RCTs\\_per\\_MDALYs\\\\\n",
       "\\hline\n",
       "\tHigh.income & 67659 (73.8\\%) & 232 (10.4\\%)   & 292.2          \\\\\n",
       "\tNorth.Africa.and.Middle.East & 8683 (9.5\\%) & 102 (4.6\\%)  & 84.9         \\\\\n",
       "\tCentral.Europe..Eastern.Europe..and.Central.Asia & 6998 (7.6\\%) & 152 (6.8\\%)  & 46.2         \\\\\n",
       "\tLatin.America.and.Caribbean & 4766 (5.2\\%) & 116 (5.2\\%)  & 41.3         \\\\\n",
       "\tSoutheast.Asia..East.Asia.and.Oceania & 9639 (10.5\\%) & 461 (20.8\\%)  & 20.9          \\\\\n",
       "\tSouth.Asia & 4848 (5.3\\%) & 611 (27.5\\%) & 7.9          \\\\\n",
       "\tSub.Saharian.Africa & 2585 (2.8\\%) & 548 (24.7\\%) & 4.7          \\\\\n",
       "\\end{tabular}\n"
      ],
      "text/plain": [
       "                                                          RCTs         GBD\n",
       "High.income                                      67659 (73.8%) 232 (10.4%)\n",
       "North.Africa.and.Middle.East                       8683 (9.5%)  102 (4.6%)\n",
       "Central.Europe..Eastern.Europe..and.Central.Asia   6998 (7.6%)  152 (6.8%)\n",
       "Latin.America.and.Caribbean                        4766 (5.2%)  116 (5.2%)\n",
       "Southeast.Asia..East.Asia.and.Oceania             9639 (10.5%) 461 (20.8%)\n",
       "South.Asia                                         4848 (5.3%) 611 (27.5%)\n",
       "Sub.Saharian.Africa                                2585 (2.8%) 548 (24.7%)\n",
       "                                                 RCTs_per_MDALYs\n",
       "High.income                                                292.2\n",
       "North.Africa.and.Middle.East                                84.9\n",
       "Central.Europe..Eastern.Europe..and.Central.Asia            46.2\n",
       "Latin.America.and.Caribbean                                 41.3\n",
       "Southeast.Asia..East.Asia.and.Oceania                       20.9\n",
       "South.Asia                                                   7.9\n",
       "Sub.Saharian.Africa                                          4.7"
      ]
     },
     "metadata": {},
     "output_type": "display_data"
    }
   ],
   "source": [
    "Dregs"
   ]
  },
  {
   "cell_type": "code",
   "execution_count": 10,
   "metadata": {
    "collapsed": true
   },
   "outputs": [],
   "source": [
    "write.csv(Dregs,\"Tables/RCTs_vs_GBD_across_Regions.csv\")"
   ]
  },
  {
   "cell_type": "markdown",
   "metadata": {},
   "source": [
    "### Gaps across diseases\n",
    "Across diseases number and proportion of RCTs and GBD\n",
    "And RCTs per million DALYs"
   ]
  },
  {
   "cell_type": "code",
   "execution_count": 11,
   "metadata": {
    "collapsed": false
   },
   "outputs": [],
   "source": [
    "D <- data.frame(\n",
    "    t(rbind(RCT$Tot[rownames(RCT)!=\"Tot\"],\n",
    "      100*RCT$Tot[rownames(RCT)!=\"Tot\"]/RCT$Tot[rownames(RCT)==\"Tot\"],\n",
    "      GBD$Tot/1e6,\n",
    "      100*GBD$Tot/sum(GBD$Tot))))\n",
    "\n",
    "names(D) <- c(\"RCTs\",\"Prop_RCTs\",\"GBD\",\"Prop_GBD\")\n",
    "rownames(D) <- rownames(GBD)"
   ]
  },
  {
   "cell_type": "code",
   "execution_count": 12,
   "metadata": {
    "collapsed": true
   },
   "outputs": [],
   "source": [
    "D$RCTs_per_MDALYs <- D$RCTs/D$GBD"
   ]
  },
  {
   "cell_type": "code",
   "execution_count": 13,
   "metadata": {
    "collapsed": true
   },
   "outputs": [],
   "source": [
    "D <- D[order(D$GBD,decreasing=TRUE),]"
   ]
  },
  {
   "cell_type": "code",
   "execution_count": 14,
   "metadata": {
    "collapsed": true
   },
   "outputs": [],
   "source": [
    "#Table for print\n",
    "Ddis <- D"
   ]
  },
  {
   "cell_type": "code",
   "execution_count": 15,
   "metadata": {
    "collapsed": true
   },
   "outputs": [],
   "source": [
    "Ddis[,c(2,4,5)] <- round(Ddis[,c(2,4,5)],1)\n",
    "Ddis[,c(1,3)] <- round(Ddis[,c(1,3)],0)"
   ]
  },
  {
   "cell_type": "code",
   "execution_count": 16,
   "metadata": {
    "collapsed": true
   },
   "outputs": [],
   "source": [
    "Ddis$RCTs <- paste(Ddis$RCTs,\" (\",Ddis$Prop_RCTs,\"%)\",sep=\"\")\n",
    "Ddis$GBD <- paste(Ddis$GBD,\" (\",Ddis$Prop_GBD,\"%)\",sep=\"\")"
   ]
  },
  {
   "cell_type": "code",
   "execution_count": 17,
   "metadata": {
    "collapsed": false
   },
   "outputs": [
    {
     "data": {
      "text/html": [
       "<table>\n",
       "<thead><tr><th></th><th scope=col>RCTs</th><th scope=col>Prop_RCTs</th><th scope=col>GBD</th><th scope=col>Prop_GBD</th><th scope=col>RCTs_per_MDALYs</th></tr></thead>\n",
       "<tbody>\n",
       "\t<tr><th scope=row>Diarrhea, lower respiratory infections, meningitis, and other common infectious diseases</th><td>3696 (4%)  </td><td>4          </td><td>329 (14.8%)</td><td>14.8       </td><td>11.2       </td></tr>\n",
       "\t<tr><th scope=row>Cardiovascular and circulatory diseases</th><td>10547 (11.5%)</td><td>11.5         </td><td>287 (12.9%)  </td><td>12.9         </td><td>36.7         </td></tr>\n",
       "\t<tr><th scope=row>Neonatal disorders</th><td>914 (1%)  </td><td>1         </td><td>220 (9.9%)</td><td>9.9       </td><td>4.1       </td></tr>\n",
       "\t<tr><th scope=row>Neoplasms</th><td>14149 (15.4%)</td><td>15.4         </td><td>177 (8%)     </td><td>8            </td><td>80           </td></tr>\n",
       "\t<tr><th scope=row>Mental and behavioral disorders</th><td>10080 (11%)</td><td>11         </td><td>172 (7.7%) </td><td>7.7        </td><td>58.6       </td></tr>\n",
       "\t<tr><th scope=row>Musculoskeletal disorders</th><td>7761 (8.5%)</td><td>8.5        </td><td>152 (6.8%) </td><td>6.8        </td><td>51.2       </td></tr>\n",
       "\t<tr><th scope=row>Chronic respiratory diseases</th><td>5168 (5.6%)</td><td>5.6        </td><td>112 (5.1%) </td><td>5.1        </td><td>45.9       </td></tr>\n",
       "\t<tr><th scope=row>Malaria</th><td>482 (0.5%)</td><td>0.5       </td><td>101 (4.6%)</td><td>4.6       </td><td>4.8       </td></tr>\n",
       "\t<tr><th scope=row>HIV/AIDS</th><td>1647 (1.8%)</td><td>1.8        </td><td>96 (4.3%)  </td><td>4.3        </td><td>17.1       </td></tr>\n",
       "\t<tr><th scope=row>Nutritional deficiencies</th><td>1509 (1.6%)</td><td>1.6        </td><td>89 (4%)    </td><td>4          </td><td>16.9       </td></tr>\n",
       "</tbody>\n",
       "</table>\n"
      ],
      "text/latex": [
       "\\begin{tabular}{r|lllll}\n",
       "  & RCTs & Prop\\_RCTs & GBD & Prop\\_GBD & RCTs\\_per\\_MDALYs\\\\\n",
       "\\hline\n",
       "\tDiarrhea, lower respiratory infections, meningitis, and other common infectious diseases & 3696 (4\\%)   & 4             & 329 (14.8\\%) & 14.8          & 11.2         \\\\\n",
       "\tCardiovascular and circulatory diseases & 10547 (11.5\\%) & 11.5            & 287 (12.9\\%)   & 12.9            & 36.7           \\\\\n",
       "\tNeonatal disorders & 914 (1\\%)   & 1            & 220 (9.9\\%) & 9.9          & 4.1         \\\\\n",
       "\tNeoplasms & 14149 (15.4\\%) & 15.4            & 177 (8\\%)      & 8               & 80             \\\\\n",
       "\tMental and behavioral disorders & 10080 (11\\%) & 11            & 172 (7.7\\%)  & 7.7           & 58.6         \\\\\n",
       "\tMusculoskeletal disorders & 7761 (8.5\\%) & 8.5           & 152 (6.8\\%)  & 6.8           & 51.2         \\\\\n",
       "\tChronic respiratory diseases & 5168 (5.6\\%) & 5.6           & 112 (5.1\\%)  & 5.1           & 45.9         \\\\\n",
       "\tMalaria & 482 (0.5\\%) & 0.5          & 101 (4.6\\%) & 4.6          & 4.8         \\\\\n",
       "\tHIV/AIDS & 1647 (1.8\\%) & 1.8           & 96 (4.3\\%)   & 4.3           & 17.1         \\\\\n",
       "\tNutritional deficiencies & 1509 (1.6\\%) & 1.6           & 89 (4\\%)     & 4             & 16.9         \\\\\n",
       "\\end{tabular}\n"
      ],
      "text/plain": [
       "                                                                                                  RCTs\n",
       "Diarrhea, lower respiratory infections, meningitis, and other common infectious diseases     3696 (4%)\n",
       "Cardiovascular and circulatory diseases                                                  10547 (11.5%)\n",
       "Neonatal disorders                                                                            914 (1%)\n",
       "Neoplasms                                                                                14149 (15.4%)\n",
       "Mental and behavioral disorders                                                            10080 (11%)\n",
       "Musculoskeletal disorders                                                                  7761 (8.5%)\n",
       "Chronic respiratory diseases                                                               5168 (5.6%)\n",
       "Malaria                                                                                     482 (0.5%)\n",
       "HIV/AIDS                                                                                   1647 (1.8%)\n",
       "Nutritional deficiencies                                                                   1509 (1.6%)\n",
       "                                                                                         Prop_RCTs\n",
       "Diarrhea, lower respiratory infections, meningitis, and other common infectious diseases       4.0\n",
       "Cardiovascular and circulatory diseases                                                       11.5\n",
       "Neonatal disorders                                                                             1.0\n",
       "Neoplasms                                                                                     15.4\n",
       "Mental and behavioral disorders                                                               11.0\n",
       "Musculoskeletal disorders                                                                      8.5\n",
       "Chronic respiratory diseases                                                                   5.6\n",
       "Malaria                                                                                        0.5\n",
       "HIV/AIDS                                                                                       1.8\n",
       "Nutritional deficiencies                                                                       1.6\n",
       "                                                                                                 GBD\n",
       "Diarrhea, lower respiratory infections, meningitis, and other common infectious diseases 329 (14.8%)\n",
       "Cardiovascular and circulatory diseases                                                  287 (12.9%)\n",
       "Neonatal disorders                                                                        220 (9.9%)\n",
       "Neoplasms                                                                                   177 (8%)\n",
       "Mental and behavioral disorders                                                           172 (7.7%)\n",
       "Musculoskeletal disorders                                                                 152 (6.8%)\n",
       "Chronic respiratory diseases                                                              112 (5.1%)\n",
       "Malaria                                                                                   101 (4.6%)\n",
       "HIV/AIDS                                                                                   96 (4.3%)\n",
       "Nutritional deficiencies                                                                     89 (4%)\n",
       "                                                                                         Prop_GBD\n",
       "Diarrhea, lower respiratory infections, meningitis, and other common infectious diseases     14.8\n",
       "Cardiovascular and circulatory diseases                                                      12.9\n",
       "Neonatal disorders                                                                            9.9\n",
       "Neoplasms                                                                                     8.0\n",
       "Mental and behavioral disorders                                                               7.7\n",
       "Musculoskeletal disorders                                                                     6.8\n",
       "Chronic respiratory diseases                                                                  5.1\n",
       "Malaria                                                                                       4.6\n",
       "HIV/AIDS                                                                                      4.3\n",
       "Nutritional deficiencies                                                                      4.0\n",
       "                                                                                         RCTs_per_MDALYs\n",
       "Diarrhea, lower respiratory infections, meningitis, and other common infectious diseases            11.2\n",
       "Cardiovascular and circulatory diseases                                                             36.7\n",
       "Neonatal disorders                                                                                   4.1\n",
       "Neoplasms                                                                                           80.0\n",
       "Mental and behavioral disorders                                                                     58.6\n",
       "Musculoskeletal disorders                                                                           51.2\n",
       "Chronic respiratory diseases                                                                        45.9\n",
       "Malaria                                                                                              4.8\n",
       "HIV/AIDS                                                                                            17.1\n",
       "Nutritional deficiencies                                                                            16.9"
      ]
     },
     "metadata": {},
     "output_type": "display_data"
    },
    {
     "data": {
      "text/html": [
       "<table>\n",
       "<thead><tr><th></th><th scope=col>RCTs</th><th scope=col>Prop_RCTs</th><th scope=col>GBD</th><th scope=col>Prop_GBD</th><th scope=col>RCTs_per_MDALYs</th></tr></thead>\n",
       "<tbody>\n",
       "\t<tr><th scope=row>Nutritional deficiencies</th><td>1509 (1.6%)</td><td>1.6        </td><td>89 (4%)    </td><td>4          </td><td>16.9       </td></tr>\n",
       "\t<tr><th scope=row>Diabetes, urinary diseases and male infertility</th><td>12045 (13.1%)</td><td>13.1         </td><td>76 (3.4%)    </td><td>3.4          </td><td>158.9        </td></tr>\n",
       "\t<tr><th scope=row>Neurological disorders</th><td>7038 (7.7%)</td><td>7.7        </td><td>66 (3%)    </td><td>3          </td><td>106.9      </td></tr>\n",
       "\t<tr><th scope=row>Tuberculosis</th><td>365 (0.4%)</td><td>0.4       </td><td>56 (2.5%) </td><td>2.5       </td><td>6.5       </td></tr>\n",
       "\t<tr><th scope=row>Congenital anomalies</th><td>1756 (1.9%)</td><td>1.9        </td><td>43 (1.9%)  </td><td>1.9        </td><td>40.6       </td></tr>\n",
       "\t<tr><th scope=row>Skin and subcutaneous diseases</th><td>4463 (4.9%)</td><td>4.9        </td><td>35 (1.6%)  </td><td>1.6        </td><td>127.3      </td></tr>\n",
       "\t<tr><th scope=row>Digestive diseases (except cirrhosis)</th><td>6109 (6.7%)</td><td>6.7        </td><td>33 (1.5%)  </td><td>1.5        </td><td>187.5      </td></tr>\n",
       "\t<tr><th scope=row>Sense organ diseases</th><td>6444 (7%)</td><td>7        </td><td>32 (1.5%)</td><td>1.5      </td><td>199.6    </td></tr>\n",
       "\t<tr><th scope=row>Cirrhosis of the liver</th><td>1566 (1.7%)</td><td>1.7        </td><td>30 (1.4%)  </td><td>1.4        </td><td>51.4       </td></tr>\n",
       "\t<tr><th scope=row>Neglected tropical diseases excluding malaria</th><td>428 (0.5%)</td><td>0.5       </td><td>27 (1.2%) </td><td>1.2       </td><td>15.8      </td></tr>\n",
       "</tbody>\n",
       "</table>\n"
      ],
      "text/latex": [
       "\\begin{tabular}{r|lllll}\n",
       "  & RCTs & Prop\\_RCTs & GBD & Prop\\_GBD & RCTs\\_per\\_MDALYs\\\\\n",
       "\\hline\n",
       "\tNutritional deficiencies & 1509 (1.6\\%) & 1.6           & 89 (4\\%)     & 4             & 16.9         \\\\\n",
       "\tDiabetes, urinary diseases and male infertility & 12045 (13.1\\%) & 13.1            & 76 (3.4\\%)     & 3.4             & 158.9          \\\\\n",
       "\tNeurological disorders & 7038 (7.7\\%) & 7.7           & 66 (3\\%)     & 3             & 106.9        \\\\\n",
       "\tTuberculosis & 365 (0.4\\%) & 0.4          & 56 (2.5\\%)  & 2.5          & 6.5         \\\\\n",
       "\tCongenital anomalies & 1756 (1.9\\%) & 1.9           & 43 (1.9\\%)   & 1.9           & 40.6         \\\\\n",
       "\tSkin and subcutaneous diseases & 4463 (4.9\\%) & 4.9           & 35 (1.6\\%)   & 1.6           & 127.3        \\\\\n",
       "\tDigestive diseases (except cirrhosis) & 6109 (6.7\\%) & 6.7           & 33 (1.5\\%)   & 1.5           & 187.5        \\\\\n",
       "\tSense organ diseases & 6444 (7\\%) & 7           & 32 (1.5\\%) & 1.5         & 199.6      \\\\\n",
       "\tCirrhosis of the liver & 1566 (1.7\\%) & 1.7           & 30 (1.4\\%)   & 1.4           & 51.4         \\\\\n",
       "\tNeglected tropical diseases excluding malaria & 428 (0.5\\%) & 0.5          & 27 (1.2\\%)  & 1.2          & 15.8        \\\\\n",
       "\\end{tabular}\n"
      ],
      "text/plain": [
       "                                                         RCTs Prop_RCTs\n",
       "Nutritional deficiencies                          1509 (1.6%)       1.6\n",
       "Diabetes, urinary diseases and male infertility 12045 (13.1%)      13.1\n",
       "Neurological disorders                            7038 (7.7%)       7.7\n",
       "Tuberculosis                                       365 (0.4%)       0.4\n",
       "Congenital anomalies                              1756 (1.9%)       1.9\n",
       "Skin and subcutaneous diseases                    4463 (4.9%)       4.9\n",
       "Digestive diseases (except cirrhosis)             6109 (6.7%)       6.7\n",
       "Sense organ diseases                                6444 (7%)       7.0\n",
       "Cirrhosis of the liver                            1566 (1.7%)       1.7\n",
       "Neglected tropical diseases excluding malaria      428 (0.5%)       0.5\n",
       "                                                      GBD Prop_GBD\n",
       "Nutritional deficiencies                          89 (4%)      4.0\n",
       "Diabetes, urinary diseases and male infertility 76 (3.4%)      3.4\n",
       "Neurological disorders                            66 (3%)      3.0\n",
       "Tuberculosis                                    56 (2.5%)      2.5\n",
       "Congenital anomalies                            43 (1.9%)      1.9\n",
       "Skin and subcutaneous diseases                  35 (1.6%)      1.6\n",
       "Digestive diseases (except cirrhosis)           33 (1.5%)      1.5\n",
       "Sense organ diseases                            32 (1.5%)      1.5\n",
       "Cirrhosis of the liver                          30 (1.4%)      1.4\n",
       "Neglected tropical diseases excluding malaria   27 (1.2%)      1.2\n",
       "                                                RCTs_per_MDALYs\n",
       "Nutritional deficiencies                                   16.9\n",
       "Diabetes, urinary diseases and male infertility           158.9\n",
       "Neurological disorders                                    106.9\n",
       "Tuberculosis                                                6.5\n",
       "Congenital anomalies                                       40.6\n",
       "Skin and subcutaneous diseases                            127.3\n",
       "Digestive diseases (except cirrhosis)                     187.5\n",
       "Sense organ diseases                                      199.6\n",
       "Cirrhosis of the liver                                     51.4\n",
       "Neglected tropical diseases excluding malaria              15.8"
      ]
     },
     "metadata": {},
     "output_type": "display_data"
    }
   ],
   "source": [
    "head(Ddis[Ddis$Prop_GBD>=1,],n=10)\n",
    "tail(Ddis[Ddis$Prop_GBD>=1,],n=10)"
   ]
  },
  {
   "cell_type": "code",
   "execution_count": 18,
   "metadata": {
    "collapsed": true
   },
   "outputs": [],
   "source": [
    "Ddis <- Ddis[,-c(2,4)]"
   ]
  },
  {
   "cell_type": "code",
   "execution_count": 19,
   "metadata": {
    "collapsed": true
   },
   "outputs": [],
   "source": [
    "write.csv(Ddis,\"Tables/RCTs_vs_GBD_across_Diseases.csv\")"
   ]
  },
  {
   "cell_type": "markdown",
   "metadata": {},
   "source": [
    "### Gaps within regions\n",
    "\n",
    "For each region we will compare the local share of RCTs across diseases to the local share of burden across diseases. We will say that a gap exist between research and needs if the share of research concerning a disease is more than two time lower than the share of RCTs concerning that disease."
   ]
  },
  {
   "cell_type": "code",
   "execution_count": 20,
   "metadata": {
    "collapsed": false
   },
   "outputs": [],
   "source": [
    "#Proportion of RCTs concerning each disease among \n",
    "#all RCTs relevant to the burden of diseaes in the region\n",
    "\n",
    "Pr_RCT <- do.call('rbind',apply(RCT,1,function(x){x/RCT[rownames(RCT)==\"Tot\",]}))\n",
    "Pr_RCT <- Pr_RCT[rownames(Pr_RCT)!=\"Tot\",]\n",
    "RCT <- RCT[rownames(RCT)!=\"Tot\",]"
   ]
  },
  {
   "cell_type": "code",
   "execution_count": 21,
   "metadata": {
    "collapsed": false
   },
   "outputs": [],
   "source": [
    "#Proportion of GBD attributable to each disease among \n",
    "#all burden of diseaes in the region\n",
    "GBD <- GBD[,-ncol(GBD)]\n",
    "Pr_GBD <- apply(GBD,1,function(x){x/unlist(apply(GBD,2,sum))})"
   ]
  },
  {
   "cell_type": "code",
   "execution_count": 22,
   "metadata": {
    "collapsed": false
   },
   "outputs": [],
   "source": [
    "Pr_GBD <- t(Pr_GBD)"
   ]
  },
  {
   "cell_type": "code",
   "execution_count": 23,
   "metadata": {
    "collapsed": false
   },
   "outputs": [],
   "source": [
    "#Ratio between research and burden\n",
    "R <- Pr_RCT/Pr_GBD"
   ]
  },
  {
   "cell_type": "markdown",
   "metadata": {},
   "source": [
    "We consider gaps only for disease corresponding to a local burden higher than 1%"
   ]
  },
  {
   "cell_type": "code",
   "execution_count": 24,
   "metadata": {
    "collapsed": false
   },
   "outputs": [],
   "source": [
    "GAPS <- which(R<=1/2 & Pr_GBD>=0.01, arr.ind=TRUE)\n",
    "GAPS <- data.frame(GAPS,row.names=NULL)"
   ]
  },
  {
   "cell_type": "code",
   "execution_count": 25,
   "metadata": {
    "collapsed": false
   },
   "outputs": [],
   "source": [
    "GAPS$Disease <- rownames(R)[as.numeric(GAPS$row)]\n",
    "GAPS$Region <- colnames(R)[as.numeric(GAPS$col)]\n",
    "GAPS$Ratio <- sapply(1:nrow(GAPS),function(i){R[GAPS$row[i],GAPS$col[i]]})\n",
    "GAPS$RCT <- sapply(1:nrow(GAPS),function(i){RCT[GAPS$row[i],GAPS$col[i]]})\n",
    "GAPS$Pr_RCT <- sapply(1:nrow(GAPS),function(i){Pr_RCT[GAPS$row[i],GAPS$col[i]]})\n",
    "GAPS$GBD <- sapply(1:nrow(GAPS),function(i){GBD[GAPS$row[i],GAPS$col[i]]})\n",
    "GAPS$Pr_GBD <- sapply(1:nrow(GAPS),function(i){Pr_GBD[GAPS$row[i],GAPS$col[i]]})"
   ]
  },
  {
   "cell_type": "code",
   "execution_count": 26,
   "metadata": {
    "collapsed": false
   },
   "outputs": [],
   "source": [
    "#Cleaning region names\n",
    "#Only local gaps\n",
    "GAPS <- droplevels(GAPS[GAPS$Region!=\"Tot\",])\n",
    "GAPS$Region <- factor(GAPS$Region)\n",
    "levels(GAPS$Region) <- c('Central Europe, Eastern Europe, and Central Asia',\n",
    "                         'High-income',\n",
    "                         'Latin America and Caribbean',\n",
    "                         'North Africa and Middle East',\n",
    "                         'South Asia',\n",
    "                         'Southeast Asia, East Asia and Oceania',\n",
    "                         'Sub-Saharian Africa')\n"
   ]
  },
  {
   "cell_type": "code",
   "execution_count": 27,
   "metadata": {
    "collapsed": false,
    "scrolled": false
   },
   "outputs": [
    {
     "data": {
      "text/html": [
       "<table>\n",
       "<thead><tr><th></th><th scope=col>Region</th><th scope=col>RCT</th><th scope=col>Pr_RCT</th><th scope=col>GBD</th><th scope=col>Pr_GBD</th></tr></thead>\n",
       "<tbody>\n",
       "\t<tr><th scope=row>6</th><td>Latin America and Caribbean</td><td>41                         </td><td>0.00860260176248426        </td><td>10069066.126               </td><td>0.0871724864680537         </td></tr>\n",
       "\t<tr><th scope=row>10</th><td>North Africa and Middle East</td><td>181                         </td><td>0.0208453299550846          </td><td>10285578.519                </td><td>0.10056944347638            </td></tr>\n",
       "\t<tr><th scope=row>13</th><td>South Asia        </td><td>86                </td><td>0.0177392739273927</td><td>100884520.59      </td><td>0.165191660333951 </td></tr>\n",
       "\t<tr><th scope=row>16</th><td>Southeast Asia, East Asia and Oceania</td><td>47                                   </td><td>0.00487602448386762                  </td><td>27954940.493                         </td><td>0.0606467800288265                   </td></tr>\n",
       "\t<tr><th scope=row>20</th><td>Sub-Saharian Africa</td><td>40                 </td><td>0.0154738878143133 </td><td>63398508.5998      </td><td>0.115784768564737  </td></tr>\n",
       "</tbody>\n",
       "</table>\n"
      ],
      "text/latex": [
       "\\begin{tabular}{r|lllll}\n",
       "  & Region & RCT & Pr\\_RCT & GBD & Pr\\_GBD\\\\\n",
       "\\hline\n",
       "\t6 & Latin America and Caribbean & 41                          & 0.00860260176248426         & 10069066.126                & 0.0871724864680537         \\\\\n",
       "\t10 & North Africa and Middle East & 181                          & 0.0208453299550846           & 10285578.519                 & 0.10056944347638            \\\\\n",
       "\t13 & South Asia         & 86                 & 0.0177392739273927 & 100884520.59       & 0.165191660333951 \\\\\n",
       "\t16 & Southeast Asia, East Asia and Oceania & 47                                    & 0.00487602448386762                   & 27954940.493                          & 0.0606467800288265                   \\\\\n",
       "\t20 & Sub-Saharian Africa & 40                  & 0.0154738878143133  & 63398508.5998       & 0.115784768564737  \\\\\n",
       "\\end{tabular}\n"
      ],
      "text/plain": [
       "                                  Region RCT      Pr_RCT       GBD     Pr_GBD\n",
       "6            Latin America and Caribbean  41 0.008602602  10069066 0.08717249\n",
       "10          North Africa and Middle East 181 0.020845330  10285579 0.10056944\n",
       "13                            South Asia  86 0.017739274 100884521 0.16519166\n",
       "16 Southeast Asia, East Asia and Oceania  47 0.004876024  27954940 0.06064678\n",
       "20                   Sub-Saharian Africa  40 0.015473888  63398509 0.11578477"
      ]
     },
     "metadata": {},
     "output_type": "display_data"
    }
   ],
   "source": [
    "GAPS[GAPS$Pr_GBD>=0.05 & GAPS$Disease==\"Neonatal disorders\",-c(1:3,5)]"
   ]
  },
  {
   "cell_type": "code",
   "execution_count": 28,
   "metadata": {
    "collapsed": false,
    "scrolled": false
   },
   "outputs": [
    {
     "data": {
      "text/html": [
       "<table>\n",
       "<thead><tr><th></th><th scope=col>Region</th><th scope=col>RCT</th><th scope=col>Pr_RCT</th><th scope=col>GBD</th><th scope=col>Pr_GBD</th></tr></thead>\n",
       "<tbody>\n",
       "\t<tr><th scope=row>9</th><td>North Africa and Middle East</td><td>253                         </td><td>0.0291373949095935          </td><td>10785476.172                </td><td>0.105457299678585           </td></tr>\n",
       "\t<tr><th scope=row>12</th><td>South Asia        </td><td>357               </td><td>0.0736386138613861</td><td>130854936.2907    </td><td>0.214266213115124 </td></tr>\n",
       "\t<tr><th scope=row>19</th><td>Sub-Saharian Africa</td><td>150                </td><td>0.058027079303675  </td><td>125531847.741516   </td><td>0.229258956705191  </td></tr>\n",
       "</tbody>\n",
       "</table>\n"
      ],
      "text/latex": [
       "\\begin{tabular}{r|lllll}\n",
       "  & Region & RCT & Pr\\_RCT & GBD & Pr\\_GBD\\\\\n",
       "\\hline\n",
       "\t9 & North Africa and Middle East & 253                          & 0.0291373949095935           & 10785476.172                 & 0.105457299678585           \\\\\n",
       "\t12 & South Asia         & 357                & 0.0736386138613861 & 130854936.2907     & 0.214266213115124 \\\\\n",
       "\t19 & Sub-Saharian Africa & 150                 & 0.058027079303675   & 125531847.741516    & 0.229258956705191  \\\\\n",
       "\\end{tabular}\n"
      ],
      "text/plain": [
       "                         Region RCT     Pr_RCT       GBD    Pr_GBD\n",
       "9  North Africa and Middle East 253 0.02913739  10785476 0.1054573\n",
       "12                   South Asia 357 0.07363861 130854936 0.2142662\n",
       "19          Sub-Saharian Africa 150 0.05802708 125531848 0.2292590"
      ]
     },
     "metadata": {},
     "output_type": "display_data"
    }
   ],
   "source": [
    "GAPS[GAPS$Pr_GBD>=0.05 & 1:nrow(GAPS)%in%grep(\"Diarrhea\",GAPS$Dis),-c(1:3,5)]"
   ]
  },
  {
   "cell_type": "code",
   "execution_count": 29,
   "metadata": {
    "collapsed": false,
    "scrolled": true
   },
   "outputs": [
    {
     "data": {
      "text/html": [
       "<table>\n",
       "<thead><tr><th></th><th scope=col>Disease</th><th scope=col>Region</th><th scope=col>RCT</th><th scope=col>Pr_RCT</th><th scope=col>GBD</th><th scope=col>Pr_GBD</th></tr></thead>\n",
       "<tbody>\n",
       "\t<tr><th scope=row>1</th><td>Cardiovascular and circulatory diseases         </td><td>Central Europe, Eastern Europe, and Central Asia</td><td>789                                             </td><td>0.112746498999714                               </td><td>53161406.515                                    </td><td>0.350858980692946                               </td></tr>\n",
       "\t<tr><th scope=row>6</th><td>Neonatal disorders         </td><td>Latin America and Caribbean</td><td>41                         </td><td>0.00860260176248426        </td><td>10069066.126               </td><td>0.0871724864680537         </td></tr>\n",
       "\t<tr><th scope=row>9</th><td>Diarrhea, lower respiratory infections, meningitis, and other common infectious diseases</td><td>North Africa and Middle East                                                            </td><td>253                                                                                     </td><td>0.0291373949095935                                                                      </td><td>10785476.172                                                                            </td><td>0.105457299678585                                                                       </td></tr>\n",
       "\t<tr><th scope=row>10</th><td>Neonatal disorders          </td><td>North Africa and Middle East</td><td>181                         </td><td>0.0208453299550846          </td><td>10285578.519                </td><td>0.10056944347638            </td></tr>\n",
       "\t<tr><th scope=row>12</th><td>Diarrhea, lower respiratory infections, meningitis, and other common infectious diseases</td><td>South Asia                                                                              </td><td>357                                                                                     </td><td>0.0736386138613861                                                                      </td><td>130854936.2907                                                                          </td><td>0.214266213115124                                                                       </td></tr>\n",
       "\t<tr><th scope=row>13</th><td>Neonatal disorders</td><td>South Asia        </td><td>86                </td><td>0.0177392739273927</td><td>100884520.59      </td><td>0.165191660333951 </td></tr>\n",
       "\t<tr><th scope=row>16</th><td>Neonatal disorders                   </td><td>Southeast Asia, East Asia and Oceania</td><td>47                                   </td><td>0.00487602448386762                  </td><td>27954940.493                         </td><td>0.0606467800288265                   </td></tr>\n",
       "\t<tr><th scope=row>19</th><td>Diarrhea, lower respiratory infections, meningitis, and other common infectious diseases</td><td>Sub-Saharian Africa                                                                     </td><td>150                                                                                     </td><td>0.058027079303675                                                                       </td><td>125531847.741516                                                                        </td><td>0.229258956705191                                                                       </td></tr>\n",
       "\t<tr><th scope=row>20</th><td>Neonatal disorders </td><td>Sub-Saharian Africa</td><td>40                 </td><td>0.0154738878143133 </td><td>63398508.5998      </td><td>0.115784768564737  </td></tr>\n",
       "</tbody>\n",
       "</table>\n"
      ],
      "text/latex": [
       "\\begin{tabular}{r|llllll}\n",
       "  & Disease & Region & RCT & Pr\\_RCT & GBD & Pr\\_GBD\\\\\n",
       "\\hline\n",
       "\t1 & Cardiovascular and circulatory diseases          & Central Europe, Eastern Europe, and Central Asia & 789                                              & 0.112746498999714                                & 53161406.515                                     & 0.350858980692946                               \\\\\n",
       "\t6 & Neonatal disorders          & Latin America and Caribbean & 41                          & 0.00860260176248426         & 10069066.126                & 0.0871724864680537         \\\\\n",
       "\t9 & Diarrhea, lower respiratory infections, meningitis, and other common infectious diseases & North Africa and Middle East                                                             & 253                                                                                      & 0.0291373949095935                                                                       & 10785476.172                                                                             & 0.105457299678585                                                                       \\\\\n",
       "\t10 & Neonatal disorders           & North Africa and Middle East & 181                          & 0.0208453299550846           & 10285578.519                 & 0.10056944347638            \\\\\n",
       "\t12 & Diarrhea, lower respiratory infections, meningitis, and other common infectious diseases & South Asia                                                                               & 357                                                                                      & 0.0736386138613861                                                                       & 130854936.2907                                                                           & 0.214266213115124                                                                       \\\\\n",
       "\t13 & Neonatal disorders & South Asia         & 86                 & 0.0177392739273927 & 100884520.59       & 0.165191660333951 \\\\\n",
       "\t16 & Neonatal disorders                    & Southeast Asia, East Asia and Oceania & 47                                    & 0.00487602448386762                   & 27954940.493                          & 0.0606467800288265                   \\\\\n",
       "\t19 & Diarrhea, lower respiratory infections, meningitis, and other common infectious diseases & Sub-Saharian Africa                                                                      & 150                                                                                      & 0.058027079303675                                                                        & 125531847.741516                                                                         & 0.229258956705191                                                                       \\\\\n",
       "\t20 & Neonatal disorders  & Sub-Saharian Africa & 40                  & 0.0154738878143133  & 63398508.5998       & 0.115784768564737  \\\\\n",
       "\\end{tabular}\n"
      ],
      "text/plain": [
       "                                                                                    Disease\n",
       "1                                                   Cardiovascular and circulatory diseases\n",
       "6                                                                        Neonatal disorders\n",
       "9  Diarrhea, lower respiratory infections, meningitis, and other common infectious diseases\n",
       "10                                                                       Neonatal disorders\n",
       "12 Diarrhea, lower respiratory infections, meningitis, and other common infectious diseases\n",
       "13                                                                       Neonatal disorders\n",
       "16                                                                       Neonatal disorders\n",
       "19 Diarrhea, lower respiratory infections, meningitis, and other common infectious diseases\n",
       "20                                                                       Neonatal disorders\n",
       "                                             Region RCT      Pr_RCT       GBD\n",
       "1  Central Europe, Eastern Europe, and Central Asia 789 0.112746499  53161407\n",
       "6                       Latin America and Caribbean  41 0.008602602  10069066\n",
       "9                      North Africa and Middle East 253 0.029137395  10785476\n",
       "10                     North Africa and Middle East 181 0.020845330  10285579\n",
       "12                                       South Asia 357 0.073638614 130854936\n",
       "13                                       South Asia  86 0.017739274 100884521\n",
       "16            Southeast Asia, East Asia and Oceania  47 0.004876024  27954940\n",
       "19                              Sub-Saharian Africa 150 0.058027079 125531848\n",
       "20                              Sub-Saharian Africa  40 0.015473888  63398509\n",
       "       Pr_GBD\n",
       "1  0.35085898\n",
       "6  0.08717249\n",
       "9  0.10545730\n",
       "10 0.10056944\n",
       "12 0.21426621\n",
       "13 0.16519166\n",
       "16 0.06064678\n",
       "19 0.22925896\n",
       "20 0.11578477"
      ]
     },
     "metadata": {},
     "output_type": "display_data"
    }
   ],
   "source": [
    "GAPS[GAPS$Pr_GBD>=0.05,-c(1:2,5)]"
   ]
  },
  {
   "cell_type": "code",
   "execution_count": 30,
   "metadata": {
    "collapsed": false,
    "scrolled": true
   },
   "outputs": [
    {
     "data": {
      "text/html": [
       "<table>\n",
       "<thead><tr><th></th><th scope=col>Disease</th><th scope=col>Region</th><th scope=col>RCT</th><th scope=col>Pr_RCT</th><th scope=col>GBD</th><th scope=col>Pr_GBD</th></tr></thead>\n",
       "<tbody>\n",
       "\t<tr><th scope=row>2</th><td>Neonatal disorders                              </td><td>Central Europe, Eastern Europe, and Central Asia</td><td>38                                              </td><td>0.00543012289225493                             </td><td>3883909.788                                     </td><td>0.0256333441617377                              </td></tr>\n",
       "\t<tr><th scope=row>3</th><td>Tuberculosis                                    </td><td>Central Europe, Eastern Europe, and Central Asia</td><td>21                                              </td><td>0.00300085738782509                             </td><td>2769215.04                                      </td><td>0.0182764909724469                              </td></tr>\n",
       "\t<tr><th scope=row>4</th><td>Neonatal disorders</td><td>High-income       </td><td>553               </td><td>0.0081733398365332</td><td>3811551.90397     </td><td>0.0164609420828892</td></tr>\n",
       "\t<tr><th scope=row>5</th><td>Congenital anomalies       </td><td>Latin America and Caribbean</td><td>55                         </td><td>0.0115400755350399         </td><td>3617507.872                </td><td>0.0313184114667515         </td></tr>\n",
       "\t<tr><th scope=row>7</th><td>Nutritional deficiencies   </td><td>Latin America and Caribbean</td><td>78                         </td><td>0.0163659253042384         </td><td>4348378.57679833           </td><td>0.0376458916746146         </td></tr>\n",
       "\t<tr><th scope=row>8</th><td>Congenital anomalies        </td><td>North Africa and Middle East</td><td>147                         </td><td>0.0169296326154555          </td><td>5091067.5                   </td><td>0.0497790011743029          </td></tr>\n",
       "\t<tr><th scope=row>11</th><td>Nutritional deficiencies    </td><td>North Africa and Middle East</td><td>134                         </td><td>0.0154324542208914          </td><td>4214868.4023614             </td><td>0.0412117771274257          </td></tr>\n",
       "\t<tr><th scope=row>14</th><td>Tuberculosis      </td><td>South Asia        </td><td>54                </td><td>0.0111386138613861</td><td>23662351.34       </td><td>0.0387455189596979</td></tr>\n",
       "\t<tr><th scope=row>15</th><td>Neglected tropical diseases excluding malaria</td><td>Southeast Asia, East Asia and Oceania        </td><td>65                                           </td><td>0.00674343811598714                          </td><td>7139081.1718283                              </td><td>0.0154878628893602                           </td></tr>\n",
       "\t<tr><th scope=row>17</th><td>Tuberculosis                         </td><td>Southeast Asia, East Asia and Oceania</td><td>70                                   </td><td>0.00726216412490922                  </td><td>13100468.458                         </td><td>0.0284207805430976                   </td></tr>\n",
       "\t<tr><th scope=row>18</th><td>Congenital anomalies</td><td>Sub-Saharian Africa </td><td>16                  </td><td>0.00618955512572534 </td><td>7288013.398         </td><td>0.0133101071810827  </td></tr>\n",
       "\t<tr><th scope=row>21</th><td>Sexually transmitted diseases excluding HIV</td><td>Sub-Saharian Africa                        </td><td>9                                          </td><td>0.0034816247582205                         </td><td>6979984.6827                               </td><td>0.0127475539870094                         </td></tr>\n",
       "</tbody>\n",
       "</table>\n"
      ],
      "text/latex": [
       "\\begin{tabular}{r|llllll}\n",
       "  & Disease & Region & RCT & Pr\\_RCT & GBD & Pr\\_GBD\\\\\n",
       "\\hline\n",
       "\t2 & Neonatal disorders                               & Central Europe, Eastern Europe, and Central Asia & 38                                               & 0.00543012289225493                              & 3883909.788                                      & 0.0256333441617377                              \\\\\n",
       "\t3 & Tuberculosis                                     & Central Europe, Eastern Europe, and Central Asia & 21                                               & 0.00300085738782509                              & 2769215.04                                       & 0.0182764909724469                              \\\\\n",
       "\t4 & Neonatal disorders & High-income        & 553                & 0.0081733398365332 & 3811551.90397      & 0.0164609420828892\\\\\n",
       "\t5 & Congenital anomalies        & Latin America and Caribbean & 55                          & 0.0115400755350399          & 3617507.872                 & 0.0313184114667515         \\\\\n",
       "\t7 & Nutritional deficiencies    & Latin America and Caribbean & 78                          & 0.0163659253042384          & 4348378.57679833            & 0.0376458916746146         \\\\\n",
       "\t8 & Congenital anomalies         & North Africa and Middle East & 147                          & 0.0169296326154555           & 5091067.5                    & 0.0497790011743029          \\\\\n",
       "\t11 & Nutritional deficiencies     & North Africa and Middle East & 134                          & 0.0154324542208914           & 4214868.4023614              & 0.0412117771274257          \\\\\n",
       "\t14 & Tuberculosis       & South Asia         & 54                 & 0.0111386138613861 & 23662351.34        & 0.0387455189596979\\\\\n",
       "\t15 & Neglected tropical diseases excluding malaria & Southeast Asia, East Asia and Oceania         & 65                                            & 0.00674343811598714                           & 7139081.1718283                               & 0.0154878628893602                           \\\\\n",
       "\t17 & Tuberculosis                          & Southeast Asia, East Asia and Oceania & 70                                    & 0.00726216412490922                   & 13100468.458                          & 0.0284207805430976                   \\\\\n",
       "\t18 & Congenital anomalies & Sub-Saharian Africa  & 16                   & 0.00618955512572534  & 7288013.398          & 0.0133101071810827  \\\\\n",
       "\t21 & Sexually transmitted diseases excluding HIV & Sub-Saharian Africa                         & 9                                           & 0.0034816247582205                          & 6979984.6827                                & 0.0127475539870094                         \\\\\n",
       "\\end{tabular}\n"
      ],
      "text/plain": [
       "                                         Disease\n",
       "2                             Neonatal disorders\n",
       "3                                   Tuberculosis\n",
       "4                             Neonatal disorders\n",
       "5                           Congenital anomalies\n",
       "7                       Nutritional deficiencies\n",
       "8                           Congenital anomalies\n",
       "11                      Nutritional deficiencies\n",
       "14                                  Tuberculosis\n",
       "15 Neglected tropical diseases excluding malaria\n",
       "17                                  Tuberculosis\n",
       "18                          Congenital anomalies\n",
       "21   Sexually transmitted diseases excluding HIV\n",
       "                                             Region RCT      Pr_RCT      GBD\n",
       "2  Central Europe, Eastern Europe, and Central Asia  38 0.005430123  3883910\n",
       "3  Central Europe, Eastern Europe, and Central Asia  21 0.003000857  2769215\n",
       "4                                       High-income 553 0.008173340  3811552\n",
       "5                       Latin America and Caribbean  55 0.011540076  3617508\n",
       "7                       Latin America and Caribbean  78 0.016365925  4348379\n",
       "8                      North Africa and Middle East 147 0.016929633  5091068\n",
       "11                     North Africa and Middle East 134 0.015432454  4214868\n",
       "14                                       South Asia  54 0.011138614 23662351\n",
       "15            Southeast Asia, East Asia and Oceania  65 0.006743438  7139081\n",
       "17            Southeast Asia, East Asia and Oceania  70 0.007262164 13100468\n",
       "18                              Sub-Saharian Africa  16 0.006189555  7288013\n",
       "21                              Sub-Saharian Africa   9 0.003481625  6979985\n",
       "       Pr_GBD\n",
       "2  0.02563334\n",
       "3  0.01827649\n",
       "4  0.01646094\n",
       "5  0.03131841\n",
       "7  0.03764589\n",
       "8  0.04977900\n",
       "11 0.04121178\n",
       "14 0.03874552\n",
       "15 0.01548786\n",
       "17 0.02842078\n",
       "18 0.01331011\n",
       "21 0.01274755"
      ]
     },
     "metadata": {},
     "output_type": "display_data"
    }
   ],
   "source": [
    "GAPS[GAPS$Pr_GBD>=0.01 & GAPS$Pr_GBD<0.05,-c(1:2,5)]"
   ]
  },
  {
   "cell_type": "code",
   "execution_count": 31,
   "metadata": {
    "collapsed": false,
    "scrolled": true
   },
   "outputs": [
    {
     "data": {
      "text/html": [
       "<ol class=list-inline>\n",
       "\t<li>'Cardiovascular and circulatory diseases'</li>\n",
       "\t<li>'Neonatal disorders'</li>\n",
       "\t<li>'Tuberculosis'</li>\n",
       "\t<li>'Congenital anomalies'</li>\n",
       "\t<li>'Nutritional deficiencies'</li>\n",
       "\t<li>'Diarrhea, lower respiratory infections, meningitis, and other common infectious diseases'</li>\n",
       "\t<li>'Neglected tropical diseases excluding malaria'</li>\n",
       "\t<li>'Sexually transmitted diseases excluding HIV'</li>\n",
       "</ol>\n"
      ],
      "text/latex": [
       "\\begin{enumerate*}\n",
       "\\item 'Cardiovascular and circulatory diseases'\n",
       "\\item 'Neonatal disorders'\n",
       "\\item 'Tuberculosis'\n",
       "\\item 'Congenital anomalies'\n",
       "\\item 'Nutritional deficiencies'\n",
       "\\item 'Diarrhea, lower respiratory infections, meningitis, and other common infectious diseases'\n",
       "\\item 'Neglected tropical diseases excluding malaria'\n",
       "\\item 'Sexually transmitted diseases excluding HIV'\n",
       "\\end{enumerate*}\n"
      ],
      "text/markdown": [
       "1. 'Cardiovascular and circulatory diseases'\n",
       "2. 'Neonatal disorders'\n",
       "3. 'Tuberculosis'\n",
       "4. 'Congenital anomalies'\n",
       "5. 'Nutritional deficiencies'\n",
       "6. 'Diarrhea, lower respiratory infections, meningitis, and other common infectious diseases'\n",
       "7. 'Neglected tropical diseases excluding malaria'\n",
       "8. 'Sexually transmitted diseases excluding HIV'\n",
       "\n",
       "\n"
      ],
      "text/plain": [
       "[1] \"Cardiovascular and circulatory diseases\"                                                 \n",
       "[2] \"Neonatal disorders\"                                                                      \n",
       "[3] \"Tuberculosis\"                                                                            \n",
       "[4] \"Congenital anomalies\"                                                                    \n",
       "[5] \"Nutritional deficiencies\"                                                                \n",
       "[6] \"Diarrhea, lower respiratory infections, meningitis, and other common infectious diseases\"\n",
       "[7] \"Neglected tropical diseases excluding malaria\"                                           \n",
       "[8] \"Sexually transmitted diseases excluding HIV\"                                             "
      ]
     },
     "metadata": {},
     "output_type": "display_data"
    }
   ],
   "source": [
    "unique(GAPS$Dise)"
   ]
  },
  {
   "cell_type": "code",
   "execution_count": 32,
   "metadata": {
    "collapsed": false
   },
   "outputs": [],
   "source": [
    "write.table(GAPS,\"/media/igna/Elements/HotelDieu/Cochrane/Mapping_Cancer/Tables/Local_research_gaps.txt\")"
   ]
  },
  {
   "cell_type": "markdown",
   "metadata": {},
   "source": [
    "### Top diseases per region and gaps\n",
    "We see for each region wheather the top diseases present a gap or not"
   ]
  },
  {
   "cell_type": "code",
   "execution_count": 33,
   "metadata": {
    "collapsed": false,
    "scrolled": false
   },
   "outputs": [
    {
     "name": "stdout",
     "output_type": "stream",
     "text": [
      "[1] \"Central.Europe..Eastern.Europe..and.Central.Asia\"\n",
      "Cardiovascular and circulatory diseases                               Neoplasms \n",
      "                             0.35085898                              0.12875036 \n",
      "        Mental and behavioral disorders               Musculoskeletal disorders \n",
      "                             0.09976506                              0.08625007 \n",
      "                               Diarrhea \n",
      "                             0.04805780 \n",
      "[1] \"High.income\"\n",
      "Cardiovascular and circulatory diseases                               Neoplasms \n",
      "                             0.18806107                              0.18699222 \n",
      "              Musculoskeletal disorders         Mental and behavioral disorders \n",
      "                             0.15362340                              0.13503505 \n",
      "           Chronic respiratory diseases \n",
      "                             0.05891559 \n",
      "[1] \"Latin.America.and.Caribbean\"\n",
      "Cardiovascular and circulatory diseases         Mental and behavioral disorders \n",
      "                             0.12997352                              0.12838937 \n",
      "              Musculoskeletal disorders                                Diarrhea \n",
      "                             0.09247717                              0.09207307 \n",
      "                     Neonatal disorders \n",
      "                             0.08717249 \n",
      "[1] \"North.Africa.and.Middle.East\"\n",
      "Cardiovascular and circulatory diseases         Mental and behavioral disorders \n",
      "                             0.18786931                              0.12170319 \n",
      "                               Diarrhea                      Neonatal disorders \n",
      "                             0.10545730                              0.10056944 \n",
      "              Musculoskeletal disorders \n",
      "                             0.08819766 \n",
      "[1] \"South.Asia\"\n",
      "                               Diarrhea                      Neonatal disorders \n",
      "                             0.21426621                              0.16519166 \n",
      "Cardiovascular and circulatory diseases            Chronic respiratory diseases \n",
      "                             0.09234347                              0.06371416 \n",
      "        Mental and behavioral disorders \n",
      "                             0.05876098 \n",
      "[1] \"Southeast.Asia..East.Asia.and.Oceania\"\n",
      "Cardiovascular and circulatory diseases                               Neoplasms \n",
      "                             0.17726865                              0.14261744 \n",
      "        Mental and behavioral disorders               Musculoskeletal disorders \n",
      "                             0.09763359                              0.09157190 \n",
      "                               Diarrhea \n",
      "                             0.08102637 \n",
      "[1] \"Sub.Saharian.Africa\"\n",
      "                Diarrhea                  Malaria                 HIV/AIDS \n",
      "               0.2292590                0.1669530                0.1343176 \n",
      "      Neonatal disorders Nutritional deficiencies \n",
      "               0.1157848                0.0622548 \n"
     ]
    }
   ],
   "source": [
    "#CEE\n",
    "rownames(Pr_GBD)[grep(\"Diarrhea\",rownames(Pr_GBD))] <- \"Diarrhea\"\n",
    "for(i in 1:(ncol(Pr_GBD)-1)){\n",
    "    print(colnames(Pr_GBD)[i])\n",
    "    print(sort(Pr_GBD[,i],decreasing=TRUE)[1:5])\n",
    "    }"
   ]
  },
  {
   "cell_type": "code",
   "execution_count": 34,
   "metadata": {
    "collapsed": false
   },
   "outputs": [
    {
     "data": {
      "text/html": [
       "<dl class=dl-horizontal>\n",
       "\t<dt>Central Europe, Eastern Europe, and Central Asia</dt>\n",
       "\t\t<dd>0.394768815827131</dd>\n",
       "\t<dt>High-income</dt>\n",
       "\t\t<dd>0.0164609420828892</dd>\n",
       "\t<dt>Latin America and Caribbean</dt>\n",
       "\t\t<dd>0.15613678960942</dd>\n",
       "\t<dt>North Africa and Middle East</dt>\n",
       "\t\t<dd>0.297017521456694</dd>\n",
       "\t<dt>South Asia</dt>\n",
       "\t\t<dd>0.418203392408773</dd>\n",
       "\t<dt>Southeast Asia, East Asia and Oceania</dt>\n",
       "\t\t<dd>0.104555423461284</dd>\n",
       "\t<dt>Sub-Saharian Africa</dt>\n",
       "\t\t<dd>0.37110138643802</dd>\n",
       "</dl>\n"
      ],
      "text/markdown": [
       "Central Europe, Eastern Europe, and Central Asia\n",
       ":   0.394768815827131High-income\n",
       ":   0.0164609420828892Latin America and Caribbean\n",
       ":   0.15613678960942North Africa and Middle East\n",
       ":   0.297017521456694South Asia\n",
       ":   0.418203392408773Southeast Asia, East Asia and Oceania\n",
       ":   0.104555423461284Sub-Saharian Africa\n",
       ":   0.37110138643802\n",
       "\n"
      ],
      "text/plain": [
       "Central Europe, Eastern Europe, and Central Asia \n",
       "                                      0.39476882 \n",
       "                                     High-income \n",
       "                                      0.01646094 \n",
       "                     Latin America and Caribbean \n",
       "                                      0.15613679 \n",
       "                    North Africa and Middle East \n",
       "                                      0.29701752 \n",
       "                                      South Asia \n",
       "                                      0.41820339 \n",
       "           Southeast Asia, East Asia and Oceania \n",
       "                                      0.10455542 \n",
       "                             Sub-Saharian Africa \n",
       "                                      0.37110139 "
      ]
     },
     "metadata": {},
     "output_type": "display_data"
    }
   ],
   "source": [
    "tapply(GAPS$Pr_GBD,GAPS$Region,sum)"
   ]
  },
  {
   "cell_type": "markdown",
   "metadata": {
    "collapsed": true
   },
   "source": [
    "## Gaps for the mapping of patients enrolled\n",
    "Same analysis"
   ]
  },
  {
   "cell_type": "code",
   "execution_count": 35,
   "metadata": {
    "collapsed": false
   },
   "outputs": [],
   "source": [
    "\n",
    "GBD <- read.table(\"/media/igna/Elements/HotelDieu/Cochrane/Mapping_Cancer/Tables/GBD_data_per_region_and_27_diseases_2005.txt\")\n",
    "RCT <- read.table(\"/media/igna/Elements/HotelDieu/Cochrane/Mapping_Cancer/Tables/Patients_data_per_region_and_27_diseases_2005_2015.txt\")\n",
    "RCT <- RCT[order(rownames(RCT)),]\n"
   ]
  },
  {
   "cell_type": "markdown",
   "metadata": {},
   "source": [
    "### Gaps across regions"
   ]
  },
  {
   "cell_type": "code",
   "execution_count": 73,
   "metadata": {
    "collapsed": false
   },
   "outputs": [],
   "source": [
    "#Across regions\n",
    "#Number and Proportion of RCTs vs proportion of burden across regions\n",
    "\n",
    "D <- data.frame(\n",
    "    t(rbind(RCT[rownames(RCT)==\"Tot\",-ncol(RCT)]/1e3,\n",
    "      100*RCT[rownames(RCT)==\"Tot\",-ncol(RCT)]/RCT$Tot[rownames(RCT)==\"Tot\"],\n",
    "      apply(GBD[-(ncol(GBD)-0:1)],2,sum)/1e6,\n",
    "      100*apply(GBD[-(ncol(GBD)-0:1)],2,sum)/sum(GBD$Tot))))\n",
    "\n",
    "names(D) <- c(\"Patients\",\"Prop_Patients\",\"GBD\",\"Prop_GBD\")"
   ]
  },
  {
   "cell_type": "code",
   "execution_count": 74,
   "metadata": {
    "collapsed": false
   },
   "outputs": [],
   "source": [
    "#Thousand Patients per Million DALYs\n",
    "#Or Patients per thousand DALYs\n",
    "D$Patients_per_Th_DALYs <- D$Patients/D$GBD"
   ]
  },
  {
   "cell_type": "code",
   "execution_count": 75,
   "metadata": {
    "collapsed": false
   },
   "outputs": [],
   "source": [
    "#Table for print\n",
    "Dregs <- D"
   ]
  },
  {
   "cell_type": "code",
   "execution_count": 76,
   "metadata": {
    "collapsed": false
   },
   "outputs": [],
   "source": [
    "Dregs[,c(2,4,5)] <- round(Dregs[,c(2,4,5)],1)\n",
    "Dregs[,c(1,3)] <- round(Dregs[,c(1,3)],0)"
   ]
  },
  {
   "cell_type": "code",
   "execution_count": 77,
   "metadata": {
    "collapsed": false,
    "scrolled": true
   },
   "outputs": [],
   "source": [
    "Dregs <- Dregs[order(Dregs$Patients_per,decreasing=TRUE),]"
   ]
  },
  {
   "cell_type": "code",
   "execution_count": 78,
   "metadata": {
    "collapsed": true
   },
   "outputs": [],
   "source": [
    "Dregs$Patients <- paste(Dregs$Patients,\" (\",Dregs$Prop_Patients,\"%)\",sep=\"\")\n",
    "Dregs$GBD <- paste(Dregs$GBD,\" (\",Dregs$Prop_GBD,\"%)\",sep=\"\")"
   ]
  },
  {
   "cell_type": "code",
   "execution_count": 79,
   "metadata": {
    "collapsed": true
   },
   "outputs": [],
   "source": [
    "Dregs <- Dregs[,-c(2,4)]"
   ]
  },
  {
   "cell_type": "code",
   "execution_count": 80,
   "metadata": {
    "collapsed": false
   },
   "outputs": [
    {
     "data": {
      "text/html": [
       "<table>\n",
       "<thead><tr><th></th><th scope=col>Patients</th><th scope=col>GBD</th><th scope=col>Patients_per_Th_DALYs</th></tr></thead>\n",
       "<tbody>\n",
       "\t<tr><th scope=row>High.income</th><td>20877 (64.1%)</td><td>232 (10.4%)  </td><td>90.2         </td></tr>\n",
       "\t<tr><th scope=row>Central.Europe..Eastern.Europe..and.Central.Asia</th><td>1713 (5.3%)</td><td>152 (6.8%) </td><td>11.3       </td></tr>\n",
       "\t<tr><th scope=row>North.Africa.and.Middle.East</th><td>899 (2.8%)</td><td>102 (4.6%)</td><td>8.8       </td></tr>\n",
       "\t<tr><th scope=row>Latin.America.and.Caribbean</th><td>932 (2.9%)</td><td>116 (5.2%)</td><td>8.1       </td></tr>\n",
       "\t<tr><th scope=row>Southeast.Asia..East.Asia.and.Oceania</th><td>3340 (10.3%)</td><td>461 (20.8%) </td><td>7.2         </td></tr>\n",
       "\t<tr><th scope=row>Sub.Saharian.Africa</th><td>3046 (9.4%)</td><td>548 (24.7%)</td><td>5.6        </td></tr>\n",
       "\t<tr><th scope=row>South.Asia</th><td>1758 (5.4%)</td><td>611 (27.5%)</td><td>2.9        </td></tr>\n",
       "</tbody>\n",
       "</table>\n"
      ],
      "text/latex": [
       "\\begin{tabular}{r|lll}\n",
       "  & Patients & GBD & Patients\\_per\\_Th\\_DALYs\\\\\n",
       "\\hline\n",
       "\tHigh.income & 20877 (64.1\\%) & 232 (10.4\\%)   & 90.2           \\\\\n",
       "\tCentral.Europe..Eastern.Europe..and.Central.Asia & 1713 (5.3\\%) & 152 (6.8\\%)  & 11.3         \\\\\n",
       "\tNorth.Africa.and.Middle.East & 899 (2.8\\%) & 102 (4.6\\%) & 8.8         \\\\\n",
       "\tLatin.America.and.Caribbean & 932 (2.9\\%) & 116 (5.2\\%) & 8.1         \\\\\n",
       "\tSoutheast.Asia..East.Asia.and.Oceania & 3340 (10.3\\%) & 461 (20.8\\%)  & 7.2           \\\\\n",
       "\tSub.Saharian.Africa & 3046 (9.4\\%) & 548 (24.7\\%) & 5.6          \\\\\n",
       "\tSouth.Asia & 1758 (5.4\\%) & 611 (27.5\\%) & 2.9          \\\\\n",
       "\\end{tabular}\n"
      ],
      "text/plain": [
       "                                                      Patients         GBD\n",
       "High.income                                      20877 (64.1%) 232 (10.4%)\n",
       "Central.Europe..Eastern.Europe..and.Central.Asia   1713 (5.3%)  152 (6.8%)\n",
       "North.Africa.and.Middle.East                        899 (2.8%)  102 (4.6%)\n",
       "Latin.America.and.Caribbean                         932 (2.9%)  116 (5.2%)\n",
       "Southeast.Asia..East.Asia.and.Oceania             3340 (10.3%) 461 (20.8%)\n",
       "Sub.Saharian.Africa                                3046 (9.4%) 548 (24.7%)\n",
       "South.Asia                                         1758 (5.4%) 611 (27.5%)\n",
       "                                                 Patients_per_Th_DALYs\n",
       "High.income                                                       90.2\n",
       "Central.Europe..Eastern.Europe..and.Central.Asia                  11.3\n",
       "North.Africa.and.Middle.East                                       8.8\n",
       "Latin.America.and.Caribbean                                        8.1\n",
       "Southeast.Asia..East.Asia.and.Oceania                              7.2\n",
       "Sub.Saharian.Africa                                                5.6\n",
       "South.Asia                                                         2.9"
      ]
     },
     "metadata": {},
     "output_type": "display_data"
    }
   ],
   "source": [
    "Dregs"
   ]
  },
  {
   "cell_type": "code",
   "execution_count": 81,
   "metadata": {
    "collapsed": true
   },
   "outputs": [],
   "source": [
    "write.csv(Dregs,\"Tables/Patients_vs_GBD_across_Regions.csv\")"
   ]
  },
  {
   "cell_type": "markdown",
   "metadata": {},
   "source": [
    "### Gaps across diseases\n",
    "Across diseases number and proportion of Patients and GBD\n",
    "And RCTs per million DALYs"
   ]
  },
  {
   "cell_type": "code",
   "execution_count": 82,
   "metadata": {
    "collapsed": true
   },
   "outputs": [],
   "source": [
    "D <- data.frame(\n",
    "    t(rbind(RCT$Tot[rownames(RCT)!=\"Tot\"]/1e3,\n",
    "      100*RCT$Tot[rownames(RCT)!=\"Tot\"]/RCT$Tot[rownames(RCT)==\"Tot\"],\n",
    "      GBD$Tot/1e6,\n",
    "      100*GBD$Tot/sum(GBD$Tot))))\n",
    "\n",
    "names(D) <- c(\"Patients\",\"Prop_Patients\",\"GBD\",\"Prop_GBD\")\n",
    "rownames(D) <- rownames(GBD)"
   ]
  },
  {
   "cell_type": "code",
   "execution_count": 83,
   "metadata": {
    "collapsed": false
   },
   "outputs": [],
   "source": [
    "D$Patients_per_ThDALYs <- D$Patients/D$GBD"
   ]
  },
  {
   "cell_type": "code",
   "execution_count": 84,
   "metadata": {
    "collapsed": true
   },
   "outputs": [],
   "source": [
    "D <- D[order(D$GBD,decreasing=TRUE),]"
   ]
  },
  {
   "cell_type": "code",
   "execution_count": 85,
   "metadata": {
    "collapsed": true
   },
   "outputs": [],
   "source": [
    "#Table for print\n",
    "Ddis <- D"
   ]
  },
  {
   "cell_type": "code",
   "execution_count": 86,
   "metadata": {
    "collapsed": true
   },
   "outputs": [],
   "source": [
    "Ddis[,c(2,4,5)] <- round(Ddis[,c(2,4,5)],1)\n",
    "Ddis[,c(1,3)] <- round(Ddis[,c(1,3)],0)"
   ]
  },
  {
   "cell_type": "code",
   "execution_count": 87,
   "metadata": {
    "collapsed": true
   },
   "outputs": [],
   "source": [
    "Ddis$Patients <- paste(Ddis$Patients,\" (\",Ddis$Prop_Patients,\"%)\",sep=\"\")\n",
    "Ddis$GBD <- paste(Ddis$GBD,\" (\",Ddis$Prop_GBD,\"%)\",sep=\"\")"
   ]
  },
  {
   "cell_type": "code",
   "execution_count": 88,
   "metadata": {
    "collapsed": false
   },
   "outputs": [
    {
     "data": {
      "text/html": [
       "<table>\n",
       "<thead><tr><th></th><th scope=col>Patients</th><th scope=col>Prop_Patients</th><th scope=col>GBD</th><th scope=col>Prop_GBD</th><th scope=col>Patients_per_ThDALYs</th></tr></thead>\n",
       "<tbody>\n",
       "\t<tr><th scope=row>Diarrhea, lower respiratory infections, meningitis, and other common infectious diseases</th><td>2809 (8.6%)</td><td>8.6        </td><td>329 (14.8%)</td><td>14.8       </td><td>8.5        </td></tr>\n",
       "\t<tr><th scope=row>Cardiovascular and circulatory diseases</th><td>4852 (14.9%)</td><td>14.9        </td><td>287 (12.9%) </td><td>12.9        </td><td>16.9        </td></tr>\n",
       "\t<tr><th scope=row>Neonatal disorders</th><td>533 (1.6%)</td><td>1.6       </td><td>220 (9.9%)</td><td>9.9       </td><td>2.4       </td></tr>\n",
       "\t<tr><th scope=row>Neoplasms</th><td>6532 (20.1%)</td><td>20.1        </td><td>177 (8%)    </td><td>8           </td><td>36.9        </td></tr>\n",
       "\t<tr><th scope=row>Mental and behavioral disorders</th><td>2515 (7.7%)</td><td>7.7        </td><td>172 (7.7%) </td><td>7.7        </td><td>14.6       </td></tr>\n",
       "\t<tr><th scope=row>Musculoskeletal disorders</th><td>1707 (5.2%)</td><td>5.2        </td><td>152 (6.8%) </td><td>6.8        </td><td>11.3       </td></tr>\n",
       "\t<tr><th scope=row>Chronic respiratory diseases</th><td>1667 (5.1%)</td><td>5.1        </td><td>112 (5.1%) </td><td>5.1        </td><td>14.8       </td></tr>\n",
       "\t<tr><th scope=row>Malaria</th><td>1005 (3.1%)</td><td>3.1        </td><td>101 (4.6%) </td><td>4.6        </td><td>9.9        </td></tr>\n",
       "\t<tr><th scope=row>HIV/AIDS</th><td>902 (2.8%)</td><td>2.8       </td><td>96 (4.3%) </td><td>4.3       </td><td>9.4       </td></tr>\n",
       "\t<tr><th scope=row>Nutritional deficiencies</th><td>730 (2.2%)</td><td>2.2       </td><td>89 (4%)   </td><td>4         </td><td>8.2       </td></tr>\n",
       "</tbody>\n",
       "</table>\n"
      ],
      "text/latex": [
       "\\begin{tabular}{r|lllll}\n",
       "  & Patients & Prop\\_Patients & GBD & Prop\\_GBD & Patients\\_per\\_ThDALYs\\\\\n",
       "\\hline\n",
       "\tDiarrhea, lower respiratory infections, meningitis, and other common infectious diseases & 2809 (8.6\\%) & 8.6           & 329 (14.8\\%) & 14.8          & 8.5          \\\\\n",
       "\tCardiovascular and circulatory diseases & 4852 (14.9\\%) & 14.9           & 287 (12.9\\%)  & 12.9           & 16.9          \\\\\n",
       "\tNeonatal disorders & 533 (1.6\\%) & 1.6          & 220 (9.9\\%) & 9.9          & 2.4         \\\\\n",
       "\tNeoplasms & 6532 (20.1\\%) & 20.1           & 177 (8\\%)     & 8              & 36.9          \\\\\n",
       "\tMental and behavioral disorders & 2515 (7.7\\%) & 7.7           & 172 (7.7\\%)  & 7.7           & 14.6         \\\\\n",
       "\tMusculoskeletal disorders & 1707 (5.2\\%) & 5.2           & 152 (6.8\\%)  & 6.8           & 11.3         \\\\\n",
       "\tChronic respiratory diseases & 1667 (5.1\\%) & 5.1           & 112 (5.1\\%)  & 5.1           & 14.8         \\\\\n",
       "\tMalaria & 1005 (3.1\\%) & 3.1           & 101 (4.6\\%)  & 4.6           & 9.9          \\\\\n",
       "\tHIV/AIDS & 902 (2.8\\%) & 2.8          & 96 (4.3\\%)  & 4.3          & 9.4         \\\\\n",
       "\tNutritional deficiencies & 730 (2.2\\%) & 2.2          & 89 (4\\%)    & 4            & 8.2         \\\\\n",
       "\\end{tabular}\n"
      ],
      "text/plain": [
       "                                                                                             Patients\n",
       "Diarrhea, lower respiratory infections, meningitis, and other common infectious diseases  2809 (8.6%)\n",
       "Cardiovascular and circulatory diseases                                                  4852 (14.9%)\n",
       "Neonatal disorders                                                                         533 (1.6%)\n",
       "Neoplasms                                                                                6532 (20.1%)\n",
       "Mental and behavioral disorders                                                           2515 (7.7%)\n",
       "Musculoskeletal disorders                                                                 1707 (5.2%)\n",
       "Chronic respiratory diseases                                                              1667 (5.1%)\n",
       "Malaria                                                                                   1005 (3.1%)\n",
       "HIV/AIDS                                                                                   902 (2.8%)\n",
       "Nutritional deficiencies                                                                   730 (2.2%)\n",
       "                                                                                         Prop_Patients\n",
       "Diarrhea, lower respiratory infections, meningitis, and other common infectious diseases           8.6\n",
       "Cardiovascular and circulatory diseases                                                           14.9\n",
       "Neonatal disorders                                                                                 1.6\n",
       "Neoplasms                                                                                         20.1\n",
       "Mental and behavioral disorders                                                                    7.7\n",
       "Musculoskeletal disorders                                                                          5.2\n",
       "Chronic respiratory diseases                                                                       5.1\n",
       "Malaria                                                                                            3.1\n",
       "HIV/AIDS                                                                                           2.8\n",
       "Nutritional deficiencies                                                                           2.2\n",
       "                                                                                                 GBD\n",
       "Diarrhea, lower respiratory infections, meningitis, and other common infectious diseases 329 (14.8%)\n",
       "Cardiovascular and circulatory diseases                                                  287 (12.9%)\n",
       "Neonatal disorders                                                                        220 (9.9%)\n",
       "Neoplasms                                                                                   177 (8%)\n",
       "Mental and behavioral disorders                                                           172 (7.7%)\n",
       "Musculoskeletal disorders                                                                 152 (6.8%)\n",
       "Chronic respiratory diseases                                                              112 (5.1%)\n",
       "Malaria                                                                                   101 (4.6%)\n",
       "HIV/AIDS                                                                                   96 (4.3%)\n",
       "Nutritional deficiencies                                                                     89 (4%)\n",
       "                                                                                         Prop_GBD\n",
       "Diarrhea, lower respiratory infections, meningitis, and other common infectious diseases     14.8\n",
       "Cardiovascular and circulatory diseases                                                      12.9\n",
       "Neonatal disorders                                                                            9.9\n",
       "Neoplasms                                                                                     8.0\n",
       "Mental and behavioral disorders                                                               7.7\n",
       "Musculoskeletal disorders                                                                     6.8\n",
       "Chronic respiratory diseases                                                                  5.1\n",
       "Malaria                                                                                       4.6\n",
       "HIV/AIDS                                                                                      4.3\n",
       "Nutritional deficiencies                                                                      4.0\n",
       "                                                                                         Patients_per_ThDALYs\n",
       "Diarrhea, lower respiratory infections, meningitis, and other common infectious diseases                  8.5\n",
       "Cardiovascular and circulatory diseases                                                                  16.9\n",
       "Neonatal disorders                                                                                        2.4\n",
       "Neoplasms                                                                                                36.9\n",
       "Mental and behavioral disorders                                                                          14.6\n",
       "Musculoskeletal disorders                                                                                11.3\n",
       "Chronic respiratory diseases                                                                             14.8\n",
       "Malaria                                                                                                   9.9\n",
       "HIV/AIDS                                                                                                  9.4\n",
       "Nutritional deficiencies                                                                                  8.2"
      ]
     },
     "metadata": {},
     "output_type": "display_data"
    },
    {
     "data": {
      "text/html": [
       "<table>\n",
       "<thead><tr><th></th><th scope=col>Patients</th><th scope=col>Prop_Patients</th><th scope=col>GBD</th><th scope=col>Prop_GBD</th><th scope=col>Patients_per_ThDALYs</th></tr></thead>\n",
       "<tbody>\n",
       "\t<tr><th scope=row>Nutritional deficiencies</th><td>730 (2.2%)</td><td>2.2       </td><td>89 (4%)   </td><td>4         </td><td>8.2       </td></tr>\n",
       "\t<tr><th scope=row>Diabetes, urinary diseases and male infertility</th><td>4168 (12.8%)</td><td>12.8        </td><td>76 (3.4%)   </td><td>3.4         </td><td>55          </td></tr>\n",
       "\t<tr><th scope=row>Neurological disorders</th><td>1472 (4.5%)</td><td>4.5        </td><td>66 (3%)    </td><td>3          </td><td>22.4       </td></tr>\n",
       "\t<tr><th scope=row>Tuberculosis</th><td>426 (1.3%)</td><td>1.3       </td><td>56 (2.5%) </td><td>2.5       </td><td>7.6       </td></tr>\n",
       "\t<tr><th scope=row>Congenital anomalies</th><td>327 (1%) </td><td>1        </td><td>43 (1.9%)</td><td>1.9      </td><td>7.6      </td></tr>\n",
       "\t<tr><th scope=row>Skin and subcutaneous diseases</th><td>1086 (3.3%)</td><td>3.3        </td><td>35 (1.6%)  </td><td>1.6        </td><td>31         </td></tr>\n",
       "\t<tr><th scope=row>Digestive diseases (except cirrhosis)</th><td>1345 (4.1%)</td><td>4.1        </td><td>33 (1.5%)  </td><td>1.5        </td><td>41.3       </td></tr>\n",
       "\t<tr><th scope=row>Sense organ diseases</th><td>1340 (4.1%)</td><td>4.1        </td><td>32 (1.5%)  </td><td>1.5        </td><td>41.5       </td></tr>\n",
       "\t<tr><th scope=row>Cirrhosis of the liver</th><td>512 (1.6%)</td><td>1.6       </td><td>30 (1.4%) </td><td>1.4       </td><td>16.8      </td></tr>\n",
       "\t<tr><th scope=row>Neglected tropical diseases excluding malaria</th><td>1027 (3.2%)</td><td>3.2        </td><td>27 (1.2%)  </td><td>1.2        </td><td>38         </td></tr>\n",
       "</tbody>\n",
       "</table>\n"
      ],
      "text/latex": [
       "\\begin{tabular}{r|lllll}\n",
       "  & Patients & Prop\\_Patients & GBD & Prop\\_GBD & Patients\\_per\\_ThDALYs\\\\\n",
       "\\hline\n",
       "\tNutritional deficiencies & 730 (2.2\\%) & 2.2          & 89 (4\\%)    & 4            & 8.2         \\\\\n",
       "\tDiabetes, urinary diseases and male infertility & 4168 (12.8\\%) & 12.8           & 76 (3.4\\%)    & 3.4            & 55            \\\\\n",
       "\tNeurological disorders & 1472 (4.5\\%) & 4.5           & 66 (3\\%)     & 3             & 22.4         \\\\\n",
       "\tTuberculosis & 426 (1.3\\%) & 1.3          & 56 (2.5\\%)  & 2.5          & 7.6         \\\\\n",
       "\tCongenital anomalies & 327 (1\\%)  & 1           & 43 (1.9\\%) & 1.9         & 7.6        \\\\\n",
       "\tSkin and subcutaneous diseases & 1086 (3.3\\%) & 3.3           & 35 (1.6\\%)   & 1.6           & 31           \\\\\n",
       "\tDigestive diseases (except cirrhosis) & 1345 (4.1\\%) & 4.1           & 33 (1.5\\%)   & 1.5           & 41.3         \\\\\n",
       "\tSense organ diseases & 1340 (4.1\\%) & 4.1           & 32 (1.5\\%)   & 1.5           & 41.5         \\\\\n",
       "\tCirrhosis of the liver & 512 (1.6\\%) & 1.6          & 30 (1.4\\%)  & 1.4          & 16.8        \\\\\n",
       "\tNeglected tropical diseases excluding malaria & 1027 (3.2\\%) & 3.2           & 27 (1.2\\%)   & 1.2           & 38           \\\\\n",
       "\\end{tabular}\n"
      ],
      "text/plain": [
       "                                                    Patients Prop_Patients\n",
       "Nutritional deficiencies                          730 (2.2%)           2.2\n",
       "Diabetes, urinary diseases and male infertility 4168 (12.8%)          12.8\n",
       "Neurological disorders                           1472 (4.5%)           4.5\n",
       "Tuberculosis                                      426 (1.3%)           1.3\n",
       "Congenital anomalies                                327 (1%)           1.0\n",
       "Skin and subcutaneous diseases                   1086 (3.3%)           3.3\n",
       "Digestive diseases (except cirrhosis)            1345 (4.1%)           4.1\n",
       "Sense organ diseases                             1340 (4.1%)           4.1\n",
       "Cirrhosis of the liver                            512 (1.6%)           1.6\n",
       "Neglected tropical diseases excluding malaria    1027 (3.2%)           3.2\n",
       "                                                      GBD Prop_GBD\n",
       "Nutritional deficiencies                          89 (4%)      4.0\n",
       "Diabetes, urinary diseases and male infertility 76 (3.4%)      3.4\n",
       "Neurological disorders                            66 (3%)      3.0\n",
       "Tuberculosis                                    56 (2.5%)      2.5\n",
       "Congenital anomalies                            43 (1.9%)      1.9\n",
       "Skin and subcutaneous diseases                  35 (1.6%)      1.6\n",
       "Digestive diseases (except cirrhosis)           33 (1.5%)      1.5\n",
       "Sense organ diseases                            32 (1.5%)      1.5\n",
       "Cirrhosis of the liver                          30 (1.4%)      1.4\n",
       "Neglected tropical diseases excluding malaria   27 (1.2%)      1.2\n",
       "                                                Patients_per_ThDALYs\n",
       "Nutritional deficiencies                                         8.2\n",
       "Diabetes, urinary diseases and male infertility                 55.0\n",
       "Neurological disorders                                          22.4\n",
       "Tuberculosis                                                     7.6\n",
       "Congenital anomalies                                             7.6\n",
       "Skin and subcutaneous diseases                                  31.0\n",
       "Digestive diseases (except cirrhosis)                           41.3\n",
       "Sense organ diseases                                            41.5\n",
       "Cirrhosis of the liver                                          16.8\n",
       "Neglected tropical diseases excluding malaria                   38.0"
      ]
     },
     "metadata": {},
     "output_type": "display_data"
    }
   ],
   "source": [
    "head(Ddis[Ddis$Prop_GBD>=1,],n=10)\n",
    "tail(Ddis[Ddis$Prop_GBD>=1,],n=10)"
   ]
  },
  {
   "cell_type": "code",
   "execution_count": 89,
   "metadata": {
    "collapsed": true
   },
   "outputs": [],
   "source": [
    "Ddis <- Ddis[,-c(2,4)]"
   ]
  },
  {
   "cell_type": "code",
   "execution_count": 90,
   "metadata": {
    "collapsed": true
   },
   "outputs": [],
   "source": [
    "write.csv(Ddis,\"Tables/Patients_vs_GBD_across_Diseases.csv\")"
   ]
  },
  {
   "cell_type": "markdown",
   "metadata": {},
   "source": [
    "### Gaps within regions\n",
    "\n",
    "For each region we will compare the local share of RCTs across diseases to the local share of burden across diseases. We will say that a gap exist between research and needs if the share of research concerning a disease is more than two time lower than the share of RCTs concerning that disease."
   ]
  },
  {
   "cell_type": "code",
   "execution_count": 91,
   "metadata": {
    "collapsed": false
   },
   "outputs": [],
   "source": [
    "#Proportion of RCTs concerning each disease among \n",
    "#all RCTs relevant to the burden of diseaes in the region\n",
    "\n",
    "Pr_Patients <- do.call('rbind',apply(RCT,1,function(x){x/RCT[rownames(RCT)==\"Tot\",]}))\n",
    "Pr_Patients <- Pr_Patients[rownames(Pr_Patients)!=\"Tot\",]\n",
    "RCT <- RCT[rownames(RCT)!=\"Tot\",]"
   ]
  },
  {
   "cell_type": "code",
   "execution_count": 92,
   "metadata": {
    "collapsed": false
   },
   "outputs": [],
   "source": [
    "#Proportion of GBD attributable to each disease among \n",
    "#all burden of diseaes in the region\n",
    "GBD <- GBD[,-ncol(GBD)]\n",
    "Pr_GBD <- apply(GBD,1,function(x){x/unlist(apply(GBD,2,sum))})"
   ]
  },
  {
   "cell_type": "code",
   "execution_count": 93,
   "metadata": {
    "collapsed": false
   },
   "outputs": [],
   "source": [
    "Pr_GBD <- t(Pr_GBD)"
   ]
  },
  {
   "cell_type": "code",
   "execution_count": 94,
   "metadata": {
    "collapsed": false
   },
   "outputs": [
    {
     "data": {
      "text/plain": [
       "\n",
       "TRUE \n",
       "  27 "
      ]
     },
     "metadata": {},
     "output_type": "display_data"
    },
    {
     "data": {
      "text/plain": [
       "\n",
       "TRUE \n",
       "   8 "
      ]
     },
     "metadata": {},
     "output_type": "display_data"
    }
   ],
   "source": [
    "#Ratio between research and burden\n",
    "table(rownames(Pr_Patients)==rownames(Pr_GBD))\n",
    "table(colnames(Pr_Patients)==colnames(Pr_GBD))"
   ]
  },
  {
   "cell_type": "code",
   "execution_count": 95,
   "metadata": {
    "collapsed": false,
    "scrolled": true
   },
   "outputs": [],
   "source": [
    "R <- Pr_Patients/Pr_GBD"
   ]
  },
  {
   "cell_type": "markdown",
   "metadata": {},
   "source": [
    "We consider gaps only for disease corresponding to a local burden higher than 1%"
   ]
  },
  {
   "cell_type": "code",
   "execution_count": 96,
   "metadata": {
    "collapsed": false
   },
   "outputs": [],
   "source": [
    "GAPS <- which(R<=1/2 & Pr_GBD>=0.01, arr.ind=TRUE)\n",
    "GAPS <- data.frame(GAPS,row.names=NULL)"
   ]
  },
  {
   "cell_type": "code",
   "execution_count": 97,
   "metadata": {
    "collapsed": false
   },
   "outputs": [],
   "source": [
    "GAPS$Disease <- rownames(R)[as.numeric(GAPS$row)]\n",
    "GAPS$Region <- colnames(R)[as.numeric(GAPS$col)]\n",
    "GAPS$Ratio <- sapply(1:nrow(GAPS),function(i){R[GAPS$row[i],GAPS$col[i]]})\n",
    "GAPS$Patients <- sapply(1:nrow(GAPS),function(i){RCT[GAPS$row[i],GAPS$col[i]]})\n",
    "GAPS$Pr_Patients <- sapply(1:nrow(GAPS),function(i){Pr_Patients[GAPS$row[i],GAPS$col[i]]})\n",
    "GAPS$GBD <- sapply(1:nrow(GAPS),function(i){GBD[GAPS$row[i],GAPS$col[i]]})\n",
    "GAPS$Pr_GBD <- sapply(1:nrow(GAPS),function(i){Pr_GBD[GAPS$row[i],GAPS$col[i]]})"
   ]
  },
  {
   "cell_type": "code",
   "execution_count": 98,
   "metadata": {
    "collapsed": false
   },
   "outputs": [],
   "source": [
    "#Cleaning region names\n",
    "#Only local gaps\n",
    "GAPS <- droplevels(GAPS[GAPS$Region!=\"Tot\",])\n",
    "GAPS$Region <- factor(GAPS$Region)\n",
    "levels(GAPS$Region) <- c('Central Europe, Eastern Europe, and Central Asia',\n",
    "                         'High-income',\n",
    "                         'Latin America and Caribbean',\n",
    "                         'North Africa and Middle East',\n",
    "                         'South Asia',\n",
    "                         'Southeast Asia, East Asia and Oceania',\n",
    "                         'Sub-Saharian Africa')\n"
   ]
  },
  {
   "cell_type": "code",
   "execution_count": 99,
   "metadata": {
    "collapsed": false
   },
   "outputs": [
    {
     "data": {
      "text/html": [
       "<table>\n",
       "<thead><tr><th></th><th scope=col>Disease</th><th scope=col>Region</th><th scope=col>Patients</th><th scope=col>Pr_Patients</th><th scope=col>GBD</th><th scope=col>Pr_GBD</th></tr></thead>\n",
       "<tbody>\n",
       "\t<tr><th scope=row>4</th><td>Musculoskeletal disorders</td><td>High-income              </td><td>1287959.38408855         </td><td>0.0616915923744389       </td><td>35571692.16788           </td><td>0.15362340047264         </td></tr>\n",
       "\t<tr><th scope=row>8</th><td>Mental and behavioral disorders</td><td>Latin America and Caribbean    </td><td>46457.3076192212               </td><td>0.0498439905006055             </td><td>14829920.94981                 </td><td>0.128389372672953              </td></tr>\n",
       "\t<tr><th scope=row>9</th><td>Neonatal disorders         </td><td>Latin America and Caribbean</td><td>12924.2880724539           </td><td>0.0138664534154784         </td><td>10069066.126               </td><td>0.0871724864680537         </td></tr>\n",
       "\t<tr><th scope=row>11</th><td>Diarrhea, lower respiratory infections, meningitis, and other common infectious diseases</td><td>North Africa and Middle East                                                            </td><td>33284.1724019517                                                                        </td><td>0.0370231072076604                                                                      </td><td>10785476.172                                                                            </td><td>0.105457299678585                                                                       </td></tr>\n",
       "\t<tr><th scope=row>13</th><td>Neonatal disorders          </td><td>North Africa and Middle East</td><td>21759.1785714286            </td><td>0.024203467980877           </td><td>10285578.519                </td><td>0.10056944347638            </td></tr>\n",
       "\t<tr><th scope=row>14</th><td>Chronic respiratory diseases</td><td>South Asia                  </td><td>35282.6684557411            </td><td>0.0200692910671856          </td><td>38910999.427                </td><td>0.0637141611320367          </td></tr>\n",
       "\t<tr><th scope=row>17</th><td>Chronic respiratory diseases         </td><td>Southeast Asia, East Asia and Oceania</td><td>96467.8694294783                     </td><td>0.0288790125829091                   </td><td>31793866.11224                       </td><td>0.0689751282016789                   </td></tr>\n",
       "\t<tr><th scope=row>19</th><td>Musculoskeletal disorders            </td><td>Southeast Asia, East Asia and Oceania</td><td>104109.621444154                     </td><td>0.0311666784543797                   </td><td>42209775.433731                      </td><td>0.0915718982280306                   </td></tr>\n",
       "\t<tr><th scope=row>20</th><td>Neonatal disorders                   </td><td>Southeast Asia, East Asia and Oceania</td><td>12550.2354750513                     </td><td>0.0037570893847452                   </td><td>27954940.493                         </td><td>0.0606467800288265                   </td></tr>\n",
       "\t<tr><th scope=row>23</th><td>Diarrhea, lower respiratory infections, meningitis, and other common infectious diseases</td><td>Sub-Saharian Africa                                                                     </td><td>212975.160628435                                                                        </td><td>0.069922281285192                                                                       </td><td>125531847.741516                                                                        </td><td>0.229258956705191                                                                       </td></tr>\n",
       "\t<tr><th scope=row>25</th><td>Neonatal disorders </td><td>Sub-Saharian Africa</td><td>71058.6363636364   </td><td>0.0233293964652936 </td><td>63398508.5998      </td><td>0.115784768564737  </td></tr>\n",
       "</tbody>\n",
       "</table>\n"
      ],
      "text/latex": [
       "\\begin{tabular}{r|llllll}\n",
       "  & Disease & Region & Patients & Pr\\_Patients & GBD & Pr\\_GBD\\\\\n",
       "\\hline\n",
       "\t4 & Musculoskeletal disorders & High-income               & 1287959.38408855          & 0.0616915923744389        & 35571692.16788            & 0.15362340047264         \\\\\n",
       "\t8 & Mental and behavioral disorders & Latin America and Caribbean     & 46457.3076192212                & 0.0498439905006055              & 14829920.94981                  & 0.128389372672953              \\\\\n",
       "\t9 & Neonatal disorders          & Latin America and Caribbean & 12924.2880724539            & 0.0138664534154784          & 10069066.126                & 0.0871724864680537         \\\\\n",
       "\t11 & Diarrhea, lower respiratory infections, meningitis, and other common infectious diseases & North Africa and Middle East                                                             & 33284.1724019517                                                                         & 0.0370231072076604                                                                       & 10785476.172                                                                             & 0.105457299678585                                                                       \\\\\n",
       "\t13 & Neonatal disorders           & North Africa and Middle East & 21759.1785714286             & 0.024203467980877            & 10285578.519                 & 0.10056944347638            \\\\\n",
       "\t14 & Chronic respiratory diseases & South Asia                   & 35282.6684557411             & 0.0200692910671856           & 38910999.427                 & 0.0637141611320367          \\\\\n",
       "\t17 & Chronic respiratory diseases          & Southeast Asia, East Asia and Oceania & 96467.8694294783                      & 0.0288790125829091                    & 31793866.11224                        & 0.0689751282016789                   \\\\\n",
       "\t19 & Musculoskeletal disorders             & Southeast Asia, East Asia and Oceania & 104109.621444154                      & 0.0311666784543797                    & 42209775.433731                       & 0.0915718982280306                   \\\\\n",
       "\t20 & Neonatal disorders                    & Southeast Asia, East Asia and Oceania & 12550.2354750513                      & 0.0037570893847452                    & 27954940.493                          & 0.0606467800288265                   \\\\\n",
       "\t23 & Diarrhea, lower respiratory infections, meningitis, and other common infectious diseases & Sub-Saharian Africa                                                                      & 212975.160628435                                                                         & 0.069922281285192                                                                        & 125531847.741516                                                                         & 0.229258956705191                                                                       \\\\\n",
       "\t25 & Neonatal disorders  & Sub-Saharian Africa & 71058.6363636364    & 0.0233293964652936  & 63398508.5998       & 0.115784768564737  \\\\\n",
       "\\end{tabular}\n"
      ],
      "text/plain": [
       "                                                                                    Disease\n",
       "4                                                                 Musculoskeletal disorders\n",
       "8                                                           Mental and behavioral disorders\n",
       "9                                                                        Neonatal disorders\n",
       "11 Diarrhea, lower respiratory infections, meningitis, and other common infectious diseases\n",
       "13                                                                       Neonatal disorders\n",
       "14                                                             Chronic respiratory diseases\n",
       "17                                                             Chronic respiratory diseases\n",
       "19                                                                Musculoskeletal disorders\n",
       "20                                                                       Neonatal disorders\n",
       "23 Diarrhea, lower respiratory infections, meningitis, and other common infectious diseases\n",
       "25                                                                       Neonatal disorders\n",
       "                                  Region   Patients Pr_Patients       GBD\n",
       "4                            High-income 1287959.38 0.061691592  35571692\n",
       "8            Latin America and Caribbean   46457.31 0.049843991  14829921\n",
       "9            Latin America and Caribbean   12924.29 0.013866453  10069066\n",
       "11          North Africa and Middle East   33284.17 0.037023107  10785476\n",
       "13          North Africa and Middle East   21759.18 0.024203468  10285579\n",
       "14                            South Asia   35282.67 0.020069291  38910999\n",
       "17 Southeast Asia, East Asia and Oceania   96467.87 0.028879013  31793866\n",
       "19 Southeast Asia, East Asia and Oceania  104109.62 0.031166678  42209775\n",
       "20 Southeast Asia, East Asia and Oceania   12550.24 0.003757089  27954940\n",
       "23                   Sub-Saharian Africa  212975.16 0.069922281 125531848\n",
       "25                   Sub-Saharian Africa   71058.64 0.023329396  63398509\n",
       "       Pr_GBD\n",
       "4  0.15362340\n",
       "8  0.12838937\n",
       "9  0.08717249\n",
       "11 0.10545730\n",
       "13 0.10056944\n",
       "14 0.06371416\n",
       "17 0.06897513\n",
       "19 0.09157190\n",
       "20 0.06064678\n",
       "23 0.22925896\n",
       "25 0.11578477"
      ]
     },
     "metadata": {},
     "output_type": "display_data"
    }
   ],
   "source": [
    "GAPS[GAPS$Pr_GBD>=0.05,-c(1:2,5)]"
   ]
  },
  {
   "cell_type": "code",
   "execution_count": 100,
   "metadata": {
    "collapsed": false,
    "scrolled": true
   },
   "outputs": [
    {
     "data": {
      "text/html": [
       "<table>\n",
       "<thead><tr><th></th><th scope=col>Region</th><th scope=col>Patients</th><th scope=col>Pr_Patients</th><th scope=col>GBD</th><th scope=col>Pr_GBD</th></tr></thead>\n",
       "<tbody>\n",
       "\t<tr><th scope=row>9</th><td>Latin America and Caribbean</td><td>12924.2880724539           </td><td>0.0138664534154784         </td><td>10069066.126               </td><td>0.0871724864680537         </td></tr>\n",
       "\t<tr><th scope=row>13</th><td>North Africa and Middle East</td><td>21759.1785714286            </td><td>0.024203467980877           </td><td>10285578.519                </td><td>0.10056944347638            </td></tr>\n",
       "\t<tr><th scope=row>20</th><td>Southeast Asia, East Asia and Oceania</td><td>12550.2354750513                     </td><td>0.0037570893847452                   </td><td>27954940.493                         </td><td>0.0606467800288265                   </td></tr>\n",
       "\t<tr><th scope=row>25</th><td>Sub-Saharian Africa</td><td>71058.6363636364   </td><td>0.0233293964652936 </td><td>63398508.5998      </td><td>0.115784768564737  </td></tr>\n",
       "</tbody>\n",
       "</table>\n"
      ],
      "text/latex": [
       "\\begin{tabular}{r|lllll}\n",
       "  & Region & Patients & Pr\\_Patients & GBD & Pr\\_GBD\\\\\n",
       "\\hline\n",
       "\t9 & Latin America and Caribbean & 12924.2880724539            & 0.0138664534154784          & 10069066.126                & 0.0871724864680537         \\\\\n",
       "\t13 & North Africa and Middle East & 21759.1785714286             & 0.024203467980877            & 10285578.519                 & 0.10056944347638            \\\\\n",
       "\t20 & Southeast Asia, East Asia and Oceania & 12550.2354750513                      & 0.0037570893847452                    & 27954940.493                          & 0.0606467800288265                   \\\\\n",
       "\t25 & Sub-Saharian Africa & 71058.6363636364    & 0.0233293964652936  & 63398508.5998       & 0.115784768564737  \\\\\n",
       "\\end{tabular}\n"
      ],
      "text/plain": [
       "                                  Region Patients Pr_Patients      GBD\n",
       "9            Latin America and Caribbean 12924.29 0.013866453 10069066\n",
       "13          North Africa and Middle East 21759.18 0.024203468 10285579\n",
       "20 Southeast Asia, East Asia and Oceania 12550.24 0.003757089 27954940\n",
       "25                   Sub-Saharian Africa 71058.64 0.023329396 63398509\n",
       "       Pr_GBD\n",
       "9  0.08717249\n",
       "13 0.10056944\n",
       "20 0.06064678\n",
       "25 0.11578477"
      ]
     },
     "metadata": {},
     "output_type": "display_data"
    }
   ],
   "source": [
    "GAPS[GAPS$Pr_GBD>=0.05 & GAPS$Disease==\"Neonatal disorders\",-c(1:3,5)]"
   ]
  },
  {
   "cell_type": "code",
   "execution_count": 101,
   "metadata": {
    "collapsed": false,
    "scrolled": false
   },
   "outputs": [
    {
     "data": {
      "text/html": [
       "<table>\n",
       "<thead><tr><th></th><th scope=col>Region</th><th scope=col>Patients</th><th scope=col>Pr_Patients</th><th scope=col>GBD</th><th scope=col>Pr_GBD</th></tr></thead>\n",
       "<tbody>\n",
       "\t<tr><th scope=row>11</th><td>North Africa and Middle East</td><td>33284.1724019517            </td><td>0.0370231072076604          </td><td>10785476.172                </td><td>0.105457299678585           </td></tr>\n",
       "\t<tr><th scope=row>23</th><td>Sub-Saharian Africa</td><td>212975.160628435   </td><td>0.069922281285192  </td><td>125531847.741516   </td><td>0.229258956705191  </td></tr>\n",
       "</tbody>\n",
       "</table>\n"
      ],
      "text/latex": [
       "\\begin{tabular}{r|lllll}\n",
       "  & Region & Patients & Pr\\_Patients & GBD & Pr\\_GBD\\\\\n",
       "\\hline\n",
       "\t11 & North Africa and Middle East & 33284.1724019517             & 0.0370231072076604           & 10785476.172                 & 0.105457299678585           \\\\\n",
       "\t23 & Sub-Saharian Africa & 212975.160628435    & 0.069922281285192   & 125531847.741516    & 0.229258956705191  \\\\\n",
       "\\end{tabular}\n"
      ],
      "text/plain": [
       "                         Region  Patients Pr_Patients       GBD    Pr_GBD\n",
       "11 North Africa and Middle East  33284.17  0.03702311  10785476 0.1054573\n",
       "23          Sub-Saharian Africa 212975.16  0.06992228 125531848 0.2292590"
      ]
     },
     "metadata": {},
     "output_type": "display_data"
    }
   ],
   "source": [
    "GAPS[GAPS$Pr_GBD>=0.05 & 1:nrow(GAPS)%in%grep(\"Diarrhea\",GAPS$Dis),-c(1:3,5)]"
   ]
  },
  {
   "cell_type": "code",
   "execution_count": 102,
   "metadata": {
    "collapsed": false,
    "scrolled": true
   },
   "outputs": [
    {
     "data": {
      "text/html": [
       "<table>\n",
       "<thead><tr><th></th><th scope=col>Disease</th><th scope=col>Region</th><th scope=col>Patients</th><th scope=col>Pr_Patients</th><th scope=col>GBD</th><th scope=col>Pr_GBD</th></tr></thead>\n",
       "<tbody>\n",
       "\t<tr><th scope=row>1</th><td>Cirrhosis of the liver                          </td><td>Central Europe, Eastern Europe, and Central Asia</td><td>11026.0590052792                                </td><td>0.00643509247728679                             </td><td>4090337.297                                     </td><td>0.0269957412490737                              </td></tr>\n",
       "\t<tr><th scope=row>2</th><td>Neonatal disorders                              </td><td>Central Europe, Eastern Europe, and Central Asia</td><td>4723.13980668454                                </td><td>0.00275654623511602                             </td><td>3883909.788                                     </td><td>0.0256333441617377                              </td></tr>\n",
       "\t<tr><th scope=row>3</th><td>Tuberculosis                                    </td><td>Central Europe, Eastern Europe, and Central Asia</td><td>4657.02380952381                                </td><td>0.00271795923356328                             </td><td>2769215.04                                      </td><td>0.0182764909724469                              </td></tr>\n",
       "\t<tr><th scope=row>5</th><td>Oral disorders     </td><td>High-income        </td><td>104009.530525031   </td><td>0.00498192228689552</td><td>2345971.817        </td><td>0.0101315441008439 </td></tr>\n",
       "\t<tr><th scope=row>6</th><td>Cirrhosis of the liver     </td><td>Latin America and Caribbean</td><td>4995.96836766605           </td><td>0.00536016856379864        </td><td>2376422.022                </td><td>0.0205737666197525         </td></tr>\n",
       "\t<tr><th scope=row>7</th><td>Congenital anomalies       </td><td>Latin America and Caribbean</td><td>6589.37817021001           </td><td>0.00706973605988644        </td><td>3617507.872                </td><td>0.0313184114667515         </td></tr>\n",
       "\t<tr><th scope=row>10</th><td>Congenital anomalies        </td><td>North Africa and Middle East</td><td>12246.3978270238            </td><td>0.0136220812157245          </td><td>5091067.5                   </td><td>0.0497790011743029          </td></tr>\n",
       "\t<tr><th scope=row>12</th><td>Hemoglobinopathies and hemolytic anemias</td><td>North Africa and Middle East            </td><td>3649.82943722944                        </td><td>0.00405982834460672                     </td><td>1066843.92                              </td><td>0.0104312945657228                      </td></tr>\n",
       "\t<tr><th scope=row>15</th><td>Congenital anomalies</td><td>South Asia          </td><td>7117.77254901961    </td><td>0.00404869175968051 </td><td>12842241.56         </td><td>0.0210283123049935  </td></tr>\n",
       "\t<tr><th scope=row>16</th><td>Tuberculosis      </td><td>South Asia        </td><td>20352.4178571429  </td><td>0.0115767490321306</td><td>23662351.34       </td><td>0.0387455189596979</td></tr>\n",
       "\t<tr><th scope=row>18</th><td>Congenital anomalies                 </td><td>Southeast Asia, East Asia and Oceania</td><td>27916.3399898056                     </td><td>0.00835714874395278                  </td><td>10039357.304                         </td><td>0.0217798601359548                   </td></tr>\n",
       "\t<tr><th scope=row>21</th><td>Tuberculosis                         </td><td>Southeast Asia, East Asia and Oceania</td><td>38466.521031746                      </td><td>0.0115154937231056                   </td><td>13100468.458                         </td><td>0.0284207805430976                   </td></tr>\n",
       "\t<tr><th scope=row>22</th><td>Congenital anomalies</td><td>Sub-Saharian Africa </td><td>1300.24700789407    </td><td>0.000426886575682948</td><td>7288013.398         </td><td>0.0133101071810827  </td></tr>\n",
       "\t<tr><th scope=row>24</th><td>Musculoskeletal disorders</td><td>Sub-Saharian Africa      </td><td>34711.0156853946         </td><td>0.0113960397789451       </td><td>13350778.793412          </td><td>0.0243825425375871       </td></tr>\n",
       "\t<tr><th scope=row>26</th><td>Sexually transmitted diseases excluding HIV</td><td>Sub-Saharian Africa                        </td><td>9788                                       </td><td>0.00321351695286893                        </td><td>6979984.6827                               </td><td>0.0127475539870094                         </td></tr>\n",
       "</tbody>\n",
       "</table>\n"
      ],
      "text/latex": [
       "\\begin{tabular}{r|llllll}\n",
       "  & Disease & Region & Patients & Pr\\_Patients & GBD & Pr\\_GBD\\\\\n",
       "\\hline\n",
       "\t1 & Cirrhosis of the liver                           & Central Europe, Eastern Europe, and Central Asia & 11026.0590052792                                 & 0.00643509247728679                              & 4090337.297                                      & 0.0269957412490737                              \\\\\n",
       "\t2 & Neonatal disorders                               & Central Europe, Eastern Europe, and Central Asia & 4723.13980668454                                 & 0.00275654623511602                              & 3883909.788                                      & 0.0256333441617377                              \\\\\n",
       "\t3 & Tuberculosis                                     & Central Europe, Eastern Europe, and Central Asia & 4657.02380952381                                 & 0.00271795923356328                              & 2769215.04                                       & 0.0182764909724469                              \\\\\n",
       "\t5 & Oral disorders      & High-income         & 104009.530525031    & 0.00498192228689552 & 2345971.817         & 0.0101315441008439 \\\\\n",
       "\t6 & Cirrhosis of the liver      & Latin America and Caribbean & 4995.96836766605            & 0.00536016856379864         & 2376422.022                 & 0.0205737666197525         \\\\\n",
       "\t7 & Congenital anomalies        & Latin America and Caribbean & 6589.37817021001            & 0.00706973605988644         & 3617507.872                 & 0.0313184114667515         \\\\\n",
       "\t10 & Congenital anomalies         & North Africa and Middle East & 12246.3978270238             & 0.0136220812157245           & 5091067.5                    & 0.0497790011743029          \\\\\n",
       "\t12 & Hemoglobinopathies and hemolytic anemias & North Africa and Middle East             & 3649.82943722944                         & 0.00405982834460672                      & 1066843.92                               & 0.0104312945657228                      \\\\\n",
       "\t15 & Congenital anomalies & South Asia           & 7117.77254901961     & 0.00404869175968051  & 12842241.56          & 0.0210283123049935  \\\\\n",
       "\t16 & Tuberculosis       & South Asia         & 20352.4178571429   & 0.0115767490321306 & 23662351.34        & 0.0387455189596979\\\\\n",
       "\t18 & Congenital anomalies                  & Southeast Asia, East Asia and Oceania & 27916.3399898056                      & 0.00835714874395278                   & 10039357.304                          & 0.0217798601359548                   \\\\\n",
       "\t21 & Tuberculosis                          & Southeast Asia, East Asia and Oceania & 38466.521031746                       & 0.0115154937231056                    & 13100468.458                          & 0.0284207805430976                   \\\\\n",
       "\t22 & Congenital anomalies & Sub-Saharian Africa  & 1300.24700789407     & 0.000426886575682948 & 7288013.398          & 0.0133101071810827  \\\\\n",
       "\t24 & Musculoskeletal disorders & Sub-Saharian Africa       & 34711.0156853946          & 0.0113960397789451        & 13350778.793412           & 0.0243825425375871       \\\\\n",
       "\t26 & Sexually transmitted diseases excluding HIV & Sub-Saharian Africa                         & 9788                                        & 0.00321351695286893                         & 6979984.6827                                & 0.0127475539870094                         \\\\\n",
       "\\end{tabular}\n"
      ],
      "text/plain": [
       "                                       Disease\n",
       "1                       Cirrhosis of the liver\n",
       "2                           Neonatal disorders\n",
       "3                                 Tuberculosis\n",
       "5                               Oral disorders\n",
       "6                       Cirrhosis of the liver\n",
       "7                         Congenital anomalies\n",
       "10                        Congenital anomalies\n",
       "12    Hemoglobinopathies and hemolytic anemias\n",
       "15                        Congenital anomalies\n",
       "16                                Tuberculosis\n",
       "18                        Congenital anomalies\n",
       "21                                Tuberculosis\n",
       "22                        Congenital anomalies\n",
       "24                   Musculoskeletal disorders\n",
       "26 Sexually transmitted diseases excluding HIV\n",
       "                                             Region   Patients  Pr_Patients\n",
       "1  Central Europe, Eastern Europe, and Central Asia  11026.059 0.0064350925\n",
       "2  Central Europe, Eastern Europe, and Central Asia   4723.140 0.0027565462\n",
       "3  Central Europe, Eastern Europe, and Central Asia   4657.024 0.0027179592\n",
       "5                                       High-income 104009.531 0.0049819223\n",
       "6                       Latin America and Caribbean   4995.968 0.0053601686\n",
       "7                       Latin America and Caribbean   6589.378 0.0070697361\n",
       "10                     North Africa and Middle East  12246.398 0.0136220812\n",
       "12                     North Africa and Middle East   3649.829 0.0040598283\n",
       "15                                       South Asia   7117.773 0.0040486918\n",
       "16                                       South Asia  20352.418 0.0115767490\n",
       "18            Southeast Asia, East Asia and Oceania  27916.340 0.0083571487\n",
       "21            Southeast Asia, East Asia and Oceania  38466.521 0.0115154937\n",
       "22                              Sub-Saharian Africa   1300.247 0.0004268866\n",
       "24                              Sub-Saharian Africa  34711.016 0.0113960398\n",
       "26                              Sub-Saharian Africa   9788.000 0.0032135170\n",
       "        GBD     Pr_GBD\n",
       "1   4090337 0.02699574\n",
       "2   3883910 0.02563334\n",
       "3   2769215 0.01827649\n",
       "5   2345972 0.01013154\n",
       "6   2376422 0.02057377\n",
       "7   3617508 0.03131841\n",
       "10  5091068 0.04977900\n",
       "12  1066844 0.01043129\n",
       "15 12842242 0.02102831\n",
       "16 23662351 0.03874552\n",
       "18 10039357 0.02177986\n",
       "21 13100468 0.02842078\n",
       "22  7288013 0.01331011\n",
       "24 13350779 0.02438254\n",
       "26  6979985 0.01274755"
      ]
     },
     "metadata": {},
     "output_type": "display_data"
    }
   ],
   "source": [
    "GAPS[GAPS$Pr_GBD>=0.01 & GAPS$Pr_GBD<0.05,-c(1:2,5)]"
   ]
  },
  {
   "cell_type": "code",
   "execution_count": 103,
   "metadata": {
    "collapsed": false,
    "scrolled": true
   },
   "outputs": [],
   "source": [
    "write.table(GAPS,\"/media/igna/Elements/HotelDieu/Cochrane/Mapping_Cancer/Tables/Local_research_gaps_patients.txt\")"
   ]
  },
  {
   "cell_type": "code",
   "execution_count": null,
   "metadata": {
    "collapsed": true
   },
   "outputs": [],
   "source": []
  }
 ],
 "metadata": {
  "kernelspec": {
   "display_name": "R",
   "language": "R",
   "name": "ir"
  },
  "language_info": {
   "codemirror_mode": "r",
   "file_extension": ".r",
   "mimetype": "text/x-r-source",
   "name": "R",
   "pygments_lexer": "r",
   "version": "3.3.1"
  }
 },
 "nbformat": 4,
 "nbformat_minor": 1
}
