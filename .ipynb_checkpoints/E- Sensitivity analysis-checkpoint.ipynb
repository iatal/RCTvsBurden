{
 "cells": [
  {
   "cell_type": "markdown",
   "metadata": {
    "collapsed": true
   },
   "source": [
    "# Sensitivity analysis\n",
    "For research gaps found, we simulate what would have been the mapping of RCTs within regions across diseases if the misclassification of RCTs towards groups of diseases was corrected, given the sensitivities and specificities of the classifier to identify each group of disease.\n",
    "\n",
    "To estimate the performances of the classifier for each group of diseases, we dispose a test set with 2,763 trials manually classified towards the 27-class grouping of diseases used in this work. The test set is described at Atal et al. BMC Bioinformatics 2016.\n",
    "\n",
    "The method used is based on the method presented at Fox et al. Int J Epidemiol 2005.\n",
    "\n",
    "To do so, for each disease for which we found a local research gap we will:\n",
    "\n",
    "1. Estimate the sensitivity and specificity of the classifier to identify the disease\n",
    "2. Estimate the sensitivity and specificity of the classifier to identify other studies relevant to the burden of diseases\n",
    "3. Derive triangular distributions simulating the corresponding sensitivities and specificities\n",
    "4. Doing N=60k times the following simulation\n",
    "    * Randomly choose a sens and spec for identifying the disease and identifying another disease (no correlation between both)\n",
    "    * Derive Positive and Negative Predictive Values (PPV and NPV) for each.\n",
    "    * Simulate the correction of the classification based on PPVs and NPVs\n",
    "    * Derive the proportion of RCTs concerning the disease among all RCTs concerning the burden of disease in the region\n",
    "5. Derive 95% upper-bond simulation interval of the proportion of RCTs concerning the disease among all RCTs concerning the burden of diseases"
   ]
  },
  {
   "cell_type": "markdown",
   "metadata": {},
   "source": [
    "## 1. Estimating sensitivities and specificities based on test set"
   ]
  },
  {
   "cell_type": "code",
   "execution_count": 2,
   "metadata": {
    "collapsed": false
   },
   "outputs": [
    {
     "data": {
      "text/html": [
       "<ol class=list-inline>\n",
       "\t<li>2763</li>\n",
       "\t<li>8</li>\n",
       "</ol>\n"
      ],
      "text/latex": [
       "\\begin{enumerate*}\n",
       "\\item 2763\n",
       "\\item 8\n",
       "\\end{enumerate*}\n"
      ],
      "text/markdown": [
       "1. 2763\n",
       "2. 8\n",
       "\n",
       "\n"
      ],
      "text/plain": [
       "[1] 2763    8"
      ]
     },
     "metadata": {},
     "output_type": "display_data"
    }
   ],
   "source": [
    "test_set <- read.table(\"/media/igna/Elements/HotelDieu/Cochrane/MetaMapBurden/Paper_classifier/NCT_data_classified_to28cats.txt\")\n",
    "dim(test_set)"
   ]
  },
  {
   "cell_type": "code",
   "execution_count": 3,
   "metadata": {
    "collapsed": false
   },
   "outputs": [],
   "source": [
    "#We supress injuries from trials concerning the burden of diseases\n",
    "test_set$GBDnp <- sapply(strsplit(as.character(test_set$GBDnp),\"&&\"),function(x){paste(x[x!=\"28\"],collapse=\"&\")})\n",
    "test_set$GBD28 <- sapply(strsplit(as.character(test_set$GBD28),\"&\"),function(x){paste(x[x!=\"28\"],collapse=\"&\")})"
   ]
  },
  {
   "cell_type": "code",
   "execution_count": 4,
   "metadata": {
    "collapsed": true
   },
   "outputs": [],
   "source": [
    "tst <- strsplit(test_set$GBDnp,\"&\")\n",
    "alg <- strsplit(test_set$GBD28,\"&\")"
   ]
  },
  {
   "cell_type": "code",
   "execution_count": 5,
   "metadata": {
    "collapsed": true
   },
   "outputs": [],
   "source": [
    "source('Evaluation_metrics.R')"
   ]
  },
  {
   "cell_type": "code",
   "execution_count": null,
   "metadata": {
    "collapsed": true
   },
   "outputs": [],
   "source": [
    "i <- 2\n",
    "   ALG <- lapply(alg,function(x){rs <- c()\n",
    "                                  if(i%in%x) rs <- c(\"1\")\n",
    "                                  if(sum(setdiff(dis,i)%in%x)!=0) rs <- c(rs,\"2\")\n",
    "                                  return(rs)\n",
    "                                      })\n",
    "\n",
    "    DT <- lapply(dt,function(x){rs <- c()\n",
    "                                if(i%in%x) rs <- c(\"1\")\n",
    "                                if(sum(setdiff(dis,i)%in%x)!=0) rs <- c(rs,\"2\")\n",
    "                                return(rs)\n",
    "                                    })\n"
   ]
  },
  {
   "cell_type": "code",
   "execution_count": null,
   "metadata": {
    "collapsed": true
   },
   "outputs": [],
   "source": [
    "\n",
    "#For each category in 1:27, sens and spec of finding the disease and of finding another disease\n",
    "\n",
    "dis <- as.character(1:27)\n",
    "\n",
    "PERF_F  <- data.frame()\n",
    "for(i in dis){\n",
    "    ALG <- lapply(alg,function(x){rs <- c()\n",
    "                                  if(i%in%x) rs <- c(\"1\")\n",
    "                                  if(sum(setdiff(dis,i)%in%x)!=0) rs <- c(rs,\"2\")\n",
    "                                  return(rs)\n",
    "                                      })\n",
    "\n",
    "    DT <- lapply(dt,function(x){rs <- c()\n",
    "                                if(i%in%x) rs <- c(\"1\")\n",
    "                                if(sum(setdiff(dis,i)%in%x)!=0) rs <- c(rs,\"2\")\n",
    "                                return(rs)\n",
    "                                    })\n",
    "\n",
    "\n",
    "CM <- conf_matrix(ALG,DT,labs=c(1,2))\n",
    "\n",
    "PERF <- CM[,1]+CM[,4]\n",
    "\n",
    "LR <- apply(CM,1,function(x){m <- matrix(x[c(1,2,4,3)],ncol=2,byrow=TRUE)\n",
    "\t\t\t\tmetr.ci(m)})\n",
    "\n",
    "lr <- unlist(lapply(LR,function(x){\n",
    "c(x$sens,x$lower.sens,x$upper.sens,paste(c(format(round(100*x$sens,1),nsmall=1),\" [\",format(round(100*x$lower.sens,1),nsmall=1),\"-\",format(round(100*x$upper.sens,1),nsmall=1),\"]\"),collapse=\"\"),x$spec,x$lower.spec,x$upper.spec,\n",
    "paste(c(format(round(100*x$spec,1),nsmall=1),\" [\",format(round(100*x$lower.spec,1),nsmall=1),\"-\",format(round(100*x$upper.spec,1),nsmall=1),\"]\"),collapse=\"\"))\n",
    "}))\n",
    "lr <- matrix(lr,ncol=16,byrow=TRUE)\n",
    "\n",
    "PERF <- cbind(PERF[1],lr)\n",
    "PERF <- data.frame(PERF)\n",
    "PERF$GBD <- as.character(Mgbd$cause_name)[as.numeric(i)]\n",
    "\n",
    "names(PERF) <- c(\"Nb\",\"Sens_dis\",\"Sens_dis_low\",\"Sens_dis_up\",\"Sensitiviy_dis\",\"Spec_dis\",\"Spec_dis_low\",\"Spec_dis_up\",\n",
    "\"Specificity_dis\",\"Sens_oth\",\"Sens_oth_low\",\"Sens_oth_up\",\"Sensitiviy_oth\",\"Spec_oth\",\"Spec_oth_low\",\"Spec_oth_up\",\n",
    "\"Specificity_oth\",\"GBD\")\n",
    "\n",
    "PERF_F <- rbind(PERF_F,PERF)\n",
    "}\n",
    "\n",
    "PERF_F <- PERF_F[,c(18,1:17)]\n",
    "\n",
    "setwd('/media/igna/Elements/HotelDieu/Cochrane')\n",
    "\n",
    "write.table(PERF_F,\"Mapping_Cancer/Incertitude_mapping/Sp_Sens_evaluation/Sens_and_Spec_per_28disease_vs_others_data.txt\")\n"
   ]
  }
 ],
 "metadata": {
  "kernelspec": {
   "display_name": "R",
   "language": "R",
   "name": "ir"
  },
  "language_info": {
   "codemirror_mode": "r",
   "file_extension": ".r",
   "mimetype": "text/x-r-source",
   "name": "R",
   "pygments_lexer": "r",
   "version": "3.3.1"
  }
 },
 "nbformat": 4,
 "nbformat_minor": 1
}
