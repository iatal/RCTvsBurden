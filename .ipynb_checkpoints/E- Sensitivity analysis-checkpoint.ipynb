{
 "cells": [
  {
   "cell_type": "markdown",
   "metadata": {
    "collapsed": true
   },
   "source": [
    "# Sensitivity analysis\n",
    "For research gaps found, we simulate what would have been the mapping of RCTs within regions across diseases if the misclassification of RCTs towards groups of diseases was corrected, given the sensitivities and specificities of the classifier to identify each group of disease.\n",
    "\n",
    "To estimate the performances of the classifier for each group of diseases, we dispose a test set with 2,763 trials manually classified towards the 27-class grouping of diseases used in this work. The test set is described at Atal et al. BMC Bioinformatics 2016.\n",
    "\n",
    "The method used is based on the method presented at Fox et al. Int J Epidemiol 2005.\n",
    "\n",
    "To do so, for each disease for which we found a local research gap we will:\n",
    "\n",
    "1. Estimate the sensitivity and specificity of the classifier to identify the disease\n",
    "2. Estimate the sensitivity and specificity of the classifier to identify other studies relevant to the burden of diseases\n",
    "3. Derive triangular distributions simulating the corresponding sensitivities and specificities\n",
    "4. Doing N=60k times the following simulation\n",
    "    * Randomly choose a sens and spec for identifying the disease and identifying another disease (no correlation between both)\n",
    "    * Derive Positive and Negative Predictive Values (PPV and NPV) for each.\n",
    "    * Simulate the correction of the classification based on PPVs and NPVs\n",
    "    * Derive the proportion of RCTs concerning the disease among all RCTs concerning the burden of disease in the region\n",
    "5. Derive 95% upper-bond simulation interval of the proportion of RCTs concerning the disease among all RCTs concerning the burden of diseases"
   ]
  },
  {
   "cell_type": "markdown",
   "metadata": {},
   "source": [
    "## 1. Estimating sensitivities and specificities based on test set"
   ]
  },
  {
   "cell_type": "code",
   "execution_count": 2,
   "metadata": {
    "collapsed": false
   },
   "outputs": [
    {
     "data": {
      "text/html": [
       "<ol class=list-inline>\n",
       "\t<li>2763</li>\n",
       "\t<li>8</li>\n",
       "</ol>\n"
      ],
      "text/latex": [
       "\\begin{enumerate*}\n",
       "\\item 2763\n",
       "\\item 8\n",
       "\\end{enumerate*}\n"
      ],
      "text/markdown": [
       "1. 2763\n",
       "2. 8\n",
       "\n",
       "\n"
      ],
      "text/plain": [
       "[1] 2763    8"
      ]
     },
     "metadata": {},
     "output_type": "display_data"
    }
   ],
   "source": [
    "test_set <- read.table(\"/media/igna/Elements/HotelDieu/Cochrane/MetaMapBurden/Paper_classifier/NCT_data_classified_to28cats.txt\")\n",
    "dim(test_set)"
   ]
  },
  {
   "cell_type": "code",
   "execution_count": 3,
   "metadata": {
    "collapsed": false
   },
   "outputs": [],
   "source": [
    "#We supress injuries from trials concerning the burden of diseases\n",
    "test_set$GBDnp <- sapply(strsplit(as.character(test_set$GBDnp),\"&&\"),function(x){paste(x[x!=\"28\"],collapse=\"&\")})\n",
    "test_set$GBD28 <- sapply(strsplit(as.character(test_set$GBD28),\"&\"),function(x){paste(x[x!=\"28\"],collapse=\"&\")})"
   ]
  },
  {
   "cell_type": "code",
   "execution_count": 9,
   "metadata": {
    "collapsed": true
   },
   "outputs": [],
   "source": [
    "tst <- strsplit(test_set$GBDnp,\"&\")\n",
    "alg <- strsplit(test_set$GBD28,\"&\")\n",
    "tst <- lapply(tst,as.numeric)\n",
    "alg <- lapply(alg,as.numeric)"
   ]
  },
  {
   "cell_type": "code",
   "execution_count": 31,
   "metadata": {
    "collapsed": true
   },
   "outputs": [],
   "source": [
    "source('Evaluation_metrics.R')"
   ]
  },
  {
   "cell_type": "code",
   "execution_count": 37,
   "metadata": {
    "collapsed": false
   },
   "outputs": [],
   "source": [
    "dis <- 1:27\n",
    "Mgbd <- read.table(\"/home/igna/Desktop/Programs GBD/Classifier_Trial_GBD/Databases/Taxonomy_DL/GBD_data/GBD_ICD.txt\")"
   ]
  },
  {
   "cell_type": "code",
   "execution_count": 57,
   "metadata": {
    "collapsed": false
   },
   "outputs": [],
   "source": [
    "#For each category in 1:27, sens and spec of finding the disease and of finding another disease\n",
    "set.seed(7212)\n",
    "\n",
    "dis <- as.character(1:27)\n",
    "\n",
    "PERF_F  <- data.frame()\n",
    "for(i in dis){\n",
    "    ALG <- lapply(alg,function(x){rs <- c()\n",
    "                                  if(i%in%x) rs <- c(1)\n",
    "                                  if(sum(setdiff(dis,i)%in%x)!=0) rs <- c(rs,2)\n",
    "                                  return(rs)\n",
    "                                      })\n",
    "\n",
    "    DT <- lapply(tst,function(x){rs <- c()\n",
    "                                if(i%in%x) rs <- c(1)\n",
    "                                if(sum(setdiff(dis,i)%in%x)!=0) rs <- c(rs,2)\n",
    "                                return(rs)\n",
    "                                    })\n",
    "\n",
    "    CM <- conf_matrix(ALG,DT,c(1,2))\n",
    "\n",
    "    PERF <- CM[,1]+CM[,4]\n",
    "\n",
    "    LR <- apply(CM,1,function(x){m <- matrix(x[c(1,2,4,3)],ncol=2,byrow=TRUE)\n",
    "                                 metr.ci(m)})\n",
    "\n",
    "    lr <- unlist(lapply(LR,function(x){\n",
    "        c(x$sens,x$lower.sens,x$upper.sens,\n",
    "          paste(c(format(round(100*x$sens,1),nsmall=1),\n",
    "                  \" [\",format(round(100*x$lower.sens,1),nsmall=1),\n",
    "                  \"-\",format(round(100*x$upper.sens,1),nsmall=1),\"]\"),\n",
    "                collapse=\"\"),\n",
    "          x$spec,x$lower.spec,x$upper.spec,\n",
    "          paste(c(format(round(100*x$spec,1),nsmall=1),\n",
    "                  \" [\",format(round(100*x$lower.spec,1),nsmall=1),\"-\",\n",
    "                  format(round(100*x$upper.spec,1),nsmall=1),\"]\"),\n",
    "                collapse=\"\"))\n",
    "    }))\n",
    "                                    \n",
    "    lr <- matrix(lr,ncol=16,byrow=TRUE)\n",
    "\n",
    "    PERF <- cbind(PERF[1],lr)\n",
    "    PERF <- data.frame(PERF)\n",
    "    PERF$GBD <- as.character(Mgbd$cause_name)[as.numeric(i)]\n",
    "\n",
    "    names(PERF) <- c(\"Nb\",\n",
    "                     \"Sens_dis\",\"Sens_dis_low\",\"Sens_dis_up\",\n",
    "                     \"Sensitiviy_dis\",\n",
    "                     \"Spec_dis\",\"Spec_dis_low\",\"Spec_dis_up\",\n",
    "                     \"Specificity_dis\",\n",
    "                     \"Sens_oth\",\"Sens_oth_low\",\"Sens_oth_up\",\n",
    "                     \"Sensitiviy_oth\",\n",
    "                     \"Spec_oth\",\"Spec_oth_low\",\"Spec_oth_up\",\n",
    "                     \"Specificity_oth\",\n",
    "                     \"GBD\")\n",
    "\n",
    "    PERF_F <- rbind(PERF_F,PERF)\n",
    "}\n"
   ]
  },
  {
   "cell_type": "code",
   "execution_count": 58,
   "metadata": {
    "collapsed": true
   },
   "outputs": [],
   "source": [
    "PERF_F <- PERF_F[,c(18,1:17)]\n",
    "PERF_F  <- cbind(dis,PERF_F)"
   ]
  },
  {
   "cell_type": "code",
   "execution_count": 59,
   "metadata": {
    "collapsed": false
   },
   "outputs": [
    {
     "data": {
      "text/html": [
       "<table>\n",
       "<thead><tr><th></th><th scope=col>dis</th><th scope=col>GBD</th><th scope=col>Nb</th><th scope=col>Sens_dis</th><th scope=col>Sens_dis_low</th><th scope=col>Sens_dis_up</th><th scope=col>Sensitiviy_dis</th><th scope=col>Spec_dis</th><th scope=col>Spec_dis_low</th><th scope=col>Spec_dis_up</th><th scope=col>Specificity_dis</th><th scope=col>Sens_oth</th><th scope=col>Sens_oth_low</th><th scope=col>Sens_oth_up</th><th scope=col>Sensitiviy_oth</th><th scope=col>Spec_oth</th><th scope=col>Spec_oth_low</th><th scope=col>Spec_oth_up</th><th scope=col>Specificity_oth</th></tr></thead>\n",
       "<tbody>\n",
       "\t<tr><th scope=row>1</th><td>1                </td><td>Tuberculosis     </td><td>16               </td><td>0.875            </td><td>0.719423456130283</td><td>0.885370783468889</td><td>87.5 [71.9-88.5] </td><td>0.999271933017838</td><td>0.997949399364193</td><td>0.999200033295566</td><td>99.9 [99.8-99.9] </td><td>0.934554973821989</td><td>0.928653123483889</td><td>0.939002607858828</td><td>93.5 [92.9-93.9] </td><td>0.56687898089172 </td><td>0.543597039339523</td><td>0.589078822950315</td><td>56.7 [54.4-58.9] </td></tr>\n",
       "\t<tr><th scope=row>11</th><td>2                </td><td>HIV/AIDS         </td><td>97               </td><td>0.88659793814433 </td><td>0.839413345514168</td><td>0.904328374182265</td><td>88.7 [83.9-90.4] </td><td>0.997374343585896</td><td>0.995603153829637</td><td>0.997714255051797</td><td>99.7 [99.6-99.8] </td><td>0.935018050541516</td><td>0.929019436341732</td><td>0.939511058184784</td><td>93.5 [92.9-94.0] </td><td>0.608775137111517</td><td>0.587219422352139</td><td>0.628813699509765</td><td>60.9 [58.7-62.9] </td></tr>\n",
       "\t<tr><th scope=row>12</th><td>3                                                                                       </td><td>Diarrhea, lower respiratory infections, meningitis, and other common infectious diseases</td><td>49                                                                                      </td><td>0.816326530612245                                                                       </td><td>0.738785244854365                                                                       </td><td>0.847875318495933                                                                       </td><td>81.6 [73.9-84.8]                                                                        </td><td>0.992262343404569                                                                       </td><td>0.989848727692075                                                                       </td><td>0.993284409573193                                                                       </td><td>99.2 [99.0-99.3]                                                                        </td><td>0.936198493575543                                                                       </td><td>0.930303430284688                                                                       </td><td>0.940611242797729                                                                       </td><td>93.6 [93.0-94.1]                                                                        </td><td>0.590909090909091                                                                       </td><td>0.568446596769155                                                                       </td><td>0.612001655149792                                                                       </td><td>59.1 [56.8-61.2]                                                                        </td></tr>\n",
       "\t<tr><th scope=row>13</th><td>4                 </td><td>Malaria           </td><td>14                </td><td>1                 </td><td>0.784689197262364 </td><td>1                 </td><td>100.0 [78.5-100.0]</td><td>0.999636231356857 </td><td>0.998430447299834 </td><td>0.999447578402672 </td><td>100.0 [99.8-99.9] </td><td>0.934554973821989 </td><td>0.928653123483889 </td><td>0.939002607858828 </td><td>93.5 [92.9-93.9]  </td><td>0.56687898089172  </td><td>0.543597039339523 </td><td>0.589078822950315 </td><td>56.7 [54.4-58.9]  </td></tr>\n",
       "\t<tr><th scope=row>14</th><td>5                                            </td><td>Neglected tropical diseases excluding malaria</td><td>7                                            </td><td>0.857142857142857                            </td><td>0.606244956336051                            </td><td>0.854947590044887                            </td><td>85.7 [60.6-85.5]                             </td><td>1                                            </td><td>0.998608087139058                            </td><td>1                                            </td><td>100.0 [99.9-100.0]                           </td><td>0.935189212701174                            </td><td>0.929319619877219                            </td><td>0.939606893641749                            </td><td>93.5 [92.9-94.0]                             </td><td>0.5625                                       </td><td>0.539050200336141                            </td><td>0.584923421296714                            </td><td>56.2 [53.9-58.5]                             </td></tr>\n",
       "\t<tr><th scope=row>15</th><td>6                 </td><td>Maternal disorders</td><td>43                </td><td>0.395348837209302 </td><td>0.332359478586957 </td><td>0.475503038367278 </td><td>39.5 [33.2-47.6]  </td><td>0.998161764705882 </td><td>0.99656359143017  </td><td>0.998354813686298 </td><td>99.8 [99.7-99.8]  </td><td>0.940812720848057 </td><td>0.93509623212515  </td><td>0.945035838940323 </td><td>94.1 [93.5-94.5]  </td><td>0.579158316633267 </td><td>0.556535218339922 </td><td>0.600571954535754 </td><td>57.9 [55.7-60.1]  </td></tr>\n",
       "</tbody>\n",
       "</table>\n"
      ],
      "text/latex": [
       "\\begin{tabular}{r|lllllllllllllllllll}\n",
       "  & dis & GBD & Nb & Sens\\_dis & Sens\\_dis\\_low & Sens\\_dis\\_up & Sensitiviy\\_dis & Spec\\_dis & Spec\\_dis\\_low & Spec\\_dis\\_up & Specificity\\_dis & Sens\\_oth & Sens\\_oth\\_low & Sens\\_oth\\_up & Sensitiviy\\_oth & Spec\\_oth & Spec\\_oth\\_low & Spec\\_oth\\_up & Specificity\\_oth\\\\\n",
       "\\hline\n",
       "\t1 & 1                    & Tuberculosis         & 16                   & 0.875                & 0.719423456130283    & 0.885370783468889    & 87.5 {[}71.9-88.5{]} & 0.999271933017838    & 0.997949399364193    & 0.999200033295566    & 99.9 {[}99.8-99.9{]} & 0.934554973821989    & 0.928653123483889    & 0.939002607858828    & 93.5 {[}92.9-93.9{]} & 0.56687898089172     & 0.543597039339523    & 0.589078822950315    & 56.7 {[}54.4-58.9{]}\\\\\n",
       "\t11 & 2                    & HIV/AIDS             & 97                   & 0.88659793814433     & 0.839413345514168    & 0.904328374182265    & 88.7 {[}83.9-90.4{]} & 0.997374343585896    & 0.995603153829637    & 0.997714255051797    & 99.7 {[}99.6-99.8{]} & 0.935018050541516    & 0.929019436341732    & 0.939511058184784    & 93.5 {[}92.9-94.0{]} & 0.608775137111517    & 0.587219422352139    & 0.628813699509765    & 60.9 {[}58.7-62.9{]}\\\\\n",
       "\t12 & 3                                                                                        & Diarrhea, lower respiratory infections, meningitis, and other common infectious diseases & 49                                                                                       & 0.816326530612245                                                                        & 0.738785244854365                                                                        & 0.847875318495933                                                                        & 81.6 {[}73.9-84.8{]}                                                                     & 0.992262343404569                                                                        & 0.989848727692075                                                                        & 0.993284409573193                                                                        & 99.2 {[}99.0-99.3{]}                                                                     & 0.936198493575543                                                                        & 0.930303430284688                                                                        & 0.940611242797729                                                                        & 93.6 {[}93.0-94.1{]}                                                                     & 0.590909090909091                                                                        & 0.568446596769155                                                                        & 0.612001655149792                                                                        & 59.1 {[}56.8-61.2{]}                                                                    \\\\\n",
       "\t13 & 4                      & Malaria                & 14                     & 1                      & 0.784689197262364      & 1                      & 100.0 {[}78.5-100.0{]} & 0.999636231356857      & 0.998430447299834      & 0.999447578402672      & 100.0 {[}99.8-99.9{]}  & 0.934554973821989      & 0.928653123483889      & 0.939002607858828      & 93.5 {[}92.9-93.9{]}   & 0.56687898089172       & 0.543597039339523      & 0.589078822950315      & 56.7 {[}54.4-58.9{]}  \\\\\n",
       "\t14 & 5                                             & Neglected tropical diseases excluding malaria & 7                                             & 0.857142857142857                             & 0.606244956336051                             & 0.854947590044887                             & 85.7 {[}60.6-85.5{]}                          & 1                                             & 0.998608087139058                             & 1                                             & 100.0 {[}99.9-100.0{]}                        & 0.935189212701174                             & 0.929319619877219                             & 0.939606893641749                             & 93.5 {[}92.9-94.0{]}                          & 0.5625                                        & 0.539050200336141                             & 0.584923421296714                             & 56.2 {[}53.9-58.5{]}                         \\\\\n",
       "\t15 & 6                    & Maternal disorders   & 43                   & 0.395348837209302    & 0.332359478586957    & 0.475503038367278    & 39.5 {[}33.2-47.6{]} & 0.998161764705882    & 0.99656359143017     & 0.998354813686298    & 99.8 {[}99.7-99.8{]} & 0.940812720848057    & 0.93509623212515     & 0.945035838940323    & 94.1 {[}93.5-94.5{]} & 0.579158316633267    & 0.556535218339922    & 0.600571954535754    & 57.9 {[}55.7-60.1{]}\\\\\n",
       "\\end{tabular}\n"
      ],
      "text/plain": [
       "   dis\n",
       "1    1\n",
       "11   2\n",
       "12   3\n",
       "13   4\n",
       "14   5\n",
       "15   6\n",
       "                                                                                        GBD\n",
       "1                                                                              Tuberculosis\n",
       "11                                                                                 HIV/AIDS\n",
       "12 Diarrhea, lower respiratory infections, meningitis, and other common infectious diseases\n",
       "13                                                                                  Malaria\n",
       "14                                            Neglected tropical diseases excluding malaria\n",
       "15                                                                       Maternal disorders\n",
       "   Nb          Sens_dis      Sens_dis_low       Sens_dis_up     Sensitiviy_dis\n",
       "1  16             0.875 0.719423456130283 0.885370783468889   87.5 [71.9-88.5]\n",
       "11 97  0.88659793814433 0.839413345514168 0.904328374182265   88.7 [83.9-90.4]\n",
       "12 49 0.816326530612245 0.738785244854365 0.847875318495933   81.6 [73.9-84.8]\n",
       "13 14                 1 0.784689197262364                 1 100.0 [78.5-100.0]\n",
       "14  7 0.857142857142857 0.606244956336051 0.854947590044887   85.7 [60.6-85.5]\n",
       "15 43 0.395348837209302 0.332359478586957 0.475503038367278   39.5 [33.2-47.6]\n",
       "            Spec_dis      Spec_dis_low       Spec_dis_up    Specificity_dis\n",
       "1  0.999271933017838 0.997949399364193 0.999200033295566   99.9 [99.8-99.9]\n",
       "11 0.997374343585896 0.995603153829637 0.997714255051797   99.7 [99.6-99.8]\n",
       "12 0.992262343404569 0.989848727692075 0.993284409573193   99.2 [99.0-99.3]\n",
       "13 0.999636231356857 0.998430447299834 0.999447578402672  100.0 [99.8-99.9]\n",
       "14                 1 0.998608087139058                 1 100.0 [99.9-100.0]\n",
       "15 0.998161764705882  0.99656359143017 0.998354813686298   99.8 [99.7-99.8]\n",
       "            Sens_oth      Sens_oth_low       Sens_oth_up   Sensitiviy_oth\n",
       "1  0.934554973821989 0.928653123483889 0.939002607858828 93.5 [92.9-93.9]\n",
       "11 0.935018050541516 0.929019436341732 0.939511058184784 93.5 [92.9-94.0]\n",
       "12 0.936198493575543 0.930303430284688 0.940611242797729 93.6 [93.0-94.1]\n",
       "13 0.934554973821989 0.928653123483889 0.939002607858828 93.5 [92.9-93.9]\n",
       "14 0.935189212701174 0.929319619877219 0.939606893641749 93.5 [92.9-94.0]\n",
       "15 0.940812720848057  0.93509623212515 0.945035838940323 94.1 [93.5-94.5]\n",
       "            Spec_oth      Spec_oth_low       Spec_oth_up  Specificity_oth\n",
       "1   0.56687898089172 0.543597039339523 0.589078822950315 56.7 [54.4-58.9]\n",
       "11 0.608775137111517 0.587219422352139 0.628813699509765 60.9 [58.7-62.9]\n",
       "12 0.590909090909091 0.568446596769155 0.612001655149792 59.1 [56.8-61.2]\n",
       "13  0.56687898089172 0.543597039339523 0.589078822950315 56.7 [54.4-58.9]\n",
       "14            0.5625 0.539050200336141 0.584923421296714 56.2 [53.9-58.5]\n",
       "15 0.579158316633267 0.556535218339922 0.600571954535754 57.9 [55.7-60.1]"
      ]
     },
     "metadata": {},
     "output_type": "display_data"
    }
   ],
   "source": [
    "head(PERF_F)"
   ]
  },
  {
   "cell_type": "code",
   "execution_count": 60,
   "metadata": {
    "collapsed": false
   },
   "outputs": [],
   "source": [
    "write.table(PERF_F,'/media/igna/Elements/HotelDieu/Cochrane/Mapping_Cancer/Incertitude_mapping/Sp_Sens_evaluation/Sens_and_Spec_per_27disease_data.txt')"
   ]
  },
  {
   "cell_type": "markdown",
   "metadata": {},
   "source": [
    "### Analysis of performance evaluation"
   ]
  },
  {
   "cell_type": "code",
   "execution_count": 61,
   "metadata": {
    "collapsed": false
   },
   "outputs": [
    {
     "data": {
      "text/plain": [
       "\n",
       "FALSE  TRUE \n",
       "   24     2 "
      ]
     },
     "metadata": {},
     "output_type": "display_data"
    }
   ],
   "source": [
    "table(as.numeric(as.character(PERF_F$Sens_dis)) < \n",
    "      as.numeric(as.character(PERF_F$Sens_dis_low)) | \n",
    "      as.numeric(as.character(PERF_F$Sens_dis)) > \n",
    "      as.numeric(as.character(PERF_F$Sens_dis_up)))"
   ]
  },
  {
   "cell_type": "code",
   "execution_count": 62,
   "metadata": {
    "collapsed": false
   },
   "outputs": [
    {
     "data": {
      "text/html": [
       "<table>\n",
       "<thead><tr><th></th><th scope=col>dis</th><th scope=col>GBD</th><th scope=col>Nb</th><th scope=col>Sens_dis</th><th scope=col>Sens_dis_low</th><th scope=col>Sens_dis_up</th><th scope=col>Sensitiviy_dis</th><th scope=col>Spec_dis</th><th scope=col>Spec_dis_low</th><th scope=col>Spec_dis_up</th><th scope=col>Specificity_dis</th><th scope=col>Sens_oth</th><th scope=col>Sens_oth_low</th><th scope=col>Sens_oth_up</th><th scope=col>Sensitiviy_oth</th><th scope=col>Spec_oth</th><th scope=col>Spec_oth_low</th><th scope=col>Spec_oth_up</th><th scope=col>Specificity_oth</th></tr></thead>\n",
       "<tbody>\n",
       "\t<tr><th scope=row>14</th><td>5                                            </td><td>Neglected tropical diseases excluding malaria</td><td>7                                            </td><td>0.857142857142857                            </td><td>0.606244956336051                            </td><td>0.854947590044887                            </td><td>85.7 [60.6-85.5]                             </td><td>1                                            </td><td>0.998608087139058                            </td><td>1                                            </td><td>100.0 [99.9-100.0]                           </td><td>0.935189212701174                            </td><td>0.929319619877219                            </td><td>0.939606893641749                            </td><td>93.5 [92.9-94.0]                             </td><td>0.5625                                       </td><td>0.539050200336141                            </td><td>0.584923421296714                            </td><td>56.2 [53.9-58.5]                             </td></tr>\n",
       "\t<tr><th scope=row>122</th><td>23                  </td><td>Congenital anomalies</td><td>23                  </td><td>0.956521739130435   </td><td>0.83960461606528    </td><td>0.942767167088678   </td><td>95.7 [84.0-94.3]    </td><td>0.987591240875912   </td><td>0.984766731712753   </td><td>0.989050465855371   </td><td>98.8 [98.5-98.9]    </td><td>0.92904073587385    </td><td>0.922938322186782   </td><td>0.933701735847779   </td><td>92.9 [92.3-93.4]    </td><td>0.572916666666667   </td><td>0.549847822304949   </td><td>0.59482766741149    </td><td>57.3 [55.0-59.5]    </td></tr>\n",
       "\t<tr><th scope=row>NA</th><td>NA</td><td>NA</td><td>NA</td><td>NA</td><td>NA</td><td>NA</td><td>NA</td><td>NA</td><td>NA</td><td>NA</td><td>NA</td><td>NA</td><td>NA</td><td>NA</td><td>NA</td><td>NA</td><td>NA</td><td>NA</td><td>NA</td></tr>\n",
       "</tbody>\n",
       "</table>\n"
      ],
      "text/latex": [
       "\\begin{tabular}{r|lllllllllllllllllll}\n",
       "  & dis & GBD & Nb & Sens\\_dis & Sens\\_dis\\_low & Sens\\_dis\\_up & Sensitiviy\\_dis & Spec\\_dis & Spec\\_dis\\_low & Spec\\_dis\\_up & Specificity\\_dis & Sens\\_oth & Sens\\_oth\\_low & Sens\\_oth\\_up & Sensitiviy\\_oth & Spec\\_oth & Spec\\_oth\\_low & Spec\\_oth\\_up & Specificity\\_oth\\\\\n",
       "\\hline\n",
       "\t14 & 5                                             & Neglected tropical diseases excluding malaria & 7                                             & 0.857142857142857                             & 0.606244956336051                             & 0.854947590044887                             & 85.7 {[}60.6-85.5{]}                          & 1                                             & 0.998608087139058                             & 1                                             & 100.0 {[}99.9-100.0{]}                        & 0.935189212701174                             & 0.929319619877219                             & 0.939606893641749                             & 93.5 {[}92.9-94.0{]}                          & 0.5625                                        & 0.539050200336141                             & 0.584923421296714                             & 56.2 {[}53.9-58.5{]}                         \\\\\n",
       "\t122 & 23                   & Congenital anomalies & 23                   & 0.956521739130435    & 0.83960461606528     & 0.942767167088678    & 95.7 {[}84.0-94.3{]} & 0.987591240875912    & 0.984766731712753    & 0.989050465855371    & 98.8 {[}98.5-98.9{]} & 0.92904073587385     & 0.922938322186782    & 0.933701735847779    & 92.9 {[}92.3-93.4{]} & 0.572916666666667    & 0.549847822304949    & 0.59482766741149     & 57.3 {[}55.0-59.5{]}\\\\\n",
       "\tNA & NA & NA & NA & NA & NA & NA & NA & NA & NA & NA & NA & NA & NA & NA & NA & NA & NA & NA & NA\\\\\n",
       "\\end{tabular}\n"
      ],
      "text/plain": [
       "     dis                                           GBD   Nb          Sens_dis\n",
       "14     5 Neglected tropical diseases excluding malaria    7 0.857142857142857\n",
       "122   23                          Congenital anomalies   23 0.956521739130435\n",
       "NA  <NA>                                          <NA> <NA>              <NA>\n",
       "         Sens_dis_low       Sens_dis_up   Sensitiviy_dis          Spec_dis\n",
       "14  0.606244956336051 0.854947590044887 85.7 [60.6-85.5]                 1\n",
       "122  0.83960461606528 0.942767167088678 95.7 [84.0-94.3] 0.987591240875912\n",
       "NA               <NA>              <NA>             <NA>              <NA>\n",
       "         Spec_dis_low       Spec_dis_up    Specificity_dis          Sens_oth\n",
       "14  0.998608087139058                 1 100.0 [99.9-100.0] 0.935189212701174\n",
       "122 0.984766731712753 0.989050465855371   98.8 [98.5-98.9]  0.92904073587385\n",
       "NA               <NA>              <NA>               <NA>              <NA>\n",
       "         Sens_oth_low       Sens_oth_up   Sensitiviy_oth          Spec_oth\n",
       "14  0.929319619877219 0.939606893641749 93.5 [92.9-94.0]            0.5625\n",
       "122 0.922938322186782 0.933701735847779 92.9 [92.3-93.4] 0.572916666666667\n",
       "NA               <NA>              <NA>             <NA>              <NA>\n",
       "         Spec_oth_low       Spec_oth_up  Specificity_oth\n",
       "14  0.539050200336141 0.584923421296714 56.2 [53.9-58.5]\n",
       "122 0.549847822304949  0.59482766741149 57.3 [55.0-59.5]\n",
       "NA               <NA>              <NA>             <NA>"
      ]
     },
     "metadata": {},
     "output_type": "display_data"
    }
   ],
   "source": [
    "PERF_F[as.numeric(as.character(PERF_F$Sens_dis)) < \n",
    "      as.numeric(as.character(PERF_F$Sens_dis_low)) | \n",
    "      as.numeric(as.character(PERF_F$Sens_dis)) > \n",
    "      as.numeric(as.character(PERF_F$Sens_dis_up)),]"
   ]
  },
  {
   "cell_type": "code",
   "execution_count": 63,
   "metadata": {
    "collapsed": false
   },
   "outputs": [
    {
     "data": {
      "text/plain": [
       "\n",
       "FALSE  TRUE \n",
       "   24     3 "
      ]
     },
     "metadata": {},
     "output_type": "display_data"
    }
   ],
   "source": [
    "table(as.numeric(as.character(PERF_F$Spec_dis)) < \n",
    "      as.numeric(as.character(PERF_F$Spec_dis_low)) | \n",
    "      as.numeric(as.character(PERF_F$Spec_dis)) > \n",
    "      as.numeric(as.character(PERF_F$Spec_dis_up)))"
   ]
  },
  {
   "cell_type": "code",
   "execution_count": 64,
   "metadata": {
    "collapsed": false
   },
   "outputs": [
    {
     "data": {
      "text/html": [
       "<table>\n",
       "<thead><tr><th></th><th scope=col>dis</th><th scope=col>GBD</th><th scope=col>Nb</th><th scope=col>Sens_dis</th><th scope=col>Sens_dis_low</th><th scope=col>Sens_dis_up</th><th scope=col>Sensitiviy_dis</th><th scope=col>Spec_dis</th><th scope=col>Spec_dis_low</th><th scope=col>Spec_dis_up</th><th scope=col>Specificity_dis</th><th scope=col>Sens_oth</th><th scope=col>Sens_oth_low</th><th scope=col>Sens_oth_up</th><th scope=col>Sensitiviy_oth</th><th scope=col>Spec_oth</th><th scope=col>Spec_oth_low</th><th scope=col>Spec_oth_up</th><th scope=col>Specificity_oth</th></tr></thead>\n",
       "<tbody>\n",
       "\t<tr><th scope=row>1</th><td>1                </td><td>Tuberculosis     </td><td>16               </td><td>0.875            </td><td>0.719423456130283</td><td>0.885370783468889</td><td>87.5 [71.9-88.5] </td><td>0.999271933017838</td><td>0.997949399364193</td><td>0.999200033295566</td><td>99.9 [99.8-99.9] </td><td>0.934554973821989</td><td>0.928653123483889</td><td>0.939002607858828</td><td>93.5 [92.9-93.9] </td><td>0.56687898089172 </td><td>0.543597039339523</td><td>0.589078822950315</td><td>56.7 [54.4-58.9] </td></tr>\n",
       "\t<tr><th scope=row>13</th><td>4                 </td><td>Malaria           </td><td>14                </td><td>1                 </td><td>0.784689197262364 </td><td>1                 </td><td>100.0 [78.5-100.0]</td><td>0.999636231356857 </td><td>0.998430447299834 </td><td>0.999447578402672 </td><td>100.0 [99.8-99.9] </td><td>0.934554973821989 </td><td>0.928653123483889 </td><td>0.939002607858828 </td><td>93.5 [92.9-93.9]  </td><td>0.56687898089172  </td><td>0.543597039339523 </td><td>0.589078822950315 </td><td>56.7 [54.4-58.9]  </td></tr>\n",
       "\t<tr><th scope=row>110</th><td>11                </td><td>Leprosy           </td><td>2                 </td><td>1                 </td><td>0.342380227506653 </td><td>1                 </td><td>100.0 [34.2-100.0]</td><td>0.999637812386816 </td><td>0.998437259288162 </td><td>0.999449976234128 </td><td>100.0 [99.8-99.9] </td><td>0.934895833333333 </td><td>0.929023170953626 </td><td>0.939320706109767 </td><td>93.5 [92.9-93.9]  </td><td>0.557734204793028 </td><td>0.534168237081432 </td><td>0.580341815961444 </td><td>55.8 [53.4-58.0]  </td></tr>\n",
       "</tbody>\n",
       "</table>\n"
      ],
      "text/latex": [
       "\\begin{tabular}{r|lllllllllllllllllll}\n",
       "  & dis & GBD & Nb & Sens\\_dis & Sens\\_dis\\_low & Sens\\_dis\\_up & Sensitiviy\\_dis & Spec\\_dis & Spec\\_dis\\_low & Spec\\_dis\\_up & Specificity\\_dis & Sens\\_oth & Sens\\_oth\\_low & Sens\\_oth\\_up & Sensitiviy\\_oth & Spec\\_oth & Spec\\_oth\\_low & Spec\\_oth\\_up & Specificity\\_oth\\\\\n",
       "\\hline\n",
       "\t1 & 1                    & Tuberculosis         & 16                   & 0.875                & 0.719423456130283    & 0.885370783468889    & 87.5 {[}71.9-88.5{]} & 0.999271933017838    & 0.997949399364193    & 0.999200033295566    & 99.9 {[}99.8-99.9{]} & 0.934554973821989    & 0.928653123483889    & 0.939002607858828    & 93.5 {[}92.9-93.9{]} & 0.56687898089172     & 0.543597039339523    & 0.589078822950315    & 56.7 {[}54.4-58.9{]}\\\\\n",
       "\t13 & 4                      & Malaria                & 14                     & 1                      & 0.784689197262364      & 1                      & 100.0 {[}78.5-100.0{]} & 0.999636231356857      & 0.998430447299834      & 0.999447578402672      & 100.0 {[}99.8-99.9{]}  & 0.934554973821989      & 0.928653123483889      & 0.939002607858828      & 93.5 {[}92.9-93.9{]}   & 0.56687898089172       & 0.543597039339523      & 0.589078822950315      & 56.7 {[}54.4-58.9{]}  \\\\\n",
       "\t110 & 11                     & Leprosy                & 2                      & 1                      & 0.342380227506653      & 1                      & 100.0 {[}34.2-100.0{]} & 0.999637812386816      & 0.998437259288162      & 0.999449976234128      & 100.0 {[}99.8-99.9{]}  & 0.934895833333333      & 0.929023170953626      & 0.939320706109767      & 93.5 {[}92.9-93.9{]}   & 0.557734204793028      & 0.534168237081432      & 0.580341815961444      & 55.8 {[}53.4-58.0{]}  \\\\\n",
       "\\end{tabular}\n"
      ],
      "text/plain": [
       "    dis          GBD Nb Sens_dis      Sens_dis_low       Sens_dis_up\n",
       "1     1 Tuberculosis 16    0.875 0.719423456130283 0.885370783468889\n",
       "13    4      Malaria 14        1 0.784689197262364                 1\n",
       "110  11      Leprosy  2        1 0.342380227506653                 1\n",
       "        Sensitiviy_dis          Spec_dis      Spec_dis_low       Spec_dis_up\n",
       "1     87.5 [71.9-88.5] 0.999271933017838 0.997949399364193 0.999200033295566\n",
       "13  100.0 [78.5-100.0] 0.999636231356857 0.998430447299834 0.999447578402672\n",
       "110 100.0 [34.2-100.0] 0.999637812386816 0.998437259288162 0.999449976234128\n",
       "      Specificity_dis          Sens_oth      Sens_oth_low       Sens_oth_up\n",
       "1    99.9 [99.8-99.9] 0.934554973821989 0.928653123483889 0.939002607858828\n",
       "13  100.0 [99.8-99.9] 0.934554973821989 0.928653123483889 0.939002607858828\n",
       "110 100.0 [99.8-99.9] 0.934895833333333 0.929023170953626 0.939320706109767\n",
       "      Sensitiviy_oth          Spec_oth      Spec_oth_low       Spec_oth_up\n",
       "1   93.5 [92.9-93.9]  0.56687898089172 0.543597039339523 0.589078822950315\n",
       "13  93.5 [92.9-93.9]  0.56687898089172 0.543597039339523 0.589078822950315\n",
       "110 93.5 [92.9-93.9] 0.557734204793028 0.534168237081432 0.580341815961444\n",
       "     Specificity_oth\n",
       "1   56.7 [54.4-58.9]\n",
       "13  56.7 [54.4-58.9]\n",
       "110 55.8 [53.4-58.0]"
      ]
     },
     "metadata": {},
     "output_type": "display_data"
    }
   ],
   "source": [
    "PERF_F[as.numeric(as.character(PERF_F$Spec_dis)) < \n",
    "      as.numeric(as.character(PERF_F$Spec_dis_low)) | \n",
    "      as.numeric(as.character(PERF_F$Spec_dis)) > \n",
    "      as.numeric(as.character(PERF_F$Spec_dis_up)),]"
   ]
  },
  {
   "cell_type": "code",
   "execution_count": 65,
   "metadata": {
    "collapsed": false
   },
   "outputs": [
    {
     "data": {
      "text/plain": [
       "\n",
       "FALSE \n",
       "   27 "
      ]
     },
     "metadata": {},
     "output_type": "display_data"
    },
    {
     "data": {
      "text/plain": [
       "\n",
       "FALSE \n",
       "   27 "
      ]
     },
     "metadata": {},
     "output_type": "display_data"
    }
   ],
   "source": [
    "table(as.numeric(as.character(PERF_F$Sens_oth)) < \n",
    "      as.numeric(as.character(PERF_F$Sens_oth_low)) | \n",
    "      as.numeric(as.character(PERF_F$Sens_oth)) > \n",
    "      as.numeric(as.character(PERF_F$Sens_oth_up)))\n",
    "table(as.numeric(as.character(PERF_F$Spec_oth)) < \n",
    "      as.numeric(as.character(PERF_F$Spec_oth_low)) | \n",
    "      as.numeric(as.character(PERF_F$Spec_oth)) > \n",
    "      as.numeric(as.character(PERF_F$Spec_oth_up)))"
   ]
  },
  {
   "cell_type": "markdown",
   "metadata": {},
   "source": [
    "## 2. Deriving triangular distribution for given confidence intervals"
   ]
  },
  {
   "cell_type": "code",
   "execution_count": 3,
   "metadata": {
    "collapsed": true
   },
   "outputs": [],
   "source": [
    "source('Triangular_distribution.R')"
   ]
  },
  {
   "cell_type": "code",
   "execution_count": 4,
   "metadata": {
    "collapsed": true
   },
   "outputs": [],
   "source": [
    "PERF_F <- read.table('/media/igna/Elements/HotelDieu/Cochrane/Mapping_Cancer/Incertitude_mapping/Sp_Sens_evaluation/Sens_and_Spec_per_27disease_data.txt')"
   ]
  },
  {
   "cell_type": "code",
   "execution_count": 5,
   "metadata": {
    "collapsed": true
   },
   "outputs": [],
   "source": [
    "dis <- 'Diarr'\n",
    "i <- grep('Diarr',PERF_F$GBD)"
   ]
  },
  {
   "cell_type": "code",
   "execution_count": 6,
   "metadata": {
    "collapsed": false
   },
   "outputs": [
    {
     "data": {
      "text/html": [
       "<ol class=list-inline>\n",
       "\t<li>0.738781867036107</li>\n",
       "\t<li>0.841833662525067</li>\n",
       "\t<li>0.868364062275561</li>\n",
       "</ol>\n"
      ],
      "text/latex": [
       "\\begin{enumerate*}\n",
       "\\item 0.738781867036107\n",
       "\\item 0.841833662525067\n",
       "\\item 0.868364062275561\n",
       "\\end{enumerate*}\n"
      ],
      "text/markdown": [
       "1. 0.738781867036107\n",
       "2. 0.841833662525067\n",
       "3. 0.868364062275561\n",
       "\n",
       "\n"
      ],
      "text/plain": [
       "[1] 0.7387819 0.8418337 0.8683641"
      ]
     },
     "metadata": {},
     "output_type": "display_data"
    }
   ],
   "source": [
    "triang_distrib(mn=PERF_F$Sens_dis[i],low=PERF_F$Sens_dis_low[i],up=PERF_F$Sens_dis_up[i])"
   ]
  },
  {
   "cell_type": "code",
   "execution_count": null,
   "metadata": {
    "collapsed": true
   },
   "outputs": [],
   "source": []
  }
 ],
 "metadata": {
  "kernelspec": {
   "display_name": "R",
   "language": "R",
   "name": "ir"
  },
  "language_info": {
   "codemirror_mode": "r",
   "file_extension": ".r",
   "mimetype": "text/x-r-source",
   "name": "R",
   "pygments_lexer": "r",
   "version": "3.3.1"
  }
 },
 "nbformat": 4,
 "nbformat_minor": 1
}
