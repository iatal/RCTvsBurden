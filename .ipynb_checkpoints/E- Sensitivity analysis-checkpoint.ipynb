{
 "cells": [
  {
   "cell_type": "markdown",
   "metadata": {
    "collapsed": true
   },
   "source": [
    "# Sensitivity analysis\n",
    "For research gaps found, we simulate what would have been the mapping of RCTs within regions across diseases if the misclassification of RCTs towards groups of diseases was corrected, given the sensitivities and specificities of the classifier to identify each group of disease.\n",
    "\n",
    "To estimate the performances of the classifier for each group of diseases, we dispose a test set with 2,763 trials manually classified towards the 27-class grouping of diseases used in this work. The test set is described at Atal et al. BMC Bioinformatics 2016.\n",
    "\n",
    "The method used is based on the method presented at Fox et al. Int J Epidemiol 2005.\n",
    "\n",
    "To do so, for each disease for which we found a local research gap we will:\n",
    "\n",
    "1. Calculating sensitivity and specificity of the classifier to identify the disease and other studies relevant to the burden of diseases, and the number of success and number of trials to derive beta distributions\n",
    "2. Doing N=60k times the following simulation\n",
    "    * Randomly choose a sens and spec based on beta distribution for identifying the disease and identifying another disease (no correlation between sens and spec, neither between disease and another disease both)\n",
    "    * Derive Positive and Negative Predictive Values (PPV and NPV) for each.\n",
    "    * Simulate the correction of the classification based on PPVs and NPVs\n",
    "    * Derive the proportion of RCTs concerning the disease among all RCTs concerning the burden of disease in the region\n",
    "3. Derive 95% upper-bond simulation interval of the proportion of RCTs concerning the disease among all RCTs concerning the burden of diseases"
   ]
  },
  {
   "cell_type": "markdown",
   "metadata": {},
   "source": [
    "## 1. Sensitivities and specificities based on test set"
   ]
  },
  {
   "cell_type": "code",
   "execution_count": null,
   "metadata": {
    "collapsed": false
   },
   "outputs": [],
   "source": [
    "test_set <- read.table(\"/media/igna/Elements/HotelDieu/Cochrane/MetaMapBurden/Paper_classifier/NCT_data_classified_to28cats.txt\")\n",
    "dim(test_set)"
   ]
  },
  {
   "cell_type": "code",
   "execution_count": null,
   "metadata": {
    "collapsed": false
   },
   "outputs": [],
   "source": [
    "#We supress injuries from trials concerning the burden of diseases\n",
    "test_set$GBDnp <- sapply(strsplit(as.character(test_set$GBDnp),\"&&\"),function(x){paste(x[x!=\"28\"],collapse=\"&\")})\n",
    "test_set$GBD28 <- sapply(strsplit(as.character(test_set$GBD28),\"&\"),function(x){paste(x[x!=\"28\"],collapse=\"&\")})"
   ]
  },
  {
   "cell_type": "code",
   "execution_count": null,
   "metadata": {
    "collapsed": true
   },
   "outputs": [],
   "source": [
    "tst <- strsplit(test_set$GBDnp,\"&\")\n",
    "alg <- strsplit(test_set$GBD28,\"&\")\n",
    "tst <- lapply(tst,as.numeric)\n",
    "alg <- lapply(alg,as.numeric)"
   ]
  },
  {
   "cell_type": "code",
   "execution_count": null,
   "metadata": {
    "collapsed": true
   },
   "outputs": [],
   "source": [
    "source('Evaluation_metrics.R')"
   ]
  },
  {
   "cell_type": "code",
   "execution_count": null,
   "metadata": {
    "collapsed": false
   },
   "outputs": [],
   "source": [
    "dis <- 1:27\n",
    "Mgbd <- read.table(\"/home/igna/Desktop/Programs GBD/Classifier_Trial_GBD/Databases/Taxonomy_DL/GBD_data/GBD_ICD.txt\")"
   ]
  },
  {
   "cell_type": "code",
   "execution_count": null,
   "metadata": {
    "collapsed": false,
    "scrolled": true
   },
   "outputs": [],
   "source": [
    "#For each category in 1:27, TP, TN, FP and FN of finding the disease and of finding another disease\n",
    "set.seed(7212)\n",
    "\n",
    "dis <- as.character(1:27)\n",
    "\n",
    "PERF_F  <- data.frame()\n",
    "for(i in dis){\n",
    "    ALG <- lapply(alg,function(x){rs <- c()\n",
    "                                  if(i%in%x) rs <- c(1)\n",
    "                                  if(sum(setdiff(dis,i)%in%x)!=0) rs <- c(rs,2)\n",
    "                                  return(rs)\n",
    "                                      })\n",
    "\n",
    "    DT <- lapply(tst,function(x){rs <- c()\n",
    "                                if(i%in%x) rs <- c(1)\n",
    "                                if(sum(setdiff(dis,i)%in%x)!=0) rs <- c(rs,2)\n",
    "                                return(rs)\n",
    "                                    })\n",
    "\n",
    "    CM <- conf_matrix(ALG,DT,c(1,2))\n",
    "\n",
    "    PERF <- c(CM[1,],CM[2,])\n",
    "    PERF_F <- rbind(PERF_F,PERF)\n",
    "}\n"
   ]
  },
  {
   "cell_type": "code",
   "execution_count": null,
   "metadata": {
    "collapsed": true
   },
   "outputs": [],
   "source": [
    "PERF_F <- data.frame(PERF_F)\n",
    "names(PERF_F) <- paste(rep(c(\"TP\",\"FP\",\"TN\",\"FN\"),2),rep(c(\"_Dis\",\"_Oth\"),each=4),sep=\"\")"
   ]
  },
  {
   "cell_type": "code",
   "execution_count": null,
   "metadata": {
    "collapsed": true
   },
   "outputs": [],
   "source": [
    "PERF_F$dis <- dis\n",
    "PERF_F$GBD <- Mgbd$cause_name[-28]"
   ]
  },
  {
   "cell_type": "code",
   "execution_count": null,
   "metadata": {
    "collapsed": false,
    "scrolled": true
   },
   "outputs": [],
   "source": [
    "PERF_F <- PERF_F[,c(9,10,1:8)]"
   ]
  },
  {
   "cell_type": "code",
   "execution_count": null,
   "metadata": {
    "collapsed": false
   },
   "outputs": [],
   "source": [
    "write.table(PERF_F,'/media/igna/Elements/HotelDieu/Cochrane/Mapping_Cancer/Incertitude_mapping/Sp_Sens_evaluation/Sens_and_Spec_per_27disease_data.txt')"
   ]
  },
  {
   "cell_type": "markdown",
   "metadata": {},
   "source": [
    "## 2. Simulating correction of misclassification"
   ]
  },
  {
   "cell_type": "code",
   "execution_count": 1,
   "metadata": {
    "collapsed": true
   },
   "outputs": [],
   "source": [
    "data <- read.table('/media/igna/Elements/HotelDieu/Cochrane/Mapping_Cancer/Flowchart/database_all_diseases_final_ok.txt')\n",
    "N <- nrow(data)"
   ]
  },
  {
   "cell_type": "code",
   "execution_count": 2,
   "metadata": {
    "collapsed": false
   },
   "outputs": [],
   "source": [
    "regs <- sort(unique(unlist(strsplit(as.character(data$Regions),\"&\"))))\n",
    "LR <- lapply(regs,function(x){1:nrow(data)%in%grep(x,data$Regions)})\n",
    "LR <- do.call('cbind',LR)"
   ]
  },
  {
   "cell_type": "code",
   "execution_count": 3,
   "metadata": {
    "collapsed": true
   },
   "outputs": [],
   "source": [
    "Lgbd <- lapply(as.character(data$GBD28),function(x){as.numeric(unlist(strsplit(x,\"&\")))})\n",
    "Lgbd <- lapply(Lgbd,function(x){x[x!=28]})"
   ]
  },
  {
   "cell_type": "code",
   "execution_count": 4,
   "metadata": {
    "collapsed": true
   },
   "outputs": [],
   "source": [
    "PERF <- read.table('/media/igna/Elements/HotelDieu/Cochrane/Mapping_Cancer/Incertitude_mapping/Sp_Sens_evaluation/Sens_and_Spec_per_27disease_data.txt')"
   ]
  },
  {
   "cell_type": "code",
   "execution_count": 5,
   "metadata": {
    "collapsed": false
   },
   "outputs": [],
   "source": [
    "GAPS <- read.table('/media/igna/Elements/HotelDieu/Cochrane/Mapping_Cancer/Tables/Local_research_gaps.txt')"
   ]
  },
  {
   "cell_type": "code",
   "execution_count": 6,
   "metadata": {
    "collapsed": false
   },
   "outputs": [],
   "source": [
    "#For each disease for which we found a gap, we will simulate the mapping across regions of trials concerning\n",
    "#the disease or concerning other diseases\n",
    "dis <- levels(GAPS$Disease)"
   ]
  },
  {
   "cell_type": "code",
   "execution_count": 7,
   "metadata": {
    "collapsed": true
   },
   "outputs": [],
   "source": [
    "#NK <- 60000\n",
    "NK <- 5000\n",
    "set.seed(7212)"
   ]
  },
  {
   "cell_type": "code",
   "execution_count": 8,
   "metadata": {
    "collapsed": false,
    "scrolled": true
   },
   "outputs": [
    {
     "name": "stdout",
     "output_type": "stream",
     "text": [
      "[1] \"Cardiovascular and circulatory diseases has 0 false iterations\"\n",
      "[1] \"Congenital anomalies has 693 (too many) false iterations\"\n",
      "[1] \"Diarrhea, lower respiratory infections, meningitis, and other common infectious diseases has 0 false iterations\"\n",
      "[1] \"Neglected tropical diseases excluding malaria has 0 false iterations\"\n",
      "[1] \"Neonatal disorders has 0 false iterations\"\n",
      "[1] \"Nutritional deficiencies has 1 false iterations\"\n",
      "[1] \"Sexually transmitted diseases excluding HIV has 504 (too many) false iterations\"\n",
      "[1] \"Tuberculosis has 33 false iterations\"\n",
      "    user   system  elapsed \n",
      "2274.598    3.061 2280.720 \n"
     ]
    },
    {
     "data": {
      "text/plain": [
       "       user      system     elapsed \n",
       "37.90996667  0.05101667 38.01200000 "
      ]
     },
     "metadata": {},
     "output_type": "display_data"
    }
   ],
   "source": [
    "#For each disease\n",
    "t0 <- proc.time()\n",
    "\n",
    "for(g in dis){\n",
    "\n",
    "    PERF_g <- PERF[PERF$GBD==g,]\n",
    "    \n",
    "    #which trials concern the disease\n",
    "    is_dis <- sapply(Lgbd,function(x){PERF_g$dis%in%x})\n",
    "    #which trials concern another disease\n",
    "    is_oth <- sapply(Lgbd,function(x){sum(setdiff(1:27,PERF_g$dis)%in%x)>0})\n",
    "\n",
    "    #PPV et NPVs for finding the disease\n",
    "    sens_r <- PERF_g$TP_Dis\n",
    "    sens_n <- PERF_g$TP_Dis + PERF_g$FN_Dis\n",
    "    spec_r <- PERF_g$TN_Dis\n",
    "    spec_n <- PERF_g$TN_Dis + PERF_g$FP_Dis\n",
    "    sens <- rbeta(NK,sens_r+1,sens_n-sens_r+1)\n",
    "    spec <- rbeta(NK,spec_r+1,spec_n-spec_r+1)\n",
    "\n",
    "    a_dis <- sum(is_dis)\n",
    "    b_dis <- N-a_dis\n",
    "    As <- (a_dis-(1-spec)*N)/(sens - (1-spec))\n",
    "    Bs <- N-As\n",
    "    T1 <- sens*As\n",
    "    T0 <- spec*Bs\n",
    "    F1 <- (1-spec)*Bs\n",
    "    F0 <- (1-sens)*As\n",
    "    PPV_dis <- T1/(T1+F1)\n",
    "    NPV_dis <- T0/(T0+F0)\n",
    "\n",
    "    #PPV and NPVs for finding another disease\n",
    "    sens_r <- PERF_g$TP_Oth\n",
    "    sens_n <- PERF_g$TP_Oth + PERF_g$FN_Oth\n",
    "    spec_r <- PERF_g$TN_Oth\n",
    "    spec_n <- PERF_g$TN_Oth + PERF_g$FP_Oth\n",
    "    sens <- rbeta(NK,sens_r+1,sens_n-sens_r+1)\n",
    "    spec <- rbeta(NK,spec_r+1,spec_n-spec_r+1)\n",
    "\n",
    "    a_oth <- sum(is_oth)\n",
    "    b_oth <- N-a_oth\n",
    "    As <- (a_oth-(1-spec)*N)/(sens - (1-spec))\n",
    "    Bs <- N-As\n",
    "    T1 <- sens*As\n",
    "    T0 <- spec*Bs\n",
    "    F1 <- (1-spec)*Bs\n",
    "    F0 <- (1-sens)*As\n",
    "    PPV_oth <- T1/(T1+F1)\n",
    "    NPV_oth <- T0/(T0+F0)\n",
    "\n",
    "    #Number of false iterations\n",
    "    fx_it <- \n",
    "          PPV_dis>1 | PPV_dis<0 |\n",
    "          NPV_dis>1 | NPV_dis<0 |\n",
    "          PPV_oth>1 | PPV_oth<0 |\n",
    "          NPV_oth>1 | NPV_oth<0\n",
    "\n",
    "    #If we have more than 10% of false iterations, we consider that we can not conduct simulations\n",
    "    if(sum(fx_it)>0.1*NK){ print(paste(c(g,\"has\", sum(fx_it), \"(too many) false iterations\"),collapse=\" \"))\n",
    "                          next\n",
    "                          }\n",
    "    \n",
    "    print(paste(c(g,\"has\", sum(fx_it), \"false iterations\"),collapse=\" \"))\n",
    "\n",
    "    PPV_dis <- PPV_dis[!fx_it]\n",
    "    NPV_dis <- NPV_dis[!fx_it]\n",
    "    PPV_oth <- PPV_oth[!fx_it]\n",
    "    NPV_oth <- NPV_oth[!fx_it]\n",
    "\n",
    "\n",
    "    L <- list()\n",
    "    #Simulation: reclassifying each trial\n",
    "        for(k in 1:sum(!fx_it)){\n",
    "\n",
    "            AR <- matrix(0, nrow=length(regs), ncol=2)\n",
    "            tp_dis <- runif(a_dis)\n",
    "            tn_dis <- runif(b_dis)\n",
    "            recl_dis <- is_dis\n",
    "            recl_dis[recl_dis==TRUE][tp_dis>PPV_dis[k]] <- FALSE\n",
    "            recl_dis[recl_dis==FALSE][tn_dis>NPV_dis[k]] <- TRUE\n",
    "            #Rq: we count all trials (even those with more than 3 diseases)\n",
    "            #it is a conservative choice\n",
    "            rt <- as.numeric(recl_dis)\n",
    "\n",
    "            AR[,1] <- apply(LR[recl_dis,],2,sum)\n",
    "\n",
    "            #Oth_dis\n",
    "            tp_oth <- runif(a_oth)\n",
    "            tn_oth <- runif(b_oth)\n",
    "            recl_oth <- is_oth\n",
    "            recl_oth[recl_oth==TRUE][tp_oth>PPV_oth[k]] <- FALSE\n",
    "            recl_oth[recl_oth==FALSE][tn_oth>NPV_oth[k]] <- TRUE\n",
    "            rt <- rt + as.numeric(recl_oth)\n",
    "\n",
    "            AR[,2] <- apply(LR[rt!=0,],2,sum)\n",
    "\n",
    "            L[[k]] <- AR\n",
    "\n",
    "        }\n",
    "   \n",
    "    T <- do.call('rbind',L)\n",
    "    write.table(T,paste(c(\"/media/igna/Elements/HotelDieu/Cochrane/Mapping_Cancer/Incertitude_mapping/Simulations/Res_simul27_\",as.character(PERF_g$dis),\".txt\"),collapse=\"\"))\n",
    "\n",
    "}\n",
    "\n",
    "t1 <- proc.time()\n",
    "    \n",
    "print(t1-t0)/60"
   ]
  },
  {
   "cell_type": "markdown",
   "metadata": {},
   "source": [
    "For 60,000 simulations it will take 20h approx"
   ]
  },
  {
   "cell_type": "markdown",
   "metadata": {},
   "source": [
    "## 3. Deriving 95% upper bound simulation intervals"
   ]
  },
  {
   "cell_type": "code",
   "execution_count": 9,
   "metadata": {
    "collapsed": true
   },
   "outputs": [],
   "source": [
    "GAPS <- read.table('/media/igna/Elements/HotelDieu/Cochrane/Mapping_Cancer/Tables/Local_research_gaps.txt')"
   ]
  },
  {
   "cell_type": "code",
   "execution_count": 23,
   "metadata": {
    "collapsed": true
   },
   "outputs": [],
   "source": [
    "regs <- levels(GAPS$Region)"
   ]
  },
  {
   "cell_type": "code",
   "execution_count": 15,
   "metadata": {
    "collapsed": false
   },
   "outputs": [],
   "source": [
    "Mgbd <- read.table(\"/home/igna/Desktop/Programs GBD/Classifier_Trial_GBD/Databases/Taxonomy_DL/GBD_data/GBD_ICD.txt\")"
   ]
  },
  {
   "cell_type": "code",
   "execution_count": 41,
   "metadata": {
    "collapsed": false
   },
   "outputs": [],
   "source": [
    "sims <- list.files(\"/media/igna/Elements/HotelDieu/Cochrane/Mapping_Cancer/Incertitude_mapping/Simulations\")"
   ]
  },
  {
   "cell_type": "code",
   "execution_count": 42,
   "metadata": {
    "collapsed": true
   },
   "outputs": [],
   "source": [
    "#diseases for which we have a simulation\n",
    "dis <- as.character(Mgbd$cause_name[as.numeric(substr(sims,13,nchar(sims)-4))])"
   ]
  },
  {
   "cell_type": "code",
   "execution_count": 44,
   "metadata": {
    "collapsed": true
   },
   "outputs": [],
   "source": [
    "GAPS$Sim_RCTs <- NA"
   ]
  },
  {
   "cell_type": "code",
   "execution_count": 45,
   "metadata": {
    "collapsed": false
   },
   "outputs": [],
   "source": [
    "for(g in dis){\n",
    "\n",
    "    T <- tryCatch(read.table(paste(c(\"/media/igna/Elements/HotelDieu/Cochrane/Mapping_Cancer/Incertitude_mapping/Simulations/Res_simul27_\",\n",
    "                            as.character(which(Mgbd$cause_name==g)),\".txt\"),collapse=\"\")),error=NULL)\n",
    "\n",
    "    if(length(T)!=0){\n",
    "        M <- matrix(T[,1]/T[,2],ncol=7,byrow=TRUE)\n",
    "        SIM <- apply(M,2,function(x){quantile(x,0.95)})\n",
    "        SIM <- data.frame(SIM)\n",
    "        GAPS$Sim_RCTs[GAPS$Disease==g] <- SIM$SIM[regs%in%GAPS$Region[GAPS$Disease==g]]\n",
    "    }\n",
    "    \n",
    "}\n"
   ]
  },
  {
   "cell_type": "code",
   "execution_count": 49,
   "metadata": {
    "collapsed": true
   },
   "outputs": [],
   "source": [
    "GAPS$Robust <- FALSE"
   ]
  },
  {
   "cell_type": "code",
   "execution_count": null,
   "metadata": {
    "collapsed": true
   },
   "outputs": [],
   "source": [
    "GAPS$Robust[is.na(GAPS$Sim_RCTs)] <- FALSE"
   ]
  },
  {
   "cell_type": "code",
   "execution_count": 50,
   "metadata": {
    "collapsed": true
   },
   "outputs": [],
   "source": [
    "GAPS$Robust[2*GAPS$Sim_RCTs<GAPS$Pr_GBD] <- TRUE"
   ]
  },
  {
   "cell_type": "code",
   "execution_count": null,
   "metadata": {
    "collapsed": true
   },
   "outputs": [],
   "source": [
    "GAPS[,c(7,9,10)] <- 100*GAPS[,c(7,9,10)]"
   ]
  },
  {
   "cell_type": "code",
   "execution_count": 56,
   "metadata": {
    "collapsed": false
   },
   "outputs": [
    {
     "data": {
      "text/html": [
       "<table>\n",
       "<thead><tr><th></th><th scope=col>Disease</th><th scope=col>Region</th><th scope=col>Pr_RCT</th><th scope=col>Pr_GBD</th><th scope=col>Sim_RCTs</th></tr></thead>\n",
       "<tbody>\n",
       "\t<tr><th scope=row>1</th><td>Cardiovascular and circulatory diseases         </td><td>Central Europe, Eastern Europe, and Central Asia</td><td>0.112746498999714                               </td><td>0.350858980692946                               </td><td>0.137688064431251                               </td></tr>\n",
       "\t<tr><th scope=row>3</th><td>Tuberculosis                                    </td><td>Central Europe, Eastern Europe, and Central Asia</td><td>0.00300085738782509                             </td><td>0.0182764909724469                              </td><td>0.00435698211736023                             </td></tr>\n",
       "\t<tr><th scope=row>6</th><td>Neonatal disorders         </td><td>Latin America and Caribbean</td><td>0.00860260176248426        </td><td>0.0871724864680537         </td><td>0.0342032804596238         </td></tr>\n",
       "\t<tr><th scope=row>9</th><td>Diarrhea, lower respiratory infections, meningitis, and other common infectious diseases</td><td>North Africa and Middle East                                                            </td><td>0.0291373949095935                                                                      </td><td>0.105457299678585                                                                       </td><td>0.0404456412349969                                                                      </td></tr>\n",
       "\t<tr><th scope=row>10</th><td>Neonatal disorders          </td><td>North Africa and Middle East</td><td>0.0208453299550846          </td><td>0.10056944347638            </td><td>0.0448949368251044          </td></tr>\n",
       "\t<tr><th scope=row>12</th><td>Diarrhea, lower respiratory infections, meningitis, and other common infectious diseases</td><td>South Asia                                                                              </td><td>0.0736386138613861                                                                      </td><td>0.214266213115124                                                                       </td><td>0.0805158706424311                                                                      </td></tr>\n",
       "\t<tr><th scope=row>13</th><td>Neonatal disorders</td><td>South Asia        </td><td>0.0177392739273927</td><td>0.165191660333951 </td><td>0.0433153565628755</td></tr>\n",
       "\t<tr><th scope=row>14</th><td>Tuberculosis      </td><td>South Asia        </td><td>0.0111386138613861</td><td>0.0387455189596979</td><td>0.012138257230408 </td></tr>\n",
       "\t<tr><th scope=row>17</th><td>Tuberculosis                         </td><td>Southeast Asia, East Asia and Oceania</td><td>0.00726216412490922                  </td><td>0.0284207805430976                   </td><td>0.00841067184361255                  </td></tr>\n",
       "\t<tr><th scope=row>19</th><td>Diarrhea, lower respiratory infections, meningitis, and other common infectious diseases</td><td>Sub-Saharian Africa                                                                     </td><td>0.058027079303675                                                                       </td><td>0.229258956705191                                                                       </td><td>0.0674117078794938                                                                      </td></tr>\n",
       "\t<tr><th scope=row>20</th><td>Neonatal disorders </td><td>Sub-Saharian Africa</td><td>0.0154738878143133 </td><td>0.115784768564737  </td><td>0.0390663358450863 </td></tr>\n",
       "</tbody>\n",
       "</table>\n"
      ],
      "text/latex": [
       "\\begin{tabular}{r|lllll}\n",
       "  & Disease & Region & Pr\\_RCT & Pr\\_GBD & Sim\\_RCTs\\\\\n",
       "\\hline\n",
       "\t1 & Cardiovascular and circulatory diseases          & Central Europe, Eastern Europe, and Central Asia & 0.112746498999714                                & 0.350858980692946                                & 0.137688064431251                               \\\\\n",
       "\t3 & Tuberculosis                                     & Central Europe, Eastern Europe, and Central Asia & 0.00300085738782509                              & 0.0182764909724469                               & 0.00435698211736023                             \\\\\n",
       "\t6 & Neonatal disorders          & Latin America and Caribbean & 0.00860260176248426         & 0.0871724864680537          & 0.0342032804596238         \\\\\n",
       "\t9 & Diarrhea, lower respiratory infections, meningitis, and other common infectious diseases & North Africa and Middle East                                                             & 0.0291373949095935                                                                       & 0.105457299678585                                                                        & 0.0404456412349969                                                                      \\\\\n",
       "\t10 & Neonatal disorders           & North Africa and Middle East & 0.0208453299550846           & 0.10056944347638             & 0.0448949368251044          \\\\\n",
       "\t12 & Diarrhea, lower respiratory infections, meningitis, and other common infectious diseases & South Asia                                                                               & 0.0736386138613861                                                                       & 0.214266213115124                                                                        & 0.0805158706424311                                                                      \\\\\n",
       "\t13 & Neonatal disorders & South Asia         & 0.0177392739273927 & 0.165191660333951  & 0.0433153565628755\\\\\n",
       "\t14 & Tuberculosis       & South Asia         & 0.0111386138613861 & 0.0387455189596979 & 0.012138257230408 \\\\\n",
       "\t17 & Tuberculosis                          & Southeast Asia, East Asia and Oceania & 0.00726216412490922                   & 0.0284207805430976                    & 0.00841067184361255                  \\\\\n",
       "\t19 & Diarrhea, lower respiratory infections, meningitis, and other common infectious diseases & Sub-Saharian Africa                                                                      & 0.058027079303675                                                                        & 0.229258956705191                                                                        & 0.0674117078794938                                                                      \\\\\n",
       "\t20 & Neonatal disorders  & Sub-Saharian Africa & 0.0154738878143133  & 0.115784768564737   & 0.0390663358450863 \\\\\n",
       "\\end{tabular}\n"
      ],
      "text/plain": [
       "                                                                                    Disease\n",
       "1                                                   Cardiovascular and circulatory diseases\n",
       "3                                                                              Tuberculosis\n",
       "6                                                                        Neonatal disorders\n",
       "9  Diarrhea, lower respiratory infections, meningitis, and other common infectious diseases\n",
       "10                                                                       Neonatal disorders\n",
       "12 Diarrhea, lower respiratory infections, meningitis, and other common infectious diseases\n",
       "13                                                                       Neonatal disorders\n",
       "14                                                                             Tuberculosis\n",
       "17                                                                             Tuberculosis\n",
       "19 Diarrhea, lower respiratory infections, meningitis, and other common infectious diseases\n",
       "20                                                                       Neonatal disorders\n",
       "                                             Region      Pr_RCT     Pr_GBD\n",
       "1  Central Europe, Eastern Europe, and Central Asia 0.112746499 0.35085898\n",
       "3  Central Europe, Eastern Europe, and Central Asia 0.003000857 0.01827649\n",
       "6                       Latin America and Caribbean 0.008602602 0.08717249\n",
       "9                      North Africa and Middle East 0.029137395 0.10545730\n",
       "10                     North Africa and Middle East 0.020845330 0.10056944\n",
       "12                                       South Asia 0.073638614 0.21426621\n",
       "13                                       South Asia 0.017739274 0.16519166\n",
       "14                                       South Asia 0.011138614 0.03874552\n",
       "17            Southeast Asia, East Asia and Oceania 0.007262164 0.02842078\n",
       "19                              Sub-Saharian Africa 0.058027079 0.22925896\n",
       "20                              Sub-Saharian Africa 0.015473888 0.11578477\n",
       "      Sim_RCTs\n",
       "1  0.137688064\n",
       "3  0.004356982\n",
       "6  0.034203280\n",
       "9  0.040445641\n",
       "10 0.044894937\n",
       "12 0.080515871\n",
       "13 0.043315357\n",
       "14 0.012138257\n",
       "17 0.008410672\n",
       "19 0.067411708\n",
       "20 0.039066336"
      ]
     },
     "metadata": {},
     "output_type": "display_data"
    }
   ],
   "source": [
    "GAPS[GAPS$Robust,c(3,4,7,9,10)]"
   ]
  },
  {
   "cell_type": "code",
   "execution_count": 55,
   "metadata": {
    "collapsed": false
   },
   "outputs": [
    {
     "data": {
      "text/html": [
       "<table>\n",
       "<thead><tr><th></th><th scope=col>Disease</th><th scope=col>Region</th><th scope=col>Pr_RCT</th><th scope=col>Pr_GBD</th><th scope=col>Sim_RCTs</th></tr></thead>\n",
       "<tbody>\n",
       "\t<tr><th scope=row>2</th><td>Neonatal disorders                              </td><td>Central Europe, Eastern Europe, and Central Asia</td><td>0.00543012289225493                             </td><td>0.0256333441617377                              </td><td>0.0302979147179918                              </td></tr>\n",
       "\t<tr><th scope=row>4</th><td>Neonatal disorders</td><td>High-income       </td><td>0.0081733398365332</td><td>0.0164609420828892</td><td>0.034779700169805 </td></tr>\n",
       "\t<tr><th scope=row>5</th><td>Congenital anomalies       </td><td>Latin America and Caribbean</td><td>0.0115400755350399         </td><td>0.0313184114667515         </td><td>NA                         </td></tr>\n",
       "\t<tr><th scope=row>7</th><td>Nutritional deficiencies   </td><td>Latin America and Caribbean</td><td>0.0163659253042384         </td><td>0.0376458916746146         </td><td>0.0233660245989506         </td></tr>\n",
       "\t<tr><th scope=row>8</th><td>Congenital anomalies        </td><td>North Africa and Middle East</td><td>0.0169296326154555          </td><td>0.0497790011743029          </td><td>NA                          </td></tr>\n",
       "\t<tr><th scope=row>11</th><td>Nutritional deficiencies    </td><td>North Africa and Middle East</td><td>0.0154324542208914          </td><td>0.0412117771274257          </td><td>0.0228600091437204          </td></tr>\n",
       "\t<tr><th scope=row>15</th><td>Neglected tropical diseases excluding malaria</td><td>Southeast Asia, East Asia and Oceania        </td><td>0.00674343811598714                          </td><td>0.0154878628893602                           </td><td>0.0111165910641524                           </td></tr>\n",
       "\t<tr><th scope=row>16</th><td>Neonatal disorders                   </td><td>Southeast Asia, East Asia and Oceania</td><td>0.00487602448386762                  </td><td>0.0606467800288265                   </td><td>0.0313568127569857                   </td></tr>\n",
       "\t<tr><th scope=row>18</th><td>Congenital anomalies</td><td>Sub-Saharian Africa </td><td>0.00618955512572534 </td><td>0.0133101071810827  </td><td>NA                  </td></tr>\n",
       "\t<tr><th scope=row>21</th><td>Sexually transmitted diseases excluding HIV</td><td>Sub-Saharian Africa                        </td><td>0.0034816247582205                         </td><td>0.0127475539870094                         </td><td>NA                                         </td></tr>\n",
       "</tbody>\n",
       "</table>\n"
      ],
      "text/latex": [
       "\\begin{tabular}{r|lllll}\n",
       "  & Disease & Region & Pr\\_RCT & Pr\\_GBD & Sim\\_RCTs\\\\\n",
       "\\hline\n",
       "\t2 & Neonatal disorders                               & Central Europe, Eastern Europe, and Central Asia & 0.00543012289225493                              & 0.0256333441617377                               & 0.0302979147179918                              \\\\\n",
       "\t4 & Neonatal disorders & High-income        & 0.0081733398365332 & 0.0164609420828892 & 0.034779700169805 \\\\\n",
       "\t5 & Congenital anomalies        & Latin America and Caribbean & 0.0115400755350399          & 0.0313184114667515          & NA                         \\\\\n",
       "\t7 & Nutritional deficiencies    & Latin America and Caribbean & 0.0163659253042384          & 0.0376458916746146          & 0.0233660245989506         \\\\\n",
       "\t8 & Congenital anomalies         & North Africa and Middle East & 0.0169296326154555           & 0.0497790011743029           & NA                          \\\\\n",
       "\t11 & Nutritional deficiencies     & North Africa and Middle East & 0.0154324542208914           & 0.0412117771274257           & 0.0228600091437204          \\\\\n",
       "\t15 & Neglected tropical diseases excluding malaria & Southeast Asia, East Asia and Oceania         & 0.00674343811598714                           & 0.0154878628893602                            & 0.0111165910641524                           \\\\\n",
       "\t16 & Neonatal disorders                    & Southeast Asia, East Asia and Oceania & 0.00487602448386762                   & 0.0606467800288265                    & 0.0313568127569857                   \\\\\n",
       "\t18 & Congenital anomalies & Sub-Saharian Africa  & 0.00618955512572534  & 0.0133101071810827   & NA                  \\\\\n",
       "\t21 & Sexually transmitted diseases excluding HIV & Sub-Saharian Africa                         & 0.0034816247582205                          & 0.0127475539870094                          & NA                                         \\\\\n",
       "\\end{tabular}\n"
      ],
      "text/plain": [
       "                                         Disease\n",
       "2                             Neonatal disorders\n",
       "4                             Neonatal disorders\n",
       "5                           Congenital anomalies\n",
       "7                       Nutritional deficiencies\n",
       "8                           Congenital anomalies\n",
       "11                      Nutritional deficiencies\n",
       "15 Neglected tropical diseases excluding malaria\n",
       "16                            Neonatal disorders\n",
       "18                          Congenital anomalies\n",
       "21   Sexually transmitted diseases excluding HIV\n",
       "                                             Region      Pr_RCT     Pr_GBD\n",
       "2  Central Europe, Eastern Europe, and Central Asia 0.005430123 0.02563334\n",
       "4                                       High-income 0.008173340 0.01646094\n",
       "5                       Latin America and Caribbean 0.011540076 0.03131841\n",
       "7                       Latin America and Caribbean 0.016365925 0.03764589\n",
       "8                      North Africa and Middle East 0.016929633 0.04977900\n",
       "11                     North Africa and Middle East 0.015432454 0.04121178\n",
       "15            Southeast Asia, East Asia and Oceania 0.006743438 0.01548786\n",
       "16            Southeast Asia, East Asia and Oceania 0.004876024 0.06064678\n",
       "18                              Sub-Saharian Africa 0.006189555 0.01331011\n",
       "21                              Sub-Saharian Africa 0.003481625 0.01274755\n",
       "     Sim_RCTs\n",
       "2  0.03029791\n",
       "4  0.03477970\n",
       "5          NA\n",
       "7  0.02336602\n",
       "8          NA\n",
       "11 0.02286001\n",
       "15 0.01111659\n",
       "16 0.03135681\n",
       "18         NA\n",
       "21         NA"
      ]
     },
     "metadata": {},
     "output_type": "display_data"
    }
   ],
   "source": [
    "GAPS[!GAPS$Robust,c(3,4,7,9,10)]"
   ]
  },
  {
   "cell_type": "code",
   "execution_count": null,
   "metadata": {
    "collapsed": true
   },
   "outputs": [],
   "source": []
  }
 ],
 "metadata": {
  "kernelspec": {
   "display_name": "R",
   "language": "R",
   "name": "ir"
  },
  "language_info": {
   "codemirror_mode": "r",
   "file_extension": ".r",
   "mimetype": "text/x-r-source",
   "name": "R",
   "pygments_lexer": "r",
   "version": "3.3.1"
  }
 },
 "nbformat": 4,
 "nbformat_minor": 1
}
