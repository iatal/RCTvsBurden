{
 "cells": [
  {
   "cell_type": "code",
   "execution_count": 1,
   "metadata": {
    "collapsed": true
   },
   "outputs": [
    {
     "name": "stderr",
     "output_type": "stream",
     "text": [
      "gdata: read.xls support for 'XLS' (Excel 97-2004) files ENABLED.\n",
      "\n",
      "gdata: read.xls support for 'XLSX' (Excel 2007+) files ENABLED.\n",
      "\n",
      "Attaching package: ‘gdata’\n",
      "\n",
      "The following object is masked from ‘package:stats’:\n",
      "\n",
      "    nobs\n",
      "\n",
      "The following object is masked from ‘package:utils’:\n",
      "\n",
      "    object.size\n",
      "\n",
      "The following object is masked from ‘package:base’:\n",
      "\n",
      "    startsWith\n",
      "\n"
     ]
    }
   ],
   "source": [
    "##################################################################################\n",
    "library(ggplot2)\n",
    "library(gdata)"
   ]
  },
  {
   "cell_type": "code",
   "execution_count": 171,
   "metadata": {
    "collapsed": false
   },
   "outputs": [],
   "source": [
    "D <- read.table(\"../Data/All_data.txt\")\n",
    "D <- D[order(D$Region,D$Disease),]"
   ]
  },
  {
   "cell_type": "code",
   "execution_count": 172,
   "metadata": {
    "collapsed": false
   },
   "outputs": [
    {
     "data": {
      "text/html": [
       "<ol class=list-inline>\n",
       "\t<li>'Region'</li>\n",
       "\t<li>'Disease'</li>\n",
       "\t<li>'burden_daly'</li>\n",
       "\t<li>'burden_yll'</li>\n",
       "\t<li>'burden_yld'</li>\n",
       "\t<li>'burden_death'</li>\n",
       "\t<li>'Prop_loc_burden_daly'</li>\n",
       "\t<li>'Prop_loc_burden_yll'</li>\n",
       "\t<li>'Prop_loc_burden_yld'</li>\n",
       "\t<li>'Prop_loc_burden_death'</li>\n",
       "\t<li>'Prop_glob_burden_daly'</li>\n",
       "\t<li>'Prop_glob_burden_yll'</li>\n",
       "\t<li>'Prop_glob_burden_yld'</li>\n",
       "\t<li>'Prop_glob_burden_death'</li>\n",
       "\t<li>'Prop_NHI_burden_daly'</li>\n",
       "\t<li>'Prop_NHI_burden_yll'</li>\n",
       "\t<li>'Prop_NHI_burden_yld'</li>\n",
       "\t<li>'Prop_NHI_burden_death'</li>\n",
       "\t<li>'Nb_RCTs_low'</li>\n",
       "\t<li>'Nb_RCTs_med'</li>\n",
       "\t<li>'Nb_RCTs_up'</li>\n",
       "\t<li>'Nb_Patients_low'</li>\n",
       "\t<li>'Nb_Patients_med'</li>\n",
       "\t<li>'Nb_Patients_up'</li>\n",
       "\t<li>'Prop_loc_RCTs_low'</li>\n",
       "\t<li>'Prop_loc_RCTs_med'</li>\n",
       "\t<li>'Prop_loc_RCTs_up'</li>\n",
       "\t<li>'Prop_loc_Patients_low'</li>\n",
       "\t<li>'Prop_loc_Patients_med'</li>\n",
       "\t<li>'Prop_loc_Patients_up'</li>\n",
       "\t<li>'Prop_glob_RCTs_low'</li>\n",
       "\t<li>'Prop_glob_RCTs_med'</li>\n",
       "\t<li>'Prop_glob_RCTs_up'</li>\n",
       "\t<li>'Prop_glob_Patients_low'</li>\n",
       "\t<li>'Prop_glob_Patients_med'</li>\n",
       "\t<li>'Prop_glob_Patients_up'</li>\n",
       "\t<li>'Prop_NHI_RCTs_low'</li>\n",
       "\t<li>'Prop_NHI_RCTs_med'</li>\n",
       "\t<li>'Prop_NHI_RCTs_up'</li>\n",
       "\t<li>'Prop_NHI_Patients_low'</li>\n",
       "\t<li>'Prop_NHI_Patients_med'</li>\n",
       "\t<li>'Prop_NHI_Patients_up'</li>\n",
       "</ol>\n"
      ],
      "text/latex": [
       "\\begin{enumerate*}\n",
       "\\item 'Region'\n",
       "\\item 'Disease'\n",
       "\\item 'burden\\_daly'\n",
       "\\item 'burden\\_yll'\n",
       "\\item 'burden\\_yld'\n",
       "\\item 'burden\\_death'\n",
       "\\item 'Prop\\_loc\\_burden\\_daly'\n",
       "\\item 'Prop\\_loc\\_burden\\_yll'\n",
       "\\item 'Prop\\_loc\\_burden\\_yld'\n",
       "\\item 'Prop\\_loc\\_burden\\_death'\n",
       "\\item 'Prop\\_glob\\_burden\\_daly'\n",
       "\\item 'Prop\\_glob\\_burden\\_yll'\n",
       "\\item 'Prop\\_glob\\_burden\\_yld'\n",
       "\\item 'Prop\\_glob\\_burden\\_death'\n",
       "\\item 'Prop\\_NHI\\_burden\\_daly'\n",
       "\\item 'Prop\\_NHI\\_burden\\_yll'\n",
       "\\item 'Prop\\_NHI\\_burden\\_yld'\n",
       "\\item 'Prop\\_NHI\\_burden\\_death'\n",
       "\\item 'Nb\\_RCTs\\_low'\n",
       "\\item 'Nb\\_RCTs\\_med'\n",
       "\\item 'Nb\\_RCTs\\_up'\n",
       "\\item 'Nb\\_Patients\\_low'\n",
       "\\item 'Nb\\_Patients\\_med'\n",
       "\\item 'Nb\\_Patients\\_up'\n",
       "\\item 'Prop\\_loc\\_RCTs\\_low'\n",
       "\\item 'Prop\\_loc\\_RCTs\\_med'\n",
       "\\item 'Prop\\_loc\\_RCTs\\_up'\n",
       "\\item 'Prop\\_loc\\_Patients\\_low'\n",
       "\\item 'Prop\\_loc\\_Patients\\_med'\n",
       "\\item 'Prop\\_loc\\_Patients\\_up'\n",
       "\\item 'Prop\\_glob\\_RCTs\\_low'\n",
       "\\item 'Prop\\_glob\\_RCTs\\_med'\n",
       "\\item 'Prop\\_glob\\_RCTs\\_up'\n",
       "\\item 'Prop\\_glob\\_Patients\\_low'\n",
       "\\item 'Prop\\_glob\\_Patients\\_med'\n",
       "\\item 'Prop\\_glob\\_Patients\\_up'\n",
       "\\item 'Prop\\_NHI\\_RCTs\\_low'\n",
       "\\item 'Prop\\_NHI\\_RCTs\\_med'\n",
       "\\item 'Prop\\_NHI\\_RCTs\\_up'\n",
       "\\item 'Prop\\_NHI\\_Patients\\_low'\n",
       "\\item 'Prop\\_NHI\\_Patients\\_med'\n",
       "\\item 'Prop\\_NHI\\_Patients\\_up'\n",
       "\\end{enumerate*}\n"
      ],
      "text/markdown": [
       "1. 'Region'\n",
       "2. 'Disease'\n",
       "3. 'burden_daly'\n",
       "4. 'burden_yll'\n",
       "5. 'burden_yld'\n",
       "6. 'burden_death'\n",
       "7. 'Prop_loc_burden_daly'\n",
       "8. 'Prop_loc_burden_yll'\n",
       "9. 'Prop_loc_burden_yld'\n",
       "10. 'Prop_loc_burden_death'\n",
       "11. 'Prop_glob_burden_daly'\n",
       "12. 'Prop_glob_burden_yll'\n",
       "13. 'Prop_glob_burden_yld'\n",
       "14. 'Prop_glob_burden_death'\n",
       "15. 'Prop_NHI_burden_daly'\n",
       "16. 'Prop_NHI_burden_yll'\n",
       "17. 'Prop_NHI_burden_yld'\n",
       "18. 'Prop_NHI_burden_death'\n",
       "19. 'Nb_RCTs_low'\n",
       "20. 'Nb_RCTs_med'\n",
       "21. 'Nb_RCTs_up'\n",
       "22. 'Nb_Patients_low'\n",
       "23. 'Nb_Patients_med'\n",
       "24. 'Nb_Patients_up'\n",
       "25. 'Prop_loc_RCTs_low'\n",
       "26. 'Prop_loc_RCTs_med'\n",
       "27. 'Prop_loc_RCTs_up'\n",
       "28. 'Prop_loc_Patients_low'\n",
       "29. 'Prop_loc_Patients_med'\n",
       "30. 'Prop_loc_Patients_up'\n",
       "31. 'Prop_glob_RCTs_low'\n",
       "32. 'Prop_glob_RCTs_med'\n",
       "33. 'Prop_glob_RCTs_up'\n",
       "34. 'Prop_glob_Patients_low'\n",
       "35. 'Prop_glob_Patients_med'\n",
       "36. 'Prop_glob_Patients_up'\n",
       "37. 'Prop_NHI_RCTs_low'\n",
       "38. 'Prop_NHI_RCTs_med'\n",
       "39. 'Prop_NHI_RCTs_up'\n",
       "40. 'Prop_NHI_Patients_low'\n",
       "41. 'Prop_NHI_Patients_med'\n",
       "42. 'Prop_NHI_Patients_up'\n",
       "\n",
       "\n"
      ],
      "text/plain": [
       " [1] \"Region\"                 \"Disease\"                \"burden_daly\"           \n",
       " [4] \"burden_yll\"             \"burden_yld\"             \"burden_death\"          \n",
       " [7] \"Prop_loc_burden_daly\"   \"Prop_loc_burden_yll\"    \"Prop_loc_burden_yld\"   \n",
       "[10] \"Prop_loc_burden_death\"  \"Prop_glob_burden_daly\"  \"Prop_glob_burden_yll\"  \n",
       "[13] \"Prop_glob_burden_yld\"   \"Prop_glob_burden_death\" \"Prop_NHI_burden_daly\"  \n",
       "[16] \"Prop_NHI_burden_yll\"    \"Prop_NHI_burden_yld\"    \"Prop_NHI_burden_death\" \n",
       "[19] \"Nb_RCTs_low\"            \"Nb_RCTs_med\"            \"Nb_RCTs_up\"            \n",
       "[22] \"Nb_Patients_low\"        \"Nb_Patients_med\"        \"Nb_Patients_up\"        \n",
       "[25] \"Prop_loc_RCTs_low\"      \"Prop_loc_RCTs_med\"      \"Prop_loc_RCTs_up\"      \n",
       "[28] \"Prop_loc_Patients_low\"  \"Prop_loc_Patients_med\"  \"Prop_loc_Patients_up\"  \n",
       "[31] \"Prop_glob_RCTs_low\"     \"Prop_glob_RCTs_med\"     \"Prop_glob_RCTs_up\"     \n",
       "[34] \"Prop_glob_Patients_low\" \"Prop_glob_Patients_med\" \"Prop_glob_Patients_up\" \n",
       "[37] \"Prop_NHI_RCTs_low\"      \"Prop_NHI_RCTs_med\"      \"Prop_NHI_RCTs_up\"      \n",
       "[40] \"Prop_NHI_Patients_low\"  \"Prop_NHI_Patients_med\"  \"Prop_NHI_Patients_up\"  "
      ]
     },
     "metadata": {},
     "output_type": "display_data"
    }
   ],
   "source": [
    "names(D)"
   ]
  },
  {
   "cell_type": "code",
   "execution_count": 173,
   "metadata": {
    "collapsed": false
   },
   "outputs": [
    {
     "data": {
      "text/html": [
       "<ol class=list-inline>\n",
       "\t<li>2220063510.80076</li>\n",
       "\t<li>287404109.09231</li>\n",
       "\t<li>112485355.22285</li>\n",
       "\t<li>30462721.1164</li>\n",
       "\t<li>43254504.439</li>\n",
       "\t<li>75821480.094146</li>\n",
       "</ol>\n"
      ],
      "text/latex": [
       "\\begin{enumerate*}\n",
       "\\item 2220063510.80076\n",
       "\\item 287404109.09231\n",
       "\\item 112485355.22285\n",
       "\\item 30462721.1164\n",
       "\\item 43254504.439\n",
       "\\item 75821480.094146\n",
       "\\end{enumerate*}\n"
      ],
      "text/markdown": [
       "1. 2220063510.80076\n",
       "2. 287404109.09231\n",
       "3. 112485355.22285\n",
       "4. 30462721.1164\n",
       "5. 43254504.439\n",
       "6. 75821480.094146\n",
       "\n",
       "\n"
      ],
      "text/plain": [
       "[1] 2220063511  287404109  112485355   30462721   43254504   75821480"
      ]
     },
     "metadata": {},
     "output_type": "display_data"
    }
   ],
   "source": [
    "head(D$burden_daly)"
   ]
  },
  {
   "cell_type": "code",
   "execution_count": 174,
   "metadata": {
    "collapsed": true
   },
   "outputs": [],
   "source": [
    "metr_burden <- \"daly\"\n",
    "metr_res <- \"RCTs\""
   ]
  },
  {
   "cell_type": "code",
   "execution_count": 179,
   "metadata": {
    "collapsed": false
   },
   "outputs": [],
   "source": [
    "#We compare RCTs to DALYs\n",
    "dpl <- D[D$Region!=\"Non-HI\",\n",
    "          c(which(names(D)%in%c(\"Region\",\"Disease\")),\n",
    "            intersect(grep(metr_burden,names(D)),grep(\"^burden\",names(D))),\n",
    "            intersect(grep(metr_res,names(D)),grep(\"^Nb\",names(D)))),]"
   ]
  },
  {
   "cell_type": "code",
   "execution_count": 180,
   "metadata": {
    "collapsed": false
   },
   "outputs": [
    {
     "data": {
      "text/html": [
       "<table>\n",
       "<thead><tr><th></th><th scope=col>Region</th><th scope=col>Disease</th><th scope=col>burden_daly</th><th scope=col>Nb_RCTs_low</th><th scope=col>Nb_RCTs_med</th><th scope=col>Nb_RCTs_up</th></tr></thead>\n",
       "<tbody>\n",
       "\t<tr><th scope=row>1</th><td>All             </td><td>All             </td><td>2220063510.80076</td><td>78661.775       </td><td>82179           </td><td>85358.2         </td></tr>\n",
       "\t<tr><th scope=row>2</th><td>All                                    </td><td>Cardiovascular and circulatory diseases</td><td>287404109.09231                        </td><td>9526.975                               </td><td>10676                                  </td><td>11943                                  </td></tr>\n",
       "\t<tr><th scope=row>3</th><td>All                         </td><td>Chronic respiratory diseases</td><td>112485355.22285             </td><td>4302.975                    </td><td>4773                        </td><td>5283                        </td></tr>\n",
       "\t<tr><th scope=row>4</th><td>All                   </td><td>Cirrhosis of the liver</td><td>30462721.1164         </td><td>534.975               </td><td>1061                  </td><td>1574                  </td></tr>\n",
       "\t<tr><th scope=row>5</th><td>All                 </td><td>Congenital anomalies</td><td>43254504.439        </td><td>NA                  </td><td>NA                  </td><td>NA                  </td></tr>\n",
       "\t<tr><th scope=row>6</th><td>All                                            </td><td>Diabetes, urinary diseases and male infertility</td><td>75821480.094146                                </td><td>10613.975                                      </td><td>11700.5                                        </td><td>12854.05                                       </td></tr>\n",
       "</tbody>\n",
       "</table>\n"
      ],
      "text/latex": [
       "\\begin{tabular}{r|llllll}\n",
       "  & Region & Disease & burden\\_daly & Nb\\_RCTs\\_low & Nb\\_RCTs\\_med & Nb\\_RCTs\\_up\\\\\n",
       "\\hline\n",
       "\t1 & All              & All              & 2220063510.80076 & 78661.775        & 82179            & 85358.2         \\\\\n",
       "\t2 & All                                     & Cardiovascular and circulatory diseases & 287404109.09231                         & 9526.975                                & 10676                                   & 11943                                  \\\\\n",
       "\t3 & All                          & Chronic respiratory diseases & 112485355.22285              & 4302.975                     & 4773                         & 5283                        \\\\\n",
       "\t4 & All                    & Cirrhosis of the liver & 30462721.1164          & 534.975                & 1061                   & 1574                  \\\\\n",
       "\t5 & All                  & Congenital anomalies & 43254504.439         & NA                   & NA                   & NA                  \\\\\n",
       "\t6 & All                                             & Diabetes, urinary diseases and male infertility & 75821480.094146                                 & 10613.975                                       & 11700.5                                         & 12854.05                                       \\\\\n",
       "\\end{tabular}\n"
      ],
      "text/plain": [
       "  Region                                         Disease burden_daly\n",
       "1    All                                             All  2220063511\n",
       "2    All         Cardiovascular and circulatory diseases   287404109\n",
       "3    All                    Chronic respiratory diseases   112485355\n",
       "4    All                          Cirrhosis of the liver    30462721\n",
       "5    All                            Congenital anomalies    43254504\n",
       "6    All Diabetes, urinary diseases and male infertility    75821480\n",
       "  Nb_RCTs_low Nb_RCTs_med Nb_RCTs_up\n",
       "1   78661.775     82179.0   85358.20\n",
       "2    9526.975     10676.0   11943.00\n",
       "3    4302.975      4773.0    5283.00\n",
       "4     534.975      1061.0    1574.00\n",
       "5          NA          NA         NA\n",
       "6   10613.975     11700.5   12854.05"
      ]
     },
     "metadata": {},
     "output_type": "display_data"
    }
   ],
   "source": [
    "head(dpl)"
   ]
  },
  {
   "cell_type": "code",
   "execution_count": 181,
   "metadata": {
    "collapsed": true
   },
   "outputs": [],
   "source": [
    "#Order diseases: increasing burden\n",
    "dis <- dpl$Disease[dpl$Region==\"All\"][order(dpl$burden[dpl$Region==\"All\"])]"
   ]
  },
  {
   "cell_type": "code",
   "execution_count": 182,
   "metadata": {
    "collapsed": false
   },
   "outputs": [
    {
     "data": {
      "text/html": [
       "<ol class=list-inline>\n",
       "\t<li>Leprosy</li>\n",
       "\t<li>Sudden infant death syndrome</li>\n",
       "\t<li>Gynecological diseases</li>\n",
       "\t<li>Hepatitis</li>\n",
       "\t<li>Sexually transmitted diseases excluding HIV</li>\n",
       "\t<li>Oral disorders</li>\n",
       "\t<li>Hemoglobinopathies and hemolytic anemias</li>\n",
       "\t<li>Maternal disorders</li>\n",
       "\t<li>Neglected tropical diseases excluding malaria</li>\n",
       "\t<li>Cirrhosis of the liver</li>\n",
       "\t<li>Sense organ diseases</li>\n",
       "\t<li>Digestive diseases (except cirrhosis)</li>\n",
       "\t<li>Skin and subcutaneous diseases</li>\n",
       "\t<li>Congenital anomalies</li>\n",
       "\t<li>Tuberculosis</li>\n",
       "\t<li>Neurological disorders</li>\n",
       "\t<li>Diabetes, urinary diseases and male infertility</li>\n",
       "\t<li>Nutritional deficiencies</li>\n",
       "\t<li>HIV/AIDS</li>\n",
       "\t<li>Malaria</li>\n",
       "\t<li>Chronic respiratory diseases</li>\n",
       "\t<li>Musculoskeletal disorders</li>\n",
       "\t<li>Mental and behavioral disorders</li>\n",
       "\t<li>Neoplasms</li>\n",
       "\t<li>Neonatal disorders</li>\n",
       "\t<li>Cardiovascular and circulatory diseases</li>\n",
       "\t<li>Diarrhea, lower respiratory infections, meningitis, and other common infectious diseases</li>\n",
       "\t<li>All</li>\n",
       "</ol>\n"
      ],
      "text/latex": [
       "\\begin{enumerate*}\n",
       "\\item Leprosy\n",
       "\\item Sudden infant death syndrome\n",
       "\\item Gynecological diseases\n",
       "\\item Hepatitis\n",
       "\\item Sexually transmitted diseases excluding HIV\n",
       "\\item Oral disorders\n",
       "\\item Hemoglobinopathies and hemolytic anemias\n",
       "\\item Maternal disorders\n",
       "\\item Neglected tropical diseases excluding malaria\n",
       "\\item Cirrhosis of the liver\n",
       "\\item Sense organ diseases\n",
       "\\item Digestive diseases (except cirrhosis)\n",
       "\\item Skin and subcutaneous diseases\n",
       "\\item Congenital anomalies\n",
       "\\item Tuberculosis\n",
       "\\item Neurological disorders\n",
       "\\item Diabetes, urinary diseases and male infertility\n",
       "\\item Nutritional deficiencies\n",
       "\\item HIV/AIDS\n",
       "\\item Malaria\n",
       "\\item Chronic respiratory diseases\n",
       "\\item Musculoskeletal disorders\n",
       "\\item Mental and behavioral disorders\n",
       "\\item Neoplasms\n",
       "\\item Neonatal disorders\n",
       "\\item Cardiovascular and circulatory diseases\n",
       "\\item Diarrhea, lower respiratory infections, meningitis, and other common infectious diseases\n",
       "\\item All\n",
       "\\end{enumerate*}\n"
      ],
      "text/markdown": [
       "1. Leprosy\n",
       "2. Sudden infant death syndrome\n",
       "3. Gynecological diseases\n",
       "4. Hepatitis\n",
       "5. Sexually transmitted diseases excluding HIV\n",
       "6. Oral disorders\n",
       "7. Hemoglobinopathies and hemolytic anemias\n",
       "8. Maternal disorders\n",
       "9. Neglected tropical diseases excluding malaria\n",
       "10. Cirrhosis of the liver\n",
       "11. Sense organ diseases\n",
       "12. Digestive diseases (except cirrhosis)\n",
       "13. Skin and subcutaneous diseases\n",
       "14. Congenital anomalies\n",
       "15. Tuberculosis\n",
       "16. Neurological disorders\n",
       "17. Diabetes, urinary diseases and male infertility\n",
       "18. Nutritional deficiencies\n",
       "19. HIV/AIDS\n",
       "20. Malaria\n",
       "21. Chronic respiratory diseases\n",
       "22. Musculoskeletal disorders\n",
       "23. Mental and behavioral disorders\n",
       "24. Neoplasms\n",
       "25. Neonatal disorders\n",
       "26. Cardiovascular and circulatory diseases\n",
       "27. Diarrhea, lower respiratory infections, meningitis, and other common infectious diseases\n",
       "28. All\n",
       "\n",
       "\n"
      ],
      "text/plain": [
       " [1] Leprosy                                                                                 \n",
       " [2] Sudden infant death syndrome                                                            \n",
       " [3] Gynecological diseases                                                                  \n",
       " [4] Hepatitis                                                                               \n",
       " [5] Sexually transmitted diseases excluding HIV                                             \n",
       " [6] Oral disorders                                                                          \n",
       " [7] Hemoglobinopathies and hemolytic anemias                                                \n",
       " [8] Maternal disorders                                                                      \n",
       " [9] Neglected tropical diseases excluding malaria                                           \n",
       "[10] Cirrhosis of the liver                                                                  \n",
       "[11] Sense organ diseases                                                                    \n",
       "[12] Digestive diseases (except cirrhosis)                                                   \n",
       "[13] Skin and subcutaneous diseases                                                          \n",
       "[14] Congenital anomalies                                                                    \n",
       "[15] Tuberculosis                                                                            \n",
       "[16] Neurological disorders                                                                  \n",
       "[17] Diabetes, urinary diseases and male infertility                                         \n",
       "[18] Nutritional deficiencies                                                                \n",
       "[19] HIV/AIDS                                                                                \n",
       "[20] Malaria                                                                                 \n",
       "[21] Chronic respiratory diseases                                                            \n",
       "[22] Musculoskeletal disorders                                                               \n",
       "[23] Mental and behavioral disorders                                                         \n",
       "[24] Neoplasms                                                                               \n",
       "[25] Neonatal disorders                                                                      \n",
       "[26] Cardiovascular and circulatory diseases                                                 \n",
       "[27] Diarrhea, lower respiratory infections, meningitis, and other common infectious diseases\n",
       "[28] All                                                                                     \n",
       "28 Levels: All ... Tuberculosis"
      ]
     },
     "metadata": {},
     "output_type": "display_data"
    }
   ],
   "source": [
    "dis"
   ]
  },
  {
   "cell_type": "code",
   "execution_count": 183,
   "metadata": {
    "collapsed": true
   },
   "outputs": [],
   "source": [
    "dis <- dis[dis!=\"All\"]"
   ]
  },
  {
   "cell_type": "code",
   "execution_count": 184,
   "metadata": {
    "collapsed": true
   },
   "outputs": [],
   "source": [
    "#Number of RCTs per region\n",
    "regs <- dpl$Region[dpl$Disease==\"All\"][order(dpl[dpl$Disease==\"All\",grep(\"med\",names(dpl))],\n",
    "                                                decreasing=TRUE)]"
   ]
  },
  {
   "cell_type": "code",
   "execution_count": 185,
   "metadata": {
    "collapsed": false
   },
   "outputs": [
    {
     "data": {
      "text/html": [
       "<ol class=list-inline>\n",
       "\t<li>All</li>\n",
       "\t<li>High-income</li>\n",
       "\t<li>Southeast Asia, East Asia and Oceania</li>\n",
       "\t<li>North Africa and Middle East</li>\n",
       "\t<li>Central Europe, Eastern Europe, and Central Asia</li>\n",
       "\t<li>South Asia</li>\n",
       "\t<li>Latin America and Caribbean</li>\n",
       "\t<li>Sub-Saharian Africa</li>\n",
       "</ol>\n"
      ],
      "text/latex": [
       "\\begin{enumerate*}\n",
       "\\item All\n",
       "\\item High-income\n",
       "\\item Southeast Asia, East Asia and Oceania\n",
       "\\item North Africa and Middle East\n",
       "\\item Central Europe, Eastern Europe, and Central Asia\n",
       "\\item South Asia\n",
       "\\item Latin America and Caribbean\n",
       "\\item Sub-Saharian Africa\n",
       "\\end{enumerate*}\n"
      ],
      "text/markdown": [
       "1. All\n",
       "2. High-income\n",
       "3. Southeast Asia, East Asia and Oceania\n",
       "4. North Africa and Middle East\n",
       "5. Central Europe, Eastern Europe, and Central Asia\n",
       "6. South Asia\n",
       "7. Latin America and Caribbean\n",
       "8. Sub-Saharian Africa\n",
       "\n",
       "\n"
      ],
      "text/plain": [
       "[1] All                                             \n",
       "[2] High-income                                     \n",
       "[3] Southeast Asia, East Asia and Oceania           \n",
       "[4] North Africa and Middle East                    \n",
       "[5] Central Europe, Eastern Europe, and Central Asia\n",
       "[6] South Asia                                      \n",
       "[7] Latin America and Caribbean                     \n",
       "[8] Sub-Saharian Africa                             \n",
       "9 Levels: All Central Europe, Eastern Europe, and Central Asia ... Sub-Saharian Africa"
      ]
     },
     "metadata": {},
     "output_type": "display_data"
    }
   ],
   "source": [
    "regs"
   ]
  },
  {
   "cell_type": "code",
   "execution_count": 186,
   "metadata": {
    "collapsed": true
   },
   "outputs": [],
   "source": [
    "regs <- regs[regs!=\"All\"]"
   ]
  },
  {
   "cell_type": "code",
   "execution_count": 187,
   "metadata": {
    "collapsed": true
   },
   "outputs": [],
   "source": [
    "#Region labels\n",
    "reg_labs <- c(\"High-income countries\",\n",
    "              \"Southeast Asia,\\nEast Asia and Oceania\",\n",
    "              \"North Africa and\\nMiddle East\", \n",
    "              \"Central Europe, Eastern\\nEurope and Central Asia\",\n",
    "              \"South Asia\", \n",
    "              \"Latin America\\nand Caribbean\", \n",
    "              \"Sub-Saharian\\nAfrica\")"
   ]
  },
  {
   "cell_type": "code",
   "execution_count": 188,
   "metadata": {
    "collapsed": true
   },
   "outputs": [],
   "source": [
    "dpl <- dpl[dpl$Region!=\"All\" & dpl$Disease!=\"All\",]"
   ]
  },
  {
   "cell_type": "code",
   "execution_count": 189,
   "metadata": {
    "collapsed": false
   },
   "outputs": [
    {
     "data": {
      "text/html": [
       "<ol class=list-inline>\n",
       "\t<li>767</li>\n",
       "\t<li>570</li>\n",
       "\t<li>67</li>\n",
       "\t<li>NA</li>\n",
       "\t<li>927</li>\n",
       "\t<li>263</li>\n",
       "\t<li>418</li>\n",
       "\t<li>100</li>\n",
       "\t<li>NA</li>\n",
       "\t<li>114</li>\n",
       "\t<li>72</li>\n",
       "\t<li>NA</li>\n",
       "\t<li>1</li>\n",
       "\t<li>95</li>\n",
       "\t<li>400</li>\n",
       "\t<li>607</li>\n",
       "\t<li>11</li>\n",
       "\t<li>78</li>\n",
       "\t<li>1232</li>\n",
       "\t<li>471</li>\n",
       "\t<li>75</li>\n",
       "\t<li>112</li>\n",
       "\t<li>299</li>\n",
       "\t<li>NA</li>\n",
       "\t<li>337</li>\n",
       "\t<li>NA</li>\n",
       "\t<li>17</li>\n",
       "\t<li>7959</li>\n",
       "\t<li>3776</li>\n",
       "\t<li>705</li>\n",
       "\t<li>NA</li>\n",
       "\t<li>8756</li>\n",
       "\t<li>2428</li>\n",
       "\t<li>4524.5</li>\n",
       "\t<li>1540</li>\n",
       "\t<li>NA</li>\n",
       "\t<li>628.5</li>\n",
       "\t<li>991</li>\n",
       "\t<li>NA</li>\n",
       "\t<li>74</li>\n",
       "\t<li>1376</li>\n",
       "\t<li>7348</li>\n",
       "\t<li>5232</li>\n",
       "\t<li>196</li>\n",
       "\t<li>969</li>\n",
       "\t<li>9501</li>\n",
       "\t<li>5027</li>\n",
       "\t<li>830</li>\n",
       "\t<li>1450</li>\n",
       "\t<li>4212</li>\n",
       "\t<li>NA</li>\n",
       "\t<li>3202</li>\n",
       "\t<li>NA</li>\n",
       "\t<li>95</li>\n",
       "\t<li>509</li>\n",
       "\t<li>294</li>\n",
       "\t<li>41</li>\n",
       "\t<li>NA</li>\n",
       "\t<li>704</li>\n",
       "\t<li>220</li>\n",
       "\t<li>303</li>\n",
       "\t<li>113</li>\n",
       "\t<li>NA</li>\n",
       "\t<li>56</li>\n",
       "\t<li>92</li>\n",
       "\t<li>NA</li>\n",
       "\t<li>12</li>\n",
       "\t<li>101</li>\n",
       "\t<li>302</li>\n",
       "\t<li>494</li>\n",
       "\t<li>78</li>\n",
       "\t<li>66</li>\n",
       "\t<li>593</li>\n",
       "\t<li>271</li>\n",
       "\t<li>65</li>\n",
       "\t<li>142</li>\n",
       "\t<li>246</li>\n",
       "\t<li>NA</li>\n",
       "\t<li>203</li>\n",
       "\t<li>NA</li>\n",
       "\t<li>29</li>\n",
       "\t<li>907</li>\n",
       "\t<li>318</li>\n",
       "\t<li>98</li>\n",
       "\t<li>NA</li>\n",
       "\t<li>1185</li>\n",
       "\t<li>260</li>\n",
       "\t<li>846</li>\n",
       "\t<li>673</li>\n",
       "\t<li>NA</li>\n",
       "\t<li>68</li>\n",
       "\t<li>45</li>\n",
       "\t<li>NA</li>\n",
       "\t<li>2</li>\n",
       "\t<li>433</li>\n",
       "\t<li>989</li>\n",
       "\t<li>612</li>\n",
       "\t<li>42</li>\n",
       "\t<li>198</li>\n",
       "\t<li>620</li>\n",
       "\t<li>592.5</li>\n",
       "\t<li>116</li>\n",
       "\t<li>309</li>\n",
       "\t<li>313</li>\n",
       "\t<li>NA</li>\n",
       "\t<li>416</li>\n",
       "\t<li>NA</li>\n",
       "\t<li>17</li>\n",
       "\t<li>448.5</li>\n",
       "\t<li>232</li>\n",
       "\t<li>81</li>\n",
       "\t<li>NA</li>\n",
       "\t<li>676</li>\n",
       "\t<li>309</li>\n",
       "\t<li>385</li>\n",
       "\t<li>132</li>\n",
       "\t<li>NA</li>\n",
       "\t<li>62</li>\n",
       "\t<li>61</li>\n",
       "\t<li>NA</li>\n",
       "\t<li>42</li>\n",
       "\t<li>132</li>\n",
       "\t<li>306</li>\n",
       "\t<li>355</li>\n",
       "\t<li>52</li>\n",
       "\t<li>100</li>\n",
       "\t<li>591</li>\n",
       "\t<li>244</li>\n",
       "\t<li>124</li>\n",
       "\t<li>176.5</li>\n",
       "\t<li>247</li>\n",
       "\t<li>NA</li>\n",
       "\t<li>312</li>\n",
       "\t<li>NA</li>\n",
       "\t<li>40</li>\n",
       "\t<li>1198</li>\n",
       "\t<li>428</li>\n",
       "\t<li>166</li>\n",
       "\t<li>NA</li>\n",
       "\t<li>1200</li>\n",
       "\t<li>399</li>\n",
       "\t<li>718</li>\n",
       "\t<li>283</li>\n",
       "\t<li>NA</li>\n",
       "\t<li>191</li>\n",
       "\t<li>134</li>\n",
       "\t<li>NA</li>\n",
       "\t<li>60</li>\n",
       "\t<li>197</li>\n",
       "\t<li>575</li>\n",
       "\t<li>646</li>\n",
       "\t<li>71</li>\n",
       "\t<li>112</li>\n",
       "\t<li>2004</li>\n",
       "\t<li>474</li>\n",
       "\t<li>105</li>\n",
       "\t<li>211</li>\n",
       "\t<li>408</li>\n",
       "\t<li>NA</li>\n",
       "\t<li>357</li>\n",
       "\t<li>NA</li>\n",
       "\t<li>53</li>\n",
       "\t<li>166</li>\n",
       "\t<li>132</li>\n",
       "\t<li>10</li>\n",
       "\t<li>NA</li>\n",
       "\t<li>261</li>\n",
       "\t<li>131</li>\n",
       "\t<li>133</li>\n",
       "\t<li>33</li>\n",
       "\t<li>NA</li>\n",
       "\t<li>11</li>\n",
       "\t<li>319</li>\n",
       "\t<li>NA</li>\n",
       "\t<li>274</li>\n",
       "\t<li>66</li>\n",
       "\t<li>134</li>\n",
       "\t<li>127</li>\n",
       "\t<li>71</li>\n",
       "\t<li>46</li>\n",
       "\t<li>201</li>\n",
       "\t<li>99</li>\n",
       "\t<li>93</li>\n",
       "\t<li>41</li>\n",
       "\t<li>91</li>\n",
       "\t<li>NA</li>\n",
       "\t<li>98</li>\n",
       "\t<li>NA</li>\n",
       "\t<li>105</li>\n",
       "</ol>\n"
      ],
      "text/latex": [
       "\\begin{enumerate*}\n",
       "\\item 767\n",
       "\\item 570\n",
       "\\item 67\n",
       "\\item NA\n",
       "\\item 927\n",
       "\\item 263\n",
       "\\item 418\n",
       "\\item 100\n",
       "\\item NA\n",
       "\\item 114\n",
       "\\item 72\n",
       "\\item NA\n",
       "\\item 1\n",
       "\\item 95\n",
       "\\item 400\n",
       "\\item 607\n",
       "\\item 11\n",
       "\\item 78\n",
       "\\item 1232\n",
       "\\item 471\n",
       "\\item 75\n",
       "\\item 112\n",
       "\\item 299\n",
       "\\item NA\n",
       "\\item 337\n",
       "\\item NA\n",
       "\\item 17\n",
       "\\item 7959\n",
       "\\item 3776\n",
       "\\item 705\n",
       "\\item NA\n",
       "\\item 8756\n",
       "\\item 2428\n",
       "\\item 4524.5\n",
       "\\item 1540\n",
       "\\item NA\n",
       "\\item 628.5\n",
       "\\item 991\n",
       "\\item NA\n",
       "\\item 74\n",
       "\\item 1376\n",
       "\\item 7348\n",
       "\\item 5232\n",
       "\\item 196\n",
       "\\item 969\n",
       "\\item 9501\n",
       "\\item 5027\n",
       "\\item 830\n",
       "\\item 1450\n",
       "\\item 4212\n",
       "\\item NA\n",
       "\\item 3202\n",
       "\\item NA\n",
       "\\item 95\n",
       "\\item 509\n",
       "\\item 294\n",
       "\\item 41\n",
       "\\item NA\n",
       "\\item 704\n",
       "\\item 220\n",
       "\\item 303\n",
       "\\item 113\n",
       "\\item NA\n",
       "\\item 56\n",
       "\\item 92\n",
       "\\item NA\n",
       "\\item 12\n",
       "\\item 101\n",
       "\\item 302\n",
       "\\item 494\n",
       "\\item 78\n",
       "\\item 66\n",
       "\\item 593\n",
       "\\item 271\n",
       "\\item 65\n",
       "\\item 142\n",
       "\\item 246\n",
       "\\item NA\n",
       "\\item 203\n",
       "\\item NA\n",
       "\\item 29\n",
       "\\item 907\n",
       "\\item 318\n",
       "\\item 98\n",
       "\\item NA\n",
       "\\item 1185\n",
       "\\item 260\n",
       "\\item 846\n",
       "\\item 673\n",
       "\\item NA\n",
       "\\item 68\n",
       "\\item 45\n",
       "\\item NA\n",
       "\\item 2\n",
       "\\item 433\n",
       "\\item 989\n",
       "\\item 612\n",
       "\\item 42\n",
       "\\item 198\n",
       "\\item 620\n",
       "\\item 592.5\n",
       "\\item 116\n",
       "\\item 309\n",
       "\\item 313\n",
       "\\item NA\n",
       "\\item 416\n",
       "\\item NA\n",
       "\\item 17\n",
       "\\item 448.5\n",
       "\\item 232\n",
       "\\item 81\n",
       "\\item NA\n",
       "\\item 676\n",
       "\\item 309\n",
       "\\item 385\n",
       "\\item 132\n",
       "\\item NA\n",
       "\\item 62\n",
       "\\item 61\n",
       "\\item NA\n",
       "\\item 42\n",
       "\\item 132\n",
       "\\item 306\n",
       "\\item 355\n",
       "\\item 52\n",
       "\\item 100\n",
       "\\item 591\n",
       "\\item 244\n",
       "\\item 124\n",
       "\\item 176.5\n",
       "\\item 247\n",
       "\\item NA\n",
       "\\item 312\n",
       "\\item NA\n",
       "\\item 40\n",
       "\\item 1198\n",
       "\\item 428\n",
       "\\item 166\n",
       "\\item NA\n",
       "\\item 1200\n",
       "\\item 399\n",
       "\\item 718\n",
       "\\item 283\n",
       "\\item NA\n",
       "\\item 191\n",
       "\\item 134\n",
       "\\item NA\n",
       "\\item 60\n",
       "\\item 197\n",
       "\\item 575\n",
       "\\item 646\n",
       "\\item 71\n",
       "\\item 112\n",
       "\\item 2004\n",
       "\\item 474\n",
       "\\item 105\n",
       "\\item 211\n",
       "\\item 408\n",
       "\\item NA\n",
       "\\item 357\n",
       "\\item NA\n",
       "\\item 53\n",
       "\\item 166\n",
       "\\item 132\n",
       "\\item 10\n",
       "\\item NA\n",
       "\\item 261\n",
       "\\item 131\n",
       "\\item 133\n",
       "\\item 33\n",
       "\\item NA\n",
       "\\item 11\n",
       "\\item 319\n",
       "\\item NA\n",
       "\\item 274\n",
       "\\item 66\n",
       "\\item 134\n",
       "\\item 127\n",
       "\\item 71\n",
       "\\item 46\n",
       "\\item 201\n",
       "\\item 99\n",
       "\\item 93\n",
       "\\item 41\n",
       "\\item 91\n",
       "\\item NA\n",
       "\\item 98\n",
       "\\item NA\n",
       "\\item 105\n",
       "\\end{enumerate*}\n"
      ],
      "text/markdown": [
       "1. 767\n",
       "2. 570\n",
       "3. 67\n",
       "4. NA\n",
       "5. 927\n",
       "6. 263\n",
       "7. 418\n",
       "8. 100\n",
       "9. NA\n",
       "10. 114\n",
       "11. 72\n",
       "12. NA\n",
       "13. 1\n",
       "14. 95\n",
       "15. 400\n",
       "16. 607\n",
       "17. 11\n",
       "18. 78\n",
       "19. 1232\n",
       "20. 471\n",
       "21. 75\n",
       "22. 112\n",
       "23. 299\n",
       "24. NA\n",
       "25. 337\n",
       "26. NA\n",
       "27. 17\n",
       "28. 7959\n",
       "29. 3776\n",
       "30. 705\n",
       "31. NA\n",
       "32. 8756\n",
       "33. 2428\n",
       "34. 4524.5\n",
       "35. 1540\n",
       "36. NA\n",
       "37. 628.5\n",
       "38. 991\n",
       "39. NA\n",
       "40. 74\n",
       "41. 1376\n",
       "42. 7348\n",
       "43. 5232\n",
       "44. 196\n",
       "45. 969\n",
       "46. 9501\n",
       "47. 5027\n",
       "48. 830\n",
       "49. 1450\n",
       "50. 4212\n",
       "51. NA\n",
       "52. 3202\n",
       "53. NA\n",
       "54. 95\n",
       "55. 509\n",
       "56. 294\n",
       "57. 41\n",
       "58. NA\n",
       "59. 704\n",
       "60. 220\n",
       "61. 303\n",
       "62. 113\n",
       "63. NA\n",
       "64. 56\n",
       "65. 92\n",
       "66. NA\n",
       "67. 12\n",
       "68. 101\n",
       "69. 302\n",
       "70. 494\n",
       "71. 78\n",
       "72. 66\n",
       "73. 593\n",
       "74. 271\n",
       "75. 65\n",
       "76. 142\n",
       "77. 246\n",
       "78. NA\n",
       "79. 203\n",
       "80. NA\n",
       "81. 29\n",
       "82. 907\n",
       "83. 318\n",
       "84. 98\n",
       "85. NA\n",
       "86. 1185\n",
       "87. 260\n",
       "88. 846\n",
       "89. 673\n",
       "90. NA\n",
       "91. 68\n",
       "92. 45\n",
       "93. NA\n",
       "94. 2\n",
       "95. 433\n",
       "96. 989\n",
       "97. 612\n",
       "98. 42\n",
       "99. 198\n",
       "100. 620\n",
       "101. 592.5\n",
       "102. 116\n",
       "103. 309\n",
       "104. 313\n",
       "105. NA\n",
       "106. 416\n",
       "107. NA\n",
       "108. 17\n",
       "109. 448.5\n",
       "110. 232\n",
       "111. 81\n",
       "112. NA\n",
       "113. 676\n",
       "114. 309\n",
       "115. 385\n",
       "116. 132\n",
       "117. NA\n",
       "118. 62\n",
       "119. 61\n",
       "120. NA\n",
       "121. 42\n",
       "122. 132\n",
       "123. 306\n",
       "124. 355\n",
       "125. 52\n",
       "126. 100\n",
       "127. 591\n",
       "128. 244\n",
       "129. 124\n",
       "130. 176.5\n",
       "131. 247\n",
       "132. NA\n",
       "133. 312\n",
       "134. NA\n",
       "135. 40\n",
       "136. 1198\n",
       "137. 428\n",
       "138. 166\n",
       "139. NA\n",
       "140. 1200\n",
       "141. 399\n",
       "142. 718\n",
       "143. 283\n",
       "144. NA\n",
       "145. 191\n",
       "146. 134\n",
       "147. NA\n",
       "148. 60\n",
       "149. 197\n",
       "150. 575\n",
       "151. 646\n",
       "152. 71\n",
       "153. 112\n",
       "154. 2004\n",
       "155. 474\n",
       "156. 105\n",
       "157. 211\n",
       "158. 408\n",
       "159. NA\n",
       "160. 357\n",
       "161. NA\n",
       "162. 53\n",
       "163. 166\n",
       "164. 132\n",
       "165. 10\n",
       "166. NA\n",
       "167. 261\n",
       "168. 131\n",
       "169. 133\n",
       "170. 33\n",
       "171. NA\n",
       "172. 11\n",
       "173. 319\n",
       "174. NA\n",
       "175. 274\n",
       "176. 66\n",
       "177. 134\n",
       "178. 127\n",
       "179. 71\n",
       "180. 46\n",
       "181. 201\n",
       "182. 99\n",
       "183. 93\n",
       "184. 41\n",
       "185. 91\n",
       "186. NA\n",
       "187. 98\n",
       "188. NA\n",
       "189. 105\n",
       "\n",
       "\n"
      ],
      "text/plain": [
       "  [1]  767.0  570.0   67.0     NA  927.0  263.0  418.0  100.0     NA  114.0\n",
       " [11]   72.0     NA    1.0   95.0  400.0  607.0   11.0   78.0 1232.0  471.0\n",
       " [21]   75.0  112.0  299.0     NA  337.0     NA   17.0 7959.0 3776.0  705.0\n",
       " [31]     NA 8756.0 2428.0 4524.5 1540.0     NA  628.5  991.0     NA   74.0\n",
       " [41] 1376.0 7348.0 5232.0  196.0  969.0 9501.0 5027.0  830.0 1450.0 4212.0\n",
       " [51]     NA 3202.0     NA   95.0  509.0  294.0   41.0     NA  704.0  220.0\n",
       " [61]  303.0  113.0     NA   56.0   92.0     NA   12.0  101.0  302.0  494.0\n",
       " [71]   78.0   66.0  593.0  271.0   65.0  142.0  246.0     NA  203.0     NA\n",
       " [81]   29.0  907.0  318.0   98.0     NA 1185.0  260.0  846.0  673.0     NA\n",
       " [91]   68.0   45.0     NA    2.0  433.0  989.0  612.0   42.0  198.0  620.0\n",
       "[101]  592.5  116.0  309.0  313.0     NA  416.0     NA   17.0  448.5  232.0\n",
       "[111]   81.0     NA  676.0  309.0  385.0  132.0     NA   62.0   61.0     NA\n",
       "[121]   42.0  132.0  306.0  355.0   52.0  100.0  591.0  244.0  124.0  176.5\n",
       "[131]  247.0     NA  312.0     NA   40.0 1198.0  428.0  166.0     NA 1200.0\n",
       "[141]  399.0  718.0  283.0     NA  191.0  134.0     NA   60.0  197.0  575.0\n",
       "[151]  646.0   71.0  112.0 2004.0  474.0  105.0  211.0  408.0     NA  357.0\n",
       "[161]     NA   53.0  166.0  132.0   10.0     NA  261.0  131.0  133.0   33.0\n",
       "[171]     NA   11.0  319.0     NA  274.0   66.0  134.0  127.0   71.0   46.0\n",
       "[181]  201.0   99.0   93.0   41.0   91.0     NA   98.0     NA  105.0"
      ]
     },
     "metadata": {},
     "output_type": "display_data"
    }
   ],
   "source": [
    "dpl[,grep(\"med\",names(dpl))]"
   ]
  },
  {
   "cell_type": "code",
   "execution_count": 190,
   "metadata": {
    "collapsed": false
   },
   "outputs": [
    {
     "data": {
      "text/html": [
       "10059.025"
      ],
      "text/latex": [
       "10059.025"
      ],
      "text/markdown": [
       "10059.025"
      ],
      "text/plain": [
       "[1] 10059.02"
      ]
     },
     "metadata": {},
     "output_type": "display_data"
    }
   ],
   "source": [
    "max(dpl[,grep(\"up\",names(dpl))],na.rm=TRUE)"
   ]
  },
  {
   "cell_type": "code",
   "execution_count": 191,
   "metadata": {
    "collapsed": true
   },
   "outputs": [],
   "source": [
    "#Normalizing regions: max RCts = max GBD\n",
    "Norm_fact <- max(dpl[,grep(\"up\",names(dpl))],na.rm=TRUE)/max(dpl$burden)\n",
    "dpl$gpl <- (dpl$burden/max(dpl$burden))*max(dpl[,grep(\"up\",names(dpl))],na.rm=TRUE)"
   ]
  },
  {
   "cell_type": "code",
   "execution_count": 192,
   "metadata": {
    "collapsed": true
   },
   "outputs": [],
   "source": [
    "#Bar size = wdt*2\n",
    "wdt <- 0.45\n",
    "#Distance between regions (end to end)\n",
    "d_reg <- 400\n",
    "#Distance between center of region and start of bars (for disease labels)\n",
    "esp_dis_nb <- 200"
   ]
  },
  {
   "cell_type": "code",
   "execution_count": 193,
   "metadata": {
    "collapsed": true
   },
   "outputs": [],
   "source": [
    "Rg <- 0\n",
    "d <- \"Neoplasms\"\n",
    "rg <- \"High-income\""
   ]
  },
  {
   "cell_type": "code",
   "execution_count": 194,
   "metadata": {
    "collapsed": false
   },
   "outputs": [
    {
     "data": {
      "text/html": [
       "-3528.40724609566"
      ],
      "text/latex": [
       "-3528.40724609566"
      ],
      "text/markdown": [
       "-3528.40724609566"
      ],
      "text/plain": [
       "[1] -3528.407"
      ]
     },
     "metadata": {},
     "output_type": "display_data"
    },
    {
     "data": {
      "text/html": [
       "<table>\n",
       "<thead><tr><th></th><th scope=col>Nb_RCTs_low</th><th scope=col>Nb_RCTs_med</th><th scope=col>Nb_RCTs_up</th></tr></thead>\n",
       "<tbody>\n",
       "\t<tr><th scope=row>76</th><td> 9002.975</td><td> 9701.000</td><td>10259.025</td></tr>\n",
       "</tbody>\n",
       "</table>\n"
      ],
      "text/latex": [
       "\\begin{tabular}{r|lll}\n",
       "  & Nb\\_RCTs\\_low & Nb\\_RCTs\\_med & Nb\\_RCTs\\_up\\\\\n",
       "\\hline\n",
       "\t76 &  9002.975 &  9701.000 & 10259.025\\\\\n",
       "\\end{tabular}\n"
      ],
      "text/plain": [
       "   Nb_RCTs_low Nb_RCTs_med Nb_RCTs_up\n",
       "76    9002.975        9701   10259.02"
      ]
     },
     "metadata": {},
     "output_type": "display_data"
    }
   ],
   "source": [
    "Rg-esp_dis_nb-dpl$gpl[dpl$Dis==d & dpl$Region==rg]\n",
    "Rg+esp_dis_nb+dpl[dpl$Dis==d & dpl$Region==rg,grep(metr_res,names(dpl))]"
   ]
  },
  {
   "cell_type": "code",
   "execution_count": 196,
   "metadata": {
    "collapsed": false
   },
   "outputs": [
    {
     "data": {
      "text/html": [
       "<table>\n",
       "<thead><tr><th></th><th scope=col>x</th><th scope=col>ymin</th><th scope=col>ymax</th><th scope=col>metr</th><th scope=col>reg</th><th scope=col>dis_nb</th></tr></thead>\n",
       "<tbody>\n",
       "\t<tr><th scope=row>1</th><td>24         </td><td>9002.975   </td><td>10259.025  </td><td>Research   </td><td>High-income</td><td>24         </td></tr>\n",
       "</tbody>\n",
       "</table>\n"
      ],
      "text/latex": [
       "\\begin{tabular}{r|llllll}\n",
       "  & x & ymin & ymax & metr & reg & dis\\_nb\\\\\n",
       "\\hline\n",
       "\t1 & 24          & 9002.975    & 10259.025   & Research    & High-income & 24         \\\\\n",
       "\\end{tabular}\n"
      ],
      "text/plain": [
       "   x     ymin     ymax     metr         reg dis_nb\n",
       "1 24 9002.975 10259.02 Research High-income     24"
      ]
     },
     "metadata": {},
     "output_type": "display_data"
    }
   ],
   "source": [
    "displ_err(d,Rg,rg)"
   ]
  },
  {
   "cell_type": "code",
   "execution_count": 197,
   "metadata": {
    "collapsed": true
   },
   "outputs": [],
   "source": [
    "#Rectangles for a given region and disease\n",
    "#Rg = central position of region\n",
    "#d = name of the disease\n",
    "#rg = name of the region\n",
    "displt <- \n",
    "function(d,Rg,rg){\n",
    "res_pl <- data.frame(  xmin = which(d==dis)-wdt,\n",
    "                       xmax = which(d==dis)+wdt,\n",
    "                       ymin = Rg+esp_dis_nb,\n",
    "                       ymax = Rg+esp_dis_nb+dpl[dpl$Dis==d & dpl$Region==rg,grep(\"med\",names(dpl))],\n",
    "                       metr=\"Research\",\n",
    "                       reg=rg,\n",
    "                       ycent=Rg,\n",
    "                       dis_nb=which(d==dis),\n",
    "                       disease=d)\n",
    "burd_pl <- data.frame( xmin = which(d==dis)-wdt,\n",
    "                       xmax = which(d==dis)+wdt,\n",
    "                       ymin = Rg-esp_dis_nb,\n",
    "                       ymax = Rg-esp_dis_nb-dpl$gpl[dpl$Dis==d & dpl$Region==rg],\n",
    "                       metr=\"Burden\",\n",
    "                       reg=rg,\n",
    "                       ycent=Rg,\n",
    "                       dis_nb=which(d==dis),\n",
    "                       disease=d)\n",
    "rbind(res_pl,burd_pl)\n",
    "}"
   ]
  },
  {
   "cell_type": "code",
   "execution_count": 198,
   "metadata": {
    "collapsed": true
   },
   "outputs": [],
   "source": [
    "displt_err <- function(d,Rg,rg){\n",
    "    data.frame(x = which(d==dis),\n",
    "               ymin = Rg+esp_dis_nb+dpl[dpl$Dis==d & dpl$Region==rg,grep(\"low\",names(dpl))],\n",
    "               ymax = Rg+esp_dis_nb+dpl[dpl$Dis==d & dpl$Region==rg,grep(\"up\",names(dpl))],\n",
    "               metr=\"Research\",\n",
    "               reg=rg,\n",
    "               dis_nb=which(d==dis),\n",
    "               disease=d)\n",
    "}"
   ]
  },
  {
   "cell_type": "code",
   "execution_count": 199,
   "metadata": {
    "collapsed": true
   },
   "outputs": [],
   "source": [
    "#Rectangles pour toutes les maladies, une région donnée\n",
    "regplt <- function(Rg,rg) do.call('rbind',lapply(dis,function(x){displt(x,Rg,rg)}))\n",
    "regplt_err <- function(Rg,rg) do.call('rbind',lapply(dis,function(x){displt_err(x,Rg,rg)}))"
   ]
  },
  {
   "cell_type": "code",
   "execution_count": 200,
   "metadata": {
    "collapsed": true
   },
   "outputs": [],
   "source": [
    "#Emplacement des régions\n",
    "RG <- 0\n",
    "for(i in 2:length(regs)){\n",
    "RG <- c(RG,\n",
    "        RG[i-1]-(2*esp_dis_nb+\n",
    "                 max(dpl$gpl[dpl$Region==regs[i-1]])+\n",
    "                 d_reg+max(dpl[dpl$Region==regs[i],grep(\"up\",names(dpl))],na.rm=TRUE)))\n",
    "}\n"
   ]
  },
  {
   "cell_type": "code",
   "execution_count": 201,
   "metadata": {
    "collapsed": false,
    "scrolled": true
   },
   "outputs": [
    {
     "data": {
      "text/html": [
       "<ol class=list-inline>\n",
       "\t<li>0</li>\n",
       "\t<li>-6272.43257260214</li>\n",
       "\t<li>-14657.7180560349</li>\n",
       "\t<li>-18242.7310088212</li>\n",
       "\t<li>-23875.3320368601</li>\n",
       "\t<li>-35505.3570368601</li>\n",
       "\t<li>-37825.4224248424</li>\n",
       "</ol>\n"
      ],
      "text/latex": [
       "\\begin{enumerate*}\n",
       "\\item 0\n",
       "\\item -6272.43257260214\n",
       "\\item -14657.7180560349\n",
       "\\item -18242.7310088212\n",
       "\\item -23875.3320368601\n",
       "\\item -35505.3570368601\n",
       "\\item -37825.4224248424\n",
       "\\end{enumerate*}\n"
      ],
      "text/markdown": [
       "1. 0\n",
       "2. -6272.43257260214\n",
       "3. -14657.7180560349\n",
       "4. -18242.7310088212\n",
       "5. -23875.3320368601\n",
       "6. -35505.3570368601\n",
       "7. -37825.4224248424\n",
       "\n",
       "\n"
      ],
      "text/plain": [
       "[1]      0.000  -6272.433 -14657.718 -18242.731 -23875.332 -35505.357 -37825.422"
      ]
     },
     "metadata": {},
     "output_type": "display_data"
    }
   ],
   "source": [
    "RG"
   ]
  },
  {
   "cell_type": "code",
   "execution_count": 202,
   "metadata": {
    "collapsed": false
   },
   "outputs": [],
   "source": [
    "#DataFrame Plot\n",
    "DPLOT <- do.call('rbind',lapply(1:length(regs),function(i){regplt(RG[i],regs[i])}))\n"
   ]
  },
  {
   "cell_type": "code",
   "execution_count": 203,
   "metadata": {
    "collapsed": false,
    "scrolled": true
   },
   "outputs": [
    {
     "data": {
      "text/html": [
       "<table>\n",
       "<thead><tr><th></th><th scope=col>xmin</th><th scope=col>xmax</th><th scope=col>ymin</th><th scope=col>ymax</th><th scope=col>metr</th><th scope=col>reg</th><th scope=col>ycent</th><th scope=col>dis_nb</th><th scope=col>disease</th></tr></thead>\n",
       "<tbody>\n",
       "\t<tr><th scope=row>1</th><td>0.55       </td><td>1.45       </td><td>200        </td><td>NA         </td><td>Research   </td><td>High-income</td><td>0          </td><td>1          </td><td>Leprosy    </td></tr>\n",
       "\t<tr><th scope=row>2</th><td>0.55             </td><td>1.45             </td><td>-200             </td><td>-200.001835770178</td><td>Burden           </td><td>High-income      </td><td>0                </td><td>1                </td><td>Leprosy          </td></tr>\n",
       "\t<tr><th scope=row>3</th><td>1.55                        </td><td>2.45                        </td><td>200                         </td><td>NA                          </td><td>Research                    </td><td>High-income                 </td><td>0                           </td><td>2                           </td><td>Sudden infant death syndrome</td></tr>\n",
       "\t<tr><th scope=row>4</th><td>1.55                        </td><td>2.45                        </td><td>-200                        </td><td>-224.354018639849           </td><td>Burden                      </td><td>High-income                 </td><td>0                           </td><td>2                           </td><td>Sudden infant death syndrome</td></tr>\n",
       "\t<tr><th scope=row>5</th><td>2.55                  </td><td>3.45                  </td><td>200                   </td><td>1740                  </td><td>Research              </td><td>High-income           </td><td>0                     </td><td>3                     </td><td>Gynecological diseases</td></tr>\n",
       "\t<tr><th scope=row>6</th><td>2.55                  </td><td>3.45                  </td><td>-200                  </td><td>-293.593147345966     </td><td>Burden                </td><td>High-income           </td><td>0                     </td><td>3                     </td><td>Gynecological diseases</td></tr>\n",
       "</tbody>\n",
       "</table>\n"
      ],
      "text/latex": [
       "\\begin{tabular}{r|lllllllll}\n",
       "  & xmin & xmax & ymin & ymax & metr & reg & ycent & dis\\_nb & disease\\\\\n",
       "\\hline\n",
       "\t1 & 0.55        & 1.45        & 200         & NA          & Research    & High-income & 0           & 1           & Leprosy    \\\\\n",
       "\t2 & 0.55              & 1.45              & -200              & -200.001835770178 & Burden            & High-income       & 0                 & 1                 & Leprosy          \\\\\n",
       "\t3 & 1.55                         & 2.45                         & 200                          & NA                           & Research                     & High-income                  & 0                            & 2                            & Sudden infant death syndrome\\\\\n",
       "\t4 & 1.55                         & 2.45                         & -200                         & -224.354018639849            & Burden                       & High-income                  & 0                            & 2                            & Sudden infant death syndrome\\\\\n",
       "\t5 & 2.55                   & 3.45                   & 200                    & 1740                   & Research               & High-income            & 0                      & 3                      & Gynecological diseases\\\\\n",
       "\t6 & 2.55                   & 3.45                   & -200                   & -293.593147345966      & Burden                 & High-income            & 0                      & 3                      & Gynecological diseases\\\\\n",
       "\\end{tabular}\n"
      ],
      "text/plain": [
       "  xmin xmax ymin      ymax     metr         reg ycent dis_nb\n",
       "1 0.55 1.45  200        NA Research High-income     0      1\n",
       "2 0.55 1.45 -200 -200.0018   Burden High-income     0      1\n",
       "3 1.55 2.45  200        NA Research High-income     0      2\n",
       "4 1.55 2.45 -200 -224.3540   Burden High-income     0      2\n",
       "5 2.55 3.45  200 1740.0000 Research High-income     0      3\n",
       "6 2.55 3.45 -200 -293.5931   Burden High-income     0      3\n",
       "                       disease\n",
       "1                      Leprosy\n",
       "2                      Leprosy\n",
       "3 Sudden infant death syndrome\n",
       "4 Sudden infant death syndrome\n",
       "5       Gynecological diseases\n",
       "6       Gynecological diseases"
      ]
     },
     "metadata": {},
     "output_type": "display_data"
    }
   ],
   "source": [
    "head(DPLOT)"
   ]
  },
  {
   "cell_type": "code",
   "execution_count": 204,
   "metadata": {
    "collapsed": true
   },
   "outputs": [],
   "source": [
    "#Error_bars dataframe\n",
    "DPLOT_err <- do.call('rbind',lapply(1:length(regs),function(i){regplt_err(RG[i],regs[i])}))"
   ]
  },
  {
   "cell_type": "code",
   "execution_count": 205,
   "metadata": {
    "collapsed": false
   },
   "outputs": [
    {
     "data": {
      "text/html": [
       "<table>\n",
       "<thead><tr><th></th><th scope=col>x</th><th scope=col>ymin</th><th scope=col>ymax</th><th scope=col>metr</th><th scope=col>reg</th><th scope=col>dis_nb</th><th scope=col>disease</th></tr></thead>\n",
       "<tbody>\n",
       "\t<tr><th scope=row>4</th><td>4          </td><td>612.975    </td><td>1110       </td><td>Research   </td><td>High-income</td><td>4          </td><td>Hepatitis  </td></tr>\n",
       "\t<tr><th scope=row>31</th><td>4                                    </td><td>-5945.43257260214                    </td><td>-5831.43257260214                    </td><td>Research                             </td><td>Southeast Asia, East Asia and Oceania</td><td>4                                    </td><td>Hepatitis                            </td></tr>\n",
       "\t<tr><th scope=row>58</th><td>4                           </td><td>-14414.7180560349           </td><td>-14351.7180560349           </td><td>Research                    </td><td>North Africa and Middle East</td><td>4                           </td><td>Hepatitis                   </td></tr>\n",
       "\t<tr><th scope=row>85</th><td>4                                               </td><td>-17968.7310088212                               </td><td>-17897.7310088212                               </td><td>Research                                        </td><td>Central Europe, Eastern Europe, and Central Asia</td><td>4                                               </td><td>Hepatitis                                       </td></tr>\n",
       "\t<tr><th scope=row>112</th><td>4                </td><td>-23635.3320368601</td><td>-23589.3320368601</td><td>Research         </td><td>South Asia       </td><td>4                </td><td>Hepatitis        </td></tr>\n",
       "\t<tr><th scope=row>139</th><td>4                          </td><td>-35270.3570368601          </td><td>-35228.3570368601          </td><td>Research                   </td><td>Latin America and Caribbean</td><td>4                          </td><td>Hepatitis                  </td></tr>\n",
       "</tbody>\n",
       "</table>\n"
      ],
      "text/latex": [
       "\\begin{tabular}{r|lllllll}\n",
       "  & x & ymin & ymax & metr & reg & dis\\_nb & disease\\\\\n",
       "\\hline\n",
       "\t4 & 4           & 612.975     & 1110        & Research    & High-income & 4           & Hepatitis  \\\\\n",
       "\t31 & 4                                     & -5945.43257260214                     & -5831.43257260214                     & Research                              & Southeast Asia, East Asia and Oceania & 4                                     & Hepatitis                            \\\\\n",
       "\t58 & 4                            & -14414.7180560349            & -14351.7180560349            & Research                     & North Africa and Middle East & 4                            & Hepatitis                   \\\\\n",
       "\t85 & 4                                                & -17968.7310088212                                & -17897.7310088212                                & Research                                         & Central Europe, Eastern Europe, and Central Asia & 4                                                & Hepatitis                                       \\\\\n",
       "\t112 & 4                 & -23635.3320368601 & -23589.3320368601 & Research          & South Asia        & 4                 & Hepatitis        \\\\\n",
       "\t139 & 4                           & -35270.3570368601           & -35228.3570368601           & Research                    & Latin America and Caribbean & 4                           & Hepatitis                  \\\\\n",
       "\\end{tabular}\n"
      ],
      "text/plain": [
       "    x       ymin       ymax     metr\n",
       "4   4    612.975   1110.000 Research\n",
       "31  4  -5945.433  -5831.433 Research\n",
       "58  4 -14414.718 -14351.718 Research\n",
       "85  4 -17968.731 -17897.731 Research\n",
       "112 4 -23635.332 -23589.332 Research\n",
       "139 4 -35270.357 -35228.357 Research\n",
       "                                                 reg dis_nb   disease\n",
       "4                                        High-income      4 Hepatitis\n",
       "31             Southeast Asia, East Asia and Oceania      4 Hepatitis\n",
       "58                      North Africa and Middle East      4 Hepatitis\n",
       "85  Central Europe, Eastern Europe, and Central Asia      4 Hepatitis\n",
       "112                                       South Asia      4 Hepatitis\n",
       "139                      Latin America and Caribbean      4 Hepatitis"
      ]
     },
     "metadata": {},
     "output_type": "display_data"
    }
   ],
   "source": [
    "head(DPLOT_err[DPLOT_err$disease==\"Hepatitis\",])"
   ]
  },
  {
   "cell_type": "code",
   "execution_count": 206,
   "metadata": {
    "collapsed": false
   },
   "outputs": [],
   "source": [
    "#Inner circle\n",
    "IC <- 8\n",
    "DPLOT$xmin <- DPLOT$xmin + IC\n",
    "DPLOT$xmax <- DPLOT$xmax + IC\n",
    "DPLOT$xcent <- DPLOT$dis_nb + IC\n",
    "DPLOT_err$x <- DPLOT_err$x + IC\n",
    "DPLOT_err$xcent <- DPLOT_err$dis_nb + IC"
   ]
  },
  {
   "cell_type": "code",
   "execution_count": 207,
   "metadata": {
    "collapsed": false,
    "scrolled": true
   },
   "outputs": [
    {
     "data": {
      "text/html": [
       "-37604.4224248424"
      ],
      "text/latex": [
       "-37604.4224248424"
      ],
      "text/markdown": [
       "-37604.4224248424"
      ],
      "text/plain": [
       "[1] -37604.42"
      ]
     },
     "metadata": {},
     "output_type": "display_data"
    },
    {
     "data": {
      "text/html": [
       "10259.025"
      ],
      "text/latex": [
       "10259.025"
      ],
      "text/markdown": [
       "10259.025"
      ],
      "text/plain": [
       "[1] 10259.02"
      ]
     },
     "metadata": {},
     "output_type": "display_data"
    }
   ],
   "source": [
    "min(DPLOT_err$ymax,na.rm=TRUE)\n",
    "max(DPLOT_err$ymax,na.rm=TRUE)"
   ]
  },
  {
   "cell_type": "code",
   "execution_count": 208,
   "metadata": {
    "collapsed": true
   },
   "outputs": [],
   "source": [
    "totalLength <- max(DPLOT_err$ymax,na.rm=TRUE)-min(DPLOT$ymax,na.rm=TRUE)+d_reg\n",
    "alphaStart <- 2*pi*(max(DPLOT_err$ymax[D$Region==regs[1]]+d_reg/2,na.rm=TRUE)/totalLength)\n"
   ]
  },
  {
   "cell_type": "code",
   "execution_count": 209,
   "metadata": {
    "collapsed": false
   },
   "outputs": [
    {
     "data": {
      "text/html": [
       "58334.2782262032"
      ],
      "text/latex": [
       "58334.2782262032"
      ],
      "text/markdown": [
       "58334.2782262032"
      ],
      "text/plain": [
       "[1] 58334.28"
      ]
     },
     "metadata": {},
     "output_type": "display_data"
    },
    {
     "data": {
      "text/html": [
       "-1.39524501610214"
      ],
      "text/latex": [
       "-1.39524501610214"
      ],
      "text/markdown": [
       "-1.39524501610214"
      ],
      "text/plain": [
       "[1] -1.395245"
      ]
     },
     "metadata": {},
     "output_type": "display_data"
    }
   ],
   "source": [
    "totalLength\n",
    "alphaStart"
   ]
  },
  {
   "cell_type": "code",
   "execution_count": 210,
   "metadata": {
    "collapsed": true
   },
   "outputs": [],
   "source": [
    "#REGION LABELS\n",
    "#################\n",
    "totalLength <- max(DPLOT_err$ymax,na.rm=TRUE)-min(DPLOT$ymax,na.rm=TRUE)+d_reg\n",
    "\n",
    "  readableAngle<-function(x){\n",
    "    angle<-x*(360/totalLength)\n",
    "#    angle+ifelse(sign(cos(angle*pi/180))+sign(sin(angle*pi/180))==-2,180,0)\n",
    "  }\n",
    "    familyLabelsDF<-data.frame(xmin=RG,label=reg_labs)\n",
    "    familyLabelsDF$angle <- readableAngle(familyLabelsDF$xmin)\n"
   ]
  },
  {
   "cell_type": "markdown",
   "metadata": {},
   "source": [
    "#  GGPLOT Object"
   ]
  },
  {
   "cell_type": "code",
   "execution_count": 250,
   "metadata": {
    "collapsed": true
   },
   "outputs": [],
   "source": [
    "p <- ggplot(DPLOT) + geom_rect(aes(xmin=xmin,xmax=xmax,ymin=ymin,ymax=ymax,fill=metr))"
   ]
  },
  {
   "cell_type": "code",
   "execution_count": 251,
   "metadata": {
    "collapsed": false
   },
   "outputs": [
    {
     "name": "stderr",
     "output_type": "stream",
     "text": [
      "Warning message:\n",
      "“Removed 35 rows containing missing values (geom_rect).”"
     ]
    },
    {
     "data": {},
     "metadata": {},
     "output_type": "display_data"
    },
    {
     "data": {
      "image/png": "[encoded data removed]",
      "text/plain": [
       "plot without title"
      ]
     },
     "metadata": {},
     "output_type": "display_data"
    }
   ],
   "source": [
    "p"
   ]
  },
  {
   "cell_type": "code",
   "execution_count": 252,
   "metadata": {
    "collapsed": false
   },
   "outputs": [],
   "source": [
    "#Disease labels\n",
    "###################\n",
    "DPLOT$size_dis_lab = 2.3*(40+DPLOT$dis_nb)/(40+max(DPLOT$dis_nb))\n"
   ]
  },
  {
   "cell_type": "code",
   "execution_count": 253,
   "metadata": {
    "collapsed": false
   },
   "outputs": [
    {
     "name": "stderr",
     "output_type": "stream",
     "text": [
      "Warning message:\n",
      "“Removed 35 rows containing missing values (geom_rect).”"
     ]
    },
    {
     "data": {},
     "metadata": {},
     "output_type": "display_data"
    },
    {
     "data": {
      "image/png": "[encoded data removed]",
      "text/plain": [
       "plot without title"
      ]
     },
     "metadata": {},
     "output_type": "display_data"
    }
   ],
   "source": [
    "p <- p + geom_text(aes(x=xcent,\n",
    "        y=ycent,\n",
    "        label=dis_nb,\n",
    "        hjust=0.5),\n",
    "size=DPLOT$size_dis_lab,col=\"#42442E\")\n",
    "p"
   ]
  },
  {
   "cell_type": "code",
   "execution_count": 254,
   "metadata": {
    "collapsed": false,
    "scrolled": true
   },
   "outputs": [
    {
     "name": "stderr",
     "output_type": "stream",
     "text": [
      "Warning message:\n",
      "“Removed 35 rows containing missing values (geom_rect).”Warning message:\n",
      "“Removed 35 rows containing missing values (geom_errorbar).”"
     ]
    },
    {
     "data": {},
     "metadata": {},
     "output_type": "display_data"
    },
    {
     "data": {
      "image/png": "[encoded data removed]",
      "text/plain": [
       "plot without title"
      ]
     },
     "metadata": {},
     "output_type": "display_data"
    }
   ],
   "source": [
    "p <- p + geom_errorbar(aes(x=x,ymax=ymax,ymin=ymin),size=0.1,width=0.5,data=DPLOT_err)\n",
    "p"
   ]
  },
  {
   "cell_type": "code",
   "execution_count": 255,
   "metadata": {
    "collapsed": false,
    "scrolled": true
   },
   "outputs": [
    {
     "name": "stderr",
     "output_type": "stream",
     "text": [
      "Warning message:\n",
      "“Removed 35 rows containing missing values (geom_rect).”Warning message:\n",
      "“Removed 35 rows containing missing values (geom_errorbar).”"
     ]
    },
    {
     "data": {},
     "metadata": {},
     "output_type": "display_data"
    },
    {
     "data": {
      "image/png": "[encoded data removed]",
      "text/plain": [
       "plot without title"
      ]
     },
     "metadata": {},
     "output_type": "display_data"
    }
   ],
   "source": [
    "p <- p + theme_minimal()\n",
    "p <-p+theme(\n",
    "    axis.title.y=element_blank(),\n",
    "    axis.text.y=element_blank(),\n",
    "    axis.ticks.y=element_blank(),\n",
    "    axis.title.x=element_blank(),\n",
    "    axis.ticks.x=element_blank()\n",
    "    )\n",
    "p"
   ]
  },
  {
   "cell_type": "code",
   "execution_count": 256,
   "metadata": {
    "collapsed": true
   },
   "outputs": [],
   "source": [
    "rcttks <- c(0,100,500,1000,2000,3000,5000,7500,10000)\n",
    "\n",
    "maj_rcts <- function(nb){\n",
    "x <- nb\n",
    "k <- 0\n",
    "while(x>=100){\n",
    "x <- x%/%10\n",
    "k <- k+1\n",
    "}\n",
    "res <- (x+1)*10^k\n",
    "res\n",
    "}\n"
   ]
  },
  {
   "cell_type": "code",
   "execution_count": 257,
   "metadata": {
    "collapsed": false
   },
   "outputs": [
    {
     "data": {
      "text/html": [
       "<table>\n",
       "<thead><tr><th></th><th scope=col>breaks</th><th scope=col>labels</th><th scope=col>region</th></tr></thead>\n",
       "<tbody>\n",
       "\t<tr><th scope=row>1</th><td>300        </td><td>100        </td><td>High-income</td></tr>\n",
       "\t<tr><th scope=row>2</th><td>700        </td><td>500        </td><td>High-income</td></tr>\n",
       "\t<tr><th scope=row>3</th><td>1200       </td><td>1000       </td><td>High-income</td></tr>\n",
       "\t<tr><th scope=row>4</th><td>2200       </td><td>2000       </td><td>High-income</td></tr>\n",
       "\t<tr><th scope=row>5</th><td>3200       </td><td>3000       </td><td>High-income</td></tr>\n",
       "\t<tr><th scope=row>6</th><td>5200       </td><td>5000       </td><td>High-income</td></tr>\n",
       "\t<tr><th scope=row>7</th><td>7700       </td><td>7500       </td><td>High-income</td></tr>\n",
       "\t<tr><th scope=row>8</th><td>10200      </td><td>10000      </td><td>High-income</td></tr>\n",
       "\t<tr><th scope=row>9</th><td>11200      </td><td>11000      </td><td>High-income</td></tr>\n",
       "</tbody>\n",
       "</table>\n"
      ],
      "text/latex": [
       "\\begin{tabular}{r|lll}\n",
       "  & breaks & labels & region\\\\\n",
       "\\hline\n",
       "\t1 & 300         & 100         & High-income\\\\\n",
       "\t2 & 700         & 500         & High-income\\\\\n",
       "\t3 & 1200        & 1000        & High-income\\\\\n",
       "\t4 & 2200        & 2000        & High-income\\\\\n",
       "\t5 & 3200        & 3000        & High-income\\\\\n",
       "\t6 & 5200        & 5000        & High-income\\\\\n",
       "\t7 & 7700        & 7500        & High-income\\\\\n",
       "\t8 & 10200       & 10000       & High-income\\\\\n",
       "\t9 & 11200       & 11000       & High-income\\\\\n",
       "\\end{tabular}\n"
      ],
      "text/plain": [
       "  breaks labels      region\n",
       "1    300    100 High-income\n",
       "2    700    500 High-income\n",
       "3   1200   1000 High-income\n",
       "4   2200   2000 High-income\n",
       "5   3200   3000 High-income\n",
       "6   5200   5000 High-income\n",
       "7   7700   7500 High-income\n",
       "8  10200  10000 High-income\n",
       "9  11200  11000 High-income"
      ]
     },
     "metadata": {},
     "output_type": "display_data"
    }
   ],
   "source": [
    "x <- \"High-income\"\n",
    "data.frame(\n",
    "breaks = unique(DPLOT$ymin[DPLOT$metr==\"Research\" & DPLOT$reg==x]) + \n",
    "c(rcttks[2:findInterval(max(dpl[dpl$Region==x,grep(\"up\",names(dpl))],na.rm=TRUE),rcttks)],\n",
    "maj_rcts(max(dpl[dpl$Region==x,grep(\"up\",names(dpl))],na.rm=TRUE))),\n",
    "\n",
    "labels=c(rcttks[2:findInterval(max(dpl[dpl$Region==x,grep(\"up\",names(dpl))],na.rm=TRUE),rcttks)],\n",
    "maj_rcts(max(dpl[dpl$Region==x,grep(\"up\",names(dpl))],na.rm=TRUE))),\n",
    "region=x)\n"
   ]
  },
  {
   "cell_type": "code",
   "execution_count": 258,
   "metadata": {
    "collapsed": true
   },
   "outputs": [],
   "source": [
    "#Faire que les ticks aillent jusqu'au max des RCTs arrondi au sup\n",
    "RCTtcks <- do.call('rbind',lapply(regs,function(x){\n",
    "data.frame(\n",
    "breaks = unique(DPLOT$ymin[DPLOT$metr==\"Research\" & DPLOT$reg==x]) + \n",
    "c(rcttks[2:findInterval(max(dpl[dpl$Region==x,grep(\"up\",names(dpl))],na.rm=TRUE),rcttks)],\n",
    "maj_rcts(max(dpl[dpl$Region==x,grep(\"up\",names(dpl))],na.rm=TRUE))),\n",
    "\n",
    "labels=c(rcttks[2:findInterval(max(dpl[dpl$Region==x,grep(\"up\",names(dpl))],na.rm=TRUE),rcttks)],\n",
    "maj_rcts(max(dpl[dpl$Region==x,grep(\"up\",names(dpl))],na.rm=TRUE))),\n",
    "region=x)\n",
    "}))\n",
    "RCTtcks$col <- \"1RCT\"\n",
    "#Adding 11200 and suppressing 12000\n",
    "#RCTtcks[RCTtcks$labels==12000,c(1,2)] <- RCTtcks[RCTtcks$labels==12000,c(1,2)] - 800\n",
    "RCTtcks$labels <- as.character(RCTtcks$label)"
   ]
  },
  {
   "cell_type": "code",
   "execution_count": 259,
   "metadata": {
    "collapsed": false,
    "scrolled": false
   },
   "outputs": [
    {
     "data": {
      "text/html": [
       "<table>\n",
       "<thead><tr><th></th><th scope=col>breaks</th><th scope=col>labels</th><th scope=col>region</th><th scope=col>col</th></tr></thead>\n",
       "<tbody>\n",
       "\t<tr><th scope=row>1</th><td>300        </td><td>100        </td><td>High-income</td><td>1RCT       </td></tr>\n",
       "\t<tr><th scope=row>2</th><td>700        </td><td>500        </td><td>High-income</td><td>1RCT       </td></tr>\n",
       "\t<tr><th scope=row>3</th><td>1200       </td><td>1000       </td><td>High-income</td><td>1RCT       </td></tr>\n",
       "\t<tr><th scope=row>4</th><td>2200       </td><td>2000       </td><td>High-income</td><td>1RCT       </td></tr>\n",
       "\t<tr><th scope=row>5</th><td>3200       </td><td>3000       </td><td>High-income</td><td>1RCT       </td></tr>\n",
       "\t<tr><th scope=row>6</th><td>5200       </td><td>5000       </td><td>High-income</td><td>1RCT       </td></tr>\n",
       "</tbody>\n",
       "</table>\n"
      ],
      "text/latex": [
       "\\begin{tabular}{r|llll}\n",
       "  & breaks & labels & region & col\\\\\n",
       "\\hline\n",
       "\t1 & 300         & 100         & High-income & 1RCT       \\\\\n",
       "\t2 & 700         & 500         & High-income & 1RCT       \\\\\n",
       "\t3 & 1200        & 1000        & High-income & 1RCT       \\\\\n",
       "\t4 & 2200        & 2000        & High-income & 1RCT       \\\\\n",
       "\t5 & 3200        & 3000        & High-income & 1RCT       \\\\\n",
       "\t6 & 5200        & 5000        & High-income & 1RCT       \\\\\n",
       "\\end{tabular}\n"
      ],
      "text/plain": [
       "  breaks labels      region  col\n",
       "1    300    100 High-income 1RCT\n",
       "2    700    500 High-income 1RCT\n",
       "3   1200   1000 High-income 1RCT\n",
       "4   2200   2000 High-income 1RCT\n",
       "5   3200   3000 High-income 1RCT\n",
       "6   5200   5000 High-income 1RCT"
      ]
     },
     "metadata": {},
     "output_type": "display_data"
    }
   ],
   "source": [
    "head(RCTtcks)"
   ]
  },
  {
   "cell_type": "code",
   "execution_count": 260,
   "metadata": {
    "collapsed": true
   },
   "outputs": [],
   "source": [
    "#Pour GBD\n",
    "#gbdtks <- c(0,1e7,2e7,3e7,5e7,7.5e7,1e8,1.5e8,2e8)\n",
    "gbdtks <- c(0,1e7,2e7,3e7,5e7,7.5e7,1e8,1.5e8,2e8)/1e6\n",
    "\n",
    "maj_gbd <- function(nb){\n",
    "x <- nb\n",
    "if(trunc(x)==x) return(x)\n",
    "else return(trunc(x) + 1)\n",
    "#k <- 0\n",
    "#while(x>=100){\n",
    "#x <- x%/%10\n",
    "#k <- k+1\n",
    "#}\n",
    "#res <- (x+1)*10^k\n",
    "#res\n",
    "}"
   ]
  },
  {
   "cell_type": "code",
   "execution_count": 261,
   "metadata": {
    "collapsed": false,
    "scrolled": true
   },
   "outputs": [
    {
     "data": {
      "text/html": [
       "<ol class=list-inline>\n",
       "\t<li>0</li>\n",
       "\t<li>10</li>\n",
       "\t<li>20</li>\n",
       "\t<li>30</li>\n",
       "\t<li>50</li>\n",
       "\t<li>75</li>\n",
       "\t<li>100</li>\n",
       "\t<li>150</li>\n",
       "\t<li>200</li>\n",
       "</ol>\n"
      ],
      "text/latex": [
       "\\begin{enumerate*}\n",
       "\\item 0\n",
       "\\item 10\n",
       "\\item 20\n",
       "\\item 30\n",
       "\\item 50\n",
       "\\item 75\n",
       "\\item 100\n",
       "\\item 150\n",
       "\\item 200\n",
       "\\end{enumerate*}\n"
      ],
      "text/markdown": [
       "1. 0\n",
       "2. 10\n",
       "3. 20\n",
       "4. 30\n",
       "5. 50\n",
       "6. 75\n",
       "7. 100\n",
       "8. 150\n",
       "9. 200\n",
       "\n",
       "\n"
      ],
      "text/plain": [
       "[1]   0  10  20  30  50  75 100 150 200"
      ]
     },
     "metadata": {},
     "output_type": "display_data"
    }
   ],
   "source": [
    "gbdtks"
   ]
  },
  {
   "cell_type": "code",
   "execution_count": 262,
   "metadata": {
    "collapsed": false
   },
   "outputs": [
    {
     "data": {
      "text/html": [
       "-200"
      ],
      "text/latex": [
       "-200"
      ],
      "text/markdown": [
       "-200"
      ],
      "text/plain": [
       "[1] -200"
      ]
     },
     "metadata": {},
     "output_type": "display_data"
    }
   ],
   "source": [
    "unique(DPLOT$ymin[DPLOT$metr==\"Burden\" & DPLOT$reg==x])"
   ]
  },
  {
   "cell_type": "code",
   "execution_count": 263,
   "metadata": {
    "collapsed": false
   },
   "outputs": [
    {
     "data": {
      "text/html": [
       "43545778.64408"
      ],
      "text/latex": [
       "43545778.64408"
      ],
      "text/markdown": [
       "43545778.64408"
      ],
      "text/plain": [
       "[1] 43545779"
      ]
     },
     "metadata": {},
     "output_type": "display_data"
    },
    {
     "data": {
      "text/html": [
       "<ol class=list-inline>\n",
       "\t<li>-968.715746240817</li>\n",
       "\t<li>-1737.43149248163</li>\n",
       "\t<li>-2506.14723872245</li>\n",
       "\t<li>-3582.34928345959</li>\n",
       "</ol>\n"
      ],
      "text/latex": [
       "\\begin{enumerate*}\n",
       "\\item -968.715746240817\n",
       "\\item -1737.43149248163\n",
       "\\item -2506.14723872245\n",
       "\\item -3582.34928345959\n",
       "\\end{enumerate*}\n"
      ],
      "text/markdown": [
       "1. -968.715746240817\n",
       "2. -1737.43149248163\n",
       "3. -2506.14723872245\n",
       "4. -3582.34928345959\n",
       "\n",
       "\n"
      ],
      "text/plain": [
       "[1]  -968.7157 -1737.4315 -2506.1472 -3582.3493"
      ]
     },
     "metadata": {},
     "output_type": "display_data"
    },
    {
     "data": {
      "text/html": [
       "<ol class=list-inline>\n",
       "\t<li>10</li>\n",
       "\t<li>20</li>\n",
       "\t<li>30</li>\n",
       "\t<li>44</li>\n",
       "</ol>\n"
      ],
      "text/latex": [
       "\\begin{enumerate*}\n",
       "\\item 10\n",
       "\\item 20\n",
       "\\item 30\n",
       "\\item 44\n",
       "\\end{enumerate*}\n"
      ],
      "text/markdown": [
       "1. 10\n",
       "2. 20\n",
       "3. 30\n",
       "4. 44\n",
       "\n",
       "\n"
      ],
      "text/plain": [
       "[1] 10 20 30 44"
      ]
     },
     "metadata": {},
     "output_type": "display_data"
    }
   ],
   "source": [
    "x <- \"High-income\"\n",
    "max(dpl[dpl$Region==x,grep(\"^burden\",names(dpl))],na.rm=TRUE)\n",
    "unique(DPLOT$ymin[DPLOT$metr==\"Burden\" & DPLOT$reg==x]) -\n",
    "c(gbdtks[2:findInterval(max(dpl[dpl$Region==x,grep(\"^burden\",names(dpl))],na.rm=TRUE)/1e6,gbdtks)],\n",
    "maj_gbd(max(dpl[dpl$Region==x,grep(\"^burden\",names(dpl))],na.rm=TRUE)/1e6))*1e6*Norm_fact\n",
    "\n",
    "c(gbdtks[2:findInterval(max(dpl[dpl$Region==x,grep(\"^burden\",names(dpl))],na.rm=TRUE)/1e6,gbdtks)],\n",
    "maj_gbd(max(dpl[dpl$Region==x,grep(\"^burden\",names(dpl))],na.rm=TRUE)/1e6))"
   ]
  },
  {
   "cell_type": "code",
   "execution_count": 264,
   "metadata": {
    "collapsed": false
   },
   "outputs": [
    {
     "data": {
      "text/html": [
       "<table>\n",
       "<thead><tr><th></th><th scope=col>breaks</th><th scope=col>labels</th><th scope=col>region</th></tr></thead>\n",
       "<tbody>\n",
       "\t<tr><th scope=row>1</th><td>-968.715746240817</td><td>10               </td><td>High-income      </td></tr>\n",
       "\t<tr><th scope=row>2</th><td>-1737.43149248163</td><td>20               </td><td>High-income      </td></tr>\n",
       "\t<tr><th scope=row>3</th><td>-2506.14723872245</td><td>30               </td><td>High-income      </td></tr>\n",
       "\t<tr><th scope=row>4</th><td>-3582.34928345959</td><td>44               </td><td>High-income      </td></tr>\n",
       "</tbody>\n",
       "</table>\n"
      ],
      "text/latex": [
       "\\begin{tabular}{r|lll}\n",
       "  & breaks & labels & region\\\\\n",
       "\\hline\n",
       "\t1 & -968.715746240817 & 10                & High-income      \\\\\n",
       "\t2 & -1737.43149248163 & 20                & High-income      \\\\\n",
       "\t3 & -2506.14723872245 & 30                & High-income      \\\\\n",
       "\t4 & -3582.34928345959 & 44                & High-income      \\\\\n",
       "\\end{tabular}\n"
      ],
      "text/plain": [
       "      breaks labels      region\n",
       "1  -968.7157     10 High-income\n",
       "2 -1737.4315     20 High-income\n",
       "3 -2506.1472     30 High-income\n",
       "4 -3582.3493     44 High-income"
      ]
     },
     "metadata": {},
     "output_type": "display_data"
    }
   ],
   "source": [
    "x <- \"High-income\"\n",
    "data.frame(\n",
    "    breaks = unique(DPLOT$ymin[DPLOT$metr==\"Burden\" & DPLOT$reg==x]) -\n",
    "        c(gbdtks[2:findInterval(max(dpl[dpl$Region==x,grep(\"^burden\",names(dpl))],na.rm=TRUE)/1e6,gbdtks)],\n",
    "          maj_gbd(max(dpl[dpl$Region==x,grep(\"^burden\",names(dpl))],na.rm=TRUE)/1e6))*\n",
    "        1e6*Norm_fact,\n",
    "    labels=c(gbdtks[2:findInterval(max(dpl[dpl$Region==x,grep(\"^burden\",names(dpl))],na.rm=TRUE)/1e6,gbdtks)],\n",
    "             maj_gbd(max(dpl[dpl$Region==x,grep(\"^burden\",names(dpl))],na.rm=TRUE)/1e6)),\n",
    "    region=x)"
   ]
  },
  {
   "cell_type": "code",
   "execution_count": 265,
   "metadata": {
    "collapsed": true
   },
   "outputs": [],
   "source": [
    "GBDtcks <- do.call('rbind',lapply(regs,function(x){\n",
    "data.frame(\n",
    "    breaks = unique(DPLOT$ymin[DPLOT$metr==\"Burden\" & DPLOT$reg==x]) -\n",
    "        c(gbdtks[2:findInterval(max(dpl[dpl$Region==x,grep(\"^burden\",names(dpl))],na.rm=TRUE)/1e6,gbdtks)],\n",
    "          maj_gbd(max(dpl[dpl$Region==x,grep(\"^burden\",names(dpl))],na.rm=TRUE)/1e6))*\n",
    "        1e6*Norm_fact,\n",
    "    labels=c(gbdtks[2:findInterval(max(dpl[dpl$Region==x,grep(\"^burden\",names(dpl))],na.rm=TRUE)/1e6,gbdtks)],\n",
    "             maj_gbd(max(dpl[dpl$Region==x,grep(\"^burden\",names(dpl))],na.rm=TRUE)/1e6)),\n",
    "    region=x)}))\n",
    "GBDtcks$col <- \"1GBD\"\n",
    "\n",
    "GBDtcks$labels <- as.character(GBDtcks$label)\n",
    "\n"
   ]
  },
  {
   "cell_type": "code",
   "execution_count": 271,
   "metadata": {
    "collapsed": false
   },
   "outputs": [
    {
     "data": {
      "text/html": [
       "<table>\n",
       "<thead><tr><th></th><th scope=col>breaks</th><th scope=col>labels</th><th scope=col>region</th><th scope=col>col</th></tr></thead>\n",
       "<tbody>\n",
       "\t<tr><th scope=row>1</th><td>-968.715746240817</td><td>10               </td><td>High-income      </td><td>1GBD             </td></tr>\n",
       "\t<tr><th scope=row>2</th><td>-1737.43149248163</td><td>20               </td><td>High-income      </td><td>1GBD             </td></tr>\n",
       "\t<tr><th scope=row>3</th><td>-2506.14723872245</td><td>30               </td><td>High-income      </td><td>1GBD             </td></tr>\n",
       "\t<tr><th scope=row>4</th><td>-3582.34928345959</td><td>44               </td><td>High-income      </td><td>1GBD             </td></tr>\n",
       "\t<tr><th scope=row>5</th><td>-7241.14831884295                    </td><td>10                                   </td><td>Southeast Asia, East Asia and Oceania</td><td>1GBD                                 </td></tr>\n",
       "\t<tr><th scope=row>6</th><td>-8009.86406508377                    </td><td>20                                   </td><td>Southeast Asia, East Asia and Oceania</td><td>1GBD                                 </td></tr>\n",
       "</tbody>\n",
       "</table>\n"
      ],
      "text/latex": [
       "\\begin{tabular}{r|llll}\n",
       "  & breaks & labels & region & col\\\\\n",
       "\\hline\n",
       "\t1 & -968.715746240817 & 10                & High-income       & 1GBD             \\\\\n",
       "\t2 & -1737.43149248163 & 20                & High-income       & 1GBD             \\\\\n",
       "\t3 & -2506.14723872245 & 30                & High-income       & 1GBD             \\\\\n",
       "\t4 & -3582.34928345959 & 44                & High-income       & 1GBD             \\\\\n",
       "\t5 & -7241.14831884295                     & 10                                    & Southeast Asia, East Asia and Oceania & 1GBD                                 \\\\\n",
       "\t6 & -8009.86406508377                     & 20                                    & Southeast Asia, East Asia and Oceania & 1GBD                                 \\\\\n",
       "\\end{tabular}\n"
      ],
      "text/plain": [
       "      breaks labels                                region  col\n",
       "1  -968.7157     10                           High-income 1GBD\n",
       "2 -1737.4315     20                           High-income 1GBD\n",
       "3 -2506.1472     30                           High-income 1GBD\n",
       "4 -3582.3493     44                           High-income 1GBD\n",
       "5 -7241.1483     10 Southeast Asia, East Asia and Oceania 1GBD\n",
       "6 -8009.8641     20 Southeast Asia, East Asia and Oceania 1GBD"
      ]
     },
     "metadata": {},
     "output_type": "display_data"
    }
   ],
   "source": [
    "head(GBDtcks)"
   ]
  },
  {
   "cell_type": "code",
   "execution_count": 266,
   "metadata": {
    "collapsed": true
   },
   "outputs": [],
   "source": [
    "tcks <- rbind(RCTtcks,GBDtcks)\n",
    "tcks$col <- as.factor(tcks$col)\n"
   ]
  },
  {
   "cell_type": "code",
   "execution_count": 267,
   "metadata": {
    "collapsed": false,
    "scrolled": true
   },
   "outputs": [
    {
     "data": {
      "text/html": [
       "<table>\n",
       "<thead><tr><th></th><th scope=col>xmin</th><th scope=col>xmax</th><th scope=col>ymin</th><th scope=col>ymax</th><th scope=col>metr</th><th scope=col>reg</th><th scope=col>ycent</th><th scope=col>dis_nb</th><th scope=col>disease</th><th scope=col>xcent</th><th scope=col>size_dis_lab</th></tr></thead>\n",
       "<tbody>\n",
       "\t<tr><th scope=row>1</th><td>8.55            </td><td>9.45            </td><td>200             </td><td>NA              </td><td>Research        </td><td>High-income     </td><td>0               </td><td>1               </td><td>Leprosy         </td><td>9               </td><td>1.40746268656716</td></tr>\n",
       "\t<tr><th scope=row>2</th><td>8.55             </td><td>9.45             </td><td>-200             </td><td>-200.001835770178</td><td>Burden           </td><td>High-income      </td><td>0                </td><td>1                </td><td>Leprosy          </td><td>9                </td><td>1.40746268656716 </td></tr>\n",
       "\t<tr><th scope=row>3</th><td>9.55                        </td><td>10.45                       </td><td>200                         </td><td>NA                          </td><td>Research                    </td><td>High-income                 </td><td>0                           </td><td>2                           </td><td>Sudden infant death syndrome</td><td>10                          </td><td>1.44179104477612            </td></tr>\n",
       "\t<tr><th scope=row>4</th><td>9.55                        </td><td>10.45                       </td><td>-200                        </td><td>-224.354018639849           </td><td>Burden                      </td><td>High-income                 </td><td>0                           </td><td>2                           </td><td>Sudden infant death syndrome</td><td>10                          </td><td>1.44179104477612            </td></tr>\n",
       "\t<tr><th scope=row>5</th><td>10.55                 </td><td>11.45                 </td><td>200                   </td><td>1740                  </td><td>Research              </td><td>High-income           </td><td>0                     </td><td>3                     </td><td>Gynecological diseases</td><td>11                    </td><td>1.47611940298507      </td></tr>\n",
       "\t<tr><th scope=row>6</th><td>10.55                 </td><td>11.45                 </td><td>-200                  </td><td>-293.593147345966     </td><td>Burden                </td><td>High-income           </td><td>0                     </td><td>3                     </td><td>Gynecological diseases</td><td>11                    </td><td>1.47611940298507      </td></tr>\n",
       "</tbody>\n",
       "</table>\n"
      ],
      "text/latex": [
       "\\begin{tabular}{r|lllllllllll}\n",
       "  & xmin & xmax & ymin & ymax & metr & reg & ycent & dis\\_nb & disease & xcent & size\\_dis\\_lab\\\\\n",
       "\\hline\n",
       "\t1 & 8.55             & 9.45             & 200              & NA               & Research         & High-income      & 0                & 1                & Leprosy          & 9                & 1.40746268656716\\\\\n",
       "\t2 & 8.55              & 9.45              & -200              & -200.001835770178 & Burden            & High-income       & 0                 & 1                 & Leprosy           & 9                 & 1.40746268656716 \\\\\n",
       "\t3 & 9.55                         & 10.45                        & 200                          & NA                           & Research                     & High-income                  & 0                            & 2                            & Sudden infant death syndrome & 10                           & 1.44179104477612            \\\\\n",
       "\t4 & 9.55                         & 10.45                        & -200                         & -224.354018639849            & Burden                       & High-income                  & 0                            & 2                            & Sudden infant death syndrome & 10                           & 1.44179104477612            \\\\\n",
       "\t5 & 10.55                  & 11.45                  & 200                    & 1740                   & Research               & High-income            & 0                      & 3                      & Gynecological diseases & 11                     & 1.47611940298507      \\\\\n",
       "\t6 & 10.55                  & 11.45                  & -200                   & -293.593147345966      & Burden                 & High-income            & 0                      & 3                      & Gynecological diseases & 11                     & 1.47611940298507      \\\\\n",
       "\\end{tabular}\n"
      ],
      "text/plain": [
       "   xmin  xmax ymin      ymax     metr         reg ycent dis_nb\n",
       "1  8.55  9.45  200        NA Research High-income     0      1\n",
       "2  8.55  9.45 -200 -200.0018   Burden High-income     0      1\n",
       "3  9.55 10.45  200        NA Research High-income     0      2\n",
       "4  9.55 10.45 -200 -224.3540   Burden High-income     0      2\n",
       "5 10.55 11.45  200 1740.0000 Research High-income     0      3\n",
       "6 10.55 11.45 -200 -293.5931   Burden High-income     0      3\n",
       "                       disease xcent size_dis_lab\n",
       "1                      Leprosy     9     1.407463\n",
       "2                      Leprosy     9     1.407463\n",
       "3 Sudden infant death syndrome    10     1.441791\n",
       "4 Sudden infant death syndrome    10     1.441791\n",
       "5       Gynecological diseases    11     1.476119\n",
       "6       Gynecological diseases    11     1.476119"
      ]
     },
     "metadata": {},
     "output_type": "display_data"
    }
   ],
   "source": [
    "head(DPLOT)"
   ]
  },
  {
   "cell_type": "code",
   "execution_count": 270,
   "metadata": {
    "collapsed": false
   },
   "outputs": [
    {
     "data": {
      "text/html": [
       "<table>\n",
       "<thead><tr><th></th><th scope=col>breaks</th><th scope=col>labels</th><th scope=col>region</th><th scope=col>col</th></tr></thead>\n",
       "<tbody>\n",
       "\t<tr><th scope=row>1</th><td>300        </td><td>100        </td><td>High-income</td><td>1RCT       </td></tr>\n",
       "\t<tr><th scope=row>2</th><td>700        </td><td>500        </td><td>High-income</td><td>1RCT       </td></tr>\n",
       "\t<tr><th scope=row>3</th><td>1200       </td><td>1000       </td><td>High-income</td><td>1RCT       </td></tr>\n",
       "\t<tr><th scope=row>4</th><td>2200       </td><td>2000       </td><td>High-income</td><td>1RCT       </td></tr>\n",
       "\t<tr><th scope=row>5</th><td>3200       </td><td>3000       </td><td>High-income</td><td>1RCT       </td></tr>\n",
       "\t<tr><th scope=row>6</th><td>5200       </td><td>5000       </td><td>High-income</td><td>1RCT       </td></tr>\n",
       "</tbody>\n",
       "</table>\n"
      ],
      "text/latex": [
       "\\begin{tabular}{r|llll}\n",
       "  & breaks & labels & region & col\\\\\n",
       "\\hline\n",
       "\t1 & 300         & 100         & High-income & 1RCT       \\\\\n",
       "\t2 & 700         & 500         & High-income & 1RCT       \\\\\n",
       "\t3 & 1200        & 1000        & High-income & 1RCT       \\\\\n",
       "\t4 & 2200        & 2000        & High-income & 1RCT       \\\\\n",
       "\t5 & 3200        & 3000        & High-income & 1RCT       \\\\\n",
       "\t6 & 5200        & 5000        & High-income & 1RCT       \\\\\n",
       "\\end{tabular}\n"
      ],
      "text/plain": [
       "  breaks labels      region  col\n",
       "1    300    100 High-income 1RCT\n",
       "2    700    500 High-income 1RCT\n",
       "3   1200   1000 High-income 1RCT\n",
       "4   2200   2000 High-income 1RCT\n",
       "5   3200   3000 High-income 1RCT\n",
       "6   5200   5000 High-income 1RCT"
      ]
     },
     "metadata": {},
     "output_type": "display_data"
    }
   ],
   "source": [
    "head(tcks)"
   ]
  },
  {
   "cell_type": "code",
   "execution_count": 268,
   "metadata": {
    "collapsed": false
   },
   "outputs": [
    {
     "data": {
      "text/html": [
       "-47875.2532262032"
      ],
      "text/latex": [
       "-47875.2532262032"
      ],
      "text/markdown": [
       "-47875.2532262032"
      ],
      "text/plain": [
       "[1] -47875.25"
      ]
     },
     "metadata": {},
     "output_type": "display_data"
    }
   ],
   "source": [
    "min(DPLOT$ymax,na.rm=TRUE)-d_reg/2"
   ]
  },
  {
   "cell_type": "code",
   "execution_count": 273,
   "metadata": {
    "collapsed": false,
    "scrolled": true
   },
   "outputs": [],
   "source": [
    "p <- p+ scale_y_continuous(minor_breaks = tcks$breaks, breaks=tcks$breaks,\n",
    "#                     labels=tcks$labels,limits=c(min(DPLOT$ymax)-d_reg/2,max(DPLOT$ymax)+d_reg/2))\n",
    "                      labels=rep(\"\",nrow(tcks)),\n",
    "                           limits=c(min(DPLOT$ymax,na.rm=TRUE)-d_reg/2,max(DPLOT_err$ymax)+d_reg/2))\n"
   ]
  },
  {
   "cell_type": "code",
   "execution_count": 275,
   "metadata": {
    "collapsed": false
   },
   "outputs": [],
   "source": [
    "p <- p + theme(panel.grid.minor=element_line(color=\"#D3D3D3\",size=0.1))    \n",
    "    \n"
   ]
  },
  {
   "cell_type": "code",
   "execution_count": 282,
   "metadata": {
    "collapsed": false,
    "scrolled": true
   },
   "outputs": [],
   "source": [
    "p <- p+geom_text(\n",
    "       aes(x=length(tt_gbd)+IC+1.5,\n",
    "        y=breaks,\n",
    "        label=labels,\n",
    "\thjust=0.5),\n",
    "    data=tcks,\n",
    "    size=2,\n",
    "    col=as.numeric(tcks$col))\n"
   ]
  },
  {
   "cell_type": "code",
   "execution_count": 283,
   "metadata": {
    "collapsed": false
   },
   "outputs": [
    {
     "name": "stderr",
     "output_type": "stream",
     "text": [
      "Warning message:\n",
      "“Removed 35 rows containing missing values (geom_rect).”Warning message:\n",
      "“Removed 35 rows containing missing values (geom_errorbar).”"
     ]
    },
    {
     "data": {},
     "metadata": {},
     "output_type": "display_data"
    },
    {
     "data": {
      "image/png": "[encoded data removed]",
      "text/plain": [
       "plot without title"
      ]
     },
     "metadata": {},
     "output_type": "display_data"
    }
   ],
   "source": [
    "\n",
    "p <- p + theme(legend.position = \"none\")\n",
    "\n",
    "p\n"
   ]
  },
  {
   "cell_type": "code",
   "execution_count": null,
   "metadata": {
    "collapsed": true
   },
   "outputs": [],
   "source": []
  },
  {
   "cell_type": "code",
   "execution_count": null,
   "metadata": {
    "collapsed": true
   },
   "outputs": [],
   "source": []
  },
  {
   "cell_type": "code",
   "execution_count": null,
   "metadata": {
    "collapsed": true
   },
   "outputs": [],
   "source": []
  },
  {
   "cell_type": "code",
   "execution_count": null,
   "metadata": {
    "collapsed": true
   },
   "outputs": [],
   "source": []
  },
  {
   "cell_type": "code",
   "execution_count": null,
   "metadata": {
    "collapsed": true
   },
   "outputs": [],
   "source": []
  },
  {
   "cell_type": "code",
   "execution_count": null,
   "metadata": {
    "collapsed": true
   },
   "outputs": [],
   "source": []
  },
  {
   "cell_type": "code",
   "execution_count": null,
   "metadata": {
    "collapsed": true
   },
   "outputs": [],
   "source": []
  },
  {
   "cell_type": "code",
   "execution_count": null,
   "metadata": {
    "collapsed": true
   },
   "outputs": [],
   "source": []
  },
  {
   "cell_type": "code",
   "execution_count": null,
   "metadata": {
    "collapsed": true
   },
   "outputs": [],
   "source": []
  },
  {
   "cell_type": "code",
   "execution_count": null,
   "metadata": {
    "collapsed": true
   },
   "outputs": [],
   "source": []
  },
  {
   "cell_type": "code",
   "execution_count": null,
   "metadata": {
    "collapsed": true
   },
   "outputs": [],
   "source": []
  },
  {
   "cell_type": "code",
   "execution_count": null,
   "metadata": {
    "collapsed": true
   },
   "outputs": [],
   "source": []
  },
  {
   "cell_type": "code",
   "execution_count": null,
   "metadata": {
    "collapsed": true
   },
   "outputs": [],
   "source": []
  },
  {
   "cell_type": "code",
   "execution_count": null,
   "metadata": {
    "collapsed": true
   },
   "outputs": [],
   "source": []
  },
  {
   "cell_type": "code",
   "execution_count": null,
   "metadata": {
    "collapsed": true
   },
   "outputs": [],
   "source": []
  },
  {
   "cell_type": "code",
   "execution_count": null,
   "metadata": {
    "collapsed": true
   },
   "outputs": [],
   "source": []
  },
  {
   "cell_type": "code",
   "execution_count": 302,
   "metadata": {
    "collapsed": true
   },
   "outputs": [],
   "source": [
    "alphaStart <- 2*pi*((max(DPLOT_err$ymax[DPLOT_err$reg==regs[1]]+d_reg/2 + esp_dis_nb,na.rm=TRUE))/totalLength)"
   ]
  },
  {
   "cell_type": "code",
   "execution_count": 303,
   "metadata": {
    "collapsed": false
   },
   "outputs": [
    {
     "data": {
      "text/html": [
       "1.14808361919144"
      ],
      "text/latex": [
       "1.14808361919144"
      ],
      "text/markdown": [
       "1.14808361919144"
      ],
      "text/plain": [
       "[1] 1.148084"
      ]
     },
     "metadata": {},
     "output_type": "display_data"
    }
   ],
   "source": [
    "alphaStart"
   ]
  },
  {
   "cell_type": "code",
   "execution_count": 301,
   "metadata": {
    "collapsed": false
   },
   "outputs": [
    {
     "data": {
      "text/html": [
       "400"
      ],
      "text/latex": [
       "400"
      ],
      "text/markdown": [
       "400"
      ],
      "text/plain": [
       "[1] 400"
      ]
     },
     "metadata": {},
     "output_type": "display_data"
    }
   ],
   "source": [
    "d_reg"
   ]
  },
  {
   "cell_type": "code",
   "execution_count": 292,
   "metadata": {
    "collapsed": false
   },
   "outputs": [
    {
     "data": {
      "text/html": [
       "10459.025"
      ],
      "text/latex": [
       "10459.025"
      ],
      "text/markdown": [
       "10459.025"
      ],
      "text/plain": [
       "[1] 10459.02"
      ]
     },
     "metadata": {},
     "output_type": "display_data"
    }
   ],
   "source": [
    "max(DPLOT_err$ymax[DPLOT_err$reg==regs[1]]+d_reg/2,na.rm=TRUE)"
   ]
  },
  {
   "cell_type": "code",
   "execution_count": 304,
   "metadata": {
    "collapsed": false
   },
   "outputs": [
    {
     "name": "stderr",
     "output_type": "stream",
     "text": [
      "Warning message:\n",
      "“Removed 35 rows containing missing values (geom_rect).”Warning message:\n",
      "“Removed 35 rows containing missing values (geom_errorbar).”"
     ]
    }
   ],
   "source": [
    "ggsave(filename = \"../Figures/polar_props_RCT_DALYs.pdf\",\n",
    "      plot = p + coord_polar(theta=\"y\",start=alphaStart,direction=-1),\n",
    "      width=12,height=12)\n"
   ]
  },
  {
   "cell_type": "code",
   "execution_count": null,
   "metadata": {
    "collapsed": true
   },
   "outputs": [],
   "source": [
    "\n",
    "#Tick marks\n",
    "####################\n",
    "#Pour RCTs\n",
    "rcttks <- c(0,100,500,1000,2000,3000,5000,7500,10000)\n",
    "\n",
    "maj_rcts <- function(nb){\n",
    "x <- nb\n",
    "k <- 0\n",
    "while(x>=100){\n",
    "x <- x%/%10\n",
    "k <- k+1\n",
    "}\n",
    "res <- (x+1)*10^k\n",
    "res\n",
    "}\n",
    "\n",
    "#Faire que les ticks aillent jusqu'au max des RCTs arrondi au sup\n",
    "RCTtcks <- do.call('rbind',lapply(regs,function(x){\n",
    "data.frame(breaks=\n",
    "unique(DPLOT$ymin[DPLOT$metr==\"RCT\" & DPLOT$reg==x]) +\n",
    "c(rcttks[2:findInterval(max(D$RCTs_sim95[D$Region==x]),rcttks)],maj_rcts(max(D$RCTs_sim95[D$Region==x]))),\n",
    "labels=c(rcttks[2:findInterval(max(D$RCTs_sim95[D$Region==x]),rcttks)],maj_rcts(max(D$RCTs_sim95[D$Region==x]))))\n",
    "}))\n",
    "RCTtcks$col <- \"1RCT\"\n",
    "#Adding 11200 and suppressing 12000\n",
    "RCTtcks[RCTtcks$labels==12000,c(1,2)] <- RCTtcks[RCTtcks$labels==12000,c(1,2)] - 800\n",
    "RCTtcks$labels <- as.character(RCTtcks$label)\n",
    "\n",
    "#Pour GBD\n",
    "#gbdtks <- c(0,1e7,2e7,3e7,5e7,7.5e7,1e8,1.5e8,2e8)\n",
    "gbdtks <- c(0,1e7,2e7,3e7,5e7,7.5e7,1e8,1.5e8,2e8)/1e6\n",
    "\n",
    "maj_gbd <- function(nb){\n",
    "x <- nb\n",
    "if(trunc(x)==x) return(x)\n",
    "else return(trunc(x) + 1)\n",
    "#k <- 0\n",
    "#while(x>=100){\n",
    "#x <- x%/%10\n",
    "#k <- k+1\n",
    "#}\n",
    "#res <- (x+1)*10^k\n",
    "#res\n",
    "}\n",
    "\n",
    "GBDtcks <- do.call('rbind',lapply(regs,function(x){\n",
    "data.frame(breaks=\n",
    "unique(DPLOT$ymin[DPLOT$metr==\"GBD\" & DPLOT$reg==x]) -\n",
    "c(gbdtks[2:findInterval(max(D$GBD[D$Region==x]),gbdtks)],maj_gbd(max(D$GBD[D$Region==x])))*max(D$RCTs_sim)/max(D$GBD),\n",
    "labels=c(gbdtks[2:findInterval(max(D$GBD[D$Region==x]),gbdtks)],maj_gbd(max(D$GBD[D$Region==x]))))\n",
    "}))\n",
    "GBDtcks$col <- \"GBD\"\n",
    "#Changing 1.3e8 par 1.25e8 pour SSA\n",
    "#GBDtcks[GBDtcks$labels==1.3e8,1] <- GBDtcks[GBDtcks$labels==1.3e8,1] + (0.05e8)*max(D$RCT)/max(D$GBD)\n",
    "#GBDtcks[GBDtcks$labels==1.3e8,2] <- GBDtcks[GBDtcks$labels==1.3e8,2] - (0.05e8)\n",
    "\n",
    "#Changing 1.4e8 par 1.3e8 pour SA\n",
    "#GBDtcks[GBDtcks$labels==1.4e8,1] <- GBDtcks[GBDtcks$labels==1.4e8,1] + (0.1e8)*max(D$RCT)/max(D$GBD)\n",
    "#GBDtcks[GBDtcks$labels==1.4e8,2] <- GBDtcks[GBDtcks$labels==1.4e8,2] - (0.1e8)\n",
    "GBDtcks$labels <- as.character(GBDtcks$label)\n",
    "#GBDtcks$labels <- gsub(\"0\",\"\",GBDtcks$label)\n",
    "\n",
    "tcks <- rbind(RCTtcks,GBDtcks)\n",
    "tcks$col <- as.factor(tcks$col)\n",
    "\n",
    "#We suppress diseases for which Nb RCT simulation was not OK\n",
    "DPLOT[DPLOT$dis%in%c(\"Sexually transmitted diseases excluding HIV\",\"Leprosy\",\"Hemoglobinopathies and hemolytic anemias\",\"Congenital anomalies\",\"Sudden infant death syndrome\") & DPLOT$metr==\"RCT\",c(2:6)] <- NA\n",
    "\n",
    "    \n",
    "#GGPLOT OBJECT\n",
    "####################\n",
    "p <- ggplot(DPLOT) + geom_rect(aes(xmin=xmin,xmax=xmax,ymin=ymin,ymax=ymax,fill=metr,label=dis)) +\n",
    " geom_text(aes(x=xcent,\n",
    "        y=ycent,\n",
    "        label=dis_nb,\n",
    "        hjust=0.5),\n",
    "size=DPLOT$size_dis_lab,col=\"#42442E\")\n",
    "\n",
    "    p <- p + geom_segment(aes(x=(xmin+xmax)/2,xend=(xmin+xmax)/2,y=ymax,yend=ymax_95),data=DPLOT[DPLOT$metr==\"RCT\",])\n",
    "    p <- p + geom_segment(aes(x=xmin+wdt/2,xend=xmax-wdt/2,y=ymax_95,yend=ymax_95),data=DPLOT[DPLOT$metr==\"RCT\",])\n",
    "\n",
    "p <- p + theme_minimal()\n",
    "p <-p+theme(\n",
    "    axis.title.y=element_blank(),\n",
    "    axis.text.y=element_blank(),\n",
    "    axis.ticks.y=element_blank(),\n",
    "    axis.title.x=element_blank(),\n",
    "    axis.ticks.x=element_blank()\n",
    "    )\n",
    "\n",
    "#Y axis\n",
    "p <- p+ scale_y_continuous(minor_breaks = tcks$breaks, breaks=tcks$breaks,\n",
    "#                     labels=tcks$labels,limits=c(min(DPLOT$ymax)-d_reg/2,max(DPLOT$ymax)+d_reg/2))\n",
    "                      labels=rep(\"\",nrow(tcks)),limits=c(min(DPLOT$ymax_95)-d_reg/2,max(DPLOT$ymax_95)+d_reg/2))\n",
    "#p <- p + theme(axis.text.x = element_text(size=7,colour=tcks$col))\n",
    "#p <- p + theme(panel.grid.minor=element_line(color=\"grey\"))\n",
    "#p <- p + theme(panel.grid.major=element_line(color=\"black\"))\n",
    "p <- p + theme(panel.grid.minor=element_line(color=\"#D3D3D3\",size=0.1))    \n",
    "    \n",
    "p <- p+geom_text(\n",
    "       aes(x=length(tt_gbd)+IC+1.5,\n",
    "        y=breaks,\n",
    "        label=labels,\n",
    "\thjust=0.5),\n",
    "    data=tcks,\n",
    "    size=2,\n",
    "    col=as.numeric(tcks$col))\n",
    "\n",
    "#X axis\n",
    "p <- p +  scale_x_continuous(breaks = NULL,limits = c(0,max(DPLOT$xmax)+3))\n",
    "\n",
    "#Region labels\n",
    "    p<-p+geom_text(\n",
    "      aes(x=length(tt_gbd)+IC+3,\n",
    "#       aes(x=Inf,\n",
    "        y=xmin,\n",
    "        label=label,\n",
    "        angle=angle,\n",
    "\thjust=0.5,vjust=0),\n",
    "    data=familyLabelsDF,\n",
    "    size=4.3)\n",
    "\n",
    "#Taking_out legend\n",
    "p <- p + theme(legend.position = \"none\")\n",
    "\n",
    "#POLAR COORDINATES\n",
    "p <- p + coord_polar(theta=\"y\",start=alphaStart,direction=-1)\n",
    "\n",
    "x11(width=12,height=12)\n",
    "\n",
    "ggsave(filename = \"Figures/polar_absolute_numbers_simulation_new.pdf\")\n",
    "dev.off()\n",
    "\n",
    "\n",
    "#################################################################################################\n",
    "####################################################################################################\n",
    "#PROPORTIONS PLOT\n",
    "########################\n",
    "\n",
    "dpl <- D\n",
    "#Pas besoin de normaliser RCTs et GBD\n",
    "\n",
    "dpl$Pr_GBD <- 100*dpl$Prp_gbd\n",
    "dpl$Pr_RCTs_sim <- 100*dpl$SimMed_PrRCTs\n",
    "dpl$Pr_RCTs_sim95 <- 100*dpl$Sim95up_PrRCTs\n",
    "    \n",
    "#Taille barres = wdt*2\n",
    "wdt <- 0.45\n",
    "#Distance entre régions\n",
    "d_reg <- 5\n",
    "esp_dis_nb <- 1.2\n",
    "\n",
    "#Rectangles pour une maladie et région donnée\n",
    "displt <- \n",
    "function(dis,Rg,rg){\n",
    "data.frame(dis=dis,\txmin = rep(which(dis==names(tt_gbd))-wdt,2),\n",
    "\t\t\txmax = rep(which(dis==names(tt_gbd))+wdt,2),\n",
    "\t\t\tymin = c(Rg+esp_dis_nb,Rg-esp_dis_nb),\n",
    "\t\t\tymax = c(Rg+esp_dis_nb+dpl$Pr_RCTs_sim[dpl$Dis==dis & dpl$Region==rg],Rg-esp_dis_nb-dpl$Pr_GBD[dpl$Dis==dis & dpl$Region==rg]),\n",
    "            ymax_95 = c(Rg+esp_dis_nb+dpl$Pr_RCTs_sim95[dpl$Dis==dis & dpl$Region==rg],Rg-esp_dis_nb-dpl$gpl[dpl$Dis==dis & dpl$Region==rg]),\n",
    "\t\t\tmetr = c(\"RCT\",\"GBD\"),\n",
    "\t\t\treg = rg, ycent = Rg, dis_nb = which(dis==names(tt_gbd)))\n",
    "}\n",
    "\n",
    "#Rectangles pour toutes les maladies, une région donnée\n",
    "regplt <- function(Rg,rg) do.call('rbind',lapply(names(tt_gbd),function(x){displt(x,Rg,rg)}))\n",
    "\n",
    "#Emplacement des régions\n",
    "RG <- 0\n",
    "for(i in 2:length(regs)){\n",
    "RG <- c(RG,RG[i-1]-(2*esp_dis_nb+max(dpl$Pr_GBD[dpl$Region==regs[i-1]])+d_reg+max(dpl$Pr_RCTs_sim95[dpl$Region==regs[i]])))\n",
    "}\n",
    "\n",
    "#DataFrame Plot\n",
    "DPLOT <- do.call('rbind',lapply(1:length(regs),function(i){regplt(RG[i],regs[i])}))\n",
    "\n",
    "#Inner circle\n",
    "IC <- 8\n",
    "DPLOT$xmin <- DPLOT$xmin + IC\n",
    "DPLOT$xmax <- DPLOT$xmax + IC\n",
    "DPLOT$xcent <- DPLOT$dis_nb + IC\n",
    "\n",
    "#REGION LABELS\n",
    "#################\n",
    "totalLength <- max(DPLOT$ymax)-min(DPLOT$ymax)+d_reg\n",
    "alphaStart <- 2*pi*(max(dpl$Pr_RCTs_sim95[dpl$Region==names(tt_rcts)[1]]+d_reg/2)/totalLength)\n",
    "\n",
    "  readableAngle<-function(x){\n",
    "    angle<-x*(360/totalLength)\n",
    "#    angle+ifelse(sign(cos(angle*pi/180))+sign(sin(angle*pi/180))==-2,180,0)\n",
    "  }\n",
    "    familyLabelsDF<-data.frame(xmin=RG,label=reg_labs)\n",
    "    familyLabelsDF$angle <- readableAngle(familyLabelsDF$xmin)\n",
    "\n",
    "#Disease labels\n",
    "###################\n",
    "DPLOT$size_dis_lab = 2.3*(40+DPLOT$dis_nb)/(40+max(DPLOT$dis_nb))\n",
    "\n",
    "#Tick marks\n",
    "####################\n",
    "#Pour RCTs\n",
    "rcttks <- c(0,1,5,10,15,20,25,30)\n",
    "    \n",
    "#Faire que les ticks aillent jusqu'au max des RCTs arrondi au sup\n",
    "RCTtcks <- do.call('rbind',lapply(regs,function(x){\n",
    "data.frame(breaks=\n",
    "unique(DPLOT$ymin[DPLOT$metr==\"RCT\" & DPLOT$reg==x]) +\n",
    "rcttks[1+1:findInterval(max(dpl$Pr_RCTs_sim95[dpl$Region==x]),rcttks)],\n",
    "labels=rcttks[1+1:findInterval(max(dpl$Pr_RCTs_sim95[dpl$Region==x]),rcttks)],reg=x)\n",
    "}))\n",
    "RCTtcks$col <- \"1RCT\"\n",
    "#RCTtcks <- RCTtcks[!(RCTtcks$reg==\"Sub.Saharian.Africa\" & RCTtcks$label==20),]\n",
    "#RCTtcks <- RCTtcks[!(RCTtcks$reg==\"Latin.America.and.Caribbean\" & RCTtcks$label==20),]\n",
    "#RCTtcks <- RCTtcks[!(RCTtcks$reg==\"Central.Europe..Eastern.Europe..and.Central.Asia\" & RCTtcks$label==25),]\n",
    "#RCTtcks <- RCTtcks[!(RCTtcks$reg==\"High.income\" & RCTtcks$label==20),]\n",
    "RCTtcks$labels <- as.character(RCTtcks$label)\n",
    "\n",
    "#Pour GBD\n",
    "gbdtks <- c(0,1,5,10,15,20,25,30,35)\n",
    "GBDtcks <- do.call('rbind',lapply(regs,function(x){\n",
    "data.frame(breaks=\n",
    "unique(DPLOT$ymin[DPLOT$metr==\"GBD\" & DPLOT$reg==x]) -\n",
    "gbdtks[1+1:findInterval(max(dpl$Pr_GBD[dpl$Region==x]),gbdtks)],\n",
    "labels=gbdtks[1+1:findInterval(max(dpl$Pr_GBD[dpl$Region==x]),gbdtks)],reg=x)\n",
    "}))\n",
    "GBDtcks$col <- \"GBD\"\n",
    "#GBDtcks[GBDtcks$reg==\"Southeast.Asia..East.Asia.and.Oceania\" & GBDtcks$label==20,c(1,2)] <- GBDtcks[GBDtcks$reg==\"Southeast.Asia..East.Asia.and.Oceania\" & GBDtcks$label==20,c(1,2)] - c(-2,2)\n",
    "#GBDtcks[GBDtcks$reg==\"South.Asia\" & GBDtcks$label==25,c(1,2)] <- GBDtcks[GBDtcks$reg==\"South.Asia\" & GBDtcks$label==25,c(1,2)] - c(-3,3)\n",
    "#GBDtcks[GBDtcks$reg==\"Latin.America.and.Caribbean\" & GBDtcks$label==15,c(1,2)] <- GBDtcks[GBDtcks$reg==\"Latin.America.and.Caribbean\" & GBDtcks$label==15,c(1,2)] - c(-2,2)\n",
    "#GBDtcks[GBDtcks$reg==\"Sub.Saharian.Africa\" & GBDtcks$label==25,c(1,2)] <- GBDtcks[GBDtcks$reg==\"Sub.Saharian.Africa\" & GBDtcks$label==25,c(1,2)] - c(-2,2)\n",
    "GBDtcks$labels <- as.character(GBDtcks$label)\n",
    "\n",
    "tcks <- rbind(RCTtcks,GBDtcks)\n",
    "tcks$col <- as.factor(tcks$col)\n",
    "\n",
    "#We suppress diseases for which Nb RCT simulation was not OK\n",
    "DPLOT[DPLOT$dis%in%c(\"Sexually transmitted diseases excluding HIV\",\"Leprosy\",\"Hemoglobinopathies and hemolytic anemias\",\"Congenital anomalies\",\"Sudden infant death syndrome\") & DPLOT$metr==\"RCT\",c(2:6)] <- NA\n",
    "\n",
    "#Gaps\n",
    "DGaps <- DPLOT[paste(DPLOT$reg,DPLOT$dis)%in%paste(dpl$Region[dpl$GAP & dpl$Pr_GBD>=1],dpl$Disease[dpl$GAP &  dpl$Pr_GBD>=1]),]\n",
    "DGaps <- DGaps[!DGaps$dis%in%c(\"Sexually transmitted diseases excluding HIV\",\"Leprosy\",\"Hemoglobinopathies and hemolytic anemias\",\"Congenital anomalies\",\"Sudden infant death syndrome\"),]\n",
    "DGaps$gap_shape <- paste(DGaps$reg,DGaps$dis)%in%paste(dpl$Region[dpl$GAP & dpl$Pr_GBD>=5],dpl$Disease[dpl$GAP &  dpl$Pr_GBD>=5])\n",
    "DGaps <- DGaps[DGaps$metr==\"GBD\",]\n",
    "DGaps$gap_shape <- factor(DGaps$gap_shape)\n",
    "    \n",
    "#GGPLOT OBJECT\n",
    "####################\n",
    "DPLOT$shape <- DPLOT$dis_nb\n",
    "DPLOT$shape[DPLOT$shape==27] <- 0\n",
    "DPLOT$shape[DPLOT$shape==26] <- 32\n",
    "DPLOT$shape <- as.factor(DPLOT$shape)\n",
    "\n",
    "p <- ggplot(DPLOT) + geom_rect(aes(xmin=xmin,xmax=xmax,ymin=ymin,ymax=ymax,fill=metr,label=dis)) +\n",
    " geom_text(aes(x=xcent,\n",
    "        y=ycent,\n",
    "        label=dis_nb,\n",
    "\thjust=0.5),\n",
    "size=DPLOT$size_dis_lab,col=\"#42442E\") \n",
    "\n",
    "    p <- p + geom_segment(aes(x=(xmin+xmax)/2,xend=(xmin+xmax)/2,y=ymax,yend=ymax_95),data=DPLOT[DPLOT$metr==\"RCT\",])\n",
    "    p <- p + geom_segment(aes(x=xmin+wdt/2,xend=xmax-wdt/2,y=ymax_95,yend=ymax_95),data=DPLOT[DPLOT$metr==\"RCT\",])\n",
    "\n",
    "    p <- p + geom_point(data=DGaps,aes(x=(xmin+xmax)/2,y=ymax - 2,shape=gap_shape))\n",
    "    \n",
    "p <- p + theme_minimal()\n",
    "p <-p+theme(\n",
    "    axis.title.y=element_blank(),\n",
    "    axis.text.y=element_blank(),\n",
    "    axis.ticks.y=element_blank(),\n",
    "    axis.title.x=element_blank(),\n",
    "    axis.ticks.x=element_blank()\n",
    "    )\n",
    "\n",
    "#Y axis\n",
    "p <- p+ scale_y_continuous(minor_breaks = tcks$breaks, breaks=tcks$breaks,\n",
    "#                     labels=tcks$labels,limits=c(min(DPLOT$ymax)-d_reg/2,max(DPLOT$ymax)+d_reg/2))\n",
    "                      labels=rep(\"\",nrow(tcks)),limits=c(min(DPLOT$ymax)-d_reg/2,max(DPLOT$ymax)+d_reg/2))\n",
    "#p <- p + theme(axis.text.x = element_text(size=7,colour=tcks$col))\n",
    "p <- p + theme(panel.grid.minor=element_line(color=\"#D3D3D3\",size=0.1))    \n",
    "\n",
    "p <- p+geom_text(\n",
    "       aes(x=length(tt_gbd)+IC+1.5,\n",
    "        y=breaks,\n",
    "        label=labels,\n",
    "\thjust=0.5),\n",
    "    data=tcks,\n",
    "    size=2,\n",
    "    col=as.numeric(tcks$col))\n",
    "\n",
    "#X axis\n",
    "p <- p +  scale_x_continuous(breaks = NULL,limits = c(0,max(DPLOT$xmax)+3))\n",
    "\n",
    "#Region labels\n",
    "    p<-p+geom_text(\n",
    "      aes(x=length(tt_gbd)+IC+3,\n",
    "#       aes(x=Inf,\n",
    "        y=xmin,\n",
    "        label=label,\n",
    "        angle=angle,\n",
    "\thjust=0.5,vjust=0),\n",
    "    data=familyLabelsDF,\n",
    "    size=4.5)\n",
    "\n",
    "\n",
    "#POLAR COORDINATES\n",
    "p <- p + coord_polar(theta=\"y\",start=alphaStart,direction=-1)\n",
    "\n",
    "p <- p + theme(legend.position = \"none\")\n",
    "\n",
    "x11(width=12,height=12)\n",
    "\n",
    "ggsave(filename = \"Figures/polar_proportion_simulation_new.pdf\")\n",
    "\n",
    "dev.off()"
   ]
  }
 ],
 "metadata": {
  "kernelspec": {
   "display_name": "R",
   "language": "R",
   "name": "ir"
  },
  "language_info": {
   "codemirror_mode": "r",
   "file_extension": ".r",
   "mimetype": "text/x-r-source",
   "name": "R",
   "pygments_lexer": "r",
   "version": "3.3.1"
  }
 },
 "nbformat": 4,
 "nbformat_minor": 1
}
