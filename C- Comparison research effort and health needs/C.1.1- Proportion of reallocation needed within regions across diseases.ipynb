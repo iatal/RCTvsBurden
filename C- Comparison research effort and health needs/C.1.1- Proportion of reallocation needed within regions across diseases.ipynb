{
 "cells": [
  {
   "cell_type": "markdown",
   "metadata": {},
   "source": [
    "# We sample over distributions of replicates\n",
    "### N= 10,000"
   ]
  },
  {
   "cell_type": "code",
   "execution_count": 1,
   "metadata": {
    "collapsed": false
   },
   "outputs": [
    {
     "name": "stderr",
     "output_type": "stream",
     "text": [
      "Loading required package: iterators\n",
      "Loading required package: parallel\n"
     ]
    }
   ],
   "source": [
    "library(data.table)\n",
    "library(foreach)\n",
    "library(doParallel)"
   ]
  },
  {
   "cell_type": "code",
   "execution_count": 2,
   "metadata": {
    "collapsed": true
   },
   "outputs": [],
   "source": [
    "GBD <- read.table(\"../Data/DALY_YLL_deaths_per_region_and_27_diseases_2005.txt\")\n",
    "GBD <- GBD[order(GBD$metr,GBD$Region,GBD$Disease),]"
   ]
  },
  {
   "cell_type": "code",
   "execution_count": 3,
   "metadata": {
    "collapsed": false
   },
   "outputs": [],
   "source": [
    "#Burden of all diseases in all regions for each metric of burden\n",
    "GBD <- rbind(GBD,data.frame(metr=levels(GBD$metr),\n",
    "           Region=\"All\",\n",
    "           Disease=\"all\",\n",
    "           burden=tapply(GBD$burden[GBD$Region==\"All\"],GBD$metr[GBD$Region==\"All\"],sum)))\n",
    "rownames(GBD) <- NULL\n",
    "GBD <- GBD[order(GBD$metr,GBD$Region,GBD$Disease),]\n",
    "\n",
    "#Burden in Non-HI\n",
    "DNHI <- GBD[GBD$Region==\"All\",]\n",
    "DNHI$burden <- DNHI$burden - GBD$burden[GBD$Region==\"High-income\"]\n",
    "DNHI$Region <- \"Non-HI\"\n",
    "GBD <- rbind(GBD,DNHI)\n",
    "GBD$Region <- as.factor(as.character(GBD$Region))\n",
    "GBD <- GBD[order(GBD$metr,GBD$Region,GBD$Disease),]\n",
    "\n",
    "#Local proportions of burden across diseases for each metric of burden\n",
    "GBD$Prp <- 100*GBD$burden/rep(GBD$burden[GBD$Disease==\"all\"],as.numeric(table(paste(GBD$metr,GBD$Region))))\n",
    "\n",
    "GBD <- data.table(GBD)"
   ]
  },
  {
   "cell_type": "code",
   "execution_count": 4,
   "metadata": {
    "collapsed": true
   },
   "outputs": [],
   "source": [
    "Mgbd <- read.table(\"../Data/27_gbd_groups.txt\")\n",
    "sms <- list.files(\"/media/igna/Elements/HotelDieu/Cochrane/MappingRCTs_vs_Burden/Replicates/Metrics_over_repl/\")\n",
    "dis <- as.numeric(substr(sms,25,nchar(sms)-4))\n",
    "dis <- dis[dis!=0]"
   ]
  },
  {
   "cell_type": "code",
   "execution_count": 5,
   "metadata": {
    "collapsed": false
   },
   "outputs": [],
   "source": [
    "#We upload all replicates\n",
    "#We will measure alignment only over diseases for which we have replicates\n",
    "\n",
    "L <- list()\n",
    "for(i in 1:length(dis)){\n",
    "    k <- dis[i]\n",
    "    DF <- fread(paste(c(\"/media/igna/Elements/HotelDieu/Cochrane/MappingRCTs_vs_Burden/Replicates/Metrics_over_repl/Metrics_over_replicates_\",\n",
    "                    as.character(k),\".txt\"),collapse=\"\"))\n",
    "\n",
    "    regs <- unique(DF$Region)\n",
    "    L[[i]] <- data.table(\n",
    "    Disease=Mgbd$x[k],\n",
    "    Region=DF$Region[DF$Dis==\"dis\"],\n",
    "    Prop_RCTs=100*DF$RCTs[DF$Dis==\"dis\"]/DF$RCTs[DF$Dis==\"all\"],\n",
    "    Prop_Patients=100*DF$Patients[DF$Dis==\"dis\"]/DF$Patients[DF$Dis==\"all\"],\n",
    "    sim_nb = rep(1:((nrow(DF)/length(regs))/2),each=length(regs)))\n",
    "    \n",
    "    }\n",
    "\n",
    "DT <- rbindlist(L)\n",
    "\n",
    "#replicate per disease\n",
    "DT$k <- paste(DT$Disease,DT$sim_nb)\n",
    "#nb replicates available per disease\n",
    "NS <- DT[,max(sim_nb),by=\"Disease\"]"
   ]
  },
  {
   "cell_type": "code",
   "execution_count": 6,
   "metadata": {
    "collapsed": false
   },
   "outputs": [],
   "source": [
    "NK <- 10000\n",
    "set.seed(1234)\n",
    "#For each disease, we sample 10,000 replicates, giving local proportions of research\n",
    "sims <- do.call('rbind',tapply(NS$V1,NS$Disease,function(x){sample(1:x,NK,replace=TRUE)}))"
   ]
  },
  {
   "cell_type": "code",
   "execution_count": 7,
   "metadata": {
    "collapsed": false
   },
   "outputs": [
    {
     "data": {
      "text/plain": [
       "      user     system    elapsed \n",
       " 0.1820333  0.0120500 12.7565333 "
      ]
     },
     "metadata": {},
     "output_type": "display_data"
    }
   ],
   "source": [
    "cl<-makeCluster(4)\n",
    "registerDoParallel(cl)\n",
    "t0 <- proc.time()\n",
    "A <- foreach(k = 1:NK, .packages=\"data.table\") %dopar% {\n",
    "    x <- sims[,k]\n",
    "    dtt <- merge(GBD,DT[DT$k%in%paste(rownames(sims),x),])\n",
    "    dtt[,.(sum(abs(Prp[Prp>=Prop_RCTs]-Prop_RCTs[Prp>=Prop_RCTs])),\n",
    "       sum(abs(Prp[Prp>=2*Prop_RCTs]/2-Prop_RCTs[Prp>=2*Prop_RCTs])),\n",
    "       sum(abs(Prp[Prp>=Prop_Patients]-Prop_Patients[Prp>=Prop_Patients])),\n",
    "       sum(abs(Prp[Prp>=2*Prop_Patients]/2-Prop_RCTs[Prp>=2*Prop_Patients]))),\n",
    "        by=.(metr,Region)]\n",
    "    }\n",
    "stopCluster(cl)\n",
    "((proc.time() - t0)/60)"
   ]
  },
  {
   "cell_type": "code",
   "execution_count": 8,
   "metadata": {
    "collapsed": false,
    "scrolled": false
   },
   "outputs": [],
   "source": [
    "Al <- rbindlist(A)"
   ]
  },
  {
   "cell_type": "code",
   "execution_count": 9,
   "metadata": {
    "collapsed": false
   },
   "outputs": [
    {
     "data": {
      "text/html": [
       "<table>\n",
       "<thead><tr><th></th><th scope=col>metr</th><th scope=col>Region</th><th scope=col>V1</th><th scope=col>V2</th><th scope=col>V3</th><th scope=col>V4</th></tr></thead>\n",
       "<tbody>\n",
       "\t<tr><th scope=row>1</th><td>daly            </td><td>All             </td><td>30.1461261866829</td><td>8.53307379502023</td><td>22.7850337488825</td><td>3.60760939635803</td></tr>\n",
       "\t<tr><th scope=row>2</th><td>death           </td><td>All             </td><td>41.5116287905914</td><td>6.61494087229813</td><td>29.1067795691509</td><td>1.34425726601647</td></tr>\n",
       "\t<tr><th scope=row>3</th><td>yld             </td><td>All             </td><td>37.9710976667447</td><td>7.70993610323922</td><td>43.7843448407474</td><td>6.71194328228305</td></tr>\n",
       "\t<tr><th scope=row>4</th><td>yll             </td><td>All             </td><td>45.9486562237184</td><td>14.5205170931185</td><td>34.3092877040155</td><td>11.9746418906407</td></tr>\n",
       "\t<tr><th scope=row>5</th><td>daly                                            </td><td>Central Europe, Eastern Europe, and Central Asia</td><td>31.0720417002882                                </td><td>6.00432894281371                                </td><td>25.1423527596846                                </td><td>1.00476603628302                                </td></tr>\n",
       "\t<tr><th scope=row>6</th><td>death                                           </td><td>Central Europe, Eastern Europe, and Central Asia</td><td>53.2621863102998                                </td><td>19.7299773036951                                </td><td>48.5961498250461                                </td><td>19.7299773036951                                </td></tr>\n",
       "</tbody>\n",
       "</table>\n"
      ],
      "text/latex": [
       "\\begin{tabular}{r|llllll}\n",
       "  & metr & Region & V1 & V2 & V3 & V4\\\\\n",
       "\\hline\n",
       "\t1 & daly             & All              & 30.1461261866829 & 8.53307379502023 & 22.7850337488825 & 3.60760939635803\\\\\n",
       "\t2 & death            & All              & 41.5116287905914 & 6.61494087229813 & 29.1067795691509 & 1.34425726601647\\\\\n",
       "\t3 & yld              & All              & 37.9710976667447 & 7.70993610323922 & 43.7843448407474 & 6.71194328228305\\\\\n",
       "\t4 & yll              & All              & 45.9486562237184 & 14.5205170931185 & 34.3092877040155 & 11.9746418906407\\\\\n",
       "\t5 & daly                                             & Central Europe, Eastern Europe, and Central Asia & 31.0720417002882                                 & 6.00432894281371                                 & 25.1423527596846                                 & 1.00476603628302                                \\\\\n",
       "\t6 & death                                            & Central Europe, Eastern Europe, and Central Asia & 53.2621863102998                                 & 19.7299773036951                                 & 48.5961498250461                                 & 19.7299773036951                                \\\\\n",
       "\\end{tabular}\n"
      ],
      "text/plain": [
       "   metr                                           Region       V1        V2\n",
       "1  daly                                              All 30.14613  8.533074\n",
       "2 death                                              All 41.51163  6.614941\n",
       "3   yld                                              All 37.97110  7.709936\n",
       "4   yll                                              All 45.94866 14.520517\n",
       "5  daly Central Europe, Eastern Europe, and Central Asia 31.07204  6.004329\n",
       "6 death Central Europe, Eastern Europe, and Central Asia 53.26219 19.729977\n",
       "        V3        V4\n",
       "1 22.78503  3.607609\n",
       "2 29.10678  1.344257\n",
       "3 43.78434  6.711943\n",
       "4 34.30929 11.974642\n",
       "5 25.14235  1.004766\n",
       "6 48.59615 19.729977"
      ]
     },
     "metadata": {},
     "output_type": "display_data"
    }
   ],
   "source": [
    "head(Al)"
   ]
  },
  {
   "cell_type": "code",
   "execution_count": 10,
   "metadata": {
    "collapsed": false
   },
   "outputs": [],
   "source": [
    "AUI <- Al[,lapply(.SD,function(x){quantile(x,probs=c(0.025,0.5,0.975))}),by=.(metr,Region),.SDcols=c(\"V1\",\"V2\",\"V3\",\"V4\")]\n",
    "AUI$UI <- rep(c(\"low\",\"med\",\"up\"),times=length(unique(paste(AUI$metr,AUI$Region))))\n",
    "AUI <- AUI[,c(\"UI\",\"Region\",\"metr\",\"V1\",\"V2\",\"V3\",\"V4\")]\n",
    "names(AUI) <- c(\"UI\",\"Region\",\"metr\",\"RCTs_fill\",\"RCTs_nogap\",\"Patients_fill\",\"Patients_nogap\")"
   ]
  },
  {
   "cell_type": "code",
   "execution_count": 11,
   "metadata": {
    "collapsed": false,
    "scrolled": true
   },
   "outputs": [],
   "source": [
    "write.table(AUI,\"../Data/Alignment_ratios_within_regions_across_diseases_wt_sims_patients_metrs_burdens.txt\")"
   ]
  },
  {
   "cell_type": "code",
   "execution_count": null,
   "metadata": {
    "collapsed": true
   },
   "outputs": [],
   "source": []
  }
 ],
 "metadata": {
  "kernelspec": {
   "display_name": "R",
   "language": "R",
   "name": "ir"
  },
  "language_info": {
   "codemirror_mode": "r",
   "file_extension": ".r",
   "mimetype": "text/x-r-source",
   "name": "R",
   "pygments_lexer": "r",
   "version": "3.3.1"
  }
 },
 "nbformat": 4,
 "nbformat_minor": 1
}
