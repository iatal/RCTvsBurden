{
 "cells": [
  {
   "cell_type": "markdown",
   "metadata": {},
   "source": [
    "### Big table with info per region per disease of RCTs and burden"
   ]
  },
  {
   "cell_type": "code",
   "execution_count": 4,
   "metadata": {
    "collapsed": false
   },
   "outputs": [],
   "source": [
    "DT <- read.table(\"../Data/All_data.txt\")"
   ]
  },
  {
   "cell_type": "code",
   "execution_count": 5,
   "metadata": {
    "collapsed": false
   },
   "outputs": [
    {
     "data": {
      "text/html": [
       "<table>\n",
       "<thead><tr><th></th><th scope=col>Region</th><th scope=col>Disease</th><th scope=col>burden_daly</th><th scope=col>burden_yll</th><th scope=col>burden_yld</th><th scope=col>burden_death</th><th scope=col>Prop_loc_burden_daly</th><th scope=col>Prop_loc_burden_yll</th><th scope=col>Prop_loc_burden_yld</th><th scope=col>Prop_loc_burden_death</th><th scope=col>⋯</th><th scope=col>Prop_glob_RCTs_up</th><th scope=col>Prop_glob_Patients_low</th><th scope=col>Prop_glob_Patients_med</th><th scope=col>Prop_glob_Patients_up</th><th scope=col>Prop_NHI_RCTs_low</th><th scope=col>Prop_NHI_RCTs_med</th><th scope=col>Prop_NHI_RCTs_up</th><th scope=col>Prop_NHI_Patients_low</th><th scope=col>Prop_NHI_Patients_med</th><th scope=col>Prop_NHI_Patients_up</th></tr></thead>\n",
       "<tbody>\n",
       "\t<tr><th scope=row>1</th><td>All             </td><td>All             </td><td>2220063510.80076</td><td>1548796838.65609</td><td>671266365.044935</td><td>46250530.2665929</td><td>100             </td><td>100             </td><td>100             </td><td>100             </td><td>⋯               </td><td>NA              </td><td>NA              </td><td>NA              </td><td>NA              </td><td>NA              </td><td>NA              </td><td>NA              </td><td>NA              </td><td>NA              </td><td>NA              </td></tr>\n",
       "\t<tr><th scope=row>2</th><td>All                                    </td><td>Cardiovascular and circulatory diseases</td><td>287404109.09231                        </td><td>267807387.790028                       </td><td>19596607.312309                        </td><td>14726543.7199449                       </td><td>12.9457606818034                       </td><td>17.2913180803241                       </td><td>2.91934891017476                       </td><td>31.8408105486781                       </td><td>⋯                                      </td><td>NA                                     </td><td>NA                                     </td><td>NA                                     </td><td>NA                                     </td><td>NA                                     </td><td>NA                                     </td><td>NA                                     </td><td>NA                                     </td><td>NA                                     </td><td>NA                                     </td></tr>\n",
       "\t<tr><th scope=row>3</th><td>All                         </td><td>Chronic respiratory diseases</td><td>112485355.22285             </td><td>67399684.65133              </td><td>45085687.018707             </td><td>3572762.590618              </td><td>5.06676294059161            </td><td>4.35174472010244            </td><td>6.71651215768706            </td><td>7.72480352122283            </td><td>⋯                           </td><td>NA                          </td><td>NA                          </td><td>NA                          </td><td>NA                          </td><td>NA                          </td><td>NA                          </td><td>NA                          </td><td>NA                          </td><td>NA                          </td><td>NA                          </td></tr>\n",
       "\t<tr><th scope=row>4</th><td>All                   </td><td>Cirrhosis of the liver</td><td>30462721.1164         </td><td>29883176.0549         </td><td>579531.730192         </td><td>990159.446125         </td><td>1.37215538961821      </td><td>1.9294445410174       </td><td>0.0863340933450771    </td><td>2.14086074347173      </td><td>⋯                     </td><td>NA                    </td><td>NA                    </td><td>NA                    </td><td>NA                    </td><td>NA                    </td><td>NA                    </td><td>NA                    </td><td>NA                    </td><td>NA                    </td><td>NA                    </td></tr>\n",
       "\t<tr><th scope=row>5</th><td>All                 </td><td>Congenital anomalies</td><td>43254504.439        </td><td>40150785.446        </td><td>3103715.2332        </td><td>553886.39191        </td><td>1.94834536167834    </td><td>2.59238555011768    </td><td>0.462367160760727   </td><td>1.19757846821937    </td><td>⋯                   </td><td>NA                  </td><td>NA                  </td><td>NA                  </td><td>NA                  </td><td>NA                  </td><td>NA                  </td><td>NA                  </td><td>NA                  </td><td>NA                  </td><td>NA                  </td></tr>\n",
       "\t<tr><th scope=row>6</th><td>All                                            </td><td>Diabetes, urinary diseases and male infertility</td><td>75821480.094146                                </td><td>48042869.768465                                </td><td>27778586.1421424                               </td><td>2082326.848938                                 </td><td>3.41528428016898                               </td><td>3.10194781971226                               </td><td>4.13823596543272                               </td><td>4.50227670241887                               </td><td>⋯                                              </td><td>NA                                             </td><td>NA                                             </td><td>NA                                             </td><td>NA                                             </td><td>NA                                             </td><td>NA                                             </td><td>NA                                             </td><td>NA                                             </td><td>NA                                             </td><td>NA                                             </td></tr>\n",
       "</tbody>\n",
       "</table>\n"
      ],
      "text/latex": [
       "\\begin{tabular}{r|llllllllllllllllllllllllllllllllllllllllll}\n",
       "  & Region & Disease & burden\\_daly & burden\\_yll & burden\\_yld & burden\\_death & Prop\\_loc\\_burden\\_daly & Prop\\_loc\\_burden\\_yll & Prop\\_loc\\_burden\\_yld & Prop\\_loc\\_burden\\_death & ⋯ & Prop\\_glob\\_RCTs\\_up & Prop\\_glob\\_Patients\\_low & Prop\\_glob\\_Patients\\_med & Prop\\_glob\\_Patients\\_up & Prop\\_NHI\\_RCTs\\_low & Prop\\_NHI\\_RCTs\\_med & Prop\\_NHI\\_RCTs\\_up & Prop\\_NHI\\_Patients\\_low & Prop\\_NHI\\_Patients\\_med & Prop\\_NHI\\_Patients\\_up\\\\\n",
       "\\hline\n",
       "\t1 & All              & All              & 2220063510.80076 & 1548796838.65609 & 671266365.044935 & 46250530.2665929 & 100              & 100              & 100              & 100              & ⋯                & NA               & NA               & NA               & NA               & NA               & NA               & NA               & NA               & NA               & NA              \\\\\n",
       "\t2 & All                                     & Cardiovascular and circulatory diseases & 287404109.09231                         & 267807387.790028                        & 19596607.312309                         & 14726543.7199449                        & 12.9457606818034                        & 17.2913180803241                        & 2.91934891017476                        & 31.8408105486781                        & ⋯                                       & NA                                      & NA                                      & NA                                      & NA                                      & NA                                      & NA                                      & NA                                      & NA                                      & NA                                      & NA                                     \\\\\n",
       "\t3 & All                          & Chronic respiratory diseases & 112485355.22285              & 67399684.65133               & 45085687.018707              & 3572762.590618               & 5.06676294059161             & 4.35174472010244             & 6.71651215768706             & 7.72480352122283             & ⋯                            & NA                           & NA                           & NA                           & NA                           & NA                           & NA                           & NA                           & NA                           & NA                           & NA                          \\\\\n",
       "\t4 & All                    & Cirrhosis of the liver & 30462721.1164          & 29883176.0549          & 579531.730192          & 990159.446125          & 1.37215538961821       & 1.9294445410174        & 0.0863340933450771     & 2.14086074347173       & ⋯                      & NA                     & NA                     & NA                     & NA                     & NA                     & NA                     & NA                     & NA                     & NA                     & NA                    \\\\\n",
       "\t5 & All                  & Congenital anomalies & 43254504.439         & 40150785.446         & 3103715.2332         & 553886.39191         & 1.94834536167834     & 2.59238555011768     & 0.462367160760727    & 1.19757846821937     & ⋯                    & NA                   & NA                   & NA                   & NA                   & NA                   & NA                   & NA                   & NA                   & NA                   & NA                  \\\\\n",
       "\t6 & All                                             & Diabetes, urinary diseases and male infertility & 75821480.094146                                 & 48042869.768465                                 & 27778586.1421424                                & 2082326.848938                                  & 3.41528428016898                                & 3.10194781971226                                & 4.13823596543272                                & 4.50227670241887                                & ⋯                                               & NA                                              & NA                                              & NA                                              & NA                                              & NA                                              & NA                                              & NA                                              & NA                                              & NA                                              & NA                                             \\\\\n",
       "\\end{tabular}\n"
      ],
      "text/plain": [
       "  Region                                         Disease burden_daly burden_yll\n",
       "1    All                                             All  2220063511 1548796839\n",
       "2    All         Cardiovascular and circulatory diseases   287404109  267807388\n",
       "3    All                    Chronic respiratory diseases   112485355   67399685\n",
       "4    All                          Cirrhosis of the liver    30462721   29883176\n",
       "5    All                            Congenital anomalies    43254504   40150785\n",
       "6    All Diabetes, urinary diseases and male infertility    75821480   48042870\n",
       "   burden_yld burden_death Prop_loc_burden_daly Prop_loc_burden_yll\n",
       "1 671266365.0   46250530.3           100.000000          100.000000\n",
       "2  19596607.3   14726543.7            12.945761           17.291318\n",
       "3  45085687.0    3572762.6             5.066763            4.351745\n",
       "4    579531.7     990159.4             1.372155            1.929445\n",
       "5   3103715.2     553886.4             1.948345            2.592386\n",
       "6  27778586.1    2082326.8             3.415284            3.101948\n",
       "  Prop_loc_burden_yld Prop_loc_burden_death ⋯ Prop_glob_RCTs_up\n",
       "1        100.00000000            100.000000 ⋯                NA\n",
       "2          2.91934891             31.840811 ⋯                NA\n",
       "3          6.71651216              7.724804 ⋯                NA\n",
       "4          0.08633409              2.140861 ⋯                NA\n",
       "5          0.46236716              1.197578 ⋯                NA\n",
       "6          4.13823597              4.502277 ⋯                NA\n",
       "  Prop_glob_Patients_low Prop_glob_Patients_med Prop_glob_Patients_up\n",
       "1                     NA                     NA                    NA\n",
       "2                     NA                     NA                    NA\n",
       "3                     NA                     NA                    NA\n",
       "4                     NA                     NA                    NA\n",
       "5                     NA                     NA                    NA\n",
       "6                     NA                     NA                    NA\n",
       "  Prop_NHI_RCTs_low Prop_NHI_RCTs_med Prop_NHI_RCTs_up Prop_NHI_Patients_low\n",
       "1                NA                NA               NA                    NA\n",
       "2                NA                NA               NA                    NA\n",
       "3                NA                NA               NA                    NA\n",
       "4                NA                NA               NA                    NA\n",
       "5                NA                NA               NA                    NA\n",
       "6                NA                NA               NA                    NA\n",
       "  Prop_NHI_Patients_med Prop_NHI_Patients_up\n",
       "1                    NA                   NA\n",
       "2                    NA                   NA\n",
       "3                    NA                   NA\n",
       "4                    NA                   NA\n",
       "5                    NA                   NA\n",
       "6                    NA                   NA"
      ]
     },
     "metadata": {},
     "output_type": "display_data"
    }
   ],
   "source": [
    "head(DT)"
   ]
  },
  {
   "cell_type": "code",
   "execution_count": 6,
   "metadata": {
    "collapsed": true
   },
   "outputs": [],
   "source": [
    "#Format\n",
    "form <- function(x,type=\"Prop\"){\n",
    "paste(format(round(x[2],1),nsmall = 1),\n",
    "           ifelse(type==\"Prop\",\"% [\",\" [\"),format(round(x[1],1),nsmall = 1),\n",
    "           \"-\",format(round(x[3],1),nsmall = 1),\"]\",sep=\"\")\n",
    "    }"
   ]
  },
  {
   "cell_type": "code",
   "execution_count": 7,
   "metadata": {
    "collapsed": false
   },
   "outputs": [],
   "source": [
    "#For a given region, disease and metric of burden and research, we give all data in a readable format\n",
    "readable_numbers <- function(r,d,metr_burden=\"daly\",metr_res=\"RCTs\"){\n",
    "\n",
    "x <- DT[DT$Region==r & DT$Disease==d,c(\"Region\",\"Disease\",names(DT)[c(grep(metr_burden,names(DT)),grep(metr_res,names(DT)))])] \n",
    "    \n",
    "print(paste(\"In \",ifelse(r==\"All\",\"all regions\",r), \", \", \n",
    "            ifelse(d==\"All\",\"all diseases\",d), \" caused \", \n",
    "            round(x[grep(\"^burden\",names(x))]/1e6,1), \" million \", metr_burden, \"s\", sep=\"\"))\n",
    "\n",
    "\n",
    "print(paste(\"In \",ifelse(r==\"All\",\"all regions\",r), \", \", \n",
    "            ifelse(d==\"All\",\"all diseases\",d), \n",
    "            ifelse(metr_res==\"RCTs\",\" was studied by \",\" were enrolled \"), \n",
    "            form(x[grep(\"Nb_\",names(x))],\"Nb\"), \" \", metr_res,sep=\"\"))\n",
    "\n",
    "print(paste(\"In \",ifelse(r==\"All\",\"all regions\",r), \", \", \n",
    "            ifelse(d==\"All\",\"all diseases\",d), \n",
    "            ifelse(metr_res==\"RCTs\",\" was studied by \",\" were enrolled \"), \n",
    "            form(x[grep(\"Nb_\",names(x))]/rep((x[grep(\"^burden\",names(x))]/1e6),3),\"Nb\"),\n",
    "            \" per million \", metr_burden, \"s\", sep=\"\"))\n",
    "\n",
    "if(d!=\"All\"){\n",
    "    print(paste(\"In \",ifelse(r==\"All\",\"all regions\",r),\n",
    "                \": the local proportion of burden (in \",metr_burden,\") vs research (in \",\n",
    "                metr_res,\") of \",d,\" was \",\n",
    "                round(x[intersect(grep(metr_burden,names(x)),grep(\"Prop_loc\",names(x)))],1),\n",
    "                \"% vs \",\n",
    "                form(x[intersect(grep(metr_res,names(x)),grep(\"Prop_loc\",names(x)))]),sep=\"\"\n",
    "                ))\n",
    "    }\n",
    "\n",
    "if(r!=\"All\"){    \n",
    "    print(paste(\"For \",ifelse(d==\"All\",\"all diseases\",d),\n",
    "                \": the global proportion of burden (in \",metr_burden,\") vs research (in \",\n",
    "                metr_res,\") in \",r,\" was \",\n",
    "                round(x[intersect(grep(metr_burden,names(x)),grep(\"Prop_glob\",names(x)))],1),\n",
    "                \"% vs \",\n",
    "                form(x[intersect(grep(metr_res,names(x)),grep(\"Prop_glob\",names(x)))]),sep=\"\"\n",
    "                ))\n",
    "    }\n",
    "\n",
    "if(!r%in%c(\"All\",\"High-income\",\"Non-HI\")){\n",
    "    print(paste(\"For \",ifelse(d==\"All\",\"all diseases\",d),\n",
    "                \": the proportion among non-high-income regions of burden (in \",metr_burden,\n",
    "                \") vs research (in \",metr_res,\") in \",r,\" was \",\n",
    "                round(x[intersect(grep(metr_burden,names(x)),grep(\"Prop_NHI\",names(x)))],1),\n",
    "                \"% vs \",\n",
    "                form(x[intersect(grep(metr_res,names(x)),grep(\"Prop_NHI\",names(x)))]),sep=\"\"\n",
    "                ))\n",
    "    }\n",
    "\n",
    "}"
   ]
  },
  {
   "cell_type": "code",
   "execution_count": 8,
   "metadata": {
    "collapsed": false
   },
   "outputs": [
    {
     "data": {
      "text/html": [
       "<ol class=list-inline>\n",
       "\t<li>'All'</li>\n",
       "\t<li>'Central Europe, Eastern Europe, and Central Asia'</li>\n",
       "\t<li>'High-income'</li>\n",
       "\t<li>'Latin America and Caribbean'</li>\n",
       "\t<li>'Non-HI'</li>\n",
       "\t<li>'North Africa and Middle East'</li>\n",
       "\t<li>'South Asia'</li>\n",
       "\t<li>'Southeast Asia, East Asia and Oceania'</li>\n",
       "\t<li>'Sub-Saharian Africa'</li>\n",
       "</ol>\n"
      ],
      "text/latex": [
       "\\begin{enumerate*}\n",
       "\\item 'All'\n",
       "\\item 'Central Europe, Eastern Europe, and Central Asia'\n",
       "\\item 'High-income'\n",
       "\\item 'Latin America and Caribbean'\n",
       "\\item 'Non-HI'\n",
       "\\item 'North Africa and Middle East'\n",
       "\\item 'South Asia'\n",
       "\\item 'Southeast Asia, East Asia and Oceania'\n",
       "\\item 'Sub-Saharian Africa'\n",
       "\\end{enumerate*}\n"
      ],
      "text/markdown": [
       "1. 'All'\n",
       "2. 'Central Europe, Eastern Europe, and Central Asia'\n",
       "3. 'High-income'\n",
       "4. 'Latin America and Caribbean'\n",
       "5. 'Non-HI'\n",
       "6. 'North Africa and Middle East'\n",
       "7. 'South Asia'\n",
       "8. 'Southeast Asia, East Asia and Oceania'\n",
       "9. 'Sub-Saharian Africa'\n",
       "\n",
       "\n"
      ],
      "text/plain": [
       "[1] \"All\"                                             \n",
       "[2] \"Central Europe, Eastern Europe, and Central Asia\"\n",
       "[3] \"High-income\"                                     \n",
       "[4] \"Latin America and Caribbean\"                     \n",
       "[5] \"Non-HI\"                                          \n",
       "[6] \"North Africa and Middle East\"                    \n",
       "[7] \"South Asia\"                                      \n",
       "[8] \"Southeast Asia, East Asia and Oceania\"           \n",
       "[9] \"Sub-Saharian Africa\"                             "
      ]
     },
     "metadata": {},
     "output_type": "display_data"
    },
    {
     "data": {
      "text/html": [
       "<ol class=list-inline>\n",
       "\t<li>'All'</li>\n",
       "\t<li>'Cardiovascular and circulatory diseases'</li>\n",
       "\t<li>'Chronic respiratory diseases'</li>\n",
       "\t<li>'Cirrhosis of the liver'</li>\n",
       "\t<li>'Congenital anomalies'</li>\n",
       "\t<li>'Diabetes, urinary diseases and male infertility'</li>\n",
       "\t<li>'Diarrhea, lower respiratory infections, meningitis, and other common infectious diseases'</li>\n",
       "\t<li>'Digestive diseases (except cirrhosis)'</li>\n",
       "\t<li>'Gynecological diseases'</li>\n",
       "\t<li>'Hemoglobinopathies and hemolytic anemias'</li>\n",
       "\t<li>'Hepatitis'</li>\n",
       "\t<li>'HIV/AIDS'</li>\n",
       "\t<li>'Leprosy'</li>\n",
       "\t<li>'Malaria'</li>\n",
       "\t<li>'Maternal disorders'</li>\n",
       "\t<li>'Mental and behavioral disorders'</li>\n",
       "\t<li>'Musculoskeletal disorders'</li>\n",
       "\t<li>'Neglected tropical diseases excluding malaria'</li>\n",
       "\t<li>'Neonatal disorders'</li>\n",
       "\t<li>'Neoplasms'</li>\n",
       "\t<li>'Neurological disorders'</li>\n",
       "\t<li>'Nutritional deficiencies'</li>\n",
       "\t<li>'Oral disorders'</li>\n",
       "\t<li>'Sense organ diseases'</li>\n",
       "\t<li>'Sexually transmitted diseases excluding HIV'</li>\n",
       "\t<li>'Skin and subcutaneous diseases'</li>\n",
       "\t<li>'Sudden infant death syndrome'</li>\n",
       "\t<li>'Tuberculosis'</li>\n",
       "</ol>\n"
      ],
      "text/latex": [
       "\\begin{enumerate*}\n",
       "\\item 'All'\n",
       "\\item 'Cardiovascular and circulatory diseases'\n",
       "\\item 'Chronic respiratory diseases'\n",
       "\\item 'Cirrhosis of the liver'\n",
       "\\item 'Congenital anomalies'\n",
       "\\item 'Diabetes, urinary diseases and male infertility'\n",
       "\\item 'Diarrhea, lower respiratory infections, meningitis, and other common infectious diseases'\n",
       "\\item 'Digestive diseases (except cirrhosis)'\n",
       "\\item 'Gynecological diseases'\n",
       "\\item 'Hemoglobinopathies and hemolytic anemias'\n",
       "\\item 'Hepatitis'\n",
       "\\item 'HIV/AIDS'\n",
       "\\item 'Leprosy'\n",
       "\\item 'Malaria'\n",
       "\\item 'Maternal disorders'\n",
       "\\item 'Mental and behavioral disorders'\n",
       "\\item 'Musculoskeletal disorders'\n",
       "\\item 'Neglected tropical diseases excluding malaria'\n",
       "\\item 'Neonatal disorders'\n",
       "\\item 'Neoplasms'\n",
       "\\item 'Neurological disorders'\n",
       "\\item 'Nutritional deficiencies'\n",
       "\\item 'Oral disorders'\n",
       "\\item 'Sense organ diseases'\n",
       "\\item 'Sexually transmitted diseases excluding HIV'\n",
       "\\item 'Skin and subcutaneous diseases'\n",
       "\\item 'Sudden infant death syndrome'\n",
       "\\item 'Tuberculosis'\n",
       "\\end{enumerate*}\n"
      ],
      "text/markdown": [
       "1. 'All'\n",
       "2. 'Cardiovascular and circulatory diseases'\n",
       "3. 'Chronic respiratory diseases'\n",
       "4. 'Cirrhosis of the liver'\n",
       "5. 'Congenital anomalies'\n",
       "6. 'Diabetes, urinary diseases and male infertility'\n",
       "7. 'Diarrhea, lower respiratory infections, meningitis, and other common infectious diseases'\n",
       "8. 'Digestive diseases (except cirrhosis)'\n",
       "9. 'Gynecological diseases'\n",
       "10. 'Hemoglobinopathies and hemolytic anemias'\n",
       "11. 'Hepatitis'\n",
       "12. 'HIV/AIDS'\n",
       "13. 'Leprosy'\n",
       "14. 'Malaria'\n",
       "15. 'Maternal disorders'\n",
       "16. 'Mental and behavioral disorders'\n",
       "17. 'Musculoskeletal disorders'\n",
       "18. 'Neglected tropical diseases excluding malaria'\n",
       "19. 'Neonatal disorders'\n",
       "20. 'Neoplasms'\n",
       "21. 'Neurological disorders'\n",
       "22. 'Nutritional deficiencies'\n",
       "23. 'Oral disorders'\n",
       "24. 'Sense organ diseases'\n",
       "25. 'Sexually transmitted diseases excluding HIV'\n",
       "26. 'Skin and subcutaneous diseases'\n",
       "27. 'Sudden infant death syndrome'\n",
       "28. 'Tuberculosis'\n",
       "\n",
       "\n"
      ],
      "text/plain": [
       " [1] \"All\"                                                                                     \n",
       " [2] \"Cardiovascular and circulatory diseases\"                                                 \n",
       " [3] \"Chronic respiratory diseases\"                                                            \n",
       " [4] \"Cirrhosis of the liver\"                                                                  \n",
       " [5] \"Congenital anomalies\"                                                                    \n",
       " [6] \"Diabetes, urinary diseases and male infertility\"                                         \n",
       " [7] \"Diarrhea, lower respiratory infections, meningitis, and other common infectious diseases\"\n",
       " [8] \"Digestive diseases (except cirrhosis)\"                                                   \n",
       " [9] \"Gynecological diseases\"                                                                  \n",
       "[10] \"Hemoglobinopathies and hemolytic anemias\"                                                \n",
       "[11] \"Hepatitis\"                                                                               \n",
       "[12] \"HIV/AIDS\"                                                                                \n",
       "[13] \"Leprosy\"                                                                                 \n",
       "[14] \"Malaria\"                                                                                 \n",
       "[15] \"Maternal disorders\"                                                                      \n",
       "[16] \"Mental and behavioral disorders\"                                                         \n",
       "[17] \"Musculoskeletal disorders\"                                                               \n",
       "[18] \"Neglected tropical diseases excluding malaria\"                                           \n",
       "[19] \"Neonatal disorders\"                                                                      \n",
       "[20] \"Neoplasms\"                                                                               \n",
       "[21] \"Neurological disorders\"                                                                  \n",
       "[22] \"Nutritional deficiencies\"                                                                \n",
       "[23] \"Oral disorders\"                                                                          \n",
       "[24] \"Sense organ diseases\"                                                                    \n",
       "[25] \"Sexually transmitted diseases excluding HIV\"                                             \n",
       "[26] \"Skin and subcutaneous diseases\"                                                          \n",
       "[27] \"Sudden infant death syndrome\"                                                            \n",
       "[28] \"Tuberculosis\"                                                                            "
      ]
     },
     "metadata": {},
     "output_type": "display_data"
    }
   ],
   "source": [
    "levels(DT$Region)\n",
    "levels(DT$Disease)"
   ]
  },
  {
   "cell_type": "code",
   "execution_count": 9,
   "metadata": {
    "collapsed": false
   },
   "outputs": [
    {
     "name": "stdout",
     "output_type": "stream",
     "text": [
      "[1] \"In High-income, Cardiovascular and circulatory diseases caused 43.5 million dalys\"\n",
      "[1] \"In High-income, Cardiovascular and circulatory diseases was studied by 7959.0 [7101.0-8901.0] RCTs\"\n",
      "[1] \"In High-income, Cardiovascular and circulatory diseases was studied by 182.8 [163.1-204.4] per million dalys\"\n",
      "[1] \"In High-income: the local proportion of burden (in daly) vs research (in RCTs) of Cardiovascular and circulatory diseases was 18.8% vs 12.9% [11.6-14.4]\"\n",
      "[1] \"For Cardiovascular and circulatory diseases: the global proportion of burden (in daly) vs research (in RCTs) in High-income was 15.2% vs 74.5% [74.0-75.1]\"\n"
     ]
    }
   ],
   "source": [
    "readable_numbers(r = \"High-income\", d = \"Cardiovascular and circulatory diseases\", metr_burden = \"daly\", metr_res = \"RCTs\")"
   ]
  },
  {
   "cell_type": "code",
   "execution_count": 10,
   "metadata": {
    "collapsed": false
   },
   "outputs": [
    {
     "name": "stdout",
     "output_type": "stream",
     "text": [
      "[1] \"In all regions, all diseases caused 2220.1 million dalys\"\n",
      "[1] \"In all regions, all diseases was studied by 82179.0 [78661.8-85358.2] RCTs\"\n",
      "[1] \"In all regions, all diseases was studied by 37.0 [35.4-38.4] per million dalys\"\n"
     ]
    }
   ],
   "source": [
    "readable_numbers(r = \"All\", d = \"All\", metr_burden = \"daly\", metr_res = \"RCTs\")"
   ]
  },
  {
   "cell_type": "code",
   "execution_count": 11,
   "metadata": {
    "collapsed": false
   },
   "outputs": [
    {
     "data": {
      "text/html": [
       "<ol class=list-inline>\n",
       "\t<li>'All'</li>\n",
       "\t<li>'Cardiovascular and circulatory diseases'</li>\n",
       "\t<li>'Chronic respiratory diseases'</li>\n",
       "\t<li>'Cirrhosis of the liver'</li>\n",
       "\t<li>'Congenital anomalies'</li>\n",
       "\t<li>'Diabetes, urinary diseases and male infertility'</li>\n",
       "\t<li>'Diarrhea, lower respiratory infections, meningitis, and other common infectious diseases'</li>\n",
       "\t<li>'Digestive diseases (except cirrhosis)'</li>\n",
       "\t<li>'Gynecological diseases'</li>\n",
       "\t<li>'Hemoglobinopathies and hemolytic anemias'</li>\n",
       "\t<li>'Hepatitis'</li>\n",
       "\t<li>'HIV/AIDS'</li>\n",
       "\t<li>'Leprosy'</li>\n",
       "\t<li>'Malaria'</li>\n",
       "\t<li>'Maternal disorders'</li>\n",
       "\t<li>'Mental and behavioral disorders'</li>\n",
       "\t<li>'Musculoskeletal disorders'</li>\n",
       "\t<li>'Neglected tropical diseases excluding malaria'</li>\n",
       "\t<li>'Neonatal disorders'</li>\n",
       "\t<li>'Neoplasms'</li>\n",
       "\t<li>'Neurological disorders'</li>\n",
       "\t<li>'Nutritional deficiencies'</li>\n",
       "\t<li>'Oral disorders'</li>\n",
       "\t<li>'Sense organ diseases'</li>\n",
       "\t<li>'Sexually transmitted diseases excluding HIV'</li>\n",
       "\t<li>'Skin and subcutaneous diseases'</li>\n",
       "\t<li>'Sudden infant death syndrome'</li>\n",
       "\t<li>'Tuberculosis'</li>\n",
       "</ol>\n"
      ],
      "text/latex": [
       "\\begin{enumerate*}\n",
       "\\item 'All'\n",
       "\\item 'Cardiovascular and circulatory diseases'\n",
       "\\item 'Chronic respiratory diseases'\n",
       "\\item 'Cirrhosis of the liver'\n",
       "\\item 'Congenital anomalies'\n",
       "\\item 'Diabetes, urinary diseases and male infertility'\n",
       "\\item 'Diarrhea, lower respiratory infections, meningitis, and other common infectious diseases'\n",
       "\\item 'Digestive diseases (except cirrhosis)'\n",
       "\\item 'Gynecological diseases'\n",
       "\\item 'Hemoglobinopathies and hemolytic anemias'\n",
       "\\item 'Hepatitis'\n",
       "\\item 'HIV/AIDS'\n",
       "\\item 'Leprosy'\n",
       "\\item 'Malaria'\n",
       "\\item 'Maternal disorders'\n",
       "\\item 'Mental and behavioral disorders'\n",
       "\\item 'Musculoskeletal disorders'\n",
       "\\item 'Neglected tropical diseases excluding malaria'\n",
       "\\item 'Neonatal disorders'\n",
       "\\item 'Neoplasms'\n",
       "\\item 'Neurological disorders'\n",
       "\\item 'Nutritional deficiencies'\n",
       "\\item 'Oral disorders'\n",
       "\\item 'Sense organ diseases'\n",
       "\\item 'Sexually transmitted diseases excluding HIV'\n",
       "\\item 'Skin and subcutaneous diseases'\n",
       "\\item 'Sudden infant death syndrome'\n",
       "\\item 'Tuberculosis'\n",
       "\\end{enumerate*}\n"
      ],
      "text/markdown": [
       "1. 'All'\n",
       "2. 'Cardiovascular and circulatory diseases'\n",
       "3. 'Chronic respiratory diseases'\n",
       "4. 'Cirrhosis of the liver'\n",
       "5. 'Congenital anomalies'\n",
       "6. 'Diabetes, urinary diseases and male infertility'\n",
       "7. 'Diarrhea, lower respiratory infections, meningitis, and other common infectious diseases'\n",
       "8. 'Digestive diseases (except cirrhosis)'\n",
       "9. 'Gynecological diseases'\n",
       "10. 'Hemoglobinopathies and hemolytic anemias'\n",
       "11. 'Hepatitis'\n",
       "12. 'HIV/AIDS'\n",
       "13. 'Leprosy'\n",
       "14. 'Malaria'\n",
       "15. 'Maternal disorders'\n",
       "16. 'Mental and behavioral disorders'\n",
       "17. 'Musculoskeletal disorders'\n",
       "18. 'Neglected tropical diseases excluding malaria'\n",
       "19. 'Neonatal disorders'\n",
       "20. 'Neoplasms'\n",
       "21. 'Neurological disorders'\n",
       "22. 'Nutritional deficiencies'\n",
       "23. 'Oral disorders'\n",
       "24. 'Sense organ diseases'\n",
       "25. 'Sexually transmitted diseases excluding HIV'\n",
       "26. 'Skin and subcutaneous diseases'\n",
       "27. 'Sudden infant death syndrome'\n",
       "28. 'Tuberculosis'\n",
       "\n",
       "\n"
      ],
      "text/plain": [
       " [1] \"All\"                                                                                     \n",
       " [2] \"Cardiovascular and circulatory diseases\"                                                 \n",
       " [3] \"Chronic respiratory diseases\"                                                            \n",
       " [4] \"Cirrhosis of the liver\"                                                                  \n",
       " [5] \"Congenital anomalies\"                                                                    \n",
       " [6] \"Diabetes, urinary diseases and male infertility\"                                         \n",
       " [7] \"Diarrhea, lower respiratory infections, meningitis, and other common infectious diseases\"\n",
       " [8] \"Digestive diseases (except cirrhosis)\"                                                   \n",
       " [9] \"Gynecological diseases\"                                                                  \n",
       "[10] \"Hemoglobinopathies and hemolytic anemias\"                                                \n",
       "[11] \"Hepatitis\"                                                                               \n",
       "[12] \"HIV/AIDS\"                                                                                \n",
       "[13] \"Leprosy\"                                                                                 \n",
       "[14] \"Malaria\"                                                                                 \n",
       "[15] \"Maternal disorders\"                                                                      \n",
       "[16] \"Mental and behavioral disorders\"                                                         \n",
       "[17] \"Musculoskeletal disorders\"                                                               \n",
       "[18] \"Neglected tropical diseases excluding malaria\"                                           \n",
       "[19] \"Neonatal disorders\"                                                                      \n",
       "[20] \"Neoplasms\"                                                                               \n",
       "[21] \"Neurological disorders\"                                                                  \n",
       "[22] \"Nutritional deficiencies\"                                                                \n",
       "[23] \"Oral disorders\"                                                                          \n",
       "[24] \"Sense organ diseases\"                                                                    \n",
       "[25] \"Sexually transmitted diseases excluding HIV\"                                             \n",
       "[26] \"Skin and subcutaneous diseases\"                                                          \n",
       "[27] \"Sudden infant death syndrome\"                                                            \n",
       "[28] \"Tuberculosis\"                                                                            "
      ]
     },
     "metadata": {},
     "output_type": "display_data"
    }
   ],
   "source": [
    "levels(DT$Disease)"
   ]
  },
  {
   "cell_type": "code",
   "execution_count": 12,
   "metadata": {
    "collapsed": false
   },
   "outputs": [
    {
     "name": "stdout",
     "output_type": "stream",
     "text": [
      "[1] \"In all regions, Diarrhea, lower respiratory infections, meningitis, and other common infectious diseases caused 329.3 million dalys\"\n",
      "[1] \"In all regions, Diarrhea, lower respiratory infections, meningitis, and other common infectious diseases was studied by 3497.0 [2855.0-4273.0] RCTs\"\n",
      "[1] \"In all regions, Diarrhea, lower respiratory infections, meningitis, and other common infectious diseases was studied by 10.6 [8.7-13.0] per million dalys\"\n",
      "[1] \"In all regions: the local proportion of burden (in daly) vs research (in RCTs) of Diarrhea, lower respiratory infections, meningitis, and other common infectious diseases was 14.8% vs 4.2% [3.4-5.2]\"\n"
     ]
    }
   ],
   "source": [
    "readable_numbers(r = \"All\", \n",
    "                 d = \"Diarrhea, lower respiratory infections, meningitis, and other common infectious diseases\", \n",
    "                 metr_burden = \"daly\", \n",
    "                 metr_res = \"RCTs\")"
   ]
  },
  {
   "cell_type": "code",
   "execution_count": 13,
   "metadata": {
    "collapsed": false
   },
   "outputs": [
    {
     "name": "stdout",
     "output_type": "stream",
     "text": [
      "[1] \"In all regions, Neonatal disorders caused 220.3 million dalys\"\n",
      "[1] \"In all regions, Neonatal disorders was studied by 1424.0 [639.0-3612.8] RCTs\"\n",
      "[1] \"In all regions, Neonatal disorders was studied by 6.5 [2.9-16.4] per million dalys\"\n",
      "[1] \"In all regions: the local proportion of burden (in daly) vs research (in RCTs) of Neonatal disorders was 9.9% vs 1.7% [0.8-4.3]\"\n"
     ]
    }
   ],
   "source": [
    "readable_numbers(r = \"All\", \n",
    "                 d = \"Neonatal disorders\", \n",
    "                 metr_burden = \"daly\", \n",
    "                 metr_res = \"RCTs\")"
   ]
  },
  {
   "cell_type": "code",
   "execution_count": 14,
   "metadata": {
    "collapsed": false
   },
   "outputs": [
    {
     "name": "stdout",
     "output_type": "stream",
     "text": [
      "[1] \"In Non-HI, all diseases caused 1988.5 million dalys\"\n",
      "[1] \"In Non-HI, all diseases were enrolled 11117752.1 [10376596.3-11813323.1] Patients\"\n",
      "[1] \"In Non-HI, all diseases were enrolled 5591.0 [5218.3-5940.8] per million dalys\"\n",
      "[1] \"For all diseases: the global proportion of burden (in daly) vs research (in Patients) in Non-HI was 89.6% vs 36.9% [35.6-38.3]\"\n"
     ]
    }
   ],
   "source": [
    "readable_numbers(r = \"Non-HI\", \n",
    "                 d = \"All\", \n",
    "                 metr_burden = \"daly\", \n",
    "                 metr_res = \"Patients\")"
   ]
  },
  {
   "cell_type": "code",
   "execution_count": 15,
   "metadata": {
    "collapsed": false
   },
   "outputs": [
    {
     "name": "stdout",
     "output_type": "stream",
     "text": [
      "[1] \"In High-income, all diseases caused 231.6 million dalys\"\n",
      "[1] \"In High-income, all diseases were enrolled 18964732.8 [17965002.7-19913082.6] Patients\"\n",
      "[1] \"In High-income, all diseases were enrolled 81903.0 [77585.4-85998.6] per million dalys\"\n",
      "[1] \"For all diseases: the global proportion of burden (in daly) vs research (in Patients) in High-income was 10.4% vs 63.1% [61.7-64.4]\"\n"
     ]
    }
   ],
   "source": [
    "readable_numbers(r = \"High-income\", \n",
    "                 d = \"All\", \n",
    "                 metr_burden = \"daly\", \n",
    "                 metr_res = \"Patients\")"
   ]
  },
  {
   "cell_type": "code",
   "execution_count": 16,
   "metadata": {
    "collapsed": false
   },
   "outputs": [
    {
     "name": "stdout",
     "output_type": "stream",
     "text": [
      "[1] \"In all regions, Mental and behavioral disorders caused 171.9 million dalys\"\n",
      "[1] \"In all regions, Mental and behavioral disorders was studied by 9346.0 [8684.0-10040.0] RCTs\"\n",
      "[1] \"In all regions, Mental and behavioral disorders was studied by 54.4 [50.5-58.4] per million dalys\"\n",
      "[1] \"In all regions: the local proportion of burden (in daly) vs research (in RCTs) of Mental and behavioral disorders was 7.7% vs 11.3% [10.5-12.3]\"\n"
     ]
    }
   ],
   "source": [
    "readable_numbers(r = \"All\", \n",
    "                 d = \"Mental and behavioral disorders\", \n",
    "                 metr_burden = \"daly\", \n",
    "                 metr_res = \"RCTs\")"
   ]
  },
  {
   "cell_type": "markdown",
   "metadata": {
    "collapsed": true
   },
   "source": [
    "### Gaps"
   ]
  },
  {
   "cell_type": "code",
   "execution_count": 17,
   "metadata": {
    "collapsed": false
   },
   "outputs": [],
   "source": [
    "gaps <- function(r,metr_burden=\"daly\",metr_res=\"RCTs\"){\n",
    "    print(\"-------------------------------------------\")\n",
    "    print(paste(\"Gaps comparing local proportion of burden in \",metr_burden,\n",
    "                \"s vs local proportion of research in \",metr_res,sep=\"\"))\n",
    "    x <- DT[DT$Region==r,c(\"Region\",\"Disease\",names(DT)[c(grep(metr_burden,names(DT)),grep(metr_res,names(DT)))])] \n",
    "\n",
    "    x <- x[!is.na(x[,intersect(intersect(grep(metr_res,names(x)),grep(\"Prop_loc\",names(x))),grep(\"up\",names(x)))]) \n",
    "      & x[,intersect(grep(metr_burden,names(x)),grep(\"Prop_loc\",names(x)))] > \n",
    "      2*x[,intersect(intersect(grep(metr_res,names(x)),grep(\"Prop_loc\",names(x))),grep(\"up\",names(x)))],]\n",
    "\n",
    "    x <- x[order(x[,intersect(grep(metr_burden,names(x)),grep(\"Prop_loc\",names(x)))],decreasing=TRUE),]\n",
    "    print(paste(r,\": \",nrow(x),\" gaps found:\",sep=\"\"))\n",
    "    if(nrow(x)!=0){\n",
    "    for(i in 1:nrow(x)){\n",
    "    k <- x[i,]\n",
    "    print(paste(k$Disease,\": \",form(k[intersect(grep(metr_res,names(x)),grep(\"Prop_loc\",names(x)))]), \" vs \",\n",
    "    round(k[intersect(grep(metr_burden,names(x)),grep(\"Prop_loc\",names(x)))],1),\"%\",sep=\"\"))\n",
    "    }\n",
    "    }\n",
    "}"
   ]
  },
  {
   "cell_type": "code",
   "execution_count": 18,
   "metadata": {
    "collapsed": true
   },
   "outputs": [],
   "source": [
    "r <- 'Sub-Saharian Africa'\n",
    "metr_burden <- \"daly\"\n",
    "metr_res <- \"RCTs\""
   ]
  },
  {
   "cell_type": "code",
   "execution_count": 19,
   "metadata": {
    "collapsed": false
   },
   "outputs": [
    {
     "name": "stdout",
     "output_type": "stream",
     "text": [
      "[1] \"-------------------------------------------\"\n",
      "[1] \"Gaps comparing local proportion of burden in dalys vs local proportion of research in RCTs\"\n",
      "[1] \"Sub-Saharian Africa: 3 gaps found:\"\n",
      "[1] \"Diarrhea, lower respiratory infections, meningitis, and other common infectious diseases: 5.8% [4.7-6.9] vs 22.9%\"\n",
      "[1] \"Neonatal disorders: 2.0% [0.9-4.5] vs 11.6%\"\n",
      "[1] \"Congenital anomalies: 0.2% [0.0-0.6] vs 1.3%\"\n"
     ]
    }
   ],
   "source": [
    "gaps(r,metr_burden,metr_res)"
   ]
  },
  {
   "cell_type": "code",
   "execution_count": 20,
   "metadata": {
    "collapsed": false,
    "scrolled": false
   },
   "outputs": [
    {
     "name": "stdout",
     "output_type": "stream",
     "text": [
      "[1] \"-------------------------------------------\"\n",
      "[1] \"Gaps comparing local proportion of burden in dalys vs local proportion of research in RCTs\"\n",
      "[1] \"All: 5 gaps found:\"\n",
      "[1] \"Diarrhea, lower respiratory infections, meningitis, and other common infectious diseases: 4.2% [3.4-5.2] vs 14.8%\"\n",
      "[1] \"Neonatal disorders: 1.7% [0.8-4.3] vs 9.9%\"\n",
      "[1] \"Malaria: 0.5% [0.3-0.6] vs 4.6%\"\n",
      "[1] \"HIV/AIDS: 1.7% [1.3-2.1] vs 4.3%\"\n",
      "[1] \"Tuberculosis: 0.4% [0.1-0.5] vs 2.5%\"\n",
      "[1] \"-------------------------------------------\"\n",
      "[1] \"Gaps comparing local proportion of burden in dalys vs local proportion of research in RCTs\"\n",
      "[1] \"Central Europe, Eastern Europe, and Central Asia: 2 gaps found:\"\n",
      "[1] \"Cardiovascular and circulatory diseases: 12.5% [11.1-14.0] vs 35.1%\"\n",
      "[1] \"Tuberculosis: 0.3% [0.1-0.5] vs 1.8%\"\n",
      "[1] \"-------------------------------------------\"\n",
      "[1] \"Gaps comparing local proportion of burden in dalys vs local proportion of research in RCTs\"\n",
      "[1] \"High-income: 0 gaps found:\"\n",
      "[1] \"-------------------------------------------\"\n",
      "[1] \"Gaps comparing local proportion of burden in dalys vs local proportion of research in RCTs\"\n",
      "[1] \"Latin America and Caribbean: 2 gaps found:\"\n",
      "[1] \"Neonatal disorders: 1.6% [0.7-4.0] vs 8.7%\"\n",
      "[1] \"Congenital anomalies: 0.4% [0.0-0.8] vs 3.1%\"\n",
      "[1] \"-------------------------------------------\"\n",
      "[1] \"Gaps comparing local proportion of burden in dalys vs local proportion of research in RCTs\"\n",
      "[1] \"North Africa and Middle East: 4 gaps found:\"\n",
      "[1] \"Diarrhea, lower respiratory infections, meningitis, and other common infectious diseases: 3.3% [2.6-4.2] vs 10.5%\"\n",
      "[1] \"Congenital anomalies: 0.5% [0.1-1.1] vs 5%\"\n",
      "[1] \"Tuberculosis: 0.2% [0.1-0.4] vs 0.9%\"\n",
      "[1] \"Malaria: 0.0% [0.0-0.1] vs 0.5%\"\n",
      "[1] \"-------------------------------------------\"\n",
      "[1] \"Gaps comparing local proportion of burden in dalys vs local proportion of research in RCTs\"\n",
      "[1] \"South Asia: 4 gaps found:\"\n",
      "[1] \"Diarrhea, lower respiratory infections, meningitis, and other common infectious diseases: 7.0% [5.8-8.3] vs 21.4%\"\n",
      "[1] \"Neonatal disorders: 2.3% [1.1-4.9] vs 16.5%\"\n",
      "[1] \"Tuberculosis: 0.9% [0.2-1.3] vs 3.9%\"\n",
      "[1] \"Congenital anomalies: 0.4% [0.0-0.8] vs 2.1%\"\n",
      "[1] \"-------------------------------------------\"\n",
      "[1] \"Gaps comparing local proportion of burden in dalys vs local proportion of research in RCTs\"\n",
      "[1] \"Southeast Asia, East Asia and Oceania: 2 gaps found:\"\n",
      "[1] \"Tuberculosis: 0.6% [0.2-0.9] vs 2.8%\"\n",
      "[1] \"Congenital anomalies: 0.5% [0.1-1.0] vs 2.2%\"\n",
      "[1] \"-------------------------------------------\"\n",
      "[1] \"Gaps comparing local proportion of burden in dalys vs local proportion of research in RCTs\"\n",
      "[1] \"Sub-Saharian Africa: 3 gaps found:\"\n",
      "[1] \"Diarrhea, lower respiratory infections, meningitis, and other common infectious diseases: 5.8% [4.7-6.9] vs 22.9%\"\n",
      "[1] \"Neonatal disorders: 2.0% [0.9-4.5] vs 11.6%\"\n",
      "[1] \"Congenital anomalies: 0.2% [0.0-0.6] vs 1.3%\"\n"
     ]
    },
    {
     "data": {
      "text/html": [
       "<ol>\n",
       "\t<li>NULL</li>\n",
       "\t<li>NULL</li>\n",
       "\t<li>NULL</li>\n",
       "\t<li>NULL</li>\n",
       "\t<li>NULL</li>\n",
       "\t<li>NULL</li>\n",
       "\t<li>NULL</li>\n",
       "\t<li>NULL</li>\n",
       "</ol>\n"
      ],
      "text/latex": [
       "\\begin{enumerate}\n",
       "\\item NULL\n",
       "\\item NULL\n",
       "\\item NULL\n",
       "\\item NULL\n",
       "\\item NULL\n",
       "\\item NULL\n",
       "\\item NULL\n",
       "\\item NULL\n",
       "\\end{enumerate}\n"
      ],
      "text/markdown": [
       "1. NULL\n",
       "2. NULL\n",
       "3. NULL\n",
       "4. NULL\n",
       "5. NULL\n",
       "6. NULL\n",
       "7. NULL\n",
       "8. NULL\n",
       "\n",
       "\n"
      ],
      "text/plain": [
       "[[1]]\n",
       "NULL\n",
       "\n",
       "[[2]]\n",
       "NULL\n",
       "\n",
       "[[3]]\n",
       "NULL\n",
       "\n",
       "[[4]]\n",
       "NULL\n",
       "\n",
       "[[5]]\n",
       "NULL\n",
       "\n",
       "[[6]]\n",
       "NULL\n",
       "\n",
       "[[7]]\n",
       "NULL\n",
       "\n",
       "[[8]]\n",
       "NULL\n"
      ]
     },
     "metadata": {},
     "output_type": "display_data"
    }
   ],
   "source": [
    "regs <- levels(DT$Region)\n",
    "regs <- regs[regs!=\"Non-HI\"]\n",
    "lapply(regs,gaps)"
   ]
  },
  {
   "cell_type": "code",
   "execution_count": 21,
   "metadata": {
    "collapsed": false
   },
   "outputs": [
    {
     "name": "stdout",
     "output_type": "stream",
     "text": [
      "[1] \"In Sub-Saharian Africa, HIV/AIDS caused 73.5 million dalys\"\n",
      "[1] \"In Sub-Saharian Africa, HIV/AIDS was studied by 319.0 [245.0-366.0] RCTs\"\n",
      "[1] \"In Sub-Saharian Africa, HIV/AIDS was studied by 4.3 [3.3-5.0] per million dalys\"\n",
      "[1] \"In Sub-Saharian Africa: the local proportion of burden (in daly) vs research (in RCTs) of HIV/AIDS was 13.4% vs 13.8% [10.8-15.7]\"\n",
      "[1] \"For HIV/AIDS: the global proportion of burden (in daly) vs research (in RCTs) in Sub-Saharian Africa was 76.5% vs 21.4% [19.5-23.0]\"\n",
      "[1] \"For HIV/AIDS: the proportion among non-high-income regions of burden (in daly) vs research (in RCTs) in Sub-Saharian Africa was 77.5% vs 52.7% [48.8-55.9]\"\n"
     ]
    }
   ],
   "source": [
    "readable_numbers(r = \"Sub-Saharian Africa\", \n",
    "                 d = \"HIV/AIDS\")"
   ]
  },
  {
   "cell_type": "code",
   "execution_count": 22,
   "metadata": {
    "collapsed": false,
    "scrolled": true
   },
   "outputs": [
    {
     "name": "stdout",
     "output_type": "stream",
     "text": [
      "[1] \"In Sub-Saharian Africa, Malaria caused 91.4 million dalys\"\n",
      "[1] \"In Sub-Saharian Africa, Malaria was studied by 274.0 [162.0-316.0] RCTs\"\n",
      "[1] \"In Sub-Saharian Africa, Malaria was studied by 3.0 [1.8-3.5] per million dalys\"\n",
      "[1] \"In Sub-Saharian Africa: the local proportion of burden (in daly) vs research (in RCTs) of Malaria was 16.7% vs 11.9% [7.3-13.7]\"\n",
      "[1] \"For Malaria: the global proportion of burden (in daly) vs research (in RCTs) in Sub-Saharian Africa was 90.2% vs 63.5% [52.5-67.4]\"\n",
      "[1] \"For Malaria: the proportion among non-high-income regions of burden (in daly) vs research (in RCTs) in Sub-Saharian Africa was 90.2% vs 74.7% [69.1-77.4]\"\n"
     ]
    }
   ],
   "source": [
    "readable_numbers(r = \"Sub-Saharian Africa\", \n",
    "                 d = \"Malaria\")"
   ]
  },
  {
   "cell_type": "code",
   "execution_count": 23,
   "metadata": {
    "collapsed": false
   },
   "outputs": [
    {
     "data": {
      "text/html": [
       "<ol class=list-inline>\n",
       "\t<li>'All'</li>\n",
       "\t<li>'Central Europe, Eastern Europe, and Central Asia'</li>\n",
       "\t<li>'High-income'</li>\n",
       "\t<li>'Latin America and Caribbean'</li>\n",
       "\t<li>'North Africa and Middle East'</li>\n",
       "\t<li>'South Asia'</li>\n",
       "\t<li>'Southeast Asia, East Asia and Oceania'</li>\n",
       "\t<li>'Sub-Saharian Africa'</li>\n",
       "</ol>\n"
      ],
      "text/latex": [
       "\\begin{enumerate*}\n",
       "\\item 'All'\n",
       "\\item 'Central Europe, Eastern Europe, and Central Asia'\n",
       "\\item 'High-income'\n",
       "\\item 'Latin America and Caribbean'\n",
       "\\item 'North Africa and Middle East'\n",
       "\\item 'South Asia'\n",
       "\\item 'Southeast Asia, East Asia and Oceania'\n",
       "\\item 'Sub-Saharian Africa'\n",
       "\\end{enumerate*}\n"
      ],
      "text/markdown": [
       "1. 'All'\n",
       "2. 'Central Europe, Eastern Europe, and Central Asia'\n",
       "3. 'High-income'\n",
       "4. 'Latin America and Caribbean'\n",
       "5. 'North Africa and Middle East'\n",
       "6. 'South Asia'\n",
       "7. 'Southeast Asia, East Asia and Oceania'\n",
       "8. 'Sub-Saharian Africa'\n",
       "\n",
       "\n"
      ],
      "text/plain": [
       "[1] \"All\"                                             \n",
       "[2] \"Central Europe, Eastern Europe, and Central Asia\"\n",
       "[3] \"High-income\"                                     \n",
       "[4] \"Latin America and Caribbean\"                     \n",
       "[5] \"North Africa and Middle East\"                    \n",
       "[6] \"South Asia\"                                      \n",
       "[7] \"Southeast Asia, East Asia and Oceania\"           \n",
       "[8] \"Sub-Saharian Africa\"                             "
      ]
     },
     "metadata": {},
     "output_type": "display_data"
    }
   ],
   "source": [
    "regs"
   ]
  },
  {
   "cell_type": "code",
   "execution_count": 24,
   "metadata": {
    "collapsed": false
   },
   "outputs": [
    {
     "name": "stdout",
     "output_type": "stream",
     "text": [
      "[1] \"-------------------------------------------\"\n",
      "[1] \"Gaps comparing local proportion of burden in dalys vs local proportion of research in Patients\"\n",
      "[1] \"All: 0 gaps found:\"\n",
      "[1] \"-------------------------------------------\"\n",
      "[1] \"Gaps comparing local proportion of burden in dalys vs local proportion of research in Patients\"\n",
      "[1] \"Central Europe, Eastern Europe, and Central Asia: 3 gaps found:\"\n",
      "[1] \"Cirrhosis of the liver: 0.6% [0.2-1.3] vs 2.7%\"\n",
      "[1] \"Tuberculosis: 0.2% [0.1-0.5] vs 1.8%\"\n",
      "[1] \"Congenital anomalies: 0.2% [0.0-0.7] vs 1.4%\"\n",
      "[1] \"-------------------------------------------\"\n",
      "[1] \"Gaps comparing local proportion of burden in dalys vs local proportion of research in Patients\"\n",
      "[1] \"High-income: 0 gaps found:\"\n",
      "[1] \"-------------------------------------------\"\n",
      "[1] \"Gaps comparing local proportion of burden in dalys vs local proportion of research in Patients\"\n",
      "[1] \"Latin America and Caribbean: 1 gaps found:\"\n",
      "[1] \"Congenital anomalies: 0.2% [0.0-0.7] vs 3.1%\"\n",
      "[1] \"-------------------------------------------\"\n",
      "[1] \"Gaps comparing local proportion of burden in dalys vs local proportion of research in Patients\"\n",
      "[1] \"North Africa and Middle East: 3 gaps found:\"\n",
      "[1] \"Diarrhea, lower respiratory infections, meningitis, and other common infectious diseases: 3.9% [3.0-5.2] vs 10.5%\"\n",
      "[1] \"Congenital anomalies: 0.4% [0.0-0.9] vs 5%\"\n",
      "[1] \"Malaria: 0.0% [0.0-0.2] vs 0.5%\"\n",
      "[1] \"-------------------------------------------\"\n",
      "[1] \"Gaps comparing local proportion of burden in dalys vs local proportion of research in Patients\"\n",
      "[1] \"South Asia: 2 gaps found:\"\n",
      "[1] \"Tuberculosis: 0.8% [0.2-1.3] vs 3.9%\"\n",
      "[1] \"Congenital anomalies: 0.1% [0.0-0.5] vs 2.1%\"\n",
      "[1] \"-------------------------------------------\"\n",
      "[1] \"Gaps comparing local proportion of burden in dalys vs local proportion of research in Patients\"\n",
      "[1] \"Southeast Asia, East Asia and Oceania: 2 gaps found:\"\n",
      "[1] \"Tuberculosis: 0.9% [0.2-1.3] vs 2.8%\"\n",
      "[1] \"Congenital anomalies: 0.2% [0.0-0.7] vs 2.2%\"\n",
      "[1] \"-------------------------------------------\"\n",
      "[1] \"Gaps comparing local proportion of burden in dalys vs local proportion of research in Patients\"\n",
      "[1] \"Sub-Saharian Africa: 1 gaps found:\"\n",
      "[1] \"Diarrhea, lower respiratory infections, meningitis, and other common infectious diseases: 5.6% [2.3-9.9] vs 22.9%\"\n"
     ]
    },
    {
     "data": {
      "text/html": [
       "<ol>\n",
       "\t<li>NULL</li>\n",
       "\t<li>NULL</li>\n",
       "\t<li>NULL</li>\n",
       "\t<li>NULL</li>\n",
       "\t<li>NULL</li>\n",
       "\t<li>NULL</li>\n",
       "\t<li>NULL</li>\n",
       "\t<li>NULL</li>\n",
       "</ol>\n"
      ],
      "text/latex": [
       "\\begin{enumerate}\n",
       "\\item NULL\n",
       "\\item NULL\n",
       "\\item NULL\n",
       "\\item NULL\n",
       "\\item NULL\n",
       "\\item NULL\n",
       "\\item NULL\n",
       "\\item NULL\n",
       "\\end{enumerate}\n"
      ],
      "text/markdown": [
       "1. NULL\n",
       "2. NULL\n",
       "3. NULL\n",
       "4. NULL\n",
       "5. NULL\n",
       "6. NULL\n",
       "7. NULL\n",
       "8. NULL\n",
       "\n",
       "\n"
      ],
      "text/plain": [
       "[[1]]\n",
       "NULL\n",
       "\n",
       "[[2]]\n",
       "NULL\n",
       "\n",
       "[[3]]\n",
       "NULL\n",
       "\n",
       "[[4]]\n",
       "NULL\n",
       "\n",
       "[[5]]\n",
       "NULL\n",
       "\n",
       "[[6]]\n",
       "NULL\n",
       "\n",
       "[[7]]\n",
       "NULL\n",
       "\n",
       "[[8]]\n",
       "NULL\n"
      ]
     },
     "metadata": {},
     "output_type": "display_data"
    }
   ],
   "source": [
    "lapply(regs,function(x){gaps(r=x,metr_res=\"Patients\")})"
   ]
  },
  {
   "cell_type": "code",
   "execution_count": 25,
   "metadata": {
    "collapsed": false
   },
   "outputs": [],
   "source": [
    "r <- 'Sub-Saharian Africa'\n",
    "metr_burden <- \"daly\"\n",
    "metr_res <- \"Patients\""
   ]
  },
  {
   "cell_type": "code",
   "execution_count": 26,
   "metadata": {
    "collapsed": false
   },
   "outputs": [
    {
     "name": "stdout",
     "output_type": "stream",
     "text": [
      "[1] \"-------------------------------------------\"\n",
      "[1] \"Gaps comparing local proportion of burden in dalys vs local proportion of research in Patients\"\n",
      "[1] \"Sub-Saharian Africa: 1 gaps found:\"\n",
      "[1] \"Diarrhea, lower respiratory infections, meningitis, and other common infectious diseases: 5.6% [2.3-9.9] vs 22.9%\"\n"
     ]
    }
   ],
   "source": [
    "gaps(r = r,metr_burden = metr_burden, metr_res=metr_res)"
   ]
  },
  {
   "cell_type": "code",
   "execution_count": 27,
   "metadata": {
    "collapsed": true
   },
   "outputs": [],
   "source": [
    "x <- DT[DT$Region==r,c(\"Region\",\"Disease\",names(DT)[c(grep(metr_burden,names(DT)),grep(metr_res,names(DT)))])] "
   ]
  },
  {
   "cell_type": "code",
   "execution_count": 28,
   "metadata": {
    "collapsed": true
   },
   "outputs": [],
   "source": [
    "x <- x[!is.na(x[,intersect(intersect(grep(metr_res,names(x)),grep(\"Prop_loc\",names(x))),grep(\"up\",names(x)))]) \n",
    "      & x[,intersect(grep(metr_burden,names(x)),grep(\"Prop_loc\",names(x)))] > \n",
    "      2*x[,intersect(intersect(grep(metr_res,names(x)),grep(\"Prop_loc\",names(x))),grep(\"up\",names(x)))],]\n",
    "\n"
   ]
  },
  {
   "cell_type": "code",
   "execution_count": 29,
   "metadata": {
    "collapsed": true
   },
   "outputs": [],
   "source": [
    "    x <- x[order(x[,intersect(grep(metr_burden,names(x)),grep(\"Prop_loc\",names(x)))],decreasing=TRUE),]\n"
   ]
  },
  {
   "cell_type": "code",
   "execution_count": 30,
   "metadata": {
    "collapsed": false
   },
   "outputs": [
    {
     "data": {
      "text/html": [
       "<table>\n",
       "<thead><tr><th></th><th scope=col>Region</th><th scope=col>Disease</th><th scope=col>burden_daly</th><th scope=col>Prop_loc_burden_daly</th><th scope=col>Prop_glob_burden_daly</th><th scope=col>Prop_NHI_burden_daly</th><th scope=col>Nb_Patients_low</th><th scope=col>Nb_Patients_med</th><th scope=col>Nb_Patients_up</th><th scope=col>Prop_loc_Patients_low</th><th scope=col>Prop_loc_Patients_med</th><th scope=col>Prop_loc_Patients_up</th><th scope=col>Prop_glob_Patients_low</th><th scope=col>Prop_glob_Patients_med</th><th scope=col>Prop_glob_Patients_up</th><th scope=col>Prop_NHI_Patients_low</th><th scope=col>Prop_NHI_Patients_med</th><th scope=col>Prop_NHI_Patients_up</th></tr></thead>\n",
       "<tbody>\n",
       "\t<tr><th scope=row>231</th><td>Sub-Saharian Africa                                                                     </td><td>Diarrhea, lower respiratory infections, meningitis, and other common infectious diseases</td><td>125531847.741516                                                                        </td><td>22.9258956705191                                                                        </td><td>38.1224905842441                                                                        </td><td>38.9321072337489                                                                        </td><td>79411.2027175487                                                                        </td><td>195483.586003594                                                                        </td><td>344711.512564562                                                                        </td><td>2.27264257136015                                                                        </td><td>5.57577450297116                                                                        </td><td>9.87487447800421                                                                        </td><td>3.61888273336711                                                                        </td><td>8.16715517871999                                                                        </td><td>13.5659020621904                                                                        </td><td>9.9503418163965                                                                         </td><td>20.981249246535                                                                         </td><td>32.3609016906431                                                                        </td></tr>\n",
       "</tbody>\n",
       "</table>\n"
      ],
      "text/latex": [
       "\\begin{tabular}{r|llllllllllllllllll}\n",
       "  & Region & Disease & burden\\_daly & Prop\\_loc\\_burden\\_daly & Prop\\_glob\\_burden\\_daly & Prop\\_NHI\\_burden\\_daly & Nb\\_Patients\\_low & Nb\\_Patients\\_med & Nb\\_Patients\\_up & Prop\\_loc\\_Patients\\_low & Prop\\_loc\\_Patients\\_med & Prop\\_loc\\_Patients\\_up & Prop\\_glob\\_Patients\\_low & Prop\\_glob\\_Patients\\_med & Prop\\_glob\\_Patients\\_up & Prop\\_NHI\\_Patients\\_low & Prop\\_NHI\\_Patients\\_med & Prop\\_NHI\\_Patients\\_up\\\\\n",
       "\\hline\n",
       "\t231 & Sub-Saharian Africa                                                                      & Diarrhea, lower respiratory infections, meningitis, and other common infectious diseases & 125531847.741516                                                                         & 22.9258956705191                                                                         & 38.1224905842441                                                                         & 38.9321072337489                                                                         & 79411.2027175487                                                                         & 195483.586003594                                                                         & 344711.512564562                                                                         & 2.27264257136015                                                                         & 5.57577450297116                                                                         & 9.87487447800421                                                                         & 3.61888273336711                                                                         & 8.16715517871999                                                                         & 13.5659020621904                                                                         & 9.9503418163965                                                                          & 20.981249246535                                                                          & 32.3609016906431                                                                        \\\\\n",
       "\\end{tabular}\n"
      ],
      "text/plain": [
       "                 Region\n",
       "231 Sub-Saharian Africa\n",
       "                                                                                     Disease\n",
       "231 Diarrhea, lower respiratory infections, meningitis, and other common infectious diseases\n",
       "    burden_daly Prop_loc_burden_daly Prop_glob_burden_daly Prop_NHI_burden_daly\n",
       "231   125531848              22.9259              38.12249             38.93211\n",
       "    Nb_Patients_low Nb_Patients_med Nb_Patients_up Prop_loc_Patients_low\n",
       "231         79411.2        195483.6       344711.5              2.272643\n",
       "    Prop_loc_Patients_med Prop_loc_Patients_up Prop_glob_Patients_low\n",
       "231              5.575775             9.874874               3.618883\n",
       "    Prop_glob_Patients_med Prop_glob_Patients_up Prop_NHI_Patients_low\n",
       "231               8.167155               13.5659              9.950342\n",
       "    Prop_NHI_Patients_med Prop_NHI_Patients_up\n",
       "231              20.98125              32.3609"
      ]
     },
     "metadata": {},
     "output_type": "display_data"
    }
   ],
   "source": [
    "x"
   ]
  },
  {
   "cell_type": "code",
   "execution_count": 31,
   "metadata": {
    "collapsed": false
   },
   "outputs": [
    {
     "name": "stdout",
     "output_type": "stream",
     "text": [
      "[1] \"In Southeast Asia, East Asia and Oceania, Cardiovascular and circulatory diseases caused 81.7 million dalys\"\n",
      "[1] \"In Southeast Asia, East Asia and Oceania, Cardiovascular and circulatory diseases were enrolled 627800.0 [490332.8-829407.1] Patients\"\n",
      "[1] \"In Southeast Asia, East Asia and Oceania, Cardiovascular and circulatory diseases were enrolled 7683.1 [6000.8-10150.4] per million dalys\"\n",
      "[1] \"In Southeast Asia, East Asia and Oceania: the local proportion of burden (in daly) vs research (in Patients) of Cardiovascular and circulatory diseases was 17.7% vs 19.6% [15.3-25.4]\"\n",
      "[1] \"For Cardiovascular and circulatory diseases: the global proportion of burden (in daly) vs research (in Patients) in Southeast Asia, East Asia and Oceania was 28.4% vs 13.1% [10.7-16.6]\"\n",
      "[1] \"For Cardiovascular and circulatory diseases: the proportion among non-high-income regions of burden (in daly) vs research (in Patients) in Southeast Asia, East Asia and Oceania was 33.5% vs 38.0% [30.9-46.5]\"\n"
     ]
    }
   ],
   "source": [
    "readable_numbers(r = \"Southeast Asia, East Asia and Oceania\", \n",
    "                 d  = \"Cardiovascular and circulatory diseases\",\n",
    "                metr_burden=\"daly\",\n",
    "                metr_res=\"Patients\")"
   ]
  },
  {
   "cell_type": "code",
   "execution_count": 32,
   "metadata": {
    "collapsed": false
   },
   "outputs": [
    {
     "name": "stdout",
     "output_type": "stream",
     "text": [
      "[1] \"In Sub-Saharian Africa, Diarrhea, lower respiratory infections, meningitis, and other common infectious diseases caused 125.5 million dalys\"\n",
      "[1] \"In Sub-Saharian Africa, Diarrhea, lower respiratory infections, meningitis, and other common infectious diseases was studied by 131.0 [105.0-156.0] RCTs\"\n",
      "[1] \"In Sub-Saharian Africa, Diarrhea, lower respiratory infections, meningitis, and other common infectious diseases was studied by 1.0 [0.8-1.2] per million dalys\"\n",
      "[1] \"In Sub-Saharian Africa: the local proportion of burden (in daly) vs research (in RCTs) of Diarrhea, lower respiratory infections, meningitis, and other common infectious diseases was 22.9% vs 5.8% [4.7-6.9]\"\n",
      "[1] \"For Diarrhea, lower respiratory infections, meningitis, and other common infectious diseases: the global proportion of burden (in daly) vs research (in RCTs) in Sub-Saharian Africa was 38.1% vs 3.7% [3.3-4.1]\"\n",
      "[1] \"For Diarrhea, lower respiratory infections, meningitis, and other common infectious diseases: the proportion among non-high-income regions of burden (in daly) vs research (in RCTs) in Sub-Saharian Africa was 38.9% vs 9.8% [8.8-10.7]\"\n"
     ]
    }
   ],
   "source": [
    "readable_numbers(r = \"Sub-Saharian Africa\", \n",
    "                 d  = \"Diarrhea, lower respiratory infections, meningitis, and other common infectious diseases\",\n",
    "                metr_burden=\"daly\",\n",
    "                metr_res=\"RCTs\")"
   ]
  },
  {
   "cell_type": "code",
   "execution_count": 34,
   "metadata": {
    "collapsed": false
   },
   "outputs": [
    {
     "name": "stdout",
     "output_type": "stream",
     "text": [
      "[1] \"In all regions, all diseases caused 1548.8 million ylls\"\n",
      "[1] \"In all regions, all diseases was studied by 82179.0 [78661.8-85358.2] RCTs\"\n",
      "[1] \"In all regions, all diseases was studied by 53.1 [50.8-55.1] per million ylls\"\n"
     ]
    }
   ],
   "source": [
    "readable_numbers(r = \"All\", \n",
    "                 d  = \"All\",\n",
    "                metr_burden=\"yll\",\n",
    "                metr_res=\"RCTs\")"
   ]
  },
  {
   "cell_type": "code",
   "execution_count": 35,
   "metadata": {
    "collapsed": false
   },
   "outputs": [
    {
     "name": "stdout",
     "output_type": "stream",
     "text": [
      "[1] \"In all regions, all diseases caused 671.3 million ylds\"\n",
      "[1] \"In all regions, all diseases was studied by 82179.0 [78661.8-85358.2] RCTs\"\n",
      "[1] \"In all regions, all diseases was studied by 122.4 [117.2-127.2] per million ylds\"\n"
     ]
    }
   ],
   "source": [
    "readable_numbers(r = \"All\", \n",
    "                 d  = \"All\",\n",
    "                metr_burden=\"yld\",\n",
    "                metr_res=\"RCTs\")"
   ]
  },
  {
   "cell_type": "code",
   "execution_count": 36,
   "metadata": {
    "collapsed": false
   },
   "outputs": [
    {
     "name": "stdout",
     "output_type": "stream",
     "text": [
      "[1] \"In all regions, all diseases caused 46.3 million deaths\"\n",
      "[1] \"In all regions, all diseases was studied by 82179.0 [78661.8-85358.2] RCTs\"\n",
      "[1] \"In all regions, all diseases was studied by 1776.8 [1700.8-1845.6] per million deaths\"\n"
     ]
    }
   ],
   "source": [
    "readable_numbers(r = \"All\", \n",
    "                 d  = \"All\",\n",
    "                metr_burden=\"death\",\n",
    "                metr_res=\"RCTs\")"
   ]
  },
  {
   "cell_type": "code",
   "execution_count": null,
   "metadata": {
    "collapsed": true
   },
   "outputs": [],
   "source": []
  }
 ],
 "metadata": {
  "kernelspec": {
   "display_name": "R",
   "language": "R",
   "name": "ir"
  },
  "language_info": {
   "codemirror_mode": "r",
   "file_extension": ".r",
   "mimetype": "text/x-r-source",
   "name": "R",
   "pygments_lexer": "r",
   "version": "3.3.1"
  }
 },
 "nbformat": 4,
 "nbformat_minor": 1
}
