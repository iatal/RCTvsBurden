{
 "cells": [
  {
   "cell_type": "markdown",
   "metadata": {},
   "source": [
    "# Starting from replicates, deriving from each replicate of the mapping the difference between research and burden within diseases"
   ]
  },
  {
   "cell_type": "code",
   "execution_count": 1,
   "metadata": {
    "collapsed": false
   },
   "outputs": [],
   "source": [
    "library(data.table)"
   ]
  },
  {
   "cell_type": "code",
   "execution_count": 2,
   "metadata": {
    "collapsed": true
   },
   "outputs": [],
   "source": [
    "GBD <- read.table(\"../Data/DALY_YLL_deaths_per_region_and_27_diseases_2005.txt\")\n",
    "GBD <- GBD[order(GBD$Region,GBD$Disease),]"
   ]
  },
  {
   "cell_type": "code",
   "execution_count": 3,
   "metadata": {
    "collapsed": true
   },
   "outputs": [],
   "source": [
    "Mgbd <- read.table(\"../Data/27_gbd_groups.txt\")\n",
    "sms <- list.files(\"/media/igna/Elements/HotelDieu/Cochrane/MappingRCTs_vs_Burden/Replicates/Metrics_over_repl/\")\n",
    "dis <- as.numeric(substr(sms,25,nchar(sms)-4))"
   ]
  },
  {
   "cell_type": "code",
   "execution_count": 4,
   "metadata": {
    "collapsed": false
   },
   "outputs": [],
   "source": [
    "k <- 1\n",
    "DF <- fread(paste(c(\"/media/igna/Elements/HotelDieu/Cochrane/MappingRCTs_vs_Burden/Replicates/Metrics_over_repl/Metrics_over_replicates_\",\n",
    "                    as.character(k),\".txt\"),collapse=\"\"))\n",
    "regs <- sort(unique(DF$Region))\n",
    "regs <- regs[regs!=\"All\" & regs!=\"Non-HI\"]"
   ]
  },
  {
   "cell_type": "code",
   "execution_count": 5,
   "metadata": {
    "collapsed": false
   },
   "outputs": [],
   "source": [
    "data_f <- data.frame()"
   ]
  },
  {
   "cell_type": "code",
   "execution_count": 6,
   "metadata": {
    "collapsed": false
   },
   "outputs": [],
   "source": [
    "for(k in dis[dis!=0]){\n",
    "\n",
    "    DF <- fread(paste(c(\"/media/igna/Elements/HotelDieu/Cochrane/MappingRCTs_vs_Burden/Replicates/Metrics_over_repl/Metrics_over_replicates_\",\n",
    "                    as.character(k),\".txt\"),collapse=\"\"))\n",
    "\n",
    "    \n",
    "    DFr <- DF[DF$Region%in%regs & DF$Dis == \"dis\",]\n",
    "    DFr$RCTs_all <- rep(DF$RCTs[DF$Dis==\"dis\" & DF$Region==\"All\"],each=length(regs))\n",
    "    DFr$RCTs_NHI <- rep(DF$RCTs[DF$Dis==\"dis\" & DF$Region==\"Non-HI\"],each=length(regs))\n",
    "    DFr$Patients_all <- rep(DF$Patients[DF$Dis==\"dis\" & DF$Region==\"All\"],each=length(regs))\n",
    "    DFr$Patients_NHI <- rep(DF$Patients[DF$Dis==\"dis\" & DF$Region==\"Non-HI\"],each=length(regs))\n",
    "\n",
    "\n",
    "    nb_sims <- nrow(DFr)/length(regs)\n",
    "\n",
    "    DFr$RCTs_prop_all <- 100*DFr$RCTs/DFr$RCTs_all\n",
    "    DFr$RCTs_prop_NHI <- 100*DFr$RCTs/DFr$RCTs_NHI\n",
    "    DFr$Patients_prop_all <- 100*DFr$Patients/DFr$Patients_all\n",
    "    DFr$Patients_prop_NHI <- 100*DFr$Patients/DFr$Patients_NHI\n",
    "\n",
    "    gbd_mt <- GBD[GBD$Disease==as.character(Mgbd$x[k]) & GBD$metr==\"daly\" & GBD$Region!=\"All\",]\n",
    "    gbd_mt$burden_prop_all <- 100*gbd_mt$burden/sum(gbd_mt$burden)\n",
    "    gbd_mt$burden_prop_NHI <- 100*gbd_mt$burden/sum(gbd_mt$burden[gbd_mt$Region!=\"High-income\"])\n",
    "    DFr$burden_daly_prop_all <- rep(gbd_mt$burden_prop_all,times=nb_sims)\n",
    "    DFr$burden_daly_prop_NHI <- rep(gbd_mt$burden_prop_NHI,times=nb_sims)\n",
    "\n",
    "    gbd_mt <- GBD[GBD$Disease==as.character(Mgbd$x[k]) & GBD$metr==\"death\" & GBD$Region!=\"All\",]\n",
    "    gbd_mt$burden_prop_all <- 100*gbd_mt$burden/sum(gbd_mt$burden)\n",
    "    gbd_mt$burden_prop_NHI <- 100*gbd_mt$burden/sum(gbd_mt$burden[gbd_mt$Region!=\"High-income\"])\n",
    "    DFr$burden_death_prop_all <- rep(gbd_mt$burden_prop_all,times=nb_sims)\n",
    "    DFr$burden_death_prop_NHI <- rep(gbd_mt$burden_prop_NHI,times=nb_sims)\n",
    "\n",
    "    gbd_mt <- GBD[GBD$Disease==as.character(Mgbd$x[k]) & GBD$metr==\"yld\" & GBD$Region!=\"All\",]\n",
    "    gbd_mt$burden_prop_all <- 100*gbd_mt$burden/sum(gbd_mt$burden)\n",
    "    gbd_mt$burden_prop_NHI <- 100*gbd_mt$burden/sum(gbd_mt$burden[gbd_mt$Region!=\"High-income\"])\n",
    "    DFr$burden_yld_prop_all <- rep(gbd_mt$burden_prop_all,times=nb_sims)\n",
    "    DFr$burden_yld_prop_NHI <- rep(gbd_mt$burden_prop_NHI,times=nb_sims)\n",
    "\n",
    "    gbd_mt <- GBD[GBD$Disease==as.character(Mgbd$x[k]) & GBD$metr==\"yll\" & GBD$Region!=\"All\",]\n",
    "    gbd_mt$burden_prop_all <- 100*gbd_mt$burden/sum(gbd_mt$burden)\n",
    "    gbd_mt$burden_prop_NHI <- 100*gbd_mt$burden/sum(gbd_mt$burden[gbd_mt$Region!=\"High-income\"])\n",
    "    DFr$burden_yll_prop_all <- rep(gbd_mt$burden_prop_all,times=nb_sims)\n",
    "    DFr$burden_yll_prop_NHI <- rep(gbd_mt$burden_prop_NHI,times=nb_sims)\n",
    "\n",
    "    #Suppressing HI values for Non-HI ratio\n",
    "    DFr <- DFr[DFr$Region==\"High-income\",c(names(DFr)[grep(\"NHI\",names(DFr))]):=0]\n",
    "    DFr$sim <- rep(1:nb_sims,each=length(regs))\n",
    "\n",
    "    df <- \n",
    "    DFr[,.(\n",
    "           #DALYs\n",
    "           #RCTs all vs burden all\n",
    "           sum(abs(RCTs_prop_all-burden_daly_prop_all)),\n",
    "           #Patients all vs burden all\n",
    "           sum(abs(Patients_prop_all-burden_daly_prop_all)),\n",
    "           #RCTs NHI vs burden NHI\n",
    "           sum(abs(RCTs_prop_NHI-burden_daly_prop_NHI)),\n",
    "           #Patients NHI vs burden NHI\n",
    "           sum(abs(Patients_prop_NHI-burden_daly_prop_NHI)),\n",
    "           #Deaths\n",
    "           sum(abs(RCTs_prop_all-burden_death_prop_all)),\n",
    "           sum(abs(Patients_prop_all-burden_death_prop_all)),\n",
    "           sum(abs(RCTs_prop_NHI-burden_death_prop_NHI)),\n",
    "           sum(abs(Patients_prop_NHI-burden_death_prop_NHI)),\n",
    "           #YLD\n",
    "           sum(abs(RCTs_prop_all-burden_yld_prop_all)),\n",
    "           sum(abs(Patients_prop_all-burden_yld_prop_all)),\n",
    "           sum(abs(RCTs_prop_NHI-burden_yld_prop_NHI)),\n",
    "           sum(abs(Patients_prop_NHI-burden_yld_prop_NHI)),\n",
    "           #YLL\n",
    "           sum(abs(RCTs_prop_all-burden_yll_prop_all)),\n",
    "           sum(abs(Patients_prop_all-burden_yll_prop_all)),\n",
    "           sum(abs(RCTs_prop_NHI-burden_yll_prop_NHI)),\n",
    "           sum(abs(Patients_prop_NHI-burden_yll_prop_NHI))),by=\"sim\"]\n",
    "\n",
    "    #Rq: NAs appear when total number of RCTs or patients overall or across non HI regions is 0, meaning no \n",
    "    #possible share across regions. we suppress them\n",
    "    dui <- df[,lapply(.SD,function(x){quantile(x,probs=c(0.025,0.5,0.975),na.rm=TRUE)}),.SDcols=paste(\"V\",1:16,sep=\"\")]\n",
    "\n",
    "    dui <- cbind(as.character(Mgbd$x[k]),c(\"low\",\"med\",\"up\"),dui)\n",
    "    names(dui)<-c(\"Disease\",\"UI\",\n",
    "    paste(rep(c(\"RCTs_vs\",\"Patients_vs\"),times=8),      \n",
    "          rep(c(\"daly\",\"death\",\"yld\",\"yll\"),each=4),\n",
    "          rep(rep(c(\"all\",\"NHI\"),each=2),times=4),sep=\"_\"))\n",
    "    \n",
    "\n",
    "    data_f <- rbind(data_f,dui)\n",
    "    \n",
    "    }"
   ]
  },
  {
   "cell_type": "code",
   "execution_count": 7,
   "metadata": {
    "collapsed": false
   },
   "outputs": [],
   "source": [
    "#All diseases\n",
    "k <- 0\n",
    "\n",
    "DF <- fread(paste(c(\"/media/igna/Elements/HotelDieu/Cochrane/MappingRCTs_vs_Burden/Replicates/Metrics_over_repl/Metrics_over_replicates_\",\n",
    "                    as.character(k),\".txt\"),collapse=\"\"))\n",
    "\n",
    "DFr <- DF[DF$Region%in%regs ,]\n",
    "DFr$RCTs_all <- rep(DF$RCTs[DF$Region==\"All\"],each=length(regs))\n",
    "DFr$RCTs_NHI <- rep(DF$RCTs[DF$Region==\"Non-HI\"],each=length(regs))\n",
    "DFr$Patients_all <- rep(DF$Patients[DF$Region==\"All\"],each=length(regs))\n",
    "DFr$Patients_NHI <- rep(DF$Patients[DF$Region==\"Non-HI\"],each=length(regs))\n",
    "\n",
    "nb_sims <- nrow(DFr)/length(regs)\n",
    "\n",
    "DFr$RCTs_prop_all <- 100*DFr$RCTs/DFr$RCTs_all\n",
    "DFr$RCTs_prop_NHI <- 100*DFr$RCTs/DFr$RCTs_NHI\n",
    "DFr$Patients_prop_all <- 100*DFr$Patients/DFr$Patients_all\n",
    "DFr$Patients_prop_NHI <- 100*DFr$Patients/DFr$Patients_NHI\n",
    "\n",
    "gbd_mt <- GBD[GBD$Disease==\"all\" & GBD$metr==\"daly\" & GBD$Region!=\"All\",]\n",
    "gbd_mt$burden_prop_all <- 100*gbd_mt$burden/sum(gbd_mt$burden)\n",
    "gbd_mt$burden_prop_NHI <- 100*gbd_mt$burden/sum(gbd_mt$burden[gbd_mt$Region!=\"High-income\"])\n",
    "DFr$burden_daly_prop_all <- rep(gbd_mt$burden_prop_all,times=nb_sims)\n",
    "DFr$burden_daly_prop_NHI <- rep(gbd_mt$burden_prop_NHI,times=nb_sims)\n",
    "\n",
    "gbd_mt <- GBD[GBD$Disease==\"all\" & GBD$metr==\"death\" & GBD$Region!=\"All\",]\n",
    "gbd_mt$burden_prop_all <- 100*gbd_mt$burden/sum(gbd_mt$burden)\n",
    "gbd_mt$burden_prop_NHI <- 100*gbd_mt$burden/sum(gbd_mt$burden[gbd_mt$Region!=\"High-income\"])\n",
    "DFr$burden_death_prop_all <- rep(gbd_mt$burden_prop_all,times=nb_sims)\n",
    "DFr$burden_death_prop_NHI <- rep(gbd_mt$burden_prop_NHI,times=nb_sims)\n",
    "\n",
    "gbd_mt <- GBD[GBD$Disease==\"all\" & GBD$metr==\"yld\" & GBD$Region!=\"All\",]\n",
    "gbd_mt$burden_prop_all <- 100*gbd_mt$burden/sum(gbd_mt$burden)\n",
    "gbd_mt$burden_prop_NHI <- 100*gbd_mt$burden/sum(gbd_mt$burden[gbd_mt$Region!=\"High-income\"])\n",
    "DFr$burden_yld_prop_all <- rep(gbd_mt$burden_prop_all,times=nb_sims)\n",
    "DFr$burden_yld_prop_NHI <- rep(gbd_mt$burden_prop_NHI,times=nb_sims)\n",
    "\n",
    "gbd_mt <- GBD[GBD$Disease==\"all\" & GBD$metr==\"yll\" & GBD$Region!=\"All\",]\n",
    "gbd_mt$burden_prop_all <- 100*gbd_mt$burden/sum(gbd_mt$burden)\n",
    "gbd_mt$burden_prop_NHI <- 100*gbd_mt$burden/sum(gbd_mt$burden[gbd_mt$Region!=\"High-income\"])\n",
    "DFr$burden_yll_prop_all <- rep(gbd_mt$burden_prop_all,times=nb_sims)\n",
    "DFr$burden_yll_prop_NHI <- rep(gbd_mt$burden_prop_NHI,times=nb_sims)\n",
    "\n",
    "DFr$sim <- rep(1:nb_sims,each=length(regs))\n",
    "\n",
    "df <- \n",
    "DFr[,.(\n",
    "       #DALYs\n",
    "       #RCTs all vs burden all\n",
    "       sum(abs(RCTs_prop_all-burden_daly_prop_all)),\n",
    "       #Patients all vs burden all\n",
    "       sum(abs(Patients_prop_all-burden_daly_prop_all)),\n",
    "       #RCTs NHI vs burden NHI\n",
    "       sum(abs(RCTs_prop_NHI-burden_daly_prop_NHI)),\n",
    "       #Patients NHI vs burden NHI\n",
    "       sum(abs(Patients_prop_NHI-burden_daly_prop_NHI)),\n",
    "       #Deaths\n",
    "       sum(abs(RCTs_prop_all-burden_death_prop_all)),\n",
    "       sum(abs(Patients_prop_all-burden_death_prop_all)),\n",
    "       sum(abs(RCTs_prop_NHI-burden_death_prop_NHI)),\n",
    "       sum(abs(Patients_prop_NHI-burden_death_prop_NHI)),\n",
    "       #YLD\n",
    "       sum(abs(RCTs_prop_all-burden_yld_prop_all)),\n",
    "       sum(abs(Patients_prop_all-burden_yld_prop_all)),\n",
    "       sum(abs(RCTs_prop_NHI-burden_yld_prop_NHI)),\n",
    "       sum(abs(Patients_prop_NHI-burden_yld_prop_NHI)),\n",
    "       #YLL\n",
    "       sum(abs(RCTs_prop_all-burden_yll_prop_all)),\n",
    "       sum(abs(Patients_prop_all-burden_yll_prop_all)),\n",
    "       sum(abs(RCTs_prop_NHI-burden_yll_prop_NHI)),\n",
    "       sum(abs(Patients_prop_NHI-burden_yll_prop_NHI))),by=\"sim\"]\n",
    "\n",
    "#Rq: NAs appear when total number of RCTs or patients overall or across non HI regions is 0, meaning no \n",
    "#possible share across regions. we suppress them\n",
    "dui <- df[,lapply(.SD,function(x){quantile(x,probs=c(0.025,0.5,0.975),na.rm=TRUE)}),.SDcols=paste(\"V\",1:16,sep=\"\")]\n",
    "\n",
    "dui <- cbind(\"All\",c(\"low\",\"med\",\"up\"),dui)\n",
    "names(dui)<-c(\"Disease\",\"UI\",\n",
    "paste(rep(c(\"RCTs_vs\",\"Patients_vs\"),times=8),      \n",
    "      rep(c(\"daly\",\"death\",\"yld\",\"yll\"),each=4),\n",
    "      rep(rep(c(\"all\",\"NHI\"),each=2),times=4),sep=\"_\"))\n",
    "\n",
    "data_f <- rbind(dui,data_f)"
   ]
  },
  {
   "cell_type": "code",
   "execution_count": 8,
   "metadata": {
    "collapsed": false
   },
   "outputs": [],
   "source": [
    "write.table(data_f,\"../Data/Alignment_ratios_within_diseases_across_all_NHI_patients_metrs_burdens.txt\")"
   ]
  },
  {
   "cell_type": "code",
   "execution_count": null,
   "metadata": {
    "collapsed": true
   },
   "outputs": [],
   "source": []
  }
 ],
 "metadata": {
  "kernelspec": {
   "display_name": "R",
   "language": "R",
   "name": "ir"
  },
  "language_info": {
   "codemirror_mode": "r",
   "file_extension": ".r",
   "mimetype": "text/x-r-source",
   "name": "R",
   "pygments_lexer": "r",
   "version": "3.3.1"
  }
 },
 "nbformat": 4,
 "nbformat_minor": 1
}
