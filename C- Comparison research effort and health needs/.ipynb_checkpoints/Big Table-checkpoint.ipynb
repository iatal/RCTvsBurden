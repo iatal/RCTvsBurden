{
 "cells": [
  {
   "cell_type": "markdown",
   "metadata": {},
   "source": [
    "### Big table with info per region per disease of RCTs and burden"
   ]
  },
  {
   "cell_type": "code",
   "execution_count": 1,
   "metadata": {
    "collapsed": false
   },
   "outputs": [
    {
     "name": "stderr",
     "output_type": "stream",
     "text": [
      "gdata: read.xls support for 'XLS' (Excel 97-2004) files ENABLED.\n",
      "\n",
      "gdata: read.xls support for 'XLSX' (Excel 2007+) files ENABLED.\n",
      "\n",
      "Attaching package: ‘gdata’\n",
      "\n",
      "The following object is masked from ‘package:stats’:\n",
      "\n",
      "    nobs\n",
      "\n",
      "The following object is masked from ‘package:utils’:\n",
      "\n",
      "    object.size\n",
      "\n",
      "The following object is masked from ‘package:base’:\n",
      "\n",
      "    startsWith\n",
      "\n"
     ]
    }
   ],
   "source": [
    "library(gdata)"
   ]
  },
  {
   "cell_type": "code",
   "execution_count": 2,
   "metadata": {
    "collapsed": true
   },
   "outputs": [],
   "source": [
    "GBD <- read.table(\"../Data/DALY_YLL_deaths_per_region_and_27_diseases_2005.txt\")\n",
    "RCT_regs <- read.table(\"../Data/RCTs_and_Patients_Nb_local_prop_median_UI_per_region_and_disease.txt\")\n",
    "RCT_dis <- read.table(\"../Data/RCTs_and_Patients_prop_among_all_and_HI_median_UI_across_regions_per_disease.txt\")"
   ]
  },
  {
   "cell_type": "code",
   "execution_count": 3,
   "metadata": {
    "collapsed": false
   },
   "outputs": [
    {
     "data": {
      "text/html": [
       "<table>\n",
       "<thead><tr><th></th><th scope=col>metr</th><th scope=col>Region</th><th scope=col>Disease</th><th scope=col>burden</th></tr></thead>\n",
       "<tbody>\n",
       "\t<tr><th scope=row>1</th><td>daly                                            </td><td>Central Europe, Eastern Europe, and Central Asia</td><td>Cardiovascular and circulatory diseases         </td><td>53161406.515                                    </td></tr>\n",
       "\t<tr><th scope=row>2</th><td>daly                                            </td><td>Central Europe, Eastern Europe, and Central Asia</td><td>Chronic respiratory diseases                    </td><td>5644608.1271                                    </td></tr>\n",
       "\t<tr><th scope=row>3</th><td>daly                                            </td><td>Central Europe, Eastern Europe, and Central Asia</td><td>Cirrhosis of the liver                          </td><td>4090337.297                                     </td></tr>\n",
       "\t<tr><th scope=row>4</th><td>daly                                            </td><td>Central Europe, Eastern Europe, and Central Asia</td><td>Congenital anomalies                            </td><td>2079422.787                                     </td></tr>\n",
       "\t<tr><th scope=row>5</th><td>daly                                            </td><td>Central Europe, Eastern Europe, and Central Asia</td><td>Diabetes, urinary diseases and male infertility </td><td>5049824.6483                                    </td></tr>\n",
       "\t<tr><th scope=row>6</th><td>daly                                                                                    </td><td>Central Europe, Eastern Europe, and Central Asia                                        </td><td>Diarrhea, lower respiratory infections, meningitis, and other common infectious diseases</td><td>7281615.92163                                                                           </td></tr>\n",
       "</tbody>\n",
       "</table>\n"
      ],
      "text/latex": [
       "\\begin{tabular}{r|llll}\n",
       "  & metr & Region & Disease & burden\\\\\n",
       "\\hline\n",
       "\t1 & daly                                             & Central Europe, Eastern Europe, and Central Asia & Cardiovascular and circulatory diseases          & 53161406.515                                    \\\\\n",
       "\t2 & daly                                             & Central Europe, Eastern Europe, and Central Asia & Chronic respiratory diseases                     & 5644608.1271                                    \\\\\n",
       "\t3 & daly                                             & Central Europe, Eastern Europe, and Central Asia & Cirrhosis of the liver                           & 4090337.297                                     \\\\\n",
       "\t4 & daly                                             & Central Europe, Eastern Europe, and Central Asia & Congenital anomalies                             & 2079422.787                                     \\\\\n",
       "\t5 & daly                                             & Central Europe, Eastern Europe, and Central Asia & Diabetes, urinary diseases and male infertility  & 5049824.6483                                    \\\\\n",
       "\t6 & daly                                                                                     & Central Europe, Eastern Europe, and Central Asia                                         & Diarrhea, lower respiratory infections, meningitis, and other common infectious diseases & 7281615.92163                                                                           \\\\\n",
       "\\end{tabular}\n"
      ],
      "text/plain": [
       "  metr                                           Region\n",
       "1 daly Central Europe, Eastern Europe, and Central Asia\n",
       "2 daly Central Europe, Eastern Europe, and Central Asia\n",
       "3 daly Central Europe, Eastern Europe, and Central Asia\n",
       "4 daly Central Europe, Eastern Europe, and Central Asia\n",
       "5 daly Central Europe, Eastern Europe, and Central Asia\n",
       "6 daly Central Europe, Eastern Europe, and Central Asia\n",
       "                                                                                   Disease\n",
       "1                                                  Cardiovascular and circulatory diseases\n",
       "2                                                             Chronic respiratory diseases\n",
       "3                                                                   Cirrhosis of the liver\n",
       "4                                                                     Congenital anomalies\n",
       "5                                          Diabetes, urinary diseases and male infertility\n",
       "6 Diarrhea, lower respiratory infections, meningitis, and other common infectious diseases\n",
       "    burden\n",
       "1 53161407\n",
       "2  5644608\n",
       "3  4090337\n",
       "4  2079423\n",
       "5  5049825\n",
       "6  7281616"
      ]
     },
     "metadata": {},
     "output_type": "display_data"
    }
   ],
   "source": [
    "head(GBD)"
   ]
  },
  {
   "cell_type": "code",
   "execution_count": 4,
   "metadata": {
    "collapsed": false,
    "scrolled": false
   },
   "outputs": [
    {
     "data": {
      "text/html": [
       "<table>\n",
       "<thead><tr><th></th><th scope=col>Region</th><th scope=col>Disease</th><th scope=col>Nb_RCTs_low</th><th scope=col>Nb_RCTs_med</th><th scope=col>Nb_RCTs_up</th><th scope=col>Nb_Patients_low</th><th scope=col>Nb_Patients_med</th><th scope=col>Nb_Patients_up</th><th scope=col>Prop_RCTs_low</th><th scope=col>Prop_RCTs_med</th><th scope=col>Prop_RCTs_up</th><th scope=col>Prop_Patients_low</th><th scope=col>Prop_Patients_med</th><th scope=col>Prop_Patients_up</th></tr></thead>\n",
       "<tbody>\n",
       "\t<tr><th scope=row>1</th><td>Central Europe, Eastern Europe, and Central Asia</td><td>Tuberculosis                                    </td><td>4                                               </td><td>17                                              </td><td>28                                              </td><td>817.791035280509                                </td><td>3727.45887445887                                </td><td>8286.37821455813                                </td><td>0.0670184629223417                              </td><td>0.279881461969048                               </td><td>0.465039030061452                               </td><td>0.0541345253732852                              </td><td>0.246996228187276                               </td><td>0.548102268596756                               </td></tr>\n",
       "\t<tr><th scope=row>2</th><td>High-income       </td><td>Tuberculosis      </td><td>28                </td><td>95                </td><td>186               </td><td>4760.52142857143  </td><td>20935.8779220779  </td><td>80181.1191734     </td><td>0.0445697341004633</td><td>0.152             </td><td>0.298837432345686 </td><td>0.0246145116753808</td><td>0.106212756460855 </td><td>0.408072232458222 </td></tr>\n",
       "\t<tr><th scope=row>3</th><td>Latin America and Caribbean</td><td>Tuberculosis               </td><td>8                          </td><td>29                         </td><td>42                         </td><td>2031.4689484127            </td><td>41578.255952381            </td><td>46855.1901044703           </td><td>0.185393444249661          </td><td>0.67421141343607           </td><td>0.985567832207902          </td><td>0.25044366594425           </td><td>4.89484230548107           </td><td>5.74768206602598           </td></tr>\n",
       "\t<tr><th scope=row>4</th><td>North Africa and Middle East</td><td>Tuberculosis                </td><td>4                           </td><td>17                          </td><td>31                          </td><td>426.4375                    </td><td>2930.46428571429            </td><td>4985.14201868919            </td><td>0.050657984871941           </td><td>0.214646464646465           </td><td>0.393272107025709           </td><td>0.0509666269158626          </td><td>0.351318357907269           </td><td>0.598363560953588           </td></tr>\n",
       "\t<tr><th scope=row>5</th><td>South Asia       </td><td>Tuberculosis     </td><td>11               </td><td>40               </td><td>56               </td><td>3184.94642857143 </td><td>14501.0103479853 </td><td>23036.5803571428 </td><td>0.24519372262736 </td><td>0.883197173769044</td><td>1.26012776852171 </td><td>0.171534792285204</td><td>0.781339017910559</td><td>1.28564993265724 </td></tr>\n",
       "\t<tr><th scope=row>6</th><td>Southeast Asia, East Asia and Oceania</td><td>Tuberculosis                         </td><td>15                                   </td><td>53                                   </td><td>76                                   </td><td>5566.83035714286                     </td><td>28046.521031746                      </td><td>41850.471984127                      </td><td>0.169275419396122                    </td><td>0.603575902516798                    </td><td>0.872978293733491                    </td><td>0.17204138884611                     </td><td>0.869588012581335                    </td><td>1.32455313091434                     </td></tr>\n",
       "</tbody>\n",
       "</table>\n"
      ],
      "text/latex": [
       "\\begin{tabular}{r|llllllllllllll}\n",
       "  & Region & Disease & Nb\\_RCTs\\_low & Nb\\_RCTs\\_med & Nb\\_RCTs\\_up & Nb\\_Patients\\_low & Nb\\_Patients\\_med & Nb\\_Patients\\_up & Prop\\_RCTs\\_low & Prop\\_RCTs\\_med & Prop\\_RCTs\\_up & Prop\\_Patients\\_low & Prop\\_Patients\\_med & Prop\\_Patients\\_up\\\\\n",
       "\\hline\n",
       "\t1 & Central Europe, Eastern Europe, and Central Asia & Tuberculosis                                     & 4                                                & 17                                               & 28                                               & 817.791035280509                                 & 3727.45887445887                                 & 8286.37821455813                                 & 0.0670184629223417                               & 0.279881461969048                                & 0.465039030061452                                & 0.0541345253732852                               & 0.246996228187276                                & 0.548102268596756                               \\\\\n",
       "\t2 & High-income        & Tuberculosis       & 28                 & 95                 & 186                & 4760.52142857143   & 20935.8779220779   & 80181.1191734      & 0.0445697341004633 & 0.152              & 0.298837432345686  & 0.0246145116753808 & 0.106212756460855  & 0.408072232458222 \\\\\n",
       "\t3 & Latin America and Caribbean & Tuberculosis                & 8                           & 29                          & 42                          & 2031.4689484127             & 41578.255952381             & 46855.1901044703            & 0.185393444249661           & 0.67421141343607            & 0.985567832207902           & 0.25044366594425            & 4.89484230548107            & 5.74768206602598           \\\\\n",
       "\t4 & North Africa and Middle East & Tuberculosis                 & 4                            & 17                           & 31                           & 426.4375                     & 2930.46428571429             & 4985.14201868919             & 0.050657984871941            & 0.214646464646465            & 0.393272107025709            & 0.0509666269158626           & 0.351318357907269            & 0.598363560953588           \\\\\n",
       "\t5 & South Asia        & Tuberculosis      & 11                & 40                & 56                & 3184.94642857143  & 14501.0103479853  & 23036.5803571428  & 0.24519372262736  & 0.883197173769044 & 1.26012776852171  & 0.171534792285204 & 0.781339017910559 & 1.28564993265724 \\\\\n",
       "\t6 & Southeast Asia, East Asia and Oceania & Tuberculosis                          & 15                                    & 53                                    & 76                                    & 5566.83035714286                      & 28046.521031746                       & 41850.471984127                       & 0.169275419396122                     & 0.603575902516798                     & 0.872978293733491                     & 0.17204138884611                      & 0.869588012581335                     & 1.32455313091434                     \\\\\n",
       "\\end{tabular}\n"
      ],
      "text/plain": [
       "                                            Region      Disease Nb_RCTs_low\n",
       "1 Central Europe, Eastern Europe, and Central Asia Tuberculosis           4\n",
       "2                                      High-income Tuberculosis          28\n",
       "3                      Latin America and Caribbean Tuberculosis           8\n",
       "4                     North Africa and Middle East Tuberculosis           4\n",
       "5                                       South Asia Tuberculosis          11\n",
       "6            Southeast Asia, East Asia and Oceania Tuberculosis          15\n",
       "  Nb_RCTs_med Nb_RCTs_up Nb_Patients_low Nb_Patients_med Nb_Patients_up\n",
       "1          17         28        817.7910        3727.459       8286.378\n",
       "2          95        186       4760.5214       20935.878      80181.119\n",
       "3          29         42       2031.4689       41578.256      46855.190\n",
       "4          17         31        426.4375        2930.464       4985.142\n",
       "5          40         56       3184.9464       14501.010      23036.580\n",
       "6          53         76       5566.8304       28046.521      41850.472\n",
       "  Prop_RCTs_low Prop_RCTs_med Prop_RCTs_up Prop_Patients_low Prop_Patients_med\n",
       "1    0.06701846     0.2798815    0.4650390        0.05413453         0.2469962\n",
       "2    0.04456973     0.1520000    0.2988374        0.02461451         0.1062128\n",
       "3    0.18539344     0.6742114    0.9855678        0.25044367         4.8948423\n",
       "4    0.05065798     0.2146465    0.3932721        0.05096663         0.3513184\n",
       "5    0.24519372     0.8831972    1.2601278        0.17153479         0.7813390\n",
       "6    0.16927542     0.6035759    0.8729783        0.17204139         0.8695880\n",
       "  Prop_Patients_up\n",
       "1        0.5481023\n",
       "2        0.4080722\n",
       "3        5.7476821\n",
       "4        0.5983636\n",
       "5        1.2856499\n",
       "6        1.3245531"
      ]
     },
     "metadata": {},
     "output_type": "display_data"
    }
   ],
   "source": [
    "head(RCT_regs)"
   ]
  },
  {
   "cell_type": "code",
   "execution_count": 5,
   "metadata": {
    "collapsed": false,
    "scrolled": true
   },
   "outputs": [
    {
     "data": {
      "text/html": [
       "<table>\n",
       "<thead><tr><th></th><th scope=col>Region</th><th scope=col>Disease</th><th scope=col>Prop_all_RCTs_low</th><th scope=col>Prop_all_RCTs_med</th><th scope=col>Prop_all_RCTs_up</th><th scope=col>Prop_all_Patients_low</th><th scope=col>Prop_all_Patients_med</th><th scope=col>Prop_all_Patients_up</th><th scope=col>Prop_NHI_RCTs_low</th><th scope=col>Prop_NHI_RCTs_med</th><th scope=col>Prop_NHI_RCTs_up</th><th scope=col>Prop_NHI_Patients_low</th><th scope=col>Prop_NHI_Patients_med</th><th scope=col>Prop_NHI_Patients_up</th></tr></thead>\n",
       "<tbody>\n",
       "\t<tr><th scope=row>1</th><td>Central Europe, Eastern Europe, and Central Asia</td><td>Tuberculosis                                    </td><td>3.69003740785565                                </td><td>5.80474934036939                                </td><td>8.13568226393947                                </td><td>0.366473691455004                               </td><td>0.839127809160704                               </td><td>2.83936826324646                                </td><td>5.08474576271187                                </td><td>8.01526717557252                                </td><td>11.486262637802                                 </td><td>0.380957658815296                               </td><td>0.889686757284583                               </td><td>3.33797750372922                                </td></tr>\n",
       "\t<tr><th scope=row>2</th><td>High-income     </td><td>Tuberculosis    </td><td>25.2298560242485</td><td>32.6086956521739</td><td>43.75           </td><td>2.0993861537554 </td><td>5.01358306762257</td><td>20.7015918123193</td><td>NA              </td><td>NA              </td><td>NA              </td><td>NA              </td><td>NA              </td><td>NA              </td></tr>\n",
       "\t<tr><th scope=row>3</th><td>Latin America and Caribbean</td><td>Tuberculosis               </td><td>6.90279038112523           </td><td>9.6969696969697            </td><td>12.5560538116592           </td><td>0.984953513555074          </td><td>7.43862809488715           </td><td>24.4784120543199           </td><td>9.86401964418087           </td><td>13.3333333333333           </td><td>17.0268295534253           </td><td>1.0378086262667            </td><td>7.78820711422704           </td><td>27.9627474021534           </td></tr>\n",
       "\t<tr><th scope=row>4</th><td>Non-HI          </td><td>Tuberculosis    </td><td>62.0564190128775</td><td>72.9805013927577</td><td>80.0802811870901</td><td>79.2984081876807</td><td>94.9864169323774</td><td>97.9006138462446</td><td>NA              </td><td>NA              </td><td>NA              </td><td>NA              </td><td>NA              </td><td>NA              </td></tr>\n",
       "\t<tr><th scope=row>5</th><td>North Africa and Middle East</td><td>Tuberculosis                </td><td>3.59039767997637            </td><td>5.86510263929619            </td><td>8.48484848484849            </td><td>0.186777744586216           </td><td>0.634283140727821           </td><td>2.09269030195581            </td><td>4.84384164222874            </td><td>8.05369127516778            </td><td>12.5                        </td><td>0.192695325477562           </td><td>0.670666221682141           </td><td>2.42120570680917            </td></tr>\n",
       "\t<tr><th scope=row>6</th><td>South Asia      </td><td>Tuberculosis    </td><td>9.76133765243902</td><td>13.2315521628499</td><td>16.4971649484536</td><td>1.54968676109187</td><td>3.18532882501455</td><td>10.4758002001611</td><td>14.1666666666667</td><td>18.232044198895 </td><td>22.2222222222222</td><td>1.62335420612825</td><td>3.36210946299576</td><td>12.183418694834 </td></tr>\n",
       "</tbody>\n",
       "</table>\n"
      ],
      "text/latex": [
       "\\begin{tabular}{r|llllllllllllll}\n",
       "  & Region & Disease & Prop\\_all\\_RCTs\\_low & Prop\\_all\\_RCTs\\_med & Prop\\_all\\_RCTs\\_up & Prop\\_all\\_Patients\\_low & Prop\\_all\\_Patients\\_med & Prop\\_all\\_Patients\\_up & Prop\\_NHI\\_RCTs\\_low & Prop\\_NHI\\_RCTs\\_med & Prop\\_NHI\\_RCTs\\_up & Prop\\_NHI\\_Patients\\_low & Prop\\_NHI\\_Patients\\_med & Prop\\_NHI\\_Patients\\_up\\\\\n",
       "\\hline\n",
       "\t1 & Central Europe, Eastern Europe, and Central Asia & Tuberculosis                                     & 3.69003740785565                                 & 5.80474934036939                                 & 8.13568226393947                                 & 0.366473691455004                                & 0.839127809160704                                & 2.83936826324646                                 & 5.08474576271187                                 & 8.01526717557252                                 & 11.486262637802                                  & 0.380957658815296                                & 0.889686757284583                                & 3.33797750372922                                \\\\\n",
       "\t2 & High-income      & Tuberculosis     & 25.2298560242485 & 32.6086956521739 & 43.75            & 2.0993861537554  & 5.01358306762257 & 20.7015918123193 & NA               & NA               & NA               & NA               & NA               & NA              \\\\\n",
       "\t3 & Latin America and Caribbean & Tuberculosis                & 6.90279038112523            & 9.6969696969697             & 12.5560538116592            & 0.984953513555074           & 7.43862809488715            & 24.4784120543199            & 9.86401964418087            & 13.3333333333333            & 17.0268295534253            & 1.0378086262667             & 7.78820711422704            & 27.9627474021534           \\\\\n",
       "\t4 & Non-HI           & Tuberculosis     & 62.0564190128775 & 72.9805013927577 & 80.0802811870901 & 79.2984081876807 & 94.9864169323774 & 97.9006138462446 & NA               & NA               & NA               & NA               & NA               & NA              \\\\\n",
       "\t5 & North Africa and Middle East & Tuberculosis                 & 3.59039767997637             & 5.86510263929619             & 8.48484848484849             & 0.186777744586216            & 0.634283140727821            & 2.09269030195581             & 4.84384164222874             & 8.05369127516778             & 12.5                         & 0.192695325477562            & 0.670666221682141            & 2.42120570680917            \\\\\n",
       "\t6 & South Asia       & Tuberculosis     & 9.76133765243902 & 13.2315521628499 & 16.4971649484536 & 1.54968676109187 & 3.18532882501455 & 10.4758002001611 & 14.1666666666667 & 18.232044198895  & 22.2222222222222 & 1.62335420612825 & 3.36210946299576 & 12.183418694834 \\\\\n",
       "\\end{tabular}\n"
      ],
      "text/plain": [
       "                                            Region      Disease\n",
       "1 Central Europe, Eastern Europe, and Central Asia Tuberculosis\n",
       "2                                      High-income Tuberculosis\n",
       "3                      Latin America and Caribbean Tuberculosis\n",
       "4                                           Non-HI Tuberculosis\n",
       "5                     North Africa and Middle East Tuberculosis\n",
       "6                                       South Asia Tuberculosis\n",
       "  Prop_all_RCTs_low Prop_all_RCTs_med Prop_all_RCTs_up Prop_all_Patients_low\n",
       "1          3.690037          5.804749         8.135682             0.3664737\n",
       "2         25.229856         32.608696        43.750000             2.0993862\n",
       "3          6.902790          9.696970        12.556054             0.9849535\n",
       "4         62.056419         72.980501        80.080281            79.2984082\n",
       "5          3.590398          5.865103         8.484848             0.1867777\n",
       "6          9.761338         13.231552        16.497165             1.5496868\n",
       "  Prop_all_Patients_med Prop_all_Patients_up Prop_NHI_RCTs_low\n",
       "1             0.8391278             2.839368          5.084746\n",
       "2             5.0135831            20.701592                NA\n",
       "3             7.4386281            24.478412          9.864020\n",
       "4            94.9864169            97.900614                NA\n",
       "5             0.6342831             2.092690          4.843842\n",
       "6             3.1853288            10.475800         14.166667\n",
       "  Prop_NHI_RCTs_med Prop_NHI_RCTs_up Prop_NHI_Patients_low\n",
       "1          8.015267         11.48626             0.3809577\n",
       "2                NA               NA                    NA\n",
       "3         13.333333         17.02683             1.0378086\n",
       "4                NA               NA                    NA\n",
       "5          8.053691         12.50000             0.1926953\n",
       "6         18.232044         22.22222             1.6233542\n",
       "  Prop_NHI_Patients_med Prop_NHI_Patients_up\n",
       "1             0.8896868             3.337978\n",
       "2                    NA                   NA\n",
       "3             7.7882071            27.962747\n",
       "4                    NA                   NA\n",
       "5             0.6706662             2.421206\n",
       "6             3.3621095            12.183419"
      ]
     },
     "metadata": {},
     "output_type": "display_data"
    }
   ],
   "source": [
    "head(RCT_dis)"
   ]
  },
  {
   "cell_type": "code",
   "execution_count": 6,
   "metadata": {
    "collapsed": false,
    "scrolled": true
   },
   "outputs": [
    {
     "data": {
      "text/html": [
       "<ol class=list-inline>\n",
       "\t<li>'All'</li>\n",
       "\t<li>'Central Europe, Eastern Europe, and Central Asia'</li>\n",
       "\t<li>'High-income'</li>\n",
       "\t<li>'Latin America and Caribbean'</li>\n",
       "\t<li>'North Africa and Middle East'</li>\n",
       "\t<li>'South Asia'</li>\n",
       "\t<li>'Southeast Asia, East Asia and Oceania'</li>\n",
       "\t<li>'Sub-Saharian Africa'</li>\n",
       "</ol>\n"
      ],
      "text/latex": [
       "\\begin{enumerate*}\n",
       "\\item 'All'\n",
       "\\item 'Central Europe, Eastern Europe, and Central Asia'\n",
       "\\item 'High-income'\n",
       "\\item 'Latin America and Caribbean'\n",
       "\\item 'North Africa and Middle East'\n",
       "\\item 'South Asia'\n",
       "\\item 'Southeast Asia, East Asia and Oceania'\n",
       "\\item 'Sub-Saharian Africa'\n",
       "\\end{enumerate*}\n"
      ],
      "text/markdown": [
       "1. 'All'\n",
       "2. 'Central Europe, Eastern Europe, and Central Asia'\n",
       "3. 'High-income'\n",
       "4. 'Latin America and Caribbean'\n",
       "5. 'North Africa and Middle East'\n",
       "6. 'South Asia'\n",
       "7. 'Southeast Asia, East Asia and Oceania'\n",
       "8. 'Sub-Saharian Africa'\n",
       "\n",
       "\n"
      ],
      "text/plain": [
       "[1] \"All\"                                             \n",
       "[2] \"Central Europe, Eastern Europe, and Central Asia\"\n",
       "[3] \"High-income\"                                     \n",
       "[4] \"Latin America and Caribbean\"                     \n",
       "[5] \"North Africa and Middle East\"                    \n",
       "[6] \"South Asia\"                                      \n",
       "[7] \"Southeast Asia, East Asia and Oceania\"           \n",
       "[8] \"Sub-Saharian Africa\"                             "
      ]
     },
     "metadata": {},
     "output_type": "display_data"
    },
    {
     "data": {
      "text/html": [
       "<ol class=list-inline>\n",
       "\t<li>'All'</li>\n",
       "\t<li>'Central Europe, Eastern Europe, and Central Asia'</li>\n",
       "\t<li>'High-income'</li>\n",
       "\t<li>'Latin America and Caribbean'</li>\n",
       "\t<li>'Non-HI'</li>\n",
       "\t<li>'North Africa and Middle East'</li>\n",
       "\t<li>'South Asia'</li>\n",
       "\t<li>'Southeast Asia, East Asia and Oceania'</li>\n",
       "\t<li>'Sub-Saharian Africa'</li>\n",
       "</ol>\n"
      ],
      "text/latex": [
       "\\begin{enumerate*}\n",
       "\\item 'All'\n",
       "\\item 'Central Europe, Eastern Europe, and Central Asia'\n",
       "\\item 'High-income'\n",
       "\\item 'Latin America and Caribbean'\n",
       "\\item 'Non-HI'\n",
       "\\item 'North Africa and Middle East'\n",
       "\\item 'South Asia'\n",
       "\\item 'Southeast Asia, East Asia and Oceania'\n",
       "\\item 'Sub-Saharian Africa'\n",
       "\\end{enumerate*}\n"
      ],
      "text/markdown": [
       "1. 'All'\n",
       "2. 'Central Europe, Eastern Europe, and Central Asia'\n",
       "3. 'High-income'\n",
       "4. 'Latin America and Caribbean'\n",
       "5. 'Non-HI'\n",
       "6. 'North Africa and Middle East'\n",
       "7. 'South Asia'\n",
       "8. 'Southeast Asia, East Asia and Oceania'\n",
       "9. 'Sub-Saharian Africa'\n",
       "\n",
       "\n"
      ],
      "text/plain": [
       "[1] \"All\"                                             \n",
       "[2] \"Central Europe, Eastern Europe, and Central Asia\"\n",
       "[3] \"High-income\"                                     \n",
       "[4] \"Latin America and Caribbean\"                     \n",
       "[5] \"Non-HI\"                                          \n",
       "[6] \"North Africa and Middle East\"                    \n",
       "[7] \"South Asia\"                                      \n",
       "[8] \"Southeast Asia, East Asia and Oceania\"           \n",
       "[9] \"Sub-Saharian Africa\"                             "
      ]
     },
     "metadata": {},
     "output_type": "display_data"
    },
    {
     "data": {
      "text/html": [
       "<ol class=list-inline>\n",
       "\t<li>'Central Europe, Eastern Europe, and Central Asia'</li>\n",
       "\t<li>'High-income'</li>\n",
       "\t<li>'Latin America and Caribbean'</li>\n",
       "\t<li>'Non-HI'</li>\n",
       "\t<li>'North Africa and Middle East'</li>\n",
       "\t<li>'South Asia'</li>\n",
       "\t<li>'Southeast Asia, East Asia and Oceania'</li>\n",
       "\t<li>'Sub-Saharian Africa'</li>\n",
       "</ol>\n"
      ],
      "text/latex": [
       "\\begin{enumerate*}\n",
       "\\item 'Central Europe, Eastern Europe, and Central Asia'\n",
       "\\item 'High-income'\n",
       "\\item 'Latin America and Caribbean'\n",
       "\\item 'Non-HI'\n",
       "\\item 'North Africa and Middle East'\n",
       "\\item 'South Asia'\n",
       "\\item 'Southeast Asia, East Asia and Oceania'\n",
       "\\item 'Sub-Saharian Africa'\n",
       "\\end{enumerate*}\n"
      ],
      "text/markdown": [
       "1. 'Central Europe, Eastern Europe, and Central Asia'\n",
       "2. 'High-income'\n",
       "3. 'Latin America and Caribbean'\n",
       "4. 'Non-HI'\n",
       "5. 'North Africa and Middle East'\n",
       "6. 'South Asia'\n",
       "7. 'Southeast Asia, East Asia and Oceania'\n",
       "8. 'Sub-Saharian Africa'\n",
       "\n",
       "\n"
      ],
      "text/plain": [
       "[1] \"Central Europe, Eastern Europe, and Central Asia\"\n",
       "[2] \"High-income\"                                     \n",
       "[3] \"Latin America and Caribbean\"                     \n",
       "[4] \"Non-HI\"                                          \n",
       "[5] \"North Africa and Middle East\"                    \n",
       "[6] \"South Asia\"                                      \n",
       "[7] \"Southeast Asia, East Asia and Oceania\"           \n",
       "[8] \"Sub-Saharian Africa\"                             "
      ]
     },
     "metadata": {},
     "output_type": "display_data"
    }
   ],
   "source": [
    "levels(GBD$Region)\n",
    "levels(RCT_regs$Region)\n",
    "levels(RCT_dis$Region)"
   ]
  },
  {
   "cell_type": "code",
   "execution_count": 7,
   "metadata": {
    "collapsed": false
   },
   "outputs": [
    {
     "data": {
      "text/html": [
       "<ol class=list-inline>\n",
       "\t<li>'all'</li>\n",
       "\t<li>'Cardiovascular and circulatory diseases'</li>\n",
       "\t<li>'Chronic respiratory diseases'</li>\n",
       "\t<li>'Cirrhosis of the liver'</li>\n",
       "\t<li>'Congenital anomalies'</li>\n",
       "\t<li>'Diabetes, urinary diseases and male infertility'</li>\n",
       "\t<li>'Diarrhea, lower respiratory infections, meningitis, and other common infectious diseases'</li>\n",
       "\t<li>'Digestive diseases (except cirrhosis)'</li>\n",
       "\t<li>'Gynecological diseases'</li>\n",
       "\t<li>'Hemoglobinopathies and hemolytic anemias'</li>\n",
       "\t<li>'Hepatitis'</li>\n",
       "\t<li>'HIV/AIDS'</li>\n",
       "\t<li>'Leprosy'</li>\n",
       "\t<li>'Malaria'</li>\n",
       "\t<li>'Maternal disorders'</li>\n",
       "\t<li>'Mental and behavioral disorders'</li>\n",
       "\t<li>'Musculoskeletal disorders'</li>\n",
       "\t<li>'Neglected tropical diseases excluding malaria'</li>\n",
       "\t<li>'Neonatal disorders'</li>\n",
       "\t<li>'Neoplasms'</li>\n",
       "\t<li>'Neurological disorders'</li>\n",
       "\t<li>'Nutritional deficiencies'</li>\n",
       "\t<li>'Oral disorders'</li>\n",
       "\t<li>'Sense organ diseases'</li>\n",
       "\t<li>'Sexually transmitted diseases excluding HIV'</li>\n",
       "\t<li>'Skin and subcutaneous diseases'</li>\n",
       "\t<li>'Sudden infant death syndrome'</li>\n",
       "\t<li>'Tuberculosis'</li>\n",
       "</ol>\n"
      ],
      "text/latex": [
       "\\begin{enumerate*}\n",
       "\\item 'all'\n",
       "\\item 'Cardiovascular and circulatory diseases'\n",
       "\\item 'Chronic respiratory diseases'\n",
       "\\item 'Cirrhosis of the liver'\n",
       "\\item 'Congenital anomalies'\n",
       "\\item 'Diabetes, urinary diseases and male infertility'\n",
       "\\item 'Diarrhea, lower respiratory infections, meningitis, and other common infectious diseases'\n",
       "\\item 'Digestive diseases (except cirrhosis)'\n",
       "\\item 'Gynecological diseases'\n",
       "\\item 'Hemoglobinopathies and hemolytic anemias'\n",
       "\\item 'Hepatitis'\n",
       "\\item 'HIV/AIDS'\n",
       "\\item 'Leprosy'\n",
       "\\item 'Malaria'\n",
       "\\item 'Maternal disorders'\n",
       "\\item 'Mental and behavioral disorders'\n",
       "\\item 'Musculoskeletal disorders'\n",
       "\\item 'Neglected tropical diseases excluding malaria'\n",
       "\\item 'Neonatal disorders'\n",
       "\\item 'Neoplasms'\n",
       "\\item 'Neurological disorders'\n",
       "\\item 'Nutritional deficiencies'\n",
       "\\item 'Oral disorders'\n",
       "\\item 'Sense organ diseases'\n",
       "\\item 'Sexually transmitted diseases excluding HIV'\n",
       "\\item 'Skin and subcutaneous diseases'\n",
       "\\item 'Sudden infant death syndrome'\n",
       "\\item 'Tuberculosis'\n",
       "\\end{enumerate*}\n"
      ],
      "text/markdown": [
       "1. 'all'\n",
       "2. 'Cardiovascular and circulatory diseases'\n",
       "3. 'Chronic respiratory diseases'\n",
       "4. 'Cirrhosis of the liver'\n",
       "5. 'Congenital anomalies'\n",
       "6. 'Diabetes, urinary diseases and male infertility'\n",
       "7. 'Diarrhea, lower respiratory infections, meningitis, and other common infectious diseases'\n",
       "8. 'Digestive diseases (except cirrhosis)'\n",
       "9. 'Gynecological diseases'\n",
       "10. 'Hemoglobinopathies and hemolytic anemias'\n",
       "11. 'Hepatitis'\n",
       "12. 'HIV/AIDS'\n",
       "13. 'Leprosy'\n",
       "14. 'Malaria'\n",
       "15. 'Maternal disorders'\n",
       "16. 'Mental and behavioral disorders'\n",
       "17. 'Musculoskeletal disorders'\n",
       "18. 'Neglected tropical diseases excluding malaria'\n",
       "19. 'Neonatal disorders'\n",
       "20. 'Neoplasms'\n",
       "21. 'Neurological disorders'\n",
       "22. 'Nutritional deficiencies'\n",
       "23. 'Oral disorders'\n",
       "24. 'Sense organ diseases'\n",
       "25. 'Sexually transmitted diseases excluding HIV'\n",
       "26. 'Skin and subcutaneous diseases'\n",
       "27. 'Sudden infant death syndrome'\n",
       "28. 'Tuberculosis'\n",
       "\n",
       "\n"
      ],
      "text/plain": [
       " [1] \"all\"                                                                                     \n",
       " [2] \"Cardiovascular and circulatory diseases\"                                                 \n",
       " [3] \"Chronic respiratory diseases\"                                                            \n",
       " [4] \"Cirrhosis of the liver\"                                                                  \n",
       " [5] \"Congenital anomalies\"                                                                    \n",
       " [6] \"Diabetes, urinary diseases and male infertility\"                                         \n",
       " [7] \"Diarrhea, lower respiratory infections, meningitis, and other common infectious diseases\"\n",
       " [8] \"Digestive diseases (except cirrhosis)\"                                                   \n",
       " [9] \"Gynecological diseases\"                                                                  \n",
       "[10] \"Hemoglobinopathies and hemolytic anemias\"                                                \n",
       "[11] \"Hepatitis\"                                                                               \n",
       "[12] \"HIV/AIDS\"                                                                                \n",
       "[13] \"Leprosy\"                                                                                 \n",
       "[14] \"Malaria\"                                                                                 \n",
       "[15] \"Maternal disorders\"                                                                      \n",
       "[16] \"Mental and behavioral disorders\"                                                         \n",
       "[17] \"Musculoskeletal disorders\"                                                               \n",
       "[18] \"Neglected tropical diseases excluding malaria\"                                           \n",
       "[19] \"Neonatal disorders\"                                                                      \n",
       "[20] \"Neoplasms\"                                                                               \n",
       "[21] \"Neurological disorders\"                                                                  \n",
       "[22] \"Nutritional deficiencies\"                                                                \n",
       "[23] \"Oral disorders\"                                                                          \n",
       "[24] \"Sense organ diseases\"                                                                    \n",
       "[25] \"Sexually transmitted diseases excluding HIV\"                                             \n",
       "[26] \"Skin and subcutaneous diseases\"                                                          \n",
       "[27] \"Sudden infant death syndrome\"                                                            \n",
       "[28] \"Tuberculosis\"                                                                            "
      ]
     },
     "metadata": {},
     "output_type": "display_data"
    },
    {
     "data": {
      "text/html": [
       "<ol class=list-inline>\n",
       "\t<li>'All'</li>\n",
       "\t<li>'Cardiovascular and circulatory diseases'</li>\n",
       "\t<li>'Chronic respiratory diseases'</li>\n",
       "\t<li>'Cirrhosis of the liver'</li>\n",
       "\t<li>'Diabetes, urinary diseases and male infertility'</li>\n",
       "\t<li>'Diarrhea, lower respiratory infections, meningitis, and other common infectious diseases'</li>\n",
       "\t<li>'Digestive diseases (except cirrhosis)'</li>\n",
       "\t<li>'Gynecological diseases'</li>\n",
       "\t<li>'Hepatitis'</li>\n",
       "\t<li>'HIV/AIDS'</li>\n",
       "\t<li>'Malaria'</li>\n",
       "\t<li>'Maternal disorders'</li>\n",
       "\t<li>'Mental and behavioral disorders'</li>\n",
       "\t<li>'Musculoskeletal disorders'</li>\n",
       "\t<li>'Neglected tropical diseases excluding malaria'</li>\n",
       "\t<li>'Neonatal disorders'</li>\n",
       "\t<li>'Neoplasms'</li>\n",
       "\t<li>'Neurological disorders'</li>\n",
       "\t<li>'Nutritional deficiencies'</li>\n",
       "\t<li>'Oral disorders'</li>\n",
       "\t<li>'Sense organ diseases'</li>\n",
       "\t<li>'Skin and subcutaneous diseases'</li>\n",
       "\t<li>'Tuberculosis'</li>\n",
       "</ol>\n"
      ],
      "text/latex": [
       "\\begin{enumerate*}\n",
       "\\item 'All'\n",
       "\\item 'Cardiovascular and circulatory diseases'\n",
       "\\item 'Chronic respiratory diseases'\n",
       "\\item 'Cirrhosis of the liver'\n",
       "\\item 'Diabetes, urinary diseases and male infertility'\n",
       "\\item 'Diarrhea, lower respiratory infections, meningitis, and other common infectious diseases'\n",
       "\\item 'Digestive diseases (except cirrhosis)'\n",
       "\\item 'Gynecological diseases'\n",
       "\\item 'Hepatitis'\n",
       "\\item 'HIV/AIDS'\n",
       "\\item 'Malaria'\n",
       "\\item 'Maternal disorders'\n",
       "\\item 'Mental and behavioral disorders'\n",
       "\\item 'Musculoskeletal disorders'\n",
       "\\item 'Neglected tropical diseases excluding malaria'\n",
       "\\item 'Neonatal disorders'\n",
       "\\item 'Neoplasms'\n",
       "\\item 'Neurological disorders'\n",
       "\\item 'Nutritional deficiencies'\n",
       "\\item 'Oral disorders'\n",
       "\\item 'Sense organ diseases'\n",
       "\\item 'Skin and subcutaneous diseases'\n",
       "\\item 'Tuberculosis'\n",
       "\\end{enumerate*}\n"
      ],
      "text/markdown": [
       "1. 'All'\n",
       "2. 'Cardiovascular and circulatory diseases'\n",
       "3. 'Chronic respiratory diseases'\n",
       "4. 'Cirrhosis of the liver'\n",
       "5. 'Diabetes, urinary diseases and male infertility'\n",
       "6. 'Diarrhea, lower respiratory infections, meningitis, and other common infectious diseases'\n",
       "7. 'Digestive diseases (except cirrhosis)'\n",
       "8. 'Gynecological diseases'\n",
       "9. 'Hepatitis'\n",
       "10. 'HIV/AIDS'\n",
       "11. 'Malaria'\n",
       "12. 'Maternal disorders'\n",
       "13. 'Mental and behavioral disorders'\n",
       "14. 'Musculoskeletal disorders'\n",
       "15. 'Neglected tropical diseases excluding malaria'\n",
       "16. 'Neonatal disorders'\n",
       "17. 'Neoplasms'\n",
       "18. 'Neurological disorders'\n",
       "19. 'Nutritional deficiencies'\n",
       "20. 'Oral disorders'\n",
       "21. 'Sense organ diseases'\n",
       "22. 'Skin and subcutaneous diseases'\n",
       "23. 'Tuberculosis'\n",
       "\n",
       "\n"
      ],
      "text/plain": [
       " [1] \"All\"                                                                                     \n",
       " [2] \"Cardiovascular and circulatory diseases\"                                                 \n",
       " [3] \"Chronic respiratory diseases\"                                                            \n",
       " [4] \"Cirrhosis of the liver\"                                                                  \n",
       " [5] \"Diabetes, urinary diseases and male infertility\"                                         \n",
       " [6] \"Diarrhea, lower respiratory infections, meningitis, and other common infectious diseases\"\n",
       " [7] \"Digestive diseases (except cirrhosis)\"                                                   \n",
       " [8] \"Gynecological diseases\"                                                                  \n",
       " [9] \"Hepatitis\"                                                                               \n",
       "[10] \"HIV/AIDS\"                                                                                \n",
       "[11] \"Malaria\"                                                                                 \n",
       "[12] \"Maternal disorders\"                                                                      \n",
       "[13] \"Mental and behavioral disorders\"                                                         \n",
       "[14] \"Musculoskeletal disorders\"                                                               \n",
       "[15] \"Neglected tropical diseases excluding malaria\"                                           \n",
       "[16] \"Neonatal disorders\"                                                                      \n",
       "[17] \"Neoplasms\"                                                                               \n",
       "[18] \"Neurological disorders\"                                                                  \n",
       "[19] \"Nutritional deficiencies\"                                                                \n",
       "[20] \"Oral disorders\"                                                                          \n",
       "[21] \"Sense organ diseases\"                                                                    \n",
       "[22] \"Skin and subcutaneous diseases\"                                                          \n",
       "[23] \"Tuberculosis\"                                                                            "
      ]
     },
     "metadata": {},
     "output_type": "display_data"
    },
    {
     "data": {
      "text/html": [
       "<ol class=list-inline>\n",
       "\t<li>'Cardiovascular and circulatory diseases'</li>\n",
       "\t<li>'Chronic respiratory diseases'</li>\n",
       "\t<li>'Cirrhosis of the liver'</li>\n",
       "\t<li>'Diabetes, urinary diseases and male infertility'</li>\n",
       "\t<li>'Diarrhea, lower respiratory infections, meningitis, and other common infectious diseases'</li>\n",
       "\t<li>'Digestive diseases (except cirrhosis)'</li>\n",
       "\t<li>'Gynecological diseases'</li>\n",
       "\t<li>'Hepatitis'</li>\n",
       "\t<li>'HIV/AIDS'</li>\n",
       "\t<li>'Malaria'</li>\n",
       "\t<li>'Maternal disorders'</li>\n",
       "\t<li>'Mental and behavioral disorders'</li>\n",
       "\t<li>'Musculoskeletal disorders'</li>\n",
       "\t<li>'Neglected tropical diseases excluding malaria'</li>\n",
       "\t<li>'Neonatal disorders'</li>\n",
       "\t<li>'Neoplasms'</li>\n",
       "\t<li>'Neurological disorders'</li>\n",
       "\t<li>'Nutritional deficiencies'</li>\n",
       "\t<li>'Oral disorders'</li>\n",
       "\t<li>'Sense organ diseases'</li>\n",
       "\t<li>'Skin and subcutaneous diseases'</li>\n",
       "\t<li>'Tuberculosis'</li>\n",
       "</ol>\n"
      ],
      "text/latex": [
       "\\begin{enumerate*}\n",
       "\\item 'Cardiovascular and circulatory diseases'\n",
       "\\item 'Chronic respiratory diseases'\n",
       "\\item 'Cirrhosis of the liver'\n",
       "\\item 'Diabetes, urinary diseases and male infertility'\n",
       "\\item 'Diarrhea, lower respiratory infections, meningitis, and other common infectious diseases'\n",
       "\\item 'Digestive diseases (except cirrhosis)'\n",
       "\\item 'Gynecological diseases'\n",
       "\\item 'Hepatitis'\n",
       "\\item 'HIV/AIDS'\n",
       "\\item 'Malaria'\n",
       "\\item 'Maternal disorders'\n",
       "\\item 'Mental and behavioral disorders'\n",
       "\\item 'Musculoskeletal disorders'\n",
       "\\item 'Neglected tropical diseases excluding malaria'\n",
       "\\item 'Neonatal disorders'\n",
       "\\item 'Neoplasms'\n",
       "\\item 'Neurological disorders'\n",
       "\\item 'Nutritional deficiencies'\n",
       "\\item 'Oral disorders'\n",
       "\\item 'Sense organ diseases'\n",
       "\\item 'Skin and subcutaneous diseases'\n",
       "\\item 'Tuberculosis'\n",
       "\\end{enumerate*}\n"
      ],
      "text/markdown": [
       "1. 'Cardiovascular and circulatory diseases'\n",
       "2. 'Chronic respiratory diseases'\n",
       "3. 'Cirrhosis of the liver'\n",
       "4. 'Diabetes, urinary diseases and male infertility'\n",
       "5. 'Diarrhea, lower respiratory infections, meningitis, and other common infectious diseases'\n",
       "6. 'Digestive diseases (except cirrhosis)'\n",
       "7. 'Gynecological diseases'\n",
       "8. 'Hepatitis'\n",
       "9. 'HIV/AIDS'\n",
       "10. 'Malaria'\n",
       "11. 'Maternal disorders'\n",
       "12. 'Mental and behavioral disorders'\n",
       "13. 'Musculoskeletal disorders'\n",
       "14. 'Neglected tropical diseases excluding malaria'\n",
       "15. 'Neonatal disorders'\n",
       "16. 'Neoplasms'\n",
       "17. 'Neurological disorders'\n",
       "18. 'Nutritional deficiencies'\n",
       "19. 'Oral disorders'\n",
       "20. 'Sense organ diseases'\n",
       "21. 'Skin and subcutaneous diseases'\n",
       "22. 'Tuberculosis'\n",
       "\n",
       "\n"
      ],
      "text/plain": [
       " [1] \"Cardiovascular and circulatory diseases\"                                                 \n",
       " [2] \"Chronic respiratory diseases\"                                                            \n",
       " [3] \"Cirrhosis of the liver\"                                                                  \n",
       " [4] \"Diabetes, urinary diseases and male infertility\"                                         \n",
       " [5] \"Diarrhea, lower respiratory infections, meningitis, and other common infectious diseases\"\n",
       " [6] \"Digestive diseases (except cirrhosis)\"                                                   \n",
       " [7] \"Gynecological diseases\"                                                                  \n",
       " [8] \"Hepatitis\"                                                                               \n",
       " [9] \"HIV/AIDS\"                                                                                \n",
       "[10] \"Malaria\"                                                                                 \n",
       "[11] \"Maternal disorders\"                                                                      \n",
       "[12] \"Mental and behavioral disorders\"                                                         \n",
       "[13] \"Musculoskeletal disorders\"                                                               \n",
       "[14] \"Neglected tropical diseases excluding malaria\"                                           \n",
       "[15] \"Neonatal disorders\"                                                                      \n",
       "[16] \"Neoplasms\"                                                                               \n",
       "[17] \"Neurological disorders\"                                                                  \n",
       "[18] \"Nutritional deficiencies\"                                                                \n",
       "[19] \"Oral disorders\"                                                                          \n",
       "[20] \"Sense organ diseases\"                                                                    \n",
       "[21] \"Skin and subcutaneous diseases\"                                                          \n",
       "[22] \"Tuberculosis\"                                                                            "
      ]
     },
     "metadata": {},
     "output_type": "display_data"
    }
   ],
   "source": [
    "levels(GBD$Disease)\n",
    "levels(RCT_regs$Disease)\n",
    "levels(RCT_dis$Disease)"
   ]
  },
  {
   "cell_type": "code",
   "execution_count": 8,
   "metadata": {
    "collapsed": true
   },
   "outputs": [],
   "source": [
    "#Adding to GBD data , burden of all diseases in all regions\n",
    "gbd_all <- tapply(GBD$burden[GBD$Region==\"All\"],paste(GBD$metr[GBD$Region==\"All\"],GBD$Region[GBD$Region==\"All\"]),sum)\n",
    "gbd_all <- data.frame(metr=levels(GBD$metr),\n",
    "                      Region=\"All\",\n",
    "                      Disease=\"all\",\n",
    "                     burden=as.numeric(gbd_all))\n",
    "GBD <- rbind(GBD,gbd_all)\n",
    "levels(GBD$Disease)[1] <- \"All\""
   ]
  },
  {
   "cell_type": "code",
   "execution_count": 9,
   "metadata": {
    "collapsed": true
   },
   "outputs": [],
   "source": [
    "GBD <- GBD[order(GBD$Region,GBD$Disease),]"
   ]
  },
  {
   "cell_type": "code",
   "execution_count": 10,
   "metadata": {
    "collapsed": false
   },
   "outputs": [],
   "source": [
    "#Adding burden in Non-High-income regions\n",
    "gbd_nhi <- GBD[GBD$Region==\"All\",]\n",
    "gbd_nhi$Region <- \"Non-HI\"\n",
    "gbd_nhi$burden <- gbd_nhi$burden - GBD$burden[GBD$Region==\"High-income\"]\n",
    "GBD <- rbind(GBD,gbd_nhi)"
   ]
  },
  {
   "cell_type": "code",
   "execution_count": 11,
   "metadata": {
    "collapsed": false
   },
   "outputs": [],
   "source": [
    "GBD$Region <- reorder(GBD$Region,new.order=sort(levels(GBD$Region)))"
   ]
  },
  {
   "cell_type": "code",
   "execution_count": 12,
   "metadata": {
    "collapsed": false
   },
   "outputs": [],
   "source": [
    "#Different columns for each metric of burden\n",
    "GBDdaly <- GBD[GBD$metr==\"daly\",]\n",
    "GBDdaly$burden_daly <- GBDdaly$burden\n",
    "GBDyll <- GBD[GBD$metr==\"yll\",]\n",
    "GBDyll$burden_yll <- GBDyll$burden\n",
    "GBDyld <- GBD[GBD$metr==\"yld\",]\n",
    "GBDyld$burden_yld <- GBDyld$burden\n",
    "GBDdeath <- GBD[GBD$metr==\"death\",]\n",
    "GBDdeath$burden_death <- GBDdeath$burden"
   ]
  },
  {
   "cell_type": "code",
   "execution_count": 13,
   "metadata": {
    "collapsed": false
   },
   "outputs": [
    {
     "name": "stderr",
     "output_type": "stream",
     "text": [
      "Warning message in merge.data.frame(G, GBDdeath, by = c(\"Region\", \"Disease\"), all = TRUE):\n",
      "“column names ‘metr.x’, ‘burden.x’, ‘metr.y’, ‘burden.y’ are duplicated in the result”"
     ]
    }
   ],
   "source": [
    "G <- merge(GBDdaly,GBDyll,by=c(\"Region\",\"Disease\"),all=TRUE)\n",
    "G <- merge(G,GBDyld,by=c(\"Region\",\"Disease\"),all=TRUE)\n",
    "G <- merge(G,GBDdeath,by=c(\"Region\",\"Disease\"),all=TRUE)"
   ]
  },
  {
   "cell_type": "code",
   "execution_count": 14,
   "metadata": {
    "collapsed": false
   },
   "outputs": [],
   "source": [
    "G <- G[,c(\"Region\", \"Disease\", \"burden_daly\", \"burden_yll\", \"burden_yld\", \"burden_death\")]"
   ]
  },
  {
   "cell_type": "code",
   "execution_count": 15,
   "metadata": {
    "collapsed": false,
    "scrolled": true
   },
   "outputs": [
    {
     "data": {
      "text/html": [
       "<table>\n",
       "<thead><tr><th></th><th scope=col>Region</th><th scope=col>Disease</th><th scope=col>burden_daly</th><th scope=col>burden_yll</th><th scope=col>burden_yld</th><th scope=col>burden_death</th></tr></thead>\n",
       "<tbody>\n",
       "\t<tr><th scope=row>1</th><td>All             </td><td>All             </td><td>2220063510.80076</td><td>1548796838.65609</td><td>671266365.044935</td><td>46250530.2665929</td></tr>\n",
       "\t<tr><th scope=row>2</th><td>All                                    </td><td>Cardiovascular and circulatory diseases</td><td>287404109.09231                        </td><td>267807387.790028                       </td><td>19596607.312309                        </td><td>14726543.7199449                       </td></tr>\n",
       "\t<tr><th scope=row>3</th><td>All                         </td><td>Chronic respiratory diseases</td><td>112485355.22285             </td><td>67399684.65133              </td><td>45085687.018707             </td><td>3572762.590618              </td></tr>\n",
       "\t<tr><th scope=row>4</th><td>All                   </td><td>Cirrhosis of the liver</td><td>30462721.1164         </td><td>29883176.0549         </td><td>579531.730192         </td><td>990159.446125         </td></tr>\n",
       "\t<tr><th scope=row>5</th><td>All                 </td><td>Congenital anomalies</td><td>43254504.439        </td><td>40150785.446        </td><td>3103715.2332        </td><td>553886.39191        </td></tr>\n",
       "\t<tr><th scope=row>6</th><td>All                                            </td><td>Diabetes, urinary diseases and male infertility</td><td>75821480.094146                                </td><td>48042869.768465                                </td><td>27778586.1421424                               </td><td>2082326.848938                                 </td></tr>\n",
       "</tbody>\n",
       "</table>\n"
      ],
      "text/latex": [
       "\\begin{tabular}{r|llllll}\n",
       "  & Region & Disease & burden\\_daly & burden\\_yll & burden\\_yld & burden\\_death\\\\\n",
       "\\hline\n",
       "\t1 & All              & All              & 2220063510.80076 & 1548796838.65609 & 671266365.044935 & 46250530.2665929\\\\\n",
       "\t2 & All                                     & Cardiovascular and circulatory diseases & 287404109.09231                         & 267807387.790028                        & 19596607.312309                         & 14726543.7199449                       \\\\\n",
       "\t3 & All                          & Chronic respiratory diseases & 112485355.22285              & 67399684.65133               & 45085687.018707              & 3572762.590618              \\\\\n",
       "\t4 & All                    & Cirrhosis of the liver & 30462721.1164          & 29883176.0549          & 579531.730192          & 990159.446125         \\\\\n",
       "\t5 & All                  & Congenital anomalies & 43254504.439         & 40150785.446         & 3103715.2332         & 553886.39191        \\\\\n",
       "\t6 & All                                             & Diabetes, urinary diseases and male infertility & 75821480.094146                                 & 48042869.768465                                 & 27778586.1421424                                & 2082326.848938                                 \\\\\n",
       "\\end{tabular}\n"
      ],
      "text/plain": [
       "  Region                                         Disease burden_daly burden_yll\n",
       "1    All                                             All  2220063511 1548796839\n",
       "2    All         Cardiovascular and circulatory diseases   287404109  267807388\n",
       "3    All                    Chronic respiratory diseases   112485355   67399685\n",
       "4    All                          Cirrhosis of the liver    30462721   29883176\n",
       "5    All                            Congenital anomalies    43254504   40150785\n",
       "6    All Diabetes, urinary diseases and male infertility    75821480   48042870\n",
       "   burden_yld burden_death\n",
       "1 671266365.0   46250530.3\n",
       "2  19596607.3   14726543.7\n",
       "3  45085687.0    3572762.6\n",
       "4    579531.7     990159.4\n",
       "5   3103715.2     553886.4\n",
       "6  27778586.1    2082326.8"
      ]
     },
     "metadata": {},
     "output_type": "display_data"
    }
   ],
   "source": [
    "head(G)"
   ]
  },
  {
   "cell_type": "code",
   "execution_count": 16,
   "metadata": {
    "collapsed": false
   },
   "outputs": [],
   "source": [
    "#Within regions, local proportions of burden across diseases\n",
    "G$Prop_loc_burden_daly <- 100*G$burden_daly/rep(G$burden_daly[G$Disease==\"All\"],as.numeric(table(G$Region)))\n",
    "G$Prop_loc_burden_yll <- 100*G$burden_yll/rep(G$burden_yll[G$Disease==\"All\"],as.numeric(table(G$Region)))\n",
    "G$Prop_loc_burden_yld <- 100*G$burden_yld/rep(G$burden_yld[G$Disease==\"All\"],as.numeric(table(G$Region)))\n",
    "G$Prop_loc_burden_death <- 100*G$burden_death/rep(G$burden_death[G$Disease==\"All\"],as.numeric(table(G$Region)))"
   ]
  },
  {
   "cell_type": "code",
   "execution_count": 17,
   "metadata": {
    "collapsed": false
   },
   "outputs": [],
   "source": [
    "#Within diseases, global proportion of burden across regions\n",
    "G$Prop_glob_burden_daly <- 100*G$burden_daly/rep(G$burden_daly[G$Region==\"All\"],times=length(levels(G$Region)))\n",
    "G$Prop_glob_burden_yll <- 100*G$burden_yll/rep(G$burden_yll[G$Region==\"All\"],times=length(levels(G$Region)))\n",
    "G$Prop_glob_burden_yld <- 100*G$burden_yld/rep(G$burden_yld[G$Region==\"All\"],times=length(levels(G$Region)))\n",
    "G$Prop_glob_burden_death <- 100*G$burden_death/rep(G$burden_death[G$Region==\"All\"],times=length(levels(G$Region)))"
   ]
  },
  {
   "cell_type": "code",
   "execution_count": 18,
   "metadata": {
    "collapsed": true
   },
   "outputs": [],
   "source": [
    "#Within diseases, proportion of burden across non-high-income regions\n",
    "G$Prop_NHI_burden_daly <- 100*G$burden_daly/rep(G$burden_daly[G$Region==\"Non-HI\"],times=length(levels(G$Region)))\n",
    "G$Prop_NHI_burden_yll <- 100*G$burden_yll/rep(G$burden_yll[G$Region==\"Non-HI\"],times=length(levels(G$Region)))\n",
    "G$Prop_NHI_burden_yld <- 100*G$burden_yld/rep(G$burden_yld[G$Region==\"Non-HI\"],times=length(levels(G$Region)))\n",
    "G$Prop_NHI_burden_death <- 100*G$burden_death/rep(G$burden_death[G$Region==\"Non-HI\"],times=length(levels(G$Region)))\n",
    "\n",
    "G$Prop_NHI_burden_daly[G$Region%in%c(\"All\",\"High-income\")] <- NA\n",
    "G$Prop_NHI_burden_yll[G$Region%in%c(\"All\",\"High-income\")] <- NA\n",
    "G$Prop_NHI_burden_yld[G$Region%in%c(\"All\",\"High-income\")] <- NA\n",
    "G$Prop_NHI_burden_death[G$Region%in%c(\"All\",\"High-income\")] <- NA"
   ]
  },
  {
   "cell_type": "code",
   "execution_count": 19,
   "metadata": {
    "collapsed": false
   },
   "outputs": [
    {
     "data": {
      "text/html": [
       "<ol class=list-inline>\n",
       "\t<li>'Region'</li>\n",
       "\t<li>'Disease'</li>\n",
       "\t<li>'Nb_RCTs_low'</li>\n",
       "\t<li>'Nb_RCTs_med'</li>\n",
       "\t<li>'Nb_RCTs_up'</li>\n",
       "\t<li>'Nb_Patients_low'</li>\n",
       "\t<li>'Nb_Patients_med'</li>\n",
       "\t<li>'Nb_Patients_up'</li>\n",
       "\t<li>'Prop_RCTs_low'</li>\n",
       "\t<li>'Prop_RCTs_med'</li>\n",
       "\t<li>'Prop_RCTs_up'</li>\n",
       "\t<li>'Prop_Patients_low'</li>\n",
       "\t<li>'Prop_Patients_med'</li>\n",
       "\t<li>'Prop_Patients_up'</li>\n",
       "</ol>\n"
      ],
      "text/latex": [
       "\\begin{enumerate*}\n",
       "\\item 'Region'\n",
       "\\item 'Disease'\n",
       "\\item 'Nb\\_RCTs\\_low'\n",
       "\\item 'Nb\\_RCTs\\_med'\n",
       "\\item 'Nb\\_RCTs\\_up'\n",
       "\\item 'Nb\\_Patients\\_low'\n",
       "\\item 'Nb\\_Patients\\_med'\n",
       "\\item 'Nb\\_Patients\\_up'\n",
       "\\item 'Prop\\_RCTs\\_low'\n",
       "\\item 'Prop\\_RCTs\\_med'\n",
       "\\item 'Prop\\_RCTs\\_up'\n",
       "\\item 'Prop\\_Patients\\_low'\n",
       "\\item 'Prop\\_Patients\\_med'\n",
       "\\item 'Prop\\_Patients\\_up'\n",
       "\\end{enumerate*}\n"
      ],
      "text/markdown": [
       "1. 'Region'\n",
       "2. 'Disease'\n",
       "3. 'Nb_RCTs_low'\n",
       "4. 'Nb_RCTs_med'\n",
       "5. 'Nb_RCTs_up'\n",
       "6. 'Nb_Patients_low'\n",
       "7. 'Nb_Patients_med'\n",
       "8. 'Nb_Patients_up'\n",
       "9. 'Prop_RCTs_low'\n",
       "10. 'Prop_RCTs_med'\n",
       "11. 'Prop_RCTs_up'\n",
       "12. 'Prop_Patients_low'\n",
       "13. 'Prop_Patients_med'\n",
       "14. 'Prop_Patients_up'\n",
       "\n",
       "\n"
      ],
      "text/plain": [
       " [1] \"Region\"            \"Disease\"           \"Nb_RCTs_low\"      \n",
       " [4] \"Nb_RCTs_med\"       \"Nb_RCTs_up\"        \"Nb_Patients_low\"  \n",
       " [7] \"Nb_Patients_med\"   \"Nb_Patients_up\"    \"Prop_RCTs_low\"    \n",
       "[10] \"Prop_RCTs_med\"     \"Prop_RCTs_up\"      \"Prop_Patients_low\"\n",
       "[13] \"Prop_Patients_med\" \"Prop_Patients_up\" "
      ]
     },
     "metadata": {},
     "output_type": "display_data"
    },
    {
     "data": {
      "text/html": [
       "<ol class=list-inline>\n",
       "\t<li>'Region'</li>\n",
       "\t<li>'Disease'</li>\n",
       "\t<li>'Prop_all_RCTs_low'</li>\n",
       "\t<li>'Prop_all_RCTs_med'</li>\n",
       "\t<li>'Prop_all_RCTs_up'</li>\n",
       "\t<li>'Prop_all_Patients_low'</li>\n",
       "\t<li>'Prop_all_Patients_med'</li>\n",
       "\t<li>'Prop_all_Patients_up'</li>\n",
       "\t<li>'Prop_NHI_RCTs_low'</li>\n",
       "\t<li>'Prop_NHI_RCTs_med'</li>\n",
       "\t<li>'Prop_NHI_RCTs_up'</li>\n",
       "\t<li>'Prop_NHI_Patients_low'</li>\n",
       "\t<li>'Prop_NHI_Patients_med'</li>\n",
       "\t<li>'Prop_NHI_Patients_up'</li>\n",
       "</ol>\n"
      ],
      "text/latex": [
       "\\begin{enumerate*}\n",
       "\\item 'Region'\n",
       "\\item 'Disease'\n",
       "\\item 'Prop\\_all\\_RCTs\\_low'\n",
       "\\item 'Prop\\_all\\_RCTs\\_med'\n",
       "\\item 'Prop\\_all\\_RCTs\\_up'\n",
       "\\item 'Prop\\_all\\_Patients\\_low'\n",
       "\\item 'Prop\\_all\\_Patients\\_med'\n",
       "\\item 'Prop\\_all\\_Patients\\_up'\n",
       "\\item 'Prop\\_NHI\\_RCTs\\_low'\n",
       "\\item 'Prop\\_NHI\\_RCTs\\_med'\n",
       "\\item 'Prop\\_NHI\\_RCTs\\_up'\n",
       "\\item 'Prop\\_NHI\\_Patients\\_low'\n",
       "\\item 'Prop\\_NHI\\_Patients\\_med'\n",
       "\\item 'Prop\\_NHI\\_Patients\\_up'\n",
       "\\end{enumerate*}\n"
      ],
      "text/markdown": [
       "1. 'Region'\n",
       "2. 'Disease'\n",
       "3. 'Prop_all_RCTs_low'\n",
       "4. 'Prop_all_RCTs_med'\n",
       "5. 'Prop_all_RCTs_up'\n",
       "6. 'Prop_all_Patients_low'\n",
       "7. 'Prop_all_Patients_med'\n",
       "8. 'Prop_all_Patients_up'\n",
       "9. 'Prop_NHI_RCTs_low'\n",
       "10. 'Prop_NHI_RCTs_med'\n",
       "11. 'Prop_NHI_RCTs_up'\n",
       "12. 'Prop_NHI_Patients_low'\n",
       "13. 'Prop_NHI_Patients_med'\n",
       "14. 'Prop_NHI_Patients_up'\n",
       "\n",
       "\n"
      ],
      "text/plain": [
       " [1] \"Region\"                \"Disease\"               \"Prop_all_RCTs_low\"    \n",
       " [4] \"Prop_all_RCTs_med\"     \"Prop_all_RCTs_up\"      \"Prop_all_Patients_low\"\n",
       " [7] \"Prop_all_Patients_med\" \"Prop_all_Patients_up\"  \"Prop_NHI_RCTs_low\"    \n",
       "[10] \"Prop_NHI_RCTs_med\"     \"Prop_NHI_RCTs_up\"      \"Prop_NHI_Patients_low\"\n",
       "[13] \"Prop_NHI_Patients_med\" \"Prop_NHI_Patients_up\" "
      ]
     },
     "metadata": {},
     "output_type": "display_data"
    },
    {
     "data": {
      "text/html": [
       "<ol class=list-inline>\n",
       "\t<li>'Region'</li>\n",
       "\t<li>'Disease'</li>\n",
       "\t<li>'burden_daly'</li>\n",
       "\t<li>'burden_yll'</li>\n",
       "\t<li>'burden_yld'</li>\n",
       "\t<li>'burden_death'</li>\n",
       "\t<li>'Prop_loc_burden_daly'</li>\n",
       "\t<li>'Prop_loc_burden_yll'</li>\n",
       "\t<li>'Prop_loc_burden_yld'</li>\n",
       "\t<li>'Prop_loc_burden_death'</li>\n",
       "\t<li>'Prop_glob_burden_daly'</li>\n",
       "\t<li>'Prop_glob_burden_yll'</li>\n",
       "\t<li>'Prop_glob_burden_yld'</li>\n",
       "\t<li>'Prop_glob_burden_death'</li>\n",
       "\t<li>'Prop_NHI_burden_daly'</li>\n",
       "\t<li>'Prop_NHI_burden_yll'</li>\n",
       "\t<li>'Prop_NHI_burden_yld'</li>\n",
       "\t<li>'Prop_NHI_burden_death'</li>\n",
       "</ol>\n"
      ],
      "text/latex": [
       "\\begin{enumerate*}\n",
       "\\item 'Region'\n",
       "\\item 'Disease'\n",
       "\\item 'burden\\_daly'\n",
       "\\item 'burden\\_yll'\n",
       "\\item 'burden\\_yld'\n",
       "\\item 'burden\\_death'\n",
       "\\item 'Prop\\_loc\\_burden\\_daly'\n",
       "\\item 'Prop\\_loc\\_burden\\_yll'\n",
       "\\item 'Prop\\_loc\\_burden\\_yld'\n",
       "\\item 'Prop\\_loc\\_burden\\_death'\n",
       "\\item 'Prop\\_glob\\_burden\\_daly'\n",
       "\\item 'Prop\\_glob\\_burden\\_yll'\n",
       "\\item 'Prop\\_glob\\_burden\\_yld'\n",
       "\\item 'Prop\\_glob\\_burden\\_death'\n",
       "\\item 'Prop\\_NHI\\_burden\\_daly'\n",
       "\\item 'Prop\\_NHI\\_burden\\_yll'\n",
       "\\item 'Prop\\_NHI\\_burden\\_yld'\n",
       "\\item 'Prop\\_NHI\\_burden\\_death'\n",
       "\\end{enumerate*}\n"
      ],
      "text/markdown": [
       "1. 'Region'\n",
       "2. 'Disease'\n",
       "3. 'burden_daly'\n",
       "4. 'burden_yll'\n",
       "5. 'burden_yld'\n",
       "6. 'burden_death'\n",
       "7. 'Prop_loc_burden_daly'\n",
       "8. 'Prop_loc_burden_yll'\n",
       "9. 'Prop_loc_burden_yld'\n",
       "10. 'Prop_loc_burden_death'\n",
       "11. 'Prop_glob_burden_daly'\n",
       "12. 'Prop_glob_burden_yll'\n",
       "13. 'Prop_glob_burden_yld'\n",
       "14. 'Prop_glob_burden_death'\n",
       "15. 'Prop_NHI_burden_daly'\n",
       "16. 'Prop_NHI_burden_yll'\n",
       "17. 'Prop_NHI_burden_yld'\n",
       "18. 'Prop_NHI_burden_death'\n",
       "\n",
       "\n"
      ],
      "text/plain": [
       " [1] \"Region\"                 \"Disease\"                \"burden_daly\"           \n",
       " [4] \"burden_yll\"             \"burden_yld\"             \"burden_death\"          \n",
       " [7] \"Prop_loc_burden_daly\"   \"Prop_loc_burden_yll\"    \"Prop_loc_burden_yld\"   \n",
       "[10] \"Prop_loc_burden_death\"  \"Prop_glob_burden_daly\"  \"Prop_glob_burden_yll\"  \n",
       "[13] \"Prop_glob_burden_yld\"   \"Prop_glob_burden_death\" \"Prop_NHI_burden_daly\"  \n",
       "[16] \"Prop_NHI_burden_yll\"    \"Prop_NHI_burden_yld\"    \"Prop_NHI_burden_death\" "
      ]
     },
     "metadata": {},
     "output_type": "display_data"
    }
   ],
   "source": [
    "names(RCT_regs)\n",
    "names(RCT_dis)\n",
    "names(G)"
   ]
  },
  {
   "cell_type": "code",
   "execution_count": 20,
   "metadata": {
    "collapsed": true
   },
   "outputs": [],
   "source": [
    "names(RCT_regs) <- gsub(\"Prop\",\"Prop_loc\",names(RCT_regs))\n",
    "names(RCT_dis) <- gsub(\"_all_\",\"_glob_\",names(RCT_dis))"
   ]
  },
  {
   "cell_type": "code",
   "execution_count": 21,
   "metadata": {
    "collapsed": false
   },
   "outputs": [],
   "source": [
    "DT <- merge(G,RCT_regs,by=c(\"Region\",\"Disease\"),all=TRUE)\n",
    "DT <- merge(DT,RCT_dis,by=c(\"Region\",\"Disease\"),all=TRUE)"
   ]
  },
  {
   "cell_type": "code",
   "execution_count": 22,
   "metadata": {
    "collapsed": false,
    "scrolled": true
   },
   "outputs": [
    {
     "data": {
      "text/html": [
       "<table>\n",
       "<thead><tr><th></th><th scope=col>Region</th><th scope=col>Disease</th><th scope=col>burden_daly</th><th scope=col>burden_yll</th><th scope=col>burden_yld</th><th scope=col>burden_death</th><th scope=col>Prop_loc_burden_daly</th><th scope=col>Prop_loc_burden_yll</th><th scope=col>Prop_loc_burden_yld</th><th scope=col>Prop_loc_burden_death</th><th scope=col>⋯</th><th scope=col>Prop_glob_RCTs_up</th><th scope=col>Prop_glob_Patients_low</th><th scope=col>Prop_glob_Patients_med</th><th scope=col>Prop_glob_Patients_up</th><th scope=col>Prop_NHI_RCTs_low</th><th scope=col>Prop_NHI_RCTs_med</th><th scope=col>Prop_NHI_RCTs_up</th><th scope=col>Prop_NHI_Patients_low</th><th scope=col>Prop_NHI_Patients_med</th><th scope=col>Prop_NHI_Patients_up</th></tr></thead>\n",
       "<tbody>\n",
       "\t<tr><th scope=row>1</th><td>All             </td><td>All             </td><td>2220063510.80076</td><td>1548796838.65609</td><td>671266365.044935</td><td>46250530.2665929</td><td>100             </td><td>100             </td><td>100             </td><td>100             </td><td>⋯               </td><td>NA              </td><td>NA              </td><td>NA              </td><td>NA              </td><td>NA              </td><td>NA              </td><td>NA              </td><td>NA              </td><td>NA              </td><td>NA              </td></tr>\n",
       "\t<tr><th scope=row>2</th><td>All                                    </td><td>Cardiovascular and circulatory diseases</td><td>287404109.09231                        </td><td>267807387.790028                       </td><td>19596607.312309                        </td><td>14726543.7199449                       </td><td>12.9457606818034                       </td><td>17.2913180803241                       </td><td>2.91934891017476                       </td><td>31.8408105486781                       </td><td>⋯                                      </td><td>NA                                     </td><td>NA                                     </td><td>NA                                     </td><td>NA                                     </td><td>NA                                     </td><td>NA                                     </td><td>NA                                     </td><td>NA                                     </td><td>NA                                     </td><td>NA                                     </td></tr>\n",
       "\t<tr><th scope=row>3</th><td>All                         </td><td>Chronic respiratory diseases</td><td>112485355.22285             </td><td>67399684.65133              </td><td>45085687.018707             </td><td>3572762.590618              </td><td>5.06676294059161            </td><td>4.35174472010244            </td><td>6.71651215768706            </td><td>7.72480352122283            </td><td>⋯                           </td><td>NA                          </td><td>NA                          </td><td>NA                          </td><td>NA                          </td><td>NA                          </td><td>NA                          </td><td>NA                          </td><td>NA                          </td><td>NA                          </td><td>NA                          </td></tr>\n",
       "\t<tr><th scope=row>4</th><td>All                   </td><td>Cirrhosis of the liver</td><td>30462721.1164         </td><td>29883176.0549         </td><td>579531.730192         </td><td>990159.446125         </td><td>1.37215538961821      </td><td>1.9294445410174       </td><td>0.0863340933450771    </td><td>2.14086074347173      </td><td>⋯                     </td><td>NA                    </td><td>NA                    </td><td>NA                    </td><td>NA                    </td><td>NA                    </td><td>NA                    </td><td>NA                    </td><td>NA                    </td><td>NA                    </td><td>NA                    </td></tr>\n",
       "\t<tr><th scope=row>5</th><td>All                 </td><td>Congenital anomalies</td><td>43254504.439        </td><td>40150785.446        </td><td>3103715.2332        </td><td>553886.39191        </td><td>1.94834536167834    </td><td>2.59238555011768    </td><td>0.462367160760727   </td><td>1.19757846821937    </td><td>⋯                   </td><td>NA                  </td><td>NA                  </td><td>NA                  </td><td>NA                  </td><td>NA                  </td><td>NA                  </td><td>NA                  </td><td>NA                  </td><td>NA                  </td><td>NA                  </td></tr>\n",
       "\t<tr><th scope=row>6</th><td>All                                            </td><td>Diabetes, urinary diseases and male infertility</td><td>75821480.094146                                </td><td>48042869.768465                                </td><td>27778586.1421424                               </td><td>2082326.848938                                 </td><td>3.41528428016898                               </td><td>3.10194781971226                               </td><td>4.13823596543272                               </td><td>4.50227670241887                               </td><td>⋯                                              </td><td>NA                                             </td><td>NA                                             </td><td>NA                                             </td><td>NA                                             </td><td>NA                                             </td><td>NA                                             </td><td>NA                                             </td><td>NA                                             </td><td>NA                                             </td><td>NA                                             </td></tr>\n",
       "</tbody>\n",
       "</table>\n"
      ],
      "text/latex": [
       "\\begin{tabular}{r|llllllllllllllllllllllllllllllllllllllllll}\n",
       "  & Region & Disease & burden\\_daly & burden\\_yll & burden\\_yld & burden\\_death & Prop\\_loc\\_burden\\_daly & Prop\\_loc\\_burden\\_yll & Prop\\_loc\\_burden\\_yld & Prop\\_loc\\_burden\\_death & ⋯ & Prop\\_glob\\_RCTs\\_up & Prop\\_glob\\_Patients\\_low & Prop\\_glob\\_Patients\\_med & Prop\\_glob\\_Patients\\_up & Prop\\_NHI\\_RCTs\\_low & Prop\\_NHI\\_RCTs\\_med & Prop\\_NHI\\_RCTs\\_up & Prop\\_NHI\\_Patients\\_low & Prop\\_NHI\\_Patients\\_med & Prop\\_NHI\\_Patients\\_up\\\\\n",
       "\\hline\n",
       "\t1 & All              & All              & 2220063510.80076 & 1548796838.65609 & 671266365.044935 & 46250530.2665929 & 100              & 100              & 100              & 100              & ⋯                & NA               & NA               & NA               & NA               & NA               & NA               & NA               & NA               & NA               & NA              \\\\\n",
       "\t2 & All                                     & Cardiovascular and circulatory diseases & 287404109.09231                         & 267807387.790028                        & 19596607.312309                         & 14726543.7199449                        & 12.9457606818034                        & 17.2913180803241                        & 2.91934891017476                        & 31.8408105486781                        & ⋯                                       & NA                                      & NA                                      & NA                                      & NA                                      & NA                                      & NA                                      & NA                                      & NA                                      & NA                                      & NA                                     \\\\\n",
       "\t3 & All                          & Chronic respiratory diseases & 112485355.22285              & 67399684.65133               & 45085687.018707              & 3572762.590618               & 5.06676294059161             & 4.35174472010244             & 6.71651215768706             & 7.72480352122283             & ⋯                            & NA                           & NA                           & NA                           & NA                           & NA                           & NA                           & NA                           & NA                           & NA                           & NA                          \\\\\n",
       "\t4 & All                    & Cirrhosis of the liver & 30462721.1164          & 29883176.0549          & 579531.730192          & 990159.446125          & 1.37215538961821       & 1.9294445410174        & 0.0863340933450771     & 2.14086074347173       & ⋯                      & NA                     & NA                     & NA                     & NA                     & NA                     & NA                     & NA                     & NA                     & NA                     & NA                    \\\\\n",
       "\t5 & All                  & Congenital anomalies & 43254504.439         & 40150785.446         & 3103715.2332         & 553886.39191         & 1.94834536167834     & 2.59238555011768     & 0.462367160760727    & 1.19757846821937     & ⋯                    & NA                   & NA                   & NA                   & NA                   & NA                   & NA                   & NA                   & NA                   & NA                   & NA                  \\\\\n",
       "\t6 & All                                             & Diabetes, urinary diseases and male infertility & 75821480.094146                                 & 48042869.768465                                 & 27778586.1421424                                & 2082326.848938                                  & 3.41528428016898                                & 3.10194781971226                                & 4.13823596543272                                & 4.50227670241887                                & ⋯                                               & NA                                              & NA                                              & NA                                              & NA                                              & NA                                              & NA                                              & NA                                              & NA                                              & NA                                              & NA                                             \\\\\n",
       "\\end{tabular}\n"
      ],
      "text/plain": [
       "  Region                                         Disease burden_daly burden_yll\n",
       "1    All                                             All  2220063511 1548796839\n",
       "2    All         Cardiovascular and circulatory diseases   287404109  267807388\n",
       "3    All                    Chronic respiratory diseases   112485355   67399685\n",
       "4    All                          Cirrhosis of the liver    30462721   29883176\n",
       "5    All                            Congenital anomalies    43254504   40150785\n",
       "6    All Diabetes, urinary diseases and male infertility    75821480   48042870\n",
       "   burden_yld burden_death Prop_loc_burden_daly Prop_loc_burden_yll\n",
       "1 671266365.0   46250530.3           100.000000          100.000000\n",
       "2  19596607.3   14726543.7            12.945761           17.291318\n",
       "3  45085687.0    3572762.6             5.066763            4.351745\n",
       "4    579531.7     990159.4             1.372155            1.929445\n",
       "5   3103715.2     553886.4             1.948345            2.592386\n",
       "6  27778586.1    2082326.8             3.415284            3.101948\n",
       "  Prop_loc_burden_yld Prop_loc_burden_death ⋯ Prop_glob_RCTs_up\n",
       "1        100.00000000            100.000000 ⋯                NA\n",
       "2          2.91934891             31.840811 ⋯                NA\n",
       "3          6.71651216              7.724804 ⋯                NA\n",
       "4          0.08633409              2.140861 ⋯                NA\n",
       "5          0.46236716              1.197578 ⋯                NA\n",
       "6          4.13823597              4.502277 ⋯                NA\n",
       "  Prop_glob_Patients_low Prop_glob_Patients_med Prop_glob_Patients_up\n",
       "1                     NA                     NA                    NA\n",
       "2                     NA                     NA                    NA\n",
       "3                     NA                     NA                    NA\n",
       "4                     NA                     NA                    NA\n",
       "5                     NA                     NA                    NA\n",
       "6                     NA                     NA                    NA\n",
       "  Prop_NHI_RCTs_low Prop_NHI_RCTs_med Prop_NHI_RCTs_up Prop_NHI_Patients_low\n",
       "1                NA                NA               NA                    NA\n",
       "2                NA                NA               NA                    NA\n",
       "3                NA                NA               NA                    NA\n",
       "4                NA                NA               NA                    NA\n",
       "5                NA                NA               NA                    NA\n",
       "6                NA                NA               NA                    NA\n",
       "  Prop_NHI_Patients_med Prop_NHI_Patients_up\n",
       "1                    NA                   NA\n",
       "2                    NA                   NA\n",
       "3                    NA                   NA\n",
       "4                    NA                   NA\n",
       "5                    NA                   NA\n",
       "6                    NA                   NA"
      ]
     },
     "metadata": {},
     "output_type": "display_data"
    }
   ],
   "source": [
    "head(DT)"
   ]
  },
  {
   "cell_type": "code",
   "execution_count": 23,
   "metadata": {
    "collapsed": true
   },
   "outputs": [],
   "source": [
    "write.table(DT,\"../Data/All_data.txt\")"
   ]
  },
  {
   "cell_type": "code",
   "execution_count": 24,
   "metadata": {
    "collapsed": true
   },
   "outputs": [],
   "source": [
    "#Format\n",
    "form <- function(x,type=\"Prop\"){\n",
    "paste(format(round(x[2],1),nsmall = 1),\n",
    "           ifelse(type==\"Prop\",\"% [\",\" [\"),format(round(x[1],1),nsmall = 1),\n",
    "           \"-\",format(round(x[3],1),nsmall = 1),\"]\",sep=\"\")\n",
    "    }"
   ]
  },
  {
   "cell_type": "code",
   "execution_count": 25,
   "metadata": {
    "collapsed": false
   },
   "outputs": [],
   "source": [
    "#For a given region, disease and metric of burden and research, we give all data in a readable format\n",
    "readable_numbers <- function(r,d,metr_burden,metr_res){\n",
    "\n",
    "x <- DT[DT$Region==r & DT$Disease==d,c(\"Region\",\"Disease\",names(DT)[c(grep(metr_burden,names(DT)),grep(metr_res,names(DT)))])] \n",
    "    \n",
    "\n",
    "print(paste(\"In \",ifelse(r==\"All\",\"all regions\",r), \", \", \n",
    "            ifelse(d==\"All\",\"all diseases\",d), \" caused \", \n",
    "            round(x[grep(\"^burden\",names(x))]/1e6,1), \" million \", metr_burden, \"s\", sep=\"\"))\n",
    "\n",
    "print(paste(\"In \",ifelse(r==\"All\",\"all regions\",r), \", \", \n",
    "            ifelse(d==\"All\",\"all diseases\",d), \n",
    "            ifelse(metr_res==\"RCTs\",\" was studied by \",\" were enrolled \"), \n",
    "            form(x[grep(\"Nb_\",names(x))],\"Nb\"), \" \", metr_res,sep=\"\"))\n",
    "\n",
    "if(d!=\"All\"){\n",
    "    print(paste(\"In \",ifelse(r==\"All\",\"all regions\",r),\n",
    "                \": the local proportion of burden (in \",metr_burden,\") vs research (in \",\n",
    "                metr_res,\") of \",d,\" was \",\n",
    "                round(x[intersect(grep(metr_burden,names(x)),grep(\"Prop_loc\",names(x)))],1),\n",
    "                \"% vs \",\n",
    "                form(x[intersect(grep(metr_res,names(x)),grep(\"Prop_loc\",names(x)))]),sep=\"\"\n",
    "                ))\n",
    "    }\n",
    "\n",
    "if(r!=\"All\"){    \n",
    "    print(paste(\"For \",ifelse(d==\"All\",\"all diseases\",d),\n",
    "                \": the global proportion of burden (in \",metr_burden,\") vs research (in \",\n",
    "                metr_res,\") in \",r,\" was \",\n",
    "                round(x[intersect(grep(metr_burden,names(x)),grep(\"Prop_glob\",names(x)))],1),\n",
    "                \"% vs \",\n",
    "                form(x[intersect(grep(metr_res,names(x)),grep(\"Prop_glob\",names(x)))]),sep=\"\"\n",
    "                ))\n",
    "    }\n",
    "\n",
    "if(!r%in%c(\"All\",\"High-income\",\"Non-HI\")){\n",
    "    print(paste(\"For \",ifelse(d==\"All\",\"all diseases\",d),\n",
    "                \": the proportion among non-high-income regions of burden (in \",metr_burden,\n",
    "                \") vs research (in \",metr_res,\") in \",r,\" was \",\n",
    "                round(x[intersect(grep(metr_burden,names(x)),grep(\"Prop_NHI\",names(x)))],1),\n",
    "                \"% vs \",\n",
    "                form(x[intersect(grep(metr_res,names(x)),grep(\"Prop_NHI\",names(x)))]),sep=\"\"\n",
    "                ))\n",
    "    }\n",
    "\n",
    "}"
   ]
  },
  {
   "cell_type": "code",
   "execution_count": 26,
   "metadata": {
    "collapsed": false
   },
   "outputs": [
    {
     "name": "stdout",
     "output_type": "stream",
     "text": [
      "[1] \"In High-income, Neoplasms caused 43.3 million dalys\"\n",
      "[1] \"In High-income, Neoplasms was studied by 9501.0 [8803.0-10059.0] RCTs\"\n",
      "[1] \"In High-income: the local proportion of burden (in daly) vs research (in RCTs) of Neoplasms was 18.7% vs 14.1% [13.1-14.9]\"\n",
      "[1] \"For Neoplasms: the global proportion of burden (in daly) vs research (in RCTs) in High-income was 24.5% vs 79.0% [78.7-79.4]\"\n"
     ]
    }
   ],
   "source": [
    "readable_numbers(r = \"High-income\", d = \"Neoplasms\", metr_burden = \"daly\", metr_res = \"RCTs\")"
   ]
  },
  {
   "cell_type": "code",
   "execution_count": 27,
   "metadata": {
    "collapsed": false
   },
   "outputs": [
    {
     "name": "stdout",
     "output_type": "stream",
     "text": [
      "[1] \"In all regions, all diseases caused 2220.1 million dalys\"\n",
      "[1] \"In all regions, all diseases was studied by 82179.0 [78661.8-85358.2] RCTs\"\n"
     ]
    }
   ],
   "source": [
    "readable_numbers(r = \"All\", d = \"All\", metr_burden = \"daly\", metr_res = \"RCTs\")"
   ]
  },
  {
   "cell_type": "code",
   "execution_count": 28,
   "metadata": {
    "collapsed": false
   },
   "outputs": [
    {
     "data": {
      "text/html": [
       "<ol class=list-inline>\n",
       "\t<li>'All'</li>\n",
       "\t<li>'Cardiovascular and circulatory diseases'</li>\n",
       "\t<li>'Chronic respiratory diseases'</li>\n",
       "\t<li>'Cirrhosis of the liver'</li>\n",
       "\t<li>'Congenital anomalies'</li>\n",
       "\t<li>'Diabetes, urinary diseases and male infertility'</li>\n",
       "\t<li>'Diarrhea, lower respiratory infections, meningitis, and other common infectious diseases'</li>\n",
       "\t<li>'Digestive diseases (except cirrhosis)'</li>\n",
       "\t<li>'Gynecological diseases'</li>\n",
       "\t<li>'Hemoglobinopathies and hemolytic anemias'</li>\n",
       "\t<li>'Hepatitis'</li>\n",
       "\t<li>'HIV/AIDS'</li>\n",
       "\t<li>'Leprosy'</li>\n",
       "\t<li>'Malaria'</li>\n",
       "\t<li>'Maternal disorders'</li>\n",
       "\t<li>'Mental and behavioral disorders'</li>\n",
       "\t<li>'Musculoskeletal disorders'</li>\n",
       "\t<li>'Neglected tropical diseases excluding malaria'</li>\n",
       "\t<li>'Neonatal disorders'</li>\n",
       "\t<li>'Neoplasms'</li>\n",
       "\t<li>'Neurological disorders'</li>\n",
       "\t<li>'Nutritional deficiencies'</li>\n",
       "\t<li>'Oral disorders'</li>\n",
       "\t<li>'Sense organ diseases'</li>\n",
       "\t<li>'Sexually transmitted diseases excluding HIV'</li>\n",
       "\t<li>'Skin and subcutaneous diseases'</li>\n",
       "\t<li>'Sudden infant death syndrome'</li>\n",
       "\t<li>'Tuberculosis'</li>\n",
       "</ol>\n"
      ],
      "text/latex": [
       "\\begin{enumerate*}\n",
       "\\item 'All'\n",
       "\\item 'Cardiovascular and circulatory diseases'\n",
       "\\item 'Chronic respiratory diseases'\n",
       "\\item 'Cirrhosis of the liver'\n",
       "\\item 'Congenital anomalies'\n",
       "\\item 'Diabetes, urinary diseases and male infertility'\n",
       "\\item 'Diarrhea, lower respiratory infections, meningitis, and other common infectious diseases'\n",
       "\\item 'Digestive diseases (except cirrhosis)'\n",
       "\\item 'Gynecological diseases'\n",
       "\\item 'Hemoglobinopathies and hemolytic anemias'\n",
       "\\item 'Hepatitis'\n",
       "\\item 'HIV/AIDS'\n",
       "\\item 'Leprosy'\n",
       "\\item 'Malaria'\n",
       "\\item 'Maternal disorders'\n",
       "\\item 'Mental and behavioral disorders'\n",
       "\\item 'Musculoskeletal disorders'\n",
       "\\item 'Neglected tropical diseases excluding malaria'\n",
       "\\item 'Neonatal disorders'\n",
       "\\item 'Neoplasms'\n",
       "\\item 'Neurological disorders'\n",
       "\\item 'Nutritional deficiencies'\n",
       "\\item 'Oral disorders'\n",
       "\\item 'Sense organ diseases'\n",
       "\\item 'Sexually transmitted diseases excluding HIV'\n",
       "\\item 'Skin and subcutaneous diseases'\n",
       "\\item 'Sudden infant death syndrome'\n",
       "\\item 'Tuberculosis'\n",
       "\\end{enumerate*}\n"
      ],
      "text/markdown": [
       "1. 'All'\n",
       "2. 'Cardiovascular and circulatory diseases'\n",
       "3. 'Chronic respiratory diseases'\n",
       "4. 'Cirrhosis of the liver'\n",
       "5. 'Congenital anomalies'\n",
       "6. 'Diabetes, urinary diseases and male infertility'\n",
       "7. 'Diarrhea, lower respiratory infections, meningitis, and other common infectious diseases'\n",
       "8. 'Digestive diseases (except cirrhosis)'\n",
       "9. 'Gynecological diseases'\n",
       "10. 'Hemoglobinopathies and hemolytic anemias'\n",
       "11. 'Hepatitis'\n",
       "12. 'HIV/AIDS'\n",
       "13. 'Leprosy'\n",
       "14. 'Malaria'\n",
       "15. 'Maternal disorders'\n",
       "16. 'Mental and behavioral disorders'\n",
       "17. 'Musculoskeletal disorders'\n",
       "18. 'Neglected tropical diseases excluding malaria'\n",
       "19. 'Neonatal disorders'\n",
       "20. 'Neoplasms'\n",
       "21. 'Neurological disorders'\n",
       "22. 'Nutritional deficiencies'\n",
       "23. 'Oral disorders'\n",
       "24. 'Sense organ diseases'\n",
       "25. 'Sexually transmitted diseases excluding HIV'\n",
       "26. 'Skin and subcutaneous diseases'\n",
       "27. 'Sudden infant death syndrome'\n",
       "28. 'Tuberculosis'\n",
       "\n",
       "\n"
      ],
      "text/plain": [
       " [1] \"All\"                                                                                     \n",
       " [2] \"Cardiovascular and circulatory diseases\"                                                 \n",
       " [3] \"Chronic respiratory diseases\"                                                            \n",
       " [4] \"Cirrhosis of the liver\"                                                                  \n",
       " [5] \"Congenital anomalies\"                                                                    \n",
       " [6] \"Diabetes, urinary diseases and male infertility\"                                         \n",
       " [7] \"Diarrhea, lower respiratory infections, meningitis, and other common infectious diseases\"\n",
       " [8] \"Digestive diseases (except cirrhosis)\"                                                   \n",
       " [9] \"Gynecological diseases\"                                                                  \n",
       "[10] \"Hemoglobinopathies and hemolytic anemias\"                                                \n",
       "[11] \"Hepatitis\"                                                                               \n",
       "[12] \"HIV/AIDS\"                                                                                \n",
       "[13] \"Leprosy\"                                                                                 \n",
       "[14] \"Malaria\"                                                                                 \n",
       "[15] \"Maternal disorders\"                                                                      \n",
       "[16] \"Mental and behavioral disorders\"                                                         \n",
       "[17] \"Musculoskeletal disorders\"                                                               \n",
       "[18] \"Neglected tropical diseases excluding malaria\"                                           \n",
       "[19] \"Neonatal disorders\"                                                                      \n",
       "[20] \"Neoplasms\"                                                                               \n",
       "[21] \"Neurological disorders\"                                                                  \n",
       "[22] \"Nutritional deficiencies\"                                                                \n",
       "[23] \"Oral disorders\"                                                                          \n",
       "[24] \"Sense organ diseases\"                                                                    \n",
       "[25] \"Sexually transmitted diseases excluding HIV\"                                             \n",
       "[26] \"Skin and subcutaneous diseases\"                                                          \n",
       "[27] \"Sudden infant death syndrome\"                                                            \n",
       "[28] \"Tuberculosis\"                                                                            "
      ]
     },
     "metadata": {},
     "output_type": "display_data"
    }
   ],
   "source": [
    "levels(DT$Disease)"
   ]
  },
  {
   "cell_type": "code",
   "execution_count": 29,
   "metadata": {
    "collapsed": false
   },
   "outputs": [
    {
     "name": "stdout",
     "output_type": "stream",
     "text": [
      "[1] \"In all regions, Diarrhea, lower respiratory infections, meningitis, and other common infectious diseases caused 329.3 million dalys\"\n",
      "[1] \"In all regions, Diarrhea, lower respiratory infections, meningitis, and other common infectious diseases was studied by 3497.0 [2855.0-4273.0] RCTs\"\n",
      "[1] \"In all regions: the local proportion of burden (in daly) vs research (in RCTs) of Diarrhea, lower respiratory infections, meningitis, and other common infectious diseases was 14.8% vs 4.2% [3.4-5.2]\"\n"
     ]
    }
   ],
   "source": [
    "readable_numbers(r = \"All\", \n",
    "                 d = \"Diarrhea, lower respiratory infections, meningitis, and other common infectious diseases\", \n",
    "                 metr_burden = \"daly\", \n",
    "                 metr_res = \"RCTs\")"
   ]
  },
  {
   "cell_type": "code",
   "execution_count": 30,
   "metadata": {
    "collapsed": false
   },
   "outputs": [
    {
     "name": "stdout",
     "output_type": "stream",
     "text": [
      "[1] \"In all regions, Neonatal disorders caused 220.3 million dalys\"\n",
      "[1] \"In all regions, Neonatal disorders was studied by 1424.0 [639.0-3612.8] RCTs\"\n",
      "[1] \"In all regions: the local proportion of burden (in daly) vs research (in RCTs) of Neonatal disorders was 9.9% vs 1.7% [0.8-4.3]\"\n"
     ]
    }
   ],
   "source": [
    "readable_numbers(r = \"All\", \n",
    "                 d = \"Neonatal disorders\", \n",
    "                 metr_burden = \"daly\", \n",
    "                 metr_res = \"RCTs\")"
   ]
  }
 ],
 "metadata": {
  "kernelspec": {
   "display_name": "R",
   "language": "R",
   "name": "ir"
  },
  "language_info": {
   "codemirror_mode": "r",
   "file_extension": ".r",
   "mimetype": "text/x-r-source",
   "name": "R",
   "pygments_lexer": "r",
   "version": "3.3.1"
  }
 },
 "nbformat": 4,
 "nbformat_minor": 1
}
