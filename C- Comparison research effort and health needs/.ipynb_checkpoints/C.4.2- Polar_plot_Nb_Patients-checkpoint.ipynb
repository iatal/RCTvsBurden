{
 "cells": [
  {
   "cell_type": "code",
   "execution_count": 1,
   "metadata": {
    "collapsed": false
   },
   "outputs": [
    {
     "name": "stderr",
     "output_type": "stream",
     "text": [
      "gdata: read.xls support for 'XLS' (Excel 97-2004) files ENABLED.\n",
      "\n",
      "gdata: read.xls support for 'XLSX' (Excel 2007+) files ENABLED.\n",
      "\n",
      "Attaching package: ‘gdata’\n",
      "\n",
      "The following object is masked from ‘package:stats’:\n",
      "\n",
      "    nobs\n",
      "\n",
      "The following object is masked from ‘package:utils’:\n",
      "\n",
      "    object.size\n",
      "\n",
      "The following object is masked from ‘package:base’:\n",
      "\n",
      "    startsWith\n",
      "\n"
     ]
    }
   ],
   "source": [
    "library(ggplot2)\n",
    "library(gdata)"
   ]
  },
  {
   "cell_type": "code",
   "execution_count": 2,
   "metadata": {
    "collapsed": false
   },
   "outputs": [],
   "source": [
    "D <- read.table(\"../Data/All_data.txt\")\n",
    "D <- D[order(D$Region,D$Disease),]"
   ]
  },
  {
   "cell_type": "code",
   "execution_count": 3,
   "metadata": {
    "collapsed": false
   },
   "outputs": [
    {
     "data": {
      "text/html": [
       "<ol class=list-inline>\n",
       "\t<li>'Region'</li>\n",
       "\t<li>'Disease'</li>\n",
       "\t<li>'burden_daly'</li>\n",
       "\t<li>'burden_yll'</li>\n",
       "\t<li>'burden_yld'</li>\n",
       "\t<li>'burden_death'</li>\n",
       "\t<li>'Prop_loc_burden_daly'</li>\n",
       "\t<li>'Prop_loc_burden_yll'</li>\n",
       "\t<li>'Prop_loc_burden_yld'</li>\n",
       "\t<li>'Prop_loc_burden_death'</li>\n",
       "\t<li>'Prop_glob_burden_daly'</li>\n",
       "\t<li>'Prop_glob_burden_yll'</li>\n",
       "\t<li>'Prop_glob_burden_yld'</li>\n",
       "\t<li>'Prop_glob_burden_death'</li>\n",
       "\t<li>'Prop_NHI_burden_daly'</li>\n",
       "\t<li>'Prop_NHI_burden_yll'</li>\n",
       "\t<li>'Prop_NHI_burden_yld'</li>\n",
       "\t<li>'Prop_NHI_burden_death'</li>\n",
       "\t<li>'Nb_RCTs_low'</li>\n",
       "\t<li>'Nb_RCTs_med'</li>\n",
       "\t<li>'Nb_RCTs_up'</li>\n",
       "\t<li>'Nb_Patients_low'</li>\n",
       "\t<li>'Nb_Patients_med'</li>\n",
       "\t<li>'Nb_Patients_up'</li>\n",
       "\t<li>'Prop_loc_RCTs_low'</li>\n",
       "\t<li>'Prop_loc_RCTs_med'</li>\n",
       "\t<li>'Prop_loc_RCTs_up'</li>\n",
       "\t<li>'Prop_loc_Patients_low'</li>\n",
       "\t<li>'Prop_loc_Patients_med'</li>\n",
       "\t<li>'Prop_loc_Patients_up'</li>\n",
       "\t<li>'Prop_glob_RCTs_low'</li>\n",
       "\t<li>'Prop_glob_RCTs_med'</li>\n",
       "\t<li>'Prop_glob_RCTs_up'</li>\n",
       "\t<li>'Prop_glob_Patients_low'</li>\n",
       "\t<li>'Prop_glob_Patients_med'</li>\n",
       "\t<li>'Prop_glob_Patients_up'</li>\n",
       "\t<li>'Prop_NHI_RCTs_low'</li>\n",
       "\t<li>'Prop_NHI_RCTs_med'</li>\n",
       "\t<li>'Prop_NHI_RCTs_up'</li>\n",
       "\t<li>'Prop_NHI_Patients_low'</li>\n",
       "\t<li>'Prop_NHI_Patients_med'</li>\n",
       "\t<li>'Prop_NHI_Patients_up'</li>\n",
       "</ol>\n"
      ],
      "text/latex": [
       "\\begin{enumerate*}\n",
       "\\item 'Region'\n",
       "\\item 'Disease'\n",
       "\\item 'burden\\_daly'\n",
       "\\item 'burden\\_yll'\n",
       "\\item 'burden\\_yld'\n",
       "\\item 'burden\\_death'\n",
       "\\item 'Prop\\_loc\\_burden\\_daly'\n",
       "\\item 'Prop\\_loc\\_burden\\_yll'\n",
       "\\item 'Prop\\_loc\\_burden\\_yld'\n",
       "\\item 'Prop\\_loc\\_burden\\_death'\n",
       "\\item 'Prop\\_glob\\_burden\\_daly'\n",
       "\\item 'Prop\\_glob\\_burden\\_yll'\n",
       "\\item 'Prop\\_glob\\_burden\\_yld'\n",
       "\\item 'Prop\\_glob\\_burden\\_death'\n",
       "\\item 'Prop\\_NHI\\_burden\\_daly'\n",
       "\\item 'Prop\\_NHI\\_burden\\_yll'\n",
       "\\item 'Prop\\_NHI\\_burden\\_yld'\n",
       "\\item 'Prop\\_NHI\\_burden\\_death'\n",
       "\\item 'Nb\\_RCTs\\_low'\n",
       "\\item 'Nb\\_RCTs\\_med'\n",
       "\\item 'Nb\\_RCTs\\_up'\n",
       "\\item 'Nb\\_Patients\\_low'\n",
       "\\item 'Nb\\_Patients\\_med'\n",
       "\\item 'Nb\\_Patients\\_up'\n",
       "\\item 'Prop\\_loc\\_RCTs\\_low'\n",
       "\\item 'Prop\\_loc\\_RCTs\\_med'\n",
       "\\item 'Prop\\_loc\\_RCTs\\_up'\n",
       "\\item 'Prop\\_loc\\_Patients\\_low'\n",
       "\\item 'Prop\\_loc\\_Patients\\_med'\n",
       "\\item 'Prop\\_loc\\_Patients\\_up'\n",
       "\\item 'Prop\\_glob\\_RCTs\\_low'\n",
       "\\item 'Prop\\_glob\\_RCTs\\_med'\n",
       "\\item 'Prop\\_glob\\_RCTs\\_up'\n",
       "\\item 'Prop\\_glob\\_Patients\\_low'\n",
       "\\item 'Prop\\_glob\\_Patients\\_med'\n",
       "\\item 'Prop\\_glob\\_Patients\\_up'\n",
       "\\item 'Prop\\_NHI\\_RCTs\\_low'\n",
       "\\item 'Prop\\_NHI\\_RCTs\\_med'\n",
       "\\item 'Prop\\_NHI\\_RCTs\\_up'\n",
       "\\item 'Prop\\_NHI\\_Patients\\_low'\n",
       "\\item 'Prop\\_NHI\\_Patients\\_med'\n",
       "\\item 'Prop\\_NHI\\_Patients\\_up'\n",
       "\\end{enumerate*}\n"
      ],
      "text/markdown": [
       "1. 'Region'\n",
       "2. 'Disease'\n",
       "3. 'burden_daly'\n",
       "4. 'burden_yll'\n",
       "5. 'burden_yld'\n",
       "6. 'burden_death'\n",
       "7. 'Prop_loc_burden_daly'\n",
       "8. 'Prop_loc_burden_yll'\n",
       "9. 'Prop_loc_burden_yld'\n",
       "10. 'Prop_loc_burden_death'\n",
       "11. 'Prop_glob_burden_daly'\n",
       "12. 'Prop_glob_burden_yll'\n",
       "13. 'Prop_glob_burden_yld'\n",
       "14. 'Prop_glob_burden_death'\n",
       "15. 'Prop_NHI_burden_daly'\n",
       "16. 'Prop_NHI_burden_yll'\n",
       "17. 'Prop_NHI_burden_yld'\n",
       "18. 'Prop_NHI_burden_death'\n",
       "19. 'Nb_RCTs_low'\n",
       "20. 'Nb_RCTs_med'\n",
       "21. 'Nb_RCTs_up'\n",
       "22. 'Nb_Patients_low'\n",
       "23. 'Nb_Patients_med'\n",
       "24. 'Nb_Patients_up'\n",
       "25. 'Prop_loc_RCTs_low'\n",
       "26. 'Prop_loc_RCTs_med'\n",
       "27. 'Prop_loc_RCTs_up'\n",
       "28. 'Prop_loc_Patients_low'\n",
       "29. 'Prop_loc_Patients_med'\n",
       "30. 'Prop_loc_Patients_up'\n",
       "31. 'Prop_glob_RCTs_low'\n",
       "32. 'Prop_glob_RCTs_med'\n",
       "33. 'Prop_glob_RCTs_up'\n",
       "34. 'Prop_glob_Patients_low'\n",
       "35. 'Prop_glob_Patients_med'\n",
       "36. 'Prop_glob_Patients_up'\n",
       "37. 'Prop_NHI_RCTs_low'\n",
       "38. 'Prop_NHI_RCTs_med'\n",
       "39. 'Prop_NHI_RCTs_up'\n",
       "40. 'Prop_NHI_Patients_low'\n",
       "41. 'Prop_NHI_Patients_med'\n",
       "42. 'Prop_NHI_Patients_up'\n",
       "\n",
       "\n"
      ],
      "text/plain": [
       " [1] \"Region\"                 \"Disease\"                \"burden_daly\"           \n",
       " [4] \"burden_yll\"             \"burden_yld\"             \"burden_death\"          \n",
       " [7] \"Prop_loc_burden_daly\"   \"Prop_loc_burden_yll\"    \"Prop_loc_burden_yld\"   \n",
       "[10] \"Prop_loc_burden_death\"  \"Prop_glob_burden_daly\"  \"Prop_glob_burden_yll\"  \n",
       "[13] \"Prop_glob_burden_yld\"   \"Prop_glob_burden_death\" \"Prop_NHI_burden_daly\"  \n",
       "[16] \"Prop_NHI_burden_yll\"    \"Prop_NHI_burden_yld\"    \"Prop_NHI_burden_death\" \n",
       "[19] \"Nb_RCTs_low\"            \"Nb_RCTs_med\"            \"Nb_RCTs_up\"            \n",
       "[22] \"Nb_Patients_low\"        \"Nb_Patients_med\"        \"Nb_Patients_up\"        \n",
       "[25] \"Prop_loc_RCTs_low\"      \"Prop_loc_RCTs_med\"      \"Prop_loc_RCTs_up\"      \n",
       "[28] \"Prop_loc_Patients_low\"  \"Prop_loc_Patients_med\"  \"Prop_loc_Patients_up\"  \n",
       "[31] \"Prop_glob_RCTs_low\"     \"Prop_glob_RCTs_med\"     \"Prop_glob_RCTs_up\"     \n",
       "[34] \"Prop_glob_Patients_low\" \"Prop_glob_Patients_med\" \"Prop_glob_Patients_up\" \n",
       "[37] \"Prop_NHI_RCTs_low\"      \"Prop_NHI_RCTs_med\"      \"Prop_NHI_RCTs_up\"      \n",
       "[40] \"Prop_NHI_Patients_low\"  \"Prop_NHI_Patients_med\"  \"Prop_NHI_Patients_up\"  "
      ]
     },
     "metadata": {},
     "output_type": "display_data"
    }
   ],
   "source": [
    "names(D)"
   ]
  },
  {
   "cell_type": "code",
   "execution_count": 4,
   "metadata": {
    "collapsed": true
   },
   "outputs": [],
   "source": [
    "metr_burden <- \"daly\"\n",
    "metr_res <- \"Patients\""
   ]
  },
  {
   "cell_type": "code",
   "execution_count": 5,
   "metadata": {
    "collapsed": false
   },
   "outputs": [],
   "source": [
    "#We compare RCTs to DALYs\n",
    "dpl <- D[D$Region!=\"Non-HI\",\n",
    "          c(which(names(D)%in%c(\"Region\",\"Disease\")),\n",
    "            intersect(grep(metr_burden,names(D)),grep(\"^burden\",names(D))),\n",
    "            intersect(grep(metr_res,names(D)),grep(\"^Nb\",names(D)))),]"
   ]
  },
  {
   "cell_type": "code",
   "execution_count": 6,
   "metadata": {
    "collapsed": false
   },
   "outputs": [
    {
     "data": {
      "text/html": [
       "<table>\n",
       "<thead><tr><th></th><th scope=col>Region</th><th scope=col>Disease</th><th scope=col>burden_daly</th><th scope=col>Nb_Patients_low</th><th scope=col>Nb_Patients_med</th><th scope=col>Nb_Patients_up</th></tr></thead>\n",
       "<tbody>\n",
       "\t<tr><th scope=row>1</th><td>All             </td><td>All             </td><td>2220063510.80076</td><td>28545370.475    </td><td>30082791        </td><td>31513723.075    </td></tr>\n",
       "\t<tr><th scope=row>2</th><td>All                                    </td><td>Cardiovascular and circulatory diseases</td><td>287404109.09231                        </td><td>4161522.95                             </td><td>4775668                                </td><td>5435620.325                            </td></tr>\n",
       "\t<tr><th scope=row>3</th><td>All                         </td><td>Chronic respiratory diseases</td><td>112485355.22285             </td><td>1338206.35                  </td><td>1560048.5                   </td><td>1813807.675                 </td></tr>\n",
       "\t<tr><th scope=row>4</th><td>All                   </td><td>Cirrhosis of the liver</td><td>30462721.1164         </td><td>139002.125            </td><td>352394                </td><td>599427.35             </td></tr>\n",
       "\t<tr><th scope=row>5</th><td>All                 </td><td>Congenital anomalies</td><td>43254504.439        </td><td>12581.675           </td><td>119546              </td><td>380584.875          </td></tr>\n",
       "\t<tr><th scope=row>6</th><td>All                                            </td><td>Diabetes, urinary diseases and male infertility</td><td>75821480.094146                                </td><td>3616561.375                                    </td><td>4123023.5                                      </td><td>4694087.55                                     </td></tr>\n",
       "</tbody>\n",
       "</table>\n"
      ],
      "text/latex": [
       "\\begin{tabular}{r|llllll}\n",
       "  & Region & Disease & burden\\_daly & Nb\\_Patients\\_low & Nb\\_Patients\\_med & Nb\\_Patients\\_up\\\\\n",
       "\\hline\n",
       "\t1 & All              & All              & 2220063510.80076 & 28545370.475     & 30082791         & 31513723.075    \\\\\n",
       "\t2 & All                                     & Cardiovascular and circulatory diseases & 287404109.09231                         & 4161522.95                              & 4775668                                 & 5435620.325                            \\\\\n",
       "\t3 & All                          & Chronic respiratory diseases & 112485355.22285              & 1338206.35                   & 1560048.5                    & 1813807.675                 \\\\\n",
       "\t4 & All                    & Cirrhosis of the liver & 30462721.1164          & 139002.125             & 352394                 & 599427.35             \\\\\n",
       "\t5 & All                  & Congenital anomalies & 43254504.439         & 12581.675            & 119546               & 380584.875          \\\\\n",
       "\t6 & All                                             & Diabetes, urinary diseases and male infertility & 75821480.094146                                 & 3616561.375                                     & 4123023.5                                       & 4694087.55                                     \\\\\n",
       "\\end{tabular}\n"
      ],
      "text/plain": [
       "  Region                                         Disease burden_daly\n",
       "1    All                                             All  2220063511\n",
       "2    All         Cardiovascular and circulatory diseases   287404109\n",
       "3    All                    Chronic respiratory diseases   112485355\n",
       "4    All                          Cirrhosis of the liver    30462721\n",
       "5    All                            Congenital anomalies    43254504\n",
       "6    All Diabetes, urinary diseases and male infertility    75821480\n",
       "  Nb_Patients_low Nb_Patients_med Nb_Patients_up\n",
       "1     28545370.48        30082791     31513723.1\n",
       "2      4161522.95         4775668      5435620.3\n",
       "3      1338206.35         1560048      1813807.7\n",
       "4       139002.12          352394       599427.3\n",
       "5        12581.67          119546       380584.9\n",
       "6      3616561.38         4123024      4694087.5"
      ]
     },
     "metadata": {},
     "output_type": "display_data"
    }
   ],
   "source": [
    "head(dpl)"
   ]
  },
  {
   "cell_type": "code",
   "execution_count": 7,
   "metadata": {
    "collapsed": true
   },
   "outputs": [],
   "source": [
    "#Order diseases: increasing burden\n",
    "dis <- dpl$Disease[dpl$Region==\"All\"][order(dpl$burden[dpl$Region==\"All\"])]"
   ]
  },
  {
   "cell_type": "code",
   "execution_count": 8,
   "metadata": {
    "collapsed": false
   },
   "outputs": [
    {
     "data": {
      "text/html": [
       "<ol class=list-inline>\n",
       "\t<li>Leprosy</li>\n",
       "\t<li>Sudden infant death syndrome</li>\n",
       "\t<li>Gynecological diseases</li>\n",
       "\t<li>Hepatitis</li>\n",
       "\t<li>Sexually transmitted diseases excluding HIV</li>\n",
       "\t<li>Oral disorders</li>\n",
       "\t<li>Hemoglobinopathies and hemolytic anemias</li>\n",
       "\t<li>Maternal disorders</li>\n",
       "\t<li>Neglected tropical diseases excluding malaria</li>\n",
       "\t<li>Cirrhosis of the liver</li>\n",
       "\t<li>Sense organ diseases</li>\n",
       "\t<li>Digestive diseases (except cirrhosis)</li>\n",
       "\t<li>Skin and subcutaneous diseases</li>\n",
       "\t<li>Congenital anomalies</li>\n",
       "\t<li>Tuberculosis</li>\n",
       "\t<li>Neurological disorders</li>\n",
       "\t<li>Diabetes, urinary diseases and male infertility</li>\n",
       "\t<li>Nutritional deficiencies</li>\n",
       "\t<li>HIV/AIDS</li>\n",
       "\t<li>Malaria</li>\n",
       "\t<li>Chronic respiratory diseases</li>\n",
       "\t<li>Musculoskeletal disorders</li>\n",
       "\t<li>Mental and behavioral disorders</li>\n",
       "\t<li>Neoplasms</li>\n",
       "\t<li>Neonatal disorders</li>\n",
       "\t<li>Cardiovascular and circulatory diseases</li>\n",
       "\t<li>Diarrhea, lower respiratory infections, meningitis, and other common infectious diseases</li>\n",
       "\t<li>All</li>\n",
       "</ol>\n"
      ],
      "text/latex": [
       "\\begin{enumerate*}\n",
       "\\item Leprosy\n",
       "\\item Sudden infant death syndrome\n",
       "\\item Gynecological diseases\n",
       "\\item Hepatitis\n",
       "\\item Sexually transmitted diseases excluding HIV\n",
       "\\item Oral disorders\n",
       "\\item Hemoglobinopathies and hemolytic anemias\n",
       "\\item Maternal disorders\n",
       "\\item Neglected tropical diseases excluding malaria\n",
       "\\item Cirrhosis of the liver\n",
       "\\item Sense organ diseases\n",
       "\\item Digestive diseases (except cirrhosis)\n",
       "\\item Skin and subcutaneous diseases\n",
       "\\item Congenital anomalies\n",
       "\\item Tuberculosis\n",
       "\\item Neurological disorders\n",
       "\\item Diabetes, urinary diseases and male infertility\n",
       "\\item Nutritional deficiencies\n",
       "\\item HIV/AIDS\n",
       "\\item Malaria\n",
       "\\item Chronic respiratory diseases\n",
       "\\item Musculoskeletal disorders\n",
       "\\item Mental and behavioral disorders\n",
       "\\item Neoplasms\n",
       "\\item Neonatal disorders\n",
       "\\item Cardiovascular and circulatory diseases\n",
       "\\item Diarrhea, lower respiratory infections, meningitis, and other common infectious diseases\n",
       "\\item All\n",
       "\\end{enumerate*}\n"
      ],
      "text/markdown": [
       "1. Leprosy\n",
       "2. Sudden infant death syndrome\n",
       "3. Gynecological diseases\n",
       "4. Hepatitis\n",
       "5. Sexually transmitted diseases excluding HIV\n",
       "6. Oral disorders\n",
       "7. Hemoglobinopathies and hemolytic anemias\n",
       "8. Maternal disorders\n",
       "9. Neglected tropical diseases excluding malaria\n",
       "10. Cirrhosis of the liver\n",
       "11. Sense organ diseases\n",
       "12. Digestive diseases (except cirrhosis)\n",
       "13. Skin and subcutaneous diseases\n",
       "14. Congenital anomalies\n",
       "15. Tuberculosis\n",
       "16. Neurological disorders\n",
       "17. Diabetes, urinary diseases and male infertility\n",
       "18. Nutritional deficiencies\n",
       "19. HIV/AIDS\n",
       "20. Malaria\n",
       "21. Chronic respiratory diseases\n",
       "22. Musculoskeletal disorders\n",
       "23. Mental and behavioral disorders\n",
       "24. Neoplasms\n",
       "25. Neonatal disorders\n",
       "26. Cardiovascular and circulatory diseases\n",
       "27. Diarrhea, lower respiratory infections, meningitis, and other common infectious diseases\n",
       "28. All\n",
       "\n",
       "\n"
      ],
      "text/plain": [
       " [1] Leprosy                                                                                 \n",
       " [2] Sudden infant death syndrome                                                            \n",
       " [3] Gynecological diseases                                                                  \n",
       " [4] Hepatitis                                                                               \n",
       " [5] Sexually transmitted diseases excluding HIV                                             \n",
       " [6] Oral disorders                                                                          \n",
       " [7] Hemoglobinopathies and hemolytic anemias                                                \n",
       " [8] Maternal disorders                                                                      \n",
       " [9] Neglected tropical diseases excluding malaria                                           \n",
       "[10] Cirrhosis of the liver                                                                  \n",
       "[11] Sense organ diseases                                                                    \n",
       "[12] Digestive diseases (except cirrhosis)                                                   \n",
       "[13] Skin and subcutaneous diseases                                                          \n",
       "[14] Congenital anomalies                                                                    \n",
       "[15] Tuberculosis                                                                            \n",
       "[16] Neurological disorders                                                                  \n",
       "[17] Diabetes, urinary diseases and male infertility                                         \n",
       "[18] Nutritional deficiencies                                                                \n",
       "[19] HIV/AIDS                                                                                \n",
       "[20] Malaria                                                                                 \n",
       "[21] Chronic respiratory diseases                                                            \n",
       "[22] Musculoskeletal disorders                                                               \n",
       "[23] Mental and behavioral disorders                                                         \n",
       "[24] Neoplasms                                                                               \n",
       "[25] Neonatal disorders                                                                      \n",
       "[26] Cardiovascular and circulatory diseases                                                 \n",
       "[27] Diarrhea, lower respiratory infections, meningitis, and other common infectious diseases\n",
       "[28] All                                                                                     \n",
       "28 Levels: All ... Tuberculosis"
      ]
     },
     "metadata": {},
     "output_type": "display_data"
    }
   ],
   "source": [
    "dis"
   ]
  },
  {
   "cell_type": "code",
   "execution_count": 9,
   "metadata": {
    "collapsed": true
   },
   "outputs": [],
   "source": [
    "dis <- dis[dis!=\"All\"]"
   ]
  },
  {
   "cell_type": "code",
   "execution_count": 10,
   "metadata": {
    "collapsed": true
   },
   "outputs": [],
   "source": [
    "#Number of RCTs per region\n",
    "regs <- dpl$Region[dpl$Disease==\"All\"][order(dpl[dpl$Disease==\"All\",grep(\"med\",names(dpl))],\n",
    "                                                decreasing=TRUE)]"
   ]
  },
  {
   "cell_type": "code",
   "execution_count": 11,
   "metadata": {
    "collapsed": false
   },
   "outputs": [
    {
     "data": {
      "text/html": [
       "<ol class=list-inline>\n",
       "\t<li>All</li>\n",
       "\t<li>High-income</li>\n",
       "\t<li>Sub-Saharian Africa</li>\n",
       "\t<li>Southeast Asia, East Asia and Oceania</li>\n",
       "\t<li>South Asia</li>\n",
       "\t<li>Central Europe, Eastern Europe, and Central Asia</li>\n",
       "\t<li>Latin America and Caribbean</li>\n",
       "\t<li>North Africa and Middle East</li>\n",
       "</ol>\n"
      ],
      "text/latex": [
       "\\begin{enumerate*}\n",
       "\\item All\n",
       "\\item High-income\n",
       "\\item Sub-Saharian Africa\n",
       "\\item Southeast Asia, East Asia and Oceania\n",
       "\\item South Asia\n",
       "\\item Central Europe, Eastern Europe, and Central Asia\n",
       "\\item Latin America and Caribbean\n",
       "\\item North Africa and Middle East\n",
       "\\end{enumerate*}\n"
      ],
      "text/markdown": [
       "1. All\n",
       "2. High-income\n",
       "3. Sub-Saharian Africa\n",
       "4. Southeast Asia, East Asia and Oceania\n",
       "5. South Asia\n",
       "6. Central Europe, Eastern Europe, and Central Asia\n",
       "7. Latin America and Caribbean\n",
       "8. North Africa and Middle East\n",
       "\n",
       "\n"
      ],
      "text/plain": [
       "[1] All                                             \n",
       "[2] High-income                                     \n",
       "[3] Sub-Saharian Africa                             \n",
       "[4] Southeast Asia, East Asia and Oceania           \n",
       "[5] South Asia                                      \n",
       "[6] Central Europe, Eastern Europe, and Central Asia\n",
       "[7] Latin America and Caribbean                     \n",
       "[8] North Africa and Middle East                    \n",
       "9 Levels: All Central Europe, Eastern Europe, and Central Asia ... Sub-Saharian Africa"
      ]
     },
     "metadata": {},
     "output_type": "display_data"
    }
   ],
   "source": [
    "regs"
   ]
  },
  {
   "cell_type": "code",
   "execution_count": 12,
   "metadata": {
    "collapsed": true
   },
   "outputs": [],
   "source": [
    "regs <- regs[regs!=\"All\"]"
   ]
  },
  {
   "cell_type": "code",
   "execution_count": 13,
   "metadata": {
    "collapsed": false
   },
   "outputs": [],
   "source": [
    "#Region labels\n",
    "reg_labs <- c(\"High-income countries\",\n",
    "              \"Sub-Saharian\\nAfrica\",\n",
    "              \"Southeast Asia,\\nEast Asia and Oceania\",\n",
    "              \"South Asia\",\n",
    "              \"Eastern Europe\\nand Central Asia\",              \n",
    "              \"Latin America\\nand Caribbean\", \n",
    "              \"North Africa and\\nMiddle East\"\n",
    "              )"
   ]
  },
  {
   "cell_type": "code",
   "execution_count": 14,
   "metadata": {
    "collapsed": true
   },
   "outputs": [],
   "source": [
    "dpl <- dpl[dpl$Region!=\"All\" & dpl$Disease!=\"All\",]"
   ]
  },
  {
   "cell_type": "code",
   "execution_count": 15,
   "metadata": {
    "collapsed": true
   },
   "outputs": [],
   "source": [
    "#Normalizing regions: max RCts = max GBD\n",
    "Norm_fact <- max(dpl[,grep(\"up\",names(dpl))],na.rm=TRUE)/max(dpl$burden)\n",
    "dpl$gpl <- (dpl$burden/max(dpl$burden))*max(dpl[,grep(\"up\",names(dpl))],na.rm=TRUE)"
   ]
  },
  {
   "cell_type": "code",
   "execution_count": 16,
   "metadata": {
    "collapsed": true
   },
   "outputs": [],
   "source": [
    "#Bar size = wdt*2\n",
    "wdt <- 0.45\n",
    "#Distance between regions (end to end)\n",
    "d_reg <- 400*0.5*1e3\n",
    "#Distance between center of region and start of bars (for disease labels)\n",
    "esp_dis_nb <- 200*0.5*1e3\n",
    "#Inner circle\n",
    "IC <- 8"
   ]
  },
  {
   "cell_type": "code",
   "execution_count": 17,
   "metadata": {
    "collapsed": true
   },
   "outputs": [],
   "source": [
    "#Rectangles for a given region and disease\n",
    "#Rg = central position of region\n",
    "#d = name of the disease\n",
    "#rg = name of the region\n",
    "displt <- \n",
    "function(d,Rg,rg){\n",
    "res_pl <- data.frame(  xmin = which(d==dis)-wdt,\n",
    "                       xmax = which(d==dis)+wdt,\n",
    "                       ymin = Rg+esp_dis_nb,\n",
    "                       ymax = Rg+esp_dis_nb+dpl[dpl$Dis==d & dpl$Region==rg,grep(\"med\",names(dpl))],\n",
    "                       metr=\"Research\",\n",
    "                       reg=rg,\n",
    "                       ycent=Rg,\n",
    "                       dis_nb=which(d==dis),\n",
    "                       disease=d)\n",
    "burd_pl <- data.frame( xmin = which(d==dis)-wdt,\n",
    "                       xmax = which(d==dis)+wdt,\n",
    "                       ymin = Rg-esp_dis_nb,\n",
    "                       ymax = Rg-esp_dis_nb-dpl$gpl[dpl$Dis==d & dpl$Region==rg],\n",
    "                       metr=\"Burden\",\n",
    "                       reg=rg,\n",
    "                       ycent=Rg,\n",
    "                       dis_nb=which(d==dis),\n",
    "                       disease=d)\n",
    "rbind(res_pl,burd_pl)\n",
    "}"
   ]
  },
  {
   "cell_type": "code",
   "execution_count": 18,
   "metadata": {
    "collapsed": true
   },
   "outputs": [],
   "source": [
    "displt_err <- function(d,Rg,rg){\n",
    "    data.frame(x = which(d==dis),\n",
    "               ymin = Rg+esp_dis_nb+dpl[dpl$Dis==d & dpl$Region==rg,grep(\"low\",names(dpl))],\n",
    "               ymax = Rg+esp_dis_nb+dpl[dpl$Dis==d & dpl$Region==rg,grep(\"up\",names(dpl))],\n",
    "               metr=\"Research\",\n",
    "               reg=rg,\n",
    "               dis_nb=which(d==dis),\n",
    "               disease=d)\n",
    "}"
   ]
  },
  {
   "cell_type": "code",
   "execution_count": 19,
   "metadata": {
    "collapsed": true
   },
   "outputs": [],
   "source": [
    "#Rectangles pour toutes les maladies, une région donnée\n",
    "regplt <- function(Rg,rg) do.call('rbind',lapply(dis,function(x){displt(x,Rg,rg)}))\n",
    "regplt_err <- function(Rg,rg) do.call('rbind',lapply(dis,function(x){displt_err(x,Rg,rg)}))"
   ]
  },
  {
   "cell_type": "code",
   "execution_count": 20,
   "metadata": {
    "collapsed": true
   },
   "outputs": [],
   "source": [
    "#Emplacement des régions\n",
    "RG <- 0\n",
    "for(i in 2:length(regs)){\n",
    "RG <- c(RG,\n",
    "        RG[i-1]-(2*esp_dis_nb+\n",
    "                 max(dpl$gpl[dpl$Region==regs[i-1]])+\n",
    "                 d_reg+max(dpl[dpl$Region==regs[i],grep(\"up\",names(dpl))],na.rm=TRUE)))\n",
    "}"
   ]
  },
  {
   "cell_type": "code",
   "execution_count": 21,
   "metadata": {
    "collapsed": false
   },
   "outputs": [],
   "source": [
    "#DataFrame Plot\n",
    "DPLOT <- do.call('rbind',lapply(1:length(regs),function(i){regplt(RG[i],regs[i])}))\n",
    "#Error_bars dataframe\n",
    "DPLOT_err <- do.call('rbind',lapply(1:length(regs),function(i){regplt_err(RG[i],regs[i])}))"
   ]
  },
  {
   "cell_type": "code",
   "execution_count": 22,
   "metadata": {
    "collapsed": false
   },
   "outputs": [],
   "source": [
    "#Inner circle\n",
    "DPLOT$xmin <- DPLOT$xmin + IC\n",
    "DPLOT$xmax <- DPLOT$xmax + IC\n",
    "DPLOT$xcent <- DPLOT$dis_nb + IC\n",
    "DPLOT_err$x <- DPLOT_err$x + IC\n",
    "DPLOT_err$xcent <- DPLOT_err$dis_nb + IC"
   ]
  },
  {
   "cell_type": "code",
   "execution_count": 23,
   "metadata": {
    "collapsed": true
   },
   "outputs": [],
   "source": [
    "totalLength <- max(DPLOT_err$ymax,na.rm=TRUE)-min(DPLOT$ymax,na.rm=TRUE)+d_reg"
   ]
  },
  {
   "cell_type": "code",
   "execution_count": 24,
   "metadata": {
    "collapsed": true
   },
   "outputs": [],
   "source": [
    "#Polar coordinates\n",
    "alphaStart <- 2*pi*((max(DPLOT_err$ymax[DPLOT_err$reg==regs[1]]+d_reg/2,na.rm=TRUE))/\n",
    "                    totalLength)"
   ]
  },
  {
   "cell_type": "code",
   "execution_count": 25,
   "metadata": {
    "collapsed": true
   },
   "outputs": [],
   "source": [
    "#REGION LABELS\n",
    "  readableAngle<-function(x){\n",
    "    angle<-x*(360/totalLength)\n",
    "  }\n",
    "    familyLabelsDF<-data.frame(xmin=RG,label=reg_labs)\n",
    "    familyLabelsDF$angle <- readableAngle(familyLabelsDF$xmin)"
   ]
  },
  {
   "cell_type": "code",
   "execution_count": 26,
   "metadata": {
    "collapsed": true
   },
   "outputs": [],
   "source": [
    "#Disease labels: size\n",
    "DPLOT$size_dis_lab = 2.3*(40+DPLOT$dis_nb)/(40+max(DPLOT$dis_nb))"
   ]
  },
  {
   "cell_type": "markdown",
   "metadata": {},
   "source": [
    "### Research and burden tick marks"
   ]
  },
  {
   "cell_type": "code",
   "execution_count": 27,
   "metadata": {
    "collapsed": false
   },
   "outputs": [
    {
     "data": {
      "text/html": [
       "4939.83309173478"
      ],
      "text/latex": [
       "4939.83309173478"
      ],
      "text/markdown": [
       "4939.83309173478"
      ],
      "text/plain": [
       "[1] 4939.833"
      ]
     },
     "metadata": {},
     "output_type": "display_data"
    }
   ],
   "source": [
    "max(dpl[,grep(\"up\",names(dpl))],na.rm=TRUE)/1e3"
   ]
  },
  {
   "cell_type": "code",
   "execution_count": 28,
   "metadata": {
    "collapsed": true
   },
   "outputs": [],
   "source": [
    "#Research\n",
    "rcttks <- c(0,100,500,1000,2000,3000,4000,5000)*1e3\n",
    "maj_rcts <- function(nb){\n",
    "    x <- nb\n",
    "    k <- 0\n",
    "    while(x>=100){x <- x%/%10\n",
    "                  k <- k+1}\n",
    "    (x+1)*10^k\n",
    "}"
   ]
  },
  {
   "cell_type": "code",
   "execution_count": 29,
   "metadata": {
    "collapsed": true
   },
   "outputs": [],
   "source": [
    "#Faire que les ticks aillent jusqu'au max des RCTs arrondi au sup\n",
    "RCTtcks <- do.call('rbind',lapply(regs,function(x){\n",
    "data.frame(\n",
    "    breaks = unique(DPLOT$ymin[DPLOT$metr==\"Research\" & DPLOT$reg==x]) + \n",
    "             c(rcttks[2:findInterval(max(dpl[dpl$Region==x,grep(\"up\",names(dpl))],na.rm=TRUE),rcttks)],\n",
    "               maj_rcts(max(dpl[dpl$Region==x,grep(\"up\",names(dpl))],na.rm=TRUE))),\n",
    "    labels=c(rcttks[2:findInterval(max(dpl[dpl$Region==x,grep(\"up\",names(dpl))],na.rm=TRUE),rcttks)],\n",
    "             maj_rcts(max(dpl[dpl$Region==x,grep(\"up\",names(dpl))],na.rm=TRUE)))/1e3,\n",
    "    region=x)\n",
    "}))\n",
    "RCTtcks$col <- \"1RCT\""
   ]
  },
  {
   "cell_type": "code",
   "execution_count": 30,
   "metadata": {
    "collapsed": true
   },
   "outputs": [],
   "source": [
    "#Pour GBD\n",
    "gbdtks <- c(0,1e7,2e7,3e7,5e7,7.5e7,1e8,1.5e8,2e8)/1e6\n",
    "maj_gbd <- function(x) ifelse(trunc(x)==x,x,trunc(x) + 1)"
   ]
  },
  {
   "cell_type": "code",
   "execution_count": 31,
   "metadata": {
    "collapsed": true
   },
   "outputs": [],
   "source": [
    "GBDtcks <- do.call('rbind',lapply(regs,function(x){\n",
    "data.frame(\n",
    "    breaks = unique(DPLOT$ymin[DPLOT$metr==\"Burden\" & DPLOT$reg==x]) -\n",
    "        c(gbdtks[2:findInterval(max(dpl[dpl$Region==x,grep(\"^burden\",names(dpl))],na.rm=TRUE)/1e6,gbdtks)],\n",
    "          maj_gbd(max(dpl[dpl$Region==x,grep(\"^burden\",names(dpl))],na.rm=TRUE)/1e6))*\n",
    "        1e6*Norm_fact,\n",
    "    labels=c(gbdtks[2:findInterval(max(dpl[dpl$Region==x,grep(\"^burden\",names(dpl))],na.rm=TRUE)/1e6,gbdtks)],\n",
    "             maj_gbd(max(dpl[dpl$Region==x,grep(\"^burden\",names(dpl))],na.rm=TRUE)/1e6)),\n",
    "    region=x)}))\n",
    "GBDtcks$col <- \"2GBD\""
   ]
  },
  {
   "cell_type": "code",
   "execution_count": 32,
   "metadata": {
    "collapsed": false
   },
   "outputs": [],
   "source": [
    "#High-income countries, burden from 44 to 45\n",
    "GBDtcks[GBDtcks$labels==44 & GBDtcks$region==\"High-income\",1] <- \n",
    "GBDtcks[GBDtcks$labels==44 & GBDtcks$region==\"High-income\",1] - (45-44)*1e6*Norm_fact\n",
    "GBDtcks[GBDtcks$labels==44 & GBDtcks$region==\"High-income\",2] <- 45\n",
    "#Sub-Saharia Africa, burden from 126 to 125\n",
    "GBDtcks[GBDtcks$labels==126 & GBDtcks$region==\"Sub-Saharian Africa\",1] <- \n",
    "GBDtcks[GBDtcks$labels==126 & GBDtcks$region==\"Sub-Saharian Africa\",1] - (125-126)*1e6*Norm_fact\n",
    "GBDtcks[GBDtcks$labels==126 & GBDtcks$region==\"Sub-Saharian Africa\",2] <- 125\n",
    "#Sub-Saharian Africa, suppressing research for 1000\n",
    "RCTtcks <- RCTtcks[!(RCTtcks$labels==1000 & RCTtcks$region==\"Sub-Saharian Africa\"),]\n",
    "#Southeast Asia, burden from 82 to 80\n",
    "GBDtcks[GBDtcks$labels==82 & GBDtcks$region==\"Southeast Asia, East Asia and Oceania\",1] <- \n",
    "GBDtcks[GBDtcks$labels==82 & GBDtcks$region==\"Southeast Asia, East Asia and Oceania\",1] - (80-82)*1e6*Norm_fact\n",
    "GBDtcks[GBDtcks$labels==82 & GBDtcks$region==\"Southeast Asia, East Asia and Oceania\",2] <- 80\n",
    "#South Asia, burden from 131 to 130\n",
    "GBDtcks[GBDtcks$labels==131 & GBDtcks$region==\"South Asia\",1] <- \n",
    "GBDtcks[GBDtcks$labels==131 & GBDtcks$region==\"South Asia\",1] - (130-131)*1e6*Norm_fact\n",
    "GBDtcks[GBDtcks$labels==131 & GBDtcks$region==\"South Asia\",2] <- 130\n",
    "#Eastern Europe, burden from 54 to 55\n",
    "GBDtcks[GBDtcks$labels==54 & GBDtcks$region==\"Central Europe, Eastern Europe, and Central Asia\",1] <- \n",
    "GBDtcks[GBDtcks$labels==54 & GBDtcks$region==\"Central Europe, Eastern Europe, and Central Asia\",1] - (55-54)*1e6*Norm_fact\n",
    "GBDtcks[GBDtcks$labels==54 & GBDtcks$region==\"Central Europe, Eastern Europe, and Central Asia\",2] <- 55\n",
    "#Latin America, burden from 16 to 15\n",
    "GBDtcks[GBDtcks$labels==16 & GBDtcks$region==\"Latin America and Caribbean\",1] <- \n",
    "GBDtcks[GBDtcks$labels==16 & GBDtcks$region==\"Latin America and Caribbean\",1] - (15-16)*1e6*Norm_fact\n",
    "GBDtcks[GBDtcks$labels==16 & GBDtcks$region==\"Latin America and Caribbean\",2] <- 15"
   ]
  },
  {
   "cell_type": "code",
   "execution_count": 33,
   "metadata": {
    "collapsed": true
   },
   "outputs": [],
   "source": [
    "RCTtcks$labels <- as.character(RCTtcks$label)\n",
    "GBDtcks$labels <- as.character(GBDtcks$label)\n",
    "tcks <- rbind(RCTtcks,GBDtcks)\n",
    "tcks$col <- as.factor(tcks$col)"
   ]
  },
  {
   "cell_type": "markdown",
   "metadata": {},
   "source": [
    "#  GGPLOT Object"
   ]
  },
  {
   "cell_type": "code",
   "execution_count": 34,
   "metadata": {
    "collapsed": false
   },
   "outputs": [],
   "source": [
    "p <- ggplot(DPLOT) +\n",
    "        geom_rect(aes(xmin=xmin,xmax=xmax,ymin=ymin,ymax=ymax,fill=metr)) +\n",
    "        geom_errorbar(aes(x=x,ymax=ymax,ymin=ymin),size=0.1,width=0.5,data=DPLOT_err) + \n",
    "        #Disease numbers\n",
    "        geom_text(aes( x=xcent,\n",
    "                        y=ycent,\n",
    "                        label=dis_nb,\n",
    "                        hjust=0.5),\n",
    "                   size=DPLOT$size_dis_lab,\n",
    "                   col=\"#42442E\") + \n",
    "        theme_minimal() + \n",
    "        theme(  axis.title.y=element_blank(),\n",
    "                axis.text.y=element_blank(),\n",
    "                axis.ticks.y=element_blank(),\n",
    "                axis.title.x=element_blank(),\n",
    "                axis.ticks.x=element_blank()\n",
    "                ) + \n",
    "        theme(legend.position = \"none\") + \n",
    "        scale_x_continuous(breaks = NULL,limits = c(0,max(DPLOT$xmax,na.rm=TRUE)+3)) +\n",
    "        #Region labels\n",
    "        geom_text(\n",
    "                  aes(  x=length(dis)+IC+3,\n",
    "                        y=xmin,\n",
    "                        label=label,\n",
    "                        angle=angle,\n",
    "                        hjust=0.5,vjust=0),\n",
    "                  data=familyLabelsDF,\n",
    "                  size=4.3) + \n",
    "        #Colors burden and research\n",
    "        scale_fill_manual(values = c(\"Burden\"=\"orange\",\"Research\"=\"blue\"))"
   ]
  },
  {
   "cell_type": "code",
   "execution_count": 35,
   "metadata": {
    "collapsed": false
   },
   "outputs": [],
   "source": [
    "#Tickmarks\n",
    "p <- p+ scale_y_continuous(minor_breaks = tcks$breaks, breaks=tcks$breaks,\n",
    "                      labels=rep(\"\",nrow(tcks)),\n",
    "                    limits=c(min(DPLOT$ymax,na.rm=TRUE)-d_reg/2,max(DPLOT_err$ymax,na.rm=TRUE)+d_reg/2)) + \n",
    "        theme(panel.grid.minor=element_line(color=\"#D3D3D3\",size=0.1)) + \n",
    "        geom_text(\n",
    "            aes(x=length(dis)+IC+1.5,\n",
    "            y=breaks,\n",
    "            label=labels,\n",
    "            hjust=0.5),\n",
    "            data=tcks,\n",
    "            size=2,\n",
    "            col=as.numeric(tcks$col))"
   ]
  },
  {
   "cell_type": "code",
   "execution_count": 36,
   "metadata": {
    "collapsed": false
   },
   "outputs": [
    {
     "name": "stderr",
     "output_type": "stream",
     "text": [
      "Warning message:\n",
      "“Removed 21 rows containing missing values (geom_rect).”Warning message:\n",
      "“Removed 21 rows containing missing values (geom_errorbar).”"
     ]
    }
   ],
   "source": [
    "ggsave(filename = \"../Figures/polar_props_Patients_DALYs.pdf\",\n",
    "      plot = p + coord_polar(theta=\"y\",start=alphaStart,direction=-1),\n",
    "      width=12,height=12)"
   ]
  },
  {
   "cell_type": "code",
   "execution_count": null,
   "metadata": {
    "collapsed": true
   },
   "outputs": [],
   "source": []
  },
  {
   "cell_type": "code",
   "execution_count": null,
   "metadata": {
    "collapsed": true
   },
   "outputs": [],
   "source": []
  }
 ],
 "metadata": {
  "kernelspec": {
   "display_name": "R",
   "language": "R",
   "name": "ir"
  },
  "language_info": {
   "codemirror_mode": "r",
   "file_extension": ".r",
   "mimetype": "text/x-r-source",
   "name": "R",
   "pygments_lexer": "r",
   "version": "3.3.1"
  }
 },
 "nbformat": 4,
 "nbformat_minor": 1
}
