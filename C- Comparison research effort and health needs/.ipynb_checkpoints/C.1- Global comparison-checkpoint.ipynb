{
 "cells": [
  {
   "cell_type": "code",
   "execution_count": 1,
   "metadata": {
    "collapsed": true
   },
   "outputs": [],
   "source": [
    "GBD <- read.table(\"../Data/DALY_YLL_deaths_per_region_and_27_diseases_2005.txt\")\n",
    "RCT <- read.table(\"../Data/RCTs_and_Patients_Nb_local_prop_median_UI_per_region_and_disease.txt\")"
   ]
  },
  {
   "cell_type": "code",
   "execution_count": 24,
   "metadata": {
    "collapsed": false,
    "scrolled": true
   },
   "outputs": [
    {
     "data": {
      "text/html": [
       "<ol class=list-inline>\n",
       "\t<li>'All'</li>\n",
       "\t<li>'Central Europe, Eastern Europe, and Central Asia'</li>\n",
       "\t<li>'High-income'</li>\n",
       "\t<li>'Latin America and Caribbean'</li>\n",
       "\t<li>'Non-HI'</li>\n",
       "\t<li>'North Africa and Middle East'</li>\n",
       "\t<li>'South Asia'</li>\n",
       "\t<li>'Southeast Asia, East Asia and Oceania'</li>\n",
       "\t<li>'Sub-Saharian Africa'</li>\n",
       "</ol>\n"
      ],
      "text/latex": [
       "\\begin{enumerate*}\n",
       "\\item 'All'\n",
       "\\item 'Central Europe, Eastern Europe, and Central Asia'\n",
       "\\item 'High-income'\n",
       "\\item 'Latin America and Caribbean'\n",
       "\\item 'Non-HI'\n",
       "\\item 'North Africa and Middle East'\n",
       "\\item 'South Asia'\n",
       "\\item 'Southeast Asia, East Asia and Oceania'\n",
       "\\item 'Sub-Saharian Africa'\n",
       "\\end{enumerate*}\n"
      ],
      "text/markdown": [
       "1. 'All'\n",
       "2. 'Central Europe, Eastern Europe, and Central Asia'\n",
       "3. 'High-income'\n",
       "4. 'Latin America and Caribbean'\n",
       "5. 'Non-HI'\n",
       "6. 'North Africa and Middle East'\n",
       "7. 'South Asia'\n",
       "8. 'Southeast Asia, East Asia and Oceania'\n",
       "9. 'Sub-Saharian Africa'\n",
       "\n",
       "\n"
      ],
      "text/plain": [
       "[1] \"All\"                                             \n",
       "[2] \"Central Europe, Eastern Europe, and Central Asia\"\n",
       "[3] \"High-income\"                                     \n",
       "[4] \"Latin America and Caribbean\"                     \n",
       "[5] \"Non-HI\"                                          \n",
       "[6] \"North Africa and Middle East\"                    \n",
       "[7] \"South Asia\"                                      \n",
       "[8] \"Southeast Asia, East Asia and Oceania\"           \n",
       "[9] \"Sub-Saharian Africa\"                             "
      ]
     },
     "metadata": {},
     "output_type": "display_data"
    },
    {
     "data": {
      "text/html": [
       "<ol class=list-inline>\n",
       "\t<li>'All'</li>\n",
       "\t<li>'Central Europe, Eastern Europe, and Central Asia'</li>\n",
       "\t<li>'High-income'</li>\n",
       "\t<li>'Latin America and Caribbean'</li>\n",
       "\t<li>'North Africa and Middle East'</li>\n",
       "\t<li>'South Asia'</li>\n",
       "\t<li>'Southeast Asia, East Asia and Oceania'</li>\n",
       "\t<li>'Sub-Saharian Africa'</li>\n",
       "</ol>\n"
      ],
      "text/latex": [
       "\\begin{enumerate*}\n",
       "\\item 'All'\n",
       "\\item 'Central Europe, Eastern Europe, and Central Asia'\n",
       "\\item 'High-income'\n",
       "\\item 'Latin America and Caribbean'\n",
       "\\item 'North Africa and Middle East'\n",
       "\\item 'South Asia'\n",
       "\\item 'Southeast Asia, East Asia and Oceania'\n",
       "\\item 'Sub-Saharian Africa'\n",
       "\\end{enumerate*}\n"
      ],
      "text/markdown": [
       "1. 'All'\n",
       "2. 'Central Europe, Eastern Europe, and Central Asia'\n",
       "3. 'High-income'\n",
       "4. 'Latin America and Caribbean'\n",
       "5. 'North Africa and Middle East'\n",
       "6. 'South Asia'\n",
       "7. 'Southeast Asia, East Asia and Oceania'\n",
       "8. 'Sub-Saharian Africa'\n",
       "\n",
       "\n"
      ],
      "text/plain": [
       "[1] \"All\"                                             \n",
       "[2] \"Central Europe, Eastern Europe, and Central Asia\"\n",
       "[3] \"High-income\"                                     \n",
       "[4] \"Latin America and Caribbean\"                     \n",
       "[5] \"North Africa and Middle East\"                    \n",
       "[6] \"South Asia\"                                      \n",
       "[7] \"Southeast Asia, East Asia and Oceania\"           \n",
       "[8] \"Sub-Saharian Africa\"                             "
      ]
     },
     "metadata": {},
     "output_type": "display_data"
    }
   ],
   "source": [
    "levels(RCT$Region)\n",
    "levels(GBD$Region)"
   ]
  },
  {
   "cell_type": "code",
   "execution_count": 45,
   "metadata": {
    "collapsed": true
   },
   "outputs": [],
   "source": [
    "print_interval <- function(x){\n",
    "    paste(format(round(x$Nb_RCTs_med,1),nsmall = 1),\n",
    "           \" [\",format(round(x$Nb_RCTs_low,1),nsmall = 1),\n",
    "           \"--\",format(round(x$Nb_RCTs_up,1),nsmall = 1),\"]\",sep=\"\")\n",
    "}"
   ]
  },
  {
   "cell_type": "code",
   "execution_count": 46,
   "metadata": {
    "collapsed": false
   },
   "outputs": [
    {
     "name": "stdout",
     "output_type": "stream",
     "text": [
      "[1] \"RCTs per mill DALYs, all regions, all diseases\"\n"
     ]
    },
    {
     "data": {
      "text/html": [
       "'37.0 [35.4--38.4]'"
      ],
      "text/latex": [
       "'37.0 {[}35.4--38.4{]}'"
      ],
      "text/markdown": [
       "'37.0 [35.4--38.4]'"
      ],
      "text/plain": [
       "[1] \"37.0 [35.4--38.4]\""
      ]
     },
     "metadata": {},
     "output_type": "display_data"
    }
   ],
   "source": [
    "#Comparison RCTs per DALY in regions and diseases\n",
    "print(\"RCTs per mill DALYs, all regions, all diseases\")\n",
    "print_interval(RCT[RCT$Region==\"All\" & RCT$Disease==\"All\",3:5]/(sum(GBD$burden[GBD$metr==\"daly\" & GBD$Region==\"All\"])/1e6))"
   ]
  },
  {
   "cell_type": "code",
   "execution_count": 47,
   "metadata": {
    "collapsed": false
   },
   "outputs": [
    {
     "name": "stdout",
     "output_type": "stream",
     "text": [
      "[1] \"RCTs per mill DALYs, High-income, all diseases\"\n"
     ]
    },
    {
     "data": {
      "text/html": [
       "'130.9 [125.3--136.0]'"
      ],
      "text/latex": [
       "'130.9 {[}125.3--136.0{]}'"
      ],
      "text/markdown": [
       "'130.9 [125.3--136.0]'"
      ],
      "text/plain": [
       "[1] \"130.9 [125.3--136.0]\""
      ]
     },
     "metadata": {},
     "output_type": "display_data"
    },
    {
     "name": "stdout",
     "output_type": "stream",
     "text": [
      "[1] \"RCTs per mill DALYs, Non-High-income, all diseases\"\n"
     ]
    },
    {
     "data": {
      "text/html": [
       "'6.9 [6.6--7.2]'"
      ],
      "text/latex": [
       "'6.9 {[}6.6--7.2{]}'"
      ],
      "text/markdown": [
       "'6.9 [6.6--7.2]'"
      ],
      "text/plain": [
       "[1] \"6.9 [6.6--7.2]\""
      ]
     },
     "metadata": {},
     "output_type": "display_data"
    }
   ],
   "source": [
    "print(\"RCTs per mill DALYs, High-income, all diseases\")\n",
    "print_interval(RCT[RCT$Region==\"High-income\" & RCT$Disease==\"All\",3:5]/(sum(GBD$burden[GBD$metr==\"daly\" & GBD$Region==\"High-income\"])/1e6))\n",
    "print(\"RCTs per mill DALYs, Non-High-income, all diseases\")\n",
    "print_interval(RCT[RCT$Region==\"Non-HI\" & RCT$Disease==\"All\",3:5]/(sum(GBD$burden[GBD$metr==\"daly\" & !GBD$Region%in%c(\"All\",\"High-income\")])/1e6))"
   ]
  },
  {
   "cell_type": "code",
   "execution_count": 48,
   "metadata": {
    "collapsed": false
   },
   "outputs": [
    {
     "name": "stdout",
     "output_type": "stream",
     "text": [
      "[1] \"RCTs per mill DALYs, all regions, Cardiovascular and circulatory diseases\"\n"
     ]
    },
    {
     "data": {
      "text/html": [
       "'37.1 [33.1--41.6]'"
      ],
      "text/latex": [
       "'37.1 {[}33.1--41.6{]}'"
      ],
      "text/markdown": [
       "'37.1 [33.1--41.6]'"
      ],
      "text/plain": [
       "[1] \"37.1 [33.1--41.6]\""
      ]
     },
     "metadata": {},
     "output_type": "display_data"
    },
    {
     "name": "stdout",
     "output_type": "stream",
     "text": [
      "[1] \"RCTs per mill DALYs, all regions, Diarrhea, lower respiratory infections, meningitis, and other common infectious diseases\"\n"
     ]
    },
    {
     "data": {
      "text/html": [
       "'10.6 [8.7--13.0]'"
      ],
      "text/latex": [
       "'10.6 {[}8.7--13.0{]}'"
      ],
      "text/markdown": [
       "'10.6 [8.7--13.0]'"
      ],
      "text/plain": [
       "[1] \"10.6 [8.7--13.0]\""
      ]
     },
     "metadata": {},
     "output_type": "display_data"
    },
    {
     "name": "stdout",
     "output_type": "stream",
     "text": [
      "[1] \"RCTs per mill DALYs, all regions, Neonatal disorders\"\n"
     ]
    },
    {
     "data": {
      "text/html": [
       "'6.5 [2.9--16.4]'"
      ],
      "text/latex": [
       "'6.5 {[}2.9--16.4{]}'"
      ],
      "text/markdown": [
       "'6.5 [2.9--16.4]'"
      ],
      "text/plain": [
       "[1] \"6.5 [2.9--16.4]\""
      ]
     },
     "metadata": {},
     "output_type": "display_data"
    },
    {
     "name": "stdout",
     "output_type": "stream",
     "text": [
      "[1] \"RCTs per mill DALYs, all regions, Neoplasms\"\n"
     ]
    },
    {
     "data": {
      "text/html": [
       "'68.0 [63.0--72.0]'"
      ],
      "text/latex": [
       "'68.0 {[}63.0--72.0{]}'"
      ],
      "text/markdown": [
       "'68.0 [63.0--72.0]'"
      ],
      "text/plain": [
       "[1] \"68.0 [63.0--72.0]\""
      ]
     },
     "metadata": {},
     "output_type": "display_data"
    }
   ],
   "source": [
    "print(\"RCTs per mill DALYs, all regions, Cardiovascular and circulatory diseases\")\n",
    "print_interval(RCT[RCT$Region==\"All\" & RCT$Disease==\"Cardiovascular and circulatory diseases\",3:5]/(GBD$burden[GBD$metr==\"daly\" & GBD$Region==\"All\" & GBD$Disease==\"Cardiovascular and circulatory diseases\"]/1e6))\n",
    "print(\"RCTs per mill DALYs, all regions, Diarrhea, lower respiratory infections, meningitis, and other common infectious diseases\")\n",
    "print_interval(RCT[RCT$Region==\"All\" & RCT$Disease==\"Diarrhea, lower respiratory infections, meningitis, and other common infectious diseases\",3:5]/(GBD$burden[GBD$metr==\"daly\" & GBD$Region==\"All\" & GBD$Disease==\"Diarrhea, lower respiratory infections, meningitis, and other common infectious diseases\"]/1e6))\n",
    "print(\"RCTs per mill DALYs, all regions, Neonatal disorders\")\n",
    "print_interval(RCT[RCT$Region==\"All\" & RCT$Disease==\"Neonatal disorders\",3:5]/(GBD$burden[GBD$metr==\"daly\" & GBD$Region==\"All\" & GBD$Disease==\"Neonatal disorders\"]/1e6))\n",
    "print(\"RCTs per mill DALYs, all regions, Neoplasms\")\n",
    "print_interval(RCT[RCT$Region==\"All\" & RCT$Disease==\"Neoplasms\",3:5]/(GBD$burden[GBD$metr==\"daly\" & GBD$Region==\"All\" & GBD$Disease==\"Neoplasms\"]/1e6))\n"
   ]
  },
  {
   "cell_type": "code",
   "execution_count": null,
   "metadata": {
    "collapsed": true
   },
   "outputs": [],
   "source": []
  }
 ],
 "metadata": {
  "kernelspec": {
   "display_name": "R",
   "language": "R",
   "name": "ir"
  },
  "language_info": {
   "codemirror_mode": "r",
   "file_extension": ".r",
   "mimetype": "text/x-r-source",
   "name": "R",
   "pygments_lexer": "r",
   "version": "3.3.1"
  }
 },
 "nbformat": 4,
 "nbformat_minor": 1
}
