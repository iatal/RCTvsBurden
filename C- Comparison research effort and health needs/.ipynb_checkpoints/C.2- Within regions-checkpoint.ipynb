{
 "cells": [
  {
   "cell_type": "code",
   "execution_count": 1,
   "metadata": {
    "collapsed": true
   },
   "outputs": [
    {
     "name": "stderr",
     "output_type": "stream",
     "text": [
      "gdata: read.xls support for 'XLS' (Excel 97-2004) files ENABLED.\n",
      "\n",
      "gdata: read.xls support for 'XLSX' (Excel 2007+) files ENABLED.\n",
      "\n",
      "Attaching package: ‘gdata’\n",
      "\n",
      "The following object is masked from ‘package:stats’:\n",
      "\n",
      "    nobs\n",
      "\n",
      "The following object is masked from ‘package:utils’:\n",
      "\n",
      "    object.size\n",
      "\n",
      "The following object is masked from ‘package:base’:\n",
      "\n",
      "    startsWith\n",
      "\n",
      "\n",
      "Attaching package: ‘gridExtra’\n",
      "\n",
      "The following object is masked from ‘package:gdata’:\n",
      "\n",
      "    combine\n",
      "\n"
     ]
    }
   ],
   "source": [
    "library(gdata)\n",
    "library(ggplot2)\n",
    "library(grid)\n",
    "library(gridExtra)"
   ]
  },
  {
   "cell_type": "code",
   "execution_count": 2,
   "metadata": {
    "collapsed": false
   },
   "outputs": [],
   "source": [
    "GBD <- read.table(\"../Data/DALY_YLL_deaths_per_region_and_27_diseases_2005.txt\")\n",
    "RCT <- read.table(\"../Data/RCTs_and_Patients_Nb_local_prop_median_UI_per_region_and_disease.txt\")"
   ]
  },
  {
   "cell_type": "code",
   "execution_count": 3,
   "metadata": {
    "collapsed": true
   },
   "outputs": [],
   "source": [
    "#Adding GBD all diseases for all regions\n",
    "gbd_all <- tapply(GBD$burden[GBD$Region==\"All\"],paste(GBD$metr[GBD$Region==\"All\"],GBD$Region[GBD$Region==\"All\"]),sum)\n",
    "gbd_all <- data.frame(metr=levels(GBD$metr),\n",
    "                      Region=\"All\",\n",
    "                      Disease=\"all\",\n",
    "                     burden=as.numeric(gbd_all))\n",
    "GBD <- rbind(GBD,gbd_all)"
   ]
  },
  {
   "cell_type": "code",
   "execution_count": 4,
   "metadata": {
    "collapsed": true
   },
   "outputs": [],
   "source": [
    "GBD <- GBD[order(GBD$Region,GBD$Disease),]\n",
    "RCT <- RCT[order(RCT$Region,RCT$Disease),]"
   ]
  },
  {
   "cell_type": "code",
   "execution_count": 5,
   "metadata": {
    "collapsed": true
   },
   "outputs": [],
   "source": [
    "ratio_align <- read.table(\"../Data/Alignment_ratios_within_regions_across_diseases_wt_sims_patients_metrs_burdens.txt\")"
   ]
  },
  {
   "cell_type": "code",
   "execution_count": 6,
   "metadata": {
    "collapsed": false
   },
   "outputs": [],
   "source": [
    "#Disease labels for plot\n",
    "GBD$Dis_lab <- GBD$Disease\n",
    "levels(GBD$Dis_lab) <- c(\"\",\n",
    "               \"Cardiovasc.\\nand circulatory\",\n",
    "               \"Chronic\\nrespiratory\",\n",
    "               \"Cirrhosis\",\n",
    "               \"Congenital\\nanomalies\",\n",
    "               \"Diabetes, urinary\\nmale infertility\",\n",
    "               \"Common\\ninfections\",\n",
    "               \"Digestive\",\n",
    "               \"Gynecol.\",\n",
    "               \"Hemoglob. and\\nhemolytic anemia\",\n",
    "               \"Hepatitis\",\n",
    "               \"HIV\",\n",
    "               \"Leprosy\",\n",
    "               \"Malaria\",\n",
    "               \"Maternal\\ndisorders\",\n",
    "               \"Mental and\\nbehavioral\",\n",
    "               \"Musculosk.\",\n",
    "               \"Neglected trop.\",\n",
    "               \"Neonatal\\ndisorders\",\n",
    "               \"Neoplasms\",\n",
    "               \"Neurological\",\n",
    "               \"Nutritional\",\n",
    "               \"Oral\",\n",
    "               \"Sense organ\",\n",
    "               \"STD\",\n",
    "               \"Skin and\\nsubcutaneous\",\n",
    "               \"Sudden infant death\",\n",
    "               \"Tuberculosis\")"
   ]
  },
  {
   "cell_type": "code",
   "execution_count": 7,
   "metadata": {
    "collapsed": false
   },
   "outputs": [],
   "source": [
    "RCT$Dis_lab <- RCT$Disease\n",
    "levels(RCT$Dis_lab) <- c(\"\",\n",
    "unique(as.character(GBD$Dis_lab))[levels(droplevels(GBD$Disease[GBD$Dis_lab!=\"\"]))%in%levels(RCT$Disease)])"
   ]
  },
  {
   "cell_type": "code",
   "execution_count": 8,
   "metadata": {
    "collapsed": false
   },
   "outputs": [
    {
     "data": {
      "text/html": [
       "<ol class=list-inline>\n",
       "\t<li>'All'</li>\n",
       "\t<li>'High-income'</li>\n",
       "\t<li>'Southeast Asia, East Asia and Oceania'</li>\n",
       "\t<li>'North Africa and Middle East'</li>\n",
       "\t<li>'Central Europe, Eastern Europe, and Central Asia'</li>\n",
       "\t<li>'South Asia'</li>\n",
       "\t<li>'Latin America and Caribbean'</li>\n",
       "\t<li>'Sub-Saharian Africa'</li>\n",
       "</ol>\n"
      ],
      "text/latex": [
       "\\begin{enumerate*}\n",
       "\\item 'All'\n",
       "\\item 'High-income'\n",
       "\\item 'Southeast Asia, East Asia and Oceania'\n",
       "\\item 'North Africa and Middle East'\n",
       "\\item 'Central Europe, Eastern Europe, and Central Asia'\n",
       "\\item 'South Asia'\n",
       "\\item 'Latin America and Caribbean'\n",
       "\\item 'Sub-Saharian Africa'\n",
       "\\end{enumerate*}\n"
      ],
      "text/markdown": [
       "1. 'All'\n",
       "2. 'High-income'\n",
       "3. 'Southeast Asia, East Asia and Oceania'\n",
       "4. 'North Africa and Middle East'\n",
       "5. 'Central Europe, Eastern Europe, and Central Asia'\n",
       "6. 'South Asia'\n",
       "7. 'Latin America and Caribbean'\n",
       "8. 'Sub-Saharian Africa'\n",
       "\n",
       "\n"
      ],
      "text/plain": [
       "[1] \"All\"                                             \n",
       "[2] \"High-income\"                                     \n",
       "[3] \"Southeast Asia, East Asia and Oceania\"           \n",
       "[4] \"North Africa and Middle East\"                    \n",
       "[5] \"Central Europe, Eastern Europe, and Central Asia\"\n",
       "[6] \"South Asia\"                                      \n",
       "[7] \"Latin America and Caribbean\"                     \n",
       "[8] \"Sub-Saharian Africa\"                             "
      ]
     },
     "metadata": {},
     "output_type": "display_data"
    }
   ],
   "source": [
    "#Order of regions: decreasing nb of RCTs\n",
    "rt <- RCT[RCT$Disease==\"All\" & !RCT$Region%in%c(\"Non-HI\"),]\n",
    "regs <- as.character(rt$Region[order(rt$Nb_RCTs_med,decreasing=TRUE)])\n",
    "regs"
   ]
  },
  {
   "cell_type": "code",
   "execution_count": 9,
   "metadata": {
    "collapsed": true
   },
   "outputs": [],
   "source": [
    "#For annotating with ratio of alignment\n",
    "form <- function(x){\n",
    "paste(format(round(x[2],1),nsmall = 1),\n",
    "           \"% [\",format(round(x[1],1),nsmall = 1),\n",
    "           \"-\",format(round(x[3],1),nsmall = 1),\"]\",sep=\"\")\n",
    "    }"
   ]
  },
  {
   "cell_type": "code",
   "execution_count": 10,
   "metadata": {
    "collapsed": false,
    "scrolled": true
   },
   "outputs": [],
   "source": [
    "L <- list()\n",
    "for(i in 1:length(regs)){\n",
    "\n",
    "    r <- regs[i]\n",
    "    #All burden in region r\n",
    "    burd_tot <- GBD$burden[GBD$metr==\"daly\" & GBD$Region==r & GBD$Disease==\"all\"]\n",
    "    #All research\n",
    "    res_tot <- RCT[RCT$Region==r & RCT$Dis==\"All\",]   \n",
    "\n",
    "    #Local burden across diseases\n",
    "    dfb <- GBD[GBD$metr==\"daly\" & GBD$Region==r & GBD$Disease!=\"all\",]\n",
    "    dfb$prop <- 100*dfb$burden/burd_tot\n",
    "    dfb$mes <- \"burden\"\n",
    "    dfb <- dfb[,c(\"Disease\",\"prop\",\"mes\",\"Dis_lab\")] \n",
    "\n",
    "    #Local research across diseases\n",
    "    dfr <- RCT[RCT$Region==r & RCT$Disease!=\"All\",]\n",
    "    dfr$prop <- dfr$Prop_RCTs_med\n",
    "    dfr$mes <- \"research\"\n",
    "    dfr <- dfr[,c(\"Disease\",\"prop\",\"mes\",\"Dis_lab\")]\n",
    "    dt <- rbind(dfb,dfr)    \n",
    "\n",
    "    #Uncertainty intervals for local research\n",
    "    dfre <- RCT[RCT$Region==r & RCT$Disease!=\"All\",]\n",
    "    dfre$prop_low <- dfre$Prop_RCTs_low\n",
    "    dfre$prop_up <- dfre$Prop_RCTs_up\n",
    "    dfre$mes <- \"research\"\n",
    "    dfre <- dfre[,c(\"Disease\",\"prop_low\",\"prop_up\",\"mes\")]    \n",
    "    \n",
    "    #10 Principales maladies\n",
    "    diss <- dfb$Disease[order(dfb$prop,decreasing=TRUE)][1:10]\n",
    "    dt <- droplevels(dt[dt$Disease%in%diss,])\n",
    "    dfre <- droplevels(dfre[dfre$Disease%in%diss,])\n",
    "    #Order of diseases\n",
    "    dt$Disease <- reorder(dt$Disease,new.order=as.character(diss))\n",
    "    dfre$Disease <- reorder(dfre$Disease,new.order=as.character(diss))\n",
    "    \n",
    "    #Highlighting GAPS\n",
    "    dt$gap <- dt$Disease\n",
    "    levels(dt$gap) <- unlist(lapply(levels(dt$Disease),\n",
    "                                    function(x){\n",
    "                                        ifelse(sum(dfre$Disease==x)==0,NA,\n",
    "                                        dt$prop[dt$mes==\"burden\" & dt$Disease==x]/\n",
    "                                        dfre$prop_up[dfre$Disease==x])}))\n",
    "    dt$gap_col <- dt$mes\n",
    "    dt$gap_col[as.numeric(as.character(dt$gap))>=2 & dt$gap_col==\"burden\"] <- \"burden_gap\"\n",
    "    \n",
    "    dlbl <- dt[order(dt$Disease),]\n",
    "    dlbl <- dlbl[dlbl$mes==\"burden\",]\n",
    "    dlbl$gap_text <- \"plain\"\n",
    "    dlbl$gap_text[dlbl$gap_col==\"burden_gap\"] <- \"bold\"\n",
    "\n",
    "    #GGPLOT Object\n",
    "    p <- ggplot(dt,aes(Disease))\n",
    "    p <- p + geom_bar(aes(fill=gap_col,y=prop),position=\"dodge\",stat=\"identity\",width=0.8)\n",
    "    p <- p + geom_segment(aes(x=as.numeric(Disease)-0.4,xend=as.numeric(Disease)+0.4,y=prop/2,yend=prop/2,size=5),linetype=\"dashed\",data=dt[dt$mes==\"burden\",],lwd=0.1)\n",
    "    p <- p + geom_errorbar(aes(x=as.numeric(Disease)+0.2,ymax=prop_up,ymin=prop_low),width=0.2,data=dfre)\n",
    "    p <- p + scale_fill_manual(values = c(\"burden\"=\"orange\",\"burden_gap\"=\"red\",\"research\"=\"blue\"))\n",
    "\n",
    "    p <- p + scale_x_discrete(label = dlbl$Dis_lab\n",
    "                              )\n",
    "\n",
    "    if(i%%3==1){\n",
    "    p <- p + scale_y_continuous(limits = c(0,40),breaks=c(0,5,seq(10,40,10)),\n",
    "                                name=paste(\"Local proportion (%)\\nof burden and research\")\n",
    "                                )\n",
    "    }\n",
    "    else {p <- p + scale_y_continuous(limits = c(0,40),breaks=c(0,5,seq(10,40,10)),\n",
    "                                name=paste(\"\\n\")\n",
    "                                )\n",
    "        }\n",
    "    p <- p + ggtitle(r)\n",
    "    p <- p + theme( axis.text.x = element_text(\n",
    "                    face=dlbl$gap_text,\n",
    "                    angle=55,\n",
    "                    hjust=1,\n",
    "                    vjust=1.1,size=8)) +\n",
    "             theme(panel.background = element_blank()) + \n",
    "             theme(panel.grid.major.y = element_line(colour = \"grey\",size=0.1)) +\n",
    "             theme(panel.grid.major.x = element_blank()) + \n",
    "             theme(axis.ticks.x=element_blank()) + \n",
    "             theme(legend.position = \"none\") + \n",
    "             theme(axis.title.x=element_blank())\n",
    "\n",
    "    p <- p + annotate(\"text\",x=(length(diss)+1)/2,y=38,label=\n",
    "            paste(\"R =\",\n",
    "             form(ratio_align[ratio_align$Region==r & ratio_align$metr==\"daly\",\"RCTs_nogap\"]))\n",
    "            )\n",
    "    \n",
    "    L[[i]] <- p\n",
    "}"
   ]
  },
  {
   "cell_type": "code",
   "execution_count": 11,
   "metadata": {
    "collapsed": false
   },
   "outputs": [
    {
     "data": {
      "image/png": "[encoded data removed]",
      "text/plain": [
       "plot without title"
      ]
     },
     "metadata": {},
     "output_type": "display_data"
    }
   ],
   "source": [
    "options(repr.plot.width=12, repr.plot.height=12)\n",
    "\n",
    "grid.arrange(L[[1]],L[[2]],L[[3]],L[[4]],L[[5]],L[[6]],L[[7]],L[[8]], ncol=3)"
   ]
  },
  {
   "cell_type": "code",
   "execution_count": 12,
   "metadata": {
    "collapsed": false
   },
   "outputs": [],
   "source": [
    "ggsave(filename = \"../Figures/RCTs_vs_DALYs_allregions.pdf\",\n",
    "       plot=grid.arrange(L[[1]],L[[2]],L[[3]],L[[4]],L[[5]],L[[6]],L[[7]],L[[8]], ncol=3),\n",
    "       width=15,height=15)"
   ]
  },
  {
   "cell_type": "code",
   "execution_count": null,
   "metadata": {
    "collapsed": true
   },
   "outputs": [],
   "source": []
  }
 ],
 "metadata": {
  "kernelspec": {
   "display_name": "R",
   "language": "R",
   "name": "ir"
  },
  "language_info": {
   "codemirror_mode": "r",
   "file_extension": ".r",
   "mimetype": "text/x-r-source",
   "name": "R",
   "pygments_lexer": "r",
   "version": "3.3.1"
  }
 },
 "nbformat": 4,
 "nbformat_minor": 1
}
