{
 "cells": [
  {
   "cell_type": "markdown",
   "metadata": {},
   "source": [
    "### Big table with info per region per disease of RCTs and burden"
   ]
  },
  {
   "cell_type": "code",
   "execution_count": 109,
   "metadata": {
    "collapsed": false
   },
   "outputs": [],
   "source": [
    "DT <- read.table(\"../Data/All_data.txt\")"
   ]
  },
  {
   "cell_type": "code",
   "execution_count": 110,
   "metadata": {
    "collapsed": true
   },
   "outputs": [],
   "source": [
    "#Format\n",
    "form <- function(x,type=\"Prop\"){\n",
    "paste(format(round(x[2],1),nsmall = 1),\n",
    "           ifelse(type==\"Prop\",\"% [\",\" [\"),format(round(x[1],1),nsmall = 1),\n",
    "           \"-\",format(round(x[3],1),nsmall = 1),\"]\",sep=\"\")\n",
    "    }"
   ]
  },
  {
   "cell_type": "code",
   "execution_count": 111,
   "metadata": {
    "collapsed": false
   },
   "outputs": [],
   "source": [
    "#For a given region, disease and metric of burden and research, we give all data in a readable format\n",
    "readable_numbers <- function(r,d,metr_burden=\"daly\",metr_res=\"RCTs\"){\n",
    "\n",
    "x <- DT[DT$Region==r & DT$Disease==d,c(\"Region\",\"Disease\",names(DT)[c(grep(metr_burden,names(DT)),grep(metr_res,names(DT)))])] \n",
    "    \n",
    "\n",
    "print(paste(\"In \",ifelse(r==\"All\",\"all regions\",r), \", \", \n",
    "            ifelse(d==\"All\",\"all diseases\",d), \" caused \", \n",
    "            round(x[grep(\"^burden\",names(x))]/1e6,1), \" million \", metr_burden, \"s\", sep=\"\"))\n",
    "\n",
    "print(paste(\"In \",ifelse(r==\"All\",\"all regions\",r), \", \", \n",
    "            ifelse(d==\"All\",\"all diseases\",d), \n",
    "            ifelse(metr_res==\"RCTs\",\" was studied by \",\" were enrolled \"), \n",
    "            form(x[grep(\"Nb_\",names(x))],\"Nb\"), \" \", metr_res,sep=\"\"))\n",
    "\n",
    "if(d!=\"All\"){\n",
    "    print(paste(\"In \",ifelse(r==\"All\",\"all regions\",r),\n",
    "                \": the local proportion of burden (in \",metr_burden,\") vs research (in \",\n",
    "                metr_res,\") of \",d,\" was \",\n",
    "                round(x[intersect(grep(metr_burden,names(x)),grep(\"Prop_loc\",names(x)))],1),\n",
    "                \"% vs \",\n",
    "                form(x[intersect(grep(metr_res,names(x)),grep(\"Prop_loc\",names(x)))]),sep=\"\"\n",
    "                ))\n",
    "    }\n",
    "\n",
    "if(r!=\"All\"){    \n",
    "    print(paste(\"For \",ifelse(d==\"All\",\"all diseases\",d),\n",
    "                \": the global proportion of burden (in \",metr_burden,\") vs research (in \",\n",
    "                metr_res,\") in \",r,\" was \",\n",
    "                round(x[intersect(grep(metr_burden,names(x)),grep(\"Prop_glob\",names(x)))],1),\n",
    "                \"% vs \",\n",
    "                form(x[intersect(grep(metr_res,names(x)),grep(\"Prop_glob\",names(x)))]),sep=\"\"\n",
    "                ))\n",
    "    }\n",
    "\n",
    "if(!r%in%c(\"All\",\"High-income\",\"Non-HI\")){\n",
    "    print(paste(\"For \",ifelse(d==\"All\",\"all diseases\",d),\n",
    "                \": the proportion among non-high-income regions of burden (in \",metr_burden,\n",
    "                \") vs research (in \",metr_res,\") in \",r,\" was \",\n",
    "                round(x[intersect(grep(metr_burden,names(x)),grep(\"Prop_NHI\",names(x)))],1),\n",
    "                \"% vs \",\n",
    "                form(x[intersect(grep(metr_res,names(x)),grep(\"Prop_NHI\",names(x)))]),sep=\"\"\n",
    "                ))\n",
    "    }\n",
    "\n",
    "}"
   ]
  },
  {
   "cell_type": "code",
   "execution_count": 112,
   "metadata": {
    "collapsed": false
   },
   "outputs": [
    {
     "data": {
      "text/html": [
       "<ol class=list-inline>\n",
       "\t<li>'All'</li>\n",
       "\t<li>'Central Europe, Eastern Europe, and Central Asia'</li>\n",
       "\t<li>'High-income'</li>\n",
       "\t<li>'Latin America and Caribbean'</li>\n",
       "\t<li>'Non-HI'</li>\n",
       "\t<li>'North Africa and Middle East'</li>\n",
       "\t<li>'South Asia'</li>\n",
       "\t<li>'Southeast Asia, East Asia and Oceania'</li>\n",
       "\t<li>'Sub-Saharian Africa'</li>\n",
       "</ol>\n"
      ],
      "text/latex": [
       "\\begin{enumerate*}\n",
       "\\item 'All'\n",
       "\\item 'Central Europe, Eastern Europe, and Central Asia'\n",
       "\\item 'High-income'\n",
       "\\item 'Latin America and Caribbean'\n",
       "\\item 'Non-HI'\n",
       "\\item 'North Africa and Middle East'\n",
       "\\item 'South Asia'\n",
       "\\item 'Southeast Asia, East Asia and Oceania'\n",
       "\\item 'Sub-Saharian Africa'\n",
       "\\end{enumerate*}\n"
      ],
      "text/markdown": [
       "1. 'All'\n",
       "2. 'Central Europe, Eastern Europe, and Central Asia'\n",
       "3. 'High-income'\n",
       "4. 'Latin America and Caribbean'\n",
       "5. 'Non-HI'\n",
       "6. 'North Africa and Middle East'\n",
       "7. 'South Asia'\n",
       "8. 'Southeast Asia, East Asia and Oceania'\n",
       "9. 'Sub-Saharian Africa'\n",
       "\n",
       "\n"
      ],
      "text/plain": [
       "[1] \"All\"                                             \n",
       "[2] \"Central Europe, Eastern Europe, and Central Asia\"\n",
       "[3] \"High-income\"                                     \n",
       "[4] \"Latin America and Caribbean\"                     \n",
       "[5] \"Non-HI\"                                          \n",
       "[6] \"North Africa and Middle East\"                    \n",
       "[7] \"South Asia\"                                      \n",
       "[8] \"Southeast Asia, East Asia and Oceania\"           \n",
       "[9] \"Sub-Saharian Africa\"                             "
      ]
     },
     "metadata": {},
     "output_type": "display_data"
    },
    {
     "data": {
      "text/html": [
       "<ol class=list-inline>\n",
       "\t<li>'All'</li>\n",
       "\t<li>'Cardiovascular and circulatory diseases'</li>\n",
       "\t<li>'Chronic respiratory diseases'</li>\n",
       "\t<li>'Cirrhosis of the liver'</li>\n",
       "\t<li>'Congenital anomalies'</li>\n",
       "\t<li>'Diabetes, urinary diseases and male infertility'</li>\n",
       "\t<li>'Diarrhea, lower respiratory infections, meningitis, and other common infectious diseases'</li>\n",
       "\t<li>'Digestive diseases (except cirrhosis)'</li>\n",
       "\t<li>'Gynecological diseases'</li>\n",
       "\t<li>'Hemoglobinopathies and hemolytic anemias'</li>\n",
       "\t<li>'Hepatitis'</li>\n",
       "\t<li>'HIV/AIDS'</li>\n",
       "\t<li>'Leprosy'</li>\n",
       "\t<li>'Malaria'</li>\n",
       "\t<li>'Maternal disorders'</li>\n",
       "\t<li>'Mental and behavioral disorders'</li>\n",
       "\t<li>'Musculoskeletal disorders'</li>\n",
       "\t<li>'Neglected tropical diseases excluding malaria'</li>\n",
       "\t<li>'Neonatal disorders'</li>\n",
       "\t<li>'Neoplasms'</li>\n",
       "\t<li>'Neurological disorders'</li>\n",
       "\t<li>'Nutritional deficiencies'</li>\n",
       "\t<li>'Oral disorders'</li>\n",
       "\t<li>'Sense organ diseases'</li>\n",
       "\t<li>'Sexually transmitted diseases excluding HIV'</li>\n",
       "\t<li>'Skin and subcutaneous diseases'</li>\n",
       "\t<li>'Sudden infant death syndrome'</li>\n",
       "\t<li>'Tuberculosis'</li>\n",
       "</ol>\n"
      ],
      "text/latex": [
       "\\begin{enumerate*}\n",
       "\\item 'All'\n",
       "\\item 'Cardiovascular and circulatory diseases'\n",
       "\\item 'Chronic respiratory diseases'\n",
       "\\item 'Cirrhosis of the liver'\n",
       "\\item 'Congenital anomalies'\n",
       "\\item 'Diabetes, urinary diseases and male infertility'\n",
       "\\item 'Diarrhea, lower respiratory infections, meningitis, and other common infectious diseases'\n",
       "\\item 'Digestive diseases (except cirrhosis)'\n",
       "\\item 'Gynecological diseases'\n",
       "\\item 'Hemoglobinopathies and hemolytic anemias'\n",
       "\\item 'Hepatitis'\n",
       "\\item 'HIV/AIDS'\n",
       "\\item 'Leprosy'\n",
       "\\item 'Malaria'\n",
       "\\item 'Maternal disorders'\n",
       "\\item 'Mental and behavioral disorders'\n",
       "\\item 'Musculoskeletal disorders'\n",
       "\\item 'Neglected tropical diseases excluding malaria'\n",
       "\\item 'Neonatal disorders'\n",
       "\\item 'Neoplasms'\n",
       "\\item 'Neurological disorders'\n",
       "\\item 'Nutritional deficiencies'\n",
       "\\item 'Oral disorders'\n",
       "\\item 'Sense organ diseases'\n",
       "\\item 'Sexually transmitted diseases excluding HIV'\n",
       "\\item 'Skin and subcutaneous diseases'\n",
       "\\item 'Sudden infant death syndrome'\n",
       "\\item 'Tuberculosis'\n",
       "\\end{enumerate*}\n"
      ],
      "text/markdown": [
       "1. 'All'\n",
       "2. 'Cardiovascular and circulatory diseases'\n",
       "3. 'Chronic respiratory diseases'\n",
       "4. 'Cirrhosis of the liver'\n",
       "5. 'Congenital anomalies'\n",
       "6. 'Diabetes, urinary diseases and male infertility'\n",
       "7. 'Diarrhea, lower respiratory infections, meningitis, and other common infectious diseases'\n",
       "8. 'Digestive diseases (except cirrhosis)'\n",
       "9. 'Gynecological diseases'\n",
       "10. 'Hemoglobinopathies and hemolytic anemias'\n",
       "11. 'Hepatitis'\n",
       "12. 'HIV/AIDS'\n",
       "13. 'Leprosy'\n",
       "14. 'Malaria'\n",
       "15. 'Maternal disorders'\n",
       "16. 'Mental and behavioral disorders'\n",
       "17. 'Musculoskeletal disorders'\n",
       "18. 'Neglected tropical diseases excluding malaria'\n",
       "19. 'Neonatal disorders'\n",
       "20. 'Neoplasms'\n",
       "21. 'Neurological disorders'\n",
       "22. 'Nutritional deficiencies'\n",
       "23. 'Oral disorders'\n",
       "24. 'Sense organ diseases'\n",
       "25. 'Sexually transmitted diseases excluding HIV'\n",
       "26. 'Skin and subcutaneous diseases'\n",
       "27. 'Sudden infant death syndrome'\n",
       "28. 'Tuberculosis'\n",
       "\n",
       "\n"
      ],
      "text/plain": [
       " [1] \"All\"                                                                                     \n",
       " [2] \"Cardiovascular and circulatory diseases\"                                                 \n",
       " [3] \"Chronic respiratory diseases\"                                                            \n",
       " [4] \"Cirrhosis of the liver\"                                                                  \n",
       " [5] \"Congenital anomalies\"                                                                    \n",
       " [6] \"Diabetes, urinary diseases and male infertility\"                                         \n",
       " [7] \"Diarrhea, lower respiratory infections, meningitis, and other common infectious diseases\"\n",
       " [8] \"Digestive diseases (except cirrhosis)\"                                                   \n",
       " [9] \"Gynecological diseases\"                                                                  \n",
       "[10] \"Hemoglobinopathies and hemolytic anemias\"                                                \n",
       "[11] \"Hepatitis\"                                                                               \n",
       "[12] \"HIV/AIDS\"                                                                                \n",
       "[13] \"Leprosy\"                                                                                 \n",
       "[14] \"Malaria\"                                                                                 \n",
       "[15] \"Maternal disorders\"                                                                      \n",
       "[16] \"Mental and behavioral disorders\"                                                         \n",
       "[17] \"Musculoskeletal disorders\"                                                               \n",
       "[18] \"Neglected tropical diseases excluding malaria\"                                           \n",
       "[19] \"Neonatal disorders\"                                                                      \n",
       "[20] \"Neoplasms\"                                                                               \n",
       "[21] \"Neurological disorders\"                                                                  \n",
       "[22] \"Nutritional deficiencies\"                                                                \n",
       "[23] \"Oral disorders\"                                                                          \n",
       "[24] \"Sense organ diseases\"                                                                    \n",
       "[25] \"Sexually transmitted diseases excluding HIV\"                                             \n",
       "[26] \"Skin and subcutaneous diseases\"                                                          \n",
       "[27] \"Sudden infant death syndrome\"                                                            \n",
       "[28] \"Tuberculosis\"                                                                            "
      ]
     },
     "metadata": {},
     "output_type": "display_data"
    }
   ],
   "source": [
    "levels(DT$Region)\n",
    "levels(DT$Disease)"
   ]
  },
  {
   "cell_type": "code",
   "execution_count": 113,
   "metadata": {
    "collapsed": false
   },
   "outputs": [
    {
     "name": "stdout",
     "output_type": "stream",
     "text": [
      "[1] \"In High-income, Neoplasms caused 43.3 million dalys\"\n",
      "[1] \"In High-income, Neoplasms was studied by 9501.0 [8803.0-10059.0] RCTs\"\n",
      "[1] \"In High-income: the local proportion of burden (in daly) vs research (in RCTs) of Neoplasms was 18.7% vs 14.1% [13.1-14.9]\"\n",
      "[1] \"For Neoplasms: the global proportion of burden (in daly) vs research (in RCTs) in High-income was 24.5% vs 79.0% [78.7-79.4]\"\n"
     ]
    }
   ],
   "source": [
    "readable_numbers(r = \"High-income\", d = \"Neoplasms\", metr_burden = \"daly\", metr_res = \"RCTs\")"
   ]
  },
  {
   "cell_type": "code",
   "execution_count": 114,
   "metadata": {
    "collapsed": false
   },
   "outputs": [
    {
     "name": "stdout",
     "output_type": "stream",
     "text": [
      "[1] \"In High-income, Cardiovascular and circulatory diseases caused 43.5 million dalys\"\n",
      "[1] \"In High-income, Cardiovascular and circulatory diseases was studied by 7959.0 [7101.0-8901.0] RCTs\"\n",
      "[1] \"In High-income: the local proportion of burden (in daly) vs research (in RCTs) of Cardiovascular and circulatory diseases was 18.8% vs 12.9% [11.6-14.4]\"\n",
      "[1] \"For Cardiovascular and circulatory diseases: the global proportion of burden (in daly) vs research (in RCTs) in High-income was 15.2% vs 74.5% [74.0-75.1]\"\n"
     ]
    }
   ],
   "source": [
    "readable_numbers(r = \"High-income\", d = \"Cardiovascular and circulatory diseases\", metr_burden = \"daly\", metr_res = \"RCTs\")"
   ]
  },
  {
   "cell_type": "code",
   "execution_count": 115,
   "metadata": {
    "collapsed": false
   },
   "outputs": [
    {
     "name": "stdout",
     "output_type": "stream",
     "text": [
      "[1] \"In all regions, all diseases caused 2220.1 million dalys\"\n",
      "[1] \"In all regions, all diseases was studied by 82179.0 [78661.8-85358.2] RCTs\"\n"
     ]
    }
   ],
   "source": [
    "readable_numbers(r = \"All\", d = \"All\", metr_burden = \"daly\", metr_res = \"RCTs\")"
   ]
  },
  {
   "cell_type": "code",
   "execution_count": 116,
   "metadata": {
    "collapsed": false
   },
   "outputs": [
    {
     "data": {
      "text/html": [
       "<ol class=list-inline>\n",
       "\t<li>'All'</li>\n",
       "\t<li>'Cardiovascular and circulatory diseases'</li>\n",
       "\t<li>'Chronic respiratory diseases'</li>\n",
       "\t<li>'Cirrhosis of the liver'</li>\n",
       "\t<li>'Congenital anomalies'</li>\n",
       "\t<li>'Diabetes, urinary diseases and male infertility'</li>\n",
       "\t<li>'Diarrhea, lower respiratory infections, meningitis, and other common infectious diseases'</li>\n",
       "\t<li>'Digestive diseases (except cirrhosis)'</li>\n",
       "\t<li>'Gynecological diseases'</li>\n",
       "\t<li>'Hemoglobinopathies and hemolytic anemias'</li>\n",
       "\t<li>'Hepatitis'</li>\n",
       "\t<li>'HIV/AIDS'</li>\n",
       "\t<li>'Leprosy'</li>\n",
       "\t<li>'Malaria'</li>\n",
       "\t<li>'Maternal disorders'</li>\n",
       "\t<li>'Mental and behavioral disorders'</li>\n",
       "\t<li>'Musculoskeletal disorders'</li>\n",
       "\t<li>'Neglected tropical diseases excluding malaria'</li>\n",
       "\t<li>'Neonatal disorders'</li>\n",
       "\t<li>'Neoplasms'</li>\n",
       "\t<li>'Neurological disorders'</li>\n",
       "\t<li>'Nutritional deficiencies'</li>\n",
       "\t<li>'Oral disorders'</li>\n",
       "\t<li>'Sense organ diseases'</li>\n",
       "\t<li>'Sexually transmitted diseases excluding HIV'</li>\n",
       "\t<li>'Skin and subcutaneous diseases'</li>\n",
       "\t<li>'Sudden infant death syndrome'</li>\n",
       "\t<li>'Tuberculosis'</li>\n",
       "</ol>\n"
      ],
      "text/latex": [
       "\\begin{enumerate*}\n",
       "\\item 'All'\n",
       "\\item 'Cardiovascular and circulatory diseases'\n",
       "\\item 'Chronic respiratory diseases'\n",
       "\\item 'Cirrhosis of the liver'\n",
       "\\item 'Congenital anomalies'\n",
       "\\item 'Diabetes, urinary diseases and male infertility'\n",
       "\\item 'Diarrhea, lower respiratory infections, meningitis, and other common infectious diseases'\n",
       "\\item 'Digestive diseases (except cirrhosis)'\n",
       "\\item 'Gynecological diseases'\n",
       "\\item 'Hemoglobinopathies and hemolytic anemias'\n",
       "\\item 'Hepatitis'\n",
       "\\item 'HIV/AIDS'\n",
       "\\item 'Leprosy'\n",
       "\\item 'Malaria'\n",
       "\\item 'Maternal disorders'\n",
       "\\item 'Mental and behavioral disorders'\n",
       "\\item 'Musculoskeletal disorders'\n",
       "\\item 'Neglected tropical diseases excluding malaria'\n",
       "\\item 'Neonatal disorders'\n",
       "\\item 'Neoplasms'\n",
       "\\item 'Neurological disorders'\n",
       "\\item 'Nutritional deficiencies'\n",
       "\\item 'Oral disorders'\n",
       "\\item 'Sense organ diseases'\n",
       "\\item 'Sexually transmitted diseases excluding HIV'\n",
       "\\item 'Skin and subcutaneous diseases'\n",
       "\\item 'Sudden infant death syndrome'\n",
       "\\item 'Tuberculosis'\n",
       "\\end{enumerate*}\n"
      ],
      "text/markdown": [
       "1. 'All'\n",
       "2. 'Cardiovascular and circulatory diseases'\n",
       "3. 'Chronic respiratory diseases'\n",
       "4. 'Cirrhosis of the liver'\n",
       "5. 'Congenital anomalies'\n",
       "6. 'Diabetes, urinary diseases and male infertility'\n",
       "7. 'Diarrhea, lower respiratory infections, meningitis, and other common infectious diseases'\n",
       "8. 'Digestive diseases (except cirrhosis)'\n",
       "9. 'Gynecological diseases'\n",
       "10. 'Hemoglobinopathies and hemolytic anemias'\n",
       "11. 'Hepatitis'\n",
       "12. 'HIV/AIDS'\n",
       "13. 'Leprosy'\n",
       "14. 'Malaria'\n",
       "15. 'Maternal disorders'\n",
       "16. 'Mental and behavioral disorders'\n",
       "17. 'Musculoskeletal disorders'\n",
       "18. 'Neglected tropical diseases excluding malaria'\n",
       "19. 'Neonatal disorders'\n",
       "20. 'Neoplasms'\n",
       "21. 'Neurological disorders'\n",
       "22. 'Nutritional deficiencies'\n",
       "23. 'Oral disorders'\n",
       "24. 'Sense organ diseases'\n",
       "25. 'Sexually transmitted diseases excluding HIV'\n",
       "26. 'Skin and subcutaneous diseases'\n",
       "27. 'Sudden infant death syndrome'\n",
       "28. 'Tuberculosis'\n",
       "\n",
       "\n"
      ],
      "text/plain": [
       " [1] \"All\"                                                                                     \n",
       " [2] \"Cardiovascular and circulatory diseases\"                                                 \n",
       " [3] \"Chronic respiratory diseases\"                                                            \n",
       " [4] \"Cirrhosis of the liver\"                                                                  \n",
       " [5] \"Congenital anomalies\"                                                                    \n",
       " [6] \"Diabetes, urinary diseases and male infertility\"                                         \n",
       " [7] \"Diarrhea, lower respiratory infections, meningitis, and other common infectious diseases\"\n",
       " [8] \"Digestive diseases (except cirrhosis)\"                                                   \n",
       " [9] \"Gynecological diseases\"                                                                  \n",
       "[10] \"Hemoglobinopathies and hemolytic anemias\"                                                \n",
       "[11] \"Hepatitis\"                                                                               \n",
       "[12] \"HIV/AIDS\"                                                                                \n",
       "[13] \"Leprosy\"                                                                                 \n",
       "[14] \"Malaria\"                                                                                 \n",
       "[15] \"Maternal disorders\"                                                                      \n",
       "[16] \"Mental and behavioral disorders\"                                                         \n",
       "[17] \"Musculoskeletal disorders\"                                                               \n",
       "[18] \"Neglected tropical diseases excluding malaria\"                                           \n",
       "[19] \"Neonatal disorders\"                                                                      \n",
       "[20] \"Neoplasms\"                                                                               \n",
       "[21] \"Neurological disorders\"                                                                  \n",
       "[22] \"Nutritional deficiencies\"                                                                \n",
       "[23] \"Oral disorders\"                                                                          \n",
       "[24] \"Sense organ diseases\"                                                                    \n",
       "[25] \"Sexually transmitted diseases excluding HIV\"                                             \n",
       "[26] \"Skin and subcutaneous diseases\"                                                          \n",
       "[27] \"Sudden infant death syndrome\"                                                            \n",
       "[28] \"Tuberculosis\"                                                                            "
      ]
     },
     "metadata": {},
     "output_type": "display_data"
    }
   ],
   "source": [
    "levels(DT$Disease)"
   ]
  },
  {
   "cell_type": "code",
   "execution_count": 117,
   "metadata": {
    "collapsed": false
   },
   "outputs": [
    {
     "name": "stdout",
     "output_type": "stream",
     "text": [
      "[1] \"In all regions, Diarrhea, lower respiratory infections, meningitis, and other common infectious diseases caused 329.3 million dalys\"\n",
      "[1] \"In all regions, Diarrhea, lower respiratory infections, meningitis, and other common infectious diseases was studied by 3497.0 [2855.0-4273.0] RCTs\"\n",
      "[1] \"In all regions: the local proportion of burden (in daly) vs research (in RCTs) of Diarrhea, lower respiratory infections, meningitis, and other common infectious diseases was 14.8% vs 4.2% [3.4-5.2]\"\n"
     ]
    }
   ],
   "source": [
    "readable_numbers(r = \"All\", \n",
    "                 d = \"Diarrhea, lower respiratory infections, meningitis, and other common infectious diseases\", \n",
    "                 metr_burden = \"daly\", \n",
    "                 metr_res = \"RCTs\")"
   ]
  },
  {
   "cell_type": "code",
   "execution_count": 118,
   "metadata": {
    "collapsed": false
   },
   "outputs": [
    {
     "name": "stdout",
     "output_type": "stream",
     "text": [
      "[1] \"In all regions, Neonatal disorders caused 220.3 million dalys\"\n",
      "[1] \"In all regions, Neonatal disorders was studied by 1424.0 [639.0-3612.8] RCTs\"\n",
      "[1] \"In all regions: the local proportion of burden (in daly) vs research (in RCTs) of Neonatal disorders was 9.9% vs 1.7% [0.8-4.3]\"\n"
     ]
    }
   ],
   "source": [
    "readable_numbers(r = \"All\", \n",
    "                 d = \"Neonatal disorders\", \n",
    "                 metr_burden = \"daly\", \n",
    "                 metr_res = \"RCTs\")"
   ]
  },
  {
   "cell_type": "markdown",
   "metadata": {
    "collapsed": true
   },
   "source": [
    "### Gaps"
   ]
  },
  {
   "cell_type": "code",
   "execution_count": 119,
   "metadata": {
    "collapsed": false
   },
   "outputs": [],
   "source": [
    "gaps <- function(r,metr_burden=\"daly\",metr_res=\"RCTs\"){\n",
    "\n",
    "    print(paste(\"Gaps comparing local proportion of burden in \",metr_burden,\n",
    "                \"s vs local proportion of research in \",metr_res,sep=\"\"))\n",
    "    x <- DT[DT$Region==r,c(\"Region\",\"Disease\",names(DT)[c(grep(metr_burden,names(DT)),grep(metr_res,names(DT)))])] \n",
    "\n",
    "    x <- x[!is.na(x[,intersect(intersect(grep(metr_res,names(x)),grep(\"Prop_loc\",names(x))),grep(\"up\",names(x)))]) \n",
    "      & x[,intersect(grep(metr_burden,names(x)),grep(\"Prop_loc\",names(x)))] > \n",
    "      2*x[,intersect(intersect(grep(metr_res,names(x)),grep(\"Prop_loc\",names(x))),grep(\"up\",names(x)))],]\n",
    "\n",
    "    x <- x[order(x[,intersect(grep(metr_burden,names(x)),grep(\"Prop_loc\",names(x)))],decreasing=TRUE),]\n",
    "    print(paste(r,\": \",nrow(x),\" gaps found:\",sep=\"\"))\n",
    "    if(nrow(x)!=0){\n",
    "    for(i in 1:nrow(x)){\n",
    "    k <- x[i,]\n",
    "    print(paste(k$Disease,\": \",form(k[intersect(grep(metr_res,names(x)),grep(\"Prop_loc\",names(x)))]), \" vs \",\n",
    "    round(k[intersect(grep(metr_burden,names(x)),grep(\"Prop_loc\",names(x)))],1),\"%\",sep=\"\"))\n",
    "    }\n",
    "    }\n",
    "}"
   ]
  },
  {
   "cell_type": "code",
   "execution_count": 120,
   "metadata": {
    "collapsed": true
   },
   "outputs": [],
   "source": [
    "r <- 'Sub-Saharian Africa'\n",
    "metr_burden <- \"daly\"\n",
    "metr_res <- \"RCTs\""
   ]
  },
  {
   "cell_type": "code",
   "execution_count": 121,
   "metadata": {
    "collapsed": false
   },
   "outputs": [
    {
     "name": "stdout",
     "output_type": "stream",
     "text": [
      "[1] \"Gaps comparing local proportion of burden in dalys vs local proportion of research in RCTs\"\n",
      "[1] \"Sub-Saharian Africa: 2 gaps found:\"\n",
      "[1] \"Diarrhea, lower respiratory infections, meningitis, and other common infectious diseases: 5.8% [4.7-6.9] vs 22.9%\"\n",
      "[1] \"Neonatal disorders: 2.0% [0.9-4.5] vs 11.6%\"\n"
     ]
    }
   ],
   "source": [
    "gaps(r,metr_burden,metr_res)"
   ]
  },
  {
   "cell_type": "code",
   "execution_count": 122,
   "metadata": {
    "collapsed": false,
    "scrolled": false
   },
   "outputs": [
    {
     "name": "stdout",
     "output_type": "stream",
     "text": [
      "[1] \"Gaps comparing local proportion of burden in dalys vs local proportion of research in RCTs\"\n",
      "[1] \"All: 5 gaps found:\"\n",
      "[1] \"Diarrhea, lower respiratory infections, meningitis, and other common infectious diseases: 4.2% [3.4-5.2] vs 14.8%\"\n",
      "[1] \"Neonatal disorders: 1.7% [0.8-4.3] vs 9.9%\"\n",
      "[1] \"Malaria: 0.5% [0.3-0.6] vs 4.6%\"\n",
      "[1] \"HIV/AIDS: 1.7% [1.3-2.1] vs 4.3%\"\n",
      "[1] \"Tuberculosis: 0.4% [0.1-0.5] vs 2.5%\"\n",
      "[1] \"Gaps comparing local proportion of burden in dalys vs local proportion of research in RCTs\"\n",
      "[1] \"Central Europe, Eastern Europe, and Central Asia: 2 gaps found:\"\n",
      "[1] \"Cardiovascular and circulatory diseases: 12.5% [11.1-14.0] vs 35.1%\"\n",
      "[1] \"Tuberculosis: 0.3% [0.1-0.5] vs 1.8%\"\n",
      "[1] \"Gaps comparing local proportion of burden in dalys vs local proportion of research in RCTs\"\n",
      "[1] \"High-income: 0 gaps found:\"\n",
      "[1] \"Gaps comparing local proportion of burden in dalys vs local proportion of research in RCTs\"\n",
      "[1] \"Latin America and Caribbean: 1 gaps found:\"\n",
      "[1] \"Neonatal disorders: 1.6% [0.7-4.0] vs 8.7%\"\n",
      "[1] \"Gaps comparing local proportion of burden in dalys vs local proportion of research in RCTs\"\n",
      "[1] \"North Africa and Middle East: 3 gaps found:\"\n",
      "[1] \"Diarrhea, lower respiratory infections, meningitis, and other common infectious diseases: 3.3% [2.6-4.2] vs 10.5%\"\n",
      "[1] \"Tuberculosis: 0.2% [0.1-0.4] vs 0.9%\"\n",
      "[1] \"Malaria: 0.0% [0.0-0.1] vs 0.5%\"\n",
      "[1] \"Gaps comparing local proportion of burden in dalys vs local proportion of research in RCTs\"\n",
      "[1] \"South Asia: 3 gaps found:\"\n",
      "[1] \"Diarrhea, lower respiratory infections, meningitis, and other common infectious diseases: 7.0% [5.8-8.3] vs 21.4%\"\n",
      "[1] \"Neonatal disorders: 2.3% [1.1-4.9] vs 16.5%\"\n",
      "[1] \"Tuberculosis: 0.9% [0.2-1.3] vs 3.9%\"\n",
      "[1] \"Gaps comparing local proportion of burden in dalys vs local proportion of research in RCTs\"\n",
      "[1] \"Southeast Asia, East Asia and Oceania: 1 gaps found:\"\n",
      "[1] \"Tuberculosis: 0.6% [0.2-0.9] vs 2.8%\"\n",
      "[1] \"Gaps comparing local proportion of burden in dalys vs local proportion of research in RCTs\"\n",
      "[1] \"Sub-Saharian Africa: 2 gaps found:\"\n",
      "[1] \"Diarrhea, lower respiratory infections, meningitis, and other common infectious diseases: 5.8% [4.7-6.9] vs 22.9%\"\n",
      "[1] \"Neonatal disorders: 2.0% [0.9-4.5] vs 11.6%\"\n"
     ]
    },
    {
     "data": {
      "text/html": [
       "<ol>\n",
       "\t<li>NULL</li>\n",
       "\t<li>NULL</li>\n",
       "\t<li>NULL</li>\n",
       "\t<li>NULL</li>\n",
       "\t<li>NULL</li>\n",
       "\t<li>NULL</li>\n",
       "\t<li>NULL</li>\n",
       "\t<li>NULL</li>\n",
       "</ol>\n"
      ],
      "text/latex": [
       "\\begin{enumerate}\n",
       "\\item NULL\n",
       "\\item NULL\n",
       "\\item NULL\n",
       "\\item NULL\n",
       "\\item NULL\n",
       "\\item NULL\n",
       "\\item NULL\n",
       "\\item NULL\n",
       "\\end{enumerate}\n"
      ],
      "text/markdown": [
       "1. NULL\n",
       "2. NULL\n",
       "3. NULL\n",
       "4. NULL\n",
       "5. NULL\n",
       "6. NULL\n",
       "7. NULL\n",
       "8. NULL\n",
       "\n",
       "\n"
      ],
      "text/plain": [
       "[[1]]\n",
       "NULL\n",
       "\n",
       "[[2]]\n",
       "NULL\n",
       "\n",
       "[[3]]\n",
       "NULL\n",
       "\n",
       "[[4]]\n",
       "NULL\n",
       "\n",
       "[[5]]\n",
       "NULL\n",
       "\n",
       "[[6]]\n",
       "NULL\n",
       "\n",
       "[[7]]\n",
       "NULL\n",
       "\n",
       "[[8]]\n",
       "NULL\n"
      ]
     },
     "metadata": {},
     "output_type": "display_data"
    }
   ],
   "source": [
    "regs <- levels(DT$Region)\n",
    "regs <- regs[regs!=\"Non-HI\"]\n",
    "lapply(regs,gaps)"
   ]
  },
  {
   "cell_type": "code",
   "execution_count": 123,
   "metadata": {
    "collapsed": false
   },
   "outputs": [
    {
     "name": "stdout",
     "output_type": "stream",
     "text": [
      "[1] \"In Sub-Saharian Africa, HIV/AIDS caused 73.5 million dalys\"\n",
      "[1] \"In Sub-Saharian Africa, HIV/AIDS was studied by 319.0 [245.0-366.0] RCTs\"\n",
      "[1] \"In Sub-Saharian Africa: the local proportion of burden (in daly) vs research (in RCTs) of HIV/AIDS was 13.4% vs 13.8% [10.8-15.7]\"\n",
      "[1] \"For HIV/AIDS: the global proportion of burden (in daly) vs research (in RCTs) in Sub-Saharian Africa was 76.5% vs 21.4% [19.5-23.0]\"\n",
      "[1] \"For HIV/AIDS: the proportion among non-high-income regions of burden (in daly) vs research (in RCTs) in Sub-Saharian Africa was 77.5% vs 52.7% [48.8-55.9]\"\n"
     ]
    }
   ],
   "source": [
    "readable_numbers(r = \"Sub-Saharian Africa\", \n",
    "                 d = \"HIV/AIDS\")"
   ]
  },
  {
   "cell_type": "code",
   "execution_count": 124,
   "metadata": {
    "collapsed": false,
    "scrolled": true
   },
   "outputs": [
    {
     "name": "stdout",
     "output_type": "stream",
     "text": [
      "[1] \"In Sub-Saharian Africa, Malaria caused 91.4 million dalys\"\n",
      "[1] \"In Sub-Saharian Africa, Malaria was studied by 274.0 [162.0-316.0] RCTs\"\n",
      "[1] \"In Sub-Saharian Africa: the local proportion of burden (in daly) vs research (in RCTs) of Malaria was 16.7% vs 11.9% [7.3-13.7]\"\n",
      "[1] \"For Malaria: the global proportion of burden (in daly) vs research (in RCTs) in Sub-Saharian Africa was 90.2% vs 63.5% [52.5-67.4]\"\n",
      "[1] \"For Malaria: the proportion among non-high-income regions of burden (in daly) vs research (in RCTs) in Sub-Saharian Africa was 90.2% vs 74.7% [69.1-77.4]\"\n"
     ]
    }
   ],
   "source": [
    "readable_numbers(r = \"Sub-Saharian Africa\", \n",
    "                 d = \"Malaria\")"
   ]
  },
  {
   "cell_type": "code",
   "execution_count": 125,
   "metadata": {
    "collapsed": false
   },
   "outputs": [
    {
     "data": {
      "text/html": [
       "<ol class=list-inline>\n",
       "\t<li>'All'</li>\n",
       "\t<li>'Central Europe, Eastern Europe, and Central Asia'</li>\n",
       "\t<li>'High-income'</li>\n",
       "\t<li>'Latin America and Caribbean'</li>\n",
       "\t<li>'North Africa and Middle East'</li>\n",
       "\t<li>'South Asia'</li>\n",
       "\t<li>'Southeast Asia, East Asia and Oceania'</li>\n",
       "\t<li>'Sub-Saharian Africa'</li>\n",
       "</ol>\n"
      ],
      "text/latex": [
       "\\begin{enumerate*}\n",
       "\\item 'All'\n",
       "\\item 'Central Europe, Eastern Europe, and Central Asia'\n",
       "\\item 'High-income'\n",
       "\\item 'Latin America and Caribbean'\n",
       "\\item 'North Africa and Middle East'\n",
       "\\item 'South Asia'\n",
       "\\item 'Southeast Asia, East Asia and Oceania'\n",
       "\\item 'Sub-Saharian Africa'\n",
       "\\end{enumerate*}\n"
      ],
      "text/markdown": [
       "1. 'All'\n",
       "2. 'Central Europe, Eastern Europe, and Central Asia'\n",
       "3. 'High-income'\n",
       "4. 'Latin America and Caribbean'\n",
       "5. 'North Africa and Middle East'\n",
       "6. 'South Asia'\n",
       "7. 'Southeast Asia, East Asia and Oceania'\n",
       "8. 'Sub-Saharian Africa'\n",
       "\n",
       "\n"
      ],
      "text/plain": [
       "[1] \"All\"                                             \n",
       "[2] \"Central Europe, Eastern Europe, and Central Asia\"\n",
       "[3] \"High-income\"                                     \n",
       "[4] \"Latin America and Caribbean\"                     \n",
       "[5] \"North Africa and Middle East\"                    \n",
       "[6] \"South Asia\"                                      \n",
       "[7] \"Southeast Asia, East Asia and Oceania\"           \n",
       "[8] \"Sub-Saharian Africa\"                             "
      ]
     },
     "metadata": {},
     "output_type": "display_data"
    }
   ],
   "source": [
    "regs"
   ]
  },
  {
   "cell_type": "code",
   "execution_count": 126,
   "metadata": {
    "collapsed": false
   },
   "outputs": [
    {
     "name": "stdout",
     "output_type": "stream",
     "text": [
      "[1] \"Gaps comparing local proportion of burden in dalys vs local proportion of research in Patients\"\n",
      "[1] \"All: 0 gaps found:\"\n",
      "[1] \"Gaps comparing local proportion of burden in dalys vs local proportion of research in Patients\"\n",
      "[1] \"Central Europe, Eastern Europe, and Central Asia: 2 gaps found:\"\n",
      "[1] \"Cirrhosis of the liver: 0.6% [0.2-1.3] vs 2.7%\"\n",
      "[1] \"Tuberculosis: 0.2% [0.1-0.5] vs 1.8%\"\n",
      "[1] \"Gaps comparing local proportion of burden in dalys vs local proportion of research in Patients\"\n",
      "[1] \"High-income: 0 gaps found:\"\n",
      "[1] \"Gaps comparing local proportion of burden in dalys vs local proportion of research in Patients\"\n",
      "[1] \"Latin America and Caribbean: 0 gaps found:\"\n",
      "[1] \"Gaps comparing local proportion of burden in dalys vs local proportion of research in Patients\"\n",
      "[1] \"North Africa and Middle East: 2 gaps found:\"\n",
      "[1] \"Diarrhea, lower respiratory infections, meningitis, and other common infectious diseases: 3.9% [3.0-5.2] vs 10.5%\"\n",
      "[1] \"Malaria: 0.0% [0.0-0.2] vs 0.5%\"\n",
      "[1] \"Gaps comparing local proportion of burden in dalys vs local proportion of research in Patients\"\n",
      "[1] \"South Asia: 1 gaps found:\"\n",
      "[1] \"Tuberculosis: 0.8% [0.2-1.3] vs 3.9%\"\n",
      "[1] \"Gaps comparing local proportion of burden in dalys vs local proportion of research in Patients\"\n",
      "[1] \"Southeast Asia, East Asia and Oceania: 1 gaps found:\"\n",
      "[1] \"Tuberculosis: 0.9% [0.2-1.3] vs 2.8%\"\n",
      "[1] \"Gaps comparing local proportion of burden in dalys vs local proportion of research in Patients\"\n",
      "[1] \"Sub-Saharian Africa: 1 gaps found:\"\n",
      "[1] \"Diarrhea, lower respiratory infections, meningitis, and other common infectious diseases: 5.6% [2.3-9.9] vs 22.9%\"\n"
     ]
    },
    {
     "data": {
      "text/html": [
       "<ol>\n",
       "\t<li>NULL</li>\n",
       "\t<li>NULL</li>\n",
       "\t<li>NULL</li>\n",
       "\t<li>NULL</li>\n",
       "\t<li>NULL</li>\n",
       "\t<li>NULL</li>\n",
       "\t<li>NULL</li>\n",
       "\t<li>NULL</li>\n",
       "</ol>\n"
      ],
      "text/latex": [
       "\\begin{enumerate}\n",
       "\\item NULL\n",
       "\\item NULL\n",
       "\\item NULL\n",
       "\\item NULL\n",
       "\\item NULL\n",
       "\\item NULL\n",
       "\\item NULL\n",
       "\\item NULL\n",
       "\\end{enumerate}\n"
      ],
      "text/markdown": [
       "1. NULL\n",
       "2. NULL\n",
       "3. NULL\n",
       "4. NULL\n",
       "5. NULL\n",
       "6. NULL\n",
       "7. NULL\n",
       "8. NULL\n",
       "\n",
       "\n"
      ],
      "text/plain": [
       "[[1]]\n",
       "NULL\n",
       "\n",
       "[[2]]\n",
       "NULL\n",
       "\n",
       "[[3]]\n",
       "NULL\n",
       "\n",
       "[[4]]\n",
       "NULL\n",
       "\n",
       "[[5]]\n",
       "NULL\n",
       "\n",
       "[[6]]\n",
       "NULL\n",
       "\n",
       "[[7]]\n",
       "NULL\n",
       "\n",
       "[[8]]\n",
       "NULL\n"
      ]
     },
     "metadata": {},
     "output_type": "display_data"
    }
   ],
   "source": [
    "lapply(regs,function(x){gaps(r=x,metr_res=\"Patients\")})"
   ]
  },
  {
   "cell_type": "code",
   "execution_count": 127,
   "metadata": {
    "collapsed": false
   },
   "outputs": [],
   "source": [
    "r <- 'Sub-Saharian Africa'\n",
    "metr_burden <- \"daly\"\n",
    "metr_res <- \"Patients\""
   ]
  },
  {
   "cell_type": "code",
   "execution_count": 128,
   "metadata": {
    "collapsed": false
   },
   "outputs": [
    {
     "name": "stdout",
     "output_type": "stream",
     "text": [
      "[1] \"Gaps comparing local proportion of burden in dalys vs local proportion of research in Patients\"\n",
      "[1] \"Sub-Saharian Africa: 1 gaps found:\"\n",
      "[1] \"Diarrhea, lower respiratory infections, meningitis, and other common infectious diseases: 5.6% [2.3-9.9] vs 22.9%\"\n"
     ]
    }
   ],
   "source": [
    "gaps(r = r,metr_burden = metr_burden, metr_res=metr_res)"
   ]
  },
  {
   "cell_type": "code",
   "execution_count": 129,
   "metadata": {
    "collapsed": true
   },
   "outputs": [],
   "source": [
    "x <- DT[DT$Region==r,c(\"Region\",\"Disease\",names(DT)[c(grep(metr_burden,names(DT)),grep(metr_res,names(DT)))])] "
   ]
  },
  {
   "cell_type": "code",
   "execution_count": 130,
   "metadata": {
    "collapsed": true
   },
   "outputs": [],
   "source": [
    "x <- x[!is.na(x[,intersect(intersect(grep(metr_res,names(x)),grep(\"Prop_loc\",names(x))),grep(\"up\",names(x)))]) \n",
    "      & x[,intersect(grep(metr_burden,names(x)),grep(\"Prop_loc\",names(x)))] > \n",
    "      2*x[,intersect(intersect(grep(metr_res,names(x)),grep(\"Prop_loc\",names(x))),grep(\"up\",names(x)))],]\n",
    "\n"
   ]
  },
  {
   "cell_type": "code",
   "execution_count": 131,
   "metadata": {
    "collapsed": true
   },
   "outputs": [],
   "source": [
    "    x <- x[order(x[,intersect(grep(metr_burden,names(x)),grep(\"Prop_loc\",names(x)))],decreasing=TRUE),]\n"
   ]
  },
  {
   "cell_type": "code",
   "execution_count": 132,
   "metadata": {
    "collapsed": false
   },
   "outputs": [
    {
     "data": {
      "text/html": [
       "<table>\n",
       "<thead><tr><th></th><th scope=col>Region</th><th scope=col>Disease</th><th scope=col>burden_daly</th><th scope=col>Prop_loc_burden_daly</th><th scope=col>Prop_glob_burden_daly</th><th scope=col>Prop_NHI_burden_daly</th><th scope=col>Nb_Patients_low</th><th scope=col>Nb_Patients_med</th><th scope=col>Nb_Patients_up</th><th scope=col>Prop_loc_Patients_low</th><th scope=col>Prop_loc_Patients_med</th><th scope=col>Prop_loc_Patients_up</th><th scope=col>Prop_glob_Patients_low</th><th scope=col>Prop_glob_Patients_med</th><th scope=col>Prop_glob_Patients_up</th><th scope=col>Prop_NHI_Patients_low</th><th scope=col>Prop_NHI_Patients_med</th><th scope=col>Prop_NHI_Patients_up</th></tr></thead>\n",
       "<tbody>\n",
       "\t<tr><th scope=row>231</th><td>Sub-Saharian Africa                                                                     </td><td>Diarrhea, lower respiratory infections, meningitis, and other common infectious diseases</td><td>125531847.741516                                                                        </td><td>22.9258956705191                                                                        </td><td>38.1224905842441                                                                        </td><td>38.9321072337489                                                                        </td><td>79411.2027175487                                                                        </td><td>195483.586003594                                                                        </td><td>344711.512564562                                                                        </td><td>2.27264257136015                                                                        </td><td>5.57577450297116                                                                        </td><td>9.87487447800421                                                                        </td><td>3.61888273336711                                                                        </td><td>8.16715517871999                                                                        </td><td>13.5659020621904                                                                        </td><td>9.9503418163965                                                                         </td><td>20.981249246535                                                                         </td><td>32.3609016906431                                                                        </td></tr>\n",
       "</tbody>\n",
       "</table>\n"
      ],
      "text/latex": [
       "\\begin{tabular}{r|llllllllllllllllll}\n",
       "  & Region & Disease & burden\\_daly & Prop\\_loc\\_burden\\_daly & Prop\\_glob\\_burden\\_daly & Prop\\_NHI\\_burden\\_daly & Nb\\_Patients\\_low & Nb\\_Patients\\_med & Nb\\_Patients\\_up & Prop\\_loc\\_Patients\\_low & Prop\\_loc\\_Patients\\_med & Prop\\_loc\\_Patients\\_up & Prop\\_glob\\_Patients\\_low & Prop\\_glob\\_Patients\\_med & Prop\\_glob\\_Patients\\_up & Prop\\_NHI\\_Patients\\_low & Prop\\_NHI\\_Patients\\_med & Prop\\_NHI\\_Patients\\_up\\\\\n",
       "\\hline\n",
       "\t231 & Sub-Saharian Africa                                                                      & Diarrhea, lower respiratory infections, meningitis, and other common infectious diseases & 125531847.741516                                                                         & 22.9258956705191                                                                         & 38.1224905842441                                                                         & 38.9321072337489                                                                         & 79411.2027175487                                                                         & 195483.586003594                                                                         & 344711.512564562                                                                         & 2.27264257136015                                                                         & 5.57577450297116                                                                         & 9.87487447800421                                                                         & 3.61888273336711                                                                         & 8.16715517871999                                                                         & 13.5659020621904                                                                         & 9.9503418163965                                                                          & 20.981249246535                                                                          & 32.3609016906431                                                                        \\\\\n",
       "\\end{tabular}\n"
      ],
      "text/plain": [
       "                 Region\n",
       "231 Sub-Saharian Africa\n",
       "                                                                                     Disease\n",
       "231 Diarrhea, lower respiratory infections, meningitis, and other common infectious diseases\n",
       "    burden_daly Prop_loc_burden_daly Prop_glob_burden_daly Prop_NHI_burden_daly\n",
       "231   125531848              22.9259              38.12249             38.93211\n",
       "    Nb_Patients_low Nb_Patients_med Nb_Patients_up Prop_loc_Patients_low\n",
       "231         79411.2        195483.6       344711.5              2.272643\n",
       "    Prop_loc_Patients_med Prop_loc_Patients_up Prop_glob_Patients_low\n",
       "231              5.575775             9.874874               3.618883\n",
       "    Prop_glob_Patients_med Prop_glob_Patients_up Prop_NHI_Patients_low\n",
       "231               8.167155               13.5659              9.950342\n",
       "    Prop_NHI_Patients_med Prop_NHI_Patients_up\n",
       "231              20.98125              32.3609"
      ]
     },
     "metadata": {},
     "output_type": "display_data"
    }
   ],
   "source": [
    "x"
   ]
  },
  {
   "cell_type": "code",
   "execution_count": 133,
   "metadata": {
    "collapsed": false
   },
   "outputs": [
    {
     "name": "stdout",
     "output_type": "stream",
     "text": [
      "[1] \"In Southeast Asia, East Asia and Oceania, Cardiovascular and circulatory diseases caused 81.7 million dalys\"\n",
      "[1] \"In Southeast Asia, East Asia and Oceania, Cardiovascular and circulatory diseases were enrolled 627800.0 [490332.8-829407.1] Patients\"\n",
      "[1] \"In Southeast Asia, East Asia and Oceania: the local proportion of burden (in daly) vs research (in Patients) of Cardiovascular and circulatory diseases was 17.7% vs 19.6% [15.3-25.4]\"\n",
      "[1] \"For Cardiovascular and circulatory diseases: the global proportion of burden (in daly) vs research (in Patients) in Southeast Asia, East Asia and Oceania was 28.4% vs 13.1% [10.7-16.6]\"\n",
      "[1] \"For Cardiovascular and circulatory diseases: the proportion among non-high-income regions of burden (in daly) vs research (in Patients) in Southeast Asia, East Asia and Oceania was 33.5% vs 38.0% [30.9-46.5]\"\n"
     ]
    }
   ],
   "source": [
    "readable_numbers(r = \"Southeast Asia, East Asia and Oceania\", \n",
    "                 d  = \"Cardiovascular and circulatory diseases\",\n",
    "                metr_burden=\"daly\",\n",
    "                metr_res=\"Patients\")"
   ]
  }
 ],
 "metadata": {
  "kernelspec": {
   "display_name": "R",
   "language": "R",
   "name": "ir"
  },
  "language_info": {
   "codemirror_mode": "r",
   "file_extension": ".r",
   "mimetype": "text/x-r-source",
   "name": "R",
   "pygments_lexer": "r",
   "version": "3.3.1"
  }
 },
 "nbformat": 4,
 "nbformat_minor": 1
}
