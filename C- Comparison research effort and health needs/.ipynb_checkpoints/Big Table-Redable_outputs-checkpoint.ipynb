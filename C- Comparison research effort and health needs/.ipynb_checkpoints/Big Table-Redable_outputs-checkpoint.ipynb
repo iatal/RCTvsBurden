{
 "cells": [
  {
   "cell_type": "markdown",
   "metadata": {},
   "source": [
    "### Big table with info per region per disease of RCTs and burden"
   ]
  },
  {
   "cell_type": "code",
   "execution_count": 1,
   "metadata": {
    "collapsed": false
   },
   "outputs": [],
   "source": [
    "DT <- read.table(\"../Data/All_data.txt\")"
   ]
  },
  {
   "cell_type": "code",
   "execution_count": 2,
   "metadata": {
    "collapsed": true
   },
   "outputs": [],
   "source": [
    "#Format\n",
    "form <- function(x,type=\"Prop\"){\n",
    "paste(format(round(x[2],1),nsmall = 1),\n",
    "           ifelse(type==\"Prop\",\"% [\",\" [\"),format(round(x[1],1),nsmall = 1),\n",
    "           \"-\",format(round(x[3],1),nsmall = 1),\"]\",sep=\"\")\n",
    "    }"
   ]
  },
  {
   "cell_type": "code",
   "execution_count": 3,
   "metadata": {
    "collapsed": false
   },
   "outputs": [],
   "source": [
    "#For a given region, disease and metric of burden and research, we give all data in a readable format\n",
    "readable_numbers <- function(r,d,metr_burden,metr_res){\n",
    "\n",
    "x <- DT[DT$Region==r & DT$Disease==d,c(\"Region\",\"Disease\",names(DT)[c(grep(metr_burden,names(DT)),grep(metr_res,names(DT)))])] \n",
    "    \n",
    "\n",
    "print(paste(\"In \",ifelse(r==\"All\",\"all regions\",r), \", \", \n",
    "            ifelse(d==\"All\",\"all diseases\",d), \" caused \", \n",
    "            round(x[grep(\"^burden\",names(x))]/1e6,1), \" million \", metr_burden, \"s\", sep=\"\"))\n",
    "\n",
    "print(paste(\"In \",ifelse(r==\"All\",\"all regions\",r), \", \", \n",
    "            ifelse(d==\"All\",\"all diseases\",d), \n",
    "            ifelse(metr_res==\"RCTs\",\" was studied by \",\" were enrolled \"), \n",
    "            form(x[grep(\"Nb_\",names(x))],\"Nb\"), \" \", metr_res,sep=\"\"))\n",
    "\n",
    "if(d!=\"All\"){\n",
    "    print(paste(\"In \",ifelse(r==\"All\",\"all regions\",r),\n",
    "                \": the local proportion of burden (in \",metr_burden,\") vs research (in \",\n",
    "                metr_res,\") of \",d,\" was \",\n",
    "                round(x[intersect(grep(metr_burden,names(x)),grep(\"Prop_loc\",names(x)))],1),\n",
    "                \"% vs \",\n",
    "                form(x[intersect(grep(metr_res,names(x)),grep(\"Prop_loc\",names(x)))]),sep=\"\"\n",
    "                ))\n",
    "    }\n",
    "\n",
    "if(r!=\"All\"){    \n",
    "    print(paste(\"For \",ifelse(d==\"All\",\"all diseases\",d),\n",
    "                \": the global proportion of burden (in \",metr_burden,\") vs research (in \",\n",
    "                metr_res,\") in \",r,\" was \",\n",
    "                round(x[intersect(grep(metr_burden,names(x)),grep(\"Prop_glob\",names(x)))],1),\n",
    "                \"% vs \",\n",
    "                form(x[intersect(grep(metr_res,names(x)),grep(\"Prop_glob\",names(x)))]),sep=\"\"\n",
    "                ))\n",
    "    }\n",
    "\n",
    "if(!r%in%c(\"All\",\"High-income\",\"Non-HI\")){\n",
    "    print(paste(\"For \",ifelse(d==\"All\",\"all diseases\",d),\n",
    "                \": the proportion among non-high-income regions of burden (in \",metr_burden,\n",
    "                \") vs research (in \",metr_res,\") in \",r,\" was \",\n",
    "                round(x[intersect(grep(metr_burden,names(x)),grep(\"Prop_NHI\",names(x)))],1),\n",
    "                \"% vs \",\n",
    "                form(x[intersect(grep(metr_res,names(x)),grep(\"Prop_NHI\",names(x)))]),sep=\"\"\n",
    "                ))\n",
    "    }\n",
    "\n",
    "}"
   ]
  },
  {
   "cell_type": "code",
   "execution_count": 4,
   "metadata": {
    "collapsed": false
   },
   "outputs": [
    {
     "data": {
      "text/html": [
       "<ol class=list-inline>\n",
       "\t<li>'All'</li>\n",
       "\t<li>'Central Europe, Eastern Europe, and Central Asia'</li>\n",
       "\t<li>'High-income'</li>\n",
       "\t<li>'Latin America and Caribbean'</li>\n",
       "\t<li>'Non-HI'</li>\n",
       "\t<li>'North Africa and Middle East'</li>\n",
       "\t<li>'South Asia'</li>\n",
       "\t<li>'Southeast Asia, East Asia and Oceania'</li>\n",
       "\t<li>'Sub-Saharian Africa'</li>\n",
       "</ol>\n"
      ],
      "text/latex": [
       "\\begin{enumerate*}\n",
       "\\item 'All'\n",
       "\\item 'Central Europe, Eastern Europe, and Central Asia'\n",
       "\\item 'High-income'\n",
       "\\item 'Latin America and Caribbean'\n",
       "\\item 'Non-HI'\n",
       "\\item 'North Africa and Middle East'\n",
       "\\item 'South Asia'\n",
       "\\item 'Southeast Asia, East Asia and Oceania'\n",
       "\\item 'Sub-Saharian Africa'\n",
       "\\end{enumerate*}\n"
      ],
      "text/markdown": [
       "1. 'All'\n",
       "2. 'Central Europe, Eastern Europe, and Central Asia'\n",
       "3. 'High-income'\n",
       "4. 'Latin America and Caribbean'\n",
       "5. 'Non-HI'\n",
       "6. 'North Africa and Middle East'\n",
       "7. 'South Asia'\n",
       "8. 'Southeast Asia, East Asia and Oceania'\n",
       "9. 'Sub-Saharian Africa'\n",
       "\n",
       "\n"
      ],
      "text/plain": [
       "[1] \"All\"                                             \n",
       "[2] \"Central Europe, Eastern Europe, and Central Asia\"\n",
       "[3] \"High-income\"                                     \n",
       "[4] \"Latin America and Caribbean\"                     \n",
       "[5] \"Non-HI\"                                          \n",
       "[6] \"North Africa and Middle East\"                    \n",
       "[7] \"South Asia\"                                      \n",
       "[8] \"Southeast Asia, East Asia and Oceania\"           \n",
       "[9] \"Sub-Saharian Africa\"                             "
      ]
     },
     "metadata": {},
     "output_type": "display_data"
    },
    {
     "data": {
      "text/html": [
       "<ol class=list-inline>\n",
       "\t<li>'All'</li>\n",
       "\t<li>'Cardiovascular and circulatory diseases'</li>\n",
       "\t<li>'Chronic respiratory diseases'</li>\n",
       "\t<li>'Cirrhosis of the liver'</li>\n",
       "\t<li>'Congenital anomalies'</li>\n",
       "\t<li>'Diabetes, urinary diseases and male infertility'</li>\n",
       "\t<li>'Diarrhea, lower respiratory infections, meningitis, and other common infectious diseases'</li>\n",
       "\t<li>'Digestive diseases (except cirrhosis)'</li>\n",
       "\t<li>'Gynecological diseases'</li>\n",
       "\t<li>'Hemoglobinopathies and hemolytic anemias'</li>\n",
       "\t<li>'Hepatitis'</li>\n",
       "\t<li>'HIV/AIDS'</li>\n",
       "\t<li>'Leprosy'</li>\n",
       "\t<li>'Malaria'</li>\n",
       "\t<li>'Maternal disorders'</li>\n",
       "\t<li>'Mental and behavioral disorders'</li>\n",
       "\t<li>'Musculoskeletal disorders'</li>\n",
       "\t<li>'Neglected tropical diseases excluding malaria'</li>\n",
       "\t<li>'Neonatal disorders'</li>\n",
       "\t<li>'Neoplasms'</li>\n",
       "\t<li>'Neurological disorders'</li>\n",
       "\t<li>'Nutritional deficiencies'</li>\n",
       "\t<li>'Oral disorders'</li>\n",
       "\t<li>'Sense organ diseases'</li>\n",
       "\t<li>'Sexually transmitted diseases excluding HIV'</li>\n",
       "\t<li>'Skin and subcutaneous diseases'</li>\n",
       "\t<li>'Sudden infant death syndrome'</li>\n",
       "\t<li>'Tuberculosis'</li>\n",
       "</ol>\n"
      ],
      "text/latex": [
       "\\begin{enumerate*}\n",
       "\\item 'All'\n",
       "\\item 'Cardiovascular and circulatory diseases'\n",
       "\\item 'Chronic respiratory diseases'\n",
       "\\item 'Cirrhosis of the liver'\n",
       "\\item 'Congenital anomalies'\n",
       "\\item 'Diabetes, urinary diseases and male infertility'\n",
       "\\item 'Diarrhea, lower respiratory infections, meningitis, and other common infectious diseases'\n",
       "\\item 'Digestive diseases (except cirrhosis)'\n",
       "\\item 'Gynecological diseases'\n",
       "\\item 'Hemoglobinopathies and hemolytic anemias'\n",
       "\\item 'Hepatitis'\n",
       "\\item 'HIV/AIDS'\n",
       "\\item 'Leprosy'\n",
       "\\item 'Malaria'\n",
       "\\item 'Maternal disorders'\n",
       "\\item 'Mental and behavioral disorders'\n",
       "\\item 'Musculoskeletal disorders'\n",
       "\\item 'Neglected tropical diseases excluding malaria'\n",
       "\\item 'Neonatal disorders'\n",
       "\\item 'Neoplasms'\n",
       "\\item 'Neurological disorders'\n",
       "\\item 'Nutritional deficiencies'\n",
       "\\item 'Oral disorders'\n",
       "\\item 'Sense organ diseases'\n",
       "\\item 'Sexually transmitted diseases excluding HIV'\n",
       "\\item 'Skin and subcutaneous diseases'\n",
       "\\item 'Sudden infant death syndrome'\n",
       "\\item 'Tuberculosis'\n",
       "\\end{enumerate*}\n"
      ],
      "text/markdown": [
       "1. 'All'\n",
       "2. 'Cardiovascular and circulatory diseases'\n",
       "3. 'Chronic respiratory diseases'\n",
       "4. 'Cirrhosis of the liver'\n",
       "5. 'Congenital anomalies'\n",
       "6. 'Diabetes, urinary diseases and male infertility'\n",
       "7. 'Diarrhea, lower respiratory infections, meningitis, and other common infectious diseases'\n",
       "8. 'Digestive diseases (except cirrhosis)'\n",
       "9. 'Gynecological diseases'\n",
       "10. 'Hemoglobinopathies and hemolytic anemias'\n",
       "11. 'Hepatitis'\n",
       "12. 'HIV/AIDS'\n",
       "13. 'Leprosy'\n",
       "14. 'Malaria'\n",
       "15. 'Maternal disorders'\n",
       "16. 'Mental and behavioral disorders'\n",
       "17. 'Musculoskeletal disorders'\n",
       "18. 'Neglected tropical diseases excluding malaria'\n",
       "19. 'Neonatal disorders'\n",
       "20. 'Neoplasms'\n",
       "21. 'Neurological disorders'\n",
       "22. 'Nutritional deficiencies'\n",
       "23. 'Oral disorders'\n",
       "24. 'Sense organ diseases'\n",
       "25. 'Sexually transmitted diseases excluding HIV'\n",
       "26. 'Skin and subcutaneous diseases'\n",
       "27. 'Sudden infant death syndrome'\n",
       "28. 'Tuberculosis'\n",
       "\n",
       "\n"
      ],
      "text/plain": [
       " [1] \"All\"                                                                                     \n",
       " [2] \"Cardiovascular and circulatory diseases\"                                                 \n",
       " [3] \"Chronic respiratory diseases\"                                                            \n",
       " [4] \"Cirrhosis of the liver\"                                                                  \n",
       " [5] \"Congenital anomalies\"                                                                    \n",
       " [6] \"Diabetes, urinary diseases and male infertility\"                                         \n",
       " [7] \"Diarrhea, lower respiratory infections, meningitis, and other common infectious diseases\"\n",
       " [8] \"Digestive diseases (except cirrhosis)\"                                                   \n",
       " [9] \"Gynecological diseases\"                                                                  \n",
       "[10] \"Hemoglobinopathies and hemolytic anemias\"                                                \n",
       "[11] \"Hepatitis\"                                                                               \n",
       "[12] \"HIV/AIDS\"                                                                                \n",
       "[13] \"Leprosy\"                                                                                 \n",
       "[14] \"Malaria\"                                                                                 \n",
       "[15] \"Maternal disorders\"                                                                      \n",
       "[16] \"Mental and behavioral disorders\"                                                         \n",
       "[17] \"Musculoskeletal disorders\"                                                               \n",
       "[18] \"Neglected tropical diseases excluding malaria\"                                           \n",
       "[19] \"Neonatal disorders\"                                                                      \n",
       "[20] \"Neoplasms\"                                                                               \n",
       "[21] \"Neurological disorders\"                                                                  \n",
       "[22] \"Nutritional deficiencies\"                                                                \n",
       "[23] \"Oral disorders\"                                                                          \n",
       "[24] \"Sense organ diseases\"                                                                    \n",
       "[25] \"Sexually transmitted diseases excluding HIV\"                                             \n",
       "[26] \"Skin and subcutaneous diseases\"                                                          \n",
       "[27] \"Sudden infant death syndrome\"                                                            \n",
       "[28] \"Tuberculosis\"                                                                            "
      ]
     },
     "metadata": {},
     "output_type": "display_data"
    }
   ],
   "source": [
    "levels(DT$Region)\n",
    "levels(DT$Disease)"
   ]
  },
  {
   "cell_type": "code",
   "execution_count": 5,
   "metadata": {
    "collapsed": false
   },
   "outputs": [
    {
     "name": "stdout",
     "output_type": "stream",
     "text": [
      "[1] \"In High-income, Neoplasms caused 43.3 million dalys\"\n",
      "[1] \"In High-income, Neoplasms was studied by 9501.0 [8803.0-10059.0] RCTs\"\n",
      "[1] \"In High-income: the local proportion of burden (in daly) vs research (in RCTs) of Neoplasms was 18.7% vs 14.1% [13.1-14.9]\"\n",
      "[1] \"For Neoplasms: the global proportion of burden (in daly) vs research (in RCTs) in High-income was 24.5% vs 79.0% [78.7-79.4]\"\n"
     ]
    }
   ],
   "source": [
    "readable_numbers(r = \"High-income\", d = \"Neoplasms\", metr_burden = \"daly\", metr_res = \"RCTs\")"
   ]
  },
  {
   "cell_type": "code",
   "execution_count": 6,
   "metadata": {
    "collapsed": false
   },
   "outputs": [
    {
     "name": "stdout",
     "output_type": "stream",
     "text": [
      "[1] \"In High-income, Cardiovascular and circulatory diseases caused 43.5 million dalys\"\n",
      "[1] \"In High-income, Cardiovascular and circulatory diseases was studied by 7959.0 [7101.0-8901.0] RCTs\"\n",
      "[1] \"In High-income: the local proportion of burden (in daly) vs research (in RCTs) of Cardiovascular and circulatory diseases was 18.8% vs 12.9% [11.6-14.4]\"\n",
      "[1] \"For Cardiovascular and circulatory diseases: the global proportion of burden (in daly) vs research (in RCTs) in High-income was 15.2% vs 74.5% [74.0-75.1]\"\n"
     ]
    }
   ],
   "source": [
    "readable_numbers(r = \"High-income\", d = \"Cardiovascular and circulatory diseases\", metr_burden = \"daly\", metr_res = \"RCTs\")"
   ]
  },
  {
   "cell_type": "code",
   "execution_count": 7,
   "metadata": {
    "collapsed": false
   },
   "outputs": [
    {
     "name": "stdout",
     "output_type": "stream",
     "text": [
      "[1] \"In all regions, all diseases caused 2220.1 million dalys\"\n",
      "[1] \"In all regions, all diseases was studied by 82179.0 [78661.8-85358.2] RCTs\"\n"
     ]
    }
   ],
   "source": [
    "readable_numbers(r = \"All\", d = \"All\", metr_burden = \"daly\", metr_res = \"RCTs\")"
   ]
  },
  {
   "cell_type": "code",
   "execution_count": 8,
   "metadata": {
    "collapsed": false
   },
   "outputs": [
    {
     "data": {
      "text/html": [
       "<ol class=list-inline>\n",
       "\t<li>'All'</li>\n",
       "\t<li>'Cardiovascular and circulatory diseases'</li>\n",
       "\t<li>'Chronic respiratory diseases'</li>\n",
       "\t<li>'Cirrhosis of the liver'</li>\n",
       "\t<li>'Congenital anomalies'</li>\n",
       "\t<li>'Diabetes, urinary diseases and male infertility'</li>\n",
       "\t<li>'Diarrhea, lower respiratory infections, meningitis, and other common infectious diseases'</li>\n",
       "\t<li>'Digestive diseases (except cirrhosis)'</li>\n",
       "\t<li>'Gynecological diseases'</li>\n",
       "\t<li>'Hemoglobinopathies and hemolytic anemias'</li>\n",
       "\t<li>'Hepatitis'</li>\n",
       "\t<li>'HIV/AIDS'</li>\n",
       "\t<li>'Leprosy'</li>\n",
       "\t<li>'Malaria'</li>\n",
       "\t<li>'Maternal disorders'</li>\n",
       "\t<li>'Mental and behavioral disorders'</li>\n",
       "\t<li>'Musculoskeletal disorders'</li>\n",
       "\t<li>'Neglected tropical diseases excluding malaria'</li>\n",
       "\t<li>'Neonatal disorders'</li>\n",
       "\t<li>'Neoplasms'</li>\n",
       "\t<li>'Neurological disorders'</li>\n",
       "\t<li>'Nutritional deficiencies'</li>\n",
       "\t<li>'Oral disorders'</li>\n",
       "\t<li>'Sense organ diseases'</li>\n",
       "\t<li>'Sexually transmitted diseases excluding HIV'</li>\n",
       "\t<li>'Skin and subcutaneous diseases'</li>\n",
       "\t<li>'Sudden infant death syndrome'</li>\n",
       "\t<li>'Tuberculosis'</li>\n",
       "</ol>\n"
      ],
      "text/latex": [
       "\\begin{enumerate*}\n",
       "\\item 'All'\n",
       "\\item 'Cardiovascular and circulatory diseases'\n",
       "\\item 'Chronic respiratory diseases'\n",
       "\\item 'Cirrhosis of the liver'\n",
       "\\item 'Congenital anomalies'\n",
       "\\item 'Diabetes, urinary diseases and male infertility'\n",
       "\\item 'Diarrhea, lower respiratory infections, meningitis, and other common infectious diseases'\n",
       "\\item 'Digestive diseases (except cirrhosis)'\n",
       "\\item 'Gynecological diseases'\n",
       "\\item 'Hemoglobinopathies and hemolytic anemias'\n",
       "\\item 'Hepatitis'\n",
       "\\item 'HIV/AIDS'\n",
       "\\item 'Leprosy'\n",
       "\\item 'Malaria'\n",
       "\\item 'Maternal disorders'\n",
       "\\item 'Mental and behavioral disorders'\n",
       "\\item 'Musculoskeletal disorders'\n",
       "\\item 'Neglected tropical diseases excluding malaria'\n",
       "\\item 'Neonatal disorders'\n",
       "\\item 'Neoplasms'\n",
       "\\item 'Neurological disorders'\n",
       "\\item 'Nutritional deficiencies'\n",
       "\\item 'Oral disorders'\n",
       "\\item 'Sense organ diseases'\n",
       "\\item 'Sexually transmitted diseases excluding HIV'\n",
       "\\item 'Skin and subcutaneous diseases'\n",
       "\\item 'Sudden infant death syndrome'\n",
       "\\item 'Tuberculosis'\n",
       "\\end{enumerate*}\n"
      ],
      "text/markdown": [
       "1. 'All'\n",
       "2. 'Cardiovascular and circulatory diseases'\n",
       "3. 'Chronic respiratory diseases'\n",
       "4. 'Cirrhosis of the liver'\n",
       "5. 'Congenital anomalies'\n",
       "6. 'Diabetes, urinary diseases and male infertility'\n",
       "7. 'Diarrhea, lower respiratory infections, meningitis, and other common infectious diseases'\n",
       "8. 'Digestive diseases (except cirrhosis)'\n",
       "9. 'Gynecological diseases'\n",
       "10. 'Hemoglobinopathies and hemolytic anemias'\n",
       "11. 'Hepatitis'\n",
       "12. 'HIV/AIDS'\n",
       "13. 'Leprosy'\n",
       "14. 'Malaria'\n",
       "15. 'Maternal disorders'\n",
       "16. 'Mental and behavioral disorders'\n",
       "17. 'Musculoskeletal disorders'\n",
       "18. 'Neglected tropical diseases excluding malaria'\n",
       "19. 'Neonatal disorders'\n",
       "20. 'Neoplasms'\n",
       "21. 'Neurological disorders'\n",
       "22. 'Nutritional deficiencies'\n",
       "23. 'Oral disorders'\n",
       "24. 'Sense organ diseases'\n",
       "25. 'Sexually transmitted diseases excluding HIV'\n",
       "26. 'Skin and subcutaneous diseases'\n",
       "27. 'Sudden infant death syndrome'\n",
       "28. 'Tuberculosis'\n",
       "\n",
       "\n"
      ],
      "text/plain": [
       " [1] \"All\"                                                                                     \n",
       " [2] \"Cardiovascular and circulatory diseases\"                                                 \n",
       " [3] \"Chronic respiratory diseases\"                                                            \n",
       " [4] \"Cirrhosis of the liver\"                                                                  \n",
       " [5] \"Congenital anomalies\"                                                                    \n",
       " [6] \"Diabetes, urinary diseases and male infertility\"                                         \n",
       " [7] \"Diarrhea, lower respiratory infections, meningitis, and other common infectious diseases\"\n",
       " [8] \"Digestive diseases (except cirrhosis)\"                                                   \n",
       " [9] \"Gynecological diseases\"                                                                  \n",
       "[10] \"Hemoglobinopathies and hemolytic anemias\"                                                \n",
       "[11] \"Hepatitis\"                                                                               \n",
       "[12] \"HIV/AIDS\"                                                                                \n",
       "[13] \"Leprosy\"                                                                                 \n",
       "[14] \"Malaria\"                                                                                 \n",
       "[15] \"Maternal disorders\"                                                                      \n",
       "[16] \"Mental and behavioral disorders\"                                                         \n",
       "[17] \"Musculoskeletal disorders\"                                                               \n",
       "[18] \"Neglected tropical diseases excluding malaria\"                                           \n",
       "[19] \"Neonatal disorders\"                                                                      \n",
       "[20] \"Neoplasms\"                                                                               \n",
       "[21] \"Neurological disorders\"                                                                  \n",
       "[22] \"Nutritional deficiencies\"                                                                \n",
       "[23] \"Oral disorders\"                                                                          \n",
       "[24] \"Sense organ diseases\"                                                                    \n",
       "[25] \"Sexually transmitted diseases excluding HIV\"                                             \n",
       "[26] \"Skin and subcutaneous diseases\"                                                          \n",
       "[27] \"Sudden infant death syndrome\"                                                            \n",
       "[28] \"Tuberculosis\"                                                                            "
      ]
     },
     "metadata": {},
     "output_type": "display_data"
    }
   ],
   "source": [
    "levels(DT$Disease)"
   ]
  },
  {
   "cell_type": "code",
   "execution_count": 9,
   "metadata": {
    "collapsed": false
   },
   "outputs": [
    {
     "name": "stdout",
     "output_type": "stream",
     "text": [
      "[1] \"In all regions, Diarrhea, lower respiratory infections, meningitis, and other common infectious diseases caused 329.3 million dalys\"\n",
      "[1] \"In all regions, Diarrhea, lower respiratory infections, meningitis, and other common infectious diseases was studied by 3497.0 [2855.0-4273.0] RCTs\"\n",
      "[1] \"In all regions: the local proportion of burden (in daly) vs research (in RCTs) of Diarrhea, lower respiratory infections, meningitis, and other common infectious diseases was 14.8% vs 4.2% [3.4-5.2]\"\n"
     ]
    }
   ],
   "source": [
    "readable_numbers(r = \"All\", \n",
    "                 d = \"Diarrhea, lower respiratory infections, meningitis, and other common infectious diseases\", \n",
    "                 metr_burden = \"daly\", \n",
    "                 metr_res = \"RCTs\")"
   ]
  },
  {
   "cell_type": "code",
   "execution_count": 10,
   "metadata": {
    "collapsed": false
   },
   "outputs": [
    {
     "name": "stdout",
     "output_type": "stream",
     "text": [
      "[1] \"In all regions, Neonatal disorders caused 220.3 million dalys\"\n",
      "[1] \"In all regions, Neonatal disorders was studied by 1424.0 [639.0-3612.8] RCTs\"\n",
      "[1] \"In all regions: the local proportion of burden (in daly) vs research (in RCTs) of Neonatal disorders was 9.9% vs 1.7% [0.8-4.3]\"\n"
     ]
    }
   ],
   "source": [
    "readable_numbers(r = \"All\", \n",
    "                 d = \"Neonatal disorders\", \n",
    "                 metr_burden = \"daly\", \n",
    "                 metr_res = \"RCTs\")"
   ]
  },
  {
   "cell_type": "markdown",
   "metadata": {
    "collapsed": true
   },
   "source": [
    "### Gaps"
   ]
  },
  {
   "cell_type": "code",
   "execution_count": 78,
   "metadata": {
    "collapsed": false
   },
   "outputs": [],
   "source": [
    "gaps <- function(r,metr_burden=\"daly\",metr_res=\"RCTs\"){\n",
    "\n",
    "    print(paste(\"Gaps comparing local proportion of burden in \",metr_burden,\n",
    "                \"s vs local proportion of research in \",metr_res,sep=\"\"))\n",
    "    x <- DT[DT$Region==r,c(\"Region\",\"Disease\",names(DT)[c(grep(metr_burden,names(DT)),grep(metr_res,names(DT)))])] \n",
    "\n",
    "    x <- x[!is.na(x[,intersect(intersect(grep(metr_res,names(x)),grep(\"Prop_loc\",names(x))),grep(\"up\",names(x)))]) \n",
    "      & x[,intersect(grep(metr_burden,names(x)),grep(\"Prop_loc\",names(x)))] > \n",
    "      2*x[,intersect(intersect(grep(metr_res,names(x)),grep(\"Prop_loc\",names(x))),grep(\"up\",names(x)))],]\n",
    "\n",
    "    x <- x[order(x[,intersect(grep(metr_burden,names(x)),grep(\"Prop_loc\",names(x)))],decreasing=TRUE),]\n",
    "    print(paste(r,\": \",nrow(x),\" gaps found:\",sep=\"\"))\n",
    "    if(nrow(x)!=0){\n",
    "    for(i in 1:nrow(x)){\n",
    "    k <- x[i,]\n",
    "    print(paste(k$Disease,\": \",round(k[intersect(grep(metr_burden,names(x)),grep(\"Prop_loc\",names(x)))],1), \"% vs \",\n",
    "    form(k[intersect(grep(metr_res,names(x)),grep(\"Prop_loc\",names(x)))]),sep=\"\"))\n",
    "    }\n",
    "    }\n",
    "}"
   ]
  },
  {
   "cell_type": "code",
   "execution_count": 79,
   "metadata": {
    "collapsed": true
   },
   "outputs": [],
   "source": [
    "r <- 'Sub-Saharian Africa'\n",
    "metr_burden <- \"daly\"\n",
    "metr_res <- \"RCTs\""
   ]
  },
  {
   "cell_type": "code",
   "execution_count": 80,
   "metadata": {
    "collapsed": false
   },
   "outputs": [
    {
     "name": "stdout",
     "output_type": "stream",
     "text": [
      "[1] \"Gaps comparing local proportion of burden in dalys vs local proportion of research in RCTs\"\n",
      "[1] \"Sub-Saharian Africa: 2 gaps found:\"\n",
      "[1] \"Diarrhea, lower respiratory infections, meningitis, and other common infectious diseases: 22.9% vs 5.8% [4.7-6.9]\"\n",
      "[1] \"Neonatal disorders: 11.6% vs 2.0% [0.9-4.5]\"\n"
     ]
    }
   ],
   "source": [
    "gaps(r,metr_burden,metr_res)"
   ]
  },
  {
   "cell_type": "code",
   "execution_count": 81,
   "metadata": {
    "collapsed": false,
    "scrolled": false
   },
   "outputs": [
    {
     "name": "stdout",
     "output_type": "stream",
     "text": [
      "[1] \"Gaps comparing local proportion of burden in dalys vs local proportion of research in RCTs\"\n",
      "[1] \"All: 5 gaps found:\"\n",
      "[1] \"Diarrhea, lower respiratory infections, meningitis, and other common infectious diseases: 14.8% vs 4.2% [3.4-5.2]\"\n",
      "[1] \"Neonatal disorders: 9.9% vs 1.7% [0.8-4.3]\"\n",
      "[1] \"Malaria: 4.6% vs 0.5% [0.3-0.6]\"\n",
      "[1] \"HIV/AIDS: 4.3% vs 1.7% [1.3-2.1]\"\n",
      "[1] \"Tuberculosis: 2.5% vs 0.4% [0.1-0.5]\"\n",
      "[1] \"Gaps comparing local proportion of burden in dalys vs local proportion of research in RCTs\"\n",
      "[1] \"Central Europe, Eastern Europe, and Central Asia: 2 gaps found:\"\n",
      "[1] \"Cardiovascular and circulatory diseases: 35.1% vs 12.5% [11.1-14.0]\"\n",
      "[1] \"Tuberculosis: 1.8% vs 0.3% [0.1-0.5]\"\n",
      "[1] \"Gaps comparing local proportion of burden in dalys vs local proportion of research in RCTs\"\n",
      "[1] \"High-income: 0 gaps found:\"\n",
      "[1] \"Gaps comparing local proportion of burden in dalys vs local proportion of research in RCTs\"\n",
      "[1] \"Latin America and Caribbean: 1 gaps found:\"\n",
      "[1] \"Neonatal disorders: 8.7% vs 1.6% [0.7-4.0]\"\n",
      "[1] \"Gaps comparing local proportion of burden in dalys vs local proportion of research in RCTs\"\n",
      "[1] \"Non-HI: 4 gaps found:\"\n",
      "[1] \"Diarrhea, lower respiratory infections, meningitis, and other common infectious diseases: 16.2% vs 4.8% [3.9-5.8]\"\n",
      "[1] \"Neonatal disorders: 10.9% vs 1.9% [0.9-4.4]\"\n",
      "[1] \"Malaria: 5.1% vs 1.3% [0.8-1.5]\"\n",
      "[1] \"Tuberculosis: 2.8% vs 0.8% [0.2-1.1]\"\n",
      "[1] \"Gaps comparing local proportion of burden in dalys vs local proportion of research in RCTs\"\n",
      "[1] \"North Africa and Middle East: 3 gaps found:\"\n",
      "[1] \"Diarrhea, lower respiratory infections, meningitis, and other common infectious diseases: 10.5% vs 3.3% [2.6-4.2]\"\n",
      "[1] \"Tuberculosis: 0.9% vs 0.2% [0.1-0.4]\"\n",
      "[1] \"Malaria: 0.5% vs 0.0% [0.0-0.1]\"\n",
      "[1] \"Gaps comparing local proportion of burden in dalys vs local proportion of research in RCTs\"\n",
      "[1] \"South Asia: 3 gaps found:\"\n",
      "[1] \"Diarrhea, lower respiratory infections, meningitis, and other common infectious diseases: 21.4% vs 7.0% [5.8-8.3]\"\n",
      "[1] \"Neonatal disorders: 16.5% vs 2.3% [1.1-4.9]\"\n",
      "[1] \"Tuberculosis: 3.9% vs 0.9% [0.2-1.3]\"\n",
      "[1] \"Gaps comparing local proportion of burden in dalys vs local proportion of research in RCTs\"\n",
      "[1] \"Southeast Asia, East Asia and Oceania: 1 gaps found:\"\n",
      "[1] \"Tuberculosis: 2.8% vs 0.6% [0.2-0.9]\"\n",
      "[1] \"Gaps comparing local proportion of burden in dalys vs local proportion of research in RCTs\"\n",
      "[1] \"Sub-Saharian Africa: 2 gaps found:\"\n",
      "[1] \"Diarrhea, lower respiratory infections, meningitis, and other common infectious diseases: 22.9% vs 5.8% [4.7-6.9]\"\n",
      "[1] \"Neonatal disorders: 11.6% vs 2.0% [0.9-4.5]\"\n"
     ]
    },
    {
     "data": {
      "text/html": [
       "<ol>\n",
       "\t<li>NULL</li>\n",
       "\t<li>NULL</li>\n",
       "\t<li>NULL</li>\n",
       "\t<li>NULL</li>\n",
       "\t<li>NULL</li>\n",
       "\t<li>NULL</li>\n",
       "\t<li>NULL</li>\n",
       "\t<li>NULL</li>\n",
       "\t<li>NULL</li>\n",
       "</ol>\n"
      ],
      "text/latex": [
       "\\begin{enumerate}\n",
       "\\item NULL\n",
       "\\item NULL\n",
       "\\item NULL\n",
       "\\item NULL\n",
       "\\item NULL\n",
       "\\item NULL\n",
       "\\item NULL\n",
       "\\item NULL\n",
       "\\item NULL\n",
       "\\end{enumerate}\n"
      ],
      "text/markdown": [
       "1. NULL\n",
       "2. NULL\n",
       "3. NULL\n",
       "4. NULL\n",
       "5. NULL\n",
       "6. NULL\n",
       "7. NULL\n",
       "8. NULL\n",
       "9. NULL\n",
       "\n",
       "\n"
      ],
      "text/plain": [
       "[[1]]\n",
       "NULL\n",
       "\n",
       "[[2]]\n",
       "NULL\n",
       "\n",
       "[[3]]\n",
       "NULL\n",
       "\n",
       "[[4]]\n",
       "NULL\n",
       "\n",
       "[[5]]\n",
       "NULL\n",
       "\n",
       "[[6]]\n",
       "NULL\n",
       "\n",
       "[[7]]\n",
       "NULL\n",
       "\n",
       "[[8]]\n",
       "NULL\n",
       "\n",
       "[[9]]\n",
       "NULL\n"
      ]
     },
     "metadata": {},
     "output_type": "display_data"
    }
   ],
   "source": [
    "lapply(levels(DT$Region),gaps)"
   ]
  },
  {
   "cell_type": "code",
   "execution_count": null,
   "metadata": {
    "collapsed": true
   },
   "outputs": [],
   "source": []
  }
 ],
 "metadata": {
  "kernelspec": {
   "display_name": "R",
   "language": "R",
   "name": "ir"
  },
  "language_info": {
   "codemirror_mode": "r",
   "file_extension": ".r",
   "mimetype": "text/x-r-source",
   "name": "R",
   "pygments_lexer": "r",
   "version": "3.3.1"
  }
 },
 "nbformat": 4,
 "nbformat_minor": 1
}
