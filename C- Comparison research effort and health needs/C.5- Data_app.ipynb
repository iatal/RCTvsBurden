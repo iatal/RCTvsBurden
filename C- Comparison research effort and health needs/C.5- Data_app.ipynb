{
 "cells": [
  {
   "cell_type": "markdown",
   "metadata": {},
   "source": [
    "### Data for Interactive Figure"
   ]
  },
  {
   "cell_type": "code",
   "execution_count": 1,
   "metadata": {
    "collapsed": false
   },
   "outputs": [],
   "source": [
    "DT <- read.table(\"../Data/All_data.txt\")"
   ]
  },
  {
   "cell_type": "code",
   "execution_count": 2,
   "metadata": {
    "collapsed": false
   },
   "outputs": [
    {
     "data": {
      "text/html": [
       "<ol class=list-inline>\n",
       "\t<li>'Region'</li>\n",
       "\t<li>'Disease'</li>\n",
       "\t<li>'burden_daly'</li>\n",
       "\t<li>'burden_yll'</li>\n",
       "\t<li>'burden_yld'</li>\n",
       "\t<li>'burden_death'</li>\n",
       "\t<li>'Prop_loc_burden_daly'</li>\n",
       "\t<li>'Prop_loc_burden_yll'</li>\n",
       "\t<li>'Prop_loc_burden_yld'</li>\n",
       "\t<li>'Prop_loc_burden_death'</li>\n",
       "\t<li>'Prop_glob_burden_daly'</li>\n",
       "\t<li>'Prop_glob_burden_yll'</li>\n",
       "\t<li>'Prop_glob_burden_yld'</li>\n",
       "\t<li>'Prop_glob_burden_death'</li>\n",
       "\t<li>'Prop_NHI_burden_daly'</li>\n",
       "\t<li>'Prop_NHI_burden_yll'</li>\n",
       "\t<li>'Prop_NHI_burden_yld'</li>\n",
       "\t<li>'Prop_NHI_burden_death'</li>\n",
       "\t<li>'Nb_RCTs_low'</li>\n",
       "\t<li>'Nb_RCTs_med'</li>\n",
       "\t<li>'Nb_RCTs_up'</li>\n",
       "\t<li>'Nb_Patients_low'</li>\n",
       "\t<li>'Nb_Patients_med'</li>\n",
       "\t<li>'Nb_Patients_up'</li>\n",
       "\t<li>'Prop_loc_RCTs_low'</li>\n",
       "\t<li>'Prop_loc_RCTs_med'</li>\n",
       "\t<li>'Prop_loc_RCTs_up'</li>\n",
       "\t<li>'Prop_loc_Patients_low'</li>\n",
       "\t<li>'Prop_loc_Patients_med'</li>\n",
       "\t<li>'Prop_loc_Patients_up'</li>\n",
       "\t<li>'Prop_glob_RCTs_low'</li>\n",
       "\t<li>'Prop_glob_RCTs_med'</li>\n",
       "\t<li>'Prop_glob_RCTs_up'</li>\n",
       "\t<li>'Prop_glob_Patients_low'</li>\n",
       "\t<li>'Prop_glob_Patients_med'</li>\n",
       "\t<li>'Prop_glob_Patients_up'</li>\n",
       "\t<li>'Prop_NHI_RCTs_low'</li>\n",
       "\t<li>'Prop_NHI_RCTs_med'</li>\n",
       "\t<li>'Prop_NHI_RCTs_up'</li>\n",
       "\t<li>'Prop_NHI_Patients_low'</li>\n",
       "\t<li>'Prop_NHI_Patients_med'</li>\n",
       "\t<li>'Prop_NHI_Patients_up'</li>\n",
       "</ol>\n"
      ],
      "text/latex": [
       "\\begin{enumerate*}\n",
       "\\item 'Region'\n",
       "\\item 'Disease'\n",
       "\\item 'burden\\_daly'\n",
       "\\item 'burden\\_yll'\n",
       "\\item 'burden\\_yld'\n",
       "\\item 'burden\\_death'\n",
       "\\item 'Prop\\_loc\\_burden\\_daly'\n",
       "\\item 'Prop\\_loc\\_burden\\_yll'\n",
       "\\item 'Prop\\_loc\\_burden\\_yld'\n",
       "\\item 'Prop\\_loc\\_burden\\_death'\n",
       "\\item 'Prop\\_glob\\_burden\\_daly'\n",
       "\\item 'Prop\\_glob\\_burden\\_yll'\n",
       "\\item 'Prop\\_glob\\_burden\\_yld'\n",
       "\\item 'Prop\\_glob\\_burden\\_death'\n",
       "\\item 'Prop\\_NHI\\_burden\\_daly'\n",
       "\\item 'Prop\\_NHI\\_burden\\_yll'\n",
       "\\item 'Prop\\_NHI\\_burden\\_yld'\n",
       "\\item 'Prop\\_NHI\\_burden\\_death'\n",
       "\\item 'Nb\\_RCTs\\_low'\n",
       "\\item 'Nb\\_RCTs\\_med'\n",
       "\\item 'Nb\\_RCTs\\_up'\n",
       "\\item 'Nb\\_Patients\\_low'\n",
       "\\item 'Nb\\_Patients\\_med'\n",
       "\\item 'Nb\\_Patients\\_up'\n",
       "\\item 'Prop\\_loc\\_RCTs\\_low'\n",
       "\\item 'Prop\\_loc\\_RCTs\\_med'\n",
       "\\item 'Prop\\_loc\\_RCTs\\_up'\n",
       "\\item 'Prop\\_loc\\_Patients\\_low'\n",
       "\\item 'Prop\\_loc\\_Patients\\_med'\n",
       "\\item 'Prop\\_loc\\_Patients\\_up'\n",
       "\\item 'Prop\\_glob\\_RCTs\\_low'\n",
       "\\item 'Prop\\_glob\\_RCTs\\_med'\n",
       "\\item 'Prop\\_glob\\_RCTs\\_up'\n",
       "\\item 'Prop\\_glob\\_Patients\\_low'\n",
       "\\item 'Prop\\_glob\\_Patients\\_med'\n",
       "\\item 'Prop\\_glob\\_Patients\\_up'\n",
       "\\item 'Prop\\_NHI\\_RCTs\\_low'\n",
       "\\item 'Prop\\_NHI\\_RCTs\\_med'\n",
       "\\item 'Prop\\_NHI\\_RCTs\\_up'\n",
       "\\item 'Prop\\_NHI\\_Patients\\_low'\n",
       "\\item 'Prop\\_NHI\\_Patients\\_med'\n",
       "\\item 'Prop\\_NHI\\_Patients\\_up'\n",
       "\\end{enumerate*}\n"
      ],
      "text/markdown": [
       "1. 'Region'\n",
       "2. 'Disease'\n",
       "3. 'burden_daly'\n",
       "4. 'burden_yll'\n",
       "5. 'burden_yld'\n",
       "6. 'burden_death'\n",
       "7. 'Prop_loc_burden_daly'\n",
       "8. 'Prop_loc_burden_yll'\n",
       "9. 'Prop_loc_burden_yld'\n",
       "10. 'Prop_loc_burden_death'\n",
       "11. 'Prop_glob_burden_daly'\n",
       "12. 'Prop_glob_burden_yll'\n",
       "13. 'Prop_glob_burden_yld'\n",
       "14. 'Prop_glob_burden_death'\n",
       "15. 'Prop_NHI_burden_daly'\n",
       "16. 'Prop_NHI_burden_yll'\n",
       "17. 'Prop_NHI_burden_yld'\n",
       "18. 'Prop_NHI_burden_death'\n",
       "19. 'Nb_RCTs_low'\n",
       "20. 'Nb_RCTs_med'\n",
       "21. 'Nb_RCTs_up'\n",
       "22. 'Nb_Patients_low'\n",
       "23. 'Nb_Patients_med'\n",
       "24. 'Nb_Patients_up'\n",
       "25. 'Prop_loc_RCTs_low'\n",
       "26. 'Prop_loc_RCTs_med'\n",
       "27. 'Prop_loc_RCTs_up'\n",
       "28. 'Prop_loc_Patients_low'\n",
       "29. 'Prop_loc_Patients_med'\n",
       "30. 'Prop_loc_Patients_up'\n",
       "31. 'Prop_glob_RCTs_low'\n",
       "32. 'Prop_glob_RCTs_med'\n",
       "33. 'Prop_glob_RCTs_up'\n",
       "34. 'Prop_glob_Patients_low'\n",
       "35. 'Prop_glob_Patients_med'\n",
       "36. 'Prop_glob_Patients_up'\n",
       "37. 'Prop_NHI_RCTs_low'\n",
       "38. 'Prop_NHI_RCTs_med'\n",
       "39. 'Prop_NHI_RCTs_up'\n",
       "40. 'Prop_NHI_Patients_low'\n",
       "41. 'Prop_NHI_Patients_med'\n",
       "42. 'Prop_NHI_Patients_up'\n",
       "\n",
       "\n"
      ],
      "text/plain": [
       " [1] \"Region\"                 \"Disease\"                \"burden_daly\"           \n",
       " [4] \"burden_yll\"             \"burden_yld\"             \"burden_death\"          \n",
       " [7] \"Prop_loc_burden_daly\"   \"Prop_loc_burden_yll\"    \"Prop_loc_burden_yld\"   \n",
       "[10] \"Prop_loc_burden_death\"  \"Prop_glob_burden_daly\"  \"Prop_glob_burden_yll\"  \n",
       "[13] \"Prop_glob_burden_yld\"   \"Prop_glob_burden_death\" \"Prop_NHI_burden_daly\"  \n",
       "[16] \"Prop_NHI_burden_yll\"    \"Prop_NHI_burden_yld\"    \"Prop_NHI_burden_death\" \n",
       "[19] \"Nb_RCTs_low\"            \"Nb_RCTs_med\"            \"Nb_RCTs_up\"            \n",
       "[22] \"Nb_Patients_low\"        \"Nb_Patients_med\"        \"Nb_Patients_up\"        \n",
       "[25] \"Prop_loc_RCTs_low\"      \"Prop_loc_RCTs_med\"      \"Prop_loc_RCTs_up\"      \n",
       "[28] \"Prop_loc_Patients_low\"  \"Prop_loc_Patients_med\"  \"Prop_loc_Patients_up\"  \n",
       "[31] \"Prop_glob_RCTs_low\"     \"Prop_glob_RCTs_med\"     \"Prop_glob_RCTs_up\"     \n",
       "[34] \"Prop_glob_Patients_low\" \"Prop_glob_Patients_med\" \"Prop_glob_Patients_up\" \n",
       "[37] \"Prop_NHI_RCTs_low\"      \"Prop_NHI_RCTs_med\"      \"Prop_NHI_RCTs_up\"      \n",
       "[40] \"Prop_NHI_Patients_low\"  \"Prop_NHI_Patients_med\"  \"Prop_NHI_Patients_up\"  "
      ]
     },
     "metadata": {},
     "output_type": "display_data"
    }
   ],
   "source": [
    "names(DT)"
   ]
  },
  {
   "cell_type": "code",
   "execution_count": 3,
   "metadata": {
    "collapsed": false
   },
   "outputs": [
    {
     "data": {
      "text/html": [
       "<table>\n",
       "<thead><tr><th></th><th scope=col>Region</th><th scope=col>Disease</th><th scope=col>burden_daly</th><th scope=col>burden_yll</th><th scope=col>burden_yld</th><th scope=col>burden_death</th><th scope=col>Prop_loc_burden_daly</th><th scope=col>Prop_loc_burden_yll</th><th scope=col>Prop_loc_burden_yld</th><th scope=col>Prop_loc_burden_death</th><th scope=col>⋯</th><th scope=col>Prop_glob_RCTs_up</th><th scope=col>Prop_glob_Patients_low</th><th scope=col>Prop_glob_Patients_med</th><th scope=col>Prop_glob_Patients_up</th><th scope=col>Prop_NHI_RCTs_low</th><th scope=col>Prop_NHI_RCTs_med</th><th scope=col>Prop_NHI_RCTs_up</th><th scope=col>Prop_NHI_Patients_low</th><th scope=col>Prop_NHI_Patients_med</th><th scope=col>Prop_NHI_Patients_up</th></tr></thead>\n",
       "<tbody>\n",
       "\t<tr><th scope=row>1</th><td>All             </td><td>All             </td><td>2220063510.80076</td><td>1548796838.65609</td><td>671266365.044935</td><td>46250530.2665929</td><td>100             </td><td>100             </td><td>100             </td><td>100             </td><td>⋯               </td><td>NA              </td><td>NA              </td><td>NA              </td><td>NA              </td><td>NA              </td><td>NA              </td><td>NA              </td><td>NA              </td><td>NA              </td><td>NA              </td></tr>\n",
       "\t<tr><th scope=row>2</th><td>All                                    </td><td>Cardiovascular and circulatory diseases</td><td>287404109.09231                        </td><td>267807387.790028                       </td><td>19596607.312309                        </td><td>14726543.7199449                       </td><td>12.9457606818034                       </td><td>17.2913180803241                       </td><td>2.91934891017476                       </td><td>31.8408105486781                       </td><td>⋯                                      </td><td>NA                                     </td><td>NA                                     </td><td>NA                                     </td><td>NA                                     </td><td>NA                                     </td><td>NA                                     </td><td>NA                                     </td><td>NA                                     </td><td>NA                                     </td><td>NA                                     </td></tr>\n",
       "\t<tr><th scope=row>3</th><td>All                         </td><td>Chronic respiratory diseases</td><td>112485355.22285             </td><td>67399684.65133              </td><td>45085687.018707             </td><td>3572762.590618              </td><td>5.06676294059161            </td><td>4.35174472010244            </td><td>6.71651215768706            </td><td>7.72480352122283            </td><td>⋯                           </td><td>NA                          </td><td>NA                          </td><td>NA                          </td><td>NA                          </td><td>NA                          </td><td>NA                          </td><td>NA                          </td><td>NA                          </td><td>NA                          </td><td>NA                          </td></tr>\n",
       "\t<tr><th scope=row>4</th><td>All                   </td><td>Cirrhosis of the liver</td><td>30462721.1164         </td><td>29883176.0549         </td><td>579531.730192         </td><td>990159.446125         </td><td>1.37215538961821      </td><td>1.9294445410174       </td><td>0.0863340933450771    </td><td>2.14086074347173      </td><td>⋯                     </td><td>NA                    </td><td>NA                    </td><td>NA                    </td><td>NA                    </td><td>NA                    </td><td>NA                    </td><td>NA                    </td><td>NA                    </td><td>NA                    </td><td>NA                    </td></tr>\n",
       "\t<tr><th scope=row>5</th><td>All                 </td><td>Congenital anomalies</td><td>43254504.439        </td><td>40150785.446        </td><td>3103715.2332        </td><td>553886.39191        </td><td>1.94834536167834    </td><td>2.59238555011768    </td><td>0.462367160760727   </td><td>1.19757846821937    </td><td>⋯                   </td><td>NA                  </td><td>NA                  </td><td>NA                  </td><td>NA                  </td><td>NA                  </td><td>NA                  </td><td>NA                  </td><td>NA                  </td><td>NA                  </td><td>NA                  </td></tr>\n",
       "\t<tr><th scope=row>6</th><td>All                                            </td><td>Diabetes, urinary diseases and male infertility</td><td>75821480.094146                                </td><td>48042869.768465                                </td><td>27778586.1421424                               </td><td>2082326.848938                                 </td><td>3.41528428016898                               </td><td>3.10194781971226                               </td><td>4.13823596543272                               </td><td>4.50227670241887                               </td><td>⋯                                              </td><td>NA                                             </td><td>NA                                             </td><td>NA                                             </td><td>NA                                             </td><td>NA                                             </td><td>NA                                             </td><td>NA                                             </td><td>NA                                             </td><td>NA                                             </td><td>NA                                             </td></tr>\n",
       "</tbody>\n",
       "</table>\n"
      ],
      "text/latex": [
       "\\begin{tabular}{r|llllllllllllllllllllllllllllllllllllllllll}\n",
       "  & Region & Disease & burden\\_daly & burden\\_yll & burden\\_yld & burden\\_death & Prop\\_loc\\_burden\\_daly & Prop\\_loc\\_burden\\_yll & Prop\\_loc\\_burden\\_yld & Prop\\_loc\\_burden\\_death & ⋯ & Prop\\_glob\\_RCTs\\_up & Prop\\_glob\\_Patients\\_low & Prop\\_glob\\_Patients\\_med & Prop\\_glob\\_Patients\\_up & Prop\\_NHI\\_RCTs\\_low & Prop\\_NHI\\_RCTs\\_med & Prop\\_NHI\\_RCTs\\_up & Prop\\_NHI\\_Patients\\_low & Prop\\_NHI\\_Patients\\_med & Prop\\_NHI\\_Patients\\_up\\\\\n",
       "\\hline\n",
       "\t1 & All              & All              & 2220063510.80076 & 1548796838.65609 & 671266365.044935 & 46250530.2665929 & 100              & 100              & 100              & 100              & ⋯                & NA               & NA               & NA               & NA               & NA               & NA               & NA               & NA               & NA               & NA              \\\\\n",
       "\t2 & All                                     & Cardiovascular and circulatory diseases & 287404109.09231                         & 267807387.790028                        & 19596607.312309                         & 14726543.7199449                        & 12.9457606818034                        & 17.2913180803241                        & 2.91934891017476                        & 31.8408105486781                        & ⋯                                       & NA                                      & NA                                      & NA                                      & NA                                      & NA                                      & NA                                      & NA                                      & NA                                      & NA                                      & NA                                     \\\\\n",
       "\t3 & All                          & Chronic respiratory diseases & 112485355.22285              & 67399684.65133               & 45085687.018707              & 3572762.590618               & 5.06676294059161             & 4.35174472010244             & 6.71651215768706             & 7.72480352122283             & ⋯                            & NA                           & NA                           & NA                           & NA                           & NA                           & NA                           & NA                           & NA                           & NA                           & NA                          \\\\\n",
       "\t4 & All                    & Cirrhosis of the liver & 30462721.1164          & 29883176.0549          & 579531.730192          & 990159.446125          & 1.37215538961821       & 1.9294445410174        & 0.0863340933450771     & 2.14086074347173       & ⋯                      & NA                     & NA                     & NA                     & NA                     & NA                     & NA                     & NA                     & NA                     & NA                     & NA                    \\\\\n",
       "\t5 & All                  & Congenital anomalies & 43254504.439         & 40150785.446         & 3103715.2332         & 553886.39191         & 1.94834536167834     & 2.59238555011768     & 0.462367160760727    & 1.19757846821937     & ⋯                    & NA                   & NA                   & NA                   & NA                   & NA                   & NA                   & NA                   & NA                   & NA                   & NA                  \\\\\n",
       "\t6 & All                                             & Diabetes, urinary diseases and male infertility & 75821480.094146                                 & 48042869.768465                                 & 27778586.1421424                                & 2082326.848938                                  & 3.41528428016898                                & 3.10194781971226                                & 4.13823596543272                                & 4.50227670241887                                & ⋯                                               & NA                                              & NA                                              & NA                                              & NA                                              & NA                                              & NA                                              & NA                                              & NA                                              & NA                                              & NA                                             \\\\\n",
       "\\end{tabular}\n"
      ],
      "text/plain": [
       "  Region                                         Disease burden_daly burden_yll\n",
       "1    All                                             All  2220063511 1548796839\n",
       "2    All         Cardiovascular and circulatory diseases   287404109  267807388\n",
       "3    All                    Chronic respiratory diseases   112485355   67399685\n",
       "4    All                          Cirrhosis of the liver    30462721   29883176\n",
       "5    All                            Congenital anomalies    43254504   40150785\n",
       "6    All Diabetes, urinary diseases and male infertility    75821480   48042870\n",
       "   burden_yld burden_death Prop_loc_burden_daly Prop_loc_burden_yll\n",
       "1 671266365.0   46250530.3           100.000000          100.000000\n",
       "2  19596607.3   14726543.7            12.945761           17.291318\n",
       "3  45085687.0    3572762.6             5.066763            4.351745\n",
       "4    579531.7     990159.4             1.372155            1.929445\n",
       "5   3103715.2     553886.4             1.948345            2.592386\n",
       "6  27778586.1    2082326.8             3.415284            3.101948\n",
       "  Prop_loc_burden_yld Prop_loc_burden_death ⋯ Prop_glob_RCTs_up\n",
       "1        100.00000000            100.000000 ⋯                NA\n",
       "2          2.91934891             31.840811 ⋯                NA\n",
       "3          6.71651216              7.724804 ⋯                NA\n",
       "4          0.08633409              2.140861 ⋯                NA\n",
       "5          0.46236716              1.197578 ⋯                NA\n",
       "6          4.13823597              4.502277 ⋯                NA\n",
       "  Prop_glob_Patients_low Prop_glob_Patients_med Prop_glob_Patients_up\n",
       "1                     NA                     NA                    NA\n",
       "2                     NA                     NA                    NA\n",
       "3                     NA                     NA                    NA\n",
       "4                     NA                     NA                    NA\n",
       "5                     NA                     NA                    NA\n",
       "6                     NA                     NA                    NA\n",
       "  Prop_NHI_RCTs_low Prop_NHI_RCTs_med Prop_NHI_RCTs_up Prop_NHI_Patients_low\n",
       "1                NA                NA               NA                    NA\n",
       "2                NA                NA               NA                    NA\n",
       "3                NA                NA               NA                    NA\n",
       "4                NA                NA               NA                    NA\n",
       "5                NA                NA               NA                    NA\n",
       "6                NA                NA               NA                    NA\n",
       "  Prop_NHI_Patients_med Prop_NHI_Patients_up\n",
       "1                    NA                   NA\n",
       "2                    NA                   NA\n",
       "3                    NA                   NA\n",
       "4                    NA                   NA\n",
       "5                    NA                   NA\n",
       "6                    NA                   NA"
      ]
     },
     "metadata": {},
     "output_type": "display_data"
    }
   ],
   "source": [
    "head(DT)"
   ]
  },
  {
   "cell_type": "code",
   "execution_count": 4,
   "metadata": {
    "collapsed": false
   },
   "outputs": [
    {
     "data": {
      "text/html": [
       "<ol class=list-inline>\n",
       "\t<li>'All'</li>\n",
       "\t<li>'Cardiovascular and circulatory diseases'</li>\n",
       "\t<li>'Chronic respiratory diseases'</li>\n",
       "\t<li>'Cirrhosis of the liver'</li>\n",
       "\t<li>'Congenital anomalies'</li>\n",
       "\t<li>'Diabetes, urinary diseases and male infertility'</li>\n",
       "\t<li>'Diarrhea, lower respiratory infections, meningitis, and other common infectious diseases'</li>\n",
       "\t<li>'Digestive diseases (except cirrhosis)'</li>\n",
       "\t<li>'Gynecological diseases'</li>\n",
       "\t<li>'Hemoglobinopathies and hemolytic anemias'</li>\n",
       "\t<li>'Hepatitis'</li>\n",
       "\t<li>'HIV/AIDS'</li>\n",
       "\t<li>'Leprosy'</li>\n",
       "\t<li>'Malaria'</li>\n",
       "\t<li>'Maternal disorders'</li>\n",
       "\t<li>'Mental and behavioral disorders'</li>\n",
       "\t<li>'Musculoskeletal disorders'</li>\n",
       "\t<li>'Neglected tropical diseases excluding malaria'</li>\n",
       "\t<li>'Neonatal disorders'</li>\n",
       "\t<li>'Neoplasms'</li>\n",
       "\t<li>'Neurological disorders'</li>\n",
       "\t<li>'Nutritional deficiencies'</li>\n",
       "\t<li>'Oral disorders'</li>\n",
       "\t<li>'Sense organ diseases'</li>\n",
       "\t<li>'Sexually transmitted diseases excluding HIV'</li>\n",
       "\t<li>'Skin and subcutaneous diseases'</li>\n",
       "\t<li>'Sudden infant death syndrome'</li>\n",
       "\t<li>'Tuberculosis'</li>\n",
       "</ol>\n"
      ],
      "text/latex": [
       "\\begin{enumerate*}\n",
       "\\item 'All'\n",
       "\\item 'Cardiovascular and circulatory diseases'\n",
       "\\item 'Chronic respiratory diseases'\n",
       "\\item 'Cirrhosis of the liver'\n",
       "\\item 'Congenital anomalies'\n",
       "\\item 'Diabetes, urinary diseases and male infertility'\n",
       "\\item 'Diarrhea, lower respiratory infections, meningitis, and other common infectious diseases'\n",
       "\\item 'Digestive diseases (except cirrhosis)'\n",
       "\\item 'Gynecological diseases'\n",
       "\\item 'Hemoglobinopathies and hemolytic anemias'\n",
       "\\item 'Hepatitis'\n",
       "\\item 'HIV/AIDS'\n",
       "\\item 'Leprosy'\n",
       "\\item 'Malaria'\n",
       "\\item 'Maternal disorders'\n",
       "\\item 'Mental and behavioral disorders'\n",
       "\\item 'Musculoskeletal disorders'\n",
       "\\item 'Neglected tropical diseases excluding malaria'\n",
       "\\item 'Neonatal disorders'\n",
       "\\item 'Neoplasms'\n",
       "\\item 'Neurological disorders'\n",
       "\\item 'Nutritional deficiencies'\n",
       "\\item 'Oral disorders'\n",
       "\\item 'Sense organ diseases'\n",
       "\\item 'Sexually transmitted diseases excluding HIV'\n",
       "\\item 'Skin and subcutaneous diseases'\n",
       "\\item 'Sudden infant death syndrome'\n",
       "\\item 'Tuberculosis'\n",
       "\\end{enumerate*}\n"
      ],
      "text/markdown": [
       "1. 'All'\n",
       "2. 'Cardiovascular and circulatory diseases'\n",
       "3. 'Chronic respiratory diseases'\n",
       "4. 'Cirrhosis of the liver'\n",
       "5. 'Congenital anomalies'\n",
       "6. 'Diabetes, urinary diseases and male infertility'\n",
       "7. 'Diarrhea, lower respiratory infections, meningitis, and other common infectious diseases'\n",
       "8. 'Digestive diseases (except cirrhosis)'\n",
       "9. 'Gynecological diseases'\n",
       "10. 'Hemoglobinopathies and hemolytic anemias'\n",
       "11. 'Hepatitis'\n",
       "12. 'HIV/AIDS'\n",
       "13. 'Leprosy'\n",
       "14. 'Malaria'\n",
       "15. 'Maternal disorders'\n",
       "16. 'Mental and behavioral disorders'\n",
       "17. 'Musculoskeletal disorders'\n",
       "18. 'Neglected tropical diseases excluding malaria'\n",
       "19. 'Neonatal disorders'\n",
       "20. 'Neoplasms'\n",
       "21. 'Neurological disorders'\n",
       "22. 'Nutritional deficiencies'\n",
       "23. 'Oral disorders'\n",
       "24. 'Sense organ diseases'\n",
       "25. 'Sexually transmitted diseases excluding HIV'\n",
       "26. 'Skin and subcutaneous diseases'\n",
       "27. 'Sudden infant death syndrome'\n",
       "28. 'Tuberculosis'\n",
       "\n",
       "\n"
      ],
      "text/plain": [
       " [1] \"All\"                                                                                     \n",
       " [2] \"Cardiovascular and circulatory diseases\"                                                 \n",
       " [3] \"Chronic respiratory diseases\"                                                            \n",
       " [4] \"Cirrhosis of the liver\"                                                                  \n",
       " [5] \"Congenital anomalies\"                                                                    \n",
       " [6] \"Diabetes, urinary diseases and male infertility\"                                         \n",
       " [7] \"Diarrhea, lower respiratory infections, meningitis, and other common infectious diseases\"\n",
       " [8] \"Digestive diseases (except cirrhosis)\"                                                   \n",
       " [9] \"Gynecological diseases\"                                                                  \n",
       "[10] \"Hemoglobinopathies and hemolytic anemias\"                                                \n",
       "[11] \"Hepatitis\"                                                                               \n",
       "[12] \"HIV/AIDS\"                                                                                \n",
       "[13] \"Leprosy\"                                                                                 \n",
       "[14] \"Malaria\"                                                                                 \n",
       "[15] \"Maternal disorders\"                                                                      \n",
       "[16] \"Mental and behavioral disorders\"                                                         \n",
       "[17] \"Musculoskeletal disorders\"                                                               \n",
       "[18] \"Neglected tropical diseases excluding malaria\"                                           \n",
       "[19] \"Neonatal disorders\"                                                                      \n",
       "[20] \"Neoplasms\"                                                                               \n",
       "[21] \"Neurological disorders\"                                                                  \n",
       "[22] \"Nutritional deficiencies\"                                                                \n",
       "[23] \"Oral disorders\"                                                                          \n",
       "[24] \"Sense organ diseases\"                                                                    \n",
       "[25] \"Sexually transmitted diseases excluding HIV\"                                             \n",
       "[26] \"Skin and subcutaneous diseases\"                                                          \n",
       "[27] \"Sudden infant death syndrome\"                                                            \n",
       "[28] \"Tuberculosis\"                                                                            "
      ]
     },
     "metadata": {},
     "output_type": "display_data"
    }
   ],
   "source": [
    "levels(DT$Disease)"
   ]
  },
  {
   "cell_type": "code",
   "execution_count": 5,
   "metadata": {
    "collapsed": false
   },
   "outputs": [],
   "source": [
    "DT$Dis_lab <- DT$Disease\n",
    "\n",
    "levels(DT$Dis_lab) <- c(\"\",\n",
    "               \"Cardiovasc.\\n& circulatory\",\n",
    "               \"Chronic\\nrespiratory\",\n",
    "               \"Cirrhosis\",\n",
    "               \"Congenital\\nanomalies\",\n",
    "               \"Diabetes, urin.\\nmale infertility\",\n",
    "               \"Common\\ninfect. dis.\",\n",
    "               \"Digestive\\ndis.\",\n",
    "               \"Gynecol.\\ndis.\",\n",
    "               \"Hemoglob. &\\nhemolytic\\nanemia\",\n",
    "               \"Hepatitis\",\n",
    "               \"HIV\",\n",
    "               \"Leprosy\",\n",
    "               \"Malaria\",\n",
    "               \"Maternal\\ndisorders\",\n",
    "               \"Mental and\\nbehavioral\",\n",
    "               \"Musculosk.\\ndisorders\",\n",
    "               \"Neglected trop.\\ndiseases.\",\n",
    "               \"Neonatal\\ndisorders\",\n",
    "               \"Neoplasms\",\n",
    "               \"Neurological\\ndisorders\",\n",
    "               \"Nutritional\\ndeficiencies\",\n",
    "               \"Oral\\ndisorders\",\n",
    "               \"Sense organ\\ndiseases\",\n",
    "               \"STD\",\n",
    "               \"Skin and\\nsubcutan.\",\n",
    "               \"Sudden infant\\ndeath synd.\",\n",
    "               \"Tuberculosis\")\n",
    "\n",
    "DT$Dis_tooltip <- DT$Disease\n",
    "\n",
    "levels(DT$Dis_tooltip) <- c(\"All diseases\",\n",
    "               \"Cardiovascular and circulatory diseases\",\n",
    "               \"Chronic respiratory diseases\",\n",
    "               \"Cirrhosis of the liver\",\n",
    "               \"Congenital anomalies\",\n",
    "               \"Diabetes, urinary diseases and male infertility\",\n",
    "               \"Common infectious diseases\",\n",
    "               \"Digestive diseases\",\n",
    "               \"Gynecological diseases\",\n",
    "               \"Hemoglobinopathies and hemolytic anemias\",\n",
    "               \"Hepatitis\",\n",
    "               \"HIV\",\n",
    "               \"Leprosy\",\n",
    "               \"Malaria\",\n",
    "               \"Maternal disorders\",\n",
    "               \"Mental and behavioral disorders\",\n",
    "               \"Musculoskeletal disorders\",\n",
    "               \"Neglected tropical diseases\",\n",
    "               \"Neonatal disorders\",\n",
    "               \"Neoplasms\",\n",
    "               \"Neurological disorders\",\n",
    "               \"Nutritional deficiencies\",\n",
    "               \"Oral disorders\",\n",
    "               \"Sense organ diseases\",\n",
    "               \"Sexually transmitted diseases excluding HIV\",\n",
    "               \"Skin and subcutaneous diseases\",\n",
    "               \"Sudden infant death syndrome\",\n",
    "               \"Tuberculosis\")\n",
    "\n",
    "\n",
    "DT$regs_lab <- DT$Region\n",
    "\n",
    "levels(DT$regs_lab) <-  c(\"World\",\n",
    "                          \"Eastern Europe and Central Asia\",\n",
    "                          \"High-income countries\",\n",
    "                          \"Latin America and Caribbean\",\n",
    "                          \"Non-high-income countries\",\n",
    "                          \"North Africa and Middle East\",\n",
    "                          \"South Asia\",\n",
    "                          \"Southeast Asia, East Asia and Oceania\",\n",
    "                          \"Sub-Saharian Africa\")"
   ]
  },
  {
   "cell_type": "code",
   "execution_count": 9,
   "metadata": {
    "collapsed": false
   },
   "outputs": [
    {
     "data": {
      "text/html": [
       "<ol class=list-inline>\n",
       "\t<li>Tuberculosis</li>\n",
       "\t<li>HIV</li>\n",
       "\t<li>Common infectious diseases</li>\n",
       "\t<li>Malaria</li>\n",
       "\t<li>Neglected tropical diseases</li>\n",
       "\t<li>Maternal disorders</li>\n",
       "\t<li>Neonatal disorders</li>\n",
       "\t<li>Nutritional deficiencies</li>\n",
       "\t<li>Sexually transmitted diseases excluding HIV</li>\n",
       "\t<li>Hepatitis</li>\n",
       "\t<li>Leprosy</li>\n",
       "\t<li>Neoplasms</li>\n",
       "\t<li>Cardiovascular and circulatory diseases</li>\n",
       "\t<li>Chronic respiratory diseases</li>\n",
       "\t<li>Cirrhosis of the liver</li>\n",
       "\t<li>Digestive diseases</li>\n",
       "\t<li>Neurological disorders</li>\n",
       "\t<li>Mental and behavioral disorders</li>\n",
       "\t<li>Diabetes, urinary diseases and male infertility</li>\n",
       "\t<li>Gynecological diseases</li>\n",
       "\t<li>Hemoglobinopathies and hemolytic anemias</li>\n",
       "\t<li>Musculoskeletal disorders</li>\n",
       "\t<li>Congenital anomalies</li>\n",
       "\t<li>Skin and subcutaneous diseases</li>\n",
       "\t<li>Sense organ diseases</li>\n",
       "\t<li>Oral disorders</li>\n",
       "\t<li>Sudden infant death syndrome</li>\n",
       "</ol>\n"
      ],
      "text/latex": [
       "\\begin{enumerate*}\n",
       "\\item Tuberculosis\n",
       "\\item HIV\n",
       "\\item Common infectious diseases\n",
       "\\item Malaria\n",
       "\\item Neglected tropical diseases\n",
       "\\item Maternal disorders\n",
       "\\item Neonatal disorders\n",
       "\\item Nutritional deficiencies\n",
       "\\item Sexually transmitted diseases excluding HIV\n",
       "\\item Hepatitis\n",
       "\\item Leprosy\n",
       "\\item Neoplasms\n",
       "\\item Cardiovascular and circulatory diseases\n",
       "\\item Chronic respiratory diseases\n",
       "\\item Cirrhosis of the liver\n",
       "\\item Digestive diseases\n",
       "\\item Neurological disorders\n",
       "\\item Mental and behavioral disorders\n",
       "\\item Diabetes, urinary diseases and male infertility\n",
       "\\item Gynecological diseases\n",
       "\\item Hemoglobinopathies and hemolytic anemias\n",
       "\\item Musculoskeletal disorders\n",
       "\\item Congenital anomalies\n",
       "\\item Skin and subcutaneous diseases\n",
       "\\item Sense organ diseases\n",
       "\\item Oral disorders\n",
       "\\item Sudden infant death syndrome\n",
       "\\end{enumerate*}\n"
      ],
      "text/markdown": [
       "1. Tuberculosis\n",
       "2. HIV\n",
       "3. Common infectious diseases\n",
       "4. Malaria\n",
       "5. Neglected tropical diseases\n",
       "6. Maternal disorders\n",
       "7. Neonatal disorders\n",
       "8. Nutritional deficiencies\n",
       "9. Sexually transmitted diseases excluding HIV\n",
       "10. Hepatitis\n",
       "11. Leprosy\n",
       "12. Neoplasms\n",
       "13. Cardiovascular and circulatory diseases\n",
       "14. Chronic respiratory diseases\n",
       "15. Cirrhosis of the liver\n",
       "16. Digestive diseases\n",
       "17. Neurological disorders\n",
       "18. Mental and behavioral disorders\n",
       "19. Diabetes, urinary diseases and male infertility\n",
       "20. Gynecological diseases\n",
       "21. Hemoglobinopathies and hemolytic anemias\n",
       "22. Musculoskeletal disorders\n",
       "23. Congenital anomalies\n",
       "24. Skin and subcutaneous diseases\n",
       "25. Sense organ diseases\n",
       "26. Oral disorders\n",
       "27. Sudden infant death syndrome\n",
       "\n",
       "\n"
      ],
      "text/plain": [
       " [1] Tuberculosis                                   \n",
       " [2] HIV                                            \n",
       " [3] Common infectious diseases                     \n",
       " [4] Malaria                                        \n",
       " [5] Neglected tropical diseases                    \n",
       " [6] Maternal disorders                             \n",
       " [7] Neonatal disorders                             \n",
       " [8] Nutritional deficiencies                       \n",
       " [9] Sexually transmitted diseases excluding HIV    \n",
       "[10] Hepatitis                                      \n",
       "[11] Leprosy                                        \n",
       "[12] Neoplasms                                      \n",
       "[13] Cardiovascular and circulatory diseases        \n",
       "[14] Chronic respiratory diseases                   \n",
       "[15] Cirrhosis of the liver                         \n",
       "[16] Digestive diseases                             \n",
       "[17] Neurological disorders                         \n",
       "[18] Mental and behavioral disorders                \n",
       "[19] Diabetes, urinary diseases and male infertility\n",
       "[20] Gynecological diseases                         \n",
       "[21] Hemoglobinopathies and hemolytic anemias       \n",
       "[22] Musculoskeletal disorders                      \n",
       "[23] Congenital anomalies                           \n",
       "[24] Skin and subcutaneous diseases                 \n",
       "[25] Sense organ diseases                           \n",
       "[26] Oral disorders                                 \n",
       "[27] Sudden infant death syndrome                   \n",
       "27 Levels: Cardiovascular and circulatory diseases ..."
      ]
     },
     "metadata": {},
     "output_type": "display_data"
    }
   ],
   "source": [
    "Mgbd <- read.table(\"../Data/27_gbd_groups.txt\")\n",
    "Mgbd$tooltip <- Mgbd$x\n",
    "levels(Mgbd$tooltip) <- levels(DT$Dis_tooltip)[-1]\n",
    "Mgbd$tooltip"
   ]
  },
  {
   "cell_type": "markdown",
   "metadata": {},
   "source": [
    "### Adding observed data for non simulated diseases"
   ]
  },
  {
   "cell_type": "code",
   "execution_count": 6,
   "metadata": {
    "collapsed": false
   },
   "outputs": [
    {
     "data": {
      "text/html": [
       "<ol class=list-inline>\n",
       "\t<li>Hemoglobinopathies and hemolytic anemias</li>\n",
       "\t<li>Leprosy</li>\n",
       "\t<li>Sudden infant death syndrome</li>\n",
       "</ol>\n"
      ],
      "text/latex": [
       "\\begin{enumerate*}\n",
       "\\item Hemoglobinopathies and hemolytic anemias\n",
       "\\item Leprosy\n",
       "\\item Sudden infant death syndrome\n",
       "\\end{enumerate*}\n"
      ],
      "text/markdown": [
       "1. Hemoglobinopathies and hemolytic anemias\n",
       "2. Leprosy\n",
       "3. Sudden infant death syndrome\n",
       "\n",
       "\n"
      ],
      "text/plain": [
       "[1] Hemoglobinopathies and hemolytic anemias\n",
       "[2] Leprosy                                 \n",
       "[3] Sudden infant death syndrome            \n",
       "28 Levels: All ... Tuberculosis"
      ]
     },
     "metadata": {},
     "output_type": "display_data"
    }
   ],
   "source": [
    "unique(DT$Disease[is.na(DT$Nb_RCTs_med)])"
   ]
  },
  {
   "cell_type": "code",
   "execution_count": 7,
   "metadata": {
    "collapsed": false
   },
   "outputs": [
    {
     "name": "stderr",
     "output_type": "stream",
     "text": [
      "Warning message:\n",
      "“package ‘data.table’ was built under R version 3.3.2”"
     ]
    }
   ],
   "source": [
    "library(data.table)\n",
    "data <- read.table(\"/media/igna/Elements/HotelDieu/Cochrane/MappingRCTs_vs_Burden/database_RCTs_regions_27diseases.txt\")"
   ]
  },
  {
   "cell_type": "code",
   "execution_count": 8,
   "metadata": {
    "collapsed": true
   },
   "outputs": [],
   "source": [
    "Lgbd <- lapply(as.character(data$GBD27),function(x){as.numeric(unlist(strsplit(x,\"&\")))})"
   ]
  },
  {
   "cell_type": "code",
   "execution_count": 9,
   "metadata": {
    "collapsed": true
   },
   "outputs": [],
   "source": [
    "regs <- sort(unique(unlist(strsplit(as.character(data$Regions),\"&\"))))\n",
    "LR <- lapply(regs,function(x){1:nrow(data)%in%grep(x,data$Regions)})\n",
    "LR <- do.call('cbind',LR)\n",
    "LR <- data.table(LR)\n",
    "LR$TrialID <- data$TrialID\n",
    "\n",
    "#Nb of patients per region per trial\n",
    "#Supressing sample size of trials with sample size below 10 and above 200k\n",
    "data$Sample[data$Sample<10 | data$Sample>200000] <- NA\n",
    "#Nb countries per region per trial to distribute sample size equally across countries\n",
    "nb_ctrs <- lapply(strsplit(as.character(data$Nb_ctr_per_reg),'&'),as.numeric)\n",
    "RGs <-strsplit(as.character(data$Regions),'&')\n",
    "pats <- data.frame(TrialID = rep(data$TrialID,sapply(nb_ctrs,length)),\n",
    "                   Nb_ctrs = unlist(nb_ctrs),\n",
    "                   Region = unlist(RGs),\n",
    "                   Tot_sample = rep(data$Sample,sapply(nb_ctrs,length)))\n",
    "\n",
    "pats$tot_ctrs <- rep(sapply(nb_ctrs,sum),sapply(nb_ctrs,length))\n",
    "pats$sample_per_reg <- pats$Tot_sample*pats$Nb_ctrs/pats$tot_ctrs\n",
    "pats <- data.table(pats)\n",
    "setkey(pats,TrialID)"
   ]
  },
  {
   "cell_type": "code",
   "execution_count": 10,
   "metadata": {
    "collapsed": false
   },
   "outputs": [
    {
     "data": {
      "text/html": [
       "<ol class=list-inline>\n",
       "\t<li>11</li>\n",
       "\t<li>21</li>\n",
       "\t<li>27</li>\n",
       "</ol>\n"
      ],
      "text/latex": [
       "\\begin{enumerate*}\n",
       "\\item 11\n",
       "\\item 21\n",
       "\\item 27\n",
       "\\end{enumerate*}\n"
      ],
      "text/markdown": [
       "1. 11\n",
       "2. 21\n",
       "3. 27\n",
       "\n",
       "\n"
      ],
      "text/plain": [
       "[1] 11 21 27"
      ]
     },
     "metadata": {},
     "output_type": "display_data"
    }
   ],
   "source": [
    "dis <- which(Mgbd$x%in%unique(DT$Disease[is.na(DT$Nb_RCTs_med)]))\n",
    "dis"
   ]
  },
  {
   "cell_type": "code",
   "execution_count": 11,
   "metadata": {
    "collapsed": true
   },
   "outputs": [],
   "source": [
    "A <- list()\n",
    "for(i in 1:length(dis)){\n",
    "    d <- dis[i]\n",
    "    repl <- data.table(\n",
    "        TrialID = data$TrialID,\n",
    "        recl_dis = as.numeric(unlist(lapply(Lgbd,function(x){d%in%x}))),\n",
    "        recl_gbd = as.numeric(unlist(lapply(Lgbd,function(x){length(x)>0})))\n",
    "        )\n",
    "    setkey(repl,TrialID)\n",
    "    replpats <- merge(pats,repl)\n",
    "    setkey(replpats,Region)\n",
    "\n",
    "    #Output data\n",
    "    df <- data.table(Region=c(sort(regs),\"All\",\"Non-HI\"),Dis=rep(c(\"dis\",\"all\"),each=9),RCTs=as.integer(0),Patients=as.numeric(0))\n",
    "\n",
    "    #Par région\n",
    "    #Nb trials par region concernant la maladie and relevant to GBD\n",
    "    df[Dis==\"dis\" & Region%in%regs,RCTs:=table(replpats[recl_dis==1,Region])]\n",
    "    df[Dis==\"all\" & Region%in%regs,RCTs:=table(replpats[recl_gbd>=1,Region])]\n",
    "    #Nb patients par région concernant la maladie and relevant to GBD\n",
    "    df[Dis==\"dis\" & Region%in%regs,Patients:=replpats[recl_dis==1,][regs,sum(sample_per_reg,na.rm=TRUE),by=.EACHI]$V1]\n",
    "    df[Dis==\"all\" & Region%in%regs,Patients:=replpats[recl_gbd>=1,][regs,sum(sample_per_reg,na.rm=TRUE),by=.EACHI]$V1]\n",
    "\n",
    "    #WorldWide\n",
    "    #Nb trials worldwide concernant la maladie and relevant to GBD\n",
    "    df[Dis==\"dis\" & Region==\"All\",RCTs:=sum(repl$recl_dis)]\n",
    "    df[Dis==\"all\" & Region==\"All\",RCTs:=sum(repl$recl_gbd>=1)]\n",
    "    #Nb patients worldwide concernant la maladie and relevant to GBD\n",
    "    df[Dis==\"dis\" & Region==\"All\",Patients:=sum(replpats[recl_dis==1,sample_per_reg],na.rm=TRUE)]\n",
    "    df[Dis==\"all\" & Region==\"All\",Patients:=sum(replpats[recl_gbd>=1,sample_per_reg],na.rm=TRUE)]\n",
    "\n",
    "    #Non-HI countries\n",
    "    #Nb trials worldwide concernant la maladie and relevant to GBD\n",
    "    df[Dis==\"dis\" & Region==\"Non-HI\",RCTs:=replpats[Region!=\"High-income\",][recl_dis==1,][!duplicated(TrialID),.N]]\n",
    "    df[Dis==\"all\" & Region==\"Non-HI\",RCTs:=replpats[Region!=\"High-income\",][recl_gbd>=1,][!duplicated(TrialID),.N]]\n",
    "    #Nb patients worldwide concernant la maladie and relevant to GBD\n",
    "    df[Dis==\"dis\" & Region==\"Non-HI\",Patients:=sum(replpats[Region!=\"High-income\",][recl_dis==1,sample_per_reg],na.rm=TRUE)]\n",
    "    df[Dis==\"all\" & Region==\"Non-HI\",Patients:=sum(replpats[Region!=\"High-income\",][recl_gbd>=1,sample_per_reg],na.rm=TRUE)]\n",
    "\n",
    "    A[[i]] <- df\n",
    "    \n",
    "    }"
   ]
  },
  {
   "cell_type": "markdown",
   "metadata": {},
   "source": [
    "### Within regions"
   ]
  },
  {
   "cell_type": "code",
   "execution_count": 12,
   "metadata": {
    "collapsed": false
   },
   "outputs": [],
   "source": [
    "data_f <- data.frame()\n",
    "\n",
    "for(i in 1:length(dis)){\n",
    "    \n",
    "    d <- dis[i]\n",
    "    DF <- A[[i]]\n",
    "\n",
    "    data <- DF[Dis==\"dis\",][,lapply(.SD,function(x){quantile(x,probs=c(0.025,0.5,0.975))}),\n",
    "                        by=c(\"Region\"),\n",
    "                        .SDcols=c(\"RCTs\",\"Patients\")]\n",
    "    dataprop <- DF[,lapply(.SD[Dis==\"dis\",]/.SD[Dis==\"all\",],function(x){100*quantile(x,probs=c(0.025,0.5,0.975))}),\n",
    "                        by=c(\"Region\"),\n",
    "                        .SDcols=c(\"RCTs\",\"Patients\")]\n",
    "\n",
    "    df <- data.frame(cbind(cbind(unique(data$Region),as.character(Mgbd$x[d])),\n",
    "          matrix(data$RCTs,ncol=3,byrow=TRUE),\n",
    "          matrix(data$Patients,ncol=3,byrow=TRUE),\n",
    "          matrix(dataprop$RCTs,ncol=3,byrow=TRUE),\n",
    "          matrix(dataprop$Patients,ncol=3,byrow=TRUE)))\n",
    "\n",
    "    names(df) <- c(\"Region\",\"Disease\",\n",
    "                   paste(paste(\"Nb\",\"RCTs\",sep=\"_\"),c(\"low\",\"med\",\"up\"),sep=\"_\"),\n",
    "                   paste(paste(\"Nb\",\"Patients\",sep=\"_\"),c(\"low\",\"med\",\"up\"),sep=\"_\"),\n",
    "                   paste(paste(\"Prop\",\"RCTs\",sep=\"_\"),c(\"low\",\"med\",\"up\"),sep=\"_\"),\n",
    "                   paste(paste(\"Prop\",\"Patients\",sep=\"_\"),c(\"low\",\"med\",\"up\"),sep=\"_\"))\n",
    "    \n",
    "    data_f <- rbind(data_f,df)\n",
    "}"
   ]
  },
  {
   "cell_type": "code",
   "execution_count": 13,
   "metadata": {
    "collapsed": false
   },
   "outputs": [
    {
     "data": {
      "text/plain": [
       "\n",
       "TRUE \n",
       "  27 "
      ]
     },
     "metadata": {},
     "output_type": "display_data"
    }
   ],
   "source": [
    "data_f <- data_f[order(as.character(data_f$Region),as.character(data_f$Disease)),]\n",
    "DT <- DT[order(as.character(DT$Region),as.character(DT$Disease)),]\n",
    "table(paste(data_f$Region,data_f$Disease)==paste(DT$Region,DT$Disease)[DT$Disease%in%as.character(Mgbd$x[dis])])"
   ]
  },
  {
   "cell_type": "code",
   "execution_count": 14,
   "metadata": {
    "collapsed": false
   },
   "outputs": [
    {
     "data": {
      "text/html": [
       "<ol class=list-inline>\n",
       "\t<li>'Region'</li>\n",
       "\t<li>'Disease'</li>\n",
       "\t<li>'Nb_RCTs_low'</li>\n",
       "\t<li>'Nb_RCTs_med'</li>\n",
       "\t<li>'Nb_RCTs_up'</li>\n",
       "\t<li>'Nb_Patients_low'</li>\n",
       "\t<li>'Nb_Patients_med'</li>\n",
       "\t<li>'Nb_Patients_up'</li>\n",
       "\t<li>'Prop_RCTs_low'</li>\n",
       "\t<li>'Prop_RCTs_med'</li>\n",
       "\t<li>'Prop_RCTs_up'</li>\n",
       "\t<li>'Prop_Patients_low'</li>\n",
       "\t<li>'Prop_Patients_med'</li>\n",
       "\t<li>'Prop_Patients_up'</li>\n",
       "</ol>\n"
      ],
      "text/latex": [
       "\\begin{enumerate*}\n",
       "\\item 'Region'\n",
       "\\item 'Disease'\n",
       "\\item 'Nb\\_RCTs\\_low'\n",
       "\\item 'Nb\\_RCTs\\_med'\n",
       "\\item 'Nb\\_RCTs\\_up'\n",
       "\\item 'Nb\\_Patients\\_low'\n",
       "\\item 'Nb\\_Patients\\_med'\n",
       "\\item 'Nb\\_Patients\\_up'\n",
       "\\item 'Prop\\_RCTs\\_low'\n",
       "\\item 'Prop\\_RCTs\\_med'\n",
       "\\item 'Prop\\_RCTs\\_up'\n",
       "\\item 'Prop\\_Patients\\_low'\n",
       "\\item 'Prop\\_Patients\\_med'\n",
       "\\item 'Prop\\_Patients\\_up'\n",
       "\\end{enumerate*}\n"
      ],
      "text/markdown": [
       "1. 'Region'\n",
       "2. 'Disease'\n",
       "3. 'Nb_RCTs_low'\n",
       "4. 'Nb_RCTs_med'\n",
       "5. 'Nb_RCTs_up'\n",
       "6. 'Nb_Patients_low'\n",
       "7. 'Nb_Patients_med'\n",
       "8. 'Nb_Patients_up'\n",
       "9. 'Prop_RCTs_low'\n",
       "10. 'Prop_RCTs_med'\n",
       "11. 'Prop_RCTs_up'\n",
       "12. 'Prop_Patients_low'\n",
       "13. 'Prop_Patients_med'\n",
       "14. 'Prop_Patients_up'\n",
       "\n",
       "\n"
      ],
      "text/plain": [
       " [1] \"Region\"            \"Disease\"           \"Nb_RCTs_low\"      \n",
       " [4] \"Nb_RCTs_med\"       \"Nb_RCTs_up\"        \"Nb_Patients_low\"  \n",
       " [7] \"Nb_Patients_med\"   \"Nb_Patients_up\"    \"Prop_RCTs_low\"    \n",
       "[10] \"Prop_RCTs_med\"     \"Prop_RCTs_up\"      \"Prop_Patients_low\"\n",
       "[13] \"Prop_Patients_med\" \"Prop_Patients_up\" "
      ]
     },
     "metadata": {},
     "output_type": "display_data"
    },
    {
     "data": {
      "text/html": [
       "<ol class=list-inline>\n",
       "\t<li>'Region'</li>\n",
       "\t<li>'Disease'</li>\n",
       "\t<li>'burden_daly'</li>\n",
       "\t<li>'burden_yll'</li>\n",
       "\t<li>'burden_yld'</li>\n",
       "\t<li>'burden_death'</li>\n",
       "\t<li>'Prop_loc_burden_daly'</li>\n",
       "\t<li>'Prop_loc_burden_yll'</li>\n",
       "\t<li>'Prop_loc_burden_yld'</li>\n",
       "\t<li>'Prop_loc_burden_death'</li>\n",
       "\t<li>'Prop_glob_burden_daly'</li>\n",
       "\t<li>'Prop_glob_burden_yll'</li>\n",
       "\t<li>'Prop_glob_burden_yld'</li>\n",
       "\t<li>'Prop_glob_burden_death'</li>\n",
       "\t<li>'Prop_NHI_burden_daly'</li>\n",
       "\t<li>'Prop_NHI_burden_yll'</li>\n",
       "\t<li>'Prop_NHI_burden_yld'</li>\n",
       "\t<li>'Prop_NHI_burden_death'</li>\n",
       "\t<li>'Nb_RCTs_low'</li>\n",
       "\t<li>'Nb_RCTs_med'</li>\n",
       "\t<li>'Nb_RCTs_up'</li>\n",
       "\t<li>'Nb_Patients_low'</li>\n",
       "\t<li>'Nb_Patients_med'</li>\n",
       "\t<li>'Nb_Patients_up'</li>\n",
       "\t<li>'Prop_loc_RCTs_low'</li>\n",
       "\t<li>'Prop_loc_RCTs_med'</li>\n",
       "\t<li>'Prop_loc_RCTs_up'</li>\n",
       "\t<li>'Prop_loc_Patients_low'</li>\n",
       "\t<li>'Prop_loc_Patients_med'</li>\n",
       "\t<li>'Prop_loc_Patients_up'</li>\n",
       "\t<li>'Prop_glob_RCTs_low'</li>\n",
       "\t<li>'Prop_glob_RCTs_med'</li>\n",
       "\t<li>'Prop_glob_RCTs_up'</li>\n",
       "\t<li>'Prop_glob_Patients_low'</li>\n",
       "\t<li>'Prop_glob_Patients_med'</li>\n",
       "\t<li>'Prop_glob_Patients_up'</li>\n",
       "\t<li>'Prop_NHI_RCTs_low'</li>\n",
       "\t<li>'Prop_NHI_RCTs_med'</li>\n",
       "\t<li>'Prop_NHI_RCTs_up'</li>\n",
       "\t<li>'Prop_NHI_Patients_low'</li>\n",
       "\t<li>'Prop_NHI_Patients_med'</li>\n",
       "\t<li>'Prop_NHI_Patients_up'</li>\n",
       "\t<li>'Dis_lab'</li>\n",
       "\t<li>'Dis_tooltip'</li>\n",
       "\t<li>'regs_lab'</li>\n",
       "</ol>\n"
      ],
      "text/latex": [
       "\\begin{enumerate*}\n",
       "\\item 'Region'\n",
       "\\item 'Disease'\n",
       "\\item 'burden\\_daly'\n",
       "\\item 'burden\\_yll'\n",
       "\\item 'burden\\_yld'\n",
       "\\item 'burden\\_death'\n",
       "\\item 'Prop\\_loc\\_burden\\_daly'\n",
       "\\item 'Prop\\_loc\\_burden\\_yll'\n",
       "\\item 'Prop\\_loc\\_burden\\_yld'\n",
       "\\item 'Prop\\_loc\\_burden\\_death'\n",
       "\\item 'Prop\\_glob\\_burden\\_daly'\n",
       "\\item 'Prop\\_glob\\_burden\\_yll'\n",
       "\\item 'Prop\\_glob\\_burden\\_yld'\n",
       "\\item 'Prop\\_glob\\_burden\\_death'\n",
       "\\item 'Prop\\_NHI\\_burden\\_daly'\n",
       "\\item 'Prop\\_NHI\\_burden\\_yll'\n",
       "\\item 'Prop\\_NHI\\_burden\\_yld'\n",
       "\\item 'Prop\\_NHI\\_burden\\_death'\n",
       "\\item 'Nb\\_RCTs\\_low'\n",
       "\\item 'Nb\\_RCTs\\_med'\n",
       "\\item 'Nb\\_RCTs\\_up'\n",
       "\\item 'Nb\\_Patients\\_low'\n",
       "\\item 'Nb\\_Patients\\_med'\n",
       "\\item 'Nb\\_Patients\\_up'\n",
       "\\item 'Prop\\_loc\\_RCTs\\_low'\n",
       "\\item 'Prop\\_loc\\_RCTs\\_med'\n",
       "\\item 'Prop\\_loc\\_RCTs\\_up'\n",
       "\\item 'Prop\\_loc\\_Patients\\_low'\n",
       "\\item 'Prop\\_loc\\_Patients\\_med'\n",
       "\\item 'Prop\\_loc\\_Patients\\_up'\n",
       "\\item 'Prop\\_glob\\_RCTs\\_low'\n",
       "\\item 'Prop\\_glob\\_RCTs\\_med'\n",
       "\\item 'Prop\\_glob\\_RCTs\\_up'\n",
       "\\item 'Prop\\_glob\\_Patients\\_low'\n",
       "\\item 'Prop\\_glob\\_Patients\\_med'\n",
       "\\item 'Prop\\_glob\\_Patients\\_up'\n",
       "\\item 'Prop\\_NHI\\_RCTs\\_low'\n",
       "\\item 'Prop\\_NHI\\_RCTs\\_med'\n",
       "\\item 'Prop\\_NHI\\_RCTs\\_up'\n",
       "\\item 'Prop\\_NHI\\_Patients\\_low'\n",
       "\\item 'Prop\\_NHI\\_Patients\\_med'\n",
       "\\item 'Prop\\_NHI\\_Patients\\_up'\n",
       "\\item 'Dis\\_lab'\n",
       "\\item 'Dis\\_tooltip'\n",
       "\\item 'regs\\_lab'\n",
       "\\end{enumerate*}\n"
      ],
      "text/markdown": [
       "1. 'Region'\n",
       "2. 'Disease'\n",
       "3. 'burden_daly'\n",
       "4. 'burden_yll'\n",
       "5. 'burden_yld'\n",
       "6. 'burden_death'\n",
       "7. 'Prop_loc_burden_daly'\n",
       "8. 'Prop_loc_burden_yll'\n",
       "9. 'Prop_loc_burden_yld'\n",
       "10. 'Prop_loc_burden_death'\n",
       "11. 'Prop_glob_burden_daly'\n",
       "12. 'Prop_glob_burden_yll'\n",
       "13. 'Prop_glob_burden_yld'\n",
       "14. 'Prop_glob_burden_death'\n",
       "15. 'Prop_NHI_burden_daly'\n",
       "16. 'Prop_NHI_burden_yll'\n",
       "17. 'Prop_NHI_burden_yld'\n",
       "18. 'Prop_NHI_burden_death'\n",
       "19. 'Nb_RCTs_low'\n",
       "20. 'Nb_RCTs_med'\n",
       "21. 'Nb_RCTs_up'\n",
       "22. 'Nb_Patients_low'\n",
       "23. 'Nb_Patients_med'\n",
       "24. 'Nb_Patients_up'\n",
       "25. 'Prop_loc_RCTs_low'\n",
       "26. 'Prop_loc_RCTs_med'\n",
       "27. 'Prop_loc_RCTs_up'\n",
       "28. 'Prop_loc_Patients_low'\n",
       "29. 'Prop_loc_Patients_med'\n",
       "30. 'Prop_loc_Patients_up'\n",
       "31. 'Prop_glob_RCTs_low'\n",
       "32. 'Prop_glob_RCTs_med'\n",
       "33. 'Prop_glob_RCTs_up'\n",
       "34. 'Prop_glob_Patients_low'\n",
       "35. 'Prop_glob_Patients_med'\n",
       "36. 'Prop_glob_Patients_up'\n",
       "37. 'Prop_NHI_RCTs_low'\n",
       "38. 'Prop_NHI_RCTs_med'\n",
       "39. 'Prop_NHI_RCTs_up'\n",
       "40. 'Prop_NHI_Patients_low'\n",
       "41. 'Prop_NHI_Patients_med'\n",
       "42. 'Prop_NHI_Patients_up'\n",
       "43. 'Dis_lab'\n",
       "44. 'Dis_tooltip'\n",
       "45. 'regs_lab'\n",
       "\n",
       "\n"
      ],
      "text/plain": [
       " [1] \"Region\"                 \"Disease\"                \"burden_daly\"           \n",
       " [4] \"burden_yll\"             \"burden_yld\"             \"burden_death\"          \n",
       " [7] \"Prop_loc_burden_daly\"   \"Prop_loc_burden_yll\"    \"Prop_loc_burden_yld\"   \n",
       "[10] \"Prop_loc_burden_death\"  \"Prop_glob_burden_daly\"  \"Prop_glob_burden_yll\"  \n",
       "[13] \"Prop_glob_burden_yld\"   \"Prop_glob_burden_death\" \"Prop_NHI_burden_daly\"  \n",
       "[16] \"Prop_NHI_burden_yll\"    \"Prop_NHI_burden_yld\"    \"Prop_NHI_burden_death\" \n",
       "[19] \"Nb_RCTs_low\"            \"Nb_RCTs_med\"            \"Nb_RCTs_up\"            \n",
       "[22] \"Nb_Patients_low\"        \"Nb_Patients_med\"        \"Nb_Patients_up\"        \n",
       "[25] \"Prop_loc_RCTs_low\"      \"Prop_loc_RCTs_med\"      \"Prop_loc_RCTs_up\"      \n",
       "[28] \"Prop_loc_Patients_low\"  \"Prop_loc_Patients_med\"  \"Prop_loc_Patients_up\"  \n",
       "[31] \"Prop_glob_RCTs_low\"     \"Prop_glob_RCTs_med\"     \"Prop_glob_RCTs_up\"     \n",
       "[34] \"Prop_glob_Patients_low\" \"Prop_glob_Patients_med\" \"Prop_glob_Patients_up\" \n",
       "[37] \"Prop_NHI_RCTs_low\"      \"Prop_NHI_RCTs_med\"      \"Prop_NHI_RCTs_up\"      \n",
       "[40] \"Prop_NHI_Patients_low\"  \"Prop_NHI_Patients_med\"  \"Prop_NHI_Patients_up\"  \n",
       "[43] \"Dis_lab\"                \"Dis_tooltip\"            \"regs_lab\"              "
      ]
     },
     "metadata": {},
     "output_type": "display_data"
    }
   ],
   "source": [
    "names(data_f)\n",
    "names(DT)"
   ]
  },
  {
   "cell_type": "code",
   "execution_count": 15,
   "metadata": {
    "collapsed": true
   },
   "outputs": [],
   "source": [
    "DT$Nb_RCTs_med[DT$Disease%in%as.character(Mgbd$x[dis])] <- as.numeric(as.character(data_f$Nb_RCTs_med))\n",
    "DT$Nb_Patients_med[DT$Disease%in%as.character(Mgbd$x[dis])] <- as.numeric(as.character(data_f$Nb_Patients_med))\n",
    "DT$Prop_loc_RCTs_med[DT$Disease%in%as.character(Mgbd$x[dis])] <- as.numeric(as.character(data_f$Prop_RCTs_med))\n",
    "DT$Prop_loc_Patients_med[DT$Disease%in%as.character(Mgbd$x[dis])] <- as.numeric(as.character(data_f$Prop_Patients_med))"
   ]
  },
  {
   "cell_type": "markdown",
   "metadata": {},
   "source": [
    "### Within diseases"
   ]
  },
  {
   "cell_type": "code",
   "execution_count": 16,
   "metadata": {
    "collapsed": false
   },
   "outputs": [
    {
     "data": {
      "text/html": [
       "<ol class=list-inline>\n",
       "\t<li>'Central Europe, Eastern Europe, and Central Asia'</li>\n",
       "\t<li>'High-income'</li>\n",
       "\t<li>'Latin America and Caribbean'</li>\n",
       "\t<li>'Non-HI'</li>\n",
       "\t<li>'North Africa and Middle East'</li>\n",
       "\t<li>'South Asia'</li>\n",
       "\t<li>'Southeast Asia, East Asia and Oceania'</li>\n",
       "\t<li>'Sub-Saharian Africa'</li>\n",
       "</ol>\n"
      ],
      "text/latex": [
       "\\begin{enumerate*}\n",
       "\\item 'Central Europe, Eastern Europe, and Central Asia'\n",
       "\\item 'High-income'\n",
       "\\item 'Latin America and Caribbean'\n",
       "\\item 'Non-HI'\n",
       "\\item 'North Africa and Middle East'\n",
       "\\item 'South Asia'\n",
       "\\item 'Southeast Asia, East Asia and Oceania'\n",
       "\\item 'Sub-Saharian Africa'\n",
       "\\end{enumerate*}\n"
      ],
      "text/markdown": [
       "1. 'Central Europe, Eastern Europe, and Central Asia'\n",
       "2. 'High-income'\n",
       "3. 'Latin America and Caribbean'\n",
       "4. 'Non-HI'\n",
       "5. 'North Africa and Middle East'\n",
       "6. 'South Asia'\n",
       "7. 'Southeast Asia, East Asia and Oceania'\n",
       "8. 'Sub-Saharian Africa'\n",
       "\n",
       "\n"
      ],
      "text/plain": [
       "[1] \"Central Europe, Eastern Europe, and Central Asia\"\n",
       "[2] \"High-income\"                                     \n",
       "[3] \"Latin America and Caribbean\"                     \n",
       "[4] \"Non-HI\"                                          \n",
       "[5] \"North Africa and Middle East\"                    \n",
       "[6] \"South Asia\"                                      \n",
       "[7] \"Southeast Asia, East Asia and Oceania\"           \n",
       "[8] \"Sub-Saharian Africa\"                             "
      ]
     },
     "metadata": {},
     "output_type": "display_data"
    }
   ],
   "source": [
    "regs <- sort(unique(DF$Region))\n",
    "regs <- regs[regs!=\"All\"]\n",
    "regs"
   ]
  },
  {
   "cell_type": "code",
   "execution_count": 17,
   "metadata": {
    "collapsed": false
   },
   "outputs": [],
   "source": [
    "data_f <- data.frame()\n",
    "\n",
    "for(i in 1:length(dis)){\n",
    "    d <- dis[i]\n",
    "    DF <- A[[i]]\n",
    "\n",
    "    DFr <- DF[DF$Region%in%regs & DF$Dis == \"dis\",]\n",
    "    DFr$RCTs_all <- rep(DF$RCTs[DF$Dis==\"dis\" & DF$Region==\"All\"],each=length(regs))\n",
    "    DFr$RCTs_NHI <- rep(DF$RCTs[DF$Dis==\"dis\" & DF$Region==\"Non-HI\"],each=length(regs))\n",
    "    DFr$Patients_all <- rep(DF$Patients[DF$Dis==\"dis\" & DF$Region==\"All\"],each=length(regs))\n",
    "    DFr$Patients_NHI <- rep(DF$Patients[DF$Dis==\"dis\" & DF$Region==\"Non-HI\"],each=length(regs))\n",
    "\n",
    "    df <- data.frame(cbind(regs,as.character(Mgbd$x[d]),\n",
    "        do.call('rbind',by(DFr[DFr$RCTs_all!=0,],\n",
    "                           DFr$Region[DFr$RCTs_all!=0],\n",
    "                           function(x){100*quantile(x$RCTs/x$RCTs_all,probs=c(0.025,0.5,0.975))})),\n",
    "        do.call('rbind',by(DFr[DFr$Patients_all!=0,],\n",
    "                           DFr$Region[DFr$Patients_all!=0],\n",
    "                           function(x){100*quantile(x$Patients/x$Patients_all,probs=c(0.025,0.5,0.975))}))))\n",
    "\n",
    "    if(sum(DFr$RCTs_NHI)!=0){\n",
    "        df <- cbind(df,cbind(                   \n",
    "            do.call('rbind',by(DFr[DFr$RCTs_NHI!=0,],\n",
    "                               DFr$Region[DFr$RCTs_NHI!=0],\n",
    "                               function(x){100*quantile(x$RCTs/x$RCTs_NHI,probs=c(0.025,0.5,0.975))})),\n",
    "            do.call('rbind',by(DFr[DFr$Patients_NHI!=0,],\n",
    "                               DFr$Region[DFr$Patients_NHI!=0],\n",
    "                               function(x){100*quantile(x$Patients/x$Patients_NHI,probs=c(0.025,0.5,0.975))}))))\n",
    "    }\n",
    "    if(sum(DFr$RCTs_NHI)==0){\n",
    "        df <- cbind(df,matrix(0,nrow=length(regs),ncol=3),matrix(0,nrow=length(regs),ncol=3))\n",
    "    }\n",
    "\n",
    "\n",
    "    names(df) <- c(\"Region\",\"Disease\",\n",
    "               paste(paste(\"Prop_all\",\"RCTs\",sep=\"_\"),c(\"low\",\"med\",\"up\"),sep=\"_\"),\n",
    "               paste(paste(\"Prop_all\",\"Patients\",sep=\"_\"),c(\"low\",\"med\",\"up\"),sep=\"_\"),\n",
    "               paste(paste(\"Prop_NHI\",\"RCTs\",sep=\"_\"),c(\"low\",\"med\",\"up\"),sep=\"_\"),\n",
    "               paste(paste(\"Prop_NHI\",\"Patients\",sep=\"_\"),c(\"low\",\"med\",\"up\"),sep=\"_\"))\n",
    "\n",
    "    data_f <- rbind(data_f,df)\n",
    "}"
   ]
  },
  {
   "cell_type": "code",
   "execution_count": 18,
   "metadata": {
    "collapsed": false
   },
   "outputs": [
    {
     "data": {
      "text/plain": [
       "\n",
       "TRUE \n",
       "  24 "
      ]
     },
     "metadata": {},
     "output_type": "display_data"
    }
   ],
   "source": [
    "data_f <- data_f[order(as.character(data_f$Region),as.character(data_f$Disease)),]\n",
    "table(paste(data_f$Region,data_f$Disease)==paste(DT$Region,DT$Disease)[DT$Disease%in%as.character(Mgbd$x[dis]) & DT$Region!=\"All\"])"
   ]
  },
  {
   "cell_type": "code",
   "execution_count": 19,
   "metadata": {
    "collapsed": false
   },
   "outputs": [
    {
     "data": {
      "text/html": [
       "<ol class=list-inline>\n",
       "\t<li>'Region'</li>\n",
       "\t<li>'Disease'</li>\n",
       "\t<li>'Prop_all_RCTs_low'</li>\n",
       "\t<li>'Prop_all_RCTs_med'</li>\n",
       "\t<li>'Prop_all_RCTs_up'</li>\n",
       "\t<li>'Prop_all_Patients_low'</li>\n",
       "\t<li>'Prop_all_Patients_med'</li>\n",
       "\t<li>'Prop_all_Patients_up'</li>\n",
       "\t<li>'Prop_NHI_RCTs_low'</li>\n",
       "\t<li>'Prop_NHI_RCTs_med'</li>\n",
       "\t<li>'Prop_NHI_RCTs_up'</li>\n",
       "\t<li>'Prop_NHI_Patients_low'</li>\n",
       "\t<li>'Prop_NHI_Patients_med'</li>\n",
       "\t<li>'Prop_NHI_Patients_up'</li>\n",
       "</ol>\n"
      ],
      "text/latex": [
       "\\begin{enumerate*}\n",
       "\\item 'Region'\n",
       "\\item 'Disease'\n",
       "\\item 'Prop\\_all\\_RCTs\\_low'\n",
       "\\item 'Prop\\_all\\_RCTs\\_med'\n",
       "\\item 'Prop\\_all\\_RCTs\\_up'\n",
       "\\item 'Prop\\_all\\_Patients\\_low'\n",
       "\\item 'Prop\\_all\\_Patients\\_med'\n",
       "\\item 'Prop\\_all\\_Patients\\_up'\n",
       "\\item 'Prop\\_NHI\\_RCTs\\_low'\n",
       "\\item 'Prop\\_NHI\\_RCTs\\_med'\n",
       "\\item 'Prop\\_NHI\\_RCTs\\_up'\n",
       "\\item 'Prop\\_NHI\\_Patients\\_low'\n",
       "\\item 'Prop\\_NHI\\_Patients\\_med'\n",
       "\\item 'Prop\\_NHI\\_Patients\\_up'\n",
       "\\end{enumerate*}\n"
      ],
      "text/markdown": [
       "1. 'Region'\n",
       "2. 'Disease'\n",
       "3. 'Prop_all_RCTs_low'\n",
       "4. 'Prop_all_RCTs_med'\n",
       "5. 'Prop_all_RCTs_up'\n",
       "6. 'Prop_all_Patients_low'\n",
       "7. 'Prop_all_Patients_med'\n",
       "8. 'Prop_all_Patients_up'\n",
       "9. 'Prop_NHI_RCTs_low'\n",
       "10. 'Prop_NHI_RCTs_med'\n",
       "11. 'Prop_NHI_RCTs_up'\n",
       "12. 'Prop_NHI_Patients_low'\n",
       "13. 'Prop_NHI_Patients_med'\n",
       "14. 'Prop_NHI_Patients_up'\n",
       "\n",
       "\n"
      ],
      "text/plain": [
       " [1] \"Region\"                \"Disease\"               \"Prop_all_RCTs_low\"    \n",
       " [4] \"Prop_all_RCTs_med\"     \"Prop_all_RCTs_up\"      \"Prop_all_Patients_low\"\n",
       " [7] \"Prop_all_Patients_med\" \"Prop_all_Patients_up\"  \"Prop_NHI_RCTs_low\"    \n",
       "[10] \"Prop_NHI_RCTs_med\"     \"Prop_NHI_RCTs_up\"      \"Prop_NHI_Patients_low\"\n",
       "[13] \"Prop_NHI_Patients_med\" \"Prop_NHI_Patients_up\" "
      ]
     },
     "metadata": {},
     "output_type": "display_data"
    },
    {
     "data": {
      "text/html": [
       "<ol class=list-inline>\n",
       "\t<li>'Region'</li>\n",
       "\t<li>'Disease'</li>\n",
       "\t<li>'burden_daly'</li>\n",
       "\t<li>'burden_yll'</li>\n",
       "\t<li>'burden_yld'</li>\n",
       "\t<li>'burden_death'</li>\n",
       "\t<li>'Prop_loc_burden_daly'</li>\n",
       "\t<li>'Prop_loc_burden_yll'</li>\n",
       "\t<li>'Prop_loc_burden_yld'</li>\n",
       "\t<li>'Prop_loc_burden_death'</li>\n",
       "\t<li>'Prop_glob_burden_daly'</li>\n",
       "\t<li>'Prop_glob_burden_yll'</li>\n",
       "\t<li>'Prop_glob_burden_yld'</li>\n",
       "\t<li>'Prop_glob_burden_death'</li>\n",
       "\t<li>'Prop_NHI_burden_daly'</li>\n",
       "\t<li>'Prop_NHI_burden_yll'</li>\n",
       "\t<li>'Prop_NHI_burden_yld'</li>\n",
       "\t<li>'Prop_NHI_burden_death'</li>\n",
       "\t<li>'Nb_RCTs_low'</li>\n",
       "\t<li>'Nb_RCTs_med'</li>\n",
       "\t<li>'Nb_RCTs_up'</li>\n",
       "\t<li>'Nb_Patients_low'</li>\n",
       "\t<li>'Nb_Patients_med'</li>\n",
       "\t<li>'Nb_Patients_up'</li>\n",
       "\t<li>'Prop_loc_RCTs_low'</li>\n",
       "\t<li>'Prop_loc_RCTs_med'</li>\n",
       "\t<li>'Prop_loc_RCTs_up'</li>\n",
       "\t<li>'Prop_loc_Patients_low'</li>\n",
       "\t<li>'Prop_loc_Patients_med'</li>\n",
       "\t<li>'Prop_loc_Patients_up'</li>\n",
       "\t<li>'Prop_glob_RCTs_low'</li>\n",
       "\t<li>'Prop_glob_RCTs_med'</li>\n",
       "\t<li>'Prop_glob_RCTs_up'</li>\n",
       "\t<li>'Prop_glob_Patients_low'</li>\n",
       "\t<li>'Prop_glob_Patients_med'</li>\n",
       "\t<li>'Prop_glob_Patients_up'</li>\n",
       "\t<li>'Prop_NHI_RCTs_low'</li>\n",
       "\t<li>'Prop_NHI_RCTs_med'</li>\n",
       "\t<li>'Prop_NHI_RCTs_up'</li>\n",
       "\t<li>'Prop_NHI_Patients_low'</li>\n",
       "\t<li>'Prop_NHI_Patients_med'</li>\n",
       "\t<li>'Prop_NHI_Patients_up'</li>\n",
       "\t<li>'Dis_lab'</li>\n",
       "\t<li>'Dis_tooltip'</li>\n",
       "\t<li>'regs_lab'</li>\n",
       "</ol>\n"
      ],
      "text/latex": [
       "\\begin{enumerate*}\n",
       "\\item 'Region'\n",
       "\\item 'Disease'\n",
       "\\item 'burden\\_daly'\n",
       "\\item 'burden\\_yll'\n",
       "\\item 'burden\\_yld'\n",
       "\\item 'burden\\_death'\n",
       "\\item 'Prop\\_loc\\_burden\\_daly'\n",
       "\\item 'Prop\\_loc\\_burden\\_yll'\n",
       "\\item 'Prop\\_loc\\_burden\\_yld'\n",
       "\\item 'Prop\\_loc\\_burden\\_death'\n",
       "\\item 'Prop\\_glob\\_burden\\_daly'\n",
       "\\item 'Prop\\_glob\\_burden\\_yll'\n",
       "\\item 'Prop\\_glob\\_burden\\_yld'\n",
       "\\item 'Prop\\_glob\\_burden\\_death'\n",
       "\\item 'Prop\\_NHI\\_burden\\_daly'\n",
       "\\item 'Prop\\_NHI\\_burden\\_yll'\n",
       "\\item 'Prop\\_NHI\\_burden\\_yld'\n",
       "\\item 'Prop\\_NHI\\_burden\\_death'\n",
       "\\item 'Nb\\_RCTs\\_low'\n",
       "\\item 'Nb\\_RCTs\\_med'\n",
       "\\item 'Nb\\_RCTs\\_up'\n",
       "\\item 'Nb\\_Patients\\_low'\n",
       "\\item 'Nb\\_Patients\\_med'\n",
       "\\item 'Nb\\_Patients\\_up'\n",
       "\\item 'Prop\\_loc\\_RCTs\\_low'\n",
       "\\item 'Prop\\_loc\\_RCTs\\_med'\n",
       "\\item 'Prop\\_loc\\_RCTs\\_up'\n",
       "\\item 'Prop\\_loc\\_Patients\\_low'\n",
       "\\item 'Prop\\_loc\\_Patients\\_med'\n",
       "\\item 'Prop\\_loc\\_Patients\\_up'\n",
       "\\item 'Prop\\_glob\\_RCTs\\_low'\n",
       "\\item 'Prop\\_glob\\_RCTs\\_med'\n",
       "\\item 'Prop\\_glob\\_RCTs\\_up'\n",
       "\\item 'Prop\\_glob\\_Patients\\_low'\n",
       "\\item 'Prop\\_glob\\_Patients\\_med'\n",
       "\\item 'Prop\\_glob\\_Patients\\_up'\n",
       "\\item 'Prop\\_NHI\\_RCTs\\_low'\n",
       "\\item 'Prop\\_NHI\\_RCTs\\_med'\n",
       "\\item 'Prop\\_NHI\\_RCTs\\_up'\n",
       "\\item 'Prop\\_NHI\\_Patients\\_low'\n",
       "\\item 'Prop\\_NHI\\_Patients\\_med'\n",
       "\\item 'Prop\\_NHI\\_Patients\\_up'\n",
       "\\item 'Dis\\_lab'\n",
       "\\item 'Dis\\_tooltip'\n",
       "\\item 'regs\\_lab'\n",
       "\\end{enumerate*}\n"
      ],
      "text/markdown": [
       "1. 'Region'\n",
       "2. 'Disease'\n",
       "3. 'burden_daly'\n",
       "4. 'burden_yll'\n",
       "5. 'burden_yld'\n",
       "6. 'burden_death'\n",
       "7. 'Prop_loc_burden_daly'\n",
       "8. 'Prop_loc_burden_yll'\n",
       "9. 'Prop_loc_burden_yld'\n",
       "10. 'Prop_loc_burden_death'\n",
       "11. 'Prop_glob_burden_daly'\n",
       "12. 'Prop_glob_burden_yll'\n",
       "13. 'Prop_glob_burden_yld'\n",
       "14. 'Prop_glob_burden_death'\n",
       "15. 'Prop_NHI_burden_daly'\n",
       "16. 'Prop_NHI_burden_yll'\n",
       "17. 'Prop_NHI_burden_yld'\n",
       "18. 'Prop_NHI_burden_death'\n",
       "19. 'Nb_RCTs_low'\n",
       "20. 'Nb_RCTs_med'\n",
       "21. 'Nb_RCTs_up'\n",
       "22. 'Nb_Patients_low'\n",
       "23. 'Nb_Patients_med'\n",
       "24. 'Nb_Patients_up'\n",
       "25. 'Prop_loc_RCTs_low'\n",
       "26. 'Prop_loc_RCTs_med'\n",
       "27. 'Prop_loc_RCTs_up'\n",
       "28. 'Prop_loc_Patients_low'\n",
       "29. 'Prop_loc_Patients_med'\n",
       "30. 'Prop_loc_Patients_up'\n",
       "31. 'Prop_glob_RCTs_low'\n",
       "32. 'Prop_glob_RCTs_med'\n",
       "33. 'Prop_glob_RCTs_up'\n",
       "34. 'Prop_glob_Patients_low'\n",
       "35. 'Prop_glob_Patients_med'\n",
       "36. 'Prop_glob_Patients_up'\n",
       "37. 'Prop_NHI_RCTs_low'\n",
       "38. 'Prop_NHI_RCTs_med'\n",
       "39. 'Prop_NHI_RCTs_up'\n",
       "40. 'Prop_NHI_Patients_low'\n",
       "41. 'Prop_NHI_Patients_med'\n",
       "42. 'Prop_NHI_Patients_up'\n",
       "43. 'Dis_lab'\n",
       "44. 'Dis_tooltip'\n",
       "45. 'regs_lab'\n",
       "\n",
       "\n"
      ],
      "text/plain": [
       " [1] \"Region\"                 \"Disease\"                \"burden_daly\"           \n",
       " [4] \"burden_yll\"             \"burden_yld\"             \"burden_death\"          \n",
       " [7] \"Prop_loc_burden_daly\"   \"Prop_loc_burden_yll\"    \"Prop_loc_burden_yld\"   \n",
       "[10] \"Prop_loc_burden_death\"  \"Prop_glob_burden_daly\"  \"Prop_glob_burden_yll\"  \n",
       "[13] \"Prop_glob_burden_yld\"   \"Prop_glob_burden_death\" \"Prop_NHI_burden_daly\"  \n",
       "[16] \"Prop_NHI_burden_yll\"    \"Prop_NHI_burden_yld\"    \"Prop_NHI_burden_death\" \n",
       "[19] \"Nb_RCTs_low\"            \"Nb_RCTs_med\"            \"Nb_RCTs_up\"            \n",
       "[22] \"Nb_Patients_low\"        \"Nb_Patients_med\"        \"Nb_Patients_up\"        \n",
       "[25] \"Prop_loc_RCTs_low\"      \"Prop_loc_RCTs_med\"      \"Prop_loc_RCTs_up\"      \n",
       "[28] \"Prop_loc_Patients_low\"  \"Prop_loc_Patients_med\"  \"Prop_loc_Patients_up\"  \n",
       "[31] \"Prop_glob_RCTs_low\"     \"Prop_glob_RCTs_med\"     \"Prop_glob_RCTs_up\"     \n",
       "[34] \"Prop_glob_Patients_low\" \"Prop_glob_Patients_med\" \"Prop_glob_Patients_up\" \n",
       "[37] \"Prop_NHI_RCTs_low\"      \"Prop_NHI_RCTs_med\"      \"Prop_NHI_RCTs_up\"      \n",
       "[40] \"Prop_NHI_Patients_low\"  \"Prop_NHI_Patients_med\"  \"Prop_NHI_Patients_up\"  \n",
       "[43] \"Dis_lab\"                \"Dis_tooltip\"            \"regs_lab\"              "
      ]
     },
     "metadata": {},
     "output_type": "display_data"
    }
   ],
   "source": [
    "names(data_f)\n",
    "names(DT)"
   ]
  },
  {
   "cell_type": "code",
   "execution_count": 20,
   "metadata": {
    "collapsed": true
   },
   "outputs": [],
   "source": [
    "DT$Prop_glob_RCTs_med[DT$Disease%in%as.character(Mgbd$x[dis]) & DT$Region!=\"All\"] <- \n",
    "        as.numeric(as.character(data_f$Prop_all_RCTs_med))\n",
    "DT$Prop_glob_Patients_med[DT$Disease%in%as.character(Mgbd$x[dis]) & DT$Region!=\"All\"] <- \n",
    "        as.numeric(as.character(data_f$Prop_all_Patients_med))\n",
    "DT$Prop_NHI_RCTs_med[DT$Disease%in%as.character(Mgbd$x[dis]) & DT$Region!=\"All\"] <- \n",
    "        as.numeric(as.character(data_f$Prop_NHI_RCTs_med))\n",
    "DT$Prop_NHI_Patients_med[DT$Disease%in%as.character(Mgbd$x[dis]) & DT$Region!=\"All\"] <- \n",
    "        as.numeric(as.character(data_f$Prop_NHI_Patients_med))"
   ]
  },
  {
   "cell_type": "code",
   "execution_count": 21,
   "metadata": {
    "collapsed": false
   },
   "outputs": [
    {
     "data": {
      "text/html": [
       "<table>\n",
       "<thead><tr><th></th><th scope=col>Region</th><th scope=col>Disease</th><th scope=col>burden_daly</th><th scope=col>burden_yll</th><th scope=col>burden_yld</th><th scope=col>burden_death</th><th scope=col>Prop_loc_burden_daly</th><th scope=col>Prop_loc_burden_yll</th><th scope=col>Prop_loc_burden_yld</th><th scope=col>Prop_loc_burden_death</th><th scope=col>⋯</th><th scope=col>Prop_glob_Patients_up</th><th scope=col>Prop_NHI_RCTs_low</th><th scope=col>Prop_NHI_RCTs_med</th><th scope=col>Prop_NHI_RCTs_up</th><th scope=col>Prop_NHI_Patients_low</th><th scope=col>Prop_NHI_Patients_med</th><th scope=col>Prop_NHI_Patients_up</th><th scope=col>Dis_lab</th><th scope=col>Dis_tooltip</th><th scope=col>regs_lab</th></tr></thead>\n",
       "<tbody>\n",
       "\t<tr><th scope=row>13</th><td>All                 </td><td>Leprosy             </td><td>8539.55289646       </td><td>0                   </td><td>8539.55289646       </td><td>0                   </td><td>0.000384653540536768</td><td>0                   </td><td>0.00127215563614428 </td><td>0                   </td><td>⋯                   </td><td>NA                  </td><td>NA                  </td><td>NA                  </td><td>NA                  </td><td>NA                  </td><td>NA                  </td><td>NA                  </td><td>Leprosy             </td><td>Leprosy             </td><td>World               </td></tr>\n",
       "\t<tr><th scope=row>41</th><td>Central Europe, Eastern Europe, and Central Asia</td><td>Leprosy                                         </td><td>23.8790711                                      </td><td>0                                               </td><td>23.8790711                                      </td><td>0                                               </td><td>1.57599038386549e-05                            </td><td>0                                               </td><td>4.95251384242701e-05                            </td><td>0                                               </td><td>⋯                                               </td><td>NA                                              </td><td>NA                                              </td><td>20                                              </td><td>NA                                              </td><td>NA                                              </td><td>8.83875367881882                                </td><td>NA                                              </td><td>Leprosy                                         </td><td>Leprosy                                         </td><td>Eastern Europe and Central Asia                 </td></tr>\n",
       "\t<tr><th scope=row>69</th><td>High-income          </td><td>Leprosy              </td><td>23.88100136          </td><td>0                    </td><td>23.88100136          </td><td>0                    </td><td>1.03134835933603e-05 </td><td>0                    </td><td>2.10771246590008e-05 </td><td>0                    </td><td>⋯                    </td><td>NA                   </td><td>NA                   </td><td>118                  </td><td>NA                   </td><td>NA                   </td><td>173.67164289901      </td><td>NA                   </td><td>Leprosy              </td><td>Leprosy              </td><td>High-income countries</td></tr>\n",
       "\t<tr><th scope=row>97</th><td>Latin America and Caribbean</td><td>Leprosy                    </td><td>1060.8730239               </td><td>0                          </td><td>1060.8730239               </td><td>0                          </td><td>0.000918446042195016       </td><td>0                          </td><td>0.00214674772386038        </td><td>0                          </td><td>⋯                          </td><td>NA                         </td><td>NA                         </td><td>12                         </td><td>NA                         </td><td>NA                         </td><td>12.3413448972869           </td><td>NA                         </td><td>Leprosy                    </td><td>Leprosy                    </td><td>Latin America and Caribbean</td></tr>\n",
       "\t<tr><th scope=row>125</th><td>Non-HI                   </td><td>Leprosy                  </td><td>8515.6718951             </td><td>0                        </td><td>8515.6718951             </td><td>0                        </td><td>0.000428243371288557     </td><td>0                        </td><td>0.00152620610479439      </td><td>0                        </td><td>⋯                        </td><td>NA                       </td><td>NA                       </td><td>100                      </td><td>NA                       </td><td>NA                       </td><td>100                      </td><td>NA                       </td><td>Leprosy                  </td><td>Leprosy                  </td><td>Non-high-income countries</td></tr>\n",
       "\t<tr><th scope=row>153</th><td>North Africa and Middle East</td><td>Leprosy                     </td><td>34.2475894                  </td><td>0                           </td><td>34.2475894                  </td><td>0                           </td><td>3.34863128992032e-05        </td><td>0                           </td><td>8.2766124077638e-05         </td><td>0                           </td><td>⋯                           </td><td>NA                          </td><td>NA                          </td><td>14                          </td><td>NA                          </td><td>NA                          </td><td>3.64672822904794            </td><td>NA                          </td><td>Leprosy                     </td><td>Leprosy                     </td><td>North Africa and Middle East</td></tr>\n",
       "</tbody>\n",
       "</table>\n"
      ],
      "text/latex": [
       "\\begin{tabular}{r|lllllllllllllllllllllllllllllllllllllllllllll}\n",
       "  & Region & Disease & burden\\_daly & burden\\_yll & burden\\_yld & burden\\_death & Prop\\_loc\\_burden\\_daly & Prop\\_loc\\_burden\\_yll & Prop\\_loc\\_burden\\_yld & Prop\\_loc\\_burden\\_death & ⋯ & Prop\\_glob\\_Patients\\_up & Prop\\_NHI\\_RCTs\\_low & Prop\\_NHI\\_RCTs\\_med & Prop\\_NHI\\_RCTs\\_up & Prop\\_NHI\\_Patients\\_low & Prop\\_NHI\\_Patients\\_med & Prop\\_NHI\\_Patients\\_up & Dis\\_lab & Dis\\_tooltip & regs\\_lab\\\\\n",
       "\\hline\n",
       "\t13 & All                  & Leprosy              & 8539.55289646        & 0                    & 8539.55289646        & 0                    & 0.000384653540536768 & 0                    & 0.00127215563614428  & 0                    & ⋯                    & NA                   & NA                   & NA                   & NA                   & NA                   & NA                   & NA                   & Leprosy              & Leprosy              & World               \\\\\n",
       "\t41 & Central Europe, Eastern Europe, and Central Asia & Leprosy                                          & 23.8790711                                       & 0                                                & 23.8790711                                       & 0                                                & 1.57599038386549e-05                             & 0                                                & 4.95251384242701e-05                             & 0                                                & ⋯                                                & NA                                               & NA                                               & 20                                               & NA                                               & NA                                               & 8.83875367881882                                 & NA                                               & Leprosy                                          & Leprosy                                          & Eastern Europe and Central Asia                 \\\\\n",
       "\t69 & High-income           & Leprosy               & 23.88100136           & 0                     & 23.88100136           & 0                     & 1.03134835933603e-05  & 0                     & 2.10771246590008e-05  & 0                     & ⋯                     & NA                    & NA                    & 118                   & NA                    & NA                    & 173.67164289901       & NA                    & Leprosy               & Leprosy               & High-income countries\\\\\n",
       "\t97 & Latin America and Caribbean & Leprosy                     & 1060.8730239                & 0                           & 1060.8730239                & 0                           & 0.000918446042195016        & 0                           & 0.00214674772386038         & 0                           & ⋯                           & NA                          & NA                          & 12                          & NA                          & NA                          & 12.3413448972869            & NA                          & Leprosy                     & Leprosy                     & Latin America and Caribbean\\\\\n",
       "\t125 & Non-HI                    & Leprosy                   & 8515.6718951              & 0                         & 8515.6718951              & 0                         & 0.000428243371288557      & 0                         & 0.00152620610479439       & 0                         & ⋯                         & NA                        & NA                        & 100                       & NA                        & NA                        & 100                       & NA                        & Leprosy                   & Leprosy                   & Non-high-income countries\\\\\n",
       "\t153 & North Africa and Middle East & Leprosy                      & 34.2475894                   & 0                            & 34.2475894                   & 0                            & 3.34863128992032e-05         & 0                            & 8.2766124077638e-05          & 0                            & ⋯                            & NA                           & NA                           & 14                           & NA                           & NA                           & 3.64672822904794             & NA                           & Leprosy                      & Leprosy                      & North Africa and Middle East\\\\\n",
       "\\end{tabular}\n"
      ],
      "text/plain": [
       "                                              Region Disease burden_daly\n",
       "13                                               All Leprosy  8539.55290\n",
       "41  Central Europe, Eastern Europe, and Central Asia Leprosy    23.87907\n",
       "69                                       High-income Leprosy    23.88100\n",
       "97                       Latin America and Caribbean Leprosy  1060.87302\n",
       "125                                           Non-HI Leprosy  8515.67190\n",
       "153                     North Africa and Middle East Leprosy    34.24759\n",
       "    burden_yll burden_yld burden_death Prop_loc_burden_daly Prop_loc_burden_yll\n",
       "13           0 8539.55290            0         3.846535e-04                   0\n",
       "41           0   23.87907            0         1.575990e-05                   0\n",
       "69           0   23.88100            0         1.031348e-05                   0\n",
       "97           0 1060.87302            0         9.184460e-04                   0\n",
       "125          0 8515.67190            0         4.282434e-04                   0\n",
       "153          0   34.24759            0         3.348631e-05                   0\n",
       "    Prop_loc_burden_yld Prop_loc_burden_death ⋯ Prop_glob_Patients_up\n",
       "13         1.272156e-03                     0 ⋯                    NA\n",
       "41         4.952514e-05                     0 ⋯                    NA\n",
       "69         2.107712e-05                     0 ⋯                    NA\n",
       "97         2.146748e-03                     0 ⋯                    NA\n",
       "125        1.526206e-03                     0 ⋯                    NA\n",
       "153        8.276612e-05                     0 ⋯                    NA\n",
       "    Prop_NHI_RCTs_low Prop_NHI_RCTs_med Prop_NHI_RCTs_up Prop_NHI_Patients_low\n",
       "13                 NA                NA               NA                    NA\n",
       "41                 NA                20               NA                    NA\n",
       "69                 NA               118               NA                    NA\n",
       "97                 NA                12               NA                    NA\n",
       "125                NA               100               NA                    NA\n",
       "153                NA                14               NA                    NA\n",
       "    Prop_NHI_Patients_med Prop_NHI_Patients_up Dis_lab Dis_tooltip\n",
       "13                     NA                   NA Leprosy     Leprosy\n",
       "41               8.838754                   NA Leprosy     Leprosy\n",
       "69             173.671643                   NA Leprosy     Leprosy\n",
       "97              12.341345                   NA Leprosy     Leprosy\n",
       "125            100.000000                   NA Leprosy     Leprosy\n",
       "153              3.646728                   NA Leprosy     Leprosy\n",
       "                           regs_lab\n",
       "13                            World\n",
       "41  Eastern Europe and Central Asia\n",
       "69            High-income countries\n",
       "97      Latin America and Caribbean\n",
       "125       Non-high-income countries\n",
       "153    North Africa and Middle East"
      ]
     },
     "metadata": {},
     "output_type": "display_data"
    }
   ],
   "source": [
    "head(DT[DT$Disease==\"Leprosy\",])"
   ]
  },
  {
   "cell_type": "code",
   "execution_count": 22,
   "metadata": {
    "collapsed": true
   },
   "outputs": [],
   "source": [
    "write.table(DT,\"../Interactive_figure/data/data.txt\")"
   ]
  },
  {
   "cell_type": "code",
   "execution_count": 23,
   "metadata": {
    "collapsed": true
   },
   "outputs": [],
   "source": [
    "ratio_align <- read.table(\"../Data/Alignment_ratios_within_regions_across_diseases_wt_sims_patients_metrs_burdens.txt\")"
   ]
  },
  {
   "cell_type": "code",
   "execution_count": 24,
   "metadata": {
    "collapsed": true
   },
   "outputs": [],
   "source": [
    "write.table(ratio_align,\"../Interactive_figure/data/data_ratios.txt\")"
   ]
  },
  {
   "cell_type": "code",
   "execution_count": null,
   "metadata": {
    "collapsed": true
   },
   "outputs": [],
   "source": []
  }
 ],
 "metadata": {
  "kernelspec": {
   "display_name": "R",
   "language": "R",
   "name": "ir"
  },
  "language_info": {
   "codemirror_mode": "r",
   "file_extension": ".r",
   "mimetype": "text/x-r-source",
   "name": "R",
   "pygments_lexer": "r",
   "version": "3.3.1"
  }
 },
 "nbformat": 4,
 "nbformat_minor": 1
}
