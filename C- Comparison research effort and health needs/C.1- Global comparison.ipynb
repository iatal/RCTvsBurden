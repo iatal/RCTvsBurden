{
 "cells": [
  {
   "cell_type": "code",
   "execution_count": 2,
   "metadata": {
    "collapsed": true
   },
   "outputs": [],
   "source": [
    "GBD <- read.table(\"../Data/DALY_YLL_deaths_per_region_and_27_diseases_2005.txt\")\n",
    "RCT <- read.table(\"../Data/RCTs_and_Patients_Nb_local_prop_median_UI_per_region_and_disease.txt\")"
   ]
  },
  {
   "cell_type": "code",
   "execution_count": 3,
   "metadata": {
    "collapsed": false,
    "scrolled": true
   },
   "outputs": [
    {
     "data": {
      "text/html": [
       "<ol class=list-inline>\n",
       "\t<li>'All'</li>\n",
       "\t<li>'Central Europe, Eastern Europe, and Central Asia'</li>\n",
       "\t<li>'High-income'</li>\n",
       "\t<li>'Latin America and Caribbean'</li>\n",
       "\t<li>'Non-HI'</li>\n",
       "\t<li>'North Africa and Middle East'</li>\n",
       "\t<li>'South Asia'</li>\n",
       "\t<li>'Southeast Asia, East Asia and Oceania'</li>\n",
       "\t<li>'Sub-Saharian Africa'</li>\n",
       "</ol>\n"
      ],
      "text/latex": [
       "\\begin{enumerate*}\n",
       "\\item 'All'\n",
       "\\item 'Central Europe, Eastern Europe, and Central Asia'\n",
       "\\item 'High-income'\n",
       "\\item 'Latin America and Caribbean'\n",
       "\\item 'Non-HI'\n",
       "\\item 'North Africa and Middle East'\n",
       "\\item 'South Asia'\n",
       "\\item 'Southeast Asia, East Asia and Oceania'\n",
       "\\item 'Sub-Saharian Africa'\n",
       "\\end{enumerate*}\n"
      ],
      "text/markdown": [
       "1. 'All'\n",
       "2. 'Central Europe, Eastern Europe, and Central Asia'\n",
       "3. 'High-income'\n",
       "4. 'Latin America and Caribbean'\n",
       "5. 'Non-HI'\n",
       "6. 'North Africa and Middle East'\n",
       "7. 'South Asia'\n",
       "8. 'Southeast Asia, East Asia and Oceania'\n",
       "9. 'Sub-Saharian Africa'\n",
       "\n",
       "\n"
      ],
      "text/plain": [
       "[1] \"All\"                                             \n",
       "[2] \"Central Europe, Eastern Europe, and Central Asia\"\n",
       "[3] \"High-income\"                                     \n",
       "[4] \"Latin America and Caribbean\"                     \n",
       "[5] \"Non-HI\"                                          \n",
       "[6] \"North Africa and Middle East\"                    \n",
       "[7] \"South Asia\"                                      \n",
       "[8] \"Southeast Asia, East Asia and Oceania\"           \n",
       "[9] \"Sub-Saharian Africa\"                             "
      ]
     },
     "metadata": {},
     "output_type": "display_data"
    },
    {
     "data": {
      "text/html": [
       "<ol class=list-inline>\n",
       "\t<li>'All'</li>\n",
       "\t<li>'Central Europe, Eastern Europe, and Central Asia'</li>\n",
       "\t<li>'High-income'</li>\n",
       "\t<li>'Latin America and Caribbean'</li>\n",
       "\t<li>'North Africa and Middle East'</li>\n",
       "\t<li>'South Asia'</li>\n",
       "\t<li>'Southeast Asia, East Asia and Oceania'</li>\n",
       "\t<li>'Sub-Saharian Africa'</li>\n",
       "</ol>\n"
      ],
      "text/latex": [
       "\\begin{enumerate*}\n",
       "\\item 'All'\n",
       "\\item 'Central Europe, Eastern Europe, and Central Asia'\n",
       "\\item 'High-income'\n",
       "\\item 'Latin America and Caribbean'\n",
       "\\item 'North Africa and Middle East'\n",
       "\\item 'South Asia'\n",
       "\\item 'Southeast Asia, East Asia and Oceania'\n",
       "\\item 'Sub-Saharian Africa'\n",
       "\\end{enumerate*}\n"
      ],
      "text/markdown": [
       "1. 'All'\n",
       "2. 'Central Europe, Eastern Europe, and Central Asia'\n",
       "3. 'High-income'\n",
       "4. 'Latin America and Caribbean'\n",
       "5. 'North Africa and Middle East'\n",
       "6. 'South Asia'\n",
       "7. 'Southeast Asia, East Asia and Oceania'\n",
       "8. 'Sub-Saharian Africa'\n",
       "\n",
       "\n"
      ],
      "text/plain": [
       "[1] \"All\"                                             \n",
       "[2] \"Central Europe, Eastern Europe, and Central Asia\"\n",
       "[3] \"High-income\"                                     \n",
       "[4] \"Latin America and Caribbean\"                     \n",
       "[5] \"North Africa and Middle East\"                    \n",
       "[6] \"South Asia\"                                      \n",
       "[7] \"Southeast Asia, East Asia and Oceania\"           \n",
       "[8] \"Sub-Saharian Africa\"                             "
      ]
     },
     "metadata": {},
     "output_type": "display_data"
    }
   ],
   "source": [
    "levels(RCT$Region)\n",
    "levels(GBD$Region)"
   ]
  },
  {
   "cell_type": "code",
   "execution_count": 4,
   "metadata": {
    "collapsed": false
   },
   "outputs": [
    {
     "data": {
      "text/html": [
       "<ol class=list-inline>\n",
       "\t<li>'All'</li>\n",
       "\t<li>'Cardiovascular and circulatory diseases'</li>\n",
       "\t<li>'Chronic respiratory diseases'</li>\n",
       "\t<li>'Cirrhosis of the liver'</li>\n",
       "\t<li>'Diabetes, urinary diseases and male infertility'</li>\n",
       "\t<li>'Diarrhea, lower respiratory infections, meningitis, and other common infectious diseases'</li>\n",
       "\t<li>'Digestive diseases (except cirrhosis)'</li>\n",
       "\t<li>'Gynecological diseases'</li>\n",
       "\t<li>'Hepatitis'</li>\n",
       "\t<li>'HIV/AIDS'</li>\n",
       "\t<li>'Malaria'</li>\n",
       "\t<li>'Maternal disorders'</li>\n",
       "\t<li>'Mental and behavioral disorders'</li>\n",
       "\t<li>'Musculoskeletal disorders'</li>\n",
       "\t<li>'Neglected tropical diseases excluding malaria'</li>\n",
       "\t<li>'Neonatal disorders'</li>\n",
       "\t<li>'Neoplasms'</li>\n",
       "\t<li>'Neurological disorders'</li>\n",
       "\t<li>'Nutritional deficiencies'</li>\n",
       "\t<li>'Oral disorders'</li>\n",
       "\t<li>'Sense organ diseases'</li>\n",
       "\t<li>'Skin and subcutaneous diseases'</li>\n",
       "\t<li>'Tuberculosis'</li>\n",
       "</ol>\n"
      ],
      "text/latex": [
       "\\begin{enumerate*}\n",
       "\\item 'All'\n",
       "\\item 'Cardiovascular and circulatory diseases'\n",
       "\\item 'Chronic respiratory diseases'\n",
       "\\item 'Cirrhosis of the liver'\n",
       "\\item 'Diabetes, urinary diseases and male infertility'\n",
       "\\item 'Diarrhea, lower respiratory infections, meningitis, and other common infectious diseases'\n",
       "\\item 'Digestive diseases (except cirrhosis)'\n",
       "\\item 'Gynecological diseases'\n",
       "\\item 'Hepatitis'\n",
       "\\item 'HIV/AIDS'\n",
       "\\item 'Malaria'\n",
       "\\item 'Maternal disorders'\n",
       "\\item 'Mental and behavioral disorders'\n",
       "\\item 'Musculoskeletal disorders'\n",
       "\\item 'Neglected tropical diseases excluding malaria'\n",
       "\\item 'Neonatal disorders'\n",
       "\\item 'Neoplasms'\n",
       "\\item 'Neurological disorders'\n",
       "\\item 'Nutritional deficiencies'\n",
       "\\item 'Oral disorders'\n",
       "\\item 'Sense organ diseases'\n",
       "\\item 'Skin and subcutaneous diseases'\n",
       "\\item 'Tuberculosis'\n",
       "\\end{enumerate*}\n"
      ],
      "text/markdown": [
       "1. 'All'\n",
       "2. 'Cardiovascular and circulatory diseases'\n",
       "3. 'Chronic respiratory diseases'\n",
       "4. 'Cirrhosis of the liver'\n",
       "5. 'Diabetes, urinary diseases and male infertility'\n",
       "6. 'Diarrhea, lower respiratory infections, meningitis, and other common infectious diseases'\n",
       "7. 'Digestive diseases (except cirrhosis)'\n",
       "8. 'Gynecological diseases'\n",
       "9. 'Hepatitis'\n",
       "10. 'HIV/AIDS'\n",
       "11. 'Malaria'\n",
       "12. 'Maternal disorders'\n",
       "13. 'Mental and behavioral disorders'\n",
       "14. 'Musculoskeletal disorders'\n",
       "15. 'Neglected tropical diseases excluding malaria'\n",
       "16. 'Neonatal disorders'\n",
       "17. 'Neoplasms'\n",
       "18. 'Neurological disorders'\n",
       "19. 'Nutritional deficiencies'\n",
       "20. 'Oral disorders'\n",
       "21. 'Sense organ diseases'\n",
       "22. 'Skin and subcutaneous diseases'\n",
       "23. 'Tuberculosis'\n",
       "\n",
       "\n"
      ],
      "text/plain": [
       " [1] \"All\"                                                                                     \n",
       " [2] \"Cardiovascular and circulatory diseases\"                                                 \n",
       " [3] \"Chronic respiratory diseases\"                                                            \n",
       " [4] \"Cirrhosis of the liver\"                                                                  \n",
       " [5] \"Diabetes, urinary diseases and male infertility\"                                         \n",
       " [6] \"Diarrhea, lower respiratory infections, meningitis, and other common infectious diseases\"\n",
       " [7] \"Digestive diseases (except cirrhosis)\"                                                   \n",
       " [8] \"Gynecological diseases\"                                                                  \n",
       " [9] \"Hepatitis\"                                                                               \n",
       "[10] \"HIV/AIDS\"                                                                                \n",
       "[11] \"Malaria\"                                                                                 \n",
       "[12] \"Maternal disorders\"                                                                      \n",
       "[13] \"Mental and behavioral disorders\"                                                         \n",
       "[14] \"Musculoskeletal disorders\"                                                               \n",
       "[15] \"Neglected tropical diseases excluding malaria\"                                           \n",
       "[16] \"Neonatal disorders\"                                                                      \n",
       "[17] \"Neoplasms\"                                                                               \n",
       "[18] \"Neurological disorders\"                                                                  \n",
       "[19] \"Nutritional deficiencies\"                                                                \n",
       "[20] \"Oral disorders\"                                                                          \n",
       "[21] \"Sense organ diseases\"                                                                    \n",
       "[22] \"Skin and subcutaneous diseases\"                                                          \n",
       "[23] \"Tuberculosis\"                                                                            "
      ]
     },
     "metadata": {},
     "output_type": "display_data"
    },
    {
     "data": {
      "text/html": [
       "<ol class=list-inline>\n",
       "\t<li>'all'</li>\n",
       "\t<li>'Cardiovascular and circulatory diseases'</li>\n",
       "\t<li>'Chronic respiratory diseases'</li>\n",
       "\t<li>'Cirrhosis of the liver'</li>\n",
       "\t<li>'Congenital anomalies'</li>\n",
       "\t<li>'Diabetes, urinary diseases and male infertility'</li>\n",
       "\t<li>'Diarrhea, lower respiratory infections, meningitis, and other common infectious diseases'</li>\n",
       "\t<li>'Digestive diseases (except cirrhosis)'</li>\n",
       "\t<li>'Gynecological diseases'</li>\n",
       "\t<li>'Hemoglobinopathies and hemolytic anemias'</li>\n",
       "\t<li>'Hepatitis'</li>\n",
       "\t<li>'HIV/AIDS'</li>\n",
       "\t<li>'Leprosy'</li>\n",
       "\t<li>'Malaria'</li>\n",
       "\t<li>'Maternal disorders'</li>\n",
       "\t<li>'Mental and behavioral disorders'</li>\n",
       "\t<li>'Musculoskeletal disorders'</li>\n",
       "\t<li>'Neglected tropical diseases excluding malaria'</li>\n",
       "\t<li>'Neonatal disorders'</li>\n",
       "\t<li>'Neoplasms'</li>\n",
       "\t<li>'Neurological disorders'</li>\n",
       "\t<li>'Nutritional deficiencies'</li>\n",
       "\t<li>'Oral disorders'</li>\n",
       "\t<li>'Sense organ diseases'</li>\n",
       "\t<li>'Sexually transmitted diseases excluding HIV'</li>\n",
       "\t<li>'Skin and subcutaneous diseases'</li>\n",
       "\t<li>'Sudden infant death syndrome'</li>\n",
       "\t<li>'Tuberculosis'</li>\n",
       "</ol>\n"
      ],
      "text/latex": [
       "\\begin{enumerate*}\n",
       "\\item 'all'\n",
       "\\item 'Cardiovascular and circulatory diseases'\n",
       "\\item 'Chronic respiratory diseases'\n",
       "\\item 'Cirrhosis of the liver'\n",
       "\\item 'Congenital anomalies'\n",
       "\\item 'Diabetes, urinary diseases and male infertility'\n",
       "\\item 'Diarrhea, lower respiratory infections, meningitis, and other common infectious diseases'\n",
       "\\item 'Digestive diseases (except cirrhosis)'\n",
       "\\item 'Gynecological diseases'\n",
       "\\item 'Hemoglobinopathies and hemolytic anemias'\n",
       "\\item 'Hepatitis'\n",
       "\\item 'HIV/AIDS'\n",
       "\\item 'Leprosy'\n",
       "\\item 'Malaria'\n",
       "\\item 'Maternal disorders'\n",
       "\\item 'Mental and behavioral disorders'\n",
       "\\item 'Musculoskeletal disorders'\n",
       "\\item 'Neglected tropical diseases excluding malaria'\n",
       "\\item 'Neonatal disorders'\n",
       "\\item 'Neoplasms'\n",
       "\\item 'Neurological disorders'\n",
       "\\item 'Nutritional deficiencies'\n",
       "\\item 'Oral disorders'\n",
       "\\item 'Sense organ diseases'\n",
       "\\item 'Sexually transmitted diseases excluding HIV'\n",
       "\\item 'Skin and subcutaneous diseases'\n",
       "\\item 'Sudden infant death syndrome'\n",
       "\\item 'Tuberculosis'\n",
       "\\end{enumerate*}\n"
      ],
      "text/markdown": [
       "1. 'all'\n",
       "2. 'Cardiovascular and circulatory diseases'\n",
       "3. 'Chronic respiratory diseases'\n",
       "4. 'Cirrhosis of the liver'\n",
       "5. 'Congenital anomalies'\n",
       "6. 'Diabetes, urinary diseases and male infertility'\n",
       "7. 'Diarrhea, lower respiratory infections, meningitis, and other common infectious diseases'\n",
       "8. 'Digestive diseases (except cirrhosis)'\n",
       "9. 'Gynecological diseases'\n",
       "10. 'Hemoglobinopathies and hemolytic anemias'\n",
       "11. 'Hepatitis'\n",
       "12. 'HIV/AIDS'\n",
       "13. 'Leprosy'\n",
       "14. 'Malaria'\n",
       "15. 'Maternal disorders'\n",
       "16. 'Mental and behavioral disorders'\n",
       "17. 'Musculoskeletal disorders'\n",
       "18. 'Neglected tropical diseases excluding malaria'\n",
       "19. 'Neonatal disorders'\n",
       "20. 'Neoplasms'\n",
       "21. 'Neurological disorders'\n",
       "22. 'Nutritional deficiencies'\n",
       "23. 'Oral disorders'\n",
       "24. 'Sense organ diseases'\n",
       "25. 'Sexually transmitted diseases excluding HIV'\n",
       "26. 'Skin and subcutaneous diseases'\n",
       "27. 'Sudden infant death syndrome'\n",
       "28. 'Tuberculosis'\n",
       "\n",
       "\n"
      ],
      "text/plain": [
       " [1] \"all\"                                                                                     \n",
       " [2] \"Cardiovascular and circulatory diseases\"                                                 \n",
       " [3] \"Chronic respiratory diseases\"                                                            \n",
       " [4] \"Cirrhosis of the liver\"                                                                  \n",
       " [5] \"Congenital anomalies\"                                                                    \n",
       " [6] \"Diabetes, urinary diseases and male infertility\"                                         \n",
       " [7] \"Diarrhea, lower respiratory infections, meningitis, and other common infectious diseases\"\n",
       " [8] \"Digestive diseases (except cirrhosis)\"                                                   \n",
       " [9] \"Gynecological diseases\"                                                                  \n",
       "[10] \"Hemoglobinopathies and hemolytic anemias\"                                                \n",
       "[11] \"Hepatitis\"                                                                               \n",
       "[12] \"HIV/AIDS\"                                                                                \n",
       "[13] \"Leprosy\"                                                                                 \n",
       "[14] \"Malaria\"                                                                                 \n",
       "[15] \"Maternal disorders\"                                                                      \n",
       "[16] \"Mental and behavioral disorders\"                                                         \n",
       "[17] \"Musculoskeletal disorders\"                                                               \n",
       "[18] \"Neglected tropical diseases excluding malaria\"                                           \n",
       "[19] \"Neonatal disorders\"                                                                      \n",
       "[20] \"Neoplasms\"                                                                               \n",
       "[21] \"Neurological disorders\"                                                                  \n",
       "[22] \"Nutritional deficiencies\"                                                                \n",
       "[23] \"Oral disorders\"                                                                          \n",
       "[24] \"Sense organ diseases\"                                                                    \n",
       "[25] \"Sexually transmitted diseases excluding HIV\"                                             \n",
       "[26] \"Skin and subcutaneous diseases\"                                                          \n",
       "[27] \"Sudden infant death syndrome\"                                                            \n",
       "[28] \"Tuberculosis\"                                                                            "
      ]
     },
     "metadata": {},
     "output_type": "display_data"
    }
   ],
   "source": [
    "levels(RCT$Disease)\n",
    "levels(GBD$Disease)"
   ]
  },
  {
   "cell_type": "code",
   "execution_count": 6,
   "metadata": {
    "collapsed": true
   },
   "outputs": [],
   "source": [
    "print_interval <- function(x){\n",
    "    paste(format(round(x$Nb_RCTs_med,1),nsmall = 1),\n",
    "           \" [\",format(round(x$Nb_RCTs_low,1),nsmall = 1),\n",
    "           \"--\",format(round(x$Nb_RCTs_up,1),nsmall = 1),\"]\",sep=\"\")\n",
    "}"
   ]
  },
  {
   "cell_type": "code",
   "execution_count": 14,
   "metadata": {
    "collapsed": false
   },
   "outputs": [
    {
     "name": "stdout",
     "output_type": "stream",
     "text": [
      "[1] \"RCTs per mill DALYs, all regions, all diseases\"\n"
     ]
    },
    {
     "data": {
      "text/html": [
       "'37.0 [35.4--38.4]'"
      ],
      "text/latex": [
       "'37.0 {[}35.4--38.4{]}'"
      ],
      "text/markdown": [
       "'37.0 [35.4--38.4]'"
      ],
      "text/plain": [
       "[1] \"37.0 [35.4--38.4]\""
      ]
     },
     "metadata": {},
     "output_type": "display_data"
    }
   ],
   "source": [
    "#Comparison RCTs per DALY in regions and diseases\n",
    "print(\"RCTs per mill DALYs, all regions, all diseases\")\n",
    "print_interval(RCT[RCT$Region==\"All\" & RCT$Disease==\"All\",3:5]/(sum(GBD$burden[GBD$metr==\"daly\" & GBD$Region==\"All\"])/1e6))"
   ]
  },
  {
   "cell_type": "code",
   "execution_count": 47,
   "metadata": {
    "collapsed": false
   },
   "outputs": [
    {
     "name": "stdout",
     "output_type": "stream",
     "text": [
      "[1] \"RCTs per mill DALYs, High-income, all diseases\"\n"
     ]
    },
    {
     "data": {
      "text/html": [
       "'130.9 [125.3--136.0]'"
      ],
      "text/latex": [
       "'130.9 {[}125.3--136.0{]}'"
      ],
      "text/markdown": [
       "'130.9 [125.3--136.0]'"
      ],
      "text/plain": [
       "[1] \"130.9 [125.3--136.0]\""
      ]
     },
     "metadata": {},
     "output_type": "display_data"
    },
    {
     "name": "stdout",
     "output_type": "stream",
     "text": [
      "[1] \"RCTs per mill DALYs, Non-High-income, all diseases\"\n"
     ]
    },
    {
     "data": {
      "text/html": [
       "'6.9 [6.6--7.2]'"
      ],
      "text/latex": [
       "'6.9 {[}6.6--7.2{]}'"
      ],
      "text/markdown": [
       "'6.9 [6.6--7.2]'"
      ],
      "text/plain": [
       "[1] \"6.9 [6.6--7.2]\""
      ]
     },
     "metadata": {},
     "output_type": "display_data"
    }
   ],
   "source": [
    "print(\"RCTs per mill DALYs, High-income, all diseases\")\n",
    "print_interval(RCT[RCT$Region==\"High-income\" & RCT$Disease==\"All\",3:5]/(sum(GBD$burden[GBD$metr==\"daly\" & GBD$Region==\"High-income\"])/1e6))\n",
    "print(\"RCTs per mill DALYs, Non-High-income, all diseases\")\n",
    "print_interval(RCT[RCT$Region==\"Non-HI\" & RCT$Disease==\"All\",3:5]/(sum(GBD$burden[GBD$metr==\"daly\" & !GBD$Region%in%c(\"All\",\"High-income\")])/1e6))"
   ]
  },
  {
   "cell_type": "code",
   "execution_count": 48,
   "metadata": {
    "collapsed": false
   },
   "outputs": [
    {
     "name": "stdout",
     "output_type": "stream",
     "text": [
      "[1] \"RCTs per mill DALYs, all regions, Cardiovascular and circulatory diseases\"\n"
     ]
    },
    {
     "data": {
      "text/html": [
       "'37.1 [33.1--41.6]'"
      ],
      "text/latex": [
       "'37.1 {[}33.1--41.6{]}'"
      ],
      "text/markdown": [
       "'37.1 [33.1--41.6]'"
      ],
      "text/plain": [
       "[1] \"37.1 [33.1--41.6]\""
      ]
     },
     "metadata": {},
     "output_type": "display_data"
    },
    {
     "name": "stdout",
     "output_type": "stream",
     "text": [
      "[1] \"RCTs per mill DALYs, all regions, Diarrhea, lower respiratory infections, meningitis, and other common infectious diseases\"\n"
     ]
    },
    {
     "data": {
      "text/html": [
       "'10.6 [8.7--13.0]'"
      ],
      "text/latex": [
       "'10.6 {[}8.7--13.0{]}'"
      ],
      "text/markdown": [
       "'10.6 [8.7--13.0]'"
      ],
      "text/plain": [
       "[1] \"10.6 [8.7--13.0]\""
      ]
     },
     "metadata": {},
     "output_type": "display_data"
    },
    {
     "name": "stdout",
     "output_type": "stream",
     "text": [
      "[1] \"RCTs per mill DALYs, all regions, Neonatal disorders\"\n"
     ]
    },
    {
     "data": {
      "text/html": [
       "'6.5 [2.9--16.4]'"
      ],
      "text/latex": [
       "'6.5 {[}2.9--16.4{]}'"
      ],
      "text/markdown": [
       "'6.5 [2.9--16.4]'"
      ],
      "text/plain": [
       "[1] \"6.5 [2.9--16.4]\""
      ]
     },
     "metadata": {},
     "output_type": "display_data"
    },
    {
     "name": "stdout",
     "output_type": "stream",
     "text": [
      "[1] \"RCTs per mill DALYs, all regions, Neoplasms\"\n"
     ]
    },
    {
     "data": {
      "text/html": [
       "'68.0 [63.0--72.0]'"
      ],
      "text/latex": [
       "'68.0 {[}63.0--72.0{]}'"
      ],
      "text/markdown": [
       "'68.0 [63.0--72.0]'"
      ],
      "text/plain": [
       "[1] \"68.0 [63.0--72.0]\""
      ]
     },
     "metadata": {},
     "output_type": "display_data"
    }
   ],
   "source": [
    "print(\"RCTs per mill DALYs, all regions, Cardiovascular and circulatory diseases\")\n",
    "print_interval(RCT[RCT$Region==\"All\" & RCT$Disease==\"Cardiovascular and circulatory diseases\",3:5]/(GBD$burden[GBD$metr==\"daly\" & GBD$Region==\"All\" & GBD$Disease==\"Cardiovascular and circulatory diseases\"]/1e6))\n",
    "print(\"RCTs per mill DALYs, all regions, Diarrhea, lower respiratory infections, meningitis, and other common infectious diseases\")\n",
    "print_interval(RCT[RCT$Region==\"All\" & RCT$Disease==\"Diarrhea, lower respiratory infections, meningitis, and other common infectious diseases\",3:5]/(GBD$burden[GBD$metr==\"daly\" & GBD$Region==\"All\" & GBD$Disease==\"Diarrhea, lower respiratory infections, meningitis, and other common infectious diseases\"]/1e6))\n",
    "print(\"RCTs per mill DALYs, all regions, Neonatal disorders\")\n",
    "print_interval(RCT[RCT$Region==\"All\" & RCT$Disease==\"Neonatal disorders\",3:5]/(GBD$burden[GBD$metr==\"daly\" & GBD$Region==\"All\" & GBD$Disease==\"Neonatal disorders\"]/1e6))\n",
    "print(\"RCTs per mill DALYs, all regions, Neoplasms\")\n",
    "print_interval(RCT[RCT$Region==\"All\" & RCT$Disease==\"Neoplasms\",3:5]/(GBD$burden[GBD$metr==\"daly\" & GBD$Region==\"All\" & GBD$Disease==\"Neoplasms\"]/1e6))\n"
   ]
  },
  {
   "cell_type": "code",
   "execution_count": null,
   "metadata": {
    "collapsed": true
   },
   "outputs": [],
   "source": []
  }
 ],
 "metadata": {
  "kernelspec": {
   "display_name": "R",
   "language": "R",
   "name": "ir"
  },
  "language_info": {
   "codemirror_mode": "r",
   "file_extension": ".r",
   "mimetype": "text/x-r-source",
   "name": "R",
   "pygments_lexer": "r",
   "version": "3.3.1"
  }
 },
 "nbformat": 4,
 "nbformat_minor": 1
}
