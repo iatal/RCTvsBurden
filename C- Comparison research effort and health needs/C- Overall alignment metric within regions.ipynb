{
 "cells": [
  {
   "cell_type": "markdown",
   "metadata": {},
   "source": [
    "# We sample over distributions of replicates\n",
    "### N= 10,000"
   ]
  },
  {
   "cell_type": "code",
   "execution_count": 1,
   "metadata": {
    "collapsed": false
   },
   "outputs": [
    {
     "name": "stderr",
     "output_type": "stream",
     "text": [
      "Loading required package: iterators\n",
      "Loading required package: parallel\n"
     ]
    }
   ],
   "source": [
    "library(data.table)\n",
    "library(foreach)\n",
    "library(doParallel)"
   ]
  },
  {
   "cell_type": "code",
   "execution_count": 2,
   "metadata": {
    "collapsed": true
   },
   "outputs": [],
   "source": [
    "GBD <- read.table(\"../Data/DALY_YLL_deaths_per_region_and_27_diseases_2005.txt\")\n",
    "GBD <- GBD[order(GBD$metr,GBD$Region,GBD$Disease),]"
   ]
  },
  {
   "cell_type": "code",
   "execution_count": 3,
   "metadata": {
    "collapsed": false
   },
   "outputs": [],
   "source": [
    "#Burden of all diseases in all regions for each metric of burden\n",
    "GBD <- rbind(GBD,data.frame(metr=levels(GBD$metr),\n",
    "           Region=\"All\",\n",
    "           Disease=\"all\",\n",
    "           burden=tapply(GBD$burden[GBD$Region==\"All\"],GBD$metr[GBD$Region==\"All\"],sum)))\n",
    "rownames(GBD) <- NULL\n",
    "GBD <- GBD[order(GBD$metr,GBD$Region,GBD$Disease),]\n",
    "\n",
    "#Burden in Non-HI\n",
    "DNHI <- GBD[GBD$Region==\"All\",]\n",
    "DNHI$burden <- DNHI$burden - GBD$burden[GBD$Region==\"High-income\"]\n",
    "DNHI$Region <- \"Non-HI\"\n",
    "GBD <- rbind(GBD,DNHI)\n",
    "GBD$Region <- as.factor(as.character(GBD$Region))\n",
    "GBD <- GBD[order(GBD$metr,GBD$Region,GBD$Disease),]\n",
    "\n",
    "#Local proportions of burden across diseases for each metric of burden\n",
    "GBD$Prp <- 100*GBD$burden/rep(GBD$burden[GBD$Disease==\"all\"],as.numeric(table(paste(GBD$metr,GBD$Region))))\n",
    "\n",
    "GBD <- data.table(GBD)"
   ]
  },
  {
   "cell_type": "code",
   "execution_count": 4,
   "metadata": {
    "collapsed": true
   },
   "outputs": [],
   "source": [
    "Mgbd <- read.table(\"../Data/27_gbd_groups.txt\")\n",
    "sms <- list.files(\"/media/igna/Elements/HotelDieu/Cochrane/MappingRCTs_vs_Burden/Replicates/Metrics_over_repl/\")\n",
    "dis <- as.numeric(substr(sms,25,nchar(sms)-4))\n",
    "dis <- dis[dis!=0]"
   ]
  },
  {
   "cell_type": "code",
   "execution_count": 5,
   "metadata": {
    "collapsed": false
   },
   "outputs": [],
   "source": [
    "#We upload all replicates\n",
    "#We will measure alignment only over diseases for which we have replicates\n",
    "\n",
    "L <- list()\n",
    "for(i in 1:length(dis)){\n",
    "    k <- dis[i]\n",
    "    DF <- fread(paste(c(\"/media/igna/Elements/HotelDieu/Cochrane/MappingRCTs_vs_Burden/Replicates/Metrics_over_repl/Metrics_over_replicates_\",\n",
    "                    as.character(k),\".txt\"),collapse=\"\"))\n",
    "\n",
    "    regs <- unique(DF$Region)\n",
    "    L[[i]] <- data.table(\n",
    "    Disease=Mgbd$x[k],\n",
    "    Region=DF$Region[DF$Dis==\"dis\"],\n",
    "    Prop_RCTs=100*DF$RCTs[DF$Dis==\"dis\"]/DF$RCTs[DF$Dis==\"all\"],\n",
    "    Prop_Patients=100*DF$Patients[DF$Dis==\"dis\"]/DF$Patients[DF$Dis==\"all\"],\n",
    "    sim_nb = rep(1:((nrow(DF)/length(regs))/2),each=length(regs)))\n",
    "    \n",
    "    }\n",
    "\n",
    "DT <- rbindlist(L)\n",
    "\n",
    "#replicate per disease\n",
    "DT$k <- paste(DT$Disease,DT$sim_nb)\n",
    "#nb replicates available per disease\n",
    "NS <- DT[,max(sim_nb),by=\"Disease\"]"
   ]
  },
  {
   "cell_type": "code",
   "execution_count": 6,
   "metadata": {
    "collapsed": false
   },
   "outputs": [],
   "source": [
    "NK <- 10000\n",
    "set.seed(1234)\n",
    "#For each disease, we sample 10,000 replicates, giving local proportions of research\n",
    "sims <- do.call('rbind',tapply(NS$V1,NS$Disease,function(x){sample(1:x,NK,replace=TRUE)}))"
   ]
  },
  {
   "cell_type": "code",
   "execution_count": 7,
   "metadata": {
    "collapsed": false
   },
   "outputs": [
    {
     "data": {
      "text/plain": [
       "       user      system     elapsed \n",
       " 0.22838333  0.01373333 13.88338333 "
      ]
     },
     "metadata": {},
     "output_type": "display_data"
    }
   ],
   "source": [
    "cl<-makeCluster(4)\n",
    "registerDoParallel(cl)\n",
    "t0 <- proc.time()\n",
    "A <- foreach(k = 1:NK, .packages=\"data.table\") %dopar% {\n",
    "    x <- sims[,k]\n",
    "    dtt <- merge(GBD,DT[DT$k%in%paste(rownames(sims),x),])\n",
    "    dtt[,.(sum(abs(Prp[Prp>=Prop_RCTs]-Prop_RCTs[Prp>=Prop_RCTs])),\n",
    "       sum(abs(Prp[Prp>=2*Prop_RCTs]/2-Prop_RCTs[Prp>=2*Prop_RCTs])),\n",
    "       sum(abs(Prp[Prp>=Prop_Patients]-Prop_Patients[Prp>=Prop_Patients])),\n",
    "       sum(abs(Prp[Prp>=2*Prop_Patients]/2-Prop_RCTs[Prp>=2*Prop_Patients]))),\n",
    "        by=.(metr,Region)]\n",
    "    }\n",
    "stopCluster(cl)\n",
    "((proc.time() - t0)/60)"
   ]
  },
  {
   "cell_type": "code",
   "execution_count": 8,
   "metadata": {
    "collapsed": false,
    "scrolled": false
   },
   "outputs": [],
   "source": [
    "Al <- rbindlist(A)"
   ]
  },
  {
   "cell_type": "code",
   "execution_count": 10,
   "metadata": {
    "collapsed": false
   },
   "outputs": [
    {
     "data": {
      "text/html": [
       "<table>\n",
       "<thead><tr><th></th><th scope=col>metr</th><th scope=col>Region</th><th scope=col>V1</th><th scope=col>V2</th><th scope=col>V3</th><th scope=col>V4</th></tr></thead>\n",
       "<tbody>\n",
       "\t<tr><th scope=row>1</th><td>daly            </td><td>All             </td><td>32.5436934802461</td><td>11.7348138670984</td><td>24.9432189269132</td><td>6.12336300649365</td></tr>\n",
       "\t<tr><th scope=row>2</th><td>death           </td><td>All             </td><td>44.9413417289971</td><td>8.46807572941362</td><td>32.7635489476087</td><td>2.97876466676865</td></tr>\n",
       "\t<tr><th scope=row>3</th><td>yld             </td><td>All             </td><td>38.7479094614449</td><td>8.13046348591405</td><td>43.6967763338618</td><td>6.96820913027478</td></tr>\n",
       "\t<tr><th scope=row>4</th><td>yll             </td><td>All             </td><td>47.7021833288422</td><td>17.1069565592093</td><td>36.8460535304588</td><td>14.4936573549518</td></tr>\n",
       "\t<tr><th scope=row>5</th><td>daly                                            </td><td>Central Europe, Eastern Europe, and Central Asia</td><td>33.3137265869135                                </td><td>6.60699396815955                                </td><td>25.6642035494316                                </td><td>1.67115271410552                                </td></tr>\n",
       "\t<tr><th scope=row>6</th><td>death                                           </td><td>Central Europe, Eastern Europe, and Central Asia</td><td>53.3415035647012                                </td><td>19.5998326760573                                </td><td>48.1703862290411                                </td><td>19.5998326760573                                </td></tr>\n",
       "</tbody>\n",
       "</table>\n"
      ],
      "text/latex": [
       "\\begin{tabular}{r|llllll}\n",
       "  & metr & Region & V1 & V2 & V3 & V4\\\\\n",
       "\\hline\n",
       "\t1 & daly             & All              & 32.5436934802461 & 11.7348138670984 & 24.9432189269132 & 6.12336300649365\\\\\n",
       "\t2 & death            & All              & 44.9413417289971 & 8.46807572941362 & 32.7635489476087 & 2.97876466676865\\\\\n",
       "\t3 & yld              & All              & 38.7479094614449 & 8.13046348591405 & 43.6967763338618 & 6.96820913027478\\\\\n",
       "\t4 & yll              & All              & 47.7021833288422 & 17.1069565592093 & 36.8460535304588 & 14.4936573549518\\\\\n",
       "\t5 & daly                                             & Central Europe, Eastern Europe, and Central Asia & 33.3137265869135                                 & 6.60699396815955                                 & 25.6642035494316                                 & 1.67115271410552                                \\\\\n",
       "\t6 & death                                            & Central Europe, Eastern Europe, and Central Asia & 53.3415035647012                                 & 19.5998326760573                                 & 48.1703862290411                                 & 19.5998326760573                                \\\\\n",
       "\\end{tabular}\n"
      ],
      "text/plain": [
       "   metr                                           Region       V1        V2\n",
       "1  daly                                              All 32.54369 11.734814\n",
       "2 death                                              All 44.94134  8.468076\n",
       "3   yld                                              All 38.74791  8.130463\n",
       "4   yll                                              All 47.70218 17.106957\n",
       "5  daly Central Europe, Eastern Europe, and Central Asia 33.31373  6.606994\n",
       "6 death Central Europe, Eastern Europe, and Central Asia 53.34150 19.599833\n",
       "        V3        V4\n",
       "1 24.94322  6.123363\n",
       "2 32.76355  2.978765\n",
       "3 43.69678  6.968209\n",
       "4 36.84605 14.493657\n",
       "5 25.66420  1.671153\n",
       "6 48.17039 19.599833"
      ]
     },
     "metadata": {},
     "output_type": "display_data"
    }
   ],
   "source": [
    "head(Al)"
   ]
  },
  {
   "cell_type": "code",
   "execution_count": 11,
   "metadata": {
    "collapsed": false
   },
   "outputs": [],
   "source": [
    "AUI <- Al[,lapply(.SD,function(x){quantile(x,probs=c(0.025,0.5,0.975))}),by=.(metr,Region),.SDcols=c(\"V1\",\"V2\",\"V3\",\"V4\")]\n",
    "AUI$UI <- rep(c(\"low\",\"med\",\"up\"),times=length(unique(paste(AUI$metr,AUI$Region))))\n",
    "AUI <- AUI[,c(\"UI\",\"Region\",\"metr\",\"V1\",\"V2\",\"V3\",\"V4\")]\n",
    "names(AUI) <- c(\"UI\",\"Region\",\"metr\",\"RCTs_fill\",\"RCTs_nogap\",\"Patients_fill\",\"Patients_nogap\")"
   ]
  },
  {
   "cell_type": "code",
   "execution_count": 12,
   "metadata": {
    "collapsed": false,
    "scrolled": true
   },
   "outputs": [],
   "source": [
    "write.table(AUI,\"../Data/Alignment_ratios_within_regions_across_diseases_wt_sims_patients_metrs_burdens.txt\")"
   ]
  },
  {
   "cell_type": "code",
   "execution_count": null,
   "metadata": {
    "collapsed": true
   },
   "outputs": [],
   "source": []
  }
 ],
 "metadata": {
  "kernelspec": {
   "display_name": "R",
   "language": "R",
   "name": "ir"
  },
  "language_info": {
   "codemirror_mode": "r",
   "file_extension": ".r",
   "mimetype": "text/x-r-source",
   "name": "R",
   "pygments_lexer": "r",
   "version": "3.3.1"
  }
 },
 "nbformat": 4,
 "nbformat_minor": 1
}
