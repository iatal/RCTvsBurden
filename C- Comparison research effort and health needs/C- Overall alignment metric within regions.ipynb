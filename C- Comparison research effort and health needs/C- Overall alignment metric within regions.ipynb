{
 "cells": [
  {
   "cell_type": "markdown",
   "metadata": {},
   "source": [
    "# We sample over distributions of replicates\n",
    "### N= 10,000"
   ]
  },
  {
   "cell_type": "code",
   "execution_count": 1,
   "metadata": {
    "collapsed": false
   },
   "outputs": [
    {
     "name": "stderr",
     "output_type": "stream",
     "text": [
      "Loading required package: iterators\n",
      "Loading required package: parallel\n"
     ]
    }
   ],
   "source": [
    "library(data.table)\n",
    "library(foreach)\n",
    "library(doParallel)"
   ]
  },
  {
   "cell_type": "code",
   "execution_count": 2,
   "metadata": {
    "collapsed": true
   },
   "outputs": [],
   "source": [
    "GBD <- read.table(\"../Data/DALY_YLL_deaths_per_region_and_27_diseases_2005.txt\")\n",
    "GBD <- GBD[order(GBD$metr,GBD$Region,GBD$Disease),]"
   ]
  },
  {
   "cell_type": "code",
   "execution_count": 3,
   "metadata": {
    "collapsed": false
   },
   "outputs": [],
   "source": [
    "#Burden of all diseases in all regions for each metric of burden\n",
    "GBD <- rbind(GBD,data.frame(metr=levels(GBD$metr),\n",
    "           Region=\"All\",\n",
    "           Disease=\"all\",\n",
    "           burden=tapply(GBD$burden[GBD$Region==\"All\"],GBD$metr[GBD$Region==\"All\"],sum)))\n",
    "rownames(GBD) <- NULL\n",
    "GBD <- GBD[order(GBD$metr,GBD$Region,GBD$Disease),]\n",
    "\n",
    "#Burden in Non-HI\n",
    "DNHI <- GBD[GBD$Region==\"All\",]\n",
    "DNHI$burden <- DNHI$burden - GBD$burden[GBD$Region==\"High-income\"]\n",
    "DNHI$Region <- \"Non-HI\"\n",
    "GBD <- rbind(GBD,DNHI)\n",
    "GBD$Region <- as.factor(as.character(GBD$Region))\n",
    "GBD <- GBD[order(GBD$metr,GBD$Region,GBD$Disease),]\n",
    "\n",
    "#Local proportions of burden across diseases for each metric of burden\n",
    "GBD$Prp <- 100*GBD$burden/rep(GBD$burden[GBD$Disease==\"all\"],as.numeric(table(paste(GBD$metr,GBD$Region))))\n",
    "\n",
    "GBD <- data.table(GBD)"
   ]
  },
  {
   "cell_type": "code",
   "execution_count": 4,
   "metadata": {
    "collapsed": true
   },
   "outputs": [],
   "source": [
    "Mgbd <- read.table(\"../Data/27_gbd_groups.txt\")\n",
    "sms <- list.files(\"/media/igna/Elements/HotelDieu/Cochrane/MappingRCTs_vs_Burden/Replicates/Metrics_over_repl/\")\n",
    "dis <- as.numeric(substr(sms,25,nchar(sms)-4))\n",
    "dis <- dis[dis!=0]"
   ]
  },
  {
   "cell_type": "code",
   "execution_count": 5,
   "metadata": {
    "collapsed": false
   },
   "outputs": [],
   "source": [
    "#We upload all replicates\n",
    "#We will measure alignment only over diseases for which we have replicates\n",
    "\n",
    "L <- list()\n",
    "for(i in 1:length(dis)){\n",
    "    k <- dis[i]\n",
    "    DF <- fread(paste(c(\"/media/igna/Elements/HotelDieu/Cochrane/MappingRCTs_vs_Burden/Replicates/Metrics_over_repl/Metrics_over_replicates_\",\n",
    "                    as.character(k),\".txt\"),collapse=\"\"))\n",
    "\n",
    "    regs <- unique(DF$Region)\n",
    "    L[[i]] <- data.table(\n",
    "    Disease=Mgbd$x[k],\n",
    "    Region=DF$Region[DF$Dis==\"dis\"],\n",
    "    Prop_RCTs=100*DF$RCTs[DF$Dis==\"dis\"]/DF$RCTs[DF$Dis==\"all\"],\n",
    "    Prop_Patients=100*DF$Patients[DF$Dis==\"dis\"]/DF$Patients[DF$Dis==\"all\"],\n",
    "    sim_nb = rep(1:((nrow(DF)/length(regs))/2),each=length(regs)))\n",
    "    \n",
    "    }\n",
    "\n",
    "DT <- rbindlist(L)\n",
    "\n",
    "#replicate per disease\n",
    "DT$k <- paste(DT$Disease,DT$sim_nb)\n",
    "#nb replicates available per disease\n",
    "NS <- DT[,max(sim_nb),by=\"Disease\"]"
   ]
  },
  {
   "cell_type": "code",
   "execution_count": 6,
   "metadata": {
    "collapsed": false
   },
   "outputs": [],
   "source": [
    "NK <- 10000\n",
    "set.seed(1234)\n",
    "#For each disease, we sample 10,000 replicates, giving local proportions of research\n",
    "sims <- do.call('rbind',tapply(NS$V1,NS$Disease,function(x){sample(1:x,NK,replace=TRUE)}))"
   ]
  },
  {
   "cell_type": "code",
   "execution_count": 7,
   "metadata": {
    "collapsed": false
   },
   "outputs": [
    {
     "data": {
      "text/plain": [
       "       user      system     elapsed \n",
       "  20.253333    1.251667 1167.818333 "
      ]
     },
     "metadata": {},
     "output_type": "display_data"
    }
   ],
   "source": [
    "cl<-makeCluster(4)\n",
    "registerDoParallel(cl)\n",
    "t0 <- proc.time()\n",
    "A <- foreach(k = 1:NK, .packages=\"data.table\") %dopar% {\n",
    "    x <- sims[,k]\n",
    "    dtt <- merge(GBD,DT[DT$k%in%paste(rownames(sims),x),])\n",
    "    dtt[,.(sum(abs(Prp-Prop_RCTs)),\n",
    "           sum(abs(Prp-Prop_Patients))),\n",
    "        by=.(metr,Region)]\n",
    "    }\n",
    "stopCluster(cl)\n",
    "((proc.time() - t0)/60)*100"
   ]
  },
  {
   "cell_type": "code",
   "execution_count": 8,
   "metadata": {
    "collapsed": false,
    "scrolled": false
   },
   "outputs": [],
   "source": [
    "Al <- rbindlist(A)"
   ]
  },
  {
   "cell_type": "code",
   "execution_count": 9,
   "metadata": {
    "collapsed": false
   },
   "outputs": [],
   "source": [
    "AUI <- Al[,lapply(.SD,function(x){quantile(x,probs=c(0.025,0.5,0.975))}),by=.(metr,Region),.SDcols=c(\"V1\",\"V2\")]\n",
    "AUI$UI <- rep(c(\"low\",\"med\",\"up\"),times=length(unique(paste(AUI$metr,AUI$Region))))\n",
    "AUI <- AUI[,c(\"UI\",\"Region\",\"metr\",\"V1\",\"V2\")]\n",
    "names(AUI) <- c(\"UI\",\"Region\",\"metr\",\"RCTs\",\"Patients\")"
   ]
  },
  {
   "cell_type": "code",
   "execution_count": 10,
   "metadata": {
    "collapsed": false,
    "scrolled": true
   },
   "outputs": [],
   "source": [
    "write.table(AUI,\"../Data/Alignment_ratios_within_regions_across_diseases_wt_sims_patients_metrs_burdens.txt\")"
   ]
  }
 ],
 "metadata": {
  "kernelspec": {
   "display_name": "R",
   "language": "R",
   "name": "ir"
  },
  "language_info": {
   "codemirror_mode": "r",
   "file_extension": ".r",
   "mimetype": "text/x-r-source",
   "name": "R",
   "pygments_lexer": "r",
   "version": "3.3.1"
  }
 },
 "nbformat": 4,
 "nbformat_minor": 1
}
