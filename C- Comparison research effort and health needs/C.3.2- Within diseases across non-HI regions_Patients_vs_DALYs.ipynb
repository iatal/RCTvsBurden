{
 "cells": [
  {
   "cell_type": "code",
   "execution_count": 1,
   "metadata": {
    "collapsed": false
   },
   "outputs": [
    {
     "name": "stderr",
     "output_type": "stream",
     "text": [
      "gdata: read.xls support for 'XLS' (Excel 97-2004) files ENABLED.\n",
      "\n",
      "gdata: read.xls support for 'XLSX' (Excel 2007+) files ENABLED.\n",
      "\n",
      "Attaching package: ‘gdata’\n",
      "\n",
      "The following object is masked from ‘package:stats’:\n",
      "\n",
      "    nobs\n",
      "\n",
      "The following object is masked from ‘package:utils’:\n",
      "\n",
      "    object.size\n",
      "\n",
      "The following object is masked from ‘package:base’:\n",
      "\n",
      "    startsWith\n",
      "\n",
      "\n",
      "Attaching package: ‘gridExtra’\n",
      "\n",
      "The following object is masked from ‘package:gdata’:\n",
      "\n",
      "    combine\n",
      "\n"
     ]
    }
   ],
   "source": [
    "library(gdata)\n",
    "library(ggplot2)\n",
    "library(grid)\n",
    "library(gridExtra)"
   ]
  },
  {
   "cell_type": "code",
   "execution_count": 2,
   "metadata": {
    "collapsed": true
   },
   "outputs": [],
   "source": [
    "DT <- read.table(\"../Data/All_data.txt\")"
   ]
  },
  {
   "cell_type": "code",
   "execution_count": 3,
   "metadata": {
    "collapsed": true
   },
   "outputs": [],
   "source": [
    "ratio_align <- read.table(\"../Data/Alignment_ratios_within_diseases_across_all_NHI_patients_metrs_burdens.txt\")"
   ]
  },
  {
   "cell_type": "code",
   "execution_count": 4,
   "metadata": {
    "collapsed": true
   },
   "outputs": [],
   "source": [
    "metr_burden <- \"daly\"\n",
    "metr_res <- \"Patients\""
   ]
  },
  {
   "cell_type": "code",
   "execution_count": 5,
   "metadata": {
    "collapsed": false
   },
   "outputs": [
    {
     "data": {
      "text/html": [
       "<ol class=list-inline>\n",
       "\t<li>'All'</li>\n",
       "\t<li>'Cardiovascular and circulatory diseases'</li>\n",
       "\t<li>'Chronic respiratory diseases'</li>\n",
       "\t<li>'Cirrhosis of the liver'</li>\n",
       "\t<li>'Congenital anomalies'</li>\n",
       "\t<li>'Diabetes, urinary diseases and male infertility'</li>\n",
       "\t<li>'Diarrhea, lower respiratory infections, meningitis, and other common infectious diseases'</li>\n",
       "\t<li>'Digestive diseases (except cirrhosis)'</li>\n",
       "\t<li>'Gynecological diseases'</li>\n",
       "\t<li>'Hemoglobinopathies and hemolytic anemias'</li>\n",
       "\t<li>'Hepatitis'</li>\n",
       "\t<li>'HIV/AIDS'</li>\n",
       "\t<li>'Leprosy'</li>\n",
       "\t<li>'Malaria'</li>\n",
       "\t<li>'Maternal disorders'</li>\n",
       "\t<li>'Mental and behavioral disorders'</li>\n",
       "\t<li>'Musculoskeletal disorders'</li>\n",
       "\t<li>'Neglected tropical diseases excluding malaria'</li>\n",
       "\t<li>'Neonatal disorders'</li>\n",
       "\t<li>'Neoplasms'</li>\n",
       "\t<li>'Neurological disorders'</li>\n",
       "\t<li>'Nutritional deficiencies'</li>\n",
       "\t<li>'Oral disorders'</li>\n",
       "\t<li>'Sense organ diseases'</li>\n",
       "\t<li>'Sexually transmitted diseases excluding HIV'</li>\n",
       "\t<li>'Skin and subcutaneous diseases'</li>\n",
       "\t<li>'Sudden infant death syndrome'</li>\n",
       "\t<li>'Tuberculosis'</li>\n",
       "</ol>\n"
      ],
      "text/latex": [
       "\\begin{enumerate*}\n",
       "\\item 'All'\n",
       "\\item 'Cardiovascular and circulatory diseases'\n",
       "\\item 'Chronic respiratory diseases'\n",
       "\\item 'Cirrhosis of the liver'\n",
       "\\item 'Congenital anomalies'\n",
       "\\item 'Diabetes, urinary diseases and male infertility'\n",
       "\\item 'Diarrhea, lower respiratory infections, meningitis, and other common infectious diseases'\n",
       "\\item 'Digestive diseases (except cirrhosis)'\n",
       "\\item 'Gynecological diseases'\n",
       "\\item 'Hemoglobinopathies and hemolytic anemias'\n",
       "\\item 'Hepatitis'\n",
       "\\item 'HIV/AIDS'\n",
       "\\item 'Leprosy'\n",
       "\\item 'Malaria'\n",
       "\\item 'Maternal disorders'\n",
       "\\item 'Mental and behavioral disorders'\n",
       "\\item 'Musculoskeletal disorders'\n",
       "\\item 'Neglected tropical diseases excluding malaria'\n",
       "\\item 'Neonatal disorders'\n",
       "\\item 'Neoplasms'\n",
       "\\item 'Neurological disorders'\n",
       "\\item 'Nutritional deficiencies'\n",
       "\\item 'Oral disorders'\n",
       "\\item 'Sense organ diseases'\n",
       "\\item 'Sexually transmitted diseases excluding HIV'\n",
       "\\item 'Skin and subcutaneous diseases'\n",
       "\\item 'Sudden infant death syndrome'\n",
       "\\item 'Tuberculosis'\n",
       "\\end{enumerate*}\n"
      ],
      "text/markdown": [
       "1. 'All'\n",
       "2. 'Cardiovascular and circulatory diseases'\n",
       "3. 'Chronic respiratory diseases'\n",
       "4. 'Cirrhosis of the liver'\n",
       "5. 'Congenital anomalies'\n",
       "6. 'Diabetes, urinary diseases and male infertility'\n",
       "7. 'Diarrhea, lower respiratory infections, meningitis, and other common infectious diseases'\n",
       "8. 'Digestive diseases (except cirrhosis)'\n",
       "9. 'Gynecological diseases'\n",
       "10. 'Hemoglobinopathies and hemolytic anemias'\n",
       "11. 'Hepatitis'\n",
       "12. 'HIV/AIDS'\n",
       "13. 'Leprosy'\n",
       "14. 'Malaria'\n",
       "15. 'Maternal disorders'\n",
       "16. 'Mental and behavioral disorders'\n",
       "17. 'Musculoskeletal disorders'\n",
       "18. 'Neglected tropical diseases excluding malaria'\n",
       "19. 'Neonatal disorders'\n",
       "20. 'Neoplasms'\n",
       "21. 'Neurological disorders'\n",
       "22. 'Nutritional deficiencies'\n",
       "23. 'Oral disorders'\n",
       "24. 'Sense organ diseases'\n",
       "25. 'Sexually transmitted diseases excluding HIV'\n",
       "26. 'Skin and subcutaneous diseases'\n",
       "27. 'Sudden infant death syndrome'\n",
       "28. 'Tuberculosis'\n",
       "\n",
       "\n"
      ],
      "text/plain": [
       " [1] \"All\"                                                                                     \n",
       " [2] \"Cardiovascular and circulatory diseases\"                                                 \n",
       " [3] \"Chronic respiratory diseases\"                                                            \n",
       " [4] \"Cirrhosis of the liver\"                                                                  \n",
       " [5] \"Congenital anomalies\"                                                                    \n",
       " [6] \"Diabetes, urinary diseases and male infertility\"                                         \n",
       " [7] \"Diarrhea, lower respiratory infections, meningitis, and other common infectious diseases\"\n",
       " [8] \"Digestive diseases (except cirrhosis)\"                                                   \n",
       " [9] \"Gynecological diseases\"                                                                  \n",
       "[10] \"Hemoglobinopathies and hemolytic anemias\"                                                \n",
       "[11] \"Hepatitis\"                                                                               \n",
       "[12] \"HIV/AIDS\"                                                                                \n",
       "[13] \"Leprosy\"                                                                                 \n",
       "[14] \"Malaria\"                                                                                 \n",
       "[15] \"Maternal disorders\"                                                                      \n",
       "[16] \"Mental and behavioral disorders\"                                                         \n",
       "[17] \"Musculoskeletal disorders\"                                                               \n",
       "[18] \"Neglected tropical diseases excluding malaria\"                                           \n",
       "[19] \"Neonatal disorders\"                                                                      \n",
       "[20] \"Neoplasms\"                                                                               \n",
       "[21] \"Neurological disorders\"                                                                  \n",
       "[22] \"Nutritional deficiencies\"                                                                \n",
       "[23] \"Oral disorders\"                                                                          \n",
       "[24] \"Sense organ diseases\"                                                                    \n",
       "[25] \"Sexually transmitted diseases excluding HIV\"                                             \n",
       "[26] \"Skin and subcutaneous diseases\"                                                          \n",
       "[27] \"Sudden infant death syndrome\"                                                            \n",
       "[28] \"Tuberculosis\"                                                                            "
      ]
     },
     "metadata": {},
     "output_type": "display_data"
    }
   ],
   "source": [
    "levels(DT$Disease)"
   ]
  },
  {
   "cell_type": "code",
   "execution_count": 6,
   "metadata": {
    "collapsed": true
   },
   "outputs": [],
   "source": [
    "#Disease labels for plot\n",
    "DT$Dis_lab <- DT$Disease\n",
    "levels(DT$Dis_lab) <- c(\"All diseases\",\n",
    "               \"Cardiovascular and circulatory diseases\",\n",
    "               \"Chronic respiratory diseases\",\n",
    "               \"Cirrhosis of the liver\",\n",
    "               \"Congenital anomalies\",\n",
    "               \"Diabetes, urinary diseases, male infertility\",\n",
    "               \"Common infectious diseases\",\n",
    "               \"Digestive diseases\",\n",
    "               \"Gynecological diseases\",\n",
    "               \"Hemoglob. and\\nhemolytic anemia\",\n",
    "               \"Hepatitis\",\n",
    "               \"HIV/AIDS\",\n",
    "               \"Leprosy\",\n",
    "               \"Malaria\",\n",
    "               \"Maternal disorders\",\n",
    "               \"Mental and behavioral disorders\",\n",
    "               \"Musculoskeletal disorders\",\n",
    "               \"Neglected tropical diseases\",\n",
    "               \"Neonatal disorders\",\n",
    "               \"Neoplasms\",\n",
    "               \"Neurological disorders\",\n",
    "               \"Nutritional deficiencies\",\n",
    "               \"Oral disorders\",\n",
    "               \"Sense organ diseases\",\n",
    "               \"Sexually transmitted diseases\",\n",
    "               \"Skin and subcutaneous diseases\",\n",
    "               \"Sudden infant death syndrome\",\n",
    "               \"Tuberculosis\")"
   ]
  },
  {
   "cell_type": "code",
   "execution_count": 7,
   "metadata": {
    "collapsed": false
   },
   "outputs": [],
   "source": [
    "regs <- levels(DT$Region)\n",
    "#Non-High-income burden\n",
    "gbd_t_r <- DT[DT$Disease==\"All\" & !DT$Region%in%c(\"All\",\"Non-HI\",\"High-income\"),\n",
    "              c(1,intersect(grep(\"^burden\",names(DT)),grep(metr_burden,names(DT))))]"
   ]
  },
  {
   "cell_type": "code",
   "execution_count": 8,
   "metadata": {
    "collapsed": false
   },
   "outputs": [
    {
     "data": {
      "text/html": [
       "<table>\n",
       "<thead><tr><th></th><th scope=col>Region</th><th scope=col>burden_daly</th></tr></thead>\n",
       "<tbody>\n",
       "\t<tr><th scope=row>29</th><td>Central Europe, Eastern Europe, and Central Asia</td><td>151517873.106757                                </td></tr>\n",
       "\t<tr><th scope=row>85</th><td>Latin America and Caribbean</td><td>115507386.951616           </td></tr>\n",
       "\t<tr><th scope=row>141</th><td>North Africa and Middle East</td><td>102273396.008358            </td></tr>\n",
       "\t<tr><th scope=row>169</th><td>South Asia     </td><td>610711947.47999</td></tr>\n",
       "\t<tr><th scope=row>197</th><td>Southeast Asia, East Asia and Oceania</td><td>460946821.574246                     </td></tr>\n",
       "\t<tr><th scope=row>225</th><td>Sub-Saharian Africa</td><td>547554824.228482   </td></tr>\n",
       "</tbody>\n",
       "</table>\n"
      ],
      "text/latex": [
       "\\begin{tabular}{r|ll}\n",
       "  & Region & burden\\_daly\\\\\n",
       "\\hline\n",
       "\t29 & Central Europe, Eastern Europe, and Central Asia & 151517873.106757                                \\\\\n",
       "\t85 & Latin America and Caribbean & 115507386.951616           \\\\\n",
       "\t141 & North Africa and Middle East & 102273396.008358            \\\\\n",
       "\t169 & South Asia      & 610711947.47999\\\\\n",
       "\t197 & Southeast Asia, East Asia and Oceania & 460946821.574246                     \\\\\n",
       "\t225 & Sub-Saharian Africa & 547554824.228482   \\\\\n",
       "\\end{tabular}\n"
      ],
      "text/plain": [
       "                                              Region burden_daly\n",
       "29  Central Europe, Eastern Europe, and Central Asia   151517873\n",
       "85                       Latin America and Caribbean   115507387\n",
       "141                     North Africa and Middle East   102273396\n",
       "169                                       South Asia   610711947\n",
       "197            Southeast Asia, East Asia and Oceania   460946822\n",
       "225                              Sub-Saharian Africa   547554824"
      ]
     },
     "metadata": {},
     "output_type": "display_data"
    }
   ],
   "source": [
    "gbd_t_r"
   ]
  },
  {
   "cell_type": "code",
   "execution_count": 9,
   "metadata": {
    "collapsed": true
   },
   "outputs": [],
   "source": [
    "#For annotating with ratio of alignment\n",
    "form <- function(x){\n",
    "paste(format(round(x[2]),nsmall = 0),\n",
    "           \"% [\",format(round(x[1]),nsmall = 0),\n",
    "           \"-\",format(round(x[3]),nsmall = 0),\"]\")\n",
    "    }"
   ]
  },
  {
   "cell_type": "markdown",
   "metadata": {},
   "source": [
    "# Share research vs burden across Non-high-income regions"
   ]
  },
  {
   "cell_type": "code",
   "execution_count": 10,
   "metadata": {
    "collapsed": false
   },
   "outputs": [
    {
     "data": {
      "text/html": [
       "<ol class=list-inline>\n",
       "\t<li>'North Africa and Middle East'</li>\n",
       "\t<li>'Latin America and Caribbean'</li>\n",
       "\t<li>'Central Europe, Eastern Europe, and Central Asia'</li>\n",
       "\t<li>'Southeast Asia, East Asia and Oceania'</li>\n",
       "\t<li>'Sub-Saharian Africa'</li>\n",
       "\t<li>'South Asia'</li>\n",
       "</ol>\n"
      ],
      "text/latex": [
       "\\begin{enumerate*}\n",
       "\\item 'North Africa and Middle East'\n",
       "\\item 'Latin America and Caribbean'\n",
       "\\item 'Central Europe, Eastern Europe, and Central Asia'\n",
       "\\item 'Southeast Asia, East Asia and Oceania'\n",
       "\\item 'Sub-Saharian Africa'\n",
       "\\item 'South Asia'\n",
       "\\end{enumerate*}\n"
      ],
      "text/markdown": [
       "1. 'North Africa and Middle East'\n",
       "2. 'Latin America and Caribbean'\n",
       "3. 'Central Europe, Eastern Europe, and Central Asia'\n",
       "4. 'Southeast Asia, East Asia and Oceania'\n",
       "5. 'Sub-Saharian Africa'\n",
       "6. 'South Asia'\n",
       "\n",
       "\n"
      ],
      "text/plain": [
       "[1] \"North Africa and Middle East\"                    \n",
       "[2] \"Latin America and Caribbean\"                     \n",
       "[3] \"Central Europe, Eastern Europe, and Central Asia\"\n",
       "[4] \"Southeast Asia, East Asia and Oceania\"           \n",
       "[5] \"Sub-Saharian Africa\"                             \n",
       "[6] \"South Asia\"                                      "
      ]
     },
     "metadata": {},
     "output_type": "display_data"
    }
   ],
   "source": [
    "regs <- as.character(gbd_t_r$Region)[order(gbd_t_r$burden)]\n",
    "regs"
   ]
  },
  {
   "cell_type": "code",
   "execution_count": 11,
   "metadata": {
    "collapsed": true
   },
   "outputs": [],
   "source": [
    "regs_lab <- c(\"North Africa\\nMiddle East\",\n",
    "             \"Latin America\",\n",
    "             \"Eastern Europe\\nCentral Asia\",\n",
    "             \"Southeast Asia\\nOceania\",\n",
    "             \"Sub-Saharian\\nAfrica\",\n",
    "             \"South Asia\")"
   ]
  },
  {
   "cell_type": "code",
   "execution_count": 12,
   "metadata": {
    "collapsed": true
   },
   "outputs": [],
   "source": [
    "#15 diseases with highest burden\n",
    "bnhi_dis <- DT[DT$Region==\"Non-HI\" & DT$Disease!=\"All\", \n",
    "                c(2,intersect(grep(\"^burden\",names(DT)),grep(metr_burden,names(DT)))),]\n",
    "bnhi_dis <- bnhi_dis[order(bnhi_dis$burden,decreasing = TRUE),]\n",
    "dis <- as.character(bnhi_dis$Disease)[1:15]"
   ]
  },
  {
   "cell_type": "code",
   "execution_count": 13,
   "metadata": {
    "collapsed": false,
    "scrolled": false
   },
   "outputs": [
    {
     "data": {
      "text/html": [
       "<ol class=list-inline>\n",
       "\t<li>'Diarrhea, lower respiratory infections, meningitis, and other common infectious diseases'</li>\n",
       "\t<li>'Cardiovascular and circulatory diseases'</li>\n",
       "\t<li>'Neonatal disorders'</li>\n",
       "\t<li>'Mental and behavioral disorders'</li>\n",
       "\t<li>'Neoplasms'</li>\n",
       "\t<li>'Musculoskeletal disorders'</li>\n",
       "\t<li>'Malaria'</li>\n",
       "\t<li>'Chronic respiratory diseases'</li>\n",
       "\t<li>'HIV/AIDS'</li>\n",
       "\t<li>'Nutritional deficiencies'</li>\n",
       "\t<li>'Diabetes, urinary diseases and male infertility'</li>\n",
       "\t<li>'Tuberculosis'</li>\n",
       "\t<li>'Neurological disorders'</li>\n",
       "\t<li>'Congenital anomalies'</li>\n",
       "\t<li>'Skin and subcutaneous diseases'</li>\n",
       "</ol>\n"
      ],
      "text/latex": [
       "\\begin{enumerate*}\n",
       "\\item 'Diarrhea, lower respiratory infections, meningitis, and other common infectious diseases'\n",
       "\\item 'Cardiovascular and circulatory diseases'\n",
       "\\item 'Neonatal disorders'\n",
       "\\item 'Mental and behavioral disorders'\n",
       "\\item 'Neoplasms'\n",
       "\\item 'Musculoskeletal disorders'\n",
       "\\item 'Malaria'\n",
       "\\item 'Chronic respiratory diseases'\n",
       "\\item 'HIV/AIDS'\n",
       "\\item 'Nutritional deficiencies'\n",
       "\\item 'Diabetes, urinary diseases and male infertility'\n",
       "\\item 'Tuberculosis'\n",
       "\\item 'Neurological disorders'\n",
       "\\item 'Congenital anomalies'\n",
       "\\item 'Skin and subcutaneous diseases'\n",
       "\\end{enumerate*}\n"
      ],
      "text/markdown": [
       "1. 'Diarrhea, lower respiratory infections, meningitis, and other common infectious diseases'\n",
       "2. 'Cardiovascular and circulatory diseases'\n",
       "3. 'Neonatal disorders'\n",
       "4. 'Mental and behavioral disorders'\n",
       "5. 'Neoplasms'\n",
       "6. 'Musculoskeletal disorders'\n",
       "7. 'Malaria'\n",
       "8. 'Chronic respiratory diseases'\n",
       "9. 'HIV/AIDS'\n",
       "10. 'Nutritional deficiencies'\n",
       "11. 'Diabetes, urinary diseases and male infertility'\n",
       "12. 'Tuberculosis'\n",
       "13. 'Neurological disorders'\n",
       "14. 'Congenital anomalies'\n",
       "15. 'Skin and subcutaneous diseases'\n",
       "\n",
       "\n"
      ],
      "text/plain": [
       " [1] \"Diarrhea, lower respiratory infections, meningitis, and other common infectious diseases\"\n",
       " [2] \"Cardiovascular and circulatory diseases\"                                                 \n",
       " [3] \"Neonatal disorders\"                                                                      \n",
       " [4] \"Mental and behavioral disorders\"                                                         \n",
       " [5] \"Neoplasms\"                                                                               \n",
       " [6] \"Musculoskeletal disorders\"                                                               \n",
       " [7] \"Malaria\"                                                                                 \n",
       " [8] \"Chronic respiratory diseases\"                                                            \n",
       " [9] \"HIV/AIDS\"                                                                                \n",
       "[10] \"Nutritional deficiencies\"                                                                \n",
       "[11] \"Diabetes, urinary diseases and male infertility\"                                         \n",
       "[12] \"Tuberculosis\"                                                                            \n",
       "[13] \"Neurological disorders\"                                                                  \n",
       "[14] \"Congenital anomalies\"                                                                    \n",
       "[15] \"Skin and subcutaneous diseases\"                                                          "
      ]
     },
     "metadata": {},
     "output_type": "display_data"
    }
   ],
   "source": [
    "dis"
   ]
  },
  {
   "cell_type": "code",
   "execution_count": 14,
   "metadata": {
    "collapsed": true
   },
   "outputs": [],
   "source": [
    "max_plot <- 100"
   ]
  },
  {
   "cell_type": "code",
   "execution_count": 15,
   "metadata": {
    "collapsed": true
   },
   "outputs": [],
   "source": [
    "L <- list()\n",
    "for(i in 1:length(dis)){\n",
    "\n",
    "    d <- dis[i]\n",
    "    dlab <- unique(as.character(DT$Dis_lab[DT$Disease==d]))\n",
    "\n",
    "    dtp <- DT[DT$Disease==d & !DT$Region%in%c(\"All\",\"Non-HI\",\"High-income\"),c(which(names(DT)%in%c(\"Region\")),\n",
    "                        intersect(grep(metr_burden,names(DT)),grep(\"Prop_NHI_burden\",names(DT))),\n",
    "                        intersect(grep(metr_res,names(DT)),grep(\"Prop_NHI_\",names(DT)))),]\n",
    "    \n",
    "    dfb <- dtp[,c(1,2)]\n",
    "    names(dfb) <- c(\"Region\",\"prop\")\n",
    "    dfb$mes <- \"burden\"\n",
    "    dfr <- dtp[,c(1,4)]\n",
    "    names(dfr) <- c(\"Region\",\"prop\")\n",
    "    dfr$mes <- \"research\"\n",
    "    dt <- rbind(dfb,dfr)\n",
    "\n",
    "    dfre <- dtp[,c(1,3,5)]\n",
    "    names(dfre) <- c(\"Region\",\"prop_low\",\"prop_up\")\n",
    "    dfre$mes <- \"research\"\n",
    "    \n",
    "    #Order of regions:\n",
    "    dt$Region <- reorder(dt$Region,new.order=regs)\n",
    "    dfre$Region <- reorder(dfre$Region,new.order=as.character(regs))\n",
    "    dt$Reg_lab <- dt$Region\n",
    "    levels(dt$Reg_lab) <- regs_lab\n",
    "\n",
    "    dlbl <- dt[order(dt$Region),]\n",
    "    dlbl <- dlbl[!duplicated(dlbl$Region),]\n",
    "\n",
    "    #Highlighting GAPS\n",
    "    dt$gap <- dt$Region\n",
    "    levels(dt$gap) <- unlist(lapply(levels(dt$Region),\n",
    "                                    function(x){\n",
    "                                        ifelse(sum(dfre$Region==x)==0,NA,\n",
    "                                        dt$prop[dt$mes==\"burden\" & dt$Region==x]/\n",
    "                                        dfre$prop_up[dfre$Region==x])}))\n",
    "    dt$gap_col <- dt$mes\n",
    "    dt$gap_col[as.numeric(as.character(dt$gap))>=2 & dt$gap_col==\"burden\"] <- \"burden_gap\"\n",
    "    \n",
    "    dlbl <- dt[order(dt$Region),]\n",
    "    dlbl <- dlbl[dlbl$mes==\"burden\",]\n",
    "    dlbl$gap_text <- \"plain\"\n",
    "    dlbl$gap_text[dlbl$gap_col==\"burden_gap\"] <- \"bold\"\n",
    "\n",
    "    \n",
    "    #GGPLOT Object\n",
    "    p <- ggplot(dt,aes(Region))\n",
    "    p <- p + geom_bar(aes(fill=gap_col,y=prop),position=\"dodge\",stat=\"identity\",width=0.8)\n",
    "    p <- p + geom_segment(aes(x=as.numeric(Region)-0.4,xend=as.numeric(Region)+0.4,y=prop/2,yend=prop/2,size=5),linetype=\"dashed\",data=dt[dt$mes==\"burden\",],lwd=0.1)\n",
    "    p <- p + geom_errorbar(aes(x=as.numeric(Region)+0.2,ymax=prop_up,ymin=prop_low),width=0.2,data=dfre)\n",
    "    p <- p + scale_fill_manual(values = c(\"burden\"=\"orange\",\"burden_gap\"=\"red\",\"research\"=\"blue\"))\n",
    "\n",
    "    p <- p + scale_x_discrete(label = dlbl$Reg_lab)\n",
    "\n",
    "    if(i%%3==1){\n",
    "    p <- p + scale_y_continuous(limits = c(0,max_plot),breaks=seq(0,max_plot,10),\n",
    "                                name=paste(\"Share across non-high-income regions\\nof\",\n",
    "                                           toupper(metr_burden),\n",
    "                                           \"and patients planned to be enrolled (%)\"))\n",
    "\n",
    "    }\n",
    "    else {p <- p + scale_y_continuous(limits = c(0,max_plot),breaks=seq(0,max_plot,10),\n",
    "                                name=paste(\"\\n\")\n",
    "                                )\n",
    "        }\n",
    "\n",
    "    p <- p + ggtitle(dlab)\n",
    "    p <- p + theme( axis.text.x = element_text(\n",
    "                    face=dlbl$gap_text,\n",
    "                    angle=55,\n",
    "                    hjust=1,\n",
    "                    vjust=1.1,size=8)) +\n",
    "             theme(panel.background = element_blank()) + \n",
    "             theme(panel.grid.major.y = element_line(colour = \"grey\",size=0.1)) +\n",
    "             theme(panel.grid.major.x = element_blank()) + \n",
    "             theme(axis.ticks.x=element_blank()) + \n",
    "             theme(legend.position = \"none\") + \n",
    "             theme(axis.title.x=element_blank())\n",
    "\n",
    "    p <- p + annotate(\"text\",x=(length(regs)+1)/2,y=max_plot-5,label=\n",
    "                paste(\"R =\",\n",
    "                 form(ratio_align[ratio_align$Disease==as.character(dis[i]),\n",
    "                   intersect(grep(\"NHI\",names(ratio_align)),\n",
    "                             intersect(grep(\"nogap\",names(ratio_align)),\n",
    "                                            intersect(grep(metr_res,names(ratio_align)),\n",
    "                                               grep(metr_burden,names(ratio_align)))))]) )\n",
    "                )\n",
    "    \n",
    "    L[[i]] <- p\n",
    "\n",
    "}\n"
   ]
  },
  {
   "cell_type": "code",
   "execution_count": 16,
   "metadata": {
    "collapsed": false
   },
   "outputs": [
    {
     "name": "stderr",
     "output_type": "stream",
     "text": [
      "Warning message:\n",
      "“Removed 6 rows containing missing values (geom_errorbar).”"
     ]
    },
    {
     "data": {
      "image/png": "[encoded data removed]",
      "text/plain": [
       "plot without title"
      ]
     },
     "metadata": {},
     "output_type": "display_data"
    }
   ],
   "source": [
    "options(repr.plot.width=12, repr.plot.height=20)\n",
    "\n",
    "grid.arrange(L[[1]],L[[2]],L[[3]],\n",
    "             L[[4]],L[[5]],L[[6]],\n",
    "             L[[7]],L[[8]],L[[9]],\n",
    "             L[[10]],L[[11]],L[[12]],\n",
    "             L[[13]],L[[14]],L[[15]],\n",
    "             ncol=3)"
   ]
  },
  {
   "cell_type": "code",
   "execution_count": 17,
   "metadata": {
    "collapsed": true
   },
   "outputs": [],
   "source": [
    "ggsave(filename = \"../Figures/Patients_vs_DALYs_withindis_NonHI.pdf\",\n",
    "       plot=grid.arrange(L[[1]],L[[2]],L[[3]],L[[4]],L[[5]],L[[6]],L[[7]],L[[8]], ncol=3),\n",
    "       width=12,height=12)"
   ]
  },
  {
   "cell_type": "code",
   "execution_count": null,
   "metadata": {
    "collapsed": true
   },
   "outputs": [],
   "source": []
  }
 ],
 "metadata": {
  "kernelspec": {
   "display_name": "R",
   "language": "R",
   "name": "ir"
  },
  "language_info": {
   "codemirror_mode": "r",
   "file_extension": ".r",
   "mimetype": "text/x-r-source",
   "name": "R",
   "pygments_lexer": "r",
   "version": "3.3.1"
  }
 },
 "nbformat": 4,
 "nbformat_minor": 1
}
