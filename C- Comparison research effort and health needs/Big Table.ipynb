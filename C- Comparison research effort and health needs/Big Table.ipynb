{
 "cells": [
  {
   "cell_type": "markdown",
   "metadata": {},
   "source": [
    "### Big table with info per region per disease of RCTs and burden"
   ]
  },
  {
   "cell_type": "code",
   "execution_count": 23,
   "metadata": {
    "collapsed": true
   },
   "outputs": [
    {
     "name": "stderr",
     "output_type": "stream",
     "text": [
      "gdata: read.xls support for 'XLS' (Excel 97-2004) files ENABLED.\n",
      "\n",
      "gdata: read.xls support for 'XLSX' (Excel 2007+) files ENABLED.\n",
      "\n",
      "Attaching package: ‘gdata’\n",
      "\n",
      "The following object is masked from ‘package:stats’:\n",
      "\n",
      "    nobs\n",
      "\n",
      "The following object is masked from ‘package:utils’:\n",
      "\n",
      "    object.size\n",
      "\n",
      "The following object is masked from ‘package:base’:\n",
      "\n",
      "    startsWith\n",
      "\n"
     ]
    }
   ],
   "source": [
    "library(gdata)"
   ]
  },
  {
   "cell_type": "code",
   "execution_count": 10,
   "metadata": {
    "collapsed": true
   },
   "outputs": [],
   "source": [
    "GBD <- read.table(\"../Data/DALY_YLL_deaths_per_region_and_27_diseases_2005.txt\")\n",
    "RCT <- read.table(\"../Data/RCTs_and_Patients_Nb_local_prop_median_UI_per_region_and_disease.txt\")"
   ]
  },
  {
   "cell_type": "code",
   "execution_count": 11,
   "metadata": {
    "collapsed": true
   },
   "outputs": [],
   "source": [
    "#Adding GBD all diseases for all regions\n",
    "gbd_all <- tapply(GBD$burden[GBD$Region==\"All\"],paste(GBD$metr[GBD$Region==\"All\"],GBD$Region[GBD$Region==\"All\"]),sum)\n",
    "gbd_all <- data.frame(metr=levels(GBD$metr),\n",
    "                      Region=\"All\",\n",
    "                      Disease=\"all\",\n",
    "                     burden=as.numeric(gbd_all))\n",
    "GBD <- rbind(GBD,gbd_all)\n",
    "levels(GBD$Disease)[1] <- \"All\""
   ]
  },
  {
   "cell_type": "code",
   "execution_count": 12,
   "metadata": {
    "collapsed": true
   },
   "outputs": [],
   "source": [
    "GBD <- GBD[order(GBD$Region,GBD$Disease),]\n",
    "RCT <- RCT[order(RCT$Region,RCT$Disease),]"
   ]
  },
  {
   "cell_type": "code",
   "execution_count": 20,
   "metadata": {
    "collapsed": false
   },
   "outputs": [],
   "source": [
    "gbd_nhi <- GBD[GBD$Region==\"All\",]\n",
    "gbd_nhi$Region <- \"Non-HI\"\n",
    "gbd_nhi$burden <- gbd_nhi$burden - GBD$burden[GBD$Region==\"High-income\"]\n",
    "GBD <- rbind(GBD,gbd_nhi)"
   ]
  },
  {
   "cell_type": "code",
   "execution_count": 24,
   "metadata": {
    "collapsed": false
   },
   "outputs": [],
   "source": [
    "GBD$Region <- reorder(GBD$Region,new.order=sort(levels(GBD$Region)))"
   ]
  },
  {
   "cell_type": "code",
   "execution_count": 26,
   "metadata": {
    "collapsed": false
   },
   "outputs": [
    {
     "data": {
      "text/plain": [
       "\n",
       "TRUE \n",
       "   9 "
      ]
     },
     "metadata": {},
     "output_type": "display_data"
    },
    {
     "data": {
      "text/plain": [
       "\n",
       "TRUE \n",
       "  23 "
      ]
     },
     "metadata": {},
     "output_type": "display_data"
    }
   ],
   "source": [
    "table(levels(RCT$Region)==levels(GBD$Region))\n",
    "table(levels(RCT$Disease)%in%levels(GBD$Disease))"
   ]
  },
  {
   "cell_type": "code",
   "execution_count": 27,
   "metadata": {
    "collapsed": false
   },
   "outputs": [
    {
     "data": {
      "text/plain": [
       "\n",
       " daly death   yld   yll \n",
       "  308   286   308   286 "
      ]
     },
     "metadata": {},
     "output_type": "display_data"
    }
   ],
   "source": [
    "table(GBD$metr)"
   ]
  },
  {
   "cell_type": "code",
   "execution_count": 28,
   "metadata": {
    "collapsed": false
   },
   "outputs": [],
   "source": [
    "GBDdaly <- GBD[GBD$metr==\"daly\",]\n",
    "GBDdaly$burden_daly <- GBDdaly$burden\n",
    "GBDyll <- GBD[GBD$metr==\"yll\",]\n",
    "GBDyll$burden_yll <- GBDyll$burden\n",
    "GBDyld <- GBD[GBD$metr==\"yld\",]\n",
    "GBDyld$burden_yld <- GBDyld$burden\n",
    "GBDdeath <- GBD[GBD$metr==\"death\",]\n",
    "GBDdeath$burden_death <- GBDdeath$burden"
   ]
  },
  {
   "cell_type": "code",
   "execution_count": null,
   "metadata": {
    "collapsed": true
   },
   "outputs": [],
   "source": [
    "merge()"
   ]
  },
  {
   "cell_type": "code",
   "execution_count": 14,
   "metadata": {
    "collapsed": false
   },
   "outputs": [
    {
     "data": {
      "text/html": [
       "<table>\n",
       "<thead><tr><th></th><th scope=col>Region</th><th scope=col>Disease</th><th scope=col>Nb_RCTs_low</th><th scope=col>Nb_RCTs_med</th><th scope=col>Nb_RCTs_up</th><th scope=col>Nb_Patients_low</th><th scope=col>Nb_Patients_med</th><th scope=col>Nb_Patients_up</th><th scope=col>Prop_RCTs_low</th><th scope=col>Prop_RCTs_med</th><th scope=col>Prop_RCTs_up</th><th scope=col>Prop_Patients_low</th><th scope=col>Prop_Patients_med</th><th scope=col>Prop_Patients_up</th></tr></thead>\n",
       "<tbody>\n",
       "\t<tr><th scope=row>206</th><td>All       </td><td>All       </td><td>78661.775 </td><td>82179     </td><td>85358.2   </td><td>38736579.2</td><td>60121077  </td><td>62786199.4</td><td>NA        </td><td>NA        </td><td>NA        </td><td>NA        </td><td>NA        </td><td>NA        </td></tr>\n",
       "\t<tr><th scope=row>35</th><td>All                                    </td><td>Cardiovascular and circulatory diseases</td><td>9526.975                               </td><td>10676                                  </td><td>11943                                  </td><td>4234636.825                            </td><td>4975477.5                              </td><td>24518980.475                           </td><td>11.4598092846689                       </td><td>12.8059765484869                       </td><td>14.2799368484855                       </td><td>6.92409493233995                       </td><td>8.26987401528555                       </td><td>39.3873995124181                       </td></tr>\n",
       "\t<tr><th scope=row>44</th><td>All                         </td><td>Chronic respiratory diseases</td><td>4302.975                    </td><td>4773                        </td><td>5283                        </td><td>1441357.4                   </td><td>1759433                     </td><td>2364790.175                 </td><td>5.17511161898152            </td><td>5.76418737722197            </td><td>6.3939947331518             </td><td>2.37398804253581            </td><td>2.91905418452374            </td><td>4.85721237844931            </td></tr>\n",
       "\t<tr><th scope=row>53</th><td>All                   </td><td>Cirrhosis of the liver</td><td>534.975               </td><td>1061                  </td><td>1574                  </td><td>139310.9              </td><td>358781.5              </td><td>785988.25             </td><td>0.637016381973726     </td><td>1.26878597624171      </td><td>1.88018052641951      </td><td>0.232104558033272     </td><td>0.60782648115563      </td><td>1.4372980514394       </td></tr>\n",
       "\t<tr><th scope=row>89</th><td>All                                            </td><td>Diabetes, urinary diseases and male infertility</td><td>10613.975                                      </td><td>11700.5                                        </td><td>12854.05                                       </td><td>4398438.825                                    </td><td>5852132                                        </td><td>9441959.675                                    </td><td>12.6862061138243                               </td><td>13.9703270698716                               </td><td>15.3316010872292                               </td><td>7.26118196170555                               </td><td>9.65315443817365                               </td><td>19.4389291371735                               </td></tr>\n",
       "\t<tr><th scope=row>152</th><td>All                                                                                     </td><td>Diarrhea, lower respiratory infections, meningitis, and other common infectious diseases</td><td>2854.975                                                                                </td><td>3497                                                                                    </td><td>4273                                                                                    </td><td>2441898.425                                                                             </td><td>3420205                                                                                 </td><td>4501061.475                                                                             </td><td>3.44712237836333                                                                        </td><td>4.21843102808603                                                                        </td><td>5.16570118831679                                                                        </td><td>4.07436767684668                                                                        </td><td>5.7339961321971                                                                         </td><td>9.67676353182855                                                                        </td></tr>\n",
       "</tbody>\n",
       "</table>\n"
      ],
      "text/latex": [
       "\\begin{tabular}{r|llllllllllllll}\n",
       "  & Region & Disease & Nb\\_RCTs\\_low & Nb\\_RCTs\\_med & Nb\\_RCTs\\_up & Nb\\_Patients\\_low & Nb\\_Patients\\_med & Nb\\_Patients\\_up & Prop\\_RCTs\\_low & Prop\\_RCTs\\_med & Prop\\_RCTs\\_up & Prop\\_Patients\\_low & Prop\\_Patients\\_med & Prop\\_Patients\\_up\\\\\n",
       "\\hline\n",
       "\t206 & All        & All        & 78661.775  & 82179      & 85358.2    & 38736579.2 & 60121077   & 62786199.4 & NA         & NA         & NA         & NA         & NA         & NA        \\\\\n",
       "\t35 & All                                     & Cardiovascular and circulatory diseases & 9526.975                                & 10676                                   & 11943                                   & 4234636.825                             & 4975477.5                               & 24518980.475                            & 11.4598092846689                        & 12.8059765484869                        & 14.2799368484855                        & 6.92409493233995                        & 8.26987401528555                        & 39.3873995124181                       \\\\\n",
       "\t44 & All                          & Chronic respiratory diseases & 4302.975                     & 4773                         & 5283                         & 1441357.4                    & 1759433                      & 2364790.175                  & 5.17511161898152             & 5.76418737722197             & 6.3939947331518              & 2.37398804253581             & 2.91905418452374             & 4.85721237844931            \\\\\n",
       "\t53 & All                    & Cirrhosis of the liver & 534.975                & 1061                   & 1574                   & 139310.9               & 358781.5               & 785988.25              & 0.637016381973726      & 1.26878597624171       & 1.88018052641951       & 0.232104558033272      & 0.60782648115563       & 1.4372980514394       \\\\\n",
       "\t89 & All                                             & Diabetes, urinary diseases and male infertility & 10613.975                                       & 11700.5                                         & 12854.05                                        & 4398438.825                                     & 5852132                                         & 9441959.675                                     & 12.6862061138243                                & 13.9703270698716                                & 15.3316010872292                                & 7.26118196170555                                & 9.65315443817365                                & 19.4389291371735                               \\\\\n",
       "\t152 & All                                                                                      & Diarrhea, lower respiratory infections, meningitis, and other common infectious diseases & 2854.975                                                                                 & 3497                                                                                     & 4273                                                                                     & 2441898.425                                                                              & 3420205                                                                                  & 4501061.475                                                                              & 3.44712237836333                                                                         & 4.21843102808603                                                                         & 5.16570118831679                                                                         & 4.07436767684668                                                                         & 5.7339961321971                                                                          & 9.67676353182855                                                                        \\\\\n",
       "\\end{tabular}\n"
      ],
      "text/plain": [
       "    Region\n",
       "206    All\n",
       "35     All\n",
       "44     All\n",
       "53     All\n",
       "89     All\n",
       "152    All\n",
       "                                                                                     Disease\n",
       "206                                                                                      All\n",
       "35                                                   Cardiovascular and circulatory diseases\n",
       "44                                                              Chronic respiratory diseases\n",
       "53                                                                    Cirrhosis of the liver\n",
       "89                                           Diabetes, urinary diseases and male infertility\n",
       "152 Diarrhea, lower respiratory infections, meningitis, and other common infectious diseases\n",
       "    Nb_RCTs_low Nb_RCTs_med Nb_RCTs_up Nb_Patients_low Nb_Patients_med\n",
       "206   78661.775     82179.0   85358.20      38736579.2      60121077.0\n",
       "35     9526.975     10676.0   11943.00       4234636.8       4975477.5\n",
       "44     4302.975      4773.0    5283.00       1441357.4       1759433.0\n",
       "53      534.975      1061.0    1574.00        139310.9        358781.5\n",
       "89    10613.975     11700.5   12854.05       4398438.8       5852132.0\n",
       "152    2854.975      3497.0    4273.00       2441898.4       3420205.0\n",
       "    Nb_Patients_up Prop_RCTs_low Prop_RCTs_med Prop_RCTs_up Prop_Patients_low\n",
       "206     62786199.4            NA            NA           NA                NA\n",
       "35      24518980.5    11.4598093     12.805977    14.279937         6.9240949\n",
       "44       2364790.2     5.1751116      5.764187     6.393995         2.3739880\n",
       "53        785988.2     0.6370164      1.268786     1.880181         0.2321046\n",
       "89       9441959.7    12.6862061     13.970327    15.331601         7.2611820\n",
       "152      4501061.5     3.4471224      4.218431     5.165701         4.0743677\n",
       "    Prop_Patients_med Prop_Patients_up\n",
       "206                NA               NA\n",
       "35          8.2698740        39.387400\n",
       "44          2.9190542         4.857212\n",
       "53          0.6078265         1.437298\n",
       "89          9.6531544        19.438929\n",
       "152         5.7339961         9.676764"
      ]
     },
     "metadata": {},
     "output_type": "display_data"
    }
   ],
   "source": [
    "head(RCT)"
   ]
  },
  {
   "cell_type": "code",
   "execution_count": 6,
   "metadata": {
    "collapsed": true
   },
   "outputs": [],
   "source": [
    "#Format\n",
    "form <- function(x){\n",
    "paste(format(round(x[2],1),nsmall = 1),\n",
    "           \"% [\",format(round(x[1],1),nsmall = 1),\n",
    "           \"-\",format(round(x[3],1),nsmall = 1),\"]\",sep=\"\")\n",
    "    }"
   ]
  },
  {
   "cell_type": "code",
   "execution_count": 8,
   "metadata": {
    "collapsed": false
   },
   "outputs": [],
   "source": []
  },
  {
   "cell_type": "code",
   "execution_count": 9,
   "metadata": {
    "collapsed": false
   },
   "outputs": [
    {
     "data": {
      "text/html": [
       "<ol class=list-inline>\n",
       "\t<li>All</li>\n",
       "\t<li>All</li>\n",
       "\t<li>All</li>\n",
       "\t<li>All</li>\n",
       "\t<li>Cardiovascular and circulatory diseases</li>\n",
       "\t<li>Cardiovascular and circulatory diseases</li>\n",
       "</ol>\n"
      ],
      "text/latex": [
       "\\begin{enumerate*}\n",
       "\\item All\n",
       "\\item All\n",
       "\\item All\n",
       "\\item All\n",
       "\\item Cardiovascular and circulatory diseases\n",
       "\\item Cardiovascular and circulatory diseases\n",
       "\\end{enumerate*}\n"
      ],
      "text/markdown": [
       "1. All\n",
       "2. All\n",
       "3. All\n",
       "4. All\n",
       "5. Cardiovascular and circulatory diseases\n",
       "6. Cardiovascular and circulatory diseases\n",
       "\n",
       "\n"
      ],
      "text/plain": [
       "[1] All                                    \n",
       "[2] All                                    \n",
       "[3] All                                    \n",
       "[4] All                                    \n",
       "[5] Cardiovascular and circulatory diseases\n",
       "[6] Cardiovascular and circulatory diseases\n",
       "28 Levels: All ... Tuberculosis"
      ]
     },
     "metadata": {},
     "output_type": "display_data"
    }
   ],
   "source": [
    "head(GBD$Disease)"
   ]
  },
  {
   "cell_type": "code",
   "execution_count": null,
   "metadata": {
    "collapsed": true
   },
   "outputs": [],
   "source": []
  }
 ],
 "metadata": {
  "kernelspec": {
   "display_name": "R",
   "language": "R",
   "name": "ir"
  },
  "language_info": {
   "codemirror_mode": "r",
   "file_extension": ".r",
   "mimetype": "text/x-r-source",
   "name": "R",
   "pygments_lexer": "r",
   "version": "3.3.1"
  }
 },
 "nbformat": 4,
 "nbformat_minor": 1
}
