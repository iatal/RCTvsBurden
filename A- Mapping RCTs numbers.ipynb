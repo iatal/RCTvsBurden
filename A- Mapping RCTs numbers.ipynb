{
 "cells": [
  {
   "cell_type": "markdown",
   "metadata": {},
   "source": [
    "Mapping the effort of health research\n",
    "-------------------------------------\n",
    "Database: \n",
    "          1. All RCTs registered at WHO ICTRP by Jan 1st 2016, \n",
    "          2. with start date between 2006 and 2015\n",
    "          3. with study type and design corresponding to RCT\n",
    "          4. with at least one country location among the 187 countries included in the GBD2010 study"
   ]
  },
  {
   "cell_type": "code",
   "execution_count": 1,
   "metadata": {
    "collapsed": false
   },
   "outputs": [
    {
     "data": {
      "text/html": [
       "117180"
      ],
      "text/latex": [
       "117180"
      ],
      "text/markdown": [
       "117180"
      ],
      "text/plain": [
       "[1] 117180"
      ]
     },
     "metadata": {},
     "output_type": "display_data"
    },
    {
     "data": {
      "text/html": [
       "<ol class=list-inline>\n",
       "\t<li>'TrialID'</li>\n",
       "\t<li>'brief_title'</li>\n",
       "\t<li>'official_title'</li>\n",
       "\t<li>'Primary_sponsor'</li>\n",
       "\t<li>'Source_Register'</li>\n",
       "\t<li>'Recruitment_Status'</li>\n",
       "\t<li>'other_records'</li>\n",
       "\t<li>'Target_size'</li>\n",
       "\t<li>'Study_type'</li>\n",
       "\t<li>'Study_design'</li>\n",
       "\t<li>'Phase'</li>\n",
       "\t<li>'Countries'</li>\n",
       "\t<li>'condition'</li>\n",
       "\t<li>'Secondary_ID'</li>\n",
       "\t<li>'Source_Support'</li>\n",
       "\t<li>'Secondary_Sponsor'</li>\n",
       "\t<li>'year'</li>\n",
       "\t<li>'Interv'</li>\n",
       "\t<li>'Regions'</li>\n",
       "\t<li>'Nb_ctr_per_reg'</li>\n",
       "\t<li>'Sample'</li>\n",
       "\t<li>'PMID'</li>\n",
       "\t<li>'GBD28'</li>\n",
       "\t<li>'GBD171'</li>\n",
       "\t<li>'Infectious'</li>\n",
       "\t<li>'MNN'</li>\n",
       "\t<li>'Cancer'</li>\n",
       "\t<li>'Chronic'</li>\n",
       "</ol>\n"
      ],
      "text/latex": [
       "\\begin{enumerate*}\n",
       "\\item 'TrialID'\n",
       "\\item 'brief\\_title'\n",
       "\\item 'official\\_title'\n",
       "\\item 'Primary\\_sponsor'\n",
       "\\item 'Source\\_Register'\n",
       "\\item 'Recruitment\\_Status'\n",
       "\\item 'other\\_records'\n",
       "\\item 'Target\\_size'\n",
       "\\item 'Study\\_type'\n",
       "\\item 'Study\\_design'\n",
       "\\item 'Phase'\n",
       "\\item 'Countries'\n",
       "\\item 'condition'\n",
       "\\item 'Secondary\\_ID'\n",
       "\\item 'Source\\_Support'\n",
       "\\item 'Secondary\\_Sponsor'\n",
       "\\item 'year'\n",
       "\\item 'Interv'\n",
       "\\item 'Regions'\n",
       "\\item 'Nb\\_ctr\\_per\\_reg'\n",
       "\\item 'Sample'\n",
       "\\item 'PMID'\n",
       "\\item 'GBD28'\n",
       "\\item 'GBD171'\n",
       "\\item 'Infectious'\n",
       "\\item 'MNN'\n",
       "\\item 'Cancer'\n",
       "\\item 'Chronic'\n",
       "\\end{enumerate*}\n"
      ],
      "text/markdown": [
       "1. 'TrialID'\n",
       "2. 'brief_title'\n",
       "3. 'official_title'\n",
       "4. 'Primary_sponsor'\n",
       "5. 'Source_Register'\n",
       "6. 'Recruitment_Status'\n",
       "7. 'other_records'\n",
       "8. 'Target_size'\n",
       "9. 'Study_type'\n",
       "10. 'Study_design'\n",
       "11. 'Phase'\n",
       "12. 'Countries'\n",
       "13. 'condition'\n",
       "14. 'Secondary_ID'\n",
       "15. 'Source_Support'\n",
       "16. 'Secondary_Sponsor'\n",
       "17. 'year'\n",
       "18. 'Interv'\n",
       "19. 'Regions'\n",
       "20. 'Nb_ctr_per_reg'\n",
       "21. 'Sample'\n",
       "22. 'PMID'\n",
       "23. 'GBD28'\n",
       "24. 'GBD171'\n",
       "25. 'Infectious'\n",
       "26. 'MNN'\n",
       "27. 'Cancer'\n",
       "28. 'Chronic'\n",
       "\n",
       "\n"
      ],
      "text/plain": [
       " [1] \"TrialID\"            \"brief_title\"        \"official_title\"    \n",
       " [4] \"Primary_sponsor\"    \"Source_Register\"    \"Recruitment_Status\"\n",
       " [7] \"other_records\"      \"Target_size\"        \"Study_type\"        \n",
       "[10] \"Study_design\"       \"Phase\"              \"Countries\"         \n",
       "[13] \"condition\"          \"Secondary_ID\"       \"Source_Support\"    \n",
       "[16] \"Secondary_Sponsor\"  \"year\"               \"Interv\"            \n",
       "[19] \"Regions\"            \"Nb_ctr_per_reg\"     \"Sample\"            \n",
       "[22] \"PMID\"               \"GBD28\"              \"GBD171\"            \n",
       "[25] \"Infectious\"         \"MNN\"                \"Cancer\"            \n",
       "[28] \"Chronic\"           "
      ]
     },
     "metadata": {},
     "output_type": "display_data"
    }
   ],
   "source": [
    "library(data.table)\n",
    "#Upload database\n",
    "setwd('/media/igna/Elements/HotelDieu/Cochrane')\n",
    "data0 <- read.table(\"Mapping_Cancer/Flowchart/database_all_diseases_final_ok.txt\")\n",
    "nrow(data0)\n",
    "names(data0)"
   ]
  },
  {
   "cell_type": "markdown",
   "metadata": {},
   "source": [
    "- TrialID: unique trial ID from WHOICTRP\n",
    "- Regions: 7 epidemiological regions from GBD 2010 study\n",
    "- GBD28: classification according to 28 categories defined in Atal et al. BMC Bioinformatics (2016): This classification includes the injuries category, we exclude it"
   ]
  },
  {
   "cell_type": "code",
   "execution_count": 2,
   "metadata": {
    "collapsed": false
   },
   "outputs": [
    {
     "name": "stdout",
     "output_type": "stream",
     "text": [
      "     NAME    NROW NCOL  MB\n",
      "[1,] data 117,180   28 103\n",
      "     COLS                                                                            \n",
      "[1,] TrialID,brief_title,official_title,Primary_sponsor,Source_Register,Recruitment_S\n",
      "     KEY\n",
      "[1,]    \n",
      "Total: 103MB\n"
     ]
    }
   ],
   "source": [
    "data <- data.table(data0)\n",
    "tables()"
   ]
  },
  {
   "cell_type": "code",
   "execution_count": 4,
   "metadata": {
    "collapsed": false
   },
   "outputs": [
    {
     "data": {
      "text/html": [
       "28"
      ],
      "text/latex": [
       "28"
      ],
      "text/markdown": [
       "28"
      ],
      "text/plain": [
       "[1] 28"
      ]
     },
     "metadata": {},
     "output_type": "display_data"
    }
   ],
   "source": [
    "#Upload traduction names/label categories\n",
    "Mgbd <- read.table(\"/home/igna/Desktop/Programs GBD/Classifier_Trial_GBD/Databases/Taxonomy_DL/GBD_data/GBD_ICD.txt\")\n",
    "grep(\"Injur\",Mgbd$cause_name)"
   ]
  },
  {
   "cell_type": "code",
   "execution_count": 5,
   "metadata": {
    "collapsed": false
   },
   "outputs": [
    {
     "data": {
      "text/html": [
       "<ol class=list-inline>\n",
       "\t<li>''</li>\n",
       "\t<li>'13'</li>\n",
       "\t<li>''</li>\n",
       "\t<li>''</li>\n",
       "\t<li>'25'</li>\n",
       "\t<li>'12'</li>\n",
       "</ol>\n"
      ],
      "text/latex": [
       "\\begin{enumerate*}\n",
       "\\item ''\n",
       "\\item '13'\n",
       "\\item ''\n",
       "\\item ''\n",
       "\\item '25'\n",
       "\\item '12'\n",
       "\\end{enumerate*}\n"
      ],
      "text/markdown": [
       "1. ''\n",
       "2. '13'\n",
       "3. ''\n",
       "4. ''\n",
       "5. '25'\n",
       "6. '12'\n",
       "\n",
       "\n"
      ],
      "text/plain": [
       "[1] \"\"   \"13\" \"\"   \"\"   \"25\" \"12\""
      ]
     },
     "metadata": {},
     "output_type": "display_data"
    },
    {
     "data": {
      "text/plain": [
       "\n",
       "FALSE  TRUE \n",
       "91763 25417 "
      ]
     },
     "metadata": {},
     "output_type": "display_data"
    },
    {
     "data": {
      "text/plain": [
       "\n",
       "FALSE  TRUE \n",
       "92547 24633 "
      ]
     },
     "metadata": {},
     "output_type": "display_data"
    }
   ],
   "source": [
    "#We supress from GBD28 the label 28\n",
    "GBD27 <- sapply(strsplit(as.character(data$GBD28),\"&\"),function(x){paste(x[x!=\"28\"],collapse=\"&\")})\n",
    "head(GBD27)\n",
    "#Number of trials relevant to the burden of diseases\n",
    "table(GBD27==\"\")\n",
    "table(data$GBD28==\"\")\n",
    "data <- data[GBD27!=\"\",]\n",
    "GBD27 <- GBD27[GBD27!=\"\"]"
   ]
  },
  {
   "cell_type": "code",
   "execution_count": 6,
   "metadata": {
    "collapsed": false
   },
   "outputs": [
    {
     "data": {
      "text/plain": [
       "\n",
       "FALSE  TRUE \n",
       "85358  6405 "
      ]
     },
     "metadata": {},
     "output_type": "display_data"
    }
   ],
   "source": [
    "#Trials including sample size information\n",
    "table(is.na(data$Sample[GBD27!=\"\"]))"
   ]
  },
  {
   "cell_type": "code",
   "execution_count": 7,
   "metadata": {
    "collapsed": false
   },
   "outputs": [
    {
     "data": {
      "text/html": [
       "<ol class=list-inline>\n",
       "\t<li>South Korea</li>\n",
       "\t<li>United States</li>\n",
       "\t<li>United States</li>\n",
       "\t<li>United States</li>\n",
       "\t<li>Dominican Republic</li>\n",
       "\t<li>Switzerland</li>\n",
       "</ol>\n"
      ],
      "text/latex": [
       "\\begin{enumerate*}\n",
       "\\item South Korea\n",
       "\\item United States\n",
       "\\item United States\n",
       "\\item United States\n",
       "\\item Dominican Republic\n",
       "\\item Switzerland\n",
       "\\end{enumerate*}\n"
      ],
      "text/markdown": [
       "1. South Korea\n",
       "2. United States\n",
       "3. United States\n",
       "4. United States\n",
       "5. Dominican Republic\n",
       "6. Switzerland\n",
       "\n",
       "\n"
      ],
      "text/plain": [
       "[1] South Korea        United States      United States      United States     \n",
       "[5] Dominican Republic Switzerland       \n",
       "8738 Levels: Afghanistan ... Zimbabwe"
      ]
     },
     "metadata": {},
     "output_type": "display_data"
    }
   ],
   "source": [
    "head(data$Countries)"
   ]
  },
  {
   "cell_type": "code",
   "execution_count": 8,
   "metadata": {
    "collapsed": true
   },
   "outputs": [],
   "source": [
    "ctrs <- unlist(strsplit(as.character(data$Countries[GBD27!=\"\"]),\"&\"))"
   ]
  },
  {
   "cell_type": "code",
   "execution_count": 9,
   "metadata": {
    "collapsed": false
   },
   "outputs": [
    {
     "data": {
      "text/html": [
       "167"
      ],
      "text/latex": [
       "167"
      ],
      "text/markdown": [
       "167"
      ],
      "text/plain": [
       "[1] 167"
      ]
     },
     "metadata": {},
     "output_type": "display_data"
    },
    {
     "data": {
      "text/html": [
       "7206"
      ],
      "text/latex": [
       "7206"
      ],
      "text/markdown": [
       "7206"
      ],
      "text/plain": [
       "[1] 7206"
      ]
     },
     "metadata": {},
     "output_type": "display_data"
    },
    {
     "data": {
      "text/html": [
       "0.0785283828994257"
      ],
      "text/latex": [
       "0.0785283828994257"
      ],
      "text/markdown": [
       "0.0785283828994257"
      ],
      "text/plain": [
       "[1] 0.07852838"
      ]
     },
     "metadata": {},
     "output_type": "display_data"
    }
   ],
   "source": [
    "length(unique(ctrs))\n",
    "length(grep(\"&\",as.character(data$Regions[GBD27!=\"\"])))\n",
    "length(grep(\"&\",as.character(data$Regions[GBD27!=\"\"])))/sum(GBD27!=\"\")"
   ]
  },
  {
   "cell_type": "code",
   "execution_count": 10,
   "metadata": {
    "collapsed": true
   },
   "outputs": [],
   "source": [
    "regs <- unlist(strsplit(as.character(data$Regions[GBD27!=\"\"]),\"&\"))"
   ]
  },
  {
   "cell_type": "code",
   "execution_count": 11,
   "metadata": {
    "collapsed": false
   },
   "outputs": [
    {
     "data": {
      "text/html": [
       "<ol class=list-inline>\n",
       "\t<li>'High-income'</li>\n",
       "\t<li>'High-income'</li>\n",
       "\t<li>'High-income'</li>\n",
       "\t<li>'High-income'</li>\n",
       "\t<li>'Latin America and Caribbean'</li>\n",
       "\t<li>'High-income'</li>\n",
       "</ol>\n"
      ],
      "text/latex": [
       "\\begin{enumerate*}\n",
       "\\item 'High-income'\n",
       "\\item 'High-income'\n",
       "\\item 'High-income'\n",
       "\\item 'High-income'\n",
       "\\item 'Latin America and Caribbean'\n",
       "\\item 'High-income'\n",
       "\\end{enumerate*}\n"
      ],
      "text/markdown": [
       "1. 'High-income'\n",
       "2. 'High-income'\n",
       "3. 'High-income'\n",
       "4. 'High-income'\n",
       "5. 'Latin America and Caribbean'\n",
       "6. 'High-income'\n",
       "\n",
       "\n"
      ],
      "text/plain": [
       "[1] \"High-income\"                 \"High-income\"                \n",
       "[3] \"High-income\"                 \"High-income\"                \n",
       "[5] \"Latin America and Caribbean\" \"High-income\"                "
      ]
     },
     "metadata": {},
     "output_type": "display_data"
    }
   ],
   "source": [
    "head(regs)"
   ]
  },
  {
   "cell_type": "code",
   "execution_count": 12,
   "metadata": {
    "collapsed": false
   },
   "outputs": [
    {
     "data": {
      "text/plain": [
       "regs\n",
       "Central Europe, Eastern Europe, and Central Asia \n",
       "                                            6998 \n",
       "                                     High-income \n",
       "                                           67659 \n",
       "                     Latin America and Caribbean \n",
       "                                            4766 \n",
       "                    North Africa and Middle East \n",
       "                                            8683 \n",
       "                                      South Asia \n",
       "                                            4848 \n",
       "           Southeast Asia, East Asia and Oceania \n",
       "                                            9639 \n",
       "                             Sub-Saharian Africa \n",
       "                                            2585 "
      ]
     },
     "metadata": {},
     "output_type": "display_data"
    }
   ],
   "source": [
    "table(regs)\n",
    "#We count the number of RCTs per region before suppressing RCTs with more than 4 diseases"
   ]
  },
  {
   "cell_type": "code",
   "execution_count": 13,
   "metadata": {
    "collapsed": true
   },
   "outputs": [],
   "source": [
    "L <- strsplit(GBD27,\"&\")"
   ]
  },
  {
   "cell_type": "code",
   "execution_count": 14,
   "metadata": {
    "collapsed": false
   },
   "outputs": [
    {
     "data": {
      "text/plain": [
       "\n",
       "    1     2     3     4     5     6     7     8     9 \n",
       "82914  7122  1401   259    44    12     7     3     1 "
      ]
     },
     "metadata": {},
     "output_type": "display_data"
    },
    {
     "data": {
      "text/plain": [
       "\n",
       "FALSE  TRUE \n",
       "82914  8849 "
      ]
     },
     "metadata": {},
     "output_type": "display_data"
    },
    {
     "data": {
      "text/plain": [
       "\n",
       "    FALSE      TRUE \n",
       "0.9035668 0.0964332 "
      ]
     },
     "metadata": {},
     "output_type": "display_data"
    },
    {
     "data": {
      "text/plain": [
       "\n",
       "FALSE  TRUE \n",
       "91696    67 "
      ]
     },
     "metadata": {},
     "output_type": "display_data"
    },
    {
     "data": {
      "text/plain": [
       "\n",
       "       FALSE         TRUE \n",
       "0.9992698582 0.0007301418 "
      ]
     },
     "metadata": {},
     "output_type": "display_data"
    }
   ],
   "source": [
    "table(sapply(L,length))\n",
    "table(sapply(L,length)>1)\n",
    "table(sapply(L,length)>1)/length(GBD27)\n",
    "table(sapply(L,length)>4)\n",
    "table(sapply(L,length)>4)/length(GBD27)"
   ]
  },
  {
   "cell_type": "code",
   "execution_count": 15,
   "metadata": {
    "collapsed": false
   },
   "outputs": [],
   "source": [
    "#We supress RCTs with more than 4 diseases\n",
    "data <- data[sapply(L,length)<=4,]\n",
    "GBD27 <- GBD27[sapply(L,length)<=4]"
   ]
  },
  {
   "cell_type": "code",
   "execution_count": 16,
   "metadata": {
    "collapsed": false
   },
   "outputs": [],
   "source": [
    "L <- L[sapply(L,length)<=4]"
   ]
  },
  {
   "cell_type": "code",
   "execution_count": 17,
   "metadata": {
    "collapsed": false
   },
   "outputs": [
    {
     "data": {
      "text/plain": [
       "\n",
       "   27    11    21     9     1     5     4     7    10    26     6     8    15 \n",
       "    3    99   233   282   365   428   482   914   925  1068  1126  1509  1566 \n",
       "    2    23    20     3    24    14    16    25    17    22    18    13    19 \n",
       " 1647  1756  2494  3696  4463  5168  6109  6444  7038  7761 10080 10547 12045 \n",
       "   12 \n",
       "14149 "
      ]
     },
     "metadata": {},
     "output_type": "display_data"
    }
   ],
   "source": [
    "sort(table(unlist(L)))"
   ]
  },
  {
   "cell_type": "code",
   "execution_count": 18,
   "metadata": {
    "collapsed": false
   },
   "outputs": [
    {
     "data": {
      "text/html": [
       "<ol class=list-inline>\n",
       "\t<li>Neoplasms</li>\n",
       "\t<li>Diabetes, urinary diseases and male infertility</li>\n",
       "\t<li>Cardiovascular and circulatory diseases</li>\n",
       "</ol>\n"
      ],
      "text/latex": [
       "\\begin{enumerate*}\n",
       "\\item Neoplasms\n",
       "\\item Diabetes, urinary diseases and male infertility\n",
       "\\item Cardiovascular and circulatory diseases\n",
       "\\end{enumerate*}\n"
      ],
      "text/markdown": [
       "1. Neoplasms\n",
       "2. Diabetes, urinary diseases and male infertility\n",
       "3. Cardiovascular and circulatory diseases\n",
       "\n",
       "\n"
      ],
      "text/plain": [
       "[1] Neoplasms                                      \n",
       "[2] Diabetes, urinary diseases and male infertility\n",
       "[3] Cardiovascular and circulatory diseases        \n",
       "28 Levels: Cardiovascular and circulatory diseases ..."
      ]
     },
     "metadata": {},
     "output_type": "display_data"
    }
   ],
   "source": [
    "Mgbd$cause_name[c(12,19,13)]"
   ]
  },
  {
   "cell_type": "code",
   "execution_count": 19,
   "metadata": {
    "collapsed": false
   },
   "outputs": [
    {
     "data": {
      "text/html": [
       "<ol class=list-inline>\n",
       "\t<li>Sudden infant death syndrome</li>\n",
       "\t<li>Leprosy</li>\n",
       "\t<li>Hemoglobinopathies and hemolytic anemias</li>\n",
       "</ol>\n"
      ],
      "text/latex": [
       "\\begin{enumerate*}\n",
       "\\item Sudden infant death syndrome\n",
       "\\item Leprosy\n",
       "\\item Hemoglobinopathies and hemolytic anemias\n",
       "\\end{enumerate*}\n"
      ],
      "text/markdown": [
       "1. Sudden infant death syndrome\n",
       "2. Leprosy\n",
       "3. Hemoglobinopathies and hemolytic anemias\n",
       "\n",
       "\n"
      ],
      "text/plain": [
       "[1] Sudden infant death syndrome            \n",
       "[2] Leprosy                                 \n",
       "[3] Hemoglobinopathies and hemolytic anemias\n",
       "28 Levels: Cardiovascular and circulatory diseases ..."
      ]
     },
     "metadata": {},
     "output_type": "display_data"
    }
   ],
   "source": [
    "Mgbd$cause_name[c(27,11,21)]"
   ]
  },
  {
   "cell_type": "markdown",
   "metadata": {},
   "source": [
    "### Database number RCTs per region and disease"
   ]
  },
  {
   "cell_type": "code",
   "execution_count": 20,
   "metadata": {
    "collapsed": false
   },
   "outputs": [
    {
     "data": {
      "text/html": [
       "<ol class=list-inline>\n",
       "\t<li>'Central Europe, Eastern Europe, and Central Asia'</li>\n",
       "\t<li>'High-income'</li>\n",
       "\t<li>'Latin America and Caribbean'</li>\n",
       "\t<li>'North Africa and Middle East'</li>\n",
       "\t<li>'South Asia'</li>\n",
       "\t<li>'Southeast Asia, East Asia and Oceania'</li>\n",
       "\t<li>'Sub-Saharian Africa'</li>\n",
       "</ol>\n"
      ],
      "text/latex": [
       "\\begin{enumerate*}\n",
       "\\item 'Central Europe, Eastern Europe, and Central Asia'\n",
       "\\item 'High-income'\n",
       "\\item 'Latin America and Caribbean'\n",
       "\\item 'North Africa and Middle East'\n",
       "\\item 'South Asia'\n",
       "\\item 'Southeast Asia, East Asia and Oceania'\n",
       "\\item 'Sub-Saharian Africa'\n",
       "\\end{enumerate*}\n"
      ],
      "text/markdown": [
       "1. 'Central Europe, Eastern Europe, and Central Asia'\n",
       "2. 'High-income'\n",
       "3. 'Latin America and Caribbean'\n",
       "4. 'North Africa and Middle East'\n",
       "5. 'South Asia'\n",
       "6. 'Southeast Asia, East Asia and Oceania'\n",
       "7. 'Sub-Saharian Africa'\n",
       "\n",
       "\n"
      ],
      "text/plain": [
       "[1] \"Central Europe, Eastern Europe, and Central Asia\"\n",
       "[2] \"High-income\"                                     \n",
       "[3] \"Latin America and Caribbean\"                     \n",
       "[4] \"North Africa and Middle East\"                    \n",
       "[5] \"South Asia\"                                      \n",
       "[6] \"Southeast Asia, East Asia and Oceania\"           \n",
       "[7] \"Sub-Saharian Africa\"                             "
      ]
     },
     "metadata": {},
     "output_type": "display_data"
    },
    {
     "data": {
      "text/html": [
       "91696"
      ],
      "text/latex": [
       "91696"
      ],
      "text/markdown": [
       "91696"
      ],
      "text/plain": [
       "[1] 91696"
      ]
     },
     "metadata": {},
     "output_type": "display_data"
    },
    {
     "data": {
      "text/html": [
       "<ol class=list-inline>\n",
       "\t<li>91696</li>\n",
       "\t<li>28</li>\n",
       "</ol>\n"
      ],
      "text/latex": [
       "\\begin{enumerate*}\n",
       "\\item 91696\n",
       "\\item 28\n",
       "\\end{enumerate*}\n"
      ],
      "text/markdown": [
       "1. 91696\n",
       "2. 28\n",
       "\n",
       "\n"
      ],
      "text/plain": [
       "[1] 91696    28"
      ]
     },
     "metadata": {},
     "output_type": "display_data"
    }
   ],
   "source": [
    "#Database number RCTs per region and disease\n",
    "L <- lapply(L,as.numeric)\n",
    "#Region names\n",
    "RGS <- sort(unique(regs))\n",
    "RGS\n",
    "length(L)\n",
    "#We count only RCTs concerning 3 or less diseases\n",
    "dim(data)"
   ]
  },
  {
   "cell_type": "code",
   "execution_count": 21,
   "metadata": {
    "collapsed": false
   },
   "outputs": [
    {
     "data": {
      "text/plain": [
       "        user       system      elapsed \n",
       "2.374317e+00 6.666667e-05 2.376367e+00 "
      ]
     },
     "metadata": {},
     "output_type": "display_data"
    }
   ],
   "source": [
    "\n",
    "Mt <- matrix(0,ncol=length(RGS),nrow=nrow(Mgbd)-1)\n",
    "\n",
    "t0 <- proc.time()\n",
    "for(i in 1:length(RGS)){\n",
    "for(j in 1:(nrow(Mgbd)-1)){\n",
    "Mt[j,i] <- sum((1:nrow(data)%in%grep(RGS[i],data$Regions)) & unlist(lapply(L,function(x){j%in%x})))\n",
    "}\n",
    "}\n",
    "\n",
    "Mt <- data.frame(Mt)\n",
    "t1 <- proc.time()\n",
    "(t1 - t0)/60"
   ]
  },
  {
   "cell_type": "code",
   "execution_count": 22,
   "metadata": {
    "collapsed": true
   },
   "outputs": [],
   "source": [
    "names(Mt) <- RGS\n",
    "rownames(Mt) <- as.character(Mgbd$cause_name)[-28]"
   ]
  },
  {
   "cell_type": "code",
   "execution_count": 23,
   "metadata": {
    "collapsed": false
   },
   "outputs": [
    {
     "data": {
      "text/html": [
       "<table>\n",
       "<thead><tr><th></th><th scope=col>Central Europe, Eastern Europe, and Central Asia</th><th scope=col>High-income</th><th scope=col>Latin America and Caribbean</th><th scope=col>North Africa and Middle East</th><th scope=col>South Asia</th><th scope=col>Southeast Asia, East Asia and Oceania</th><th scope=col>Sub-Saharian Africa</th></tr></thead>\n",
       "<tbody>\n",
       "\t<tr><th scope=row>Tuberculosis</th><td> 21</td><td> 91</td><td> 39</td><td> 19</td><td> 54</td><td> 70</td><td>151</td></tr>\n",
       "\t<tr><th scope=row>HIV/AIDS</th><td>  76</td><td>1076</td><td> 105</td><td>  35</td><td>  64</td><td> 145</td><td> 395</td></tr>\n",
       "\t<tr><th scope=row>Diarrhea, lower respiratory infections, meningitis, and other common infectious diseases</th><td> 288</td><td>2534</td><td> 248</td><td> 253</td><td> 357</td><td> 437</td><td> 150</td></tr>\n",
       "\t<tr><th scope=row>Malaria</th><td>  0</td><td> 71</td><td> 12</td><td>  0</td><td> 48</td><td> 68</td><td>321</td></tr>\n",
       "\t<tr><th scope=row>Neglected tropical diseases excluding malaria</th><td>  5</td><td>136</td><td> 78</td><td> 36</td><td> 50</td><td> 65</td><td> 73</td></tr>\n",
       "\t<tr><th scope=row>Maternal disorders</th><td> 13</td><td>511</td><td> 48</td><td>387</td><td> 79</td><td> 84</td><td> 43</td></tr>\n",
       "</tbody>\n",
       "</table>\n"
      ],
      "text/latex": [
       "\\begin{tabular}{r|lllllll}\n",
       "  & Central Europe, Eastern Europe, and Central Asia & High-income & Latin America and Caribbean & North Africa and Middle East & South Asia & Southeast Asia, East Asia and Oceania & Sub-Saharian Africa\\\\\n",
       "\\hline\n",
       "\tTuberculosis &  21 &  91 &  39 &  19 &  54 &  70 & 151\\\\\n",
       "\tHIV/AIDS &   76 & 1076 &  105 &   35 &   64 &  145 &  395\\\\\n",
       "\tDiarrhea, lower respiratory infections, meningitis, and other common infectious diseases &  288 & 2534 &  248 &  253 &  357 &  437 &  150\\\\\n",
       "\tMalaria &   0 &  71 &  12 &   0 &  48 &  68 & 321\\\\\n",
       "\tNeglected tropical diseases excluding malaria &   5 & 136 &  78 &  36 &  50 &  65 &  73\\\\\n",
       "\tMaternal disorders &  13 & 511 &  48 & 387 &  79 &  84 &  43\\\\\n",
       "\\end{tabular}\n"
      ],
      "text/plain": [
       "                                                                                         Central Europe, Eastern Europe, and Central Asia\n",
       "Tuberculosis                                                                                                                           21\n",
       "HIV/AIDS                                                                                                                               76\n",
       "Diarrhea, lower respiratory infections, meningitis, and other common infectious diseases                                              288\n",
       "Malaria                                                                                                                                 0\n",
       "Neglected tropical diseases excluding malaria                                                                                           5\n",
       "Maternal disorders                                                                                                                     13\n",
       "                                                                                         High-income\n",
       "Tuberculosis                                                                                      91\n",
       "HIV/AIDS                                                                                        1076\n",
       "Diarrhea, lower respiratory infections, meningitis, and other common infectious diseases        2534\n",
       "Malaria                                                                                           71\n",
       "Neglected tropical diseases excluding malaria                                                    136\n",
       "Maternal disorders                                                                               511\n",
       "                                                                                         Latin America and Caribbean\n",
       "Tuberculosis                                                                                                      39\n",
       "HIV/AIDS                                                                                                         105\n",
       "Diarrhea, lower respiratory infections, meningitis, and other common infectious diseases                         248\n",
       "Malaria                                                                                                           12\n",
       "Neglected tropical diseases excluding malaria                                                                     78\n",
       "Maternal disorders                                                                                                48\n",
       "                                                                                         North Africa and Middle East\n",
       "Tuberculosis                                                                                                       19\n",
       "HIV/AIDS                                                                                                           35\n",
       "Diarrhea, lower respiratory infections, meningitis, and other common infectious diseases                          253\n",
       "Malaria                                                                                                             0\n",
       "Neglected tropical diseases excluding malaria                                                                      36\n",
       "Maternal disorders                                                                                                387\n",
       "                                                                                         South Asia\n",
       "Tuberculosis                                                                                     54\n",
       "HIV/AIDS                                                                                         64\n",
       "Diarrhea, lower respiratory infections, meningitis, and other common infectious diseases        357\n",
       "Malaria                                                                                          48\n",
       "Neglected tropical diseases excluding malaria                                                    50\n",
       "Maternal disorders                                                                               79\n",
       "                                                                                         Southeast Asia, East Asia and Oceania\n",
       "Tuberculosis                                                                                                                70\n",
       "HIV/AIDS                                                                                                                   145\n",
       "Diarrhea, lower respiratory infections, meningitis, and other common infectious diseases                                   437\n",
       "Malaria                                                                                                                     68\n",
       "Neglected tropical diseases excluding malaria                                                                               65\n",
       "Maternal disorders                                                                                                          84\n",
       "                                                                                         Sub-Saharian Africa\n",
       "Tuberculosis                                                                                             151\n",
       "HIV/AIDS                                                                                                 395\n",
       "Diarrhea, lower respiratory infections, meningitis, and other common infectious diseases                 150\n",
       "Malaria                                                                                                  321\n",
       "Neglected tropical diseases excluding malaria                                                             73\n",
       "Maternal disorders                                                                                        43"
      ]
     },
     "metadata": {},
     "output_type": "display_data"
    }
   ],
   "source": [
    "head(Mt)"
   ]
  },
  {
   "cell_type": "markdown",
   "metadata": {},
   "source": [
    "We add column Tot with total number of RCTs per disease and row Tot with total number of RCTs per region (different from addition of rows and columns because of international trials and trials concerning several diseases)\n",
    "\n"
   ]
  },
  {
   "cell_type": "code",
   "execution_count": 24,
   "metadata": {
    "collapsed": false
   },
   "outputs": [],
   "source": [
    "Mt <- rbind(Mt,table(regs))\n",
    "rownames(Mt)[28] <- \"Tot\"\n",
    "#In regs, are also counted RCTs concerning more than 4 diseases, as we want to compare\n",
    "#regions across RCTs concerning the burden of diseases"
   ]
  },
  {
   "cell_type": "code",
   "execution_count": 25,
   "metadata": {
    "collapsed": false
   },
   "outputs": [],
   "source": [
    "Mt <- cbind(Mt,c(table(unlist(L)),nrow(data)))\n",
    "#When counting nb RCTs per disease, we do not count RCTs concerning more than 4 diseases"
   ]
  },
  {
   "cell_type": "code",
   "execution_count": 26,
   "metadata": {
    "collapsed": true
   },
   "outputs": [],
   "source": [
    "names(Mt)[8] <- \"Tot\""
   ]
  },
  {
   "cell_type": "code",
   "execution_count": 27,
   "metadata": {
    "collapsed": false
   },
   "outputs": [
    {
     "data": {
      "text/html": [
       "<table>\n",
       "<thead><tr><th></th><th scope=col>Central Europe, Eastern Europe, and Central Asia</th><th scope=col>High-income</th><th scope=col>Latin America and Caribbean</th><th scope=col>North Africa and Middle East</th><th scope=col>South Asia</th><th scope=col>Southeast Asia, East Asia and Oceania</th><th scope=col>Sub-Saharian Africa</th><th scope=col>Tot</th></tr></thead>\n",
       "<tbody>\n",
       "\t<tr><th scope=row>Tuberculosis</th><td> 21</td><td> 91</td><td> 39</td><td> 19</td><td> 54</td><td> 70</td><td>151</td><td>365</td></tr>\n",
       "\t<tr><th scope=row>HIV/AIDS</th><td>  76</td><td>1076</td><td> 105</td><td>  35</td><td>  64</td><td> 145</td><td> 395</td><td>1647</td></tr>\n",
       "\t<tr><th scope=row>Diarrhea, lower respiratory infections, meningitis, and other common infectious diseases</th><td> 288</td><td>2534</td><td> 248</td><td> 253</td><td> 357</td><td> 437</td><td> 150</td><td>3696</td></tr>\n",
       "\t<tr><th scope=row>Malaria</th><td>  0</td><td> 71</td><td> 12</td><td>  0</td><td> 48</td><td> 68</td><td>321</td><td>482</td></tr>\n",
       "\t<tr><th scope=row>Neglected tropical diseases excluding malaria</th><td>  5</td><td>136</td><td> 78</td><td> 36</td><td> 50</td><td> 65</td><td> 73</td><td>428</td></tr>\n",
       "\t<tr><th scope=row>Maternal disorders</th><td>  13</td><td> 511</td><td>  48</td><td> 387</td><td>  79</td><td>  84</td><td>  43</td><td>1126</td></tr>\n",
       "</tbody>\n",
       "</table>\n"
      ],
      "text/latex": [
       "\\begin{tabular}{r|llllllll}\n",
       "  & Central Europe, Eastern Europe, and Central Asia & High-income & Latin America and Caribbean & North Africa and Middle East & South Asia & Southeast Asia, East Asia and Oceania & Sub-Saharian Africa & Tot\\\\\n",
       "\\hline\n",
       "\tTuberculosis &  21 &  91 &  39 &  19 &  54 &  70 & 151 & 365\\\\\n",
       "\tHIV/AIDS &   76 & 1076 &  105 &   35 &   64 &  145 &  395 & 1647\\\\\n",
       "\tDiarrhea, lower respiratory infections, meningitis, and other common infectious diseases &  288 & 2534 &  248 &  253 &  357 &  437 &  150 & 3696\\\\\n",
       "\tMalaria &   0 &  71 &  12 &   0 &  48 &  68 & 321 & 482\\\\\n",
       "\tNeglected tropical diseases excluding malaria &   5 & 136 &  78 &  36 &  50 &  65 &  73 & 428\\\\\n",
       "\tMaternal disorders &   13 &  511 &   48 &  387 &   79 &   84 &   43 & 1126\\\\\n",
       "\\end{tabular}\n"
      ],
      "text/plain": [
       "                                                                                         Central Europe, Eastern Europe, and Central Asia\n",
       "Tuberculosis                                                                                                                           21\n",
       "HIV/AIDS                                                                                                                               76\n",
       "Diarrhea, lower respiratory infections, meningitis, and other common infectious diseases                                              288\n",
       "Malaria                                                                                                                                 0\n",
       "Neglected tropical diseases excluding malaria                                                                                           5\n",
       "Maternal disorders                                                                                                                     13\n",
       "                                                                                         High-income\n",
       "Tuberculosis                                                                                      91\n",
       "HIV/AIDS                                                                                        1076\n",
       "Diarrhea, lower respiratory infections, meningitis, and other common infectious diseases        2534\n",
       "Malaria                                                                                           71\n",
       "Neglected tropical diseases excluding malaria                                                    136\n",
       "Maternal disorders                                                                               511\n",
       "                                                                                         Latin America and Caribbean\n",
       "Tuberculosis                                                                                                      39\n",
       "HIV/AIDS                                                                                                         105\n",
       "Diarrhea, lower respiratory infections, meningitis, and other common infectious diseases                         248\n",
       "Malaria                                                                                                           12\n",
       "Neglected tropical diseases excluding malaria                                                                     78\n",
       "Maternal disorders                                                                                                48\n",
       "                                                                                         North Africa and Middle East\n",
       "Tuberculosis                                                                                                       19\n",
       "HIV/AIDS                                                                                                           35\n",
       "Diarrhea, lower respiratory infections, meningitis, and other common infectious diseases                          253\n",
       "Malaria                                                                                                             0\n",
       "Neglected tropical diseases excluding malaria                                                                      36\n",
       "Maternal disorders                                                                                                387\n",
       "                                                                                         South Asia\n",
       "Tuberculosis                                                                                     54\n",
       "HIV/AIDS                                                                                         64\n",
       "Diarrhea, lower respiratory infections, meningitis, and other common infectious diseases        357\n",
       "Malaria                                                                                          48\n",
       "Neglected tropical diseases excluding malaria                                                    50\n",
       "Maternal disorders                                                                               79\n",
       "                                                                                         Southeast Asia, East Asia and Oceania\n",
       "Tuberculosis                                                                                                                70\n",
       "HIV/AIDS                                                                                                                   145\n",
       "Diarrhea, lower respiratory infections, meningitis, and other common infectious diseases                                   437\n",
       "Malaria                                                                                                                     68\n",
       "Neglected tropical diseases excluding malaria                                                                               65\n",
       "Maternal disorders                                                                                                          84\n",
       "                                                                                         Sub-Saharian Africa\n",
       "Tuberculosis                                                                                             151\n",
       "HIV/AIDS                                                                                                 395\n",
       "Diarrhea, lower respiratory infections, meningitis, and other common infectious diseases                 150\n",
       "Malaria                                                                                                  321\n",
       "Neglected tropical diseases excluding malaria                                                             73\n",
       "Maternal disorders                                                                                        43\n",
       "                                                                                          Tot\n",
       "Tuberculosis                                                                              365\n",
       "HIV/AIDS                                                                                 1647\n",
       "Diarrhea, lower respiratory infections, meningitis, and other common infectious diseases 3696\n",
       "Malaria                                                                                   482\n",
       "Neglected tropical diseases excluding malaria                                             428\n",
       "Maternal disorders                                                                       1126"
      ]
     },
     "metadata": {},
     "output_type": "display_data"
    }
   ],
   "source": [
    "head(Mt)"
   ]
  },
  {
   "cell_type": "code",
   "execution_count": 28,
   "metadata": {
    "collapsed": false
   },
   "outputs": [
    {
     "data": {
      "text/html": [
       "<table>\n",
       "<thead><tr><th></th><th scope=col>Central Europe, Eastern Europe, and Central Asia</th><th scope=col>High-income</th><th scope=col>Latin America and Caribbean</th><th scope=col>North Africa and Middle East</th><th scope=col>South Asia</th><th scope=col>Southeast Asia, East Asia and Oceania</th><th scope=col>Sub-Saharian Africa</th><th scope=col>Tot</th></tr></thead>\n",
       "<tbody>\n",
       "\t<tr><th scope=row>Congenital anomalies</th><td>  69</td><td>1409</td><td>  55</td><td> 147</td><td>  53</td><td> 143</td><td>  16</td><td>1756</td></tr>\n",
       "\t<tr><th scope=row>Skin and subcutaneous diseases</th><td> 359</td><td>3289</td><td> 207</td><td> 430</td><td> 343</td><td> 349</td><td>  98</td><td>4463</td></tr>\n",
       "\t<tr><th scope=row>Sense organ diseases</th><td> 365</td><td>5256</td><td> 304</td><td> 366</td><td> 301</td><td> 493</td><td> 106</td><td>6444</td></tr>\n",
       "\t<tr><th scope=row>Oral disorders</th><td>  27</td><td> 535</td><td>  95</td><td> 216</td><td> 124</td><td>  93</td><td>   7</td><td>1068</td></tr>\n",
       "\t<tr><th scope=row>Sudden infant death syndrome</th><td>0</td><td>3</td><td>0</td><td>0</td><td>0</td><td>0</td><td>0</td><td>3</td></tr>\n",
       "\t<tr><th scope=row>Tot</th><td> 6998</td><td>67659</td><td> 4766</td><td> 8683</td><td> 4848</td><td> 9639</td><td> 2585</td><td>91696</td></tr>\n",
       "</tbody>\n",
       "</table>\n"
      ],
      "text/latex": [
       "\\begin{tabular}{r|llllllll}\n",
       "  & Central Europe, Eastern Europe, and Central Asia & High-income & Latin America and Caribbean & North Africa and Middle East & South Asia & Southeast Asia, East Asia and Oceania & Sub-Saharian Africa & Tot\\\\\n",
       "\\hline\n",
       "\tCongenital anomalies &   69 & 1409 &   55 &  147 &   53 &  143 &   16 & 1756\\\\\n",
       "\tSkin and subcutaneous diseases &  359 & 3289 &  207 &  430 &  343 &  349 &   98 & 4463\\\\\n",
       "\tSense organ diseases &  365 & 5256 &  304 &  366 &  301 &  493 &  106 & 6444\\\\\n",
       "\tOral disorders &   27 &  535 &   95 &  216 &  124 &   93 &    7 & 1068\\\\\n",
       "\tSudden infant death syndrome & 0 & 3 & 0 & 0 & 0 & 0 & 0 & 3\\\\\n",
       "\tTot &  6998 & 67659 &  4766 &  8683 &  4848 &  9639 &  2585 & 91696\\\\\n",
       "\\end{tabular}\n"
      ],
      "text/plain": [
       "                               Central Europe, Eastern Europe, and Central Asia\n",
       "Congenital anomalies                                                         69\n",
       "Skin and subcutaneous diseases                                              359\n",
       "Sense organ diseases                                                        365\n",
       "Oral disorders                                                               27\n",
       "Sudden infant death syndrome                                                  0\n",
       "Tot                                                                        6998\n",
       "                               High-income Latin America and Caribbean\n",
       "Congenital anomalies                  1409                          55\n",
       "Skin and subcutaneous diseases        3289                         207\n",
       "Sense organ diseases                  5256                         304\n",
       "Oral disorders                         535                          95\n",
       "Sudden infant death syndrome             3                           0\n",
       "Tot                                  67659                        4766\n",
       "                               North Africa and Middle East South Asia\n",
       "Congenital anomalies                                    147         53\n",
       "Skin and subcutaneous diseases                          430        343\n",
       "Sense organ diseases                                    366        301\n",
       "Oral disorders                                          216        124\n",
       "Sudden infant death syndrome                              0          0\n",
       "Tot                                                    8683       4848\n",
       "                               Southeast Asia, East Asia and Oceania\n",
       "Congenital anomalies                                             143\n",
       "Skin and subcutaneous diseases                                   349\n",
       "Sense organ diseases                                             493\n",
       "Oral disorders                                                    93\n",
       "Sudden infant death syndrome                                       0\n",
       "Tot                                                             9639\n",
       "                               Sub-Saharian Africa   Tot\n",
       "Congenital anomalies                            16  1756\n",
       "Skin and subcutaneous diseases                  98  4463\n",
       "Sense organ diseases                           106  6444\n",
       "Oral disorders                                   7  1068\n",
       "Sudden infant death syndrome                     0     3\n",
       "Tot                                           2585 91696"
      ]
     },
     "metadata": {},
     "output_type": "display_data"
    }
   ],
   "source": [
    "tail(Mt)"
   ]
  },
  {
   "cell_type": "code",
   "execution_count": 29,
   "metadata": {
    "collapsed": true
   },
   "outputs": [],
   "source": [
    "write.table(Mt,\"Mapping_Cancer/Tables/RCTs_data_per_region_and_27_diseases_2005_2015.txt\")\n"
   ]
  },
  {
   "cell_type": "markdown",
   "metadata": {
    "collapsed": true
   },
   "source": [
    "## Number of patients enrolled per region and disease\n",
    "We count the number of patients enrolled per region and disease. \n",
    "1. We divide the number of patients across regions depending on nb of countries per region\n",
    "2. We count several times patients enrolled in RCTs concerning several diseases (up to 3) to take into account co-morbidity\n",
    "3. We will also count the number of patients enrolled per region, takinginto account trials concerning more than 3 dis.\n"
   ]
  },
  {
   "cell_type": "code",
   "execution_count": 30,
   "metadata": {
    "collapsed": false,
    "scrolled": true
   },
   "outputs": [
    {
     "data": {
      "text/html": [
       "<ol class=list-inline>\n",
       "\t<li>85358</li>\n",
       "\t<li>29</li>\n",
       "</ol>\n"
      ],
      "text/latex": [
       "\\begin{enumerate*}\n",
       "\\item 85358\n",
       "\\item 29\n",
       "\\end{enumerate*}\n"
      ],
      "text/markdown": [
       "1. 85358\n",
       "2. 29\n",
       "\n",
       "\n"
      ],
      "text/plain": [
       "[1] 85358    29"
      ]
     },
     "metadata": {},
     "output_type": "display_data"
    }
   ],
   "source": [
    "data <- data0\n",
    "GBD27 <- sapply(strsplit(as.character(data$GBD28),\"&\"),function(x){paste(x[x!=\"28\"],collapse=\"&\")})\n",
    "data$GBD27 <- GBD27\n",
    "\n",
    "#Trials relevant to the burden of diseases\n",
    "data <- data[data$GBD27!=\"\",]\n",
    "#Trials with sample size information\n",
    "data <- data[!is.na(data$Sample),]\n",
    "\n",
    "dim(data)"
   ]
  },
  {
   "cell_type": "code",
   "execution_count": 33,
   "metadata": {
    "collapsed": false,
    "scrolled": false
   },
   "outputs": [
    {
     "data": {
      "text/plain": [
       "    Min.  1st Qu.   Median     Mean  3rd Qu.     Max. \n",
       "       1       48      100      770      234 20120000 "
      ]
     },
     "metadata": {},
     "output_type": "display_data"
    },
    {
     "data": {
      "text/plain": [
       "\n",
       "FALSE  TRUE \n",
       "85331    27 "
      ]
     },
     "metadata": {},
     "output_type": "display_data"
    },
    {
     "data": {
      "text/plain": [
       "\n",
       "FALSE  TRUE \n",
       "80863  4495 "
      ]
     },
     "metadata": {},
     "output_type": "display_data"
    }
   ],
   "source": [
    "summary(data$Sample)\n",
    "table(data$Sample>=150000)\n",
    "table(data$Sample<20)\n",
    "#head(data[order(data$Sample,decreasing=TRUE),])"
   ]
  },
  {
   "cell_type": "code",
   "execution_count": 34,
   "metadata": {
    "collapsed": false
   },
   "outputs": [],
   "source": [
    "data <- data[data$Sample>=20 & data$Sample<=150000,]"
   ]
  },
  {
   "cell_type": "code",
   "execution_count": 35,
   "metadata": {
    "collapsed": false,
    "scrolled": true
   },
   "outputs": [
    {
     "data": {
      "text/html": [
       "<ol class=list-inline>\n",
       "\t<li>80836</li>\n",
       "\t<li>29</li>\n",
       "</ol>\n"
      ],
      "text/latex": [
       "\\begin{enumerate*}\n",
       "\\item 80836\n",
       "\\item 29\n",
       "\\end{enumerate*}\n"
      ],
      "text/markdown": [
       "1. 80836\n",
       "2. 29\n",
       "\n",
       "\n"
      ],
      "text/plain": [
       "[1] 80836    29"
      ]
     },
     "metadata": {},
     "output_type": "display_data"
    },
    {
     "data": {
      "text/plain": [
       "    Min.  1st Qu.   Median     Mean  3rd Qu.     Max. \n",
       "    20.0     54.0    100.0    402.9    244.0 145000.0 "
      ]
     },
     "metadata": {},
     "output_type": "display_data"
    }
   ],
   "source": [
    "#We suppress the trial with more than 20million patients, it must be an error\n",
    "#And trials with 1 patient enrolled (also an error)\n",
    "\n",
    "dim(data)\n",
    "summary(data$Sample)\n"
   ]
  },
  {
   "cell_type": "code",
   "execution_count": 36,
   "metadata": {
    "collapsed": false
   },
   "outputs": [],
   "source": [
    "#Nb of patients per region\n",
    "nb_ctrs <- lapply(strsplit(as.character(data$Nb_ctr_per_reg),'&'),as.numeric)\n",
    "RGs <-strsplit(as.character(data$Regions),'&')"
   ]
  },
  {
   "cell_type": "code",
   "execution_count": 37,
   "metadata": {
    "collapsed": false,
    "scrolled": true
   },
   "outputs": [
    {
     "data": {
      "text/html": [
       "93995"
      ],
      "text/latex": [
       "93995"
      ],
      "text/markdown": [
       "93995"
      ],
      "text/plain": [
       "[1] 93995"
      ]
     },
     "metadata": {},
     "output_type": "display_data"
    },
    {
     "data": {
      "text/html": [
       "93995"
      ],
      "text/latex": [
       "93995"
      ],
      "text/markdown": [
       "93995"
      ],
      "text/plain": [
       "[1] 93995"
      ]
     },
     "metadata": {},
     "output_type": "display_data"
    }
   ],
   "source": [
    "length(unlist(nb_ctrs))\n",
    "length(unlist(RGs))"
   ]
  },
  {
   "cell_type": "code",
   "execution_count": 38,
   "metadata": {
    "collapsed": true
   },
   "outputs": [],
   "source": [
    "dsp <- data.frame(\n",
    "             nb_ctrs = unlist(nb_ctrs),\n",
    "             sample = rep(data$Sample,sapply(nb_ctrs,length)),\n",
    "             tt_nb_ctrs = rep(sapply(nb_ctrs,sum),sapply(nb_ctrs,length)))\n",
    "dsp$reg <- unlist(RGs)"
   ]
  },
  {
   "cell_type": "code",
   "execution_count": 39,
   "metadata": {
    "collapsed": false,
    "scrolled": true
   },
   "outputs": [
    {
     "data": {
      "text/html": [
       "<table>\n",
       "<thead><tr><th></th><th scope=col>nb_ctrs</th><th scope=col>sample</th><th scope=col>tt_nb_ctrs</th><th scope=col>reg</th></tr></thead>\n",
       "<tbody>\n",
       "\t<tr><th scope=row>1</th><td>1          </td><td>1175       </td><td>1          </td><td>High-income</td></tr>\n",
       "\t<tr><th scope=row>2</th><td>1          </td><td>20         </td><td>1          </td><td>High-income</td></tr>\n",
       "\t<tr><th scope=row>3</th><td>1          </td><td>62         </td><td>1          </td><td>High-income</td></tr>\n",
       "\t<tr><th scope=row>4</th><td>1          </td><td>373        </td><td>1          </td><td>High-income</td></tr>\n",
       "\t<tr><th scope=row>5</th><td>1                          </td><td>106                        </td><td>1                          </td><td>Latin America and Caribbean</td></tr>\n",
       "\t<tr><th scope=row>6</th><td>1          </td><td>50         </td><td>1          </td><td>High-income</td></tr>\n",
       "</tbody>\n",
       "</table>\n"
      ],
      "text/latex": [
       "\\begin{tabular}{r|llll}\n",
       "  & nb\\_ctrs & sample & tt\\_nb\\_ctrs & reg\\\\\n",
       "\\hline\n",
       "\t1 & 1           & 1175        & 1           & High-income\\\\\n",
       "\t2 & 1           & 20          & 1           & High-income\\\\\n",
       "\t3 & 1           & 62          & 1           & High-income\\\\\n",
       "\t4 & 1           & 373         & 1           & High-income\\\\\n",
       "\t5 & 1                           & 106                         & 1                           & Latin America and Caribbean\\\\\n",
       "\t6 & 1           & 50          & 1           & High-income\\\\\n",
       "\\end{tabular}\n"
      ],
      "text/plain": [
       "  nb_ctrs sample tt_nb_ctrs                         reg\n",
       "1       1   1175          1                 High-income\n",
       "2       1     20          1                 High-income\n",
       "3       1     62          1                 High-income\n",
       "4       1    373          1                 High-income\n",
       "5       1    106          1 Latin America and Caribbean\n",
       "6       1     50          1                 High-income"
      ]
     },
     "metadata": {},
     "output_type": "display_data"
    }
   ],
   "source": [
    "head(dsp)"
   ]
  },
  {
   "cell_type": "code",
   "execution_count": 40,
   "metadata": {
    "collapsed": false
   },
   "outputs": [],
   "source": [
    "dsp$spl_ctrs <- (dsp$sample*dsp$nb_ctrs)/dsp$tt_nb_ctrs"
   ]
  },
  {
   "cell_type": "code",
   "execution_count": 41,
   "metadata": {
    "collapsed": false
   },
   "outputs": [
    {
     "data": {
      "text/html": [
       "<dl class=dl-horizontal>\n",
       "\t<dt>Central Europe, Eastern Europe, and Central Asia</dt>\n",
       "\t\t<dd>1713426.6592433</dd>\n",
       "\t<dt>High-income</dt>\n",
       "\t\t<dd>20877389.1954554</dd>\n",
       "\t<dt>Latin America and Caribbean</dt>\n",
       "\t\t<dd>932054.339001144</dd>\n",
       "\t<dt>North Africa and Middle East</dt>\n",
       "\t\t<dd>899010.777654689</dd>\n",
       "\t<dt>South Asia</dt>\n",
       "\t\t<dd>1758042.59042464</dd>\n",
       "\t<dt>Southeast Asia, East Asia and Oceania</dt>\n",
       "\t\t<dd>3340414.39791362</dd>\n",
       "\t<dt>Sub-Saharian Africa</dt>\n",
       "\t\t<dd>3045884.04030717</dd>\n",
       "</dl>\n"
      ],
      "text/markdown": [
       "Central Europe, Eastern Europe, and Central Asia\n",
       ":   1713426.6592433High-income\n",
       ":   20877389.1954554Latin America and Caribbean\n",
       ":   932054.339001144North Africa and Middle East\n",
       ":   899010.777654689South Asia\n",
       ":   1758042.59042464Southeast Asia, East Asia and Oceania\n",
       ":   3340414.39791362Sub-Saharian Africa\n",
       ":   3045884.04030717\n",
       "\n"
      ],
      "text/plain": [
       "Central Europe, Eastern Europe, and Central Asia \n",
       "                                       1713426.7 \n",
       "                                     High-income \n",
       "                                      20877389.2 \n",
       "                     Latin America and Caribbean \n",
       "                                        932054.3 \n",
       "                    North Africa and Middle East \n",
       "                                        899010.8 \n",
       "                                      South Asia \n",
       "                                       1758042.6 \n",
       "           Southeast Asia, East Asia and Oceania \n",
       "                                       3340414.4 \n",
       "                             Sub-Saharian Africa \n",
       "                                       3045884.0 "
      ]
     },
     "metadata": {},
     "output_type": "display_data"
    },
    {
     "data": {
      "text/html": [
       "32566222"
      ],
      "text/latex": [
       "32566222"
      ],
      "text/markdown": [
       "32566222"
      ],
      "text/plain": [
       "[1] 32566222"
      ]
     },
     "metadata": {},
     "output_type": "display_data"
    },
    {
     "data": {
      "text/html": [
       "32566222"
      ],
      "text/latex": [
       "32566222"
      ],
      "text/markdown": [
       "32566222"
      ],
      "text/plain": [
       "[1] 32566222"
      ]
     },
     "metadata": {},
     "output_type": "display_data"
    }
   ],
   "source": [
    "tot <- tapply(dsp$spl_ctrs,dsp$reg,sum)\n",
    "tot\n",
    "sum(dsp$spl_ctrs)\n",
    "sum(data$Sample)\n"
   ]
  },
  {
   "cell_type": "code",
   "execution_count": 42,
   "metadata": {
    "collapsed": false
   },
   "outputs": [
    {
     "data": {
      "text/html": [
       "<dl class=dl-horizontal>\n",
       "\t<dt>North Africa and Middle East</dt>\n",
       "\t\t<dd>899010.777654689</dd>\n",
       "\t<dt>Latin America and Caribbean</dt>\n",
       "\t\t<dd>932054.339001144</dd>\n",
       "\t<dt>Central Europe, Eastern Europe, and Central Asia</dt>\n",
       "\t\t<dd>1713426.6592433</dd>\n",
       "\t<dt>South Asia</dt>\n",
       "\t\t<dd>1758042.59042464</dd>\n",
       "\t<dt>Sub-Saharian Africa</dt>\n",
       "\t\t<dd>3045884.04030717</dd>\n",
       "\t<dt>Southeast Asia, East Asia and Oceania</dt>\n",
       "\t\t<dd>3340414.39791362</dd>\n",
       "\t<dt>High-income</dt>\n",
       "\t\t<dd>20877389.1954554</dd>\n",
       "</dl>\n"
      ],
      "text/markdown": [
       "North Africa and Middle East\n",
       ":   899010.777654689Latin America and Caribbean\n",
       ":   932054.339001144Central Europe, Eastern Europe, and Central Asia\n",
       ":   1713426.6592433South Asia\n",
       ":   1758042.59042464Sub-Saharian Africa\n",
       ":   3045884.04030717Southeast Asia, East Asia and Oceania\n",
       ":   3340414.39791362High-income\n",
       ":   20877389.1954554\n",
       "\n"
      ],
      "text/plain": [
       "                    North Africa and Middle East \n",
       "                                        899010.8 \n",
       "                     Latin America and Caribbean \n",
       "                                        932054.3 \n",
       "Central Europe, Eastern Europe, and Central Asia \n",
       "                                       1713426.7 \n",
       "                                      South Asia \n",
       "                                       1758042.6 \n",
       "                             Sub-Saharian Africa \n",
       "                                       3045884.0 \n",
       "           Southeast Asia, East Asia and Oceania \n",
       "                                       3340414.4 \n",
       "                                     High-income \n",
       "                                      20877389.2 "
      ]
     },
     "metadata": {},
     "output_type": "display_data"
    }
   ],
   "source": [
    "sort(tot)"
   ]
  },
  {
   "cell_type": "code",
   "execution_count": 43,
   "metadata": {
    "collapsed": false
   },
   "outputs": [
    {
     "data": {
      "text/html": [
       "<ol class=list-inline>\n",
       "\t<li>80785</li>\n",
       "\t<li>29</li>\n",
       "</ol>\n"
      ],
      "text/latex": [
       "\\begin{enumerate*}\n",
       "\\item 80785\n",
       "\\item 29\n",
       "\\end{enumerate*}\n"
      ],
      "text/markdown": [
       "1. 80785\n",
       "2. 29\n",
       "\n",
       "\n"
      ],
      "text/plain": [
       "[1] 80785    29"
      ]
     },
     "metadata": {},
     "output_type": "display_data"
    }
   ],
   "source": [
    "#For each disease nb of patients per region\n",
    "#We supress trials concerning more than 3 diseases\n",
    "#Patients in trials concerning several diseases are counted several times\n",
    "L <- lapply(strsplit(data$GBD27,\"&\"),as.numeric)\n",
    "data <- data[sapply(L,length)<=4,]\n",
    "L <- L[sapply(L,length)<=4]\n",
    "dim(data)"
   ]
  },
  {
   "cell_type": "code",
   "execution_count": 44,
   "metadata": {
    "collapsed": true
   },
   "outputs": [],
   "source": [
    "nb_ctrs <- lapply(strsplit(as.character(data$Nb_ctr_per_reg),'&'),as.numeric)\n",
    "RGs <-strsplit(as.character(data$Regions),'&')\n"
   ]
  },
  {
   "cell_type": "code",
   "execution_count": 45,
   "metadata": {
    "collapsed": true
   },
   "outputs": [
    {
     "name": "stderr",
     "output_type": "stream",
     "text": [
      "gdata: read.xls support for 'XLS' (Excel 97-2004) files ENABLED.\n",
      "\n",
      "gdata: read.xls support for 'XLSX' (Excel 2007+) files ENABLED.\n",
      "\n",
      "Attaching package: ‘gdata’\n",
      "\n",
      "The following object is masked from ‘package:data.table’:\n",
      "\n",
      "    last\n",
      "\n",
      "The following object is masked from ‘package:stats’:\n",
      "\n",
      "    nobs\n",
      "\n",
      "The following object is masked from ‘package:utils’:\n",
      "\n",
      "    object.size\n",
      "\n",
      "The following object is masked from ‘package:base’:\n",
      "\n",
      "    startsWith\n",
      "\n"
     ]
    }
   ],
   "source": [
    "library(gdata)"
   ]
  },
  {
   "cell_type": "code",
   "execution_count": 46,
   "metadata": {
    "collapsed": false,
    "scrolled": true
   },
   "outputs": [
    {
     "data": {
      "text/plain": [
       "   user  system elapsed \n",
       " 17.220   0.000  17.234 "
      ]
     },
     "metadata": {},
     "output_type": "display_data"
    }
   ],
   "source": [
    "Mt <- tot\n",
    "t0 <- proc.time()\n",
    "\n",
    "for(i in 1:27){\n",
    "\n",
    "    trs <- sapply(L,function(x){i %in% x})\n",
    "    dsp <- data.frame(nb_ctrs = unlist(nb_ctrs[trs]),\n",
    "                      sample = rep(data$Sample[trs],sapply(nb_ctrs[trs],length)),\n",
    "                      tt_nb_ctrs = rep(sapply(nb_ctrs[trs],sum),sapply(nb_ctrs[trs],length)))\n",
    "    dsp$reg <- unlist(RGs[trs])\n",
    "    dsp$reg <- factor(dsp$reg)\n",
    "    levels(dsp$reg) <- c(levels(dsp$reg),setdiff(levels(dsp$reg),RGS))\n",
    "    dsp$reg <- reorder(dsp$reg,new.order=RGS)\n",
    "    dsp$spl_ctrs <- (dsp$sample*dsp$nb_ctrs)/dsp$tt_nb_ctrs\n",
    "   \n",
    "    Mt <- rbind(Mt,tapply(dsp$spl_ctrs,dsp$reg,sum))\n",
    "\n",
    "}\n",
    "t1 <- proc.time() - t0\n",
    "t1\n",
    "#12s\n"
   ]
  },
  {
   "cell_type": "code",
   "execution_count": 47,
   "metadata": {
    "collapsed": false
   },
   "outputs": [],
   "source": [
    "rownames(Mt) <- c(\"Tot\",as.character(Mgbd$cause_name)[-28])"
   ]
  },
  {
   "cell_type": "code",
   "execution_count": 48,
   "metadata": {
    "collapsed": false,
    "scrolled": true
   },
   "outputs": [
    {
     "data": {
      "text/html": [
       "<table>\n",
       "<thead><tr><th></th><th scope=col>Central Europe, Eastern Europe, and Central Asia</th><th scope=col>High-income</th><th scope=col>Latin America and Caribbean</th><th scope=col>North Africa and Middle East</th><th scope=col>South Asia</th><th scope=col>Southeast Asia, East Asia and Oceania</th><th scope=col>Sub-Saharian Africa</th></tr></thead>\n",
       "<tbody>\n",
       "\t<tr><th scope=row>Tot</th><td> 1713426.7</td><td>20877389.2</td><td>  932054.3</td><td>  899010.8</td><td> 1758042.6</td><td> 3340414.4</td><td> 3045884.0</td></tr>\n",
       "\t<tr><th scope=row>Tuberculosis</th><td>  4657.024</td><td> 19467.700</td><td> 46191.902</td><td>  3501.170</td><td> 20352.418</td><td> 38466.521</td><td>293629.265</td></tr>\n",
       "\t<tr><th scope=row>HIV/AIDS</th><td> 16842.588</td><td>348941.491</td><td> 19676.789</td><td>  3156.296</td><td> 64300.766</td><td> 52819.900</td><td>396633.169</td></tr>\n",
       "\t<tr><th scope=row>Diarrhea, lower respiratory infections, meningitis, and other common infectious diseases</th><td> 139200.46</td><td>1717617.22</td><td> 127516.11</td><td>  33284.17</td><td> 343141.78</td><td> 235693.09</td><td> 212975.16</td></tr>\n",
       "\t<tr><th scope=row>Malaria</th><td>       NA</td><td>  5707.00</td><td>  1509.35</td><td>       NA</td><td> 19380.31</td><td> 91860.59</td><td>886637.75</td></tr>\n",
       "\t<tr><th scope=row>Neglected tropical diseases excluding malaria</th><td>  2005.00</td><td> 49035.07</td><td>136902.43</td><td>  6006.00</td><td> 32386.00</td><td> 79727.00</td><td>720456.50</td></tr>\n",
       "\t<tr><th scope=row>Maternal disorders</th><td>  6212.056</td><td>207783.200</td><td> 21603.489</td><td> 65770.478</td><td>141330.667</td><td> 59289.167</td><td>118040.944</td></tr>\n",
       "\t<tr><th scope=row>Neonatal disorders</th><td>  4723.14</td><td>218263.89</td><td> 12924.29</td><td> 21759.18</td><td>191895.63</td><td> 12550.24</td><td> 71058.64</td></tr>\n",
       "\t<tr><th scope=row>Nutritional deficiencies</th><td> 19727.84</td><td>177183.23</td><td> 28688.77</td><td> 22856.03</td><td>171603.92</td><td>122520.83</td><td>187059.38</td></tr>\n",
       "\t<tr><th scope=row>Sexually transmitted diseases excluding HIV</th><td>   579.3333</td><td>142601.1667</td><td>  8047.3333</td><td>  9666.0000</td><td>  4663.0000</td><td> 24964.1667</td><td>  9788.0000</td></tr>\n",
       "\t<tr><th scope=row>Hepatitis</th><td> 12796.517</td><td>166786.236</td><td> 26265.892</td><td>  5845.663</td><td> 16300.402</td><td>186780.551</td><td>  2059.738</td></tr>\n",
       "\t<tr><th scope=row>Leprosy</th><td> 1905.067</td><td>37408.433</td><td> 2660.000</td><td>  786.000</td><td> 3213.250</td><td> 9379.250</td><td>  458.000</td></tr>\n",
       "\t<tr><th scope=row>Neoplasms</th><td> 263835.12</td><td>5416779.47</td><td>  74908.00</td><td>  65867.71</td><td> 108231.36</td><td> 567090.99</td><td>  35501.35</td></tr>\n",
       "\t<tr><th scope=row>Cardiovascular and circulatory diseases</th><td> 377690.42</td><td>3290323.87</td><td> 119634.42</td><td> 164367.05</td><td> 113359.33</td><td> 706760.79</td><td>  79465.12</td></tr>\n",
       "\t<tr><th scope=row>Chronic respiratory diseases</th><td> 194172.19</td><td>1199983.31</td><td>  48150.77</td><td>  28788.96</td><td>  35282.67</td><td>  96467.87</td><td>  64125.24</td></tr>\n",
       "\t<tr><th scope=row>Cirrhosis of the liver</th><td> 11026.059</td><td>206196.682</td><td>  4995.968</td><td> 68342.451</td><td> 16123.131</td><td>203393.264</td><td>  1910.444</td></tr>\n",
       "\t<tr><th scope=row>Digestive diseases (except cirrhosis)</th><td> 57236.85</td><td>706290.51</td><td> 34155.40</td><td> 70643.68</td><td> 77350.28</td><td>179313.66</td><td>220174.62</td></tr>\n",
       "\t<tr><th scope=row>Neurological disorders</th><td>  81110.77</td><td>1135678.89</td><td>  22425.82</td><td>  48326.80</td><td>  56419.76</td><td>  98654.11</td><td>  29116.83</td></tr>\n",
       "\t<tr><th scope=row>Mental and behavioral disorders</th><td>  93508.85</td><td>2007291.94</td><td>  46457.31</td><td>  81678.02</td><td>  56616.27</td><td> 167786.88</td><td>  61940.72</td></tr>\n",
       "\t<tr><th scope=row>Diabetes, urinary diseases and male infertility</th><td> 268715.95</td><td>2803160.13</td><td> 118048.50</td><td> 182661.18</td><td> 151492.67</td><td> 594308.72</td><td>  49205.86</td></tr>\n",
       "\t<tr><th scope=row>Gynecological diseases</th><td> 11166.01</td><td>504032.72</td><td> 15332.33</td><td> 91717.98</td><td> 54575.12</td><td> 98390.93</td><td> 49115.90</td></tr>\n",
       "\t<tr><th scope=row>Hemoglobinopathies and hemolytic anemias</th><td>  243.6667</td><td>13389.5740</td><td>  903.6799</td><td> 3649.8294</td><td>  455.0000</td><td> 2130.0000</td><td> 1787.2500</td></tr>\n",
       "\t<tr><th scope=row>Musculoskeletal disorders</th><td> 127486.06</td><td>1287959.38</td><td>  66885.91</td><td>  45739.38</td><td>  40228.63</td><td> 104109.62</td><td>  34711.02</td></tr>\n",
       "\t<tr><th scope=row>Congenital anomalies</th><td> 11775.032</td><td>260009.832</td><td>  6589.378</td><td> 12246.398</td><td>  7117.773</td><td> 27916.340</td><td>  1300.247</td></tr>\n",
       "\t<tr><th scope=row>Skin and subcutaneous diseases</th><td> 65612.95</td><td>699263.09</td><td> 36523.59</td><td> 28655.63</td><td> 95375.37</td><td> 94743.06</td><td> 65428.30</td></tr>\n",
       "\t<tr><th scope=row>Sense organ diseases</th><td> 59635.00</td><td>922168.91</td><td> 33871.58</td><td> 30427.89</td><td> 77263.28</td><td>159900.56</td><td> 56333.78</td></tr>\n",
       "\t<tr><th scope=row>Oral disorders</th><td>  3384.989</td><td>104009.531</td><td> 10455.369</td><td> 11795.857</td><td>115025.286</td><td> 23831.238</td><td>  2580.730</td></tr>\n",
       "\t<tr><th scope=row>Sudden infant death syndrome</th><td>  NA</td><td>1377</td><td>  NA</td><td>  NA</td><td>  NA</td><td>  NA</td><td>  NA</td></tr>\n",
       "</tbody>\n",
       "</table>\n"
      ],
      "text/latex": [
       "\\begin{tabular}{r|lllllll}\n",
       "  & Central Europe, Eastern Europe, and Central Asia & High-income & Latin America and Caribbean & North Africa and Middle East & South Asia & Southeast Asia, East Asia and Oceania & Sub-Saharian Africa\\\\\n",
       "\\hline\n",
       "\tTot &  1713426.7 & 20877389.2 &   932054.3 &   899010.8 &  1758042.6 &  3340414.4 &  3045884.0\\\\\n",
       "\tTuberculosis &   4657.024 &  19467.700 &  46191.902 &   3501.170 &  20352.418 &  38466.521 & 293629.265\\\\\n",
       "\tHIV/AIDS &  16842.588 & 348941.491 &  19676.789 &   3156.296 &  64300.766 &  52819.900 & 396633.169\\\\\n",
       "\tDiarrhea, lower respiratory infections, meningitis, and other common infectious diseases &  139200.46 & 1717617.22 &  127516.11 &   33284.17 &  343141.78 &  235693.09 &  212975.16\\\\\n",
       "\tMalaria &        NA &   5707.00 &   1509.35 &        NA &  19380.31 &  91860.59 & 886637.75\\\\\n",
       "\tNeglected tropical diseases excluding malaria &   2005.00 &  49035.07 & 136902.43 &   6006.00 &  32386.00 &  79727.00 & 720456.50\\\\\n",
       "\tMaternal disorders &   6212.056 & 207783.200 &  21603.489 &  65770.478 & 141330.667 &  59289.167 & 118040.944\\\\\n",
       "\tNeonatal disorders &   4723.14 & 218263.89 &  12924.29 &  21759.18 & 191895.63 &  12550.24 &  71058.64\\\\\n",
       "\tNutritional deficiencies &  19727.84 & 177183.23 &  28688.77 &  22856.03 & 171603.92 & 122520.83 & 187059.38\\\\\n",
       "\tSexually transmitted diseases excluding HIV &    579.3333 & 142601.1667 &   8047.3333 &   9666.0000 &   4663.0000 &  24964.1667 &   9788.0000\\\\\n",
       "\tHepatitis &  12796.517 & 166786.236 &  26265.892 &   5845.663 &  16300.402 & 186780.551 &   2059.738\\\\\n",
       "\tLeprosy &  1905.067 & 37408.433 &  2660.000 &   786.000 &  3213.250 &  9379.250 &   458.000\\\\\n",
       "\tNeoplasms &  263835.12 & 5416779.47 &   74908.00 &   65867.71 &  108231.36 &  567090.99 &   35501.35\\\\\n",
       "\tCardiovascular and circulatory diseases &  377690.42 & 3290323.87 &  119634.42 &  164367.05 &  113359.33 &  706760.79 &   79465.12\\\\\n",
       "\tChronic respiratory diseases &  194172.19 & 1199983.31 &   48150.77 &   28788.96 &   35282.67 &   96467.87 &   64125.24\\\\\n",
       "\tCirrhosis of the liver &  11026.059 & 206196.682 &   4995.968 &  68342.451 &  16123.131 & 203393.264 &   1910.444\\\\\n",
       "\tDigestive diseases (except cirrhosis) &  57236.85 & 706290.51 &  34155.40 &  70643.68 &  77350.28 & 179313.66 & 220174.62\\\\\n",
       "\tNeurological disorders &   81110.77 & 1135678.89 &   22425.82 &   48326.80 &   56419.76 &   98654.11 &   29116.83\\\\\n",
       "\tMental and behavioral disorders &   93508.85 & 2007291.94 &   46457.31 &   81678.02 &   56616.27 &  167786.88 &   61940.72\\\\\n",
       "\tDiabetes, urinary diseases and male infertility &  268715.95 & 2803160.13 &  118048.50 &  182661.18 &  151492.67 &  594308.72 &   49205.86\\\\\n",
       "\tGynecological diseases &  11166.01 & 504032.72 &  15332.33 &  91717.98 &  54575.12 &  98390.93 &  49115.90\\\\\n",
       "\tHemoglobinopathies and hemolytic anemias &   243.6667 & 13389.5740 &   903.6799 &  3649.8294 &   455.0000 &  2130.0000 &  1787.2500\\\\\n",
       "\tMusculoskeletal disorders &  127486.06 & 1287959.38 &   66885.91 &   45739.38 &   40228.63 &  104109.62 &   34711.02\\\\\n",
       "\tCongenital anomalies &  11775.032 & 260009.832 &   6589.378 &  12246.398 &   7117.773 &  27916.340 &   1300.247\\\\\n",
       "\tSkin and subcutaneous diseases &  65612.95 & 699263.09 &  36523.59 &  28655.63 &  95375.37 &  94743.06 &  65428.30\\\\\n",
       "\tSense organ diseases &  59635.00 & 922168.91 &  33871.58 &  30427.89 &  77263.28 & 159900.56 &  56333.78\\\\\n",
       "\tOral disorders &   3384.989 & 104009.531 &  10455.369 &  11795.857 & 115025.286 &  23831.238 &   2580.730\\\\\n",
       "\tSudden infant death syndrome &   NA & 1377 &   NA &   NA &   NA &   NA &   NA\\\\\n",
       "\\end{tabular}\n"
      ],
      "text/markdown": [
       "1. 1713426.6592433\n",
       "2. 4657.02380952381\n",
       "3. 16842.5882230728\n",
       "4. 139200.464702837\n",
       "5. NA\n",
       "6. 2005\n",
       "7. 6212.05555555556\n",
       "8. 4723.13980668454\n",
       "9. 19727.8391813928\n",
       "10. 579.333333333333\n",
       "11. 12796.5170261033\n",
       "12. 1905.06666666667\n",
       "13. 263835.115923282\n",
       "14. 377690.4182711\n",
       "15. 194172.186204048\n",
       "16. 11026.0590052792\n",
       "17. 57236.8498648502\n",
       "18. 81110.7748861657\n",
       "19. 93508.853888711\n",
       "20. 268715.946908844\n",
       "21. 11166.0109965198\n",
       "22. 243.666666666667\n",
       "23. 127486.059836003\n",
       "24. 11775.0319657893\n",
       "25. 65612.9538501984\n",
       "26. 59635.0010168615\n",
       "27. 3384.98931623932\n",
       "28. NA\n",
       "29. 20877389.1954554\n",
       "30. 19467.7\n",
       "31. 348941.491207576\n",
       "32. 1717617.22098051\n",
       "33. 5707\n",
       "34. 49035.0714285714\n",
       "35. 207783.2\n",
       "36. 218263.890131798\n",
       "37. 177183.23300653\n",
       "38. 142601.166666667\n",
       "39. 166786.235935613\n",
       "40. 37408.4333333333\n",
       "41. 5416779.46621553\n",
       "42. 3290323.86723714\n",
       "43. 1199983.30732777\n",
       "44. 206196.681967096\n",
       "45. 706290.508845734\n",
       "46. 1135678.89499667\n",
       "47. 2007291.94097484\n",
       "48. 2803160.13189236\n",
       "49. 504032.722897038\n",
       "50. 13389.574025974\n",
       "51. 1287959.38408855\n",
       "52. 260009.832490258\n",
       "53. 699263.088392638\n",
       "54. 922168.91068002\n",
       "55. 104009.530525031\n",
       "56. 1377\n",
       "57. 932054.339001144\n",
       "58. 46191.901984127\n",
       "59. 19676.7891151418\n",
       "60. 127516.114033773\n",
       "61. 1509.35\n",
       "62. 136902.428571429\n",
       "63. 21603.4888888889\n",
       "64. 12924.2880724539\n",
       "65. 28688.7664487811\n",
       "66. 8047.33333333333\n",
       "67. 26265.891835849\n",
       "68. 2660\n",
       "69. 74908.0032789259\n",
       "70. 119634.422935237\n",
       "71. 48150.7708463991\n",
       "72. 4995.96836766605\n",
       "73. 34155.40108948\n",
       "74. 22425.8224843597\n",
       "75. 46457.3076192212\n",
       "76. 118048.495688233\n",
       "77. 15332.3333333333\n",
       "78. 903.67987012987\n",
       "79. 66885.9096770814\n",
       "80. 6589.37817021001\n",
       "81. 36523.5947764676\n",
       "82. 33871.5799030343\n",
       "83. 10455.369047619\n",
       "84. NA\n",
       "85. 899010.777654689\n",
       "86. 3501.16984126984\n",
       "87. 3156.29572649573\n",
       "88. 33284.1724019517\n",
       "89. NA\n",
       "90. 6006\n",
       "91. 65770.4777777778\n",
       "92. 21759.1785714286\n",
       "93. 22856.0280961854\n",
       "94. 9666\n",
       "95. 5845.66348787355\n",
       "96. 786\n",
       "97. 65867.7094789276\n",
       "98. 164367.051637727\n",
       "99. 28788.9610131404\n",
       "100. 68342.4514906147\n",
       "101. 70643.6794244971\n",
       "102. 48326.8038421151\n",
       "103. 81678.0171614076\n",
       "104. 182661.17952494\n",
       "105. 91717.9803921569\n",
       "106. 3649.82943722944\n",
       "107. 45739.3751782705\n",
       "108. 12246.3978270238\n",
       "109. 28655.6311553708\n",
       "110. 30427.8887439549\n",
       "111. 11795.8571428571\n",
       "112. NA\n",
       "113. 1758042.59042464\n",
       "114. 20352.4178571429\n",
       "115. 64300.7661844004\n",
       "116. 343141.780806015\n",
       "117. 19380.3142857143\n",
       "118. 32386\n",
       "119. 141330.666666667\n",
       "120. 191895.631578947\n",
       "121. 171603.922077922\n",
       "122. 4663\n",
       "123. 16300.4024471088\n",
       "124. 3213.25\n",
       "125. 108231.363602303\n",
       "126. 113359.325576863\n",
       "127. 35282.6684557411\n",
       "128. 16123.1305004937\n",
       "129. 77350.28079479\n",
       "130. 56419.7551944174\n",
       "131. 56616.2742869446\n",
       "132. 151492.669966865\n",
       "133. 54575.119047619\n",
       "134. 455\n",
       "135. 40228.634090547\n",
       "136. 7117.77254901961\n",
       "137. 95375.3711913586\n",
       "138. 77263.2818285936\n",
       "139. 115025.285714286\n",
       "140. NA\n",
       "141. 3340414.39791362\n",
       "142. 38466.521031746\n",
       "143. 52819.9002815038\n",
       "144. 235693.086446479\n",
       "145. 91860.5857142857\n",
       "146. 79727\n",
       "147. 59289.1666666667\n",
       "148. 12550.2354750513\n",
       "149. 122520.834824849\n",
       "150. 24964.1666666667\n",
       "151. 186780.551172214\n",
       "152. 9379.25\n",
       "153. 567090.992258281\n",
       "154. 706760.791139893\n",
       "155. 96467.8694294783\n",
       "156. 203393.264224406\n",
       "157. 179313.657822293\n",
       "158. 98654.1144698116\n",
       "159. 167786.882758646\n",
       "160. 594308.718669973\n",
       "161. 98390.9285714286\n",
       "162. 2130\n",
       "163. 104109.621444154\n",
       "164. 27916.3399898056\n",
       "165. 94743.0632308888\n",
       "166. 159900.556572635\n",
       "167. 23831.2380952381\n",
       "168. NA\n",
       "169. 3045884.04030717\n",
       "170. 293629.26547619\n",
       "171. 396633.16926181\n",
       "172. 212975.160628435\n",
       "173. 886637.75\n",
       "174. 720456.5\n",
       "175. 118040.944444444\n",
       "176. 71058.6363636364\n",
       "177. 187059.376364339\n",
       "178. 9788\n",
       "179. 2059.7380952381\n",
       "180. 458\n",
       "181. 35501.349242751\n",
       "182. 79465.1232020377\n",
       "183. 64125.236723427\n",
       "184. 1910.44444444444\n",
       "185. 220174.622158356\n",
       "186. 29116.8341264581\n",
       "187. 61940.7233102252\n",
       "188. 49205.8573487857\n",
       "189. 49115.9047619048\n",
       "190. 1787.25\n",
       "191. 34711.0156853946\n",
       "192. 1300.24700789407\n",
       "193. 65428.2974030777\n",
       "194. 56333.7812549011\n",
       "195. 2580.73015873016\n",
       "196. NA\n",
       "\n",
       "\n"
      ],
      "text/plain": [
       "                                                                                         Central Europe, Eastern Europe, and Central Asia\n",
       "Tot                                                                                                                          1713426.6592\n",
       "Tuberculosis                                                                                                                    4657.0238\n",
       "HIV/AIDS                                                                                                                       16842.5882\n",
       "Diarrhea, lower respiratory infections, meningitis, and other common infectious diseases                                      139200.4647\n",
       "Malaria                                                                                                                                NA\n",
       "Neglected tropical diseases excluding malaria                                                                                   2005.0000\n",
       "Maternal disorders                                                                                                              6212.0556\n",
       "Neonatal disorders                                                                                                              4723.1398\n",
       "Nutritional deficiencies                                                                                                       19727.8392\n",
       "Sexually transmitted diseases excluding HIV                                                                                      579.3333\n",
       "Hepatitis                                                                                                                      12796.5170\n",
       "Leprosy                                                                                                                         1905.0667\n",
       "Neoplasms                                                                                                                     263835.1159\n",
       "Cardiovascular and circulatory diseases                                                                                       377690.4183\n",
       "Chronic respiratory diseases                                                                                                  194172.1862\n",
       "Cirrhosis of the liver                                                                                                         11026.0590\n",
       "Digestive diseases (except cirrhosis)                                                                                          57236.8499\n",
       "Neurological disorders                                                                                                         81110.7749\n",
       "Mental and behavioral disorders                                                                                                93508.8539\n",
       "Diabetes, urinary diseases and male infertility                                                                               268715.9469\n",
       "Gynecological diseases                                                                                                         11166.0110\n",
       "Hemoglobinopathies and hemolytic anemias                                                                                         243.6667\n",
       "Musculoskeletal disorders                                                                                                     127486.0598\n",
       "Congenital anomalies                                                                                                           11775.0320\n",
       "Skin and subcutaneous diseases                                                                                                 65612.9539\n",
       "Sense organ diseases                                                                                                           59635.0010\n",
       "Oral disorders                                                                                                                  3384.9893\n",
       "Sudden infant death syndrome                                                                                                           NA\n",
       "                                                                                         High-income\n",
       "Tot                                                                                      20877389.20\n",
       "Tuberculosis                                                                                19467.70\n",
       "HIV/AIDS                                                                                   348941.49\n",
       "Diarrhea, lower respiratory infections, meningitis, and other common infectious diseases  1717617.22\n",
       "Malaria                                                                                      5707.00\n",
       "Neglected tropical diseases excluding malaria                                               49035.07\n",
       "Maternal disorders                                                                         207783.20\n",
       "Neonatal disorders                                                                         218263.89\n",
       "Nutritional deficiencies                                                                   177183.23\n",
       "Sexually transmitted diseases excluding HIV                                                142601.17\n",
       "Hepatitis                                                                                  166786.24\n",
       "Leprosy                                                                                     37408.43\n",
       "Neoplasms                                                                                 5416779.47\n",
       "Cardiovascular and circulatory diseases                                                   3290323.87\n",
       "Chronic respiratory diseases                                                              1199983.31\n",
       "Cirrhosis of the liver                                                                     206196.68\n",
       "Digestive diseases (except cirrhosis)                                                      706290.51\n",
       "Neurological disorders                                                                    1135678.89\n",
       "Mental and behavioral disorders                                                           2007291.94\n",
       "Diabetes, urinary diseases and male infertility                                           2803160.13\n",
       "Gynecological diseases                                                                     504032.72\n",
       "Hemoglobinopathies and hemolytic anemias                                                    13389.57\n",
       "Musculoskeletal disorders                                                                 1287959.38\n",
       "Congenital anomalies                                                                       260009.83\n",
       "Skin and subcutaneous diseases                                                             699263.09\n",
       "Sense organ diseases                                                                       922168.91\n",
       "Oral disorders                                                                             104009.53\n",
       "Sudden infant death syndrome                                                                 1377.00\n",
       "                                                                                         Latin America and Caribbean\n",
       "Tot                                                                                                      932054.3390\n",
       "Tuberculosis                                                                                              46191.9020\n",
       "HIV/AIDS                                                                                                  19676.7891\n",
       "Diarrhea, lower respiratory infections, meningitis, and other common infectious diseases                 127516.1140\n",
       "Malaria                                                                                                    1509.3500\n",
       "Neglected tropical diseases excluding malaria                                                            136902.4286\n",
       "Maternal disorders                                                                                        21603.4889\n",
       "Neonatal disorders                                                                                        12924.2881\n",
       "Nutritional deficiencies                                                                                  28688.7664\n",
       "Sexually transmitted diseases excluding HIV                                                                8047.3333\n",
       "Hepatitis                                                                                                 26265.8918\n",
       "Leprosy                                                                                                    2660.0000\n",
       "Neoplasms                                                                                                 74908.0033\n",
       "Cardiovascular and circulatory diseases                                                                  119634.4229\n",
       "Chronic respiratory diseases                                                                              48150.7708\n",
       "Cirrhosis of the liver                                                                                     4995.9684\n",
       "Digestive diseases (except cirrhosis)                                                                     34155.4011\n",
       "Neurological disorders                                                                                    22425.8225\n",
       "Mental and behavioral disorders                                                                           46457.3076\n",
       "Diabetes, urinary diseases and male infertility                                                          118048.4957\n",
       "Gynecological diseases                                                                                    15332.3333\n",
       "Hemoglobinopathies and hemolytic anemias                                                                    903.6799\n",
       "Musculoskeletal disorders                                                                                 66885.9097\n",
       "Congenital anomalies                                                                                       6589.3782\n",
       "Skin and subcutaneous diseases                                                                            36523.5948\n",
       "Sense organ diseases                                                                                      33871.5799\n",
       "Oral disorders                                                                                            10455.3690\n",
       "Sudden infant death syndrome                                                                                      NA\n",
       "                                                                                         North Africa and Middle East\n",
       "Tot                                                                                                        899010.778\n",
       "Tuberculosis                                                                                                 3501.170\n",
       "HIV/AIDS                                                                                                     3156.296\n",
       "Diarrhea, lower respiratory infections, meningitis, and other common infectious diseases                    33284.172\n",
       "Malaria                                                                                                            NA\n",
       "Neglected tropical diseases excluding malaria                                                                6006.000\n",
       "Maternal disorders                                                                                          65770.478\n",
       "Neonatal disorders                                                                                          21759.179\n",
       "Nutritional deficiencies                                                                                    22856.028\n",
       "Sexually transmitted diseases excluding HIV                                                                  9666.000\n",
       "Hepatitis                                                                                                    5845.663\n",
       "Leprosy                                                                                                       786.000\n",
       "Neoplasms                                                                                                   65867.709\n",
       "Cardiovascular and circulatory diseases                                                                    164367.052\n",
       "Chronic respiratory diseases                                                                                28788.961\n",
       "Cirrhosis of the liver                                                                                      68342.451\n",
       "Digestive diseases (except cirrhosis)                                                                       70643.679\n",
       "Neurological disorders                                                                                      48326.804\n",
       "Mental and behavioral disorders                                                                             81678.017\n",
       "Diabetes, urinary diseases and male infertility                                                            182661.180\n",
       "Gynecological diseases                                                                                      91717.980\n",
       "Hemoglobinopathies and hemolytic anemias                                                                     3649.829\n",
       "Musculoskeletal disorders                                                                                   45739.375\n",
       "Congenital anomalies                                                                                        12246.398\n",
       "Skin and subcutaneous diseases                                                                              28655.631\n",
       "Sense organ diseases                                                                                        30427.889\n",
       "Oral disorders                                                                                              11795.857\n",
       "Sudden infant death syndrome                                                                                       NA\n",
       "                                                                                          South Asia\n",
       "Tot                                                                                      1758042.590\n",
       "Tuberculosis                                                                               20352.418\n",
       "HIV/AIDS                                                                                   64300.766\n",
       "Diarrhea, lower respiratory infections, meningitis, and other common infectious diseases  343141.781\n",
       "Malaria                                                                                    19380.314\n",
       "Neglected tropical diseases excluding malaria                                              32386.000\n",
       "Maternal disorders                                                                        141330.667\n",
       "Neonatal disorders                                                                        191895.632\n",
       "Nutritional deficiencies                                                                  171603.922\n",
       "Sexually transmitted diseases excluding HIV                                                 4663.000\n",
       "Hepatitis                                                                                  16300.402\n",
       "Leprosy                                                                                     3213.250\n",
       "Neoplasms                                                                                 108231.364\n",
       "Cardiovascular and circulatory diseases                                                   113359.326\n",
       "Chronic respiratory diseases                                                               35282.668\n",
       "Cirrhosis of the liver                                                                     16123.131\n",
       "Digestive diseases (except cirrhosis)                                                      77350.281\n",
       "Neurological disorders                                                                     56419.755\n",
       "Mental and behavioral disorders                                                            56616.274\n",
       "Diabetes, urinary diseases and male infertility                                           151492.670\n",
       "Gynecological diseases                                                                     54575.119\n",
       "Hemoglobinopathies and hemolytic anemias                                                     455.000\n",
       "Musculoskeletal disorders                                                                  40228.634\n",
       "Congenital anomalies                                                                        7117.773\n",
       "Skin and subcutaneous diseases                                                             95375.371\n",
       "Sense organ diseases                                                                       77263.282\n",
       "Oral disorders                                                                            115025.286\n",
       "Sudden infant death syndrome                                                                      NA\n",
       "                                                                                         Southeast Asia, East Asia and Oceania\n",
       "Tot                                                                                                                 3340414.40\n",
       "Tuberculosis                                                                                                          38466.52\n",
       "HIV/AIDS                                                                                                              52819.90\n",
       "Diarrhea, lower respiratory infections, meningitis, and other common infectious diseases                             235693.09\n",
       "Malaria                                                                                                               91860.59\n",
       "Neglected tropical diseases excluding malaria                                                                         79727.00\n",
       "Maternal disorders                                                                                                    59289.17\n",
       "Neonatal disorders                                                                                                    12550.24\n",
       "Nutritional deficiencies                                                                                             122520.83\n",
       "Sexually transmitted diseases excluding HIV                                                                           24964.17\n",
       "Hepatitis                                                                                                            186780.55\n",
       "Leprosy                                                                                                                9379.25\n",
       "Neoplasms                                                                                                            567090.99\n",
       "Cardiovascular and circulatory diseases                                                                              706760.79\n",
       "Chronic respiratory diseases                                                                                          96467.87\n",
       "Cirrhosis of the liver                                                                                               203393.26\n",
       "Digestive diseases (except cirrhosis)                                                                                179313.66\n",
       "Neurological disorders                                                                                                98654.11\n",
       "Mental and behavioral disorders                                                                                      167786.88\n",
       "Diabetes, urinary diseases and male infertility                                                                      594308.72\n",
       "Gynecological diseases                                                                                                98390.93\n",
       "Hemoglobinopathies and hemolytic anemias                                                                               2130.00\n",
       "Musculoskeletal disorders                                                                                            104109.62\n",
       "Congenital anomalies                                                                                                  27916.34\n",
       "Skin and subcutaneous diseases                                                                                        94743.06\n",
       "Sense organ diseases                                                                                                 159900.56\n",
       "Oral disorders                                                                                                        23831.24\n",
       "Sudden infant death syndrome                                                                                                NA\n",
       "                                                                                         Sub-Saharian Africa\n",
       "Tot                                                                                              3045884.040\n",
       "Tuberculosis                                                                                      293629.265\n",
       "HIV/AIDS                                                                                          396633.169\n",
       "Diarrhea, lower respiratory infections, meningitis, and other common infectious diseases          212975.161\n",
       "Malaria                                                                                           886637.750\n",
       "Neglected tropical diseases excluding malaria                                                     720456.500\n",
       "Maternal disorders                                                                                118040.944\n",
       "Neonatal disorders                                                                                 71058.636\n",
       "Nutritional deficiencies                                                                          187059.376\n",
       "Sexually transmitted diseases excluding HIV                                                         9788.000\n",
       "Hepatitis                                                                                           2059.738\n",
       "Leprosy                                                                                              458.000\n",
       "Neoplasms                                                                                          35501.349\n",
       "Cardiovascular and circulatory diseases                                                            79465.123\n",
       "Chronic respiratory diseases                                                                       64125.237\n",
       "Cirrhosis of the liver                                                                              1910.444\n",
       "Digestive diseases (except cirrhosis)                                                             220174.622\n",
       "Neurological disorders                                                                             29116.834\n",
       "Mental and behavioral disorders                                                                    61940.723\n",
       "Diabetes, urinary diseases and male infertility                                                    49205.857\n",
       "Gynecological diseases                                                                             49115.905\n",
       "Hemoglobinopathies and hemolytic anemias                                                            1787.250\n",
       "Musculoskeletal disorders                                                                          34711.016\n",
       "Congenital anomalies                                                                                1300.247\n",
       "Skin and subcutaneous diseases                                                                     65428.297\n",
       "Sense organ diseases                                                                               56333.781\n",
       "Oral disorders                                                                                      2580.730\n",
       "Sudden infant death syndrome                                                                              NA"
      ]
     },
     "metadata": {},
     "output_type": "display_data"
    }
   ],
   "source": [
    "Mt"
   ]
  },
  {
   "cell_type": "markdown",
   "metadata": {},
   "source": [
    "We add column Tot with the total number of patients included per disease\n"
   ]
  },
  {
   "cell_type": "code",
   "execution_count": 49,
   "metadata": {
    "collapsed": false
   },
   "outputs": [],
   "source": [
    "Mt[is.na(Mt)] <- 0"
   ]
  },
  {
   "cell_type": "code",
   "execution_count": 50,
   "metadata": {
    "collapsed": true
   },
   "outputs": [],
   "source": [
    "Mt <- data.frame(Mt)"
   ]
  },
  {
   "cell_type": "code",
   "execution_count": 51,
   "metadata": {
    "collapsed": false
   },
   "outputs": [],
   "source": [
    "Mt$Tot <- unlist(apply(Mt,1,sum))"
   ]
  },
  {
   "cell_type": "code",
   "execution_count": 52,
   "metadata": {
    "collapsed": false,
    "scrolled": true
   },
   "outputs": [
    {
     "data": {
      "text/html": [
       "<table>\n",
       "<thead><tr><th></th><th scope=col>Central.Europe..Eastern.Europe..and.Central.Asia</th><th scope=col>High.income</th><th scope=col>Latin.America.and.Caribbean</th><th scope=col>North.Africa.and.Middle.East</th><th scope=col>South.Asia</th><th scope=col>Southeast.Asia..East.Asia.and.Oceania</th><th scope=col>Sub.Saharian.Africa</th><th scope=col>Tot</th></tr></thead>\n",
       "<tbody>\n",
       "\t<tr><th scope=row>Tot</th><td> 1713426.7</td><td>20877389.2</td><td>  932054.3</td><td>  899010.8</td><td> 1758042.6</td><td> 3340414.4</td><td> 3045884.0</td><td>32566222.0</td></tr>\n",
       "\t<tr><th scope=row>Tuberculosis</th><td>  4657.024</td><td> 19467.700</td><td> 46191.902</td><td>  3501.170</td><td> 20352.418</td><td> 38466.521</td><td>293629.265</td><td>426266.000</td></tr>\n",
       "\t<tr><th scope=row>HIV/AIDS</th><td> 16842.588</td><td>348941.491</td><td> 19676.789</td><td>  3156.296</td><td> 64300.766</td><td> 52819.900</td><td>396633.169</td><td>902371.000</td></tr>\n",
       "\t<tr><th scope=row>Diarrhea, lower respiratory infections, meningitis, and other common infectious diseases</th><td> 139200.46</td><td>1717617.22</td><td> 127516.11</td><td>  33284.17</td><td> 343141.78</td><td> 235693.09</td><td> 212975.16</td><td>2809428.00</td></tr>\n",
       "\t<tr><th scope=row>Malaria</th><td>      0.00</td><td>   5707.00</td><td>   1509.35</td><td>      0.00</td><td>  19380.31</td><td>  91860.59</td><td> 886637.75</td><td>1005095.00</td></tr>\n",
       "\t<tr><th scope=row>Neglected tropical diseases excluding malaria</th><td>   2005.00</td><td>  49035.07</td><td> 136902.43</td><td>   6006.00</td><td>  32386.00</td><td>  79727.00</td><td> 720456.50</td><td>1026518.00</td></tr>\n",
       "\t<tr><th scope=row>Maternal disorders</th><td>  6212.056</td><td>207783.200</td><td> 21603.489</td><td> 65770.478</td><td>141330.667</td><td> 59289.167</td><td>118040.944</td><td>620030.000</td></tr>\n",
       "\t<tr><th scope=row>Neonatal disorders</th><td>  4723.14</td><td>218263.89</td><td> 12924.29</td><td> 21759.18</td><td>191895.63</td><td> 12550.24</td><td> 71058.64</td><td>533175.00</td></tr>\n",
       "\t<tr><th scope=row>Nutritional deficiencies</th><td> 19727.84</td><td>177183.23</td><td> 28688.77</td><td> 22856.03</td><td>171603.92</td><td>122520.83</td><td>187059.38</td><td>729640.00</td></tr>\n",
       "\t<tr><th scope=row>Sexually transmitted diseases excluding HIV</th><td>   579.3333</td><td>142601.1667</td><td>  8047.3333</td><td>  9666.0000</td><td>  4663.0000</td><td> 24964.1667</td><td>  9788.0000</td><td>200309.0000</td></tr>\n",
       "\t<tr><th scope=row>Hepatitis</th><td> 12796.517</td><td>166786.236</td><td> 26265.892</td><td>  5845.663</td><td> 16300.402</td><td>186780.551</td><td>  2059.738</td><td>416835.000</td></tr>\n",
       "\t<tr><th scope=row>Leprosy</th><td> 1905.067</td><td>37408.433</td><td> 2660.000</td><td>  786.000</td><td> 3213.250</td><td> 9379.250</td><td>  458.000</td><td>55810.000</td></tr>\n",
       "\t<tr><th scope=row>Neoplasms</th><td> 263835.12</td><td>5416779.47</td><td>  74908.00</td><td>  65867.71</td><td> 108231.36</td><td> 567090.99</td><td>  35501.35</td><td>6532214.00</td></tr>\n",
       "\t<tr><th scope=row>Cardiovascular and circulatory diseases</th><td> 377690.42</td><td>3290323.87</td><td> 119634.42</td><td> 164367.05</td><td> 113359.33</td><td> 706760.79</td><td>  79465.12</td><td>4851601.00</td></tr>\n",
       "\t<tr><th scope=row>Chronic respiratory diseases</th><td> 194172.19</td><td>1199983.31</td><td>  48150.77</td><td>  28788.96</td><td>  35282.67</td><td>  96467.87</td><td>  64125.24</td><td>1666971.00</td></tr>\n",
       "\t<tr><th scope=row>Cirrhosis of the liver</th><td> 11026.059</td><td>206196.682</td><td>  4995.968</td><td> 68342.451</td><td> 16123.131</td><td>203393.264</td><td>  1910.444</td><td>511988.000</td></tr>\n",
       "\t<tr><th scope=row>Digestive diseases (except cirrhosis)</th><td>  57236.85</td><td> 706290.51</td><td>  34155.40</td><td>  70643.68</td><td>  77350.28</td><td> 179313.66</td><td> 220174.62</td><td>1345165.00</td></tr>\n",
       "\t<tr><th scope=row>Neurological disorders</th><td>  81110.77</td><td>1135678.89</td><td>  22425.82</td><td>  48326.80</td><td>  56419.76</td><td>  98654.11</td><td>  29116.83</td><td>1471733.00</td></tr>\n",
       "\t<tr><th scope=row>Mental and behavioral disorders</th><td>  93508.85</td><td>2007291.94</td><td>  46457.31</td><td>  81678.02</td><td>  56616.27</td><td> 167786.88</td><td>  61940.72</td><td>2515280.00</td></tr>\n",
       "\t<tr><th scope=row>Diabetes, urinary diseases and male infertility</th><td> 268715.95</td><td>2803160.13</td><td> 118048.50</td><td> 182661.18</td><td> 151492.67</td><td> 594308.72</td><td>  49205.86</td><td>4167593.00</td></tr>\n",
       "\t<tr><th scope=row>Gynecological diseases</th><td> 11166.01</td><td>504032.72</td><td> 15332.33</td><td> 91717.98</td><td> 54575.12</td><td> 98390.93</td><td> 49115.90</td><td>824331.00</td></tr>\n",
       "\t<tr><th scope=row>Hemoglobinopathies and hemolytic anemias</th><td>  243.6667</td><td>13389.5740</td><td>  903.6799</td><td> 3649.8294</td><td>  455.0000</td><td> 2130.0000</td><td> 1787.2500</td><td>22559.0000</td></tr>\n",
       "\t<tr><th scope=row>Musculoskeletal disorders</th><td> 127486.06</td><td>1287959.38</td><td>  66885.91</td><td>  45739.38</td><td>  40228.63</td><td> 104109.62</td><td>  34711.02</td><td>1707120.00</td></tr>\n",
       "\t<tr><th scope=row>Congenital anomalies</th><td> 11775.032</td><td>260009.832</td><td>  6589.378</td><td> 12246.398</td><td>  7117.773</td><td> 27916.340</td><td>  1300.247</td><td>326955.000</td></tr>\n",
       "\t<tr><th scope=row>Skin and subcutaneous diseases</th><td>  65612.95</td><td> 699263.09</td><td>  36523.59</td><td>  28655.63</td><td>  95375.37</td><td>  94743.06</td><td>  65428.30</td><td>1085602.00</td></tr>\n",
       "\t<tr><th scope=row>Sense organ diseases</th><td>  59635.00</td><td> 922168.91</td><td>  33871.58</td><td>  30427.89</td><td>  77263.28</td><td> 159900.56</td><td>  56333.78</td><td>1339601.00</td></tr>\n",
       "\t<tr><th scope=row>Oral disorders</th><td>  3384.989</td><td>104009.531</td><td> 10455.369</td><td> 11795.857</td><td>115025.286</td><td> 23831.238</td><td>  2580.730</td><td>271083.000</td></tr>\n",
       "\t<tr><th scope=row>Sudden infant death syndrome</th><td>   0</td><td>1377</td><td>   0</td><td>   0</td><td>   0</td><td>   0</td><td>   0</td><td>1377</td></tr>\n",
       "</tbody>\n",
       "</table>\n"
      ],
      "text/latex": [
       "\\begin{tabular}{r|llllllll}\n",
       "  & Central.Europe..Eastern.Europe..and.Central.Asia & High.income & Latin.America.and.Caribbean & North.Africa.and.Middle.East & South.Asia & Southeast.Asia..East.Asia.and.Oceania & Sub.Saharian.Africa & Tot\\\\\n",
       "\\hline\n",
       "\tTot &  1713426.7 & 20877389.2 &   932054.3 &   899010.8 &  1758042.6 &  3340414.4 &  3045884.0 & 32566222.0\\\\\n",
       "\tTuberculosis &   4657.024 &  19467.700 &  46191.902 &   3501.170 &  20352.418 &  38466.521 & 293629.265 & 426266.000\\\\\n",
       "\tHIV/AIDS &  16842.588 & 348941.491 &  19676.789 &   3156.296 &  64300.766 &  52819.900 & 396633.169 & 902371.000\\\\\n",
       "\tDiarrhea, lower respiratory infections, meningitis, and other common infectious diseases &  139200.46 & 1717617.22 &  127516.11 &   33284.17 &  343141.78 &  235693.09 &  212975.16 & 2809428.00\\\\\n",
       "\tMalaria &       0.00 &    5707.00 &    1509.35 &       0.00 &   19380.31 &   91860.59 &  886637.75 & 1005095.00\\\\\n",
       "\tNeglected tropical diseases excluding malaria &    2005.00 &   49035.07 &  136902.43 &    6006.00 &   32386.00 &   79727.00 &  720456.50 & 1026518.00\\\\\n",
       "\tMaternal disorders &   6212.056 & 207783.200 &  21603.489 &  65770.478 & 141330.667 &  59289.167 & 118040.944 & 620030.000\\\\\n",
       "\tNeonatal disorders &   4723.14 & 218263.89 &  12924.29 &  21759.18 & 191895.63 &  12550.24 &  71058.64 & 533175.00\\\\\n",
       "\tNutritional deficiencies &  19727.84 & 177183.23 &  28688.77 &  22856.03 & 171603.92 & 122520.83 & 187059.38 & 729640.00\\\\\n",
       "\tSexually transmitted diseases excluding HIV &    579.3333 & 142601.1667 &   8047.3333 &   9666.0000 &   4663.0000 &  24964.1667 &   9788.0000 & 200309.0000\\\\\n",
       "\tHepatitis &  12796.517 & 166786.236 &  26265.892 &   5845.663 &  16300.402 & 186780.551 &   2059.738 & 416835.000\\\\\n",
       "\tLeprosy &  1905.067 & 37408.433 &  2660.000 &   786.000 &  3213.250 &  9379.250 &   458.000 & 55810.000\\\\\n",
       "\tNeoplasms &  263835.12 & 5416779.47 &   74908.00 &   65867.71 &  108231.36 &  567090.99 &   35501.35 & 6532214.00\\\\\n",
       "\tCardiovascular and circulatory diseases &  377690.42 & 3290323.87 &  119634.42 &  164367.05 &  113359.33 &  706760.79 &   79465.12 & 4851601.00\\\\\n",
       "\tChronic respiratory diseases &  194172.19 & 1199983.31 &   48150.77 &   28788.96 &   35282.67 &   96467.87 &   64125.24 & 1666971.00\\\\\n",
       "\tCirrhosis of the liver &  11026.059 & 206196.682 &   4995.968 &  68342.451 &  16123.131 & 203393.264 &   1910.444 & 511988.000\\\\\n",
       "\tDigestive diseases (except cirrhosis) &   57236.85 &  706290.51 &   34155.40 &   70643.68 &   77350.28 &  179313.66 &  220174.62 & 1345165.00\\\\\n",
       "\tNeurological disorders &   81110.77 & 1135678.89 &   22425.82 &   48326.80 &   56419.76 &   98654.11 &   29116.83 & 1471733.00\\\\\n",
       "\tMental and behavioral disorders &   93508.85 & 2007291.94 &   46457.31 &   81678.02 &   56616.27 &  167786.88 &   61940.72 & 2515280.00\\\\\n",
       "\tDiabetes, urinary diseases and male infertility &  268715.95 & 2803160.13 &  118048.50 &  182661.18 &  151492.67 &  594308.72 &   49205.86 & 4167593.00\\\\\n",
       "\tGynecological diseases &  11166.01 & 504032.72 &  15332.33 &  91717.98 &  54575.12 &  98390.93 &  49115.90 & 824331.00\\\\\n",
       "\tHemoglobinopathies and hemolytic anemias &   243.6667 & 13389.5740 &   903.6799 &  3649.8294 &   455.0000 &  2130.0000 &  1787.2500 & 22559.0000\\\\\n",
       "\tMusculoskeletal disorders &  127486.06 & 1287959.38 &   66885.91 &   45739.38 &   40228.63 &  104109.62 &   34711.02 & 1707120.00\\\\\n",
       "\tCongenital anomalies &  11775.032 & 260009.832 &   6589.378 &  12246.398 &   7117.773 &  27916.340 &   1300.247 & 326955.000\\\\\n",
       "\tSkin and subcutaneous diseases &   65612.95 &  699263.09 &   36523.59 &   28655.63 &   95375.37 &   94743.06 &   65428.30 & 1085602.00\\\\\n",
       "\tSense organ diseases &   59635.00 &  922168.91 &   33871.58 &   30427.89 &   77263.28 &  159900.56 &   56333.78 & 1339601.00\\\\\n",
       "\tOral disorders &   3384.989 & 104009.531 &  10455.369 &  11795.857 & 115025.286 &  23831.238 &   2580.730 & 271083.000\\\\\n",
       "\tSudden infant death syndrome &    0 & 1377 &    0 &    0 &    0 &    0 &    0 & 1377\\\\\n",
       "\\end{tabular}\n"
      ],
      "text/plain": [
       "                                                                                         Central.Europe..Eastern.Europe..and.Central.Asia\n",
       "Tot                                                                                                                          1713426.6592\n",
       "Tuberculosis                                                                                                                    4657.0238\n",
       "HIV/AIDS                                                                                                                       16842.5882\n",
       "Diarrhea, lower respiratory infections, meningitis, and other common infectious diseases                                      139200.4647\n",
       "Malaria                                                                                                                            0.0000\n",
       "Neglected tropical diseases excluding malaria                                                                                   2005.0000\n",
       "Maternal disorders                                                                                                              6212.0556\n",
       "Neonatal disorders                                                                                                              4723.1398\n",
       "Nutritional deficiencies                                                                                                       19727.8392\n",
       "Sexually transmitted diseases excluding HIV                                                                                      579.3333\n",
       "Hepatitis                                                                                                                      12796.5170\n",
       "Leprosy                                                                                                                         1905.0667\n",
       "Neoplasms                                                                                                                     263835.1159\n",
       "Cardiovascular and circulatory diseases                                                                                       377690.4183\n",
       "Chronic respiratory diseases                                                                                                  194172.1862\n",
       "Cirrhosis of the liver                                                                                                         11026.0590\n",
       "Digestive diseases (except cirrhosis)                                                                                          57236.8499\n",
       "Neurological disorders                                                                                                         81110.7749\n",
       "Mental and behavioral disorders                                                                                                93508.8539\n",
       "Diabetes, urinary diseases and male infertility                                                                               268715.9469\n",
       "Gynecological diseases                                                                                                         11166.0110\n",
       "Hemoglobinopathies and hemolytic anemias                                                                                         243.6667\n",
       "Musculoskeletal disorders                                                                                                     127486.0598\n",
       "Congenital anomalies                                                                                                           11775.0320\n",
       "Skin and subcutaneous diseases                                                                                                 65612.9539\n",
       "Sense organ diseases                                                                                                           59635.0010\n",
       "Oral disorders                                                                                                                  3384.9893\n",
       "Sudden infant death syndrome                                                                                                       0.0000\n",
       "                                                                                         High.income\n",
       "Tot                                                                                      20877389.20\n",
       "Tuberculosis                                                                                19467.70\n",
       "HIV/AIDS                                                                                   348941.49\n",
       "Diarrhea, lower respiratory infections, meningitis, and other common infectious diseases  1717617.22\n",
       "Malaria                                                                                      5707.00\n",
       "Neglected tropical diseases excluding malaria                                               49035.07\n",
       "Maternal disorders                                                                         207783.20\n",
       "Neonatal disorders                                                                         218263.89\n",
       "Nutritional deficiencies                                                                   177183.23\n",
       "Sexually transmitted diseases excluding HIV                                                142601.17\n",
       "Hepatitis                                                                                  166786.24\n",
       "Leprosy                                                                                     37408.43\n",
       "Neoplasms                                                                                 5416779.47\n",
       "Cardiovascular and circulatory diseases                                                   3290323.87\n",
       "Chronic respiratory diseases                                                              1199983.31\n",
       "Cirrhosis of the liver                                                                     206196.68\n",
       "Digestive diseases (except cirrhosis)                                                      706290.51\n",
       "Neurological disorders                                                                    1135678.89\n",
       "Mental and behavioral disorders                                                           2007291.94\n",
       "Diabetes, urinary diseases and male infertility                                           2803160.13\n",
       "Gynecological diseases                                                                     504032.72\n",
       "Hemoglobinopathies and hemolytic anemias                                                    13389.57\n",
       "Musculoskeletal disorders                                                                 1287959.38\n",
       "Congenital anomalies                                                                       260009.83\n",
       "Skin and subcutaneous diseases                                                             699263.09\n",
       "Sense organ diseases                                                                       922168.91\n",
       "Oral disorders                                                                             104009.53\n",
       "Sudden infant death syndrome                                                                 1377.00\n",
       "                                                                                         Latin.America.and.Caribbean\n",
       "Tot                                                                                                      932054.3390\n",
       "Tuberculosis                                                                                              46191.9020\n",
       "HIV/AIDS                                                                                                  19676.7891\n",
       "Diarrhea, lower respiratory infections, meningitis, and other common infectious diseases                 127516.1140\n",
       "Malaria                                                                                                    1509.3500\n",
       "Neglected tropical diseases excluding malaria                                                            136902.4286\n",
       "Maternal disorders                                                                                        21603.4889\n",
       "Neonatal disorders                                                                                        12924.2881\n",
       "Nutritional deficiencies                                                                                  28688.7664\n",
       "Sexually transmitted diseases excluding HIV                                                                8047.3333\n",
       "Hepatitis                                                                                                 26265.8918\n",
       "Leprosy                                                                                                    2660.0000\n",
       "Neoplasms                                                                                                 74908.0033\n",
       "Cardiovascular and circulatory diseases                                                                  119634.4229\n",
       "Chronic respiratory diseases                                                                              48150.7708\n",
       "Cirrhosis of the liver                                                                                     4995.9684\n",
       "Digestive diseases (except cirrhosis)                                                                     34155.4011\n",
       "Neurological disorders                                                                                    22425.8225\n",
       "Mental and behavioral disorders                                                                           46457.3076\n",
       "Diabetes, urinary diseases and male infertility                                                          118048.4957\n",
       "Gynecological diseases                                                                                    15332.3333\n",
       "Hemoglobinopathies and hemolytic anemias                                                                    903.6799\n",
       "Musculoskeletal disorders                                                                                 66885.9097\n",
       "Congenital anomalies                                                                                       6589.3782\n",
       "Skin and subcutaneous diseases                                                                            36523.5948\n",
       "Sense organ diseases                                                                                      33871.5799\n",
       "Oral disorders                                                                                            10455.3690\n",
       "Sudden infant death syndrome                                                                                  0.0000\n",
       "                                                                                         North.Africa.and.Middle.East\n",
       "Tot                                                                                                        899010.778\n",
       "Tuberculosis                                                                                                 3501.170\n",
       "HIV/AIDS                                                                                                     3156.296\n",
       "Diarrhea, lower respiratory infections, meningitis, and other common infectious diseases                    33284.172\n",
       "Malaria                                                                                                         0.000\n",
       "Neglected tropical diseases excluding malaria                                                                6006.000\n",
       "Maternal disorders                                                                                          65770.478\n",
       "Neonatal disorders                                                                                          21759.179\n",
       "Nutritional deficiencies                                                                                    22856.028\n",
       "Sexually transmitted diseases excluding HIV                                                                  9666.000\n",
       "Hepatitis                                                                                                    5845.663\n",
       "Leprosy                                                                                                       786.000\n",
       "Neoplasms                                                                                                   65867.709\n",
       "Cardiovascular and circulatory diseases                                                                    164367.052\n",
       "Chronic respiratory diseases                                                                                28788.961\n",
       "Cirrhosis of the liver                                                                                      68342.451\n",
       "Digestive diseases (except cirrhosis)                                                                       70643.679\n",
       "Neurological disorders                                                                                      48326.804\n",
       "Mental and behavioral disorders                                                                             81678.017\n",
       "Diabetes, urinary diseases and male infertility                                                            182661.180\n",
       "Gynecological diseases                                                                                      91717.980\n",
       "Hemoglobinopathies and hemolytic anemias                                                                     3649.829\n",
       "Musculoskeletal disorders                                                                                   45739.375\n",
       "Congenital anomalies                                                                                        12246.398\n",
       "Skin and subcutaneous diseases                                                                              28655.631\n",
       "Sense organ diseases                                                                                        30427.889\n",
       "Oral disorders                                                                                              11795.857\n",
       "Sudden infant death syndrome                                                                                    0.000\n",
       "                                                                                          South.Asia\n",
       "Tot                                                                                      1758042.590\n",
       "Tuberculosis                                                                               20352.418\n",
       "HIV/AIDS                                                                                   64300.766\n",
       "Diarrhea, lower respiratory infections, meningitis, and other common infectious diseases  343141.781\n",
       "Malaria                                                                                    19380.314\n",
       "Neglected tropical diseases excluding malaria                                              32386.000\n",
       "Maternal disorders                                                                        141330.667\n",
       "Neonatal disorders                                                                        191895.632\n",
       "Nutritional deficiencies                                                                  171603.922\n",
       "Sexually transmitted diseases excluding HIV                                                 4663.000\n",
       "Hepatitis                                                                                  16300.402\n",
       "Leprosy                                                                                     3213.250\n",
       "Neoplasms                                                                                 108231.364\n",
       "Cardiovascular and circulatory diseases                                                   113359.326\n",
       "Chronic respiratory diseases                                                               35282.668\n",
       "Cirrhosis of the liver                                                                     16123.131\n",
       "Digestive diseases (except cirrhosis)                                                      77350.281\n",
       "Neurological disorders                                                                     56419.755\n",
       "Mental and behavioral disorders                                                            56616.274\n",
       "Diabetes, urinary diseases and male infertility                                           151492.670\n",
       "Gynecological diseases                                                                     54575.119\n",
       "Hemoglobinopathies and hemolytic anemias                                                     455.000\n",
       "Musculoskeletal disorders                                                                  40228.634\n",
       "Congenital anomalies                                                                        7117.773\n",
       "Skin and subcutaneous diseases                                                             95375.371\n",
       "Sense organ diseases                                                                       77263.282\n",
       "Oral disorders                                                                            115025.286\n",
       "Sudden infant death syndrome                                                                   0.000\n",
       "                                                                                         Southeast.Asia..East.Asia.and.Oceania\n",
       "Tot                                                                                                                 3340414.40\n",
       "Tuberculosis                                                                                                          38466.52\n",
       "HIV/AIDS                                                                                                              52819.90\n",
       "Diarrhea, lower respiratory infections, meningitis, and other common infectious diseases                             235693.09\n",
       "Malaria                                                                                                               91860.59\n",
       "Neglected tropical diseases excluding malaria                                                                         79727.00\n",
       "Maternal disorders                                                                                                    59289.17\n",
       "Neonatal disorders                                                                                                    12550.24\n",
       "Nutritional deficiencies                                                                                             122520.83\n",
       "Sexually transmitted diseases excluding HIV                                                                           24964.17\n",
       "Hepatitis                                                                                                            186780.55\n",
       "Leprosy                                                                                                                9379.25\n",
       "Neoplasms                                                                                                            567090.99\n",
       "Cardiovascular and circulatory diseases                                                                              706760.79\n",
       "Chronic respiratory diseases                                                                                          96467.87\n",
       "Cirrhosis of the liver                                                                                               203393.26\n",
       "Digestive diseases (except cirrhosis)                                                                                179313.66\n",
       "Neurological disorders                                                                                                98654.11\n",
       "Mental and behavioral disorders                                                                                      167786.88\n",
       "Diabetes, urinary diseases and male infertility                                                                      594308.72\n",
       "Gynecological diseases                                                                                                98390.93\n",
       "Hemoglobinopathies and hemolytic anemias                                                                               2130.00\n",
       "Musculoskeletal disorders                                                                                            104109.62\n",
       "Congenital anomalies                                                                                                  27916.34\n",
       "Skin and subcutaneous diseases                                                                                        94743.06\n",
       "Sense organ diseases                                                                                                 159900.56\n",
       "Oral disorders                                                                                                        23831.24\n",
       "Sudden infant death syndrome                                                                                              0.00\n",
       "                                                                                         Sub.Saharian.Africa\n",
       "Tot                                                                                              3045884.040\n",
       "Tuberculosis                                                                                      293629.265\n",
       "HIV/AIDS                                                                                          396633.169\n",
       "Diarrhea, lower respiratory infections, meningitis, and other common infectious diseases          212975.161\n",
       "Malaria                                                                                           886637.750\n",
       "Neglected tropical diseases excluding malaria                                                     720456.500\n",
       "Maternal disorders                                                                                118040.944\n",
       "Neonatal disorders                                                                                 71058.636\n",
       "Nutritional deficiencies                                                                          187059.376\n",
       "Sexually transmitted diseases excluding HIV                                                         9788.000\n",
       "Hepatitis                                                                                           2059.738\n",
       "Leprosy                                                                                              458.000\n",
       "Neoplasms                                                                                          35501.349\n",
       "Cardiovascular and circulatory diseases                                                            79465.123\n",
       "Chronic respiratory diseases                                                                       64125.237\n",
       "Cirrhosis of the liver                                                                              1910.444\n",
       "Digestive diseases (except cirrhosis)                                                             220174.622\n",
       "Neurological disorders                                                                             29116.834\n",
       "Mental and behavioral disorders                                                                    61940.723\n",
       "Diabetes, urinary diseases and male infertility                                                    49205.857\n",
       "Gynecological diseases                                                                             49115.905\n",
       "Hemoglobinopathies and hemolytic anemias                                                            1787.250\n",
       "Musculoskeletal disorders                                                                          34711.016\n",
       "Congenital anomalies                                                                                1300.247\n",
       "Skin and subcutaneous diseases                                                                     65428.297\n",
       "Sense organ diseases                                                                               56333.781\n",
       "Oral disorders                                                                                      2580.730\n",
       "Sudden infant death syndrome                                                                           0.000\n",
       "                                                                                              Tot\n",
       "Tot                                                                                      32566222\n",
       "Tuberculosis                                                                               426266\n",
       "HIV/AIDS                                                                                   902371\n",
       "Diarrhea, lower respiratory infections, meningitis, and other common infectious diseases  2809428\n",
       "Malaria                                                                                   1005095\n",
       "Neglected tropical diseases excluding malaria                                             1026518\n",
       "Maternal disorders                                                                         620030\n",
       "Neonatal disorders                                                                         533175\n",
       "Nutritional deficiencies                                                                   729640\n",
       "Sexually transmitted diseases excluding HIV                                                200309\n",
       "Hepatitis                                                                                  416835\n",
       "Leprosy                                                                                     55810\n",
       "Neoplasms                                                                                 6532214\n",
       "Cardiovascular and circulatory diseases                                                   4851601\n",
       "Chronic respiratory diseases                                                              1666971\n",
       "Cirrhosis of the liver                                                                     511988\n",
       "Digestive diseases (except cirrhosis)                                                     1345165\n",
       "Neurological disorders                                                                    1471733\n",
       "Mental and behavioral disorders                                                           2515280\n",
       "Diabetes, urinary diseases and male infertility                                           4167593\n",
       "Gynecological diseases                                                                     824331\n",
       "Hemoglobinopathies and hemolytic anemias                                                    22559\n",
       "Musculoskeletal disorders                                                                 1707120\n",
       "Congenital anomalies                                                                       326955\n",
       "Skin and subcutaneous diseases                                                            1085602\n",
       "Sense organ diseases                                                                      1339601\n",
       "Oral disorders                                                                             271083\n",
       "Sudden infant death syndrome                                                                 1377"
      ]
     },
     "metadata": {},
     "output_type": "display_data"
    }
   ],
   "source": [
    "Mt"
   ]
  },
  {
   "cell_type": "code",
   "execution_count": 53,
   "metadata": {
    "collapsed": false,
    "scrolled": true
   },
   "outputs": [
    {
     "data": {
      "text/html": [
       "<table>\n",
       "<thead><tr><th></th><th scope=col>Central.Europe..Eastern.Europe..and.Central.Asia</th><th scope=col>Tot</th></tr></thead>\n",
       "<tbody>\n",
       "\t<tr><th scope=row>Tot</th><td> 1.713427</td><td>32.566222</td></tr>\n",
       "\t<tr><th scope=row>Neoplasms</th><td>0.2638351</td><td>6.5322140</td></tr>\n",
       "\t<tr><th scope=row>Cardiovascular and circulatory diseases</th><td>0.3776904</td><td>4.8516010</td></tr>\n",
       "\t<tr><th scope=row>Diabetes, urinary diseases and male infertility</th><td>0.2687159</td><td>4.1675930</td></tr>\n",
       "\t<tr><th scope=row>Diarrhea, lower respiratory infections, meningitis, and other common infectious diseases</th><td>0.1392005</td><td>2.8094280</td></tr>\n",
       "\t<tr><th scope=row>Mental and behavioral disorders</th><td>0.09350885</td><td>2.51528000</td></tr>\n",
       "</tbody>\n",
       "</table>\n"
      ],
      "text/latex": [
       "\\begin{tabular}{r|ll}\n",
       "  & Central.Europe..Eastern.Europe..and.Central.Asia & Tot\\\\\n",
       "\\hline\n",
       "\tTot &  1.713427 & 32.566222\\\\\n",
       "\tNeoplasms & 0.2638351 & 6.5322140\\\\\n",
       "\tCardiovascular and circulatory diseases & 0.3776904 & 4.8516010\\\\\n",
       "\tDiabetes, urinary diseases and male infertility & 0.2687159 & 4.1675930\\\\\n",
       "\tDiarrhea, lower respiratory infections, meningitis, and other common infectious diseases & 0.1392005 & 2.8094280\\\\\n",
       "\tMental and behavioral disorders & 0.09350885 & 2.51528000\\\\\n",
       "\\end{tabular}\n"
      ],
      "text/plain": [
       "                                                                                         Central.Europe..Eastern.Europe..and.Central.Asia\n",
       "Tot                                                                                                                            1.71342666\n",
       "Neoplasms                                                                                                                      0.26383512\n",
       "Cardiovascular and circulatory diseases                                                                                        0.37769042\n",
       "Diabetes, urinary diseases and male infertility                                                                                0.26871595\n",
       "Diarrhea, lower respiratory infections, meningitis, and other common infectious diseases                                       0.13920046\n",
       "Mental and behavioral disorders                                                                                                0.09350885\n",
       "                                                                                               Tot\n",
       "Tot                                                                                      32.566222\n",
       "Neoplasms                                                                                 6.532214\n",
       "Cardiovascular and circulatory diseases                                                   4.851601\n",
       "Diabetes, urinary diseases and male infertility                                           4.167593\n",
       "Diarrhea, lower respiratory infections, meningitis, and other common infectious diseases  2.809428\n",
       "Mental and behavioral disorders                                                           2.515280"
      ]
     },
     "metadata": {},
     "output_type": "display_data"
    }
   ],
   "source": [
    "head(Mt[order(Mt$Tot,decreasing=TRUE),c(1,ncol(Mt))]/1e6)"
   ]
  },
  {
   "cell_type": "code",
   "execution_count": 54,
   "metadata": {
    "collapsed": false
   },
   "outputs": [
    {
     "data": {
      "text/html": [
       "<table>\n",
       "<thead><tr><th></th><th scope=col>Central.Europe..Eastern.Europe..and.Central.Asia</th><th scope=col>Tot</th></tr></thead>\n",
       "<tbody>\n",
       "\t<tr><th scope=row>Congenital anomalies</th><td>0.01177503</td><td>0.32695500</td></tr>\n",
       "\t<tr><th scope=row>Oral disorders</th><td>0.003384989</td><td>0.271083000</td></tr>\n",
       "\t<tr><th scope=row>Sexually transmitted diseases excluding HIV</th><td>0.0005793333</td><td>0.2003090000</td></tr>\n",
       "\t<tr><th scope=row>Leprosy</th><td>0.001905067</td><td>0.055810000</td></tr>\n",
       "\t<tr><th scope=row>Hemoglobinopathies and hemolytic anemias</th><td>0.0002436667</td><td>0.0225590000</td></tr>\n",
       "\t<tr><th scope=row>Sudden infant death syndrome</th><td>0.000000</td><td>0.001377</td></tr>\n",
       "</tbody>\n",
       "</table>\n"
      ],
      "text/latex": [
       "\\begin{tabular}{r|ll}\n",
       "  & Central.Europe..Eastern.Europe..and.Central.Asia & Tot\\\\\n",
       "\\hline\n",
       "\tCongenital anomalies & 0.01177503 & 0.32695500\\\\\n",
       "\tOral disorders & 0.003384989 & 0.271083000\\\\\n",
       "\tSexually transmitted diseases excluding HIV & 0.0005793333 & 0.2003090000\\\\\n",
       "\tLeprosy & 0.001905067 & 0.055810000\\\\\n",
       "\tHemoglobinopathies and hemolytic anemias & 0.0002436667 & 0.0225590000\\\\\n",
       "\tSudden infant death syndrome & 0.000000 & 0.001377\\\\\n",
       "\\end{tabular}\n"
      ],
      "text/plain": [
       "                                            Central.Europe..Eastern.Europe..and.Central.Asia\n",
       "Congenital anomalies                                                            0.0117750320\n",
       "Oral disorders                                                                  0.0033849893\n",
       "Sexually transmitted diseases excluding HIV                                     0.0005793333\n",
       "Leprosy                                                                         0.0019050667\n",
       "Hemoglobinopathies and hemolytic anemias                                        0.0002436667\n",
       "Sudden infant death syndrome                                                    0.0000000000\n",
       "                                                 Tot\n",
       "Congenital anomalies                        0.326955\n",
       "Oral disorders                              0.271083\n",
       "Sexually transmitted diseases excluding HIV 0.200309\n",
       "Leprosy                                     0.055810\n",
       "Hemoglobinopathies and hemolytic anemias    0.022559\n",
       "Sudden infant death syndrome                0.001377"
      ]
     },
     "metadata": {},
     "output_type": "display_data"
    }
   ],
   "source": [
    "tail(Mt[order(Mt$Tot,decreasing=TRUE),c(1,ncol(Mt))]/1e6)"
   ]
  },
  {
   "cell_type": "code",
   "execution_count": 55,
   "metadata": {
    "collapsed": false
   },
   "outputs": [],
   "source": [
    "write.table(Mt,\"Mapping_Cancer/Tables/Patients_data_per_region_and_27_diseases_2005_2015.txt\")"
   ]
  },
  {
   "cell_type": "code",
   "execution_count": null,
   "metadata": {
    "collapsed": true
   },
   "outputs": [],
   "source": []
  }
 ],
 "metadata": {
  "kernelspec": {
   "display_name": "R",
   "language": "R",
   "name": "ir"
  },
  "language_info": {
   "codemirror_mode": "r",
   "file_extension": ".r",
   "mimetype": "text/x-r-source",
   "name": "R",
   "pygments_lexer": "r",
   "version": "3.3.1"
  }
 },
 "nbformat": 4,
 "nbformat_minor": 1
}
