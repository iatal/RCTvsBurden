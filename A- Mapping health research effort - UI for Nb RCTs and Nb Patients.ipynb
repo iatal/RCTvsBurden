{
 "cells": [
  {
   "cell_type": "markdown",
   "metadata": {},
   "source": [
    "Mapping health research effort\n",
    "-------------------------------------\n",
    "Databases: \n",
    "* data\n",
    "          1. All RCTs registered at WHO ICTRP by Jan 1st 2016, \n",
    "          2. with start date between 2006 and 2015\n",
    "          3. with study type and design corresponding to RCT\n",
    "          4. with at least one country location among the 187 countries included in the GBD2010 study\n",
    "* replicates\n",
    "          1. for each disease, replicates of the mapping of RCTs across diseases\n",
    "\n",
    "We will: \n",
    "          1. Derive uncertainty intervals for the mapping of RCTs across diseases"
   ]
  },
  {
   "cell_type": "code",
   "execution_count": 1,
   "metadata": {
    "collapsed": false
   },
   "outputs": [
    {
     "data": {
      "text/html": [
       "<ol class=list-inline>\n",
       "\t<li>'TrialID'</li>\n",
       "\t<li>'brief_title'</li>\n",
       "\t<li>'official_title'</li>\n",
       "\t<li>'Primary_sponsor'</li>\n",
       "\t<li>'Source_Register'</li>\n",
       "\t<li>'Recruitment_Status'</li>\n",
       "\t<li>'other_records'</li>\n",
       "\t<li>'Target_size'</li>\n",
       "\t<li>'Study_type'</li>\n",
       "\t<li>'Study_design'</li>\n",
       "\t<li>'Phase'</li>\n",
       "\t<li>'Countries'</li>\n",
       "\t<li>'condition'</li>\n",
       "\t<li>'Secondary_ID'</li>\n",
       "\t<li>'Source_Support'</li>\n",
       "\t<li>'Secondary_Sponsor'</li>\n",
       "\t<li>'year'</li>\n",
       "\t<li>'Interv'</li>\n",
       "\t<li>'Regions'</li>\n",
       "\t<li>'Nb_ctr_per_reg'</li>\n",
       "\t<li>'Sample'</li>\n",
       "\t<li>'PMID'</li>\n",
       "\t<li>'GBD28'</li>\n",
       "\t<li>'GBD171'</li>\n",
       "\t<li>'Infectious'</li>\n",
       "\t<li>'MNN'</li>\n",
       "\t<li>'Cancer'</li>\n",
       "\t<li>'Chronic'</li>\n",
       "</ol>\n"
      ],
      "text/latex": [
       "\\begin{enumerate*}\n",
       "\\item 'TrialID'\n",
       "\\item 'brief\\_title'\n",
       "\\item 'official\\_title'\n",
       "\\item 'Primary\\_sponsor'\n",
       "\\item 'Source\\_Register'\n",
       "\\item 'Recruitment\\_Status'\n",
       "\\item 'other\\_records'\n",
       "\\item 'Target\\_size'\n",
       "\\item 'Study\\_type'\n",
       "\\item 'Study\\_design'\n",
       "\\item 'Phase'\n",
       "\\item 'Countries'\n",
       "\\item 'condition'\n",
       "\\item 'Secondary\\_ID'\n",
       "\\item 'Source\\_Support'\n",
       "\\item 'Secondary\\_Sponsor'\n",
       "\\item 'year'\n",
       "\\item 'Interv'\n",
       "\\item 'Regions'\n",
       "\\item 'Nb\\_ctr\\_per\\_reg'\n",
       "\\item 'Sample'\n",
       "\\item 'PMID'\n",
       "\\item 'GBD28'\n",
       "\\item 'GBD171'\n",
       "\\item 'Infectious'\n",
       "\\item 'MNN'\n",
       "\\item 'Cancer'\n",
       "\\item 'Chronic'\n",
       "\\end{enumerate*}\n"
      ],
      "text/markdown": [
       "1. 'TrialID'\n",
       "2. 'brief_title'\n",
       "3. 'official_title'\n",
       "4. 'Primary_sponsor'\n",
       "5. 'Source_Register'\n",
       "6. 'Recruitment_Status'\n",
       "7. 'other_records'\n",
       "8. 'Target_size'\n",
       "9. 'Study_type'\n",
       "10. 'Study_design'\n",
       "11. 'Phase'\n",
       "12. 'Countries'\n",
       "13. 'condition'\n",
       "14. 'Secondary_ID'\n",
       "15. 'Source_Support'\n",
       "16. 'Secondary_Sponsor'\n",
       "17. 'year'\n",
       "18. 'Interv'\n",
       "19. 'Regions'\n",
       "20. 'Nb_ctr_per_reg'\n",
       "21. 'Sample'\n",
       "22. 'PMID'\n",
       "23. 'GBD28'\n",
       "24. 'GBD171'\n",
       "25. 'Infectious'\n",
       "26. 'MNN'\n",
       "27. 'Cancer'\n",
       "28. 'Chronic'\n",
       "\n",
       "\n"
      ],
      "text/plain": [
       " [1] \"TrialID\"            \"brief_title\"        \"official_title\"    \n",
       " [4] \"Primary_sponsor\"    \"Source_Register\"    \"Recruitment_Status\"\n",
       " [7] \"other_records\"      \"Target_size\"        \"Study_type\"        \n",
       "[10] \"Study_design\"       \"Phase\"              \"Countries\"         \n",
       "[13] \"condition\"          \"Secondary_ID\"       \"Source_Support\"    \n",
       "[16] \"Secondary_Sponsor\"  \"year\"               \"Interv\"            \n",
       "[19] \"Regions\"            \"Nb_ctr_per_reg\"     \"Sample\"            \n",
       "[22] \"PMID\"               \"GBD28\"              \"GBD171\"            \n",
       "[25] \"Infectious\"         \"MNN\"                \"Cancer\"            \n",
       "[28] \"Chronic\"           "
      ]
     },
     "metadata": {},
     "output_type": "display_data"
    }
   ],
   "source": [
    "#Upload database\n",
    "data <- read.table(\"/media/igna/Elements/HotelDieu/Cochrane/Mapping_Cancer/Flowchart/database_all_diseases_final_ok.txt\")\n",
    "N <- nrow(data)\n",
    "names(data)"
   ]
  },
  {
   "cell_type": "markdown",
   "metadata": {},
   "source": [
    "- TrialID: unique trial ID from WHOICTRP\n",
    "- Regions: 7 epidemiological regions from GBD 2010 study\n",
    "- GBD28: classification according to 28 categories defined in Atal et al. BMC Bioinformatics (2016): This classification includes the injuries category, we exclude it"
   ]
  },
  {
   "cell_type": "code",
   "execution_count": 2,
   "metadata": {
    "collapsed": false
   },
   "outputs": [
    {
     "data": {
      "text/html": [
       "28"
      ],
      "text/latex": [
       "28"
      ],
      "text/markdown": [
       "28"
      ],
      "text/plain": [
       "[1] 28"
      ]
     },
     "metadata": {},
     "output_type": "display_data"
    }
   ],
   "source": [
    "#Upload traduction names/label categories\n",
    "Mgbd <- read.table(\"/home/igna/Desktop/Programs GBD/Classifier_Trial_GBD/Databases/Taxonomy_DL/GBD_data/GBD_ICD.txt\")\n",
    "#And supress injuries from the causes of burden\n",
    "grep(\"Injur\",Mgbd$cause_name)\n",
    "GBD27 <- sapply(strsplit(as.character(data$GBD28),\"&\"),function(x){paste(x[x!=\"28\"],collapse=\"&\")})\n",
    "data$GBD27 <- GBD27"
   ]
  },
  {
   "cell_type": "markdown",
   "metadata": {},
   "source": [
    "## 2- Estimation of number RCTs per region and disease"
   ]
  },
  {
   "cell_type": "code",
   "execution_count": 3,
   "metadata": {
    "collapsed": true
   },
   "outputs": [],
   "source": [
    "regs <- sort(unique(unlist(strsplit(as.character(data$Regions),\"&\"))))\n",
    "LR <- lapply(regs,function(x){1:nrow(data)%in%grep(x,data$Regions)})\n",
    "LR <- do.call('cbind',LR)"
   ]
  },
  {
   "cell_type": "code",
   "execution_count": 4,
   "metadata": {
    "collapsed": true
   },
   "outputs": [],
   "source": [
    "dis <- 1:27\n",
    "d <- dis[1]\n",
    "\n",
    "SMs <- list.files(paste(\"/media/igna/Elements/HotelDieu/Cochrane/Mapping_Cancer/Incertitude_mapping/Replicates/\",as.character(d),sep=\"\"))"
   ]
  },
  {
   "cell_type": "code",
   "execution_count": 5,
   "metadata": {
    "collapsed": false
   },
   "outputs": [],
   "source": [
    "ss_sp <- read.table(paste(c(\"/media/igna/Elements/HotelDieu/Cochrane/Mapping_Cancer/Incertitude_mapping/Replicates/\",as.character(d),\"/Sens_spec.txt\"),collapse=\"\"))\n"
   ]
  },
  {
   "cell_type": "code",
   "execution_count": 6,
   "metadata": {
    "collapsed": false,
    "scrolled": true
   },
   "outputs": [
    {
     "data": {
      "image/png": "[encoded data removed]",
      "text/plain": [
       "Plot with title “spec_oth”"
      ]
     },
     "metadata": {},
     "output_type": "display_data"
    }
   ],
   "source": [
    "options(repr.plot.width=9, repr.plot.height=3)\n",
    "par(mfrow=c(1,4))\n",
    "for(i in 1:ncol(ss_sp)) hist(ss_sp[,i],xlim=c(0,1),main=colnames(ss_sp)[i],xlab=NULL)"
   ]
  },
  {
   "cell_type": "code",
   "execution_count": null,
   "metadata": {
    "collapsed": true
   },
   "outputs": [],
   "source": []
  }
 ],
 "metadata": {
  "kernelspec": {
   "display_name": "R",
   "language": "R",
   "name": "ir"
  },
  "language_info": {
   "codemirror_mode": "r",
   "file_extension": ".r",
   "mimetype": "text/x-r-source",
   "name": "R",
   "pygments_lexer": "r",
   "version": "3.3.1"
  }
 },
 "nbformat": 4,
 "nbformat_minor": 1
}
