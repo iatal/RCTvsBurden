{
 "cells": [
  {
   "cell_type": "markdown",
   "metadata": {},
   "source": [
    "Mapping health research effort\n",
    "-------------------------------------\n",
    "Databases: \n",
    "* data\n",
    "          1. All RCTs registered at WHO ICTRP by Jan 1st 2016, \n",
    "          2. with start date between 2006 and 2015\n",
    "          3. with study type and design corresponding to RCT\n",
    "          4. with at least one country location among the 187 countries included in the GBD2010 study\n",
    "* replicates\n",
    "          1. for each disease, replicates of the mapping of RCTs across diseases\n",
    "\n",
    "We will: \n",
    "          1. Derive uncertainty intervals for the mapping of RCTs across diseases"
   ]
  },
  {
   "cell_type": "code",
   "execution_count": 1,
   "metadata": {
    "collapsed": false
   },
   "outputs": [
    {
     "data": {
      "text/html": [
       "<ol class=list-inline>\n",
       "\t<li>'TrialID'</li>\n",
       "\t<li>'brief_title'</li>\n",
       "\t<li>'official_title'</li>\n",
       "\t<li>'Primary_sponsor'</li>\n",
       "\t<li>'Source_Register'</li>\n",
       "\t<li>'Recruitment_Status'</li>\n",
       "\t<li>'other_records'</li>\n",
       "\t<li>'Target_size'</li>\n",
       "\t<li>'Study_type'</li>\n",
       "\t<li>'Study_design'</li>\n",
       "\t<li>'Phase'</li>\n",
       "\t<li>'Countries'</li>\n",
       "\t<li>'condition'</li>\n",
       "\t<li>'Secondary_ID'</li>\n",
       "\t<li>'Source_Support'</li>\n",
       "\t<li>'Secondary_Sponsor'</li>\n",
       "\t<li>'year'</li>\n",
       "\t<li>'Interv'</li>\n",
       "\t<li>'Regions'</li>\n",
       "\t<li>'Nb_ctr_per_reg'</li>\n",
       "\t<li>'Sample'</li>\n",
       "\t<li>'PMID'</li>\n",
       "\t<li>'GBD28'</li>\n",
       "\t<li>'GBD171'</li>\n",
       "\t<li>'Infectious'</li>\n",
       "\t<li>'MNN'</li>\n",
       "\t<li>'Cancer'</li>\n",
       "\t<li>'Chronic'</li>\n",
       "</ol>\n"
      ],
      "text/latex": [
       "\\begin{enumerate*}\n",
       "\\item 'TrialID'\n",
       "\\item 'brief\\_title'\n",
       "\\item 'official\\_title'\n",
       "\\item 'Primary\\_sponsor'\n",
       "\\item 'Source\\_Register'\n",
       "\\item 'Recruitment\\_Status'\n",
       "\\item 'other\\_records'\n",
       "\\item 'Target\\_size'\n",
       "\\item 'Study\\_type'\n",
       "\\item 'Study\\_design'\n",
       "\\item 'Phase'\n",
       "\\item 'Countries'\n",
       "\\item 'condition'\n",
       "\\item 'Secondary\\_ID'\n",
       "\\item 'Source\\_Support'\n",
       "\\item 'Secondary\\_Sponsor'\n",
       "\\item 'year'\n",
       "\\item 'Interv'\n",
       "\\item 'Regions'\n",
       "\\item 'Nb\\_ctr\\_per\\_reg'\n",
       "\\item 'Sample'\n",
       "\\item 'PMID'\n",
       "\\item 'GBD28'\n",
       "\\item 'GBD171'\n",
       "\\item 'Infectious'\n",
       "\\item 'MNN'\n",
       "\\item 'Cancer'\n",
       "\\item 'Chronic'\n",
       "\\end{enumerate*}\n"
      ],
      "text/markdown": [
       "1. 'TrialID'\n",
       "2. 'brief_title'\n",
       "3. 'official_title'\n",
       "4. 'Primary_sponsor'\n",
       "5. 'Source_Register'\n",
       "6. 'Recruitment_Status'\n",
       "7. 'other_records'\n",
       "8. 'Target_size'\n",
       "9. 'Study_type'\n",
       "10. 'Study_design'\n",
       "11. 'Phase'\n",
       "12. 'Countries'\n",
       "13. 'condition'\n",
       "14. 'Secondary_ID'\n",
       "15. 'Source_Support'\n",
       "16. 'Secondary_Sponsor'\n",
       "17. 'year'\n",
       "18. 'Interv'\n",
       "19. 'Regions'\n",
       "20. 'Nb_ctr_per_reg'\n",
       "21. 'Sample'\n",
       "22. 'PMID'\n",
       "23. 'GBD28'\n",
       "24. 'GBD171'\n",
       "25. 'Infectious'\n",
       "26. 'MNN'\n",
       "27. 'Cancer'\n",
       "28. 'Chronic'\n",
       "\n",
       "\n"
      ],
      "text/plain": [
       " [1] \"TrialID\"            \"brief_title\"        \"official_title\"    \n",
       " [4] \"Primary_sponsor\"    \"Source_Register\"    \"Recruitment_Status\"\n",
       " [7] \"other_records\"      \"Target_size\"        \"Study_type\"        \n",
       "[10] \"Study_design\"       \"Phase\"              \"Countries\"         \n",
       "[13] \"condition\"          \"Secondary_ID\"       \"Source_Support\"    \n",
       "[16] \"Secondary_Sponsor\"  \"year\"               \"Interv\"            \n",
       "[19] \"Regions\"            \"Nb_ctr_per_reg\"     \"Sample\"            \n",
       "[22] \"PMID\"               \"GBD28\"              \"GBD171\"            \n",
       "[25] \"Infectious\"         \"MNN\"                \"Cancer\"            \n",
       "[28] \"Chronic\"           "
      ]
     },
     "metadata": {},
     "output_type": "display_data"
    }
   ],
   "source": [
    "#Upload database\n",
    "data <- read.table(\"/media/igna/Elements/HotelDieu/Cochrane/Mapping_Cancer/Flowchart/database_all_diseases_final_ok.txt\")\n",
    "N <- nrow(data)\n",
    "names(data)"
   ]
  },
  {
   "cell_type": "markdown",
   "metadata": {},
   "source": [
    "- TrialID: unique trial ID from WHOICTRP\n",
    "- Regions: 7 epidemiological regions from GBD 2010 study\n",
    "- GBD28: classification according to 28 categories defined in Atal et al. BMC Bioinformatics (2016): This classification includes the injuries category, we exclude it"
   ]
  },
  {
   "cell_type": "code",
   "execution_count": 2,
   "metadata": {
    "collapsed": false
   },
   "outputs": [
    {
     "data": {
      "text/html": [
       "28"
      ],
      "text/latex": [
       "28"
      ],
      "text/markdown": [
       "28"
      ],
      "text/plain": [
       "[1] 28"
      ]
     },
     "metadata": {},
     "output_type": "display_data"
    }
   ],
   "source": [
    "#Upload traduction names/label categories\n",
    "Mgbd <- read.table(\"/home/igna/Desktop/Programs GBD/Classifier_Trial_GBD/Databases/Taxonomy_DL/GBD_data/GBD_ICD.txt\")\n",
    "#And supress injuries from the causes of burden\n",
    "grep(\"Injur\",Mgbd$cause_name)\n",
    "GBD27 <- sapply(strsplit(as.character(data$GBD28),\"&\"),function(x){paste(x[x!=\"28\"],collapse=\"&\")})\n",
    "data$GBD27 <- GBD27"
   ]
  },
  {
   "cell_type": "markdown",
   "metadata": {},
   "source": [
    "## 2- Estimation of number RCTs per region and disease"
   ]
  },
  {
   "cell_type": "code",
   "execution_count": 3,
   "metadata": {
    "collapsed": true
   },
   "outputs": [],
   "source": [
    "regs <- sort(unique(unlist(strsplit(as.character(data$Regions),\"&\"))))\n",
    "LR <- lapply(regs,function(x){1:nrow(data)%in%grep(x,data$Regions)})\n",
    "LR <- do.call('cbind',LR)"
   ]
  },
  {
   "cell_type": "code",
   "execution_count": 4,
   "metadata": {
    "collapsed": true
   },
   "outputs": [],
   "source": [
    "dis <- 1:27\n",
    "d <- dis[1]\n",
    "\n",
    "SMs <- list.files(paste(\"/media/igna/Elements/HotelDieu/Cochrane/Mapping_Cancer/Incertitude_mapping/Replicates/\",as.character(d),sep=\"\"))"
   ]
  },
  {
   "cell_type": "code",
   "execution_count": 5,
   "metadata": {
    "collapsed": false
   },
   "outputs": [],
   "source": [
    "ss_sp <- read.table(paste(c(\"/media/igna/Elements/HotelDieu/Cochrane/Mapping_Cancer/Incertitude_mapping/Replicates/\",as.character(d),\"/Sens_spec.txt\"),collapse=\"\"))\n"
   ]
  },
  {
   "cell_type": "code",
   "execution_count": 6,
   "metadata": {
    "collapsed": false,
    "scrolled": true
   },
   "outputs": [
    {
     "data": {
      "image/png": "[encoded data removed]",
      "text/plain": [
       "Plot with title “spec_oth”"
      ]
     },
     "metadata": {},
     "output_type": "display_data"
    }
   ],
   "source": [
    "options(repr.plot.width=9, repr.plot.height=3)\n",
    "par(mfrow=c(1,4))\n",
    "for(i in 1:ncol(ss_sp)) hist(ss_sp[,i],xlim=c(0,1),main=colnames(ss_sp)[i],xlab=NULL)"
   ]
  },
  {
   "cell_type": "code",
   "execution_count": 7,
   "metadata": {
    "collapsed": true
   },
   "outputs": [],
   "source": [
    "SMs <- SMs[grep(\"Reclassif\",SMs)]"
   ]
  },
  {
   "cell_type": "code",
   "execution_count": 8,
   "metadata": {
    "collapsed": false
   },
   "outputs": [
    {
     "data": {
      "text/html": [
       "9903"
      ],
      "text/latex": [
       "9903"
      ],
      "text/markdown": [
       "9903"
      ],
      "text/plain": [
       "[1] 9903"
      ]
     },
     "metadata": {},
     "output_type": "display_data"
    }
   ],
   "source": [
    "length(SMs)"
   ]
  },
  {
   "cell_type": "code",
   "execution_count": 9,
   "metadata": {
    "collapsed": true
   },
   "outputs": [],
   "source": [
    "k <- sample(SMs,1)"
   ]
  },
  {
   "cell_type": "code",
   "execution_count": 10,
   "metadata": {
    "collapsed": true
   },
   "outputs": [],
   "source": [
    "recl <- read.table(paste(c(\"/media/igna/Elements/HotelDieu/Cochrane/Mapping_Cancer/Incertitude_mapping/Replicates/\",as.character(d),\"/\",k),collapse=\"\"),header=TRUE)"
   ]
  },
  {
   "cell_type": "code",
   "execution_count": 11,
   "metadata": {
    "collapsed": false,
    "scrolled": true
   },
   "outputs": [
    {
     "data": {
      "text/html": [
       "<table>\n",
       "<thead><tr><th></th><th scope=col>recl_dis</th><th scope=col>recl_oth</th></tr></thead>\n",
       "<tbody>\n",
       "\t<tr><th scope=row>1</th><td>0</td><td>0</td></tr>\n",
       "\t<tr><th scope=row>2</th><td>0</td><td>1</td></tr>\n",
       "\t<tr><th scope=row>3</th><td>0</td><td>0</td></tr>\n",
       "\t<tr><th scope=row>4</th><td>0</td><td>0</td></tr>\n",
       "\t<tr><th scope=row>5</th><td>0</td><td>1</td></tr>\n",
       "\t<tr><th scope=row>6</th><td>0</td><td>1</td></tr>\n",
       "</tbody>\n",
       "</table>\n"
      ],
      "text/latex": [
       "\\begin{tabular}{r|ll}\n",
       "  & recl\\_dis & recl\\_oth\\\\\n",
       "\\hline\n",
       "\t1 & 0 & 0\\\\\n",
       "\t2 & 0 & 1\\\\\n",
       "\t3 & 0 & 0\\\\\n",
       "\t4 & 0 & 0\\\\\n",
       "\t5 & 0 & 1\\\\\n",
       "\t6 & 0 & 1\\\\\n",
       "\\end{tabular}\n"
      ],
      "text/plain": [
       "  recl_dis recl_oth\n",
       "1        0        0\n",
       "2        0        1\n",
       "3        0        0\n",
       "4        0        0\n",
       "5        0        1\n",
       "6        0        1"
      ]
     },
     "metadata": {},
     "output_type": "display_data"
    }
   ],
   "source": [
    "head(recl)"
   ]
  },
  {
   "cell_type": "code",
   "execution_count": 12,
   "metadata": {
    "collapsed": false,
    "scrolled": true
   },
   "outputs": [
    {
     "data": {
      "text/html": [
       "<ol class=list-inline>\n",
       "\t<li>11</li>\n",
       "\t<li>78</li>\n",
       "\t<li>24</li>\n",
       "\t<li>14</li>\n",
       "\t<li>38</li>\n",
       "\t<li>49</li>\n",
       "\t<li>106</li>\n",
       "</ol>\n"
      ],
      "text/latex": [
       "\\begin{enumerate*}\n",
       "\\item 11\n",
       "\\item 78\n",
       "\\item 24\n",
       "\\item 14\n",
       "\\item 38\n",
       "\\item 49\n",
       "\\item 106\n",
       "\\end{enumerate*}\n"
      ],
      "text/markdown": [
       "1. 11\n",
       "2. 78\n",
       "3. 24\n",
       "4. 14\n",
       "5. 38\n",
       "6. 49\n",
       "7. 106\n",
       "\n",
       "\n"
      ],
      "text/plain": [
       "[1]  11  78  24  14  38  49 106"
      ]
     },
     "metadata": {},
     "output_type": "display_data"
    }
   ],
   "source": [
    "apply(LR[as.logical(recl$recl_dis),],2,sum)"
   ]
  },
  {
   "cell_type": "code",
   "execution_count": 15,
   "metadata": {
    "collapsed": false
   },
   "outputs": [
    {
     "data": {
      "text/html": [
       "<ol class=list-inline>\n",
       "\t<li>6283</li>\n",
       "\t<li>63596</li>\n",
       "\t<li>4408</li>\n",
       "\t<li>8201</li>\n",
       "\t<li>4542</li>\n",
       "\t<li>8898</li>\n",
       "\t<li>2335</li>\n",
       "</ol>\n"
      ],
      "text/latex": [
       "\\begin{enumerate*}\n",
       "\\item 6283\n",
       "\\item 63596\n",
       "\\item 4408\n",
       "\\item 8201\n",
       "\\item 4542\n",
       "\\item 8898\n",
       "\\item 2335\n",
       "\\end{enumerate*}\n"
      ],
      "text/markdown": [
       "1. 6283\n",
       "2. 63596\n",
       "3. 4408\n",
       "4. 8201\n",
       "5. 4542\n",
       "6. 8898\n",
       "7. 2335\n",
       "\n",
       "\n"
      ],
      "text/plain": [
       "[1]  6283 63596  4408  8201  4542  8898  2335"
      ]
     },
     "metadata": {},
     "output_type": "display_data"
    }
   ],
   "source": [
    "apply(LR[as.logical(recl$recl_dis+recl$recl_oth),],2,sum)"
   ]
  },
  {
   "cell_type": "code",
   "execution_count": 17,
   "metadata": {
    "collapsed": false
   },
   "outputs": [],
   "source": [
    "t0 <- proc.time()\n",
    "A <- \n",
    "lapply(SMs,function(k){\n",
    "    recl <- read.table(paste(c(\"/home/igna/Desktop/\",\n",
    "                               as.character(d),\"/\",k),collapse=\"\"),header=TRUE)\n",
    "    \n",
    "    tt <- sum(recl$recl_dis)\n",
    "    cbind(ifelse(tt==0,rep(0,length(regs)),\n",
    "          ifelse(tt==1,as.numeric(LR[as.logical(recl$recl_dis),]),\n",
    "          apply(LR[as.logical(recl$recl_dis),],2,sum))),\n",
    "    apply(LR[as.logical(recl$recl_dis+recl$recl_oth),],2,sum))\n",
    "    \n",
    "})\n",
    "t1 <- proc.time()"
   ]
  },
  {
   "cell_type": "code",
   "execution_count": 18,
   "metadata": {
    "collapsed": false
   },
   "outputs": [
    {
     "data": {
      "text/plain": [
       "       user      system     elapsed \n",
       "24.71081667  0.07793333 25.34556667 "
      ]
     },
     "metadata": {},
     "output_type": "display_data"
    }
   ],
   "source": [
    "(t1-t0)/60"
   ]
  },
  {
   "cell_type": "code",
   "execution_count": 19,
   "metadata": {
    "collapsed": false
   },
   "outputs": [],
   "source": [
    "library(parallel)"
   ]
  },
  {
   "cell_type": "code",
   "execution_count": 20,
   "metadata": {
    "collapsed": false
   },
   "outputs": [
    {
     "data": {
      "text/html": [
       "4"
      ],
      "text/latex": [
       "4"
      ],
      "text/markdown": [
       "4"
      ],
      "text/plain": [
       "[1] 4"
      ]
     },
     "metadata": {},
     "output_type": "display_data"
    }
   ],
   "source": [
    "detectCores()"
   ]
  },
  {
   "cell_type": "code",
   "execution_count": 21,
   "metadata": {
    "collapsed": false
   },
   "outputs": [
    {
     "name": "stderr",
     "output_type": "stream",
     "text": [
      "Loading required package: iterators\n"
     ]
    }
   ],
   "source": [
    "library(foreach)\n",
    "library(doParallel)"
   ]
  },
  {
   "cell_type": "code",
   "execution_count": 22,
   "metadata": {
    "collapsed": false
   },
   "outputs": [],
   "source": [
    "\n",
    "cl<-makeCluster(4)\n",
    "registerDoParallel(cl)\n",
    "\n",
    "t0 <- proc.time()\n",
    "A <- foreach(k = SMs) %dopar% {\n",
    "    recl <- read.table(paste(c(\"/home/igna/Desktop/\",\n",
    "                               as.character(d),\"/\",k),collapse=\"\"),header=TRUE)\n",
    "    \n",
    "    tt <- sum(recl$recl_dis)\n",
    "    cbind(ifelse(tt==0,rep(0,length(regs)),\n",
    "          ifelse(tt==1,as.numeric(LR[as.logical(recl$recl_dis),]),\n",
    "          apply(LR[as.logical(recl$recl_dis),],2,sum))),\n",
    "    apply(LR[as.logical(recl$recl_dis+recl$recl_oth),],2,sum))\n",
    "}\n",
    "\n",
    "t1 <- proc.time()-t0\n",
    "\n",
    "stopCluster(cl)\n",
    "\n"
   ]
  },
  {
   "cell_type": "code",
   "execution_count": 23,
   "metadata": {
    "collapsed": false
   },
   "outputs": [
    {
     "data": {
      "text/plain": [
       "        user       system      elapsed \n",
       " 0.150300000  0.007666667 10.509900000 "
      ]
     },
     "metadata": {},
     "output_type": "display_data"
    }
   ],
   "source": [
    "t1/60"
   ]
  },
  {
   "cell_type": "code",
   "execution_count": 48,
   "metadata": {
    "collapsed": true
   },
   "outputs": [],
   "source": [
    "\n",
    "cl<-makeCluster(8)\n",
    "registerDoParallel(cl)\n",
    "\n",
    "t0 <- proc.time()\n",
    "A <- foreach(k = SMs) %dopar% {\n",
    "    recl <- read.table(paste(c(\"/media/igna/Elements/HotelDieu/Cochrane/Mapping_Cancer/Incertitude_mapping/Replicates/\",\n",
    "                               as.character(d),\"/\",k),collapse=\"\"),header=TRUE)\n",
    "    \n",
    "    tt <- sum(recl$recl_dis)\n",
    "    cbind(unlist(ifelse(tt==0,list(rep(0,length(regs))),\n",
    "          ifelse(tt==1,list(as.numeric(LR[as.logical(recl$recl_dis),])),\n",
    "          list(apply(LR[as.logical(recl$recl_dis),],2,sum))))),\n",
    "    apply(LR[as.logical(recl$recl_dis+recl$recl_oth),],2,sum))\n",
    "}\n",
    "\n",
    "t1 <- proc.time()-t0\n",
    "\n",
    "stopCluster(cl)\n",
    "\n"
   ]
  },
  {
   "cell_type": "code",
   "execution_count": 49,
   "metadata": {
    "collapsed": false,
    "scrolled": true
   },
   "outputs": [
    {
     "data": {
      "text/plain": [
       "       user      system     elapsed \n",
       "0.140800000 0.007466667 9.953133333 "
      ]
     },
     "metadata": {},
     "output_type": "display_data"
    }
   ],
   "source": [
    "t1/60"
   ]
  },
  {
   "cell_type": "code",
   "execution_count": 45,
   "metadata": {
    "collapsed": false,
    "scrolled": true
   },
   "outputs": [
    {
     "data": {
      "text/html": [
       "<ol>\n",
       "\t<li><table>\n",
       "<tbody>\n",
       "\t<tr><td>  21</td><td>6104</td></tr>\n",
       "\t<tr><td>  105</td><td>62046</td></tr>\n",
       "\t<tr><td>  34</td><td>4315</td></tr>\n",
       "\t<tr><td>  18</td><td>7932</td></tr>\n",
       "\t<tr><td>  52</td><td>4497</td></tr>\n",
       "\t<tr><td>  68</td><td>8709</td></tr>\n",
       "\t<tr><td> 138</td><td>2303</td></tr>\n",
       "</tbody>\n",
       "</table>\n",
       "</li>\n",
       "\t<li><table>\n",
       "<tbody>\n",
       "\t<tr><td>  23</td><td>5963</td></tr>\n",
       "\t<tr><td>  153</td><td>60737</td></tr>\n",
       "\t<tr><td>  40</td><td>4137</td></tr>\n",
       "\t<tr><td>  33</td><td>7771</td></tr>\n",
       "\t<tr><td>  57</td><td>4394</td></tr>\n",
       "\t<tr><td>  72</td><td>8503</td></tr>\n",
       "\t<tr><td> 133</td><td>2213</td></tr>\n",
       "</tbody>\n",
       "</table>\n",
       "</li>\n",
       "\t<li><table>\n",
       "<tbody>\n",
       "\t<tr><td>  12</td><td>6117</td></tr>\n",
       "\t<tr><td>   81</td><td>61694</td></tr>\n",
       "\t<tr><td>  27</td><td>4228</td></tr>\n",
       "\t<tr><td>  10</td><td>7982</td></tr>\n",
       "\t<tr><td>  33</td><td>4412</td></tr>\n",
       "\t<tr><td>  45</td><td>8583</td></tr>\n",
       "\t<tr><td>  93</td><td>2227</td></tr>\n",
       "</tbody>\n",
       "</table>\n",
       "</li>\n",
       "\t<li><table>\n",
       "<tbody>\n",
       "\t<tr><td>  17</td><td>6126</td></tr>\n",
       "\t<tr><td>   75</td><td>61757</td></tr>\n",
       "\t<tr><td>  26</td><td>4259</td></tr>\n",
       "\t<tr><td>  14</td><td>7990</td></tr>\n",
       "\t<tr><td>  40</td><td>4404</td></tr>\n",
       "\t<tr><td>  51</td><td>8680</td></tr>\n",
       "\t<tr><td>  96</td><td>2292</td></tr>\n",
       "</tbody>\n",
       "</table>\n",
       "</li>\n",
       "\t<li><table>\n",
       "<tbody>\n",
       "\t<tr><td>  20</td><td>6177</td></tr>\n",
       "\t<tr><td>   86</td><td>62168</td></tr>\n",
       "\t<tr><td>  26</td><td>4316</td></tr>\n",
       "\t<tr><td>  17</td><td>7999</td></tr>\n",
       "\t<tr><td>  42</td><td>4459</td></tr>\n",
       "\t<tr><td>  57</td><td>8754</td></tr>\n",
       "\t<tr><td> 111</td><td>2297</td></tr>\n",
       "</tbody>\n",
       "</table>\n",
       "</li>\n",
       "\t<li><table>\n",
       "<tbody>\n",
       "\t<tr><td>  11</td><td>6243</td></tr>\n",
       "\t<tr><td>   72</td><td>63386</td></tr>\n",
       "\t<tr><td>  22</td><td>4352</td></tr>\n",
       "\t<tr><td>  10</td><td>8222</td></tr>\n",
       "\t<tr><td>  30</td><td>4560</td></tr>\n",
       "\t<tr><td>  42</td><td>8834</td></tr>\n",
       "\t<tr><td>  89</td><td>2296</td></tr>\n",
       "</tbody>\n",
       "</table>\n",
       "</li>\n",
       "</ol>\n"
      ],
      "text/latex": [
       "\\begin{enumerate}\n",
       "\\item \\begin{tabular}{ll}\n",
       "\t   21 & 6104\\\\\n",
       "\t   105 & 62046\\\\\n",
       "\t   34 & 4315\\\\\n",
       "\t   18 & 7932\\\\\n",
       "\t   52 & 4497\\\\\n",
       "\t   68 & 8709\\\\\n",
       "\t  138 & 2303\\\\\n",
       "\\end{tabular}\n",
       "\n",
       "\\item \\begin{tabular}{ll}\n",
       "\t   23 & 5963\\\\\n",
       "\t   153 & 60737\\\\\n",
       "\t   40 & 4137\\\\\n",
       "\t   33 & 7771\\\\\n",
       "\t   57 & 4394\\\\\n",
       "\t   72 & 8503\\\\\n",
       "\t  133 & 2213\\\\\n",
       "\\end{tabular}\n",
       "\n",
       "\\item \\begin{tabular}{ll}\n",
       "\t   12 & 6117\\\\\n",
       "\t    81 & 61694\\\\\n",
       "\t   27 & 4228\\\\\n",
       "\t   10 & 7982\\\\\n",
       "\t   33 & 4412\\\\\n",
       "\t   45 & 8583\\\\\n",
       "\t   93 & 2227\\\\\n",
       "\\end{tabular}\n",
       "\n",
       "\\item \\begin{tabular}{ll}\n",
       "\t   17 & 6126\\\\\n",
       "\t    75 & 61757\\\\\n",
       "\t   26 & 4259\\\\\n",
       "\t   14 & 7990\\\\\n",
       "\t   40 & 4404\\\\\n",
       "\t   51 & 8680\\\\\n",
       "\t   96 & 2292\\\\\n",
       "\\end{tabular}\n",
       "\n",
       "\\item \\begin{tabular}{ll}\n",
       "\t   20 & 6177\\\\\n",
       "\t    86 & 62168\\\\\n",
       "\t   26 & 4316\\\\\n",
       "\t   17 & 7999\\\\\n",
       "\t   42 & 4459\\\\\n",
       "\t   57 & 8754\\\\\n",
       "\t  111 & 2297\\\\\n",
       "\\end{tabular}\n",
       "\n",
       "\\item \\begin{tabular}{ll}\n",
       "\t   11 & 6243\\\\\n",
       "\t    72 & 63386\\\\\n",
       "\t   22 & 4352\\\\\n",
       "\t   10 & 8222\\\\\n",
       "\t   30 & 4560\\\\\n",
       "\t   42 & 8834\\\\\n",
       "\t   89 & 2296\\\\\n",
       "\\end{tabular}\n",
       "\n",
       "\\end{enumerate}\n"
      ],
      "text/markdown": [
       "1. 1. 21\n",
       "2. 105\n",
       "3. 34\n",
       "4. 18\n",
       "5. 52\n",
       "6. 68\n",
       "7. 138\n",
       "8. 6104\n",
       "9. 62046\n",
       "10. 4315\n",
       "11. 7932\n",
       "12. 4497\n",
       "13. 8709\n",
       "14. 2303\n",
       "\n",
       "\n",
       "\n",
       "2. 1. 23\n",
       "2. 153\n",
       "3. 40\n",
       "4. 33\n",
       "5. 57\n",
       "6. 72\n",
       "7. 133\n",
       "8. 5963\n",
       "9. 60737\n",
       "10. 4137\n",
       "11. 7771\n",
       "12. 4394\n",
       "13. 8503\n",
       "14. 2213\n",
       "\n",
       "\n",
       "\n",
       "3. 1. 12\n",
       "2. 81\n",
       "3. 27\n",
       "4. 10\n",
       "5. 33\n",
       "6. 45\n",
       "7. 93\n",
       "8. 6117\n",
       "9. 61694\n",
       "10. 4228\n",
       "11. 7982\n",
       "12. 4412\n",
       "13. 8583\n",
       "14. 2227\n",
       "\n",
       "\n",
       "\n",
       "4. 1. 17\n",
       "2. 75\n",
       "3. 26\n",
       "4. 14\n",
       "5. 40\n",
       "6. 51\n",
       "7. 96\n",
       "8. 6126\n",
       "9. 61757\n",
       "10. 4259\n",
       "11. 7990\n",
       "12. 4404\n",
       "13. 8680\n",
       "14. 2292\n",
       "\n",
       "\n",
       "\n",
       "5. 1. 20\n",
       "2. 86\n",
       "3. 26\n",
       "4. 17\n",
       "5. 42\n",
       "6. 57\n",
       "7. 111\n",
       "8. 6177\n",
       "9. 62168\n",
       "10. 4316\n",
       "11. 7999\n",
       "12. 4459\n",
       "13. 8754\n",
       "14. 2297\n",
       "\n",
       "\n",
       "\n",
       "6. 1. 11\n",
       "2. 72\n",
       "3. 22\n",
       "4. 10\n",
       "5. 30\n",
       "6. 42\n",
       "7. 89\n",
       "8. 6243\n",
       "9. 63386\n",
       "10. 4352\n",
       "11. 8222\n",
       "12. 4560\n",
       "13. 8834\n",
       "14. 2296\n",
       "\n",
       "\n",
       "\n",
       "\n",
       "\n"
      ],
      "text/plain": [
       "[[1]]\n",
       "     [,1]  [,2]\n",
       "[1,]   21  6104\n",
       "[2,]  105 62046\n",
       "[3,]   34  4315\n",
       "[4,]   18  7932\n",
       "[5,]   52  4497\n",
       "[6,]   68  8709\n",
       "[7,]  138  2303\n",
       "\n",
       "[[2]]\n",
       "     [,1]  [,2]\n",
       "[1,]   23  5963\n",
       "[2,]  153 60737\n",
       "[3,]   40  4137\n",
       "[4,]   33  7771\n",
       "[5,]   57  4394\n",
       "[6,]   72  8503\n",
       "[7,]  133  2213\n",
       "\n",
       "[[3]]\n",
       "     [,1]  [,2]\n",
       "[1,]   12  6117\n",
       "[2,]   81 61694\n",
       "[3,]   27  4228\n",
       "[4,]   10  7982\n",
       "[5,]   33  4412\n",
       "[6,]   45  8583\n",
       "[7,]   93  2227\n",
       "\n",
       "[[4]]\n",
       "     [,1]  [,2]\n",
       "[1,]   17  6126\n",
       "[2,]   75 61757\n",
       "[3,]   26  4259\n",
       "[4,]   14  7990\n",
       "[5,]   40  4404\n",
       "[6,]   51  8680\n",
       "[7,]   96  2292\n",
       "\n",
       "[[5]]\n",
       "     [,1]  [,2]\n",
       "[1,]   20  6177\n",
       "[2,]   86 62168\n",
       "[3,]   26  4316\n",
       "[4,]   17  7999\n",
       "[5,]   42  4459\n",
       "[6,]   57  8754\n",
       "[7,]  111  2297\n",
       "\n",
       "[[6]]\n",
       "     [,1]  [,2]\n",
       "[1,]   11  6243\n",
       "[2,]   72 63386\n",
       "[3,]   22  4352\n",
       "[4,]   10  8222\n",
       "[5,]   30  4560\n",
       "[6,]   42  8834\n",
       "[7,]   89  2296\n"
      ]
     },
     "metadata": {},
     "output_type": "display_data"
    }
   ],
   "source": [
    "head(A)"
   ]
  },
  {
   "cell_type": "code",
   "execution_count": 47,
   "metadata": {
    "collapsed": false
   },
   "outputs": [
    {
     "data": {
      "text/plain": [
       "     user    system   elapsed \n",
       "0.0581400 0.0028425 4.6945725 "
      ]
     },
     "metadata": {},
     "output_type": "display_data"
    }
   ],
   "source": [
    "(t1/60)*27/60"
   ]
  },
  {
   "cell_type": "code",
   "execution_count": 42,
   "metadata": {
    "collapsed": false
   },
   "outputs": [
    {
     "data": {
      "text/html": [
       "<table>\n",
       "<tbody>\n",
       "\t<tr><td>  21</td><td>6104</td></tr>\n",
       "\t<tr><td>  105</td><td>62046</td></tr>\n",
       "\t<tr><td>  34</td><td>4315</td></tr>\n",
       "\t<tr><td>  18</td><td>7932</td></tr>\n",
       "\t<tr><td>  52</td><td>4497</td></tr>\n",
       "\t<tr><td>  68</td><td>8709</td></tr>\n",
       "\t<tr><td> 138</td><td>2303</td></tr>\n",
       "</tbody>\n",
       "</table>\n"
      ],
      "text/latex": [
       "\\begin{tabular}{ll}\n",
       "\t   21 & 6104\\\\\n",
       "\t   105 & 62046\\\\\n",
       "\t   34 & 4315\\\\\n",
       "\t   18 & 7932\\\\\n",
       "\t   52 & 4497\\\\\n",
       "\t   68 & 8709\\\\\n",
       "\t  138 & 2303\\\\\n",
       "\\end{tabular}\n"
      ],
      "text/markdown": [
       "1. 21\n",
       "2. 105\n",
       "3. 34\n",
       "4. 18\n",
       "5. 52\n",
       "6. 68\n",
       "7. 138\n",
       "8. 6104\n",
       "9. 62046\n",
       "10. 4315\n",
       "11. 7932\n",
       "12. 4497\n",
       "13. 8709\n",
       "14. 2303\n",
       "\n",
       "\n"
      ],
      "text/plain": [
       "     [,1]  [,2]\n",
       "[1,]   21  6104\n",
       "[2,]  105 62046\n",
       "[3,]   34  4315\n",
       "[4,]   18  7932\n",
       "[5,]   52  4497\n",
       "[6,]   68  8709\n",
       "[7,]  138  2303"
      ]
     },
     "metadata": {},
     "output_type": "display_data"
    }
   ],
   "source": [
    "k <- SMs[1]\n",
    "    recl <- read.table(paste(c(\"/media/igna/Elements/HotelDieu/Cochrane/Mapping_Cancer/Incertitude_mapping/Replicates/\",\n",
    "                               as.character(d),\"/\",k),collapse=\"\"),header=TRUE)\n",
    "    \n",
    "    tt <- sum(recl$recl_dis)\n",
    "    cbind(unlist(ifelse(tt==0,list(rep(0,length(regs))),\n",
    "          ifelse(tt==1,list(as.numeric(LR[as.logical(recl$recl_dis),])),\n",
    "          list(apply(LR[as.logical(recl$recl_dis),],2,sum))))),\n",
    "    apply(LR[as.logical(recl$recl_dis+recl$recl_oth),],2,sum))\n"
   ]
  },
  {
   "cell_type": "code",
   "execution_count": 27,
   "metadata": {
    "collapsed": false
   },
   "outputs": [
    {
     "data": {
      "text/html": [
       "<ol class=list-inline>\n",
       "\t<li>21</li>\n",
       "\t<li>105</li>\n",
       "\t<li>34</li>\n",
       "\t<li>18</li>\n",
       "\t<li>52</li>\n",
       "\t<li>68</li>\n",
       "\t<li>138</li>\n",
       "</ol>\n"
      ],
      "text/latex": [
       "\\begin{enumerate*}\n",
       "\\item 21\n",
       "\\item 105\n",
       "\\item 34\n",
       "\\item 18\n",
       "\\item 52\n",
       "\\item 68\n",
       "\\item 138\n",
       "\\end{enumerate*}\n"
      ],
      "text/markdown": [
       "1. 21\n",
       "2. 105\n",
       "3. 34\n",
       "4. 18\n",
       "5. 52\n",
       "6. 68\n",
       "7. 138\n",
       "\n",
       "\n"
      ],
      "text/plain": [
       "[1]  21 105  34  18  52  68 138"
      ]
     },
     "metadata": {},
     "output_type": "display_data"
    }
   ],
   "source": [
    "apply(LR[as.logical(recl$recl_dis),],2,sum)"
   ]
  },
  {
   "cell_type": "code",
   "execution_count": 28,
   "metadata": {
    "collapsed": false
   },
   "outputs": [
    {
     "data": {
      "text/html": [
       "<ol class=list-inline>\n",
       "\t<li>6104</li>\n",
       "\t<li>62046</li>\n",
       "\t<li>4315</li>\n",
       "\t<li>7932</li>\n",
       "\t<li>4497</li>\n",
       "\t<li>8709</li>\n",
       "\t<li>2303</li>\n",
       "</ol>\n"
      ],
      "text/latex": [
       "\\begin{enumerate*}\n",
       "\\item 6104\n",
       "\\item 62046\n",
       "\\item 4315\n",
       "\\item 7932\n",
       "\\item 4497\n",
       "\\item 8709\n",
       "\\item 2303\n",
       "\\end{enumerate*}\n"
      ],
      "text/markdown": [
       "1. 6104\n",
       "2. 62046\n",
       "3. 4315\n",
       "4. 7932\n",
       "5. 4497\n",
       "6. 8709\n",
       "7. 2303\n",
       "\n",
       "\n"
      ],
      "text/plain": [
       "[1]  6104 62046  4315  7932  4497  8709  2303"
      ]
     },
     "metadata": {},
     "output_type": "display_data"
    }
   ],
   "source": [
    "apply(LR[as.logical(recl$recl_dis+recl$recl_oth),],2,sum)"
   ]
  },
  {
   "cell_type": "code",
   "execution_count": 29,
   "metadata": {
    "collapsed": false
   },
   "outputs": [
    {
     "data": {
      "text/html": [
       "<table>\n",
       "<tbody>\n",
       "\t<tr><td>  21</td><td>6104</td></tr>\n",
       "\t<tr><td>  105</td><td>62046</td></tr>\n",
       "\t<tr><td>  34</td><td>4315</td></tr>\n",
       "\t<tr><td>  18</td><td>7932</td></tr>\n",
       "\t<tr><td>  52</td><td>4497</td></tr>\n",
       "\t<tr><td>  68</td><td>8709</td></tr>\n",
       "\t<tr><td> 138</td><td>2303</td></tr>\n",
       "</tbody>\n",
       "</table>\n"
      ],
      "text/latex": [
       "\\begin{tabular}{ll}\n",
       "\t   21 & 6104\\\\\n",
       "\t   105 & 62046\\\\\n",
       "\t   34 & 4315\\\\\n",
       "\t   18 & 7932\\\\\n",
       "\t   52 & 4497\\\\\n",
       "\t   68 & 8709\\\\\n",
       "\t  138 & 2303\\\\\n",
       "\\end{tabular}\n"
      ],
      "text/markdown": [
       "1. 21\n",
       "2. 105\n",
       "3. 34\n",
       "4. 18\n",
       "5. 52\n",
       "6. 68\n",
       "7. 138\n",
       "8. 6104\n",
       "9. 62046\n",
       "10. 4315\n",
       "11. 7932\n",
       "12. 4497\n",
       "13. 8709\n",
       "14. 2303\n",
       "\n",
       "\n"
      ],
      "text/plain": [
       "     [,1]  [,2]\n",
       "[1,]   21  6104\n",
       "[2,]  105 62046\n",
       "[3,]   34  4315\n",
       "[4,]   18  7932\n",
       "[5,]   52  4497\n",
       "[6,]   68  8709\n",
       "[7,]  138  2303"
      ]
     },
     "metadata": {},
     "output_type": "display_data"
    }
   ],
   "source": [
    "cbind(apply(LR[as.logical(recl$recl_dis),],2,sum),apply(LR[as.logical(recl$recl_dis+recl$recl_oth),],2,sum))"
   ]
  },
  {
   "cell_type": "code",
   "execution_count": 32,
   "metadata": {
    "collapsed": false
   },
   "outputs": [
    {
     "ename": "ERROR",
     "evalue": "Error in parse(text = x, srcfile = src): <text>:4:0: unexpected end of input\n2:           ifelse(tt==1,as.numeric(LR[as.logical(recl$recl_dis),]),\n3:           c(apply(LR[as.logical(recl$recl_dis),],2,sum)))\n  ^\n",
     "output_type": "error",
     "traceback": [
      "Error in parse(text = x, srcfile = src): <text>:4:0: unexpected end of input\n2:           ifelse(tt==1,as.numeric(LR[as.logical(recl$recl_dis),]),\n3:           c(apply(LR[as.logical(recl$recl_dis),],2,sum)))\n  ^\nTraceback:\n"
     ]
    }
   ],
   "source": [
    "ifelse(tt==0,rep(0,length(regs)),\n",
    "          ifelse(tt==1,as.numeric(LR[as.logical(recl$recl_dis),]),\n",
    "          apply(LR[as.logical(recl$recl_dis),],2,sum)))"
   ]
  },
  {
   "cell_type": "code",
   "execution_count": 41,
   "metadata": {
    "collapsed": false
   },
   "outputs": [
    {
     "data": {
      "text/html": [
       "<ol class=list-inline>\n",
       "\t<li>21</li>\n",
       "\t<li>105</li>\n",
       "\t<li>34</li>\n",
       "\t<li>18</li>\n",
       "\t<li>52</li>\n",
       "\t<li>68</li>\n",
       "\t<li>138</li>\n",
       "</ol>\n"
      ],
      "text/latex": [
       "\\begin{enumerate*}\n",
       "\\item 21\n",
       "\\item 105\n",
       "\\item 34\n",
       "\\item 18\n",
       "\\item 52\n",
       "\\item 68\n",
       "\\item 138\n",
       "\\end{enumerate*}\n"
      ],
      "text/markdown": [
       "1. 21\n",
       "2. 105\n",
       "3. 34\n",
       "4. 18\n",
       "5. 52\n",
       "6. 68\n",
       "7. 138\n",
       "\n",
       "\n"
      ],
      "text/plain": [
       "[1]  21 105  34  18  52  68 138"
      ]
     },
     "metadata": {},
     "output_type": "display_data"
    }
   ],
   "source": [
    "tt <- 2\n",
    "unlist(ifelse(tt==0,list(rep(0,length(regs))),\n",
    "          ifelse(tt==1,list(as.numeric(LR[as.logical(recl$recl_dis),])),\n",
    "          list(apply(LR[as.logical(recl$recl_dis),],2,sum)))))"
   ]
  },
  {
   "cell_type": "code",
   "execution_count": 34,
   "metadata": {
    "collapsed": false
   },
   "outputs": [
    {
     "data": {
      "text/html": [
       "7"
      ],
      "text/latex": [
       "7"
      ],
      "text/markdown": [
       "7"
      ],
      "text/plain": [
       "[1] 7"
      ]
     },
     "metadata": {},
     "output_type": "display_data"
    }
   ],
   "source": [
    "length(regs)"
   ]
  },
  {
   "cell_type": "code",
   "execution_count": 35,
   "metadata": {
    "collapsed": false
   },
   "outputs": [
    {
     "data": {
      "text/html": [
       "<ol class=list-inline>\n",
       "\t<li>0</li>\n",
       "\t<li>0</li>\n",
       "\t<li>0</li>\n",
       "\t<li>0</li>\n",
       "\t<li>0</li>\n",
       "\t<li>0</li>\n",
       "\t<li>0</li>\n",
       "</ol>\n"
      ],
      "text/latex": [
       "\\begin{enumerate*}\n",
       "\\item 0\n",
       "\\item 0\n",
       "\\item 0\n",
       "\\item 0\n",
       "\\item 0\n",
       "\\item 0\n",
       "\\item 0\n",
       "\\end{enumerate*}\n"
      ],
      "text/markdown": [
       "1. 0\n",
       "2. 0\n",
       "3. 0\n",
       "4. 0\n",
       "5. 0\n",
       "6. 0\n",
       "7. 0\n",
       "\n",
       "\n"
      ],
      "text/plain": [
       "[1] 0 0 0 0 0 0 0"
      ]
     },
     "metadata": {},
     "output_type": "display_data"
    }
   ],
   "source": [
    "rep(0,length(regs))"
   ]
  },
  {
   "cell_type": "code",
   "execution_count": null,
   "metadata": {
    "collapsed": true
   },
   "outputs": [],
   "source": []
  }
 ],
 "metadata": {
  "kernelspec": {
   "display_name": "R",
   "language": "R",
   "name": "ir"
  },
  "language_info": {
   "codemirror_mode": "r",
   "file_extension": ".r",
   "mimetype": "text/x-r-source",
   "name": "R",
   "pygments_lexer": "r",
   "version": "3.3.1"
  }
 },
 "nbformat": 4,
 "nbformat_minor": 1
}
