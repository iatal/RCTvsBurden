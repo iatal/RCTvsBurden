{
 "cells": [
  {
   "cell_type": "markdown",
   "metadata": {},
   "source": [
    "# Analysis of research gaps: evolution on time of RCTs, etc"
   ]
  },
  {
   "cell_type": "code",
   "execution_count": 1,
   "metadata": {
    "collapsed": true
   },
   "outputs": [],
   "source": [
    "setwd('/media/igna/Elements/HotelDieu/Cochrane')\n",
    "\n",
    "G <- read.table(\"Mapping_Cancer/Tables/Local_research_gaps.txt\")\n",
    "data <- read.table(\"Mapping_Cancer/Flowchart/database_all_diseases_final_ok.txt\")\n"
   ]
  },
  {
   "cell_type": "code",
   "execution_count": 2,
   "metadata": {
    "collapsed": false
   },
   "outputs": [],
   "source": [
    "#List of diseases per trial\n",
    "#We supress injuries\n",
    "L <- strsplit(as.character(data$GBD28),\"&\")\n",
    "L <- lapply(L,function(x){x[x!=\"28\"]})\n",
    "#And for counting: trials with more than 4 diseases\n",
    "Lct <- lapply(L,function(x){ifelse(length(x)>4,\"\",x)})\n",
    "Lct <- lapply(Lct,as.numeric)"
   ]
  },
  {
   "cell_type": "code",
   "execution_count": 3,
   "metadata": {
    "collapsed": true
   },
   "outputs": [],
   "source": [
    "#Disease labels in data\n",
    "Mgbd <- read.table(\"/home/igna/Desktop/Programs GBD/Classifier_Trial_GBD/Databases/Taxonomy_DL/GBD_data/GBD_ICD.txt\")\n"
   ]
  },
  {
   "cell_type": "code",
   "execution_count": 4,
   "metadata": {
    "collapsed": true
   },
   "outputs": [],
   "source": [
    "#Function: for a given disease and region, list of RCTs concerning burden \n",
    "#of the region and labelled those concerning the dis\n",
    "list_rcts <- function(dis,reg){    \n",
    "    ddreg <- data[(1:nrow(data)%in%grep(reg,data$Regions)) & sapply(L,function(x){length(x)!=0}),]\n",
    "    lreg  <- Lct[(1:nrow(data)%in%grep(reg,data$Regions)) & sapply(L,function(x){length(x)!=0})]\n",
    "    ddreg$is_dis <- sapply(lreg,function(x){which(Mgbd$cause_name==dis)%in%x}) \n",
    "    return(ddreg)\n",
    "}"
   ]
  },
  {
   "cell_type": "code",
   "execution_count": 5,
   "metadata": {
    "collapsed": false
   },
   "outputs": [],
   "source": [
    "dis <- as.character(G$Dis[1])\n",
    "reg <- as.character(G$Reg[1])\n",
    "\n",
    "dd <- list_rcts(dis,reg)"
   ]
  },
  {
   "cell_type": "markdown",
   "metadata": {},
   "source": [
    "### Plotting evolution on time of RCTs for a given gap"
   ]
  },
  {
   "cell_type": "code",
   "execution_count": 6,
   "metadata": {
    "collapsed": false
   },
   "outputs": [
    {
     "data": {
      "image/png": "[encoded data removed]",
      "text/plain": [
       "plot without title"
      ]
     },
     "metadata": {},
     "output_type": "display_data"
    }
   ],
   "source": [
    "plot(cumsum(table(dd$year[dd$is_dis])))"
   ]
  },
  {
   "cell_type": "code",
   "execution_count": 7,
   "metadata": {
    "collapsed": false
   },
   "outputs": [
    {
     "data": {
      "image/png": "[encoded data removed]",
      "text/plain": [
       "plot without title"
      ]
     },
     "metadata": {},
     "output_type": "display_data"
    }
   ],
   "source": [
    "#All RCTs in the region\n",
    "plot(table(dd$year))"
   ]
  },
  {
   "cell_type": "markdown",
   "metadata": {},
   "source": [
    "#### Evolution of local share per year"
   ]
  },
  {
   "cell_type": "code",
   "execution_count": 8,
   "metadata": {
    "collapsed": false
   },
   "outputs": [
    {
     "data": {
      "image/png": "[encoded data removed]",
      "text/plain": [
       "plot without title"
      ]
     },
     "metadata": {},
     "output_type": "display_data"
    }
   ],
   "source": [
    "plot(table(dd$year[dd$is_dis])/table(dd$year))"
   ]
  },
  {
   "cell_type": "code",
   "execution_count": 9,
   "metadata": {
    "collapsed": true
   },
   "outputs": [
    {
     "name": "stderr",
     "output_type": "stream",
     "text": [
      "gdata: read.xls support for 'XLS' (Excel 97-2004) files ENABLED.\n",
      "\n",
      "gdata: read.xls support for 'XLSX' (Excel 2007+) files ENABLED.\n",
      "\n",
      "Attaching package: ‘gdata’\n",
      "\n",
      "The following object is masked from ‘package:stats’:\n",
      "\n",
      "    nobs\n",
      "\n",
      "The following object is masked from ‘package:utils’:\n",
      "\n",
      "    object.size\n",
      "\n",
      "The following object is masked from ‘package:base’:\n",
      "\n",
      "    startsWith\n",
      "\n"
     ]
    }
   ],
   "source": [
    "library(ggplot2)\n",
    "library(gdata)"
   ]
  },
  {
   "cell_type": "code",
   "execution_count": 10,
   "metadata": {
    "collapsed": false
   },
   "outputs": [],
   "source": [
    "dplt <- do.call('rbind',tapply(dd$is_dis,dd$year,table))"
   ]
  },
  {
   "cell_type": "code",
   "execution_count": 11,
   "metadata": {
    "collapsed": false
   },
   "outputs": [],
   "source": [
    "dp <- rbind(data.frame(year = as.numeric(rownames(dplt)), Dis = \"Oth_dis\", Nb = cumsum(dplt[,1])),\n",
    "            data.frame(year = as.numeric(rownames(dplt)), Dis = \"Dis\", Nb = cumsum(dplt[,2])))\n",
    "dp$Dis <- reorder(dp$Dis,new.order=c(\"Dis\",\"Oth_dis\"))"
   ]
  },
  {
   "cell_type": "code",
   "execution_count": 12,
   "metadata": {
    "collapsed": false,
    "scrolled": false
   },
   "outputs": [
    {
     "data": {},
     "metadata": {},
     "output_type": "display_data"
    },
    {
     "data": {
      "text/html": [
       "<strong>PNG:</strong> 2"
      ],
      "text/latex": [
       "\\textbf{PNG:} 2"
      ],
      "text/markdown": [
       "**PNG:** 2"
      ],
      "text/plain": [
       "PNG \n",
       "  2 "
      ]
     },
     "metadata": {},
     "output_type": "display_data"
    }
   ],
   "source": [
    "pdf(\"Mapping_Cancer/Figures/Gap_analysis/CEE_Cardio.pdf\")\n",
    "ggplot(dp,aes(x=year,y=Nb,fill=Dis)) + geom_bar(stat=\"identity\")\n",
    "dev.off()"
   ]
  },
  {
   "cell_type": "code",
   "execution_count": 13,
   "metadata": {
    "collapsed": false
   },
   "outputs": [
    {
     "data": {},
     "metadata": {},
     "output_type": "display_data"
    },
    {
     "data": {
      "text/html": [
       "<strong>PNG:</strong> 2"
      ],
      "text/latex": [
       "\\textbf{PNG:} 2"
      ],
      "text/markdown": [
       "**PNG:** 2"
      ],
      "text/plain": [
       "PNG \n",
       "  2 "
      ]
     },
     "metadata": {},
     "output_type": "display_data"
    }
   ],
   "source": [
    "pdf(\"Mapping_Cancer/Figures/Gap_analysis/CEE_Cardio.pdf\")\n",
    "ggplot(dp,aes(x=year,y=Nb,fill=Dis)) + geom_area()\n",
    "dev.off()"
   ]
  },
  {
   "cell_type": "code",
   "execution_count": 14,
   "metadata": {
    "collapsed": true
   },
   "outputs": [],
   "source": [
    "#options(jupyter.plot_mimetypes = 'image/png')\n",
    "#p <- ggplot(dp,aes(x=year,y=Nb,fill=Dis)) + geom_area()\n",
    "#p"
   ]
  },
  {
   "cell_type": "code",
   "execution_count": 15,
   "metadata": {
    "collapsed": false
   },
   "outputs": [],
   "source": [
    "#library(plotly)\n",
    "#p <- ggplotly(p)\n",
    "#embed_notebook(p,file=\"/home/igna/Desktop/wena.html\")\n",
    "#Quand je fais ²ceci ca enregistre le html dans un dossier dans working directory"
   ]
  },
  {
   "cell_type": "code",
   "execution_count": 16,
   "metadata": {
    "collapsed": false
   },
   "outputs": [
    {
     "name": "stderr",
     "output_type": "stream",
     "text": [
      "also installing the dependency ‘chron’\n",
      "\n",
      "Updating HTML index of packages in '.Library'\n",
      "Making 'packages.html' ... done\n"
     ]
    }
   ],
   "source": [
    "install.packages(\"data.table\")"
   ]
  },
  {
   "cell_type": "code",
   "execution_count": null,
   "metadata": {
    "collapsed": true
   },
   "outputs": [],
   "source": []
  }
 ],
 "metadata": {
  "kernelspec": {
   "display_name": "R",
   "language": "R",
   "name": "ir"
  },
  "language_info": {
   "codemirror_mode": "r",
   "file_extension": ".r",
   "mimetype": "text/x-r-source",
   "name": "R",
   "pygments_lexer": "r",
   "version": "3.3.1"
  }
 },
 "nbformat": 4,
 "nbformat_minor": 1
}
