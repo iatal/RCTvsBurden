{
 "cells": [
  {
   "cell_type": "code",
   "execution_count": 1,
   "metadata": {
    "collapsed": true
   },
   "outputs": [],
   "source": [
    "D <- read.table('Data/Simulations_Alldis_NbProp_MedMn95Int_RCTs.txt')"
   ]
  },
  {
   "cell_type": "code",
   "execution_count": 2,
   "metadata": {
    "collapsed": false
   },
   "outputs": [
    {
     "data": {
      "text/html": [
       "<table>\n",
       "<thead><tr><th></th><th scope=col>Region</th><th scope=col>Disease</th><th scope=col>SimMn_NbRCTs</th><th scope=col>SimMed_NbRCTs</th><th scope=col>Sim95low_NbRCTs</th><th scope=col>Sim95up_NbRCTs</th><th scope=col>SimMn_PrRCTs</th><th scope=col>SimMed_PrRCTs</th><th scope=col>Sim95low_PrRCTs</th><th scope=col>Sim95up_PrRCTs</th></tr></thead>\n",
       "<tbody>\n",
       "\t<tr><th scope=row>1</th><td>Central Europe, Eastern Europe, and Central Asia</td><td>Tuberculosis                                    </td><td>17.1117053481332                                </td><td>17                                              </td><td>4                                               </td><td>28.2749999999996                                </td><td>0.00278124309813186                             </td><td>0.00284022352083005                             </td><td>0.000657883973136107                            </td><td>0.00465706413729596                             </td></tr>\n",
       "\t<tr><th scope=row>2</th><td>Central Europe, Eastern Europe, and Central Asia</td><td>HIV/AIDS                                        </td><td>71.8948                                         </td><td>72                                              </td><td>53                                              </td><td>89                                              </td><td>0.0115278495841716                              </td><td>0.01156853079333                                </td><td>0.00853874260825812                             </td><td>0.0142447293301991                              </td></tr>\n",
       "\t<tr><th scope=row>3</th><td>Central Europe, Eastern Europe, and Central Asia                                        </td><td>Diarrhea, lower respiratory infections, meningitis, and other common infectious diseases</td><td>262.9688                                                                                </td><td>262.5                                                                                   </td><td>213                                                                                     </td><td>316                                                                                     </td><td>0.0433981686672971                                                                      </td><td>0.0433087352499216                                                                      </td><td>0.0351758180251526                                                                      </td><td>0.0522947834822229                                                                      </td></tr>\n",
       "\t<tr><th scope=row>4</th><td>Central Europe, Eastern Europe, and Central Asia</td><td>Malaria                                         </td><td>1.80764229268781                                </td><td>1                                               </td><td>0                                               </td><td>8                                               </td><td>0.000294168720834212                            </td><td>0.000163132137030995                            </td><td>0                                               </td><td>0.00133149159965483                             </td></tr>\n",
       "\t<tr><th scope=row>5</th><td>Central Europe, Eastern Europe, and Central Asia</td><td>Neglected tropical diseases excluding malaria   </td><td>12.8631                                         </td><td>11                                              </td><td>4                                               </td><td>34                                              </td><td>0.00210113747207382                             </td><td>0.00176948444802715                             </td><td>0.000657351449276341                            </td><td>0.00550521241750955                             </td></tr>\n",
       "\t<tr><th scope=row>6</th><td>Central Europe, Eastern Europe, and Central Asia</td><td>Maternal disorders                              </td><td>100.0176                                        </td><td>95                                              </td><td>50                                              </td><td>177                                             </td><td>0.0163627539901623                              </td><td>0.0155894771029555                              </td><td>0.00821135659214572                             </td><td>0.0287560729277661                              </td></tr>\n",
       "</tbody>\n",
       "</table>\n"
      ],
      "text/latex": [
       "\\begin{tabular}{r|llllllllll}\n",
       "  & Region & Disease & SimMn\\_NbRCTs & SimMed\\_NbRCTs & Sim95low\\_NbRCTs & Sim95up\\_NbRCTs & SimMn\\_PrRCTs & SimMed\\_PrRCTs & Sim95low\\_PrRCTs & Sim95up\\_PrRCTs\\\\\n",
       "\\hline\n",
       "\t1 & Central Europe, Eastern Europe, and Central Asia & Tuberculosis                                     & 17.1117053481332                                 & 17                                               & 4                                                & 28.2749999999996                                 & 0.00278124309813186                              & 0.00284022352083005                              & 0.000657883973136107                             & 0.00465706413729596                             \\\\\n",
       "\t2 & Central Europe, Eastern Europe, and Central Asia & HIV/AIDS                                         & 71.8948                                          & 72                                               & 53                                               & 89                                               & 0.0115278495841716                               & 0.01156853079333                                 & 0.00853874260825812                              & 0.0142447293301991                              \\\\\n",
       "\t3 & Central Europe, Eastern Europe, and Central Asia                                         & Diarrhea, lower respiratory infections, meningitis, and other common infectious diseases & 262.9688                                                                                 & 262.5                                                                                    & 213                                                                                      & 316                                                                                      & 0.0433981686672971                                                                       & 0.0433087352499216                                                                       & 0.0351758180251526                                                                       & 0.0522947834822229                                                                      \\\\\n",
       "\t4 & Central Europe, Eastern Europe, and Central Asia & Malaria                                          & 1.80764229268781                                 & 1                                                & 0                                                & 8                                                & 0.000294168720834212                             & 0.000163132137030995                             & 0                                                & 0.00133149159965483                             \\\\\n",
       "\t5 & Central Europe, Eastern Europe, and Central Asia & Neglected tropical diseases excluding malaria    & 12.8631                                          & 11                                               & 4                                                & 34                                               & 0.00210113747207382                              & 0.00176948444802715                              & 0.000657351449276341                             & 0.00550521241750955                             \\\\\n",
       "\t6 & Central Europe, Eastern Europe, and Central Asia & Maternal disorders                               & 100.0176                                         & 95                                               & 50                                               & 177                                              & 0.0163627539901623                               & 0.0155894771029555                               & 0.00821135659214572                              & 0.0287560729277661                              \\\\\n",
       "\\end{tabular}\n"
      ],
      "text/plain": [
       "                                            Region\n",
       "1 Central Europe, Eastern Europe, and Central Asia\n",
       "2 Central Europe, Eastern Europe, and Central Asia\n",
       "3 Central Europe, Eastern Europe, and Central Asia\n",
       "4 Central Europe, Eastern Europe, and Central Asia\n",
       "5 Central Europe, Eastern Europe, and Central Asia\n",
       "6 Central Europe, Eastern Europe, and Central Asia\n",
       "                                                                                   Disease\n",
       "1                                                                             Tuberculosis\n",
       "2                                                                                 HIV/AIDS\n",
       "3 Diarrhea, lower respiratory infections, meningitis, and other common infectious diseases\n",
       "4                                                                                  Malaria\n",
       "5                                            Neglected tropical diseases excluding malaria\n",
       "6                                                                       Maternal disorders\n",
       "  SimMn_NbRCTs SimMed_NbRCTs Sim95low_NbRCTs Sim95up_NbRCTs SimMn_PrRCTs\n",
       "1    17.111705          17.0               4         28.275 0.0027812431\n",
       "2    71.894800          72.0              53         89.000 0.0115278496\n",
       "3   262.968800         262.5             213        316.000 0.0433981687\n",
       "4     1.807642           1.0               0          8.000 0.0002941687\n",
       "5    12.863100          11.0               4         34.000 0.0021011375\n",
       "6   100.017600          95.0              50        177.000 0.0163627540\n",
       "  SimMed_PrRCTs Sim95low_PrRCTs Sim95up_PrRCTs\n",
       "1  0.0028402235    0.0006578840    0.004657064\n",
       "2  0.0115685308    0.0085387426    0.014244729\n",
       "3  0.0433087352    0.0351758180    0.052294783\n",
       "4  0.0001631321    0.0000000000    0.001331492\n",
       "5  0.0017694844    0.0006573514    0.005505212\n",
       "6  0.0155894771    0.0082113566    0.028756073"
      ]
     },
     "metadata": {},
     "output_type": "display_data"
    }
   ],
   "source": [
    "D <- droplevels(D[D$Dis!=\"Injuries\",])\n",
    "head(D)\n"
   ]
  },
  {
   "cell_type": "code",
   "execution_count": 3,
   "metadata": {
    "collapsed": false
   },
   "outputs": [
    {
     "data": {
      "text/html": [
       "<table>\n",
       "<thead><tr><th></th><th scope=col>Region</th><th scope=col>Disease</th><th scope=col>SimMn_NbRCTs</th><th scope=col>SimMed_NbRCTs</th><th scope=col>Sim95low_NbRCTs</th><th scope=col>Sim95up_NbRCTs</th><th scope=col>SimMn_PrRCTs</th><th scope=col>SimMed_PrRCTs</th><th scope=col>Sim95low_PrRCTs</th><th scope=col>Sim95up_PrRCTs</th></tr></thead>\n",
       "<tbody>\n",
       "\t<tr><th scope=row>29</th><td>Central Europe, Eastern Europe, and Central Asia</td><td>All                                             </td><td>6000.2223                                       </td><td>6005                                            </td><td>5767.975                                        </td><td>6206                                            </td><td>NA                                              </td><td>NA                                              </td><td>NA                                              </td><td>NA                                              </td></tr>\n",
       "\t<tr><th scope=row>58</th><td>High-income</td><td>All        </td><td>60599.9094 </td><td>60631      </td><td>58034.95   </td><td>62973.075  </td><td>NA         </td><td>NA         </td><td>NA         </td><td>NA         </td></tr>\n",
       "\t<tr><th scope=row>87</th><td>Latin America and Caribbean</td><td>All                        </td><td>4132.2241                  </td><td>4135                       </td><td>3960                       </td><td>4288                       </td><td>NA                         </td><td>NA                         </td><td>NA                         </td><td>NA                         </td></tr>\n",
       "\t<tr><th scope=row>116</th><td>North Africa and Middle East</td><td>All                         </td><td>7860.4472                   </td><td>7863                        </td><td>7520.975                    </td><td>8176                        </td><td>NA                          </td><td>NA                          </td><td>NA                          </td><td>NA                          </td></tr>\n",
       "\t<tr><th scope=row>145</th><td>South Asia</td><td>All       </td><td>4339.9904 </td><td>4343      </td><td>4145      </td><td>4517      </td><td>NA        </td><td>NA        </td><td>NA        </td><td>NA        </td></tr>\n",
       "\t<tr><th scope=row>174</th><td>Southeast Asia, East Asia and Oceania</td><td>All                                  </td><td>8442.5907                            </td><td>8448                                 </td><td>8087                                 </td><td>8763                                 </td><td>NA                                   </td><td>NA                                   </td><td>NA                                   </td><td>NA                                   </td></tr>\n",
       "\t<tr><th scope=row>203</th><td>Sub-Saharian Africa</td><td>All                </td><td>2211.0041          </td><td>2213               </td><td>2119               </td><td>2294               </td><td>NA                 </td><td>NA                 </td><td>NA                 </td><td>NA                 </td></tr>\n",
       "\t<tr><th scope=row>232</th><td>All       </td><td>All       </td><td>82137.4957</td><td>82179     </td><td>78661.775 </td><td>85358.2   </td><td>NA        </td><td>NA        </td><td>NA        </td><td>NA        </td></tr>\n",
       "</tbody>\n",
       "</table>\n"
      ],
      "text/latex": [
       "\\begin{tabular}{r|llllllllll}\n",
       "  & Region & Disease & SimMn\\_NbRCTs & SimMed\\_NbRCTs & Sim95low\\_NbRCTs & Sim95up\\_NbRCTs & SimMn\\_PrRCTs & SimMed\\_PrRCTs & Sim95low\\_PrRCTs & Sim95up\\_PrRCTs\\\\\n",
       "\\hline\n",
       "\t29 & Central Europe, Eastern Europe, and Central Asia & All                                              & 6000.2223                                        & 6005                                             & 5767.975                                         & 6206                                             & NA                                               & NA                                               & NA                                               & NA                                              \\\\\n",
       "\t58 & High-income & All         & 60599.9094  & 60631       & 58034.95    & 62973.075   & NA          & NA          & NA          & NA         \\\\\n",
       "\t87 & Latin America and Caribbean & All                         & 4132.2241                   & 4135                        & 3960                        & 4288                        & NA                          & NA                          & NA                          & NA                         \\\\\n",
       "\t116 & North Africa and Middle East & All                          & 7860.4472                    & 7863                         & 7520.975                     & 8176                         & NA                           & NA                           & NA                           & NA                          \\\\\n",
       "\t145 & South Asia & All        & 4339.9904  & 4343       & 4145       & 4517       & NA         & NA         & NA         & NA        \\\\\n",
       "\t174 & Southeast Asia, East Asia and Oceania & All                                   & 8442.5907                             & 8448                                  & 8087                                  & 8763                                  & NA                                    & NA                                    & NA                                    & NA                                   \\\\\n",
       "\t203 & Sub-Saharian Africa & All                 & 2211.0041           & 2213                & 2119                & 2294                & NA                  & NA                  & NA                  & NA                 \\\\\n",
       "\t232 & All        & All        & 82137.4957 & 82179      & 78661.775  & 85358.2    & NA         & NA         & NA         & NA        \\\\\n",
       "\\end{tabular}\n"
      ],
      "text/plain": [
       "                                              Region Disease SimMn_NbRCTs\n",
       "29  Central Europe, Eastern Europe, and Central Asia     All     6000.222\n",
       "58                                       High-income     All    60599.909\n",
       "87                       Latin America and Caribbean     All     4132.224\n",
       "116                     North Africa and Middle East     All     7860.447\n",
       "145                                       South Asia     All     4339.990\n",
       "174            Southeast Asia, East Asia and Oceania     All     8442.591\n",
       "203                              Sub-Saharian Africa     All     2211.004\n",
       "232                                              All     All    82137.496\n",
       "    SimMed_NbRCTs Sim95low_NbRCTs Sim95up_NbRCTs SimMn_PrRCTs SimMed_PrRCTs\n",
       "29           6005        5767.975        6206.00           NA            NA\n",
       "58          60631       58034.950       62973.07           NA            NA\n",
       "87           4135        3960.000        4288.00           NA            NA\n",
       "116          7863        7520.975        8176.00           NA            NA\n",
       "145          4343        4145.000        4517.00           NA            NA\n",
       "174          8448        8087.000        8763.00           NA            NA\n",
       "203          2213        2119.000        2294.00           NA            NA\n",
       "232         82179       78661.775       85358.20           NA            NA\n",
       "    Sim95low_PrRCTs Sim95up_PrRCTs\n",
       "29               NA             NA\n",
       "58               NA             NA\n",
       "87               NA             NA\n",
       "116              NA             NA\n",
       "145              NA             NA\n",
       "174              NA             NA\n",
       "203              NA             NA\n",
       "232              NA             NA"
      ]
     },
     "metadata": {},
     "output_type": "display_data"
    }
   ],
   "source": [
    "D[D$Disease==\"All\",]"
   ]
  },
  {
   "cell_type": "code",
   "execution_count": 6,
   "metadata": {
    "collapsed": false
   },
   "outputs": [],
   "source": [
    "B <- read.table(\"/media/igna/Elements/HotelDieu/Cochrane/Mapping_Cancer/Tables/GBD_data_per_region_and_27_diseases_2005.txt\")"
   ]
  },
  {
   "cell_type": "code",
   "execution_count": 7,
   "metadata": {
    "collapsed": false
   },
   "outputs": [
    {
     "data": {
      "text/html": [
       "<table>\n",
       "<thead><tr><th></th><th scope=col>Central.Europe..Eastern.Europe..and.Central.Asia</th><th scope=col>High.income</th><th scope=col>Latin.America.and.Caribbean</th><th scope=col>North.Africa.and.Middle.East</th><th scope=col>South.Asia</th><th scope=col>Southeast.Asia..East.Asia.and.Oceania</th><th scope=col>Sub.Saharian.Africa</th><th scope=col>Tot</th><th scope=col>Prop_bd</th></tr></thead>\n",
       "<tbody>\n",
       "\t<tr><th scope=row>Cardiovascular and circulatory diseases</th><td>5.316141e+07</td><td>4.354578e+07</td><td>1.501290e+07</td><td>1.921403e+07</td><td>5.639526e+07</td><td>8.171142e+07</td><td>1.836331e+07</td><td>2.874041e+08</td><td>1.294576e+01</td></tr>\n",
       "\t<tr><th scope=row>Chronic respiratory diseases</th><td>5.644608e+06</td><td>1.364198e+07</td><td>5.500905e+06</td><td>4.781865e+06</td><td>3.891100e+07</td><td>3.179387e+07</td><td>1.221113e+07</td><td>1.124854e+08</td><td>5.066763e+00</td></tr>\n",
       "\t<tr><th scope=row>Cirrhosis of the liver</th><td>4.090337e+06</td><td>3.995636e+06</td><td>2.376422e+06</td><td>1.471645e+06</td><td>7.748645e+06</td><td>7.368063e+06</td><td>3.411973e+06</td><td>3.046272e+07</td><td>1.372155e+00</td></tr>\n",
       "\t<tr><th scope=row>Congenital anomalies</th><td>2.079423e+06</td><td>2.296894e+06</td><td>3.617508e+06</td><td>5.091068e+06</td><td>1.284224e+07</td><td>1.003936e+07</td><td>7.288013e+06</td><td>4.325450e+07</td><td>1.948345e+00</td></tr>\n",
       "\t<tr><th scope=row>Diabetes, urinary diseases and male infertility</th><td>5.049825e+06</td><td>1.233843e+07</td><td>6.866404e+06</td><td>4.671200e+06</td><td>1.834971e+07</td><td>2.111132e+07</td><td>7.434597e+06</td><td>7.582148e+07</td><td>3.415284e+00</td></tr>\n",
       "\t<tr><th scope=row>Diarrhea, lower respiratory infections, meningitis, and other common infectious diseases</th><td>7.281616e+06</td><td>6.847691e+06</td><td>1.063512e+07</td><td>1.078548e+07</td><td>1.308549e+08</td><td>3.734885e+07</td><td>1.255318e+08</td><td>3.292855e+08</td><td>1.483226e+01</td></tr>\n",
       "</tbody>\n",
       "</table>\n"
      ],
      "text/latex": [
       "\\begin{tabular}{r|lllllllll}\n",
       "  & Central.Europe..Eastern.Europe..and.Central.Asia & High.income & Latin.America.and.Caribbean & North.Africa.and.Middle.East & South.Asia & Southeast.Asia..East.Asia.and.Oceania & Sub.Saharian.Africa & Tot & Prop\\_bd\\\\\n",
       "\\hline\n",
       "\tCardiovascular and circulatory diseases & 5.316141e+07 & 4.354578e+07 & 1.501290e+07 & 1.921403e+07 & 5.639526e+07 & 8.171142e+07 & 1.836331e+07 & 2.874041e+08 & 1.294576e+01\\\\\n",
       "\tChronic respiratory diseases & 5.644608e+06 & 1.364198e+07 & 5.500905e+06 & 4.781865e+06 & 3.891100e+07 & 3.179387e+07 & 1.221113e+07 & 1.124854e+08 & 5.066763e+00\\\\\n",
       "\tCirrhosis of the liver & 4.090337e+06 & 3.995636e+06 & 2.376422e+06 & 1.471645e+06 & 7.748645e+06 & 7.368063e+06 & 3.411973e+06 & 3.046272e+07 & 1.372155e+00\\\\\n",
       "\tCongenital anomalies & 2.079423e+06 & 2.296894e+06 & 3.617508e+06 & 5.091068e+06 & 1.284224e+07 & 1.003936e+07 & 7.288013e+06 & 4.325450e+07 & 1.948345e+00\\\\\n",
       "\tDiabetes, urinary diseases and male infertility & 5.049825e+06 & 1.233843e+07 & 6.866404e+06 & 4.671200e+06 & 1.834971e+07 & 2.111132e+07 & 7.434597e+06 & 7.582148e+07 & 3.415284e+00\\\\\n",
       "\tDiarrhea, lower respiratory infections, meningitis, and other common infectious diseases & 7.281616e+06 & 6.847691e+06 & 1.063512e+07 & 1.078548e+07 & 1.308549e+08 & 3.734885e+07 & 1.255318e+08 & 3.292855e+08 & 1.483226e+01\\\\\n",
       "\\end{tabular}\n"
      ],
      "text/plain": [
       "                                                                                         Central.Europe..Eastern.Europe..and.Central.Asia\n",
       "Cardiovascular and circulatory diseases                                                                                          53161407\n",
       "Chronic respiratory diseases                                                                                                      5644608\n",
       "Cirrhosis of the liver                                                                                                            4090337\n",
       "Congenital anomalies                                                                                                              2079423\n",
       "Diabetes, urinary diseases and male infertility                                                                                   5049825\n",
       "Diarrhea, lower respiratory infections, meningitis, and other common infectious diseases                                          7281616\n",
       "                                                                                         High.income\n",
       "Cardiovascular and circulatory diseases                                                     43545779\n",
       "Chronic respiratory diseases                                                                13641980\n",
       "Cirrhosis of the liver                                                                       3995636\n",
       "Congenital anomalies                                                                         2296894\n",
       "Diabetes, urinary diseases and male infertility                                             12338425\n",
       "Diarrhea, lower respiratory infections, meningitis, and other common infectious diseases     6847691\n",
       "                                                                                         Latin.America.and.Caribbean\n",
       "Cardiovascular and circulatory diseases                                                                     15012902\n",
       "Chronic respiratory diseases                                                                                 5500905\n",
       "Cirrhosis of the liver                                                                                       2376422\n",
       "Congenital anomalies                                                                                         3617508\n",
       "Diabetes, urinary diseases and male infertility                                                              6866404\n",
       "Diarrhea, lower respiratory infections, meningitis, and other common infectious diseases                    10635120\n",
       "                                                                                         North.Africa.and.Middle.East\n",
       "Cardiovascular and circulatory diseases                                                                      19214033\n",
       "Chronic respiratory diseases                                                                                  4781865\n",
       "Cirrhosis of the liver                                                                                        1471645\n",
       "Congenital anomalies                                                                                          5091068\n",
       "Diabetes, urinary diseases and male infertility                                                               4671200\n",
       "Diarrhea, lower respiratory infections, meningitis, and other common infectious diseases                     10785476\n",
       "                                                                                         South.Asia\n",
       "Cardiovascular and circulatory diseases                                                    56395260\n",
       "Chronic respiratory diseases                                                               38910999\n",
       "Cirrhosis of the liver                                                                      7748645\n",
       "Congenital anomalies                                                                       12842242\n",
       "Diabetes, urinary diseases and male infertility                                            18349709\n",
       "Diarrhea, lower respiratory infections, meningitis, and other common infectious diseases  130854936\n",
       "                                                                                         Southeast.Asia..East.Asia.and.Oceania\n",
       "Cardiovascular and circulatory diseases                                                                               81711420\n",
       "Chronic respiratory diseases                                                                                          31793866\n",
       "Cirrhosis of the liver                                                                                                 7368063\n",
       "Congenital anomalies                                                                                                  10039357\n",
       "Diabetes, urinary diseases and male infertility                                                                       21111320\n",
       "Diarrhea, lower respiratory infections, meningitis, and other common infectious diseases                              37348849\n",
       "                                                                                         Sub.Saharian.Africa\n",
       "Cardiovascular and circulatory diseases                                                             18363310\n",
       "Chronic respiratory diseases                                                                        12211132\n",
       "Cirrhosis of the liver                                                                               3411973\n",
       "Congenital anomalies                                                                                 7288013\n",
       "Diabetes, urinary diseases and male infertility                                                      7434597\n",
       "Diarrhea, lower respiratory infections, meningitis, and other common infectious diseases           125531848\n",
       "                                                                                               Tot\n",
       "Cardiovascular and circulatory diseases                                                  287404109\n",
       "Chronic respiratory diseases                                                             112485355\n",
       "Cirrhosis of the liver                                                                    30462721\n",
       "Congenital anomalies                                                                      43254504\n",
       "Diabetes, urinary diseases and male infertility                                           75821480\n",
       "Diarrhea, lower respiratory infections, meningitis, and other common infectious diseases 329285537\n",
       "                                                                                           Prop_bd\n",
       "Cardiovascular and circulatory diseases                                                  12.945761\n",
       "Chronic respiratory diseases                                                              5.066763\n",
       "Cirrhosis of the liver                                                                    1.372155\n",
       "Congenital anomalies                                                                      1.948345\n",
       "Diabetes, urinary diseases and male infertility                                           3.415284\n",
       "Diarrhea, lower respiratory infections, meningitis, and other common infectious diseases 14.832258"
      ]
     },
     "metadata": {},
     "output_type": "display_data"
    }
   ],
   "source": [
    "head(B)"
   ]
  },
  {
   "cell_type": "code",
   "execution_count": 8,
   "metadata": {
    "collapsed": false
   },
   "outputs": [
    {
     "data": {
      "text/html": [
       "<table>\n",
       "<thead><tr><th></th><th scope=col>Central.Europe..Eastern.Europe..and.Central.Asia</th><th scope=col>High.income</th><th scope=col>Latin.America.and.Caribbean</th><th scope=col>North.Africa.and.Middle.East</th><th scope=col>South.Asia</th><th scope=col>Southeast.Asia..East.Asia.and.Oceania</th><th scope=col>Sub.Saharian.Africa</th><th scope=col>Tot</th><th scope=col>Prop_bd</th></tr></thead>\n",
       "<tbody>\n",
       "\t<tr><th scope=row>Tuberculosis</th><td>2.769215e+06</td><td>4.358722e+05</td><td>1.046326e+06</td><td>8.764108e+05</td><td>2.366235e+07</td><td>1.310047e+07</td><td>1.451423e+07</td><td>5.640488e+07</td><td>2.540688e+00</td></tr>\n",
       "</tbody>\n",
       "</table>\n"
      ],
      "text/latex": [
       "\\begin{tabular}{r|lllllllll}\n",
       "  & Central.Europe..Eastern.Europe..and.Central.Asia & High.income & Latin.America.and.Caribbean & North.Africa.and.Middle.East & South.Asia & Southeast.Asia..East.Asia.and.Oceania & Sub.Saharian.Africa & Tot & Prop\\_bd\\\\\n",
       "\\hline\n",
       "\tTuberculosis & 2.769215e+06 & 4.358722e+05 & 1.046326e+06 & 8.764108e+05 & 2.366235e+07 & 1.310047e+07 & 1.451423e+07 & 5.640488e+07 & 2.540688e+00\\\\\n",
       "\\end{tabular}\n"
      ],
      "text/plain": [
       "             Central.Europe..Eastern.Europe..and.Central.Asia High.income\n",
       "Tuberculosis                                          2769215    435872.2\n",
       "             Latin.America.and.Caribbean North.Africa.and.Middle.East\n",
       "Tuberculosis                     1046326                     876410.8\n",
       "             South.Asia Southeast.Asia..East.Asia.and.Oceania\n",
       "Tuberculosis   23662351                              13100468\n",
       "             Sub.Saharian.Africa      Tot  Prop_bd\n",
       "Tuberculosis            14514234 56404878 2.540688"
      ]
     },
     "metadata": {},
     "output_type": "display_data"
    }
   ],
   "source": [
    "B[nrow(B),]"
   ]
  },
  {
   "cell_type": "code",
   "execution_count": 9,
   "metadata": {
    "collapsed": false
   },
   "outputs": [
    {
     "data": {
      "text/html": [
       "<ol class=list-inline>\n",
       "\t<li>'Cardiovascular and circulatory diseases'</li>\n",
       "\t<li>'Chronic respiratory diseases'</li>\n",
       "\t<li>'Cirrhosis of the liver'</li>\n",
       "\t<li>'Congenital anomalies'</li>\n",
       "\t<li>'Diabetes, urinary diseases and male infertility'</li>\n",
       "\t<li>'Diarrhea, lower respiratory infections, meningitis, and other common infectious diseases'</li>\n",
       "\t<li>'Digestive diseases (except cirrhosis)'</li>\n",
       "\t<li>'Gynecological diseases'</li>\n",
       "\t<li>'Hemoglobinopathies and hemolytic anemias'</li>\n",
       "\t<li>'Hepatitis'</li>\n",
       "\t<li>'HIV/AIDS'</li>\n",
       "\t<li>'Leprosy'</li>\n",
       "\t<li>'Malaria'</li>\n",
       "\t<li>'Maternal disorders'</li>\n",
       "\t<li>'Mental and behavioral disorders'</li>\n",
       "\t<li>'Musculoskeletal disorders'</li>\n",
       "\t<li>'Neglected tropical diseases excluding malaria'</li>\n",
       "\t<li>'Neonatal disorders'</li>\n",
       "\t<li>'Neoplasms'</li>\n",
       "\t<li>'Neurological disorders'</li>\n",
       "\t<li>'Nutritional deficiencies'</li>\n",
       "\t<li>'Oral disorders'</li>\n",
       "\t<li>'Sense organ diseases'</li>\n",
       "\t<li>'Sexually transmitted diseases excluding HIV'</li>\n",
       "\t<li>'Skin and subcutaneous diseases'</li>\n",
       "\t<li>'Sudden infant death syndrome'</li>\n",
       "\t<li>'Tuberculosis'</li>\n",
       "</ol>\n"
      ],
      "text/latex": [
       "\\begin{enumerate*}\n",
       "\\item 'Cardiovascular and circulatory diseases'\n",
       "\\item 'Chronic respiratory diseases'\n",
       "\\item 'Cirrhosis of the liver'\n",
       "\\item 'Congenital anomalies'\n",
       "\\item 'Diabetes, urinary diseases and male infertility'\n",
       "\\item 'Diarrhea, lower respiratory infections, meningitis, and other common infectious diseases'\n",
       "\\item 'Digestive diseases (except cirrhosis)'\n",
       "\\item 'Gynecological diseases'\n",
       "\\item 'Hemoglobinopathies and hemolytic anemias'\n",
       "\\item 'Hepatitis'\n",
       "\\item 'HIV/AIDS'\n",
       "\\item 'Leprosy'\n",
       "\\item 'Malaria'\n",
       "\\item 'Maternal disorders'\n",
       "\\item 'Mental and behavioral disorders'\n",
       "\\item 'Musculoskeletal disorders'\n",
       "\\item 'Neglected tropical diseases excluding malaria'\n",
       "\\item 'Neonatal disorders'\n",
       "\\item 'Neoplasms'\n",
       "\\item 'Neurological disorders'\n",
       "\\item 'Nutritional deficiencies'\n",
       "\\item 'Oral disorders'\n",
       "\\item 'Sense organ diseases'\n",
       "\\item 'Sexually transmitted diseases excluding HIV'\n",
       "\\item 'Skin and subcutaneous diseases'\n",
       "\\item 'Sudden infant death syndrome'\n",
       "\\item 'Tuberculosis'\n",
       "\\end{enumerate*}\n"
      ],
      "text/markdown": [
       "1. 'Cardiovascular and circulatory diseases'\n",
       "2. 'Chronic respiratory diseases'\n",
       "3. 'Cirrhosis of the liver'\n",
       "4. 'Congenital anomalies'\n",
       "5. 'Diabetes, urinary diseases and male infertility'\n",
       "6. 'Diarrhea, lower respiratory infections, meningitis, and other common infectious diseases'\n",
       "7. 'Digestive diseases (except cirrhosis)'\n",
       "8. 'Gynecological diseases'\n",
       "9. 'Hemoglobinopathies and hemolytic anemias'\n",
       "10. 'Hepatitis'\n",
       "11. 'HIV/AIDS'\n",
       "12. 'Leprosy'\n",
       "13. 'Malaria'\n",
       "14. 'Maternal disorders'\n",
       "15. 'Mental and behavioral disorders'\n",
       "16. 'Musculoskeletal disorders'\n",
       "17. 'Neglected tropical diseases excluding malaria'\n",
       "18. 'Neonatal disorders'\n",
       "19. 'Neoplasms'\n",
       "20. 'Neurological disorders'\n",
       "21. 'Nutritional deficiencies'\n",
       "22. 'Oral disorders'\n",
       "23. 'Sense organ diseases'\n",
       "24. 'Sexually transmitted diseases excluding HIV'\n",
       "25. 'Skin and subcutaneous diseases'\n",
       "26. 'Sudden infant death syndrome'\n",
       "27. 'Tuberculosis'\n",
       "\n",
       "\n"
      ],
      "text/plain": [
       " [1] \"Cardiovascular and circulatory diseases\"                                                 \n",
       " [2] \"Chronic respiratory diseases\"                                                            \n",
       " [3] \"Cirrhosis of the liver\"                                                                  \n",
       " [4] \"Congenital anomalies\"                                                                    \n",
       " [5] \"Diabetes, urinary diseases and male infertility\"                                         \n",
       " [6] \"Diarrhea, lower respiratory infections, meningitis, and other common infectious diseases\"\n",
       " [7] \"Digestive diseases (except cirrhosis)\"                                                   \n",
       " [8] \"Gynecological diseases\"                                                                  \n",
       " [9] \"Hemoglobinopathies and hemolytic anemias\"                                                \n",
       "[10] \"Hepatitis\"                                                                               \n",
       "[11] \"HIV/AIDS\"                                                                                \n",
       "[12] \"Leprosy\"                                                                                 \n",
       "[13] \"Malaria\"                                                                                 \n",
       "[14] \"Maternal disorders\"                                                                      \n",
       "[15] \"Mental and behavioral disorders\"                                                         \n",
       "[16] \"Musculoskeletal disorders\"                                                               \n",
       "[17] \"Neglected tropical diseases excluding malaria\"                                           \n",
       "[18] \"Neonatal disorders\"                                                                      \n",
       "[19] \"Neoplasms\"                                                                               \n",
       "[20] \"Neurological disorders\"                                                                  \n",
       "[21] \"Nutritional deficiencies\"                                                                \n",
       "[22] \"Oral disorders\"                                                                          \n",
       "[23] \"Sense organ diseases\"                                                                    \n",
       "[24] \"Sexually transmitted diseases excluding HIV\"                                             \n",
       "[25] \"Skin and subcutaneous diseases\"                                                          \n",
       "[26] \"Sudden infant death syndrome\"                                                            \n",
       "[27] \"Tuberculosis\"                                                                            "
      ]
     },
     "metadata": {},
     "output_type": "display_data"
    },
    {
     "data": {
      "text/html": [
       "27"
      ],
      "text/latex": [
       "27"
      ],
      "text/markdown": [
       "27"
      ],
      "text/plain": [
       "[1] 27"
      ]
     },
     "metadata": {},
     "output_type": "display_data"
    }
   ],
   "source": [
    "rownames(B)\n",
    "nrow(B)"
   ]
  },
  {
   "cell_type": "markdown",
   "metadata": {},
   "source": [
    "?apply"
   ]
  },
  {
   "cell_type": "raw",
   "metadata": {},
   "source": [
    "apply(B,2,sum)"
   ]
  },
  {
   "cell_type": "code",
   "execution_count": 10,
   "metadata": {
    "collapsed": false
   },
   "outputs": [
    {
     "data": {
      "text/html": [
       "<dl class=dl-horizontal>\n",
       "\t<dt>Central.Europe..Eastern.Europe..and.Central.Asia</dt>\n",
       "\t\t<dd>6.8249341707687</dd>\n",
       "\t<dt>High.income</dt>\n",
       "\t\t<dd>10.4299386214997</dd>\n",
       "\t<dt>Latin.America.and.Caribbean</dt>\n",
       "\t\t<dd>5.20288660352857</dd>\n",
       "\t<dt>North.Africa.and.Middle.East</dt>\n",
       "\t\t<dd>4.60677793890491</dd>\n",
       "\t<dt>South.Asia</dt>\n",
       "\t\t<dd>27.5087602101973</dd>\n",
       "\t<dt>Southeast.Asia..East.Asia.and.Oceania</dt>\n",
       "\t\t<dd>20.7627763574316</dd>\n",
       "\t<dt>Sub.Saharian.Africa</dt>\n",
       "\t\t<dd>24.6639261337385</dd>\n",
       "\t<dt>Tot</dt>\n",
       "\t\t<dd>100.000000036069</dd>\n",
       "\t<dt>Prop_bd</dt>\n",
       "\t\t<dd>4.50437564283915e-06</dd>\n",
       "</dl>\n"
      ],
      "text/latex": [
       "\\begin{description*}\n",
       "\\item[Central.Europe..Eastern.Europe..and.Central.Asia] 6.8249341707687\n",
       "\\item[High.income] 10.4299386214997\n",
       "\\item[Latin.America.and.Caribbean] 5.20288660352857\n",
       "\\item[North.Africa.and.Middle.East] 4.60677793890491\n",
       "\\item[South.Asia] 27.5087602101973\n",
       "\\item[Southeast.Asia..East.Asia.and.Oceania] 20.7627763574316\n",
       "\\item[Sub.Saharian.Africa] 24.6639261337385\n",
       "\\item[Tot] 100.000000036069\n",
       "\\item[Prop\\textbackslash{}\\_bd] 4.50437564283915e-06\n",
       "\\end{description*}\n"
      ],
      "text/markdown": [
       "Central.Europe..Eastern.Europe..and.Central.Asia\n",
       ":   6.8249341707687High.income\n",
       ":   10.4299386214997Latin.America.and.Caribbean\n",
       ":   5.20288660352857North.Africa.and.Middle.East\n",
       ":   4.60677793890491South.Asia\n",
       ":   27.5087602101973Southeast.Asia..East.Asia.and.Oceania\n",
       ":   20.7627763574316Sub.Saharian.Africa\n",
       ":   24.6639261337385Tot\n",
       ":   100.000000036069Prop_bd\n",
       ":   4.50437564283915e-06\n",
       "\n"
      ],
      "text/plain": [
       "Central.Europe..Eastern.Europe..and.Central.Asia \n",
       "                                    6.824934e+00 \n",
       "                                     High.income \n",
       "                                    1.042994e+01 \n",
       "                     Latin.America.and.Caribbean \n",
       "                                    5.202887e+00 \n",
       "                    North.Africa.and.Middle.East \n",
       "                                    4.606778e+00 \n",
       "                                      South.Asia \n",
       "                                    2.750876e+01 \n",
       "           Southeast.Asia..East.Asia.and.Oceania \n",
       "                                    2.076278e+01 \n",
       "                             Sub.Saharian.Africa \n",
       "                                    2.466393e+01 \n",
       "                                             Tot \n",
       "                                    1.000000e+02 \n",
       "                                         Prop_bd \n",
       "                                    4.504376e-06 "
      ]
     },
     "metadata": {},
     "output_type": "display_data"
    }
   ],
   "source": [
    "100*apply(B,2,sum)/2220063510"
   ]
  },
  {
   "cell_type": "code",
   "execution_count": 11,
   "metadata": {
    "collapsed": false
   },
   "outputs": [
    {
     "data": {
      "text/html": [
       "<dl class=dl-horizontal>\n",
       "\t<dt>Central.Europe..Eastern.Europe..and.Central.Asia</dt>\n",
       "\t\t<dd>15.1517873106757</dd>\n",
       "\t<dt>High.income</dt>\n",
       "\t\t<dd>23.1551261451313</dd>\n",
       "\t<dt>Latin.America.and.Caribbean</dt>\n",
       "\t\t<dd>11.5507386951616</dd>\n",
       "\t<dt>North.Africa.and.Middle.East</dt>\n",
       "\t\t<dd>10.2273396008358</dd>\n",
       "\t<dt>South.Asia</dt>\n",
       "\t\t<dd>61.071194747999</dd>\n",
       "\t<dt>Southeast.Asia..East.Asia.and.Oceania</dt>\n",
       "\t\t<dd>46.0946821574246</dd>\n",
       "\t<dt>Sub.Saharian.Africa</dt>\n",
       "\t\t<dd>54.7554824228482</dd>\n",
       "\t<dt>Tot</dt>\n",
       "\t\t<dd>222.006351080076</dd>\n",
       "\t<dt>Prop_bd</dt>\n",
       "\t\t<dd>1e-05</dd>\n",
       "</dl>\n"
      ],
      "text/latex": [
       "\\begin{description*}\n",
       "\\item[Central.Europe..Eastern.Europe..and.Central.Asia] 15.1517873106757\n",
       "\\item[High.income] 23.1551261451313\n",
       "\\item[Latin.America.and.Caribbean] 11.5507386951616\n",
       "\\item[North.Africa.and.Middle.East] 10.2273396008358\n",
       "\\item[South.Asia] 61.071194747999\n",
       "\\item[Southeast.Asia..East.Asia.and.Oceania] 46.0946821574246\n",
       "\\item[Sub.Saharian.Africa] 54.7554824228482\n",
       "\\item[Tot] 222.006351080076\n",
       "\\item[Prop\\textbackslash{}\\_bd] 1e-05\n",
       "\\end{description*}\n"
      ],
      "text/markdown": [
       "Central.Europe..Eastern.Europe..and.Central.Asia\n",
       ":   15.1517873106757High.income\n",
       ":   23.1551261451313Latin.America.and.Caribbean\n",
       ":   11.5507386951616North.Africa.and.Middle.East\n",
       ":   10.2273396008358South.Asia\n",
       ":   61.071194747999Southeast.Asia..East.Asia.and.Oceania\n",
       ":   46.0946821574246Sub.Saharian.Africa\n",
       ":   54.7554824228482Tot\n",
       ":   222.006351080076Prop_bd\n",
       ":   1e-05\n",
       "\n"
      ],
      "text/plain": [
       "Central.Europe..Eastern.Europe..and.Central.Asia \n",
       "                                        15.15179 \n",
       "                                     High.income \n",
       "                                        23.15513 \n",
       "                     Latin.America.and.Caribbean \n",
       "                                        11.55074 \n",
       "                    North.Africa.and.Middle.East \n",
       "                                        10.22734 \n",
       "                                      South.Asia \n",
       "                                        61.07119 \n",
       "           Southeast.Asia..East.Asia.and.Oceania \n",
       "                                        46.09468 \n",
       "                             Sub.Saharian.Africa \n",
       "                                        54.75548 \n",
       "                                             Tot \n",
       "                                       222.00635 \n",
       "                                         Prop_bd \n",
       "                                         0.00001 "
      ]
     },
     "metadata": {},
     "output_type": "display_data"
    }
   ],
   "source": [
    "apply(B,2,sum)/10e6"
   ]
  },
  {
   "cell_type": "code",
   "execution_count": 12,
   "metadata": {
    "collapsed": false
   },
   "outputs": [
    {
     "data": {
      "text/html": [
       "<table>\n",
       "<thead><tr><th></th><th scope=col>levels(D$Region)[-1]</th><th scope=col>SimMed_NbRCTs</th><th scope=col>Sim95low_NbRCTs</th><th scope=col>Sim95up_NbRCTs</th></tr></thead>\n",
       "<tbody>\n",
       "\t<tr><th scope=row>29</th><td>Central Europe, Eastern Europe, and Central Asia</td><td>396.322881048427                                </td><td>380.679512042515                                </td><td>409.588642762122                                </td></tr>\n",
       "\t<tr><th scope=row>58</th><td>High-income     </td><td>2618.46986364826</td><td>2506.35430082521</td><td>2719.61701289376</td></tr>\n",
       "\t<tr><th scope=row>87</th><td>Latin America and Caribbean</td><td>357.985762567036           </td><td>342.835216388262           </td><td>371.231668654764           </td></tr>\n",
       "\t<tr><th scope=row>116</th><td>North Africa and Middle East</td><td>768.821639535409            </td><td>735.379413761265            </td><td>799.4258838664              </td></tr>\n",
       "\t<tr><th scope=row>145</th><td>South Asia      </td><td>71.1137225646351</td><td>67.871604888421 </td><td>73.9628562800959</td></tr>\n",
       "\t<tr><th scope=row>174</th><td>Southeast Asia, East Asia and Oceania</td><td>183.274937684743                     </td><td>175.443231659152                     </td><td>190.108697790175                     </td></tr>\n",
       "\t<tr><th scope=row>203</th><td>Sub-Saharian Africa</td><td>40.4160442402854   </td><td>38.699321168172    </td><td>41.8953481641277   </td></tr>\n",
       "</tbody>\n",
       "</table>\n"
      ],
      "text/latex": [
       "\\begin{tabular}{r|llll}\n",
       "  & levels(D\\$Region){[}-1{]} & SimMed\\_NbRCTs & Sim95low\\_NbRCTs & Sim95up\\_NbRCTs\\\\\n",
       "\\hline\n",
       "\t29 & Central Europe, Eastern Europe, and Central Asia & 396.322881048427                                 & 380.679512042515                                 & 409.588642762122                                \\\\\n",
       "\t58 & High-income      & 2618.46986364826 & 2506.35430082521 & 2719.61701289376\\\\\n",
       "\t87 & Latin America and Caribbean & 357.985762567036            & 342.835216388262            & 371.231668654764           \\\\\n",
       "\t116 & North Africa and Middle East & 768.821639535409             & 735.379413761265             & 799.4258838664              \\\\\n",
       "\t145 & South Asia       & 71.1137225646351 & 67.871604888421  & 73.9628562800959\\\\\n",
       "\t174 & Southeast Asia, East Asia and Oceania & 183.274937684743                      & 175.443231659152                      & 190.108697790175                     \\\\\n",
       "\t203 & Sub-Saharian Africa & 40.4160442402854    & 38.699321168172     & 41.8953481641277   \\\\\n",
       "\\end{tabular}\n"
      ],
      "text/plain": [
       "                                levels(D$Region)[-1] SimMed_NbRCTs\n",
       "29  Central Europe, Eastern Europe, and Central Asia     396.32288\n",
       "58                                       High-income    2618.46986\n",
       "87                       Latin America and Caribbean     357.98576\n",
       "116                     North Africa and Middle East     768.82164\n",
       "145                                       South Asia      71.11372\n",
       "174            Southeast Asia, East Asia and Oceania     183.27494\n",
       "203                              Sub-Saharian Africa      40.41604\n",
       "    Sim95low_NbRCTs Sim95up_NbRCTs\n",
       "29        380.67951      409.58864\n",
       "58       2506.35430     2719.61701\n",
       "87        342.83522      371.23167\n",
       "116       735.37941      799.42588\n",
       "145        67.87160       73.96286\n",
       "174       175.44323      190.10870\n",
       "203        38.69932       41.89535"
      ]
     },
     "metadata": {},
     "output_type": "display_data"
    }
   ],
   "source": [
    "cbind(levels(D$Region)[-1],D[D$Disease==\"All\" & D$Region!=\"All\",c(4:6)]/(apply(B[,1:7],2,sum)/10e6))"
   ]
  },
  {
   "cell_type": "code",
   "execution_count": null,
   "metadata": {
    "collapsed": false
   },
   "outputs": [],
   "source": []
  },
  {
   "cell_type": "code",
   "execution_count": 13,
   "metadata": {
    "collapsed": false
   },
   "outputs": [],
   "source": [
    "dt <- D[D$Region==\"All\",]"
   ]
  },
  {
   "cell_type": "code",
   "execution_count": 14,
   "metadata": {
    "collapsed": true
   },
   "outputs": [],
   "source": [
    "dt <- dt[order(dt$SimMed_NbRCTs,decreasing=TRUE),]"
   ]
  },
  {
   "cell_type": "code",
   "execution_count": 15,
   "metadata": {
    "collapsed": false
   },
   "outputs": [
    {
     "data": {
      "text/html": [
       "<table>\n",
       "<thead><tr><th></th><th scope=col>Region</th><th scope=col>Disease</th><th scope=col>SimMn_NbRCTs</th><th scope=col>SimMed_NbRCTs</th><th scope=col>Sim95low_NbRCTs</th><th scope=col>Sim95up_NbRCTs</th><th scope=col>SimMn_PrRCTs</th><th scope=col>SimMed_PrRCTs</th><th scope=col>Sim95low_PrRCTs</th><th scope=col>Sim95up_PrRCTs</th></tr></thead>\n",
       "<tbody>\n",
       "\t<tr><th scope=row>232</th><td>All       </td><td>All       </td><td>82137.4957</td><td>82179     </td><td>78661.775 </td><td>85358.2   </td><td>NA        </td><td>NA        </td><td>NA        </td><td>NA        </td></tr>\n",
       "\t<tr><th scope=row>215</th><td>All              </td><td>Neoplasms        </td><td>12001.1329       </td><td>12025            </td><td>11141.975        </td><td>12744.025        </td><td>0.126136351255165</td><td>0.126378649778903</td><td>0.117644733559054</td><td>0.133463207860421</td></tr>\n",
       "\t<tr><th scope=row>222</th><td>All                                            </td><td>Diabetes, urinary diseases and male infertility</td><td>11699.4323                                     </td><td>11695                                          </td><td>10559                                          </td><td>12854.05                                       </td><td>0.132433871061316                              </td><td>0.132380793114211                              </td><td>0.120733279079101                              </td><td>0.144630894069906                              </td></tr>\n",
       "\t<tr><th scope=row>216</th><td>All                                    </td><td>Cardiovascular and circulatory diseases</td><td>10679.07                               </td><td>10677                                  </td><td>9495                                   </td><td>11913.05                               </td><td>0.121549934303509                      </td><td>0.121507094614905                      </td><td>0.108947182394472                      </td><td>0.134401091881225                      </td></tr>\n",
       "\t<tr><th scope=row>221</th><td>All                            </td><td>Mental and behavioral disorders</td><td>9350.4144                      </td><td>9348                           </td><td>8691.975                       </td><td>10032.025                      </td><td>0.110405219329159              </td><td>0.110395251895569              </td><td>0.102452292815985              </td><td>0.118572594374696              </td></tr>\n",
       "\t<tr><th scope=row>225</th><td>All                      </td><td>Musculoskeletal disorders</td><td>6952.0748                </td><td>6951                     </td><td>6189                     </td><td>7738.025                 </td><td>0.0810194216154212       </td><td>0.0809802503634307       </td><td>0.0724394332863886       </td><td>0.0898703846392905       </td></tr>\n",
       "</tbody>\n",
       "</table>\n"
      ],
      "text/latex": [
       "\\begin{tabular}{r|llllllllll}\n",
       "  & Region & Disease & SimMn\\_NbRCTs & SimMed\\_NbRCTs & Sim95low\\_NbRCTs & Sim95up\\_NbRCTs & SimMn\\_PrRCTs & SimMed\\_PrRCTs & Sim95low\\_PrRCTs & Sim95up\\_PrRCTs\\\\\n",
       "\\hline\n",
       "\t232 & All        & All        & 82137.4957 & 82179      & 78661.775  & 85358.2    & NA         & NA         & NA         & NA        \\\\\n",
       "\t215 & All               & Neoplasms         & 12001.1329        & 12025             & 11141.975         & 12744.025         & 0.126136351255165 & 0.126378649778903 & 0.117644733559054 & 0.133463207860421\\\\\n",
       "\t222 & All                                             & Diabetes, urinary diseases and male infertility & 11699.4323                                      & 11695                                           & 10559                                           & 12854.05                                        & 0.132433871061316                               & 0.132380793114211                               & 0.120733279079101                               & 0.144630894069906                              \\\\\n",
       "\t216 & All                                     & Cardiovascular and circulatory diseases & 10679.07                                & 10677                                   & 9495                                    & 11913.05                                & 0.121549934303509                       & 0.121507094614905                       & 0.108947182394472                       & 0.134401091881225                      \\\\\n",
       "\t221 & All                             & Mental and behavioral disorders & 9350.4144                       & 9348                            & 8691.975                        & 10032.025                       & 0.110405219329159               & 0.110395251895569               & 0.102452292815985               & 0.118572594374696              \\\\\n",
       "\t225 & All                       & Musculoskeletal disorders & 6952.0748                 & 6951                      & 6189                      & 7738.025                  & 0.0810194216154212        & 0.0809802503634307        & 0.0724394332863886        & 0.0898703846392905       \\\\\n",
       "\\end{tabular}\n"
      ],
      "text/plain": [
       "    Region                                         Disease SimMn_NbRCTs\n",
       "232    All                                             All    82137.496\n",
       "215    All                                       Neoplasms    12001.133\n",
       "222    All Diabetes, urinary diseases and male infertility    11699.432\n",
       "216    All         Cardiovascular and circulatory diseases    10679.070\n",
       "221    All                 Mental and behavioral disorders     9350.414\n",
       "225    All                       Musculoskeletal disorders     6952.075\n",
       "    SimMed_NbRCTs Sim95low_NbRCTs Sim95up_NbRCTs SimMn_PrRCTs SimMed_PrRCTs\n",
       "232         82179       78661.775      85358.200           NA            NA\n",
       "215         12025       11141.975      12744.025   0.12613635    0.12637865\n",
       "222         11695       10559.000      12854.050   0.13243387    0.13238079\n",
       "216         10677        9495.000      11913.050   0.12154993    0.12150709\n",
       "221          9348        8691.975      10032.025   0.11040522    0.11039525\n",
       "225          6951        6189.000       7738.025   0.08101942    0.08098025\n",
       "    Sim95low_PrRCTs Sim95up_PrRCTs\n",
       "232              NA             NA\n",
       "215      0.11764473     0.13346321\n",
       "222      0.12073328     0.14463089\n",
       "216      0.10894718     0.13440109\n",
       "221      0.10245229     0.11857259\n",
       "225      0.07243943     0.08987038"
      ]
     },
     "metadata": {},
     "output_type": "display_data"
    }
   ],
   "source": [
    "head(dt)"
   ]
  },
  {
   "cell_type": "code",
   "execution_count": 16,
   "metadata": {
    "collapsed": true
   },
   "outputs": [],
   "source": [
    "dt <- dt[order(dt$Disease),]"
   ]
  },
  {
   "cell_type": "code",
   "execution_count": 17,
   "metadata": {
    "collapsed": true
   },
   "outputs": [],
   "source": [
    "dt <- dt[dt$Disease!=\"All\",]"
   ]
  },
  {
   "cell_type": "code",
   "execution_count": 18,
   "metadata": {
    "collapsed": false
   },
   "outputs": [
    {
     "data": {
      "text/html": [
       "<table>\n",
       "<thead><tr><th></th><th scope=col>Region</th><th scope=col>Disease</th><th scope=col>SimMn_NbRCTs</th><th scope=col>SimMed_NbRCTs</th><th scope=col>Sim95low_NbRCTs</th><th scope=col>Sim95up_NbRCTs</th><th scope=col>SimMn_PrRCTs</th><th scope=col>SimMed_PrRCTs</th><th scope=col>Sim95low_PrRCTs</th><th scope=col>Sim95up_PrRCTs</th></tr></thead>\n",
       "<tbody>\n",
       "\t<tr><th scope=row>216</th><td>All                                    </td><td>Cardiovascular and circulatory diseases</td><td>10679.07                               </td><td>10677                                  </td><td>9495                                   </td><td>11913.05                               </td><td>0.121549934303509                      </td><td>0.121507094614905                      </td><td>0.108947182394472                      </td><td>0.134401091881225                      </td></tr>\n",
       "\t<tr><th scope=row>217</th><td>All                         </td><td>Chronic respiratory diseases</td><td>4775.6696                   </td><td>4776                        </td><td>4289                        </td><td>5259.025                    </td><td>0.0566797613868748          </td><td>0.0566594142179903          </td><td>0.0508833706240818          </td><td>0.0627232178605585          </td></tr>\n",
       "\t<tr><th scope=row>218</th><td>All                   </td><td>Cirrhosis of the liver</td><td>1058.02540762229      </td><td>1059                  </td><td>546.8                 </td><td>1553                  </td><td>0.0125795556967012    </td><td>0.0125970762905436    </td><td>0.00651231149184649   </td><td>0.0184210492804372    </td></tr>\n",
       "\t<tr><th scope=row>226</th><td>All                 </td><td>Congenital anomalies</td><td>386.383010603965    </td><td>376                 </td><td>29                  </td><td>835                 </td><td>0.00454034397067493 </td><td>0.00441612365605483 </td><td>0.000343021398094768</td><td>0.00977062314021986 </td></tr>\n",
       "\t<tr><th scope=row>222</th><td>All                                            </td><td>Diabetes, urinary diseases and male infertility</td><td>11699.4323                                     </td><td>11695                                          </td><td>10559                                          </td><td>12854.05                                       </td><td>0.132433871061316                              </td><td>0.132380793114211                              </td><td>0.120733279079101                              </td><td>0.144630894069906                              </td></tr>\n",
       "\t<tr><th scope=row>206</th><td>All                                                                                     </td><td>Diarrhea, lower respiratory infections, meningitis, and other common infectious diseases</td><td>3507.9271                                                                               </td><td>3492.5                                                                                  </td><td>2856.975                                                                                </td><td>4241                                                                                    </td><td>0.041538160035434                                                                       </td><td>0.0414191145863686                                                                      </td><td>0.0339903558500011                                                                      </td><td>0.050099139924556                                                                       </td></tr>\n",
       "</tbody>\n",
       "</table>\n"
      ],
      "text/latex": [
       "\\begin{tabular}{r|llllllllll}\n",
       "  & Region & Disease & SimMn\\_NbRCTs & SimMed\\_NbRCTs & Sim95low\\_NbRCTs & Sim95up\\_NbRCTs & SimMn\\_PrRCTs & SimMed\\_PrRCTs & Sim95low\\_PrRCTs & Sim95up\\_PrRCTs\\\\\n",
       "\\hline\n",
       "\t216 & All                                     & Cardiovascular and circulatory diseases & 10679.07                                & 10677                                   & 9495                                    & 11913.05                                & 0.121549934303509                       & 0.121507094614905                       & 0.108947182394472                       & 0.134401091881225                      \\\\\n",
       "\t217 & All                          & Chronic respiratory diseases & 4775.6696                    & 4776                         & 4289                         & 5259.025                     & 0.0566797613868748           & 0.0566594142179903           & 0.0508833706240818           & 0.0627232178605585          \\\\\n",
       "\t218 & All                    & Cirrhosis of the liver & 1058.02540762229       & 1059                   & 546.8                  & 1553                   & 0.0125795556967012     & 0.0125970762905436     & 0.00651231149184649    & 0.0184210492804372    \\\\\n",
       "\t226 & All                  & Congenital anomalies & 386.383010603965     & 376                  & 29                   & 835                  & 0.00454034397067493  & 0.00441612365605483  & 0.000343021398094768 & 0.00977062314021986 \\\\\n",
       "\t222 & All                                             & Diabetes, urinary diseases and male infertility & 11699.4323                                      & 11695                                           & 10559                                           & 12854.05                                        & 0.132433871061316                               & 0.132380793114211                               & 0.120733279079101                               & 0.144630894069906                              \\\\\n",
       "\t206 & All                                                                                      & Diarrhea, lower respiratory infections, meningitis, and other common infectious diseases & 3507.9271                                                                                & 3492.5                                                                                   & 2856.975                                                                                 & 4241                                                                                     & 0.041538160035434                                                                        & 0.0414191145863686                                                                       & 0.0339903558500011                                                                       & 0.050099139924556                                                                       \\\\\n",
       "\\end{tabular}\n"
      ],
      "text/plain": [
       "    Region\n",
       "216    All\n",
       "217    All\n",
       "218    All\n",
       "226    All\n",
       "222    All\n",
       "206    All\n",
       "                                                                                     Disease\n",
       "216                                                  Cardiovascular and circulatory diseases\n",
       "217                                                             Chronic respiratory diseases\n",
       "218                                                                   Cirrhosis of the liver\n",
       "226                                                                     Congenital anomalies\n",
       "222                                          Diabetes, urinary diseases and male infertility\n",
       "206 Diarrhea, lower respiratory infections, meningitis, and other common infectious diseases\n",
       "    SimMn_NbRCTs SimMed_NbRCTs Sim95low_NbRCTs Sim95up_NbRCTs SimMn_PrRCTs\n",
       "216    10679.070       10677.0        9495.000      11913.050  0.121549934\n",
       "217     4775.670        4776.0        4289.000       5259.025  0.056679761\n",
       "218     1058.025        1059.0         546.800       1553.000  0.012579556\n",
       "226      386.383         376.0          29.000        835.000  0.004540344\n",
       "222    11699.432       11695.0       10559.000      12854.050  0.132433871\n",
       "206     3507.927        3492.5        2856.975       4241.000  0.041538160\n",
       "    SimMed_PrRCTs Sim95low_PrRCTs Sim95up_PrRCTs\n",
       "216   0.121507095    0.1089471824    0.134401092\n",
       "217   0.056659414    0.0508833706    0.062723218\n",
       "218   0.012597076    0.0065123115    0.018421049\n",
       "226   0.004416124    0.0003430214    0.009770623\n",
       "222   0.132380793    0.1207332791    0.144630894\n",
       "206   0.041419115    0.0339903559    0.050099140"
      ]
     },
     "metadata": {},
     "output_type": "display_data"
    }
   ],
   "source": [
    "head(dt)"
   ]
  },
  {
   "cell_type": "code",
   "execution_count": 19,
   "metadata": {
    "collapsed": false
   },
   "outputs": [],
   "source": [
    "dtt <- dt[,c(4:6)]/(B$Tot/10e6)"
   ]
  },
  {
   "cell_type": "code",
   "execution_count": 20,
   "metadata": {
    "collapsed": false
   },
   "outputs": [],
   "source": [
    "dtt <- cbind(B$Prop_bd,dtt)\n",
    "dtt <- cbind(dt$Dis,dtt)\n"
   ]
  },
  {
   "cell_type": "code",
   "execution_count": 21,
   "metadata": {
    "collapsed": false
   },
   "outputs": [],
   "source": [
    "DR <- dtt[order(dtt$SimMed_NbRCTs,decreasing=TRUE),]"
   ]
  },
  {
   "cell_type": "markdown",
   "metadata": {},
   "source": [
    "Hay que sacar     Sexually transmitted diseases excluding HIV Leprosy Hemoglobinopathies and hemolytic anemias Congenital anomalies Sudden infant death syndrome \n",
    "\n"
   ]
  },
  {
   "cell_type": "code",
   "execution_count": 22,
   "metadata": {
    "collapsed": false
   },
   "outputs": [
    {
     "data": {
      "text/html": [
       "<table>\n",
       "<thead><tr><th></th><th scope=col>dt$Dis</th><th scope=col>B$Prop_bd</th><th scope=col>SimMed_NbRCTs</th><th scope=col>Sim95low_NbRCTs</th><th scope=col>Sim95up_NbRCTs</th></tr></thead>\n",
       "<tbody>\n",
       "\t<tr><th scope=row>215</th><td>Neoplasms       </td><td>7.9668236248185 </td><td>679.883472214284</td><td>629.957975078981</td><td>720.536546111072</td></tr>\n",
       "\t<tr><th scope=row>221</th><td>Mental and behavioral disorders</td><td>7.74366951931126               </td><td>543.759045876971               </td><td>505.599062129492               </td><td>583.547747348515               </td></tr>\n",
       "\t<tr><th scope=row>225</th><td>Musculoskeletal disorders</td><td>6.82659656581682         </td><td>458.646043899262         </td><td>408.367194028562         </td><td>510.576111903839         </td></tr>\n",
       "\t<tr><th scope=row>217</th><td>Chronic respiratory diseases</td><td>5.06676294059161            </td><td>424.588604493273            </td><td>381.294079705119            </td><td>467.529749946657            </td></tr>\n",
       "\t<tr><th scope=row>216</th><td>Cardiovascular and circulatory diseases</td><td>12.9457606818034                       </td><td>371.497820045805                       </td><td>330.371059411344                       </td><td>414.505207932629                       </td></tr>\n",
       "\t<tr><th scope=row>206</th><td>Diarrhea, lower respiratory infections, meningitis, and other common infectious diseases</td><td>14.832257507258                                                                         </td><td>106.062963909866                                                                        </td><td>86.7628450440632                                                                        </td><td>128.793995688402                                                                        </td></tr>\n",
       "\t<tr><th scope=row>210</th><td>Neonatal disorders</td><td>9.92260243673451  </td><td>63.7347252455914  </td><td>28.5989151743038  </td><td>163.830928355655  </td></tr>\n",
       "</tbody>\n",
       "</table>\n"
      ],
      "text/latex": [
       "\\begin{tabular}{r|lllll}\n",
       "  & dt\\$Dis & B\\$Prop\\_bd & SimMed\\_NbRCTs & Sim95low\\_NbRCTs & Sim95up\\_NbRCTs\\\\\n",
       "\\hline\n",
       "\t215 & Neoplasms        & 7.9668236248185  & 679.883472214284 & 629.957975078981 & 720.536546111072\\\\\n",
       "\t221 & Mental and behavioral disorders & 7.74366951931126                & 543.759045876971                & 505.599062129492                & 583.547747348515               \\\\\n",
       "\t225 & Musculoskeletal disorders & 6.82659656581682          & 458.646043899262          & 408.367194028562          & 510.576111903839         \\\\\n",
       "\t217 & Chronic respiratory diseases & 5.06676294059161             & 424.588604493273             & 381.294079705119             & 467.529749946657            \\\\\n",
       "\t216 & Cardiovascular and circulatory diseases & 12.9457606818034                        & 371.497820045805                        & 330.371059411344                        & 414.505207932629                       \\\\\n",
       "\t206 & Diarrhea, lower respiratory infections, meningitis, and other common infectious diseases & 14.832257507258                                                                          & 106.062963909866                                                                         & 86.7628450440632                                                                         & 128.793995688402                                                                        \\\\\n",
       "\t210 & Neonatal disorders & 9.92260243673451   & 63.7347252455914   & 28.5989151743038   & 163.830928355655  \\\\\n",
       "\\end{tabular}\n"
      ],
      "text/plain": [
       "                                                                                      dt$Dis\n",
       "215                                                                                Neoplasms\n",
       "221                                                          Mental and behavioral disorders\n",
       "225                                                                Musculoskeletal disorders\n",
       "217                                                             Chronic respiratory diseases\n",
       "216                                                  Cardiovascular and circulatory diseases\n",
       "206 Diarrhea, lower respiratory infections, meningitis, and other common infectious diseases\n",
       "210                                                                       Neonatal disorders\n",
       "    B$Prop_bd SimMed_NbRCTs Sim95low_NbRCTs Sim95up_NbRCTs\n",
       "215  7.966824     679.88347       629.95798       720.5365\n",
       "221  7.743670     543.75905       505.59906       583.5477\n",
       "225  6.826597     458.64604       408.36719       510.5761\n",
       "217  5.066763     424.58860       381.29408       467.5297\n",
       "216 12.945761     371.49782       330.37106       414.5052\n",
       "206 14.832258     106.06296        86.76285       128.7940\n",
       "210  9.922602      63.73473        28.59892       163.8309"
      ]
     },
     "metadata": {},
     "output_type": "display_data"
    }
   ],
   "source": [
    "DR[DR[,2]>5,]"
   ]
  },
  {
   "cell_type": "code",
   "execution_count": 23,
   "metadata": {
    "collapsed": false
   },
   "outputs": [
    {
     "data": {
      "text/html": [
       "<table>\n",
       "<thead><tr><th></th><th scope=col>dt$Dis</th><th scope=col>B$Prop_bd</th><th scope=col>SimMed_NbRCTs</th><th scope=col>Sim95low_NbRCTs</th><th scope=col>Sim95up_NbRCTs</th></tr></thead>\n",
       "<tbody>\n",
       "\t<tr><th scope=row>219</th><td>Digestive diseases (except cirrhosis)</td><td>1.46735028796478                     </td><td>2072.68466016139                     </td><td>1714.13200906764                     </td><td>2693.38495382939                     </td></tr>\n",
       "\t<tr><th scope=row>228</th><td>Sense organ diseases</td><td>1.4544896188737     </td><td>1612.234235561      </td><td>1397.61290803513    </td><td>1844.81745045962    </td></tr>\n",
       "\t<tr><th scope=row>222</th><td>Diabetes, urinary diseases and male infertility</td><td>3.41528428016898                               </td><td>1542.43889534714                               </td><td>1392.61327883459                               </td><td>1695.30454747644                               </td></tr>\n",
       "\t<tr><th scope=row>227</th><td>Skin and subcutaneous diseases</td><td>1.57932347977529              </td><td>1241.8007959103               </td><td>1010.21093686593              </td><td>1641.66407470365              </td></tr>\n",
       "\t<tr><th scope=row>220</th><td>Neurological disorders</td><td>2.96508052579436      </td><td>971.64263670341       </td><td>845.553926812254      </td><td>1108.06150595914      </td></tr>\n",
       "\t<tr><th scope=row>218</th><td>Cirrhosis of the liver</td><td>1.37215538961821      </td><td>347.638018269443      </td><td>179.498081576706      </td><td>509.803439445179      </td></tr>\n",
       "\t<tr><th scope=row>208</th><td>Neglected tropical diseases excluding malaria</td><td>1.21811941900211                             </td><td>181.562530350932                             </td><td>122.027769889628                             </td><td>306.557793735603                             </td></tr>\n",
       "\t<tr><th scope=row>205</th><td>HIV/AIDS        </td><td>4.33140139757199</td><td>156.094234102914</td><td>120.421865912939</td><td>182.092607537776</td></tr>\n",
       "\t<tr><th scope=row>211</th><td>Nutritional deficiencies</td><td>4.01183433127066        </td><td>142.816610620361        </td><td>73.8784039215391        </td><td>238.252238786483        </td></tr>\n",
       "\t<tr><th scope=row>226</th><td>Congenital anomalies</td><td>1.94834536167834    </td><td>86.927362797615     </td><td>6.70450404556073    </td><td>193.043478553214    </td></tr>\n",
       "\t<tr><th scope=row>204</th><td>Tuberculosis    </td><td>2.54068757976456</td><td>53.1868893730555</td><td>15.7787771806731</td><td>81.0213614782878</td></tr>\n",
       "\t<tr><th scope=row>207</th><td>Malaria         </td><td>4.5649389346377 </td><td>42.9228831312678</td><td>26.2470963515339</td><td>54.1716387104966</td></tr>\n",
       "</tbody>\n",
       "</table>\n"
      ],
      "text/latex": [
       "\\begin{tabular}{r|lllll}\n",
       "  & dt\\$Dis & B\\$Prop\\_bd & SimMed\\_NbRCTs & Sim95low\\_NbRCTs & Sim95up\\_NbRCTs\\\\\n",
       "\\hline\n",
       "\t219 & Digestive diseases (except cirrhosis) & 1.46735028796478                      & 2072.68466016139                      & 1714.13200906764                      & 2693.38495382939                     \\\\\n",
       "\t228 & Sense organ diseases & 1.4544896188737      & 1612.234235561       & 1397.61290803513     & 1844.81745045962    \\\\\n",
       "\t222 & Diabetes, urinary diseases and male infertility & 3.41528428016898                                & 1542.43889534714                                & 1392.61327883459                                & 1695.30454747644                               \\\\\n",
       "\t227 & Skin and subcutaneous diseases & 1.57932347977529               & 1241.8007959103                & 1010.21093686593               & 1641.66407470365              \\\\\n",
       "\t220 & Neurological disorders & 2.96508052579436       & 971.64263670341        & 845.553926812254       & 1108.06150595914      \\\\\n",
       "\t218 & Cirrhosis of the liver & 1.37215538961821       & 347.638018269443       & 179.498081576706       & 509.803439445179      \\\\\n",
       "\t208 & Neglected tropical diseases excluding malaria & 1.21811941900211                              & 181.562530350932                              & 122.027769889628                              & 306.557793735603                             \\\\\n",
       "\t205 & HIV/AIDS         & 4.33140139757199 & 156.094234102914 & 120.421865912939 & 182.092607537776\\\\\n",
       "\t211 & Nutritional deficiencies & 4.01183433127066         & 142.816610620361         & 73.8784039215391         & 238.252238786483        \\\\\n",
       "\t226 & Congenital anomalies & 1.94834536167834     & 86.927362797615      & 6.70450404556073     & 193.043478553214    \\\\\n",
       "\t204 & Tuberculosis     & 2.54068757976456 & 53.1868893730555 & 15.7787771806731 & 81.0213614782878\\\\\n",
       "\t207 & Malaria          & 4.5649389346377  & 42.9228831312678 & 26.2470963515339 & 54.1716387104966\\\\\n",
       "\\end{tabular}\n"
      ],
      "text/plain": [
       "                                             dt$Dis B$Prop_bd SimMed_NbRCTs\n",
       "219           Digestive diseases (except cirrhosis)  1.467350    2072.68466\n",
       "228                            Sense organ diseases  1.454490    1612.23424\n",
       "222 Diabetes, urinary diseases and male infertility  3.415284    1542.43890\n",
       "227                  Skin and subcutaneous diseases  1.579323    1241.80080\n",
       "220                          Neurological disorders  2.965081     971.64264\n",
       "218                          Cirrhosis of the liver  1.372155     347.63802\n",
       "208   Neglected tropical diseases excluding malaria  1.218119     181.56253\n",
       "205                                        HIV/AIDS  4.331401     156.09423\n",
       "211                        Nutritional deficiencies  4.011834     142.81661\n",
       "226                            Congenital anomalies  1.948345      86.92736\n",
       "204                                    Tuberculosis  2.540688      53.18689\n",
       "207                                         Malaria  4.564939      42.92288\n",
       "    Sim95low_NbRCTs Sim95up_NbRCTs\n",
       "219     1714.132009     2693.38495\n",
       "228     1397.612908     1844.81745\n",
       "222     1392.613279     1695.30455\n",
       "227     1010.210937     1641.66407\n",
       "220      845.553927     1108.06151\n",
       "218      179.498082      509.80344\n",
       "208      122.027770      306.55779\n",
       "205      120.421866      182.09261\n",
       "211       73.878404      238.25224\n",
       "226        6.704504      193.04348\n",
       "204       15.778777       81.02136\n",
       "207       26.247096       54.17164"
      ]
     },
     "metadata": {},
     "output_type": "display_data"
    }
   ],
   "source": [
    "DR[DR[,2]>1 & DR[,2]<5,]"
   ]
  },
  {
   "cell_type": "code",
   "execution_count": 24,
   "metadata": {
    "collapsed": true
   },
   "outputs": [],
   "source": [
    "#Local GAPS\n",
    "\n",
    "DG <- D[D$Disease!=\"All\" & D$Region!=\"All\",]"
   ]
  },
  {
   "cell_type": "code",
   "execution_count": 25,
   "metadata": {
    "collapsed": true
   },
   "outputs": [],
   "source": [
    "DG <- DG[order(DG$Region,DG$Disease),]"
   ]
  },
  {
   "cell_type": "code",
   "execution_count": 26,
   "metadata": {
    "collapsed": false
   },
   "outputs": [],
   "source": [
    "DG$Prp_gbd <- unlist(B[,c(1:7)]/rep(apply(B[,c(1:7)],2,sum),each=nrow(B)))"
   ]
  },
  {
   "cell_type": "code",
   "execution_count": 27,
   "metadata": {
    "collapsed": true
   },
   "outputs": [],
   "source": [
    "DG$Tot_gbd <- unlist(B[,c(1:7)])"
   ]
  },
  {
   "cell_type": "code",
   "execution_count": 28,
   "metadata": {
    "collapsed": false
   },
   "outputs": [],
   "source": [
    "DG$GAP <- 2*DG$Sim95up_PrRCTs <= DG$Prp_gbd"
   ]
  },
  {
   "cell_type": "code",
   "execution_count": 29,
   "metadata": {
    "collapsed": false,
    "scrolled": true
   },
   "outputs": [
    {
     "data": {
      "text/plain": [
       "\n",
       "FALSE  TRUE \n",
       "  170    19 "
      ]
     },
     "metadata": {},
     "output_type": "display_data"
    }
   ],
   "source": [
    "table(DG$GAP)"
   ]
  },
  {
   "cell_type": "code",
   "execution_count": 30,
   "metadata": {
    "collapsed": false,
    "scrolled": false
   },
   "outputs": [
    {
     "data": {
      "text/html": [
       "<table>\n",
       "<thead><tr><th></th><th scope=col>Region</th><th scope=col>Disease</th><th scope=col>SimMn_NbRCTs</th><th scope=col>SimMed_NbRCTs</th><th scope=col>Sim95low_NbRCTs</th><th scope=col>Sim95up_NbRCTs</th><th scope=col>SimMn_PrRCTs</th><th scope=col>SimMed_PrRCTs</th><th scope=col>Sim95low_PrRCTs</th><th scope=col>Sim95up_PrRCTs</th><th scope=col>Prp_gbd</th><th scope=col>Tot_gbd</th><th scope=col>GAP</th></tr></thead>\n",
       "<tbody>\n",
       "\t<tr><th scope=row>13</th><td>Central Europe, Eastern Europe, and Central Asia</td><td>Cardiovascular and circulatory diseases         </td><td>766.8658                                        </td><td>767                                             </td><td>681                                             </td><td>858                                             </td><td>0.125263295193104                               </td><td>0.125202724618878                               </td><td>0.111603335645428                               </td><td>0.139913206750202                               </td><td>0.350858980692946                               </td><td>53161406.515                                    </td><td>1                                               </td></tr>\n",
       "\t<tr><th scope=row>65</th><td>Latin America and Caribbean</td><td>Neonatal disorders         </td><td>74.1991995997999           </td><td>65                         </td><td>28                         </td><td>171.15                     </td><td>0.0174300644021599         </td><td>0.0153667054714785         </td><td>0.00648570298568564        </td><td>0.0401306660982806         </td><td>0.0871724864680537         </td><td>10069066.126               </td><td>1                          </td></tr>\n",
       "\t<tr><th scope=row>90</th><td>North Africa and Middle East                                                            </td><td>Diarrhea, lower respiratory infections, meningitis, and other common infectious diseases</td><td>261.6402                                                                                </td><td>260                                                                                     </td><td>205                                                                                     </td><td>330                                                                                     </td><td>0.0332463083928736                                                                      </td><td>0.0330081075367737                                                                      </td><td>0.0260275606150169                                                                      </td><td>0.041933040854131                                                                       </td><td>0.105457299678585                                                                       </td><td>10785476.172                                                                            </td><td>1                                                                                       </td></tr>\n",
       "\t<tr><th scope=row>119</th><td>South Asia                                                                              </td><td>Diarrhea, lower respiratory infections, meningitis, and other common infectious diseases</td><td>308.2606                                                                                </td><td>309                                                                                     </td><td>255                                                                                     </td><td>360                                                                                     </td><td>0.070241126024192                                                                       </td><td>0.0702940231386936                                                                      </td><td>0.0581420418941535                                                                      </td><td>0.0822312970852849                                                                      </td><td>0.214266213115124                                                                       </td><td>130854936.2907                                                                          </td><td>1                                                                                       </td></tr>\n",
       "\t<tr><th scope=row>123</th><td>South Asia        </td><td>Neonatal disorders</td><td>108.194997498749  </td><td>99                </td><td>46                </td><td>222               </td><td>0.0243736330651701</td><td>0.0224064530584808</td><td>0.0104519473411052</td><td>0.0492999130924897</td><td>0.165191660333951 </td><td>100884520.59      </td><td>1                 </td></tr>\n",
       "\t<tr><th scope=row>177</th><td>Sub-Saharian Africa                                                                     </td><td>Diarrhea, lower respiratory infections, meningitis, and other common infectious diseases</td><td>130.4176                                                                                </td><td>130                                                                                     </td><td>105                                                                                     </td><td>155                                                                                     </td><td>0.0578685408406741                                                                      </td><td>0.0579074212742039                                                                      </td><td>0.04677560440546                                                                        </td><td>0.0689038421574854                                                                      </td><td>0.229258956705191                                                                       </td><td>125531847.741516                                                                        </td><td>1                                                                                       </td></tr>\n",
       "\t<tr><th scope=row>181</th><td>Sub-Saharian Africa</td><td>Neonatal disorders </td><td>49.9765882941471   </td><td>46                 </td><td>21                 </td><td>101                </td><td>0.0220125838833912 </td><td>0.0203000882612533 </td><td>0.00913223438014149</td><td>0.0445175656004578 </td><td>0.115784768564737  </td><td>63398508.5998      </td><td>1                  </td></tr>\n",
       "</tbody>\n",
       "</table>\n"
      ],
      "text/latex": [
       "\\begin{tabular}{r|lllllllllllll}\n",
       "  & Region & Disease & SimMn\\_NbRCTs & SimMed\\_NbRCTs & Sim95low\\_NbRCTs & Sim95up\\_NbRCTs & SimMn\\_PrRCTs & SimMed\\_PrRCTs & Sim95low\\_PrRCTs & Sim95up\\_PrRCTs & Prp\\_gbd & Tot\\_gbd & GAP\\\\\n",
       "\\hline\n",
       "\t13 & Central Europe, Eastern Europe, and Central Asia & Cardiovascular and circulatory diseases          & 766.8658                                         & 767                                              & 681                                              & 858                                              & 0.125263295193104                                & 0.125202724618878                                & 0.111603335645428                                & 0.139913206750202                                & 0.350858980692946                                & 53161406.515                                     & 1                                               \\\\\n",
       "\t65 & Latin America and Caribbean & Neonatal disorders          & 74.1991995997999            & 65                          & 28                          & 171.15                      & 0.0174300644021599          & 0.0153667054714785          & 0.00648570298568564         & 0.0401306660982806          & 0.0871724864680537          & 10069066.126                & 1                          \\\\\n",
       "\t90 & North Africa and Middle East                                                             & Diarrhea, lower respiratory infections, meningitis, and other common infectious diseases & 261.6402                                                                                 & 260                                                                                      & 205                                                                                      & 330                                                                                      & 0.0332463083928736                                                                       & 0.0330081075367737                                                                       & 0.0260275606150169                                                                       & 0.041933040854131                                                                        & 0.105457299678585                                                                        & 10785476.172                                                                             & 1                                                                                       \\\\\n",
       "\t119 & South Asia                                                                               & Diarrhea, lower respiratory infections, meningitis, and other common infectious diseases & 308.2606                                                                                 & 309                                                                                      & 255                                                                                      & 360                                                                                      & 0.070241126024192                                                                        & 0.0702940231386936                                                                       & 0.0581420418941535                                                                       & 0.0822312970852849                                                                       & 0.214266213115124                                                                        & 130854936.2907                                                                           & 1                                                                                       \\\\\n",
       "\t123 & South Asia         & Neonatal disorders & 108.194997498749   & 99                 & 46                 & 222                & 0.0243736330651701 & 0.0224064530584808 & 0.0104519473411052 & 0.0492999130924897 & 0.165191660333951  & 100884520.59       & 1                 \\\\\n",
       "\t177 & Sub-Saharian Africa                                                                      & Diarrhea, lower respiratory infections, meningitis, and other common infectious diseases & 130.4176                                                                                 & 130                                                                                      & 105                                                                                      & 155                                                                                      & 0.0578685408406741                                                                       & 0.0579074212742039                                                                       & 0.04677560440546                                                                         & 0.0689038421574854                                                                       & 0.229258956705191                                                                        & 125531847.741516                                                                         & 1                                                                                       \\\\\n",
       "\t181 & Sub-Saharian Africa & Neonatal disorders  & 49.9765882941471    & 46                  & 21                  & 101                 & 0.0220125838833912  & 0.0203000882612533  & 0.00913223438014149 & 0.0445175656004578  & 0.115784768564737   & 63398508.5998       & 1                  \\\\\n",
       "\\end{tabular}\n"
      ],
      "text/plain": [
       "                                              Region\n",
       "13  Central Europe, Eastern Europe, and Central Asia\n",
       "65                       Latin America and Caribbean\n",
       "90                      North Africa and Middle East\n",
       "119                                       South Asia\n",
       "123                                       South Asia\n",
       "177                              Sub-Saharian Africa\n",
       "181                              Sub-Saharian Africa\n",
       "                                                                                     Disease\n",
       "13                                                   Cardiovascular and circulatory diseases\n",
       "65                                                                        Neonatal disorders\n",
       "90  Diarrhea, lower respiratory infections, meningitis, and other common infectious diseases\n",
       "119 Diarrhea, lower respiratory infections, meningitis, and other common infectious diseases\n",
       "123                                                                       Neonatal disorders\n",
       "177 Diarrhea, lower respiratory infections, meningitis, and other common infectious diseases\n",
       "181                                                                       Neonatal disorders\n",
       "    SimMn_NbRCTs SimMed_NbRCTs Sim95low_NbRCTs Sim95up_NbRCTs SimMn_PrRCTs\n",
       "13     766.86580           767             681         858.00   0.12526330\n",
       "65      74.19920            65              28         171.15   0.01743006\n",
       "90     261.64020           260             205         330.00   0.03324631\n",
       "119    308.26060           309             255         360.00   0.07024113\n",
       "123    108.19500            99              46         222.00   0.02437363\n",
       "177    130.41760           130             105         155.00   0.05786854\n",
       "181     49.97659            46              21         101.00   0.02201258\n",
       "    SimMed_PrRCTs Sim95low_PrRCTs Sim95up_PrRCTs    Prp_gbd   Tot_gbd  GAP\n",
       "13     0.12520272     0.111603336     0.13991321 0.35085898  53161407 TRUE\n",
       "65     0.01536671     0.006485703     0.04013067 0.08717249  10069066 TRUE\n",
       "90     0.03300811     0.026027561     0.04193304 0.10545730  10785476 TRUE\n",
       "119    0.07029402     0.058142042     0.08223130 0.21426621 130854936 TRUE\n",
       "123    0.02240645     0.010451947     0.04929991 0.16519166 100884521 TRUE\n",
       "177    0.05790742     0.046775604     0.06890384 0.22925896 125531848 TRUE\n",
       "181    0.02030009     0.009132234     0.04451757 0.11578477  63398509 TRUE"
      ]
     },
     "metadata": {},
     "output_type": "display_data"
    }
   ],
   "source": [
    "DG[DG$GAP & DG$Prp_gbd>=0.05,]"
   ]
  },
  {
   "cell_type": "code",
   "execution_count": 31,
   "metadata": {
    "collapsed": false,
    "scrolled": true
   },
   "outputs": [
    {
     "data": {
      "text/html": [
       "<table>\n",
       "<thead><tr><th></th><th scope=col>Region</th><th scope=col>Disease</th><th scope=col>SimMn_NbRCTs</th><th scope=col>SimMed_NbRCTs</th><th scope=col>Sim95low_NbRCTs</th><th scope=col>Sim95up_NbRCTs</th><th scope=col>SimMn_PrRCTs</th><th scope=col>SimMed_PrRCTs</th><th scope=col>Sim95low_PrRCTs</th><th scope=col>Sim95up_PrRCTs</th><th scope=col>Prp_gbd</th><th scope=col>Tot_gbd</th><th scope=col>GAP</th></tr></thead>\n",
       "<tbody>\n",
       "\t<tr><th scope=row>1</th><td>Central Europe, Eastern Europe, and Central Asia</td><td>Tuberculosis                                    </td><td>17.1117053481332                                </td><td>17                                              </td><td>4                                               </td><td>28.2749999999996                                </td><td>0.00278124309813186                             </td><td>0.00284022352083005                             </td><td>0.000657883973136107                            </td><td>0.00465706413729596                             </td><td>0.0182764909724469                              </td><td>2769215.04                                      </td><td>1                                               </td></tr>\n",
       "\t<tr><th scope=row>117</th><td>South Asia         </td><td>Tuberculosis       </td><td>38.2599394550959   </td><td>40                 </td><td>11                 </td><td>57                 </td><td>0.00854900541880527</td><td>0.0089375489887719 </td><td>0.00244993075094331</td><td>0.0126436781609195 </td><td>0.0387455189596979 </td><td>23662351.34        </td><td>1                  </td></tr>\n",
       "\t<tr><th scope=row>146</th><td>Southeast Asia, East Asia and Oceania</td><td>Tuberculosis                         </td><td>51.1650857719475                     </td><td>53                                   </td><td>15                                   </td><td>76                                   </td><td>0.0058636348488571                   </td><td>0.00610001152878287                  </td><td>0.00172521136782187                  </td><td>0.00873828957391948                  </td><td>0.0284207805430976                   </td><td>13100468.458                         </td><td>1                                    </td></tr>\n",
       "</tbody>\n",
       "</table>\n"
      ],
      "text/latex": [
       "\\begin{tabular}{r|lllllllllllll}\n",
       "  & Region & Disease & SimMn\\_NbRCTs & SimMed\\_NbRCTs & Sim95low\\_NbRCTs & Sim95up\\_NbRCTs & SimMn\\_PrRCTs & SimMed\\_PrRCTs & Sim95low\\_PrRCTs & Sim95up\\_PrRCTs & Prp\\_gbd & Tot\\_gbd & GAP\\\\\n",
       "\\hline\n",
       "\t1 & Central Europe, Eastern Europe, and Central Asia & Tuberculosis                                     & 17.1117053481332                                 & 17                                               & 4                                                & 28.2749999999996                                 & 0.00278124309813186                              & 0.00284022352083005                              & 0.000657883973136107                             & 0.00465706413729596                              & 0.0182764909724469                               & 2769215.04                                       & 1                                               \\\\\n",
       "\t117 & South Asia          & Tuberculosis        & 38.2599394550959    & 40                  & 11                  & 57                  & 0.00854900541880527 & 0.0089375489887719  & 0.00244993075094331 & 0.0126436781609195  & 0.0387455189596979  & 23662351.34         & 1                  \\\\\n",
       "\t146 & Southeast Asia, East Asia and Oceania & Tuberculosis                          & 51.1650857719475                      & 53                                    & 15                                    & 76                                    & 0.0058636348488571                    & 0.00610001152878287                   & 0.00172521136782187                   & 0.00873828957391948                   & 0.0284207805430976                    & 13100468.458                          & 1                                    \\\\\n",
       "\\end{tabular}\n"
      ],
      "text/plain": [
       "                                              Region      Disease SimMn_NbRCTs\n",
       "1   Central Europe, Eastern Europe, and Central Asia Tuberculosis     17.11171\n",
       "117                                       South Asia Tuberculosis     38.25994\n",
       "146            Southeast Asia, East Asia and Oceania Tuberculosis     51.16509\n",
       "    SimMed_NbRCTs Sim95low_NbRCTs Sim95up_NbRCTs SimMn_PrRCTs SimMed_PrRCTs\n",
       "1              17               4         28.275  0.002781243   0.002840224\n",
       "117            40              11         57.000  0.008549005   0.008937549\n",
       "146            53              15         76.000  0.005863635   0.006100012\n",
       "    Sim95low_PrRCTs Sim95up_PrRCTs    Prp_gbd  Tot_gbd  GAP\n",
       "1       0.000657884    0.004657064 0.01827649  2769215 TRUE\n",
       "117     0.002449931    0.012643678 0.03874552 23662351 TRUE\n",
       "146     0.001725211    0.008738290 0.02842078 13100468 TRUE"
      ]
     },
     "metadata": {},
     "output_type": "display_data"
    }
   ],
   "source": [
    "DG[DG$GAP & DG$Prp_gbd>=0.01 & DG$Prp_gbd<0.05 & DG$Disease!=\"Congenital anomalies\",]"
   ]
  },
  {
   "cell_type": "code",
   "execution_count": 32,
   "metadata": {
    "collapsed": false
   },
   "outputs": [
    {
     "data": {
      "text/html": [
       "<table>\n",
       "<thead><tr><th></th><th scope=col>Region</th><th scope=col>Disease</th><th scope=col>SimMn_NbRCTs</th><th scope=col>SimMed_NbRCTs</th><th scope=col>Sim95low_NbRCTs</th><th scope=col>Sim95up_NbRCTs</th><th scope=col>SimMn_PrRCTs</th><th scope=col>SimMed_PrRCTs</th><th scope=col>Sim95low_PrRCTs</th><th scope=col>Sim95up_PrRCTs</th><th scope=col>Prp_gbd</th><th scope=col>Tot_gbd</th><th scope=col>GAP</th></tr></thead>\n",
       "<tbody>\n",
       "\t<tr><th scope=row>176</th><td>Sub-Saharian Africa</td><td>HIV/AIDS           </td><td>316.8762           </td><td>320                </td><td>249                </td><td>366                </td><td>0.137050682984371  </td><td>0.138513513513514  </td><td>0.109353391138433  </td><td>0.156862961711419  </td><td>0.134317648893037  </td><td>73546276.63041     </td><td>0                  </td></tr>\n",
       "\t<tr><th scope=row>178</th><td>Sub-Saharian Africa</td><td>Malaria            </td><td>265.154346303891   </td><td>274                </td><td>167                </td><td>315                </td><td>0.115566967126312  </td><td>0.119230769230769  </td><td>0.0754959057247575 </td><td>0.136587074452181  </td><td>0.166952954679331  </td><td>91415895.753867    </td><td>0                  </td></tr>\n",
       "</tbody>\n",
       "</table>\n"
      ],
      "text/latex": [
       "\\begin{tabular}{r|lllllllllllll}\n",
       "  & Region & Disease & SimMn\\_NbRCTs & SimMed\\_NbRCTs & Sim95low\\_NbRCTs & Sim95up\\_NbRCTs & SimMn\\_PrRCTs & SimMed\\_PrRCTs & Sim95low\\_PrRCTs & Sim95up\\_PrRCTs & Prp\\_gbd & Tot\\_gbd & GAP\\\\\n",
       "\\hline\n",
       "\t176 & Sub-Saharian Africa & HIV/AIDS            & 316.8762            & 320                 & 249                 & 366                 & 0.137050682984371   & 0.138513513513514   & 0.109353391138433   & 0.156862961711419   & 0.134317648893037   & 73546276.63041      & 0                  \\\\\n",
       "\t178 & Sub-Saharian Africa & Malaria             & 265.154346303891    & 274                 & 167                 & 315                 & 0.115566967126312   & 0.119230769230769   & 0.0754959057247575  & 0.136587074452181   & 0.166952954679331   & 91415895.753867     & 0                  \\\\\n",
       "\\end{tabular}\n"
      ],
      "text/plain": [
       "                 Region  Disease SimMn_NbRCTs SimMed_NbRCTs Sim95low_NbRCTs\n",
       "176 Sub-Saharian Africa HIV/AIDS     316.8762           320             249\n",
       "178 Sub-Saharian Africa  Malaria     265.1543           274             167\n",
       "    Sim95up_NbRCTs SimMn_PrRCTs SimMed_PrRCTs Sim95low_PrRCTs Sim95up_PrRCTs\n",
       "176            366    0.1370507     0.1385135      0.10935339      0.1568630\n",
       "178            315    0.1155670     0.1192308      0.07549591      0.1365871\n",
       "      Prp_gbd  Tot_gbd   GAP\n",
       "176 0.1343176 73546277 FALSE\n",
       "178 0.1669530 91415896 FALSE"
      ]
     },
     "metadata": {},
     "output_type": "display_data"
    }
   ],
   "source": [
    "DG[DG$Region==\"Sub-Saharian Africa\" & DG$Dis %in% c(\"HIV/AIDS\", \"Malaria\"),]"
   ]
  },
  {
   "cell_type": "code",
   "execution_count": 112,
   "metadata": {
    "collapsed": true
   },
   "outputs": [],
   "source": [
    "write.table(DG,'Data/Local_props_RCTs_from_sim_and_burden_forgaps.txt')"
   ]
  },
  {
   "cell_type": "code",
   "execution_count": null,
   "metadata": {
    "collapsed": true
   },
   "outputs": [],
   "source": []
  }
 ],
 "metadata": {
  "kernelspec": {
   "display_name": "R",
   "language": "R",
   "name": "ir"
  },
  "language_info": {
   "codemirror_mode": "r",
   "file_extension": ".r",
   "mimetype": "text/x-r-source",
   "name": "R",
   "pygments_lexer": "r",
   "version": "3.3.1"
  }
 },
 "nbformat": 4,
 "nbformat_minor": 1
}
