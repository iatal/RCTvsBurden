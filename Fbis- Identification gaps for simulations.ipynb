{
 "cells": [
  {
   "cell_type": "markdown",
   "metadata": {},
   "source": [
    "We used data from independent simulations for the total number of RCTs concerning the burden and for the RCTs concerning each disease"
   ]
  },
  {
   "cell_type": "code",
   "execution_count": 1,
   "metadata": {
    "collapsed": true
   },
   "outputs": [],
   "source": [
    "Mgbd <- read.table(\"/home/igna/Desktop/Programs GBD/Classifier_Trial_GBD/Databases/Taxonomy_DL/GBD_data/GBD_ICD.txt\")"
   ]
  },
  {
   "cell_type": "code",
   "execution_count": 2,
   "metadata": {
    "collapsed": true
   },
   "outputs": [],
   "source": [
    "#We supress injuries\n",
    "Mgbd <- Mgbd[-28,]"
   ]
  },
  {
   "cell_type": "code",
   "execution_count": 3,
   "metadata": {
    "collapsed": true
   },
   "outputs": [],
   "source": [
    "GBD <- read.table(\"/media/igna/Elements/HotelDieu/Cochrane/Mapping_Cancer/Tables/GBD_data_per_region_and_27_diseases_2005.txt\")"
   ]
  },
  {
   "cell_type": "code",
   "execution_count": 4,
   "metadata": {
    "collapsed": true
   },
   "outputs": [],
   "source": [
    "dis <- 1:27"
   ]
  },
  {
   "cell_type": "code",
   "execution_count": 5,
   "metadata": {
    "collapsed": true
   },
   "outputs": [],
   "source": [
    "regs <- names(GBD)[1:7]"
   ]
  },
  {
   "cell_type": "code",
   "execution_count": 22,
   "metadata": {
    "collapsed": true
   },
   "outputs": [],
   "source": [
    "g <- 0"
   ]
  },
  {
   "cell_type": "code",
   "execution_count": 23,
   "metadata": {
    "collapsed": true
   },
   "outputs": [],
   "source": [
    "#All diseases simulation\n",
    "T0 <- tryCatch(read.table(paste(c(\"/media/igna/Elements/HotelDieu/Cochrane/Mapping_Cancer/Incertitude_mapping/Simulations/Total_simulation_\",\n",
    "                            as.character(g),\".txt\"),collapse=\"\")),error=NULL)"
   ]
  },
  {
   "cell_type": "code",
   "execution_count": 29,
   "metadata": {
    "collapsed": false,
    "scrolled": true
   },
   "outputs": [],
   "source": [
    "#For each disease, we will take the simulations and calculate the proportion among RCTs relevant\n",
    "#to the burden based on the independent simulation uploaded above\n",
    "\n",
    "SM <- data.frame(Region = rep(c(regs,\"All\"),each=nrow(Mgbd)+1),\n",
    "                Disease = rep(c(as.character(Mgbd$cause_name),\"All\"),times=length(regs)+1))\n",
    "SM$Sim95_NbRCTs <- NA\n",
    "SM$Sim95_PrRCTs <- NA\n"
   ]
  },
  {
   "cell_type": "code",
   "execution_count": 30,
   "metadata": {
    "collapsed": true
   },
   "outputs": [],
   "source": [
    "for(g in dis){\n",
    "\n",
    "T <- tryCatch(read.table(paste(c(\"/media/igna/Elements/HotelDieu/Cochrane/Mapping_Cancer/Incertitude_mapping/Simulations/Total_simulation_\",\n",
    "                            as.character(g),\".txt\"),collapse=\"\")),error=NULL)\n",
    "\n",
    "       #Mean and 95% upper-bound number of RCTs by simulation\n",
    "        M <- matrix(T[,1],ncol=8,byrow=TRUE)\n",
    "        SM$Sim95_NbRCTs[SM$Disease==as.character(Mgbd$cause_name[g])] <- apply(M,2,function(x){quantile(x,0.95)}) \n",
    "\n",
    "#When there existed false iterations for disease g, we have to supress some iterations for all diseases\n",
    "#We take the first ones\n",
    "MT <- T0[1:nrow(M),]\n",
    "\n",
    "SM$Sim95_PrRCTs[SM$Disease==as.character(Mgbd$cause_name[g])] <- apply(M/MT,2,function(x){quantile(x,0.95)})\n",
    "    }"
   ]
  },
  {
   "cell_type": "code",
   "execution_count": 31,
   "metadata": {
    "collapsed": false
   },
   "outputs": [
    {
     "data": {
      "text/html": [
       "<table>\n",
       "<thead><tr><th></th><th scope=col>Region</th><th scope=col>Disease</th><th scope=col>Sim95_NbRCTs</th><th scope=col>Sim95_PrRCTs</th></tr></thead>\n",
       "<tbody>\n",
       "\t<tr><th scope=row>1</th><td>Central.Europe..Eastern.Europe..and.Central.Asia</td><td>Tuberculosis                                    </td><td>26                                              </td><td>0.00437195224482933                             </td></tr>\n",
       "\t<tr><th scope=row>2</th><td>Central.Europe..Eastern.Europe..and.Central.Asia</td><td>HIV/AIDS                                        </td><td>86                                              </td><td>0.014374611402841                               </td></tr>\n",
       "\t<tr><th scope=row>3</th><td>Central.Europe..Eastern.Europe..and.Central.Asia                                        </td><td>Diarrhea, lower respiratory infections, meningitis, and other common infectious diseases</td><td>309                                                                                     </td><td>0.0514308021128542                                                                      </td></tr>\n",
       "\t<tr><th scope=row>4</th><td>Central.Europe..Eastern.Europe..and.Central.Asia</td><td>Malaria                                         </td><td>7                                               </td><td>0.00115550659754974                             </td></tr>\n",
       "\t<tr><th scope=row>5</th><td>Central.Europe..Eastern.Europe..and.Central.Asia</td><td>Neglected tropical diseases excluding malaria   </td><td>27                                              </td><td>0.00456135137423234                             </td></tr>\n",
       "\t<tr><th scope=row>6</th><td>Central.Europe..Eastern.Europe..and.Central.Asia</td><td>Maternal disorders                              </td><td>159                                             </td><td>0.0265146132890174                              </td></tr>\n",
       "</tbody>\n",
       "</table>\n"
      ],
      "text/latex": [
       "\\begin{tabular}{r|llll}\n",
       "  & Region & Disease & Sim95\\_NbRCTs & Sim95\\_PrRCTs\\\\\n",
       "\\hline\n",
       "\t1 & Central.Europe..Eastern.Europe..and.Central.Asia & Tuberculosis                                     & 26                                               & 0.00437195224482933                             \\\\\n",
       "\t2 & Central.Europe..Eastern.Europe..and.Central.Asia & HIV/AIDS                                         & 86                                               & 0.014374611402841                               \\\\\n",
       "\t3 & Central.Europe..Eastern.Europe..and.Central.Asia                                         & Diarrhea, lower respiratory infections, meningitis, and other common infectious diseases & 309                                                                                      & 0.0514308021128542                                                                      \\\\\n",
       "\t4 & Central.Europe..Eastern.Europe..and.Central.Asia & Malaria                                          & 7                                                & 0.00115550659754974                             \\\\\n",
       "\t5 & Central.Europe..Eastern.Europe..and.Central.Asia & Neglected tropical diseases excluding malaria    & 27                                               & 0.00456135137423234                             \\\\\n",
       "\t6 & Central.Europe..Eastern.Europe..and.Central.Asia & Maternal disorders                               & 159                                              & 0.0265146132890174                              \\\\\n",
       "\\end{tabular}\n"
      ],
      "text/plain": [
       "                                            Region\n",
       "1 Central.Europe..Eastern.Europe..and.Central.Asia\n",
       "2 Central.Europe..Eastern.Europe..and.Central.Asia\n",
       "3 Central.Europe..Eastern.Europe..and.Central.Asia\n",
       "4 Central.Europe..Eastern.Europe..and.Central.Asia\n",
       "5 Central.Europe..Eastern.Europe..and.Central.Asia\n",
       "6 Central.Europe..Eastern.Europe..and.Central.Asia\n",
       "                                                                                   Disease\n",
       "1                                                                             Tuberculosis\n",
       "2                                                                                 HIV/AIDS\n",
       "3 Diarrhea, lower respiratory infections, meningitis, and other common infectious diseases\n",
       "4                                                                                  Malaria\n",
       "5                                            Neglected tropical diseases excluding malaria\n",
       "6                                                                       Maternal disorders\n",
       "  Sim95_NbRCTs Sim95_PrRCTs\n",
       "1           26  0.004371952\n",
       "2           86  0.014374611\n",
       "3          309  0.051430802\n",
       "4            7  0.001155507\n",
       "5           27  0.004561351\n",
       "6          159  0.026514613"
      ]
     },
     "metadata": {},
     "output_type": "display_data"
    }
   ],
   "source": [
    "head(SM)"
   ]
  },
  {
   "cell_type": "code",
   "execution_count": 32,
   "metadata": {
    "collapsed": true
   },
   "outputs": [],
   "source": [
    "write.table(SM,'Data/Simulations_Alldis_NbProp_95_RCTs_independent_tot.txt')"
   ]
  },
  {
   "cell_type": "markdown",
   "metadata": {},
   "source": [
    "### Identification of gaps"
   ]
  },
  {
   "cell_type": "code",
   "execution_count": 38,
   "metadata": {
    "collapsed": true
   },
   "outputs": [],
   "source": [
    "GBD <- read.table(\"/media/igna/Elements/HotelDieu/Cochrane/Mapping_Cancer/Tables/GBD_data_per_region_and_27_diseases_2005.txt\")\n",
    "#Observed values of RCTs\n",
    "RCT <- read.table(\"/media/igna/Elements/HotelDieu/Cochrane/Mapping_Cancer/Tables/RCTs_data_per_region_and_27_diseases_2005_2015.txt\")\n",
    "RCT <- RCT[order(rownames(RCT)),]\n",
    "#Simulations\n",
    "Sims <- read.table('Data/Simulations_Alldis_NbProp_95_RCTs_independent_tot.txt')\n",
    "Sims <- Sims[order(Sims$Region,Sims$Disease),]\n",
    "levels(Sims$Region) <- c('All',\n",
    "                         'Central Europe, Eastern Europe, and Central Asia',\n",
    "                         'High-income',\n",
    "                         'Latin America and Caribbean',\n",
    "                         'North Africa and Middle East',\n",
    "                         'South Asia',\n",
    "                         'Southeast Asia, East Asia and Oceania',\n",
    "                         'Sub-Saharian Africa')"
   ]
  },
  {
   "cell_type": "code",
   "execution_count": 40,
   "metadata": {
    "collapsed": true
   },
   "outputs": [],
   "source": [
    "#Proportion of GBD attributable to each disease among \n",
    "#all burden of diseaes in the region\n",
    "GBD <- GBD[,-ncol(GBD)]\n",
    "Pr_GBD <- t(apply(GBD,1,function(x){x/unlist(apply(GBD,2,sum))}))"
   ]
  },
  {
   "cell_type": "code",
   "execution_count": 41,
   "metadata": {
    "collapsed": false
   },
   "outputs": [],
   "source": [
    "GBD <- GBD[,-ncol(GBD)]\n",
    "Pr_GBD <- Pr_GBD[,-ncol(Pr_GBD)]"
   ]
  },
  {
   "cell_type": "code",
   "execution_count": 44,
   "metadata": {
    "collapsed": false
   },
   "outputs": [
    {
     "data": {
      "text/html": [
       "<ol class=list-inline>\n",
       "\t<li>27</li>\n",
       "\t<li>7</li>\n",
       "</ol>\n"
      ],
      "text/latex": [
       "\\begin{enumerate*}\n",
       "\\item 27\n",
       "\\item 7\n",
       "\\end{enumerate*}\n"
      ],
      "text/markdown": [
       "1. 27\n",
       "2. 7\n",
       "\n",
       "\n"
      ],
      "text/plain": [
       "[1] 27  7"
      ]
     },
     "metadata": {},
     "output_type": "display_data"
    }
   ],
   "source": [
    "dim(GBD)"
   ]
  },
  {
   "cell_type": "code",
   "execution_count": 50,
   "metadata": {
    "collapsed": true
   },
   "outputs": [],
   "source": [
    "Sims <- Sims[Sims$Dis!=\"All\" & Sims$Region!=\"All\",]"
   ]
  },
  {
   "cell_type": "code",
   "execution_count": 52,
   "metadata": {
    "collapsed": false
   },
   "outputs": [],
   "source": [
    "Sims$GBD <- unlist(GBD)\n",
    "Sims$Pr_GBD <- as.vector(Pr_GBD)"
   ]
  },
  {
   "cell_type": "code",
   "execution_count": 53,
   "metadata": {
    "collapsed": false
   },
   "outputs": [
    {
     "data": {
      "text/html": [
       "<table>\n",
       "<thead><tr><th></th><th scope=col>Region</th><th scope=col>Disease</th><th scope=col>Sim95_NbRCTs</th><th scope=col>Sim95_PrRCTs</th><th scope=col>GBD</th><th scope=col>Pr_GBD</th></tr></thead>\n",
       "<tbody>\n",
       "\t<tr><th scope=row>13</th><td>Central Europe, Eastern Europe, and Central Asia</td><td>Cardiovascular and circulatory diseases         </td><td>843                                             </td><td>0.141116688422401                               </td><td>53161406.515                                    </td><td>0.350858980692946                               </td></tr>\n",
       "\t<tr><th scope=row>14</th><td>Central Europe, Eastern Europe, and Central Asia</td><td>Chronic respiratory diseases                    </td><td>612                                             </td><td>0.102576921506752                               </td><td>5644608.1271                                    </td><td>0.0372537444683037                              </td></tr>\n",
       "\t<tr><th scope=row>15</th><td>Central Europe, Eastern Europe, and Central Asia</td><td>Cirrhosis of the liver                          </td><td>97                                              </td><td>0.0161247426218257                              </td><td>4090337.297                                     </td><td>0.0269957412490737                              </td></tr>\n",
       "\t<tr><th scope=row>23</th><td>Central Europe, Eastern Europe, and Central Asia</td><td>Congenital anomalies                            </td><td>33                                              </td><td>0.0054917623564653                              </td><td>2079422.787                                     </td><td>0.013723943877795                               </td></tr>\n",
       "\t<tr><th scope=row>19</th><td>Central Europe, Eastern Europe, and Central Asia</td><td>Diabetes, urinary diseases and male infertility </td><td>999                                             </td><td>0.167147413079689                               </td><td>5049824.6483                                    </td><td>0.0333282440200436                              </td></tr>\n",
       "\t<tr><th scope=row>3</th><td>Central Europe, Eastern Europe, and Central Asia                                        </td><td>Diarrhea, lower respiratory infections, meningitis, and other common infectious diseases</td><td>309                                                                                     </td><td>0.0514308021128542                                                                      </td><td>7281615.92163                                                                           </td><td>0.0480578018442715                                                                      </td></tr>\n",
       "</tbody>\n",
       "</table>\n"
      ],
      "text/latex": [
       "\\begin{tabular}{r|llllll}\n",
       "  & Region & Disease & Sim95\\_NbRCTs & Sim95\\_PrRCTs & GBD & Pr\\_GBD\\\\\n",
       "\\hline\n",
       "\t13 & Central Europe, Eastern Europe, and Central Asia & Cardiovascular and circulatory diseases          & 843                                              & 0.141116688422401                                & 53161406.515                                     & 0.350858980692946                               \\\\\n",
       "\t14 & Central Europe, Eastern Europe, and Central Asia & Chronic respiratory diseases                     & 612                                              & 0.102576921506752                                & 5644608.1271                                     & 0.0372537444683037                              \\\\\n",
       "\t15 & Central Europe, Eastern Europe, and Central Asia & Cirrhosis of the liver                           & 97                                               & 0.0161247426218257                               & 4090337.297                                      & 0.0269957412490737                              \\\\\n",
       "\t23 & Central Europe, Eastern Europe, and Central Asia & Congenital anomalies                             & 33                                               & 0.0054917623564653                               & 2079422.787                                      & 0.013723943877795                               \\\\\n",
       "\t19 & Central Europe, Eastern Europe, and Central Asia & Diabetes, urinary diseases and male infertility  & 999                                              & 0.167147413079689                                & 5049824.6483                                     & 0.0333282440200436                              \\\\\n",
       "\t3 & Central Europe, Eastern Europe, and Central Asia                                         & Diarrhea, lower respiratory infections, meningitis, and other common infectious diseases & 309                                                                                      & 0.0514308021128542                                                                       & 7281615.92163                                                                            & 0.0480578018442715                                                                      \\\\\n",
       "\\end{tabular}\n"
      ],
      "text/plain": [
       "                                             Region\n",
       "13 Central Europe, Eastern Europe, and Central Asia\n",
       "14 Central Europe, Eastern Europe, and Central Asia\n",
       "15 Central Europe, Eastern Europe, and Central Asia\n",
       "23 Central Europe, Eastern Europe, and Central Asia\n",
       "19 Central Europe, Eastern Europe, and Central Asia\n",
       "3  Central Europe, Eastern Europe, and Central Asia\n",
       "                                                                                    Disease\n",
       "13                                                  Cardiovascular and circulatory diseases\n",
       "14                                                             Chronic respiratory diseases\n",
       "15                                                                   Cirrhosis of the liver\n",
       "23                                                                     Congenital anomalies\n",
       "19                                          Diabetes, urinary diseases and male infertility\n",
       "3  Diarrhea, lower respiratory infections, meningitis, and other common infectious diseases\n",
       "   Sim95_NbRCTs Sim95_PrRCTs      GBD     Pr_GBD\n",
       "13          843  0.141116688 53161407 0.35085898\n",
       "14          612  0.102576922  5644608 0.03725374\n",
       "15           97  0.016124743  4090337 0.02699574\n",
       "23           33  0.005491762  2079423 0.01372394\n",
       "19          999  0.167147413  5049825 0.03332824\n",
       "3           309  0.051430802  7281616 0.04805780"
      ]
     },
     "metadata": {},
     "output_type": "display_data"
    }
   ],
   "source": [
    "head(Sims)"
   ]
  },
  {
   "cell_type": "code",
   "execution_count": 54,
   "metadata": {
    "collapsed": true
   },
   "outputs": [],
   "source": [
    "SR <- Sims[Sims$Pr_GBD>=0.01,]"
   ]
  },
  {
   "cell_type": "code",
   "execution_count": 55,
   "metadata": {
    "collapsed": true
   },
   "outputs": [],
   "source": [
    "SR$Gaps_Simul <- SR$Pr_GBD/SR$Sim95_PrRCT>=2"
   ]
  },
  {
   "cell_type": "code",
   "execution_count": 56,
   "metadata": {
    "collapsed": true
   },
   "outputs": [],
   "source": [
    "SR[,grep(\"Pr\",names(SR))] <- round(100*SR[,grep(\"Pr\",names(SR))],2)"
   ]
  },
  {
   "cell_type": "code",
   "execution_count": 57,
   "metadata": {
    "collapsed": true
   },
   "outputs": [],
   "source": [
    "SR$GBD <- round(SR$GBD/1e6,1)"
   ]
  },
  {
   "cell_type": "code",
   "execution_count": 58,
   "metadata": {
    "collapsed": true
   },
   "outputs": [],
   "source": [
    "SR$Sim95_NbRCTs <- round(SR$Sim95_NbRCTs,0)"
   ]
  },
  {
   "cell_type": "code",
   "execution_count": 60,
   "metadata": {
    "collapsed": false
   },
   "outputs": [
    {
     "data": {
      "text/html": [
       "<table>\n",
       "<thead><tr><th></th><th scope=col>Region</th><th scope=col>Disease</th><th scope=col>Sim95_NbRCTs</th><th scope=col>Sim95_PrRCTs</th><th scope=col>GBD</th><th scope=col>Pr_GBD</th><th scope=col>Gaps_Simul</th></tr></thead>\n",
       "<tbody>\n",
       "\t<tr><th scope=row>13</th><td>Central Europe, Eastern Europe, and Central Asia</td><td>Cardiovascular and circulatory diseases         </td><td>843                                             </td><td>14.11                                           </td><td>53.2                                            </td><td>35.09                                           </td><td>1                                               </td></tr>\n",
       "\t<tr><th scope=row>23</th><td>Central Europe, Eastern Europe, and Central Asia</td><td>Congenital anomalies                            </td><td>33                                              </td><td>0.55                                            </td><td>2.1                                             </td><td>1.37                                            </td><td>1                                               </td></tr>\n",
       "\t<tr><th scope=row>1</th><td>Central Europe, Eastern Europe, and Central Asia</td><td>Tuberculosis                                    </td><td>26                                              </td><td>0.44                                            </td><td>2.8                                             </td><td>1.83                                            </td><td>1                                               </td></tr>\n",
       "\t<tr><th scope=row>79</th><td>Latin America and Caribbean</td><td>Congenital anomalies       </td><td>27                         </td><td>0.65                       </td><td>3.6                        </td><td>3.13                       </td><td>1                          </td></tr>\n",
       "\t<tr><th scope=row>63</th><td>Latin America and Caribbean</td><td>Neonatal disorders         </td><td>145                        </td><td>3.49                       </td><td>10.1                       </td><td>8.72                       </td><td>1                          </td></tr>\n",
       "\t<tr><th scope=row>107</th><td>North Africa and Middle East</td><td>Congenital anomalies        </td><td>65                          </td><td>0.82                        </td><td>5.1                         </td><td>4.98                        </td><td>1                           </td></tr>\n",
       "\t<tr><th scope=row>87</th><td>North Africa and Middle East                                                            </td><td>Diarrhea, lower respiratory infections, meningitis, and other common infectious diseases</td><td>319                                                                                     </td><td>4.06                                                                                    </td><td>10.8                                                                                    </td><td>10.55                                                                                   </td><td>1                                                                                       </td></tr>\n",
       "\t<tr><th scope=row>91</th><td>North Africa and Middle East</td><td>Neonatal disorders          </td><td>357                         </td><td>4.53                        </td><td>10.3                        </td><td>10.06                       </td><td>1                           </td></tr>\n",
       "\t<tr><th scope=row>135</th><td>South Asia          </td><td>Congenital anomalies</td><td>27                  </td><td>0.61                </td><td>12.8                </td><td>2.1                 </td><td>1                   </td></tr>\n",
       "\t<tr><th scope=row>115</th><td>South Asia                                                                              </td><td>Diarrhea, lower respiratory infections, meningitis, and other common infectious diseases</td><td>353                                                                                     </td><td>8.13                                                                                    </td><td>130.9                                                                                   </td><td>21.43                                                                                   </td><td>1                                                                                       </td></tr>\n",
       "\t<tr><th scope=row>119</th><td>South Asia        </td><td>Neonatal disorders</td><td>191               </td><td>4.37              </td><td>100.9             </td><td>16.52             </td><td>1                 </td></tr>\n",
       "\t<tr><th scope=row>113</th><td>South Asia  </td><td>Tuberculosis</td><td>54          </td><td>1.24        </td><td>23.7        </td><td>3.87        </td><td>1           </td></tr>\n",
       "\t<tr><th scope=row>163</th><td>Southeast Asia, East Asia and Oceania</td><td>Congenital anomalies                 </td><td>63                                   </td><td>0.76                                 </td><td>10                                   </td><td>2.18                                 </td><td>1                                    </td></tr>\n",
       "\t<tr><th scope=row>141</th><td>Southeast Asia, East Asia and Oceania</td><td>Tuberculosis                         </td><td>73                                   </td><td>0.86                                 </td><td>13.1                                 </td><td>2.84                                 </td><td>1                                    </td></tr>\n",
       "\t<tr><th scope=row>191</th><td>Sub-Saharian Africa </td><td>Congenital anomalies</td><td>10                  </td><td>0.45                </td><td>7.3                 </td><td>1.33                </td><td>1                   </td></tr>\n",
       "\t<tr><th scope=row>171</th><td>Sub-Saharian Africa                                                                     </td><td>Diarrhea, lower respiratory infections, meningitis, and other common infectious diseases</td><td>152                                                                                     </td><td>6.88                                                                                    </td><td>125.5                                                                                   </td><td>22.93                                                                                   </td><td>1                                                                                       </td></tr>\n",
       "\t<tr><th scope=row>175</th><td>Sub-Saharian Africa</td><td>Neonatal disorders </td><td>87                 </td><td>3.96               </td><td>63.4               </td><td>11.58              </td><td>1                  </td></tr>\n",
       "</tbody>\n",
       "</table>\n"
      ],
      "text/latex": [
       "\\begin{tabular}{r|lllllll}\n",
       "  & Region & Disease & Sim95\\_NbRCTs & Sim95\\_PrRCTs & GBD & Pr\\_GBD & Gaps\\_Simul\\\\\n",
       "\\hline\n",
       "\t13 & Central Europe, Eastern Europe, and Central Asia & Cardiovascular and circulatory diseases          & 843                                              & 14.11                                            & 53.2                                             & 35.09                                            & 1                                               \\\\\n",
       "\t23 & Central Europe, Eastern Europe, and Central Asia & Congenital anomalies                             & 33                                               & 0.55                                             & 2.1                                              & 1.37                                             & 1                                               \\\\\n",
       "\t1 & Central Europe, Eastern Europe, and Central Asia & Tuberculosis                                     & 26                                               & 0.44                                             & 2.8                                              & 1.83                                             & 1                                               \\\\\n",
       "\t79 & Latin America and Caribbean & Congenital anomalies        & 27                          & 0.65                        & 3.6                         & 3.13                        & 1                          \\\\\n",
       "\t63 & Latin America and Caribbean & Neonatal disorders          & 145                         & 3.49                        & 10.1                        & 8.72                        & 1                          \\\\\n",
       "\t107 & North Africa and Middle East & Congenital anomalies         & 65                           & 0.82                         & 5.1                          & 4.98                         & 1                           \\\\\n",
       "\t87 & North Africa and Middle East                                                             & Diarrhea, lower respiratory infections, meningitis, and other common infectious diseases & 319                                                                                      & 4.06                                                                                     & 10.8                                                                                     & 10.55                                                                                    & 1                                                                                       \\\\\n",
       "\t91 & North Africa and Middle East & Neonatal disorders           & 357                          & 4.53                         & 10.3                         & 10.06                        & 1                           \\\\\n",
       "\t135 & South Asia           & Congenital anomalies & 27                   & 0.61                 & 12.8                 & 2.1                  & 1                   \\\\\n",
       "\t115 & South Asia                                                                               & Diarrhea, lower respiratory infections, meningitis, and other common infectious diseases & 353                                                                                      & 8.13                                                                                     & 130.9                                                                                    & 21.43                                                                                    & 1                                                                                       \\\\\n",
       "\t119 & South Asia         & Neonatal disorders & 191                & 4.37               & 100.9              & 16.52              & 1                 \\\\\n",
       "\t113 & South Asia   & Tuberculosis & 54           & 1.24         & 23.7         & 3.87         & 1           \\\\\n",
       "\t163 & Southeast Asia, East Asia and Oceania & Congenital anomalies                  & 63                                    & 0.76                                  & 10                                    & 2.18                                  & 1                                    \\\\\n",
       "\t141 & Southeast Asia, East Asia and Oceania & Tuberculosis                          & 73                                    & 0.86                                  & 13.1                                  & 2.84                                  & 1                                    \\\\\n",
       "\t191 & Sub-Saharian Africa  & Congenital anomalies & 10                   & 0.45                 & 7.3                  & 1.33                 & 1                   \\\\\n",
       "\t171 & Sub-Saharian Africa                                                                      & Diarrhea, lower respiratory infections, meningitis, and other common infectious diseases & 152                                                                                      & 6.88                                                                                     & 125.5                                                                                    & 22.93                                                                                    & 1                                                                                       \\\\\n",
       "\t175 & Sub-Saharian Africa & Neonatal disorders  & 87                  & 3.96                & 63.4                & 11.58               & 1                  \\\\\n",
       "\\end{tabular}\n"
      ],
      "text/plain": [
       "                                              Region\n",
       "13  Central Europe, Eastern Europe, and Central Asia\n",
       "23  Central Europe, Eastern Europe, and Central Asia\n",
       "1   Central Europe, Eastern Europe, and Central Asia\n",
       "79                       Latin America and Caribbean\n",
       "63                       Latin America and Caribbean\n",
       "107                     North Africa and Middle East\n",
       "87                      North Africa and Middle East\n",
       "91                      North Africa and Middle East\n",
       "135                                       South Asia\n",
       "115                                       South Asia\n",
       "119                                       South Asia\n",
       "113                                       South Asia\n",
       "163            Southeast Asia, East Asia and Oceania\n",
       "141            Southeast Asia, East Asia and Oceania\n",
       "191                              Sub-Saharian Africa\n",
       "171                              Sub-Saharian Africa\n",
       "175                              Sub-Saharian Africa\n",
       "                                                                                     Disease\n",
       "13                                                   Cardiovascular and circulatory diseases\n",
       "23                                                                      Congenital anomalies\n",
       "1                                                                               Tuberculosis\n",
       "79                                                                      Congenital anomalies\n",
       "63                                                                        Neonatal disorders\n",
       "107                                                                     Congenital anomalies\n",
       "87  Diarrhea, lower respiratory infections, meningitis, and other common infectious diseases\n",
       "91                                                                        Neonatal disorders\n",
       "135                                                                     Congenital anomalies\n",
       "115 Diarrhea, lower respiratory infections, meningitis, and other common infectious diseases\n",
       "119                                                                       Neonatal disorders\n",
       "113                                                                             Tuberculosis\n",
       "163                                                                     Congenital anomalies\n",
       "141                                                                             Tuberculosis\n",
       "191                                                                     Congenital anomalies\n",
       "171 Diarrhea, lower respiratory infections, meningitis, and other common infectious diseases\n",
       "175                                                                       Neonatal disorders\n",
       "    Sim95_NbRCTs Sim95_PrRCTs   GBD Pr_GBD Gaps_Simul\n",
       "13           843        14.11  53.2  35.09       TRUE\n",
       "23            33         0.55   2.1   1.37       TRUE\n",
       "1             26         0.44   2.8   1.83       TRUE\n",
       "79            27         0.65   3.6   3.13       TRUE\n",
       "63           145         3.49  10.1   8.72       TRUE\n",
       "107           65         0.82   5.1   4.98       TRUE\n",
       "87           319         4.06  10.8  10.55       TRUE\n",
       "91           357         4.53  10.3  10.06       TRUE\n",
       "135           27         0.61  12.8   2.10       TRUE\n",
       "115          353         8.13 130.9  21.43       TRUE\n",
       "119          191         4.37 100.9  16.52       TRUE\n",
       "113           54         1.24  23.7   3.87       TRUE\n",
       "163           63         0.76  10.0   2.18       TRUE\n",
       "141           73         0.86  13.1   2.84       TRUE\n",
       "191           10         0.45   7.3   1.33       TRUE\n",
       "171          152         6.88 125.5  22.93       TRUE\n",
       "175           87         3.96  63.4  11.58       TRUE"
      ]
     },
     "metadata": {},
     "output_type": "display_data"
    }
   ],
   "source": [
    "SR[SR$Gaps_Simul,]"
   ]
  },
  {
   "cell_type": "code",
   "execution_count": null,
   "metadata": {
    "collapsed": true
   },
   "outputs": [],
   "source": []
  }
 ],
 "metadata": {
  "kernelspec": {
   "display_name": "R",
   "language": "R",
   "name": "ir"
  },
  "language_info": {
   "codemirror_mode": "r",
   "file_extension": ".r",
   "mimetype": "text/x-r-source",
   "name": "R",
   "pygments_lexer": "r",
   "version": "3.3.1"
  }
 },
 "nbformat": 4,
 "nbformat_minor": 1
}
