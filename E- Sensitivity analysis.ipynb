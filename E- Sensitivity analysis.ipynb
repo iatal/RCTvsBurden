{
 "cells": [
  {
   "cell_type": "markdown",
   "metadata": {
    "collapsed": true
   },
   "source": [
    "# Sensitivity analysis\n",
    "For research gaps found, we simulate what would have been the mapping of RCTs within regions across diseases if the misclassification of RCTs towards groups of diseases was corrected, given the sensitivities and specificities of the classifier to identify each group of disease.\n",
    "\n",
    "To estimate the performances of the classifier for each group of diseases, we dispose a test set with 2,763 trials manually classified towards the 27-class grouping of diseases used in this work. The test set is described at Atal et al. BMC Bioinformatics 2016.\n",
    "\n",
    "The method used is based on the method presented at Fox et al. Int J Epidemiol 2005.\n",
    "\n",
    "To do so, for each disease for which we found a local research gap we will:\n",
    "\n",
    "1. Calculating sensitivity and specificity of the classifier to identify the disease and other studies relevant to the burden of diseases, and the number of success and number of trials to derive beta distributions\n",
    "2. Doing N=60k times the following simulation\n",
    "    * Randomly choose a sens and spec based on beta distribution for identifying the disease and identifying another disease (no correlation between sens and spec, neither between disease and another disease both)\n",
    "    * Derive Positive and Negative Predictive Values (PPV and NPV) for each.\n",
    "    * Simulate the correction of the classification based on PPVs and NPVs\n",
    "    * Derive the proportion of RCTs concerning the disease among all RCTs concerning the burden of disease in the region\n",
    "3. Derive 95% upper-bond simulation interval of the proportion of RCTs concerning the disease among all RCTs concerning the burden of diseases"
   ]
  },
  {
   "cell_type": "markdown",
   "metadata": {},
   "source": [
    "## 1. Sensitivities and specificities based on test set"
   ]
  },
  {
   "cell_type": "code",
   "execution_count": 1,
   "metadata": {
    "collapsed": false
   },
   "outputs": [
    {
     "data": {
      "text/html": [
       "<ol class=list-inline>\n",
       "\t<li>2763</li>\n",
       "\t<li>8</li>\n",
       "</ol>\n"
      ],
      "text/latex": [
       "\\begin{enumerate*}\n",
       "\\item 2763\n",
       "\\item 8\n",
       "\\end{enumerate*}\n"
      ],
      "text/markdown": [
       "1. 2763\n",
       "2. 8\n",
       "\n",
       "\n"
      ],
      "text/plain": [
       "[1] 2763    8"
      ]
     },
     "metadata": {},
     "output_type": "display_data"
    }
   ],
   "source": [
    "test_set <- read.table(\"/media/igna/Elements/HotelDieu/Cochrane/MetaMapBurden/Paper_classifier/NCT_data_classified_to28cats.txt\")\n",
    "dim(test_set)"
   ]
  },
  {
   "cell_type": "code",
   "execution_count": 2,
   "metadata": {
    "collapsed": false
   },
   "outputs": [],
   "source": [
    "#We supress injuries from trials concerning the burden of diseases\n",
    "test_set$GBDnp <- sapply(strsplit(as.character(test_set$GBDnp),\"&&\"),function(x){paste(x[x!=\"28\"],collapse=\"&\")})\n",
    "test_set$GBD28 <- sapply(strsplit(as.character(test_set$GBD28),\"&\"),function(x){paste(x[x!=\"28\"],collapse=\"&\")})"
   ]
  },
  {
   "cell_type": "code",
   "execution_count": 3,
   "metadata": {
    "collapsed": true
   },
   "outputs": [],
   "source": [
    "tst <- strsplit(test_set$GBDnp,\"&\")\n",
    "alg <- strsplit(test_set$GBD28,\"&\")\n",
    "tst <- lapply(tst,as.numeric)\n",
    "alg <- lapply(alg,as.numeric)"
   ]
  },
  {
   "cell_type": "code",
   "execution_count": 4,
   "metadata": {
    "collapsed": true
   },
   "outputs": [],
   "source": [
    "source('Evaluation_metrics.R')"
   ]
  },
  {
   "cell_type": "code",
   "execution_count": 5,
   "metadata": {
    "collapsed": false
   },
   "outputs": [],
   "source": [
    "dis <- 1:27\n",
    "Mgbd <- read.table(\"/home/igna/Desktop/Programs GBD/Classifier_Trial_GBD/Databases/Taxonomy_DL/GBD_data/GBD_ICD.txt\")"
   ]
  },
  {
   "cell_type": "code",
   "execution_count": 6,
   "metadata": {
    "collapsed": false,
    "scrolled": true
   },
   "outputs": [],
   "source": [
    "#For each category in 1:27, TP, TN, FP and FN of finding the disease and of finding another disease\n",
    "set.seed(7212)\n",
    "\n",
    "dis <- as.character(1:27)\n",
    "\n",
    "PERF_F  <- data.frame()\n",
    "for(i in dis){\n",
    "    ALG <- lapply(alg,function(x){rs <- c()\n",
    "                                  if(i%in%x) rs <- c(1)\n",
    "                                  if(sum(setdiff(dis,i)%in%x)!=0) rs <- c(rs,2)\n",
    "                                  return(rs)\n",
    "                                      })\n",
    "\n",
    "    DT <- lapply(tst,function(x){rs <- c()\n",
    "                                if(i%in%x) rs <- c(1)\n",
    "                                if(sum(setdiff(dis,i)%in%x)!=0) rs <- c(rs,2)\n",
    "                                return(rs)\n",
    "                                    })\n",
    "\n",
    "    CM <- conf_matrix(ALG,DT,c(1,2))\n",
    "\n",
    "    PERF <- c(CM[1,],CM[2,])\n",
    "    PERF_F <- rbind(PERF_F,PERF)\n",
    "}\n"
   ]
  },
  {
   "cell_type": "code",
   "execution_count": 7,
   "metadata": {
    "collapsed": true
   },
   "outputs": [],
   "source": [
    "PERF_F <- data.frame(PERF_F)\n",
    "names(PERF_F) <- paste(rep(c(\"TP\",\"FP\",\"TN\",\"FN\"),2),rep(c(\"_Dis\",\"_Oth\"),each=4),sep=\"\")"
   ]
  },
  {
   "cell_type": "code",
   "execution_count": 8,
   "metadata": {
    "collapsed": true
   },
   "outputs": [],
   "source": [
    "PERF_F$dis <- dis\n",
    "PERF_F$GBD <- Mgbd$cause_name[-28]"
   ]
  },
  {
   "cell_type": "code",
   "execution_count": 9,
   "metadata": {
    "collapsed": false,
    "scrolled": true
   },
   "outputs": [],
   "source": [
    "PERF_F <- PERF_F[,c(9,10,1:8)]"
   ]
  },
  {
   "cell_type": "code",
   "execution_count": 10,
   "metadata": {
    "collapsed": false
   },
   "outputs": [
    {
     "data": {
      "text/html": [
       "<table>\n",
       "<thead><tr><th></th><th scope=col>dis</th><th scope=col>GBD</th><th scope=col>TP_Dis</th><th scope=col>FP_Dis</th><th scope=col>TN_Dis</th><th scope=col>FN_Dis</th><th scope=col>TP_Oth</th><th scope=col>FP_Oth</th><th scope=col>TN_Oth</th><th scope=col>FN_Oth</th></tr></thead>\n",
       "<tbody>\n",
       "\t<tr><th scope=row>1</th><td>1           </td><td>Tuberculosis</td><td>14          </td><td>2           </td><td>2745        </td><td>2           </td><td>2142        </td><td>204         </td><td>267         </td><td>150         </td></tr>\n",
       "\t<tr><th scope=row>2</th><td>2       </td><td>HIV/AIDS</td><td>86      </td><td>7       </td><td>2659    </td><td>11      </td><td>2072    </td><td>214     </td><td>333     </td><td>144     </td></tr>\n",
       "\t<tr><th scope=row>3</th><td>3                                                                                       </td><td>Diarrhea, lower respiratory infections, meningitis, and other common infectious diseases</td><td>40                                                                                      </td><td>21                                                                                      </td><td>2693                                                                                    </td><td>9                                                                                       </td><td>2113                                                                                    </td><td>207                                                                                     </td><td>299                                                                                     </td><td>144                                                                                     </td></tr>\n",
       "\t<tr><th scope=row>4</th><td>4      </td><td>Malaria</td><td>14     </td><td>1      </td><td>2748   </td><td>0      </td><td>2142   </td><td>204    </td><td>267    </td><td>150    </td></tr>\n",
       "\t<tr><th scope=row>5</th><td>5                                            </td><td>Neglected tropical diseases excluding malaria</td><td>6                                            </td><td>0                                            </td><td>2756                                         </td><td>1                                            </td><td>2150                                         </td><td>203                                          </td><td>261                                          </td><td>149                                          </td></tr>\n",
       "\t<tr><th scope=row>6</th><td>6                 </td><td>Maternal disorders</td><td>17                </td><td>5                 </td><td>2715              </td><td>26                </td><td>2130              </td><td>210               </td><td>289               </td><td>134               </td></tr>\n",
       "\t<tr><th scope=row>7</th><td>7                 </td><td>Neonatal disorders</td><td>4                 </td><td>7                 </td><td>2746              </td><td>6                 </td><td>2148              </td><td>205               </td><td>262               </td><td>148               </td></tr>\n",
       "\t<tr><th scope=row>8</th><td>8                       </td><td>Nutritional deficiencies</td><td>11                      </td><td>15                      </td><td>2732                    </td><td>5                       </td><td>2140                    </td><td>201                     </td><td>272                     </td><td>150                     </td></tr>\n",
       "\t<tr><th scope=row>9</th><td>9                                          </td><td>Sexually transmitted diseases excluding HIV</td><td>0                                          </td><td>3                                          </td><td>2759                                       </td><td>1                                          </td><td>2155                                       </td><td>203                                        </td><td>255                                        </td><td>150                                        </td></tr>\n",
       "\t<tr><th scope=row>10</th><td>10       </td><td>Hepatitis</td><td>14       </td><td>4        </td><td>2742     </td><td>3        </td><td>2141     </td><td>208      </td><td>262      </td><td>152      </td></tr>\n",
       "\t<tr><th scope=row>11</th><td>11     </td><td>Leprosy</td><td>2      </td><td>1      </td><td>2760   </td><td>0      </td><td>2154   </td><td>203    </td><td>256    </td><td>150    </td></tr>\n",
       "\t<tr><th scope=row>12</th><td>12       </td><td>Neoplasms</td><td>933      </td><td>42       </td><td>1763     </td><td>25       </td><td>1213     </td><td>214      </td><td>1198     </td><td>138      </td></tr>\n",
       "\t<tr><th scope=row>13</th><td>13                                     </td><td>Cardiovascular and circulatory diseases</td><td>178                                    </td><td>60                                     </td><td>2468                                   </td><td>57                                     </td><td>1951                                   </td><td>217                                    </td><td>466                                    </td><td>129                                    </td></tr>\n",
       "\t<tr><th scope=row>14</th><td>14                          </td><td>Chronic respiratory diseases</td><td>76                          </td><td>17                          </td><td>2665                        </td><td>5                           </td><td>2074                        </td><td>209                         </td><td>328                         </td><td>152                         </td></tr>\n",
       "\t<tr><th scope=row>15</th><td>15                    </td><td>Cirrhosis of the liver</td><td>19                    </td><td>17                    </td><td>2723                  </td><td>4                     </td><td>2133                  </td><td>211                   </td><td>267                   </td><td>152                   </td></tr>\n",
       "\t<tr><th scope=row>16</th><td>16                                   </td><td>Digestive diseases (except cirrhosis)</td><td>24                                   </td><td>28                                   </td><td>2703                                 </td><td>8                                    </td><td>2129                                 </td><td>199                                  </td><td>289                                  </td><td>146                                  </td></tr>\n",
       "\t<tr><th scope=row>17</th><td>17                    </td><td>Neurological disorders</td><td>79                    </td><td>40                    </td><td>2630                  </td><td>14                    </td><td>2060                  </td><td>211                   </td><td>339                   </td><td>153                   </td></tr>\n",
       "\t<tr><th scope=row>18</th><td>18                             </td><td>Mental and behavioral disorders</td><td>134                            </td><td>33                             </td><td>2587                           </td><td>9                              </td><td>2014                           </td><td>198                            </td><td>402                            </td><td>149                            </td></tr>\n",
       "\t<tr><th scope=row>19</th><td>19                                             </td><td>Diabetes, urinary diseases and male infertility</td><td>196                                            </td><td>63                                             </td><td>2458                                           </td><td>46                                             </td><td>1930                                           </td><td>213                                            </td><td>473                                            </td><td>147                                            </td></tr>\n",
       "\t<tr><th scope=row>20</th><td>20                    </td><td>Gynecological diseases</td><td>9                     </td><td>8                     </td><td>2744                  </td><td>2                     </td><td>2146                  </td><td>206                   </td><td>262                   </td><td>149                   </td></tr>\n",
       "\t<tr><th scope=row>21</th><td>21                                      </td><td>Hemoglobinopathies and hemolytic anemias</td><td>10                                      </td><td>4                                       </td><td>2743                                    </td><td>6                                       </td><td>2143                                    </td><td>203                                     </td><td>270                                     </td><td>147                                     </td></tr>\n",
       "\t<tr><th scope=row>22</th><td>22                       </td><td>Musculoskeletal disorders</td><td>100                      </td><td>40                       </td><td>2610                     </td><td>13                       </td><td>2046                     </td><td>188                      </td><td>382                      </td><td>147                      </td></tr>\n",
       "\t<tr><th scope=row>23</th><td>23                  </td><td>Congenital anomalies</td><td>22                  </td><td>34                  </td><td>2706                </td><td>1                   </td><td>2121                </td><td>205                 </td><td>275                 </td><td>162                 </td></tr>\n",
       "\t<tr><th scope=row>24</th><td>24                            </td><td>Skin and subcutaneous diseases</td><td>18                            </td><td>24                            </td><td>2717                          </td><td>4                             </td><td>2134                          </td><td>198                           </td><td>281                           </td><td>150                           </td></tr>\n",
       "\t<tr><th scope=row>25</th><td>25                  </td><td>Sense organ diseases</td><td>52                  </td><td>40                  </td><td>2667                </td><td>4                   </td><td>2085                </td><td>190                 </td><td>322                 </td><td>166                 </td></tr>\n",
       "\t<tr><th scope=row>26</th><td>26            </td><td>Oral disorders</td><td>3             </td><td>4             </td><td>2751          </td><td>5             </td><td>2150          </td><td>207           </td><td>258           </td><td>148           </td></tr>\n",
       "\t<tr><th scope=row>27</th><td>27                          </td><td>Sudden infant death syndrome</td><td>0                           </td><td>0                           </td><td>2763                        </td><td>0                           </td><td>2156                        </td><td>203                         </td><td>254                         </td><td>150                         </td></tr>\n",
       "</tbody>\n",
       "</table>\n"
      ],
      "text/latex": [
       "\\begin{tabular}{r|llllllllll}\n",
       "  & dis & GBD & TP\\_Dis & FP\\_Dis & TN\\_Dis & FN\\_Dis & TP\\_Oth & FP\\_Oth & TN\\_Oth & FN\\_Oth\\\\\n",
       "\\hline\n",
       "\t1 & 1            & Tuberculosis & 14           & 2            & 2745         & 2            & 2142         & 204          & 267          & 150         \\\\\n",
       "\t2 & 2        & HIV/AIDS & 86       & 7        & 2659     & 11       & 2072     & 214      & 333      & 144     \\\\\n",
       "\t3 & 3                                                                                        & Diarrhea, lower respiratory infections, meningitis, and other common infectious diseases & 40                                                                                       & 21                                                                                       & 2693                                                                                     & 9                                                                                        & 2113                                                                                     & 207                                                                                      & 299                                                                                      & 144                                                                                     \\\\\n",
       "\t4 & 4       & Malaria & 14      & 1       & 2748    & 0       & 2142    & 204     & 267     & 150    \\\\\n",
       "\t5 & 5                                             & Neglected tropical diseases excluding malaria & 6                                             & 0                                             & 2756                                          & 1                                             & 2150                                          & 203                                           & 261                                           & 149                                          \\\\\n",
       "\t6 & 6                  & Maternal disorders & 17                 & 5                  & 2715               & 26                 & 2130               & 210                & 289                & 134               \\\\\n",
       "\t7 & 7                  & Neonatal disorders & 4                  & 7                  & 2746               & 6                  & 2148               & 205                & 262                & 148               \\\\\n",
       "\t8 & 8                        & Nutritional deficiencies & 11                       & 15                       & 2732                     & 5                        & 2140                     & 201                      & 272                      & 150                     \\\\\n",
       "\t9 & 9                                           & Sexually transmitted diseases excluding HIV & 0                                           & 3                                           & 2759                                        & 1                                           & 2155                                        & 203                                         & 255                                         & 150                                        \\\\\n",
       "\t10 & 10        & Hepatitis & 14        & 4         & 2742      & 3         & 2141      & 208       & 262       & 152      \\\\\n",
       "\t11 & 11      & Leprosy & 2       & 1       & 2760    & 0       & 2154    & 203     & 256     & 150    \\\\\n",
       "\t12 & 12        & Neoplasms & 933       & 42        & 1763      & 25        & 1213      & 214       & 1198      & 138      \\\\\n",
       "\t13 & 13                                      & Cardiovascular and circulatory diseases & 178                                     & 60                                      & 2468                                    & 57                                      & 1951                                    & 217                                     & 466                                     & 129                                    \\\\\n",
       "\t14 & 14                           & Chronic respiratory diseases & 76                           & 17                           & 2665                         & 5                            & 2074                         & 209                          & 328                          & 152                         \\\\\n",
       "\t15 & 15                     & Cirrhosis of the liver & 19                     & 17                     & 2723                   & 4                      & 2133                   & 211                    & 267                    & 152                   \\\\\n",
       "\t16 & 16                                    & Digestive diseases (except cirrhosis) & 24                                    & 28                                    & 2703                                  & 8                                     & 2129                                  & 199                                   & 289                                   & 146                                  \\\\\n",
       "\t17 & 17                     & Neurological disorders & 79                     & 40                     & 2630                   & 14                     & 2060                   & 211                    & 339                    & 153                   \\\\\n",
       "\t18 & 18                              & Mental and behavioral disorders & 134                             & 33                              & 2587                            & 9                               & 2014                            & 198                             & 402                             & 149                            \\\\\n",
       "\t19 & 19                                              & Diabetes, urinary diseases and male infertility & 196                                             & 63                                              & 2458                                            & 46                                              & 1930                                            & 213                                             & 473                                             & 147                                            \\\\\n",
       "\t20 & 20                     & Gynecological diseases & 9                      & 8                      & 2744                   & 2                      & 2146                   & 206                    & 262                    & 149                   \\\\\n",
       "\t21 & 21                                       & Hemoglobinopathies and hemolytic anemias & 10                                       & 4                                        & 2743                                     & 6                                        & 2143                                     & 203                                      & 270                                      & 147                                     \\\\\n",
       "\t22 & 22                        & Musculoskeletal disorders & 100                       & 40                        & 2610                      & 13                        & 2046                      & 188                       & 382                       & 147                      \\\\\n",
       "\t23 & 23                   & Congenital anomalies & 22                   & 34                   & 2706                 & 1                    & 2121                 & 205                  & 275                  & 162                 \\\\\n",
       "\t24 & 24                             & Skin and subcutaneous diseases & 18                             & 24                             & 2717                           & 4                              & 2134                           & 198                            & 281                            & 150                           \\\\\n",
       "\t25 & 25                   & Sense organ diseases & 52                   & 40                   & 2667                 & 4                    & 2085                 & 190                  & 322                  & 166                 \\\\\n",
       "\t26 & 26             & Oral disorders & 3              & 4              & 2751           & 5              & 2150           & 207            & 258            & 148           \\\\\n",
       "\t27 & 27                           & Sudden infant death syndrome & 0                            & 0                            & 2763                         & 0                            & 2156                         & 203                          & 254                          & 150                         \\\\\n",
       "\\end{tabular}\n"
      ],
      "text/plain": [
       "   dis\n",
       "1    1\n",
       "2    2\n",
       "3    3\n",
       "4    4\n",
       "5    5\n",
       "6    6\n",
       "7    7\n",
       "8    8\n",
       "9    9\n",
       "10  10\n",
       "11  11\n",
       "12  12\n",
       "13  13\n",
       "14  14\n",
       "15  15\n",
       "16  16\n",
       "17  17\n",
       "18  18\n",
       "19  19\n",
       "20  20\n",
       "21  21\n",
       "22  22\n",
       "23  23\n",
       "24  24\n",
       "25  25\n",
       "26  26\n",
       "27  27\n",
       "                                                                                        GBD\n",
       "1                                                                              Tuberculosis\n",
       "2                                                                                  HIV/AIDS\n",
       "3  Diarrhea, lower respiratory infections, meningitis, and other common infectious diseases\n",
       "4                                                                                   Malaria\n",
       "5                                             Neglected tropical diseases excluding malaria\n",
       "6                                                                        Maternal disorders\n",
       "7                                                                        Neonatal disorders\n",
       "8                                                                  Nutritional deficiencies\n",
       "9                                               Sexually transmitted diseases excluding HIV\n",
       "10                                                                                Hepatitis\n",
       "11                                                                                  Leprosy\n",
       "12                                                                                Neoplasms\n",
       "13                                                  Cardiovascular and circulatory diseases\n",
       "14                                                             Chronic respiratory diseases\n",
       "15                                                                   Cirrhosis of the liver\n",
       "16                                                    Digestive diseases (except cirrhosis)\n",
       "17                                                                   Neurological disorders\n",
       "18                                                          Mental and behavioral disorders\n",
       "19                                          Diabetes, urinary diseases and male infertility\n",
       "20                                                                   Gynecological diseases\n",
       "21                                                 Hemoglobinopathies and hemolytic anemias\n",
       "22                                                                Musculoskeletal disorders\n",
       "23                                                                     Congenital anomalies\n",
       "24                                                           Skin and subcutaneous diseases\n",
       "25                                                                     Sense organ diseases\n",
       "26                                                                           Oral disorders\n",
       "27                                                             Sudden infant death syndrome\n",
       "   TP_Dis FP_Dis TN_Dis FN_Dis TP_Oth FP_Oth TN_Oth FN_Oth\n",
       "1      14      2   2745      2   2142    204    267    150\n",
       "2      86      7   2659     11   2072    214    333    144\n",
       "3      40     21   2693      9   2113    207    299    144\n",
       "4      14      1   2748      0   2142    204    267    150\n",
       "5       6      0   2756      1   2150    203    261    149\n",
       "6      17      5   2715     26   2130    210    289    134\n",
       "7       4      7   2746      6   2148    205    262    148\n",
       "8      11     15   2732      5   2140    201    272    150\n",
       "9       0      3   2759      1   2155    203    255    150\n",
       "10     14      4   2742      3   2141    208    262    152\n",
       "11      2      1   2760      0   2154    203    256    150\n",
       "12    933     42   1763     25   1213    214   1198    138\n",
       "13    178     60   2468     57   1951    217    466    129\n",
       "14     76     17   2665      5   2074    209    328    152\n",
       "15     19     17   2723      4   2133    211    267    152\n",
       "16     24     28   2703      8   2129    199    289    146\n",
       "17     79     40   2630     14   2060    211    339    153\n",
       "18    134     33   2587      9   2014    198    402    149\n",
       "19    196     63   2458     46   1930    213    473    147\n",
       "20      9      8   2744      2   2146    206    262    149\n",
       "21     10      4   2743      6   2143    203    270    147\n",
       "22    100     40   2610     13   2046    188    382    147\n",
       "23     22     34   2706      1   2121    205    275    162\n",
       "24     18     24   2717      4   2134    198    281    150\n",
       "25     52     40   2667      4   2085    190    322    166\n",
       "26      3      4   2751      5   2150    207    258    148\n",
       "27      0      0   2763      0   2156    203    254    150"
      ]
     },
     "metadata": {},
     "output_type": "display_data"
    }
   ],
   "source": [
    "PERF_F"
   ]
  },
  {
   "cell_type": "code",
   "execution_count": 11,
   "metadata": {
    "collapsed": false
   },
   "outputs": [],
   "source": [
    "write.csv(PERF_F,'Tables/Performances_per_27disease_data.csv')"
   ]
  },
  {
   "cell_type": "markdown",
   "metadata": {},
   "source": [
    "## 2. Simulating correction of misclassification"
   ]
  },
  {
   "cell_type": "code",
   "execution_count": 1,
   "metadata": {
    "collapsed": true
   },
   "outputs": [],
   "source": [
    "data <- read.table('/media/igna/Elements/HotelDieu/Cochrane/Mapping_Cancer/Flowchart/database_all_diseases_final_ok.txt')\n",
    "N <- nrow(data)"
   ]
  },
  {
   "cell_type": "code",
   "execution_count": 2,
   "metadata": {
    "collapsed": false
   },
   "outputs": [],
   "source": [
    "regs <- sort(unique(unlist(strsplit(as.character(data$Regions),\"&\"))))\n",
    "LR <- lapply(regs,function(x){1:nrow(data)%in%grep(x,data$Regions)})\n",
    "LR <- do.call('cbind',LR)"
   ]
  },
  {
   "cell_type": "code",
   "execution_count": 3,
   "metadata": {
    "collapsed": true
   },
   "outputs": [],
   "source": [
    "Lgbd <- lapply(as.character(data$GBD28),function(x){as.numeric(unlist(strsplit(x,\"&\")))})\n",
    "Lgbd <- lapply(Lgbd,function(x){x[x!=28]})"
   ]
  },
  {
   "cell_type": "code",
   "execution_count": 4,
   "metadata": {
    "collapsed": true
   },
   "outputs": [],
   "source": [
    "PERF <- read.csv('Tables/Performances_per_27disease_data.csv')"
   ]
  },
  {
   "cell_type": "code",
   "execution_count": 6,
   "metadata": {
    "collapsed": false
   },
   "outputs": [],
   "source": [
    "GAPS <- read.table('/media/igna/Elements/HotelDieu/Cochrane/Mapping_Cancer/Tables/Local_research_gaps.txt')"
   ]
  },
  {
   "cell_type": "code",
   "execution_count": 8,
   "metadata": {
    "collapsed": false
   },
   "outputs": [],
   "source": [
    "#For each disease for which we found a gap, we will simulate the mapping across regions of trials concerning\n",
    "#the disease or concerning other diseases\n",
    "dis <- levels(GAPS$Disease)"
   ]
  },
  {
   "cell_type": "code",
   "execution_count": 9,
   "metadata": {
    "collapsed": false
   },
   "outputs": [
    {
     "data": {
      "text/html": [
       "8"
      ],
      "text/latex": [
       "8"
      ],
      "text/markdown": [
       "8"
      ],
      "text/plain": [
       "[1] 8"
      ]
     },
     "metadata": {},
     "output_type": "display_data"
    }
   ],
   "source": [
    "length(dis)"
   ]
  },
  {
   "cell_type": "code",
   "execution_count": 7,
   "metadata": {
    "collapsed": true
   },
   "outputs": [],
   "source": [
    "#NK <- 60000\n",
    "NK <- 5000\n",
    "set.seed(7212)"
   ]
  },
  {
   "cell_type": "code",
   "execution_count": 8,
   "metadata": {
    "collapsed": false,
    "scrolled": false
   },
   "outputs": [
    {
     "name": "stdout",
     "output_type": "stream",
     "text": [
      "[1] \"Cardiovascular and circulatory diseases has 0 non conservative false iterations, and 0 conservative false iterations\"\n",
      "[1] \"Congenital anomalies has 0 non conservative false iterations, and 693 conservative false iterations\"\n",
      "[1] \"Diarrhea, lower respiratory infections, meningitis, and other common infectious diseases has 0 non conservative false iterations, and 0 conservative false iterations\"\n",
      "[1] \"Neglected tropical diseases excluding malaria has 0 non conservative false iterations, and 2 conservative false iterations\"\n",
      "[1] \"Neonatal disorders has 0 non conservative false iterations, and 2 conservative false iterations\"\n",
      "[1] \"Nutritional deficiencies has 0 non conservative false iterations, and 1 conservative false iterations\"\n",
      "[1] \"Sexually transmitted diseases excluding HIV has 16 non conservative false iterations, and 505 conservative false iterations\"\n",
      "[1] \"Tuberculosis has 0 non conservative false iterations, and 37 conservative false iterations\"\n",
      "    user   system  elapsed \n",
      "2952.985    4.304 2969.081 \n"
     ]
    },
    {
     "data": {
      "text/plain": [
       "       user      system     elapsed \n",
       "49.21641667  0.07173333 49.48468333 "
      ]
     },
     "metadata": {},
     "output_type": "display_data"
    }
   ],
   "source": [
    "#For each disease\n",
    "t0 <- proc.time()\n",
    "\n",
    "for(g in dis){\n",
    "\n",
    "    PERF_g <- PERF[PERF$GBD==g,]\n",
    "    \n",
    "    #which trials concern the disease\n",
    "    is_dis <- sapply(Lgbd,function(x){PERF_g$dis%in%x})\n",
    "    #which trials concern another disease\n",
    "    is_oth <- sapply(Lgbd,function(x){sum(setdiff(1:27,PERF_g$dis)%in%x)>0})\n",
    "\n",
    "    #PPV et NPVs for finding the disease\n",
    "    sens_r <- PERF_g$TP_Dis\n",
    "    sens_n <- PERF_g$TP_Dis + PERF_g$FN_Dis\n",
    "    spec_r <- PERF_g$TN_Dis\n",
    "    spec_n <- PERF_g$TN_Dis + PERF_g$FP_Dis\n",
    "    sens <- rbeta(NK,sens_r+1,sens_n-sens_r+1)\n",
    "    spec <- rbeta(NK,spec_r+1,spec_n-spec_r+1)\n",
    "\n",
    "    a_dis <- sum(is_dis)\n",
    "    b_dis <- N-a_dis\n",
    "    As <- (a_dis-(1-spec)*N)/(sens - (1-spec))\n",
    "    Bs <- N-As\n",
    "    T1 <- sens*As\n",
    "    T0 <- spec*Bs\n",
    "    F1 <- (1-spec)*Bs\n",
    "    F0 <- (1-sens)*As\n",
    "    PPV_dis <- T1/(T1+F1)\n",
    "    NPV_dis <- T0/(T0+F0)\n",
    "\n",
    "    #PPV and NPVs for finding another disease\n",
    "    sens_r <- PERF_g$TP_Oth\n",
    "    sens_n <- PERF_g$TP_Oth + PERF_g$FN_Oth\n",
    "    spec_r <- PERF_g$TN_Oth\n",
    "    spec_n <- PERF_g$TN_Oth + PERF_g$FP_Oth\n",
    "    sens <- rbeta(NK,sens_r+1,sens_n-sens_r+1)\n",
    "    spec <- rbeta(NK,spec_r+1,spec_n-spec_r+1)\n",
    "\n",
    "    a_oth <- sum(is_oth)\n",
    "    b_oth <- N-a_oth\n",
    "    As <- (a_oth-(1-spec)*N)/(sens - (1-spec))\n",
    "    Bs <- N-As\n",
    "    T1 <- sens*As\n",
    "    T0 <- spec*Bs\n",
    "    F1 <- (1-spec)*Bs\n",
    "    F0 <- (1-sens)*As\n",
    "    PPV_oth <- T1/(T1+F1)\n",
    "    NPV_oth <- T0/(T0+F0)\n",
    "\n",
    "    #Some values of sens and spec may lead to impossible values of PPV or NPV (>1 or <0)\n",
    "    #If PPV_dis < 0 (and NPV_dis > 1), sens_dis and spec_dis are such that expected value\n",
    "    #of nb_trials concerning disease is negative. Suppressing that iteration is conservative\n",
    "    #if regard of our objective\n",
    "    #If PPV_dis > 1 (and NPV_dis < 0), suppressing that iteration is not conservative\n",
    "    #Similarly, if PPV_oth < 0 (and NPV_oth > 1), suppressing that iteration is conservative, and so on\n",
    "    #We count conservative and non conservative deleted iterations\n",
    "    #If more than 10% of iteration are deleted because they are not conservative, we can not conduct simulation\n",
    "    #Conservative iterations are suppressed, and no problem\n",
    "    cons_false_it <- PPV_dis<0 | NPV_dis>1 | PPV_oth>1 | NPV_oth<0\n",
    "    non_cons_false_it <- PPV_dis>1 | NPV_dis<0 | PPV_oth<0 | NPV_oth>1\n",
    "\n",
    "    if(sum(non_cons_false_it)>0.1*NK){ print(paste(c(g,\n",
    "                                                     \"has\", \n",
    "                                                     sum(non_cons_false_it), \n",
    "                                                     \"(too many) non conservative false iterations, and\",\n",
    "                                                     sum(cons_false_it),\n",
    "                                                     \"conservative false iterations\"\n",
    "                                                    ),collapse=\" \"))\n",
    "                          next\n",
    "                          }\n",
    "    \n",
    "    print(paste(c(g,\n",
    "                  \"has\",\n",
    "                  sum(non_cons_false_it),\n",
    "                  \"non conservative false iterations, and\",\n",
    "                  sum(cons_false_it),\n",
    "                  \"conservative false iterations\"\n",
    "                 ),collapse=\" \"))\n",
    "    \n",
    "    PPV_dis <- PPV_dis[!cons_false_it & !non_cons_false_it]\n",
    "    NPV_dis <- NPV_dis[!cons_false_it & !non_cons_false_it]\n",
    "    PPV_oth <- PPV_oth[!cons_false_it & !non_cons_false_it]\n",
    "    NPV_oth <- NPV_oth[!cons_false_it & !non_cons_false_it]\n",
    "\n",
    "    L <- list()\n",
    "    #Simulation: reclassifying each trial\n",
    "        for(k in 1:sum(!cons_false_it & !non_cons_false_it)){\n",
    "\n",
    "            AR <- matrix(0, nrow=length(regs), ncol=2)\n",
    "            tp_dis <- runif(a_dis)\n",
    "            tn_dis <- runif(b_dis)\n",
    "            recl_dis <- is_dis\n",
    "            recl_dis[recl_dis==TRUE][tp_dis>PPV_dis[k]] <- FALSE\n",
    "            recl_dis[recl_dis==FALSE][tn_dis>NPV_dis[k]] <- TRUE\n",
    "            #Rq: we count all trials (even those with more than 3 diseases)\n",
    "            #it is a conservative choice\n",
    "            rt <- as.numeric(recl_dis)\n",
    "\n",
    "            if(sum(recl_dis)==0) AR[,1] <- c(rep(0,7))\n",
    "            else{   if(sum(recl_dis)==1) AR[,1] <- as.numeric(LR[recl_dis,])\n",
    "                    else AR[,1] <- apply(LR[recl_dis,],2,sum)\n",
    "            }\n",
    "                \n",
    "            #Oth_dis\n",
    "            tp_oth <- runif(a_oth)\n",
    "            tn_oth <- runif(b_oth)\n",
    "            recl_oth <- is_oth\n",
    "            recl_oth[recl_oth==TRUE][tp_oth>PPV_oth[k]] <- FALSE\n",
    "            recl_oth[recl_oth==FALSE][tn_oth>NPV_oth[k]] <- TRUE\n",
    "            rt <- rt + as.numeric(recl_oth)\n",
    "\n",
    "            if(sum(recl_oth)==0) AR[,2] <- c(rep(0,7))\n",
    "            else{    if(sum(recl_oth)==1) AR[,2] <- as.numeric(LR[recl_oth,])\n",
    "                     else AR[,2] <- apply(LR[rt!=0,],2,sum)\n",
    "            }\n",
    "\n",
    "            L[[k]] <- AR\n",
    "\n",
    "        }\n",
    "   \n",
    "    T <- do.call('rbind',L)\n",
    "    write.table(T,paste(c(\"/media/igna/Elements/HotelDieu/Cochrane/Mapping_Cancer/Incertitude_mapping/Simulations/Res_simul27_\",as.character(PERF_g$dis),\".txt\"),collapse=\"\"))\n",
    "\n",
    "}\n",
    "\n",
    "t1 <- proc.time()\n",
    "    \n",
    "print(t1-t0)/60"
   ]
  },
  {
   "cell_type": "code",
   "execution_count": 11,
   "metadata": {
    "collapsed": false
   },
   "outputs": [
    {
     "data": {
      "text/html": [
       "9.8"
      ],
      "text/latex": [
       "9.8"
      ],
      "text/markdown": [
       "9.8"
      ],
      "text/plain": [
       "[1] 9.8"
      ]
     },
     "metadata": {},
     "output_type": "display_data"
    }
   ],
   "source": [
    "(49*60/5)/60"
   ]
  },
  {
   "cell_type": "markdown",
   "metadata": {},
   "source": [
    "For 60,000 simulations it will take 10h approx"
   ]
  },
  {
   "cell_type": "markdown",
   "metadata": {},
   "source": [
    "## 3. Deriving 95% upper bound simulation intervals"
   ]
  },
  {
   "cell_type": "code",
   "execution_count": 66,
   "metadata": {
    "collapsed": true
   },
   "outputs": [],
   "source": [
    "GAPS <- read.table('/media/igna/Elements/HotelDieu/Cochrane/Mapping_Cancer/Tables/Local_research_gaps.txt')"
   ]
  },
  {
   "cell_type": "code",
   "execution_count": 67,
   "metadata": {
    "collapsed": true
   },
   "outputs": [],
   "source": [
    "regs <- levels(GAPS$Region)"
   ]
  },
  {
   "cell_type": "code",
   "execution_count": 68,
   "metadata": {
    "collapsed": false
   },
   "outputs": [],
   "source": [
    "Mgbd <- read.table(\"/home/igna/Desktop/Programs GBD/Classifier_Trial_GBD/Databases/Taxonomy_DL/GBD_data/GBD_ICD.txt\")"
   ]
  },
  {
   "cell_type": "code",
   "execution_count": 69,
   "metadata": {
    "collapsed": false
   },
   "outputs": [],
   "source": [
    "sims <- list.files(\"/media/igna/Elements/HotelDieu/Cochrane/Mapping_Cancer/Incertitude_mapping/Simulations\")"
   ]
  },
  {
   "cell_type": "code",
   "execution_count": 70,
   "metadata": {
    "collapsed": true
   },
   "outputs": [],
   "source": [
    "#diseases for which we have a simulation\n",
    "dis <- as.character(Mgbd$cause_name[as.numeric(substr(sims,13,nchar(sims)-4))])"
   ]
  },
  {
   "cell_type": "code",
   "execution_count": 71,
   "metadata": {
    "collapsed": true
   },
   "outputs": [],
   "source": [
    "GAPS$SimMn_NbRCTs <- NA\n",
    "GAPS$Sim95_NbRCTs <- NA\n",
    "GAPS$SimMn_PrRCTs <- NA\n",
    "GAPS$Sim95_PrRCTs <- NA"
   ]
  },
  {
   "cell_type": "code",
   "execution_count": 72,
   "metadata": {
    "collapsed": false
   },
   "outputs": [],
   "source": [
    "for(g in dis){\n",
    "\n",
    "    T <- tryCatch(read.table(paste(c(\"/media/igna/Elements/HotelDieu/Cochrane/Mapping_Cancer/Incertitude_mapping/Simulations/Res_simul27_\",\n",
    "                            as.character(which(Mgbd$cause_name==g)),\".txt\"),collapse=\"\")),error=NULL)\n",
    "\n",
    "    if(length(T)!=0){\n",
    "\n",
    "        #Mean and 95% upper-bound number of RCTs by simulation\n",
    "        M <- matrix(T[,1],ncol=7,byrow=TRUE)\n",
    "        SIM95 <- apply(M,2,function(x){quantile(x,0.95)})\n",
    "        SIM95 <- data.frame(SIM95)\n",
    "        GAPS$Sim95_NbRCTs[GAPS$Disease==g] <- SIM95$SIM95[regs%in%GAPS$Region[GAPS$Disease==g]]\n",
    "        SIMMn <- apply(M,2,function(x){mean(x)})\n",
    "        SIMMn <- data.frame(SIMMn)\n",
    "        GAPS$SimMn_NbRCTs[GAPS$Disease==g] <- SIMMn$SIMMn[regs%in%GAPS$Region[GAPS$Disease==g]]\n",
    "\n",
    "        #Mean and 95% upper-bound proportion of RCTs by simulation\n",
    "        M <- matrix(T[,1]/T[,2],ncol=7,byrow=TRUE)\n",
    "        SIM95 <- apply(M,2,function(x){quantile(x,0.95)})\n",
    "        SIM95 <- data.frame(SIM95)\n",
    "        GAPS$Sim95_PrRCTs[GAPS$Disease==g] <- SIM95$SIM95[regs%in%GAPS$Region[GAPS$Disease==g]]\n",
    "        SIMMn <- apply(M,2,function(x){mean(x)})\n",
    "        SIMMn <- data.frame(SIMMn)\n",
    "        GAPS$SimMn_PrRCTs[GAPS$Disease==g] <- SIMMn$SIMMn[regs%in%GAPS$Region[GAPS$Disease==g]]\n",
    "    }   \n",
    "}"
   ]
  },
  {
   "cell_type": "code",
   "execution_count": 73,
   "metadata": {
    "collapsed": true
   },
   "outputs": [],
   "source": [
    "GAPS$Robust <- FALSE"
   ]
  },
  {
   "cell_type": "code",
   "execution_count": 74,
   "metadata": {
    "collapsed": true
   },
   "outputs": [],
   "source": [
    "GAPS$Robust[2*GAPS$Sim95_PrRCTs<GAPS$Pr_GBD] <- TRUE"
   ]
  },
  {
   "cell_type": "code",
   "execution_count": 75,
   "metadata": {
    "collapsed": true
   },
   "outputs": [],
   "source": [
    "GAPS[,c(7,9,12,13)] <- round(100*GAPS[,c(7,9,12,13)],digits=2)\n",
    "GAPS[,c(10)] <- round(GAPS[,c(10)],digits=1)"
   ]
  },
  {
   "cell_type": "code",
   "execution_count": 76,
   "metadata": {
    "collapsed": false
   },
   "outputs": [
    {
     "data": {
      "text/html": [
       "<table>\n",
       "<thead><tr><th></th><th scope=col>Region</th><th scope=col>Disease</th><th scope=col>RCT</th><th scope=col>SimMn_NbRCTs</th><th scope=col>Sim95_NbRCTs</th><th scope=col>Pr_RCT</th><th scope=col>SimMn_PrRCTs</th><th scope=col>Sim95_PrRCTs</th><th scope=col>Pr_GBD</th></tr></thead>\n",
       "<tbody>\n",
       "\t<tr><th scope=row>1</th><td>Central Europe, Eastern Europe, and Central Asia</td><td>Cardiovascular and circulatory diseases         </td><td>789                                             </td><td>768.7                                           </td><td>843                                             </td><td>11.27                                           </td><td>12.56                                           </td><td>13.77                                           </td><td>35.09                                           </td></tr>\n",
       "\t<tr><th scope=row>3</th><td>Central Europe, Eastern Europe, and Central Asia</td><td>Tuberculosis                                    </td><td>21                                              </td><td>17.2                                            </td><td>27                                              </td><td>0.3                                             </td><td>0.28                                            </td><td>0.44                                            </td><td>1.83                                            </td></tr>\n",
       "\t<tr><th scope=row>5</th><td>Latin America and Caribbean</td><td>Congenital anomalies       </td><td>55                         </td><td>12.7                       </td><td>27                         </td><td>1.15                       </td><td>0.3                        </td><td>0.62                       </td><td>3.13                       </td></tr>\n",
       "\t<tr><th scope=row>6</th><td>Latin America and Caribbean</td><td>Neonatal disorders         </td><td>41                         </td><td>75.4                       </td><td>149                        </td><td>0.86                       </td><td>1.77                       </td><td>3.47                       </td><td>8.72                       </td></tr>\n",
       "\t<tr><th scope=row>8</th><td>North Africa and Middle East</td><td>Congenital anomalies        </td><td>147                         </td><td>32.3                        </td><td>66                          </td><td>1.69                        </td><td>0.4                         </td><td>0.82                        </td><td>4.98                        </td></tr>\n",
       "\t<tr><th scope=row>9</th><td>North Africa and Middle East                                                            </td><td>Diarrhea, lower respiratory infections, meningitis, and other common infectious diseases</td><td>253                                                                                     </td><td>262.2                                                                                   </td><td>319                                                                                     </td><td>2.91                                                                                    </td><td>3.33                                                                                    </td><td>4.06                                                                                    </td><td>10.55                                                                                   </td></tr>\n",
       "\t<tr><th scope=row>10</th><td>North Africa and Middle East</td><td>Neonatal disorders          </td><td>181                         </td><td>213.1                       </td><td>366                         </td><td>2.08                        </td><td>2.68                        </td><td>4.56                        </td><td>10.06                       </td></tr>\n",
       "\t<tr><th scope=row>12</th><td>South Asia                                                                              </td><td>Diarrhea, lower respiratory infections, meningitis, and other common infectious diseases</td><td>357                                                                                     </td><td>308.8                                                                                   </td><td>353                                                                                     </td><td>7.36                                                                                    </td><td>7.04                                                                                    </td><td>8.06                                                                                    </td><td>21.43                                                                                   </td></tr>\n",
       "\t<tr><th scope=row>13</th><td>South Asia        </td><td>Neonatal disorders</td><td>86                </td><td>109.2             </td><td>195               </td><td>1.77              </td><td>2.46              </td><td>4.35              </td><td>16.52             </td></tr>\n",
       "\t<tr><th scope=row>14</th><td>South Asia  </td><td>Tuberculosis</td><td>54          </td><td>38.3        </td><td>54          </td><td>1.11        </td><td>0.86        </td><td>1.22        </td><td>3.87        </td></tr>\n",
       "\t<tr><th scope=row>17</th><td>Southeast Asia, East Asia and Oceania</td><td>Tuberculosis                         </td><td>70                                   </td><td>51.3                                 </td><td>73                                   </td><td>0.73                                 </td><td>0.59                                 </td><td>0.84                                 </td><td>2.84                                 </td></tr>\n",
       "\t<tr><th scope=row>18</th><td>Sub-Saharian Africa </td><td>Congenital anomalies</td><td>16                  </td><td>4.2                 </td><td>10                  </td><td>0.62                </td><td>0.18                </td><td>0.43                </td><td>1.33                </td></tr>\n",
       "\t<tr><th scope=row>19</th><td>Sub-Saharian Africa                                                                     </td><td>Diarrhea, lower respiratory infections, meningitis, and other common infectious diseases</td><td>150                                                                                     </td><td>130.7                                                                                   </td><td>152                                                                                     </td><td>5.8                                                                                     </td><td>5.8                                                                                     </td><td>6.74                                                                                    </td><td>22.93                                                                                   </td></tr>\n",
       "\t<tr><th scope=row>20</th><td>Sub-Saharian Africa</td><td>Neonatal disorders </td><td>40                 </td><td>50.5               </td><td>90                 </td><td>1.55               </td><td>2.22               </td><td>3.91               </td><td>11.58              </td></tr>\n",
       "</tbody>\n",
       "</table>\n"
      ],
      "text/latex": [
       "\\begin{tabular}{r|lllllllll}\n",
       "  & Region & Disease & RCT & SimMn\\_NbRCTs & Sim95\\_NbRCTs & Pr\\_RCT & SimMn\\_PrRCTs & Sim95\\_PrRCTs & Pr\\_GBD\\\\\n",
       "\\hline\n",
       "\t1 & Central Europe, Eastern Europe, and Central Asia & Cardiovascular and circulatory diseases          & 789                                              & 768.7                                            & 843                                              & 11.27                                            & 12.56                                            & 13.77                                            & 35.09                                           \\\\\n",
       "\t3 & Central Europe, Eastern Europe, and Central Asia & Tuberculosis                                     & 21                                               & 17.2                                             & 27                                               & 0.3                                              & 0.28                                             & 0.44                                             & 1.83                                            \\\\\n",
       "\t5 & Latin America and Caribbean & Congenital anomalies        & 55                          & 12.7                        & 27                          & 1.15                        & 0.3                         & 0.62                        & 3.13                       \\\\\n",
       "\t6 & Latin America and Caribbean & Neonatal disorders          & 41                          & 75.4                        & 149                         & 0.86                        & 1.77                        & 3.47                        & 8.72                       \\\\\n",
       "\t8 & North Africa and Middle East & Congenital anomalies         & 147                          & 32.3                         & 66                           & 1.69                         & 0.4                          & 0.82                         & 4.98                        \\\\\n",
       "\t9 & North Africa and Middle East                                                             & Diarrhea, lower respiratory infections, meningitis, and other common infectious diseases & 253                                                                                      & 262.2                                                                                    & 319                                                                                      & 2.91                                                                                     & 3.33                                                                                     & 4.06                                                                                     & 10.55                                                                                   \\\\\n",
       "\t10 & North Africa and Middle East & Neonatal disorders           & 181                          & 213.1                        & 366                          & 2.08                         & 2.68                         & 4.56                         & 10.06                       \\\\\n",
       "\t12 & South Asia                                                                               & Diarrhea, lower respiratory infections, meningitis, and other common infectious diseases & 357                                                                                      & 308.8                                                                                    & 353                                                                                      & 7.36                                                                                     & 7.04                                                                                     & 8.06                                                                                     & 21.43                                                                                   \\\\\n",
       "\t13 & South Asia         & Neonatal disorders & 86                 & 109.2              & 195                & 1.77               & 2.46               & 4.35               & 16.52             \\\\\n",
       "\t14 & South Asia   & Tuberculosis & 54           & 38.3         & 54           & 1.11         & 0.86         & 1.22         & 3.87        \\\\\n",
       "\t17 & Southeast Asia, East Asia and Oceania & Tuberculosis                          & 70                                    & 51.3                                  & 73                                    & 0.73                                  & 0.59                                  & 0.84                                  & 2.84                                 \\\\\n",
       "\t18 & Sub-Saharian Africa  & Congenital anomalies & 16                   & 4.2                  & 10                   & 0.62                 & 0.18                 & 0.43                 & 1.33                \\\\\n",
       "\t19 & Sub-Saharian Africa                                                                      & Diarrhea, lower respiratory infections, meningitis, and other common infectious diseases & 150                                                                                      & 130.7                                                                                    & 152                                                                                      & 5.8                                                                                      & 5.8                                                                                      & 6.74                                                                                     & 22.93                                                                                   \\\\\n",
       "\t20 & Sub-Saharian Africa & Neonatal disorders  & 40                  & 50.5                & 90                  & 1.55                & 2.22                & 3.91                & 11.58              \\\\\n",
       "\\end{tabular}\n"
      ],
      "text/plain": [
       "                                             Region\n",
       "1  Central Europe, Eastern Europe, and Central Asia\n",
       "3  Central Europe, Eastern Europe, and Central Asia\n",
       "5                       Latin America and Caribbean\n",
       "6                       Latin America and Caribbean\n",
       "8                      North Africa and Middle East\n",
       "9                      North Africa and Middle East\n",
       "10                     North Africa and Middle East\n",
       "12                                       South Asia\n",
       "13                                       South Asia\n",
       "14                                       South Asia\n",
       "17            Southeast Asia, East Asia and Oceania\n",
       "18                              Sub-Saharian Africa\n",
       "19                              Sub-Saharian Africa\n",
       "20                              Sub-Saharian Africa\n",
       "                                                                                    Disease\n",
       "1                                                   Cardiovascular and circulatory diseases\n",
       "3                                                                              Tuberculosis\n",
       "5                                                                      Congenital anomalies\n",
       "6                                                                        Neonatal disorders\n",
       "8                                                                      Congenital anomalies\n",
       "9  Diarrhea, lower respiratory infections, meningitis, and other common infectious diseases\n",
       "10                                                                       Neonatal disorders\n",
       "12 Diarrhea, lower respiratory infections, meningitis, and other common infectious diseases\n",
       "13                                                                       Neonatal disorders\n",
       "14                                                                             Tuberculosis\n",
       "17                                                                             Tuberculosis\n",
       "18                                                                     Congenital anomalies\n",
       "19 Diarrhea, lower respiratory infections, meningitis, and other common infectious diseases\n",
       "20                                                                       Neonatal disorders\n",
       "   RCT SimMn_NbRCTs Sim95_NbRCTs Pr_RCT SimMn_PrRCTs Sim95_PrRCTs Pr_GBD\n",
       "1  789        768.7          843  11.27        12.56        13.77  35.09\n",
       "3   21         17.2           27   0.30         0.28         0.44   1.83\n",
       "5   55         12.7           27   1.15         0.30         0.62   3.13\n",
       "6   41         75.4          149   0.86         1.77         3.47   8.72\n",
       "8  147         32.3           66   1.69         0.40         0.82   4.98\n",
       "9  253        262.2          319   2.91         3.33         4.06  10.55\n",
       "10 181        213.1          366   2.08         2.68         4.56  10.06\n",
       "12 357        308.8          353   7.36         7.04         8.06  21.43\n",
       "13  86        109.2          195   1.77         2.46         4.35  16.52\n",
       "14  54         38.3           54   1.11         0.86         1.22   3.87\n",
       "17  70         51.3           73   0.73         0.59         0.84   2.84\n",
       "18  16          4.2           10   0.62         0.18         0.43   1.33\n",
       "19 150        130.7          152   5.80         5.80         6.74  22.93\n",
       "20  40         50.5           90   1.55         2.22         3.91  11.58"
      ]
     },
     "metadata": {},
     "output_type": "display_data"
    }
   ],
   "source": [
    "GAPS[GAPS$Robust,c(4,3,6,10,11,7,12,13,9)]"
   ]
  },
  {
   "cell_type": "code",
   "execution_count": 77,
   "metadata": {
    "collapsed": false
   },
   "outputs": [
    {
     "data": {
      "text/html": [
       "<table>\n",
       "<thead><tr><th></th><th scope=col>Region</th><th scope=col>Disease</th><th scope=col>RCT</th><th scope=col>SimMn_NbRCTs</th><th scope=col>Sim95_NbRCTs</th><th scope=col>Pr_RCT</th><th scope=col>SimMn_PrRCTs</th><th scope=col>Sim95_PrRCTs</th><th scope=col>Pr_GBD</th></tr></thead>\n",
       "<tbody>\n",
       "\t<tr><th scope=row>2</th><td>Central Europe, Eastern Europe, and Central Asia</td><td>Neonatal disorders                              </td><td>38                                              </td><td>90.6                                            </td><td>187                                             </td><td>0.54                                            </td><td>1.48                                            </td><td>3.06                                            </td><td>2.56                                            </td></tr>\n",
       "\t<tr><th scope=row>4</th><td>High-income       </td><td>Neonatal disorders</td><td>553               </td><td>1113.3            </td><td>2229.9            </td><td>0.82              </td><td>1.8               </td><td>3.59              </td><td>1.65              </td></tr>\n",
       "\t<tr><th scope=row>7</th><td>Latin America and Caribbean</td><td>Nutritional deficiencies   </td><td>78                         </td><td>65.9                       </td><td>99                         </td><td>1.64                       </td><td>1.55                       </td><td>2.31                       </td><td>3.76                       </td></tr>\n",
       "\t<tr><th scope=row>11</th><td>North Africa and Middle East</td><td>Nutritional deficiencies    </td><td>134                         </td><td>119.1                       </td><td>180                         </td><td>1.54                        </td><td>1.5                         </td><td>2.26                        </td><td>4.12                        </td></tr>\n",
       "\t<tr><th scope=row>15</th><td>Southeast Asia, East Asia and Oceania        </td><td>Neglected tropical diseases excluding malaria</td><td>65                                           </td><td>72.2                                         </td><td>95.1499999999996                             </td><td>0.67                                         </td><td>0.83                                         </td><td>1.1                                          </td><td>1.55                                         </td></tr>\n",
       "\t<tr><th scope=row>16</th><td>Southeast Asia, East Asia and Oceania</td><td>Neonatal disorders                   </td><td>47                                   </td><td>132.3                                </td><td>279.299999999999                     </td><td>0.49                                 </td><td>1.53                                 </td><td>3.2                                  </td><td>6.06                                 </td></tr>\n",
       "\t<tr><th scope=row>21</th><td>Sub-Saharian Africa                        </td><td>Sexually transmitted diseases excluding HIV</td><td>9                                          </td><td>40.8                                       </td><td>131                                        </td><td>0.35                                       </td><td>1.71                                       </td><td>5.67                                       </td><td>1.27                                       </td></tr>\n",
       "</tbody>\n",
       "</table>\n"
      ],
      "text/latex": [
       "\\begin{tabular}{r|lllllllll}\n",
       "  & Region & Disease & RCT & SimMn\\_NbRCTs & Sim95\\_NbRCTs & Pr\\_RCT & SimMn\\_PrRCTs & Sim95\\_PrRCTs & Pr\\_GBD\\\\\n",
       "\\hline\n",
       "\t2 & Central Europe, Eastern Europe, and Central Asia & Neonatal disorders                               & 38                                               & 90.6                                             & 187                                              & 0.54                                             & 1.48                                             & 3.06                                             & 2.56                                            \\\\\n",
       "\t4 & High-income        & Neonatal disorders & 553                & 1113.3             & 2229.9             & 0.82               & 1.8                & 3.59               & 1.65              \\\\\n",
       "\t7 & Latin America and Caribbean & Nutritional deficiencies    & 78                          & 65.9                        & 99                          & 1.64                        & 1.55                        & 2.31                        & 3.76                       \\\\\n",
       "\t11 & North Africa and Middle East & Nutritional deficiencies     & 134                          & 119.1                        & 180                          & 1.54                         & 1.5                          & 2.26                         & 4.12                        \\\\\n",
       "\t15 & Southeast Asia, East Asia and Oceania         & Neglected tropical diseases excluding malaria & 65                                            & 72.2                                          & 95.1499999999996                              & 0.67                                          & 0.83                                          & 1.1                                           & 1.55                                         \\\\\n",
       "\t16 & Southeast Asia, East Asia and Oceania & Neonatal disorders                    & 47                                    & 132.3                                 & 279.299999999999                      & 0.49                                  & 1.53                                  & 3.2                                   & 6.06                                 \\\\\n",
       "\t21 & Sub-Saharian Africa                         & Sexually transmitted diseases excluding HIV & 9                                           & 40.8                                        & 131                                         & 0.35                                        & 1.71                                        & 5.67                                        & 1.27                                       \\\\\n",
       "\\end{tabular}\n"
      ],
      "text/plain": [
       "                                             Region\n",
       "2  Central Europe, Eastern Europe, and Central Asia\n",
       "4                                       High-income\n",
       "7                       Latin America and Caribbean\n",
       "11                     North Africa and Middle East\n",
       "15            Southeast Asia, East Asia and Oceania\n",
       "16            Southeast Asia, East Asia and Oceania\n",
       "21                              Sub-Saharian Africa\n",
       "                                         Disease RCT SimMn_NbRCTs Sim95_NbRCTs\n",
       "2                             Neonatal disorders  38         90.6       187.00\n",
       "4                             Neonatal disorders 553       1113.3      2229.90\n",
       "7                       Nutritional deficiencies  78         65.9        99.00\n",
       "11                      Nutritional deficiencies 134        119.1       180.00\n",
       "15 Neglected tropical diseases excluding malaria  65         72.2        95.15\n",
       "16                            Neonatal disorders  47        132.3       279.30\n",
       "21   Sexually transmitted diseases excluding HIV   9         40.8       131.00\n",
       "   Pr_RCT SimMn_PrRCTs Sim95_PrRCTs Pr_GBD\n",
       "2    0.54         1.48         3.06   2.56\n",
       "4    0.82         1.80         3.59   1.65\n",
       "7    1.64         1.55         2.31   3.76\n",
       "11   1.54         1.50         2.26   4.12\n",
       "15   0.67         0.83         1.10   1.55\n",
       "16   0.49         1.53         3.20   6.06\n",
       "21   0.35         1.71         5.67   1.27"
      ]
     },
     "metadata": {},
     "output_type": "display_data"
    }
   ],
   "source": [
    "GAPS[!GAPS$Robust,c(4,3,6,10,11,7,12,13,9)]"
   ]
  },
  {
   "cell_type": "code",
   "execution_count": 62,
   "metadata": {
    "collapsed": false
   },
   "outputs": [],
   "source": [
    "GAPS <- GAPS[,c(4,3,6,10,11,7,12,13,9,14)]\n",
    "GAPS <- GAPS[order(GAPS$Robust,decreasing=TRUE),]"
   ]
  },
  {
   "cell_type": "code",
   "execution_count": 63,
   "metadata": {
    "collapsed": false
   },
   "outputs": [
    {
     "data": {
      "text/html": [
       "<table>\n",
       "<thead><tr><th></th><th scope=col>Region</th><th scope=col>Disease</th><th scope=col>RCT</th><th scope=col>SimMn_NbRCTs</th><th scope=col>Sim95_NbRCTs</th><th scope=col>Pr_RCT</th><th scope=col>SimMn_PrRCTs</th><th scope=col>Sim95_PrRCTs</th><th scope=col>Pr_GBD</th><th scope=col>Robust</th></tr></thead>\n",
       "<tbody>\n",
       "\t<tr><th scope=row>1</th><td>Central Europe, Eastern Europe, and Central Asia</td><td>Cardiovascular and circulatory diseases         </td><td>789                                             </td><td>768.7                                           </td><td>843                                             </td><td>11.27                                           </td><td>12.56                                           </td><td>13.77                                           </td><td>35.09                                           </td><td>1                                               </td></tr>\n",
       "\t<tr><th scope=row>3</th><td>Central Europe, Eastern Europe, and Central Asia</td><td>Tuberculosis                                    </td><td>21                                              </td><td>17.2                                            </td><td>27                                              </td><td>0.3                                             </td><td>0.28                                            </td><td>0.44                                            </td><td>1.83                                            </td><td>1                                               </td></tr>\n",
       "\t<tr><th scope=row>5</th><td>Latin America and Caribbean</td><td>Congenital anomalies       </td><td>55                         </td><td>12.7                       </td><td>27                         </td><td>1.15                       </td><td>0.3                        </td><td>0.62                       </td><td>3.13                       </td><td>1                          </td></tr>\n",
       "\t<tr><th scope=row>6</th><td>Latin America and Caribbean</td><td>Neonatal disorders         </td><td>41                         </td><td>75.4                       </td><td>149                        </td><td>0.86                       </td><td>1.77                       </td><td>3.47                       </td><td>8.72                       </td><td>1                          </td></tr>\n",
       "\t<tr><th scope=row>8</th><td>North Africa and Middle East</td><td>Congenital anomalies        </td><td>147                         </td><td>32.3                        </td><td>66                          </td><td>1.69                        </td><td>0.4                         </td><td>0.82                        </td><td>4.98                        </td><td>1                           </td></tr>\n",
       "\t<tr><th scope=row>9</th><td>North Africa and Middle East                                                            </td><td>Diarrhea, lower respiratory infections, meningitis, and other common infectious diseases</td><td>253                                                                                     </td><td>262.2                                                                                   </td><td>319                                                                                     </td><td>2.91                                                                                    </td><td>3.33                                                                                    </td><td>4.06                                                                                    </td><td>10.55                                                                                   </td><td>1                                                                                       </td></tr>\n",
       "\t<tr><th scope=row>10</th><td>North Africa and Middle East</td><td>Neonatal disorders          </td><td>181                         </td><td>213.1                       </td><td>366                         </td><td>2.08                        </td><td>2.68                        </td><td>4.56                        </td><td>10.06                       </td><td>1                           </td></tr>\n",
       "\t<tr><th scope=row>12</th><td>South Asia                                                                              </td><td>Diarrhea, lower respiratory infections, meningitis, and other common infectious diseases</td><td>357                                                                                     </td><td>308.8                                                                                   </td><td>353                                                                                     </td><td>7.36                                                                                    </td><td>7.04                                                                                    </td><td>8.06                                                                                    </td><td>21.43                                                                                   </td><td>1                                                                                       </td></tr>\n",
       "\t<tr><th scope=row>13</th><td>South Asia        </td><td>Neonatal disorders</td><td>86                </td><td>109.2             </td><td>195               </td><td>1.77              </td><td>2.46              </td><td>4.35              </td><td>16.52             </td><td>1                 </td></tr>\n",
       "\t<tr><th scope=row>14</th><td>South Asia  </td><td>Tuberculosis</td><td>54          </td><td>38.3        </td><td>54          </td><td>1.11        </td><td>0.86        </td><td>1.22        </td><td>3.87        </td><td>1           </td></tr>\n",
       "\t<tr><th scope=row>17</th><td>Southeast Asia, East Asia and Oceania</td><td>Tuberculosis                         </td><td>70                                   </td><td>51.3                                 </td><td>73                                   </td><td>0.73                                 </td><td>0.59                                 </td><td>0.84                                 </td><td>2.84                                 </td><td>1                                    </td></tr>\n",
       "\t<tr><th scope=row>18</th><td>Sub-Saharian Africa </td><td>Congenital anomalies</td><td>16                  </td><td>4.2                 </td><td>10                  </td><td>0.62                </td><td>0.18                </td><td>0.43                </td><td>1.33                </td><td>1                   </td></tr>\n",
       "\t<tr><th scope=row>19</th><td>Sub-Saharian Africa                                                                     </td><td>Diarrhea, lower respiratory infections, meningitis, and other common infectious diseases</td><td>150                                                                                     </td><td>130.7                                                                                   </td><td>152                                                                                     </td><td>5.8                                                                                     </td><td>5.8                                                                                     </td><td>6.74                                                                                    </td><td>22.93                                                                                   </td><td>1                                                                                       </td></tr>\n",
       "\t<tr><th scope=row>20</th><td>Sub-Saharian Africa</td><td>Neonatal disorders </td><td>40                 </td><td>50.5               </td><td>90                 </td><td>1.55               </td><td>2.22               </td><td>3.91               </td><td>11.58              </td><td>1                  </td></tr>\n",
       "\t<tr><th scope=row>2</th><td>Central Europe, Eastern Europe, and Central Asia</td><td>Neonatal disorders                              </td><td>38                                              </td><td>90.6                                            </td><td>187                                             </td><td>0.54                                            </td><td>1.48                                            </td><td>3.06                                            </td><td>2.56                                            </td><td>0                                               </td></tr>\n",
       "\t<tr><th scope=row>4</th><td>High-income       </td><td>Neonatal disorders</td><td>553               </td><td>1113.3            </td><td>2229.9            </td><td>0.82              </td><td>1.8               </td><td>3.59              </td><td>1.65              </td><td>0                 </td></tr>\n",
       "\t<tr><th scope=row>7</th><td>Latin America and Caribbean</td><td>Nutritional deficiencies   </td><td>78                         </td><td>65.9                       </td><td>99                         </td><td>1.64                       </td><td>1.55                       </td><td>2.31                       </td><td>3.76                       </td><td>0                          </td></tr>\n",
       "\t<tr><th scope=row>11</th><td>North Africa and Middle East</td><td>Nutritional deficiencies    </td><td>134                         </td><td>119.1                       </td><td>180                         </td><td>1.54                        </td><td>1.5                         </td><td>2.26                        </td><td>4.12                        </td><td>0                           </td></tr>\n",
       "\t<tr><th scope=row>15</th><td>Southeast Asia, East Asia and Oceania        </td><td>Neglected tropical diseases excluding malaria</td><td>65                                           </td><td>72.2                                         </td><td>95.1499999999996                             </td><td>0.67                                         </td><td>0.83                                         </td><td>1.1                                          </td><td>1.55                                         </td><td>0                                            </td></tr>\n",
       "\t<tr><th scope=row>16</th><td>Southeast Asia, East Asia and Oceania</td><td>Neonatal disorders                   </td><td>47                                   </td><td>132.3                                </td><td>279.299999999999                     </td><td>0.49                                 </td><td>1.53                                 </td><td>3.2                                  </td><td>6.06                                 </td><td>0                                    </td></tr>\n",
       "\t<tr><th scope=row>21</th><td>Sub-Saharian Africa                        </td><td>Sexually transmitted diseases excluding HIV</td><td>9                                          </td><td>40.8                                       </td><td>131                                        </td><td>0.35                                       </td><td>1.71                                       </td><td>5.67                                       </td><td>1.27                                       </td><td>0                                          </td></tr>\n",
       "</tbody>\n",
       "</table>\n"
      ],
      "text/latex": [
       "\\begin{tabular}{r|llllllllll}\n",
       "  & Region & Disease & RCT & SimMn\\_NbRCTs & Sim95\\_NbRCTs & Pr\\_RCT & SimMn\\_PrRCTs & Sim95\\_PrRCTs & Pr\\_GBD & Robust\\\\\n",
       "\\hline\n",
       "\t1 & Central Europe, Eastern Europe, and Central Asia & Cardiovascular and circulatory diseases          & 789                                              & 768.7                                            & 843                                              & 11.27                                            & 12.56                                            & 13.77                                            & 35.09                                            & 1                                               \\\\\n",
       "\t3 & Central Europe, Eastern Europe, and Central Asia & Tuberculosis                                     & 21                                               & 17.2                                             & 27                                               & 0.3                                              & 0.28                                             & 0.44                                             & 1.83                                             & 1                                               \\\\\n",
       "\t5 & Latin America and Caribbean & Congenital anomalies        & 55                          & 12.7                        & 27                          & 1.15                        & 0.3                         & 0.62                        & 3.13                        & 1                          \\\\\n",
       "\t6 & Latin America and Caribbean & Neonatal disorders          & 41                          & 75.4                        & 149                         & 0.86                        & 1.77                        & 3.47                        & 8.72                        & 1                          \\\\\n",
       "\t8 & North Africa and Middle East & Congenital anomalies         & 147                          & 32.3                         & 66                           & 1.69                         & 0.4                          & 0.82                         & 4.98                         & 1                           \\\\\n",
       "\t9 & North Africa and Middle East                                                             & Diarrhea, lower respiratory infections, meningitis, and other common infectious diseases & 253                                                                                      & 262.2                                                                                    & 319                                                                                      & 2.91                                                                                     & 3.33                                                                                     & 4.06                                                                                     & 10.55                                                                                    & 1                                                                                       \\\\\n",
       "\t10 & North Africa and Middle East & Neonatal disorders           & 181                          & 213.1                        & 366                          & 2.08                         & 2.68                         & 4.56                         & 10.06                        & 1                           \\\\\n",
       "\t12 & South Asia                                                                               & Diarrhea, lower respiratory infections, meningitis, and other common infectious diseases & 357                                                                                      & 308.8                                                                                    & 353                                                                                      & 7.36                                                                                     & 7.04                                                                                     & 8.06                                                                                     & 21.43                                                                                    & 1                                                                                       \\\\\n",
       "\t13 & South Asia         & Neonatal disorders & 86                 & 109.2              & 195                & 1.77               & 2.46               & 4.35               & 16.52              & 1                 \\\\\n",
       "\t14 & South Asia   & Tuberculosis & 54           & 38.3         & 54           & 1.11         & 0.86         & 1.22         & 3.87         & 1           \\\\\n",
       "\t17 & Southeast Asia, East Asia and Oceania & Tuberculosis                          & 70                                    & 51.3                                  & 73                                    & 0.73                                  & 0.59                                  & 0.84                                  & 2.84                                  & 1                                    \\\\\n",
       "\t18 & Sub-Saharian Africa  & Congenital anomalies & 16                   & 4.2                  & 10                   & 0.62                 & 0.18                 & 0.43                 & 1.33                 & 1                   \\\\\n",
       "\t19 & Sub-Saharian Africa                                                                      & Diarrhea, lower respiratory infections, meningitis, and other common infectious diseases & 150                                                                                      & 130.7                                                                                    & 152                                                                                      & 5.8                                                                                      & 5.8                                                                                      & 6.74                                                                                     & 22.93                                                                                    & 1                                                                                       \\\\\n",
       "\t20 & Sub-Saharian Africa & Neonatal disorders  & 40                  & 50.5                & 90                  & 1.55                & 2.22                & 3.91                & 11.58               & 1                  \\\\\n",
       "\t2 & Central Europe, Eastern Europe, and Central Asia & Neonatal disorders                               & 38                                               & 90.6                                             & 187                                              & 0.54                                             & 1.48                                             & 3.06                                             & 2.56                                             & 0                                               \\\\\n",
       "\t4 & High-income        & Neonatal disorders & 553                & 1113.3             & 2229.9             & 0.82               & 1.8                & 3.59               & 1.65               & 0                 \\\\\n",
       "\t7 & Latin America and Caribbean & Nutritional deficiencies    & 78                          & 65.9                        & 99                          & 1.64                        & 1.55                        & 2.31                        & 3.76                        & 0                          \\\\\n",
       "\t11 & North Africa and Middle East & Nutritional deficiencies     & 134                          & 119.1                        & 180                          & 1.54                         & 1.5                          & 2.26                         & 4.12                         & 0                           \\\\\n",
       "\t15 & Southeast Asia, East Asia and Oceania         & Neglected tropical diseases excluding malaria & 65                                            & 72.2                                          & 95.1499999999996                              & 0.67                                          & 0.83                                          & 1.1                                           & 1.55                                          & 0                                            \\\\\n",
       "\t16 & Southeast Asia, East Asia and Oceania & Neonatal disorders                    & 47                                    & 132.3                                 & 279.299999999999                      & 0.49                                  & 1.53                                  & 3.2                                   & 6.06                                  & 0                                    \\\\\n",
       "\t21 & Sub-Saharian Africa                         & Sexually transmitted diseases excluding HIV & 9                                           & 40.8                                        & 131                                         & 0.35                                        & 1.71                                        & 5.67                                        & 1.27                                        & 0                                          \\\\\n",
       "\\end{tabular}\n"
      ],
      "text/plain": [
       "                                             Region\n",
       "1  Central Europe, Eastern Europe, and Central Asia\n",
       "3  Central Europe, Eastern Europe, and Central Asia\n",
       "5                       Latin America and Caribbean\n",
       "6                       Latin America and Caribbean\n",
       "8                      North Africa and Middle East\n",
       "9                      North Africa and Middle East\n",
       "10                     North Africa and Middle East\n",
       "12                                       South Asia\n",
       "13                                       South Asia\n",
       "14                                       South Asia\n",
       "17            Southeast Asia, East Asia and Oceania\n",
       "18                              Sub-Saharian Africa\n",
       "19                              Sub-Saharian Africa\n",
       "20                              Sub-Saharian Africa\n",
       "2  Central Europe, Eastern Europe, and Central Asia\n",
       "4                                       High-income\n",
       "7                       Latin America and Caribbean\n",
       "11                     North Africa and Middle East\n",
       "15            Southeast Asia, East Asia and Oceania\n",
       "16            Southeast Asia, East Asia and Oceania\n",
       "21                              Sub-Saharian Africa\n",
       "                                                                                    Disease\n",
       "1                                                   Cardiovascular and circulatory diseases\n",
       "3                                                                              Tuberculosis\n",
       "5                                                                      Congenital anomalies\n",
       "6                                                                        Neonatal disorders\n",
       "8                                                                      Congenital anomalies\n",
       "9  Diarrhea, lower respiratory infections, meningitis, and other common infectious diseases\n",
       "10                                                                       Neonatal disorders\n",
       "12 Diarrhea, lower respiratory infections, meningitis, and other common infectious diseases\n",
       "13                                                                       Neonatal disorders\n",
       "14                                                                             Tuberculosis\n",
       "17                                                                             Tuberculosis\n",
       "18                                                                     Congenital anomalies\n",
       "19 Diarrhea, lower respiratory infections, meningitis, and other common infectious diseases\n",
       "20                                                                       Neonatal disorders\n",
       "2                                                                        Neonatal disorders\n",
       "4                                                                        Neonatal disorders\n",
       "7                                                                  Nutritional deficiencies\n",
       "11                                                                 Nutritional deficiencies\n",
       "15                                            Neglected tropical diseases excluding malaria\n",
       "16                                                                       Neonatal disorders\n",
       "21                                              Sexually transmitted diseases excluding HIV\n",
       "   RCT SimMn_NbRCTs Sim95_NbRCTs Pr_RCT SimMn_PrRCTs Sim95_PrRCTs Pr_GBD Robust\n",
       "1  789        768.7       843.00  11.27        12.56        13.77  35.09   TRUE\n",
       "3   21         17.2        27.00   0.30         0.28         0.44   1.83   TRUE\n",
       "5   55         12.7        27.00   1.15         0.30         0.62   3.13   TRUE\n",
       "6   41         75.4       149.00   0.86         1.77         3.47   8.72   TRUE\n",
       "8  147         32.3        66.00   1.69         0.40         0.82   4.98   TRUE\n",
       "9  253        262.2       319.00   2.91         3.33         4.06  10.55   TRUE\n",
       "10 181        213.1       366.00   2.08         2.68         4.56  10.06   TRUE\n",
       "12 357        308.8       353.00   7.36         7.04         8.06  21.43   TRUE\n",
       "13  86        109.2       195.00   1.77         2.46         4.35  16.52   TRUE\n",
       "14  54         38.3        54.00   1.11         0.86         1.22   3.87   TRUE\n",
       "17  70         51.3        73.00   0.73         0.59         0.84   2.84   TRUE\n",
       "18  16          4.2        10.00   0.62         0.18         0.43   1.33   TRUE\n",
       "19 150        130.7       152.00   5.80         5.80         6.74  22.93   TRUE\n",
       "20  40         50.5        90.00   1.55         2.22         3.91  11.58   TRUE\n",
       "2   38         90.6       187.00   0.54         1.48         3.06   2.56  FALSE\n",
       "4  553       1113.3      2229.90   0.82         1.80         3.59   1.65  FALSE\n",
       "7   78         65.9        99.00   1.64         1.55         2.31   3.76  FALSE\n",
       "11 134        119.1       180.00   1.54         1.50         2.26   4.12  FALSE\n",
       "15  65         72.2        95.15   0.67         0.83         1.10   1.55  FALSE\n",
       "16  47        132.3       279.30   0.49         1.53         3.20   6.06  FALSE\n",
       "21   9         40.8       131.00   0.35         1.71         5.67   1.27  FALSE"
      ]
     },
     "metadata": {},
     "output_type": "display_data"
    }
   ],
   "source": [
    "GAPS"
   ]
  },
  {
   "cell_type": "code",
   "execution_count": 64,
   "metadata": {
    "collapsed": true
   },
   "outputs": [],
   "source": [
    "write.csv(GAPS,'Tables/Gaps_RCTs_and_robustness.csv')"
   ]
  },
  {
   "cell_type": "code",
   "execution_count": null,
   "metadata": {
    "collapsed": true
   },
   "outputs": [],
   "source": []
  }
 ],
 "metadata": {
  "kernelspec": {
   "display_name": "R",
   "language": "R",
   "name": "ir"
  },
  "language_info": {
   "codemirror_mode": "r",
   "file_extension": ".r",
   "mimetype": "text/x-r-source",
   "name": "R",
   "pygments_lexer": "r",
   "version": "3.3.1"
  }
 },
 "nbformat": 4,
 "nbformat_minor": 1
}
