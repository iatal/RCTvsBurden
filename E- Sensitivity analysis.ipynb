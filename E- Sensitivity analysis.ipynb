{
 "cells": [
  {
   "cell_type": "markdown",
   "metadata": {
    "collapsed": true
   },
   "source": [
    "# Sensitivity analysis\n",
    "For research gaps found, we simulate what would have been the mapping of RCTs within regions across diseases if the misclassification of RCTs towards groups of diseases was corrected, given the sensitivities and specificities of the classifier to identify each group of disease.\n",
    "\n",
    "To estimate the performances of the classifier for each group of diseases, we dispose a test set with 2,763 trials manually classified towards the 27-class grouping of diseases used in this work. The test set is described at Atal et al. BMC Bioinformatics 2016.\n",
    "\n",
    "The method used is based on the method presented at Fox et al. Int J Epidemiol 2005.\n",
    "\n",
    "To do so, for each disease for which we found a local research gap we will:\n",
    "\n",
    "1. Calculating sensitivity and specificity of the classifier to identify the disease and other studies relevant to the burden of diseases, and the number of success and number of trials to derive beta distributions\n",
    "2. Doing N=60k times the following simulation\n",
    "    * Randomly choose a sens and spec based on beta distribution for identifying the disease and identifying another disease (no correlation between sens and spec, neither between disease and another disease both)\n",
    "    * Derive Positive and Negative Predictive Values (PPV and NPV) for each.\n",
    "    * Simulate the correction of the classification based on PPVs and NPVs\n",
    "    * Derive the proportion of RCTs concerning the disease among all RCTs concerning the burden of disease in the region\n",
    "3. Derive 95% upper-bond simulation interval of the proportion of RCTs concerning the disease among all RCTs concerning the burden of diseases"
   ]
  },
  {
   "cell_type": "markdown",
   "metadata": {},
   "source": [
    "## 1. Sensitivities and specificities based on test set"
   ]
  },
  {
   "cell_type": "code",
   "execution_count": null,
   "metadata": {
    "collapsed": false
   },
   "outputs": [],
   "source": [
    "test_set <- read.table(\"/media/igna/Elements/HotelDieu/Cochrane/MetaMapBurden/Paper_classifier/NCT_data_classified_to28cats.txt\")\n",
    "dim(test_set)"
   ]
  },
  {
   "cell_type": "code",
   "execution_count": null,
   "metadata": {
    "collapsed": false
   },
   "outputs": [],
   "source": [
    "#We supress injuries from trials concerning the burden of diseases\n",
    "test_set$GBDnp <- sapply(strsplit(as.character(test_set$GBDnp),\"&&\"),function(x){paste(x[x!=\"28\"],collapse=\"&\")})\n",
    "test_set$GBD28 <- sapply(strsplit(as.character(test_set$GBD28),\"&\"),function(x){paste(x[x!=\"28\"],collapse=\"&\")})"
   ]
  },
  {
   "cell_type": "code",
   "execution_count": null,
   "metadata": {
    "collapsed": true
   },
   "outputs": [],
   "source": [
    "tst <- strsplit(test_set$GBDnp,\"&\")\n",
    "alg <- strsplit(test_set$GBD28,\"&\")\n",
    "tst <- lapply(tst,as.numeric)\n",
    "alg <- lapply(alg,as.numeric)"
   ]
  },
  {
   "cell_type": "code",
   "execution_count": null,
   "metadata": {
    "collapsed": true
   },
   "outputs": [],
   "source": [
    "source('Evaluation_metrics.R')"
   ]
  },
  {
   "cell_type": "code",
   "execution_count": null,
   "metadata": {
    "collapsed": false
   },
   "outputs": [],
   "source": [
    "dis <- 1:27\n",
    "Mgbd <- read.table(\"/home/igna/Desktop/Programs GBD/Classifier_Trial_GBD/Databases/Taxonomy_DL/GBD_data/GBD_ICD.txt\")"
   ]
  },
  {
   "cell_type": "code",
   "execution_count": null,
   "metadata": {
    "collapsed": false,
    "scrolled": true
   },
   "outputs": [],
   "source": [
    "#For each category in 1:27, TP, TN, FP and FN of finding the disease and of finding another disease\n",
    "set.seed(7212)\n",
    "\n",
    "dis <- as.character(1:27)\n",
    "\n",
    "PERF_F  <- data.frame()\n",
    "for(i in dis){\n",
    "    ALG <- lapply(alg,function(x){rs <- c()\n",
    "                                  if(i%in%x) rs <- c(1)\n",
    "                                  if(sum(setdiff(dis,i)%in%x)!=0) rs <- c(rs,2)\n",
    "                                  return(rs)\n",
    "                                      })\n",
    "\n",
    "    DT <- lapply(tst,function(x){rs <- c()\n",
    "                                if(i%in%x) rs <- c(1)\n",
    "                                if(sum(setdiff(dis,i)%in%x)!=0) rs <- c(rs,2)\n",
    "                                return(rs)\n",
    "                                    })\n",
    "\n",
    "    CM <- conf_matrix(ALG,DT,c(1,2))\n",
    "\n",
    "    PERF <- c(CM[1,],CM[2,])\n",
    "    PERF_F <- rbind(PERF_F,PERF)\n",
    "}\n"
   ]
  },
  {
   "cell_type": "code",
   "execution_count": null,
   "metadata": {
    "collapsed": true
   },
   "outputs": [],
   "source": [
    "PERF_F <- data.frame(PERF_F)\n",
    "names(PERF_F) <- paste(rep(c(\"TP\",\"FP\",\"TN\",\"FN\"),2),rep(c(\"_Dis\",\"_Oth\"),each=4),sep=\"\")"
   ]
  },
  {
   "cell_type": "code",
   "execution_count": null,
   "metadata": {
    "collapsed": true
   },
   "outputs": [],
   "source": [
    "PERF_F$dis <- dis\n",
    "PERF_F$GBD <- Mgbd$cause_name[-28]"
   ]
  },
  {
   "cell_type": "code",
   "execution_count": null,
   "metadata": {
    "collapsed": false,
    "scrolled": true
   },
   "outputs": [],
   "source": [
    "PERF_F <- PERF_F[,c(9,10,1:8)]"
   ]
  },
  {
   "cell_type": "code",
   "execution_count": null,
   "metadata": {
    "collapsed": false
   },
   "outputs": [],
   "source": [
    "write.table(PERF_F,'/media/igna/Elements/HotelDieu/Cochrane/Mapping_Cancer/Incertitude_mapping/Sp_Sens_evaluation/Sens_and_Spec_per_27disease_data.txt')"
   ]
  },
  {
   "cell_type": "markdown",
   "metadata": {},
   "source": [
    "## 2. Simulating correction of misclassification"
   ]
  },
  {
   "cell_type": "code",
   "execution_count": 1,
   "metadata": {
    "collapsed": true
   },
   "outputs": [],
   "source": [
    "data <- read.table('/media/igna/Elements/HotelDieu/Cochrane/Mapping_Cancer/Flowchart/database_all_diseases_final_ok.txt')\n",
    "N <- nrow(data)"
   ]
  },
  {
   "cell_type": "code",
   "execution_count": 2,
   "metadata": {
    "collapsed": false
   },
   "outputs": [],
   "source": [
    "regs <- sort(unique(unlist(strsplit(as.character(data$Regions),\"&\"))))\n",
    "LR <- lapply(regs,function(x){1:nrow(data)%in%grep(x,data$Regions)})\n",
    "LR <- do.call('cbind',LR)"
   ]
  },
  {
   "cell_type": "code",
   "execution_count": 3,
   "metadata": {
    "collapsed": true
   },
   "outputs": [],
   "source": [
    "Lgbd <- lapply(as.character(data$GBD28),function(x){as.numeric(unlist(strsplit(x,\"&\")))})\n",
    "Lgbd <- lapply(Lgbd,function(x){x[x!=28]})"
   ]
  },
  {
   "cell_type": "code",
   "execution_count": 4,
   "metadata": {
    "collapsed": true
   },
   "outputs": [],
   "source": [
    "PERF <- read.table('/media/igna/Elements/HotelDieu/Cochrane/Mapping_Cancer/Incertitude_mapping/Sp_Sens_evaluation/Sens_and_Spec_per_27disease_data.txt')"
   ]
  },
  {
   "cell_type": "code",
   "execution_count": 5,
   "metadata": {
    "collapsed": false
   },
   "outputs": [],
   "source": [
    "GAPS <- read.table('/media/igna/Elements/HotelDieu/Cochrane/Mapping_Cancer/Tables/Local_research_gaps.txt')"
   ]
  },
  {
   "cell_type": "code",
   "execution_count": 6,
   "metadata": {
    "collapsed": false
   },
   "outputs": [],
   "source": [
    "#For each disease for which we found a gap, we will simulate the mapping across regions of trials concerning\n",
    "#the disease or concerning other diseases\n",
    "dis <- levels(GAPS$Disease)"
   ]
  },
  {
   "cell_type": "code",
   "execution_count": 7,
   "metadata": {
    "collapsed": true
   },
   "outputs": [],
   "source": [
    "#NK <- 60000\n",
    "NK <- 5000\n",
    "set.seed(7212)"
   ]
  },
  {
   "cell_type": "code",
   "execution_count": null,
   "metadata": {
    "collapsed": false,
    "scrolled": true
   },
   "outputs": [],
   "source": [
    "#For each disease\n",
    "t0 <- proc.time()\n",
    "\n",
    "for(g in dis){\n",
    "\n",
    "    PERF_g <- PERF[PERF$GBD==g,]\n",
    "    \n",
    "    #which trials concern the disease\n",
    "    is_dis <- sapply(Lgbd,function(x){PERF_g$dis%in%x})\n",
    "    #which trials concern another disease\n",
    "    is_oth <- sapply(Lgbd,function(x){sum(setdiff(1:27,PERF_g$dis)%in%x)>0})\n",
    "\n",
    "    #PPV et NPVs for finding the disease\n",
    "    sens_r <- PERF_g$TP_Dis\n",
    "    sens_n <- PERF_g$TP_Dis + PERF_g$FN_Dis\n",
    "    spec_r <- PERF_g$TN_Dis\n",
    "    spec_n <- PERF_g$TN_Dis + PERF_g$FP_Dis\n",
    "    sens <- rbeta(NK,sens_r+1,sens_n-sens_r+1)\n",
    "    spec <- rbeta(NK,spec_r+1,spec_n-spec_r+1)\n",
    "\n",
    "    a_dis <- sum(is_dis)\n",
    "    b_dis <- N-a_dis\n",
    "    As <- (a_dis-(1-spec)*N)/(sens - (1-spec))\n",
    "    Bs <- N-As\n",
    "    T1 <- sens*As\n",
    "    T0 <- spec*Bs\n",
    "    F1 <- (1-spec)*Bs\n",
    "    F0 <- (1-sens)*As\n",
    "    PPV_dis <- T1/(T1+F1)\n",
    "    NPV_dis <- T0/(T0+F0)\n",
    "\n",
    "    #PPV and NPVs for finding another disease\n",
    "    sens_r <- PERF_g$TP_Oth\n",
    "    sens_n <- PERF_g$TP_Oth + PERF_g$FN_Oth\n",
    "    spec_r <- PERF_g$TN_Oth\n",
    "    spec_n <- PERF_g$TN_Oth + PERF_g$FP_Oth\n",
    "    sens <- rbeta(NK,sens_r+1,sens_n-sens_r+1)\n",
    "    spec <- rbeta(NK,spec_r+1,spec_n-spec_r+1)\n",
    "\n",
    "    a_oth <- sum(is_oth)\n",
    "    b_oth <- N-a_oth\n",
    "    As <- (a_oth-(1-spec)*N)/(sens - (1-spec))\n",
    "    Bs <- N-As\n",
    "    T1 <- sens*As\n",
    "    T0 <- spec*Bs\n",
    "    F1 <- (1-spec)*Bs\n",
    "    F0 <- (1-sens)*As\n",
    "    PPV_oth <- T1/(T1+F1)\n",
    "    NPV_oth <- T0/(T0+F0)\n",
    "\n",
    "    #Some values of sens and spec may lead to impossible values of PPV or NPV (>1 or <0)\n",
    "    #If PPV_dis < 0 (and NPV_dis > 1), sens_dis and spec_dis are such that expected value\n",
    "    #of nb_trials concerning disease is negative. Suppressing that iteration is conservative\n",
    "    #if regard of our objective\n",
    "    #If PPV_dis > 1 (and NPV_dis < 0), suppressing that iteration is not conservative\n",
    "    #Similarly, if PPV_oth < 0 (and NPV_oth > 1), suppressing that iteration is conservative, and so on\n",
    "    #We count conservative and non conservative deleted iterations\n",
    "    #If more than 10% of iteration are deleted because they are not conservative, we can not conduct simulation\n",
    "    #Conservative iterations are suppressed, and no problem\n",
    "    cons_false_it <- PPV_dis<0 | NPV_dis>1 | PPV_oth>1 | NPV_oth<0\n",
    "    non_cons_false_it <- PPV_dis>1 | NPV_dis<0 | PPV_oth<0 | NPV_oth>1\n",
    "\n",
    "    if(sum(non_cons_false_it)>0.1*NK){ print(paste(c(g,\n",
    "                                                     \"has\", \n",
    "                                                     sum(non_cons_false_it), \n",
    "                                                     \"(too many) non conservative false iterations, and\",\n",
    "                                                     sum(cons_false_it),\n",
    "                                                     \"conservative false iterations\"\n",
    "                                                    ),collapse=\" \"))\n",
    "                          next\n",
    "                          }\n",
    "    \n",
    "    print(paste(c(g,\n",
    "                  \"has\",\n",
    "                  sum(non_cons_false_it),\n",
    "                  \"non conservative false iterations, and\",\n",
    "                  sum(cons_false_it),\n",
    "                  \"conservative false iterations\"\n",
    "                 ),collapse=\" \"))\n",
    "    \n",
    "    PPV_dis <- PPV_dis[!cons_false_it & !non_cons_false_it]\n",
    "    NPV_dis <- NPV_dis[!cons_false_it & !non_cons_false_it]\n",
    "    PPV_oth <- PPV_oth[!cons_false_it & !non_cons_false_it]\n",
    "    NPV_oth <- NPV_oth[!cons_false_it & !non_cons_false_it]\n",
    "\n",
    "    L <- list()\n",
    "    #Simulation: reclassifying each trial\n",
    "        for(k in 1:sum(!cons_false_it & !non_cons_false_it)){\n",
    "\n",
    "            AR <- matrix(0, nrow=length(regs), ncol=2)\n",
    "            tp_dis <- runif(a_dis)\n",
    "            tn_dis <- runif(b_dis)\n",
    "            recl_dis <- is_dis\n",
    "            recl_dis[recl_dis==TRUE][tp_dis>PPV_dis[k]] <- FALSE\n",
    "            recl_dis[recl_dis==FALSE][tn_dis>NPV_dis[k]] <- TRUE\n",
    "            #Rq: we count all trials (even those with more than 3 diseases)\n",
    "            #it is a conservative choice\n",
    "            rt <- as.numeric(recl_dis)\n",
    "\n",
    "            if(sum(recl_dis)==0) AR[,1] <- c(rep(0,7))\n",
    "            else{   if(sum(recl_dis)==1) AR[,1] <- as.numeric(LR[recl_dis,])\n",
    "                    else AR[,1] <- apply(LR[recl_dis,],2,sum)\n",
    "            }\n",
    "                \n",
    "            #Oth_dis\n",
    "            tp_oth <- runif(a_oth)\n",
    "            tn_oth <- runif(b_oth)\n",
    "            recl_oth <- is_oth\n",
    "            recl_oth[recl_oth==TRUE][tp_oth>PPV_oth[k]] <- FALSE\n",
    "            recl_oth[recl_oth==FALSE][tn_oth>NPV_oth[k]] <- TRUE\n",
    "            rt <- rt + as.numeric(recl_oth)\n",
    "\n",
    "            if(sum(recl_oth)==0) AR[,2] <- c(rep(0,7))\n",
    "            else{    if(sum(recl_oth)==1) AR[,2] <- as.numeric(LR[recl_oth,])\n",
    "                     else AR[,2] <- apply(LR[rt!=0,],2,sum)\n",
    "            }\n",
    "\n",
    "            L[[k]] <- AR\n",
    "\n",
    "        }\n",
    "   \n",
    "    T <- do.call('rbind',L)\n",
    "    write.table(T,paste(c(\"/media/igna/Elements/HotelDieu/Cochrane/Mapping_Cancer/Incertitude_mapping/Simulations/Res_simul27_\",as.character(PERF_g$dis),\".txt\"),collapse=\"\"))\n",
    "\n",
    "}\n",
    "\n",
    "t1 <- proc.time()\n",
    "    \n",
    "print(t1-t0)/60"
   ]
  },
  {
   "cell_type": "markdown",
   "metadata": {},
   "source": [
    "For 60,000 simulations it will take 20h approx"
   ]
  },
  {
   "cell_type": "markdown",
   "metadata": {},
   "source": [
    "## 3. Deriving 95% upper bound simulation intervals"
   ]
  },
  {
   "cell_type": "code",
   "execution_count": null,
   "metadata": {
    "collapsed": true
   },
   "outputs": [],
   "source": [
    "GAPS <- read.table('/media/igna/Elements/HotelDieu/Cochrane/Mapping_Cancer/Tables/Local_research_gaps.txt')"
   ]
  },
  {
   "cell_type": "code",
   "execution_count": null,
   "metadata": {
    "collapsed": true
   },
   "outputs": [],
   "source": [
    "regs <- levels(GAPS$Region)"
   ]
  },
  {
   "cell_type": "code",
   "execution_count": null,
   "metadata": {
    "collapsed": false
   },
   "outputs": [],
   "source": [
    "Mgbd <- read.table(\"/home/igna/Desktop/Programs GBD/Classifier_Trial_GBD/Databases/Taxonomy_DL/GBD_data/GBD_ICD.txt\")"
   ]
  },
  {
   "cell_type": "code",
   "execution_count": null,
   "metadata": {
    "collapsed": false
   },
   "outputs": [],
   "source": [
    "sims <- list.files(\"/media/igna/Elements/HotelDieu/Cochrane/Mapping_Cancer/Incertitude_mapping/Simulations\")"
   ]
  },
  {
   "cell_type": "code",
   "execution_count": null,
   "metadata": {
    "collapsed": true
   },
   "outputs": [],
   "source": [
    "#diseases for which we have a simulation\n",
    "dis <- as.character(Mgbd$cause_name[as.numeric(substr(sims,13,nchar(sims)-4))])"
   ]
  },
  {
   "cell_type": "code",
   "execution_count": null,
   "metadata": {
    "collapsed": true
   },
   "outputs": [],
   "source": [
    "GAPS$Sim_RCTs <- NA"
   ]
  },
  {
   "cell_type": "code",
   "execution_count": null,
   "metadata": {
    "collapsed": false
   },
   "outputs": [],
   "source": [
    "for(g in dis){\n",
    "\n",
    "    T <- tryCatch(read.table(paste(c(\"/media/igna/Elements/HotelDieu/Cochrane/Mapping_Cancer/Incertitude_mapping/Simulations/Res_simul27_\",\n",
    "                            as.character(which(Mgbd$cause_name==g)),\".txt\"),collapse=\"\")),error=NULL)\n",
    "\n",
    "    if(length(T)!=0){\n",
    "        M <- matrix(T[,1]/T[,2],ncol=7,byrow=TRUE)\n",
    "        SIM <- apply(M,2,function(x){quantile(x,0.95)})\n",
    "        SIM <- data.frame(SIM)\n",
    "        GAPS$Sim_RCTs[GAPS$Disease==g] <- SIM$SIM[regs%in%GAPS$Region[GAPS$Disease==g]]\n",
    "    }   \n",
    "}"
   ]
  },
  {
   "cell_type": "code",
   "execution_count": null,
   "metadata": {
    "collapsed": true
   },
   "outputs": [],
   "source": [
    "GAPS$Robust <- FALSE"
   ]
  },
  {
   "cell_type": "code",
   "execution_count": null,
   "metadata": {
    "collapsed": true
   },
   "outputs": [],
   "source": [
    "GAPS$Robust[2*GAPS$Sim_RCTs<GAPS$Pr_GBD] <- TRUE"
   ]
  },
  {
   "cell_type": "code",
   "execution_count": null,
   "metadata": {
    "collapsed": true
   },
   "outputs": [],
   "source": [
    "GAPS[,c(7,9,10)] <- round(100*GAPS[,c(7,9,10)],digits=2)"
   ]
  },
  {
   "cell_type": "code",
   "execution_count": null,
   "metadata": {
    "collapsed": false
   },
   "outputs": [],
   "source": [
    "GAPS[GAPS$Robust,c(4,3,7,10,9)]"
   ]
  },
  {
   "cell_type": "code",
   "execution_count": null,
   "metadata": {
    "collapsed": false
   },
   "outputs": [],
   "source": [
    "GAPS[!GAPS$Robust,c(4,3,7,10,9)]"
   ]
  },
  {
   "cell_type": "code",
   "execution_count": null,
   "metadata": {
    "collapsed": true
   },
   "outputs": [],
   "source": []
  }
 ],
 "metadata": {
  "kernelspec": {
   "display_name": "R",
   "language": "R",
   "name": "ir"
  },
  "language_info": {
   "codemirror_mode": "r",
   "file_extension": ".r",
   "mimetype": "text/x-r-source",
   "name": "R",
   "pygments_lexer": "r",
   "version": "3.3.1"
  }
 },
 "nbformat": 4,
 "nbformat_minor": 1
}
