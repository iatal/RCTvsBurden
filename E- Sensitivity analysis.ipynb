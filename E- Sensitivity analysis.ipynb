{
 "cells": [
  {
   "cell_type": "markdown",
   "metadata": {
    "collapsed": true
   },
   "source": [
    "# Sensitivity analysis\n",
    "For research gaps found, we simulate what would have been the mapping of RCTs within regions across diseases if the misclassification of RCTs towards groups of diseases was corrected, given the sensitivities and specificities of the classifier to identify each group of disease.\n",
    "\n",
    "To estimate the performances of the classifier for each group of diseases, we dispose a test set with 2,763 trials manually classified towards the 27-class grouping of diseases used in this work. The test set is described at Atal et al. BMC Bioinformatics 2016.\n",
    "\n",
    "The method used is based on the method presented at Fox et al. Int J Epidemiol 2005.\n",
    "\n",
    "To do so, for each disease for which we found a local research gap we will:\n",
    "\n",
    "1. Calculating sensitivity and specificity of the classifier to identify the disease and other studies relevant to the burden of diseases, and the number of success and number of trials to derive beta distributions\n",
    "2. Doing N=60k times the following simulation\n",
    "    * Randomly choose a sens and spec based on beta distribution for identifying the disease and identifying another disease (no correlation between sens and spec, neither between disease and another disease both)\n",
    "    * Derive Positive and Negative Predictive Values (PPV and NPV) for each.\n",
    "    * Simulate the correction of the classification based on PPVs and NPVs\n",
    "    * Derive the proportion of RCTs concerning the disease among all RCTs concerning the burden of disease in the region\n",
    "3. Derive 95% upper-bond simulation interval of the proportion of RCTs concerning the disease among all RCTs concerning the burden of diseases"
   ]
  },
  {
   "cell_type": "markdown",
   "metadata": {},
   "source": [
    "## 1. Sensitivities and specificities based on test set"
   ]
  },
  {
   "cell_type": "code",
   "execution_count": null,
   "metadata": {
    "collapsed": false
   },
   "outputs": [],
   "source": [
    "test_set <- read.table(\"/media/igna/Elements/HotelDieu/Cochrane/MetaMapBurden/Paper_classifier/NCT_data_classified_to28cats.txt\")\n",
    "dim(test_set)"
   ]
  },
  {
   "cell_type": "code",
   "execution_count": null,
   "metadata": {
    "collapsed": false
   },
   "outputs": [],
   "source": [
    "#We supress injuries from trials concerning the burden of diseases\n",
    "test_set$GBDnp <- sapply(strsplit(as.character(test_set$GBDnp),\"&&\"),function(x){paste(x[x!=\"28\"],collapse=\"&\")})\n",
    "test_set$GBD28 <- sapply(strsplit(as.character(test_set$GBD28),\"&\"),function(x){paste(x[x!=\"28\"],collapse=\"&\")})"
   ]
  },
  {
   "cell_type": "code",
   "execution_count": null,
   "metadata": {
    "collapsed": true
   },
   "outputs": [],
   "source": [
    "tst <- strsplit(test_set$GBDnp,\"&\")\n",
    "alg <- strsplit(test_set$GBD28,\"&\")\n",
    "tst <- lapply(tst,as.numeric)\n",
    "alg <- lapply(alg,as.numeric)"
   ]
  },
  {
   "cell_type": "code",
   "execution_count": null,
   "metadata": {
    "collapsed": true
   },
   "outputs": [],
   "source": [
    "source('Evaluation_metrics.R')"
   ]
  },
  {
   "cell_type": "code",
   "execution_count": null,
   "metadata": {
    "collapsed": false
   },
   "outputs": [],
   "source": [
    "dis <- 1:27\n",
    "Mgbd <- read.table(\"/home/igna/Desktop/Programs GBD/Classifier_Trial_GBD/Databases/Taxonomy_DL/GBD_data/GBD_ICD.txt\")"
   ]
  },
  {
   "cell_type": "code",
   "execution_count": null,
   "metadata": {
    "collapsed": false,
    "scrolled": true
   },
   "outputs": [],
   "source": [
    "#For each category in 1:27, TP, TN, FP and FN of finding the disease and of finding another disease\n",
    "set.seed(7212)\n",
    "\n",
    "dis <- as.character(1:27)\n",
    "\n",
    "PERF_F  <- data.frame()\n",
    "for(i in dis){\n",
    "    ALG <- lapply(alg,function(x){rs <- c()\n",
    "                                  if(i%in%x) rs <- c(1)\n",
    "                                  if(sum(setdiff(dis,i)%in%x)!=0) rs <- c(rs,2)\n",
    "                                  return(rs)\n",
    "                                      })\n",
    "\n",
    "    DT <- lapply(tst,function(x){rs <- c()\n",
    "                                if(i%in%x) rs <- c(1)\n",
    "                                if(sum(setdiff(dis,i)%in%x)!=0) rs <- c(rs,2)\n",
    "                                return(rs)\n",
    "                                    })\n",
    "\n",
    "    CM <- conf_matrix(ALG,DT,c(1,2))\n",
    "\n",
    "    PERF <- c(CM[1,],CM[2,])\n",
    "    PERF_F <- rbind(PERF_F,PERF)\n",
    "}\n"
   ]
  },
  {
   "cell_type": "code",
   "execution_count": null,
   "metadata": {
    "collapsed": true
   },
   "outputs": [],
   "source": [
    "PERF_F <- data.frame(PERF_F)\n",
    "names(PERF_F) <- paste(rep(c(\"TP\",\"FP\",\"TN\",\"FN\"),2),rep(c(\"_Dis\",\"_Oth\"),each=4),sep=\"\")"
   ]
  },
  {
   "cell_type": "code",
   "execution_count": null,
   "metadata": {
    "collapsed": true
   },
   "outputs": [],
   "source": [
    "PERF_F$dis <- dis\n",
    "PERF_F$GBD <- Mgbd$cause_name[-28]"
   ]
  },
  {
   "cell_type": "code",
   "execution_count": null,
   "metadata": {
    "collapsed": false,
    "scrolled": true
   },
   "outputs": [],
   "source": [
    "PERF_F <- PERF_F[,c(9,10,1:8)]"
   ]
  },
  {
   "cell_type": "code",
   "execution_count": null,
   "metadata": {
    "collapsed": false
   },
   "outputs": [],
   "source": [
    "write.table(PERF_F,'/media/igna/Elements/HotelDieu/Cochrane/Mapping_Cancer/Incertitude_mapping/Sp_Sens_evaluation/Sens_and_Spec_per_27disease_data.txt')"
   ]
  },
  {
   "cell_type": "markdown",
   "metadata": {},
   "source": [
    "## 2. Simulating correction of misclassification"
   ]
  },
  {
   "cell_type": "code",
   "execution_count": 1,
   "metadata": {
    "collapsed": true
   },
   "outputs": [],
   "source": [
    "data <- read.table('/media/igna/Elements/HotelDieu/Cochrane/Mapping_Cancer/Flowchart/database_all_diseases_final_ok.txt')\n",
    "N <- nrow(data)"
   ]
  },
  {
   "cell_type": "code",
   "execution_count": 2,
   "metadata": {
    "collapsed": false
   },
   "outputs": [],
   "source": [
    "regs <- sort(unique(unlist(strsplit(as.character(data$Regions),\"&\"))))\n",
    "LR <- lapply(regs,function(x){1:nrow(data)%in%grep(x,data$Regions)})\n",
    "LR <- do.call('cbind',LR)"
   ]
  },
  {
   "cell_type": "code",
   "execution_count": 3,
   "metadata": {
    "collapsed": true
   },
   "outputs": [],
   "source": [
    "Lgbd <- lapply(as.character(data$GBD28),function(x){as.numeric(unlist(strsplit(x,\"&\")))})\n",
    "Lgbd <- lapply(Lgbd,function(x){x[x!=28]})"
   ]
  },
  {
   "cell_type": "code",
   "execution_count": 4,
   "metadata": {
    "collapsed": true
   },
   "outputs": [],
   "source": [
    "PERF <- read.table('/media/igna/Elements/HotelDieu/Cochrane/Mapping_Cancer/Incertitude_mapping/Sp_Sens_evaluation/Sens_and_Spec_per_27disease_data.txt')"
   ]
  },
  {
   "cell_type": "code",
   "execution_count": 5,
   "metadata": {
    "collapsed": false
   },
   "outputs": [],
   "source": [
    "GAPS <- read.table('/media/igna/Elements/HotelDieu/Cochrane/Mapping_Cancer/Tables/Local_research_gaps.txt')"
   ]
  },
  {
   "cell_type": "code",
   "execution_count": 6,
   "metadata": {
    "collapsed": false
   },
   "outputs": [],
   "source": [
    "#For each disease for which we found a gap, we will simulate the mapping across regions of trials concerning\n",
    "#the disease or concerning other diseases\n",
    "dis <- levels(GAPS$Disease)"
   ]
  },
  {
   "cell_type": "code",
   "execution_count": 7,
   "metadata": {
    "collapsed": true
   },
   "outputs": [],
   "source": [
    "#NK <- 60000\n",
    "NK <- 5000\n",
    "set.seed(7212)"
   ]
  },
  {
   "cell_type": "code",
   "execution_count": 8,
   "metadata": {
    "collapsed": false,
    "scrolled": false
   },
   "outputs": [
    {
     "name": "stdout",
     "output_type": "stream",
     "text": [
      "[1] \"Cardiovascular and circulatory diseases has 0 non conservative false iterations, and 0 conservative false iterations\"\n",
      "[1] \"Congenital anomalies has 0 non conservative false iterations, and 693 conservative false iterations\"\n",
      "[1] \"Diarrhea, lower respiratory infections, meningitis, and other common infectious diseases has 0 non conservative false iterations, and 0 conservative false iterations\"\n",
      "[1] \"Neglected tropical diseases excluding malaria has 0 non conservative false iterations, and 2 conservative false iterations\"\n",
      "[1] \"Neonatal disorders has 0 non conservative false iterations, and 2 conservative false iterations\"\n",
      "[1] \"Nutritional deficiencies has 0 non conservative false iterations, and 1 conservative false iterations\"\n",
      "[1] \"Sexually transmitted diseases excluding HIV has 16 non conservative false iterations, and 505 conservative false iterations\"\n",
      "[1] \"Tuberculosis has 0 non conservative false iterations, and 37 conservative false iterations\"\n",
      "    user   system  elapsed \n",
      "2952.985    4.304 2969.081 \n"
     ]
    },
    {
     "data": {
      "text/plain": [
       "       user      system     elapsed \n",
       "49.21641667  0.07173333 49.48468333 "
      ]
     },
     "metadata": {},
     "output_type": "display_data"
    }
   ],
   "source": [
    "#For each disease\n",
    "t0 <- proc.time()\n",
    "\n",
    "for(g in dis){\n",
    "\n",
    "    PERF_g <- PERF[PERF$GBD==g,]\n",
    "    \n",
    "    #which trials concern the disease\n",
    "    is_dis <- sapply(Lgbd,function(x){PERF_g$dis%in%x})\n",
    "    #which trials concern another disease\n",
    "    is_oth <- sapply(Lgbd,function(x){sum(setdiff(1:27,PERF_g$dis)%in%x)>0})\n",
    "\n",
    "    #PPV et NPVs for finding the disease\n",
    "    sens_r <- PERF_g$TP_Dis\n",
    "    sens_n <- PERF_g$TP_Dis + PERF_g$FN_Dis\n",
    "    spec_r <- PERF_g$TN_Dis\n",
    "    spec_n <- PERF_g$TN_Dis + PERF_g$FP_Dis\n",
    "    sens <- rbeta(NK,sens_r+1,sens_n-sens_r+1)\n",
    "    spec <- rbeta(NK,spec_r+1,spec_n-spec_r+1)\n",
    "\n",
    "    a_dis <- sum(is_dis)\n",
    "    b_dis <- N-a_dis\n",
    "    As <- (a_dis-(1-spec)*N)/(sens - (1-spec))\n",
    "    Bs <- N-As\n",
    "    T1 <- sens*As\n",
    "    T0 <- spec*Bs\n",
    "    F1 <- (1-spec)*Bs\n",
    "    F0 <- (1-sens)*As\n",
    "    PPV_dis <- T1/(T1+F1)\n",
    "    NPV_dis <- T0/(T0+F0)\n",
    "\n",
    "    #PPV and NPVs for finding another disease\n",
    "    sens_r <- PERF_g$TP_Oth\n",
    "    sens_n <- PERF_g$TP_Oth + PERF_g$FN_Oth\n",
    "    spec_r <- PERF_g$TN_Oth\n",
    "    spec_n <- PERF_g$TN_Oth + PERF_g$FP_Oth\n",
    "    sens <- rbeta(NK,sens_r+1,sens_n-sens_r+1)\n",
    "    spec <- rbeta(NK,spec_r+1,spec_n-spec_r+1)\n",
    "\n",
    "    a_oth <- sum(is_oth)\n",
    "    b_oth <- N-a_oth\n",
    "    As <- (a_oth-(1-spec)*N)/(sens - (1-spec))\n",
    "    Bs <- N-As\n",
    "    T1 <- sens*As\n",
    "    T0 <- spec*Bs\n",
    "    F1 <- (1-spec)*Bs\n",
    "    F0 <- (1-sens)*As\n",
    "    PPV_oth <- T1/(T1+F1)\n",
    "    NPV_oth <- T0/(T0+F0)\n",
    "\n",
    "    #Some values of sens and spec may lead to impossible values of PPV or NPV (>1 or <0)\n",
    "    #If PPV_dis < 0 (and NPV_dis > 1), sens_dis and spec_dis are such that expected value\n",
    "    #of nb_trials concerning disease is negative. Suppressing that iteration is conservative\n",
    "    #if regard of our objective\n",
    "    #If PPV_dis > 1 (and NPV_dis < 0), suppressing that iteration is not conservative\n",
    "    #Similarly, if PPV_oth < 0 (and NPV_oth > 1), suppressing that iteration is conservative, and so on\n",
    "    #We count conservative and non conservative deleted iterations\n",
    "    #If more than 10% of iteration are deleted because they are not conservative, we can not conduct simulation\n",
    "    #Conservative iterations are suppressed, and no problem\n",
    "    cons_false_it <- PPV_dis<0 | NPV_dis>1 | PPV_oth>1 | NPV_oth<0\n",
    "    non_cons_false_it <- PPV_dis>1 | NPV_dis<0 | PPV_oth<0 | NPV_oth>1\n",
    "\n",
    "    if(sum(non_cons_false_it)>0.1*NK){ print(paste(c(g,\n",
    "                                                     \"has\", \n",
    "                                                     sum(non_cons_false_it), \n",
    "                                                     \"(too many) non conservative false iterations, and\",\n",
    "                                                     sum(cons_false_it),\n",
    "                                                     \"conservative false iterations\"\n",
    "                                                    ),collapse=\" \"))\n",
    "                          next\n",
    "                          }\n",
    "    \n",
    "    print(paste(c(g,\n",
    "                  \"has\",\n",
    "                  sum(non_cons_false_it),\n",
    "                  \"non conservative false iterations, and\",\n",
    "                  sum(cons_false_it),\n",
    "                  \"conservative false iterations\"\n",
    "                 ),collapse=\" \"))\n",
    "    \n",
    "    PPV_dis <- PPV_dis[!cons_false_it & !non_cons_false_it]\n",
    "    NPV_dis <- NPV_dis[!cons_false_it & !non_cons_false_it]\n",
    "    PPV_oth <- PPV_oth[!cons_false_it & !non_cons_false_it]\n",
    "    NPV_oth <- NPV_oth[!cons_false_it & !non_cons_false_it]\n",
    "\n",
    "    L <- list()\n",
    "    #Simulation: reclassifying each trial\n",
    "        for(k in 1:sum(!cons_false_it & !non_cons_false_it)){\n",
    "\n",
    "            AR <- matrix(0, nrow=length(regs), ncol=2)\n",
    "            tp_dis <- runif(a_dis)\n",
    "            tn_dis <- runif(b_dis)\n",
    "            recl_dis <- is_dis\n",
    "            recl_dis[recl_dis==TRUE][tp_dis>PPV_dis[k]] <- FALSE\n",
    "            recl_dis[recl_dis==FALSE][tn_dis>NPV_dis[k]] <- TRUE\n",
    "            #Rq: we count all trials (even those with more than 3 diseases)\n",
    "            #it is a conservative choice\n",
    "            rt <- as.numeric(recl_dis)\n",
    "\n",
    "            if(sum(recl_dis)==0) AR[,1] <- c(rep(0,7))\n",
    "            else{   if(sum(recl_dis)==1) AR[,1] <- as.numeric(LR[recl_dis,])\n",
    "                    else AR[,1] <- apply(LR[recl_dis,],2,sum)\n",
    "            }\n",
    "                \n",
    "            #Oth_dis\n",
    "            tp_oth <- runif(a_oth)\n",
    "            tn_oth <- runif(b_oth)\n",
    "            recl_oth <- is_oth\n",
    "            recl_oth[recl_oth==TRUE][tp_oth>PPV_oth[k]] <- FALSE\n",
    "            recl_oth[recl_oth==FALSE][tn_oth>NPV_oth[k]] <- TRUE\n",
    "            rt <- rt + as.numeric(recl_oth)\n",
    "\n",
    "            if(sum(recl_oth)==0) AR[,2] <- c(rep(0,7))\n",
    "            else{    if(sum(recl_oth)==1) AR[,2] <- as.numeric(LR[recl_oth,])\n",
    "                     else AR[,2] <- apply(LR[rt!=0,],2,sum)\n",
    "            }\n",
    "\n",
    "            L[[k]] <- AR\n",
    "\n",
    "        }\n",
    "   \n",
    "    T <- do.call('rbind',L)\n",
    "    write.table(T,paste(c(\"/media/igna/Elements/HotelDieu/Cochrane/Mapping_Cancer/Incertitude_mapping/Simulations/Res_simul27_\",as.character(PERF_g$dis),\".txt\"),collapse=\"\"))\n",
    "\n",
    "}\n",
    "\n",
    "t1 <- proc.time()\n",
    "    \n",
    "print(t1-t0)/60"
   ]
  },
  {
   "cell_type": "code",
   "execution_count": 11,
   "metadata": {
    "collapsed": false
   },
   "outputs": [
    {
     "data": {
      "text/html": [
       "9.8"
      ],
      "text/latex": [
       "9.8"
      ],
      "text/markdown": [
       "9.8"
      ],
      "text/plain": [
       "[1] 9.8"
      ]
     },
     "metadata": {},
     "output_type": "display_data"
    }
   ],
   "source": [
    "(49*60/5)/60"
   ]
  },
  {
   "cell_type": "markdown",
   "metadata": {},
   "source": [
    "For 60,000 simulations it will take 10h approx"
   ]
  },
  {
   "cell_type": "markdown",
   "metadata": {},
   "source": [
    "## 3. Deriving 95% upper bound simulation intervals"
   ]
  },
  {
   "cell_type": "code",
   "execution_count": 1,
   "metadata": {
    "collapsed": true
   },
   "outputs": [],
   "source": [
    "GAPS <- read.table('/media/igna/Elements/HotelDieu/Cochrane/Mapping_Cancer/Tables/Local_research_gaps.txt')"
   ]
  },
  {
   "cell_type": "code",
   "execution_count": 2,
   "metadata": {
    "collapsed": true
   },
   "outputs": [],
   "source": [
    "regs <- levels(GAPS$Region)"
   ]
  },
  {
   "cell_type": "code",
   "execution_count": 3,
   "metadata": {
    "collapsed": false
   },
   "outputs": [],
   "source": [
    "Mgbd <- read.table(\"/home/igna/Desktop/Programs GBD/Classifier_Trial_GBD/Databases/Taxonomy_DL/GBD_data/GBD_ICD.txt\")"
   ]
  },
  {
   "cell_type": "code",
   "execution_count": 4,
   "metadata": {
    "collapsed": false
   },
   "outputs": [],
   "source": [
    "sims <- list.files(\"/media/igna/Elements/HotelDieu/Cochrane/Mapping_Cancer/Incertitude_mapping/Simulations\")"
   ]
  },
  {
   "cell_type": "code",
   "execution_count": 5,
   "metadata": {
    "collapsed": true
   },
   "outputs": [],
   "source": [
    "#diseases for which we have a simulation\n",
    "dis <- as.character(Mgbd$cause_name[as.numeric(substr(sims,13,nchar(sims)-4))])"
   ]
  },
  {
   "cell_type": "code",
   "execution_count": 6,
   "metadata": {
    "collapsed": true
   },
   "outputs": [],
   "source": [
    "GAPS$Sim_RCTs <- NA"
   ]
  },
  {
   "cell_type": "code",
   "execution_count": 7,
   "metadata": {
    "collapsed": false
   },
   "outputs": [],
   "source": [
    "for(g in dis){\n",
    "\n",
    "    T <- tryCatch(read.table(paste(c(\"/media/igna/Elements/HotelDieu/Cochrane/Mapping_Cancer/Incertitude_mapping/Simulations/Res_simul27_\",\n",
    "                            as.character(which(Mgbd$cause_name==g)),\".txt\"),collapse=\"\")),error=NULL)\n",
    "\n",
    "    if(length(T)!=0){\n",
    "        M <- matrix(T[,1]/T[,2],ncol=7,byrow=TRUE)\n",
    "        SIM <- apply(M,2,function(x){quantile(x,0.95)})\n",
    "        SIM <- data.frame(SIM)\n",
    "        GAPS$Sim_RCTs[GAPS$Disease==g] <- SIM$SIM[regs%in%GAPS$Region[GAPS$Disease==g]]\n",
    "    }   \n",
    "}"
   ]
  },
  {
   "cell_type": "code",
   "execution_count": 8,
   "metadata": {
    "collapsed": true
   },
   "outputs": [],
   "source": [
    "GAPS$Robust <- FALSE"
   ]
  },
  {
   "cell_type": "code",
   "execution_count": 9,
   "metadata": {
    "collapsed": true
   },
   "outputs": [],
   "source": [
    "GAPS$Robust[2*GAPS$Sim_RCTs<GAPS$Pr_GBD] <- TRUE"
   ]
  },
  {
   "cell_type": "code",
   "execution_count": 10,
   "metadata": {
    "collapsed": true
   },
   "outputs": [],
   "source": [
    "GAPS[,c(7,9,10)] <- round(100*GAPS[,c(7,9,10)],digits=2)"
   ]
  },
  {
   "cell_type": "code",
   "execution_count": 11,
   "metadata": {
    "collapsed": false
   },
   "outputs": [
    {
     "data": {
      "text/html": [
       "<table>\n",
       "<thead><tr><th></th><th scope=col>Region</th><th scope=col>Disease</th><th scope=col>Pr_RCT</th><th scope=col>Sim_RCTs</th><th scope=col>Pr_GBD</th></tr></thead>\n",
       "<tbody>\n",
       "\t<tr><th scope=row>1</th><td>Central Europe, Eastern Europe, and Central Asia</td><td>Cardiovascular and circulatory diseases         </td><td>11.27                                           </td><td>13.77                                           </td><td>35.09                                           </td></tr>\n",
       "\t<tr><th scope=row>3</th><td>Central Europe, Eastern Europe, and Central Asia</td><td>Tuberculosis                                    </td><td>0.3                                             </td><td>0.44                                            </td><td>1.83                                            </td></tr>\n",
       "\t<tr><th scope=row>5</th><td>Latin America and Caribbean</td><td>Congenital anomalies       </td><td>1.15                       </td><td>0.62                       </td><td>3.13                       </td></tr>\n",
       "\t<tr><th scope=row>6</th><td>Latin America and Caribbean</td><td>Neonatal disorders         </td><td>0.86                       </td><td>3.47                       </td><td>8.72                       </td></tr>\n",
       "\t<tr><th scope=row>8</th><td>North Africa and Middle East</td><td>Congenital anomalies        </td><td>1.69                        </td><td>0.82                        </td><td>4.98                        </td></tr>\n",
       "\t<tr><th scope=row>9</th><td>North Africa and Middle East                                                            </td><td>Diarrhea, lower respiratory infections, meningitis, and other common infectious diseases</td><td>2.91                                                                                    </td><td>4.06                                                                                    </td><td>10.55                                                                                   </td></tr>\n",
       "\t<tr><th scope=row>10</th><td>North Africa and Middle East</td><td>Neonatal disorders          </td><td>2.08                        </td><td>4.56                        </td><td>10.06                       </td></tr>\n",
       "\t<tr><th scope=row>12</th><td>South Asia                                                                              </td><td>Diarrhea, lower respiratory infections, meningitis, and other common infectious diseases</td><td>7.36                                                                                    </td><td>8.06                                                                                    </td><td>21.43                                                                                   </td></tr>\n",
       "\t<tr><th scope=row>13</th><td>South Asia        </td><td>Neonatal disorders</td><td>1.77              </td><td>4.35              </td><td>16.52             </td></tr>\n",
       "\t<tr><th scope=row>14</th><td>South Asia  </td><td>Tuberculosis</td><td>1.11        </td><td>1.22        </td><td>3.87        </td></tr>\n",
       "\t<tr><th scope=row>17</th><td>Southeast Asia, East Asia and Oceania</td><td>Tuberculosis                         </td><td>0.73                                 </td><td>0.84                                 </td><td>2.84                                 </td></tr>\n",
       "\t<tr><th scope=row>18</th><td>Sub-Saharian Africa </td><td>Congenital anomalies</td><td>0.62                </td><td>0.43                </td><td>1.33                </td></tr>\n",
       "\t<tr><th scope=row>19</th><td>Sub-Saharian Africa                                                                     </td><td>Diarrhea, lower respiratory infections, meningitis, and other common infectious diseases</td><td>5.8                                                                                     </td><td>6.74                                                                                    </td><td>22.93                                                                                   </td></tr>\n",
       "\t<tr><th scope=row>20</th><td>Sub-Saharian Africa</td><td>Neonatal disorders </td><td>1.55               </td><td>3.91               </td><td>11.58              </td></tr>\n",
       "</tbody>\n",
       "</table>\n"
      ],
      "text/latex": [
       "\\begin{tabular}{r|lllll}\n",
       "  & Region & Disease & Pr\\_RCT & Sim\\_RCTs & Pr\\_GBD\\\\\n",
       "\\hline\n",
       "\t1 & Central Europe, Eastern Europe, and Central Asia & Cardiovascular and circulatory diseases          & 11.27                                            & 13.77                                            & 35.09                                           \\\\\n",
       "\t3 & Central Europe, Eastern Europe, and Central Asia & Tuberculosis                                     & 0.3                                              & 0.44                                             & 1.83                                            \\\\\n",
       "\t5 & Latin America and Caribbean & Congenital anomalies        & 1.15                        & 0.62                        & 3.13                       \\\\\n",
       "\t6 & Latin America and Caribbean & Neonatal disorders          & 0.86                        & 3.47                        & 8.72                       \\\\\n",
       "\t8 & North Africa and Middle East & Congenital anomalies         & 1.69                         & 0.82                         & 4.98                        \\\\\n",
       "\t9 & North Africa and Middle East                                                             & Diarrhea, lower respiratory infections, meningitis, and other common infectious diseases & 2.91                                                                                     & 4.06                                                                                     & 10.55                                                                                   \\\\\n",
       "\t10 & North Africa and Middle East & Neonatal disorders           & 2.08                         & 4.56                         & 10.06                       \\\\\n",
       "\t12 & South Asia                                                                               & Diarrhea, lower respiratory infections, meningitis, and other common infectious diseases & 7.36                                                                                     & 8.06                                                                                     & 21.43                                                                                   \\\\\n",
       "\t13 & South Asia         & Neonatal disorders & 1.77               & 4.35               & 16.52             \\\\\n",
       "\t14 & South Asia   & Tuberculosis & 1.11         & 1.22         & 3.87        \\\\\n",
       "\t17 & Southeast Asia, East Asia and Oceania & Tuberculosis                          & 0.73                                  & 0.84                                  & 2.84                                 \\\\\n",
       "\t18 & Sub-Saharian Africa  & Congenital anomalies & 0.62                 & 0.43                 & 1.33                \\\\\n",
       "\t19 & Sub-Saharian Africa                                                                      & Diarrhea, lower respiratory infections, meningitis, and other common infectious diseases & 5.8                                                                                      & 6.74                                                                                     & 22.93                                                                                   \\\\\n",
       "\t20 & Sub-Saharian Africa & Neonatal disorders  & 1.55                & 3.91                & 11.58              \\\\\n",
       "\\end{tabular}\n"
      ],
      "text/plain": [
       "                                             Region\n",
       "1  Central Europe, Eastern Europe, and Central Asia\n",
       "3  Central Europe, Eastern Europe, and Central Asia\n",
       "5                       Latin America and Caribbean\n",
       "6                       Latin America and Caribbean\n",
       "8                      North Africa and Middle East\n",
       "9                      North Africa and Middle East\n",
       "10                     North Africa and Middle East\n",
       "12                                       South Asia\n",
       "13                                       South Asia\n",
       "14                                       South Asia\n",
       "17            Southeast Asia, East Asia and Oceania\n",
       "18                              Sub-Saharian Africa\n",
       "19                              Sub-Saharian Africa\n",
       "20                              Sub-Saharian Africa\n",
       "                                                                                    Disease\n",
       "1                                                   Cardiovascular and circulatory diseases\n",
       "3                                                                              Tuberculosis\n",
       "5                                                                      Congenital anomalies\n",
       "6                                                                        Neonatal disorders\n",
       "8                                                                      Congenital anomalies\n",
       "9  Diarrhea, lower respiratory infections, meningitis, and other common infectious diseases\n",
       "10                                                                       Neonatal disorders\n",
       "12 Diarrhea, lower respiratory infections, meningitis, and other common infectious diseases\n",
       "13                                                                       Neonatal disorders\n",
       "14                                                                             Tuberculosis\n",
       "17                                                                             Tuberculosis\n",
       "18                                                                     Congenital anomalies\n",
       "19 Diarrhea, lower respiratory infections, meningitis, and other common infectious diseases\n",
       "20                                                                       Neonatal disorders\n",
       "   Pr_RCT Sim_RCTs Pr_GBD\n",
       "1   11.27    13.77  35.09\n",
       "3    0.30     0.44   1.83\n",
       "5    1.15     0.62   3.13\n",
       "6    0.86     3.47   8.72\n",
       "8    1.69     0.82   4.98\n",
       "9    2.91     4.06  10.55\n",
       "10   2.08     4.56  10.06\n",
       "12   7.36     8.06  21.43\n",
       "13   1.77     4.35  16.52\n",
       "14   1.11     1.22   3.87\n",
       "17   0.73     0.84   2.84\n",
       "18   0.62     0.43   1.33\n",
       "19   5.80     6.74  22.93\n",
       "20   1.55     3.91  11.58"
      ]
     },
     "metadata": {},
     "output_type": "display_data"
    }
   ],
   "source": [
    "GAPS[GAPS$Robust,c(4,3,7,10,9)]"
   ]
  },
  {
   "cell_type": "code",
   "execution_count": 12,
   "metadata": {
    "collapsed": false
   },
   "outputs": [
    {
     "data": {
      "text/html": [
       "<table>\n",
       "<thead><tr><th></th><th scope=col>Region</th><th scope=col>Disease</th><th scope=col>Pr_RCT</th><th scope=col>Sim_RCTs</th><th scope=col>Pr_GBD</th></tr></thead>\n",
       "<tbody>\n",
       "\t<tr><th scope=row>2</th><td>Central Europe, Eastern Europe, and Central Asia</td><td>Neonatal disorders                              </td><td>0.54                                            </td><td>3.06                                            </td><td>2.56                                            </td></tr>\n",
       "\t<tr><th scope=row>4</th><td>High-income       </td><td>Neonatal disorders</td><td>0.82              </td><td>3.59              </td><td>1.65              </td></tr>\n",
       "\t<tr><th scope=row>7</th><td>Latin America and Caribbean</td><td>Nutritional deficiencies   </td><td>1.64                       </td><td>2.31                       </td><td>3.76                       </td></tr>\n",
       "\t<tr><th scope=row>11</th><td>North Africa and Middle East</td><td>Nutritional deficiencies    </td><td>1.54                        </td><td>2.26                        </td><td>4.12                        </td></tr>\n",
       "\t<tr><th scope=row>15</th><td>Southeast Asia, East Asia and Oceania        </td><td>Neglected tropical diseases excluding malaria</td><td>0.67                                         </td><td>1.1                                          </td><td>1.55                                         </td></tr>\n",
       "\t<tr><th scope=row>16</th><td>Southeast Asia, East Asia and Oceania</td><td>Neonatal disorders                   </td><td>0.49                                 </td><td>3.2                                  </td><td>6.06                                 </td></tr>\n",
       "\t<tr><th scope=row>21</th><td>Sub-Saharian Africa                        </td><td>Sexually transmitted diseases excluding HIV</td><td>0.35                                       </td><td>5.67                                       </td><td>1.27                                       </td></tr>\n",
       "</tbody>\n",
       "</table>\n"
      ],
      "text/latex": [
       "\\begin{tabular}{r|lllll}\n",
       "  & Region & Disease & Pr\\_RCT & Sim\\_RCTs & Pr\\_GBD\\\\\n",
       "\\hline\n",
       "\t2 & Central Europe, Eastern Europe, and Central Asia & Neonatal disorders                               & 0.54                                             & 3.06                                             & 2.56                                            \\\\\n",
       "\t4 & High-income        & Neonatal disorders & 0.82               & 3.59               & 1.65              \\\\\n",
       "\t7 & Latin America and Caribbean & Nutritional deficiencies    & 1.64                        & 2.31                        & 3.76                       \\\\\n",
       "\t11 & North Africa and Middle East & Nutritional deficiencies     & 1.54                         & 2.26                         & 4.12                        \\\\\n",
       "\t15 & Southeast Asia, East Asia and Oceania         & Neglected tropical diseases excluding malaria & 0.67                                          & 1.1                                           & 1.55                                         \\\\\n",
       "\t16 & Southeast Asia, East Asia and Oceania & Neonatal disorders                    & 0.49                                  & 3.2                                   & 6.06                                 \\\\\n",
       "\t21 & Sub-Saharian Africa                         & Sexually transmitted diseases excluding HIV & 0.35                                        & 5.67                                        & 1.27                                       \\\\\n",
       "\\end{tabular}\n"
      ],
      "text/plain": [
       "                                             Region\n",
       "2  Central Europe, Eastern Europe, and Central Asia\n",
       "4                                       High-income\n",
       "7                       Latin America and Caribbean\n",
       "11                     North Africa and Middle East\n",
       "15            Southeast Asia, East Asia and Oceania\n",
       "16            Southeast Asia, East Asia and Oceania\n",
       "21                              Sub-Saharian Africa\n",
       "                                         Disease Pr_RCT Sim_RCTs Pr_GBD\n",
       "2                             Neonatal disorders   0.54     3.06   2.56\n",
       "4                             Neonatal disorders   0.82     3.59   1.65\n",
       "7                       Nutritional deficiencies   1.64     2.31   3.76\n",
       "11                      Nutritional deficiencies   1.54     2.26   4.12\n",
       "15 Neglected tropical diseases excluding malaria   0.67     1.10   1.55\n",
       "16                            Neonatal disorders   0.49     3.20   6.06\n",
       "21   Sexually transmitted diseases excluding HIV   0.35     5.67   1.27"
      ]
     },
     "metadata": {},
     "output_type": "display_data"
    }
   ],
   "source": [
    "GAPS[!GAPS$Robust,c(4,3,7,10,9)]"
   ]
  },
  {
   "cell_type": "code",
   "execution_count": null,
   "metadata": {
    "collapsed": true
   },
   "outputs": [],
   "source": []
  }
 ],
 "metadata": {
  "kernelspec": {
   "display_name": "R",
   "language": "R",
   "name": "ir"
  },
  "language_info": {
   "codemirror_mode": "r",
   "file_extension": ".r",
   "mimetype": "text/x-r-source",
   "name": "R",
   "pygments_lexer": "r",
   "version": "3.3.1"
  }
 },
 "nbformat": 4,
 "nbformat_minor": 1
}
