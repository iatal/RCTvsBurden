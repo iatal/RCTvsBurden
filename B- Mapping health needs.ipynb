{
 "cells": [
  {
   "cell_type": "markdown",
   "metadata": {},
   "source": [
    "# Mapping health needs\n",
    "Data from GBD 2010 study"
   ]
  },
  {
   "cell_type": "code",
   "execution_count": 1,
   "metadata": {
    "collapsed": false
   },
   "outputs": [
    {
     "data": {
      "text/html": [
       "<ol class=list-inline>\n",
       "\t<li>'causelevel1'</li>\n",
       "\t<li>'causelevel2'</li>\n",
       "\t<li>'causelevel3'</li>\n",
       "\t<li>'causelevel4'</li>\n",
       "\t<li>'causelevel5'</li>\n",
       "\t<li>'country_name'</li>\n",
       "\t<li>'region'</li>\n",
       "\t<li>'year'</li>\n",
       "\t<li>'nm_mean'</li>\n",
       "\t<li>'rt_mean'</li>\n",
       "\t<li>'Disease'</li>\n",
       "\t<li>'Sup_region'</li>\n",
       "</ol>\n"
      ],
      "text/latex": [
       "\\begin{enumerate*}\n",
       "\\item 'causelevel1'\n",
       "\\item 'causelevel2'\n",
       "\\item 'causelevel3'\n",
       "\\item 'causelevel4'\n",
       "\\item 'causelevel5'\n",
       "\\item 'country\\_name'\n",
       "\\item 'region'\n",
       "\\item 'year'\n",
       "\\item 'nm\\_mean'\n",
       "\\item 'rt\\_mean'\n",
       "\\item 'Disease'\n",
       "\\item 'Sup\\_region'\n",
       "\\end{enumerate*}\n"
      ],
      "text/markdown": [
       "1. 'causelevel1'\n",
       "2. 'causelevel2'\n",
       "3. 'causelevel3'\n",
       "4. 'causelevel4'\n",
       "5. 'causelevel5'\n",
       "6. 'country_name'\n",
       "7. 'region'\n",
       "8. 'year'\n",
       "9. 'nm_mean'\n",
       "10. 'rt_mean'\n",
       "11. 'Disease'\n",
       "12. 'Sup_region'\n",
       "\n",
       "\n"
      ],
      "text/plain": [
       " [1] \"causelevel1\"  \"causelevel2\"  \"causelevel3\"  \"causelevel4\"  \"causelevel5\" \n",
       " [6] \"country_name\" \"region\"       \"year\"         \"nm_mean\"      \"rt_mean\"     \n",
       "[11] \"Disease\"      \"Sup_region\"  "
      ]
     },
     "metadata": {},
     "output_type": "display_data"
    }
   ],
   "source": [
    "setwd('/media/igna/Elements/HotelDieu/Cochrane')\n",
    "\n",
    "GBD <- read.table(\"Mapping_Cancer/Tables/GBD_data_per_country_and_28_diseases_2005.txt\")\n",
    "names(GBD)\n"
   ]
  },
  {
   "cell_type": "code",
   "execution_count": 2,
   "metadata": {
    "collapsed": true
   },
   "outputs": [],
   "source": [
    "dis <- levels(GBD$Dis)\n",
    "reg <- levels(GBD$Sup_reg)\n",
    "\n",
    "S <- tapply(GBD$nm_mean,paste(GBD$Sup_region,GBD$Disease,sep=\"&\"),sum)\n",
    "L <- strsplit(names(S),\"&\")\n",
    "\n",
    "M <- matrix(NA,ncol=length(reg),nrow=length(dis))\n",
    "\n",
    "for(i in 1:length(S)){\n",
    "M[dis==L[[i]][2],reg==L[[i]][1]] <- S[i]\n",
    "}\n",
    "\n",
    "M <- data.frame(M)\n",
    "names(M) <- reg\n",
    "rownames(M) <- dis\n",
    "\n",
    "M$Tot <- apply(M,1,function(x){sum(x[!is.na(x)])})\n",
    "\n",
    "write.table(M,\"Mapping_Cancer/Tables/GBD_data_per_region_and_28_diseases_2005.txt\")"
   ]
  },
  {
   "cell_type": "code",
   "execution_count": 3,
   "metadata": {
    "collapsed": false
   },
   "outputs": [
    {
     "data": {
      "text/html": [
       "<table>\n",
       "<thead><tr><th></th><th scope=col>Central Europe, Eastern Europe, and Central Asia</th><th scope=col>High-income</th><th scope=col>Latin America and Caribbean</th><th scope=col>North Africa and Middle East</th><th scope=col>South Asia</th><th scope=col>Southeast Asia, East Asia and Oceania</th><th scope=col>Sub-Saharian Africa</th><th scope=col>Tot</th></tr></thead>\n",
       "<tbody>\n",
       "\t<tr><th scope=row>Cardiovascular and circulatory diseases</th><td> 53161407</td><td> 43545779</td><td> 15012902</td><td> 19214033</td><td> 56395260</td><td> 81711420</td><td> 18363310</td><td>287404109</td></tr>\n",
       "\t<tr><th scope=row>Chronic respiratory diseases</th><td>  5644608</td><td> 13641980</td><td>  5500905</td><td>  4781865</td><td> 38910999</td><td> 31793866</td><td> 12211132</td><td>112485355</td></tr>\n",
       "\t<tr><th scope=row>Cirrhosis of the liver</th><td> 4090337</td><td> 3995636</td><td> 2376422</td><td> 1471645</td><td> 7748645</td><td> 7368063</td><td> 3411973</td><td>30462721</td></tr>\n",
       "\t<tr><th scope=row>Congenital anomalies</th><td> 2079423</td><td> 2296894</td><td> 3617508</td><td> 5091068</td><td>12842242</td><td>10039357</td><td> 7288013</td><td>43254504</td></tr>\n",
       "\t<tr><th scope=row>Diabetes, urinary diseases and male infertility</th><td> 5049825</td><td>12338425</td><td> 6866404</td><td> 4671200</td><td>18349709</td><td>21111320</td><td> 7434597</td><td>75821480</td></tr>\n",
       "\t<tr><th scope=row>Diarrhea, lower respiratory infections, meningitis, and other common infectious diseases</th><td>  7281616</td><td>  6847691</td><td> 10635120</td><td> 10785476</td><td>130854936</td><td> 37348849</td><td>125531848</td><td>329285537</td></tr>\n",
       "</tbody>\n",
       "</table>\n"
      ],
      "text/latex": [
       "\\begin{tabular}{r|llllllll}\n",
       "  & Central Europe, Eastern Europe, and Central Asia & High-income & Latin America and Caribbean & North Africa and Middle East & South Asia & Southeast Asia, East Asia and Oceania & Sub-Saharian Africa & Tot\\\\\n",
       "\\hline\n",
       "\tCardiovascular and circulatory diseases &  53161407 &  43545779 &  15012902 &  19214033 &  56395260 &  81711420 &  18363310 & 287404109\\\\\n",
       "\tChronic respiratory diseases &   5644608 &  13641980 &   5500905 &   4781865 &  38910999 &  31793866 &  12211132 & 112485355\\\\\n",
       "\tCirrhosis of the liver &  4090337 &  3995636 &  2376422 &  1471645 &  7748645 &  7368063 &  3411973 & 30462721\\\\\n",
       "\tCongenital anomalies &  2079423 &  2296894 &  3617508 &  5091068 & 12842242 & 10039357 &  7288013 & 43254504\\\\\n",
       "\tDiabetes, urinary diseases and male infertility &  5049825 & 12338425 &  6866404 &  4671200 & 18349709 & 21111320 &  7434597 & 75821480\\\\\n",
       "\tDiarrhea, lower respiratory infections, meningitis, and other common infectious diseases &   7281616 &   6847691 &  10635120 &  10785476 & 130854936 &  37348849 & 125531848 & 329285537\\\\\n",
       "\\end{tabular}\n"
      ],
      "text/plain": [
       "                                                                                         Central Europe, Eastern Europe, and Central Asia\n",
       "Cardiovascular and circulatory diseases                                                                                          53161407\n",
       "Chronic respiratory diseases                                                                                                      5644608\n",
       "Cirrhosis of the liver                                                                                                            4090337\n",
       "Congenital anomalies                                                                                                              2079423\n",
       "Diabetes, urinary diseases and male infertility                                                                                   5049825\n",
       "Diarrhea, lower respiratory infections, meningitis, and other common infectious diseases                                          7281616\n",
       "                                                                                         High-income\n",
       "Cardiovascular and circulatory diseases                                                     43545779\n",
       "Chronic respiratory diseases                                                                13641980\n",
       "Cirrhosis of the liver                                                                       3995636\n",
       "Congenital anomalies                                                                         2296894\n",
       "Diabetes, urinary diseases and male infertility                                             12338425\n",
       "Diarrhea, lower respiratory infections, meningitis, and other common infectious diseases     6847691\n",
       "                                                                                         Latin America and Caribbean\n",
       "Cardiovascular and circulatory diseases                                                                     15012902\n",
       "Chronic respiratory diseases                                                                                 5500905\n",
       "Cirrhosis of the liver                                                                                       2376422\n",
       "Congenital anomalies                                                                                         3617508\n",
       "Diabetes, urinary diseases and male infertility                                                              6866404\n",
       "Diarrhea, lower respiratory infections, meningitis, and other common infectious diseases                    10635120\n",
       "                                                                                         North Africa and Middle East\n",
       "Cardiovascular and circulatory diseases                                                                      19214033\n",
       "Chronic respiratory diseases                                                                                  4781865\n",
       "Cirrhosis of the liver                                                                                        1471645\n",
       "Congenital anomalies                                                                                          5091068\n",
       "Diabetes, urinary diseases and male infertility                                                               4671200\n",
       "Diarrhea, lower respiratory infections, meningitis, and other common infectious diseases                     10785476\n",
       "                                                                                         South Asia\n",
       "Cardiovascular and circulatory diseases                                                    56395260\n",
       "Chronic respiratory diseases                                                               38910999\n",
       "Cirrhosis of the liver                                                                      7748645\n",
       "Congenital anomalies                                                                       12842242\n",
       "Diabetes, urinary diseases and male infertility                                            18349709\n",
       "Diarrhea, lower respiratory infections, meningitis, and other common infectious diseases  130854936\n",
       "                                                                                         Southeast Asia, East Asia and Oceania\n",
       "Cardiovascular and circulatory diseases                                                                               81711420\n",
       "Chronic respiratory diseases                                                                                          31793866\n",
       "Cirrhosis of the liver                                                                                                 7368063\n",
       "Congenital anomalies                                                                                                  10039357\n",
       "Diabetes, urinary diseases and male infertility                                                                       21111320\n",
       "Diarrhea, lower respiratory infections, meningitis, and other common infectious diseases                              37348849\n",
       "                                                                                         Sub-Saharian Africa\n",
       "Cardiovascular and circulatory diseases                                                             18363310\n",
       "Chronic respiratory diseases                                                                        12211132\n",
       "Cirrhosis of the liver                                                                               3411973\n",
       "Congenital anomalies                                                                                 7288013\n",
       "Diabetes, urinary diseases and male infertility                                                      7434597\n",
       "Diarrhea, lower respiratory infections, meningitis, and other common infectious diseases           125531848\n",
       "                                                                                               Tot\n",
       "Cardiovascular and circulatory diseases                                                  287404109\n",
       "Chronic respiratory diseases                                                             112485355\n",
       "Cirrhosis of the liver                                                                    30462721\n",
       "Congenital anomalies                                                                      43254504\n",
       "Diabetes, urinary diseases and male infertility                                           75821480\n",
       "Diarrhea, lower respiratory infections, meningitis, and other common infectious diseases 329285537"
      ]
     },
     "metadata": {},
     "output_type": "display_data"
    }
   ],
   "source": [
    "head(M)"
   ]
  },
  {
   "cell_type": "code",
   "execution_count": 4,
   "metadata": {
    "collapsed": false
   },
   "outputs": [
    {
     "data": {
      "text/html": [
       "<ol class=list-inline>\n",
       "\t<li>28</li>\n",
       "\t<li>8</li>\n",
       "</ol>\n"
      ],
      "text/latex": [
       "\\begin{enumerate*}\n",
       "\\item 28\n",
       "\\item 8\n",
       "\\end{enumerate*}\n"
      ],
      "text/markdown": [
       "1. 28\n",
       "2. 8\n",
       "\n",
       "\n"
      ],
      "text/plain": [
       "[1] 28  8"
      ]
     },
     "metadata": {},
     "output_type": "display_data"
    },
    {
     "data": {
      "text/html": [
       "<ol class=list-inline>\n",
       "\t<li>'Region'</li>\n",
       "\t<li>'Tot'</li>\n",
       "\t<li>'Chronic'</li>\n",
       "\t<li>'Neoplasms'</li>\n",
       "\t<li>'Infectious'</li>\n",
       "\t<li>'MNN'</li>\n",
       "\t<li>'Oth_cat'</li>\n",
       "\t<li>'No_GBD'</li>\n",
       "\t<li>'year'</li>\n",
       "</ol>\n"
      ],
      "text/latex": [
       "\\begin{enumerate*}\n",
       "\\item 'Region'\n",
       "\\item 'Tot'\n",
       "\\item 'Chronic'\n",
       "\\item 'Neoplasms'\n",
       "\\item 'Infectious'\n",
       "\\item 'MNN'\n",
       "\\item 'Oth\\_cat'\n",
       "\\item 'No\\_GBD'\n",
       "\\item 'year'\n",
       "\\end{enumerate*}\n"
      ],
      "text/markdown": [
       "1. 'Region'\n",
       "2. 'Tot'\n",
       "3. 'Chronic'\n",
       "4. 'Neoplasms'\n",
       "5. 'Infectious'\n",
       "6. 'MNN'\n",
       "7. 'Oth_cat'\n",
       "8. 'No_GBD'\n",
       "9. 'year'\n",
       "\n",
       "\n"
      ],
      "text/plain": [
       "[1] \"Region\"     \"Tot\"        \"Chronic\"    \"Neoplasms\"  \"Infectious\"\n",
       "[6] \"MNN\"        \"Oth_cat\"    \"No_GBD\"     \"year\"      "
      ]
     },
     "metadata": {},
     "output_type": "display_data"
    },
    {
     "data": {
      "text/html": [
       "<table>\n",
       "<thead><tr><th></th><th scope=col>Region</th><th scope=col>Tot</th><th scope=col>Chronic</th><th scope=col>Neoplasms</th><th scope=col>Infectious</th><th scope=col>MNN</th><th scope=col>Oth_cat</th><th scope=col>No_GBD</th><th scope=col>year</th></tr></thead>\n",
       "<tbody>\n",
       "\t<tr><th scope=row>5</th><td>South Asia     </td><td>697.80303841399</td><td>179.7802647762 </td><td>22.858405613   </td><td>189.87788439026</td><td>141.16963043613</td><td>155.3808302784 </td><td>8.73602292     </td><td>2005           </td></tr>\n",
       "\t<tr><th scope=row>7</th><td>Sub-Saharian Africa</td><td>596.582826844082   </td><td>75.735228049432    </td><td>9.55703834615      </td><td>322.082215372734   </td><td>105.96421235067    </td><td>74.663669324096    </td><td>8.580463401        </td><td>2005               </td></tr>\n",
       "\t<tr><th scope=row>6</th><td>Southeast Asia, East Asia and Oceania</td><td>529.490064010115                     </td><td>196.380486711291                     </td><td>65.73905751199                       </td><td>69.9214090804583                     </td><td>39.6395935996662                     </td><td>153.72809400671                      </td><td>4.0814231                            </td><td>2005                                 </td></tr>\n",
       "\t<tr><th scope=row>2</th><td>High-income     </td><td>259.415724301473</td><td>139.11925831137 </td><td>43.29828369423  </td><td>9.13335771904556</td><td>5.137103610761  </td><td>60.684831275766 </td><td>2.0428896903    </td><td>2005            </td></tr>\n",
       "\t<tr><th scope=row>1</th><td>Central Europe, Eastern Europe, and Central Asia</td><td>177.132061289357                                </td><td>83.15488645187                                  </td><td>19.507980928                                    </td><td>13.1877235074411                                </td><td>6.157954269146                                  </td><td>54.5541020329                                   </td><td>0.5694141                                       </td><td>2005                                            </td></tr>\n",
       "\t<tr><th scope=row>3</th><td>Latin America and Caribbean</td><td>135.961356566376           </td><td>54.567157278174            </td><td>9.69736505098              </td><td>17.6332723599138           </td><td>14.8850908284083           </td><td>37.9190546961              </td><td>1.2594163528               </td><td>2005                       </td></tr>\n",
       "</tbody>\n",
       "</table>\n"
      ],
      "text/latex": [
       "\\begin{tabular}{r|lllllllll}\n",
       "  & Region & Tot & Chronic & Neoplasms & Infectious & MNN & Oth\\_cat & No\\_GBD & year\\\\\n",
       "\\hline\n",
       "\t5 & South Asia      & 697.80303841399 & 179.7802647762  & 22.858405613    & 189.87788439026 & 141.16963043613 & 155.3808302784  & 8.73602292      & 2005           \\\\\n",
       "\t7 & Sub-Saharian Africa & 596.582826844082    & 75.735228049432     & 9.55703834615       & 322.082215372734    & 105.96421235067     & 74.663669324096     & 8.580463401         & 2005               \\\\\n",
       "\t6 & Southeast Asia, East Asia and Oceania & 529.490064010115                      & 196.380486711291                      & 65.73905751199                        & 69.9214090804583                      & 39.6395935996662                      & 153.72809400671                       & 4.0814231                             & 2005                                 \\\\\n",
       "\t2 & High-income      & 259.415724301473 & 139.11925831137  & 43.29828369423   & 9.13335771904556 & 5.137103610761   & 60.684831275766  & 2.0428896903     & 2005            \\\\\n",
       "\t1 & Central Europe, Eastern Europe, and Central Asia & 177.132061289357                                 & 83.15488645187                                   & 19.507980928                                     & 13.1877235074411                                 & 6.157954269146                                   & 54.5541020329                                    & 0.5694141                                        & 2005                                            \\\\\n",
       "\t3 & Latin America and Caribbean & 135.961356566376            & 54.567157278174             & 9.69736505098               & 17.6332723599138            & 14.8850908284083            & 37.9190546961               & 1.2594163528                & 2005                       \\\\\n",
       "\\end{tabular}\n"
      ],
      "text/plain": [
       "                                            Region      Tot   Chronic Neoplasms\n",
       "5                                       South Asia 697.8030 179.78026 22.858406\n",
       "7                              Sub-Saharian Africa 596.5828  75.73523  9.557038\n",
       "6            Southeast Asia, East Asia and Oceania 529.4901 196.38049 65.739058\n",
       "2                                      High-income 259.4157 139.11926 43.298284\n",
       "1 Central Europe, Eastern Europe, and Central Asia 177.1321  83.15489 19.507981\n",
       "3                      Latin America and Caribbean 135.9614  54.56716  9.697365\n",
       "  Infectious        MNN   Oth_cat    No_GBD year\n",
       "5 189.877884 141.169630 155.38083 8.7360229 2005\n",
       "7 322.082215 105.964212  74.66367 8.5804634 2005\n",
       "6  69.921409  39.639594 153.72809 4.0814231 2005\n",
       "2   9.133358   5.137104  60.68483 2.0428897 2005\n",
       "1  13.187724   6.157954  54.55410 0.5694141 2005\n",
       "3  17.633272  14.885091  37.91905 1.2594164 2005"
      ]
     },
     "metadata": {},
     "output_type": "display_data"
    }
   ],
   "source": [
    "#In the 28 groups of diseases, were already supressed Other infectious diseases and Other endocrine...\n",
    "dim(M)\n",
    "#Database with the total burden (all disease) per region\n",
    "#We verify the share of the two residual categories among total burden and among diseases\n",
    "\n",
    "GBT <- read.table(\"Mapping_Cancer/Tables/Nb_DALYs_per_region_and_disease_all_periods.txt\")\n",
    "names(GBT)\n",
    "head(GBT)"
   ]
  },
  {
   "cell_type": "code",
   "execution_count": 5,
   "metadata": {
    "collapsed": false
   },
   "outputs": [
    {
     "data": {
      "text/html": [
       "0.0105976807761449"
      ],
      "text/latex": [
       "0.0105976807761449"
      ],
      "text/markdown": [
       "0.0105976807761449"
      ],
      "text/plain": [
       "[1] 0.01059768"
      ]
     },
     "metadata": {},
     "output_type": "display_data"
    }
   ],
   "source": [
    "1-sum(M$Tot)/(sum(GBT$Tot[GBT$year==2005])*1e6)"
   ]
  },
  {
   "cell_type": "markdown",
   "metadata": {},
   "source": [
    "Ok, less than 1.1% of the global total burden in 2005"
   ]
  },
  {
   "cell_type": "code",
   "execution_count": 6,
   "metadata": {
    "collapsed": false
   },
   "outputs": [
    {
     "data": {
      "text/html": [
       "0.0118506603297894"
      ],
      "text/latex": [
       "0.0118506603297894"
      ],
      "text/markdown": [
       "0.0118506603297894"
      ],
      "text/plain": [
       "[1] 0.01185066"
      ]
     },
     "metadata": {},
     "output_type": "display_data"
    }
   ],
   "source": [
    "#Share of Other categories among diseases (no Injuries) and across regions\n",
    "Oth_cat_gbd <- sum(GBT$Tot[GBT$year==2005])*1e6 - sum(M$Tot)\n",
    "GBD_diseases <- sum(GBT$Tot[GBT$year==2005])*1e6 - sum(M$Tot[rownames(M)==\"Injuries\"])\n",
    "Oth_cat_gbd/GBD_diseases"
   ]
  },
  {
   "cell_type": "markdown",
   "metadata": {},
   "source": [
    "Ok, less than 1.2% of the burden of diseases (no Injuries)"
   ]
  },
  {
   "cell_type": "code",
   "execution_count": 7,
   "metadata": {
    "collapsed": false
   },
   "outputs": [
    {
     "data": {
      "text/html": [
       "<table>\n",
       "<thead><tr><th></th><th scope=col>Central Europe, Eastern Europe, and Central Asia</th><th scope=col>High-income</th><th scope=col>Latin America and Caribbean</th><th scope=col>North Africa and Middle East</th><th scope=col>South Asia</th><th scope=col>Southeast Asia, East Asia and Oceania</th><th scope=col>Sub-Saharian Africa</th></tr></thead>\n",
       "<tbody>\n",
       "\t<tr><th scope=row>Injuries</th><td>0.3743995</td><td>0.8745466</td><td>1.0785740</td><td>1.3076612</td><td>1.4102916</td><td>0.8776721</td><td>1.5428734</td></tr>\n",
       "</tbody>\n",
       "</table>\n"
      ],
      "text/latex": [
       "\\begin{tabular}{r|lllllll}\n",
       "  & Central Europe, Eastern Europe, and Central Asia & High-income & Latin America and Caribbean & North Africa and Middle East & South Asia & Southeast Asia, East Asia and Oceania & Sub-Saharian Africa\\\\\n",
       "\\hline\n",
       "\tInjuries & 0.3743995 & 0.8745466 & 1.0785740 & 1.3076612 & 1.4102916 & 0.8776721 & 1.5428734\\\\\n",
       "\\end{tabular}\n"
      ],
      "text/plain": [
       "         Central Europe, Eastern Europe, and Central Asia High-income\n",
       "Injuries                                        0.3743995   0.8745466\n",
       "         Latin America and Caribbean North Africa and Middle East South Asia\n",
       "Injuries                    1.078574                     1.307661   1.410292\n",
       "         Southeast Asia, East Asia and Oceania Sub-Saharian Africa\n",
       "Injuries                             0.8776721            1.542873"
      ]
     },
     "metadata": {},
     "output_type": "display_data"
    }
   ],
   "source": [
    "#Across regions\n",
    "GBT <- GBT[order(GBT$Region),]\n",
    "Oth_cat_gbd <- GBT$Tot[GBT$year==2005]*1e6 - apply(M[-ncol(M)],2,sum)\n",
    "GBD_diseases <- GBT$Tot[GBT$year==2005]*1e6 - M[rownames(M)==\"Injuries\",-ncol(M)]\n",
    "100*Oth_cat_gbd/GBD_diseases"
   ]
  },
  {
   "cell_type": "markdown",
   "metadata": {},
   "source": [
    "Residual categories have maximised GBD in SSA <= 1.6% of total burden of diseases"
   ]
  },
  {
   "cell_type": "code",
   "execution_count": 8,
   "metadata": {
    "collapsed": false
   },
   "outputs": [
    {
     "data": {
      "text/html": [
       "0.105730779448206"
      ],
      "text/latex": [
       "0.105730779448206"
      ],
      "text/markdown": [
       "0.105730779448206"
      ],
      "text/plain": [
       "[1] 0.1057308"
      ]
     },
     "metadata": {},
     "output_type": "display_data"
    }
   ],
   "source": [
    "#What is the part of injuries among the total burden\n",
    "sum(M$Tot[rownames(M)==\"Injuries\"])/(sum(GBT$Tot[GBT$year==2005])*1e6)"
   ]
  },
  {
   "cell_type": "markdown",
   "metadata": {},
   "source": [
    "Injuries = 10.6% of total burden"
   ]
  },
  {
   "cell_type": "code",
   "execution_count": 9,
   "metadata": {
    "collapsed": false
   },
   "outputs": [
    {
     "data": {
      "text/html": [
       "<table>\n",
       "<thead><tr><th></th><th scope=col>Central Europe, Eastern Europe, and Central Asia</th><th scope=col>High-income</th><th scope=col>Latin America and Caribbean</th><th scope=col>North Africa and Middle East</th><th scope=col>South Asia</th><th scope=col>Southeast Asia, East Asia and Oceania</th><th scope=col>Sub-Saharian Africa</th></tr></thead>\n",
       "<tbody>\n",
       "\t<tr><th scope=row>Injuries</th><td>0.14139041</td><td>0.09953742</td><td>0.14117654</td><td>0.10613045</td><td>0.11228823</td><td>0.12174321</td><td>0.06779870</td></tr>\n",
       "</tbody>\n",
       "</table>\n"
      ],
      "text/latex": [
       "\\begin{tabular}{r|lllllll}\n",
       "  & Central Europe, Eastern Europe, and Central Asia & High-income & Latin America and Caribbean & North Africa and Middle East & South Asia & Southeast Asia, East Asia and Oceania & Sub-Saharian Africa\\\\\n",
       "\\hline\n",
       "\tInjuries & 0.14139041 & 0.09953742 & 0.14117654 & 0.10613045 & 0.11228823 & 0.12174321 & 0.06779870\\\\\n",
       "\\end{tabular}\n"
      ],
      "text/plain": [
       "         Central Europe, Eastern Europe, and Central Asia High-income\n",
       "Injuries                                        0.1413904  0.09953742\n",
       "         Latin America and Caribbean North Africa and Middle East South Asia\n",
       "Injuries                   0.1411765                    0.1061304  0.1122882\n",
       "         Southeast Asia, East Asia and Oceania Sub-Saharian Africa\n",
       "Injuries                             0.1217432           0.0677987"
      ]
     },
     "metadata": {},
     "output_type": "display_data"
    }
   ],
   "source": [
    "#Burden of injuries across regions\n",
    "M[rownames(M)==\"Injuries\",-ncol(M)]/(GBT$Tot[GBT$year==2005]*1e6)"
   ]
  },
  {
   "cell_type": "markdown",
   "metadata": {},
   "source": [
    "Injuries maximum in CEE and LATAM = 14.1% Minimum in SubSaharian Africa = 6.8%"
   ]
  },
  {
   "cell_type": "code",
   "execution_count": 10,
   "metadata": {
    "collapsed": false
   },
   "outputs": [
    {
     "data": {
      "text/html": [
       "<ol class=list-inline>\n",
       "\t<li>27</li>\n",
       "\t<li>8</li>\n",
       "</ol>\n"
      ],
      "text/latex": [
       "\\begin{enumerate*}\n",
       "\\item 27\n",
       "\\item 8\n",
       "\\end{enumerate*}\n"
      ],
      "text/markdown": [
       "1. 27\n",
       "2. 8\n",
       "\n",
       "\n"
      ],
      "text/plain": [
       "[1] 27  8"
      ]
     },
     "metadata": {},
     "output_type": "display_data"
    }
   ],
   "source": [
    "#We supress Injuries from the burden\n",
    "M <- M[rownames(M)!=\"Injuries\",]\n",
    "dim(M)"
   ]
  },
  {
   "cell_type": "code",
   "execution_count": 13,
   "metadata": {
    "collapsed": false
   },
   "outputs": [
    {
     "data": {
      "text/html": [
       "<dl class=dl-horizontal>\n",
       "\t<dt>Central Europe, Eastern Europe, and Central Asia</dt>\n",
       "\t\t<dd>151.517873106757</dd>\n",
       "\t<dt>High-income</dt>\n",
       "\t\t<dd>231.551261451313</dd>\n",
       "\t<dt>Latin America and Caribbean</dt>\n",
       "\t\t<dd>115.507386951616</dd>\n",
       "\t<dt>North Africa and Middle East</dt>\n",
       "\t\t<dd>102.273396008358</dd>\n",
       "\t<dt>South Asia</dt>\n",
       "\t\t<dd>610.71194747999</dd>\n",
       "\t<dt>Southeast Asia, East Asia and Oceania</dt>\n",
       "\t\t<dd>460.946821574246</dd>\n",
       "\t<dt>Sub-Saharian Africa</dt>\n",
       "\t\t<dd>547.554824228482</dd>\n",
       "\t<dt>Tot</dt>\n",
       "\t\t<dd>2220.06351080076</dd>\n",
       "\t<dt>Prop_bd</dt>\n",
       "\t\t<dd>1e-04</dd>\n",
       "</dl>\n"
      ],
      "text/latex": [
       "\\begin{description*}\n",
       "\\item[Central Europe, Eastern Europe, and Central Asia] 151.517873106757\n",
       "\\item[High-income] 231.551261451313\n",
       "\\item[Latin America and Caribbean] 115.507386951616\n",
       "\\item[North Africa and Middle East] 102.273396008358\n",
       "\\item[South Asia] 610.71194747999\n",
       "\\item[Southeast Asia, East Asia and Oceania] 460.946821574246\n",
       "\\item[Sub-Saharian Africa] 547.554824228482\n",
       "\\item[Tot] 2220.06351080076\n",
       "\\item[Prop\\textbackslash{}\\_bd] 1e-04\n",
       "\\end{description*}\n"
      ],
      "text/markdown": [
       "Central Europe, Eastern Europe, and Central Asia\n",
       ":   151.517873106757High-income\n",
       ":   231.551261451313Latin America and Caribbean\n",
       ":   115.507386951616North Africa and Middle East\n",
       ":   102.273396008358South Asia\n",
       ":   610.71194747999Southeast Asia, East Asia and Oceania\n",
       ":   460.946821574246Sub-Saharian Africa\n",
       ":   547.554824228482Tot\n",
       ":   2220.06351080076Prop_bd\n",
       ":   1e-04\n",
       "\n"
      ],
      "text/plain": [
       "Central Europe, Eastern Europe, and Central Asia \n",
       "                                        151.5179 \n",
       "                                     High-income \n",
       "                                        231.5513 \n",
       "                     Latin America and Caribbean \n",
       "                                        115.5074 \n",
       "                    North Africa and Middle East \n",
       "                                        102.2734 \n",
       "                                      South Asia \n",
       "                                        610.7119 \n",
       "           Southeast Asia, East Asia and Oceania \n",
       "                                        460.9468 \n",
       "                             Sub-Saharian Africa \n",
       "                                        547.5548 \n",
       "                                             Tot \n",
       "                                       2220.0635 \n",
       "                                         Prop_bd \n",
       "                                          0.0001 "
      ]
     },
     "metadata": {},
     "output_type": "display_data"
    },
    {
     "data": {
      "text/html": [
       "<dl class=dl-horizontal>\n",
       "\t<dt>Central Europe, Eastern Europe, and Central Asia</dt>\n",
       "\t\t<dd>0.06824934168307</dd>\n",
       "\t<dt>High-income</dt>\n",
       "\t\t<dd>0.104299386177377</dd>\n",
       "\t<dt>Latin America and Caribbean</dt>\n",
       "\t\t<dd>0.0520288660165193</dd>\n",
       "\t<dt>North Africa and Middle East</dt>\n",
       "\t\t<dd>0.0460677793724328</dd>\n",
       "\t<dt>South Asia</dt>\n",
       "\t\t<dd>0.275087602002751</dd>\n",
       "\t<dt>Southeast Asia, East Asia and Oceania</dt>\n",
       "\t\t<dd>0.207627763499426</dd>\n",
       "\t<dt>Sub-Saharian Africa</dt>\n",
       "\t\t<dd>0.246639261248424</dd>\n",
       "\t<dt>Tot</dt>\n",
       "\t\t<dd>1</dd>\n",
       "\t<dt>Prop_bd</dt>\n",
       "\t\t<dd>4.50437564121446e-08</dd>\n",
       "</dl>\n"
      ],
      "text/latex": [
       "\\begin{description*}\n",
       "\\item[Central Europe, Eastern Europe, and Central Asia] 0.06824934168307\n",
       "\\item[High-income] 0.104299386177377\n",
       "\\item[Latin America and Caribbean] 0.0520288660165193\n",
       "\\item[North Africa and Middle East] 0.0460677793724328\n",
       "\\item[South Asia] 0.275087602002751\n",
       "\\item[Southeast Asia, East Asia and Oceania] 0.207627763499426\n",
       "\\item[Sub-Saharian Africa] 0.246639261248424\n",
       "\\item[Tot] 1\n",
       "\\item[Prop\\textbackslash{}\\_bd] 4.50437564121446e-08\n",
       "\\end{description*}\n"
      ],
      "text/markdown": [
       "Central Europe, Eastern Europe, and Central Asia\n",
       ":   0.06824934168307High-income\n",
       ":   0.104299386177377Latin America and Caribbean\n",
       ":   0.0520288660165193North Africa and Middle East\n",
       ":   0.0460677793724328South Asia\n",
       ":   0.275087602002751Southeast Asia, East Asia and Oceania\n",
       ":   0.207627763499426Sub-Saharian Africa\n",
       ":   0.246639261248424Tot\n",
       ":   1Prop_bd\n",
       ":   4.50437564121446e-08\n",
       "\n"
      ],
      "text/plain": [
       "Central Europe, Eastern Europe, and Central Asia \n",
       "                                    6.824934e-02 \n",
       "                                     High-income \n",
       "                                    1.042994e-01 \n",
       "                     Latin America and Caribbean \n",
       "                                    5.202887e-02 \n",
       "                    North Africa and Middle East \n",
       "                                    4.606778e-02 \n",
       "                                      South Asia \n",
       "                                    2.750876e-01 \n",
       "           Southeast Asia, East Asia and Oceania \n",
       "                                    2.076278e-01 \n",
       "                             Sub-Saharian Africa \n",
       "                                    2.466393e-01 \n",
       "                                             Tot \n",
       "                                    1.000000e+00 \n",
       "                                         Prop_bd \n",
       "                                    4.504376e-08 "
      ]
     },
     "metadata": {},
     "output_type": "display_data"
    }
   ],
   "source": [
    "#Burden per region\n",
    "apply(M,2,sum)/1e6\n",
    "apply(M,2,sum)/sum(M$Tot)"
   ]
  },
  {
   "cell_type": "code",
   "execution_count": 12,
   "metadata": {
    "collapsed": false
   },
   "outputs": [
    {
     "data": {
      "text/html": [
       "<table>\n",
       "<thead><tr><th></th><th scope=col>Tot</th><th scope=col>Prop_bd</th></tr></thead>\n",
       "<tbody>\n",
       "\t<tr><th scope=row>Diarrhea, lower respiratory infections, meningitis, and other common infectious diseases</th><td>3.292855e+08</td><td>1.483226e+01</td></tr>\n",
       "\t<tr><th scope=row>Cardiovascular and circulatory diseases</th><td>2.874041e+08</td><td>1.294576e+01</td></tr>\n",
       "\t<tr><th scope=row>Neonatal disorders</th><td>2.202881e+08</td><td>9.922602e+00</td></tr>\n",
       "\t<tr><th scope=row>Neoplasms</th><td>1.768685e+08</td><td>7.966824e+00</td></tr>\n",
       "\t<tr><th scope=row>Mental and behavioral disorders</th><td>1.719144e+08</td><td>7.743670e+00</td></tr>\n",
       "\t<tr><th scope=row>Musculoskeletal disorders</th><td>1.515548e+08</td><td>6.826597e+00</td></tr>\n",
       "</tbody>\n",
       "</table>\n"
      ],
      "text/latex": [
       "\\begin{tabular}{r|ll}\n",
       "  & Tot & Prop\\_bd\\\\\n",
       "\\hline\n",
       "\tDiarrhea, lower respiratory infections, meningitis, and other common infectious diseases & 3.292855e+08 & 1.483226e+01\\\\\n",
       "\tCardiovascular and circulatory diseases & 2.874041e+08 & 1.294576e+01\\\\\n",
       "\tNeonatal disorders & 2.202881e+08 & 9.922602e+00\\\\\n",
       "\tNeoplasms & 1.768685e+08 & 7.966824e+00\\\\\n",
       "\tMental and behavioral disorders & 1.719144e+08 & 7.743670e+00\\\\\n",
       "\tMusculoskeletal disorders & 1.515548e+08 & 6.826597e+00\\\\\n",
       "\\end{tabular}\n"
      ],
      "text/plain": [
       "                                                                                               Tot\n",
       "Diarrhea, lower respiratory infections, meningitis, and other common infectious diseases 329285537\n",
       "Cardiovascular and circulatory diseases                                                  287404109\n",
       "Neonatal disorders                                                                       220288076\n",
       "Neoplasms                                                                                176868544\n",
       "Mental and behavioral disorders                                                          171914381\n",
       "Musculoskeletal disorders                                                                151554779\n",
       "                                                                                           Prop_bd\n",
       "Diarrhea, lower respiratory infections, meningitis, and other common infectious diseases 14.832258\n",
       "Cardiovascular and circulatory diseases                                                  12.945761\n",
       "Neonatal disorders                                                                        9.922602\n",
       "Neoplasms                                                                                 7.966824\n",
       "Mental and behavioral disorders                                                           7.743670\n",
       "Musculoskeletal disorders                                                                 6.826597"
      ]
     },
     "metadata": {},
     "output_type": "display_data"
    }
   ],
   "source": [
    "#Burden per disease\n",
    "M$Prop_bd <- 100*M$Tot/(sum(M$Tot))\n",
    "head(M[order(M$Tot,decreasing=TRUE),c(ncol(M)-1:0)])"
   ]
  },
  {
   "cell_type": "code",
   "execution_count": 15,
   "metadata": {
    "collapsed": false
   },
   "outputs": [
    {
     "data": {
      "text/html": [
       "<table>\n",
       "<thead><tr><th></th><th scope=col>Tot</th><th scope=col>Prop_bd</th></tr></thead>\n",
       "<tbody>\n",
       "\t<tr><th scope=row>Oral disorders</th><td>1.433652e+07</td><td>6.457706e-01</td></tr>\n",
       "\t<tr><th scope=row>Sexually transmitted diseases excluding HIV</th><td>1.292219e+07</td><td>5.820641e-01</td></tr>\n",
       "\t<tr><th scope=row>Hepatitis</th><td>1.255105e+07</td><td>5.653463e-01</td></tr>\n",
       "\t<tr><th scope=row>Gynecological diseases</th><td>9.710285e+06</td><td>4.373877e-01</td></tr>\n",
       "\t<tr><th scope=row>Sudden infant death syndrome</th><td>1.877956e+06</td><td>8.459021e-02</td></tr>\n",
       "\t<tr><th scope=row>Leprosy</th><td>8.539553e+03</td><td>3.846535e-04</td></tr>\n",
       "</tbody>\n",
       "</table>\n"
      ],
      "text/latex": [
       "\\begin{tabular}{r|ll}\n",
       "  & Tot & Prop\\_bd\\\\\n",
       "\\hline\n",
       "\tOral disorders & 1.433652e+07 & 6.457706e-01\\\\\n",
       "\tSexually transmitted diseases excluding HIV & 1.292219e+07 & 5.820641e-01\\\\\n",
       "\tHepatitis & 1.255105e+07 & 5.653463e-01\\\\\n",
       "\tGynecological diseases & 9.710285e+06 & 4.373877e-01\\\\\n",
       "\tSudden infant death syndrome & 1.877956e+06 & 8.459021e-02\\\\\n",
       "\tLeprosy & 8.539553e+03 & 3.846535e-04\\\\\n",
       "\\end{tabular}\n"
      ],
      "text/plain": [
       "                                                     Tot      Prop_bd\n",
       "Oral disorders                              14336517.776 0.6457706145\n",
       "Sexually transmitted diseases excluding HIV 12922191.897 0.5820640641\n",
       "Hepatitis                                   12551046.126 0.5653462644\n",
       "Gynecological diseases                       9710285.172 0.4373877200\n",
       "Sudden infant death syndrome                 1877956.449 0.0845902128\n",
       "Leprosy                                         8539.553 0.0003846535"
      ]
     },
     "metadata": {},
     "output_type": "display_data"
    }
   ],
   "source": [
    "tail(M[order(M$Tot,decreasing=TRUE),c(ncol(M)-1:0)])"
   ]
  },
  {
   "cell_type": "code",
   "execution_count": 19,
   "metadata": {
    "collapsed": false
   },
   "outputs": [
    {
     "data": {
      "text/html": [
       "0.008539553"
      ],
      "text/latex": [
       "0.008539553"
      ],
      "text/markdown": [
       "0.008539553"
      ],
      "text/plain": [
       "[1] 0.008539553"
      ]
     },
     "metadata": {},
     "output_type": "display_data"
    }
   ],
   "source": [
    "8.539553e+03/1e6"
   ]
  },
  {
   "cell_type": "code",
   "execution_count": 20,
   "metadata": {
    "collapsed": true
   },
   "outputs": [],
   "source": [
    "write.table(M,\"Mapping_Cancer/Tables/GBD_data_per_region_and_27_diseases_2005.txt\")"
   ]
  },
  {
   "cell_type": "code",
   "execution_count": null,
   "metadata": {
    "collapsed": true
   },
   "outputs": [],
   "source": []
  }
 ],
 "metadata": {
  "kernelspec": {
   "display_name": "R",
   "language": "R",
   "name": "ir"
  },
  "language_info": {
   "codemirror_mode": "r",
   "file_extension": ".r",
   "mimetype": "text/x-r-source",
   "name": "R",
   "pygments_lexer": "r",
   "version": "3.3.1"
  }
 },
 "nbformat": 4,
 "nbformat_minor": 1
}
