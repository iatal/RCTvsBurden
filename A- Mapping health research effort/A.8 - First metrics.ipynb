{
 "cells": [
  {
   "cell_type": "markdown",
   "metadata": {},
   "source": [
    "# First numbers\n",
    "\n",
    "* Number of RCTs relevant to burden, in total, per region\n",
    "* Number of patients enrolled in RCTs relevant to the burden, in total, per region\n",
    "* Number of RCTs and number of patients per region per disease"
   ]
  },
  {
   "cell_type": "markdown",
   "metadata": {},
   "source": [
    "### 1. First, we evaluate if total number of RCTs relevant to the burden is similar across simulations"
   ]
  },
  {
   "cell_type": "code",
   "execution_count": 1,
   "metadata": {
    "collapsed": false
   },
   "outputs": [
    {
     "data": {
      "text/html": [
       "117180"
      ],
      "text/latex": [
       "117180"
      ],
      "text/markdown": [
       "117180"
      ],
      "text/plain": [
       "[1] 117180"
      ]
     },
     "metadata": {},
     "output_type": "display_data"
    }
   ],
   "source": [
    "data <- read.table(\"/media/igna/Elements/HotelDieu/Cochrane/MappingRCTs_vs_Burden/database_RCTs_regions_27diseases.txt\")\n",
    "nrow(data)"
   ]
  },
  {
   "cell_type": "code",
   "execution_count": 2,
   "metadata": {
    "collapsed": false
   },
   "outputs": [
    {
     "data": {
      "text/plain": [
       "\n",
       " FALSE   TRUE \n",
       "107558   9622 "
      ]
     },
     "metadata": {},
     "output_type": "display_data"
    },
    {
     "data": {
      "text/html": [
       "43952638"
      ],
      "text/latex": [
       "43952638"
      ],
      "text/markdown": [
       "43952638"
      ],
      "text/plain": [
       "[1] 43952638"
      ]
     },
     "metadata": {},
     "output_type": "display_data"
    }
   ],
   "source": [
    "data$Sample[data$Sample<10 | data$Sample>200000] <- NA\n",
    "table(is.na(data$Sample))\n",
    "sum(data$Sample,na.rm = TRUE)"
   ]
  },
  {
   "cell_type": "code",
   "execution_count": 2,
   "metadata": {
    "collapsed": true
   },
   "outputs": [],
   "source": [
    "library(data.table)"
   ]
  },
  {
   "cell_type": "code",
   "execution_count": 38,
   "metadata": {
    "collapsed": false
   },
   "outputs": [
    {
     "data": {
      "image/png": "[encoded data removed]",
      "text/plain": [
       "Plot with title “8”"
      ]
     },
     "metadata": {},
     "output_type": "display_data"
    }
   ],
   "source": [
    "options(repr.plot.width=9, repr.plot.height=9)\n",
    "par(mfrow=c(5,5),mar=c(1,1,3,1))\n",
    "DF <- fread(paste(c(\"/media/igna/Elements/HotelDieu/Cochrane/MappingRCTs_vs_Burden/Replicates/Metrics_over_repl/Metrics_over_replicates_\",\n",
    "                    as.character(d),\".txt\"),collapse=\"\"))\n",
    "hist(DF$RCTs[DF$Reg==\"All\"],xlim=c(70000,90000),xlab=NULL,main=\"all\")\n",
    "for(i in 1:length(sms)){ \n",
    "    DF <- fread(paste(c(\"/media/igna/Elements/HotelDieu/Cochrane/MappingRCTs_vs_Burden/Replicates/Metrics_over_repl/\",\n",
    "                        sms[i]),collapse=\"\"))\n",
    "    hist(DF$RCTs[DF$Reg==\"All\" & DF$Dis==\"all\"],\n",
    "         xlim=c(70000,90000),xlab=NULL,\n",
    "         main=substr(sms[i],25,nchar(sms[i])-4))               \n",
    "                        }"
   ]
  },
  {
   "cell_type": "code",
   "execution_count": 39,
   "metadata": {
    "collapsed": false
   },
   "outputs": [],
   "source": [
    "Mgbd <- read.table(\"../Data/27_gbd_groups.txt\")"
   ]
  },
  {
   "cell_type": "code",
   "execution_count": 42,
   "metadata": {
    "collapsed": false
   },
   "outputs": [
    {
     "data": {
      "text/html": [
       "Neoplasms"
      ],
      "text/latex": [
       "Neoplasms"
      ],
      "text/markdown": [
       "Neoplasms"
      ],
      "text/plain": [
       "[1] Neoplasms\n",
       "27 Levels: Cardiovascular and circulatory diseases ..."
      ]
     },
     "metadata": {},
     "output_type": "display_data"
    }
   ],
   "source": [
    "Mgbd$x[12]"
   ]
  },
  {
   "cell_type": "code",
   "execution_count": 43,
   "metadata": {
    "collapsed": false
   },
   "outputs": [],
   "source": [
    "PERF <- read.csv('../Tables/Performances_per_27disease_data.csv')"
   ]
  },
  {
   "cell_type": "code",
   "execution_count": 45,
   "metadata": {
    "collapsed": false,
    "scrolled": true
   },
   "outputs": [
    {
     "data": {
      "text/html": [
       "<table>\n",
       "<thead><tr><th></th><th scope=col>X</th><th scope=col>dis</th><th scope=col>GBD</th><th scope=col>TP_Dis</th><th scope=col>FP_Dis</th><th scope=col>TN_Dis</th><th scope=col>FN_Dis</th><th scope=col>TP_Oth</th><th scope=col>FP_Oth</th><th scope=col>TN_Oth</th><th scope=col>FN_Oth</th></tr></thead>\n",
       "<tbody>\n",
       "\t<tr><th scope=row>12</th><td>12       </td><td>12       </td><td>Neoplasms</td><td>933      </td><td>42       </td><td>1763     </td><td>25       </td><td>1213     </td><td>214      </td><td>1198     </td><td>138      </td></tr>\n",
       "</tbody>\n",
       "</table>\n"
      ],
      "text/latex": [
       "\\begin{tabular}{r|lllllllllll}\n",
       "  & X & dis & GBD & TP\\_Dis & FP\\_Dis & TN\\_Dis & FN\\_Dis & TP\\_Oth & FP\\_Oth & TN\\_Oth & FN\\_Oth\\\\\n",
       "\\hline\n",
       "\t12 & 12        & 12        & Neoplasms & 933       & 42        & 1763      & 25        & 1213      & 214       & 1198      & 138      \\\\\n",
       "\\end{tabular}\n"
      ],
      "text/plain": [
       "    X dis       GBD TP_Dis FP_Dis TN_Dis FN_Dis TP_Oth FP_Oth TN_Oth FN_Oth\n",
       "12 12  12 Neoplasms    933     42   1763     25   1213    214   1198    138"
      ]
     },
     "metadata": {},
     "output_type": "display_data"
    }
   ],
   "source": [
    "PERF[12,]"
   ]
  },
  {
   "cell_type": "markdown",
   "metadata": {
    "collapsed": true
   },
   "source": []
  },
  {
   "cell_type": "code",
   "execution_count": null,
   "metadata": {
    "collapsed": true
   },
   "outputs": [],
   "source": []
  },
  {
   "cell_type": "code",
   "execution_count": null,
   "metadata": {
    "collapsed": true
   },
   "outputs": [],
   "source": []
  },
  {
   "cell_type": "code",
   "execution_count": null,
   "metadata": {
    "collapsed": true
   },
   "outputs": [],
   "source": []
  },
  {
   "cell_type": "code",
   "execution_count": null,
   "metadata": {
    "collapsed": true
   },
   "outputs": [],
   "source": []
  },
  {
   "cell_type": "code",
   "execution_count": null,
   "metadata": {
    "collapsed": true
   },
   "outputs": [],
   "source": [
    "dprp <- DF[DF$Dis==\"dis\",c(\"RCTs\",\"Patients\")]/DF[DF$Dis==\"all\",c(\"RCTs\",\"Patients\")]\n",
    "dprp$Reg <- DF$Region[DF$Dis==\"dis\"]\n",
    "tapply(dprp$RCTs,dprp$Reg,function(x){100*quantile(x,probs=c(0.025,0.5,0.975))})\n",
    "tapply(dprp$Patients,dprp$Reg,function(x){100*quantile(x,probs=c(0.025,0.5,0.975))})\n",
    "\n",
    "DF[,quantile(.SD,probs=c(0.025,0.5,0.975)),by=.(Dis,Region),.SDcols=c(\"RCTs\",\"Patients\")]\n",
    "\n",
    "\n",
    "tapply(DF$RCTs[DF$Dis==\"dis\"],DF$Reg[DF$Dis==\"dis\"],function(x){quantile(x,probs=c(0.025,0.5,0.975))})\n"
   ]
  },
  {
   "cell_type": "code",
   "execution_count": null,
   "metadata": {
    "collapsed": true
   },
   "outputs": [],
   "source": []
  },
  {
   "cell_type": "code",
   "execution_count": null,
   "metadata": {
    "collapsed": true
   },
   "outputs": [],
   "source": []
  },
  {
   "cell_type": "code",
   "execution_count": null,
   "metadata": {
    "collapsed": true
   },
   "outputs": [],
   "source": [
    "regs <- strsplit(as.character(data$Regions),\"&\")\n",
    "DRY <- do.call('cbind',tapply(regs,data$year,function(x){table(unlist(x))}))\n",
    "\n",
    "DRY <- DRY[order(apply(DRY,1,sum)),]\n",
    "\n",
    "barplot(DRY[rownames(DRY)!=\"High-income\",])\n",
    "\n"
   ]
  }
 ],
 "metadata": {
  "kernelspec": {
   "display_name": "R",
   "language": "R",
   "name": "ir"
  },
  "language_info": {
   "codemirror_mode": "r",
   "file_extension": ".r",
   "mimetype": "text/x-r-source",
   "name": "R",
   "pygments_lexer": "r",
   "version": "3.3.1"
  }
 },
 "nbformat": 4,
 "nbformat_minor": 1
}
