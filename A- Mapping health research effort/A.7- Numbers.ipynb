{
 "cells": [
  {
   "cell_type": "code",
   "execution_count": 9,
   "metadata": {
    "collapsed": true
   },
   "outputs": [],
   "source": [
    "data <- read.table(\"../Data/RCTs_and_Patients_Nb_local_prop_median_UI_per_region_and_disease.txt\")"
   ]
  },
  {
   "cell_type": "code",
   "execution_count": 10,
   "metadata": {
    "collapsed": false,
    "scrolled": true
   },
   "outputs": [
    {
     "data": {
      "text/html": [
       "<table>\n",
       "<thead><tr><th></th><th scope=col>Region</th><th scope=col>Disease</th><th scope=col>Nb_RCTs_low</th><th scope=col>Nb_RCTs_med</th><th scope=col>Nb_RCTs_up</th><th scope=col>Nb_Patients_low</th><th scope=col>Nb_Patients_med</th><th scope=col>Nb_Patients_up</th><th scope=col>Prop_RCTs_low</th><th scope=col>Prop_RCTs_med</th><th scope=col>Prop_RCTs_up</th><th scope=col>Prop_Patients_low</th><th scope=col>Prop_Patients_med</th><th scope=col>Prop_Patients_up</th></tr></thead>\n",
       "<tbody>\n",
       "\t<tr><th scope=row>200</th><td>High-income     </td><td>All             </td><td>58034.95        </td><td>60631           </td><td>62973.075       </td><td>20134893.1416924</td><td>23700587.174215 </td><td>25287852.9473283</td><td>NA              </td><td>NA              </td><td>NA              </td><td>NA              </td><td>NA              </td><td>NA              </td></tr>\n",
       "\t<tr><th scope=row>206</th><td>All       </td><td>All       </td><td>78661.775 </td><td>82179     </td><td>85358.2   </td><td>38736579.2</td><td>60121077  </td><td>62786199.4</td><td>NA        </td><td>NA        </td><td>NA        </td><td>NA        </td><td>NA        </td><td>NA        </td></tr>\n",
       "\t<tr><th scope=row>207</th><td>Non-HI          </td><td>All             </td><td>26404.975       </td><td>27564           </td><td>28597.075       </td><td>15843979.7702922</td><td>36643188.4619163</td><td>38170996.9983858</td><td>NA              </td><td>NA              </td><td>NA              </td><td>NA              </td><td>NA              </td><td>NA              </td></tr>\n",
       "</tbody>\n",
       "</table>\n"
      ],
      "text/latex": [
       "\\begin{tabular}{r|llllllllllllll}\n",
       "  & Region & Disease & Nb\\_RCTs\\_low & Nb\\_RCTs\\_med & Nb\\_RCTs\\_up & Nb\\_Patients\\_low & Nb\\_Patients\\_med & Nb\\_Patients\\_up & Prop\\_RCTs\\_low & Prop\\_RCTs\\_med & Prop\\_RCTs\\_up & Prop\\_Patients\\_low & Prop\\_Patients\\_med & Prop\\_Patients\\_up\\\\\n",
       "\\hline\n",
       "\t200 & High-income      & All              & 58034.95         & 60631            & 62973.075        & 20134893.1416924 & 23700587.174215  & 25287852.9473283 & NA               & NA               & NA               & NA               & NA               & NA              \\\\\n",
       "\t206 & All        & All        & 78661.775  & 82179      & 85358.2    & 38736579.2 & 60121077   & 62786199.4 & NA         & NA         & NA         & NA         & NA         & NA        \\\\\n",
       "\t207 & Non-HI           & All              & 26404.975        & 27564            & 28597.075        & 15843979.7702922 & 36643188.4619163 & 38170996.9983858 & NA               & NA               & NA               & NA               & NA               & NA              \\\\\n",
       "\\end{tabular}\n"
      ],
      "text/plain": [
       "         Region Disease Nb_RCTs_low Nb_RCTs_med Nb_RCTs_up Nb_Patients_low\n",
       "200 High-income     All    58034.95       60631   62973.07        20134893\n",
       "206         All     All    78661.77       82179   85358.20        38736579\n",
       "207      Non-HI     All    26404.97       27564   28597.08        15843980\n",
       "    Nb_Patients_med Nb_Patients_up Prop_RCTs_low Prop_RCTs_med Prop_RCTs_up\n",
       "200        23700587       25287853            NA            NA           NA\n",
       "206        60121077       62786199            NA            NA           NA\n",
       "207        36643188       38170997            NA            NA           NA\n",
       "    Prop_Patients_low Prop_Patients_med Prop_Patients_up\n",
       "200                NA                NA               NA\n",
       "206                NA                NA               NA\n",
       "207                NA                NA               NA"
      ]
     },
     "metadata": {},
     "output_type": "display_data"
    }
   ],
   "source": [
    "data[data$Dis==\"All\" & data$Region%in%c(\"All\",\"High-income\",\"Non-HI\"),]"
   ]
  },
  {
   "cell_type": "code",
   "execution_count": 11,
   "metadata": {
    "collapsed": false
   },
   "outputs": [],
   "source": [
    "dall <- data[data$Region==\"All\",]"
   ]
  },
  {
   "cell_type": "code",
   "execution_count": 13,
   "metadata": {
    "collapsed": false
   },
   "outputs": [
    {
     "data": {
      "text/html": [
       "<table>\n",
       "<thead><tr><th></th><th scope=col>Region</th><th scope=col>Disease</th><th scope=col>Nb_RCTs_low</th><th scope=col>Nb_RCTs_med</th><th scope=col>Nb_RCTs_up</th><th scope=col>Nb_Patients_low</th><th scope=col>Nb_Patients_med</th><th scope=col>Nb_Patients_up</th><th scope=col>Prop_RCTs_low</th><th scope=col>Prop_RCTs_med</th><th scope=col>Prop_RCTs_up</th><th scope=col>Prop_Patients_low</th><th scope=col>Prop_Patients_med</th><th scope=col>Prop_Patients_up</th></tr></thead>\n",
       "<tbody>\n",
       "\t<tr><th scope=row>206</th><td>All       </td><td>All       </td><td>78661.775 </td><td>82179     </td><td>85358.2   </td><td>38736579.2</td><td>60121077  </td><td>62786199.4</td><td>NA        </td><td>NA        </td><td>NA        </td><td>NA        </td><td>NA        </td><td>NA        </td></tr>\n",
       "\t<tr><th scope=row>26</th><td>All             </td><td>Neoplasms       </td><td>11147.975       </td><td>12024           </td><td>12728.025       </td><td>5358052.375     </td><td>8640118.5       </td><td>9290341.725     </td><td>12.2329808020536</td><td>13.129935720361 </td><td>13.8685822990231</td><td>8.48025111067281</td><td>13.187193483865 </td><td>19.1765328011531</td></tr>\n",
       "\t<tr><th scope=row>89</th><td>All                                            </td><td>Diabetes, urinary diseases and male infertility</td><td>10613.975                                      </td><td>11700.5                                        </td><td>12854.05                                       </td><td>4398438.825                                    </td><td>5852132                                        </td><td>9441959.675                                    </td><td>12.6862061138243                               </td><td>13.9703270698716                               </td><td>15.3316010872292                               </td><td>7.26118196170555                               </td><td>9.65315443817365                               </td><td>19.4389291371735                               </td></tr>\n",
       "\t<tr><th scope=row>35</th><td>All                                    </td><td>Cardiovascular and circulatory diseases</td><td>9526.975                               </td><td>10676                                  </td><td>11943                                  </td><td>4234636.825                            </td><td>4975477.5                              </td><td>24518980.475                           </td><td>11.4598092846689                       </td><td>12.8059765484869                       </td><td>14.2799368484855                       </td><td>6.92409493233995                       </td><td>8.26987401528555                       </td><td>39.3873995124181                       </td></tr>\n",
       "\t<tr><th scope=row>80</th><td>All                            </td><td>Mental and behavioral disorders</td><td>8683.975                       </td><td>9346                           </td><td>10040.025                      </td><td>2292538.925                    </td><td>2876536                        </td><td>3887151.625                    </td><td>10.4998738266006               </td><td>11.3468425941864               </td><td>12.2526743339986               </td><td>3.79145148379661               </td><td>4.79720971912645               </td><td>8.09710996571779               </td></tr>\n",
       "\t<tr><th scope=row>116</th><td>All                      </td><td>Musculoskeletal disorders</td><td>6189                     </td><td>6949                     </td><td>7783                     </td><td>1596605.3                </td><td>2050558                  </td><td>3331659.075              </td><td>7.41425817572166         </td><td>8.30343252233141         </td><td>9.29695659716287         </td><td>2.61389303856103         </td><td>3.41043197048441         </td><td>6.27125425924801         </td></tr>\n",
       "\t<tr><th scope=row>62</th><td>All                                  </td><td>Digestive diseases (except cirrhosis)</td><td>5571                                 </td><td>6734                                 </td><td>8754                                 </td><td>1327401.775                          </td><td>1889907                              </td><td>4873255.97499999                     </td><td>6.86471519694767                     </td><td>8.31628554994281                     </td><td>10.7490912059971                     </td><td>2.21249018234031                     </td><td>3.34028970563048                     </td><td>8.57645080085552                     </td></tr>\n",
       "\t<tr><th scope=row>71</th><td>All                   </td><td>Neurological disorders</td><td>5561.975              </td><td>6388                  </td><td>7295                  </td><td>1219632.725           </td><td>1547648.5             </td><td>3028043.3             </td><td>6.76840848511377      </td><td>7.77617649511163      </td><td>8.88283582974296      </td><td>2.01749264817774      </td><td>2.6334928857468       </td><td>5.85150778885378      </td></tr>\n",
       "\t<tr><th scope=row>134</th><td>All                 </td><td>Sense organ diseases</td><td>4504.975            </td><td>5209                </td><td>5981                </td><td>1003502.95          </td><td>1347379.5           </td><td>2178687.5           </td><td>5.45539900968819    </td><td>6.29438632998809    </td><td>7.2320136570935     </td><td>1.65688399364941    </td><td>2.25765341932995    </td><td>4.1382472145211     </td></tr>\n",
       "\t<tr><th scope=row>44</th><td>All                         </td><td>Chronic respiratory diseases</td><td>4302.975                    </td><td>4773                        </td><td>5283                        </td><td>1441357.4                   </td><td>1759433                     </td><td>2364790.175                 </td><td>5.17511161898152            </td><td>5.76418737722197            </td><td>6.3939947331518             </td><td>2.37398804253581            </td><td>2.91905418452374            </td><td>4.85721237844931            </td></tr>\n",
       "\t<tr><th scope=row>125</th><td>All                           </td><td>Skin and subcutaneous diseases</td><td>3523.975                      </td><td>4346                          </td><td>5744.025                      </td><td>1081969.5                     </td><td>1892847                       </td><td>3437999.25                    </td><td>4.30560468130325              </td><td>5.30983574145748              </td><td>7.0094380386127               </td><td>1.83232193954562              </td><td>3.2220665275537               </td><td>6.90416177156741              </td></tr>\n",
       "\t<tr><th scope=row>152</th><td>All                                                                                     </td><td>Diarrhea, lower respiratory infections, meningitis, and other common infectious diseases</td><td>2854.975                                                                                </td><td>3497                                                                                    </td><td>4273                                                                                    </td><td>2441898.425                                                                             </td><td>3420205                                                                                 </td><td>4501061.475                                                                             </td><td>3.44712237836333                                                                        </td><td>4.21843102808603                                                                        </td><td>5.16570118831679                                                                        </td><td>4.07436767684668                                                                        </td><td>5.7339961321971                                                                         </td><td>9.67676353182855                                                                        </td></tr>\n",
       "\t<tr><th scope=row>107</th><td>All                   </td><td>Gynecological diseases</td><td>2158                  </td><td>2730                  </td><td>4225.05               </td><td>766975.825            </td><td>1104376.5             </td><td>2403993.425           </td><td>2.60488120511315      </td><td>3.30897443890061      </td><td>5.10571121446216      </td><td>1.26777691564033      </td><td>1.90644646874743      </td><td>4.40512737642015      </td></tr>\n",
       "\t<tr><th scope=row>179</th><td>All               </td><td>Maternal disorders</td><td>1398              </td><td>2208              </td><td>3488.05           </td><td>615492.475        </td><td>1048351.5         </td><td>3770107.575       </td><td>1.66903111957644  </td><td>2.64337598117282  </td><td>4.16585917778215  </td><td>1.02437899012742  </td><td>1.79738763064648  </td><td>6.29830759929559  </td></tr>\n",
       "\t<tr><th scope=row>143</th><td>All              </td><td>Oral disorders   </td><td>1183.975         </td><td>2249             </td><td>6507.37499999999 </td><td>317342.9         </td><td>821855           </td><td>4418140.62499999 </td><td>1.41679946242207 </td><td>2.69483681995732 </td><td>7.6855660766728  </td><td>0.528290910083563</td><td>1.42256199428566 </td><td>7.74716298111855 </td></tr>\n",
       "\t<tr><th scope=row>98</th><td>All             </td><td>HIV/AIDS        </td><td>1147            </td><td>1494.5          </td><td>1753            </td><td>735570.8        </td><td>1223251         </td><td>1566983.025     </td><td>1.3470897470717 </td><td>1.74579862021554</td><td>2.05546743187206</td><td>1.19751080640489</td><td>1.99801879248074</td><td>3.2595104489756 </td></tr>\n",
       "\t<tr><th scope=row>197</th><td>All                     </td><td>Nutritional deficiencies</td><td>677.975                 </td><td>1279                    </td><td>2138                    </td><td>284914.7                </td><td>580576.5                </td><td>1426262                 </td><td>0.806362587337069       </td><td>1.52370395983894        </td><td>2.54448695551136        </td><td>0.470059727725212       </td><td>0.981763864268176       </td><td>2.58793792141363        </td></tr>\n",
       "\t<tr><th scope=row>188</th><td>All               </td><td>Neonatal disorders</td><td>638.95            </td><td>1424              </td><td>3612.79999999999  </td><td>441226.55         </td><td>1549845           </td><td>3634886.64999999  </td><td>0.764590766452948 </td><td>1.69948090685226  </td><td>4.26012587577822  </td><td>0.755293778731309 </td><td>2.6104923991761   </td><td>6.68486078390868  </td></tr>\n",
       "\t<tr><th scope=row>17</th><td>All              </td><td>Hepatitis        </td><td>602              </td><td>913              </td><td>1300             </td><td>211789.225       </td><td>403618.5         </td><td>782205.275       </td><td>0.719832227521309</td><td>1.08896665725719 </td><td>1.54853360044985 </td><td>0.353193352068207</td><td>0.674315125790946</td><td>1.44671633164226 </td></tr>\n",
       "\t<tr><th scope=row>53</th><td>All                   </td><td>Cirrhosis of the liver</td><td>534.975               </td><td>1061                  </td><td>1574                  </td><td>139310.9              </td><td>358781.5              </td><td>785988.25             </td><td>0.637016381973726     </td><td>1.26878597624171      </td><td>1.88018052641951      </td><td>0.232104558033272     </td><td>0.60782648115563      </td><td>1.4372980514394       </td></tr>\n",
       "\t<tr><th scope=row>170</th><td>All                                          </td><td>Neglected tropical diseases excluding malaria</td><td>329                                          </td><td>492                                          </td><td>849                                          </td><td>624681.05                                    </td><td>1018730                                      </td><td>1308824.55                                   </td><td>0.389823991582084                            </td><td>0.584447981753819                            </td><td>1.0066562121142                              </td><td>1.03455761420148                             </td><td>1.65965173187849                             </td><td>2.72457389594214                             </td></tr>\n",
       "\t<tr><th scope=row>161</th><td>All              </td><td>Malaria          </td><td>259.95           </td><td>435              </td><td>546              </td><td>834820           </td><td>1973478          </td><td>2208019.8        </td><td>0.308045495482362</td><td>0.515275098292999</td><td>0.648292683318969</td><td>1.42228957343743 </td><td>3.24132338678802 </td><td>5.16950215711318 </td></tr>\n",
       "\t<tr><th scope=row>8</th><td>All              </td><td>Tuberculosis     </td><td>91               </td><td>298              </td><td>454              </td><td>179758.6         </td><td>2691157          </td><td>3721925.7        </td><td>0.106771151141624</td><td>0.351994233541567</td><td>0.537748843907757</td><td>0.348209875658387</td><td>4.51779433262979 </td><td>8.37382570920463 </td></tr>\n",
       "</tbody>\n",
       "</table>\n"
      ],
      "text/latex": [
       "\\begin{tabular}{r|llllllllllllll}\n",
       "  & Region & Disease & Nb\\_RCTs\\_low & Nb\\_RCTs\\_med & Nb\\_RCTs\\_up & Nb\\_Patients\\_low & Nb\\_Patients\\_med & Nb\\_Patients\\_up & Prop\\_RCTs\\_low & Prop\\_RCTs\\_med & Prop\\_RCTs\\_up & Prop\\_Patients\\_low & Prop\\_Patients\\_med & Prop\\_Patients\\_up\\\\\n",
       "\\hline\n",
       "\t206 & All        & All        & 78661.775  & 82179      & 85358.2    & 38736579.2 & 60121077   & 62786199.4 & NA         & NA         & NA         & NA         & NA         & NA        \\\\\n",
       "\t26 & All              & Neoplasms        & 11147.975        & 12024            & 12728.025        & 5358052.375      & 8640118.5        & 9290341.725      & 12.2329808020536 & 13.129935720361  & 13.8685822990231 & 8.48025111067281 & 13.187193483865  & 19.1765328011531\\\\\n",
       "\t89 & All                                             & Diabetes, urinary diseases and male infertility & 10613.975                                       & 11700.5                                         & 12854.05                                        & 4398438.825                                     & 5852132                                         & 9441959.675                                     & 12.6862061138243                                & 13.9703270698716                                & 15.3316010872292                                & 7.26118196170555                                & 9.65315443817365                                & 19.4389291371735                               \\\\\n",
       "\t35 & All                                     & Cardiovascular and circulatory diseases & 9526.975                                & 10676                                   & 11943                                   & 4234636.825                             & 4975477.5                               & 24518980.475                            & 11.4598092846689                        & 12.8059765484869                        & 14.2799368484855                        & 6.92409493233995                        & 8.26987401528555                        & 39.3873995124181                       \\\\\n",
       "\t80 & All                             & Mental and behavioral disorders & 8683.975                        & 9346                            & 10040.025                       & 2292538.925                     & 2876536                         & 3887151.625                     & 10.4998738266006                & 11.3468425941864                & 12.2526743339986                & 3.79145148379661                & 4.79720971912645                & 8.09710996571779               \\\\\n",
       "\t116 & All                       & Musculoskeletal disorders & 6189                      & 6949                      & 7783                      & 1596605.3                 & 2050558                   & 3331659.075               & 7.41425817572166          & 8.30343252233141          & 9.29695659716287          & 2.61389303856103          & 3.41043197048441          & 6.27125425924801         \\\\\n",
       "\t62 & All                                   & Digestive diseases (except cirrhosis) & 5571                                  & 6734                                  & 8754                                  & 1327401.775                           & 1889907                               & 4873255.97499999                      & 6.86471519694767                      & 8.31628554994281                      & 10.7490912059971                      & 2.21249018234031                      & 3.34028970563048                      & 8.57645080085552                     \\\\\n",
       "\t71 & All                    & Neurological disorders & 5561.975               & 6388                   & 7295                   & 1219632.725            & 1547648.5              & 3028043.3              & 6.76840848511377       & 7.77617649511163       & 8.88283582974296       & 2.01749264817774       & 2.6334928857468        & 5.85150778885378      \\\\\n",
       "\t134 & All                  & Sense organ diseases & 4504.975             & 5209                 & 5981                 & 1003502.95           & 1347379.5            & 2178687.5            & 5.45539900968819     & 6.29438632998809     & 7.2320136570935      & 1.65688399364941     & 2.25765341932995     & 4.1382472145211     \\\\\n",
       "\t44 & All                          & Chronic respiratory diseases & 4302.975                     & 4773                         & 5283                         & 1441357.4                    & 1759433                      & 2364790.175                  & 5.17511161898152             & 5.76418737722197             & 6.3939947331518              & 2.37398804253581             & 2.91905418452374             & 4.85721237844931            \\\\\n",
       "\t125 & All                            & Skin and subcutaneous diseases & 3523.975                       & 4346                           & 5744.025                       & 1081969.5                      & 1892847                        & 3437999.25                     & 4.30560468130325               & 5.30983574145748               & 7.0094380386127                & 1.83232193954562               & 3.2220665275537                & 6.90416177156741              \\\\\n",
       "\t152 & All                                                                                      & Diarrhea, lower respiratory infections, meningitis, and other common infectious diseases & 2854.975                                                                                 & 3497                                                                                     & 4273                                                                                     & 2441898.425                                                                              & 3420205                                                                                  & 4501061.475                                                                              & 3.44712237836333                                                                         & 4.21843102808603                                                                         & 5.16570118831679                                                                         & 4.07436767684668                                                                         & 5.7339961321971                                                                          & 9.67676353182855                                                                        \\\\\n",
       "\t107 & All                    & Gynecological diseases & 2158                   & 2730                   & 4225.05                & 766975.825             & 1104376.5              & 2403993.425            & 2.60488120511315       & 3.30897443890061       & 5.10571121446216       & 1.26777691564033       & 1.90644646874743       & 4.40512737642015      \\\\\n",
       "\t179 & All                & Maternal disorders & 1398               & 2208               & 3488.05            & 615492.475         & 1048351.5          & 3770107.575        & 1.66903111957644   & 2.64337598117282   & 4.16585917778215   & 1.02437899012742   & 1.79738763064648   & 6.29830759929559  \\\\\n",
       "\t143 & All               & Oral disorders    & 1183.975          & 2249              & 6507.37499999999  & 317342.9          & 821855            & 4418140.62499999  & 1.41679946242207  & 2.69483681995732  & 7.6855660766728   & 0.528290910083563 & 1.42256199428566  & 7.74716298111855 \\\\\n",
       "\t98 & All              & HIV/AIDS         & 1147             & 1494.5           & 1753             & 735570.8         & 1223251          & 1566983.025      & 1.3470897470717  & 1.74579862021554 & 2.05546743187206 & 1.19751080640489 & 1.99801879248074 & 3.2595104489756 \\\\\n",
       "\t197 & All                      & Nutritional deficiencies & 677.975                  & 1279                     & 2138                     & 284914.7                 & 580576.5                 & 1426262                  & 0.806362587337069        & 1.52370395983894         & 2.54448695551136         & 0.470059727725212        & 0.981763864268176        & 2.58793792141363        \\\\\n",
       "\t188 & All                & Neonatal disorders & 638.95             & 1424               & 3612.79999999999   & 441226.55          & 1549845            & 3634886.64999999   & 0.764590766452948  & 1.69948090685226   & 4.26012587577822   & 0.755293778731309  & 2.6104923991761    & 6.68486078390868  \\\\\n",
       "\t17 & All               & Hepatitis         & 602               & 913               & 1300              & 211789.225        & 403618.5          & 782205.275        & 0.719832227521309 & 1.08896665725719  & 1.54853360044985  & 0.353193352068207 & 0.674315125790946 & 1.44671633164226 \\\\\n",
       "\t53 & All                    & Cirrhosis of the liver & 534.975                & 1061                   & 1574                   & 139310.9               & 358781.5               & 785988.25              & 0.637016381973726      & 1.26878597624171       & 1.88018052641951       & 0.232104558033272      & 0.60782648115563       & 1.4372980514394       \\\\\n",
       "\t170 & All                                           & Neglected tropical diseases excluding malaria & 329                                           & 492                                           & 849                                           & 624681.05                                     & 1018730                                       & 1308824.55                                    & 0.389823991582084                             & 0.584447981753819                             & 1.0066562121142                               & 1.03455761420148                              & 1.65965173187849                              & 2.72457389594214                             \\\\\n",
       "\t161 & All               & Malaria           & 259.95            & 435               & 546               & 834820            & 1973478           & 2208019.8         & 0.308045495482362 & 0.515275098292999 & 0.648292683318969 & 1.42228957343743  & 3.24132338678802  & 5.16950215711318 \\\\\n",
       "\t8 & All               & Tuberculosis      & 91                & 298               & 454               & 179758.6          & 2691157           & 3721925.7         & 0.106771151141624 & 0.351994233541567 & 0.537748843907757 & 0.348209875658387 & 4.51779433262979  & 8.37382570920463 \\\\\n",
       "\\end{tabular}\n"
      ],
      "text/plain": [
       "    Region\n",
       "206    All\n",
       "26     All\n",
       "89     All\n",
       "35     All\n",
       "80     All\n",
       "116    All\n",
       "62     All\n",
       "71     All\n",
       "134    All\n",
       "44     All\n",
       "125    All\n",
       "152    All\n",
       "107    All\n",
       "179    All\n",
       "143    All\n",
       "98     All\n",
       "197    All\n",
       "188    All\n",
       "17     All\n",
       "53     All\n",
       "170    All\n",
       "161    All\n",
       "8      All\n",
       "                                                                                     Disease\n",
       "206                                                                                      All\n",
       "26                                                                                 Neoplasms\n",
       "89                                           Diabetes, urinary diseases and male infertility\n",
       "35                                                   Cardiovascular and circulatory diseases\n",
       "80                                                           Mental and behavioral disorders\n",
       "116                                                                Musculoskeletal disorders\n",
       "62                                                     Digestive diseases (except cirrhosis)\n",
       "71                                                                    Neurological disorders\n",
       "134                                                                     Sense organ diseases\n",
       "44                                                              Chronic respiratory diseases\n",
       "125                                                           Skin and subcutaneous diseases\n",
       "152 Diarrhea, lower respiratory infections, meningitis, and other common infectious diseases\n",
       "107                                                                   Gynecological diseases\n",
       "179                                                                       Maternal disorders\n",
       "143                                                                           Oral disorders\n",
       "98                                                                                  HIV/AIDS\n",
       "197                                                                 Nutritional deficiencies\n",
       "188                                                                       Neonatal disorders\n",
       "17                                                                                 Hepatitis\n",
       "53                                                                    Cirrhosis of the liver\n",
       "170                                            Neglected tropical diseases excluding malaria\n",
       "161                                                                                  Malaria\n",
       "8                                                                               Tuberculosis\n",
       "    Nb_RCTs_low Nb_RCTs_med Nb_RCTs_up Nb_Patients_low Nb_Patients_med\n",
       "206   78661.775     82179.0  85358.200      38736579.2      60121077.0\n",
       "26    11147.975     12024.0  12728.025       5358052.4       8640118.5\n",
       "89    10613.975     11700.5  12854.050       4398438.8       5852132.0\n",
       "35     9526.975     10676.0  11943.000       4234636.8       4975477.5\n",
       "80     8683.975      9346.0  10040.025       2292538.9       2876536.0\n",
       "116    6189.000      6949.0   7783.000       1596605.3       2050558.0\n",
       "62     5571.000      6734.0   8754.000       1327401.8       1889907.0\n",
       "71     5561.975      6388.0   7295.000       1219632.7       1547648.5\n",
       "134    4504.975      5209.0   5981.000       1003502.9       1347379.5\n",
       "44     4302.975      4773.0   5283.000       1441357.4       1759433.0\n",
       "125    3523.975      4346.0   5744.025       1081969.5       1892847.0\n",
       "152    2854.975      3497.0   4273.000       2441898.4       3420205.0\n",
       "107    2158.000      2730.0   4225.050        766975.8       1104376.5\n",
       "179    1398.000      2208.0   3488.050        615492.5       1048351.5\n",
       "143    1183.975      2249.0   6507.375        317342.9        821855.0\n",
       "98     1147.000      1494.5   1753.000        735570.8       1223251.0\n",
       "197     677.975      1279.0   2138.000        284914.7        580576.5\n",
       "188     638.950      1424.0   3612.800        441226.5       1549845.0\n",
       "17      602.000       913.0   1300.000        211789.2        403618.5\n",
       "53      534.975      1061.0   1574.000        139310.9        358781.5\n",
       "170     329.000       492.0    849.000        624681.1       1018730.0\n",
       "161     259.950       435.0    546.000        834820.0       1973478.0\n",
       "8        91.000       298.0    454.000        179758.6       2691157.0\n",
       "    Nb_Patients_up Prop_RCTs_low Prop_RCTs_med Prop_RCTs_up Prop_Patients_low\n",
       "206     62786199.4            NA            NA           NA                NA\n",
       "26       9290341.7    12.2329808    13.1299357   13.8685823         8.4802511\n",
       "89       9441959.7    12.6862061    13.9703271   15.3316011         7.2611820\n",
       "35      24518980.5    11.4598093    12.8059765   14.2799368         6.9240949\n",
       "80       3887151.6    10.4998738    11.3468426   12.2526743         3.7914515\n",
       "116      3331659.1     7.4142582     8.3034325    9.2969566         2.6138930\n",
       "62       4873256.0     6.8647152     8.3162855   10.7490912         2.2124902\n",
       "71       3028043.3     6.7684085     7.7761765    8.8828358         2.0174926\n",
       "134      2178687.5     5.4553990     6.2943863    7.2320137         1.6568840\n",
       "44       2364790.2     5.1751116     5.7641874    6.3939947         2.3739880\n",
       "125      3437999.2     4.3056047     5.3098357    7.0094380         1.8323219\n",
       "152      4501061.5     3.4471224     4.2184310    5.1657012         4.0743677\n",
       "107      2403993.4     2.6048812     3.3089744    5.1057112         1.2677769\n",
       "179      3770107.6     1.6690311     2.6433760    4.1658592         1.0243790\n",
       "143      4418140.6     1.4167995     2.6948368    7.6855661         0.5282909\n",
       "98       1566983.0     1.3470897     1.7457986    2.0554674         1.1975108\n",
       "197      1426262.0     0.8063626     1.5237040    2.5444870         0.4700597\n",
       "188      3634886.6     0.7645908     1.6994809    4.2601259         0.7552938\n",
       "17        782205.3     0.7198322     1.0889667    1.5485336         0.3531934\n",
       "53        785988.2     0.6370164     1.2687860    1.8801805         0.2321046\n",
       "170      1308824.6     0.3898240     0.5844480    1.0066562         1.0345576\n",
       "161      2208019.8     0.3080455     0.5152751    0.6482927         1.4222896\n",
       "8        3721925.7     0.1067712     0.3519942    0.5377488         0.3482099\n",
       "    Prop_Patients_med Prop_Patients_up\n",
       "206                NA               NA\n",
       "26         13.1871935        19.176533\n",
       "89          9.6531544        19.438929\n",
       "35          8.2698740        39.387400\n",
       "80          4.7972097         8.097110\n",
       "116         3.4104320         6.271254\n",
       "62          3.3402897         8.576451\n",
       "71          2.6334929         5.851508\n",
       "134         2.2576534         4.138247\n",
       "44          2.9190542         4.857212\n",
       "125         3.2220665         6.904162\n",
       "152         5.7339961         9.676764\n",
       "107         1.9064465         4.405127\n",
       "179         1.7973876         6.298308\n",
       "143         1.4225620         7.747163\n",
       "98          1.9980188         3.259510\n",
       "197         0.9817639         2.587938\n",
       "188         2.6104924         6.684861\n",
       "17          0.6743151         1.446716\n",
       "53          0.6078265         1.437298\n",
       "170         1.6596517         2.724574\n",
       "161         3.2413234         5.169502\n",
       "8           4.5177943         8.373826"
      ]
     },
     "metadata": {},
     "output_type": "display_data"
    }
   ],
   "source": [
    "dall[order(dall$Nb_RCTs_low,decreasing=TRUE),]"
   ]
  },
  {
   "cell_type": "code",
   "execution_count": null,
   "metadata": {
    "collapsed": true
   },
   "outputs": [],
   "source": []
  }
 ],
 "metadata": {
  "kernelspec": {
   "display_name": "R",
   "language": "R",
   "name": "ir"
  },
  "language_info": {
   "codemirror_mode": "r",
   "file_extension": ".r",
   "mimetype": "text/x-r-source",
   "name": "R",
   "pygments_lexer": "r",
   "version": "3.3.1"
  }
 },
 "nbformat": 4,
 "nbformat_minor": 1
}
