{
 "cells": [
  {
   "cell_type": "code",
   "execution_count": 1,
   "metadata": {
    "collapsed": true
   },
   "outputs": [],
   "source": [
    "PERF <- read.csv('../Tables/Performances_per_27disease_data.csv')"
   ]
  },
  {
   "cell_type": "code",
   "execution_count": 2,
   "metadata": {
    "collapsed": false,
    "scrolled": true
   },
   "outputs": [
    {
     "data": {
      "text/html": [
       "<table>\n",
       "<thead><tr><th></th><th scope=col>X</th><th scope=col>dis</th><th scope=col>GBD</th><th scope=col>TP_Dis</th><th scope=col>FP_Dis</th><th scope=col>TN_Dis</th><th scope=col>FN_Dis</th><th scope=col>TP_Oth</th><th scope=col>FP_Oth</th><th scope=col>TN_Oth</th><th scope=col>FN_Oth</th></tr></thead>\n",
       "<tbody>\n",
       "\t<tr><th scope=row>9</th><td>9                                          </td><td>9                                          </td><td>Sexually transmitted diseases excluding HIV</td><td>0                                          </td><td>3                                          </td><td>2759                                       </td><td>1                                          </td><td>2155                                       </td><td>203                                        </td><td>255                                        </td><td>150                                        </td></tr>\n",
       "</tbody>\n",
       "</table>\n"
      ],
      "text/latex": [
       "\\begin{tabular}{r|lllllllllll}\n",
       "  & X & dis & GBD & TP\\_Dis & FP\\_Dis & TN\\_Dis & FN\\_Dis & TP\\_Oth & FP\\_Oth & TN\\_Oth & FN\\_Oth\\\\\n",
       "\\hline\n",
       "\t9 & 9                                           & 9                                           & Sexually transmitted diseases excluding HIV & 0                                           & 3                                           & 2759                                        & 1                                           & 2155                                        & 203                                         & 255                                         & 150                                        \\\\\n",
       "\\end{tabular}\n"
      ],
      "text/plain": [
       "  X dis                                         GBD TP_Dis FP_Dis TN_Dis FN_Dis\n",
       "9 9   9 Sexually transmitted diseases excluding HIV      0      3   2759      1\n",
       "  TP_Oth FP_Oth TN_Oth FN_Oth\n",
       "9   2155    203    255    150"
      ]
     },
     "metadata": {},
     "output_type": "display_data"
    }
   ],
   "source": [
    "PERF[9,]"
   ]
  },
  {
   "cell_type": "code",
   "execution_count": 9,
   "metadata": {
    "collapsed": false
   },
   "outputs": [
    {
     "data": {
      "text/html": [
       "<table>\n",
       "<thead><tr><th></th><th scope=col>sens_dis</th><th scope=col>spec_dis</th><th scope=col>sens_oth</th><th scope=col>spec_oth</th></tr></thead>\n",
       "<tbody>\n",
       "\t<tr><th scope=row>1</th><td>0.3879979</td><td>0.9990424</td><td>0.9439455</td><td>0.5566235</td></tr>\n",
       "\t<tr><th scope=row>2</th><td>0.3771565</td><td>0.9969741</td><td>0.9305076</td><td>0.5489318</td></tr>\n",
       "\t<tr><th scope=row>3</th><td>0.5787375</td><td>0.9989891</td><td>0.9363374</td><td>0.5327424</td></tr>\n",
       "\t<tr><th scope=row>4</th><td>0.08723107</td><td>0.99760087</td><td>0.94668391</td><td>0.55228347</td></tr>\n",
       "\t<tr><th scope=row>5</th><td>0.4245622</td><td>0.9995003</td><td>0.9301833</td><td>0.5438783</td></tr>\n",
       "\t<tr><th scope=row>6</th><td>0.8636368</td><td>0.9984080</td><td>0.9365264</td><td>0.5460090</td></tr>\n",
       "</tbody>\n",
       "</table>\n"
      ],
      "text/latex": [
       "\\begin{tabular}{r|llll}\n",
       "  & sens\\_dis & spec\\_dis & sens\\_oth & spec\\_oth\\\\\n",
       "\\hline\n",
       "\t1 & 0.3879979 & 0.9990424 & 0.9439455 & 0.5566235\\\\\n",
       "\t2 & 0.3771565 & 0.9969741 & 0.9305076 & 0.5489318\\\\\n",
       "\t3 & 0.5787375 & 0.9989891 & 0.9363374 & 0.5327424\\\\\n",
       "\t4 & 0.08723107 & 0.99760087 & 0.94668391 & 0.55228347\\\\\n",
       "\t5 & 0.4245622 & 0.9995003 & 0.9301833 & 0.5438783\\\\\n",
       "\t6 & 0.8636368 & 0.9984080 & 0.9365264 & 0.5460090\\\\\n",
       "\\end{tabular}\n"
      ],
      "text/plain": [
       "    sens_dis  spec_dis  sens_oth  spec_oth\n",
       "1 0.38799786 0.9990424 0.9439455 0.5566235\n",
       "2 0.37715647 0.9969741 0.9305076 0.5489318\n",
       "3 0.57873745 0.9989891 0.9363374 0.5327424\n",
       "4 0.08723107 0.9976009 0.9466839 0.5522835\n",
       "5 0.42456216 0.9995003 0.9301833 0.5438783\n",
       "6 0.86363676 0.9984080 0.9365264 0.5460090"
      ]
     },
     "metadata": {},
     "output_type": "display_data"
    }
   ],
   "source": [
    "head(ss_sp)"
   ]
  },
  {
   "cell_type": "code",
   "execution_count": 4,
   "metadata": {
    "collapsed": false
   },
   "outputs": [
    {
     "data": {
      "image/png": "[encoded data removed]",
      "text/plain": [
       "Plot with title “spec_oth”"
      ]
     },
     "metadata": {},
     "output_type": "display_data"
    }
   ],
   "source": [
    "d <- 9\n",
    "\n",
    "ss_sp <- read.table(paste(c(\"/media/igna/Elements/HotelDieu/Cochrane/MappingRCTs_vs_Burden/Replicates/\",as.character(d),\"/Sens_spec.txt\"),collapse=\"\"))\n",
    "\n",
    "options(repr.plot.width=9, repr.plot.height=3)\n",
    "par(mfrow=c(1,4))\n",
    "for(i in 1:ncol(ss_sp)) hist(ss_sp[,i],xlim=c(0,1),main=colnames(ss_sp)[i],xlab=NULL)\n",
    "    \n",
    "    "
   ]
  },
  {
   "cell_type": "code",
   "execution_count": 5,
   "metadata": {
    "collapsed": true
   },
   "outputs": [],
   "source": [
    "data <- read.table(\"/media/igna/Elements/HotelDieu/Cochrane/MappingRCTs_vs_Burden/database_RCTs_regions_27diseases.txt\")"
   ]
  },
  {
   "cell_type": "code",
   "execution_count": 6,
   "metadata": {
    "collapsed": true
   },
   "outputs": [],
   "source": [
    "Lgbd <- lapply(as.character(data$GBD27),function(x){as.numeric(unlist(strsplit(x,\"&\")))})"
   ]
  },
  {
   "cell_type": "code",
   "execution_count": 7,
   "metadata": {
    "collapsed": true
   },
   "outputs": [],
   "source": [
    "is_dis <- sapply(Lgbd,function(x){d%in%x})"
   ]
  },
  {
   "cell_type": "code",
   "execution_count": 8,
   "metadata": {
    "collapsed": false,
    "scrolled": true
   },
   "outputs": [
    {
     "data": {
      "text/plain": [
       "is_dis\n",
       " FALSE   TRUE \n",
       "116896    284 "
      ]
     },
     "metadata": {},
     "output_type": "display_data"
    }
   ],
   "source": [
    "table(is_dis)"
   ]
  },
  {
   "cell_type": "code",
   "execution_count": 10,
   "metadata": {
    "collapsed": true
   },
   "outputs": [],
   "source": [
    "sens <- ss_sp$sens_dis\n",
    "spec <- ss_sp$spec_dis"
   ]
  },
  {
   "cell_type": "code",
   "execution_count": 11,
   "metadata": {
    "collapsed": true
   },
   "outputs": [],
   "source": [
    "N <- nrow(data)\n",
    "a_dis <- sum(is_dis)\n",
    "    b_dis <- N-a_dis\n",
    "\n",
    "As <- (a_dis-(1-spec)*N)/(sens - (1-spec))\n",
    "    Bs <- N-As\n",
    "    T1 <- sens*As\n",
    "    T0 <- spec*Bs\n",
    "    F1 <- (1-spec)*Bs\n",
    "    F0 <- (1-sens)*As\n",
    "    PPV_dis <- T1/(T1+F1)\n",
    "    NPV_dis <- T0/(T0+F0)\n"
   ]
  },
  {
   "cell_type": "code",
   "execution_count": 18,
   "metadata": {
    "collapsed": false
   },
   "outputs": [
    {
     "data": {
      "text/plain": [
       "\n",
       "FALSE  TRUE \n",
       " 9959    41 "
      ]
     },
     "metadata": {},
     "output_type": "display_data"
    }
   ],
   "source": [
    "table(sens - (1-spec) <0)"
   ]
  },
  {
   "cell_type": "code",
   "execution_count": 19,
   "metadata": {
    "collapsed": false,
    "scrolled": true
   },
   "outputs": [
    {
     "data": {
      "text/html": [
       "<table>\n",
       "<tbody>\n",
       "\t<tr><td>0.0008774929</td><td>0.9978335062</td></tr>\n",
       "\t<tr><td>0.0001308931</td><td>0.9971160113</td></tr>\n",
       "\t<tr><td>0.001233222</td><td>0.998704387</td></tr>\n",
       "\t<tr><td>0.001567716</td><td>0.998374850</td></tr>\n",
       "\t<tr><td>0.001228929</td><td>0.997247980</td></tr>\n",
       "\t<tr><td>0.0003726836</td><td>0.9991557959</td></tr>\n",
       "\t<tr><td>0.001035065</td><td>0.997736119</td></tr>\n",
       "\t<tr><td>0.0009765463</td><td>0.9986978501</td></tr>\n",
       "\t<tr><td>0.0004729543</td><td>0.9973577084</td></tr>\n",
       "\t<tr><td>0.001747761</td><td>0.995342019</td></tr>\n",
       "\t<tr><td>0.002166595</td><td>0.997100707</td></tr>\n",
       "\t<tr><td>0.001229041</td><td>0.998741421</td></tr>\n",
       "\t<tr><td>0.001484203</td><td>0.998040219</td></tr>\n",
       "\t<tr><td>0.001109221</td><td>0.997957024</td></tr>\n",
       "\t<tr><td>0.001495165</td><td>0.998373415</td></tr>\n",
       "\t<tr><td>0.0004383742</td><td>0.9978418850</td></tr>\n",
       "\t<tr><td>0.00050263</td><td>0.99881713</td></tr>\n",
       "\t<tr><td>0.0005113569</td><td>0.9975223811</td></tr>\n",
       "\t<tr><td>9.950833e-05</td><td>9.988010e-01</td></tr>\n",
       "\t<tr><td>3.368372e-06</td><td>9.991896e-01</td></tr>\n",
       "\t<tr><td>0.00252789</td><td>0.99746157</td></tr>\n",
       "\t<tr><td>0.0004978544</td><td>0.9988962107</td></tr>\n",
       "\t<tr><td>0.0001736991</td><td>0.9983993682</td></tr>\n",
       "\t<tr><td>0.0006713506</td><td>0.9966949630</td></tr>\n",
       "\t<tr><td>0.0009067757</td><td>0.9976828423</td></tr>\n",
       "\t<tr><td>0.0002647704</td><td>0.9972742620</td></tr>\n",
       "\t<tr><td>0.001245541</td><td>0.998071699</td></tr>\n",
       "\t<tr><td>0.001797594</td><td>0.997491626</td></tr>\n",
       "\t<tr><td>8.573897e-05</td><td>9.985163e-01</td></tr>\n",
       "\t<tr><td>3.664935e-05</td><td>9.992646e-01</td></tr>\n",
       "\t<tr><td>0.0004283976</td><td>0.9990073395</td></tr>\n",
       "\t<tr><td>0.00139879</td><td>0.99790645</td></tr>\n",
       "\t<tr><td>0.0002654774</td><td>0.9974162622</td></tr>\n",
       "\t<tr><td>0.0009669386</td><td>0.9986363556</td></tr>\n",
       "\t<tr><td>0.000188285</td><td>0.998766335</td></tr>\n",
       "\t<tr><td>0.0009528451</td><td>0.9980132690</td></tr>\n",
       "\t<tr><td>0.001273741</td><td>0.998063965</td></tr>\n",
       "\t<tr><td>0.001422726</td><td>0.997812755</td></tr>\n",
       "\t<tr><td>0.003460456</td><td>0.996205292</td></tr>\n",
       "\t<tr><td>0.000792239</td><td>0.998438255</td></tr>\n",
       "\t<tr><td>0.001349756</td><td>0.998187959</td></tr>\n",
       "</tbody>\n",
       "</table>\n"
      ],
      "text/latex": [
       "\\begin{tabular}{ll}\n",
       "\t 0.0008774929 & 0.9978335062\\\\\n",
       "\t 0.0001308931 & 0.9971160113\\\\\n",
       "\t 0.001233222 & 0.998704387\\\\\n",
       "\t 0.001567716 & 0.998374850\\\\\n",
       "\t 0.001228929 & 0.997247980\\\\\n",
       "\t 0.0003726836 & 0.9991557959\\\\\n",
       "\t 0.001035065 & 0.997736119\\\\\n",
       "\t 0.0009765463 & 0.9986978501\\\\\n",
       "\t 0.0004729543 & 0.9973577084\\\\\n",
       "\t 0.001747761 & 0.995342019\\\\\n",
       "\t 0.002166595 & 0.997100707\\\\\n",
       "\t 0.001229041 & 0.998741421\\\\\n",
       "\t 0.001484203 & 0.998040219\\\\\n",
       "\t 0.001109221 & 0.997957024\\\\\n",
       "\t 0.001495165 & 0.998373415\\\\\n",
       "\t 0.0004383742 & 0.9978418850\\\\\n",
       "\t 0.00050263 & 0.99881713\\\\\n",
       "\t 0.0005113569 & 0.9975223811\\\\\n",
       "\t 9.950833e-05 & 9.988010e-01\\\\\n",
       "\t 3.368372e-06 & 9.991896e-01\\\\\n",
       "\t 0.00252789 & 0.99746157\\\\\n",
       "\t 0.0004978544 & 0.9988962107\\\\\n",
       "\t 0.0001736991 & 0.9983993682\\\\\n",
       "\t 0.0006713506 & 0.9966949630\\\\\n",
       "\t 0.0009067757 & 0.9976828423\\\\\n",
       "\t 0.0002647704 & 0.9972742620\\\\\n",
       "\t 0.001245541 & 0.998071699\\\\\n",
       "\t 0.001797594 & 0.997491626\\\\\n",
       "\t 8.573897e-05 & 9.985163e-01\\\\\n",
       "\t 3.664935e-05 & 9.992646e-01\\\\\n",
       "\t 0.0004283976 & 0.9990073395\\\\\n",
       "\t 0.00139879 & 0.99790645\\\\\n",
       "\t 0.0002654774 & 0.9974162622\\\\\n",
       "\t 0.0009669386 & 0.9986363556\\\\\n",
       "\t 0.000188285 & 0.998766335\\\\\n",
       "\t 0.0009528451 & 0.9980132690\\\\\n",
       "\t 0.001273741 & 0.998063965\\\\\n",
       "\t 0.001422726 & 0.997812755\\\\\n",
       "\t 0.003460456 & 0.996205292\\\\\n",
       "\t 0.000792239 & 0.998438255\\\\\n",
       "\t 0.001349756 & 0.998187959\\\\\n",
       "\\end{tabular}\n"
      ],
      "text/markdown": [
       "1. 0.000877492874521184\n",
       "2. 0.000130893098203848\n",
       "3. 0.00123322193906111\n",
       "4. 0.00156771632994638\n",
       "5. 0.00122892940130073\n",
       "6. 0.000372683587226948\n",
       "7. 0.00103506508682363\n",
       "8. 0.000976546287560538\n",
       "9. 0.000472954304171698\n",
       "10. 0.00174776099416909\n",
       "11. 0.00216659462498162\n",
       "12. 0.0012290407346682\n",
       "13. 0.00148420261194332\n",
       "14. 0.00110922091367714\n",
       "15. 0.00149516520242946\n",
       "16. 0.000438374236847626\n",
       "17. 0.000502630025682334\n",
       "18. 0.000511356862060527\n",
       "19. 9.95083302582203e-05\n",
       "20. 3.36837226763405e-06\n",
       "21. 0.0025278895873675\n",
       "22. 0.000497854435057135\n",
       "23. 0.000173699125324336\n",
       "24. 0.000671350628403788\n",
       "25. 0.000906775659773713\n",
       "26. 0.000264770354110611\n",
       "27. 0.00124554052010421\n",
       "28. 0.00179759380674523\n",
       "29. 8.57389695783644e-05\n",
       "30. 3.66493520981909e-05\n",
       "31. 0.000428397649524614\n",
       "32. 0.00139879047827205\n",
       "33. 0.000265477369858554\n",
       "34. 0.000966938628759072\n",
       "35. 0.000188284957126971\n",
       "36. 0.000952845147894581\n",
       "37. 0.00127374051476824\n",
       "38. 0.00142272557098721\n",
       "39. 0.00346045552487037\n",
       "40. 0.000792238994173595\n",
       "41. 0.00134975630904991\n",
       "42. 0.997833506217448\n",
       "43. 0.997116011266671\n",
       "44. 0.998704387125442\n",
       "45. 0.998374850373181\n",
       "46. 0.99724798045919\n",
       "47. 0.999155795939805\n",
       "48. 0.997736119041737\n",
       "49. 0.998697850149994\n",
       "50. 0.997357708404503\n",
       "51. 0.995342018992967\n",
       "52. 0.997100706910388\n",
       "53. 0.998741420721561\n",
       "54. 0.99804021868673\n",
       "55. 0.997957023526869\n",
       "56. 0.998373415414975\n",
       "57. 0.997841884965247\n",
       "58. 0.998817132573844\n",
       "59. 0.997522381135149\n",
       "60. 0.998800975722635\n",
       "61. 0.999189619885668\n",
       "62. 0.997461570983653\n",
       "63. 0.998896210694387\n",
       "64. 0.9983993681664\n",
       "65. 0.996694962967874\n",
       "66. 0.997682842324929\n",
       "67. 0.997274261986841\n",
       "68. 0.99807169881522\n",
       "69. 0.997491625860691\n",
       "70. 0.998516345521715\n",
       "71. 0.99926457473185\n",
       "72. 0.999007339509785\n",
       "73. 0.99790644679037\n",
       "74. 0.997416262155231\n",
       "75. 0.998636355575744\n",
       "76. 0.998766334710577\n",
       "77. 0.998013269014002\n",
       "78. 0.998063964526705\n",
       "79. 0.997812755230267\n",
       "80. 0.996205292271203\n",
       "81. 0.998438255137385\n",
       "82. 0.998187958924718\n",
       "\n",
       "\n"
      ],
      "text/plain": [
       "              [,1]      [,2]\n",
       " [1,] 8.774929e-04 0.9978335\n",
       " [2,] 1.308931e-04 0.9971160\n",
       " [3,] 1.233222e-03 0.9987044\n",
       " [4,] 1.567716e-03 0.9983749\n",
       " [5,] 1.228929e-03 0.9972480\n",
       " [6,] 3.726836e-04 0.9991558\n",
       " [7,] 1.035065e-03 0.9977361\n",
       " [8,] 9.765463e-04 0.9986979\n",
       " [9,] 4.729543e-04 0.9973577\n",
       "[10,] 1.747761e-03 0.9953420\n",
       "[11,] 2.166595e-03 0.9971007\n",
       "[12,] 1.229041e-03 0.9987414\n",
       "[13,] 1.484203e-03 0.9980402\n",
       "[14,] 1.109221e-03 0.9979570\n",
       "[15,] 1.495165e-03 0.9983734\n",
       "[16,] 4.383742e-04 0.9978419\n",
       "[17,] 5.026300e-04 0.9988171\n",
       "[18,] 5.113569e-04 0.9975224\n",
       "[19,] 9.950833e-05 0.9988010\n",
       "[20,] 3.368372e-06 0.9991896\n",
       "[21,] 2.527890e-03 0.9974616\n",
       "[22,] 4.978544e-04 0.9988962\n",
       "[23,] 1.736991e-04 0.9983994\n",
       "[24,] 6.713506e-04 0.9966950\n",
       "[25,] 9.067757e-04 0.9976828\n",
       "[26,] 2.647704e-04 0.9972743\n",
       "[27,] 1.245541e-03 0.9980717\n",
       "[28,] 1.797594e-03 0.9974916\n",
       "[29,] 8.573897e-05 0.9985163\n",
       "[30,] 3.664935e-05 0.9992646\n",
       "[31,] 4.283976e-04 0.9990073\n",
       "[32,] 1.398790e-03 0.9979064\n",
       "[33,] 2.654774e-04 0.9974163\n",
       "[34,] 9.669386e-04 0.9986364\n",
       "[35,] 1.882850e-04 0.9987663\n",
       "[36,] 9.528451e-04 0.9980133\n",
       "[37,] 1.273741e-03 0.9980640\n",
       "[38,] 1.422726e-03 0.9978128\n",
       "[39,] 3.460456e-03 0.9962053\n",
       "[40,] 7.922390e-04 0.9984383\n",
       "[41,] 1.349756e-03 0.9981880"
      ]
     },
     "metadata": {},
     "output_type": "display_data"
    }
   ],
   "source": [
    "cbind(sens[sens - (1-spec) <0],spec[sens - (1-spec) <0])"
   ]
  },
  {
   "cell_type": "code",
   "execution_count": 20,
   "metadata": {
    "collapsed": false
   },
   "outputs": [
    {
     "data": {
      "text/plain": [
       "\n",
       "FALSE  TRUE \n",
       " 8978  1022 "
      ]
     },
     "metadata": {},
     "output_type": "display_data"
    }
   ],
   "source": [
    "table(a_dis-(1-spec)*N<0)"
   ]
  },
  {
   "cell_type": "code",
   "execution_count": 23,
   "metadata": {
    "collapsed": false
   },
   "outputs": [
    {
     "data": {
      "text/html": [
       "0.99757637822154"
      ],
      "text/latex": [
       "0.99757637822154"
      ],
      "text/markdown": [
       "0.99757637822154"
      ],
      "text/plain": [
       "[1] 0.9975764"
      ]
     },
     "metadata": {},
     "output_type": "display_data"
    }
   ],
   "source": [
    "1-a_dis/N"
   ]
  },
  {
   "cell_type": "code",
   "execution_count": 13,
   "metadata": {
    "collapsed": false
   },
   "outputs": [
    {
     "data": {
      "image/png": "[encoded data removed]",
      "text/plain": [
       "Plot with title “Histogram of NPV_dis”"
      ]
     },
     "metadata": {},
     "output_type": "display_data"
    }
   ],
   "source": [
    "hist(NPV_dis)"
   ]
  },
  {
   "cell_type": "code",
   "execution_count": 24,
   "metadata": {
    "collapsed": false
   },
   "outputs": [
    {
     "data": {
      "text/html": [
       "<table>\n",
       "<thead><tr><th></th><th scope=col>X</th><th scope=col>dis</th><th scope=col>GBD</th><th scope=col>TP_Dis</th><th scope=col>FP_Dis</th><th scope=col>TN_Dis</th><th scope=col>FN_Dis</th><th scope=col>TP_Oth</th><th scope=col>FP_Oth</th><th scope=col>TN_Oth</th><th scope=col>FN_Oth</th></tr></thead>\n",
       "<tbody>\n",
       "\t<tr><th scope=row>11</th><td>11     </td><td>11     </td><td>Leprosy</td><td>2      </td><td>1      </td><td>2760   </td><td>0      </td><td>2154   </td><td>203    </td><td>256    </td><td>150    </td></tr>\n",
       "\t<tr><th scope=row>21</th><td>21                                      </td><td>21                                      </td><td>Hemoglobinopathies and hemolytic anemias</td><td>10                                      </td><td>4                                       </td><td>2743                                    </td><td>6                                       </td><td>2143                                    </td><td>203                                     </td><td>270                                     </td><td>147                                     </td></tr>\n",
       "\t<tr><th scope=row>23</th><td>23                  </td><td>23                  </td><td>Congenital anomalies</td><td>22                  </td><td>34                  </td><td>2706                </td><td>1                   </td><td>2121                </td><td>205                 </td><td>275                 </td><td>162                 </td></tr>\n",
       "</tbody>\n",
       "</table>\n"
      ],
      "text/latex": [
       "\\begin{tabular}{r|lllllllllll}\n",
       "  & X & dis & GBD & TP\\_Dis & FP\\_Dis & TN\\_Dis & FN\\_Dis & TP\\_Oth & FP\\_Oth & TN\\_Oth & FN\\_Oth\\\\\n",
       "\\hline\n",
       "\t11 & 11      & 11      & Leprosy & 2       & 1       & 2760    & 0       & 2154    & 203     & 256     & 150    \\\\\n",
       "\t21 & 21                                       & 21                                       & Hemoglobinopathies and hemolytic anemias & 10                                       & 4                                        & 2743                                     & 6                                        & 2143                                     & 203                                      & 270                                      & 147                                     \\\\\n",
       "\t23 & 23                   & 23                   & Congenital anomalies & 22                   & 34                   & 2706                 & 1                    & 2121                 & 205                  & 275                  & 162                 \\\\\n",
       "\\end{tabular}\n"
      ],
      "text/plain": [
       "    X dis                                      GBD TP_Dis FP_Dis TN_Dis FN_Dis\n",
       "11 11  11                                  Leprosy      2      1   2760      0\n",
       "21 21  21 Hemoglobinopathies and hemolytic anemias     10      4   2743      6\n",
       "23 23  23                     Congenital anomalies     22     34   2706      1\n",
       "   TP_Oth FP_Oth TN_Oth FN_Oth\n",
       "11   2154    203    256    150\n",
       "21   2143    203    270    147\n",
       "23   2121    205    275    162"
      ]
     },
     "metadata": {},
     "output_type": "display_data"
    }
   ],
   "source": [
    "PERF[c(11,21,23),]"
   ]
  },
  {
   "cell_type": "code",
   "execution_count": 25,
   "metadata": {
    "collapsed": false
   },
   "outputs": [
    {
     "data": {
      "image/png": "[encoded data removed]",
      "text/plain": [
       "Plot with title “spec_oth”"
      ]
     },
     "metadata": {},
     "output_type": "display_data"
    }
   ],
   "source": [
    "d <- 23\n",
    "\n",
    "ss_sp <- read.table(paste(c(\"/media/igna/Elements/HotelDieu/Cochrane/MappingRCTs_vs_Burden/Replicates/\",as.character(d),\"/Sens_spec.txt\"),collapse=\"\"))\n",
    "\n",
    "options(repr.plot.width=9, repr.plot.height=3)\n",
    "par(mfrow=c(1,4))\n",
    "for(i in 1:ncol(ss_sp)) hist(ss_sp[,i],xlim=c(0,1),main=colnames(ss_sp)[i],xlab=NULL)\n",
    "    "
   ]
  },
  {
   "cell_type": "code",
   "execution_count": 26,
   "metadata": {
    "collapsed": true
   },
   "outputs": [],
   "source": [
    "is_dis <- sapply(Lgbd,function(x){d%in%x})"
   ]
  },
  {
   "cell_type": "code",
   "execution_count": 27,
   "metadata": {
    "collapsed": false
   },
   "outputs": [
    {
     "data": {
      "text/html": [
       "1777"
      ],
      "text/latex": [
       "1777"
      ],
      "text/markdown": [
       "1777"
      ],
      "text/plain": [
       "[1] 1777"
      ]
     },
     "metadata": {},
     "output_type": "display_data"
    }
   ],
   "source": [
    "sum(is_dis)"
   ]
  },
  {
   "cell_type": "code",
   "execution_count": 28,
   "metadata": {
    "collapsed": true
   },
   "outputs": [],
   "source": [
    "sens <- ss_sp$sens_dis\n",
    "spec <- ss_sp$spec_dis"
   ]
  },
  {
   "cell_type": "code",
   "execution_count": 29,
   "metadata": {
    "collapsed": true
   },
   "outputs": [],
   "source": [
    "N <- nrow(data)\n",
    "a_dis <- sum(is_dis)\n",
    "    b_dis <- N-a_dis\n",
    "\n",
    "As <- (a_dis-(1-spec)*N)/(sens - (1-spec))\n",
    "    Bs <- N-As\n",
    "    T1 <- sens*As\n",
    "    T0 <- spec*Bs\n",
    "    F1 <- (1-spec)*Bs\n",
    "    F0 <- (1-sens)*As\n",
    "    PPV_dis <- T1/(T1+F1)\n",
    "    NPV_dis <- T0/(T0+F0)"
   ]
  },
  {
   "cell_type": "code",
   "execution_count": 30,
   "metadata": {
    "collapsed": false
   },
   "outputs": [
    {
     "data": {
      "text/plain": [
       "\n",
       "FALSE \n",
       "10000 "
      ]
     },
     "metadata": {},
     "output_type": "display_data"
    }
   ],
   "source": [
    "table(sens - (1-spec) <0)"
   ]
  },
  {
   "cell_type": "code",
   "execution_count": 31,
   "metadata": {
    "collapsed": false
   },
   "outputs": [
    {
     "data": {
      "text/plain": [
       "\n",
       "FALSE  TRUE \n",
       " 8650  1350 "
      ]
     },
     "metadata": {},
     "output_type": "display_data"
    }
   ],
   "source": [
    "table(a_dis-(1-spec)*N<0)"
   ]
  },
  {
   "cell_type": "code",
   "execution_count": 33,
   "metadata": {
    "collapsed": false
   },
   "outputs": [
    {
     "data": {
      "text/html": [
       "0.984835296125619"
      ],
      "text/latex": [
       "0.984835296125619"
      ],
      "text/markdown": [
       "0.984835296125619"
      ],
      "text/plain": [
       "[1] 0.9848353"
      ]
     },
     "metadata": {},
     "output_type": "display_data"
    }
   ],
   "source": [
    "1-a_dis/N"
   ]
  },
  {
   "cell_type": "code",
   "execution_count": 34,
   "metadata": {
    "collapsed": false
   },
   "outputs": [
    {
     "data": {
      "text/plain": [
       "\n",
       "FALSE  TRUE \n",
       " 1350  8650 "
      ]
     },
     "metadata": {},
     "output_type": "display_data"
    }
   ],
   "source": [
    "table(spec>1-a_dis/N)"
   ]
  },
  {
   "cell_type": "code",
   "execution_count": 36,
   "metadata": {
    "collapsed": false
   },
   "outputs": [
    {
     "data": {
      "text/html": [
       "0.987235594456601"
      ],
      "text/latex": [
       "0.987235594456601"
      ],
      "text/markdown": [
       "0.987235594456601"
      ],
      "text/plain": [
       "[1] 0.9872356"
      ]
     },
     "metadata": {},
     "output_type": "display_data"
    }
   ],
   "source": [
    "2707/(2707+35)"
   ]
  },
  {
   "cell_type": "code",
   "execution_count": 37,
   "metadata": {
    "collapsed": false
   },
   "outputs": [
    {
     "data": {
      "text/plain": [
       "\n",
       "\tExact binomial test\n",
       "\n",
       "data:  34 and 2740\n",
       "number of successes = 34, number of trials = 2740, p-value < 2.2e-16\n",
       "alternative hypothesis: true probability of success is not equal to 0.5\n",
       "95 percent confidence interval:\n",
       " 0.008608317 0.017297187\n",
       "sample estimates:\n",
       "probability of success \n",
       "            0.01240876 \n"
      ]
     },
     "metadata": {},
     "output_type": "display_data"
    }
   ],
   "source": [
    "binom.test(34,2740)"
   ]
  },
  {
   "cell_type": "code",
   "execution_count": 39,
   "metadata": {
    "collapsed": false
   },
   "outputs": [
    {
     "data": {
      "text/html": [
       "23.58678858"
      ],
      "text/latex": [
       "23.58678858"
      ],
      "text/markdown": [
       "23.58678858"
      ],
      "text/plain": [
       "[1] 23.58679"
      ]
     },
     "metadata": {},
     "output_type": "display_data"
    }
   ],
   "source": [
    "0.008608317*2740"
   ]
  },
  {
   "cell_type": "code",
   "execution_count": 41,
   "metadata": {
    "collapsed": false
   },
   "outputs": [
    {
     "data": {
      "text/html": [
       "0.990882567469001"
      ],
      "text/latex": [
       "0.990882567469001"
      ],
      "text/markdown": [
       "0.990882567469001"
      ],
      "text/plain": [
       "[1] 0.9908826"
      ]
     },
     "metadata": {},
     "output_type": "display_data"
    }
   ],
   "source": [
    "2717/(2717+25)"
   ]
  },
  {
   "cell_type": "code",
   "execution_count": 42,
   "metadata": {
    "collapsed": true
   },
   "outputs": [],
   "source": [
    "spec <- rbeta(10000,2716+1,24+1)\n"
   ]
  },
  {
   "cell_type": "code",
   "execution_count": 43,
   "metadata": {
    "collapsed": false
   },
   "outputs": [
    {
     "data": {
      "image/png": "[encoded data removed]",
      "text/plain": [
       "Plot with title “Histogram of spec”"
      ]
     },
     "metadata": {},
     "output_type": "display_data"
    }
   ],
   "source": [
    "hist(spec)"
   ]
  },
  {
   "cell_type": "code",
   "execution_count": 44,
   "metadata": {
    "collapsed": false
   },
   "outputs": [
    {
     "data": {
      "text/plain": [
       "\n",
       "FALSE  TRUE \n",
       "   24  9976 "
      ]
     },
     "metadata": {},
     "output_type": "display_data"
    }
   ],
   "source": [
    "table(spec>1-a_dis/N)"
   ]
  },
  {
   "cell_type": "code",
   "execution_count": 48,
   "metadata": {
    "collapsed": false
   },
   "outputs": [
    {
     "data": {
      "text/plain": [
       "\n",
       "\tExact binomial test\n",
       "\n",
       "data:  34 and 2740\n",
       "number of successes = 34, number of trials = 2740, p-value < 2.2e-16\n",
       "alternative hypothesis: true probability of success is not equal to 0.5\n",
       "50 percent confidence interval:\n",
       " 0.01092111 0.01414393\n",
       "sample estimates:\n",
       "probability of success \n",
       "            0.01240876 \n"
      ]
     },
     "metadata": {},
     "output_type": "display_data"
    }
   ],
   "source": [
    "binom.test(34,2740,conf.level = 0.5)"
   ]
  },
  {
   "cell_type": "code",
   "execution_count": 49,
   "metadata": {
    "collapsed": false
   },
   "outputs": [
    {
     "data": {
      "text/html": [
       "29.9238414"
      ],
      "text/latex": [
       "29.9238414"
      ],
      "text/markdown": [
       "29.9238414"
      ],
      "text/plain": [
       "[1] 29.92384"
      ]
     },
     "metadata": {},
     "output_type": "display_data"
    }
   ],
   "source": [
    "0.01092111*2740"
   ]
  },
  {
   "cell_type": "code",
   "execution_count": 50,
   "metadata": {
    "collapsed": true
   },
   "outputs": [],
   "source": [
    "spec <- rbeta(10000,2710+1,30+1)\n"
   ]
  },
  {
   "cell_type": "code",
   "execution_count": 51,
   "metadata": {
    "collapsed": false
   },
   "outputs": [
    {
     "data": {
      "text/plain": [
       "\n",
       "FALSE  TRUE \n",
       "  384  9616 "
      ]
     },
     "metadata": {},
     "output_type": "display_data"
    }
   ],
   "source": [
    "table(spec>1-a_dis/N)"
   ]
  },
  {
   "cell_type": "code",
   "execution_count": null,
   "metadata": {
    "collapsed": true
   },
   "outputs": [],
   "source": []
  }
 ],
 "metadata": {
  "kernelspec": {
   "display_name": "R",
   "language": "R",
   "name": "ir"
  },
  "language_info": {
   "codemirror_mode": "r",
   "file_extension": ".r",
   "mimetype": "text/x-r-source",
   "name": "R",
   "pygments_lexer": "r",
   "version": "3.3.1"
  }
 },
 "nbformat": 4,
 "nbformat_minor": 1
}
