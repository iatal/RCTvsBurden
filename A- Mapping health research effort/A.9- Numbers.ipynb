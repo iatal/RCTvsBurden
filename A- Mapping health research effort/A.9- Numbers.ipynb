{
 "cells": [
  {
   "cell_type": "code",
   "execution_count": 1,
   "metadata": {
    "collapsed": false
   },
   "outputs": [
    {
     "data": {
      "text/html": [
       "117180"
      ],
      "text/latex": [
       "117180"
      ],
      "text/markdown": [
       "117180"
      ],
      "text/plain": [
       "[1] 117180"
      ]
     },
     "metadata": {},
     "output_type": "display_data"
    }
   ],
   "source": [
    "dataNCT <- read.table(\"/media/igna/Elements/HotelDieu/Cochrane/MappingRCTs_vs_Burden/database_RCTs_regions_27diseases.txt\")\n",
    "nrow(dataNCT)"
   ]
  },
  {
   "cell_type": "code",
   "execution_count": 2,
   "metadata": {
    "collapsed": false
   },
   "outputs": [
    {
     "data": {
      "text/plain": [
       "\n",
       " FALSE   TRUE \n",
       "109211   7969 "
      ]
     },
     "metadata": {},
     "output_type": "display_data"
    }
   ],
   "source": [
    "table(is.na(dataNCT$Sample))"
   ]
  },
  {
   "cell_type": "code",
   "execution_count": 14,
   "metadata": {
    "collapsed": false
   },
   "outputs": [
    {
     "data": {
      "text/plain": [
       "[1] NA"
      ]
     },
     "metadata": {},
     "output_type": "display_data"
    },
    {
     "data": {
      "text/html": [
       "77609622"
      ],
      "text/latex": [
       "77609622"
      ],
      "text/markdown": [
       "77609622"
      ],
      "text/plain": [
       "[1] 77609622"
      ]
     },
     "metadata": {},
     "output_type": "display_data"
    },
    {
     "data": {
      "text/html": [
       "43952638"
      ],
      "text/latex": [
       "43952638"
      ],
      "text/markdown": [
       "43952638"
      ],
      "text/plain": [
       "[1] 43952638"
      ]
     },
     "metadata": {},
     "output_type": "display_data"
    },
    {
     "data": {
      "text/plain": [
       "\n",
       " FALSE   TRUE \n",
       "107558   9622 "
      ]
     },
     "metadata": {},
     "output_type": "display_data"
    },
    {
     "data": {
      "text/html": [
       "20121212"
      ],
      "text/latex": [
       "20121212"
      ],
      "text/markdown": [
       "20121212"
      ],
      "text/plain": [
       "[1] 20121212"
      ]
     },
     "metadata": {},
     "output_type": "display_data"
    },
    {
     "data": {
      "text/plain": [
       "\n",
       " FALSE   TRUE \n",
       "109211   7969 "
      ]
     },
     "metadata": {},
     "output_type": "display_data"
    },
    {
     "data": {
      "text/plain": [
       "\n",
       " FALSE   TRUE \n",
       "  1629 107582 "
      ]
     },
     "metadata": {},
     "output_type": "display_data"
    },
    {
     "data": {
      "text/plain": [
       "\n",
       " FALSE   TRUE \n",
       "     9 109202 "
      ]
     },
     "metadata": {},
     "output_type": "display_data"
    },
    {
     "data": {
      "text/html": [
       "<table>\n",
       "<thead><tr><th></th><th scope=col>TrialID</th><th scope=col>brief_title</th><th scope=col>official_title</th><th scope=col>Primary_sponsor</th><th scope=col>Source_Register</th><th scope=col>Recruitment_Status</th><th scope=col>other_records</th><th scope=col>Target_size</th><th scope=col>Study_type</th><th scope=col>Study_design</th><th scope=col>⋯</th><th scope=col>Secondary_Sponsor</th><th scope=col>year</th><th scope=col>Interv</th><th scope=col>Regions</th><th scope=col>Nb_ctr_per_reg</th><th scope=col>Sample</th><th scope=col>PMID</th><th scope=col>GBD28</th><th scope=col>GBD171</th><th scope=col>GBD27</th></tr></thead>\n",
       "<tbody>\n",
       "\t<tr><th scope=row>27855</th><td>ISRCTN36729271                                                                                </td><td>The Zambia, South Africa, Tuberculosis and Acquired Immune Deficiency Syndrome-reduction Trial</td><td>                                                                                              </td><td>Consortium to Respond Effectively to the AIDS-Tuberculosis Epidemic (CREATE) (USA)            </td><td>ISRCTN                                                                                        </td><td>Not Recruiting                                                                                </td><td>No                                                                                            </td><td>1500000                                                                                       </td><td>Interventional                                                                                </td><td>Community randomised, factorial design (Treatment)                                            </td><td>⋯                                                                                             </td><td>                                                                                              </td><td>2006                                                                                          </td><td>1                                                                                             </td><td>Sub-Saharian Africa                                                                           </td><td>2                                                                                             </td><td>1500000                                                                                       </td><td>ISRCTN36729271                                                                                </td><td>1                                                                                             </td><td>1                                                                                             </td><td>1                                                                                             </td></tr>\n",
       "\t<tr><th scope=row>224441</th><td>ISRCTN33292440                                                                                                                                                 </td><td>Evaluating the age extension of the NHS Breast Screening Programme                                                                                             </td><td>Evaluating the net effects of extending the age range for breast screening in the NHS Breast Screening Programme in England from 50 - 70 years to 47 - 73 years</td><td>University of Oxford (UK)                                                                                                                                      </td><td>ISRCTN                                                                                                                                                         </td><td>Recruiting                                                                                                                                                     </td><td>Yes                                                                                                                                                            </td><td>3000000                                                                                                                                                        </td><td>Interventional                                                                                                                                                 </td><td>Multicentre cluster randomised study (Screening)                                                                                                               </td><td>⋯                                                                                                                                                              </td><td>                                                                                                                                                               </td><td>2010                                                                                                                                                           </td><td>1                                                                                                                                                              </td><td>High-income                                                                                                                                                    </td><td>1                                                                                                                                                              </td><td>3e+06                                                                                                                                                          </td><td>ISRCTN33292440                                                                                                                                                 </td><td>12                                                                                                                                                             </td><td>54                                                                                                                                                             </td><td>12                                                                                                                                                             </td></tr>\n",
       "\t<tr><th scope=row>569721</th><td>NCT00743691                                                                                                                                                                                                 </td><td>Impact Study of Community Based Treatment of Neonatal Infection by Health Extension Workers on Neonatal Mortality                                                                                           </td><td>Impact of Strengthened Health Extension Program and Community Based Treatment of Neonatal Infections on Neonatal Mortality in Oromia and South Nation and Nationalities &amp; People Region(SNNPR), Ethiopia</td><td>Save the Children                                                                                                                                                                                           </td><td>ClinicalTrials.gov                                                                                                                                                                                          </td><td>Not recruiting                                                                                                                                                                                              </td><td>No                                                                                                                                                                                                          </td><td>660000                                                                                                                                                                                                      </td><td>Interventional                                                                                                                                                                                              </td><td>Allocation: Randomized, Endpoint Classification: Efficacy Study, Intervention Model: Factorial Assignment, Masking: Open Label, Primary Purpose: Health Services Research                                   </td><td>⋯                                                                                                                                                                                                           </td><td>John Snow, Inc.;University of London;UNICEF                                                                                                                                                                 </td><td>2009                                                                                                                                                                                                        </td><td>1                                                                                                                                                                                                           </td><td>Sub-Saharian Africa                                                                                                                                                                                         </td><td>1                                                                                                                                                                                                           </td><td>660000                                                                                                                                                                                                      </td><td>NCT00743691                                                                                                                                                                                                 </td><td>7                                                                                                                                                                                                           </td><td>35                                                                                                                                                                                                          </td><td>7                                                                                                                                                                                                           </td></tr>\n",
       "\t<tr><th scope=row>396213</th><td>ISRCTN58713975                                                                                                                                                                         </td><td>Enhancing TB control and the quality of primary health care through the realignment of provider incentives in China                                                                    </td><td>Enhancing TB control and the quality of primary health care through the realignment of provider incentives in China: a cluster randomised trial of capitation with performance payments</td><td>Bill &amp; Melinda Gates Foundation (USA)                                                                                                                                              </td><td>ISRCTN                                                                                                                                                                                 </td><td>Not Recruiting                                                                                                                                                                         </td><td>No                                                                                                                                                                                     </td><td>600000                                                                                                                                                                                 </td><td>Interventional                                                                                                                                                                         </td><td>Matched-pair single centre non-blinded cluster randomised controlled trial (Prevention)                                                                                                </td><td>⋯                                                                                                                                                                                      </td><td>                                                                                                                                                                                       </td><td>2010                                                                                                                                                                                   </td><td>1                                                                                                                                                                                      </td><td>Southeast Asia, East Asia and Oceania                                                                                                                                                  </td><td>1                                                                                                                                                                                      </td><td>6e+05                                                                                                                                                                                  </td><td>ISRCTN58713975                                                                                                                                                                         </td><td>19&amp;1&amp;24                                                                                                                                                                        </td><td>118&amp;1                                                                                                                                                                              </td><td>19&amp;1&amp;24                                                                                                                                                                        </td></tr>\n",
       "\t<tr><th scope=row>453482</th><td>NCT01660646                                                                                                                    </td><td>Determining the Impact of Enhanced Case Finding on Tuberculosis Notification in The Gambia                                     </td><td>A Cluster Randomised Trial to Assess the Impact of an Enhanced Case Finding Strategy on Tuberculosis Notification in The Gambia</td><td>Medical Research Council Unit, The Gambia                                                                                      </td><td>ClinicalTrials.gov                                                                                                             </td><td>Not recruiting                                                                                                                 </td><td>No                                                                                                                             </td><td>650000                                                                                                                         </td><td>Interventional                                                                                                                 </td><td>Allocation: Randomized, Intervention Model: Parallel Assignment, Masking: Open Label, Primary Purpose: Diagnostic              </td><td>⋯                                                                                                                              </td><td>                                                                                                                               </td><td>2012                                                                                                                           </td><td>1                                                                                                                              </td><td>Sub-Saharian Africa                                                                                                            </td><td>1                                                                                                                              </td><td>650000                                                                                                                         </td><td>NCT01660646                                                                                                                    </td><td>1                                                                                                                              </td><td>1                                                                                                                              </td><td>1                                                                                                                              </td></tr>\n",
       "\t<tr><th scope=row>512072</th><td>NCT01606267                                                                                                                                                                                </td><td>Evaluation of Integrated Community Case Management in Ethiopia                                                                                                                             </td><td>Independent Prospective Evaluation of Integrated Community Case Management and Development and Implementation of a Method for Real-time Mortality Monitoring in the Oromia Region, Ethiopia</td><td>Johns Hopkins Bloomberg School of Public Health                                                                                                                                            </td><td>ClinicalTrials.gov                                                                                                                                                                         </td><td>Recruiting                                                                                                                                                                                 </td><td>No                                                                                                                                                                                         </td><td>607770                                                                                                                                                                                     </td><td>Interventional                                                                                                                                                                             </td><td>Allocation: Randomized, Endpoint Classification: Efficacy Study, Intervention Model: Parallel Assignment, Masking: Open Label, Primary Purpose: Health Services Research                   </td><td>⋯                                                                                                                                                                                          </td><td>Canadian International Development Agency;UNICEF                                                                                                                                           </td><td>2010                                                                                                                                                                                       </td><td>1                                                                                                                                                                                          </td><td>Sub-Saharian Africa                                                                                                                                                                        </td><td>1                                                                                                                                                                                          </td><td>607770                                                                                                                                                                                     </td><td>NCT01606267                                                                                                                                                                                </td><td>3                                                                                                                                                                                          </td><td>5                                                                                                                                                                                          </td><td>3                                                                                                                                                                                          </td></tr>\n",
       "\t<tr><th scope=row>74307</th><td>NCT01411865                                                                                                                                                                                   </td><td>Evaluation of a Toolkit to Improve Cardiovascular Disease Screening and Treatment for People With Diabetes                                                                                    </td><td>Evaluation of a Toolkit to Improve Cardiovascular Disease Screening and Treatment for People With Diabetes                                                                                    </td><td>Sunnybrook Health Sciences Centre                                                                                                                                                             </td><td>ClinicalTrials.gov                                                                                                                                                                            </td><td>Not recruiting                                                                                                                                                                                </td><td>No                                                                                                                                                                                            </td><td>933789                                                                                                                                                                                        </td><td>Interventional                                                                                                                                                                                </td><td>Allocation: Randomized, Endpoint Classification: Efficacy Study, Intervention Model: Parallel Assignment, Masking: Single Blind (Outcomes Assessor), Primary Purpose: Health Services Research</td><td>⋯                                                                                                                                                                                             </td><td>Institute for Clinical Evaluative Sciences                                                                                                                                                    </td><td>2011                                                                                                                                                                                          </td><td>1                                                                                                                                                                                             </td><td>High-income                                                                                                                                                                                   </td><td>1                                                                                                                                                                                             </td><td>933789                                                                                                                                                                                        </td><td>NCT01411865                                                                                                                                                                                   </td><td>19                                                                                                                                                                                            </td><td>118                                                                                                                                                                                           </td><td>19                                                                                                                                                                                            </td></tr>\n",
       "\t<tr><th scope=row>140517</th><td>NCT02527915                                                                                                                    </td><td>Mental Health eConsults                                                                                                        </td><td>The Effects of Mental Health eConsults: A Clinic-level Randomized Trial                                                        </td><td>University of Minnesota - Clinical and Translational Science Institute                                                         </td><td>ClinicalTrials.gov                                                                                                             </td><td>Not recruiting                                                                                                                 </td><td>No                                                                                                                             </td><td>900000                                                                                                                         </td><td>Interventional                                                                                                                 </td><td>Allocation: Randomized, Intervention Model: Parallel Assignment, Masking: Open Label, Primary Purpose: Health Services Research</td><td>⋯                                                                                                                              </td><td>Allina Health System                                                                                                           </td><td>2015                                                                                                                           </td><td>1                                                                                                                              </td><td>High-income                                                                                                                    </td><td>1                                                                                                                              </td><td>9e+05                                                                                                                          </td><td>NCT02527915                                                                                                                    </td><td>                                                                                                                               </td><td>                                                                                                                               </td><td>                                                                                                                               </td></tr>\n",
       "\t<tr><th scope=row>355253</th><td>NCT02361008                                                                                                                                                                                                    </td><td>A Randomized Controlled Trial:Treatments on Infundibular Ventricular Septal Defect                                                                                                                             </td><td>TEE-guided Perventricular Device Closure Through Minithoracotomy vs Traditional Surgery Repair Via CBP in Treatment of Infundibular Ventricular Septal Defect:A Two-center Clinical Randomized Controlled Trial</td><td>Bentong Yu                                                                                                                                                                                                     </td><td>ClinicalTrials.gov                                                                                                                                                                                             </td><td>Not recruiting                                                                                                                                                                                                 </td><td>No                                                                                                                                                                                                             </td><td>20121212                                                                                                                                                                                                       </td><td>Interventional                                                                                                                                                                                                 </td><td>Allocation: Randomized, Endpoint Classification: Safety/Efficacy Study, Intervention Model: Parallel Assignment, Masking: Single Blind (Caregiver), Primary Purpose: Treatment                                 </td><td>⋯                                                                                                                                                                                                              </td><td>The Third Affiliated Hospital of Nanchang University                                                                                                                                                           </td><td>2012                                                                                                                                                                                                           </td><td>1                                                                                                                                                                                                              </td><td>Southeast Asia, East Asia and Oceania                                                                                                                                                                          </td><td>1                                                                                                                                                                                                              </td><td>20121212                                                                                                                                                                                                       </td><td>NCT02361008                                                                                                                                                                                                    </td><td>23                                                                                                                                                                                                             </td><td>171                                                                                                                                                                                                            </td><td>23                                                                                                                                                                                                             </td></tr>\n",
       "</tbody>\n",
       "</table>\n"
      ],
      "text/latex": [
       "\\begin{tabular}{r|lllllllllllllllllllllllll}\n",
       "  & TrialID & brief\\_title & official\\_title & Primary\\_sponsor & Source\\_Register & Recruitment\\_Status & other\\_records & Target\\_size & Study\\_type & Study\\_design & ⋯ & Secondary\\_Sponsor & year & Interv & Regions & Nb\\_ctr\\_per\\_reg & Sample & PMID & GBD28 & GBD171 & GBD27\\\\\n",
       "\\hline\n",
       "\t27855 & ISRCTN36729271                                                                                 & The Zambia, South Africa, Tuberculosis and Acquired Immune Deficiency Syndrome-reduction Trial &                                                                                                & Consortium to Respond Effectively to the AIDS-Tuberculosis Epidemic (CREATE) (USA)             & ISRCTN                                                                                         & Not Recruiting                                                                                 & No                                                                                             & 1500000                                                                                        & Interventional                                                                                 & Community randomised, factorial design (Treatment)                                             & ⋯                                                                                              &                                                                                                & 2006                                                                                           & 1                                                                                              & Sub-Saharian Africa                                                                            & 2                                                                                              & 1500000                                                                                        & ISRCTN36729271                                                                                 & 1                                                                                              & 1                                                                                              & 1                                                                                             \\\\\n",
       "\t224441 & ISRCTN33292440                                                                                                                                                  & Evaluating the age extension of the NHS Breast Screening Programme                                                                                              & Evaluating the net effects of extending the age range for breast screening in the NHS Breast Screening Programme in England from 50 - 70 years to 47 - 73 years & University of Oxford (UK)                                                                                                                                       & ISRCTN                                                                                                                                                          & Recruiting                                                                                                                                                      & Yes                                                                                                                                                             & 3000000                                                                                                                                                         & Interventional                                                                                                                                                  & Multicentre cluster randomised study (Screening)                                                                                                                & ⋯                                                                                                                                                               &                                                                                                                                                                 & 2010                                                                                                                                                            & 1                                                                                                                                                               & High-income                                                                                                                                                     & 1                                                                                                                                                               & 3e+06                                                                                                                                                           & ISRCTN33292440                                                                                                                                                  & 12                                                                                                                                                              & 54                                                                                                                                                              & 12                                                                                                                                                             \\\\\n",
       "\t569721 & NCT00743691                                                                                                                                                                                                & Impact Study of Community Based Treatment of Neonatal Infection by Health Extension Workers on Neonatal Mortality                                                                                          & Impact of Strengthened Health Extension Program and Community Based Treatment of Neonatal Infections on Neonatal Mortality in Oromia and South Nation and Nationalities \\& People Region(SNNPR), Ethiopia & Save the Children                                                                                                                                                                                          & ClinicalTrials.gov                                                                                                                                                                                         & Not recruiting                                                                                                                                                                                             & No                                                                                                                                                                                                         & 660000                                                                                                                                                                                                     & Interventional                                                                                                                                                                                             & Allocation: Randomized, Endpoint Classification: Efficacy Study, Intervention Model: Factorial Assignment, Masking: Open Label, Primary Purpose: Health Services Research                                  & ⋯                                                                                                                                                                                                          & John Snow, Inc.;University of London;UNICEF                                                                                                                                                                & 2009                                                                                                                                                                                                       & 1                                                                                                                                                                                                          & Sub-Saharian Africa                                                                                                                                                                                        & 1                                                                                                                                                                                                          & 660000                                                                                                                                                                                                     & NCT00743691                                                                                                                                                                                                & 7                                                                                                                                                                                                          & 35                                                                                                                                                                                                         & 7                                                                                                                                                                                                         \\\\\n",
       "\t396213 & ISRCTN58713975                                                                                                                                                                          & Enhancing TB control and the quality of primary health care through the realignment of provider incentives in China                                                                     & Enhancing TB control and the quality of primary health care through the realignment of provider incentives in China: a cluster randomised trial of capitation with performance payments & Bill \\& Melinda Gates Foundation (USA)                                                                                                                                                 & ISRCTN                                                                                                                                                                                  & Not Recruiting                                                                                                                                                                          & No                                                                                                                                                                                      & 600000                                                                                                                                                                                  & Interventional                                                                                                                                                                          & Matched-pair single centre non-blinded cluster randomised controlled trial (Prevention)                                                                                                 & ⋯                                                                                                                                                                                       &                                                                                                                                                                                         & 2010                                                                                                                                                                                    & 1                                                                                                                                                                                       & Southeast Asia, East Asia and Oceania                                                                                                                                                   & 1                                                                                                                                                                                       & 6e+05                                                                                                                                                                                   & ISRCTN58713975                                                                                                                                                                          & 19\\&1\\&24                                                                                                                                                                             & 118\\&1                                                                                                                                                                                 & 19\\&1\\&24                                                                                                                                                                            \\\\\n",
       "\t453482 & NCT01660646                                                                                                                     & Determining the Impact of Enhanced Case Finding on Tuberculosis Notification in The Gambia                                      & A Cluster Randomised Trial to Assess the Impact of an Enhanced Case Finding Strategy on Tuberculosis Notification in The Gambia & Medical Research Council Unit, The Gambia                                                                                       & ClinicalTrials.gov                                                                                                              & Not recruiting                                                                                                                  & No                                                                                                                              & 650000                                                                                                                          & Interventional                                                                                                                  & Allocation: Randomized, Intervention Model: Parallel Assignment, Masking: Open Label, Primary Purpose: Diagnostic               & ⋯                                                                                                                               &                                                                                                                                 & 2012                                                                                                                            & 1                                                                                                                               & Sub-Saharian Africa                                                                                                             & 1                                                                                                                               & 650000                                                                                                                          & NCT01660646                                                                                                                     & 1                                                                                                                               & 1                                                                                                                               & 1                                                                                                                              \\\\\n",
       "\t512072 & NCT01606267                                                                                                                                                                                 & Evaluation of Integrated Community Case Management in Ethiopia                                                                                                                              & Independent Prospective Evaluation of Integrated Community Case Management and Development and Implementation of a Method for Real-time Mortality Monitoring in the Oromia Region, Ethiopia & Johns Hopkins Bloomberg School of Public Health                                                                                                                                             & ClinicalTrials.gov                                                                                                                                                                          & Recruiting                                                                                                                                                                                  & No                                                                                                                                                                                          & 607770                                                                                                                                                                                      & Interventional                                                                                                                                                                              & Allocation: Randomized, Endpoint Classification: Efficacy Study, Intervention Model: Parallel Assignment, Masking: Open Label, Primary Purpose: Health Services Research                    & ⋯                                                                                                                                                                                           & Canadian International Development Agency;UNICEF                                                                                                                                            & 2010                                                                                                                                                                                        & 1                                                                                                                                                                                           & Sub-Saharian Africa                                                                                                                                                                         & 1                                                                                                                                                                                           & 607770                                                                                                                                                                                      & NCT01606267                                                                                                                                                                                 & 3                                                                                                                                                                                           & 5                                                                                                                                                                                           & 3                                                                                                                                                                                          \\\\\n",
       "\t74307 & NCT01411865                                                                                                                                                                                    & Evaluation of a Toolkit to Improve Cardiovascular Disease Screening and Treatment for People With Diabetes                                                                                     & Evaluation of a Toolkit to Improve Cardiovascular Disease Screening and Treatment for People With Diabetes                                                                                     & Sunnybrook Health Sciences Centre                                                                                                                                                              & ClinicalTrials.gov                                                                                                                                                                             & Not recruiting                                                                                                                                                                                 & No                                                                                                                                                                                             & 933789                                                                                                                                                                                         & Interventional                                                                                                                                                                                 & Allocation: Randomized, Endpoint Classification: Efficacy Study, Intervention Model: Parallel Assignment, Masking: Single Blind (Outcomes Assessor), Primary Purpose: Health Services Research & ⋯                                                                                                                                                                                              & Institute for Clinical Evaluative Sciences                                                                                                                                                     & 2011                                                                                                                                                                                           & 1                                                                                                                                                                                              & High-income                                                                                                                                                                                    & 1                                                                                                                                                                                              & 933789                                                                                                                                                                                         & NCT01411865                                                                                                                                                                                    & 19                                                                                                                                                                                             & 118                                                                                                                                                                                            & 19                                                                                                                                                                                            \\\\\n",
       "\t140517 & NCT02527915                                                                                                                     & Mental Health eConsults                                                                                                         & The Effects of Mental Health eConsults: A Clinic-level Randomized Trial                                                         & University of Minnesota - Clinical and Translational Science Institute                                                          & ClinicalTrials.gov                                                                                                              & Not recruiting                                                                                                                  & No                                                                                                                              & 900000                                                                                                                          & Interventional                                                                                                                  & Allocation: Randomized, Intervention Model: Parallel Assignment, Masking: Open Label, Primary Purpose: Health Services Research & ⋯                                                                                                                               & Allina Health System                                                                                                            & 2015                                                                                                                            & 1                                                                                                                               & High-income                                                                                                                     & 1                                                                                                                               & 9e+05                                                                                                                           & NCT02527915                                                                                                                     &                                                                                                                                 &                                                                                                                                 &                                                                                                                                \\\\\n",
       "\t355253 & NCT02361008                                                                                                                                                                                                     & A Randomized Controlled Trial:Treatments on Infundibular Ventricular Septal Defect                                                                                                                              & TEE-guided Perventricular Device Closure Through Minithoracotomy vs Traditional Surgery Repair Via CBP in Treatment of Infundibular Ventricular Septal Defect:A Two-center Clinical Randomized Controlled Trial & Bentong Yu                                                                                                                                                                                                      & ClinicalTrials.gov                                                                                                                                                                                              & Not recruiting                                                                                                                                                                                                  & No                                                                                                                                                                                                              & 20121212                                                                                                                                                                                                        & Interventional                                                                                                                                                                                                  & Allocation: Randomized, Endpoint Classification: Safety/Efficacy Study, Intervention Model: Parallel Assignment, Masking: Single Blind (Caregiver), Primary Purpose: Treatment                                  & ⋯                                                                                                                                                                                                               & The Third Affiliated Hospital of Nanchang University                                                                                                                                                            & 2012                                                                                                                                                                                                            & 1                                                                                                                                                                                                               & Southeast Asia, East Asia and Oceania                                                                                                                                                                           & 1                                                                                                                                                                                                               & 20121212                                                                                                                                                                                                        & NCT02361008                                                                                                                                                                                                     & 23                                                                                                                                                                                                              & 171                                                                                                                                                                                                             & 23                                                                                                                                                                                                             \\\\\n",
       "\\end{tabular}\n"
      ],
      "text/plain": [
       "              TrialID\n",
       "27855  ISRCTN36729271\n",
       "224441 ISRCTN33292440\n",
       "569721    NCT00743691\n",
       "396213 ISRCTN58713975\n",
       "453482    NCT01660646\n",
       "512072    NCT01606267\n",
       "74307     NCT01411865\n",
       "140517    NCT02527915\n",
       "355253    NCT02361008\n",
       "                                                                                                               brief_title\n",
       "27855                       The Zambia, South Africa, Tuberculosis and Acquired Immune Deficiency Syndrome-reduction Trial\n",
       "224441                                                  Evaluating the age extension of the NHS Breast Screening Programme\n",
       "569721   Impact Study of Community Based Treatment of Neonatal Infection by Health Extension Workers on Neonatal Mortality\n",
       "396213 Enhancing TB control and the quality of primary health care through the realignment of provider incentives in China\n",
       "453482                          Determining the Impact of Enhanced Case Finding on Tuberculosis Notification in The Gambia\n",
       "512072                                                      Evaluation of Integrated Community Case Management in Ethiopia\n",
       "74307           Evaluation of a Toolkit to Improve Cardiovascular Disease Screening and Treatment for People With Diabetes\n",
       "140517                                                                                             Mental Health eConsults\n",
       "355253                                  A Randomized Controlled Trial:Treatments on Infundibular Ventricular Septal Defect\n",
       "                                                                                                                                                                                                        official_title\n",
       "27855                                                                                                                                                                                                                 \n",
       "224441                                                 Evaluating the net effects of extending the age range for breast screening in the NHS Breast Screening Programme in England from 50 - 70 years to 47 - 73 years\n",
       "569721        Impact of Strengthened Health Extension Program and Community Based Treatment of Neonatal Infections on Neonatal Mortality in Oromia and South Nation and Nationalities & People Region(SNNPR), Ethiopia\n",
       "396213                         Enhancing TB control and the quality of primary health care through the realignment of provider incentives in China: a cluster randomised trial of capitation with performance payments\n",
       "453482                                                                                 A Cluster Randomised Trial to Assess the Impact of an Enhanced Case Finding Strategy on Tuberculosis Notification in The Gambia\n",
       "512072                     Independent Prospective Evaluation of Integrated Community Case Management and Development and Implementation of a Method for Real-time Mortality Monitoring in the Oromia Region, Ethiopia\n",
       "74307                                                                                                       Evaluation of a Toolkit to Improve Cardiovascular Disease Screening and Treatment for People With Diabetes\n",
       "140517                                                                                                                                         The Effects of Mental Health eConsults: A Clinic-level Randomized Trial\n",
       "355253 TEE-guided Perventricular Device Closure Through Minithoracotomy vs Traditional Surgery Repair Via CBP in Treatment of Infundibular Ventricular Septal Defect:A Two-center Clinical Randomized Controlled Trial\n",
       "                                                                          Primary_sponsor\n",
       "27855  Consortium to Respond Effectively to the AIDS-Tuberculosis Epidemic (CREATE) (USA)\n",
       "224441                                                          University of Oxford (UK)\n",
       "569721                                                                  Save the Children\n",
       "396213                                              Bill & Melinda Gates Foundation (USA)\n",
       "453482                                          Medical Research Council Unit, The Gambia\n",
       "512072                                    Johns Hopkins Bloomberg School of Public Health\n",
       "74307                                                   Sunnybrook Health Sciences Centre\n",
       "140517             University of Minnesota - Clinical and Translational Science Institute\n",
       "355253                                                                         Bentong Yu\n",
       "          Source_Register Recruitment_Status other_records Target_size\n",
       "27855              ISRCTN     Not Recruiting            No     1500000\n",
       "224441             ISRCTN         Recruiting           Yes     3000000\n",
       "569721 ClinicalTrials.gov     Not recruiting            No      660000\n",
       "396213             ISRCTN     Not Recruiting            No      600000\n",
       "453482 ClinicalTrials.gov     Not recruiting            No      650000\n",
       "512072 ClinicalTrials.gov         Recruiting            No      607770\n",
       "74307  ClinicalTrials.gov     Not recruiting            No      933789\n",
       "140517 ClinicalTrials.gov     Not recruiting            No      900000\n",
       "355253 ClinicalTrials.gov     Not recruiting            No    20121212\n",
       "           Study_type\n",
       "27855  Interventional\n",
       "224441 Interventional\n",
       "569721 Interventional\n",
       "396213 Interventional\n",
       "453482 Interventional\n",
       "512072 Interventional\n",
       "74307  Interventional\n",
       "140517 Interventional\n",
       "355253 Interventional\n",
       "                                                                                                                                                                                         Study_design\n",
       "27855                                                                                                                                              Community randomised, factorial design (Treatment)\n",
       "224441                                                                                                                                               Multicentre cluster randomised study (Screening)\n",
       "569721                      Allocation: Randomized, Endpoint Classification: Efficacy Study, Intervention Model: Factorial Assignment, Masking: Open Label, Primary Purpose: Health Services Research\n",
       "396213                                                                                                        Matched-pair single centre non-blinded cluster randomised controlled trial (Prevention)\n",
       "453482                                                                              Allocation: Randomized, Intervention Model: Parallel Assignment, Masking: Open Label, Primary Purpose: Diagnostic\n",
       "512072                       Allocation: Randomized, Endpoint Classification: Efficacy Study, Intervention Model: Parallel Assignment, Masking: Open Label, Primary Purpose: Health Services Research\n",
       "74307  Allocation: Randomized, Endpoint Classification: Efficacy Study, Intervention Model: Parallel Assignment, Masking: Single Blind (Outcomes Assessor), Primary Purpose: Health Services Research\n",
       "140517                                                                Allocation: Randomized, Intervention Model: Parallel Assignment, Masking: Open Label, Primary Purpose: Health Services Research\n",
       "355253                 Allocation: Randomized, Endpoint Classification: Safety/Efficacy Study, Intervention Model: Parallel Assignment, Masking: Single Blind (Caregiver), Primary Purpose: Treatment\n",
       "       ⋯                                    Secondary_Sponsor year Interv\n",
       "27855  ⋯                                                      2006   TRUE\n",
       "224441 ⋯                                                      2010   TRUE\n",
       "569721 ⋯          John Snow, Inc.;University of London;UNICEF 2009   TRUE\n",
       "396213 ⋯                                                      2010   TRUE\n",
       "453482 ⋯                                                      2012   TRUE\n",
       "512072 ⋯     Canadian International Development Agency;UNICEF 2010   TRUE\n",
       "74307  ⋯           Institute for Clinical Evaluative Sciences 2011   TRUE\n",
       "140517 ⋯                                 Allina Health System 2015   TRUE\n",
       "355253 ⋯ The Third Affiliated Hospital of Nanchang University 2012   TRUE\n",
       "                                     Regions Nb_ctr_per_reg   Sample\n",
       "27855                    Sub-Saharian Africa              2  1500000\n",
       "224441                           High-income              1  3000000\n",
       "569721                   Sub-Saharian Africa              1   660000\n",
       "396213 Southeast Asia, East Asia and Oceania              1   600000\n",
       "453482                   Sub-Saharian Africa              1   650000\n",
       "512072                   Sub-Saharian Africa              1   607770\n",
       "74307                            High-income              1   933789\n",
       "140517                           High-income              1   900000\n",
       "355253 Southeast Asia, East Asia and Oceania              1 20121212\n",
       "                 PMID   GBD28 GBD171   GBD27\n",
       "27855  ISRCTN36729271       1      1       1\n",
       "224441 ISRCTN33292440      12     54      12\n",
       "569721    NCT00743691       7     35       7\n",
       "396213 ISRCTN58713975 19&1&24  118&1 19&1&24\n",
       "453482    NCT01660646       1      1       1\n",
       "512072    NCT01606267       3      5       3\n",
       "74307     NCT01411865      19    118      19\n",
       "140517    NCT02527915                       \n",
       "355253    NCT02361008      23    171      23"
      ]
     },
     "metadata": {},
     "output_type": "display_data"
    }
   ],
   "source": [
    "sum(dataNCT$Sample)\n",
    "sum(dataNCT$Sample[dataNCT$Sample>=10],na.rm=TRUE)\n",
    "sum(dataNCT$Sample[dataNCT$Sample>=10 & dataNCT$Sample<=200000],na.rm=TRUE)\n",
    "table(is.na(dataNCT$Sample) | dataNCT$Sample<10 | dataNCT$Sample > 200000)\n",
    "max(dataNCT$Sample,na.rm=TRUE)\n",
    "table(is.na(dataNCT$Sample))\n",
    "table(dataNCT$Sample >= 10)\n",
    "table(dataNCT$Sample <= 500000)\n",
    "dataNCT[!is.na(dataNCT$Sample) & dataNCT$Sample>500000,]"
   ]
  },
  {
   "cell_type": "code",
   "execution_count": 15,
   "metadata": {
    "collapsed": true
   },
   "outputs": [],
   "source": [
    "data <- read.table(\"../Data/RCTs_and_Patients_Nb_local_prop_median_UI_per_region_and_disease.txt\")"
   ]
  },
  {
   "cell_type": "code",
   "execution_count": 17,
   "metadata": {
    "collapsed": false
   },
   "outputs": [
    {
     "data": {
      "text/html": [
       "<table>\n",
       "<thead><tr><th></th><th scope=col>Region</th><th scope=col>Disease</th><th scope=col>Nb_RCTs_low</th><th scope=col>Nb_RCTs_med</th><th scope=col>Nb_RCTs_up</th><th scope=col>Nb_Patients_low</th><th scope=col>Nb_Patients_med</th><th scope=col>Nb_Patients_up</th><th scope=col>Prop_RCTs_low</th><th scope=col>Prop_RCTs_med</th><th scope=col>Prop_RCTs_up</th><th scope=col>Prop_Patients_low</th><th scope=col>Prop_Patients_med</th><th scope=col>Prop_Patients_up</th></tr></thead>\n",
       "<tbody>\n",
       "\t<tr><th scope=row>1</th><td>Central Europe, Eastern Europe, and Central Asia</td><td>Tuberculosis                                    </td><td>4                                               </td><td>17                                              </td><td>28                                              </td><td>817.791035280509                                </td><td>3727.45887445887                                </td><td>8286.92821455813                                </td><td>0.0670184629223417                              </td><td>0.279881461969048                               </td><td>0.465039030061452                               </td><td>0.0541329855391643                              </td><td>0.246988463741382                               </td><td>0.548127405521537                               </td></tr>\n",
       "\t<tr><th scope=row>2</th><td>High-income       </td><td>Tuberculosis      </td><td>28                </td><td>95                </td><td>186               </td><td>4762.37571428572  </td><td>20953.167032967   </td><td>84573.023212168   </td><td>0.0445697341004633</td><td>0.152             </td><td>0.298837432345686 </td><td>0.0200180273717397</td><td>0.0865961829891856</td><td>0.349878549632735 </td></tr>\n",
       "\t<tr><th scope=row>3</th><td>Latin America and Caribbean</td><td>Tuberculosis               </td><td>8                          </td><td>29                         </td><td>42                         </td><td>2031.4689484127            </td><td>41583.8614125895           </td><td>46889.2196031746           </td><td>0.185393444249661          </td><td>0.67421141343607           </td><td>0.985567832207902          </td><td>0.249160782823159          </td><td>4.82851199551024           </td><td>5.72150805393329           </td></tr>\n",
       "\t<tr><th scope=row>4</th><td>North Africa and Middle East</td><td>Tuberculosis                </td><td>4                           </td><td>17                          </td><td>31                          </td><td>426.4375                    </td><td>2930.70555555556            </td><td>4985.14201868919            </td><td>0.050657984871941           </td><td>0.214646464646465           </td><td>0.393272107025709           </td><td>0.0509572466512192          </td><td>0.351254937304249           </td><td>0.598245272462858           </td></tr>\n",
       "\t<tr><th scope=row>5</th><td>South Asia       </td><td>Tuberculosis     </td><td>11               </td><td>40               </td><td>56               </td><td>3184.94642857143 </td><td>14509.7928571429 </td><td>23783.6479166666 </td><td>0.24519372262736 </td><td>0.883197173769044</td><td>1.26012776852171 </td><td>0.131240556832454</td><td>0.59115596227649 </td><td>1.01031028077123 </td></tr>\n",
       "\t<tr><th scope=row>6</th><td>Southeast Asia, East Asia and Oceania</td><td>Tuberculosis                         </td><td>15                                   </td><td>53                                   </td><td>76                                   </td><td>6389.43234126985                     </td><td>622744.800793651                     </td><td>641181.579265873                     </td><td>0.169275419396122                    </td><td>0.603575902516798                    </td><td>0.872978293733491                    </td><td>0.0293429653913605                   </td><td>2.5739767207954                      </td><td>15.7838601632789                     </td></tr>\n",
       "</tbody>\n",
       "</table>\n"
      ],
      "text/latex": [
       "\\begin{tabular}{r|llllllllllllll}\n",
       "  & Region & Disease & Nb\\_RCTs\\_low & Nb\\_RCTs\\_med & Nb\\_RCTs\\_up & Nb\\_Patients\\_low & Nb\\_Patients\\_med & Nb\\_Patients\\_up & Prop\\_RCTs\\_low & Prop\\_RCTs\\_med & Prop\\_RCTs\\_up & Prop\\_Patients\\_low & Prop\\_Patients\\_med & Prop\\_Patients\\_up\\\\\n",
       "\\hline\n",
       "\t1 & Central Europe, Eastern Europe, and Central Asia & Tuberculosis                                     & 4                                                & 17                                               & 28                                               & 817.791035280509                                 & 3727.45887445887                                 & 8286.92821455813                                 & 0.0670184629223417                               & 0.279881461969048                                & 0.465039030061452                                & 0.0541329855391643                               & 0.246988463741382                                & 0.548127405521537                               \\\\\n",
       "\t2 & High-income        & Tuberculosis       & 28                 & 95                 & 186                & 4762.37571428572   & 20953.167032967    & 84573.023212168    & 0.0445697341004633 & 0.152              & 0.298837432345686  & 0.0200180273717397 & 0.0865961829891856 & 0.349878549632735 \\\\\n",
       "\t3 & Latin America and Caribbean & Tuberculosis                & 8                           & 29                          & 42                          & 2031.4689484127             & 41583.8614125895            & 46889.2196031746            & 0.185393444249661           & 0.67421141343607            & 0.985567832207902           & 0.249160782823159           & 4.82851199551024            & 5.72150805393329           \\\\\n",
       "\t4 & North Africa and Middle East & Tuberculosis                 & 4                            & 17                           & 31                           & 426.4375                     & 2930.70555555556             & 4985.14201868919             & 0.050657984871941            & 0.214646464646465            & 0.393272107025709            & 0.0509572466512192           & 0.351254937304249            & 0.598245272462858           \\\\\n",
       "\t5 & South Asia        & Tuberculosis      & 11                & 40                & 56                & 3184.94642857143  & 14509.7928571429  & 23783.6479166666  & 0.24519372262736  & 0.883197173769044 & 1.26012776852171  & 0.131240556832454 & 0.59115596227649  & 1.01031028077123 \\\\\n",
       "\t6 & Southeast Asia, East Asia and Oceania & Tuberculosis                          & 15                                    & 53                                    & 76                                    & 6389.43234126985                      & 622744.800793651                      & 641181.579265873                      & 0.169275419396122                     & 0.603575902516798                     & 0.872978293733491                     & 0.0293429653913605                    & 2.5739767207954                       & 15.7838601632789                     \\\\\n",
       "\\end{tabular}\n"
      ],
      "text/plain": [
       "                                            Region      Disease Nb_RCTs_low\n",
       "1 Central Europe, Eastern Europe, and Central Asia Tuberculosis           4\n",
       "2                                      High-income Tuberculosis          28\n",
       "3                      Latin America and Caribbean Tuberculosis           8\n",
       "4                     North Africa and Middle East Tuberculosis           4\n",
       "5                                       South Asia Tuberculosis          11\n",
       "6            Southeast Asia, East Asia and Oceania Tuberculosis          15\n",
       "  Nb_RCTs_med Nb_RCTs_up Nb_Patients_low Nb_Patients_med Nb_Patients_up\n",
       "1          17         28        817.7910        3727.459       8286.928\n",
       "2          95        186       4762.3757       20953.167      84573.023\n",
       "3          29         42       2031.4689       41583.861      46889.220\n",
       "4          17         31        426.4375        2930.706       4985.142\n",
       "5          40         56       3184.9464       14509.793      23783.648\n",
       "6          53         76       6389.4323      622744.801     641181.579\n",
       "  Prop_RCTs_low Prop_RCTs_med Prop_RCTs_up Prop_Patients_low Prop_Patients_med\n",
       "1    0.06701846     0.2798815    0.4650390        0.05413299        0.24698846\n",
       "2    0.04456973     0.1520000    0.2988374        0.02001803        0.08659618\n",
       "3    0.18539344     0.6742114    0.9855678        0.24916078        4.82851200\n",
       "4    0.05065798     0.2146465    0.3932721        0.05095725        0.35125494\n",
       "5    0.24519372     0.8831972    1.2601278        0.13124056        0.59115596\n",
       "6    0.16927542     0.6035759    0.8729783        0.02934297        2.57397672\n",
       "  Prop_Patients_up\n",
       "1        0.5481274\n",
       "2        0.3498785\n",
       "3        5.7215081\n",
       "4        0.5982453\n",
       "5        1.0103103\n",
       "6       15.7838602"
      ]
     },
     "metadata": {},
     "output_type": "display_data"
    }
   ],
   "source": [
    "head(data)"
   ]
  },
  {
   "cell_type": "code",
   "execution_count": 27,
   "metadata": {
    "collapsed": false
   },
   "outputs": [],
   "source": [
    "data$Nb_RCTs <- paste(format(round(data$Nb_RCTs_med),nsmall = 0),\n",
    "           \" [\",format(round(data$Nb_RCTs_low),nsmall = 0),\n",
    "           \"--\",format(round(data$Nb_RCTs_up),nsmall = 0),\"]\")\n",
    "data$Nb_Patients <- paste(format(round(data$Nb_Patients_med),nsmall = 0),\n",
    "           \" [\",format(round(data$Nb_Patients_low),nsmall = 0),\n",
    "           \"--\",format(round(data$Nb_Patients_up),nsmall = 0),\"]\")\n",
    "data$Prop_RCTs <- paste(format(round(data$Prop_RCTs_med,1),nsmall = 1),\n",
    "           \" [\",format(round(data$Prop_RCTs_low,1),nsmall = 1),\n",
    "           \"--\",format(round(data$Prop_RCTs_up,1),nsmall = 1),\"]\")\n",
    "data$Prop_Patients <- paste(format(round(data$Prop_Patients_med,1),nsmall = 1),\n",
    "           \" [\",format(round(data$Prop_Patients_low,1),nsmall = 1),\n",
    "           \"--\",format(round(data$Prop_Patients_up,1),nsmall = 1),\"]\")"
   ]
  },
  {
   "cell_type": "code",
   "execution_count": 29,
   "metadata": {
    "collapsed": false
   },
   "outputs": [
    {
     "data": {
      "text/html": [
       "<table>\n",
       "<thead><tr><th></th><th scope=col>Region</th><th scope=col>Disease</th><th scope=col>Nb_RCTs</th><th scope=col>Nb_Patients</th><th scope=col>Prop_RCTs</th><th scope=col>Prop_Patients</th></tr></thead>\n",
       "<tbody>\n",
       "\t<tr><th scope=row>1</th><td>Central Europe, Eastern Europe, and Central Asia</td><td>Tuberculosis                                    </td><td>   17  [     4 --    28 ]                       </td><td>    3727  [      818 --     8287 ]              </td><td> 0.3  [  0.1 --  0.5 ]                          </td><td> 0.2  [  0.1 --  0.5 ]                          </td></tr>\n",
       "\t<tr><th scope=row>2</th><td>High-income                       </td><td>Tuberculosis                      </td><td>   95  [    28 --   186 ]         </td><td>   20953  [     4762 --    84573 ]</td><td> 0.2  [  0.0 --  0.3 ]            </td><td> 0.1  [  0.0 --  0.3 ]            </td></tr>\n",
       "\t<tr><th scope=row>3</th><td>Latin America and Caribbean       </td><td>Tuberculosis                      </td><td>   29  [     8 --    42 ]         </td><td>   41584  [     2031 --    46889 ]</td><td> 0.7  [  0.2 --  1.0 ]            </td><td> 4.8  [  0.2 --  5.7 ]            </td></tr>\n",
       "\t<tr><th scope=row>4</th><td>North Africa and Middle East      </td><td>Tuberculosis                      </td><td>   17  [     4 --    31 ]         </td><td>    2931  [      426 --     4985 ]</td><td> 0.2  [  0.1 --  0.4 ]            </td><td> 0.4  [  0.1 --  0.6 ]            </td></tr>\n",
       "\t<tr><th scope=row>5</th><td>South Asia                        </td><td>Tuberculosis                      </td><td>   40  [    11 --    56 ]         </td><td>   14510  [     3185 --    23784 ]</td><td> 0.9  [  0.2 --  1.3 ]            </td><td> 0.6  [  0.1 --  1.0 ]            </td></tr>\n",
       "\t<tr><th scope=row>6</th><td>Southeast Asia, East Asia and Oceania</td><td>Tuberculosis                         </td><td>   53  [    15 --    76 ]            </td><td>  622745  [     6389 --   641182 ]   </td><td> 0.6  [  0.2 --  0.9 ]               </td><td> 2.6  [  0.0 -- 15.8 ]               </td></tr>\n",
       "</tbody>\n",
       "</table>\n"
      ],
      "text/latex": [
       "\\begin{tabular}{r|llllll}\n",
       "  & Region & Disease & Nb\\_RCTs & Nb\\_Patients & Prop\\_RCTs & Prop\\_Patients\\\\\n",
       "\\hline\n",
       "\t1 & Central Europe, Eastern Europe, and Central Asia & Tuberculosis                                     &    17  {[}     4 --    28 {]}                    &     3727  {[}      818 --     8287 {]}           &  0.3  {[}  0.1 --  0.5 {]}                       &  0.2  {[}  0.1 --  0.5 {]}                      \\\\\n",
       "\t2 & High-income                            & Tuberculosis                           &    95  {[}    28 --   186 {]}          &    20953  {[}     4762 --    84573 {]} &  0.2  {[}  0.0 --  0.3 {]}             &  0.1  {[}  0.0 --  0.3 {]}            \\\\\n",
       "\t3 & Latin America and Caribbean            & Tuberculosis                           &    29  {[}     8 --    42 {]}          &    41584  {[}     2031 --    46889 {]} &  0.7  {[}  0.2 --  1.0 {]}             &  4.8  {[}  0.2 --  5.7 {]}            \\\\\n",
       "\t4 & North Africa and Middle East           & Tuberculosis                           &    17  {[}     4 --    31 {]}          &     2931  {[}      426 --     4985 {]} &  0.2  {[}  0.1 --  0.4 {]}             &  0.4  {[}  0.1 --  0.6 {]}            \\\\\n",
       "\t5 & South Asia                             & Tuberculosis                           &    40  {[}    11 --    56 {]}          &    14510  {[}     3185 --    23784 {]} &  0.9  {[}  0.2 --  1.3 {]}             &  0.6  {[}  0.1 --  1.0 {]}            \\\\\n",
       "\t6 & Southeast Asia, East Asia and Oceania  & Tuberculosis                           &    53  {[}    15 --    76 {]}          &   622745  {[}     6389 --   641182 {]} &  0.6  {[}  0.2 --  0.9 {]}             &  2.6  {[}  0.0 -- 15.8 {]}            \\\\\n",
       "\\end{tabular}\n"
      ],
      "text/plain": [
       "                                            Region      Disease\n",
       "1 Central Europe, Eastern Europe, and Central Asia Tuberculosis\n",
       "2                                      High-income Tuberculosis\n",
       "3                      Latin America and Caribbean Tuberculosis\n",
       "4                     North Africa and Middle East Tuberculosis\n",
       "5                                       South Asia Tuberculosis\n",
       "6            Southeast Asia, East Asia and Oceania Tuberculosis\n",
       "                    Nb_RCTs                        Nb_Patients\n",
       "1    17  [     4 --    28 ]     3727  [      818 --     8287 ]\n",
       "2    95  [    28 --   186 ]    20953  [     4762 --    84573 ]\n",
       "3    29  [     8 --    42 ]    41584  [     2031 --    46889 ]\n",
       "4    17  [     4 --    31 ]     2931  [      426 --     4985 ]\n",
       "5    40  [    11 --    56 ]    14510  [     3185 --    23784 ]\n",
       "6    53  [    15 --    76 ]   622745  [     6389 --   641182 ]\n",
       "               Prop_RCTs          Prop_Patients\n",
       "1  0.3  [  0.1 --  0.5 ]  0.2  [  0.1 --  0.5 ]\n",
       "2  0.2  [  0.0 --  0.3 ]  0.1  [  0.0 --  0.3 ]\n",
       "3  0.7  [  0.2 --  1.0 ]  4.8  [  0.2 --  5.7 ]\n",
       "4  0.2  [  0.1 --  0.4 ]  0.4  [  0.1 --  0.6 ]\n",
       "5  0.9  [  0.2 --  1.3 ]  0.6  [  0.1 --  1.0 ]\n",
       "6  0.6  [  0.2 --  0.9 ]  2.6  [  0.0 -- 15.8 ]"
      ]
     },
     "metadata": {},
     "output_type": "display_data"
    }
   ],
   "source": [
    "head(data[,c(\"Region\",\"Disease\",\"Nb_RCTs\",\"Nb_Patients\",\"Prop_RCTs\",\"Prop_Patients\")])"
   ]
  },
  {
   "cell_type": "code",
   "execution_count": 31,
   "metadata": {
    "collapsed": false,
    "scrolled": true
   },
   "outputs": [
    {
     "data": {
      "text/html": [
       "<table>\n",
       "<thead><tr><th></th><th scope=col>Region</th><th scope=col>Disease</th><th scope=col>Nb_RCTs</th><th scope=col>Nb_Patients</th></tr></thead>\n",
       "<tbody>\n",
       "\t<tr><th scope=row>200</th><td>High-income                       </td><td>All                               </td><td>60631  [ 58035 -- 62973 ]         </td><td>23700587  [ 20134893 -- 25287853 ]</td></tr>\n",
       "\t<tr><th scope=row>206</th><td>All                               </td><td>All                               </td><td>82179  [ 78662 -- 85358 ]         </td><td>60121077  [ 38736579 -- 62786199 ]</td></tr>\n",
       "\t<tr><th scope=row>207</th><td>Non-HI                            </td><td>All                               </td><td>27564  [ 26405 -- 28597 ]         </td><td>36643188  [ 15843980 -- 38170997 ]</td></tr>\n",
       "</tbody>\n",
       "</table>\n"
      ],
      "text/latex": [
       "\\begin{tabular}{r|llll}\n",
       "  & Region & Disease & Nb\\_RCTs & Nb\\_Patients\\\\\n",
       "\\hline\n",
       "\t200 & High-income                            & All                                    & 60631  {[} 58035 -- 62973 {]}          & 23700587  {[} 20134893 -- 25287853 {]}\\\\\n",
       "\t206 & All                                    & All                                    & 82179  {[} 78662 -- 85358 {]}          & 60121077  {[} 38736579 -- 62786199 {]}\\\\\n",
       "\t207 & Non-HI                                 & All                                    & 27564  {[} 26405 -- 28597 {]}          & 36643188  {[} 15843980 -- 38170997 {]}\\\\\n",
       "\\end{tabular}\n"
      ],
      "text/plain": [
       "         Region Disease                   Nb_RCTs\n",
       "200 High-income     All 60631  [ 58035 -- 62973 ]\n",
       "206         All     All 82179  [ 78662 -- 85358 ]\n",
       "207      Non-HI     All 27564  [ 26405 -- 28597 ]\n",
       "                           Nb_Patients\n",
       "200 23700587  [ 20134893 -- 25287853 ]\n",
       "206 60121077  [ 38736579 -- 62786199 ]\n",
       "207 36643188  [ 15843980 -- 38170997 ]"
      ]
     },
     "metadata": {},
     "output_type": "display_data"
    }
   ],
   "source": [
    "data[data$Dis==\"All\" & data$Region%in%c(\"All\",\"High-income\",\"Non-HI\"),c(\"Region\",\"Disease\",\"Nb_RCTs\",\"Nb_Patients\")]"
   ]
  },
  {
   "cell_type": "code",
   "execution_count": 32,
   "metadata": {
    "collapsed": false
   },
   "outputs": [],
   "source": [
    "dall <- data[data$Region==\"All\",]"
   ]
  },
  {
   "cell_type": "code",
   "execution_count": 33,
   "metadata": {
    "collapsed": false
   },
   "outputs": [
    {
     "data": {
      "text/html": [
       "<table>\n",
       "<thead><tr><th></th><th scope=col>Region</th><th scope=col>Disease</th><th scope=col>Nb_RCTs</th><th scope=col>Nb_Patients</th><th scope=col>Prop_RCTs</th><th scope=col>Prop_Patients</th></tr></thead>\n",
       "<tbody>\n",
       "\t<tr><th scope=row>206</th><td>All                               </td><td>All                               </td><td>82179  [ 78662 -- 85358 ]         </td><td>60121077  [ 38736579 -- 62786199 ]</td><td>  NA  [   NA --   NA ]            </td><td>  NA  [   NA --   NA ]            </td></tr>\n",
       "\t<tr><th scope=row>26</th><td>All                               </td><td>Neoplasms                         </td><td>12024  [ 11148 -- 12728 ]         </td><td> 8640118  [  5358052 --  9290342 ]</td><td>13.1  [ 12.2 -- 13.9 ]            </td><td>13.2  [  8.5 -- 19.2 ]            </td></tr>\n",
       "\t<tr><th scope=row>89</th><td>All                                            </td><td>Diabetes, urinary diseases and male infertility</td><td>11700  [ 10614 -- 12854 ]                      </td><td> 5852132  [  4398439 --  9441960 ]             </td><td>14.0  [ 12.7 -- 15.3 ]                         </td><td> 9.7  [  7.3 -- 19.4 ]                         </td></tr>\n",
       "\t<tr><th scope=row>35</th><td>All                                    </td><td>Cardiovascular and circulatory diseases</td><td>10676  [  9527 -- 11943 ]              </td><td> 4975478  [  4234637 -- 24518980 ]     </td><td>12.8  [ 11.5 -- 14.3 ]                 </td><td> 8.3  [  6.9 -- 39.4 ]                 </td></tr>\n",
       "\t<tr><th scope=row>80</th><td>All                               </td><td>Mental and behavioral disorders   </td><td> 9346  [  8684 -- 10040 ]         </td><td> 2876536  [  2292539 --  3887152 ]</td><td>11.3  [ 10.5 -- 12.3 ]            </td><td> 4.8  [  3.8 --  8.1 ]            </td></tr>\n",
       "\t<tr><th scope=row>116</th><td>All                               </td><td>Musculoskeletal disorders         </td><td> 6949  [  6189 --  7783 ]         </td><td> 2050558  [  1596605 --  3331659 ]</td><td> 8.3  [  7.4 --  9.3 ]            </td><td> 3.4  [  2.6 --  6.3 ]            </td></tr>\n",
       "\t<tr><th scope=row>62</th><td>All                                  </td><td>Digestive diseases (except cirrhosis)</td><td> 6734  [  5571 --  8754 ]            </td><td> 1889907  [  1327402 --  4873256 ]   </td><td> 8.3  [  6.9 -- 10.7 ]               </td><td> 3.3  [  2.2 --  8.6 ]               </td></tr>\n",
       "\t<tr><th scope=row>71</th><td>All                               </td><td>Neurological disorders            </td><td> 6388  [  5562 --  7295 ]         </td><td> 1547648  [  1219633 --  3028043 ]</td><td> 7.8  [  6.8 --  8.9 ]            </td><td> 2.6  [  2.0 --  5.9 ]            </td></tr>\n",
       "\t<tr><th scope=row>134</th><td>All                               </td><td>Sense organ diseases              </td><td> 5209  [  4505 --  5981 ]         </td><td> 1347380  [  1003503 --  2178688 ]</td><td> 6.3  [  5.5 --  7.2 ]            </td><td> 2.3  [  1.7 --  4.1 ]            </td></tr>\n",
       "\t<tr><th scope=row>44</th><td>All                               </td><td>Chronic respiratory diseases      </td><td> 4773  [  4303 --  5283 ]         </td><td> 1759433  [  1441357 --  2364790 ]</td><td> 5.8  [  5.2 --  6.4 ]            </td><td> 2.9  [  2.4 --  4.9 ]            </td></tr>\n",
       "\t<tr><th scope=row>125</th><td>All                               </td><td>Skin and subcutaneous diseases    </td><td> 4346  [  3524 --  5744 ]         </td><td> 1892847  [  1081970 --  3437999 ]</td><td> 5.3  [  4.3 --  7.0 ]            </td><td> 3.2  [  1.8 --  6.9 ]            </td></tr>\n",
       "\t<tr><th scope=row>152</th><td>All                                                                                     </td><td>Diarrhea, lower respiratory infections, meningitis, and other common infectious diseases</td><td> 3497  [  2855 --  4273 ]                                                               </td><td> 3420205  [  2441898 --  4501061 ]                                                      </td><td> 4.2  [  3.4 --  5.2 ]                                                                  </td><td> 5.7  [  4.1 --  9.7 ]                                                                  </td></tr>\n",
       "\t<tr><th scope=row>107</th><td>All                               </td><td>Gynecological diseases            </td><td> 2730  [  2158 --  4225 ]         </td><td> 1104376  [   766976 --  2403993 ]</td><td> 3.3  [  2.6 --  5.1 ]            </td><td> 1.9  [  1.3 --  4.4 ]            </td></tr>\n",
       "\t<tr><th scope=row>179</th><td>All                               </td><td>Maternal disorders                </td><td> 2208  [  1398 --  3488 ]         </td><td> 1048352  [   615492 --  3770108 ]</td><td> 2.6  [  1.7 --  4.2 ]            </td><td> 1.8  [  1.0 --  6.3 ]            </td></tr>\n",
       "\t<tr><th scope=row>143</th><td>All                               </td><td>Oral disorders                    </td><td> 2249  [  1184 --  6507 ]         </td><td>  821855  [   317343 --  4418141 ]</td><td> 2.7  [  1.4 --  7.7 ]            </td><td> 1.4  [  0.5 --  7.7 ]            </td></tr>\n",
       "\t<tr><th scope=row>98</th><td>All                               </td><td>HIV/AIDS                          </td><td> 1494  [  1147 --  1753 ]         </td><td> 1223251  [   735571 --  1566983 ]</td><td> 1.7  [  1.3 --  2.1 ]            </td><td> 2.0  [  1.2 --  3.3 ]            </td></tr>\n",
       "\t<tr><th scope=row>197</th><td>All                               </td><td>Nutritional deficiencies          </td><td> 1279  [   678 --  2138 ]         </td><td>  580576  [   284915 --  1426262 ]</td><td> 1.5  [  0.8 --  2.5 ]            </td><td> 1.0  [  0.5 --  2.6 ]            </td></tr>\n",
       "\t<tr><th scope=row>188</th><td>All                               </td><td>Neonatal disorders                </td><td> 1424  [   639 --  3613 ]         </td><td> 1549845  [   441227 --  3634887 ]</td><td> 1.7  [  0.8 --  4.3 ]            </td><td> 2.6  [  0.8 --  6.7 ]            </td></tr>\n",
       "\t<tr><th scope=row>17</th><td>All                               </td><td>Hepatitis                         </td><td>  913  [   602 --  1300 ]         </td><td>  403618  [   211789 --   782205 ]</td><td> 1.1  [  0.7 --  1.5 ]            </td><td> 0.7  [  0.4 --  1.4 ]            </td></tr>\n",
       "\t<tr><th scope=row>53</th><td>All                               </td><td>Cirrhosis of the liver            </td><td> 1061  [   535 --  1574 ]         </td><td>  358782  [   139311 --   785988 ]</td><td> 1.3  [  0.6 --  1.9 ]            </td><td> 0.6  [  0.2 --  1.4 ]            </td></tr>\n",
       "\t<tr><th scope=row>170</th><td>All                                          </td><td>Neglected tropical diseases excluding malaria</td><td>  492  [   329 --   849 ]                    </td><td> 1018730  [   624681 --  1308825 ]           </td><td> 0.6  [  0.4 --  1.0 ]                       </td><td> 1.7  [  1.0 --  2.7 ]                       </td></tr>\n",
       "\t<tr><th scope=row>161</th><td>All                               </td><td>Malaria                           </td><td>  435  [   260 --   546 ]         </td><td> 1973478  [   834820 --  2208020 ]</td><td> 0.5  [  0.3 --  0.6 ]            </td><td> 3.2  [  1.4 --  5.2 ]            </td></tr>\n",
       "\t<tr><th scope=row>8</th><td>All                               </td><td>Tuberculosis                      </td><td>  298  [    91 --   454 ]         </td><td> 2691157  [   179759 --  3721926 ]</td><td> 0.4  [  0.1 --  0.5 ]            </td><td> 4.5  [  0.3 --  8.4 ]            </td></tr>\n",
       "</tbody>\n",
       "</table>\n"
      ],
      "text/latex": [
       "\\begin{tabular}{r|llllll}\n",
       "  & Region & Disease & Nb\\_RCTs & Nb\\_Patients & Prop\\_RCTs & Prop\\_Patients\\\\\n",
       "\\hline\n",
       "\t206 & All                                    & All                                    & 82179  {[} 78662 -- 85358 {]}          & 60121077  {[} 38736579 -- 62786199 {]} &   NA  {[}   NA --   NA {]}             &   NA  {[}   NA --   NA {]}            \\\\\n",
       "\t26 & All                                    & Neoplasms                              & 12024  {[} 11148 -- 12728 {]}          &  8640118  {[}  5358052 --  9290342 {]} & 13.1  {[} 12.2 -- 13.9 {]}             & 13.2  {[}  8.5 -- 19.2 {]}            \\\\\n",
       "\t89 & All                                             & Diabetes, urinary diseases and male infertility & 11700  {[} 10614 -- 12854 {]}                   &  5852132  {[}  4398439 --  9441960 {]}          & 14.0  {[} 12.7 -- 15.3 {]}                      &  9.7  {[}  7.3 -- 19.4 {]}                     \\\\\n",
       "\t35 & All                                     & Cardiovascular and circulatory diseases & 10676  {[}  9527 -- 11943 {]}           &  4975478  {[}  4234637 -- 24518980 {]}  & 12.8  {[} 11.5 -- 14.3 {]}              &  8.3  {[}  6.9 -- 39.4 {]}             \\\\\n",
       "\t80 & All                                    & Mental and behavioral disorders        &  9346  {[}  8684 -- 10040 {]}          &  2876536  {[}  2292539 --  3887152 {]} & 11.3  {[} 10.5 -- 12.3 {]}             &  4.8  {[}  3.8 --  8.1 {]}            \\\\\n",
       "\t116 & All                                    & Musculoskeletal disorders              &  6949  {[}  6189 --  7783 {]}          &  2050558  {[}  1596605 --  3331659 {]} &  8.3  {[}  7.4 --  9.3 {]}             &  3.4  {[}  2.6 --  6.3 {]}            \\\\\n",
       "\t62 & All                                    & Digestive diseases (except cirrhosis)  &  6734  {[}  5571 --  8754 {]}          &  1889907  {[}  1327402 --  4873256 {]} &  8.3  {[}  6.9 -- 10.7 {]}             &  3.3  {[}  2.2 --  8.6 {]}            \\\\\n",
       "\t71 & All                                    & Neurological disorders                 &  6388  {[}  5562 --  7295 {]}          &  1547648  {[}  1219633 --  3028043 {]} &  7.8  {[}  6.8 --  8.9 {]}             &  2.6  {[}  2.0 --  5.9 {]}            \\\\\n",
       "\t134 & All                                    & Sense organ diseases                   &  5209  {[}  4505 --  5981 {]}          &  1347380  {[}  1003503 --  2178688 {]} &  6.3  {[}  5.5 --  7.2 {]}             &  2.3  {[}  1.7 --  4.1 {]}            \\\\\n",
       "\t44 & All                                    & Chronic respiratory diseases           &  4773  {[}  4303 --  5283 {]}          &  1759433  {[}  1441357 --  2364790 {]} &  5.8  {[}  5.2 --  6.4 {]}             &  2.9  {[}  2.4 --  4.9 {]}            \\\\\n",
       "\t125 & All                                    & Skin and subcutaneous diseases         &  4346  {[}  3524 --  5744 {]}          &  1892847  {[}  1081970 --  3437999 {]} &  5.3  {[}  4.3 --  7.0 {]}             &  3.2  {[}  1.8 --  6.9 {]}            \\\\\n",
       "\t152 & All                                                                                      & Diarrhea, lower respiratory infections, meningitis, and other common infectious diseases &  3497  {[}  2855 --  4273 {]}                                                            &  3420205  {[}  2441898 --  4501061 {]}                                                   &  4.2  {[}  3.4 --  5.2 {]}                                                               &  5.7  {[}  4.1 --  9.7 {]}                                                              \\\\\n",
       "\t107 & All                                    & Gynecological diseases                 &  2730  {[}  2158 --  4225 {]}          &  1104376  {[}   766976 --  2403993 {]} &  3.3  {[}  2.6 --  5.1 {]}             &  1.9  {[}  1.3 --  4.4 {]}            \\\\\n",
       "\t179 & All                                    & Maternal disorders                     &  2208  {[}  1398 --  3488 {]}          &  1048352  {[}   615492 --  3770108 {]} &  2.6  {[}  1.7 --  4.2 {]}             &  1.8  {[}  1.0 --  6.3 {]}            \\\\\n",
       "\t143 & All                                    & Oral disorders                         &  2249  {[}  1184 --  6507 {]}          &   821855  {[}   317343 --  4418141 {]} &  2.7  {[}  1.4 --  7.7 {]}             &  1.4  {[}  0.5 --  7.7 {]}            \\\\\n",
       "\t98 & All                                    & HIV/AIDS                               &  1494  {[}  1147 --  1753 {]}          &  1223251  {[}   735571 --  1566983 {]} &  1.7  {[}  1.3 --  2.1 {]}             &  2.0  {[}  1.2 --  3.3 {]}            \\\\\n",
       "\t197 & All                                    & Nutritional deficiencies               &  1279  {[}   678 --  2138 {]}          &   580576  {[}   284915 --  1426262 {]} &  1.5  {[}  0.8 --  2.5 {]}             &  1.0  {[}  0.5 --  2.6 {]}            \\\\\n",
       "\t188 & All                                    & Neonatal disorders                     &  1424  {[}   639 --  3613 {]}          &  1549845  {[}   441227 --  3634887 {]} &  1.7  {[}  0.8 --  4.3 {]}             &  2.6  {[}  0.8 --  6.7 {]}            \\\\\n",
       "\t17 & All                                    & Hepatitis                              &   913  {[}   602 --  1300 {]}          &   403618  {[}   211789 --   782205 {]} &  1.1  {[}  0.7 --  1.5 {]}             &  0.7  {[}  0.4 --  1.4 {]}            \\\\\n",
       "\t53 & All                                    & Cirrhosis of the liver                 &  1061  {[}   535 --  1574 {]}          &   358782  {[}   139311 --   785988 {]} &  1.3  {[}  0.6 --  1.9 {]}             &  0.6  {[}  0.2 --  1.4 {]}            \\\\\n",
       "\t170 & All                                           & Neglected tropical diseases excluding malaria &   492  {[}   329 --   849 {]}                 &  1018730  {[}   624681 --  1308825 {]}        &  0.6  {[}  0.4 --  1.0 {]}                    &  1.7  {[}  1.0 --  2.7 {]}                   \\\\\n",
       "\t161 & All                                    & Malaria                                &   435  {[}   260 --   546 {]}          &  1973478  {[}   834820 --  2208020 {]} &  0.5  {[}  0.3 --  0.6 {]}             &  3.2  {[}  1.4 --  5.2 {]}            \\\\\n",
       "\t8 & All                                    & Tuberculosis                           &   298  {[}    91 --   454 {]}          &  2691157  {[}   179759 --  3721926 {]} &  0.4  {[}  0.1 --  0.5 {]}             &  4.5  {[}  0.3 --  8.4 {]}            \\\\\n",
       "\\end{tabular}\n"
      ],
      "text/plain": [
       "    Region\n",
       "206    All\n",
       "26     All\n",
       "89     All\n",
       "35     All\n",
       "80     All\n",
       "116    All\n",
       "62     All\n",
       "71     All\n",
       "134    All\n",
       "44     All\n",
       "125    All\n",
       "152    All\n",
       "107    All\n",
       "179    All\n",
       "143    All\n",
       "98     All\n",
       "197    All\n",
       "188    All\n",
       "17     All\n",
       "53     All\n",
       "170    All\n",
       "161    All\n",
       "8      All\n",
       "                                                                                     Disease\n",
       "206                                                                                      All\n",
       "26                                                                                 Neoplasms\n",
       "89                                           Diabetes, urinary diseases and male infertility\n",
       "35                                                   Cardiovascular and circulatory diseases\n",
       "80                                                           Mental and behavioral disorders\n",
       "116                                                                Musculoskeletal disorders\n",
       "62                                                     Digestive diseases (except cirrhosis)\n",
       "71                                                                    Neurological disorders\n",
       "134                                                                     Sense organ diseases\n",
       "44                                                              Chronic respiratory diseases\n",
       "125                                                           Skin and subcutaneous diseases\n",
       "152 Diarrhea, lower respiratory infections, meningitis, and other common infectious diseases\n",
       "107                                                                   Gynecological diseases\n",
       "179                                                                       Maternal disorders\n",
       "143                                                                           Oral disorders\n",
       "98                                                                                  HIV/AIDS\n",
       "197                                                                 Nutritional deficiencies\n",
       "188                                                                       Neonatal disorders\n",
       "17                                                                                 Hepatitis\n",
       "53                                                                    Cirrhosis of the liver\n",
       "170                                            Neglected tropical diseases excluding malaria\n",
       "161                                                                                  Malaria\n",
       "8                                                                               Tuberculosis\n",
       "                      Nb_RCTs                        Nb_Patients\n",
       "206 82179  [ 78662 -- 85358 ] 60121077  [ 38736579 -- 62786199 ]\n",
       "26  12024  [ 11148 -- 12728 ]  8640118  [  5358052 --  9290342 ]\n",
       "89  11700  [ 10614 -- 12854 ]  5852132  [  4398439 --  9441960 ]\n",
       "35  10676  [  9527 -- 11943 ]  4975478  [  4234637 -- 24518980 ]\n",
       "80   9346  [  8684 -- 10040 ]  2876536  [  2292539 --  3887152 ]\n",
       "116  6949  [  6189 --  7783 ]  2050558  [  1596605 --  3331659 ]\n",
       "62   6734  [  5571 --  8754 ]  1889907  [  1327402 --  4873256 ]\n",
       "71   6388  [  5562 --  7295 ]  1547648  [  1219633 --  3028043 ]\n",
       "134  5209  [  4505 --  5981 ]  1347380  [  1003503 --  2178688 ]\n",
       "44   4773  [  4303 --  5283 ]  1759433  [  1441357 --  2364790 ]\n",
       "125  4346  [  3524 --  5744 ]  1892847  [  1081970 --  3437999 ]\n",
       "152  3497  [  2855 --  4273 ]  3420205  [  2441898 --  4501061 ]\n",
       "107  2730  [  2158 --  4225 ]  1104376  [   766976 --  2403993 ]\n",
       "179  2208  [  1398 --  3488 ]  1048352  [   615492 --  3770108 ]\n",
       "143  2249  [  1184 --  6507 ]   821855  [   317343 --  4418141 ]\n",
       "98   1494  [  1147 --  1753 ]  1223251  [   735571 --  1566983 ]\n",
       "197  1279  [   678 --  2138 ]   580576  [   284915 --  1426262 ]\n",
       "188  1424  [   639 --  3613 ]  1549845  [   441227 --  3634887 ]\n",
       "17    913  [   602 --  1300 ]   403618  [   211789 --   782205 ]\n",
       "53   1061  [   535 --  1574 ]   358782  [   139311 --   785988 ]\n",
       "170   492  [   329 --   849 ]  1018730  [   624681 --  1308825 ]\n",
       "161   435  [   260 --   546 ]  1973478  [   834820 --  2208020 ]\n",
       "8     298  [    91 --   454 ]  2691157  [   179759 --  3721926 ]\n",
       "                 Prop_RCTs          Prop_Patients\n",
       "206   NA  [   NA --   NA ]   NA  [   NA --   NA ]\n",
       "26  13.1  [ 12.2 -- 13.9 ] 13.2  [  8.5 -- 19.2 ]\n",
       "89  14.0  [ 12.7 -- 15.3 ]  9.7  [  7.3 -- 19.4 ]\n",
       "35  12.8  [ 11.5 -- 14.3 ]  8.3  [  6.9 -- 39.4 ]\n",
       "80  11.3  [ 10.5 -- 12.3 ]  4.8  [  3.8 --  8.1 ]\n",
       "116  8.3  [  7.4 --  9.3 ]  3.4  [  2.6 --  6.3 ]\n",
       "62   8.3  [  6.9 -- 10.7 ]  3.3  [  2.2 --  8.6 ]\n",
       "71   7.8  [  6.8 --  8.9 ]  2.6  [  2.0 --  5.9 ]\n",
       "134  6.3  [  5.5 --  7.2 ]  2.3  [  1.7 --  4.1 ]\n",
       "44   5.8  [  5.2 --  6.4 ]  2.9  [  2.4 --  4.9 ]\n",
       "125  5.3  [  4.3 --  7.0 ]  3.2  [  1.8 --  6.9 ]\n",
       "152  4.2  [  3.4 --  5.2 ]  5.7  [  4.1 --  9.7 ]\n",
       "107  3.3  [  2.6 --  5.1 ]  1.9  [  1.3 --  4.4 ]\n",
       "179  2.6  [  1.7 --  4.2 ]  1.8  [  1.0 --  6.3 ]\n",
       "143  2.7  [  1.4 --  7.7 ]  1.4  [  0.5 --  7.7 ]\n",
       "98   1.7  [  1.3 --  2.1 ]  2.0  [  1.2 --  3.3 ]\n",
       "197  1.5  [  0.8 --  2.5 ]  1.0  [  0.5 --  2.6 ]\n",
       "188  1.7  [  0.8 --  4.3 ]  2.6  [  0.8 --  6.7 ]\n",
       "17   1.1  [  0.7 --  1.5 ]  0.7  [  0.4 --  1.4 ]\n",
       "53   1.3  [  0.6 --  1.9 ]  0.6  [  0.2 --  1.4 ]\n",
       "170  0.6  [  0.4 --  1.0 ]  1.7  [  1.0 --  2.7 ]\n",
       "161  0.5  [  0.3 --  0.6 ]  3.2  [  1.4 --  5.2 ]\n",
       "8    0.4  [  0.1 --  0.5 ]  4.5  [  0.3 --  8.4 ]"
      ]
     },
     "metadata": {},
     "output_type": "display_data"
    }
   ],
   "source": [
    "dall[order(dall$Nb_RCTs_low,decreasing=TRUE),c(\"Region\",\"Disease\",\"Nb_RCTs\",\"Nb_Patients\",\"Prop_RCTs\",\"Prop_Patients\")]"
   ]
  },
  {
   "cell_type": "code",
   "execution_count": null,
   "metadata": {
    "collapsed": true
   },
   "outputs": [],
   "source": []
  }
 ],
 "metadata": {
  "kernelspec": {
   "display_name": "R",
   "language": "R",
   "name": "ir"
  },
  "language_info": {
   "codemirror_mode": "r",
   "file_extension": ".r",
   "mimetype": "text/x-r-source",
   "name": "R",
   "pygments_lexer": "r",
   "version": "3.3.1"
  }
 },
 "nbformat": 4,
 "nbformat_minor": 1
}
