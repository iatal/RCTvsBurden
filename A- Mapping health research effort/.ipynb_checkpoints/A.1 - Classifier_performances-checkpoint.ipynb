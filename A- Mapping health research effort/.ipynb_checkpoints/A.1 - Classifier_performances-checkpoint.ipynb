{
 "cells": [
  {
   "cell_type": "markdown",
   "metadata": {
    "collapsed": true
   },
   "source": [
    "# Classifier performances for deriving replicates\n",
    "For each disease, we derive replicates of the mapping of RCTs across diseases after simulating what would have been the mapping of RCTs within regions if the misclassification of RCTs towards groups of diseases was corrected, given the sensitivities and specificities of the classifier to identify each group of disease.\n",
    "\n",
    "To estimate the performances of the classifier for each group of diseases, we dispose a test set with 2,763 trials manually classified towards the 27-class grouping of diseases used in this work. The test set is described at Atal et al. BMC Bioinformatics 2016.\n",
    "\n",
    "This script is for calculating sensitivity and specificity of the classifier to identify the disease and other studies relevant to the burden of diseases, and the number of success and number of trials to derive beta distributions"
   ]
  },
  {
   "cell_type": "markdown",
   "metadata": {},
   "source": [
    "## 1. Sensitivities and specificities based on test set"
   ]
  },
  {
   "cell_type": "code",
   "execution_count": 2,
   "metadata": {
    "collapsed": false
   },
   "outputs": [
    {
     "data": {
      "text/html": [
       "<ol class=list-inline>\n",
       "\t<li>2763</li>\n",
       "\t<li>8</li>\n",
       "</ol>\n"
      ],
      "text/latex": [
       "\\begin{enumerate*}\n",
       "\\item 2763\n",
       "\\item 8\n",
       "\\end{enumerate*}\n"
      ],
      "text/markdown": [
       "1. 2763\n",
       "2. 8\n",
       "\n",
       "\n"
      ],
      "text/plain": [
       "[1] 2763    8"
      ]
     },
     "metadata": {},
     "output_type": "display_data"
    }
   ],
   "source": [
    "#test set, not included in the repo\n",
    "test_set <- read.table(\"/media/igna/Elements/HotelDieu/Cochrane/MappingRCTs_vs_Burden/test_set_classified_to28cats.txt\")\n",
    "dim(test_set)"
   ]
  },
  {
   "cell_type": "code",
   "execution_count": 3,
   "metadata": {
    "collapsed": false
   },
   "outputs": [],
   "source": [
    "#We supress injuries from trials concerning the burden of diseases (category nro 28)\n",
    "test_set$GBDnp <- sapply(strsplit(as.character(test_set$GBDnp),\"&&\"),function(x){paste(x[x!=\"28\"],collapse=\"&\")})\n",
    "test_set$GBD28 <- sapply(strsplit(as.character(test_set$GBD28),\"&\"),function(x){paste(x[x!=\"28\"],collapse=\"&\")})"
   ]
  },
  {
   "cell_type": "code",
   "execution_count": 4,
   "metadata": {
    "collapsed": true
   },
   "outputs": [],
   "source": [
    "tst <- strsplit(test_set$GBDnp,\"&\")\n",
    "alg <- strsplit(test_set$GBD28,\"&\")\n",
    "tst <- lapply(tst,as.numeric)\n",
    "alg <- lapply(alg,as.numeric)"
   ]
  },
  {
   "cell_type": "code",
   "execution_count": 5,
   "metadata": {
    "collapsed": true
   },
   "outputs": [],
   "source": [
    "source('../utils/Evaluation_metrics.R')"
   ]
  },
  {
   "cell_type": "code",
   "execution_count": 6,
   "metadata": {
    "collapsed": false
   },
   "outputs": [],
   "source": [
    "dis <- 1:27\n",
    "Mgbd <- read.table(\"../Data/27_gbd_groups.txt\")"
   ]
  },
  {
   "cell_type": "code",
   "execution_count": 7,
   "metadata": {
    "collapsed": false,
    "scrolled": true
   },
   "outputs": [],
   "source": [
    "#For each category in 1:27, TP, TN, FP and FN of finding the disease and of finding another disease\n",
    "set.seed(7212)\n",
    "\n",
    "dis <- as.character(1:27)\n",
    "\n",
    "PERF_F  <- data.frame()\n",
    "for(i in dis){\n",
    "    ALG <- lapply(alg,function(x){rs <- c()\n",
    "                                  if(i%in%x) rs <- c(1)\n",
    "                                  if(sum(setdiff(dis,i)%in%x)!=0) rs <- c(rs,2)\n",
    "                                  return(rs)\n",
    "                                      })\n",
    "\n",
    "    DT <- lapply(tst,function(x){rs <- c()\n",
    "                                if(i%in%x) rs <- c(1)\n",
    "                                if(sum(setdiff(dis,i)%in%x)!=0) rs <- c(rs,2)\n",
    "                                return(rs)\n",
    "                                    })\n",
    "\n",
    "    CM <- conf_matrix(ALG,DT,c(1,2))\n",
    "\n",
    "    PERF <- c(CM[1,],CM[2,])\n",
    "    PERF_F <- rbind(PERF_F,PERF)\n",
    "}\n"
   ]
  },
  {
   "cell_type": "code",
   "execution_count": 8,
   "metadata": {
    "collapsed": false
   },
   "outputs": [],
   "source": [
    "#We add performances of classifier to identify trials relevant to the burden of diseases\n",
    "    ALG <- lapply(alg,length)\n",
    "    DT <- lapply(tst,length)\n",
    "    CM <- conf_matrix(ALG,DT,1)\n",
    "    PERF <- c(CM,rep(NA,4))\n",
    "    PERF_F <- rbind(PERF_F,PERF)"
   ]
  },
  {
   "cell_type": "code",
   "execution_count": 9,
   "metadata": {
    "collapsed": true
   },
   "outputs": [],
   "source": [
    "PERF_F <- data.frame(PERF_F)\n",
    "names(PERF_F) <- paste(rep(c(\"TP\",\"FP\",\"TN\",\"FN\"),2),rep(c(\"_Dis\",\"_Oth\"),each=4),sep=\"\")"
   ]
  },
  {
   "cell_type": "code",
   "execution_count": 14,
   "metadata": {
    "collapsed": true
   },
   "outputs": [],
   "source": [
    "PERF_F$dis <- c(dis,0)\n",
    "PERF_F$GBD <- c(as.character(Mgbd$x[-28]),\"All\")"
   ]
  },
  {
   "cell_type": "code",
   "execution_count": 15,
   "metadata": {
    "collapsed": false,
    "scrolled": true
   },
   "outputs": [],
   "source": [
    "PERF_F <- PERF_F[,c(9,10,1:8)]"
   ]
  },
  {
   "cell_type": "code",
   "execution_count": 16,
   "metadata": {
    "collapsed": false
   },
   "outputs": [
    {
     "data": {
      "text/html": [
       "<table>\n",
       "<thead><tr><th></th><th scope=col>x</th></tr></thead>\n",
       "<tbody>\n",
       "\t<tr><th scope=row>1</th><td>Tuberculosis</td></tr>\n",
       "\t<tr><th scope=row>2</th><td>HIV/AIDS</td></tr>\n",
       "\t<tr><th scope=row>3</th><td>Diarrhea, lower respiratory infections, meningitis, and other common infectious diseases</td></tr>\n",
       "\t<tr><th scope=row>4</th><td>Malaria</td></tr>\n",
       "\t<tr><th scope=row>5</th><td>Neglected tropical diseases excluding malaria</td></tr>\n",
       "\t<tr><th scope=row>6</th><td>Maternal disorders</td></tr>\n",
       "\t<tr><th scope=row>7</th><td>Neonatal disorders</td></tr>\n",
       "\t<tr><th scope=row>8</th><td>Nutritional deficiencies</td></tr>\n",
       "\t<tr><th scope=row>9</th><td>Sexually transmitted diseases excluding HIV</td></tr>\n",
       "\t<tr><th scope=row>10</th><td>Hepatitis</td></tr>\n",
       "\t<tr><th scope=row>11</th><td>Leprosy</td></tr>\n",
       "\t<tr><th scope=row>12</th><td>Neoplasms</td></tr>\n",
       "\t<tr><th scope=row>13</th><td>Cardiovascular and circulatory diseases</td></tr>\n",
       "\t<tr><th scope=row>14</th><td>Chronic respiratory diseases</td></tr>\n",
       "\t<tr><th scope=row>15</th><td>Cirrhosis of the liver</td></tr>\n",
       "\t<tr><th scope=row>16</th><td>Digestive diseases (except cirrhosis)</td></tr>\n",
       "\t<tr><th scope=row>17</th><td>Neurological disorders</td></tr>\n",
       "\t<tr><th scope=row>18</th><td>Mental and behavioral disorders</td></tr>\n",
       "\t<tr><th scope=row>19</th><td>Diabetes, urinary diseases and male infertility</td></tr>\n",
       "\t<tr><th scope=row>20</th><td>Gynecological diseases</td></tr>\n",
       "\t<tr><th scope=row>21</th><td>Hemoglobinopathies and hemolytic anemias</td></tr>\n",
       "\t<tr><th scope=row>22</th><td>Musculoskeletal disorders</td></tr>\n",
       "\t<tr><th scope=row>23</th><td>Congenital anomalies</td></tr>\n",
       "\t<tr><th scope=row>24</th><td>Skin and subcutaneous diseases</td></tr>\n",
       "\t<tr><th scope=row>25</th><td>Sense organ diseases</td></tr>\n",
       "\t<tr><th scope=row>26</th><td>Oral disorders</td></tr>\n",
       "\t<tr><th scope=row>27</th><td>Sudden infant death syndrome</td></tr>\n",
       "</tbody>\n",
       "</table>\n"
      ],
      "text/latex": [
       "\\begin{tabular}{r|l}\n",
       "  & x\\\\\n",
       "\\hline\n",
       "\t1 & Tuberculosis\\\\\n",
       "\t2 & HIV/AIDS\\\\\n",
       "\t3 & Diarrhea, lower respiratory infections, meningitis, and other common infectious diseases\\\\\n",
       "\t4 & Malaria\\\\\n",
       "\t5 & Neglected tropical diseases excluding malaria\\\\\n",
       "\t6 & Maternal disorders\\\\\n",
       "\t7 & Neonatal disorders\\\\\n",
       "\t8 & Nutritional deficiencies\\\\\n",
       "\t9 & Sexually transmitted diseases excluding HIV\\\\\n",
       "\t10 & Hepatitis\\\\\n",
       "\t11 & Leprosy\\\\\n",
       "\t12 & Neoplasms\\\\\n",
       "\t13 & Cardiovascular and circulatory diseases\\\\\n",
       "\t14 & Chronic respiratory diseases\\\\\n",
       "\t15 & Cirrhosis of the liver\\\\\n",
       "\t16 & Digestive diseases (except cirrhosis)\\\\\n",
       "\t17 & Neurological disorders\\\\\n",
       "\t18 & Mental and behavioral disorders\\\\\n",
       "\t19 & Diabetes, urinary diseases and male infertility\\\\\n",
       "\t20 & Gynecological diseases\\\\\n",
       "\t21 & Hemoglobinopathies and hemolytic anemias\\\\\n",
       "\t22 & Musculoskeletal disorders\\\\\n",
       "\t23 & Congenital anomalies\\\\\n",
       "\t24 & Skin and subcutaneous diseases\\\\\n",
       "\t25 & Sense organ diseases\\\\\n",
       "\t26 & Oral disorders\\\\\n",
       "\t27 & Sudden infant death syndrome\\\\\n",
       "\\end{tabular}\n"
      ],
      "text/plain": [
       "                                                                                          x\n",
       "1                                                                              Tuberculosis\n",
       "2                                                                                  HIV/AIDS\n",
       "3  Diarrhea, lower respiratory infections, meningitis, and other common infectious diseases\n",
       "4                                                                                   Malaria\n",
       "5                                             Neglected tropical diseases excluding malaria\n",
       "6                                                                        Maternal disorders\n",
       "7                                                                        Neonatal disorders\n",
       "8                                                                  Nutritional deficiencies\n",
       "9                                               Sexually transmitted diseases excluding HIV\n",
       "10                                                                                Hepatitis\n",
       "11                                                                                  Leprosy\n",
       "12                                                                                Neoplasms\n",
       "13                                                  Cardiovascular and circulatory diseases\n",
       "14                                                             Chronic respiratory diseases\n",
       "15                                                                   Cirrhosis of the liver\n",
       "16                                                    Digestive diseases (except cirrhosis)\n",
       "17                                                                   Neurological disorders\n",
       "18                                                          Mental and behavioral disorders\n",
       "19                                          Diabetes, urinary diseases and male infertility\n",
       "20                                                                   Gynecological diseases\n",
       "21                                                 Hemoglobinopathies and hemolytic anemias\n",
       "22                                                                Musculoskeletal disorders\n",
       "23                                                                     Congenital anomalies\n",
       "24                                                           Skin and subcutaneous diseases\n",
       "25                                                                     Sense organ diseases\n",
       "26                                                                           Oral disorders\n",
       "27                                                             Sudden infant death syndrome"
      ]
     },
     "metadata": {},
     "output_type": "display_data"
    }
   ],
   "source": [
    "Mgbd"
   ]
  },
  {
   "cell_type": "code",
   "execution_count": 17,
   "metadata": {
    "collapsed": false
   },
   "outputs": [
    {
     "data": {
      "text/html": [
       "<table>\n",
       "<thead><tr><th></th><th scope=col>TN_Oth</th><th scope=col>FN_Oth</th><th scope=col>dis</th><th scope=col>GBD</th><th scope=col>TP_Dis</th><th scope=col>FP_Dis</th><th scope=col>TN_Dis</th><th scope=col>FN_Dis</th><th scope=col>TP_Oth</th><th scope=col>FP_Oth</th></tr></thead>\n",
       "<tbody>\n",
       "\t<tr><th scope=row>1</th><td>267         </td><td>150         </td><td>1           </td><td>Tuberculosis</td><td>14          </td><td>2           </td><td>2745        </td><td>2           </td><td>2142        </td><td>204         </td></tr>\n",
       "\t<tr><th scope=row>2</th><td>333     </td><td>144     </td><td>2       </td><td>HIV/AIDS</td><td>86      </td><td>7       </td><td>2659    </td><td>11      </td><td>2072    </td><td>214     </td></tr>\n",
       "\t<tr><th scope=row>3</th><td>299                                                                                     </td><td>144                                                                                     </td><td>3                                                                                       </td><td>Diarrhea, lower respiratory infections, meningitis, and other common infectious diseases</td><td>40                                                                                      </td><td>21                                                                                      </td><td>2693                                                                                    </td><td>9                                                                                       </td><td>2113                                                                                    </td><td>207                                                                                     </td></tr>\n",
       "\t<tr><th scope=row>4</th><td>267    </td><td>150    </td><td>4      </td><td>Malaria</td><td>14     </td><td>1      </td><td>2748   </td><td>0      </td><td>2142   </td><td>204    </td></tr>\n",
       "\t<tr><th scope=row>5</th><td>261                                          </td><td>149                                          </td><td>5                                            </td><td>Neglected tropical diseases excluding malaria</td><td>6                                            </td><td>0                                            </td><td>2756                                         </td><td>1                                            </td><td>2150                                         </td><td>203                                          </td></tr>\n",
       "\t<tr><th scope=row>6</th><td>289               </td><td>134               </td><td>6                 </td><td>Maternal disorders</td><td>17                </td><td>5                 </td><td>2715              </td><td>26                </td><td>2130              </td><td>210               </td></tr>\n",
       "\t<tr><th scope=row>7</th><td>262               </td><td>148               </td><td>7                 </td><td>Neonatal disorders</td><td>4                 </td><td>7                 </td><td>2746              </td><td>6                 </td><td>2148              </td><td>205               </td></tr>\n",
       "\t<tr><th scope=row>8</th><td>272                     </td><td>150                     </td><td>8                       </td><td>Nutritional deficiencies</td><td>11                      </td><td>15                      </td><td>2732                    </td><td>5                       </td><td>2140                    </td><td>201                     </td></tr>\n",
       "\t<tr><th scope=row>9</th><td>255                                        </td><td>150                                        </td><td>9                                          </td><td>Sexually transmitted diseases excluding HIV</td><td>0                                          </td><td>3                                          </td><td>2759                                       </td><td>1                                          </td><td>2155                                       </td><td>203                                        </td></tr>\n",
       "\t<tr><th scope=row>10</th><td>262      </td><td>152      </td><td>10       </td><td>Hepatitis</td><td>14       </td><td>4        </td><td>2742     </td><td>3        </td><td>2141     </td><td>208      </td></tr>\n",
       "\t<tr><th scope=row>11</th><td>256    </td><td>150    </td><td>11     </td><td>Leprosy</td><td>2      </td><td>1      </td><td>2760   </td><td>0      </td><td>2154   </td><td>203    </td></tr>\n",
       "\t<tr><th scope=row>12</th><td>1198     </td><td>138      </td><td>12       </td><td>Neoplasms</td><td>933      </td><td>42       </td><td>1763     </td><td>25       </td><td>1213     </td><td>214      </td></tr>\n",
       "\t<tr><th scope=row>13</th><td>466                                    </td><td>129                                    </td><td>13                                     </td><td>Cardiovascular and circulatory diseases</td><td>178                                    </td><td>60                                     </td><td>2468                                   </td><td>57                                     </td><td>1951                                   </td><td>217                                    </td></tr>\n",
       "\t<tr><th scope=row>14</th><td>328                         </td><td>152                         </td><td>14                          </td><td>Chronic respiratory diseases</td><td>76                          </td><td>17                          </td><td>2665                        </td><td>5                           </td><td>2074                        </td><td>209                         </td></tr>\n",
       "\t<tr><th scope=row>15</th><td>267                   </td><td>152                   </td><td>15                    </td><td>Cirrhosis of the liver</td><td>19                    </td><td>17                    </td><td>2723                  </td><td>4                     </td><td>2133                  </td><td>211                   </td></tr>\n",
       "\t<tr><th scope=row>16</th><td>289                                  </td><td>146                                  </td><td>16                                   </td><td>Digestive diseases (except cirrhosis)</td><td>24                                   </td><td>28                                   </td><td>2703                                 </td><td>8                                    </td><td>2129                                 </td><td>199                                  </td></tr>\n",
       "\t<tr><th scope=row>17</th><td>339                   </td><td>153                   </td><td>17                    </td><td>Neurological disorders</td><td>79                    </td><td>40                    </td><td>2630                  </td><td>14                    </td><td>2060                  </td><td>211                   </td></tr>\n",
       "\t<tr><th scope=row>18</th><td>402                            </td><td>149                            </td><td>18                             </td><td>Mental and behavioral disorders</td><td>134                            </td><td>33                             </td><td>2587                           </td><td>9                              </td><td>2014                           </td><td>198                            </td></tr>\n",
       "\t<tr><th scope=row>19</th><td>473                                            </td><td>147                                            </td><td>19                                             </td><td>Diabetes, urinary diseases and male infertility</td><td>196                                            </td><td>63                                             </td><td>2458                                           </td><td>46                                             </td><td>1930                                           </td><td>213                                            </td></tr>\n",
       "\t<tr><th scope=row>20</th><td>262                   </td><td>149                   </td><td>20                    </td><td>Gynecological diseases</td><td>9                     </td><td>8                     </td><td>2744                  </td><td>2                     </td><td>2146                  </td><td>206                   </td></tr>\n",
       "\t<tr><th scope=row>21</th><td>270                                     </td><td>147                                     </td><td>21                                      </td><td>Hemoglobinopathies and hemolytic anemias</td><td>10                                      </td><td>4                                       </td><td>2743                                    </td><td>6                                       </td><td>2143                                    </td><td>203                                     </td></tr>\n",
       "\t<tr><th scope=row>22</th><td>382                      </td><td>147                      </td><td>22                       </td><td>Musculoskeletal disorders</td><td>100                      </td><td>40                       </td><td>2610                     </td><td>13                       </td><td>2046                     </td><td>188                      </td></tr>\n",
       "\t<tr><th scope=row>23</th><td>275                 </td><td>162                 </td><td>23                  </td><td>Congenital anomalies</td><td>22                  </td><td>34                  </td><td>2706                </td><td>1                   </td><td>2121                </td><td>205                 </td></tr>\n",
       "\t<tr><th scope=row>24</th><td>281                           </td><td>150                           </td><td>24                            </td><td>Skin and subcutaneous diseases</td><td>18                            </td><td>24                            </td><td>2717                          </td><td>4                             </td><td>2134                          </td><td>198                           </td></tr>\n",
       "\t<tr><th scope=row>25</th><td>322                 </td><td>166                 </td><td>25                  </td><td>Sense organ diseases</td><td>52                  </td><td>40                  </td><td>2667                </td><td>4                   </td><td>2085                </td><td>190                 </td></tr>\n",
       "\t<tr><th scope=row>26</th><td>258           </td><td>148           </td><td>26            </td><td>Oral disorders</td><td>3             </td><td>4             </td><td>2751          </td><td>5             </td><td>2150          </td><td>207           </td></tr>\n",
       "\t<tr><th scope=row>27</th><td>254                         </td><td>150                         </td><td>27                          </td><td>Sudden infant death syndrome</td><td>0                           </td><td>0                           </td><td>2763                        </td><td>0                           </td><td>2156                        </td><td>203                         </td></tr>\n",
       "\t<tr><th scope=row>28</th><td>NA  </td><td>NA  </td><td>0   </td><td>All </td><td>2022</td><td>165 </td><td>314 </td><td>262 </td><td>NA  </td><td>NA  </td></tr>\n",
       "</tbody>\n",
       "</table>\n"
      ],
      "text/latex": [
       "\\begin{tabular}{r|llllllllll}\n",
       "  & TN\\_Oth & FN\\_Oth & dis & GBD & TP\\_Dis & FP\\_Dis & TN\\_Dis & FN\\_Dis & TP\\_Oth & FP\\_Oth\\\\\n",
       "\\hline\n",
       "\t1 & 267          & 150          & 1            & Tuberculosis & 14           & 2            & 2745         & 2            & 2142         & 204         \\\\\n",
       "\t2 & 333      & 144      & 2        & HIV/AIDS & 86       & 7        & 2659     & 11       & 2072     & 214     \\\\\n",
       "\t3 & 299                                                                                      & 144                                                                                      & 3                                                                                        & Diarrhea, lower respiratory infections, meningitis, and other common infectious diseases & 40                                                                                       & 21                                                                                       & 2693                                                                                     & 9                                                                                        & 2113                                                                                     & 207                                                                                     \\\\\n",
       "\t4 & 267     & 150     & 4       & Malaria & 14      & 1       & 2748    & 0       & 2142    & 204    \\\\\n",
       "\t5 & 261                                           & 149                                           & 5                                             & Neglected tropical diseases excluding malaria & 6                                             & 0                                             & 2756                                          & 1                                             & 2150                                          & 203                                          \\\\\n",
       "\t6 & 289                & 134                & 6                  & Maternal disorders & 17                 & 5                  & 2715               & 26                 & 2130               & 210               \\\\\n",
       "\t7 & 262                & 148                & 7                  & Neonatal disorders & 4                  & 7                  & 2746               & 6                  & 2148               & 205               \\\\\n",
       "\t8 & 272                      & 150                      & 8                        & Nutritional deficiencies & 11                       & 15                       & 2732                     & 5                        & 2140                     & 201                     \\\\\n",
       "\t9 & 255                                         & 150                                         & 9                                           & Sexually transmitted diseases excluding HIV & 0                                           & 3                                           & 2759                                        & 1                                           & 2155                                        & 203                                        \\\\\n",
       "\t10 & 262       & 152       & 10        & Hepatitis & 14        & 4         & 2742      & 3         & 2141      & 208      \\\\\n",
       "\t11 & 256     & 150     & 11      & Leprosy & 2       & 1       & 2760    & 0       & 2154    & 203    \\\\\n",
       "\t12 & 1198      & 138       & 12        & Neoplasms & 933       & 42        & 1763      & 25        & 1213      & 214      \\\\\n",
       "\t13 & 466                                     & 129                                     & 13                                      & Cardiovascular and circulatory diseases & 178                                     & 60                                      & 2468                                    & 57                                      & 1951                                    & 217                                    \\\\\n",
       "\t14 & 328                          & 152                          & 14                           & Chronic respiratory diseases & 76                           & 17                           & 2665                         & 5                            & 2074                         & 209                         \\\\\n",
       "\t15 & 267                    & 152                    & 15                     & Cirrhosis of the liver & 19                     & 17                     & 2723                   & 4                      & 2133                   & 211                   \\\\\n",
       "\t16 & 289                                   & 146                                   & 16                                    & Digestive diseases (except cirrhosis) & 24                                    & 28                                    & 2703                                  & 8                                     & 2129                                  & 199                                  \\\\\n",
       "\t17 & 339                    & 153                    & 17                     & Neurological disorders & 79                     & 40                     & 2630                   & 14                     & 2060                   & 211                   \\\\\n",
       "\t18 & 402                             & 149                             & 18                              & Mental and behavioral disorders & 134                             & 33                              & 2587                            & 9                               & 2014                            & 198                            \\\\\n",
       "\t19 & 473                                             & 147                                             & 19                                              & Diabetes, urinary diseases and male infertility & 196                                             & 63                                              & 2458                                            & 46                                              & 1930                                            & 213                                            \\\\\n",
       "\t20 & 262                    & 149                    & 20                     & Gynecological diseases & 9                      & 8                      & 2744                   & 2                      & 2146                   & 206                   \\\\\n",
       "\t21 & 270                                      & 147                                      & 21                                       & Hemoglobinopathies and hemolytic anemias & 10                                       & 4                                        & 2743                                     & 6                                        & 2143                                     & 203                                     \\\\\n",
       "\t22 & 382                       & 147                       & 22                        & Musculoskeletal disorders & 100                       & 40                        & 2610                      & 13                        & 2046                      & 188                      \\\\\n",
       "\t23 & 275                  & 162                  & 23                   & Congenital anomalies & 22                   & 34                   & 2706                 & 1                    & 2121                 & 205                 \\\\\n",
       "\t24 & 281                            & 150                            & 24                             & Skin and subcutaneous diseases & 18                             & 24                             & 2717                           & 4                              & 2134                           & 198                           \\\\\n",
       "\t25 & 322                  & 166                  & 25                   & Sense organ diseases & 52                   & 40                   & 2667                 & 4                    & 2085                 & 190                 \\\\\n",
       "\t26 & 258            & 148            & 26             & Oral disorders & 3              & 4              & 2751           & 5              & 2150           & 207           \\\\\n",
       "\t27 & 254                          & 150                          & 27                           & Sudden infant death syndrome & 0                            & 0                            & 2763                         & 0                            & 2156                         & 203                         \\\\\n",
       "\t28 & NA   & NA   & 0    & All  & 2022 & 165  & 314  & 262  & NA   & NA  \\\\\n",
       "\\end{tabular}\n"
      ],
      "text/plain": [
       "   TN_Oth FN_Oth dis\n",
       "1     267    150   1\n",
       "2     333    144   2\n",
       "3     299    144   3\n",
       "4     267    150   4\n",
       "5     261    149   5\n",
       "6     289    134   6\n",
       "7     262    148   7\n",
       "8     272    150   8\n",
       "9     255    150   9\n",
       "10    262    152  10\n",
       "11    256    150  11\n",
       "12   1198    138  12\n",
       "13    466    129  13\n",
       "14    328    152  14\n",
       "15    267    152  15\n",
       "16    289    146  16\n",
       "17    339    153  17\n",
       "18    402    149  18\n",
       "19    473    147  19\n",
       "20    262    149  20\n",
       "21    270    147  21\n",
       "22    382    147  22\n",
       "23    275    162  23\n",
       "24    281    150  24\n",
       "25    322    166  25\n",
       "26    258    148  26\n",
       "27    254    150  27\n",
       "28     NA     NA   0\n",
       "                                                                                        GBD\n",
       "1                                                                              Tuberculosis\n",
       "2                                                                                  HIV/AIDS\n",
       "3  Diarrhea, lower respiratory infections, meningitis, and other common infectious diseases\n",
       "4                                                                                   Malaria\n",
       "5                                             Neglected tropical diseases excluding malaria\n",
       "6                                                                        Maternal disorders\n",
       "7                                                                        Neonatal disorders\n",
       "8                                                                  Nutritional deficiencies\n",
       "9                                               Sexually transmitted diseases excluding HIV\n",
       "10                                                                                Hepatitis\n",
       "11                                                                                  Leprosy\n",
       "12                                                                                Neoplasms\n",
       "13                                                  Cardiovascular and circulatory diseases\n",
       "14                                                             Chronic respiratory diseases\n",
       "15                                                                   Cirrhosis of the liver\n",
       "16                                                    Digestive diseases (except cirrhosis)\n",
       "17                                                                   Neurological disorders\n",
       "18                                                          Mental and behavioral disorders\n",
       "19                                          Diabetes, urinary diseases and male infertility\n",
       "20                                                                   Gynecological diseases\n",
       "21                                                 Hemoglobinopathies and hemolytic anemias\n",
       "22                                                                Musculoskeletal disorders\n",
       "23                                                                     Congenital anomalies\n",
       "24                                                           Skin and subcutaneous diseases\n",
       "25                                                                     Sense organ diseases\n",
       "26                                                                           Oral disorders\n",
       "27                                                             Sudden infant death syndrome\n",
       "28                                                                                      All\n",
       "   TP_Dis FP_Dis TN_Dis FN_Dis TP_Oth FP_Oth\n",
       "1      14      2   2745      2   2142    204\n",
       "2      86      7   2659     11   2072    214\n",
       "3      40     21   2693      9   2113    207\n",
       "4      14      1   2748      0   2142    204\n",
       "5       6      0   2756      1   2150    203\n",
       "6      17      5   2715     26   2130    210\n",
       "7       4      7   2746      6   2148    205\n",
       "8      11     15   2732      5   2140    201\n",
       "9       0      3   2759      1   2155    203\n",
       "10     14      4   2742      3   2141    208\n",
       "11      2      1   2760      0   2154    203\n",
       "12    933     42   1763     25   1213    214\n",
       "13    178     60   2468     57   1951    217\n",
       "14     76     17   2665      5   2074    209\n",
       "15     19     17   2723      4   2133    211\n",
       "16     24     28   2703      8   2129    199\n",
       "17     79     40   2630     14   2060    211\n",
       "18    134     33   2587      9   2014    198\n",
       "19    196     63   2458     46   1930    213\n",
       "20      9      8   2744      2   2146    206\n",
       "21     10      4   2743      6   2143    203\n",
       "22    100     40   2610     13   2046    188\n",
       "23     22     34   2706      1   2121    205\n",
       "24     18     24   2717      4   2134    198\n",
       "25     52     40   2667      4   2085    190\n",
       "26      3      4   2751      5   2150    207\n",
       "27      0      0   2763      0   2156    203\n",
       "28   2022    165    314    262     NA     NA"
      ]
     },
     "metadata": {},
     "output_type": "display_data"
    }
   ],
   "source": [
    "PERF_F"
   ]
  },
  {
   "cell_type": "code",
   "execution_count": 12,
   "metadata": {
    "collapsed": false
   },
   "outputs": [],
   "source": [
    "write.csv(PERF_F,'../Tables/Performances_per_27disease_data.csv')"
   ]
  },
  {
   "cell_type": "code",
   "execution_count": null,
   "metadata": {
    "collapsed": true
   },
   "outputs": [],
   "source": []
  }
 ],
 "metadata": {
  "kernelspec": {
   "display_name": "R",
   "language": "R",
   "name": "ir"
  },
  "language_info": {
   "codemirror_mode": "r",
   "file_extension": ".r",
   "mimetype": "text/x-r-source",
   "name": "R",
   "pygments_lexer": "r",
   "version": "3.3.1"
  }
 },
 "nbformat": 4,
 "nbformat_minor": 1
}
