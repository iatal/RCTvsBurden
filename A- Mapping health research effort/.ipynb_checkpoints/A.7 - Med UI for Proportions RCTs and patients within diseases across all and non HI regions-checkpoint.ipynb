{
 "cells": [
  {
   "cell_type": "markdown",
   "metadata": {},
   "source": [
    "# Big table\n",
    "\n",
    "Median and UI intervals for:\n",
    "\n",
    "* Within diseases, proportions across regions"
   ]
  },
  {
   "cell_type": "code",
   "execution_count": 1,
   "metadata": {
    "collapsed": true
   },
   "outputs": [],
   "source": [
    "library(data.table)"
   ]
  },
  {
   "cell_type": "code",
   "execution_count": 2,
   "metadata": {
    "collapsed": false,
    "scrolled": false
   },
   "outputs": [],
   "source": [
    "sms <- list.files(\"/media/igna/Elements/HotelDieu/Cochrane/MappingRCTs_vs_Burden/Replicates/Metrics_over_repl/\")"
   ]
  },
  {
   "cell_type": "code",
   "execution_count": 3,
   "metadata": {
    "collapsed": false
   },
   "outputs": [
    {
     "data": {
      "text/html": [
       "<ol class=list-inline>\n",
       "\t<li>0</li>\n",
       "\t<li>1</li>\n",
       "\t<li>10</li>\n",
       "\t<li>12</li>\n",
       "\t<li>13</li>\n",
       "\t<li>14</li>\n",
       "\t<li>15</li>\n",
       "\t<li>16</li>\n",
       "\t<li>17</li>\n",
       "\t<li>18</li>\n",
       "\t<li>19</li>\n",
       "\t<li>2</li>\n",
       "\t<li>20</li>\n",
       "\t<li>22</li>\n",
       "\t<li>23</li>\n",
       "\t<li>24</li>\n",
       "\t<li>25</li>\n",
       "\t<li>26</li>\n",
       "\t<li>3</li>\n",
       "\t<li>4</li>\n",
       "\t<li>5</li>\n",
       "\t<li>6</li>\n",
       "\t<li>7</li>\n",
       "\t<li>8</li>\n",
       "\t<li>9</li>\n",
       "</ol>\n"
      ],
      "text/latex": [
       "\\begin{enumerate*}\n",
       "\\item 0\n",
       "\\item 1\n",
       "\\item 10\n",
       "\\item 12\n",
       "\\item 13\n",
       "\\item 14\n",
       "\\item 15\n",
       "\\item 16\n",
       "\\item 17\n",
       "\\item 18\n",
       "\\item 19\n",
       "\\item 2\n",
       "\\item 20\n",
       "\\item 22\n",
       "\\item 23\n",
       "\\item 24\n",
       "\\item 25\n",
       "\\item 26\n",
       "\\item 3\n",
       "\\item 4\n",
       "\\item 5\n",
       "\\item 6\n",
       "\\item 7\n",
       "\\item 8\n",
       "\\item 9\n",
       "\\end{enumerate*}\n"
      ],
      "text/markdown": [
       "1. 0\n",
       "2. 1\n",
       "3. 10\n",
       "4. 12\n",
       "5. 13\n",
       "6. 14\n",
       "7. 15\n",
       "8. 16\n",
       "9. 17\n",
       "10. 18\n",
       "11. 19\n",
       "12. 2\n",
       "13. 20\n",
       "14. 22\n",
       "15. 23\n",
       "16. 24\n",
       "17. 25\n",
       "18. 26\n",
       "19. 3\n",
       "20. 4\n",
       "21. 5\n",
       "22. 6\n",
       "23. 7\n",
       "24. 8\n",
       "25. 9\n",
       "\n",
       "\n"
      ],
      "text/plain": [
       " [1]  0  1 10 12 13 14 15 16 17 18 19  2 20 22 23 24 25 26  3  4  5  6  7  8  9"
      ]
     },
     "metadata": {},
     "output_type": "display_data"
    }
   ],
   "source": [
    "dis <- as.numeric(substr(sms,25,nchar(sms)-4))\n",
    "dis"
   ]
  },
  {
   "cell_type": "code",
   "execution_count": 4,
   "metadata": {
    "collapsed": true
   },
   "outputs": [],
   "source": [
    "Mgbd <- read.table(\"../Data/27_gbd_groups.txt\")"
   ]
  },
  {
   "cell_type": "code",
   "execution_count": 5,
   "metadata": {
    "collapsed": false,
    "scrolled": true
   },
   "outputs": [],
   "source": [
    "k <- 1\n",
    "DF <- fread(paste(c(\"/media/igna/Elements/HotelDieu/Cochrane/MappingRCTs_vs_Burden/Replicates/Metrics_over_repl/Metrics_over_replicates_\",\n",
    "                    as.character(k),\".txt\"),collapse=\"\"))\n",
    "regs <- sort(unique(DF$Region))\n",
    "regs <- regs[regs!=\"All\"]"
   ]
  },
  {
   "cell_type": "code",
   "execution_count": 6,
   "metadata": {
    "collapsed": false
   },
   "outputs": [],
   "source": [
    "data_f <- data.frame()\n",
    "\n",
    "for(k in dis[dis!=0]){\n",
    "\n",
    "    DF <- fread(paste(c(\"/media/igna/Elements/HotelDieu/Cochrane/MappingRCTs_vs_Burden/Replicates/Metrics_over_repl/Metrics_over_replicates_\",\n",
    "                    as.character(k),\".txt\"),collapse=\"\"))\n",
    "\n",
    "    DFr <- DF[DF$Region%in%regs & DF$Dis == \"dis\",]\n",
    "    DFr$RCTs_all <- rep(DF$RCTs[DF$Dis==\"dis\" & DF$Region==\"All\"],each=length(regs))\n",
    "    DFr$RCTs_NHI <- rep(DF$RCTs[DF$Dis==\"dis\" & DF$Region==\"Non-HI\"],each=length(regs))\n",
    "    DFr$Patients_all <- rep(DF$Patients[DF$Dis==\"dis\" & DF$Region==\"All\"],each=length(regs))\n",
    "    DFr$Patients_NHI <- rep(DF$Patients[DF$Dis==\"dis\" & DF$Region==\"Non-HI\"],each=length(regs))\n",
    "\n",
    "    df <- data.frame(cbind(regs,as.character(Mgbd$x[k]),\n",
    "        do.call('rbind',by(DFr[DFr$RCTs_all!=0,],\n",
    "                           DFr$Region[DFr$RCTs_all!=0],\n",
    "                           function(x){100*quantile(x$RCTs/x$RCTs_all,probs=c(0.025,0.5,0.975))})),\n",
    "        do.call('rbind',by(DFr[DFr$Patients_all!=0,],\n",
    "                           DFr$Region[DFr$Patients_all!=0],\n",
    "                           function(x){100*quantile(x$Patients/x$Patients_all,probs=c(0.025,0.5,0.975))})),\n",
    "        do.call('rbind',by(DFr[DFr$RCTs_NHI!=0,],\n",
    "                           DFr$Region[DFr$RCTs_NHI!=0],\n",
    "                           function(x){100*quantile(x$RCTs/x$RCTs_NHI,probs=c(0.025,0.5,0.975))})),\n",
    "        do.call('rbind',by(DFr[DFr$Patients_NHI!=0,],\n",
    "                           DFr$Region[DFr$Patients_NHI!=0],\n",
    "                           function(x){100*quantile(x$Patients/x$Patients_NHI,probs=c(0.025,0.5,0.975))})))\n",
    "        )\n",
    "\n",
    "    names(df) <- c(\"Region\",\"Disease\",\n",
    "               paste(paste(\"Prop_all\",\"RCTs\",sep=\"_\"),c(\"low\",\"med\",\"up\"),sep=\"_\"),\n",
    "               paste(paste(\"Prop_all\",\"Patients\",sep=\"_\"),c(\"low\",\"med\",\"up\"),sep=\"_\"),\n",
    "               paste(paste(\"Prop_NHI\",\"RCTs\",sep=\"_\"),c(\"low\",\"med\",\"up\"),sep=\"_\"),\n",
    "               paste(paste(\"Prop_NHI\",\"Patients\",sep=\"_\"),c(\"low\",\"med\",\"up\"),sep=\"_\"))\n",
    "\n",
    "    data_f <- rbind(data_f,df)\n",
    "}"
   ]
  },
  {
   "cell_type": "code",
   "execution_count": 7,
   "metadata": {
    "collapsed": true
   },
   "outputs": [],
   "source": [
    "#All diseases\n",
    "k <- 0\n",
    "    DF <- fread(paste(c(\"/media/igna/Elements/HotelDieu/Cochrane/MappingRCTs_vs_Burden/Replicates/Metrics_over_repl/Metrics_over_replicates_\",\n",
    "                    as.character(k),\".txt\"),collapse=\"\"))\n",
    "\n",
    "    DFr <- DF[DF$Region%in%regs,]\n",
    "    DFr$RCTs_all <- rep(DF$RCTs[DF$Region==\"All\"],each=length(regs))\n",
    "    DFr$RCTs_NHI <- rep(DF$RCTs[DF$Region==\"Non-HI\"],each=length(regs))\n",
    "    DFr$Patients_all <- rep(DF$Patients[DF$Region==\"All\"],each=length(regs))\n",
    "    DFr$Patients_NHI <- rep(DF$Patients[DF$Region==\"Non-HI\"],each=length(regs))\n",
    "\n",
    "    df <- data.frame(cbind(regs,\"All\",\n",
    "        do.call('rbind',by(DFr[DFr$RCTs_all!=0,],\n",
    "                           DFr$Region[DFr$RCTs_all!=0],\n",
    "                           function(x){100*quantile(x$RCTs/x$RCTs_all,probs=c(0.025,0.5,0.975))})),\n",
    "        do.call('rbind',by(DFr[DFr$Patients_all!=0,],\n",
    "                           DFr$Region[DFr$Patients_all!=0],\n",
    "                           function(x){100*quantile(x$Patients/x$Patients_all,probs=c(0.025,0.5,0.975))})),\n",
    "        do.call('rbind',by(DFr[DFr$RCTs_NHI!=0,],\n",
    "                           DFr$Region[DFr$RCTs_NHI!=0],\n",
    "                           function(x){100*quantile(x$RCTs/x$RCTs_NHI,probs=c(0.025,0.5,0.975))})),\n",
    "        do.call('rbind',by(DFr[DFr$Patients_NHI!=0,],\n",
    "                           DFr$Region[DFr$Patients_NHI!=0],\n",
    "                           function(x){100*quantile(x$Patients/x$Patients_NHI,probs=c(0.025,0.5,0.975))})))\n",
    "        )\n",
    "\n",
    "    names(df) <- c(\"Region\",\"Disease\",\n",
    "               paste(paste(\"Prop_all\",\"RCTs\",sep=\"_\"),c(\"low\",\"med\",\"up\"),sep=\"_\"),\n",
    "               paste(paste(\"Prop_all\",\"Patients\",sep=\"_\"),c(\"low\",\"med\",\"up\"),sep=\"_\"),\n",
    "               paste(paste(\"Prop_NHI\",\"RCTs\",sep=\"_\"),c(\"low\",\"med\",\"up\"),sep=\"_\"),\n",
    "               paste(paste(\"Prop_NHI\",\"Patients\",sep=\"_\"),c(\"low\",\"med\",\"up\"),sep=\"_\"))\n",
    "\n",
    "    data_f <- rbind(data_f,df)"
   ]
  },
  {
   "cell_type": "code",
   "execution_count": 8,
   "metadata": {
    "collapsed": false
   },
   "outputs": [],
   "source": [
    "rownames(data_f) <- NULL"
   ]
  },
  {
   "cell_type": "code",
   "execution_count": 9,
   "metadata": {
    "collapsed": false
   },
   "outputs": [],
   "source": [
    "data_f[data_f$Region%in%c(\"High-income\",\"Non-HI\"),grep(\"NHI\",names(data_f))] <- NA"
   ]
  },
  {
   "cell_type": "code",
   "execution_count": 10,
   "metadata": {
    "collapsed": false
   },
   "outputs": [
    {
     "data": {
      "text/html": [
       "<table>\n",
       "<thead><tr><th></th><th scope=col>Region</th><th scope=col>Disease</th><th scope=col>Prop_all_RCTs_low</th><th scope=col>Prop_all_RCTs_med</th><th scope=col>Prop_all_RCTs_up</th><th scope=col>Prop_all_Patients_low</th><th scope=col>Prop_all_Patients_med</th><th scope=col>Prop_all_Patients_up</th><th scope=col>Prop_NHI_RCTs_low</th><th scope=col>Prop_NHI_RCTs_med</th><th scope=col>Prop_NHI_RCTs_up</th><th scope=col>Prop_NHI_Patients_low</th><th scope=col>Prop_NHI_Patients_med</th><th scope=col>Prop_NHI_Patients_up</th></tr></thead>\n",
       "<tbody>\n",
       "\t<tr><th scope=row>1</th><td>Central Europe, Eastern Europe, and Central Asia</td><td>Tuberculosis                                    </td><td>3.69003740785565                                </td><td>5.80474934036939                                </td><td>8.13568226393947                                </td><td>0.366473691455004                               </td><td>0.839127809160704                               </td><td>2.83936826324646                                </td><td>5.08474576271187                                </td><td>8.01526717557252                                </td><td>11.486262637802                                 </td><td>0.380957658815296                               </td><td>0.889686757284583                               </td><td>3.33797750372922                                </td></tr>\n",
       "\t<tr><th scope=row>2</th><td>High-income     </td><td>Tuberculosis    </td><td>25.2298560242485</td><td>32.6086956521739</td><td>43.75           </td><td>2.0993861537554 </td><td>5.01358306762257</td><td>20.7015918123193</td><td>NA              </td><td>NA              </td><td>NA              </td><td>NA              </td><td>NA              </td><td>NA              </td></tr>\n",
       "\t<tr><th scope=row>3</th><td>Latin America and Caribbean</td><td>Tuberculosis               </td><td>6.90279038112523           </td><td>9.6969696969697            </td><td>12.5560538116592           </td><td>0.984953513555074          </td><td>7.43862809488715           </td><td>24.4784120543199           </td><td>9.86401964418087           </td><td>13.3333333333333           </td><td>17.0268295534253           </td><td>1.0378086262667            </td><td>7.78820711422704           </td><td>27.9627474021534           </td></tr>\n",
       "\t<tr><th scope=row>4</th><td>Non-HI          </td><td>Tuberculosis    </td><td>62.0564190128775</td><td>72.9805013927577</td><td>80.0802811870901</td><td>79.2984081876807</td><td>94.9864169323774</td><td>97.9006138462446</td><td>NA              </td><td>NA              </td><td>NA              </td><td>NA              </td><td>NA              </td><td>NA              </td></tr>\n",
       "\t<tr><th scope=row>5</th><td>North Africa and Middle East</td><td>Tuberculosis                </td><td>3.59039767997637            </td><td>5.86510263929619            </td><td>8.48484848484849            </td><td>0.186777744586216           </td><td>0.634283140727821           </td><td>2.09269030195581            </td><td>4.84384164222874            </td><td>8.05369127516778            </td><td>12.5                        </td><td>0.192695325477562           </td><td>0.670666221682141           </td><td>2.42120570680917            </td></tr>\n",
       "\t<tr><th scope=row>6</th><td>South Asia      </td><td>Tuberculosis    </td><td>9.76133765243902</td><td>13.2315521628499</td><td>16.4971649484536</td><td>1.54968676109187</td><td>3.18532882501455</td><td>10.4758002001611</td><td>14.1666666666667</td><td>18.232044198895 </td><td>22.2222222222222</td><td>1.62335420612825</td><td>3.36210946299576</td><td>12.183418694834 </td></tr>\n",
       "</tbody>\n",
       "</table>\n"
      ],
      "text/latex": [
       "\\begin{tabular}{r|llllllllllllll}\n",
       "  & Region & Disease & Prop\\_all\\_RCTs\\_low & Prop\\_all\\_RCTs\\_med & Prop\\_all\\_RCTs\\_up & Prop\\_all\\_Patients\\_low & Prop\\_all\\_Patients\\_med & Prop\\_all\\_Patients\\_up & Prop\\_NHI\\_RCTs\\_low & Prop\\_NHI\\_RCTs\\_med & Prop\\_NHI\\_RCTs\\_up & Prop\\_NHI\\_Patients\\_low & Prop\\_NHI\\_Patients\\_med & Prop\\_NHI\\_Patients\\_up\\\\\n",
       "\\hline\n",
       "\t1 & Central Europe, Eastern Europe, and Central Asia & Tuberculosis                                     & 3.69003740785565                                 & 5.80474934036939                                 & 8.13568226393947                                 & 0.366473691455004                                & 0.839127809160704                                & 2.83936826324646                                 & 5.08474576271187                                 & 8.01526717557252                                 & 11.486262637802                                  & 0.380957658815296                                & 0.889686757284583                                & 3.33797750372922                                \\\\\n",
       "\t2 & High-income      & Tuberculosis     & 25.2298560242485 & 32.6086956521739 & 43.75            & 2.0993861537554  & 5.01358306762257 & 20.7015918123193 & NA               & NA               & NA               & NA               & NA               & NA              \\\\\n",
       "\t3 & Latin America and Caribbean & Tuberculosis                & 6.90279038112523            & 9.6969696969697             & 12.5560538116592            & 0.984953513555074           & 7.43862809488715            & 24.4784120543199            & 9.86401964418087            & 13.3333333333333            & 17.0268295534253            & 1.0378086262667             & 7.78820711422704            & 27.9627474021534           \\\\\n",
       "\t4 & Non-HI           & Tuberculosis     & 62.0564190128775 & 72.9805013927577 & 80.0802811870901 & 79.2984081876807 & 94.9864169323774 & 97.9006138462446 & NA               & NA               & NA               & NA               & NA               & NA              \\\\\n",
       "\t5 & North Africa and Middle East & Tuberculosis                 & 3.59039767997637             & 5.86510263929619             & 8.48484848484849             & 0.186777744586216            & 0.634283140727821            & 2.09269030195581             & 4.84384164222874             & 8.05369127516778             & 12.5                         & 0.192695325477562            & 0.670666221682141            & 2.42120570680917            \\\\\n",
       "\t6 & South Asia       & Tuberculosis     & 9.76133765243902 & 13.2315521628499 & 16.4971649484536 & 1.54968676109187 & 3.18532882501455 & 10.4758002001611 & 14.1666666666667 & 18.232044198895  & 22.2222222222222 & 1.62335420612825 & 3.36210946299576 & 12.183418694834 \\\\\n",
       "\\end{tabular}\n"
      ],
      "text/plain": [
       "                                            Region      Disease\n",
       "1 Central Europe, Eastern Europe, and Central Asia Tuberculosis\n",
       "2                                      High-income Tuberculosis\n",
       "3                      Latin America and Caribbean Tuberculosis\n",
       "4                                           Non-HI Tuberculosis\n",
       "5                     North Africa and Middle East Tuberculosis\n",
       "6                                       South Asia Tuberculosis\n",
       "  Prop_all_RCTs_low Prop_all_RCTs_med Prop_all_RCTs_up Prop_all_Patients_low\n",
       "1  3.69003740785565  5.80474934036939 8.13568226393947     0.366473691455004\n",
       "2  25.2298560242485  32.6086956521739            43.75       2.0993861537554\n",
       "3  6.90279038112523   9.6969696969697 12.5560538116592     0.984953513555074\n",
       "4  62.0564190128775  72.9805013927577 80.0802811870901      79.2984081876807\n",
       "5  3.59039767997637  5.86510263929619 8.48484848484849     0.186777744586216\n",
       "6  9.76133765243902  13.2315521628499 16.4971649484536      1.54968676109187\n",
       "  Prop_all_Patients_med Prop_all_Patients_up Prop_NHI_RCTs_low\n",
       "1     0.839127809160704     2.83936826324646  5.08474576271187\n",
       "2      5.01358306762257     20.7015918123193              <NA>\n",
       "3      7.43862809488715     24.4784120543199  9.86401964418087\n",
       "4      94.9864169323774     97.9006138462446              <NA>\n",
       "5     0.634283140727821     2.09269030195581  4.84384164222874\n",
       "6      3.18532882501455     10.4758002001611  14.1666666666667\n",
       "  Prop_NHI_RCTs_med Prop_NHI_RCTs_up Prop_NHI_Patients_low\n",
       "1  8.01526717557252  11.486262637802     0.380957658815296\n",
       "2              <NA>             <NA>                  <NA>\n",
       "3  13.3333333333333 17.0268295534253       1.0378086262667\n",
       "4              <NA>             <NA>                  <NA>\n",
       "5  8.05369127516778             12.5     0.192695325477562\n",
       "6   18.232044198895 22.2222222222222      1.62335420612825\n",
       "  Prop_NHI_Patients_med Prop_NHI_Patients_up\n",
       "1     0.889686757284583     3.33797750372922\n",
       "2                  <NA>                 <NA>\n",
       "3      7.78820711422704     27.9627474021534\n",
       "4                  <NA>                 <NA>\n",
       "5     0.670666221682141     2.42120570680917\n",
       "6      3.36210946299576      12.183418694834"
      ]
     },
     "metadata": {},
     "output_type": "display_data"
    }
   ],
   "source": [
    "head(data_f)"
   ]
  },
  {
   "cell_type": "code",
   "execution_count": 11,
   "metadata": {
    "collapsed": false
   },
   "outputs": [],
   "source": [
    "write.table(data_f,\"../Data/RCTs_and_Patients_prop_among_all_and_HI_median_UI_across_regions_per_disease.txt\")"
   ]
  },
  {
   "cell_type": "code",
   "execution_count": null,
   "metadata": {
    "collapsed": true
   },
   "outputs": [],
   "source": []
  }
 ],
 "metadata": {
  "kernelspec": {
   "display_name": "R",
   "language": "R",
   "name": "ir"
  },
  "language_info": {
   "codemirror_mode": "r",
   "file_extension": ".r",
   "mimetype": "text/x-r-source",
   "name": "R",
   "pygments_lexer": "r",
   "version": "3.3.1"
  }
 },
 "nbformat": 4,
 "nbformat_minor": 1
}
