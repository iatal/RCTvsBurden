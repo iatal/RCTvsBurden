{
 "cells": [
  {
   "cell_type": "code",
   "execution_count": 1,
   "metadata": {
    "collapsed": true
   },
   "outputs": [],
   "source": [
    "data <- read.table(\"../Data/RCTs_and_Patients_Nb_local_prop_median_UI_per_region_and_disease.txt\")"
   ]
  },
  {
   "cell_type": "code",
   "execution_count": 2,
   "metadata": {
    "collapsed": false
   },
   "outputs": [
    {
     "data": {
      "text/html": [
       "<table>\n",
       "<thead><tr><th></th><th scope=col>Region</th><th scope=col>Disease</th><th scope=col>Nb_RCTs_low</th><th scope=col>Nb_RCTs_med</th><th scope=col>Nb_RCTs_up</th><th scope=col>Nb_Patients_low</th><th scope=col>Nb_Patients_med</th><th scope=col>Nb_Patients_up</th><th scope=col>Prop_RCTs_low</th><th scope=col>Prop_RCTs_med</th><th scope=col>Prop_RCTs_up</th><th scope=col>Prop_Patients_low</th><th scope=col>Prop_Patients_med</th><th scope=col>Prop_Patients_up</th></tr></thead>\n",
       "<tbody>\n",
       "\t<tr><th scope=row>1</th><td>Central Europe, Eastern Europe, and Central Asia</td><td>Tuberculosis                                    </td><td>4                                               </td><td>17                                              </td><td>28                                              </td><td>817.791035280509                                </td><td>3727.45887445887                                </td><td>8286.37821455813                                </td><td>0.0670184629223417                              </td><td>0.279881461969048                               </td><td>0.465039030061452                               </td><td>0.0541345253732852                              </td><td>0.246996228187276                               </td><td>0.548102268596756                               </td></tr>\n",
       "\t<tr><th scope=row>2</th><td>High-income       </td><td>Tuberculosis      </td><td>28                </td><td>95                </td><td>186               </td><td>4760.52142857143  </td><td>20935.8779220779  </td><td>80181.1191734     </td><td>0.0445697341004633</td><td>0.152             </td><td>0.298837432345686 </td><td>0.0246145116753808</td><td>0.106212756460855 </td><td>0.408072232458222 </td></tr>\n",
       "\t<tr><th scope=row>3</th><td>Latin America and Caribbean</td><td>Tuberculosis               </td><td>8                          </td><td>29                         </td><td>42                         </td><td>2031.4689484127            </td><td>41578.255952381            </td><td>46855.1901044703           </td><td>0.185393444249661          </td><td>0.67421141343607           </td><td>0.985567832207902          </td><td>0.25044366594425           </td><td>4.89484230548107           </td><td>5.74768206602598           </td></tr>\n",
       "\t<tr><th scope=row>4</th><td>North Africa and Middle East</td><td>Tuberculosis                </td><td>4                           </td><td>17                          </td><td>31                          </td><td>426.4375                    </td><td>2930.46428571429            </td><td>4985.14201868919            </td><td>0.050657984871941           </td><td>0.214646464646465           </td><td>0.393272107025709           </td><td>0.0509666269158626          </td><td>0.351318357907269           </td><td>0.598363560953588           </td></tr>\n",
       "\t<tr><th scope=row>5</th><td>South Asia       </td><td>Tuberculosis     </td><td>11               </td><td>40               </td><td>56               </td><td>3184.94642857143 </td><td>14501.0103479853 </td><td>23036.5803571428 </td><td>0.24519372262736 </td><td>0.883197173769044</td><td>1.26012776852171 </td><td>0.171534792285204</td><td>0.781339017910559</td><td>1.28564993265724 </td></tr>\n",
       "\t<tr><th scope=row>6</th><td>Southeast Asia, East Asia and Oceania</td><td>Tuberculosis                         </td><td>15                                   </td><td>53                                   </td><td>76                                   </td><td>5566.83035714286                     </td><td>28046.521031746                      </td><td>41850.471984127                      </td><td>0.169275419396122                    </td><td>0.603575902516798                    </td><td>0.872978293733491                    </td><td>0.17204138884611                     </td><td>0.869588012581335                    </td><td>1.32455313091434                     </td></tr>\n",
       "</tbody>\n",
       "</table>\n"
      ],
      "text/latex": [
       "\\begin{tabular}{r|llllllllllllll}\n",
       "  & Region & Disease & Nb\\_RCTs\\_low & Nb\\_RCTs\\_med & Nb\\_RCTs\\_up & Nb\\_Patients\\_low & Nb\\_Patients\\_med & Nb\\_Patients\\_up & Prop\\_RCTs\\_low & Prop\\_RCTs\\_med & Prop\\_RCTs\\_up & Prop\\_Patients\\_low & Prop\\_Patients\\_med & Prop\\_Patients\\_up\\\\\n",
       "\\hline\n",
       "\t1 & Central Europe, Eastern Europe, and Central Asia & Tuberculosis                                     & 4                                                & 17                                               & 28                                               & 817.791035280509                                 & 3727.45887445887                                 & 8286.37821455813                                 & 0.0670184629223417                               & 0.279881461969048                                & 0.465039030061452                                & 0.0541345253732852                               & 0.246996228187276                                & 0.548102268596756                               \\\\\n",
       "\t2 & High-income        & Tuberculosis       & 28                 & 95                 & 186                & 4760.52142857143   & 20935.8779220779   & 80181.1191734      & 0.0445697341004633 & 0.152              & 0.298837432345686  & 0.0246145116753808 & 0.106212756460855  & 0.408072232458222 \\\\\n",
       "\t3 & Latin America and Caribbean & Tuberculosis                & 8                           & 29                          & 42                          & 2031.4689484127             & 41578.255952381             & 46855.1901044703            & 0.185393444249661           & 0.67421141343607            & 0.985567832207902           & 0.25044366594425            & 4.89484230548107            & 5.74768206602598           \\\\\n",
       "\t4 & North Africa and Middle East & Tuberculosis                 & 4                            & 17                           & 31                           & 426.4375                     & 2930.46428571429             & 4985.14201868919             & 0.050657984871941            & 0.214646464646465            & 0.393272107025709            & 0.0509666269158626           & 0.351318357907269            & 0.598363560953588           \\\\\n",
       "\t5 & South Asia        & Tuberculosis      & 11                & 40                & 56                & 3184.94642857143  & 14501.0103479853  & 23036.5803571428  & 0.24519372262736  & 0.883197173769044 & 1.26012776852171  & 0.171534792285204 & 0.781339017910559 & 1.28564993265724 \\\\\n",
       "\t6 & Southeast Asia, East Asia and Oceania & Tuberculosis                          & 15                                    & 53                                    & 76                                    & 5566.83035714286                      & 28046.521031746                       & 41850.471984127                       & 0.169275419396122                     & 0.603575902516798                     & 0.872978293733491                     & 0.17204138884611                      & 0.869588012581335                     & 1.32455313091434                     \\\\\n",
       "\\end{tabular}\n"
      ],
      "text/plain": [
       "                                            Region      Disease Nb_RCTs_low\n",
       "1 Central Europe, Eastern Europe, and Central Asia Tuberculosis           4\n",
       "2                                      High-income Tuberculosis          28\n",
       "3                      Latin America and Caribbean Tuberculosis           8\n",
       "4                     North Africa and Middle East Tuberculosis           4\n",
       "5                                       South Asia Tuberculosis          11\n",
       "6            Southeast Asia, East Asia and Oceania Tuberculosis          15\n",
       "  Nb_RCTs_med Nb_RCTs_up Nb_Patients_low Nb_Patients_med Nb_Patients_up\n",
       "1          17         28        817.7910        3727.459       8286.378\n",
       "2          95        186       4760.5214       20935.878      80181.119\n",
       "3          29         42       2031.4689       41578.256      46855.190\n",
       "4          17         31        426.4375        2930.464       4985.142\n",
       "5          40         56       3184.9464       14501.010      23036.580\n",
       "6          53         76       5566.8304       28046.521      41850.472\n",
       "  Prop_RCTs_low Prop_RCTs_med Prop_RCTs_up Prop_Patients_low Prop_Patients_med\n",
       "1    0.06701846     0.2798815    0.4650390        0.05413453         0.2469962\n",
       "2    0.04456973     0.1520000    0.2988374        0.02461451         0.1062128\n",
       "3    0.18539344     0.6742114    0.9855678        0.25044367         4.8948423\n",
       "4    0.05065798     0.2146465    0.3932721        0.05096663         0.3513184\n",
       "5    0.24519372     0.8831972    1.2601278        0.17153479         0.7813390\n",
       "6    0.16927542     0.6035759    0.8729783        0.17204139         0.8695880\n",
       "  Prop_Patients_up\n",
       "1        0.5481023\n",
       "2        0.4080722\n",
       "3        5.7476821\n",
       "4        0.5983636\n",
       "5        1.2856499\n",
       "6        1.3245531"
      ]
     },
     "metadata": {},
     "output_type": "display_data"
    }
   ],
   "source": [
    "head(data)"
   ]
  },
  {
   "cell_type": "code",
   "execution_count": 3,
   "metadata": {
    "collapsed": false
   },
   "outputs": [],
   "source": [
    "data$Nb_RCTs <- paste(format(round(data$Nb_RCTs_med),nsmall = 0),\n",
    "           \" [\",format(round(data$Nb_RCTs_low),nsmall = 0),\n",
    "           \"--\",format(round(data$Nb_RCTs_up),nsmall = 0),\"]\")\n",
    "data$Nb_Patients <- paste(format(round(data$Nb_Patients_med),nsmall = 0),\n",
    "           \" [\",format(round(data$Nb_Patients_low),nsmall = 0),\n",
    "           \"--\",format(round(data$Nb_Patients_up),nsmall = 0),\"]\")\n",
    "data$Prop_RCTs <- paste(format(round(data$Prop_RCTs_med,1),nsmall = 1),\n",
    "           \" [\",format(round(data$Prop_RCTs_low,1),nsmall = 1),\n",
    "           \"--\",format(round(data$Prop_RCTs_up,1),nsmall = 1),\"]\")\n",
    "data$Prop_Patients <- paste(format(round(data$Prop_Patients_med,1),nsmall = 1),\n",
    "           \" [\",format(round(data$Prop_Patients_low,1),nsmall = 1),\n",
    "           \"--\",format(round(data$Prop_Patients_up,1),nsmall = 1),\"]\")"
   ]
  },
  {
   "cell_type": "code",
   "execution_count": 4,
   "metadata": {
    "collapsed": false
   },
   "outputs": [
    {
     "data": {
      "text/html": [
       "<table>\n",
       "<thead><tr><th></th><th scope=col>Region</th><th scope=col>Disease</th><th scope=col>Nb_RCTs</th><th scope=col>Nb_Patients</th><th scope=col>Prop_RCTs</th><th scope=col>Prop_Patients</th></tr></thead>\n",
       "<tbody>\n",
       "\t<tr><th scope=row>1</th><td>Central Europe, Eastern Europe, and Central Asia</td><td>Tuberculosis                                    </td><td>   17  [     4 --    28 ]                       </td><td>    3727  [      818 --     8286 ]              </td><td> 0.3  [  0.1 --  0.5 ]                          </td><td> 0.2  [  0.1 --  0.5 ]                          </td></tr>\n",
       "\t<tr><th scope=row>2</th><td>High-income                       </td><td>Tuberculosis                      </td><td>   95  [    28 --   186 ]         </td><td>   20936  [     4761 --    80181 ]</td><td> 0.2  [  0.0 --  0.3 ]            </td><td> 0.1  [  0.0 --  0.4 ]            </td></tr>\n",
       "\t<tr><th scope=row>3</th><td>Latin America and Caribbean       </td><td>Tuberculosis                      </td><td>   29  [     8 --    42 ]         </td><td>   41578  [     2031 --    46855 ]</td><td> 0.7  [  0.2 --  1.0 ]            </td><td> 4.9  [  0.3 --  5.7 ]            </td></tr>\n",
       "\t<tr><th scope=row>4</th><td>North Africa and Middle East      </td><td>Tuberculosis                      </td><td>   17  [     4 --    31 ]         </td><td>    2930  [      426 --     4985 ]</td><td> 0.2  [  0.1 --  0.4 ]            </td><td> 0.4  [  0.1 --  0.6 ]            </td></tr>\n",
       "\t<tr><th scope=row>5</th><td>South Asia                        </td><td>Tuberculosis                      </td><td>   40  [    11 --    56 ]         </td><td>   14501  [     3185 --    23037 ]</td><td> 0.9  [  0.2 --  1.3 ]            </td><td> 0.8  [  0.2 --  1.3 ]            </td></tr>\n",
       "\t<tr><th scope=row>6</th><td>Southeast Asia, East Asia and Oceania</td><td>Tuberculosis                         </td><td>   53  [    15 --    76 ]            </td><td>   28047  [     5567 --    41850 ]   </td><td> 0.6  [  0.2 --  0.9 ]               </td><td> 0.9  [  0.2 --  1.3 ]               </td></tr>\n",
       "</tbody>\n",
       "</table>\n"
      ],
      "text/latex": [
       "\\begin{tabular}{r|llllll}\n",
       "  & Region & Disease & Nb\\_RCTs & Nb\\_Patients & Prop\\_RCTs & Prop\\_Patients\\\\\n",
       "\\hline\n",
       "\t1 & Central Europe, Eastern Europe, and Central Asia & Tuberculosis                                     &    17  {[}     4 --    28 {]}                    &     3727  {[}      818 --     8286 {]}           &  0.3  {[}  0.1 --  0.5 {]}                       &  0.2  {[}  0.1 --  0.5 {]}                      \\\\\n",
       "\t2 & High-income                            & Tuberculosis                           &    95  {[}    28 --   186 {]}          &    20936  {[}     4761 --    80181 {]} &  0.2  {[}  0.0 --  0.3 {]}             &  0.1  {[}  0.0 --  0.4 {]}            \\\\\n",
       "\t3 & Latin America and Caribbean            & Tuberculosis                           &    29  {[}     8 --    42 {]}          &    41578  {[}     2031 --    46855 {]} &  0.7  {[}  0.2 --  1.0 {]}             &  4.9  {[}  0.3 --  5.7 {]}            \\\\\n",
       "\t4 & North Africa and Middle East           & Tuberculosis                           &    17  {[}     4 --    31 {]}          &     2930  {[}      426 --     4985 {]} &  0.2  {[}  0.1 --  0.4 {]}             &  0.4  {[}  0.1 --  0.6 {]}            \\\\\n",
       "\t5 & South Asia                             & Tuberculosis                           &    40  {[}    11 --    56 {]}          &    14501  {[}     3185 --    23037 {]} &  0.9  {[}  0.2 --  1.3 {]}             &  0.8  {[}  0.2 --  1.3 {]}            \\\\\n",
       "\t6 & Southeast Asia, East Asia and Oceania  & Tuberculosis                           &    53  {[}    15 --    76 {]}          &    28047  {[}     5567 --    41850 {]} &  0.6  {[}  0.2 --  0.9 {]}             &  0.9  {[}  0.2 --  1.3 {]}            \\\\\n",
       "\\end{tabular}\n"
      ],
      "text/plain": [
       "                                            Region      Disease\n",
       "1 Central Europe, Eastern Europe, and Central Asia Tuberculosis\n",
       "2                                      High-income Tuberculosis\n",
       "3                      Latin America and Caribbean Tuberculosis\n",
       "4                     North Africa and Middle East Tuberculosis\n",
       "5                                       South Asia Tuberculosis\n",
       "6            Southeast Asia, East Asia and Oceania Tuberculosis\n",
       "                    Nb_RCTs                        Nb_Patients\n",
       "1    17  [     4 --    28 ]     3727  [      818 --     8286 ]\n",
       "2    95  [    28 --   186 ]    20936  [     4761 --    80181 ]\n",
       "3    29  [     8 --    42 ]    41578  [     2031 --    46855 ]\n",
       "4    17  [     4 --    31 ]     2930  [      426 --     4985 ]\n",
       "5    40  [    11 --    56 ]    14501  [     3185 --    23037 ]\n",
       "6    53  [    15 --    76 ]    28047  [     5567 --    41850 ]\n",
       "               Prop_RCTs          Prop_Patients\n",
       "1  0.3  [  0.1 --  0.5 ]  0.2  [  0.1 --  0.5 ]\n",
       "2  0.2  [  0.0 --  0.3 ]  0.1  [  0.0 --  0.4 ]\n",
       "3  0.7  [  0.2 --  1.0 ]  4.9  [  0.3 --  5.7 ]\n",
       "4  0.2  [  0.1 --  0.4 ]  0.4  [  0.1 --  0.6 ]\n",
       "5  0.9  [  0.2 --  1.3 ]  0.8  [  0.2 --  1.3 ]\n",
       "6  0.6  [  0.2 --  0.9 ]  0.9  [  0.2 --  1.3 ]"
      ]
     },
     "metadata": {},
     "output_type": "display_data"
    }
   ],
   "source": [
    "head(data[,c(\"Region\",\"Disease\",\"Nb_RCTs\",\"Nb_Patients\",\"Prop_RCTs\",\"Prop_Patients\")])"
   ]
  },
  {
   "cell_type": "code",
   "execution_count": 5,
   "metadata": {
    "collapsed": false,
    "scrolled": true
   },
   "outputs": [
    {
     "data": {
      "text/html": [
       "<table>\n",
       "<thead><tr><th></th><th scope=col>Region</th><th scope=col>Disease</th><th scope=col>Nb_RCTs</th><th scope=col>Nb_Patients</th></tr></thead>\n",
       "<tbody>\n",
       "\t<tr><th scope=row>200</th><td>High-income                       </td><td>All                               </td><td>60631  [ 58035 -- 62973 ]         </td><td>18964733  [ 17965003 -- 19913083 ]</td></tr>\n",
       "\t<tr><th scope=row>206</th><td>All                               </td><td>All                               </td><td>82179  [ 78662 -- 85358 ]         </td><td>30082791  [ 28545370 -- 31513723 ]</td></tr>\n",
       "\t<tr><th scope=row>207</th><td>Non-HI                            </td><td>All                               </td><td>27564  [ 26405 -- 28597 ]         </td><td>11117752  [ 10376596 -- 11813323 ]</td></tr>\n",
       "</tbody>\n",
       "</table>\n"
      ],
      "text/latex": [
       "\\begin{tabular}{r|llll}\n",
       "  & Region & Disease & Nb\\_RCTs & Nb\\_Patients\\\\\n",
       "\\hline\n",
       "\t200 & High-income                            & All                                    & 60631  {[} 58035 -- 62973 {]}          & 18964733  {[} 17965003 -- 19913083 {]}\\\\\n",
       "\t206 & All                                    & All                                    & 82179  {[} 78662 -- 85358 {]}          & 30082791  {[} 28545370 -- 31513723 {]}\\\\\n",
       "\t207 & Non-HI                                 & All                                    & 27564  {[} 26405 -- 28597 {]}          & 11117752  {[} 10376596 -- 11813323 {]}\\\\\n",
       "\\end{tabular}\n"
      ],
      "text/plain": [
       "         Region Disease                   Nb_RCTs\n",
       "200 High-income     All 60631  [ 58035 -- 62973 ]\n",
       "206         All     All 82179  [ 78662 -- 85358 ]\n",
       "207      Non-HI     All 27564  [ 26405 -- 28597 ]\n",
       "                           Nb_Patients\n",
       "200 18964733  [ 17965003 -- 19913083 ]\n",
       "206 30082791  [ 28545370 -- 31513723 ]\n",
       "207 11117752  [ 10376596 -- 11813323 ]"
      ]
     },
     "metadata": {},
     "output_type": "display_data"
    }
   ],
   "source": [
    "data[data$Dis==\"All\" & data$Region%in%c(\"All\",\"High-income\",\"Non-HI\"),c(\"Region\",\"Disease\",\"Nb_RCTs\",\"Nb_Patients\")]"
   ]
  },
  {
   "cell_type": "code",
   "execution_count": 32,
   "metadata": {
    "collapsed": false
   },
   "outputs": [],
   "source": [
    "dall <- data[data$Region==\"All\",]"
   ]
  },
  {
   "cell_type": "code",
   "execution_count": 33,
   "metadata": {
    "collapsed": false
   },
   "outputs": [
    {
     "data": {
      "text/html": [
       "<table>\n",
       "<thead><tr><th></th><th scope=col>Region</th><th scope=col>Disease</th><th scope=col>Nb_RCTs</th><th scope=col>Nb_Patients</th><th scope=col>Prop_RCTs</th><th scope=col>Prop_Patients</th></tr></thead>\n",
       "<tbody>\n",
       "\t<tr><th scope=row>206</th><td>All                               </td><td>All                               </td><td>82179  [ 78662 -- 85358 ]         </td><td>60121077  [ 38736579 -- 62786199 ]</td><td>  NA  [   NA --   NA ]            </td><td>  NA  [   NA --   NA ]            </td></tr>\n",
       "\t<tr><th scope=row>26</th><td>All                               </td><td>Neoplasms                         </td><td>12024  [ 11148 -- 12728 ]         </td><td> 8640118  [  5358052 --  9290342 ]</td><td>13.1  [ 12.2 -- 13.9 ]            </td><td>13.2  [  8.5 -- 19.2 ]            </td></tr>\n",
       "\t<tr><th scope=row>89</th><td>All                                            </td><td>Diabetes, urinary diseases and male infertility</td><td>11700  [ 10614 -- 12854 ]                      </td><td> 5852132  [  4398439 --  9441960 ]             </td><td>14.0  [ 12.7 -- 15.3 ]                         </td><td> 9.7  [  7.3 -- 19.4 ]                         </td></tr>\n",
       "\t<tr><th scope=row>35</th><td>All                                    </td><td>Cardiovascular and circulatory diseases</td><td>10676  [  9527 -- 11943 ]              </td><td> 4975478  [  4234637 -- 24518980 ]     </td><td>12.8  [ 11.5 -- 14.3 ]                 </td><td> 8.3  [  6.9 -- 39.4 ]                 </td></tr>\n",
       "\t<tr><th scope=row>80</th><td>All                               </td><td>Mental and behavioral disorders   </td><td> 9346  [  8684 -- 10040 ]         </td><td> 2876536  [  2292539 --  3887152 ]</td><td>11.3  [ 10.5 -- 12.3 ]            </td><td> 4.8  [  3.8 --  8.1 ]            </td></tr>\n",
       "\t<tr><th scope=row>116</th><td>All                               </td><td>Musculoskeletal disorders         </td><td> 6949  [  6189 --  7783 ]         </td><td> 2050558  [  1596605 --  3331659 ]</td><td> 8.3  [  7.4 --  9.3 ]            </td><td> 3.4  [  2.6 --  6.3 ]            </td></tr>\n",
       "\t<tr><th scope=row>62</th><td>All                                  </td><td>Digestive diseases (except cirrhosis)</td><td> 6734  [  5571 --  8754 ]            </td><td> 1889907  [  1327402 --  4873256 ]   </td><td> 8.3  [  6.9 -- 10.7 ]               </td><td> 3.3  [  2.2 --  8.6 ]               </td></tr>\n",
       "\t<tr><th scope=row>71</th><td>All                               </td><td>Neurological disorders            </td><td> 6388  [  5562 --  7295 ]         </td><td> 1547648  [  1219633 --  3028043 ]</td><td> 7.8  [  6.8 --  8.9 ]            </td><td> 2.6  [  2.0 --  5.9 ]            </td></tr>\n",
       "\t<tr><th scope=row>134</th><td>All                               </td><td>Sense organ diseases              </td><td> 5209  [  4505 --  5981 ]         </td><td> 1347380  [  1003503 --  2178688 ]</td><td> 6.3  [  5.5 --  7.2 ]            </td><td> 2.3  [  1.7 --  4.1 ]            </td></tr>\n",
       "\t<tr><th scope=row>44</th><td>All                               </td><td>Chronic respiratory diseases      </td><td> 4773  [  4303 --  5283 ]         </td><td> 1759433  [  1441357 --  2364790 ]</td><td> 5.8  [  5.2 --  6.4 ]            </td><td> 2.9  [  2.4 --  4.9 ]            </td></tr>\n",
       "\t<tr><th scope=row>125</th><td>All                               </td><td>Skin and subcutaneous diseases    </td><td> 4346  [  3524 --  5744 ]         </td><td> 1892847  [  1081970 --  3437999 ]</td><td> 5.3  [  4.3 --  7.0 ]            </td><td> 3.2  [  1.8 --  6.9 ]            </td></tr>\n",
       "\t<tr><th scope=row>152</th><td>All                                                                                     </td><td>Diarrhea, lower respiratory infections, meningitis, and other common infectious diseases</td><td> 3497  [  2855 --  4273 ]                                                               </td><td> 3420205  [  2441898 --  4501061 ]                                                      </td><td> 4.2  [  3.4 --  5.2 ]                                                                  </td><td> 5.7  [  4.1 --  9.7 ]                                                                  </td></tr>\n",
       "\t<tr><th scope=row>107</th><td>All                               </td><td>Gynecological diseases            </td><td> 2730  [  2158 --  4225 ]         </td><td> 1104376  [   766976 --  2403993 ]</td><td> 3.3  [  2.6 --  5.1 ]            </td><td> 1.9  [  1.3 --  4.4 ]            </td></tr>\n",
       "\t<tr><th scope=row>179</th><td>All                               </td><td>Maternal disorders                </td><td> 2208  [  1398 --  3488 ]         </td><td> 1048352  [   615492 --  3770108 ]</td><td> 2.6  [  1.7 --  4.2 ]            </td><td> 1.8  [  1.0 --  6.3 ]            </td></tr>\n",
       "\t<tr><th scope=row>143</th><td>All                               </td><td>Oral disorders                    </td><td> 2249  [  1184 --  6507 ]         </td><td>  821855  [   317343 --  4418141 ]</td><td> 2.7  [  1.4 --  7.7 ]            </td><td> 1.4  [  0.5 --  7.7 ]            </td></tr>\n",
       "\t<tr><th scope=row>98</th><td>All                               </td><td>HIV/AIDS                          </td><td> 1494  [  1147 --  1753 ]         </td><td> 1223251  [   735571 --  1566983 ]</td><td> 1.7  [  1.3 --  2.1 ]            </td><td> 2.0  [  1.2 --  3.3 ]            </td></tr>\n",
       "\t<tr><th scope=row>197</th><td>All                               </td><td>Nutritional deficiencies          </td><td> 1279  [   678 --  2138 ]         </td><td>  580576  [   284915 --  1426262 ]</td><td> 1.5  [  0.8 --  2.5 ]            </td><td> 1.0  [  0.5 --  2.6 ]            </td></tr>\n",
       "\t<tr><th scope=row>188</th><td>All                               </td><td>Neonatal disorders                </td><td> 1424  [   639 --  3613 ]         </td><td> 1549845  [   441227 --  3634887 ]</td><td> 1.7  [  0.8 --  4.3 ]            </td><td> 2.6  [  0.8 --  6.7 ]            </td></tr>\n",
       "\t<tr><th scope=row>17</th><td>All                               </td><td>Hepatitis                         </td><td>  913  [   602 --  1300 ]         </td><td>  403618  [   211789 --   782205 ]</td><td> 1.1  [  0.7 --  1.5 ]            </td><td> 0.7  [  0.4 --  1.4 ]            </td></tr>\n",
       "\t<tr><th scope=row>53</th><td>All                               </td><td>Cirrhosis of the liver            </td><td> 1061  [   535 --  1574 ]         </td><td>  358782  [   139311 --   785988 ]</td><td> 1.3  [  0.6 --  1.9 ]            </td><td> 0.6  [  0.2 --  1.4 ]            </td></tr>\n",
       "\t<tr><th scope=row>170</th><td>All                                          </td><td>Neglected tropical diseases excluding malaria</td><td>  492  [   329 --   849 ]                    </td><td> 1018730  [   624681 --  1308825 ]           </td><td> 0.6  [  0.4 --  1.0 ]                       </td><td> 1.7  [  1.0 --  2.7 ]                       </td></tr>\n",
       "\t<tr><th scope=row>161</th><td>All                               </td><td>Malaria                           </td><td>  435  [   260 --   546 ]         </td><td> 1973478  [   834820 --  2208020 ]</td><td> 0.5  [  0.3 --  0.6 ]            </td><td> 3.2  [  1.4 --  5.2 ]            </td></tr>\n",
       "\t<tr><th scope=row>8</th><td>All                               </td><td>Tuberculosis                      </td><td>  298  [    91 --   454 ]         </td><td> 2691157  [   179759 --  3721926 ]</td><td> 0.4  [  0.1 --  0.5 ]            </td><td> 4.5  [  0.3 --  8.4 ]            </td></tr>\n",
       "</tbody>\n",
       "</table>\n"
      ],
      "text/latex": [
       "\\begin{tabular}{r|llllll}\n",
       "  & Region & Disease & Nb\\_RCTs & Nb\\_Patients & Prop\\_RCTs & Prop\\_Patients\\\\\n",
       "\\hline\n",
       "\t206 & All                                    & All                                    & 82179  {[} 78662 -- 85358 {]}          & 60121077  {[} 38736579 -- 62786199 {]} &   NA  {[}   NA --   NA {]}             &   NA  {[}   NA --   NA {]}            \\\\\n",
       "\t26 & All                                    & Neoplasms                              & 12024  {[} 11148 -- 12728 {]}          &  8640118  {[}  5358052 --  9290342 {]} & 13.1  {[} 12.2 -- 13.9 {]}             & 13.2  {[}  8.5 -- 19.2 {]}            \\\\\n",
       "\t89 & All                                             & Diabetes, urinary diseases and male infertility & 11700  {[} 10614 -- 12854 {]}                   &  5852132  {[}  4398439 --  9441960 {]}          & 14.0  {[} 12.7 -- 15.3 {]}                      &  9.7  {[}  7.3 -- 19.4 {]}                     \\\\\n",
       "\t35 & All                                     & Cardiovascular and circulatory diseases & 10676  {[}  9527 -- 11943 {]}           &  4975478  {[}  4234637 -- 24518980 {]}  & 12.8  {[} 11.5 -- 14.3 {]}              &  8.3  {[}  6.9 -- 39.4 {]}             \\\\\n",
       "\t80 & All                                    & Mental and behavioral disorders        &  9346  {[}  8684 -- 10040 {]}          &  2876536  {[}  2292539 --  3887152 {]} & 11.3  {[} 10.5 -- 12.3 {]}             &  4.8  {[}  3.8 --  8.1 {]}            \\\\\n",
       "\t116 & All                                    & Musculoskeletal disorders              &  6949  {[}  6189 --  7783 {]}          &  2050558  {[}  1596605 --  3331659 {]} &  8.3  {[}  7.4 --  9.3 {]}             &  3.4  {[}  2.6 --  6.3 {]}            \\\\\n",
       "\t62 & All                                    & Digestive diseases (except cirrhosis)  &  6734  {[}  5571 --  8754 {]}          &  1889907  {[}  1327402 --  4873256 {]} &  8.3  {[}  6.9 -- 10.7 {]}             &  3.3  {[}  2.2 --  8.6 {]}            \\\\\n",
       "\t71 & All                                    & Neurological disorders                 &  6388  {[}  5562 --  7295 {]}          &  1547648  {[}  1219633 --  3028043 {]} &  7.8  {[}  6.8 --  8.9 {]}             &  2.6  {[}  2.0 --  5.9 {]}            \\\\\n",
       "\t134 & All                                    & Sense organ diseases                   &  5209  {[}  4505 --  5981 {]}          &  1347380  {[}  1003503 --  2178688 {]} &  6.3  {[}  5.5 --  7.2 {]}             &  2.3  {[}  1.7 --  4.1 {]}            \\\\\n",
       "\t44 & All                                    & Chronic respiratory diseases           &  4773  {[}  4303 --  5283 {]}          &  1759433  {[}  1441357 --  2364790 {]} &  5.8  {[}  5.2 --  6.4 {]}             &  2.9  {[}  2.4 --  4.9 {]}            \\\\\n",
       "\t125 & All                                    & Skin and subcutaneous diseases         &  4346  {[}  3524 --  5744 {]}          &  1892847  {[}  1081970 --  3437999 {]} &  5.3  {[}  4.3 --  7.0 {]}             &  3.2  {[}  1.8 --  6.9 {]}            \\\\\n",
       "\t152 & All                                                                                      & Diarrhea, lower respiratory infections, meningitis, and other common infectious diseases &  3497  {[}  2855 --  4273 {]}                                                            &  3420205  {[}  2441898 --  4501061 {]}                                                   &  4.2  {[}  3.4 --  5.2 {]}                                                               &  5.7  {[}  4.1 --  9.7 {]}                                                              \\\\\n",
       "\t107 & All                                    & Gynecological diseases                 &  2730  {[}  2158 --  4225 {]}          &  1104376  {[}   766976 --  2403993 {]} &  3.3  {[}  2.6 --  5.1 {]}             &  1.9  {[}  1.3 --  4.4 {]}            \\\\\n",
       "\t179 & All                                    & Maternal disorders                     &  2208  {[}  1398 --  3488 {]}          &  1048352  {[}   615492 --  3770108 {]} &  2.6  {[}  1.7 --  4.2 {]}             &  1.8  {[}  1.0 --  6.3 {]}            \\\\\n",
       "\t143 & All                                    & Oral disorders                         &  2249  {[}  1184 --  6507 {]}          &   821855  {[}   317343 --  4418141 {]} &  2.7  {[}  1.4 --  7.7 {]}             &  1.4  {[}  0.5 --  7.7 {]}            \\\\\n",
       "\t98 & All                                    & HIV/AIDS                               &  1494  {[}  1147 --  1753 {]}          &  1223251  {[}   735571 --  1566983 {]} &  1.7  {[}  1.3 --  2.1 {]}             &  2.0  {[}  1.2 --  3.3 {]}            \\\\\n",
       "\t197 & All                                    & Nutritional deficiencies               &  1279  {[}   678 --  2138 {]}          &   580576  {[}   284915 --  1426262 {]} &  1.5  {[}  0.8 --  2.5 {]}             &  1.0  {[}  0.5 --  2.6 {]}            \\\\\n",
       "\t188 & All                                    & Neonatal disorders                     &  1424  {[}   639 --  3613 {]}          &  1549845  {[}   441227 --  3634887 {]} &  1.7  {[}  0.8 --  4.3 {]}             &  2.6  {[}  0.8 --  6.7 {]}            \\\\\n",
       "\t17 & All                                    & Hepatitis                              &   913  {[}   602 --  1300 {]}          &   403618  {[}   211789 --   782205 {]} &  1.1  {[}  0.7 --  1.5 {]}             &  0.7  {[}  0.4 --  1.4 {]}            \\\\\n",
       "\t53 & All                                    & Cirrhosis of the liver                 &  1061  {[}   535 --  1574 {]}          &   358782  {[}   139311 --   785988 {]} &  1.3  {[}  0.6 --  1.9 {]}             &  0.6  {[}  0.2 --  1.4 {]}            \\\\\n",
       "\t170 & All                                           & Neglected tropical diseases excluding malaria &   492  {[}   329 --   849 {]}                 &  1018730  {[}   624681 --  1308825 {]}        &  0.6  {[}  0.4 --  1.0 {]}                    &  1.7  {[}  1.0 --  2.7 {]}                   \\\\\n",
       "\t161 & All                                    & Malaria                                &   435  {[}   260 --   546 {]}          &  1973478  {[}   834820 --  2208020 {]} &  0.5  {[}  0.3 --  0.6 {]}             &  3.2  {[}  1.4 --  5.2 {]}            \\\\\n",
       "\t8 & All                                    & Tuberculosis                           &   298  {[}    91 --   454 {]}          &  2691157  {[}   179759 --  3721926 {]} &  0.4  {[}  0.1 --  0.5 {]}             &  4.5  {[}  0.3 --  8.4 {]}            \\\\\n",
       "\\end{tabular}\n"
      ],
      "text/plain": [
       "    Region\n",
       "206    All\n",
       "26     All\n",
       "89     All\n",
       "35     All\n",
       "80     All\n",
       "116    All\n",
       "62     All\n",
       "71     All\n",
       "134    All\n",
       "44     All\n",
       "125    All\n",
       "152    All\n",
       "107    All\n",
       "179    All\n",
       "143    All\n",
       "98     All\n",
       "197    All\n",
       "188    All\n",
       "17     All\n",
       "53     All\n",
       "170    All\n",
       "161    All\n",
       "8      All\n",
       "                                                                                     Disease\n",
       "206                                                                                      All\n",
       "26                                                                                 Neoplasms\n",
       "89                                           Diabetes, urinary diseases and male infertility\n",
       "35                                                   Cardiovascular and circulatory diseases\n",
       "80                                                           Mental and behavioral disorders\n",
       "116                                                                Musculoskeletal disorders\n",
       "62                                                     Digestive diseases (except cirrhosis)\n",
       "71                                                                    Neurological disorders\n",
       "134                                                                     Sense organ diseases\n",
       "44                                                              Chronic respiratory diseases\n",
       "125                                                           Skin and subcutaneous diseases\n",
       "152 Diarrhea, lower respiratory infections, meningitis, and other common infectious diseases\n",
       "107                                                                   Gynecological diseases\n",
       "179                                                                       Maternal disorders\n",
       "143                                                                           Oral disorders\n",
       "98                                                                                  HIV/AIDS\n",
       "197                                                                 Nutritional deficiencies\n",
       "188                                                                       Neonatal disorders\n",
       "17                                                                                 Hepatitis\n",
       "53                                                                    Cirrhosis of the liver\n",
       "170                                            Neglected tropical diseases excluding malaria\n",
       "161                                                                                  Malaria\n",
       "8                                                                               Tuberculosis\n",
       "                      Nb_RCTs                        Nb_Patients\n",
       "206 82179  [ 78662 -- 85358 ] 60121077  [ 38736579 -- 62786199 ]\n",
       "26  12024  [ 11148 -- 12728 ]  8640118  [  5358052 --  9290342 ]\n",
       "89  11700  [ 10614 -- 12854 ]  5852132  [  4398439 --  9441960 ]\n",
       "35  10676  [  9527 -- 11943 ]  4975478  [  4234637 -- 24518980 ]\n",
       "80   9346  [  8684 -- 10040 ]  2876536  [  2292539 --  3887152 ]\n",
       "116  6949  [  6189 --  7783 ]  2050558  [  1596605 --  3331659 ]\n",
       "62   6734  [  5571 --  8754 ]  1889907  [  1327402 --  4873256 ]\n",
       "71   6388  [  5562 --  7295 ]  1547648  [  1219633 --  3028043 ]\n",
       "134  5209  [  4505 --  5981 ]  1347380  [  1003503 --  2178688 ]\n",
       "44   4773  [  4303 --  5283 ]  1759433  [  1441357 --  2364790 ]\n",
       "125  4346  [  3524 --  5744 ]  1892847  [  1081970 --  3437999 ]\n",
       "152  3497  [  2855 --  4273 ]  3420205  [  2441898 --  4501061 ]\n",
       "107  2730  [  2158 --  4225 ]  1104376  [   766976 --  2403993 ]\n",
       "179  2208  [  1398 --  3488 ]  1048352  [   615492 --  3770108 ]\n",
       "143  2249  [  1184 --  6507 ]   821855  [   317343 --  4418141 ]\n",
       "98   1494  [  1147 --  1753 ]  1223251  [   735571 --  1566983 ]\n",
       "197  1279  [   678 --  2138 ]   580576  [   284915 --  1426262 ]\n",
       "188  1424  [   639 --  3613 ]  1549845  [   441227 --  3634887 ]\n",
       "17    913  [   602 --  1300 ]   403618  [   211789 --   782205 ]\n",
       "53   1061  [   535 --  1574 ]   358782  [   139311 --   785988 ]\n",
       "170   492  [   329 --   849 ]  1018730  [   624681 --  1308825 ]\n",
       "161   435  [   260 --   546 ]  1973478  [   834820 --  2208020 ]\n",
       "8     298  [    91 --   454 ]  2691157  [   179759 --  3721926 ]\n",
       "                 Prop_RCTs          Prop_Patients\n",
       "206   NA  [   NA --   NA ]   NA  [   NA --   NA ]\n",
       "26  13.1  [ 12.2 -- 13.9 ] 13.2  [  8.5 -- 19.2 ]\n",
       "89  14.0  [ 12.7 -- 15.3 ]  9.7  [  7.3 -- 19.4 ]\n",
       "35  12.8  [ 11.5 -- 14.3 ]  8.3  [  6.9 -- 39.4 ]\n",
       "80  11.3  [ 10.5 -- 12.3 ]  4.8  [  3.8 --  8.1 ]\n",
       "116  8.3  [  7.4 --  9.3 ]  3.4  [  2.6 --  6.3 ]\n",
       "62   8.3  [  6.9 -- 10.7 ]  3.3  [  2.2 --  8.6 ]\n",
       "71   7.8  [  6.8 --  8.9 ]  2.6  [  2.0 --  5.9 ]\n",
       "134  6.3  [  5.5 --  7.2 ]  2.3  [  1.7 --  4.1 ]\n",
       "44   5.8  [  5.2 --  6.4 ]  2.9  [  2.4 --  4.9 ]\n",
       "125  5.3  [  4.3 --  7.0 ]  3.2  [  1.8 --  6.9 ]\n",
       "152  4.2  [  3.4 --  5.2 ]  5.7  [  4.1 --  9.7 ]\n",
       "107  3.3  [  2.6 --  5.1 ]  1.9  [  1.3 --  4.4 ]\n",
       "179  2.6  [  1.7 --  4.2 ]  1.8  [  1.0 --  6.3 ]\n",
       "143  2.7  [  1.4 --  7.7 ]  1.4  [  0.5 --  7.7 ]\n",
       "98   1.7  [  1.3 --  2.1 ]  2.0  [  1.2 --  3.3 ]\n",
       "197  1.5  [  0.8 --  2.5 ]  1.0  [  0.5 --  2.6 ]\n",
       "188  1.7  [  0.8 --  4.3 ]  2.6  [  0.8 --  6.7 ]\n",
       "17   1.1  [  0.7 --  1.5 ]  0.7  [  0.4 --  1.4 ]\n",
       "53   1.3  [  0.6 --  1.9 ]  0.6  [  0.2 --  1.4 ]\n",
       "170  0.6  [  0.4 --  1.0 ]  1.7  [  1.0 --  2.7 ]\n",
       "161  0.5  [  0.3 --  0.6 ]  3.2  [  1.4 --  5.2 ]\n",
       "8    0.4  [  0.1 --  0.5 ]  4.5  [  0.3 --  8.4 ]"
      ]
     },
     "metadata": {},
     "output_type": "display_data"
    }
   ],
   "source": [
    "dall[order(dall$Nb_RCTs_low,decreasing=TRUE),c(\"Region\",\"Disease\",\"Nb_RCTs\",\"Nb_Patients\",\"Prop_RCTs\",\"Prop_Patients\")]"
   ]
  },
  {
   "cell_type": "code",
   "execution_count": null,
   "metadata": {
    "collapsed": true
   },
   "outputs": [],
   "source": []
  }
 ],
 "metadata": {
  "kernelspec": {
   "display_name": "R",
   "language": "R",
   "name": "ir"
  },
  "language_info": {
   "codemirror_mode": "r",
   "file_extension": ".r",
   "mimetype": "text/x-r-source",
   "name": "R",
   "pygments_lexer": "r",
   "version": "3.3.1"
  }
 },
 "nbformat": 4,
 "nbformat_minor": 1
}
