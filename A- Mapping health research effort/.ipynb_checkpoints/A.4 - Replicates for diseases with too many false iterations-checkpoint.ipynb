{
 "cells": [
  {
   "cell_type": "markdown",
   "metadata": {},
   "source": [
    "### Diseases with too many false iterations\n",
    "\n",
    "Cases with more than 10% of couples (sens,spec) such that the expected number of trials concerning the disease after reclassification is bellow 0 (ie the estimated amount of false positives is higher than the number of observed positives).\n",
    "\n",
    "We will analyse each case and modify distributions of sensitivity and specificity to avoid that problem, following the directions of Fox et al. Int J Epidemiol 2005"
   ]
  },
  {
   "cell_type": "code",
   "execution_count": 1,
   "metadata": {
    "collapsed": true
   },
   "outputs": [],
   "source": [
    "data <- read.table(\"/media/igna/Elements/HotelDieu/Cochrane/MappingRCTs_vs_Burden/database_RCTs_regions_27diseases.txt\")\n",
    "Lgbd <- lapply(as.character(data$GBD27),function(x){as.numeric(unlist(strsplit(x,\"&\")))})"
   ]
  },
  {
   "cell_type": "code",
   "execution_count": 2,
   "metadata": {
    "collapsed": false
   },
   "outputs": [
    {
     "data": {
      "text/html": [
       "<ol class=list-inline>\n",
       "\t<li>Sexually transmitted diseases excluding HIV</li>\n",
       "\t<li>Leprosy</li>\n",
       "\t<li>Hemoglobinopathies and hemolytic anemias</li>\n",
       "\t<li>Congenital anomalies</li>\n",
       "\t<li>Sudden infant death syndrome</li>\n",
       "</ol>\n"
      ],
      "text/latex": [
       "\\begin{enumerate*}\n",
       "\\item Sexually transmitted diseases excluding HIV\n",
       "\\item Leprosy\n",
       "\\item Hemoglobinopathies and hemolytic anemias\n",
       "\\item Congenital anomalies\n",
       "\\item Sudden infant death syndrome\n",
       "\\end{enumerate*}\n"
      ],
      "text/markdown": [
       "1. Sexually transmitted diseases excluding HIV\n",
       "2. Leprosy\n",
       "3. Hemoglobinopathies and hemolytic anemias\n",
       "4. Congenital anomalies\n",
       "5. Sudden infant death syndrome\n",
       "\n",
       "\n"
      ],
      "text/plain": [
       "[1] Sexually transmitted diseases excluding HIV\n",
       "[2] Leprosy                                    \n",
       "[3] Hemoglobinopathies and hemolytic anemias   \n",
       "[4] Congenital anomalies                       \n",
       "[5] Sudden infant death syndrome               \n",
       "27 Levels: Cardiovascular and circulatory diseases ..."
      ]
     },
     "metadata": {},
     "output_type": "display_data"
    }
   ],
   "source": [
    "Mgbd <- read.table(\"../Data/27_gbd_groups.txt\")\n",
    "sms <- list.files(\"/media/igna/Elements/HotelDieu/Cochrane/MappingRCTs_vs_Burden/Replicates/Metrics_over_repl/\")\n",
    "dis <- as.numeric(substr(sms,25,nchar(sms)-4))\n",
    "Mgbd$x[!1:27%in%dis]"
   ]
  },
  {
   "cell_type": "code",
   "execution_count": 3,
   "metadata": {
    "collapsed": false,
    "scrolled": true
   },
   "outputs": [
    {
     "data": {
      "text/html": [
       "<table>\n",
       "<thead><tr><th></th><th scope=col>X</th><th scope=col>dis</th><th scope=col>GBD</th><th scope=col>TP_Dis</th><th scope=col>FP_Dis</th><th scope=col>TN_Dis</th><th scope=col>FN_Dis</th><th scope=col>TP_Oth</th><th scope=col>FP_Oth</th><th scope=col>TN_Oth</th><th scope=col>FN_Oth</th></tr></thead>\n",
       "<tbody>\n",
       "\t<tr><th scope=row>9</th><td>9                                          </td><td>9                                          </td><td>Sexually transmitted diseases excluding HIV</td><td>0                                          </td><td>3                                          </td><td>2759                                       </td><td>1                                          </td><td>2155                                       </td><td>203                                        </td><td>255                                        </td><td>150                                        </td></tr>\n",
       "\t<tr><th scope=row>11</th><td>11     </td><td>11     </td><td>Leprosy</td><td>2      </td><td>1      </td><td>2760   </td><td>0      </td><td>2154   </td><td>203    </td><td>256    </td><td>150    </td></tr>\n",
       "\t<tr><th scope=row>21</th><td>21                                      </td><td>21                                      </td><td>Hemoglobinopathies and hemolytic anemias</td><td>10                                      </td><td>4                                       </td><td>2743                                    </td><td>6                                       </td><td>2143                                    </td><td>203                                     </td><td>270                                     </td><td>147                                     </td></tr>\n",
       "\t<tr><th scope=row>23</th><td>23                  </td><td>23                  </td><td>Congenital anomalies</td><td>22                  </td><td>34                  </td><td>2706                </td><td>1                   </td><td>2121                </td><td>205                 </td><td>275                 </td><td>162                 </td></tr>\n",
       "\t<tr><th scope=row>27</th><td>27                          </td><td>27                          </td><td>Sudden infant death syndrome</td><td>0                           </td><td>0                           </td><td>2763                        </td><td>0                           </td><td>2156                        </td><td>203                         </td><td>254                         </td><td>150                         </td></tr>\n",
       "</tbody>\n",
       "</table>\n"
      ],
      "text/latex": [
       "\\begin{tabular}{r|lllllllllll}\n",
       "  & X & dis & GBD & TP\\_Dis & FP\\_Dis & TN\\_Dis & FN\\_Dis & TP\\_Oth & FP\\_Oth & TN\\_Oth & FN\\_Oth\\\\\n",
       "\\hline\n",
       "\t9 & 9                                           & 9                                           & Sexually transmitted diseases excluding HIV & 0                                           & 3                                           & 2759                                        & 1                                           & 2155                                        & 203                                         & 255                                         & 150                                        \\\\\n",
       "\t11 & 11      & 11      & Leprosy & 2       & 1       & 2760    & 0       & 2154    & 203     & 256     & 150    \\\\\n",
       "\t21 & 21                                       & 21                                       & Hemoglobinopathies and hemolytic anemias & 10                                       & 4                                        & 2743                                     & 6                                        & 2143                                     & 203                                      & 270                                      & 147                                     \\\\\n",
       "\t23 & 23                   & 23                   & Congenital anomalies & 22                   & 34                   & 2706                 & 1                    & 2121                 & 205                  & 275                  & 162                 \\\\\n",
       "\t27 & 27                           & 27                           & Sudden infant death syndrome & 0                            & 0                            & 2763                         & 0                            & 2156                         & 203                          & 254                          & 150                         \\\\\n",
       "\\end{tabular}\n"
      ],
      "text/plain": [
       "    X dis                                         GBD TP_Dis FP_Dis TN_Dis\n",
       "9   9   9 Sexually transmitted diseases excluding HIV      0      3   2759\n",
       "11 11  11                                     Leprosy      2      1   2760\n",
       "21 21  21    Hemoglobinopathies and hemolytic anemias     10      4   2743\n",
       "23 23  23                        Congenital anomalies     22     34   2706\n",
       "27 27  27                Sudden infant death syndrome      0      0   2763\n",
       "   FN_Dis TP_Oth FP_Oth TN_Oth FN_Oth\n",
       "9       1   2155    203    255    150\n",
       "11      0   2154    203    256    150\n",
       "21      6   2143    203    270    147\n",
       "23      1   2121    205    275    162\n",
       "27      0   2156    203    254    150"
      ]
     },
     "metadata": {},
     "output_type": "display_data"
    },
    {
     "data": {
      "text/html": [
       "2763"
      ],
      "text/latex": [
       "2763"
      ],
      "text/markdown": [
       "2763"
      ],
      "text/plain": [
       "[1] 2763"
      ]
     },
     "metadata": {},
     "output_type": "display_data"
    }
   ],
   "source": [
    "PERF <- read.csv('../Tables/Performances_per_27disease_data.csv')\n",
    "PERF[!1:27%in%dis,]\n",
    "Ntst <- sum(PERF[1,grep(\"Dis\",names(PERF))])\n",
    "Ntst"
   ]
  },
  {
   "cell_type": "markdown",
   "metadata": {},
   "source": [
    "## Congenital anomalies"
   ]
  },
  {
   "cell_type": "code",
   "execution_count": 4,
   "metadata": {
    "collapsed": false
   },
   "outputs": [
    {
     "data": {
      "image/png": "[encoded data removed]",
      "text/plain": [
       "Plot with title “spec_oth”"
      ]
     },
     "metadata": {},
     "output_type": "display_data"
    }
   ],
   "source": [
    "d <- 23\n",
    "\n",
    "ss_sp <- read.table(paste(c(\"/media/igna/Elements/HotelDieu/Cochrane/MappingRCTs_vs_Burden/Replicates/\",as.character(d),\"/Sens_spec.txt\"),collapse=\"\"))\n",
    "\n",
    "options(repr.plot.width=9, repr.plot.height=3)\n",
    "par(mfrow=c(1,4))\n",
    "for(i in 1:ncol(ss_sp)) hist(ss_sp[,i],xlim=c(0,1),main=colnames(ss_sp)[i],xlab=NULL)    "
   ]
  },
  {
   "cell_type": "code",
   "execution_count": 5,
   "metadata": {
    "collapsed": false
   },
   "outputs": [
    {
     "data": {
      "text/plain": [
       "is_dis\n",
       " FALSE   TRUE \n",
       "115403   1777 "
      ]
     },
     "metadata": {},
     "output_type": "display_data"
    }
   ],
   "source": [
    "is_dis <- sapply(Lgbd,function(x){d%in%x})\n",
    "table(is_dis)"
   ]
  },
  {
   "cell_type": "code",
   "execution_count": 6,
   "metadata": {
    "collapsed": false
   },
   "outputs": [],
   "source": [
    "sens <- ss_sp$sens_dis\n",
    "spec <- ss_sp$spec_dis\n",
    "\n",
    "N <- nrow(data)\n",
    "a_dis <- sum(is_dis)\n",
    "b_dis <- N-a_dis\n",
    "\n",
    "As <- (a_dis-(1-spec)*N)/(sens - (1-spec))\n",
    "Bs <- N-As\n",
    "T1 <- sens*As\n",
    "T0 <- spec*Bs\n",
    "F1 <- (1-spec)*Bs\n",
    "F0 <- (1-sens)*As\n",
    "PPV_dis <- T1/(T1+F1)\n",
    "NPV_dis <- T0/(T0+F0)"
   ]
  },
  {
   "cell_type": "code",
   "execution_count": 7,
   "metadata": {
    "collapsed": false
   },
   "outputs": [
    {
     "data": {
      "text/plain": [
       "\n",
       "FALSE  TRUE \n",
       " 8650  1350 "
      ]
     },
     "metadata": {},
     "output_type": "display_data"
    }
   ],
   "source": [
    "table(As<0)"
   ]
  },
  {
   "cell_type": "code",
   "execution_count": 8,
   "metadata": {
    "collapsed": false
   },
   "outputs": [
    {
     "data": {
      "text/plain": [
       "\n",
       "FALSE \n",
       "10000 "
      ]
     },
     "metadata": {},
     "output_type": "display_data"
    }
   ],
   "source": [
    "table(sens - (1-spec) <0)"
   ]
  },
  {
   "cell_type": "code",
   "execution_count": 9,
   "metadata": {
    "collapsed": false
   },
   "outputs": [
    {
     "data": {
      "text/plain": [
       "\n",
       "FALSE  TRUE \n",
       " 8650  1350 "
      ]
     },
     "metadata": {},
     "output_type": "display_data"
    }
   ],
   "source": [
    "table(a_dis-(1-spec)*N<0)"
   ]
  },
  {
   "cell_type": "code",
   "execution_count": 10,
   "metadata": {
    "collapsed": false
   },
   "outputs": [
    {
     "data": {
      "text/html": [
       "0.984835296125619"
      ],
      "text/latex": [
       "0.984835296125619"
      ],
      "text/markdown": [
       "0.984835296125619"
      ],
      "text/plain": [
       "[1] 0.9848353"
      ]
     },
     "metadata": {},
     "output_type": "display_data"
    }
   ],
   "source": [
    "1-a_dis/N"
   ]
  },
  {
   "cell_type": "markdown",
   "metadata": {},
   "source": [
    "We need to avoid cases in which specificity is lower than 1-a_dis/N.\n",
    "\n",
    "What if we consider that we observed the number of false positives in the test set with a certain error"
   ]
  },
  {
   "cell_type": "code",
   "execution_count": 11,
   "metadata": {
    "collapsed": false
   },
   "outputs": [
    {
     "data": {
      "text/plain": [
       "\n",
       "\tExact binomial test\n",
       "\n",
       "data:  PERF$TN_Dis[d] and PERF$FP_Dis[d] + PERF$TN_Dis[d]\n",
       "number of successes = 2706, number of trials = 2740, p-value < 2.2e-16\n",
       "alternative hypothesis: true probability of success is not equal to 0.5\n",
       "50 percent confidence interval:\n",
       " 0.9858561 0.9890789\n",
       "sample estimates:\n",
       "probability of success \n",
       "             0.9875912 \n"
      ]
     },
     "metadata": {},
     "output_type": "display_data"
    }
   ],
   "source": [
    "ts <- binom.test(PERF$TN_Dis[d],PERF$FP_Dis[d] + PERF$TN_Dis[d],conf.level = 0.5)\n",
    "binom.test(PERF$TN_Dis[d],PERF$FP_Dis[d] + PERF$TN_Dis[d],conf.level = 0.5)"
   ]
  },
  {
   "cell_type": "code",
   "execution_count": 12,
   "metadata": {
    "collapsed": false
   },
   "outputs": [
    {
     "data": {
      "text/html": [
       "<ol class=list-inline>\n",
       "\t<li>38.7543638000361</li>\n",
       "\t<li>29.9238485653</li>\n",
       "</ol>\n"
      ],
      "text/latex": [
       "\\begin{enumerate*}\n",
       "\\item 38.7543638000361\n",
       "\\item 29.9238485653\n",
       "\\end{enumerate*}\n"
      ],
      "text/markdown": [
       "1. 38.7543638000361\n",
       "2. 29.9238485653\n",
       "\n",
       "\n"
      ],
      "text/plain": [
       "[1] 38.75436 29.92385\n",
       "attr(,\"conf.level\")\n",
       "[1] 0.5"
      ]
     },
     "metadata": {},
     "output_type": "display_data"
    }
   ],
   "source": [
    "(1-ts$conf.int)*(PERF$FP_Dis[d] + PERF$TN_Dis[d])"
   ]
  },
  {
   "cell_type": "code",
   "execution_count": 13,
   "metadata": {
    "collapsed": false
   },
   "outputs": [],
   "source": [
    "New_FP <- ceiling((1-ts$conf.int)*(PERF$FP_Dis[d] + PERF$TN_Dis[d]))[2]\n",
    "New_TN <- PERF$TN_Dis[d] + (PERF$FP_Dis[d] - New_FP)"
   ]
  },
  {
   "cell_type": "code",
   "execution_count": 14,
   "metadata": {
    "collapsed": false
   },
   "outputs": [
    {
     "data": {
      "text/html": [
       "30"
      ],
      "text/latex": [
       "30"
      ],
      "text/markdown": [
       "30"
      ],
      "text/plain": [
       "[1] 30"
      ]
     },
     "metadata": {},
     "output_type": "display_data"
    },
    {
     "data": {
      "text/html": [
       "2710"
      ],
      "text/latex": [
       "2710"
      ],
      "text/markdown": [
       "2710"
      ],
      "text/plain": [
       "[1] 2710"
      ]
     },
     "metadata": {},
     "output_type": "display_data"
    }
   ],
   "source": [
    "New_FP\n",
    "New_TN"
   ]
  },
  {
   "cell_type": "code",
   "execution_count": 15,
   "metadata": {
    "collapsed": true
   },
   "outputs": [],
   "source": [
    "set.seed(123)\n",
    "spec_new <- rbeta(10000,New_TN+1,New_FP+1)"
   ]
  },
  {
   "cell_type": "code",
   "execution_count": 16,
   "metadata": {
    "collapsed": false
   },
   "outputs": [
    {
     "data": {
      "text/plain": [
       "\n",
       "FALSE  TRUE \n",
       " 9650   350 "
      ]
     },
     "metadata": {},
     "output_type": "display_data"
    }
   ],
   "source": [
    "table(a_dis-(1-spec_new)*N<0)"
   ]
  },
  {
   "cell_type": "code",
   "execution_count": 17,
   "metadata": {
    "collapsed": false,
    "scrolled": false
   },
   "outputs": [
    {
     "data": {
      "image/png": "[encoded data removed]",
      "text/plain": [
       "Plot with title “Histogram of spec”"
      ]
     },
     "metadata": {},
     "output_type": "display_data"
    },
    {
     "data": {
      "image/png": "[encoded data removed]",
      "text/plain": [
       "Plot with title “Histogram of spec_new”"
      ]
     },
     "metadata": {},
     "output_type": "display_data"
    }
   ],
   "source": [
    "hist(spec,col=rgb(0.8,0.8,0.8),xlim=c(0.975,1))\n",
    "hist(spec_new, col=rgb(0.6,0.6,0.6),xlim=c(0.975,1))"
   ]
  },
  {
   "cell_type": "code",
   "execution_count": 18,
   "metadata": {
    "collapsed": false
   },
   "outputs": [
    {
     "name": "stderr",
     "output_type": "stream",
     "text": [
      "Warning message in dir.create(paste(\"/media/igna/Elements/HotelDieu/Cochrane/MappingRCTs_vs_Burden/Replicates_add/\", :\n",
      "“'/media/igna/Elements/HotelDieu/Cochrane/MappingRCTs_vs_Burden/Replicates_add/23' already exists”"
     ]
    }
   ],
   "source": [
    "#Adding new specificity\n",
    "ss_sp$spec_dis <- spec_new\n",
    "\n",
    "dir.create(paste(\"/media/igna/Elements/HotelDieu/Cochrane/MappingRCTs_vs_Burden/Replicates_add/\",as.character(d),sep=\"\"))\n",
    "write.table(ss_sp,\n",
    "            paste(c(\"/media/igna/Elements/HotelDieu/Cochrane/MappingRCTs_vs_Burden/Replicates_add/\",\n",
    "                    as.character(d),\"/Sens_spec.txt\"),collapse=\"\"))"
   ]
  },
  {
   "cell_type": "code",
   "execution_count": 19,
   "metadata": {
    "collapsed": false
   },
   "outputs": [
    {
     "name": "stdout",
     "output_type": "stream",
     "text": [
      "[1] \"23 has 350 suppressed false iterations\"\n"
     ]
    }
   ],
   "source": [
    "#Simulating replicates\n",
    "#which trials concern the disease\n",
    "is_dis <- sapply(Lgbd,function(x){d%in%x})\n",
    "#which trials concern another disease\n",
    "is_oth <- sapply(Lgbd,function(x){sum(setdiff(1:27,d)%in%x)>0})\n",
    "\n",
    "sens <- ss_sp$sens_dis\n",
    "spec <- ss_sp$spec_dis\n",
    "\n",
    "a_dis <- sum(is_dis)\n",
    "b_dis <- N-a_dis\n",
    "As <- (a_dis-(1-spec)*N)/(sens - (1-spec))\n",
    "Bs <- N-As\n",
    "T1 <- sens*As\n",
    "T0 <- spec*Bs\n",
    "F1 <- (1-spec)*Bs\n",
    "F0 <- (1-sens)*As\n",
    "PPV_dis <- T1/(T1+F1)\n",
    "NPV_dis <- T0/(T0+F0)\n",
    "\n",
    "sens <- ss_sp$sens_oth\n",
    "spec <- ss_sp$spec_oth\n",
    "\n",
    "a_oth <- sum(is_oth)\n",
    "b_oth <- N-a_oth\n",
    "As <- (a_oth-(1-spec)*N)/(sens - (1-spec))\n",
    "Bs <- N-As\n",
    "T1 <- sens*As\n",
    "T0 <- spec*Bs\n",
    "F1 <- (1-spec)*Bs\n",
    "F0 <- (1-sens)*As\n",
    "PPV_oth <- T1/(T1+F1)\n",
    "NPV_oth <- T0/(T0+F0)\n",
    "\n",
    "false_it <- PPV_dis<0 | PPV_dis>1 | \n",
    "            NPV_dis<0 | NPV_dis>1 | \n",
    "            PPV_oth<0 | PPV_oth>1 | \n",
    "            NPV_oth<0 | NPV_oth>1\n",
    "\n",
    "print(paste(c(d,\"has\",sum(false_it),\"suppressed false iterations\"\n",
    "                                                ),collapse=\" \"))  \n",
    "\n",
    "PPV_dis <- PPV_dis[!false_it]\n",
    "NPV_dis <- NPV_dis[!false_it]\n",
    "PPV_oth <- PPV_oth[!false_it]\n",
    "NPV_oth <- NPV_oth[!false_it]"
   ]
  },
  {
   "cell_type": "code",
   "execution_count": 20,
   "metadata": {
    "collapsed": false
   },
   "outputs": [
    {
     "data": {
      "text/plain": [
       "      user     system    elapsed \n",
       "29.0010667  0.1409833 30.1368500 "
      ]
     },
     "metadata": {},
     "output_type": "display_data"
    }
   ],
   "source": [
    "t0 <- proc.time()\n",
    "L <- list()\n",
    "#Simulation: reclassifying each trial\n",
    "    for(k in 1:length(PPV_dis)){\n",
    "\n",
    "        tp_dis <- runif(a_dis)\n",
    "        tn_dis <- runif(b_dis)\n",
    "        recl_dis <- is_dis\n",
    "        recl_dis[recl_dis==TRUE][tp_dis>PPV_dis[k]] <- FALSE\n",
    "        recl_dis[recl_dis==FALSE][tn_dis>NPV_dis[k]] <- TRUE\n",
    "        rt <- as.numeric(recl_dis)\n",
    "\n",
    "        #Oth_dis\n",
    "        tp_oth <- runif(a_oth)\n",
    "        tn_oth <- runif(b_oth)\n",
    "        recl_oth <- is_oth\n",
    "        recl_oth[recl_oth==TRUE][tp_oth>PPV_oth[k]] <- FALSE\n",
    "        recl_oth[recl_oth==FALSE][tn_oth>NPV_oth[k]] <- TRUE\n",
    "\n",
    "        write.table(data.frame(recl_dis=as.numeric(recl_dis),recl_oth=as.numeric(recl_oth)),\n",
    "                    paste(c(\"/media/igna/Elements/HotelDieu/Cochrane/MappingRCTs_vs_Burden/Replicates_add/\",\n",
    "                            as.character(d),\"/Reclassification_\",\n",
    "                            \"_\",k,\".txt\"),collapse=\"\"),row.names=FALSE)\n",
    "\n",
    "\n",
    "    }\n",
    "t1 <- proc.time()\n",
    "(t1-t0)/60"
   ]
  },
  {
   "cell_type": "markdown",
   "metadata": {
    "collapsed": true
   },
   "source": [
    "## Sexually transmitted diseases excluding HIV"
   ]
  },
  {
   "cell_type": "code",
   "execution_count": 21,
   "metadata": {
    "collapsed": false,
    "scrolled": true
   },
   "outputs": [
    {
     "data": {
      "text/html": [
       "<table>\n",
       "<thead><tr><th></th><th scope=col>X</th><th scope=col>dis</th><th scope=col>GBD</th><th scope=col>TP_Dis</th><th scope=col>FP_Dis</th><th scope=col>TN_Dis</th><th scope=col>FN_Dis</th><th scope=col>TP_Oth</th><th scope=col>FP_Oth</th><th scope=col>TN_Oth</th><th scope=col>FN_Oth</th></tr></thead>\n",
       "<tbody>\n",
       "\t<tr><th scope=row>9</th><td>9                                          </td><td>9                                          </td><td>Sexually transmitted diseases excluding HIV</td><td>0                                          </td><td>3                                          </td><td>2759                                       </td><td>1                                          </td><td>2155                                       </td><td>203                                        </td><td>255                                        </td><td>150                                        </td></tr>\n",
       "</tbody>\n",
       "</table>\n"
      ],
      "text/latex": [
       "\\begin{tabular}{r|lllllllllll}\n",
       "  & X & dis & GBD & TP\\_Dis & FP\\_Dis & TN\\_Dis & FN\\_Dis & TP\\_Oth & FP\\_Oth & TN\\_Oth & FN\\_Oth\\\\\n",
       "\\hline\n",
       "\t9 & 9                                           & 9                                           & Sexually transmitted diseases excluding HIV & 0                                           & 3                                           & 2759                                        & 1                                           & 2155                                        & 203                                         & 255                                         & 150                                        \\\\\n",
       "\\end{tabular}\n"
      ],
      "text/plain": [
       "  X dis                                         GBD TP_Dis FP_Dis TN_Dis FN_Dis\n",
       "9 9   9 Sexually transmitted diseases excluding HIV      0      3   2759      1\n",
       "  TP_Oth FP_Oth TN_Oth FN_Oth\n",
       "9   2155    203    255    150"
      ]
     },
     "metadata": {},
     "output_type": "display_data"
    }
   ],
   "source": [
    "d <- 9\n",
    "PERF[9,]"
   ]
  },
  {
   "cell_type": "code",
   "execution_count": 22,
   "metadata": {
    "collapsed": false
   },
   "outputs": [
    {
     "data": {
      "image/png": "[encoded data removed]",
      "text/plain": [
       "Plot with title “spec_oth”"
      ]
     },
     "metadata": {},
     "output_type": "display_data"
    }
   ],
   "source": [
    "ss_sp <- read.table(paste(c(\"/media/igna/Elements/HotelDieu/Cochrane/MappingRCTs_vs_Burden/Replicates/\",as.character(d),\"/Sens_spec.txt\"),collapse=\"\"))\n",
    "\n",
    "options(repr.plot.width=9, repr.plot.height=3)\n",
    "par(mfrow=c(1,4))\n",
    "for(i in 1:ncol(ss_sp)) hist(ss_sp[,i],xlim=c(0,1),main=colnames(ss_sp)[i],xlab=NULL)"
   ]
  },
  {
   "cell_type": "code",
   "execution_count": 23,
   "metadata": {
    "collapsed": false
   },
   "outputs": [
    {
     "data": {
      "text/plain": [
       "is_dis\n",
       " FALSE   TRUE \n",
       "116896    284 "
      ]
     },
     "metadata": {},
     "output_type": "display_data"
    }
   ],
   "source": [
    "is_dis <- sapply(Lgbd,function(x){d%in%x})\n",
    "table(is_dis)"
   ]
  },
  {
   "cell_type": "code",
   "execution_count": 24,
   "metadata": {
    "collapsed": false,
    "scrolled": true
   },
   "outputs": [],
   "source": [
    "sens <- ss_sp$sens_dis\n",
    "spec <- ss_sp$spec_dis\n",
    "\n",
    "N <- nrow(data)\n",
    "a_dis <- sum(is_dis)\n",
    "b_dis <- N-a_dis\n",
    "\n",
    "As <- (a_dis-(1-spec)*N)/(sens - (1-spec))\n",
    "Bs <- N-As\n",
    "T1 <- sens*As\n",
    "T0 <- spec*Bs\n",
    "F1 <- (1-spec)*Bs\n",
    "F0 <- (1-sens)*As\n",
    "PPV_dis <- T1/(T1+F1)\n",
    "NPV_dis <- T0/(T0+F0)"
   ]
  },
  {
   "cell_type": "code",
   "execution_count": 25,
   "metadata": {
    "collapsed": false
   },
   "outputs": [
    {
     "data": {
      "text/plain": [
       "\n",
       "FALSE  TRUE \n",
       " 8961  1039 "
      ]
     },
     "metadata": {},
     "output_type": "display_data"
    }
   ],
   "source": [
    "table(As<0)"
   ]
  },
  {
   "cell_type": "code",
   "execution_count": 26,
   "metadata": {
    "collapsed": false
   },
   "outputs": [
    {
     "data": {
      "text/plain": [
       "\n",
       "FALSE  TRUE \n",
       " 9959    41 "
      ]
     },
     "metadata": {},
     "output_type": "display_data"
    }
   ],
   "source": [
    "table(sens - (1-spec) <0)"
   ]
  },
  {
   "cell_type": "code",
   "execution_count": 27,
   "metadata": {
    "collapsed": false
   },
   "outputs": [
    {
     "data": {
      "text/plain": [
       "\n",
       "FALSE  TRUE \n",
       " 8978  1022 "
      ]
     },
     "metadata": {},
     "output_type": "display_data"
    }
   ],
   "source": [
    "table(a_dis-(1-spec)*N<0)"
   ]
  },
  {
   "cell_type": "code",
   "execution_count": 28,
   "metadata": {
    "collapsed": false
   },
   "outputs": [
    {
     "data": {
      "text/html": [
       "0.99757637822154"
      ],
      "text/latex": [
       "0.99757637822154"
      ],
      "text/markdown": [
       "0.99757637822154"
      ],
      "text/plain": [
       "[1] 0.9975764"
      ]
     },
     "metadata": {},
     "output_type": "display_data"
    }
   ],
   "source": [
    "1-a_dis/N"
   ]
  },
  {
   "cell_type": "markdown",
   "metadata": {
    "collapsed": true
   },
   "source": [
    "We need to avoid cases in which specificity is lower than 1-a_dis/N.\n",
    "\n",
    "What if we consider that we observed the number of false positives in the test set with a certain error"
   ]
  },
  {
   "cell_type": "code",
   "execution_count": 29,
   "metadata": {
    "collapsed": false
   },
   "outputs": [
    {
     "data": {
      "text/plain": [
       "\n",
       "\tExact binomial test\n",
       "\n",
       "data:  PERF$TN_Dis[d] and PERF$FP_Dis[d] + PERF$TN_Dis[d]\n",
       "number of successes = 2759, number of trials = 2762, p-value < 2.2e-16\n",
       "alternative hypothesis: true probability of success is not equal to 0.5\n",
       "50 percent confidence interval:\n",
       " 0.9981508 0.9993746\n",
       "sample estimates:\n",
       "probability of success \n",
       "             0.9989138 \n"
      ]
     },
     "metadata": {},
     "output_type": "display_data"
    }
   ],
   "source": [
    "ts <- binom.test(PERF$TN_Dis[d],PERF$FP_Dis[d] + PERF$TN_Dis[d],conf.level = 0.5)\n",
    "binom.test(PERF$TN_Dis[d],PERF$FP_Dis[d] + PERF$TN_Dis[d],conf.level = 0.5)"
   ]
  },
  {
   "cell_type": "code",
   "execution_count": 30,
   "metadata": {
    "collapsed": false
   },
   "outputs": [
    {
     "data": {
      "text/html": [
       "<ol class=list-inline>\n",
       "\t<li>5.1074765029553</li>\n",
       "\t<li>1.7273847446024</li>\n",
       "</ol>\n"
      ],
      "text/latex": [
       "\\begin{enumerate*}\n",
       "\\item 5.1074765029553\n",
       "\\item 1.7273847446024\n",
       "\\end{enumerate*}\n"
      ],
      "text/markdown": [
       "1. 5.1074765029553\n",
       "2. 1.7273847446024\n",
       "\n",
       "\n"
      ],
      "text/plain": [
       "[1] 5.107477 1.727385\n",
       "attr(,\"conf.level\")\n",
       "[1] 0.5"
      ]
     },
     "metadata": {},
     "output_type": "display_data"
    }
   ],
   "source": [
    "(1-ts$conf.int)*(PERF$FP_Dis[d] + PERF$TN_Dis[d])"
   ]
  },
  {
   "cell_type": "code",
   "execution_count": 31,
   "metadata": {
    "collapsed": true
   },
   "outputs": [],
   "source": [
    "New_FP <- ceiling((1-ts$conf.int)*(PERF$FP_Dis[d] + PERF$TN_Dis[d]))[2]\n",
    "New_TN <- PERF$TN_Dis[d] + (PERF$FP_Dis[d] - New_FP)"
   ]
  },
  {
   "cell_type": "code",
   "execution_count": 32,
   "metadata": {
    "collapsed": false
   },
   "outputs": [
    {
     "data": {
      "text/html": [
       "2"
      ],
      "text/latex": [
       "2"
      ],
      "text/markdown": [
       "2"
      ],
      "text/plain": [
       "[1] 2"
      ]
     },
     "metadata": {},
     "output_type": "display_data"
    },
    {
     "data": {
      "text/html": [
       "2760"
      ],
      "text/latex": [
       "2760"
      ],
      "text/markdown": [
       "2760"
      ],
      "text/plain": [
       "[1] 2760"
      ]
     },
     "metadata": {},
     "output_type": "display_data"
    }
   ],
   "source": [
    "New_FP\n",
    "New_TN"
   ]
  },
  {
   "cell_type": "code",
   "execution_count": 33,
   "metadata": {
    "collapsed": false
   },
   "outputs": [
    {
     "data": {
      "text/plain": [
       "\n",
       "FALSE  TRUE \n",
       " 9611   389 "
      ]
     },
     "metadata": {},
     "output_type": "display_data"
    }
   ],
   "source": [
    "set.seed(123)\n",
    "spec_new <- rbeta(10000,New_TN+1,New_FP+1)\n",
    "table(a_dis-(1-spec_new)*N<0)"
   ]
  },
  {
   "cell_type": "code",
   "execution_count": 34,
   "metadata": {
    "collapsed": false
   },
   "outputs": [
    {
     "data": {
      "image/png": "[encoded data removed]",
      "text/plain": [
       "Plot with title “Histogram of spec”"
      ]
     },
     "metadata": {},
     "output_type": "display_data"
    },
    {
     "data": {
      "image/png": "[encoded data removed]",
      "text/plain": [
       "Plot with title “Histogram of spec_new”"
      ]
     },
     "metadata": {},
     "output_type": "display_data"
    }
   ],
   "source": [
    "hist(spec,col=rgb(0.8,0.8,0.8),xlim=c(0.994,1))\n",
    "hist(spec_new, col=rgb(0.6,0.6,0.6),xlim=c(0.994,1))"
   ]
  },
  {
   "cell_type": "code",
   "execution_count": 35,
   "metadata": {
    "collapsed": false
   },
   "outputs": [
    {
     "name": "stderr",
     "output_type": "stream",
     "text": [
      "Warning message in dir.create(paste(\"/media/igna/Elements/HotelDieu/Cochrane/MappingRCTs_vs_Burden/Replicates_add/\", :\n",
      "“'/media/igna/Elements/HotelDieu/Cochrane/MappingRCTs_vs_Burden/Replicates_add/9' already exists”"
     ]
    }
   ],
   "source": [
    "#Adding new specificity\n",
    "ss_sp$spec_dis <- spec_new\n",
    "\n",
    "dir.create(paste(\"/media/igna/Elements/HotelDieu/Cochrane/MappingRCTs_vs_Burden/Replicates_add/\",as.character(d),sep=\"\"))\n",
    "write.table(ss_sp,\n",
    "            paste(c(\"/media/igna/Elements/HotelDieu/Cochrane/MappingRCTs_vs_Burden/Replicates_add/\",\n",
    "                    as.character(d),\"/Sens_spec.txt\"),collapse=\"\"))"
   ]
  },
  {
   "cell_type": "code",
   "execution_count": 36,
   "metadata": {
    "collapsed": false
   },
   "outputs": [
    {
     "name": "stdout",
     "output_type": "stream",
     "text": [
      "[1] \"9 has 440 suppressed false iterations\"\n"
     ]
    }
   ],
   "source": [
    "#Simulating replicates\n",
    "#which trials concern the disease\n",
    "is_dis <- sapply(Lgbd,function(x){d%in%x})\n",
    "#which trials concern another disease\n",
    "is_oth <- sapply(Lgbd,function(x){sum(setdiff(1:27,d)%in%x)>0})\n",
    "\n",
    "sens <- ss_sp$sens_dis\n",
    "spec <- ss_sp$spec_dis\n",
    "\n",
    "a_dis <- sum(is_dis)\n",
    "b_dis <- N-a_dis\n",
    "As <- (a_dis-(1-spec)*N)/(sens - (1-spec))\n",
    "Bs <- N-As\n",
    "T1 <- sens*As\n",
    "T0 <- spec*Bs\n",
    "F1 <- (1-spec)*Bs\n",
    "F0 <- (1-sens)*As\n",
    "PPV_dis <- T1/(T1+F1)\n",
    "NPV_dis <- T0/(T0+F0)\n",
    "\n",
    "sens <- ss_sp$sens_oth\n",
    "spec <- ss_sp$spec_oth\n",
    "\n",
    "a_oth <- sum(is_oth)\n",
    "b_oth <- N-a_oth\n",
    "As <- (a_oth-(1-spec)*N)/(sens - (1-spec))\n",
    "Bs <- N-As\n",
    "T1 <- sens*As\n",
    "T0 <- spec*Bs\n",
    "F1 <- (1-spec)*Bs\n",
    "F0 <- (1-sens)*As\n",
    "PPV_oth <- T1/(T1+F1)\n",
    "NPV_oth <- T0/(T0+F0)\n",
    "\n",
    "false_it <- PPV_dis<0 | PPV_dis>1 | \n",
    "            NPV_dis<0 | NPV_dis>1 | \n",
    "            PPV_oth<0 | PPV_oth>1 | \n",
    "            NPV_oth<0 | NPV_oth>1\n",
    "\n",
    "print(paste(c(d,\"has\",sum(false_it),\"suppressed false iterations\"\n",
    "                                                ),collapse=\" \"))  \n",
    "\n",
    "PPV_dis <- PPV_dis[!false_it]\n",
    "NPV_dis <- NPV_dis[!false_it]\n",
    "PPV_oth <- PPV_oth[!false_it]\n",
    "NPV_oth <- NPV_oth[!false_it]"
   ]
  },
  {
   "cell_type": "code",
   "execution_count": 37,
   "metadata": {
    "collapsed": false
   },
   "outputs": [
    {
     "data": {
      "text/plain": [
       "    user   system  elapsed \n",
       "28.88095  0.13635 30.01713 "
      ]
     },
     "metadata": {},
     "output_type": "display_data"
    }
   ],
   "source": [
    "t0 <- proc.time()\n",
    "L <- list()\n",
    "#Simulation: reclassifying each trial\n",
    "    for(k in 1:length(PPV_dis)){\n",
    "\n",
    "        tp_dis <- runif(a_dis)\n",
    "        tn_dis <- runif(b_dis)\n",
    "        recl_dis <- is_dis\n",
    "        recl_dis[recl_dis==TRUE][tp_dis>PPV_dis[k]] <- FALSE\n",
    "        recl_dis[recl_dis==FALSE][tn_dis>NPV_dis[k]] <- TRUE\n",
    "        rt <- as.numeric(recl_dis)\n",
    "\n",
    "        #Oth_dis\n",
    "        tp_oth <- runif(a_oth)\n",
    "        tn_oth <- runif(b_oth)\n",
    "        recl_oth <- is_oth\n",
    "        recl_oth[recl_oth==TRUE][tp_oth>PPV_oth[k]] <- FALSE\n",
    "        recl_oth[recl_oth==FALSE][tn_oth>NPV_oth[k]] <- TRUE\n",
    "\n",
    "        write.table(data.frame(recl_dis=as.numeric(recl_dis),recl_oth=as.numeric(recl_oth)),\n",
    "                    paste(c(\"/media/igna/Elements/HotelDieu/Cochrane/MappingRCTs_vs_Burden/Replicates_add/\",\n",
    "                            as.character(d),\"/Reclassification_\",\n",
    "                            \"_\",k,\".txt\"),collapse=\"\"),row.names=FALSE)\n",
    "\n",
    "\n",
    "    }\n",
    "t1 <- proc.time()\n",
    "(t1-t0)/60"
   ]
  },
  {
   "cell_type": "markdown",
   "metadata": {},
   "source": [
    "## Hemoglobinopathies and hemolytic anemias"
   ]
  },
  {
   "cell_type": "code",
   "execution_count": 38,
   "metadata": {
    "collapsed": false
   },
   "outputs": [
    {
     "data": {
      "text/html": [
       "<table>\n",
       "<thead><tr><th></th><th scope=col>X</th><th scope=col>dis</th><th scope=col>GBD</th><th scope=col>TP_Dis</th><th scope=col>FP_Dis</th><th scope=col>TN_Dis</th><th scope=col>FN_Dis</th><th scope=col>TP_Oth</th><th scope=col>FP_Oth</th><th scope=col>TN_Oth</th><th scope=col>FN_Oth</th></tr></thead>\n",
       "<tbody>\n",
       "\t<tr><th scope=row>21</th><td>21                                      </td><td>21                                      </td><td>Hemoglobinopathies and hemolytic anemias</td><td>10                                      </td><td>4                                       </td><td>2743                                    </td><td>6                                       </td><td>2143                                    </td><td>203                                     </td><td>270                                     </td><td>147                                     </td></tr>\n",
       "</tbody>\n",
       "</table>\n"
      ],
      "text/latex": [
       "\\begin{tabular}{r|lllllllllll}\n",
       "  & X & dis & GBD & TP\\_Dis & FP\\_Dis & TN\\_Dis & FN\\_Dis & TP\\_Oth & FP\\_Oth & TN\\_Oth & FN\\_Oth\\\\\n",
       "\\hline\n",
       "\t21 & 21                                       & 21                                       & Hemoglobinopathies and hemolytic anemias & 10                                       & 4                                        & 2743                                     & 6                                        & 2143                                     & 203                                      & 270                                      & 147                                     \\\\\n",
       "\\end{tabular}\n"
      ],
      "text/plain": [
       "    X dis                                      GBD TP_Dis FP_Dis TN_Dis FN_Dis\n",
       "21 21  21 Hemoglobinopathies and hemolytic anemias     10      4   2743      6\n",
       "   TP_Oth FP_Oth TN_Oth FN_Oth\n",
       "21   2143    203    270    147"
      ]
     },
     "metadata": {},
     "output_type": "display_data"
    }
   ],
   "source": [
    "d <- 21\n",
    "PERF[d,]"
   ]
  },
  {
   "cell_type": "code",
   "execution_count": 39,
   "metadata": {
    "collapsed": false
   },
   "outputs": [
    {
     "data": {
      "image/png": "[encoded data removed]",
      "text/plain": [
       "Plot with title “spec_oth”"
      ]
     },
     "metadata": {},
     "output_type": "display_data"
    }
   ],
   "source": [
    "ss_sp <- read.table(paste(c(\"/media/igna/Elements/HotelDieu/Cochrane/MappingRCTs_vs_Burden/Replicates/\",as.character(d),\"/Sens_spec.txt\"),collapse=\"\"))\n",
    "\n",
    "options(repr.plot.width=9, repr.plot.height=3)\n",
    "par(mfrow=c(1,4))\n",
    "for(i in 1:ncol(ss_sp)) hist(ss_sp[,i],xlim=c(0,1),main=colnames(ss_sp)[i],xlab=NULL)"
   ]
  },
  {
   "cell_type": "code",
   "execution_count": 40,
   "metadata": {
    "collapsed": false
   },
   "outputs": [
    {
     "data": {
      "text/plain": [
       "is_dis\n",
       " FALSE   TRUE \n",
       "116941    239 "
      ]
     },
     "metadata": {},
     "output_type": "display_data"
    }
   ],
   "source": [
    "is_dis <- sapply(Lgbd,function(x){d%in%x})\n",
    "table(is_dis)"
   ]
  },
  {
   "cell_type": "code",
   "execution_count": 41,
   "metadata": {
    "collapsed": true
   },
   "outputs": [],
   "source": [
    "sens <- ss_sp$sens_dis\n",
    "spec <- ss_sp$spec_dis\n",
    "\n",
    "N <- nrow(data)\n",
    "a_dis <- sum(is_dis)\n",
    "b_dis <- N-a_dis\n",
    "\n",
    "As <- (a_dis-(1-spec)*N)/(sens - (1-spec))\n",
    "Bs <- N-As\n",
    "T1 <- sens*As\n",
    "T0 <- spec*Bs\n",
    "F1 <- (1-spec)*Bs\n",
    "F0 <- (1-sens)*As\n",
    "PPV_dis <- T1/(T1+F1)\n",
    "NPV_dis <- T0/(T0+F0)"
   ]
  },
  {
   "cell_type": "code",
   "execution_count": 42,
   "metadata": {
    "collapsed": false
   },
   "outputs": [
    {
     "data": {
      "text/plain": [
       "\n",
       "FALSE  TRUE \n",
       " 6680  3320 "
      ]
     },
     "metadata": {},
     "output_type": "display_data"
    }
   ],
   "source": [
    "table(As<0)"
   ]
  },
  {
   "cell_type": "code",
   "execution_count": 43,
   "metadata": {
    "collapsed": false
   },
   "outputs": [
    {
     "data": {
      "text/plain": [
       "\n",
       "FALSE \n",
       "10000 "
      ]
     },
     "metadata": {},
     "output_type": "display_data"
    }
   ],
   "source": [
    "table(sens - (1-spec) <0)"
   ]
  },
  {
   "cell_type": "code",
   "execution_count": 44,
   "metadata": {
    "collapsed": false
   },
   "outputs": [
    {
     "data": {
      "text/plain": [
       "\n",
       "FALSE  TRUE \n",
       " 6680  3320 "
      ]
     },
     "metadata": {},
     "output_type": "display_data"
    }
   ],
   "source": [
    "table(a_dis-(1-spec)*N<0)"
   ]
  },
  {
   "cell_type": "code",
   "execution_count": 45,
   "metadata": {
    "collapsed": false
   },
   "outputs": [
    {
     "data": {
      "text/html": [
       "0.997960402799112"
      ],
      "text/latex": [
       "0.997960402799112"
      ],
      "text/markdown": [
       "0.997960402799112"
      ],
      "text/plain": [
       "[1] 0.9979604"
      ]
     },
     "metadata": {},
     "output_type": "display_data"
    }
   ],
   "source": [
    "1-a_dis/N"
   ]
  },
  {
   "cell_type": "markdown",
   "metadata": {},
   "source": [
    "We need to avoid cases in which specificity is lower than 1-a_dis/N.\n",
    "\n",
    "What if we consider that we observed the number of false positives in the test set with a certain error"
   ]
  },
  {
   "cell_type": "code",
   "execution_count": 46,
   "metadata": {
    "collapsed": false
   },
   "outputs": [
    {
     "data": {
      "text/plain": [
       "\n",
       "\tExact binomial test\n",
       "\n",
       "data:  PERF$TN_Dis[d] and PERF$FP_Dis[d] + PERF$TN_Dis[d]\n",
       "number of successes = 2743, number of trials = 2747, p-value < 2.2e-16\n",
       "alternative hypothesis: true probability of success is not equal to 0.5\n",
       "50 percent confidence interval:\n",
       " 0.9977168 0.9990770\n",
       "sample estimates:\n",
       "probability of success \n",
       "             0.9985439 \n"
      ]
     },
     "metadata": {},
     "output_type": "display_data"
    }
   ],
   "source": [
    "ts <- binom.test(PERF$TN_Dis[d],PERF$FP_Dis[d] + PERF$TN_Dis[d],conf.level = 0.5)\n",
    "binom.test(PERF$TN_Dis[d],PERF$FP_Dis[d] + PERF$TN_Dis[d],conf.level = 0.5)"
   ]
  },
  {
   "cell_type": "code",
   "execution_count": 47,
   "metadata": {
    "collapsed": true
   },
   "outputs": [],
   "source": [
    "New_FP <- ceiling((1-ts$conf.int)*(PERF$FP_Dis[d] + PERF$TN_Dis[d]))[2]\n",
    "New_TN <- PERF$TN_Dis[d] + (PERF$FP_Dis[d] - New_FP)"
   ]
  },
  {
   "cell_type": "code",
   "execution_count": 48,
   "metadata": {
    "collapsed": false
   },
   "outputs": [
    {
     "data": {
      "text/html": [
       "3"
      ],
      "text/latex": [
       "3"
      ],
      "text/markdown": [
       "3"
      ],
      "text/plain": [
       "[1] 3"
      ]
     },
     "metadata": {},
     "output_type": "display_data"
    },
    {
     "data": {
      "text/html": [
       "2744"
      ],
      "text/latex": [
       "2744"
      ],
      "text/markdown": [
       "2744"
      ],
      "text/plain": [
       "[1] 2744"
      ]
     },
     "metadata": {},
     "output_type": "display_data"
    }
   ],
   "source": [
    "New_FP\n",
    "New_TN"
   ]
  },
  {
   "cell_type": "code",
   "execution_count": 49,
   "metadata": {
    "collapsed": false
   },
   "outputs": [
    {
     "data": {
      "text/plain": [
       "\n",
       "FALSE  TRUE \n",
       " 8060  1940 "
      ]
     },
     "metadata": {},
     "output_type": "display_data"
    }
   ],
   "source": [
    "set.seed(123)\n",
    "spec_new <- rbeta(10000,New_TN+1,New_FP+1)\n",
    "table(a_dis-(1-spec_new)*N<0)"
   ]
  },
  {
   "cell_type": "markdown",
   "metadata": {},
   "source": [
    "After modifying specificity we do not achieve less than 10% of false iterations, we then do not conduct simulations for this disease"
   ]
  },
  {
   "cell_type": "markdown",
   "metadata": {
    "collapsed": true
   },
   "source": [
    "# Leprosy"
   ]
  },
  {
   "cell_type": "code",
   "execution_count": 50,
   "metadata": {
    "collapsed": false
   },
   "outputs": [
    {
     "data": {
      "text/html": [
       "<table>\n",
       "<thead><tr><th></th><th scope=col>X</th><th scope=col>dis</th><th scope=col>GBD</th><th scope=col>TP_Dis</th><th scope=col>FP_Dis</th><th scope=col>TN_Dis</th><th scope=col>FN_Dis</th><th scope=col>TP_Oth</th><th scope=col>FP_Oth</th><th scope=col>TN_Oth</th><th scope=col>FN_Oth</th></tr></thead>\n",
       "<tbody>\n",
       "\t<tr><th scope=row>11</th><td>11     </td><td>11     </td><td>Leprosy</td><td>2      </td><td>1      </td><td>2760   </td><td>0      </td><td>2154   </td><td>203    </td><td>256    </td><td>150    </td></tr>\n",
       "</tbody>\n",
       "</table>\n"
      ],
      "text/latex": [
       "\\begin{tabular}{r|lllllllllll}\n",
       "  & X & dis & GBD & TP\\_Dis & FP\\_Dis & TN\\_Dis & FN\\_Dis & TP\\_Oth & FP\\_Oth & TN\\_Oth & FN\\_Oth\\\\\n",
       "\\hline\n",
       "\t11 & 11      & 11      & Leprosy & 2       & 1       & 2760    & 0       & 2154    & 203     & 256     & 150    \\\\\n",
       "\\end{tabular}\n"
      ],
      "text/plain": [
       "    X dis     GBD TP_Dis FP_Dis TN_Dis FN_Dis TP_Oth FP_Oth TN_Oth FN_Oth\n",
       "11 11  11 Leprosy      2      1   2760      0   2154    203    256    150"
      ]
     },
     "metadata": {},
     "output_type": "display_data"
    }
   ],
   "source": [
    "d <- 11\n",
    "PERF[d,]"
   ]
  },
  {
   "cell_type": "code",
   "execution_count": 51,
   "metadata": {
    "collapsed": false
   },
   "outputs": [
    {
     "data": {
      "image/png": "[encoded data removed]",
      "text/plain": [
       "Plot with title “spec_oth”"
      ]
     },
     "metadata": {},
     "output_type": "display_data"
    }
   ],
   "source": [
    "ss_sp <- read.table(paste(c(\"/media/igna/Elements/HotelDieu/Cochrane/MappingRCTs_vs_Burden/Replicates/\",as.character(d),\"/Sens_spec.txt\"),collapse=\"\"))\n",
    "\n",
    "options(repr.plot.width=9, repr.plot.height=3)\n",
    "par(mfrow=c(1,4))\n",
    "for(i in 1:ncol(ss_sp)) hist(ss_sp[,i],xlim=c(0,1),main=colnames(ss_sp)[i],xlab=NULL)"
   ]
  },
  {
   "cell_type": "code",
   "execution_count": 52,
   "metadata": {
    "collapsed": false
   },
   "outputs": [
    {
     "data": {
      "text/plain": [
       "is_dis\n",
       " FALSE   TRUE \n",
       "117079    101 "
      ]
     },
     "metadata": {},
     "output_type": "display_data"
    }
   ],
   "source": [
    "is_dis <- sapply(Lgbd,function(x){d%in%x})\n",
    "table(is_dis)"
   ]
  },
  {
   "cell_type": "code",
   "execution_count": 53,
   "metadata": {
    "collapsed": true
   },
   "outputs": [],
   "source": [
    "sens <- ss_sp$sens_dis\n",
    "spec <- ss_sp$spec_dis\n",
    "\n",
    "N <- nrow(data)\n",
    "a_dis <- sum(is_dis)\n",
    "b_dis <- N-a_dis\n",
    "\n",
    "As <- (a_dis-(1-spec)*N)/(sens - (1-spec))\n",
    "Bs <- N-As\n",
    "T1 <- sens*As\n",
    "T0 <- spec*Bs\n",
    "F1 <- (1-spec)*Bs\n",
    "F0 <- (1-sens)*As\n",
    "PPV_dis <- T1/(T1+F1)\n",
    "NPV_dis <- T0/(T0+F0)"
   ]
  },
  {
   "cell_type": "code",
   "execution_count": 54,
   "metadata": {
    "collapsed": false
   },
   "outputs": [
    {
     "data": {
      "text/plain": [
       "\n",
       "FALSE  TRUE \n",
       " 6834  3166 "
      ]
     },
     "metadata": {},
     "output_type": "display_data"
    }
   ],
   "source": [
    "table(As<0)"
   ]
  },
  {
   "cell_type": "code",
   "execution_count": 55,
   "metadata": {
    "collapsed": false
   },
   "outputs": [
    {
     "data": {
      "text/plain": [
       "\n",
       "FALSE \n",
       "10000 "
      ]
     },
     "metadata": {},
     "output_type": "display_data"
    }
   ],
   "source": [
    "table(sens - (1-spec) <0)"
   ]
  },
  {
   "cell_type": "code",
   "execution_count": 56,
   "metadata": {
    "collapsed": false
   },
   "outputs": [
    {
     "data": {
      "text/plain": [
       "\n",
       "FALSE  TRUE \n",
       " 6834  3166 "
      ]
     },
     "metadata": {},
     "output_type": "display_data"
    }
   ],
   "source": [
    "table(a_dis-(1-spec)*N<0)"
   ]
  },
  {
   "cell_type": "code",
   "execution_count": 57,
   "metadata": {
    "collapsed": false
   },
   "outputs": [
    {
     "data": {
      "text/html": [
       "0.999138078170336"
      ],
      "text/latex": [
       "0.999138078170336"
      ],
      "text/markdown": [
       "0.999138078170336"
      ],
      "text/plain": [
       "[1] 0.9991381"
      ]
     },
     "metadata": {},
     "output_type": "display_data"
    }
   ],
   "source": [
    "1-a_dis/N"
   ]
  },
  {
   "cell_type": "markdown",
   "metadata": {},
   "source": [
    "We need to avoid cases in which specificity is lower than 1-a_dis/N.\n",
    "\n",
    "What if we consider that we observed the number of false positives in the test set with a certain error"
   ]
  },
  {
   "cell_type": "code",
   "execution_count": 58,
   "metadata": {
    "collapsed": false
   },
   "outputs": [
    {
     "data": {
      "text/plain": [
       "\n",
       "\tExact binomial test\n",
       "\n",
       "data:  PERF$TN_Dis[d] and PERF$FP_Dis[d] + PERF$TN_Dis[d]\n",
       "number of successes = 2760, number of trials = 2761, p-value < 2.2e-16\n",
       "alternative hypothesis: true probability of success is not equal to 0.5\n",
       "50 percent confidence interval:\n",
       " 0.9990251 0.9998958\n",
       "sample estimates:\n",
       "probability of success \n",
       "             0.9996378 \n"
      ]
     },
     "metadata": {},
     "output_type": "display_data"
    }
   ],
   "source": [
    "ts <- binom.test(PERF$TN_Dis[d],PERF$FP_Dis[d] + PERF$TN_Dis[d],conf.level = 0.5)\n",
    "binom.test(PERF$TN_Dis[d],PERF$FP_Dis[d] + PERF$TN_Dis[d],conf.level = 0.5)"
   ]
  },
  {
   "cell_type": "code",
   "execution_count": 59,
   "metadata": {
    "collapsed": true
   },
   "outputs": [],
   "source": [
    "New_FP <- ceiling((1-ts$conf.int)*(PERF$FP_Dis[d] + PERF$TN_Dis[d]))[2]\n",
    "New_TN <- PERF$TN_Dis[d] + (PERF$FP_Dis[d] - New_FP)"
   ]
  },
  {
   "cell_type": "code",
   "execution_count": 60,
   "metadata": {
    "collapsed": false
   },
   "outputs": [
    {
     "data": {
      "text/html": [
       "1"
      ],
      "text/latex": [
       "1"
      ],
      "text/markdown": [
       "1"
      ],
      "text/plain": [
       "[1] 1"
      ]
     },
     "metadata": {},
     "output_type": "display_data"
    },
    {
     "data": {
      "text/html": [
       "2760"
      ],
      "text/latex": [
       "2760"
      ],
      "text/markdown": [
       "2760"
      ],
      "text/plain": [
       "[1] 2760"
      ]
     },
     "metadata": {},
     "output_type": "display_data"
    }
   ],
   "source": [
    "New_FP\n",
    "New_TN"
   ]
  },
  {
   "cell_type": "markdown",
   "metadata": {},
   "source": [
    "The number of FP is not modified with this method, leading to the same proportion of false iterations. We do not conduct simulations for this disease"
   ]
  },
  {
   "cell_type": "markdown",
   "metadata": {
    "collapsed": true
   },
   "source": [
    "# Sudden infant death syndrome"
   ]
  },
  {
   "cell_type": "code",
   "execution_count": 62,
   "metadata": {
    "collapsed": false
   },
   "outputs": [
    {
     "data": {
      "text/html": [
       "<table>\n",
       "<thead><tr><th></th><th scope=col>X</th><th scope=col>dis</th><th scope=col>GBD</th><th scope=col>TP_Dis</th><th scope=col>FP_Dis</th><th scope=col>TN_Dis</th><th scope=col>FN_Dis</th><th scope=col>TP_Oth</th><th scope=col>FP_Oth</th><th scope=col>TN_Oth</th><th scope=col>FN_Oth</th></tr></thead>\n",
       "<tbody>\n",
       "\t<tr><th scope=row>27</th><td>27                          </td><td>27                          </td><td>Sudden infant death syndrome</td><td>0                           </td><td>0                           </td><td>2763                        </td><td>0                           </td><td>2156                        </td><td>203                         </td><td>254                         </td><td>150                         </td></tr>\n",
       "</tbody>\n",
       "</table>\n"
      ],
      "text/latex": [
       "\\begin{tabular}{r|lllllllllll}\n",
       "  & X & dis & GBD & TP\\_Dis & FP\\_Dis & TN\\_Dis & FN\\_Dis & TP\\_Oth & FP\\_Oth & TN\\_Oth & FN\\_Oth\\\\\n",
       "\\hline\n",
       "\t27 & 27                           & 27                           & Sudden infant death syndrome & 0                            & 0                            & 2763                         & 0                            & 2156                         & 203                          & 254                          & 150                         \\\\\n",
       "\\end{tabular}\n"
      ],
      "text/plain": [
       "    X dis                          GBD TP_Dis FP_Dis TN_Dis FN_Dis TP_Oth\n",
       "27 27  27 Sudden infant death syndrome      0      0   2763      0   2156\n",
       "   FP_Oth TN_Oth FN_Oth\n",
       "27    203    254    150"
      ]
     },
     "metadata": {},
     "output_type": "display_data"
    }
   ],
   "source": [
    "d <- 27\n",
    "PERF[d,]"
   ]
  },
  {
   "cell_type": "code",
   "execution_count": 63,
   "metadata": {
    "collapsed": false
   },
   "outputs": [
    {
     "data": {
      "image/png": "[encoded data removed]",
      "text/plain": [
       "Plot with title “spec_oth”"
      ]
     },
     "metadata": {},
     "output_type": "display_data"
    }
   ],
   "source": [
    "ss_sp <- read.table(paste(c(\"/media/igna/Elements/HotelDieu/Cochrane/MappingRCTs_vs_Burden/Replicates/\",as.character(d),\"/Sens_spec.txt\"),collapse=\"\"))\n",
    "\n",
    "options(repr.plot.width=9, repr.plot.height=3)\n",
    "par(mfrow=c(1,4))\n",
    "for(i in 1:ncol(ss_sp)) hist(ss_sp[,i],xlim=c(0,1),main=colnames(ss_sp)[i],xlab=NULL)"
   ]
  },
  {
   "cell_type": "code",
   "execution_count": 64,
   "metadata": {
    "collapsed": false
   },
   "outputs": [
    {
     "data": {
      "text/plain": [
       "is_dis\n",
       " FALSE   TRUE \n",
       "117177      3 "
      ]
     },
     "metadata": {},
     "output_type": "display_data"
    }
   ],
   "source": [
    "is_dis <- sapply(Lgbd,function(x){d%in%x})\n",
    "table(is_dis)"
   ]
  },
  {
   "cell_type": "markdown",
   "metadata": {},
   "source": [
    "No observations in the test set, and only 3 observations in the dataset. Impossible to fix. We do not conduct simulations for this disease"
   ]
  }
 ],
 "metadata": {
  "kernelspec": {
   "display_name": "R",
   "language": "R",
   "name": "ir"
  },
  "language_info": {
   "codemirror_mode": "r",
   "file_extension": ".r",
   "mimetype": "text/x-r-source",
   "name": "R",
   "pygments_lexer": "r",
   "version": "3.3.1"
  }
 },
 "nbformat": 4,
 "nbformat_minor": 1
}
