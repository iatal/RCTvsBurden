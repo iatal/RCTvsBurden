{
 "cells": [
  {
   "cell_type": "code",
   "execution_count": 1,
   "metadata": {
    "collapsed": false
   },
   "outputs": [
    {
     "name": "stderr",
     "output_type": "stream",
     "text": [
      "gdata: read.xls support for 'XLS' (Excel 97-2004) files ENABLED.\n",
      "\n",
      "gdata: read.xls support for 'XLSX' (Excel 2007+) files ENABLED.\n",
      "\n",
      "Attaching package: ‘gdata’\n",
      "\n",
      "The following object is masked from ‘package:stats’:\n",
      "\n",
      "    nobs\n",
      "\n",
      "The following object is masked from ‘package:utils’:\n",
      "\n",
      "    object.size\n",
      "\n",
      "The following object is masked from ‘package:base’:\n",
      "\n",
      "    startsWith\n",
      "\n",
      "\n",
      "Attaching package: ‘data.table’\n",
      "\n",
      "The following objects are masked from ‘package:gdata’:\n",
      "\n",
      "    first, last\n",
      "\n"
     ]
    }
   ],
   "source": [
    "library(gdata)\n",
    "library(data.table)"
   ]
  },
  {
   "cell_type": "code",
   "execution_count": 2,
   "metadata": {
    "collapsed": false
   },
   "outputs": [
    {
     "data": {
      "text/html": [
       "117180"
      ],
      "text/latex": [
       "117180"
      ],
      "text/markdown": [
       "117180"
      ],
      "text/plain": [
       "[1] 117180"
      ]
     },
     "metadata": {},
     "output_type": "display_data"
    }
   ],
   "source": [
    "data <- read.table(\"/media/igna/Elements/HotelDieu/Cochrane/MappingRCTs_vs_Burden/database_RCTs_regions_27diseases.txt\")\n",
    "nrow(data)"
   ]
  },
  {
   "cell_type": "code",
   "execution_count": 3,
   "metadata": {
    "collapsed": false
   },
   "outputs": [
    {
     "data": {
      "text/plain": [
       "\n",
       " FALSE   TRUE \n",
       "109211   7969 "
      ]
     },
     "metadata": {},
     "output_type": "display_data"
    },
    {
     "data": {
      "text/html": [
       "77618020"
      ],
      "text/latex": [
       "77618020"
      ],
      "text/markdown": [
       "77618020"
      ],
      "text/plain": [
       "[1] 77618020"
      ]
     },
     "metadata": {},
     "output_type": "display_data"
    },
    {
     "data": {
      "text/html": [
       "20121212"
      ],
      "text/latex": [
       "20121212"
      ],
      "text/markdown": [
       "20121212"
      ],
      "text/plain": [
       "[1] 20121212"
      ]
     },
     "metadata": {},
     "output_type": "display_data"
    }
   ],
   "source": [
    "table(is.na(data$Sample))\n",
    "sum(data$Sample,na.rm=TRUE)\n",
    "max(data$Sample,na.rm=TRUE)"
   ]
  },
  {
   "cell_type": "code",
   "execution_count": 4,
   "metadata": {
    "collapsed": false
   },
   "outputs": [
    {
     "data": {
      "text/plain": [
       "\n",
       " FALSE   TRUE \n",
       "107582   1629 "
      ]
     },
     "metadata": {},
     "output_type": "display_data"
    },
    {
     "data": {
      "text/plain": [
       "\n",
       " FALSE   TRUE \n",
       "109187     24 "
      ]
     },
     "metadata": {},
     "output_type": "display_data"
    },
    {
     "data": {
      "text/html": [
       "43952638"
      ],
      "text/latex": [
       "43952638"
      ],
      "text/markdown": [
       "43952638"
      ],
      "text/plain": [
       "[1] 43952638"
      ]
     },
     "metadata": {},
     "output_type": "display_data"
    },
    {
     "data": {
      "text/plain": [
       "\n",
       " FALSE   TRUE \n",
       "107558   9622 "
      ]
     },
     "metadata": {},
     "output_type": "display_data"
    }
   ],
   "source": [
    "#Shrinking sample sizes\n",
    "table(data$Sample < 10)\n",
    "table(data$Sample > 200000)\n",
    "sum(data$Sample[data$Sample>=10 & data$Sample<=200000],na.rm=TRUE)\n",
    "table(is.na(data$Sample) | data$Sample<10 | data$Sample > 200000)"
   ]
  },
  {
   "cell_type": "code",
   "execution_count": 5,
   "metadata": {
    "collapsed": true
   },
   "outputs": [],
   "source": [
    "data <- data[!is.na(data$Sample) & data$Sample<=200000 & data$Sample>=10,]"
   ]
  },
  {
   "cell_type": "code",
   "execution_count": 6,
   "metadata": {
    "collapsed": false
   },
   "outputs": [
    {
     "data": {
      "text/plain": [
       "    Min.  1st Qu.   Median     Mean  3rd Qu.     Max. \n",
       "    10.0     48.0    100.0    408.6    220.0 200000.0 "
      ]
     },
     "metadata": {},
     "output_type": "display_data"
    }
   ],
   "source": [
    "#Distribution sample sizes\n",
    "summary(data$Sample)"
   ]
  },
  {
   "cell_type": "code",
   "execution_count": 7,
   "metadata": {
    "collapsed": false
   },
   "outputs": [
    {
     "data": {
      "text/html": [
       "<ol class=list-inline>\n",
       "\t<li>'[10,20)'</li>\n",
       "\t<li>'[100,200)'</li>\n",
       "\t<li>'[1e+03,2e+03)'</li>\n",
       "\t<li>'[1e+04,2e+04)'</li>\n",
       "\t<li>'[1e+05,2e+05)'</li>\n",
       "\t<li>'[20,40)'</li>\n",
       "\t<li>'[200,400)'</li>\n",
       "\t<li>'[2e+03,1e+04)'</li>\n",
       "\t<li>'[2e+04,1e+05)'</li>\n",
       "\t<li>'[40,60)'</li>\n",
       "\t<li>'[400,1e+03)'</li>\n",
       "\t<li>'[60,100)'</li>\n",
       "</ol>\n"
      ],
      "text/latex": [
       "\\begin{enumerate*}\n",
       "\\item '{[}10,20)'\n",
       "\\item '{[}100,200)'\n",
       "\\item '{[}1e+03,2e+03)'\n",
       "\\item '{[}1e+04,2e+04)'\n",
       "\\item '{[}1e+05,2e+05)'\n",
       "\\item '{[}20,40)'\n",
       "\\item '{[}200,400)'\n",
       "\\item '{[}2e+03,1e+04)'\n",
       "\\item '{[}2e+04,1e+05)'\n",
       "\\item '{[}40,60)'\n",
       "\\item '{[}400,1e+03)'\n",
       "\\item '{[}60,100)'\n",
       "\\end{enumerate*}\n"
      ],
      "text/markdown": [
       "1. '[10,20)'\n",
       "2. '[100,200)'\n",
       "3. '[1e+03,2e+03)'\n",
       "4. '[1e+04,2e+04)'\n",
       "5. '[1e+05,2e+05)'\n",
       "6. '[20,40)'\n",
       "7. '[200,400)'\n",
       "8. '[2e+03,1e+04)'\n",
       "9. '[2e+04,1e+05)'\n",
       "10. '[40,60)'\n",
       "11. '[400,1e+03)'\n",
       "12. '[60,100)'\n",
       "\n",
       "\n"
      ],
      "text/plain": [
       " [1] \"[10,20)\"       \"[100,200)\"     \"[1e+03,2e+03)\" \"[1e+04,2e+04)\"\n",
       " [5] \"[1e+05,2e+05)\" \"[20,40)\"       \"[200,400)\"     \"[2e+03,1e+04)\"\n",
       " [9] \"[2e+04,1e+05)\" \"[40,60)\"       \"[400,1e+03)\"   \"[60,100)\"     "
      ]
     },
     "metadata": {},
     "output_type": "display_data"
    }
   ],
   "source": [
    "spl_qt <- c(0,10,20,40,60,100,200,400,1000,2000,10000,20000,100000,200000)\n",
    "\n",
    "data$Sple_cl <- cut(data$Sample,spl_qt,right=F)\n",
    "data$Sple_cl <- as.character(data$Sple_cl)\n",
    "data$Sple_cl <- as.factor(data$Sple_cl)\n",
    "levels(data$Sple_cl)\n"
   ]
  },
  {
   "cell_type": "code",
   "execution_count": 8,
   "metadata": {
    "collapsed": false
   },
   "outputs": [],
   "source": [
    "levels(data$Sple_cl) <- c(levels(data$Sple_cl),'[0,10)')"
   ]
  },
  {
   "cell_type": "code",
   "execution_count": 9,
   "metadata": {
    "collapsed": false
   },
   "outputs": [
    {
     "data": {
      "text/plain": [
       "\n",
       "      [10,20)     [100,200) [1e+03,2e+03) [1e+04,2e+04) [1e+05,2e+05) \n",
       "         4598         22308          2861           270            31 \n",
       "      [20,40)     [200,400) [2e+03,1e+04) [2e+04,1e+05)       [40,60) \n",
       "        14304         15898          1968           212         14124 \n",
       "  [400,1e+03)      [60,100)        [0,10) \n",
       "        10348         20633             0 "
      ]
     },
     "metadata": {},
     "output_type": "display_data"
    }
   ],
   "source": [
    "table(data$Sple_cl)"
   ]
  },
  {
   "cell_type": "code",
   "execution_count": 10,
   "metadata": {
    "collapsed": true
   },
   "outputs": [],
   "source": [
    "data$Sple_cl <- reorder(data$Sple_cl,new.order=c('[0,10)',\n",
    "                                                 '[10,20)',\n",
    "                                                 '[20,40)',\n",
    "                                                 '[40,60)',\n",
    "                                                 '[60,100)',\n",
    "                                                 '[100,200)',\n",
    "                                                 '[200,400)',\n",
    "                                                 '[400,1e+03)',\n",
    "                                                 '[1e+03,2e+03)',\n",
    "                                                 '[2e+03,1e+04)',\n",
    "                                                 '[1e+04,2e+04)',\n",
    "                                                 '[2e+04,1e+05)',\n",
    "                                                 '[1e+05,2e+05)'\n",
    "                                                 ))\n",
    "levels(data$Sple_cl) <- c('[0,10)',\n",
    "                         '[10,20)',\n",
    "                         '[20,40)',\n",
    "                         '[40,60)',\n",
    "                         '[60,100)',\n",
    "                         '[100,200)',\n",
    "                         '[200,400)',\n",
    "                         '[400,1e3)',\n",
    "                         '[1e3,2e3)',\n",
    "                         '[2e3,1e4)',\n",
    "                         '[1e4,2e4)',\n",
    "                         '[2e4,1e5)',\n",
    "                         '[1e5,2e5)'\n",
    "                        )"
   ]
  },
  {
   "cell_type": "code",
   "execution_count": 11,
   "metadata": {
    "collapsed": false
   },
   "outputs": [
    {
     "data": {
      "text/plain": [
       "\n",
       "   [0,10)   [10,20)   [20,40)   [40,60)  [60,100) [100,200) [200,400) [400,1e3) \n",
       "        0      4598     14304     14124     20633     22308     15898     10348 \n",
       "[1e3,2e3) [2e3,1e4) [1e4,2e4) [2e4,1e5) [1e5,2e5) \n",
       "     2861      1968       270       212        31 "
      ]
     },
     "metadata": {},
     "output_type": "display_data"
    }
   ],
   "source": [
    "table(data$Sple_cl)"
   ]
  },
  {
   "cell_type": "code",
   "execution_count": 12,
   "metadata": {
    "collapsed": true
   },
   "outputs": [],
   "source": [
    "regs <- sort(unique(unlist(strsplit(as.character(data$Regions),\"&\"))))\n",
    "LR <- lapply(regs,function(x){1:nrow(data)%in%grep(x,data$Regions)})\n",
    "LR <- do.call('cbind',LR)\n",
    "LR <- data.table(LR)\n",
    "LR$TrialID <- data$TrialID\n",
    "\n",
    "#Nb of patients per region per trial\n",
    "#Nb countries per region per trial to distribute sample size equally across countries\n",
    "nb_ctrs <- lapply(strsplit(as.character(data$Nb_ctr_per_reg),'&'),as.numeric)\n",
    "RGs <-strsplit(as.character(data$Regions),'&')\n",
    "pats <- data.frame(TrialID = rep(data$TrialID,sapply(nb_ctrs,length)),\n",
    "                   Nb_ctrs = unlist(nb_ctrs),\n",
    "                   Region = unlist(RGs),\n",
    "                   Tot_sample = rep(data$Sample,sapply(nb_ctrs,length)))\n",
    "\n",
    "pats$tot_ctrs <- rep(sapply(nb_ctrs,sum),sapply(nb_ctrs,length))\n",
    "pats$sample_per_reg <- pats$Tot_sample*pats$Nb_ctrs/pats$tot_ctrs\n",
    "pats <- data.table(pats)"
   ]
  },
  {
   "cell_type": "code",
   "execution_count": 13,
   "metadata": {
    "collapsed": false
   },
   "outputs": [
    {
     "data": {
      "text/html": [
       "<ol class=list-inline>\n",
       "\t<li>'[0,10)'</li>\n",
       "\t<li>'[10,20)'</li>\n",
       "\t<li>'[100,200)'</li>\n",
       "\t<li>'[1e+03,2e+03)'</li>\n",
       "\t<li>'[1e+04,2e+04)'</li>\n",
       "\t<li>'[1e+05,2e+05)'</li>\n",
       "\t<li>'[20,40)'</li>\n",
       "\t<li>'[200,400)'</li>\n",
       "\t<li>'[2e+03,1e+04)'</li>\n",
       "\t<li>'[2e+04,1e+05)'</li>\n",
       "\t<li>'[40,60)'</li>\n",
       "\t<li>'[400,1e+03)'</li>\n",
       "\t<li>'[60,100)'</li>\n",
       "</ol>\n"
      ],
      "text/latex": [
       "\\begin{enumerate*}\n",
       "\\item '{[}0,10)'\n",
       "\\item '{[}10,20)'\n",
       "\\item '{[}100,200)'\n",
       "\\item '{[}1e+03,2e+03)'\n",
       "\\item '{[}1e+04,2e+04)'\n",
       "\\item '{[}1e+05,2e+05)'\n",
       "\\item '{[}20,40)'\n",
       "\\item '{[}200,400)'\n",
       "\\item '{[}2e+03,1e+04)'\n",
       "\\item '{[}2e+04,1e+05)'\n",
       "\\item '{[}40,60)'\n",
       "\\item '{[}400,1e+03)'\n",
       "\\item '{[}60,100)'\n",
       "\\end{enumerate*}\n"
      ],
      "text/markdown": [
       "1. '[0,10)'\n",
       "2. '[10,20)'\n",
       "3. '[100,200)'\n",
       "4. '[1e+03,2e+03)'\n",
       "5. '[1e+04,2e+04)'\n",
       "6. '[1e+05,2e+05)'\n",
       "7. '[20,40)'\n",
       "8. '[200,400)'\n",
       "9. '[2e+03,1e+04)'\n",
       "10. '[2e+04,1e+05)'\n",
       "11. '[40,60)'\n",
       "12. '[400,1e+03)'\n",
       "13. '[60,100)'\n",
       "\n",
       "\n"
      ],
      "text/plain": [
       " [1] \"[0,10)\"        \"[10,20)\"       \"[100,200)\"     \"[1e+03,2e+03)\"\n",
       " [5] \"[1e+04,2e+04)\" \"[1e+05,2e+05)\" \"[20,40)\"       \"[200,400)\"    \n",
       " [9] \"[2e+03,1e+04)\" \"[2e+04,1e+05)\" \"[40,60)\"       \"[400,1e+03)\"  \n",
       "[13] \"[60,100)\"     "
      ]
     },
     "metadata": {},
     "output_type": "display_data"
    }
   ],
   "source": [
    "pats$Sple_cl <- cut(pats$sample_per_reg,spl_qt,right=F)\n",
    "pats$Sple_cl <- as.character(pats$Sple_cl)\n",
    "pats$Sple_cl <- as.factor(pats$Sple_cl)\n",
    "\n",
    "levels(pats$Sple_cl)"
   ]
  },
  {
   "cell_type": "code",
   "execution_count": 14,
   "metadata": {
    "collapsed": true
   },
   "outputs": [],
   "source": [
    "pats$Sple_cl <- reorder(pats$Sple_cl,new.order=c('[0,10)',\n",
    "                                                 '[10,20)',\n",
    "                                                 '[20,40)',\n",
    "                                                 '[40,60)',\n",
    "                                                 '[60,100)',\n",
    "                                                 '[100,200)',\n",
    "                                                 '[200,400)',\n",
    "                                                 '[400,1e+03)',\n",
    "                                                 '[1e+03,2e+03)',\n",
    "                                                 '[2e+03,1e+04)',\n",
    "                                                 '[1e+04,2e+04)',\n",
    "                                                 '[2e+04,1e+05)',\n",
    "                                                 '[1e+05,2e+05)'\n",
    "                                                 ))\n",
    "levels(pats$Sple_cl) <- c('[0,10)',\n",
    "                         '[10,20)',\n",
    "                         '[20,40)',\n",
    "                         '[40,60)',\n",
    "                         '[60,100)',\n",
    "                         '[100,200)',\n",
    "                         '[200,400)',\n",
    "                         '[400,1e3)',\n",
    "                         '[1e3,2e3)',\n",
    "                         '[2e3,1e4)',\n",
    "                         '[1e4,2e4)',\n",
    "                         '[2e4,1e5)',\n",
    "                         '[1e5,2e5)'\n",
    "                        )"
   ]
  },
  {
   "cell_type": "code",
   "execution_count": 15,
   "metadata": {
    "collapsed": false
   },
   "outputs": [
    {
     "data": {
      "text/html": [
       "<ol class=list-inline>\n",
       "\t<li>'High-income'</li>\n",
       "\t<li>'North Africa and Middle East'</li>\n",
       "\t<li>'Southeast Asia, East Asia and Oceania'</li>\n",
       "\t<li>'Central Europe, Eastern Europe, and Central Asia'</li>\n",
       "\t<li>'South Asia'</li>\n",
       "\t<li>'Latin America and Caribbean'</li>\n",
       "\t<li>'Sub-Saharian Africa'</li>\n",
       "</ol>\n"
      ],
      "text/latex": [
       "\\begin{enumerate*}\n",
       "\\item 'High-income'\n",
       "\\item 'North Africa and Middle East'\n",
       "\\item 'Southeast Asia, East Asia and Oceania'\n",
       "\\item 'Central Europe, Eastern Europe, and Central Asia'\n",
       "\\item 'South Asia'\n",
       "\\item 'Latin America and Caribbean'\n",
       "\\item 'Sub-Saharian Africa'\n",
       "\\end{enumerate*}\n"
      ],
      "text/markdown": [
       "1. 'High-income'\n",
       "2. 'North Africa and Middle East'\n",
       "3. 'Southeast Asia, East Asia and Oceania'\n",
       "4. 'Central Europe, Eastern Europe, and Central Asia'\n",
       "5. 'South Asia'\n",
       "6. 'Latin America and Caribbean'\n",
       "7. 'Sub-Saharian Africa'\n",
       "\n",
       "\n"
      ],
      "text/plain": [
       "[1] \"High-income\"                                     \n",
       "[2] \"North Africa and Middle East\"                    \n",
       "[3] \"Southeast Asia, East Asia and Oceania\"           \n",
       "[4] \"Central Europe, Eastern Europe, and Central Asia\"\n",
       "[5] \"South Asia\"                                      \n",
       "[6] \"Latin America and Caribbean\"                     \n",
       "[7] \"Sub-Saharian Africa\"                             "
      ]
     },
     "metadata": {},
     "output_type": "display_data"
    }
   ],
   "source": [
    "regs <- names(sort(table(pats$Region),decreasing=TRUE))\n",
    "regs"
   ]
  },
  {
   "cell_type": "code",
   "execution_count": 16,
   "metadata": {
    "collapsed": true
   },
   "outputs": [],
   "source": [
    "reg_labs <- c('High-income',\n",
    "              'North Africa\\nand Middle East',\n",
    "              'Southeast and East Asia\\nand Oceania',\n",
    "              'Eastern Europe\\nand Central Asia',\n",
    "              'South Asia',\n",
    "              'Latin America\\nand Caribbean',\n",
    "              'Sub-Saharian Africa')"
   ]
  },
  {
   "cell_type": "code",
   "execution_count": 17,
   "metadata": {
    "collapsed": false
   },
   "outputs": [
    {
     "data": {
      "image/png": "[encoded data removed]",
      "text/plain": [
       "Plot with title “Sub-Saharian Africa”"
      ]
     },
     "metadata": {},
     "output_type": "display_data"
    }
   ],
   "source": [
    "options(repr.plot.width=10, repr.plot.height=5)\n",
    "par(mfrow=c(2,4),mar=c(5,4.9,3,0),las=2)\n",
    "\n",
    "barplot(100*table(data$Sple_cl)/nrow(data),ylim=c(0,35),main=\"Worldwide\",cex.names=0.8)\n",
    "mtext(\"Distribution of RCTs\\nacross sample sizes (%)\",side=2,line=2.5,las=3,cex=0.8)\n",
    "\n",
    "#barplot(table(pats$Sple_cl)/nrow(pats),ylim=c(0,0.5))\n",
    "\n",
    "for(r in 1:length(regs)){barplot(100*table(pats$Sple_cl[pats$Region==regs[r]])/sum(pats$Region==regs[r]),\n",
    "                                                   ylim=c(0,35),main=reg_labs[r],cex.names=0.8)\n",
    "                    if(r==4) mtext(\"Distribution of RCTs\\nacross sample sizes (%)\",side=2,line=2.5,las=3,cex=0.8)\n",
    "                        }\n"
   ]
  },
  {
   "cell_type": "code",
   "execution_count": 18,
   "metadata": {
    "collapsed": false
   },
   "outputs": [
    {
     "data": {
      "text/html": [
       "<strong>PNG:</strong> 2"
      ],
      "text/latex": [
       "\\textbf{PNG:} 2"
      ],
      "text/markdown": [
       "**PNG:** 2"
      ],
      "text/plain": [
       "PNG \n",
       "  2 "
      ]
     },
     "metadata": {},
     "output_type": "display_data"
    }
   ],
   "source": [
    "pdf(\"../Figures/Sample_size_distribution_within_regions.pdf\",width=10,height=5)\n",
    "options(repr.plot.width=10, repr.plot.height=5)\n",
    "par(mfrow=c(2,4),mar=c(5,4.9,3,0),las=2)\n",
    "\n",
    "barplot(100*table(data$Sple_cl)/nrow(data),ylim=c(0,35),main=\"Worldwide\",cex.names=0.8)\n",
    "mtext(\"Distribution of RCTs\\nacross sample sizes (%)\",side=2,line=2.5,las=3,cex=0.8)\n",
    "\n",
    "#barplot(table(pats$Sple_cl)/nrow(pats),ylim=c(0,0.5))\n",
    "\n",
    "for(r in 1:length(regs)){barplot(100*table(pats$Sple_cl[pats$Region==regs[r]])/sum(pats$Region==regs[r]),\n",
    "                                                   ylim=c(0,35),main=reg_labs[r],cex.names=0.8)\n",
    "                    if(r==4) mtext(\"Distribution of RCTs\\nacross sample sizes (%)\",side=2,line=2.5,las=3,cex=0.8)\n",
    "                        }\n",
    "dev.off()"
   ]
  },
  {
   "cell_type": "code",
   "execution_count": 19,
   "metadata": {
    "collapsed": false
   },
   "outputs": [
    {
     "data": {
      "text/html": [
       "<table>\n",
       "<thead><tr><th></th><th scope=col>TrialID</th><th scope=col>Nb_ctrs</th><th scope=col>Region</th><th scope=col>Tot_sample</th><th scope=col>tot_ctrs</th><th scope=col>sample_per_reg</th><th scope=col>Sple_cl</th></tr></thead>\n",
       "<tbody>\n",
       "\t<tr><th scope=row>1</th><td>EUCTR2007-006175-36-FI</td><td>3                     </td><td>High-income           </td><td>105                   </td><td>3                     </td><td>105                   </td><td>[100,200)             </td></tr>\n",
       "\t<tr><th scope=row>2</th><td>NCT00590174</td><td>1          </td><td>High-income</td><td>1175       </td><td>1          </td><td>1175       </td><td>[1e3,2e3)  </td></tr>\n",
       "\t<tr><th scope=row>3</th><td>NCT00590356</td><td>1          </td><td>High-income</td><td>532        </td><td>1          </td><td>532        </td><td>[400,1e3)  </td></tr>\n",
       "\t<tr><th scope=row>4</th><td>NCT00591487</td><td>1          </td><td>High-income</td><td>60         </td><td>1          </td><td>60         </td><td>[60,100)   </td></tr>\n",
       "\t<tr><th scope=row>5</th><td>NCT01072526</td><td>1          </td><td>High-income</td><td>20         </td><td>1          </td><td>20         </td><td>[20,40)    </td></tr>\n",
       "\t<tr><th scope=row>6</th><td>NCT00589966</td><td>1          </td><td>High-income</td><td>62         </td><td>1          </td><td>62         </td><td>[60,100)   </td></tr>\n",
       "</tbody>\n",
       "</table>\n"
      ],
      "text/latex": [
       "\\begin{tabular}{r|lllllll}\n",
       "  & TrialID & Nb\\_ctrs & Region & Tot\\_sample & tot\\_ctrs & sample\\_per\\_reg & Sple\\_cl\\\\\n",
       "\\hline\n",
       "\t1 & EUCTR2007-006175-36-FI & 3                      & High-income            & 105                    & 3                      & 105                    & {[}100,200)           \\\\\n",
       "\t2 & NCT00590174 & 1           & High-income & 1175        & 1           & 1175        & {[}1e3,2e3)\\\\\n",
       "\t3 & NCT00590356 & 1           & High-income & 532         & 1           & 532         & {[}400,1e3)\\\\\n",
       "\t4 & NCT00591487 & 1           & High-income & 60          & 1           & 60          & {[}60,100) \\\\\n",
       "\t5 & NCT01072526 & 1           & High-income & 20          & 1           & 20          & {[}20,40)  \\\\\n",
       "\t6 & NCT00589966 & 1           & High-income & 62          & 1           & 62          & {[}60,100) \\\\\n",
       "\\end{tabular}\n"
      ],
      "text/plain": [
       "                 TrialID Nb_ctrs      Region Tot_sample tot_ctrs sample_per_reg\n",
       "1 EUCTR2007-006175-36-FI       3 High-income        105        3            105\n",
       "2            NCT00590174       1 High-income       1175        1           1175\n",
       "3            NCT00590356       1 High-income        532        1            532\n",
       "4            NCT00591487       1 High-income         60        1             60\n",
       "5            NCT01072526       1 High-income         20        1             20\n",
       "6            NCT00589966       1 High-income         62        1             62\n",
       "    Sple_cl\n",
       "1 [100,200)\n",
       "2 [1e3,2e3)\n",
       "3 [400,1e3)\n",
       "4  [60,100)\n",
       "5   [20,40)\n",
       "6  [60,100)"
      ]
     },
     "metadata": {},
     "output_type": "display_data"
    }
   ],
   "source": [
    "head(pats)"
   ]
  },
  {
   "cell_type": "code",
   "execution_count": 26,
   "metadata": {
    "collapsed": false
   },
   "outputs": [
    {
     "data": {
      "image/png": "[encoded data removed]",
      "text/plain": [
       "Plot with title “Histogram of log10(pats$sample_per_reg)”"
      ]
     },
     "metadata": {},
     "output_type": "display_data"
    }
   ],
   "source": [
    "hist(log10(pats$sample_per_reg),breaks=log10(c(0.1,10,50,100,200,500,1000,5000,10000,20000,100000,200000)))\n"
   ]
  },
  {
   "cell_type": "code",
   "execution_count": null,
   "metadata": {
    "collapsed": true
   },
   "outputs": [],
   "source": []
  },
  {
   "cell_type": "code",
   "execution_count": null,
   "metadata": {
    "collapsed": true
   },
   "outputs": [],
   "source": []
  },
  {
   "cell_type": "code",
   "execution_count": null,
   "metadata": {
    "collapsed": true
   },
   "outputs": [],
   "source": []
  },
  {
   "cell_type": "code",
   "execution_count": null,
   "metadata": {
    "collapsed": true
   },
   "outputs": [],
   "source": []
  }
 ],
 "metadata": {
  "kernelspec": {
   "display_name": "R",
   "language": "R",
   "name": "ir"
  },
  "language_info": {
   "codemirror_mode": "r",
   "file_extension": ".r",
   "mimetype": "text/x-r-source",
   "name": "R",
   "pygments_lexer": "r",
   "version": "3.3.1"
  }
 },
 "nbformat": 4,
 "nbformat_minor": 1
}
