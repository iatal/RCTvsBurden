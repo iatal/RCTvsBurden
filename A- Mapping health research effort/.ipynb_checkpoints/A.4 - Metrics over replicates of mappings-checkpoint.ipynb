{
 "cells": [
  {
   "cell_type": "code",
   "execution_count": null,
   "metadata": {
    "collapsed": true
   },
   "outputs": [],
   "source": [
    "regs <- strsplit(as.character(data$Regions),\"&\")\n",
    "DRY <- do.call('cbind',tapply(regs,data$year,function(x){table(unlist(x))}))\n",
    "\n",
    "DRY <- DRY[order(apply(DRY,1,sum)),]\n",
    "\n",
    "barplot(DRY[rownames(DRY)!=\"High-income\",])\n",
    "\n"
   ]
  },
  {
   "cell_type": "code",
   "execution_count": null,
   "metadata": {
    "collapsed": true
   },
   "outputs": [],
   "source": [
    "#Distribution sample sizes\n",
    "summary(data$Sample)\n",
    "\n",
    "spl_qt <- c(10,20,40,60,100,200,400,1000,2000,10000,20000,100000,200000)\n",
    "\n",
    "data$Sple_cl <- cut(data$Sample,spl_qt,right=F)\n",
    "data$Sple_cl <- as.character(data$Sple_cl)\n",
    "#Base$IF_classe<-factor(Base$IF_classe,levels=c(\"[10,56)\",\"[5,10)\",\"[0,5)\",\"No IF\"),labels=c(\"IF greater or equal than 10\",\"IF between 5 and 10\",\"IF less than 5\",\"No IF\"))\n",
    "data$Sple_cl <- as.factor(data$Sple_cl)\n",
    "\n",
    "library(gdata)\n",
    "\n",
    "data$Sple_cl <- reorder(data$Sple_cl,new.order=c('[10,20)',\n",
    "                                                 '[20,40)',\n",
    "                                                 '[40,60)',\n",
    "                                                 '[60,100)',\n",
    "                                                 '[100,200)',\n",
    "                                                 '[200,400)',\n",
    "                                                 '[400,1e+03)',\n",
    "                                                 '[1e+03,2e+03)',\n",
    "                                                 '[2e+03,1e+04)',\n",
    "                                                 '[1e+04,2e+04)',\n",
    "                                                 '[2e+04,1e+05)',\n",
    "                                                 '[1e+05,2e+05)'\n",
    "                                                 ))\n",
    "\n",
    "barplot(table(data$Sple_cl))\n",
    "\n"
   ]
  }
 ],
 "metadata": {
  "kernelspec": {
   "display_name": "R",
   "language": "R",
   "name": "ir"
  },
  "language_info": {
   "codemirror_mode": "r",
   "file_extension": ".r",
   "mimetype": "text/x-r-source",
   "name": "R",
   "pygments_lexer": "r",
   "version": "3.3.1"
  }
 },
 "nbformat": 4,
 "nbformat_minor": 1
}
