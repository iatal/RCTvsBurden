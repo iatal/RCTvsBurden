{
 "cells": [
  {
   "cell_type": "code",
   "execution_count": 1,
   "metadata": {
    "collapsed": false
   },
   "outputs": [
    {
     "name": "stderr",
     "output_type": "stream",
     "text": [
      "Loading required package: iterators\n",
      "Loading required package: parallel\n"
     ]
    }
   ],
   "source": [
    "library(data.table)\n",
    "library(foreach)\n",
    "library(doParallel)\n",
    "options(warn = 2)\n",
    "\n",
    "#Upload database\n",
    "data <- read.table(\"/media/igna/Elements/HotelDieu/Cochrane/MappingRCTs_vs_Burden/database_RCTs_regions_27diseases.txt\")\n",
    "\n",
    "#Upload traduction names/label categories\n",
    "Mgbd <- read.table(\"../Data/27_gbd_groups.txt\")\n"
   ]
  },
  {
   "cell_type": "code",
   "execution_count": null,
   "metadata": {
    "collapsed": true
   },
   "outputs": [],
   "source": [
    "#Supressing sample size of trials with sample size below 10 and above 200k\n",
    "\n"
   ]
  },
  {
   "cell_type": "code",
   "execution_count": 2,
   "metadata": {
    "collapsed": true
   },
   "outputs": [],
   "source": [
    "#Regions per trial\n",
    "regs <- sort(unique(unlist(strsplit(as.character(data$Regions),\"&\"))))\n",
    "LR <- lapply(regs,function(x){1:nrow(data)%in%grep(x,data$Regions)})\n",
    "LR <- do.call('cbind',LR)\n",
    "LR <- data.table(LR)\n",
    "LR$TrialID <- data$TrialID\n",
    "\n",
    "#Nb of patients per region per trial\n",
    "nb_ctrs <- lapply(strsplit(as.character(data$Nb_ctr_per_reg),'&'),as.numeric)\n",
    "RGs <-strsplit(as.character(data$Regions),'&')\n",
    "pats <- data.frame(TrialID = rep(data$TrialID,sapply(nb_ctrs,length)),\n",
    "                   Nb_ctrs = unlist(nb_ctrs),\n",
    "                   Region = unlist(RGs),\n",
    "                   Tot_sample = rep(data$Sample,sapply(nb_ctrs,length)))\n",
    "\n",
    "pats$tot_ctrs <- rep(sapply(nb_ctrs,sum),sapply(nb_ctrs,length))\n",
    "pats$sample_per_reg <- pats$Tot_sample*pats$Nb_ctrs/pats$tot_ctrs\n",
    "pats <- data.table(pats)\n",
    "setkey(pats,TrialID)"
   ]
  },
  {
   "cell_type": "markdown",
   "metadata": {},
   "source": [
    "### Metrics for all diseases"
   ]
  },
  {
   "cell_type": "code",
   "execution_count": 3,
   "metadata": {
    "collapsed": false
   },
   "outputs": [
    {
     "name": "stdout",
     "output_type": "stream",
     "text": [
      "[1] \"for all diseases, finished after (min):\"\n",
      "        user       system      elapsed \n",
      " 0.164600000  0.009466667 17.242466667 \n"
     ]
    }
   ],
   "source": [
    "d <- 0\n",
    "\n",
    "tp0 <- proc.time()\n",
    "\n",
    "SMs <- list.files(paste(\"/media/igna/Elements/HotelDieu/Cochrane/MappingRCTs_vs_Burden/Replicates/\",as.character(d),sep=\"\"))\n",
    "SMs <- SMs[grep(\"Reclassif\",SMs)]\n",
    "\n",
    "cl<-makeCluster(4)\n",
    "registerDoParallel(cl)\n",
    "\n",
    "A <- foreach(k = SMs, .packages=\"data.table\") %dopar% {\n",
    "\n",
    "\trepl <- fread(paste(c(\"/media/igna/Elements/HotelDieu/Cochrane/MappingRCTs_vs_Burden/Replicates/\",as.character(d),\"/\",k),collapse=\"\"))\n",
    "\trepl$TrialID <- LR$TrialID\n",
    "\tsetkey(repl,TrialID)\n",
    "\treplpats <- merge(pats,repl)\n",
    "\tsetkey(replpats,Region)\n",
    "\t\n",
    "\t#Output data\n",
    "\tdf <- data.table(Region=c(sort(regs),\"All\",\"Non-HI\"),Dis=\"all\",RCTs=as.integer(0),Patients=as.numeric(0))\n",
    "\n",
    "\t#Par région\n",
    "\t#Nb trials par region relevant to GBD\n",
    "\tdf[Dis==\"all\" & Region%in%regs,RCTs:=table(replpats[recl_dis==1,Region])]\n",
    "\t#Nb patients par région relevant to GBD\n",
    "\tdf[Dis==\"all\" & Region%in%regs,Patients:=replpats[recl_dis==1,][regs,sum(sample_per_reg,na.rm=TRUE),by=.EACHI]$V1]\n",
    "\n",
    "\t#WorldWide\n",
    "\t#Nb trials worldwide concernant relevant to GBD\n",
    "\tdf[Dis==\"all\" & Region==\"All\",RCTs:=sum(repl$recl_dis)]\n",
    "\t#Nb patients worldwide relevant to GBD\n",
    "\tdf[Dis==\"all\" & Region==\"All\",Patients:=sum(replpats[recl_dis==1,sample_per_reg],na.rm=TRUE)]\n",
    "\n",
    "\t#Non-HI countries\n",
    "\t#Nb trials in non-HI countries relevant to GBD\n",
    "\tdf[Dis==\"all\" & Region==\"Non-HI\",RCTs:=replpats[Region!=\"High-income\",][recl_dis==1,][!duplicated(TrialID),.N]]\n",
    "\t#Nb patients worldwide concernant la maladie and relevant to GBD\n",
    "\tdf[Dis==\"all\" & Region==\"Non-HI\",Patients:=sum(replpats[Region!=\"High-income\",][recl_dis==1,sample_per_reg],na.rm=TRUE)]\n",
    "\n",
    "}\n",
    "\n",
    "stopCluster(cl)\n",
    "write.table(rbindlist(A),paste(c(\"/media/igna/Elements/HotelDieu/Cochrane/MappingRCTs_vs_Burden/Replicates/Metrics_over_repl/Metrics_over_replicates_\",as.character(d),\".txt\"),collapse=\"\"),row.names=FALSE)\n",
    "\n",
    "rm(A)\n",
    "\n",
    "tp1 <- proc.time()\n",
    "print(\"for all diseases, finished after (min):\")\n",
    "print((tp1-tp0)/60)\n"
   ]
  }
 ],
 "metadata": {
  "kernelspec": {
   "display_name": "R",
   "language": "R",
   "name": "ir"
  },
  "language_info": {
   "codemirror_mode": "r",
   "file_extension": ".r",
   "mimetype": "text/x-r-source",
   "name": "R",
   "pygments_lexer": "r",
   "version": "3.3.1"
  }
 },
 "nbformat": 4,
 "nbformat_minor": 1
}
