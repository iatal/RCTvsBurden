{
 "cells": [
  {
   "cell_type": "markdown",
   "metadata": {},
   "source": [
    "# Big table\n",
    "\n",
    "Median and UI intervals for:\n",
    "\n",
    "* Within diseases, proportions across regions"
   ]
  },
  {
   "cell_type": "code",
   "execution_count": 1,
   "metadata": {
    "collapsed": true
   },
   "outputs": [],
   "source": [
    "library(data.table)"
   ]
  },
  {
   "cell_type": "code",
   "execution_count": 2,
   "metadata": {
    "collapsed": false,
    "scrolled": false
   },
   "outputs": [],
   "source": [
    "sms <- list.files(\"/media/igna/Elements/HotelDieu/Cochrane/MappingRCTs_vs_Burden/Replicates/Metrics_over_repl/\")"
   ]
  },
  {
   "cell_type": "code",
   "execution_count": 3,
   "metadata": {
    "collapsed": false
   },
   "outputs": [
    {
     "data": {
      "text/html": [
       "<ol class=list-inline>\n",
       "\t<li>0</li>\n",
       "\t<li>1</li>\n",
       "\t<li>10</li>\n",
       "\t<li>12</li>\n",
       "\t<li>13</li>\n",
       "\t<li>14</li>\n",
       "\t<li>15</li>\n",
       "\t<li>16</li>\n",
       "\t<li>17</li>\n",
       "\t<li>18</li>\n",
       "\t<li>19</li>\n",
       "\t<li>2</li>\n",
       "\t<li>20</li>\n",
       "\t<li>22</li>\n",
       "\t<li>24</li>\n",
       "\t<li>25</li>\n",
       "\t<li>26</li>\n",
       "\t<li>3</li>\n",
       "\t<li>4</li>\n",
       "\t<li>5</li>\n",
       "\t<li>6</li>\n",
       "\t<li>7</li>\n",
       "\t<li>8</li>\n",
       "</ol>\n"
      ],
      "text/latex": [
       "\\begin{enumerate*}\n",
       "\\item 0\n",
       "\\item 1\n",
       "\\item 10\n",
       "\\item 12\n",
       "\\item 13\n",
       "\\item 14\n",
       "\\item 15\n",
       "\\item 16\n",
       "\\item 17\n",
       "\\item 18\n",
       "\\item 19\n",
       "\\item 2\n",
       "\\item 20\n",
       "\\item 22\n",
       "\\item 24\n",
       "\\item 25\n",
       "\\item 26\n",
       "\\item 3\n",
       "\\item 4\n",
       "\\item 5\n",
       "\\item 6\n",
       "\\item 7\n",
       "\\item 8\n",
       "\\end{enumerate*}\n"
      ],
      "text/markdown": [
       "1. 0\n",
       "2. 1\n",
       "3. 10\n",
       "4. 12\n",
       "5. 13\n",
       "6. 14\n",
       "7. 15\n",
       "8. 16\n",
       "9. 17\n",
       "10. 18\n",
       "11. 19\n",
       "12. 2\n",
       "13. 20\n",
       "14. 22\n",
       "15. 24\n",
       "16. 25\n",
       "17. 26\n",
       "18. 3\n",
       "19. 4\n",
       "20. 5\n",
       "21. 6\n",
       "22. 7\n",
       "23. 8\n",
       "\n",
       "\n"
      ],
      "text/plain": [
       " [1]  0  1 10 12 13 14 15 16 17 18 19  2 20 22 24 25 26  3  4  5  6  7  8"
      ]
     },
     "metadata": {},
     "output_type": "display_data"
    }
   ],
   "source": [
    "dis <- as.numeric(substr(sms,25,nchar(sms)-4))\n",
    "dis"
   ]
  },
  {
   "cell_type": "code",
   "execution_count": 4,
   "metadata": {
    "collapsed": true
   },
   "outputs": [],
   "source": [
    "Mgbd <- read.table(\"../Data/27_gbd_groups.txt\")"
   ]
  },
  {
   "cell_type": "code",
   "execution_count": 5,
   "metadata": {
    "collapsed": false,
    "scrolled": true
   },
   "outputs": [],
   "source": [
    "k <- 1\n",
    "DF <- fread(paste(c(\"/media/igna/Elements/HotelDieu/Cochrane/MappingRCTs_vs_Burden/Replicates/Metrics_over_repl/Metrics_over_replicates_\",\n",
    "                    as.character(k),\".txt\"),collapse=\"\"))\n",
    "regs <- sort(unique(DF$Region))\n",
    "regs <- regs[regs!=\"All\"]"
   ]
  },
  {
   "cell_type": "code",
   "execution_count": 6,
   "metadata": {
    "collapsed": false
   },
   "outputs": [],
   "source": [
    "data_f <- data.frame()\n",
    "\n",
    "for(k in dis[dis!=0]){\n",
    "\n",
    "    DF <- fread(paste(c(\"/media/igna/Elements/HotelDieu/Cochrane/MappingRCTs_vs_Burden/Replicates/Metrics_over_repl/Metrics_over_replicates_\",\n",
    "                    as.character(k),\".txt\"),collapse=\"\"))\n",
    "\n",
    "    DFr <- DF[DF$Region%in%regs & DF$Dis == \"dis\",]\n",
    "    DFr$RCTs_all <- rep(DF$RCTs[DF$Dis==\"dis\" & DF$Region==\"All\"],each=length(regs))\n",
    "    DFr$RCTs_NHI <- rep(DF$RCTs[DF$Dis==\"dis\" & DF$Region==\"Non-HI\"],each=length(regs))\n",
    "    DFr$Patients_all <- rep(DF$Patients[DF$Dis==\"dis\" & DF$Region==\"All\"],each=length(regs))\n",
    "    DFr$Patients_NHI <- rep(DF$Patients[DF$Dis==\"dis\" & DF$Region==\"Non-HI\"],each=length(regs))\n",
    "\n",
    "    df <- data.frame(cbind(regs,as.character(Mgbd$x[k]),\n",
    "        do.call('rbind',by(DFr[DFr$RCTs_all!=0,],\n",
    "                           DFr$Region[DFr$RCTs_all!=0],\n",
    "                           function(x){100*quantile(x$RCTs/x$RCTs_all,probs=c(0.025,0.5,0.975))})),\n",
    "        do.call('rbind',by(DFr[DFr$RCTs_all!=0,],\n",
    "                           DFr$Region[DFr$RCTs_all!=0],\n",
    "                           function(x){100*quantile(x$Patients/x$Patients_all,probs=c(0.025,0.5,0.975))})),\n",
    "        do.call('rbind',by(DFr[DFr$RCTs_NHI!=0,],\n",
    "                           DFr$Region[DFr$RCTs_NHI!=0],\n",
    "                           function(x){100*quantile(x$RCTs/x$RCTs_NHI,probs=c(0.025,0.5,0.975))})),\n",
    "        do.call('rbind',by(DFr[DFr$RCTs_NHI!=0,],\n",
    "                           DFr$Region[DFr$RCTs_NHI!=0],\n",
    "                           function(x){100*quantile(x$Patients/x$Patients_NHI,probs=c(0.025,0.5,0.975))})))\n",
    "        )\n",
    "\n",
    "    names(df) <- c(\"Region\",\"Disease\",\n",
    "               paste(paste(\"Prop_all\",\"RCTs\",sep=\"_\"),c(\"low\",\"med\",\"up\"),sep=\"_\"),\n",
    "               paste(paste(\"Prop_all\",\"Patients\",sep=\"_\"),c(\"low\",\"med\",\"up\"),sep=\"_\"),\n",
    "               paste(paste(\"Prop_NHI\",\"RCTs\",sep=\"_\"),c(\"low\",\"med\",\"up\"),sep=\"_\"),\n",
    "               paste(paste(\"Prop_NHI\",\"Patients\",sep=\"_\"),c(\"low\",\"med\",\"up\"),sep=\"_\"))\n",
    "\n",
    "    data_f <- rbind(data_f,df)\n",
    "}"
   ]
  },
  {
   "cell_type": "code",
   "execution_count": 7,
   "metadata": {
    "collapsed": false
   },
   "outputs": [],
   "source": [
    "rownames(data_f) <- NULL"
   ]
  },
  {
   "cell_type": "code",
   "execution_count": 8,
   "metadata": {
    "collapsed": false
   },
   "outputs": [],
   "source": [
    "data_f[data_f$Region%in%c(\"High-income\",\"Non-HI\"),grep(\"NHI\",names(data_f))] <- NA"
   ]
  },
  {
   "cell_type": "code",
   "execution_count": 9,
   "metadata": {
    "collapsed": false
   },
   "outputs": [
    {
     "data": {
      "text/html": [
       "<table>\n",
       "<thead><tr><th></th><th scope=col>Region</th><th scope=col>Disease</th><th scope=col>Prop_all_RCTs_low</th><th scope=col>Prop_all_RCTs_med</th><th scope=col>Prop_all_RCTs_up</th><th scope=col>Prop_all_Patients_low</th><th scope=col>Prop_all_Patients_med</th><th scope=col>Prop_all_Patients_up</th><th scope=col>Prop_NHI_RCTs_low</th><th scope=col>Prop_NHI_RCTs_med</th><th scope=col>Prop_NHI_RCTs_up</th><th scope=col>Prop_NHI_Patients_low</th><th scope=col>Prop_NHI_Patients_med</th><th scope=col>Prop_NHI_Patients_up</th></tr></thead>\n",
       "<tbody>\n",
       "\t<tr><th scope=row>1</th><td>Central Europe, Eastern Europe, and Central Asia</td><td>Tuberculosis                                    </td><td>3.69003740785565                                </td><td>5.80474934036939                                </td><td>8.13568226393947                                </td><td>0.0586688565808127                              </td><td>0.146246923590507                               </td><td>0.953885801111556                               </td><td>5.08474576271187                                </td><td>8.01526717557252                                </td><td>11.486262637802                                 </td><td>0.0590392693376528                              </td><td>0.147773696961608                               </td><td>1.04143096553855                                </td></tr>\n",
       "\t<tr><th scope=row>2</th><td>High-income      </td><td>Tuberculosis     </td><td>25.2298560242485 </td><td>32.6086956521739 </td><td>43.75            </td><td>0.336494708967389</td><td>0.872099767046211</td><td>7.25688271653597 </td><td>NA               </td><td>NA               </td><td>NA               </td><td>NA               </td><td>NA               </td><td>NA               </td></tr>\n",
       "\t<tr><th scope=row>3</th><td>Latin America and Caribbean</td><td>Tuberculosis               </td><td>6.90279038112523           </td><td>9.6969696969697            </td><td>12.5560538116592           </td><td>0.150579073933349          </td><td>1.28018189138977           </td><td>7.01217162568154           </td><td>9.86401964418087           </td><td>13.3333333333333           </td><td>17.0268295534253           </td><td>0.152401364302237          </td><td>1.29330112511701           </td><td>7.5290188304808            </td></tr>\n",
       "\t<tr><th scope=row>4</th><td>Non-HI          </td><td>Tuberculosis    </td><td>62.0564190128775</td><td>72.9805013927577</td><td>80.0802811870901</td><td>92.7431172834641</td><td>99.1279002329537</td><td>99.6635052910327</td><td>NA              </td><td>NA              </td><td>NA              </td><td>NA              </td><td>NA              </td><td>NA              </td></tr>\n",
       "\t<tr><th scope=row>5</th><td>North Africa and Middle East</td><td>Tuberculosis                </td><td>3.59039767997637            </td><td>5.86510263929619            </td><td>8.48484848484849            </td><td>0.0305870150014081          </td><td>0.110434902108221           </td><td>0.672088522128384           </td><td>4.84384164222874            </td><td>8.05369127516778            </td><td>12.5                        </td><td>0.0307555608696088          </td><td>0.111561248665482           </td><td>0.721441277485596           </td></tr>\n",
       "\t<tr><th scope=row>6</th><td>South Asia       </td><td>Tuberculosis     </td><td>9.76133765243902 </td><td>13.2315521628499 </td><td>16.4971649484536 </td><td>0.25035996641323 </td><td>0.549502341176646</td><td>4.31949192113607 </td><td>14.1666666666667 </td><td>18.232044198895  </td><td>22.2222222222222 </td><td>0.252492059123606</td><td>0.555320687720408</td><td>4.66627459802023 </td></tr>\n",
       "</tbody>\n",
       "</table>\n"
      ],
      "text/latex": [
       "\\begin{tabular}{r|llllllllllllll}\n",
       "  & Region & Disease & Prop\\_all\\_RCTs\\_low & Prop\\_all\\_RCTs\\_med & Prop\\_all\\_RCTs\\_up & Prop\\_all\\_Patients\\_low & Prop\\_all\\_Patients\\_med & Prop\\_all\\_Patients\\_up & Prop\\_NHI\\_RCTs\\_low & Prop\\_NHI\\_RCTs\\_med & Prop\\_NHI\\_RCTs\\_up & Prop\\_NHI\\_Patients\\_low & Prop\\_NHI\\_Patients\\_med & Prop\\_NHI\\_Patients\\_up\\\\\n",
       "\\hline\n",
       "\t1 & Central Europe, Eastern Europe, and Central Asia & Tuberculosis                                     & 3.69003740785565                                 & 5.80474934036939                                 & 8.13568226393947                                 & 0.0586688565808127                               & 0.146246923590507                                & 0.953885801111556                                & 5.08474576271187                                 & 8.01526717557252                                 & 11.486262637802                                  & 0.0590392693376528                               & 0.147773696961608                                & 1.04143096553855                                \\\\\n",
       "\t2 & High-income       & Tuberculosis      & 25.2298560242485  & 32.6086956521739  & 43.75             & 0.336494708967389 & 0.872099767046211 & 7.25688271653597  & NA                & NA                & NA                & NA                & NA                & NA               \\\\\n",
       "\t3 & Latin America and Caribbean & Tuberculosis                & 6.90279038112523            & 9.6969696969697             & 12.5560538116592            & 0.150579073933349           & 1.28018189138977            & 7.01217162568154            & 9.86401964418087            & 13.3333333333333            & 17.0268295534253            & 0.152401364302237           & 1.29330112511701            & 7.5290188304808            \\\\\n",
       "\t4 & Non-HI           & Tuberculosis     & 62.0564190128775 & 72.9805013927577 & 80.0802811870901 & 92.7431172834641 & 99.1279002329537 & 99.6635052910327 & NA               & NA               & NA               & NA               & NA               & NA              \\\\\n",
       "\t5 & North Africa and Middle East & Tuberculosis                 & 3.59039767997637             & 5.86510263929619             & 8.48484848484849             & 0.0305870150014081           & 0.110434902108221            & 0.672088522128384            & 4.84384164222874             & 8.05369127516778             & 12.5                         & 0.0307555608696088           & 0.111561248665482            & 0.721441277485596           \\\\\n",
       "\t6 & South Asia        & Tuberculosis      & 9.76133765243902  & 13.2315521628499  & 16.4971649484536  & 0.25035996641323  & 0.549502341176646 & 4.31949192113607  & 14.1666666666667  & 18.232044198895   & 22.2222222222222  & 0.252492059123606 & 0.555320687720408 & 4.66627459802023 \\\\\n",
       "\\end{tabular}\n"
      ],
      "text/plain": [
       "                                            Region      Disease\n",
       "1 Central Europe, Eastern Europe, and Central Asia Tuberculosis\n",
       "2                                      High-income Tuberculosis\n",
       "3                      Latin America and Caribbean Tuberculosis\n",
       "4                                           Non-HI Tuberculosis\n",
       "5                     North Africa and Middle East Tuberculosis\n",
       "6                                       South Asia Tuberculosis\n",
       "  Prop_all_RCTs_low Prop_all_RCTs_med Prop_all_RCTs_up Prop_all_Patients_low\n",
       "1  3.69003740785565  5.80474934036939 8.13568226393947    0.0586688565808127\n",
       "2  25.2298560242485  32.6086956521739            43.75     0.336494708967389\n",
       "3  6.90279038112523   9.6969696969697 12.5560538116592     0.150579073933349\n",
       "4  62.0564190128775  72.9805013927577 80.0802811870901      92.7431172834641\n",
       "5  3.59039767997637  5.86510263929619 8.48484848484849    0.0305870150014081\n",
       "6  9.76133765243902  13.2315521628499 16.4971649484536      0.25035996641323\n",
       "  Prop_all_Patients_med Prop_all_Patients_up Prop_NHI_RCTs_low\n",
       "1     0.146246923590507    0.953885801111556  5.08474576271187\n",
       "2     0.872099767046211     7.25688271653597              <NA>\n",
       "3      1.28018189138977     7.01217162568154  9.86401964418087\n",
       "4      99.1279002329537     99.6635052910327              <NA>\n",
       "5     0.110434902108221    0.672088522128384  4.84384164222874\n",
       "6     0.549502341176646     4.31949192113607  14.1666666666667\n",
       "  Prop_NHI_RCTs_med Prop_NHI_RCTs_up Prop_NHI_Patients_low\n",
       "1  8.01526717557252  11.486262637802    0.0590392693376528\n",
       "2              <NA>             <NA>                  <NA>\n",
       "3  13.3333333333333 17.0268295534253     0.152401364302237\n",
       "4              <NA>             <NA>                  <NA>\n",
       "5  8.05369127516778             12.5    0.0307555608696088\n",
       "6   18.232044198895 22.2222222222222     0.252492059123606\n",
       "  Prop_NHI_Patients_med Prop_NHI_Patients_up\n",
       "1     0.147773696961608     1.04143096553855\n",
       "2                  <NA>                 <NA>\n",
       "3      1.29330112511701      7.5290188304808\n",
       "4                  <NA>                 <NA>\n",
       "5     0.111561248665482    0.721441277485596\n",
       "6     0.555320687720408     4.66627459802023"
      ]
     },
     "metadata": {},
     "output_type": "display_data"
    }
   ],
   "source": [
    "head(data_f)"
   ]
  },
  {
   "cell_type": "code",
   "execution_count": 10,
   "metadata": {
    "collapsed": false
   },
   "outputs": [],
   "source": [
    "write.table(data_f,\"../Data/RCTs_and_Patients_prop_among_all_and_HI_median_UI_across_regions_per_disease.txt\")"
   ]
  },
  {
   "cell_type": "code",
   "execution_count": null,
   "metadata": {
    "collapsed": true
   },
   "outputs": [],
   "source": []
  }
 ],
 "metadata": {
  "kernelspec": {
   "display_name": "R",
   "language": "R",
   "name": "ir"
  },
  "language_info": {
   "codemirror_mode": "r",
   "file_extension": ".r",
   "mimetype": "text/x-r-source",
   "name": "R",
   "pygments_lexer": "r",
   "version": "3.3.1"
  }
 },
 "nbformat": 4,
 "nbformat_minor": 1
}
